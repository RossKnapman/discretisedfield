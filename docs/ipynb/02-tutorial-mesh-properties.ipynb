{
 "cells": [
  {
   "cell_type": "markdown",
   "metadata": {},
   "source": [
    "# Tutorial 2: Mesh properties, methods, and generators\n",
    "\n",
    "## Attributes/Properties\n",
    "\n",
    "After a mesh is defined, several properties can be accessed. For instance, the mesh in this tutorial is"
   ]
  },
  {
   "cell_type": "code",
   "execution_count": 1,
   "metadata": {},
   "outputs": [],
   "source": [
    "import discretisedfield as df\n",
    "\n",
    "p1 = (0, 5, 0)\n",
    "p2 = (5, 0, 5)\n",
    "cell = (1, 1, 1)\n",
    "name = 'my_mesh'\n",
    "mesh = df.Mesh(p1=p1, p2=p2, cell=cell, name=name)"
   ]
  },
  {
   "cell_type": "markdown",
   "metadata": {},
   "source": [
    "### 1. Attributes passed at mesh definition\n",
    "\n",
    "Points between which the mesh spans."
   ]
  },
  {
   "cell_type": "code",
   "execution_count": 2,
   "metadata": {},
   "outputs": [
    {
     "data": {
      "text/plain": [
       "((0, 5, 0), (5, 0, 5))"
      ]
     },
     "execution_count": 2,
     "metadata": {},
     "output_type": "execute_result"
    }
   ],
   "source": [
    "mesh.p1, mesh.p2"
   ]
  },
  {
   "cell_type": "markdown",
   "metadata": {},
   "source": [
    "Discretisation cell"
   ]
  },
  {
   "cell_type": "code",
   "execution_count": 3,
   "metadata": {},
   "outputs": [
    {
     "data": {
      "text/plain": [
       "(1, 1, 1)"
      ]
     },
     "execution_count": 3,
     "metadata": {},
     "output_type": "execute_result"
    }
   ],
   "source": [
    "mesh.cell"
   ]
  },
  {
   "cell_type": "markdown",
   "metadata": {},
   "source": [
    "Mesh name"
   ]
  },
  {
   "cell_type": "code",
   "execution_count": 4,
   "metadata": {},
   "outputs": [
    {
     "data": {
      "text/plain": [
       "'my_mesh'"
      ]
     },
     "execution_count": 4,
     "metadata": {},
     "output_type": "execute_result"
    }
   ],
   "source": [
    "mesh.name"
   ]
  },
  {
   "cell_type": "markdown",
   "metadata": {},
   "source": [
    "### 2. Maximum and minimum mesh domain points\n",
    "\n",
    "These points are generally not the same as `p1` and `p2` used to define a mesh."
   ]
  },
  {
   "cell_type": "code",
   "execution_count": 5,
   "metadata": {},
   "outputs": [
    {
     "data": {
      "text/plain": [
       "(0, 0, 0)"
      ]
     },
     "execution_count": 5,
     "metadata": {},
     "output_type": "execute_result"
    }
   ],
   "source": [
    "mesh.pmin"
   ]
  },
  {
   "cell_type": "code",
   "execution_count": 6,
   "metadata": {},
   "outputs": [
    {
     "data": {
      "text/plain": [
       "(5, 5, 5)"
      ]
     },
     "execution_count": 6,
     "metadata": {},
     "output_type": "execute_result"
    }
   ],
   "source": [
    "mesh.pmax"
   ]
  },
  {
   "cell_type": "markdown",
   "metadata": {},
   "source": [
    "### 3. Number of discretisation cells in all three dimensions obtained from the `cell` parameter\n",
    "\n",
    "This would be the parameter passed at the point of definition. Otherwise, if the mesh was defined using `cell` parameter, it is computed internally."
   ]
  },
  {
   "cell_type": "code",
   "execution_count": 7,
   "metadata": {},
   "outputs": [
    {
     "data": {
      "text/plain": [
       "(5, 5, 5)"
      ]
     },
     "execution_count": 7,
     "metadata": {},
     "output_type": "execute_result"
    }
   ],
   "source": [
    "mesh.n"
   ]
  },
  {
   "cell_type": "markdown",
   "metadata": {},
   "source": [
    "Similarly, if `n` was passed at the definition, `cell` would be computed internally.\n",
    "\n",
    "### 4. Total number of discretisation cells in the mesh\n",
    "\n",
    "This value can be useful to provide an understanding how computationally expensive it is to use the mesh."
   ]
  },
  {
   "cell_type": "code",
   "execution_count": 8,
   "metadata": {},
   "outputs": [
    {
     "data": {
      "text/plain": [
       "125"
      ]
     },
     "execution_count": 8,
     "metadata": {},
     "output_type": "execute_result"
    }
   ],
   "source": [
    "mesh.ntotal"
   ]
  },
  {
   "cell_type": "markdown",
   "metadata": {},
   "source": [
    "### 5. Mesh domain edge lengths\n",
    "\n",
    "Dimensions of the mesh. All dimensions must be positive."
   ]
  },
  {
   "cell_type": "code",
   "execution_count": 9,
   "metadata": {},
   "outputs": [
    {
     "data": {
      "text/plain": [
       "(5, 5, 5)"
      ]
     },
     "execution_count": 9,
     "metadata": {},
     "output_type": "execute_result"
    }
   ],
   "source": [
    "mesh.l"
   ]
  },
  {
   "cell_type": "markdown",
   "metadata": {},
   "source": [
    "### 6. Centre point of the mesh\n",
    "\n",
    "To get the centre of the mesh `discretisedfield.Mesh.centre` can be used."
   ]
  },
  {
   "cell_type": "code",
   "execution_count": 10,
   "metadata": {},
   "outputs": [
    {
     "data": {
      "text/plain": [
       "(2.5, 2.5, 2.5)"
      ]
     },
     "execution_count": 10,
     "metadata": {},
     "output_type": "execute_result"
    }
   ],
   "source": [
    "mesh.centre"
   ]
  },
  {
   "cell_type": "markdown",
   "metadata": {},
   "source": [
    "### 7. Representation string\n",
    "\n",
    "This string can be copied and pasted to create the exact copy of the mesh"
   ]
  },
  {
   "cell_type": "code",
   "execution_count": 11,
   "metadata": {},
   "outputs": [
    {
     "data": {
      "text/plain": [
       "\"Mesh(p1=(0, 5, 0), p2=(5, 0, 5), cell=(1, 1, 1), pbc=set(), name='my_mesh')\""
      ]
     },
     "execution_count": 11,
     "metadata": {},
     "output_type": "execute_result"
    }
   ],
   "source": [
    "repr_str = repr(mesh)\n",
    "repr_str"
   ]
  },
  {
   "cell_type": "markdown",
   "metadata": {},
   "source": [
    "## Methods\n",
    "\n",
    "A single discretisation cell inside the mesh can be described either by using its index or its coordinate. Therefore, there are two convenience methods that can be used to convert the cell's index into its coordinate and vice versa."
   ]
  },
  {
   "cell_type": "code",
   "execution_count": 12,
   "metadata": {},
   "outputs": [
    {
     "data": {
      "text/plain": [
       "(0, 1, 0)"
      ]
     },
     "execution_count": 12,
     "metadata": {},
     "output_type": "execute_result"
    }
   ],
   "source": [
    "point = (0.7, 1.2, 0.3)\n",
    "index = mesh.point2index(point)\n",
    "index"
   ]
  },
  {
   "cell_type": "markdown",
   "metadata": {},
   "source": [
    "Now if we convert that index to the coordinate of that cell we get"
   ]
  },
  {
   "cell_type": "code",
   "execution_count": 13,
   "metadata": {},
   "outputs": [
    {
     "data": {
      "text/plain": [
       "(0.5, 1.5, 0.5)"
      ]
     },
     "execution_count": 13,
     "metadata": {},
     "output_type": "execute_result"
    }
   ],
   "source": [
    "mesh.index2point(index)"
   ]
  },
  {
   "cell_type": "markdown",
   "metadata": {},
   "source": [
    "This value differs from the value we started with: `point = (0.7, 1.2, 0.3)`. This is because `discretisedfield.Mesh.index2point` method returns the centre point of the cell with index `(0, 1, 0)`.\n",
    "\n",
    "Sometimes is it necessary (especially for testing) to get any point that is inside the mesh. The convenience method for that is `discretisedfield.Mesh.random_point`."
   ]
  },
  {
   "cell_type": "code",
   "execution_count": 14,
   "metadata": {},
   "outputs": [
    {
     "data": {
      "text/plain": [
       "(2.72420763413801, 2.301578812477929, 0.5795564673290488)"
      ]
     },
     "execution_count": 14,
     "metadata": {},
     "output_type": "execute_result"
    }
   ],
   "source": [
    "# NBVAL_IGNORE_OUTPUT\n",
    "mesh.random_point()"
   ]
  },
  {
   "cell_type": "markdown",
   "metadata": {},
   "source": [
    "To find out whether a point is inside the mesh, `discretisedfield.Mesh.__consists__` can be used, by using `in` operator. It returns `True` or `False`, depending whether the point is the part of the space defined by two corner points used at the mesh definition."
   ]
  },
  {
   "cell_type": "code",
   "execution_count": 15,
   "metadata": {},
   "outputs": [
    {
     "data": {
      "text/plain": [
       "True"
      ]
     },
     "execution_count": 15,
     "metadata": {},
     "output_type": "execute_result"
    }
   ],
   "source": [
    "(1, 1, 1.5) in mesh"
   ]
  },
  {
   "cell_type": "code",
   "execution_count": 16,
   "metadata": {},
   "outputs": [
    {
     "data": {
      "text/plain": [
       "False"
      ]
     },
     "execution_count": 16,
     "metadata": {},
     "output_type": "execute_result"
    }
   ],
   "source": [
    "(0, 0, 6) in mesh"
   ]
  },
  {
   "cell_type": "markdown",
   "metadata": {},
   "source": [
    "## Generators\n",
    "\n",
    "There are several mesh generators defined to conveniently iterate through the mesh. To iterate through all mesh cell indices, `discretisedfield.Mesh.indices` can be used."
   ]
  },
  {
   "cell_type": "code",
   "execution_count": 17,
   "metadata": {},
   "outputs": [],
   "source": [
    "p1 = (0, 0, 0)\n",
    "p2 = (2, 2, 2)\n",
    "n = (2, 2, 2)\n",
    "mesh = df.Mesh(p1=p1, p2=p2, n=n)"
   ]
  },
  {
   "cell_type": "markdown",
   "metadata": {},
   "source": [
    "`discretisedfield.Mesh.indices` is a generator object."
   ]
  },
  {
   "cell_type": "code",
   "execution_count": 18,
   "metadata": {},
   "outputs": [
    {
     "data": {
      "text/plain": [
       "<generator object Mesh.indices at 0x10d28ee58>"
      ]
     },
     "execution_count": 18,
     "metadata": {},
     "output_type": "execute_result"
    }
   ],
   "source": [
    "# NBVAL_IGNORE_OUTPUT\n",
    "mesh.indices"
   ]
  },
  {
   "cell_type": "markdown",
   "metadata": {},
   "source": [
    "It can be \"iterated\" though in a `for` loop, for instance."
   ]
  },
  {
   "cell_type": "code",
   "execution_count": 19,
   "metadata": {},
   "outputs": [
    {
     "name": "stdout",
     "output_type": "stream",
     "text": [
      "(0, 0, 0)\n",
      "(1, 0, 0)\n",
      "(0, 1, 0)\n",
      "(1, 1, 0)\n",
      "(0, 0, 1)\n",
      "(1, 0, 1)\n",
      "(0, 1, 1)\n",
      "(1, 1, 1)\n"
     ]
    }
   ],
   "source": [
    "for index in mesh.indices:\n",
    "    print(index)"
   ]
  },
  {
   "cell_type": "markdown",
   "metadata": {},
   "source": [
    "Alternatively, it can be quickly expanded by passing it to the `list` or `tuple` functions."
   ]
  },
  {
   "cell_type": "code",
   "execution_count": 20,
   "metadata": {},
   "outputs": [
    {
     "data": {
      "text/plain": [
       "[(0, 0, 0),\n",
       " (1, 0, 0),\n",
       " (0, 1, 0),\n",
       " (1, 1, 0),\n",
       " (0, 0, 1),\n",
       " (1, 0, 1),\n",
       " (0, 1, 1),\n",
       " (1, 1, 1)]"
      ]
     },
     "execution_count": 20,
     "metadata": {},
     "output_type": "execute_result"
    }
   ],
   "source": [
    "list(mesh.indices)"
   ]
  },
  {
   "cell_type": "markdown",
   "metadata": {},
   "source": [
    "Similarly, it can be iterated through the mesh coordinates. Coordinate of a discretisation cell corresponds to the coordinate of its centre."
   ]
  },
  {
   "cell_type": "code",
   "execution_count": 21,
   "metadata": {},
   "outputs": [
    {
     "name": "stdout",
     "output_type": "stream",
     "text": [
      "(0.5, 0.5, 0.5)\n",
      "(1.5, 0.5, 0.5)\n",
      "(0.5, 1.5, 0.5)\n",
      "(1.5, 1.5, 0.5)\n",
      "(0.5, 0.5, 1.5)\n",
      "(1.5, 0.5, 1.5)\n",
      "(0.5, 1.5, 1.5)\n",
      "(1.5, 1.5, 1.5)\n"
     ]
    }
   ],
   "source": [
    "for coord in mesh.coordinates:\n",
    "    print(coord)"
   ]
  },
  {
   "cell_type": "markdown",
   "metadata": {},
   "source": [
    "For convenience, `mesh` object is iterable itself and the generator is identical to `discretisedfield.Mesh.coordinates` generator."
   ]
  },
  {
   "cell_type": "code",
   "execution_count": 22,
   "metadata": {},
   "outputs": [
    {
     "name": "stdout",
     "output_type": "stream",
     "text": [
      "(0.5, 0.5, 0.5)\n",
      "(1.5, 0.5, 0.5)\n",
      "(0.5, 1.5, 0.5)\n",
      "(1.5, 1.5, 0.5)\n",
      "(0.5, 0.5, 1.5)\n",
      "(1.5, 0.5, 1.5)\n",
      "(0.5, 1.5, 1.5)\n",
      "(1.5, 1.5, 1.5)\n"
     ]
    }
   ],
   "source": [
    "for coord in mesh:\n",
    "    print(coord)"
   ]
  },
  {
   "cell_type": "markdown",
   "metadata": {},
   "source": [
    "Like any generator, it can be passed to `list` function."
   ]
  },
  {
   "cell_type": "code",
   "execution_count": 23,
   "metadata": {},
   "outputs": [
    {
     "data": {
      "text/plain": [
       "[(0.5, 0.5, 0.5),\n",
       " (1.5, 0.5, 0.5),\n",
       " (0.5, 1.5, 0.5),\n",
       " (1.5, 1.5, 0.5),\n",
       " (0.5, 0.5, 1.5),\n",
       " (1.5, 0.5, 1.5),\n",
       " (0.5, 1.5, 1.5),\n",
       " (1.5, 1.5, 1.5)]"
      ]
     },
     "execution_count": 23,
     "metadata": {},
     "output_type": "execute_result"
    }
   ],
   "source": [
    "list(mesh)"
   ]
  },
  {
   "cell_type": "markdown",
   "metadata": {},
   "source": [
    "Its length equals to the number of discretisation cells in the mesh (`discretisedfield.Mesh.ntotal`)."
   ]
  },
  {
   "cell_type": "code",
   "execution_count": 24,
   "metadata": {},
   "outputs": [
    {
     "data": {
      "text/plain": [
       "True"
      ]
     },
     "execution_count": 24,
     "metadata": {},
     "output_type": "execute_result"
    }
   ],
   "source": [
    "len(list(mesh)) == mesh.ntotal"
   ]
  },
  {
   "cell_type": "markdown",
   "metadata": {},
   "source": [
    "In certain cases, it is necessary to sample the data of a field defined on the particular mesh. Therefore, it is required to get a set of points on a line or a plane section of the mesh.\n",
    "\n",
    "The get the points of the mesh which are on a certain line, `discretisedfield.Mesh.line` method is used. It takes two points `p1` and `p2` that define the line and an integer `n` which defines how many mesh coordinates on that line are required. The default value of `n` is 100."
   ]
  },
  {
   "cell_type": "code",
   "execution_count": 25,
   "metadata": {},
   "outputs": [
    {
     "data": {
      "text/plain": [
       "[(0.0, 0.0, 0.0),\n",
       " (0.0, 0.5, 0.5),\n",
       " (0.0, 1.0, 1.0),\n",
       " (0.0, 1.5, 1.5),\n",
       " (0.0, 2.0, 2.0)]"
      ]
     },
     "execution_count": 25,
     "metadata": {},
     "output_type": "execute_result"
    }
   ],
   "source": [
    "line = mesh.line(p1=(0, 0, 0), p2=(0, 2, 2), n=5)\n",
    "list(line)"
   ]
  },
  {
   "cell_type": "markdown",
   "metadata": {},
   "source": [
    "Similarly, we can get the points on the plane. The planes allowed are the planes perpendicular to the axes of the Cartesian coordinate system. For instance, a plane parallel to the $yz$-plane (perpendicular to the $x$-axis) which intesects the $x$-axis at 1, can be written as\n",
    "\n",
    "$$x = 1$$\n",
    "\n",
    "Accordingly, the plane generator is"
   ]
  },
  {
   "cell_type": "code",
   "execution_count": 26,
   "metadata": {},
   "outputs": [
    {
     "data": {
      "text/plain": [
       "[(1, 0.5, 0.5), (1, 0.5, 1.5), (1, 1.5, 0.5), (1, 1.5, 1.5)]"
      ]
     },
     "execution_count": 26,
     "metadata": {},
     "output_type": "execute_result"
    }
   ],
   "source": [
    "plane = mesh.plane(x=1)\n",
    "list(plane)"
   ]
  },
  {
   "cell_type": "markdown",
   "metadata": {},
   "source": [
    "This generator yielded 4 (2*2) points because there are 2 discretisation cells in the $y$ and 2 in the $z$ direction:"
   ]
  },
  {
   "cell_type": "code",
   "execution_count": 27,
   "metadata": {},
   "outputs": [
    {
     "data": {
      "text/plain": [
       "(2, 2, 2)"
      ]
     },
     "execution_count": 27,
     "metadata": {},
     "output_type": "execute_result"
    }
   ],
   "source": [
    "mesh.n"
   ]
  },
  {
   "cell_type": "markdown",
   "metadata": {},
   "source": [
    "However, if we need more or less points, this can be passed to the `discrteisedfield.Mesh.plane` function via the `n` argument. `n` is a tuple of integers with length 2."
   ]
  },
  {
   "cell_type": "code",
   "execution_count": 28,
   "metadata": {},
   "outputs": [
    {
     "data": {
      "text/plain": [
       "[(1, 0.5, 0.25),\n",
       " (1, 0.5, 0.75),\n",
       " (1, 0.5, 1.25),\n",
       " (1, 0.5, 1.75),\n",
       " (1, 1.5, 0.25),\n",
       " (1, 1.5, 0.75),\n",
       " (1, 1.5, 1.25),\n",
       " (1, 1.5, 1.75)]"
      ]
     },
     "execution_count": 28,
     "metadata": {},
     "output_type": "execute_result"
    }
   ],
   "source": [
    "plane = mesh.plane(x=1, n=(2, 4))\n",
    "list(plane)"
   ]
  },
  {
   "cell_type": "markdown",
   "metadata": {},
   "source": [
    "If the plane cuts the mesh perpendicularly to a certain axis and intersects the centre of the mesh, it is enough just to pass an axis as a string."
   ]
  },
  {
   "cell_type": "code",
   "execution_count": 29,
   "metadata": {},
   "outputs": [
    {
     "name": "stdout",
     "output_type": "stream",
     "text": [
      "(0.5, 0.5, 1.0)\n",
      "(0.5, 1.5, 1.0)\n",
      "(1.5, 0.5, 1.0)\n",
      "(1.5, 1.5, 1.0)\n"
     ]
    }
   ],
   "source": [
    "for point in mesh.plane('z'):\n",
    "    print(point)"
   ]
  },
  {
   "cell_type": "markdown",
   "metadata": {},
   "source": [
    "## Other\n",
    "\n",
    "Full description of all existing functionality can be found in the [API Reference](https://discretisedfield.readthedocs.io/en/latest/api_documentation.html)."
   ]
  }
 ],
 "metadata": {
  "kernelspec": {
   "display_name": "Python 3",
   "language": "python",
   "name": "python3"
  },
  "language_info": {
   "codemirror_mode": {
    "name": "ipython",
    "version": 3
   },
   "file_extension": ".py",
   "mimetype": "text/x-python",
   "name": "python",
   "nbconvert_exporter": "python",
   "pygments_lexer": "ipython3",
   "version": "3.7.3"
  }
 },
 "nbformat": 4,
 "nbformat_minor": 4
}
