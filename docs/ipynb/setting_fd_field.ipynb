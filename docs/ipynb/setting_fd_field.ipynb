{
 "cells": [
  {
   "cell_type": "markdown",
   "metadata": {},
   "source": [
    "# Tutorial: Setting the finite difference field value"
   ]
  },
  {
   "cell_type": "markdown",
   "metadata": {},
   "source": [
    "In this tutorial, we demonstrate different ways of setting the FD field values.\n",
    "\n",
    "Firstly, we import the required Field class."
   ]
  },
  {
   "cell_type": "code",
   "execution_count": 1,
   "metadata": {},
   "outputs": [],
   "source": [
    "from discretisedfield import Mesh, Field"
   ]
  },
  {
   "cell_type": "markdown",
   "metadata": {},
   "source": [
    "We create a three-dimansional vector field with domain that spans between:\n",
    "\n",
    "- minimum coordinate $c_{1} = (1, 1, 1)$ and\n",
    "- maximum coordinate $c_{2} = (10, 6, 9)$,\n",
    "\n",
    "with discretisation $d = (1, 1, 1)$."
   ]
  },
  {
   "cell_type": "code",
   "execution_count": 2,
   "metadata": {},
   "outputs": [],
   "source": [
    "c1 = (1, 1, 1)\n",
    "c2 = (10, 6, 9)\n",
    "d = (1, 1, 1)\n",
    "mesh = Mesh(c1, c2, d)\n",
    "dim = 3"
   ]
  },
  {
   "cell_type": "markdown",
   "metadata": {},
   "source": [
    "After all the parameters are specified, we can create a field and give it a name."
   ]
  },
  {
   "cell_type": "code",
   "execution_count": 3,
   "metadata": {},
   "outputs": [],
   "source": [
    "field = Field(mesh, dim=dim, name='fdfield')"
   ]
  },
  {
   "cell_type": "markdown",
   "metadata": {},
   "source": [
    "As it was shown in the previous tutorial, if we do not specify the field value, it is initialised as zero-field."
   ]
  },
  {
   "cell_type": "code",
   "execution_count": 4,
   "metadata": {},
   "outputs": [
    {
     "data": {
      "text/plain": [
       "True"
      ]
     },
     "execution_count": 4,
     "metadata": {},
     "output_type": "execute_result"
    }
   ],
   "source": [
    "(field.array == 0).all()"
   ]
  },
  {
   "cell_type": "markdown",
   "metadata": {},
   "source": [
    "## Setting using float/int\n",
    "\n",
    "We can set the field value using a single float/int value. In this case all components of the vector field will be the same at all FD field discretisation points."
   ]
  },
  {
   "cell_type": "code",
   "execution_count": 5,
   "metadata": {},
   "outputs": [],
   "source": [
    "value = (3, 3, 3)\n",
    "\n",
    "field.value = value"
   ]
  },
  {
   "cell_type": "markdown",
   "metadata": {},
   "source": [
    "This can be checked using:"
   ]
  },
  {
   "cell_type": "code",
   "execution_count": 6,
   "metadata": {},
   "outputs": [
    {
     "data": {
      "text/plain": [
       "True"
      ]
     },
     "execution_count": 6,
     "metadata": {},
     "output_type": "execute_result"
    }
   ],
   "source": [
    "(field.array == 3).all()"
   ]
  },
  {
   "cell_type": "code",
   "execution_count": 7,
   "metadata": {},
   "outputs": [
    {
     "data": {
      "text/plain": [
       "(3.0, 3.0, 3.0)"
      ]
     },
     "execution_count": 7,
     "metadata": {},
     "output_type": "execute_result"
    }
   ],
   "source": [
    "field.average"
   ]
  },
  {
   "cell_type": "markdown",
   "metadata": {},
   "source": [
    "## Setting using list/tuple\n",
    "\n",
    "If the FD field value is specified using a tuple, list, or numpy array, all compoenents of the vector field must be specified separately."
   ]
  },
  {
   "cell_type": "code",
   "execution_count": 8,
   "metadata": {},
   "outputs": [],
   "source": [
    "value = (1, -2, 3.5)\n",
    "field.value = value"
   ]
  },
  {
   "cell_type": "code",
   "execution_count": 9,
   "metadata": {},
   "outputs": [
    {
     "data": {
      "text/plain": [
       "True"
      ]
     },
     "execution_count": 9,
     "metadata": {},
     "output_type": "execute_result"
    }
   ],
   "source": [
    "(field.array[:, :, :, 0] == 1).all() and \\\n",
    "(field.array[:, :, :, 1] == -2).all() and \\\n",
    "(field.array[:, :, :, 2] == 3.5).all()"
   ]
  },
  {
   "cell_type": "code",
   "execution_count": 10,
   "metadata": {},
   "outputs": [
    {
     "data": {
      "text/plain": [
       "(1.0, -2.0, 3.5)"
      ]
     },
     "execution_count": 10,
     "metadata": {},
     "output_type": "execute_result"
    }
   ],
   "source": [
    "field.average"
   ]
  },
  {
   "cell_type": "markdown",
   "metadata": {},
   "source": [
    "## Setting using Python function\n",
    "\n",
    "So far, we set the FD field value to be constant - space invariant. Now, using a Python function, we set the field value using a Python function.\n",
    "\n",
    "Python function should have a single argument which is a tuple of coordinates (x, y, z) and returns the tuple of an appropriate dimension for the field whose value we set.\n",
    "\n",
    "If we want to set the field value so that:\n",
    "\n",
    "$$f(x, y, z) = (2x, 2y+x, x+z)$$"
   ]
  },
  {
   "cell_type": "code",
   "execution_count": 11,
   "metadata": {},
   "outputs": [],
   "source": [
    "def value(pos):\n",
    "    x, y, z = pos\n",
    "    \n",
    "    fx = 2*x\n",
    "    fy = 2*y + x\n",
    "    fz = x+z\n",
    "    \n",
    "    return (fx, fy, fz)\n",
    "\n",
    "field.value = value"
   ]
  },
  {
   "cell_type": "markdown",
   "metadata": {},
   "source": [
    "Knowing the field values, we expect that the field value at point (1.5, 2.5, 3.5) should be:\n",
    "\n",
    "$$f(1.5, 2.5, 3.5) = (3, 6.5, 5)$$\n",
    "\n",
    "If we sample the field at that point we get:"
   ]
  },
  {
   "cell_type": "code",
   "execution_count": 12,
   "metadata": {},
   "outputs": [
    {
     "data": {
      "text/plain": [
       "(3.0, 6.5, 5.0)"
      ]
     },
     "execution_count": 12,
     "metadata": {},
     "output_type": "execute_result"
    }
   ],
   "source": [
    "c = (1.5, 2.5, 3.5)\n",
    "field(c)"
   ]
  }
 ],
 "metadata": {
  "anaconda-cloud": {},
  "kernelspec": {
   "display_name": "Python 3",
   "language": "python",
   "name": "python3"
  },
  "language_info": {
   "codemirror_mode": {
    "name": "ipython",
    "version": 3
   },
   "file_extension": ".py",
   "mimetype": "text/x-python",
   "name": "python",
   "nbconvert_exporter": "python",
   "pygments_lexer": "ipython3",
   "version": "3.6.4"
  }
 },
 "nbformat": 4,
 "nbformat_minor": 1
}
