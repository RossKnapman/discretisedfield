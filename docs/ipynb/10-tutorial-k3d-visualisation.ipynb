{
 "cells": [
  {
   "cell_type": "markdown",
   "metadata": {},
   "source": [
    "# Tutorial 10: Visualising the field using `k3d`\n",
    "\n",
    "> Interactive online tutorial:\n",
    "> [![Binder](https://mybinder.org/badge_logo.svg)](https://mybinder.org/v2/gh/ubermag/discretisedfield/master?filepath=docs%2Fipynb%2Findex.ipynb)\n",
    "\n",
    "**Note:** If you experience any problems in plotting with `k3d`, please make sure you run the Jupyter notebook in Google Chrome.\n",
    "\n",
    "There are two ways how a field can be visualised, using:\n",
    "- `matplotlib`\n",
    "- `k3d`\n",
    "\n",
    "`k3d` provides three-dimensional interactive plots of fields inside Jupyter notebook.\n",
    "\n",
    "Let us say we have a sample, which is an ellipsoid\n",
    "\n",
    "$$\\frac{x^2}{a^2} + \\frac{y^2}{b^2} + \\frac{z^2}{c^2} <= 1$$\n",
    "\n",
    "with $a=5\\,\\text{nm}$, $b=3\\,\\text{nm}$, and $c=2\\,\\text{nm}$. The space is discretised into cells with dimensions $(0.5\\,\\text{nm}, 0.5\\,\\text{nm}, 0.5\\,\\text{nm})$. The value of the field at $(x, y, z)$ point is $(-cy, cx, cz)$, with $c=10^{9}$. The norm of the field inside the cylinder is $10^{6}$.\n",
    "\n",
    "Let us first build that field."
   ]
  },
  {
   "cell_type": "code",
   "execution_count": 1,
   "metadata": {},
   "outputs": [],
   "source": [
    "import discretisedfield as df\n",
    "\n",
    "a, b, c = 5e-9, 3e-9, 2e-9\n",
    "cell = (0.5e-9, 0.5e-9, 0.5e-9)\n",
    "\n",
    "mesh =  df.Mesh(p1=(-a, -b, -c), p2=(a, b, c), cell=cell)\n",
    "\n",
    "def norm_fun(pos):\n",
    "    x, y, z = pos\n",
    "    if (x/a)**2 + (y/b)**2 + (z/c)**2 <= 1:\n",
    "        return 1e6\n",
    "    else:\n",
    "        return 0\n",
    "    \n",
    "def value_fun(pos):\n",
    "    x, y, z = pos\n",
    "    c = 1e9\n",
    "    return (-c*y, c*x, c*z)\n",
    "\n",
    "field = df.Field(mesh, value=value_fun, norm=norm_fun)"
   ]
  },
  {
   "cell_type": "markdown",
   "metadata": {},
   "source": [
    "The most basic plot we can show is the plot of all the cells where the value is non-zero. This can be useful, to inspect the domain created, by plotting the norm."
   ]
  },
  {
   "cell_type": "code",
   "execution_count": 2,
   "metadata": {},
   "outputs": [
    {
     "data": {
      "application/vnd.jupyter.widget-view+json": {
       "model_id": "26a9dfee9aef43899f194267f19ef48f",
       "version_major": 2,
       "version_minor": 0
      },
      "text/plain": [
       "Output()"
      ]
     },
     "metadata": {},
     "output_type": "display_data"
    }
   ],
   "source": [
    "# NBVAL_IGNORE_OUTPUT\n",
    "field.norm.k3d_nonzero()"
   ]
  },
  {
   "cell_type": "markdown",
   "metadata": {},
   "source": [
    "The plot is interactive, so it can be manipulated using a mouse. To change the color of voxels, we can pass the new color via `color` argument."
   ]
  },
  {
   "cell_type": "code",
   "execution_count": 3,
   "metadata": {},
   "outputs": [
    {
     "data": {
      "application/vnd.jupyter.widget-view+json": {
       "model_id": "687545396ee04edd95619aa0814d4439",
       "version_major": 2,
       "version_minor": 0
      },
      "text/plain": [
       "Output()"
      ]
     },
     "metadata": {},
     "output_type": "display_data"
    }
   ],
   "source": [
    "# NBVAL_IGNORE_OUTPUT\n",
    "field.norm.k3d_nonzero(color=0x27ae60)"
   ]
  },
  {
   "cell_type": "markdown",
   "metadata": {},
   "source": [
    "Next, we can plot a scalar field. For plotting a scalar field, we are using `discretisedfield.Field.k3d_voxels()` method."
   ]
  },
  {
   "cell_type": "code",
   "execution_count": 4,
   "metadata": {},
   "outputs": [
    {
     "name": "stdout",
     "output_type": "stream",
     "text": [
      "Exception raised.\n"
     ]
    }
   ],
   "source": [
    "# NBVAL_IGNORE_OUTPUT\n",
    "try:\n",
    "    field.k3d_voxels()\n",
    "except ValueError:\n",
    "    print('Exception raised.')"
   ]
  },
  {
   "cell_type": "markdown",
   "metadata": {},
   "source": [
    "An exception was raised because we attempted to plot a vector field using voxels. Therefore, we first need to extract a component of the field. Let us plot the $x$ component."
   ]
  },
  {
   "cell_type": "code",
   "execution_count": 5,
   "metadata": {},
   "outputs": [
    {
     "data": {
      "application/vnd.jupyter.widget-view+json": {
       "model_id": "3f24f9bb001e42a2bcd8a1a760edfe1f",
       "version_major": 2,
       "version_minor": 0
      },
      "text/plain": [
       "Output()"
      ]
     },
     "metadata": {},
     "output_type": "display_data"
    }
   ],
   "source": [
    "# NBVAL_IGNORE_OUTPUT\n",
    "field.x.k3d_voxels()"
   ]
  },
  {
   "cell_type": "markdown",
   "metadata": {},
   "source": [
    "However, we can see that the points which we consider to be outside the sample are also plotted. This is because, `discretisedfield.Field.k3d_voxels()` method cannot determine the points where norm is zero from the passed scalar field. Therefore, we need to pass the `norm_field.`"
   ]
  },
  {
   "cell_type": "code",
   "execution_count": 6,
   "metadata": {},
   "outputs": [
    {
     "data": {
      "application/vnd.jupyter.widget-view+json": {
       "model_id": "dee60566533c4cd09599ca99284e4c24",
       "version_major": 2,
       "version_minor": 0
      },
      "text/plain": [
       "Output()"
      ]
     },
     "metadata": {},
     "output_type": "display_data"
    }
   ],
   "source": [
    "# NBVAL_IGNORE_OUTPUT\n",
    "field.x.k3d_voxels(norm_field=field.norm)"
   ]
  },
  {
   "cell_type": "markdown",
   "metadata": {},
   "source": [
    "By cascading operations, we can similarly plot the slice of the ellipsoid at $z=0$."
   ]
  },
  {
   "cell_type": "code",
   "execution_count": 7,
   "metadata": {},
   "outputs": [
    {
     "data": {
      "application/vnd.jupyter.widget-view+json": {
       "model_id": "060aab153b5a4e4f8c1e373e3078bab2",
       "version_major": 2,
       "version_minor": 0
      },
      "text/plain": [
       "Output()"
      ]
     },
     "metadata": {},
     "output_type": "display_data"
    }
   ],
   "source": [
    "# NBVAL_IGNORE_OUTPUT\n",
    "field.x.plane(z=0).k3d_voxels(norm_field=field.norm)"
   ]
  },
  {
   "cell_type": "markdown",
   "metadata": {},
   "source": [
    "To further modify the plot, keyword arguments for `k3d.voxels()` function are accepted. Plese refer to its [documentation](https://k3d-jupyter.readthedocs.io/en/latest/k3d.html#k3d.k3d.voxels).\n",
    "\n",
    "Next, we can plot the vector field itself."
   ]
  },
  {
   "cell_type": "code",
   "execution_count": 8,
   "metadata": {},
   "outputs": [
    {
     "data": {
      "application/vnd.jupyter.widget-view+json": {
       "model_id": "23045f54660c42e2a1ac1278d86165a7",
       "version_major": 2,
       "version_minor": 0
      },
      "text/plain": [
       "Output()"
      ]
     },
     "metadata": {},
     "output_type": "display_data"
    }
   ],
   "source": [
    "# NBVAL_IGNORE_OUTPUT\n",
    "field.k3d_vectors()"
   ]
  },
  {
   "cell_type": "markdown",
   "metadata": {},
   "source": [
    "By default, points at the discretisation cell centres are plotted together with vectors to help understand the structure of the field. However, they can be deactivated by passing `points=False`."
   ]
  },
  {
   "cell_type": "code",
   "execution_count": 9,
   "metadata": {},
   "outputs": [
    {
     "data": {
      "application/vnd.jupyter.widget-view+json": {
       "model_id": "6946e82b844d489ab61b863ad3af14c0",
       "version_major": 2,
       "version_minor": 0
      },
      "text/plain": [
       "Output()"
      ]
     },
     "metadata": {},
     "output_type": "display_data"
    }
   ],
   "source": [
    "# NBVAL_IGNORE_OUTPUT\n",
    "field.k3d_vectors(points=False)"
   ]
  },
  {
   "cell_type": "markdown",
   "metadata": {},
   "source": [
    "It is difficult to understand the vector field from this plot. By cascading, we can plot its slice at $x=0$."
   ]
  },
  {
   "cell_type": "code",
   "execution_count": 10,
   "metadata": {},
   "outputs": [
    {
     "data": {
      "application/vnd.jupyter.widget-view+json": {
       "model_id": "e705807f60c147efabcdd994431cd911",
       "version_major": 2,
       "version_minor": 0
      },
      "text/plain": [
       "Output()"
      ]
     },
     "metadata": {},
     "output_type": "display_data"
    }
   ],
   "source": [
    "# NBVAL_IGNORE_OUTPUT\n",
    "field.plane(x=0).k3d_vectors()"
   ]
  },
  {
   "cell_type": "markdown",
   "metadata": {},
   "source": [
    "To improve the understanding of the plot, we can now colour the vectors plotted. For that, we need to pass a scalar field, according to which the vectors will be coloured."
   ]
  },
  {
   "cell_type": "code",
   "execution_count": 11,
   "metadata": {},
   "outputs": [
    {
     "data": {
      "application/vnd.jupyter.widget-view+json": {
       "model_id": "f7019c59375c409a9dc616f5213b0704",
       "version_major": 2,
       "version_minor": 0
      },
      "text/plain": [
       "Output()"
      ]
     },
     "metadata": {},
     "output_type": "display_data"
    }
   ],
   "source": [
    "# NBVAL_IGNORE_OUTPUT\n",
    "field.plane(x=0).k3d_vectors(color_field=field.x)"
   ]
  },
  {
   "cell_type": "markdown",
   "metadata": {},
   "source": [
    "To further modify the plot, keyword arguments for `k3d.vectors()` function are accepted. Plese refer to its [documentation](https://k3d-jupyter.readthedocs.io/en/latest/k3d.html#k3d.k3d.vectors).\n",
    "\n",
    "### Multiple visualisation on the same plot\n",
    "\n",
    "Sometimes, it is necessary to show, for example, multiple planes of the sample on the same plot. This can be done by exposing the `k3d.plot` and passing it to different plotting methods. For instance."
   ]
  },
  {
   "cell_type": "code",
   "execution_count": 12,
   "metadata": {},
   "outputs": [
    {
     "data": {
      "application/vnd.jupyter.widget-view+json": {
       "model_id": "f28d29ffaebe450ea2de09887bafdd16",
       "version_major": 2,
       "version_minor": 0
      },
      "text/plain": [
       "Output()"
      ]
     },
     "metadata": {},
     "output_type": "display_data"
    }
   ],
   "source": [
    "# NBVAL_IGNORE_OUTPUT\n",
    "import k3d\n",
    "plot = k3d.plot()\n",
    "field.plane(x=-3e-9).k3d_vectors(plot=plot, color_field=field.z)\n",
    "field.plane(x=0).k3d_vectors(plot=plot, color_field=field.z)\n",
    "field.plane(x=3e-9).k3d_vectors(plot=plot, color_field=field.z)\n",
    "plot.display()"
   ]
  },
  {
   "cell_type": "markdown",
   "metadata": {},
   "source": [
    "### Plotting regions in the mesh\n",
    "\n",
    "As explained in [Defining regions tutorial](03-tutorial-defining-regions.ipynb), different regions can be defined in the mesh. Sometimes it is necessary to visualise those regions in order to make sure they are defined properly."
   ]
  },
  {
   "cell_type": "code",
   "execution_count": 13,
   "metadata": {},
   "outputs": [
    {
     "data": {
      "application/vnd.jupyter.widget-view+json": {
       "model_id": "499b6091beb44bc19e9b9b3ff0bd5b3a",
       "version_major": 2,
       "version_minor": 0
      },
      "text/plain": [
       "Output()"
      ]
     },
     "metadata": {},
     "output_type": "display_data"
    }
   ],
   "source": [
    "# NBVAL_IGNORE_OUTPUT\n",
    "p1 = (0, 0, 0)\n",
    "p2 = (50, 50, 10)\n",
    "cell = (5, 5, 5)\n",
    "mesh = df.Mesh(p1=p1, p2=p2, cell=cell)\n",
    "\n",
    "region1 = df.Region(p1=(0, 0, 0), p2=(50, 50, 5))\n",
    "region2 = df.Region(p1=(0, 0, 5), p2=(50, 50, 10))\n",
    "\n",
    "mesh.regions = {'region_with_interesting_properties': region1, 'region_with_funny_properties': region2}\n",
    "\n",
    "mesh.k3d_regions()"
   ]
  },
  {
   "cell_type": "markdown",
   "metadata": {},
   "source": [
    "## Other\n",
    "\n",
    "Full description of all existing functionality can be found in the [API Reference](https://discretisedfield.readthedocs.io/en/latest/api-reference.html)."
   ]
  }
 ],
 "metadata": {
  "kernelspec": {
   "display_name": "Python 3",
   "language": "python",
   "name": "python3"
  },
  "language_info": {
   "codemirror_mode": {
    "name": "ipython",
    "version": 3
   },
   "file_extension": ".py",
   "mimetype": "text/x-python",
   "name": "python",
   "nbconvert_exporter": "python",
   "pygments_lexer": "ipython3",
   "version": "3.7.4"
  },
  "widgets": {
   "application/vnd.jupyter.widget-state+json": {
    "state": {
     "00194eb688b64095b69c8d4a13404f76": {
      "model_module": "k3d",
      "model_module_version": "2.6.9",
      "model_name": "PlotModel",
      "state": {
       "_backend_version": "2.6.9",
       "_dom_classes": [],
       "_view_count": null,
       "antialias": 3,
       "axes": [
        "x",
        "y",
        "z"
       ],
       "background_color": 16777215,
       "camera": [
        9.733137238263115,
        -14.662205854600705,
        0.9758137234910438,
        -0.02499999664723873,
        -0.02500000223517418,
        0,
        0,
        0,
        1
       ],
       "camera_auto_fit": true,
       "camera_no_pan": false,
       "camera_no_rotate": false,
       "camera_no_zoom": false,
       "clipping_planes": [],
       "colorbar_object_id": -1,
       "fps_meter": false,
       "grid": [
        -1,
        -1,
        -1,
        1,
        1,
        1
       ],
       "grid_auto_fit": true,
       "grid_visible": true,
       "height": 512,
       "layout": "IPY_MODEL_6482e162571b42fc907c385ece874483",
       "lighting": 1,
       "menu_visibility": true,
       "object_ids": [
        4610103784
       ],
       "rendering_steps": 1,
       "screenshot": "",
       "screenshot_scale": 2,
       "time": 0,
       "voxel_paint_color": 0
      }
     },
     "00749da0d46142e4b674650b8d154510": {
      "model_module": "@jupyter-widgets/base",
      "model_module_version": "1.2.0",
      "model_name": "LayoutModel",
      "state": {}
     },
     "00c8dd1004a8437e9981274ab49c737d": {
      "model_module": "@jupyter-widgets/output",
      "model_module_version": "1.0.0",
      "model_name": "OutputModel",
      "state": {
       "layout": "IPY_MODEL_de7f5a3d4e3546d3885744bfddafda38",
       "outputs": [
        {
         "data": {
          "application/vnd.jupyter.widget-view+json": {
           "model_id": "debf9e2448bf4dd19c4b3ca27a8905c4",
           "version_major": 2,
           "version_minor": 0
          },
          "text/plain": "Plot(antialias=3, axes=['x', 'y', 'z'], background_color=16777215, camera=[4.5, 4.5, 4.5, 0.0, 0.0, 0.0, 1.0, …"
         },
         "metadata": {},
         "output_type": "display_data"
        }
       ]
      }
     },
     "011b4265b7a848e2ac6403ec7bf27aef": {
      "model_module": "@jupyter-widgets/base",
      "model_module_version": "1.2.0",
      "model_name": "LayoutModel",
      "state": {}
     },
     "0146e86199c643f8b9f0feb416476102": {
      "buffers": [
       {
        "data": "eNoDAAAAAAE=",
        "encoding": "base64",
        "path": [
         "colors",
         "compressed_buffer"
        ]
       },
       {
        "data": "eNpjYGiwZ8AAxIsBAF7EAv0=",
        "encoding": "base64",
        "path": [
         "model_matrix",
         "compressed_buffer"
        ]
       },
       {
        "data": "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",
        "encoding": "base64",
        "path": [
         "origins",
         "compressed_buffer"
        ]
       },
       {
        "data": "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",
        "encoding": "base64",
        "path": [
         "vectors",
         "compressed_buffer"
        ]
       }
      ],
      "model_module": "k3d",
      "model_module_version": "2.6.9",
      "model_name": "ObjectModel",
      "state": {
       "_view_count": null,
       "_view_module": null,
       "_view_module_version": "",
       "_view_name": null,
       "colors": {
        "dtype": "uint32",
        "shape": [
         0
        ]
       },
       "compression_level": 0,
       "head_color": 255,
       "head_size": 1,
       "id": 4514784912,
       "label_size": 1,
       "labels": [],
       "line_width": 0.01,
       "model_matrix": {
        "dtype": "float32",
        "shape": [
         4,
         4
        ]
       },
       "name": null,
       "origin_color": 255,
       "origins": {
        "dtype": "float32",
        "shape": [
         1008,
         3
        ]
       },
       "type": "Vectors",
       "use_head": true,
       "vectors": {
        "dtype": "float32",
        "shape": [
         1008,
         3
        ]
       },
       "visible": true
      }
     },
     "03dffdd9b1d94cfda8f39488278012b9": {
      "model_module": "@jupyter-widgets/base",
      "model_module_version": "1.2.0",
      "model_name": "LayoutModel",
      "state": {}
     },
     "04eef847d02f43c8b1296ef719724388": {
      "model_module": "@jupyter-widgets/output",
      "model_module_version": "1.0.0",
      "model_name": "OutputModel",
      "state": {
       "layout": "IPY_MODEL_49ce670200534d17bcb00dd1c7fbe7fb",
       "outputs": [
        {
         "data": {
          "application/vnd.jupyter.widget-view+json": {
           "model_id": "9258fa9067d24771b0878aea065eec0b",
           "version_major": 2,
           "version_minor": 0
          },
          "text/plain": "Plot(antialias=3, axes=['x', 'y', 'z'], background_color=16777215, camera=[4.5, 4.5, 4.5, 0.0, 0.0, 0.0, 1.0, …"
         },
         "metadata": {},
         "output_type": "display_data"
        }
       ]
      }
     },
     "04f9baf9ee2245b48d00c41923a53d7f": {
      "model_module": "@jupyter-widgets/base",
      "model_module_version": "1.2.0",
      "model_name": "LayoutModel",
      "state": {}
     },
     "060aab153b5a4e4f8c1e373e3078bab2": {
      "model_module": "@jupyter-widgets/output",
      "model_module_version": "1.0.0",
      "model_name": "OutputModel",
      "state": {
       "layout": "IPY_MODEL_04f9baf9ee2245b48d00c41923a53d7f",
       "outputs": [
        {
         "data": {
          "application/vnd.jupyter.widget-view+json": {
           "model_id": "6d5d2fc85c2a459d9054feaae1ba4bde",
           "version_major": 2,
           "version_minor": 0
          },
          "text/plain": "Plot(antialias=3, axes=['x', 'y', 'z'], background_color=16777215, camera=[4.5, 4.5, 4.5, 0.0, 0.0, 0.0, 1.0, …"
         },
         "metadata": {},
         "output_type": "display_data"
        }
       ]
      }
     },
     "065db63178a84eec8ad7ed98b1326c10": {
      "model_module": "k3d",
      "model_module_version": "2.6.9",
      "model_name": "PlotModel",
      "state": {
       "_backend_version": "2.6.9",
       "_dom_classes": [],
       "_view_count": null,
       "antialias": 3,
       "axes": [
        "x",
        "y",
        "z"
       ],
       "background_color": 16777215,
       "camera": [
        10.284874878907916,
        -15.489812315567907,
        1.0059874815950598,
        -0.02499999664723873,
        -0.02500000223517418,
        -0.025000005960464478,
        0,
        0,
        1
       ],
       "camera_auto_fit": true,
       "camera_no_pan": false,
       "camera_no_rotate": false,
       "camera_no_zoom": false,
       "clipping_planes": [],
       "colorbar_object_id": -1,
       "fps_meter": false,
       "grid": [
        -1,
        -1,
        -1,
        1,
        1,
        1
       ],
       "grid_auto_fit": true,
       "grid_visible": true,
       "height": 512,
       "layout": "IPY_MODEL_44dadfa0f74b4cb5b45c1ccaed4b09df",
       "lighting": 1,
       "menu_visibility": true,
       "object_ids": [
        4653995920
       ],
       "rendering_steps": 1,
       "screenshot": "",
       "screenshot_scale": 2,
       "time": 0,
       "voxel_paint_color": 0
      }
     },
     "07f82636bfad4884b08d416e99633671": {
      "model_module": "@jupyter-widgets/output",
      "model_module_version": "1.0.0",
      "model_name": "OutputModel",
      "state": {
       "layout": "IPY_MODEL_e47c56ad059d4f89b4c020ba1bc50880",
       "outputs": [
        {
         "data": {
          "application/vnd.jupyter.widget-view+json": {
           "model_id": "c25d77c7e97a4a69aad91e2f05fcce52",
           "version_major": 2,
           "version_minor": 0
          },
          "text/plain": "Plot(antialias=3, axes=['x', 'y', 'z'], background_color=16777215, camera=[4.5, 4.5, 4.5, 0.0, 0.0, 0.0, 1.0, …"
         },
         "metadata": {},
         "output_type": "display_data"
        }
       ]
      }
     },
     "084a6f4398df4ca39e21eca94bf1990e": {
      "model_module": "@jupyter-widgets/base",
      "model_module_version": "1.2.0",
      "model_name": "LayoutModel",
      "state": {}
     },
     "08cfd3588d994241be231925945d1829": {
      "model_module": "@jupyter-widgets/base",
      "model_module_version": "1.2.0",
      "model_name": "LayoutModel",
      "state": {}
     },
     "091bb49ec6fc4733925a8a8eb3e1d37f": {
      "model_module": "@jupyter-widgets/base",
      "model_module_version": "1.2.0",
      "model_name": "LayoutModel",
      "state": {}
     },
     "09a6d17bf7684379aaaabdcf42cfa182": {
      "model_module": "@jupyter-widgets/output",
      "model_module_version": "1.0.0",
      "model_name": "OutputModel",
      "state": {
       "layout": "IPY_MODEL_c87c819d31554e349fe164f8df73d7a6",
       "outputs": [
        {
         "data": {
          "application/vnd.jupyter.widget-view+json": {
           "model_id": "9189c5e1a2874568b9ba275e463e10db",
           "version_major": 2,
           "version_minor": 0
          },
          "text/plain": "Plot(antialias=3, axes=['x', 'y', 'z'], background_color=16777215, camera=[4.5, 4.5, 4.5, 0.0, 0.0, 0.0, 1.0, …"
         },
         "metadata": {},
         "output_type": "display_data"
        }
       ]
      }
     },
     "09c77e9d462e49fc9bb76b1ef86e035a": {
      "buffers": [
       {
        "data": "eNq7PcOEAQAFoAGo",
        "encoding": "base64",
        "path": [
         "color_map",
         "compressed_buffer"
        ]
       },
       {
        "data": "eNpjYFBwZMAABxwwxRqwidkDAFK8AuE=",
        "encoding": "base64",
        "path": [
         "model_matrix",
         "compressed_buffer"
        ]
       },
       {
        "data": "eNrllUEOACEMAjv//7R7XQGj0Vs5TqItWLXqXnxSMlFQ6Jhba2u8l9TQ/vgpMlDo2O5+KauDXNIRLb2ZnkHhDdvPJWYg3mo1aj7m5I3HOsigXAT+fnTz222eG75XTf6jAc5KA/E=",
        "encoding": "base64",
        "path": [
         "voxels",
         "compressed_buffer"
        ]
       }
      ],
      "model_module": "k3d",
      "model_module_version": "2.6.9",
      "model_name": "ObjectModel",
      "state": {
       "_view_count": null,
       "_view_module": null,
       "_view_module_version": "",
       "_view_name": null,
       "color_map": {
        "dtype": "uint32",
        "shape": []
       },
       "compression_level": 0,
       "id": 4470776080,
       "model_matrix": {
        "dtype": "float32",
        "shape": [
         4,
         4
        ]
       },
       "name": null,
       "opacity": 1,
       "outlines": false,
       "outlines_color": 0,
       "type": "Voxels",
       "visible": true,
       "voxels": {
        "dtype": "uint8",
        "shape": [
         8,
         12,
         20
        ]
       },
       "wireframe": false
      }
     },
     "0a449f3bc47b4ae4965504fc8b9f7727": {
      "model_module": "@jupyter-widgets/output",
      "model_module_version": "1.0.0",
      "model_name": "OutputModel",
      "state": {
       "layout": "IPY_MODEL_26866c6de5ea478cb36995e34ee79597",
       "outputs": [
        {
         "data": {
          "application/vnd.jupyter.widget-view+json": {
           "model_id": "3b7265679a0e40c0b6571e855ceb0ba2",
           "version_major": 2,
           "version_minor": 0
          },
          "text/plain": "Plot(antialias=3, axes=['x', 'y', 'z'], background_color=16777215, camera=[4.5, 4.5, 4.5, 0.0, 0.0, 0.0, 1.0, …"
         },
         "metadata": {},
         "output_type": "display_data"
        }
       ]
      }
     },
     "0b0e42f5557f49298d518ed3231a8088": {
      "model_module": "@jupyter-widgets/base",
      "model_module_version": "1.2.0",
      "model_name": "LayoutModel",
      "state": {}
     },
     "0bee34b9e35649b9b6b4bbadde5ad6cc": {
      "model_module": "@jupyter-widgets/base",
      "model_module_version": "1.2.0",
      "model_name": "LayoutModel",
      "state": {}
     },
     "0c2593598d204d6ca68779e5523d71a1": {
      "model_module": "k3d",
      "model_module_version": "2.6.9",
      "model_name": "PlotModel",
      "state": {
       "_backend_version": "2.6.9",
       "_dom_classes": [],
       "_view_count": null,
       "antialias": 3,
       "axes": [
        "x",
        "y",
        "z"
       ],
       "background_color": 16777215,
       "camera": [
        2.1422062344188877,
        -3.213309351628332,
        0.21422062344189097,
        0,
        0,
        0,
        0,
        0,
        1
       ],
       "camera_auto_fit": true,
       "camera_no_pan": false,
       "camera_no_rotate": false,
       "camera_no_zoom": false,
       "clipping_planes": [],
       "colorbar_object_id": -1,
       "fps_meter": false,
       "grid": [
        -1,
        -1,
        -1,
        1,
        1,
        1
       ],
       "grid_auto_fit": true,
       "grid_visible": true,
       "height": 512,
       "layout": "IPY_MODEL_af42fa58c4ed4a6f9d6ae0a3b015d956",
       "lighting": 1,
       "menu_visibility": true,
       "object_ids": [
        4734587736,
        4734048912
       ],
       "rendering_steps": 1,
       "screenshot": "",
       "screenshot_scale": 2,
       "time": 0,
       "voxel_paint_color": 0
      }
     },
     "0caaf6e5f5ef44ad89912d02dd4155f2": {
      "model_module": "@jupyter-widgets/base",
      "model_module_version": "1.2.0",
      "model_name": "LayoutModel",
      "state": {}
     },
     "0d39bcb45f4e4bc2ab4288846d56a1c3": {
      "model_module": "@jupyter-widgets/base",
      "model_module_version": "1.2.0",
      "model_name": "LayoutModel",
      "state": {}
     },
     "0d73fd8d6c974111beab10f56a6d4c22": {
      "model_module": "@jupyter-widgets/output",
      "model_module_version": "1.0.0",
      "model_name": "OutputModel",
      "state": {
       "layout": "IPY_MODEL_286112b7ff0646ccbe8bf4f0bb39c2a7",
       "outputs": [
        {
         "data": {
          "application/vnd.jupyter.widget-view+json": {
           "model_id": "176a62a5a642400b9c59826107c81968",
           "version_major": 2,
           "version_minor": 0
          },
          "text/plain": "Plot(antialias=3, axes=['x', 'y', 'z'], background_color=16777215, camera=[4.5, 4.5, 4.5, 0.0, 0.0, 0.0, 1.0, …"
         },
         "metadata": {},
         "output_type": "display_data"
        }
       ]
      }
     },
     "0de39acdc9244bacb9cd66c6337a0054": {
      "model_module": "@jupyter-widgets/base",
      "model_module_version": "1.2.0",
      "model_name": "LayoutModel",
      "state": {}
     },
     "0ded5381777745daaa522b5c4aeac8d0": {
      "model_module": "@jupyter-widgets/base",
      "model_module_version": "1.2.0",
      "model_name": "LayoutModel",
      "state": {}
     },
     "0e02af4a4f684ac088443e9ad074a348": {
      "model_module": "@jupyter-widgets/base",
      "model_module_version": "1.2.0",
      "model_name": "LayoutModel",
      "state": {}
     },
     "0e1b846dc0b44c1fb1b4349ed11b7bfe": {
      "buffers": [
       {
        "data": "eNoDAAAAAAE=",
        "encoding": "base64",
        "path": [
         "colors",
         "compressed_buffer"
        ]
       },
       {
        "data": "eNpjYGiwZ8AAxIsBAF7EAv0=",
        "encoding": "base64",
        "path": [
         "model_matrix",
         "compressed_buffer"
        ]
       },
       {
        "data": "eNpN0VENwzAMBuFAGJQisA1tUIxkK5RAmbIq7ZeXnqL0dNI/xjr9HWN+/zgKfn/g4E0+3PDrvFzrrLvNDRe8/I2/8Tf+2wm/6uHjvLy7oWgoGoqGoqFoKBqKhqKhaNh8yOfl3T2bV8/mhgte35uDN8m/8IRXz+ZDPi/X3RP0BD1BT9AT9AQ9QU/QE/QEPcFeyV7JXsleyV7JXsleyV7JXsleyV7JXjQ0DU1D09A0NA1NQ9PQNDQN+if+iX/in/gn/pk/dr6bDQ==",
        "encoding": "base64",
        "path": [
         "positions",
         "compressed_buffer"
        ]
       }
      ],
      "model_module": "k3d",
      "model_module_version": "2.6.9",
      "model_name": "ObjectModel",
      "state": {
       "_view_count": null,
       "_view_module": null,
       "_view_module_version": "",
       "_view_name": null,
       "color": 10075135,
       "colors": {
        "dtype": "uint32",
        "shape": [
         0
        ]
       },
       "compression_level": 0,
       "id": 4654141392,
       "mesh_detail": 2,
       "model_matrix": {
        "dtype": "float32",
        "shape": [
         4,
         4
        ]
       },
       "name": null,
       "opacity": 1,
       "point_size": 0.1,
       "positions": {
        "dtype": "float32",
        "shape": [
         80,
         3
        ]
       },
       "shader": "3dSpecular",
       "type": "Points",
       "visible": true
      }
     },
     "0e37998f353b45dc83b292fc06e7b739": {
      "model_module": "k3d",
      "model_module_version": "2.6.9",
      "model_name": "PlotModel",
      "state": {
       "_backend_version": "2.6.9",
       "_dom_classes": [],
       "_view_count": null,
       "antialias": 3,
       "axes": [
        "x",
        "y",
        "z"
       ],
       "background_color": 16777215,
       "camera": [
        10.284874878907916,
        -15.489812315567907,
        1.0059874815950598,
        -0.02499999664723873,
        -0.02500000223517418,
        -0.025000005960464478,
        0,
        0,
        1
       ],
       "camera_auto_fit": true,
       "camera_no_pan": false,
       "camera_no_rotate": false,
       "camera_no_zoom": false,
       "clipping_planes": [],
       "colorbar_object_id": -1,
       "fps_meter": false,
       "grid": [
        -1,
        -1,
        -1,
        1,
        1,
        1
       ],
       "grid_auto_fit": true,
       "grid_visible": true,
       "height": 512,
       "layout": "IPY_MODEL_4873277ce47d47d389c58606ebe522e0",
       "lighting": 1,
       "menu_visibility": true,
       "object_ids": [
        4511714888
       ],
       "rendering_steps": 1,
       "screenshot": "",
       "screenshot_scale": 2,
       "time": 0,
       "voxel_paint_color": 0
      }
     },
     "0e6768dbfb9f4e46aeaf6b1c25096abf": {
      "buffers": [
       {
        "data": "eNq7PcOEwcbnOUPCOnUG/iMfGda69DF8/PCGAQB5NApc",
        "encoding": "base64",
        "path": [
         "color_map",
         "compressed_buffer"
        ]
       },
       {
        "data": "eNpjYDjhxAAHHlA2TMwDSU7BkYFhgQMDCmiwBwCxZAUp",
        "encoding": "base64",
        "path": [
         "model_matrix",
         "compressed_buffer"
        ]
       },
       {
        "data": "eNpjZBwFgwkwjYJBBQAgUgSx",
        "encoding": "base64",
        "path": [
         "voxels",
         "compressed_buffer"
        ]
       }
      ],
      "model_module": "k3d",
      "model_module_version": "2.6.9",
      "model_name": "ObjectModel",
      "state": {
       "_view_count": null,
       "_view_module": null,
       "_view_module_version": "",
       "_view_name": null,
       "color_map": {
        "dtype": "uint32",
        "shape": [
         6
        ]
       },
       "compression_level": 0,
       "id": 4423984720,
       "model_matrix": {
        "dtype": "float32",
        "shape": [
         4,
         4
        ]
       },
       "name": null,
       "opacity": 1,
       "outlines": false,
       "outlines_color": 0,
       "type": "Voxels",
       "visible": true,
       "voxels": {
        "dtype": "uint8",
        "shape": [
         2,
         20,
         20
        ]
       },
       "wireframe": false
      }
     },
     "0eaa4028d0f64032b013e25bd0c2c6da": {
      "model_module": "@jupyter-widgets/base",
      "model_module_version": "1.2.0",
      "model_name": "LayoutModel",
      "state": {}
     },
     "0f6a81fe4d444c73a0a6e496f7757e3b": {
      "buffers": [
       {
        "data": "eNoDAAAAAAE=",
        "encoding": "base64",
        "path": [
         "colors",
         "compressed_buffer"
        ]
       },
       {
        "data": "eNpjYGiwZ8AAxIsBAF7EAv0=",
        "encoding": "base64",
        "path": [
         "model_matrix",
         "compressed_buffer"
        ]
       },
       {
        "data": "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",
        "encoding": "base64",
        "path": [
         "origins",
         "compressed_buffer"
        ]
       },
       {
        "data": "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",
        "encoding": "base64",
        "path": [
         "vectors",
         "compressed_buffer"
        ]
       }
      ],
      "model_module": "k3d",
      "model_module_version": "2.6.9",
      "model_name": "ObjectModel",
      "state": {
       "_view_count": null,
       "_view_module": null,
       "_view_module_version": "",
       "_view_name": null,
       "colors": {
        "dtype": "uint32",
        "shape": [
         0
        ]
       },
       "compression_level": 0,
       "head_color": 255,
       "head_size": 1,
       "id": 4560851280,
       "label_size": 1,
       "labels": [],
       "line_width": 0.01,
       "model_matrix": {
        "dtype": "float32",
        "shape": [
         4,
         4
        ]
       },
       "name": null,
       "origin_color": 255,
       "origins": {
        "dtype": "float32",
        "shape": [
         1008,
         3
        ]
       },
       "type": "Vectors",
       "use_head": true,
       "vectors": {
        "dtype": "float32",
        "shape": [
         1008,
         3
        ]
       },
       "visible": true
      }
     },
     "0f9ff25c2c8e45efaecd480690c91119": {
      "model_module": "@jupyter-widgets/base",
      "model_module_version": "1.2.0",
      "model_name": "LayoutModel",
      "state": {}
     },
     "102f00eb00a446249e238a67d6a49d9b": {
      "buffers": [
       {
        "data": "eNoDAAAAAAE=",
        "encoding": "base64",
        "path": [
         "colors",
         "compressed_buffer"
        ]
       },
       {
        "data": "eNpjYGiwZ8AAxIsBAF7EAv0=",
        "encoding": "base64",
        "path": [
         "model_matrix",
         "compressed_buffer"
        ]
       },
       {
        "data": "eNpN0MENgCAQRFEqm5nSLGUrcVuhFEME/QfDP8CLmTGSMarfb3XQ140W7vjvQs9+3x8zMAMzMAMzME9Pdu/32z8d9Dq/Fu4Yb9GT3fufji/4gi/4gi/4gi/sY+xj7GPsY+xj7GPsY+wDs2AWzIJZMAtm+QEXvmyN",
        "encoding": "base64",
        "path": [
         "positions",
         "compressed_buffer"
        ]
       }
      ],
      "model_module": "k3d",
      "model_module_version": "2.6.9",
      "model_name": "ObjectModel",
      "state": {
       "_view_count": null,
       "_view_module": null,
       "_view_module_version": "",
       "_view_name": null,
       "color": 10075135,
       "colors": {
        "dtype": "uint32",
        "shape": [
         0
        ]
       },
       "compression_level": 0,
       "id": 4525906640,
       "mesh_detail": 2,
       "model_matrix": {
        "dtype": "float32",
        "shape": [
         4,
         4
        ]
       },
       "name": null,
       "opacity": 1,
       "point_size": 0.1,
       "positions": {
        "dtype": "float32",
        "shape": [
         44,
         3
        ]
       },
       "shader": "3dSpecular",
       "type": "Points",
       "visible": true
      }
     },
     "10577fbc5dce4c3f9b3cf5f2eb4505c8": {
      "model_module": "@jupyter-widgets/base",
      "model_module_version": "1.2.0",
      "model_name": "LayoutModel",
      "state": {}
     },
     "108c26d8d4f14165959c915a9c6c884f": {
      "model_module": "@jupyter-widgets/base",
      "model_module_version": "1.2.0",
      "model_name": "LayoutModel",
      "state": {}
     },
     "10ae50d64962454ba45bdf052055a908": {
      "buffers": [
       {
        "data": "eNoDAAAAAAE=",
        "encoding": "base64",
        "path": [
         "colors",
         "compressed_buffer"
        ]
       },
       {
        "data": "eNpjYGiwZ8AAxIsBAF7EAv0=",
        "encoding": "base64",
        "path": [
         "model_matrix",
         "compressed_buffer"
        ]
       },
       {
        "data": "eNpN0VENwzAMBuFAGJQisA1tUIxkK5RAmbIq7ZeXnqL0dNI/xjr9HWN+/zgKfn/g4E0+3PDrvFzrrLvNDRe8/I2/8Tf+2wm/6uHjvLy7oWgoGoqGoqFoKBqKhqKhaNh8yOfl3T2bV8/mhgte35uDN8m/8IRXz+ZDPi/X3RP0BD1BT9AT9AQ9QU/QE/QEPcFeyV7JXsleyV7JXsleyV7JXsleyV7JXjQ0DU1D09A0NA1NQ9PQNDQN+if+iX/in/gn/pk/dr6bDQ==",
        "encoding": "base64",
        "path": [
         "positions",
         "compressed_buffer"
        ]
       }
      ],
      "model_module": "k3d",
      "model_module_version": "2.6.9",
      "model_name": "ObjectModel",
      "state": {
       "_view_count": null,
       "_view_module": null,
       "_view_module_version": "",
       "_view_name": null,
       "color": 10075135,
       "colors": {
        "dtype": "uint32",
        "shape": [
         0
        ]
       },
       "compression_level": 0,
       "id": 4368065104,
       "mesh_detail": 2,
       "model_matrix": {
        "dtype": "float32",
        "shape": [
         4,
         4
        ]
       },
       "name": null,
       "opacity": 1,
       "point_size": 0.1,
       "positions": {
        "dtype": "float32",
        "shape": [
         80,
         3
        ]
       },
       "shader": "3dSpecular",
       "type": "Points",
       "visible": true
      }
     },
     "10d1136bd83949c99fcc980f7ebdffce": {
      "buffers": [
       {
        "data": "eNoDAAAAAAE=",
        "encoding": "base64",
        "path": [
         "colors",
         "compressed_buffer"
        ]
       },
       {
        "data": "eNpjYGiwZ8AAxIsBAF7EAv0=",
        "encoding": "base64",
        "path": [
         "model_matrix",
         "compressed_buffer"
        ]
       },
       {
        "data": "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",
        "encoding": "base64",
        "path": [
         "positions",
         "compressed_buffer"
        ]
       }
      ],
      "model_module": "k3d",
      "model_module_version": "2.6.9",
      "model_name": "ObjectModel",
      "state": {
       "_view_count": null,
       "_view_module": null,
       "_view_module_version": "",
       "_view_name": null,
       "color": 10075135,
       "colors": {
        "dtype": "uint32",
        "shape": [
         0
        ]
       },
       "compression_level": 0,
       "id": 4506419280,
       "mesh_detail": 2,
       "model_matrix": {
        "dtype": "float32",
        "shape": [
         4,
         4
        ]
       },
       "name": null,
       "opacity": 1,
       "point_size": 0.1,
       "positions": {
        "dtype": "float32",
        "shape": [
         1008,
         3
        ]
       },
       "shader": "3dSpecular",
       "type": "Points",
       "visible": true
      }
     },
     "11d9f72b094c4a4c9c5acda4e1b9c224": {
      "buffers": [
       {
        "data": "eNoDAAAAAAE=",
        "encoding": "base64",
        "path": [
         "colors",
         "compressed_buffer"
        ]
       },
       {
        "data": "eNpjYGiwZ8AAxIsBAF7EAv0=",
        "encoding": "base64",
        "path": [
         "model_matrix",
         "compressed_buffer"
        ]
       },
       {
        "data": "eNpN0MERwjAMBVGXkIoklUYpqoRQikthQhC8QyZ7sHc9f616rdXn/V1c8OMJB2fyzw3v874/zsJZOAtn4Sycwxs+5v63Ndxwwdf/x8GZ5C684aPgeet0g27QDbpBN+gG3aAbdGl9dpk9kz2TPZM9kz2TPZM9cTbOxtk4G2fj7HwDDAaMxQ==",
        "encoding": "base64",
        "path": [
         "positions",
         "compressed_buffer"
        ]
       }
      ],
      "model_module": "k3d",
      "model_module_version": "2.6.9",
      "model_name": "ObjectModel",
      "state": {
       "_view_count": null,
       "_view_module": null,
       "_view_module_version": "",
       "_view_name": null,
       "color": 10075135,
       "colors": {
        "dtype": "uint32",
        "shape": [
         0
        ]
       },
       "compression_level": 0,
       "id": 4642852688,
       "mesh_detail": 2,
       "model_matrix": {
        "dtype": "float32",
        "shape": [
         4,
         4
        ]
       },
       "name": null,
       "opacity": 1,
       "point_size": 0.1,
       "positions": {
        "dtype": "float32",
        "shape": [
         48,
         3
        ]
       },
       "shader": "3dSpecular",
       "type": "Points",
       "visible": true
      }
     },
     "129f0aaf490e461d8b6d92410ddebb6d": {
      "buffers": [
       {
        "data": "eNoDAAAAAAE=",
        "encoding": "base64",
        "path": [
         "colors",
         "compressed_buffer"
        ]
       },
       {
        "data": "eNpjYGiwZ8AAxIsBAF7EAv0=",
        "encoding": "base64",
        "path": [
         "model_matrix",
         "compressed_buffer"
        ]
       },
       {
        "data": "eNpN0VENwzAMBuFAGJQisA1tUIxkK5RAmbIq7ZeXnqL0dNI/xjr9HWN+/zgKfn/g4E0+3PDrvFzrrLvNDRe8/I2/8Tf+2wm/6uHjvLy7oWgoGoqGoqFoKBqKhqKhaNh8yOfl3T2bV8/mhgte35uDN8m/8IRXz+ZDPi/X3RP0BD1BT9AT9AQ9QU/QE/QEPcFeyV7JXsleyV7JXsleyV7JXsleyV7JXjQ0DU1D09A0NA1NQ9PQNDQN+if+iX/in/gn/pk/dr6bDQ==",
        "encoding": "base64",
        "path": [
         "positions",
         "compressed_buffer"
        ]
       }
      ],
      "model_module": "k3d",
      "model_module_version": "2.6.9",
      "model_name": "ObjectModel",
      "state": {
       "_view_count": null,
       "_view_module": null,
       "_view_module_version": "",
       "_view_name": null,
       "color": 10075135,
       "colors": {
        "dtype": "uint32",
        "shape": [
         0
        ]
       },
       "compression_level": 0,
       "id": 4734048912,
       "mesh_detail": 2,
       "model_matrix": {
        "dtype": "float32",
        "shape": [
         4,
         4
        ]
       },
       "name": null,
       "opacity": 1,
       "point_size": 0.1,
       "positions": {
        "dtype": "float32",
        "shape": [
         80,
         3
        ]
       },
       "shader": "3dSpecular",
       "type": "Points",
       "visible": true
      }
     },
     "12ba906743734b4c9efb924300043d9d": {
      "model_module": "@jupyter-widgets/output",
      "model_module_version": "1.0.0",
      "model_name": "OutputModel",
      "state": {
       "layout": "IPY_MODEL_08cfd3588d994241be231925945d1829",
       "outputs": [
        {
         "data": {
          "application/vnd.jupyter.widget-view+json": {
           "model_id": "83ec5ffb695a4bbd85f1a21f6ed4ec24",
           "version_major": 2,
           "version_minor": 0
          },
          "text/plain": "Plot(antialias=3, axes=['x', 'y', 'z'], background_color=16777215, camera=[4.5, 4.5, 4.5, 0.0, 0.0, 0.0, 1.0, …"
         },
         "metadata": {},
         "output_type": "display_data"
        }
       ]
      }
     },
     "12d4ef4d3bc24b7da4af60ef6caf6b70": {
      "model_module": "@jupyter-widgets/output",
      "model_module_version": "1.0.0",
      "model_name": "OutputModel",
      "state": {
       "layout": "IPY_MODEL_a5e9a4333eda49c685add9140b70b6a4",
       "outputs": [
        {
         "data": {
          "application/vnd.jupyter.widget-view+json": {
           "model_id": "57bdca8652f2428b91b84a4abfaa3601",
           "version_major": 2,
           "version_minor": 0
          },
          "text/plain": "Plot(antialias=3, axes=['x', 'y', 'z'], background_color=16777215, camera=[4.5, 4.5, 4.5, 0.0, 0.0, 0.0, 1.0, …"
         },
         "metadata": {},
         "output_type": "display_data"
        }
       ]
      }
     },
     "13399caa3627440aa7e07e8c3d58bb1b": {
      "model_module": "@jupyter-widgets/base",
      "model_module_version": "1.2.0",
      "model_name": "LayoutModel",
      "state": {}
     },
     "146c64c33186405885460e24d539ae3d": {
      "buffers": [
       {
        "data": "eNpL5HNnSATiSFZXMA5hdEHBMPFEqLouHzsw7nBzAOM2RycwbrVHxTBxmDqYvr4aDQiu0oTgCi0ILofiMjQME4epg+mDmtO6VBGClyuBcfNKZQhepQLGTatVUTBMHKYOpg9mTtTZHDAOvlgOxr6XG8HY82obCoaJw9TB9Ek9fQXGis9+gLHq878oGCYOUwcAvo58CQ==",
        "encoding": "base64",
        "path": [
         "colors",
         "compressed_buffer"
        ]
       },
       {
        "data": "eNpjYGiwZ8AAxIsBAF7EAv0=",
        "encoding": "base64",
        "path": [
         "model_matrix",
         "compressed_buffer"
        ]
       },
       {
        "data": "eNpNkT1IglEUhhVCECmaKoiIkBDKIPgS4xPv+cxEkzKiaBEqLIlaAwtrCUlosqHJrRD6p3Bz8N5Tfm794iJUCFHiGLhF9HMnz/YO5z0PPG9c+DH6tCks23vC+DaK3uInn86lxPOZB83pDvfaWEr0zjA82DWDzL9dLry8T4C8SWrDGGq/AdntTAexfsEFlAbErDWAh5EN8bNuF982H65ijbcs9AtX0YOFyJxbve4TRZWhvdoMMjeVVaw+7IC8OX1x/v8vgOx+RB1oOjFo8ufd7TiawgbcZyu8Ug5itpYXlaFl7g8HcD4WE1MjUZ6d9OGx8s4nzhd5vuTBV2vCPahHuNfOcGupFWQOXanYVk+CvMllnPio6yC7PTYHHlmMmvypKAp+Zbo1ySJcRriMcBnhMsJlhMsIlxEuI1xGuIz4BOITiE8gPoH4BOITiE8gPiHe2B3I7kB2B7I7kN2B7A5/NdwSYA==",
        "encoding": "base64",
        "path": [
         "origins",
         "compressed_buffer"
        ]
       },
       {
        "data": "eNpNkaFLBGEQxZMgaxA5waDBcMUqnsLBPLWIYcF04IULXjjQP8CLwoFxq1gMBoPBJrZvvmpY/wXzFdmmYPFmFgZf+h7szPvNvlc2UxyMlnPZTHX9aAupv5onvZlefw3kuNPJV6+3rlNom9GY8Z3YfXt8xt7pUi4ma2rfWh+frf66uDvcyPbq/cNYzuvNvPu94zqF9m8x476xa54anh91jaezX71Y2U/z6qW9uRieJLsJfpvfaF5wT/e++byUn/ftbK/rFNp5MeP/E7vmqeFpLA0WcYW4QlwhrhBXiCvEFeIKcYW4QnmC8gTlCcoTlCcoT1CeoDxR/vcO6h3UO6h3UO+g3rEA8LILMA==",
        "encoding": "base64",
        "path": [
         "vectors",
         "compressed_buffer"
        ]
       }
      ],
      "model_module": "k3d",
      "model_module_version": "2.6.9",
      "model_name": "ObjectModel",
      "state": {
       "_view_count": null,
       "_view_module": null,
       "_view_module_version": "",
       "_view_name": null,
       "colors": {
        "dtype": "uint32",
        "shape": [
         48,
         2
        ]
       },
       "compression_level": 0,
       "head_color": 255,
       "head_size": 1,
       "id": 4577334352,
       "label_size": 1,
       "labels": [],
       "line_width": 0.01,
       "model_matrix": {
        "dtype": "float32",
        "shape": [
         4,
         4
        ]
       },
       "name": null,
       "origin_color": 255,
       "origins": {
        "dtype": "float32",
        "shape": [
         48,
         3
        ]
       },
       "type": "Vectors",
       "use_head": true,
       "vectors": {
        "dtype": "float32",
        "shape": [
         48,
         3
        ]
       },
       "visible": true
      }
     },
     "1476fe49914a466793128c298818f8c6": {
      "model_module": "@jupyter-widgets/output",
      "model_module_version": "1.0.0",
      "model_name": "OutputModel",
      "state": {
       "layout": "IPY_MODEL_f767f3481d5b4c1f85d221e6a62ccbb3",
       "outputs": [
        {
         "data": {
          "application/vnd.jupyter.widget-view+json": {
           "model_id": "e548b74dca0c4d2497c0e1e08d52699f",
           "version_major": 2,
           "version_minor": 0
          },
          "text/plain": "Plot(antialias=3, axes=['x', 'y', 'z'], background_color=16777215, camera=[4.5, 4.5, 4.5, 0.0, 0.0, 0.0, 1.0, …"
         },
         "metadata": {},
         "output_type": "display_data"
        }
       ]
      }
     },
     "14e5e67e2c374dada7c37cf352ebc152": {
      "buffers": [
       {
        "data": "eNoDAAAAAAE=",
        "encoding": "base64",
        "path": [
         "colors",
         "compressed_buffer"
        ]
       },
       {
        "data": "eNpjYGiwZ8AAxIsBAF7EAv0=",
        "encoding": "base64",
        "path": [
         "model_matrix",
         "compressed_buffer"
        ]
       },
       {
        "data": "eNpN0VENwzAMBuFAGJQisA1tUIxkK5RAmbIq7ZeXnqL0dNI/xjr9HWN+/zgKfn/g4E0+3PDrvFzrrLvNDRe8/I2/8Tf+2wm/6uHjvLy7oWgoGoqGoqFoKBqKhqKhaNh8yOfl3T2bV8/mhgte35uDN8m/8IRXz+ZDPi/X3RP0BD1BT9AT9AQ9QU/QE/QEPcFeyV7JXsleyV7JXsleyV7JXsleyV7JXjQ0DU1D09A0NA1NQ9PQNDQN+if+iX/in/gn/pk/dr6bDQ==",
        "encoding": "base64",
        "path": [
         "positions",
         "compressed_buffer"
        ]
       }
      ],
      "model_module": "k3d",
      "model_module_version": "2.6.9",
      "model_name": "ObjectModel",
      "state": {
       "_view_count": null,
       "_view_module": null,
       "_view_module_version": "",
       "_view_name": null,
       "color": 10075135,
       "colors": {
        "dtype": "uint32",
        "shape": [
         0
        ]
       },
       "compression_level": 0,
       "id": 4707012112,
       "mesh_detail": 2,
       "model_matrix": {
        "dtype": "float32",
        "shape": [
         4,
         4
        ]
       },
       "name": null,
       "opacity": 1,
       "point_size": 0.1,
       "positions": {
        "dtype": "float32",
        "shape": [
         80,
         3
        ]
       },
       "shader": "3dSpecular",
       "type": "Points",
       "visible": true
      }
     },
     "14f63dcd4fa74823881e75c20e1ead3d": {
      "buffers": [
       {
        "data": "eNoDAAAAAAE=",
        "encoding": "base64",
        "path": [
         "colors",
         "compressed_buffer"
        ]
       },
       {
        "data": "eNpjYGiwZ8AAxIsBAF7EAv0=",
        "encoding": "base64",
        "path": [
         "model_matrix",
         "compressed_buffer"
        ]
       },
       {
        "data": "eNpN0VENwzAMBuFAGJQisA1tUIxkK5RAmbIq7ZeXnqL0dNI/xjr9HWN+/zgKfn/g4E0+3PDrvFzrrLvNDRe8/I2/8Tf+2wm/6uHjvLy7oWgoGoqGoqFoKBqKhqKhaNh8yOfl3T2bV8/mhgte35uDN8m/8IRXz+ZDPi/X3RP0BD1BT9AT9AQ9QU/QE/QEPcFeyV7JXsleyV7JXsleyV7JXsleyV7JXjQ0DU1D09A0NA1NQ9PQNDQN+if+iX/in/gn/pk/dr6bDQ==",
        "encoding": "base64",
        "path": [
         "positions",
         "compressed_buffer"
        ]
       }
      ],
      "model_module": "k3d",
      "model_module_version": "2.6.9",
      "model_name": "ObjectModel",
      "state": {
       "_view_count": null,
       "_view_module": null,
       "_view_module_version": "",
       "_view_name": null,
       "color": 10075135,
       "colors": {
        "dtype": "uint32",
        "shape": [
         0
        ]
       },
       "compression_level": 0,
       "id": 4734567480,
       "mesh_detail": 2,
       "model_matrix": {
        "dtype": "float32",
        "shape": [
         4,
         4
        ]
       },
       "name": null,
       "opacity": 1,
       "point_size": 0.1,
       "positions": {
        "dtype": "float32",
        "shape": [
         80,
         3
        ]
       },
       "shader": "3dSpecular",
       "type": "Points",
       "visible": true
      }
     },
     "15418b611c434eb39d68b9ed5b01321f": {
      "model_module": "k3d",
      "model_module_version": "2.6.9",
      "model_name": "PlotModel",
      "state": {
       "_backend_version": "2.6.9",
       "_dom_classes": [],
       "_view_count": null,
       "antialias": 3,
       "axes": [
        "x",
        "y",
        "z"
       ],
       "background_color": 16777215,
       "camera": [
        7.659127774547247,
        -11.567320619092447,
        0.7711547079395124,
        -0.052419304847717285,
        0,
        0,
        0,
        0,
        1
       ],
       "camera_auto_fit": true,
       "camera_no_pan": false,
       "camera_no_rotate": false,
       "camera_no_zoom": false,
       "clipping_planes": [],
       "colorbar_object_id": -1,
       "fps_meter": false,
       "grid": [
        -1,
        -1,
        -1,
        1,
        1,
        1
       ],
       "grid_auto_fit": true,
       "grid_visible": true,
       "height": 512,
       "layout": "IPY_MODEL_fb16dc8ad6a8456cb09b58953d97702b",
       "lighting": 1,
       "menu_visibility": true,
       "object_ids": [
        4525828496,
        4525917712,
        4526046416,
        4525991504,
        4525972624,
        4525906640
       ],
       "rendering_steps": 1,
       "screenshot": "",
       "screenshot_scale": 2,
       "time": 0,
       "voxel_paint_color": 0
      }
     },
     "170757abd7e148b194ef8af8ad84daab": {
      "buffers": [
       {
        "data": "eNq7PcOEAQAFoAGo",
        "encoding": "base64",
        "path": [
         "color_map",
         "compressed_buffer"
        ]
       },
       {
        "data": "eNpjYFBwZMAABxwwxRqwidkDAFK8AuE=",
        "encoding": "base64",
        "path": [
         "model_matrix",
         "compressed_buffer"
        ]
       },
       {
        "data": "eNrllUEOACEMAjv//7R7XQGj0Vs5TqItWLXqXnxSMlFQ6Jhba2u8l9TQ/vgpMlDo2O5+KauDXNIRLb2ZnkHhDdvPJWYg3mo1aj7m5I3HOsigXAT+fnTz222eG75XTf6jAc5KA/E=",
        "encoding": "base64",
        "path": [
         "voxels",
         "compressed_buffer"
        ]
       }
      ],
      "model_module": "k3d",
      "model_module_version": "2.6.9",
      "model_name": "ObjectModel",
      "state": {
       "_view_count": null,
       "_view_module": null,
       "_view_module_version": "",
       "_view_name": null,
       "color_map": {
        "dtype": "uint32",
        "shape": []
       },
       "compression_level": 0,
       "id": 4649404368,
       "model_matrix": {
        "dtype": "float32",
        "shape": [
         4,
         4
        ]
       },
       "name": null,
       "opacity": 1,
       "outlines": false,
       "outlines_color": 0,
       "type": "Voxels",
       "visible": true,
       "voxels": {
        "dtype": "uint8",
        "shape": [
         8,
         12,
         20
        ]
       },
       "wireframe": false
      }
     },
     "176a62a5a642400b9c59826107c81968": {
      "model_module": "k3d",
      "model_module_version": "2.6.9",
      "model_name": "PlotModel",
      "state": {
       "_backend_version": "2.6.9",
       "_dom_classes": [],
       "_view_count": null,
       "antialias": 3,
       "axes": [
        "x",
        "y",
        "z"
       ],
       "background_color": 16777215,
       "camera": [
        10.284874878907916,
        -15.489812315567907,
        1.0059874815950598,
        -0.02499999664723873,
        -0.02500000223517418,
        -0.025000005960464478,
        0,
        0,
        1
       ],
       "camera_auto_fit": true,
       "camera_no_pan": false,
       "camera_no_rotate": false,
       "camera_no_zoom": false,
       "clipping_planes": [],
       "colorbar_object_id": -1,
       "fps_meter": false,
       "grid": [
        -1,
        -1,
        -1,
        1,
        1,
        1
       ],
       "grid_auto_fit": true,
       "grid_visible": true,
       "height": 512,
       "layout": "IPY_MODEL_efe7f3032356410ab80ee318c492d8af",
       "lighting": 1,
       "menu_visibility": true,
       "object_ids": [
        4654100752
       ],
       "rendering_steps": 1,
       "screenshot": "",
       "screenshot_scale": 2,
       "time": 0,
       "voxel_paint_color": 0
      }
     },
     "17baa966a06743998ca045b26fd79f15": {
      "model_module": "@jupyter-widgets/base",
      "model_module_version": "1.2.0",
      "model_name": "LayoutModel",
      "state": {}
     },
     "17be2fcdb8f1425a9a2f3833dcae82f5": {
      "model_module": "@jupyter-widgets/output",
      "model_module_version": "1.0.0",
      "model_name": "OutputModel",
      "state": {
       "layout": "IPY_MODEL_64f89401cce540b0b78b8296b7ff96f9",
       "outputs": [
        {
         "data": {
          "application/vnd.jupyter.widget-view+json": {
           "model_id": "0e37998f353b45dc83b292fc06e7b739",
           "version_major": 2,
           "version_minor": 0
          },
          "text/plain": "Plot(antialias=3, axes=['x', 'y', 'z'], background_color=16777215, camera=[4.5, 4.5, 4.5, 0.0, 0.0, 0.0, 1.0, …"
         },
         "metadata": {},
         "output_type": "display_data"
        }
       ]
      }
     },
     "183dbcad1cdb4f16afeb3caf0f395b6a": {
      "model_module": "k3d",
      "model_module_version": "2.6.9",
      "model_name": "PlotModel",
      "state": {
       "_backend_version": "2.6.9",
       "_dom_classes": [],
       "_view_count": null,
       "antialias": 3,
       "axes": [
        "x",
        "y",
        "z"
       ],
       "background_color": 16777215,
       "camera": [
        10.284874878907916,
        -15.489812315567907,
        1.0059874815950598,
        -0.02499999664723873,
        -0.02500000223517418,
        -0.025000005960464478,
        0,
        0,
        1
       ],
       "camera_auto_fit": true,
       "camera_no_pan": false,
       "camera_no_rotate": false,
       "camera_no_zoom": false,
       "clipping_planes": [],
       "colorbar_object_id": -1,
       "fps_meter": false,
       "grid": [
        -1,
        -1,
        -1,
        1,
        1,
        1
       ],
       "grid_auto_fit": true,
       "grid_visible": true,
       "height": 512,
       "layout": "IPY_MODEL_5e86bedfa73d4d0d89cce57670f538fc",
       "lighting": 1,
       "menu_visibility": true,
       "object_ids": [
        4521530448
       ],
       "rendering_steps": 1,
       "screenshot": "",
       "screenshot_scale": 2,
       "time": 0,
       "voxel_paint_color": 0
      }
     },
     "1871dcb160734387a323fdeadedba62d": {
      "model_module": "@jupyter-widgets/output",
      "model_module_version": "1.0.0",
      "model_name": "OutputModel",
      "state": {
       "layout": "IPY_MODEL_987a08a8c9754cfda360f81394feef73",
       "outputs": [
        {
         "data": {
          "application/vnd.jupyter.widget-view+json": {
           "model_id": "71868baadd454225a8ca85610acc7dc0",
           "version_major": 2,
           "version_minor": 0
          },
          "text/plain": "Plot(antialias=3, axes=['x', 'y', 'z'], background_color=16777215, camera=[4.5, 4.5, 4.5, 0.0, 0.0, 0.0, 1.0, …"
         },
         "metadata": {},
         "output_type": "display_data"
        }
       ]
      }
     },
     "18796aa8c6aa4f018a995b8573c781fb": {
      "model_module": "k3d",
      "model_module_version": "2.6.9",
      "model_name": "PlotModel",
      "state": {
       "_backend_version": "2.6.9",
       "_dom_classes": [],
       "_view_count": null,
       "antialias": 3,
       "axes": [
        "x",
        "y",
        "z"
       ],
       "background_color": 16777215,
       "camera": [
        5.676886823516348,
        -8.515330235274524,
        0.5676886823516407,
        0,
        0,
        0,
        0,
        0,
        1
       ],
       "camera_auto_fit": true,
       "camera_no_pan": false,
       "camera_no_rotate": false,
       "camera_no_zoom": false,
       "clipping_planes": [],
       "colorbar_object_id": -1,
       "fps_meter": false,
       "grid": [
        -1,
        -1,
        -1,
        1,
        1,
        1
       ],
       "grid_auto_fit": true,
       "grid_visible": true,
       "height": 512,
       "layout": "IPY_MODEL_ba8d09c9b83045c381dc373c50763054",
       "lighting": 1,
       "menu_visibility": true,
       "object_ids": [
        4595821776,
        4596640912
       ],
       "rendering_steps": 1,
       "screenshot": "",
       "screenshot_scale": 2,
       "time": 0,
       "voxel_paint_color": 0
      }
     },
     "18a4c67083404ff18ce6034fb6a441bd": {
      "model_module": "k3d",
      "model_module_version": "2.6.9",
      "model_name": "PlotModel",
      "state": {
       "_backend_version": "2.6.9",
       "_dom_classes": [],
       "_view_count": null,
       "antialias": 3,
       "axes": [
        "x",
        "y",
        "z"
       ],
       "background_color": 16777215,
       "camera": [
        10.284874878907916,
        -15.489812315567907,
        1.0059874815950598,
        -0.02499999664723873,
        -0.02500000223517418,
        -0.025000005960464478,
        0,
        0,
        1
       ],
       "camera_auto_fit": true,
       "camera_no_pan": false,
       "camera_no_rotate": false,
       "camera_no_zoom": false,
       "clipping_planes": [],
       "colorbar_object_id": -1,
       "fps_meter": false,
       "grid": [
        -1,
        -1,
        -1,
        1,
        1,
        1
       ],
       "grid_auto_fit": true,
       "grid_visible": true,
       "height": 512,
       "layout": "IPY_MODEL_b9ee024c29234e3aa51c9f5d35ff728c",
       "lighting": 1,
       "menu_visibility": true,
       "object_ids": [
        4387614224
       ],
       "rendering_steps": 1,
       "screenshot": "",
       "screenshot_scale": 2,
       "time": 0,
       "voxel_paint_color": 0
      }
     },
     "18e30fcc7562437e956c420154af5a8c": {
      "buffers": [
       {
        "data": "eNoDAAAAAAE=",
        "encoding": "base64",
        "path": [
         "colors",
         "compressed_buffer"
        ]
       },
       {
        "data": "eNpjYGiwZ8AAxIsBAF7EAv0=",
        "encoding": "base64",
        "path": [
         "model_matrix",
         "compressed_buffer"
        ]
       },
       {
        "data": "eNpN0MERwjAMBVGXkIoklUYpqoRQikthQhC8QyZ7sHc9f616rdXn/V1c8OMJB2fyzw3v874/zsJZOAtn4Sycwxs+5v63Ndxwwdf/x8GZ5C684aPgeet0g27QDbpBN+gG3aAbdGl9dpk9kz2TPZM9kz2TPZM9cTbOxtk4G2fj7HwDDAaMxQ==",
        "encoding": "base64",
        "path": [
         "positions",
         "compressed_buffer"
        ]
       }
      ],
      "model_module": "k3d",
      "model_module_version": "2.6.9",
      "model_name": "ObjectModel",
      "state": {
       "_view_count": null,
       "_view_module": null,
       "_view_module_version": "",
       "_view_name": null,
       "color": 10075135,
       "colors": {
        "dtype": "uint32",
        "shape": [
         0
        ]
       },
       "compression_level": 0,
       "id": 4717601744,
       "mesh_detail": 2,
       "model_matrix": {
        "dtype": "float32",
        "shape": [
         4,
         4
        ]
       },
       "name": null,
       "opacity": 1,
       "point_size": 0.1,
       "positions": {
        "dtype": "float32",
        "shape": [
         48,
         3
        ]
       },
       "shader": "3dSpecular",
       "type": "Points",
       "visible": true
      }
     },
     "1936d5c2d116498ca7192f6481b5ad70": {
      "buffers": [
       {
        "data": "eNoLvljOEAzEhfucwLh9oTwY9zWog3FvogkYd7g5gLHkoxtgrHz/EBhb35wLxgmnEsC4ZYUSGPdVaoJxd6A1GDeYuIFxibIHGGdJQLDCs29gLPv0IxhLPnkOxjIPL4Cxzc3ZYFy91RCM+3L0wbjR1BWM82Q8wDhZwB2MY7ncwDiKHYJVn/9FwcrPf4MxzF7JJ0/BOBgaDjB/pgi6gzHMnHAWVzAOY3IB4xBGCKa1+bQOH2rHZzCJ6QkAgWfRNQ==",
        "encoding": "base64",
        "path": [
         "colors",
         "compressed_buffer"
        ]
       },
       {
        "data": "eNpjYGiwZ8AAxIsBAF7EAv0=",
        "encoding": "base64",
        "path": [
         "model_matrix",
         "compressed_buffer"
        ]
       },
       {
        "data": "eNpNk09IVHEQxy/JemlpKYJgqQVJimLVCiLxzXct2EIjCQoq7GASlrAIUmGCRAgFRdEindbFbA0vHYI6FPZmHktJoRIVuBczyv6c8lCUaRDNnJrTm8N3Zj7v9/1OJbcYLq/clfqaKVlqGQ3PP85KV/8L6Wr7+vTXuZt8+OGk1U1r13eS1aoJru/fA9NUcotBrKoI650Z38mdSESpK0My8KWWl1c+Ss2GvNzJr2EqlmT62w2p7X4dlp8ckOG6a/L5x8ZwYH6IP229anUQ23eMrFZNQNndMI32UvnUMKxXZ1Ks6h1spu6iYhTP2K5HvVkeTzVE6b4dcubVXj5yIhGtflYnU9ubuLF9QUZnt0lqMM0f2sdk4s1m+Z2Ms1RapdyXlO+xi+Hf1AgPHkpYHaziZrJaNdS8ZRdMo720qVSA9epMmizNwWbqLrp/L56xXcpAx9+nM8YwM31Q/6khko4c5/+0cqk7Eb09epb7T7foOyyIviPPP8jyyNKY6D/zz+eNfOlWm+hu1vcMLxQmeN3LaqsD/ZLVqqHLPfUwjfZSR3UB1qsz9X3mYDN1F528Hc/YLmWg5Gw6YwyOhxwPOR5yPOR4yPGQ4yHHQ46HHA85HnI85PyC8wvOLzi/4PyC8wvOLzi/4PyC8wvOLzi/4HILl1u43MLlFi63cLmFyy1cbuFyC5dbVP7fHdzdwd0d3N3B3R3c3eEfvcjK8g==",
        "encoding": "base64",
        "path": [
         "origins",
         "compressed_buffer"
        ]
       },
       {
        "data": "eNpNkz0vRFEQhqlEIwqNROIrUQilct6SRCOi8AcIEbuFkmyllIhtN7JUdEKoxJlCYgu7G+WqqPgBKxtEY+bmTPIWkzM3dz6ec96ZTqmMRYVUPi/0e3kSZ0Pr0px70K2VLXHb33x2P4VvMRoxnVJZI7d9eYvazbj01ZfUvoua/v+8egLPtVNndlYxenokE4dX+vFVF7e364b7KXyL0YjxnMj1HlHTemn0uttrYHdtWKYqr2n75RHTs/NSe+9X4yvu4rxWq+jrtX/GjtE7SGKndgd+xa33dO9+Ct//RYxzRK7fOWpaL41exqDB0G61MNgdEbNU/WtiY3VBzJK9HfKbJrsn8v2T9UPmSHY3ZNNshZ/5ipj8XkVu1qaoab00ehmDBgPxCPEI8QjxCPEI8YB4QDxCPEI8QjxCPEJ6CekF0gukF0gvkF4gvUB6gfQC6QXSC6SX0NyC5hY0t6C5Bc0taG5BcwuaW9Dcgua2eMe8O6C9A+0daO9AewfaO/wDaMzjfA==",
        "encoding": "base64",
        "path": [
         "vectors",
         "compressed_buffer"
        ]
       }
      ],
      "model_module": "k3d",
      "model_module_version": "2.6.9",
      "model_name": "ObjectModel",
      "state": {
       "_view_count": null,
       "_view_module": null,
       "_view_module_version": "",
       "_view_name": null,
       "colors": {
        "dtype": "uint32",
        "shape": [
         80,
         2
        ]
       },
       "compression_level": 0,
       "head_color": 255,
       "head_size": 1,
       "id": 4560927504,
       "label_size": 1,
       "labels": [],
       "line_width": 0.01,
       "model_matrix": {
        "dtype": "float32",
        "shape": [
         4,
         4
        ]
       },
       "name": null,
       "origin_color": 255,
       "origins": {
        "dtype": "float32",
        "shape": [
         80,
         3
        ]
       },
       "type": "Vectors",
       "use_head": true,
       "vectors": {
        "dtype": "float32",
        "shape": [
         80,
         3
        ]
       },
       "visible": true
      }
     },
     "197b9ed5cead4f8eb78aa45bc23a979c": {
      "model_module": "@jupyter-widgets/output",
      "model_module_version": "1.0.0",
      "model_name": "OutputModel",
      "state": {
       "layout": "IPY_MODEL_7feab77294264f41907f70a0245b9b2f",
       "outputs": [
        {
         "data": {
          "application/vnd.jupyter.widget-view+json": {
           "model_id": "b371947efd7c4ea0b68c85efb3fae4b8",
           "version_major": 2,
           "version_minor": 0
          },
          "text/plain": "Plot(antialias=3, axes=['x', 'y', 'z'], background_color=16777215, camera=[4.5, 4.5, 4.5, 0.0, 0.0, 0.0, 1.0, …"
         },
         "metadata": {},
         "output_type": "display_data"
        }
       ]
      }
     },
     "1a84e16ef96b456086b7645a13c60b8b": {
      "model_module": "@jupyter-widgets/base",
      "model_module_version": "1.2.0",
      "model_name": "LayoutModel",
      "state": {}
     },
     "1aea38309d4240498d664f1e2b10bf07": {
      "model_module": "k3d",
      "model_module_version": "2.6.9",
      "model_name": "PlotModel",
      "state": {
       "_backend_version": "2.6.9",
       "_dom_classes": [],
       "_view_count": null,
       "antialias": 3,
       "axes": [
        "x",
        "y",
        "z"
       ],
       "background_color": 16777215,
       "camera": [
        10.284874878907916,
        -15.489812315567907,
        1.0059874815950598,
        -0.02499999664723873,
        -0.02500000223517418,
        -0.025000005960464478,
        0,
        0,
        1
       ],
       "camera_auto_fit": true,
       "camera_no_pan": false,
       "camera_no_rotate": false,
       "camera_no_zoom": false,
       "clipping_planes": [],
       "colorbar_object_id": -1,
       "fps_meter": false,
       "grid": [
        -1,
        -1,
        -1,
        1,
        1,
        1
       ],
       "grid_auto_fit": true,
       "grid_visible": true,
       "height": 512,
       "layout": "IPY_MODEL_7ebae17da7184c6f9fbee7c1f0a2b6b7",
       "lighting": 1,
       "menu_visibility": true,
       "object_ids": [
        4457192400
       ],
       "rendering_steps": 1,
       "screenshot": "",
       "screenshot_scale": 2,
       "time": 0,
       "voxel_paint_color": 0
      }
     },
     "1c663ad45fc7492dbaaed42b99eddaba": {
      "model_module": "@jupyter-widgets/output",
      "model_module_version": "1.0.0",
      "model_name": "OutputModel",
      "state": {
       "layout": "IPY_MODEL_b29b4b3ff4014decaed3eeaf6f5f64a7",
       "outputs": [
        {
         "data": {
          "application/vnd.jupyter.widget-view+json": {
           "model_id": "f8d3a156dac94ede91c6fb6020e302d4",
           "version_major": 2,
           "version_minor": 0
          },
          "text/plain": "Plot(antialias=3, axes=['x', 'y', 'z'], background_color=16777215, camera=[4.5, 4.5, 4.5, 0.0, 0.0, 0.0, 1.0, …"
         },
         "metadata": {},
         "output_type": "display_data"
        }
       ]
      }
     },
     "1cb6dddf1f0944d4822f1f44244806d3": {
      "model_module": "k3d",
      "model_module_version": "2.6.9",
      "model_name": "PlotModel",
      "state": {
       "_backend_version": "2.6.9",
       "_dom_classes": [],
       "_view_count": null,
       "antialias": 3,
       "axes": [
        "x",
        "y",
        "z"
       ],
       "background_color": 16777215,
       "camera": [
        9.828951377057189,
        -14.743427065585788,
        0.9828951377057292,
        0,
        0,
        0,
        0,
        0,
        1
       ],
       "camera_auto_fit": true,
       "camera_no_pan": false,
       "camera_no_rotate": false,
       "camera_no_zoom": false,
       "clipping_planes": [],
       "colorbar_object_id": -1,
       "fps_meter": false,
       "grid": [
        -1,
        -1,
        -1,
        1,
        1,
        1
       ],
       "grid_auto_fit": true,
       "grid_visible": true,
       "height": 512,
       "layout": "IPY_MODEL_b314bedd6fff42ca929c476bb33cb273",
       "lighting": 1,
       "menu_visibility": true,
       "object_ids": [
        4634986816,
        4634907648
       ],
       "rendering_steps": 1,
       "screenshot": "",
       "screenshot_scale": 2,
       "time": 0,
       "voxel_paint_color": 0
      }
     },
     "1d150efdfb6f49d58a953ba525476d6d": {
      "model_module": "@jupyter-widgets/base",
      "model_module_version": "1.2.0",
      "model_name": "LayoutModel",
      "state": {}
     },
     "1daae8c7a8734b01be571c9f30128713": {
      "buffers": [
       {
        "data": "eNoDAAAAAAE=",
        "encoding": "base64",
        "path": [
         "colors",
         "compressed_buffer"
        ]
       },
       {
        "data": "eNpjYGiwZ8AAxIsBAF7EAv0=",
        "encoding": "base64",
        "path": [
         "model_matrix",
         "compressed_buffer"
        ]
       },
       {
        "data": "eNpN0VENwzAMBuFAGJQisA1tUIxkK5RAmbIq7ZeXnqL0dNI/xjr9HWN+/zgKfn/g4E0+3PDrvFzrrLvNDRe8/I2/8Tf+2wm/6uHjvLy7oWgoGoqGoqFoKBqKhqKhaNh8yOfl3T2bV8/mhgte35uDN8m/8IRXz+ZDPi/X3RP0BD1BT9AT9AQ9QU/QE/QEPcFeyV7JXsleyV7JXsleyV7JXsleyV7JXjQ0DU1D09A0NA1NQ9PQNDQN+if+iX/in/gn/pk/dr6bDQ==",
        "encoding": "base64",
        "path": [
         "positions",
         "compressed_buffer"
        ]
       }
      ],
      "model_module": "k3d",
      "model_module_version": "2.6.9",
      "model_name": "ObjectModel",
      "state": {
       "_view_count": null,
       "_view_module": null,
       "_view_module_version": "",
       "_view_name": null,
       "color": 10075135,
       "colors": {
        "dtype": "uint32",
        "shape": [
         0
        ]
       },
       "compression_level": 0,
       "id": 4634819944,
       "mesh_detail": 2,
       "model_matrix": {
        "dtype": "float32",
        "shape": [
         4,
         4
        ]
       },
       "name": null,
       "opacity": 1,
       "point_size": 0.1,
       "positions": {
        "dtype": "float32",
        "shape": [
         80,
         3
        ]
       },
       "shader": "3dSpecular",
       "type": "Points",
       "visible": true
      }
     },
     "1f1a35b7d7664de4b444567aa3093b1f": {
      "model_module": "@jupyter-widgets/base",
      "model_module_version": "1.2.0",
      "model_name": "LayoutModel",
      "state": {}
     },
     "1fc5b1b2b4ad49d0821840857acc48a4": {
      "model_module": "@jupyter-widgets/output",
      "model_module_version": "1.0.0",
      "model_name": "OutputModel",
      "state": {
       "layout": "IPY_MODEL_9ad8df5c82954d37af7f62fa46c8433c",
       "outputs": [
        {
         "data": {
          "application/vnd.jupyter.widget-view+json": {
           "model_id": "7f688c010bed45dfbd801d2f516d88a5",
           "version_major": 2,
           "version_minor": 0
          },
          "text/plain": "Plot(antialias=3, axes=['x', 'y', 'z'], background_color=16777215, camera=[4.5, 4.5, 4.5, 0.0, 0.0, 0.0, 1.0, …"
         },
         "metadata": {},
         "output_type": "display_data"
        }
       ]
      }
     },
     "200ec2ae408c4b419d4921a010a048cb": {
      "buffers": [
       {
        "data": "eNoDAAAAAAE=",
        "encoding": "base64",
        "path": [
         "colors",
         "compressed_buffer"
        ]
       },
       {
        "data": "eNpjYGiwZ8AAxIsBAF7EAv0=",
        "encoding": "base64",
        "path": [
         "model_matrix",
         "compressed_buffer"
        ]
       },
       {
        "data": "eNpNkj1oU2EUhkkx7W2jYhGEWDoU/GmxShEMovidDGKXxMHJDoI/NSHWdBIqoqI43JBBRTGoNJsSBJdASlVy73usXZq2cRKLbkolVNPUa0KkjaBn8mxnOD/P973PTGITT77fgXJ8HrdtHy+Ov3CqmRL+rLUQffbBSH1jsInRoQRJz8unnZwrLWBy+AHs5x1czaThFe7DafNz6Wg3QpF7KL/18f6Plx0veRej11vYefGLkdpebyA0O07S4xXWsD0xRTKbK/3AyKFfJDtz2QD3N9u5784QgpEulpvrpw9gecTi5WwKWxv7MPXQz0UvgMH8AHZt+Dh1y3KiR/ox3dlCrbZqpM4s1XF8yxWSnlCkhp7z0ySz5fh3HHxcJ9mZn61gyQqG5dbiwmZ+92kv41zS7WkG+FG+na+9ueSmC10sf7Bix92OOYtfx2z0fr3gJn/62UpZKEbPulf72jj7OV28WTnjbnM2cOJU00i9p7eO3xMTJD1echXDT16RzFYzK//e3iDZOdddwdjJYFhuxWLfcGz34bAwKB6jeIziMYrHKB6jeIziMYrHKB6jeIziMYrHqFxI5UIqF1K5kMqFVC6kciGVC6lcSOVCyjdSvpHyjZRvpHwj5Rsp30j5RjP//SflPyn/SflPfwEeEbDk",
        "encoding": "base64",
        "path": [
         "origins",
         "compressed_buffer"
        ]
       },
       {
        "data": "eNpNUiFLhFEQjGI4EDEYxSgKfsLBlZ1iMQoGgyD+AxHkuGIRFMOJh1q8YJBLZ7kkiLxVQUHkDkwGRW3aDBqsvjlYnfB4A293Z/bNFJUS9q5bztO5mrXm3KnzZJwCF5WSR81t+wj5OLaX/LmzDr7n2w8Wx/A4dOHzx1s++rFi5fsbX23UiVPgXONRw57o5byYWX06R2234d+9n5T5+trIn3v68znjpDqD4fIDbx/f37DXtxdvToE4BeZb1JAvemMPzsxcHly9bhd3C5s++DWSztYu0X4/9OnJCf4B4j/yDuAu3ClzgFzkHFjesXrr0/NNnAJTR9Rw/79e+ePM5cGVNXhoED0mekz0mOgx0WOix0SPiR4TPeq5iR4TPSa+mPgC8QXiC8QXiC8QXyC+QHyB+GKSN0jeIHmD5A2SN0jeIHmD5A3Ff/4h+YfkH5J//ALNZLTI",
        "encoding": "base64",
        "path": [
         "vectors",
         "compressed_buffer"
        ]
       }
      ],
      "model_module": "k3d",
      "model_module_version": "2.6.9",
      "model_name": "ObjectModel",
      "state": {
       "_view_count": null,
       "_view_module": null,
       "_view_module_version": "",
       "_view_name": null,
       "colors": {
        "dtype": "uint32",
        "shape": [
         0
        ]
       },
       "compression_level": 0,
       "head_color": 255,
       "head_size": 1,
       "id": 4688574672,
       "label_size": 1,
       "labels": [],
       "line_width": 0.01,
       "model_matrix": {
        "dtype": "float32",
        "shape": [
         4,
         4
        ]
       },
       "name": null,
       "origin_color": 255,
       "origins": {
        "dtype": "float32",
        "shape": [
         68,
         3
        ]
       },
       "type": "Vectors",
       "use_head": true,
       "vectors": {
        "dtype": "float32",
        "shape": [
         68,
         3
        ]
       },
       "visible": true
      }
     },
     "207b8869ea174d8695f341785e73cf18": {
      "model_module": "@jupyter-widgets/output",
      "model_module_version": "1.0.0",
      "model_name": "OutputModel",
      "state": {
       "layout": "IPY_MODEL_93807e41658d401682ef851ecc894f3a",
       "outputs": [
        {
         "data": {
          "application/vnd.jupyter.widget-view+json": {
           "model_id": "c2384471ac89414bab9d3047c613df81",
           "version_major": 2,
           "version_minor": 0
          },
          "text/plain": "Plot(antialias=3, axes=['x', 'y', 'z'], background_color=16777215, camera=[4.5, 4.5, 4.5, 0.0, 0.0, 0.0, 1.0, …"
         },
         "metadata": {},
         "output_type": "display_data"
        }
       ]
      }
     },
     "20bbd26da27c4e11b6a4e0258a0e46df": {
      "model_module": "@jupyter-widgets/base",
      "model_module_version": "1.2.0",
      "model_name": "LayoutModel",
      "state": {}
     },
     "2103f19f9538479d973496a11cbd76ac": {
      "model_module": "@jupyter-widgets/base",
      "model_module_version": "1.2.0",
      "model_name": "LayoutModel",
      "state": {}
     },
     "21b8718a92a9451889171b1665a1e002": {
      "buffers": [
       {
        "data": "eNoDAAAAAAE=",
        "encoding": "base64",
        "path": [
         "colors",
         "compressed_buffer"
        ]
       },
       {
        "data": "eNpjYGiwZ8AAxIsBAF7EAv0=",
        "encoding": "base64",
        "path": [
         "model_matrix",
         "compressed_buffer"
        ]
       },
       {
        "data": "eNo78rj5wMGVVXvvP1TYHxrQeGB21FM7xgogO772gO/aInsQu8Ki4sAmrR32IDVpaW0HWl8L7rflCt/H8LH5gKZ26N7wr6H73oY0Hphk/couPSl0n1pY7YGTsqX2IDaDXMWB5WE77UFqjI2LD9hyfbcH6UUyxw7JHDskc+yQzLFDMscOyRy7Iwj32yO53x7J/fZI7rcHADp2byc=",
        "encoding": "base64",
        "path": [
         "origins",
         "compressed_buffer"
        ]
       },
       {
        "data": "eNpj+1hhlxK6YT/bx4p9i7VW2Pqu3bT/q30NiL0XxgbJwdScPXPGrlpk3X6u64v3AuXsQGpAapPLVtmelN26H0iD2HthbJB+mBqg3n0wvUjm2CKZY4tkji2SObZI5tgimWPLhnC/HZL77ZDcb4fkfjsAvT+BSQ==",
        "encoding": "base64",
        "path": [
         "vectors",
         "compressed_buffer"
        ]
       }
      ],
      "model_module": "k3d",
      "model_module_version": "2.6.9",
      "model_name": "ObjectModel",
      "state": {
       "_view_count": null,
       "_view_module": null,
       "_view_module_version": "",
       "_view_name": null,
       "colors": {
        "dtype": "uint32",
        "shape": [
         0
        ]
       },
       "compression_level": 0,
       "head_color": 255,
       "head_size": 1,
       "id": 4717325968,
       "label_size": 1,
       "labels": [],
       "line_width": 0.01,
       "model_matrix": {
        "dtype": "float32",
        "shape": [
         4,
         4
        ]
       },
       "name": null,
       "origin_color": 255,
       "origins": {
        "dtype": "float32",
        "shape": [
         20,
         3
        ]
       },
       "type": "Vectors",
       "use_head": true,
       "vectors": {
        "dtype": "float32",
        "shape": [
         20,
         3
        ]
       },
       "visible": true
      }
     },
     "21c198dc56c540c9a174fc847c08265b": {
      "buffers": [
       {
        "data": "eNoDAAAAAAE=",
        "encoding": "base64",
        "path": [
         "colors",
         "compressed_buffer"
        ]
       },
       {
        "data": "eNpjYGiwZ8AAxIsBAF7EAv0=",
        "encoding": "base64",
        "path": [
         "model_matrix",
         "compressed_buffer"
        ]
       },
       {
        "data": "eNpNk09IVHEQxy/JemlpKYJgqQVJimLVCiLxzXct2EIjCQoq7GASlrAIUmGCRAgFRdEindbFbA0vHYI6FPZmHktJoRIVuBczyv6c8lCUaRDNnJrTm8N3Zj7v9/1OJbcYLq/clfqaKVlqGQ3PP85KV/8L6Wr7+vTXuZt8+OGk1U1r13eS1aoJru/fA9NUcotBrKoI650Z38mdSESpK0My8KWWl1c+Ss2GvNzJr2EqlmT62w2p7X4dlp8ckOG6a/L5x8ZwYH6IP229anUQ23eMrFZNQNndMI32UvnUMKxXZ1Ks6h1spu6iYhTP2K5HvVkeTzVE6b4dcubVXj5yIhGtflYnU9ubuLF9QUZnt0lqMM0f2sdk4s1m+Z2Ms1RapdyXlO+xi+Hf1AgPHkpYHaziZrJaNdS8ZRdMo720qVSA9epMmizNwWbqLrp/L56xXcpAx9+nM8YwM31Q/6khko4c5/+0cqk7Eb09epb7T7foOyyIviPPP8jyyNKY6D/zz+eNfOlWm+hu1vcMLxQmeN3LaqsD/ZLVqqHLPfUwjfZSR3UB1qsz9X3mYDN1F528Hc/YLmWg5Gw6YwyOhxwPOR5yPOR4yPGQ4yHHQ46HHA85HnI85PyC8wvOLzi/4PyC8wvOLzi/4PyC8wvOLzi/4HILl1u43MLlFi63cLmFyy1cbuFyC5dbVP7fHdzdwd0d3N3B3R3c3eEfvcjK8g==",
        "encoding": "base64",
        "path": [
         "origins",
         "compressed_buffer"
        ]
       },
       {
        "data": "eNpNkz0vRFEQhqlEIwqNROIrUQilct6SRCOi8AcIEbuFkmyllIhtN7JUdEKoxJlCYgu7G+WqqPgBKxtEY+bmTPIWkzM3dz6ec96ZTqmMRYVUPi/0e3kSZ0Pr0px70K2VLXHb33x2P4VvMRoxnVJZI7d9eYvazbj01ZfUvoua/v+8egLPtVNndlYxenokE4dX+vFVF7e364b7KXyL0YjxnMj1HlHTemn0uttrYHdtWKYqr2n75RHTs/NSe+9X4yvu4rxWq+jrtX/GjtE7SGKndgd+xa33dO9+Ct//RYxzRK7fOWpaL41exqDB0G61MNgdEbNU/WtiY3VBzJK9HfKbJrsn8v2T9UPmSHY3ZNNshZ/5ipj8XkVu1qaoab00ehmDBgPxCPEI8QjxCPEI8YB4QDxCPEI8QjxCPEJ6CekF0gukF0gvkF4gvUB6gfQC6QXSC6SX0NyC5hY0t6C5Bc0taG5BcwuaW9Dcgua2eMe8O6C9A+0daO9AewfaO/wDaMzjfA==",
        "encoding": "base64",
        "path": [
         "vectors",
         "compressed_buffer"
        ]
       }
      ],
      "model_module": "k3d",
      "model_module_version": "2.6.9",
      "model_name": "ObjectModel",
      "state": {
       "_view_count": null,
       "_view_module": null,
       "_view_module_version": "",
       "_view_name": null,
       "colors": {
        "dtype": "uint32",
        "shape": [
         0
        ]
       },
       "compression_level": 0,
       "head_color": 255,
       "head_size": 1,
       "id": 4526085968,
       "label_size": 1,
       "labels": [],
       "line_width": 0.01,
       "model_matrix": {
        "dtype": "float32",
        "shape": [
         4,
         4
        ]
       },
       "name": null,
       "origin_color": 255,
       "origins": {
        "dtype": "float32",
        "shape": [
         80,
         3
        ]
       },
       "type": "Vectors",
       "use_head": true,
       "vectors": {
        "dtype": "float32",
        "shape": [
         80,
         3
        ]
       },
       "visible": true
      }
     },
     "21de093c932e4d3ba187f4ee9327bddc": {
      "model_module": "@jupyter-widgets/base",
      "model_module_version": "1.2.0",
      "model_name": "LayoutModel",
      "state": {}
     },
     "2254944b64e94f26aa68d2ea543fd656": {
      "buffers": [
       {
        "data": "eNoDAAAAAAE=",
        "encoding": "base64",
        "path": [
         "colors",
         "compressed_buffer"
        ]
       },
       {
        "data": "eNpjYGiwZ8AAxIsBAF7EAv0=",
        "encoding": "base64",
        "path": [
         "model_matrix",
         "compressed_buffer"
        ]
       },
       {
        "data": "eNpN0MENgCAQRFEqm5nSLGUrcVuhFEME/QfDP8CLmTGSMarfb3XQ140W7vjvQs9+3x8zMAMzMAMzME9Pdu/32z8d9Dq/Fu4Yb9GT3fufji/4gi/4gi/4gi/sY+xj7GPsY+xj7GPsY+wDs2AWzIJZMAtm+QEXvmyN",
        "encoding": "base64",
        "path": [
         "positions",
         "compressed_buffer"
        ]
       }
      ],
      "model_module": "k3d",
      "model_module_version": "2.6.9",
      "model_name": "ObjectModel",
      "state": {
       "_view_count": null,
       "_view_module": null,
       "_view_module_version": "",
       "_view_name": null,
       "color": 10075135,
       "colors": {
        "dtype": "uint32",
        "shape": [
         0
        ]
       },
       "compression_level": 0,
       "id": 4596465040,
       "mesh_detail": 2,
       "model_matrix": {
        "dtype": "float32",
        "shape": [
         4,
         4
        ]
       },
       "name": null,
       "opacity": 1,
       "point_size": 0.1,
       "positions": {
        "dtype": "float32",
        "shape": [
         44,
         3
        ]
       },
       "shader": "3dSpecular",
       "type": "Points",
       "visible": true
      }
     },
     "22a89599c2b74d85bd3b279764326262": {
      "model_module": "@jupyter-widgets/output",
      "model_module_version": "1.0.0",
      "model_name": "OutputModel",
      "state": {
       "layout": "IPY_MODEL_cf67a5ac6c514389843698c91009234c",
       "outputs": [
        {
         "data": {
          "application/vnd.jupyter.widget-view+json": {
           "model_id": "9ca0795b14144b56867f17697662074c",
           "version_major": 2,
           "version_minor": 0
          },
          "text/plain": "Plot(antialias=3, axes=['x', 'y', 'z'], background_color=16777215, camera=[4.5, 4.5, 4.5, 0.0, 0.0, 0.0, 1.0, …"
         },
         "metadata": {},
         "output_type": "display_data"
        }
       ]
      }
     },
     "22b8d19a9cb94685b6caf37a67f54221": {
      "model_module": "k3d",
      "model_module_version": "2.6.9",
      "model_name": "PlotModel",
      "state": {
       "_backend_version": "2.6.9",
       "_dom_classes": [],
       "_view_count": null,
       "antialias": 3,
       "axes": [
        "x",
        "y",
        "z"
       ],
       "background_color": 16777215,
       "camera": [
        7.659127774547247,
        -11.567320619092447,
        0.7711547079395124,
        -0.052419304847717285,
        0,
        0,
        0,
        0,
        1
       ],
       "camera_auto_fit": true,
       "camera_no_pan": false,
       "camera_no_rotate": false,
       "camera_no_zoom": false,
       "clipping_planes": [],
       "colorbar_object_id": -1,
       "fps_meter": false,
       "grid": [
        -1,
        -1,
        -1,
        1,
        1,
        1
       ],
       "grid_auto_fit": true,
       "grid_visible": true,
       "height": 512,
       "layout": "IPY_MODEL_0de39acdc9244bacb9cd66c6337a0054",
       "lighting": 1,
       "menu_visibility": true,
       "object_ids": [
        4506734992,
        4506457360,
        4369019600,
        4506641616,
        4506742736,
        4506642640
       ],
       "rendering_steps": 1,
       "screenshot": "",
       "screenshot_scale": 2,
       "time": 0,
       "voxel_paint_color": 0
      }
     },
     "23045f54660c42e2a1ac1278d86165a7": {
      "model_module": "@jupyter-widgets/output",
      "model_module_version": "1.0.0",
      "model_name": "OutputModel",
      "state": {
       "layout": "IPY_MODEL_e30c17d7540d45d191e4b8a27914302c",
       "outputs": [
        {
         "data": {
          "application/vnd.jupyter.widget-view+json": {
           "model_id": "ca541067696d454a90af1753a0006744",
           "version_major": 2,
           "version_minor": 0
          },
          "text/plain": "Plot(antialias=3, axes=['x', 'y', 'z'], background_color=16777215, camera=[4.5, 4.5, 4.5, 0.0, 0.0, 0.0, 1.0, …"
         },
         "metadata": {},
         "output_type": "display_data"
        }
       ]
      }
     },
     "234a5e166abb43889b7b3823b2742695": {
      "buffers": [
       {
        "data": "eNoDAAAAAAE=",
        "encoding": "base64",
        "path": [
         "colors",
         "compressed_buffer"
        ]
       },
       {
        "data": "eNpjYGiwZ8AAxIsBAF7EAv0=",
        "encoding": "base64",
        "path": [
         "model_matrix",
         "compressed_buffer"
        ]
       },
       {
        "data": "eNpNjtsNACAIA5msZTRGcRJZzfhA+mG8hPZSs3Azz/s2xxRGs7N55M1Vt/j8s7s/w+ahnC9XHogH4oF4IB7pnlvtp+yn7OcCYAMzRQ==",
        "encoding": "base64",
        "path": [
         "positions",
         "compressed_buffer"
        ]
       }
      ],
      "model_module": "k3d",
      "model_module_version": "2.6.9",
      "model_name": "ObjectModel",
      "state": {
       "_view_count": null,
       "_view_module": null,
       "_view_module_version": "",
       "_view_name": null,
       "color": 10075135,
       "colors": {
        "dtype": "uint32",
        "shape": [
         0
        ]
       },
       "compression_level": 0,
       "id": 4715959760,
       "mesh_detail": 2,
       "model_matrix": {
        "dtype": "float32",
        "shape": [
         4,
         4
        ]
       },
       "name": null,
       "opacity": 1,
       "point_size": 0.1,
       "positions": {
        "dtype": "float32",
        "shape": [
         20,
         3
        ]
       },
       "shader": "3dSpecular",
       "type": "Points",
       "visible": true
      }
     },
     "242438ff9f964e69b4b16b67b52d05fe": {
      "model_module": "@jupyter-widgets/base",
      "model_module_version": "1.2.0",
      "model_name": "LayoutModel",
      "state": {}
     },
     "245d21e61cf94efcb6109d20eb381a79": {
      "model_module": "@jupyter-widgets/base",
      "model_module_version": "1.2.0",
      "model_name": "LayoutModel",
      "state": {}
     },
     "2578cd6ea0f0487aa80fd411c8af5d95": {
      "model_module": "@jupyter-widgets/base",
      "model_module_version": "1.2.0",
      "model_name": "LayoutModel",
      "state": {}
     },
     "2582ecb8dc774e9b973b3d1d213f2568": {
      "buffers": [
       {
        "data": "eNoDAAAAAAE=",
        "encoding": "base64",
        "path": [
         "colors",
         "compressed_buffer"
        ]
       },
       {
        "data": "eNpjYGiwZ8AAxIsBAF7EAv0=",
        "encoding": "base64",
        "path": [
         "model_matrix",
         "compressed_buffer"
        ]
       },
       {
        "data": "eNpN0VENwzAMBuFAGJQisA1tUIxkK5RAmbIq7ZeXnqL0dNI/xjr9HWN+/zgKfn/g4E0+3PDrvFzrrLvNDRe8/I2/8Tf+2wm/6uHjvLy7oWgoGoqGoqFoKBqKhqKhaNh8yOfl3T2bV8/mhgte35uDN8m/8IRXz+ZDPi/X3RP0BD1BT9AT9AQ9QU/QE/QEPcFeyV7JXsleyV7JXsleyV7JXsleyV7JXjQ0DU1D09A0NA1NQ9PQNDQN+if+iX/in/gn/pk/dr6bDQ==",
        "encoding": "base64",
        "path": [
         "positions",
         "compressed_buffer"
        ]
       }
      ],
      "model_module": "k3d",
      "model_module_version": "2.6.9",
      "model_name": "ObjectModel",
      "state": {
       "_view_count": null,
       "_view_module": null,
       "_view_module_version": "",
       "_view_name": null,
       "color": 10075135,
       "colors": {
        "dtype": "uint32",
        "shape": [
         0
        ]
       },
       "compression_level": 0,
       "id": 4457997072,
       "mesh_detail": 2,
       "model_matrix": {
        "dtype": "float32",
        "shape": [
         4,
         4
        ]
       },
       "name": null,
       "opacity": 1,
       "point_size": 0.1,
       "positions": {
        "dtype": "float32",
        "shape": [
         80,
         3
        ]
       },
       "shader": "3dSpecular",
       "type": "Points",
       "visible": true
      }
     },
     "25e10c34216a43988064fcfa0549a5b9": {
      "buffers": [
       {
        "data": "eNpVzrFLAnEcBXADZ2ktQY/iCANR8ZasocHOG4ULXASV20Shm+RoOCHF5LC/QCW3RhdbWwWn2nKKMA78F0RI3u/ewW/4LI/3fXxtxYjYB41YCe6PihLmdtDzzAI867fg5nVoxw2oRO8kzNnjHXde7LTQzMKoroFXvoGupoN1XJIwZ4933Al3+6rwFOheCE5KaGWAfxHzsMc77gS7w3FCmCZhMBN6b2fwuMiB+dmRMGePd9zhrju/BOddg4ePItRWFlx/T+Bk40uYs8c77nDXWlaBf12tXyH++wXn/k7CnD3ecUf5WcLp3xZUfy9hzt4/1oTPOQ==",
        "encoding": "base64",
        "path": [
         "colors",
         "compressed_buffer"
        ]
       },
       {
        "data": "eNpjYGiwZ8AAxIsBAF7EAv0=",
        "encoding": "base64",
        "path": [
         "model_matrix",
         "compressed_buffer"
        ]
       },
       {
        "data": "eNpNk09IVHEQxy/JemlpKYJgqQVJimLVCiLxzXct2EIjCQoq7GASlrAIUmGCRAgFRdEindbFbA0vHYI6FPZmHktJoRIVuBczyv6c8lCUaRDNnJrTm8N3Zj7v9/1OJbcYLq/clfqaKVlqGQ3PP85KV/8L6Wr7+vTXuZt8+OGk1U1r13eS1aoJru/fA9NUcotBrKoI650Z38mdSESpK0My8KWWl1c+Ss2GvNzJr2EqlmT62w2p7X4dlp8ckOG6a/L5x8ZwYH6IP229anUQ23eMrFZNQNndMI32UvnUMKxXZ1Ks6h1spu6iYhTP2K5HvVkeTzVE6b4dcubVXj5yIhGtflYnU9ubuLF9QUZnt0lqMM0f2sdk4s1m+Z2Ms1RapdyXlO+xi+Hf1AgPHkpYHaziZrJaNdS8ZRdMo720qVSA9epMmizNwWbqLrp/L56xXcpAx9+nM8YwM31Q/6khko4c5/+0cqk7Eb09epb7T7foOyyIviPPP8jyyNKY6D/zz+eNfOlWm+hu1vcMLxQmeN3LaqsD/ZLVqqHLPfUwjfZSR3UB1qsz9X3mYDN1F528Hc/YLmWg5Gw6YwyOhxwPOR5yPOR4yPGQ4yHHQ46HHA85HnI85PyC8wvOLzi/4PyC8wvOLzi/4PyC8wvOLzi/4HILl1u43MLlFi63cLmFyy1cbuFyC5dbVP7fHdzdwd0d3N3B3R3c3eEfvcjK8g==",
        "encoding": "base64",
        "path": [
         "origins",
         "compressed_buffer"
        ]
       },
       {
        "data": "eNpNkz0vRFEQhqlEIwqNROIrUQilct6SRCOi8AcIEbuFkmyllIhtN7JUdEKoxJlCYgu7G+WqqPgBKxtEY+bmTPIWkzM3dz6ec96ZTqmMRYVUPi/0e3kSZ0Pr0px70K2VLXHb33x2P4VvMRoxnVJZI7d9eYvazbj01ZfUvoua/v+8egLPtVNndlYxenokE4dX+vFVF7e364b7KXyL0YjxnMj1HlHTemn0uttrYHdtWKYqr2n75RHTs/NSe+9X4yvu4rxWq+jrtX/GjtE7SGKndgd+xa33dO9+Ct//RYxzRK7fOWpaL41exqDB0G61MNgdEbNU/WtiY3VBzJK9HfKbJrsn8v2T9UPmSHY3ZNNshZ/5ipj8XkVu1qaoab00ehmDBgPxCPEI8QjxCPEI8YB4QDxCPEI8QjxCPEJ6CekF0gukF0gvkF4gvUB6gfQC6QXSC6SX0NyC5hY0t6C5Bc0taG5BcwuaW9Dcgua2eMe8O6C9A+0daO9AewfaO/wDaMzjfA==",
        "encoding": "base64",
        "path": [
         "vectors",
         "compressed_buffer"
        ]
       }
      ],
      "model_module": "k3d",
      "model_module_version": "2.6.9",
      "model_name": "ObjectModel",
      "state": {
       "_view_count": null,
       "_view_module": null,
       "_view_module_version": "",
       "_view_name": null,
       "colors": {
        "dtype": "uint32",
        "shape": [
         80,
         2
        ]
       },
       "compression_level": 0,
       "head_color": 255,
       "head_size": 1,
       "id": 4717601872,
       "label_size": 1,
       "labels": [],
       "line_width": 0.01,
       "model_matrix": {
        "dtype": "float32",
        "shape": [
         4,
         4
        ]
       },
       "name": null,
       "origin_color": 255,
       "origins": {
        "dtype": "float32",
        "shape": [
         80,
         3
        ]
       },
       "type": "Vectors",
       "use_head": true,
       "vectors": {
        "dtype": "float32",
        "shape": [
         80,
         3
        ]
       },
       "visible": true
      }
     },
     "2631a1854c9449f89ed9bc03d1e7790f": {
      "model_module": "@jupyter-widgets/base",
      "model_module_version": "1.2.0",
      "model_name": "LayoutModel",
      "state": {}
     },
     "26866c6de5ea478cb36995e34ee79597": {
      "model_module": "@jupyter-widgets/base",
      "model_module_version": "1.2.0",
      "model_name": "LayoutModel",
      "state": {}
     },
     "26a9dfee9aef43899f194267f19ef48f": {
      "model_module": "@jupyter-widgets/output",
      "model_module_version": "1.0.0",
      "model_name": "OutputModel",
      "state": {
       "layout": "IPY_MODEL_9c4359759dae411bbe41ea0c3f92ada0",
       "outputs": [
        {
         "data": {
          "application/vnd.jupyter.widget-view+json": {
           "model_id": "b7d5316568374b8ba31ae6b71674590f",
           "version_major": 2,
           "version_minor": 0
          },
          "text/plain": "Plot(antialias=3, axes=['x', 'y', 'z'], background_color=16777215, camera=[4.5, 4.5, 4.5, 0.0, 0.0, 0.0, 1.0, …"
         },
         "metadata": {},
         "output_type": "display_data"
        }
       ]
      }
     },
     "270fd51c0d54491d956babbc35d4ef9e": {
      "model_module": "@jupyter-widgets/base",
      "model_module_version": "1.2.0",
      "model_name": "LayoutModel",
      "state": {}
     },
     "286112b7ff0646ccbe8bf4f0bb39c2a7": {
      "model_module": "@jupyter-widgets/base",
      "model_module_version": "1.2.0",
      "model_name": "LayoutModel",
      "state": {}
     },
     "286c75ae944d496185c128d22bb6ccd4": {
      "model_module": "@jupyter-widgets/base",
      "model_module_version": "1.2.0",
      "model_name": "LayoutModel",
      "state": {}
     },
     "28b26cef8f9b4a448172ce7ff3bcf10d": {
      "buffers": [
       {
        "data": "eNpLWKfOAAAD3AE2",
        "encoding": "base64",
        "path": [
         "color_map",
         "compressed_buffer"
        ]
       },
       {
        "data": "eNpjYFBwZMAABxwwxRqwidkDAFK8AuE=",
        "encoding": "base64",
        "path": [
         "model_matrix",
         "compressed_buffer"
        ]
       },
       {
        "data": "eNrllUEOACEMAjv//7R7XQGj0Vs5TqItWLXqXnxSMlFQ6Jhba2u8l9TQ/vgpMlDo2O5+KauDXNIRLb2ZnkHhDdvPJWYg3mo1aj7m5I3HOsigXAT+fnTz222eG75XTf6jAc5KA/E=",
        "encoding": "base64",
        "path": [
         "voxels",
         "compressed_buffer"
        ]
       }
      ],
      "model_module": "k3d",
      "model_module_version": "2.6.9",
      "model_name": "ObjectModel",
      "state": {
       "_view_count": null,
       "_view_module": null,
       "_view_module_version": "",
       "_view_name": null,
       "color_map": {
        "dtype": "uint32",
        "shape": []
       },
       "compression_level": 0,
       "id": 4457956816,
       "model_matrix": {
        "dtype": "float32",
        "shape": [
         4,
         4
        ]
       },
       "name": null,
       "opacity": 1,
       "outlines": false,
       "outlines_color": 0,
       "type": "Voxels",
       "visible": true,
       "voxels": {
        "dtype": "uint8",
        "shape": [
         8,
         12,
         20
        ]
       },
       "wireframe": false
      }
     },
     "28fcbb8e33614deabe71f93d0546aece": {
      "model_module": "@jupyter-widgets/base",
      "model_module_version": "1.2.0",
      "model_name": "LayoutModel",
      "state": {}
     },
     "2940dddb0e974eeb815afbf76e2ac3e2": {
      "buffers": [
       {
        "data": "eNoDAAAAAAE=",
        "encoding": "base64",
        "path": [
         "colors",
         "compressed_buffer"
        ]
       },
       {
        "data": "eNpjYGiwZ8AAxIsBAF7EAv0=",
        "encoding": "base64",
        "path": [
         "model_matrix",
         "compressed_buffer"
        ]
       },
       {
        "data": "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",
        "encoding": "base64",
        "path": [
         "positions",
         "compressed_buffer"
        ]
       }
      ],
      "model_module": "k3d",
      "model_module_version": "2.6.9",
      "model_name": "ObjectModel",
      "state": {
       "_view_count": null,
       "_view_module": null,
       "_view_module_version": "",
       "_view_name": null,
       "color": 10075135,
       "colors": {
        "dtype": "uint32",
        "shape": [
         0
        ]
       },
       "compression_level": 0,
       "id": 4734437920,
       "mesh_detail": 2,
       "model_matrix": {
        "dtype": "float32",
        "shape": [
         4,
         4
        ]
       },
       "name": null,
       "opacity": 1,
       "point_size": 0.1,
       "positions": {
        "dtype": "float32",
        "shape": [
         1008,
         3
        ]
       },
       "shader": "3dSpecular",
       "type": "Points",
       "visible": true
      }
     },
     "299c2e624b524584aa2ec0aa8dabfba9": {
      "buffers": [
       {
        "data": "eNot0vlP1gUcwPF3rVar1Wq14vR5Hh4eBOSSQy45fZ7v96spoRIiIqJAHCKH3Pf9cD7fLLMss8yyzLLM0sy01KJIo1BDEQUEfWBrba2ttbbW1sfVD6//4JV2l5X0u62su8fG+nttZN6nkHW/wsYHFLIfVMh5SGXzwyq5j6jkPaqS/5hKweMahU9oFD2pUeyiUeKmsc1do9RDo8xTo9ygUWHUqDRpVJk1qr01aiwatT4adb4a9X4aDf4qDQEqjYEqTUEqzcEqLSEKLaEKrWEKbeEK7RE22iNtdETZ6Iy20hljpStWxC2jO14kJGNPFEnJ9CQn0WNNoteWSK8i1AT6NLE8nr4V8fSvFKvi6E8RTy9lIFWsjmVgjVgbw2CaeCaawXSREcXgepEZiWODyFqCY6PIjsCxSeSE49gstoThyA1DzwtFzxfPLkYvEIWiKAS9WGwNRi8R24LQS0WZKA9Er7gjAH27qBRVi9CrRY0/eq2oE/V+6A2iUTT5ojeLloXoraJNtPugd/yv04LeJbqF3Ru9R/Sa0fvMOPrFgBeOQeEQugnHc2KHicHnxQvG/+wULxoY2CVeEi+L3Qb6XxGvij0L6HtN7BWvG+h9Q+wTbxrouWO/AftbRuxvG+k+YKL7HfGuF10Hveh8z0znIW863rfQ8YGF9sM+YiFtH/rS+pEfrUf8afk4gOajgTR9EkTTp8E0HltMw/FQ6o+HU/9ZBHUnIqn9PIqakzFUfxFL1ak4Kk8lsP10IhVfJlP+lZWyMwqlZ+Xj2RWUnFvJ1q9TKP4mlaKhNRQOpVHwbTr532WQN5xJ7nAWW77PJud8Dpsu5JJ9IZ+sHwrYMFJE5kgJGT+Wsu6nctJHK0kbrWbtxVpWX2wg9VITKZdbWXW5nad+7mL5mB1trA/lygC2KzrLru4g6epOEsd3ET++m6XX9hB7bS/RE/uInNjPkusHCL9+kNAbhwi5cZjgySMETh5l0dQx/KZO4Dt1Ep/p01imz2CePofp5hDGm8MYZs7jOTOCx8wo7rOXcJsdw3V2HNdbE7jcmhTTuNyexfW2U8zj5vwFd+eveDh/w9P5Owvm/sA49yemub8wz/+NZf4f/gXLh0p6",
        "encoding": "base64",
        "path": [
         "color_map",
         "compressed_buffer"
        ]
       },
       {
        "data": "eNpjYFBwZMAABxwwxRqwidkDAFK8AuE=",
        "encoding": "base64",
        "path": [
         "model_matrix",
         "compressed_buffer"
        ]
       },
       {
        "data": "eNrl1c9LKlEUB/BJGFzoxtCFBLMcpoUIEUMYYVRCFBkWiZIUYTEwhGL+aPwLnBxNlBgYSqIwFKMkowisSCKJIQJxkcxyIFwoudGFCPZ8iphv9eDxVt7d/XA553zhci8A/PvKsGymV87iiWQyET/7QZQ/EAyFggE/1TWn3Wa1WKw2u/PHwVW9TqvV6Vd7K6pQVAX851Usl4s98Jrl+EKB57KvHTm/unticxyXY5/urs7bdngciSdT6XQqGY8cH7aI3KN8gRDNMHQo4KP2yN9G7DodNguOYbjF5nDuEq2DWxsmvVajVmu0etPGVrveyuLsJKqAYQU6Obu40uk8poQhuRyClWM9I8okEtlfhavXe/d5vlip1SpFPt+R1PPbB/9VrX7xH2/PqRbFLq7vMzm+VOJzmfvri1iTaOboJJpIsfk8m0pET44YGgA8pJfyB+lwNBqmg37KS3oAwE24nHYrbjYazbjV7nQRbgDAsc11o06DIgiq0RnXNzG8WdCwvDCjUkBSKaRQzSwsG1qNNROjw9CgSDQIDY9OaDoTIpBMLBSKZRDSmwUE/whbqtS/v+uVUley3Ge51mjUyp9cti23Dy/vXKHaaFQL3PvLw22TIrHLm0eWK9XrJY59vLmMRYADmgmfxpLpfKWSTydjp2GGPvCQpNe3H2KiLBtlQvs+L0l63AThcuxYMCOKGjHLjsNFEO5tHDOvGbRqRCxG1FrDmhnDtwGTYWl+CoWlICiF0an5JYOp2XhuenwElosEApEcHhmfnmtPqISHJEKBQCgZgpXdJFIxODAAiqX9nLff7nMfvld98h/9AlMm+BA=",
        "encoding": "base64",
        "path": [
         "voxels",
         "compressed_buffer"
        ]
       }
      ],
      "model_module": "k3d",
      "model_module_version": "2.6.9",
      "model_name": "ObjectModel",
      "state": {
       "_view_count": null,
       "_view_module": null,
       "_view_module_version": "",
       "_view_name": null,
       "color_map": {
        "dtype": "uint32",
        "shape": [
         256
        ]
       },
       "compression_level": 0,
       "id": 4596246800,
       "model_matrix": {
        "dtype": "float32",
        "shape": [
         4,
         4
        ]
       },
       "name": null,
       "opacity": 1,
       "outlines": false,
       "outlines_color": 0,
       "type": "Voxels",
       "visible": true,
       "voxels": {
        "dtype": "uint8",
        "shape": [
         8,
         12,
         20
        ]
       },
       "wireframe": false
      }
     },
     "2a1a24b2bb214535b2027de52adddf9c": {
      "model_module": "@jupyter-widgets/base",
      "model_module_version": "1.2.0",
      "model_name": "LayoutModel",
      "state": {}
     },
     "2a5decccde2b47bfbcf2c2c5623cd954": {
      "model_module": "@jupyter-widgets/base",
      "model_module_version": "1.2.0",
      "model_name": "LayoutModel",
      "state": {}
     },
     "2ae73d3c939c4289aae6644c61a361f8": {
      "model_module": "@jupyter-widgets/output",
      "model_module_version": "1.0.0",
      "model_name": "OutputModel",
      "state": {
       "layout": "IPY_MODEL_e737d3efbb1749cdaaf7eb4c61c9d0c5",
       "outputs": [
        {
         "data": {
          "application/vnd.jupyter.widget-view+json": {
           "model_id": "b630f1fb3a1d4f86b70cdb039b327339",
           "version_major": 2,
           "version_minor": 0
          },
          "text/plain": "Plot(antialias=3, axes=['x', 'y', 'z'], background_color=16777215, camera=[4.5, 4.5, 4.5, 0.0, 0.0, 0.0, 1.0, …"
         },
         "metadata": {},
         "output_type": "display_data"
        }
       ]
      }
     },
     "2b299ad153de4328976b80448800f45e": {
      "model_module": "@jupyter-widgets/output",
      "model_module_version": "1.0.0",
      "model_name": "OutputModel",
      "state": {
       "layout": "IPY_MODEL_df0da79849b94a5697cebf09d708360e",
       "outputs": [
        {
         "data": {
          "application/vnd.jupyter.widget-view+json": {
           "model_id": "57fc8722dafe421c842e3eace303cb96",
           "version_major": 2,
           "version_minor": 0
          },
          "text/plain": "Plot(antialias=3, axes=['x', 'y', 'z'], background_color=16777215, camera=[4.5, 4.5, 4.5, 0.0, 0.0, 0.0, 1.0, …"
         },
         "metadata": {},
         "output_type": "display_data"
        }
       ]
      }
     },
     "2b33992f5a574b3a9ba3202f2bcfee97": {
      "buffers": [
       {
        "data": "eNoLvljOEAzEhfucwLh9oTwY9zWog3FvogkYd7g5gLHkoxtgrHz/EBhb35wLxgmnEsC4ZYUSGPdVaoJxd6A1GDeYuIFxibIHGGdJQLDCs29gLPv0IxhLPnkOxjIPL4Cxzc3ZYFy91RCM+3L0wbjR1BWM82Q8wDhZwB2MY7ncwDiKHYJVn/9FwcrPf4MxzF7JJ0/BOBgaDjB/pgi6gzHMnHAWVzAOY3IB4xBGCKa1+bQOH2rHZzCJ6QkAgWfRNQ==",
        "encoding": "base64",
        "path": [
         "colors",
         "compressed_buffer"
        ]
       },
       {
        "data": "eNpjYGiwZ8AAxIsBAF7EAv0=",
        "encoding": "base64",
        "path": [
         "model_matrix",
         "compressed_buffer"
        ]
       },
       {
        "data": "eNpNk09IVHEQxy/JemlpKYJgqQVJimLVCiLxzXct2EIjCQoq7GASlrAIUmGCRAgFRdEindbFbA0vHYI6FPZmHktJoRIVuBczyv6c8lCUaRDNnJrTm8N3Zj7v9/1OJbcYLq/clfqaKVlqGQ3PP85KV/8L6Wr7+vTXuZt8+OGk1U1r13eS1aoJru/fA9NUcotBrKoI650Z38mdSESpK0My8KWWl1c+Ss2GvNzJr2EqlmT62w2p7X4dlp8ckOG6a/L5x8ZwYH6IP229anUQ23eMrFZNQNndMI32UvnUMKxXZ1Ks6h1spu6iYhTP2K5HvVkeTzVE6b4dcubVXj5yIhGtflYnU9ubuLF9QUZnt0lqMM0f2sdk4s1m+Z2Ms1RapdyXlO+xi+Hf1AgPHkpYHaziZrJaNdS8ZRdMo720qVSA9epMmizNwWbqLrp/L56xXcpAx9+nM8YwM31Q/6khko4c5/+0cqk7Eb09epb7T7foOyyIviPPP8jyyNKY6D/zz+eNfOlWm+hu1vcMLxQmeN3LaqsD/ZLVqqHLPfUwjfZSR3UB1qsz9X3mYDN1F528Hc/YLmWg5Gw6YwyOhxwPOR5yPOR4yPGQ4yHHQ46HHA85HnI85PyC8wvOLzi/4PyC8wvOLzi/4PyC8wvOLzi/4HILl1u43MLlFi63cLmFyy1cbuFyC5dbVP7fHdzdwd0d3N3B3R3c3eEfvcjK8g==",
        "encoding": "base64",
        "path": [
         "origins",
         "compressed_buffer"
        ]
       },
       {
        "data": "eNpNkz0vRFEQhqlEIwqNROIrUQilct6SRCOi8AcIEbuFkmyllIhtN7JUdEKoxJlCYgu7G+WqqPgBKxtEY+bmTPIWkzM3dz6ec96ZTqmMRYVUPi/0e3kSZ0Pr0px70K2VLXHb33x2P4VvMRoxnVJZI7d9eYvazbj01ZfUvoua/v+8egLPtVNndlYxenokE4dX+vFVF7e364b7KXyL0YjxnMj1HlHTemn0uttrYHdtWKYqr2n75RHTs/NSe+9X4yvu4rxWq+jrtX/GjtE7SGKndgd+xa33dO9+Ct//RYxzRK7fOWpaL41exqDB0G61MNgdEbNU/WtiY3VBzJK9HfKbJrsn8v2T9UPmSHY3ZNNshZ/5ipj8XkVu1qaoab00ehmDBgPxCPEI8QjxCPEI8YB4QDxCPEI8QjxCPEJ6CekF0gukF0gvkF4gvUB6gfQC6QXSC6SX0NyC5hY0t6C5Bc0taG5BcwuaW9Dcgua2eMe8O6C9A+0daO9AewfaO/wDaMzjfA==",
        "encoding": "base64",
        "path": [
         "vectors",
         "compressed_buffer"
        ]
       }
      ],
      "model_module": "k3d",
      "model_module_version": "2.6.9",
      "model_name": "ObjectModel",
      "state": {
       "_view_count": null,
       "_view_module": null,
       "_view_module_version": "",
       "_view_name": null,
       "colors": {
        "dtype": "uint32",
        "shape": [
         80,
         2
        ]
       },
       "compression_level": 0,
       "head_color": 255,
       "head_size": 1,
       "id": 4387677392,
       "label_size": 1,
       "labels": [],
       "line_width": 0.01,
       "model_matrix": {
        "dtype": "float32",
        "shape": [
         4,
         4
        ]
       },
       "name": null,
       "origin_color": 255,
       "origins": {
        "dtype": "float32",
        "shape": [
         80,
         3
        ]
       },
       "type": "Vectors",
       "use_head": true,
       "vectors": {
        "dtype": "float32",
        "shape": [
         80,
         3
        ]
       },
       "visible": true
      }
     },
     "2b91632a21f345d2863c858a53ccb2fc": {
      "buffers": [
       {
        "data": "eNq7PcOEwcbnOUPCOnUG/iMfGda69DF8/PCGAQB5NApc",
        "encoding": "base64",
        "path": [
         "color_map",
         "compressed_buffer"
        ]
       },
       {
        "data": "eNpjYPBwYoCDE44QGiYG44OAApC9wIEBBTTYAwCnEgUn",
        "encoding": "base64",
        "path": [
         "model_matrix",
         "compressed_buffer"
        ]
       },
       {
        "data": "eNpjZKQ9YKIDAABjBgEt",
        "encoding": "base64",
        "path": [
         "voxels",
         "compressed_buffer"
        ]
       }
      ],
      "model_module": "k3d",
      "model_module_version": "2.6.9",
      "model_name": "ObjectModel",
      "state": {
       "_view_count": null,
       "_view_module": null,
       "_view_module_version": "",
       "_view_name": null,
       "color_map": {
        "dtype": "uint32",
        "shape": [
         6
        ]
       },
       "compression_level": 0,
       "id": 4424782032,
       "model_matrix": {
        "dtype": "float32",
        "shape": [
         4,
         4
        ]
       },
       "name": null,
       "opacity": 1,
       "outlines": false,
       "outlines_color": 0,
       "type": "Voxels",
       "visible": true,
       "voxels": {
        "dtype": "uint8",
        "shape": [
         2,
         10,
         10
        ]
       },
       "wireframe": false
      }
     },
     "2e302fcd54dc4b51a77de01ed25b6859": {
      "model_module": "@jupyter-widgets/base",
      "model_module_version": "1.2.0",
      "model_name": "LayoutModel",
      "state": {}
     },
     "2ecc1776bf5c4d968a810c34f0ae98dc": {
      "model_module": "@jupyter-widgets/base",
      "model_module_version": "1.2.0",
      "model_name": "LayoutModel",
      "state": {}
     },
     "2ef8ec91934d44aab6ce6c6dc0ca4f1b": {
      "buffers": [
       {
        "data": "eNoDAAAAAAE=",
        "encoding": "base64",
        "path": [
         "colors",
         "compressed_buffer"
        ]
       },
       {
        "data": "eNpjYGiwZ8AAxIsBAF7EAv0=",
        "encoding": "base64",
        "path": [
         "model_matrix",
         "compressed_buffer"
        ]
       },
       {
        "data": "eNpN0VENwzAMBuFAGJQisA1tUIxkK5RAmbIq7ZeXnqL0dNI/xjr9HWN+/zgKfn/g4E0+3PDrvFzrrLvNDRe8/I2/8Tf+2wm/6uHjvLy7oWgoGoqGoqFoKBqKhqKhaNh8yOfl3T2bV8/mhgte35uDN8m/8IRXz+ZDPi/X3RP0BD1BT9AT9AQ9QU/QE/QEPcFeyV7JXsleyV7JXsleyV7JXsleyV7JXjQ0DU1D09A0NA1NQ9PQNDQN+if+iX/in/gn/pk/dr6bDQ==",
        "encoding": "base64",
        "path": [
         "positions",
         "compressed_buffer"
        ]
       }
      ],
      "model_module": "k3d",
      "model_module_version": "2.6.9",
      "model_name": "ObjectModel",
      "state": {
       "_view_count": null,
       "_view_module": null,
       "_view_module_version": "",
       "_view_name": null,
       "color": 10075135,
       "colors": {
        "dtype": "uint32",
        "shape": [
         0
        ]
       },
       "compression_level": 0,
       "id": 4717326160,
       "mesh_detail": 2,
       "model_matrix": {
        "dtype": "float32",
        "shape": [
         4,
         4
        ]
       },
       "name": null,
       "opacity": 1,
       "point_size": 0.1,
       "positions": {
        "dtype": "float32",
        "shape": [
         80,
         3
        ]
       },
       "shader": "3dSpecular",
       "type": "Points",
       "visible": true
      }
     },
     "2fb58d3c4f9e4eaa874844e0942fad11": {
      "buffers": [
       {
        "data": "eNoDAAAAAAE=",
        "encoding": "base64",
        "path": [
         "colors",
         "compressed_buffer"
        ]
       },
       {
        "data": "eNpjYGiwZ8AAxIsBAF7EAv0=",
        "encoding": "base64",
        "path": [
         "model_matrix",
         "compressed_buffer"
        ]
       },
       {
        "data": "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",
        "encoding": "base64",
        "path": [
         "origins",
         "compressed_buffer"
        ]
       },
       {
        "data": "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",
        "encoding": "base64",
        "path": [
         "vectors",
         "compressed_buffer"
        ]
       }
      ],
      "model_module": "k3d",
      "model_module_version": "2.6.9",
      "model_name": "ObjectModel",
      "state": {
       "_view_count": null,
       "_view_module": null,
       "_view_module_version": "",
       "_view_name": null,
       "colors": {
        "dtype": "uint32",
        "shape": [
         0
        ]
       },
       "compression_level": 0,
       "head_color": 255,
       "head_size": 1,
       "id": 4486751120,
       "label_size": 1,
       "labels": [],
       "line_width": 0.01,
       "model_matrix": {
        "dtype": "float32",
        "shape": [
         4,
         4
        ]
       },
       "name": null,
       "origin_color": 255,
       "origins": {
        "dtype": "float32",
        "shape": [
         1008,
         3
        ]
       },
       "type": "Vectors",
       "use_head": true,
       "vectors": {
        "dtype": "float32",
        "shape": [
         1008,
         3
        ]
       },
       "visible": true
      }
     },
     "313b9eb7f68d48e680bdb044e4119bfe": {
      "model_module": "@jupyter-widgets/output",
      "model_module_version": "1.0.0",
      "model_name": "OutputModel",
      "state": {
       "layout": "IPY_MODEL_a0648f840cb942bca262b60e84251535",
       "outputs": [
        {
         "data": {
          "application/vnd.jupyter.widget-view+json": {
           "model_id": "6b5e3c1fdaa5402eac7270b6c892f68a",
           "version_major": 2,
           "version_minor": 0
          },
          "text/plain": "Plot(antialias=3, axes=['x', 'y', 'z'], background_color=16777215, camera=[4.5, 4.5, 4.5, 0.0, 0.0, 0.0, 1.0, …"
         },
         "metadata": {},
         "output_type": "display_data"
        }
       ]
      }
     },
     "32a25bf8fd794100bed050284192def2": {
      "buffers": [
       {
        "data": "eNpVzrFLAnEcBXADZ2ktQY/iCANR8ZasocHOG4ULXASV20Shm+RoOCHF5LC/QCW3RhdbWwWn2nKKMA78F0RI3u/ewW/4LI/3fXxtxYjYB41YCe6PihLmdtDzzAI867fg5nVoxw2oRO8kzNnjHXde7LTQzMKoroFXvoGupoN1XJIwZ4933Al3+6rwFOheCE5KaGWAfxHzsMc77gS7w3FCmCZhMBN6b2fwuMiB+dmRMGePd9zhrju/BOddg4ePItRWFlx/T+Bk40uYs8c77nDXWlaBf12tXyH++wXn/k7CnD3ecUf5WcLp3xZUfy9hzt4/1oTPOQ==",
        "encoding": "base64",
        "path": [
         "colors",
         "compressed_buffer"
        ]
       },
       {
        "data": "eNpjYGiwZ8AAxIsBAF7EAv0=",
        "encoding": "base64",
        "path": [
         "model_matrix",
         "compressed_buffer"
        ]
       },
       {
        "data": "eNpNk09IVHEQxy/JemlpKYJgqQVJimLVCiLxzXct2EIjCQoq7GASlrAIUmGCRAgFRdEindbFbA0vHYI6FPZmHktJoRIVuBczyv6c8lCUaRDNnJrTm8N3Zj7v9/1OJbcYLq/clfqaKVlqGQ3PP85KV/8L6Wr7+vTXuZt8+OGk1U1r13eS1aoJru/fA9NUcotBrKoI650Z38mdSESpK0My8KWWl1c+Ss2GvNzJr2EqlmT62w2p7X4dlp8ckOG6a/L5x8ZwYH6IP229anUQ23eMrFZNQNndMI32UvnUMKxXZ1Ks6h1spu6iYhTP2K5HvVkeTzVE6b4dcubVXj5yIhGtflYnU9ubuLF9QUZnt0lqMM0f2sdk4s1m+Z2Ms1RapdyXlO+xi+Hf1AgPHkpYHaziZrJaNdS8ZRdMo720qVSA9epMmizNwWbqLrp/L56xXcpAx9+nM8YwM31Q/6khko4c5/+0cqk7Eb09epb7T7foOyyIviPPP8jyyNKY6D/zz+eNfOlWm+hu1vcMLxQmeN3LaqsD/ZLVqqHLPfUwjfZSR3UB1qsz9X3mYDN1F528Hc/YLmWg5Gw6YwyOhxwPOR5yPOR4yPGQ4yHHQ46HHA85HnI85PyC8wvOLzi/4PyC8wvOLzi/4PyC8wvOLzi/4HILl1u43MLlFi63cLmFyy1cbuFyC5dbVP7fHdzdwd0d3N3B3R3c3eEfvcjK8g==",
        "encoding": "base64",
        "path": [
         "origins",
         "compressed_buffer"
        ]
       },
       {
        "data": "eNpNkz0vRFEQhqlEIwqNROIrUQilct6SRCOi8AcIEbuFkmyllIhtN7JUdEKoxJlCYgu7G+WqqPgBKxtEY+bmTPIWkzM3dz6ec96ZTqmMRYVUPi/0e3kSZ0Pr0px70K2VLXHb33x2P4VvMRoxnVJZI7d9eYvazbj01ZfUvoua/v+8egLPtVNndlYxenokE4dX+vFVF7e364b7KXyL0YjxnMj1HlHTemn0uttrYHdtWKYqr2n75RHTs/NSe+9X4yvu4rxWq+jrtX/GjtE7SGKndgd+xa33dO9+Ct//RYxzRK7fOWpaL41exqDB0G61MNgdEbNU/WtiY3VBzJK9HfKbJrsn8v2T9UPmSHY3ZNNshZ/5ipj8XkVu1qaoab00ehmDBgPxCPEI8QjxCPEI8YB4QDxCPEI8QjxCPEJ6CekF0gukF0gvkF4gvUB6gfQC6QXSC6SX0NyC5hY0t6C5Bc0taG5BcwuaW9Dcgua2eMe8O6C9A+0daO9AewfaO/wDaMzjfA==",
        "encoding": "base64",
        "path": [
         "vectors",
         "compressed_buffer"
        ]
       }
      ],
      "model_module": "k3d",
      "model_module_version": "2.6.9",
      "model_name": "ObjectModel",
      "state": {
       "_view_count": null,
       "_view_module": null,
       "_view_module_version": "",
       "_view_name": null,
       "colors": {
        "dtype": "uint32",
        "shape": [
         80,
         2
        ]
       },
       "compression_level": 0,
       "head_color": 255,
       "head_size": 1,
       "id": 4526046416,
       "label_size": 1,
       "labels": [],
       "line_width": 0.01,
       "model_matrix": {
        "dtype": "float32",
        "shape": [
         4,
         4
        ]
       },
       "name": null,
       "origin_color": 255,
       "origins": {
        "dtype": "float32",
        "shape": [
         80,
         3
        ]
       },
       "type": "Vectors",
       "use_head": true,
       "vectors": {
        "dtype": "float32",
        "shape": [
         80,
         3
        ]
       },
       "visible": true
      }
     },
     "32d05129937f4416a8adccefe673096a": {
      "model_module": "@jupyter-widgets/base",
      "model_module_version": "1.2.0",
      "model_name": "LayoutModel",
      "state": {}
     },
     "32ed0585aec443c9a06da85b70cf4df4": {
      "model_module": "@jupyter-widgets/base",
      "model_module_version": "1.2.0",
      "model_name": "LayoutModel",
      "state": {}
     },
     "35285dfe9ced4f09811ba9bde2df575a": {
      "buffers": [
       {
        "data": "eNq7PcOEAQAFoAGo",
        "encoding": "base64",
        "path": [
         "color_map",
         "compressed_buffer"
        ]
       },
       {
        "data": "eNpjYFBwZMAABxwwxRqwidkDAFK8AuE=",
        "encoding": "base64",
        "path": [
         "model_matrix",
         "compressed_buffer"
        ]
       },
       {
        "data": "eNrllUEOACEMAjv//7R7XQGj0Vs5TqItWLXqXnxSMlFQ6Jhba2u8l9TQ/vgpMlDo2O5+KauDXNIRLb2ZnkHhDdvPJWYg3mo1aj7m5I3HOsigXAT+fnTz222eG75XTf6jAc5KA/E=",
        "encoding": "base64",
        "path": [
         "voxels",
         "compressed_buffer"
        ]
       }
      ],
      "model_module": "k3d",
      "model_module_version": "2.6.9",
      "model_name": "ObjectModel",
      "state": {
       "_view_count": null,
       "_view_module": null,
       "_view_module_version": "",
       "_view_name": null,
       "color_map": {
        "dtype": "uint32",
        "shape": []
       },
       "compression_level": 0,
       "id": 4734617360,
       "model_matrix": {
        "dtype": "float32",
        "shape": [
         4,
         4
        ]
       },
       "name": null,
       "opacity": 1,
       "outlines": false,
       "outlines_color": 0,
       "type": "Voxels",
       "visible": true,
       "voxels": {
        "dtype": "uint8",
        "shape": [
         8,
         12,
         20
        ]
       },
       "wireframe": false
      }
     },
     "359821f1dc274435984af6c6fdbb2045": {
      "model_module": "@jupyter-widgets/output",
      "model_module_version": "1.0.0",
      "model_name": "OutputModel",
      "state": {
       "layout": "IPY_MODEL_a0923d9cdc9c4d1fb2b6844e6b340baa",
       "outputs": [
        {
         "data": {
          "application/vnd.jupyter.widget-view+json": {
           "model_id": "6e4d150fd1f946589fa8ec938c44fe44",
           "version_major": 2,
           "version_minor": 0
          },
          "text/plain": "Plot(antialias=3, axes=['x', 'y', 'z'], background_color=16777215, camera=[4.5, 4.5, 4.5, 0.0, 0.0, 0.0, 1.0, …"
         },
         "metadata": {},
         "output_type": "display_data"
        }
       ]
      }
     },
     "35da0f1dcac2451da33a43ad6a3da137": {
      "model_module": "@jupyter-widgets/base",
      "model_module_version": "1.2.0",
      "model_name": "LayoutModel",
      "state": {}
     },
     "3681e11e7aef404490414ea5111308b8": {
      "buffers": [
       {
        "data": "eNoDAAAAAAE=",
        "encoding": "base64",
        "path": [
         "colors",
         "compressed_buffer"
        ]
       },
       {
        "data": "eNpjYGiwZ8AAxIsBAF7EAv0=",
        "encoding": "base64",
        "path": [
         "model_matrix",
         "compressed_buffer"
        ]
       },
       {
        "data": "eNpNk09IVHEQxy/JemlpKYJgqQVJimLVCiLxzXct2EIjCQoq7GASlrAIUmGCRAgFRdEindbFbA0vHYI6FPZmHktJoRIVuBczyv6c8lCUaRDNnJrTm8N3Zj7v9/1OJbcYLq/clfqaKVlqGQ3PP85KV/8L6Wr7+vTXuZt8+OGk1U1r13eS1aoJru/fA9NUcotBrKoI650Z38mdSESpK0My8KWWl1c+Ss2GvNzJr2EqlmT62w2p7X4dlp8ckOG6a/L5x8ZwYH6IP229anUQ23eMrFZNQNndMI32UvnUMKxXZ1Ks6h1spu6iYhTP2K5HvVkeTzVE6b4dcubVXj5yIhGtflYnU9ubuLF9QUZnt0lqMM0f2sdk4s1m+Z2Ms1RapdyXlO+xi+Hf1AgPHkpYHaziZrJaNdS8ZRdMo720qVSA9epMmizNwWbqLrp/L56xXcpAx9+nM8YwM31Q/6khko4c5/+0cqk7Eb09epb7T7foOyyIviPPP8jyyNKY6D/zz+eNfOlWm+hu1vcMLxQmeN3LaqsD/ZLVqqHLPfUwjfZSR3UB1qsz9X3mYDN1F528Hc/YLmWg5Gw6YwyOhxwPOR5yPOR4yPGQ4yHHQ46HHA85HnI85PyC8wvOLzi/4PyC8wvOLzi/4PyC8wvOLzi/4HILl1u43MLlFi63cLmFyy1cbuFyC5dbVP7fHdzdwd0d3N3B3R3c3eEfvcjK8g==",
        "encoding": "base64",
        "path": [
         "origins",
         "compressed_buffer"
        ]
       },
       {
        "data": "eNpNkz0vRFEQhqlEIwqNROIrUQilct6SRCOi8AcIEbuFkmyllIhtN7JUdEKoxJlCYgu7G+WqqPgBKxtEY+bmTPIWkzM3dz6ec96ZTqmMRYVUPi/0e3kSZ0Pr0px70K2VLXHb33x2P4VvMRoxnVJZI7d9eYvazbj01ZfUvoua/v+8egLPtVNndlYxenokE4dX+vFVF7e364b7KXyL0YjxnMj1HlHTemn0uttrYHdtWKYqr2n75RHTs/NSe+9X4yvu4rxWq+jrtX/GjtE7SGKndgd+xa33dO9+Ct//RYxzRK7fOWpaL41exqDB0G61MNgdEbNU/WtiY3VBzJK9HfKbJrsn8v2T9UPmSHY3ZNNshZ/5ipj8XkVu1qaoab00ehmDBgPxCPEI8QjxCPEI8YB4QDxCPEI8QjxCPEJ6CekF0gukF0gvkF4gvUB6gfQC6QXSC6SX0NyC5hY0t6C5Bc0taG5BcwuaW9Dcgua2eMe8O6C9A+0daO9AewfaO/wDaMzjfA==",
        "encoding": "base64",
        "path": [
         "vectors",
         "compressed_buffer"
        ]
       }
      ],
      "model_module": "k3d",
      "model_module_version": "2.6.9",
      "model_name": "ObjectModel",
      "state": {
       "_view_count": null,
       "_view_module": null,
       "_view_module_version": "",
       "_view_name": null,
       "colors": {
        "dtype": "uint32",
        "shape": [
         0
        ]
       },
       "compression_level": 0,
       "head_color": 255,
       "head_size": 1,
       "id": 4688575184,
       "label_size": 1,
       "labels": [],
       "line_width": 0.01,
       "model_matrix": {
        "dtype": "float32",
        "shape": [
         4,
         4
        ]
       },
       "name": null,
       "origin_color": 255,
       "origins": {
        "dtype": "float32",
        "shape": [
         80,
         3
        ]
       },
       "type": "Vectors",
       "use_head": true,
       "vectors": {
        "dtype": "float32",
        "shape": [
         80,
         3
        ]
       },
       "visible": true
      }
     },
     "36c8f1d422b044e8a534f554489fd3e4": {
      "buffers": [
       {
        "data": "eNoDAAAAAAE=",
        "encoding": "base64",
        "path": [
         "colors",
         "compressed_buffer"
        ]
       },
       {
        "data": "eNpjYGiwZ8AAxIsBAF7EAv0=",
        "encoding": "base64",
        "path": [
         "model_matrix",
         "compressed_buffer"
        ]
       },
       {
        "data": "eNpNkTFIQmEUhaEk7FFkadTg0FZQo0L1eP+5PCwwHNqsIQoC28RsDKKgwZaGBqUICoKgpSXQpf47imBTS1tREg4WDvkwKsh/6m5nOPfj8p3kpU3+syJfJwrcjjv0+JvmIy/PXhDk1p50oZxnq0HUTu86JvuLLk10DcJ0rpZj1F47gLk99s3S0LTHtzrK8W2bGjslfhmPcm3KofdWhg9vInzRC6oP1/T5VoRXPKK7xVXH5PCDS0FrAKZT2o9RaC8Hc7vxPUcf5QoM87k+0/nT44VQVlfXbQp8lXgJm7oedujTyvLkSUY3u0Gp1Jv2IaMDP0T31YRj8uirS32tfphO5DRGzZ4czO3YyHzn/woMU/CV4CvBV4KvBF8JvhJ8JfhK+IHwA+EHwg+EHwg/EH4g/CD5vyPEjhA7QuwIsSPEjvgDj3fwiQ==",
        "encoding": "base64",
        "path": [
         "origins",
         "compressed_buffer"
        ]
       },
       {
        "data": "eNpNkbFKA0EURXu3MGDq+QHrLYT3bjBfkB8Qi7T+gZUg6awCfoGthRBCYGfHBBG3WAsrOwtT2GjrWmyRecIjt5oLc9+ZN/eGssDp3wKhLNLn1b2edxW+bgfp8uBbrptH3MyOTEfX2VO7x2Z89udihPn6ASfDuzrfwTzmDS8LXb4/IZ/15OxX3o4b9M8r09G13bnHuD6bmcmZ3Xb8v+e0+oh5D9g+tleeV+MYb3PYy2vbIp+mo2t7wz32B5/NzORM4gvxhfhCfCG+EF+IL8QXykcpH6V8lPJRykcpH6V8lPLRsO8R1COoR1CPoB5BPWIHWhgaHA==",
        "encoding": "base64",
        "path": [
         "vectors",
         "compressed_buffer"
        ]
       }
      ],
      "model_module": "k3d",
      "model_module_version": "2.6.9",
      "model_name": "ObjectModel",
      "state": {
       "_view_count": null,
       "_view_module": null,
       "_view_module_version": "",
       "_view_name": null,
       "colors": {
        "dtype": "uint32",
        "shape": [
         0
        ]
       },
       "compression_level": 0,
       "head_color": 255,
       "head_size": 1,
       "id": 4688574096,
       "label_size": 1,
       "labels": [],
       "line_width": 0.01,
       "model_matrix": {
        "dtype": "float32",
        "shape": [
         4,
         4
        ]
       },
       "name": null,
       "origin_color": 255,
       "origins": {
        "dtype": "float32",
        "shape": [
         44,
         3
        ]
       },
       "type": "Vectors",
       "use_head": true,
       "vectors": {
        "dtype": "float32",
        "shape": [
         44,
         3
        ]
       },
       "visible": true
      }
     },
     "36cddde643334730b27679f9672a509e": {
      "buffers": [
       {
        "data": "eNoDAAAAAAE=",
        "encoding": "base64",
        "path": [
         "colors",
         "compressed_buffer"
        ]
       },
       {
        "data": "eNpjYGiwZ8AAxIsBAF7EAv0=",
        "encoding": "base64",
        "path": [
         "model_matrix",
         "compressed_buffer"
        ]
       },
       {
        "data": "eNpNkcENxCAQAykhpaQCr0u7UraSO0rZUi6IACMlYh7gseTWmp/v11o9/+DPF6zDjsPjzJcTbPDISeQkcvZbcIGvPrOWy3AZLsNluAyX4TJciy8fvvvMWh0Wjw6LE2zwODcLdwJvwQW+fPgm95m1+wh9hD5CH6GP0EfoI/QR+gh9hD7oMN7vXQK7BHYJ7BLYJbBLYJfALoFd4Eq4Eq6EK+FKuBKuhIs5hZxCTiGn4g/VqJWd",
        "encoding": "base64",
        "path": [
         "positions",
         "compressed_buffer"
        ]
       }
      ],
      "model_module": "k3d",
      "model_module_version": "2.6.9",
      "model_name": "ObjectModel",
      "state": {
       "_view_count": null,
       "_view_module": null,
       "_view_module_version": "",
       "_view_name": null,
       "color": 10075135,
       "colors": {
        "dtype": "uint32",
        "shape": [
         0
        ]
       },
       "compression_level": 0,
       "id": 4717602832,
       "mesh_detail": 2,
       "model_matrix": {
        "dtype": "float32",
        "shape": [
         4,
         4
        ]
       },
       "name": null,
       "opacity": 1,
       "point_size": 0.1,
       "positions": {
        "dtype": "float32",
        "shape": [
         68,
         3
        ]
       },
       "shader": "3dSpecular",
       "type": "Points",
       "visible": true
      }
     },
     "36dc3bca2d564306b189c53300e50a81": {
      "model_module": "k3d",
      "model_module_version": "2.6.9",
      "model_name": "PlotModel",
      "state": {
       "_backend_version": "2.6.9",
       "_dom_classes": [],
       "_view_count": null,
       "antialias": 3,
       "axes": [
        "x",
        "y",
        "z"
       ],
       "background_color": 16777215,
       "camera": [
        84.71979681592038,
        -65.20469514006155,
        10.746979618634684,
        24.750000033527613,
        24.750000033527613,
        4.749999940395355,
        0,
        0,
        1
       ],
       "camera_auto_fit": true,
       "camera_no_pan": false,
       "camera_no_rotate": false,
       "camera_no_zoom": false,
       "clipping_planes": [],
       "colorbar_object_id": -1,
       "fps_meter": false,
       "grid": [
        -1,
        -1,
        -1,
        1,
        1,
        1
       ],
       "grid_auto_fit": true,
       "grid_visible": true,
       "height": 512,
       "layout": "IPY_MODEL_87f2d2bf1a4f43409fbb841e4eb28c7a",
       "lighting": 1,
       "menu_visibility": true,
       "object_ids": [
        4424782032
       ],
       "rendering_steps": 1,
       "screenshot": "",
       "screenshot_scale": 2,
       "time": 0,
       "voxel_paint_color": 0
      }
     },
     "371abd53934244a8b37a1c89bff6b059": {
      "buffers": [
       {
        "data": "eNoDAAAAAAE=",
        "encoding": "base64",
        "path": [
         "colors",
         "compressed_buffer"
        ]
       },
       {
        "data": "eNpjYGiwZ8AAxIsBAF7EAv0=",
        "encoding": "base64",
        "path": [
         "model_matrix",
         "compressed_buffer"
        ]
       },
       {
        "data": "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",
        "encoding": "base64",
        "path": [
         "origins",
         "compressed_buffer"
        ]
       },
       {
        "data": "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",
        "encoding": "base64",
        "path": [
         "vectors",
         "compressed_buffer"
        ]
       }
      ],
      "model_module": "k3d",
      "model_module_version": "2.6.9",
      "model_name": "ObjectModel",
      "state": {
       "_view_count": null,
       "_view_module": null,
       "_view_module_version": "",
       "_view_name": null,
       "colors": {
        "dtype": "uint32",
        "shape": [
         0
        ]
       },
       "compression_level": 0,
       "head_color": 255,
       "head_size": 1,
       "id": 4734588184,
       "label_size": 1,
       "labels": [],
       "line_width": 0.01,
       "model_matrix": {
        "dtype": "float32",
        "shape": [
         4,
         4
        ]
       },
       "name": null,
       "origin_color": 255,
       "origins": {
        "dtype": "float32",
        "shape": [
         1008,
         3
        ]
       },
       "type": "Vectors",
       "use_head": true,
       "vectors": {
        "dtype": "float32",
        "shape": [
         1008,
         3
        ]
       },
       "visible": true
      }
     },
     "378425bf9d2249108f201ead07a29186": {
      "buffers": [
       {
        "data": "eNoDAAAAAAE=",
        "encoding": "base64",
        "path": [
         "colors",
         "compressed_buffer"
        ]
       },
       {
        "data": "eNpjYGiwZ8AAxIsBAF7EAv0=",
        "encoding": "base64",
        "path": [
         "model_matrix",
         "compressed_buffer"
        ]
       },
       {
        "data": "eNpNkcENwzAMAzVCRskEFEfrKJqk7SgapRVgO/cIfI+IR4AR8Y3wJ6L/3/DrDdbDzofnrcUFNnhyCjmFnHMLbvC1srbLcBkuw2W4DJfhMlybLz98r6zdYfN02Fxgg+c9LPyTuAU3eDpsvskr6/QR+gh9hD5CH6GP0EfoI/QR+gh90GHuzy6JXRK7JHZJ7JLYJbFLYpfELnAVXAVXwVVwFVwFV8HFnEZOI6eR0/kDbuG3nQ==",
        "encoding": "base64",
        "path": [
         "positions",
         "compressed_buffer"
        ]
       }
      ],
      "model_module": "k3d",
      "model_module_version": "2.6.9",
      "model_name": "ObjectModel",
      "state": {
       "_view_count": null,
       "_view_module": null,
       "_view_module_version": "",
       "_view_name": null,
       "color": 10075135,
       "colors": {
        "dtype": "uint32",
        "shape": [
         0
        ]
       },
       "compression_level": 0,
       "id": 4710344016,
       "mesh_detail": 2,
       "model_matrix": {
        "dtype": "float32",
        "shape": [
         4,
         4
        ]
       },
       "name": null,
       "opacity": 1,
       "point_size": 0.1,
       "positions": {
        "dtype": "float32",
        "shape": [
         68,
         3
        ]
       },
       "shader": "3dSpecular",
       "type": "Points",
       "visible": true
      }
     },
     "383293e075324584994cce309402fac3": {
      "model_module": "@jupyter-widgets/output",
      "model_module_version": "1.0.0",
      "model_name": "OutputModel",
      "state": {
       "layout": "IPY_MODEL_9965f6fabc1f42e08cccad300277ff6d",
       "outputs": [
        {
         "data": {
          "application/vnd.jupyter.widget-view+json": {
           "model_id": "bf99db3993e94ab6a3035c7dcc14aabe",
           "version_major": 2,
           "version_minor": 0
          },
          "text/plain": "Plot(antialias=3, axes=['x', 'y', 'z'], background_color=16777215, camera=[4.5, 4.5, 4.5, 0.0, 0.0, 0.0, 1.0, …"
         },
         "metadata": {},
         "output_type": "display_data"
        }
       ]
      }
     },
     "3909b634ff0b429587856b5f76e497c1": {
      "model_module": "k3d",
      "model_module_version": "2.6.9",
      "model_name": "PlotModel",
      "state": {
       "_backend_version": "2.6.9",
       "_dom_classes": [],
       "_view_count": null,
       "antialias": 3,
       "axes": [
        "x",
        "y",
        "z"
       ],
       "background_color": 16777215,
       "camera": [
        0.7948898254769976,
        -5.950366549940024,
        1.7177551193316354,
        -0.0717308521270752,
        1.1920928955078125e-07,
        0,
        -0.08281672744106197,
        0.21090301290781585,
        0.9739924582882348
       ],
       "camera_auto_fit": true,
       "camera_no_pan": false,
       "camera_no_rotate": false,
       "camera_no_zoom": false,
       "clipping_planes": [],
       "colorbar_object_id": -1,
       "fps_meter": false,
       "grid": [
        -1,
        -1,
        -1,
        1,
        1,
        1
       ],
       "grid_auto_fit": true,
       "grid_visible": true,
       "height": 512,
       "layout": "IPY_MODEL_f08bcafb2efe43ec9e3478f2e54872a4",
       "lighting": 1,
       "menu_visibility": true,
       "object_ids": [
        4717325968,
        4717326288,
        4688574672,
        4717324688,
        4717326032,
        4717326160,
        4717323472,
        4717325712,
        4717604112,
        4701904528
       ],
       "rendering_steps": 1,
       "screenshot": "",
       "screenshot_scale": 2,
       "time": 0,
       "voxel_paint_color": 0
      }
     },
     "3aab4d067291437a87d5be7da0cf8f82": {
      "model_module": "k3d",
      "model_module_version": "2.6.9",
      "model_name": "PlotModel",
      "state": {
       "_backend_version": "2.6.9",
       "_dom_classes": [],
       "_view_count": null,
       "antialias": 3,
       "axes": [
        "x",
        "y",
        "z"
       ],
       "background_color": 16777215,
       "camera": [
        10.284874878907916,
        -15.489812315567907,
        1.0059874815950598,
        -0.02499999664723873,
        -0.02500000223517418,
        -0.025000005960464478,
        0,
        0,
        1
       ],
       "camera_auto_fit": true,
       "camera_no_pan": false,
       "camera_no_rotate": false,
       "camera_no_zoom": false,
       "clipping_planes": [],
       "colorbar_object_id": -1,
       "fps_meter": false,
       "grid": [
        -1,
        -1,
        -1,
        1,
        1,
        1
       ],
       "grid_auto_fit": true,
       "grid_visible": true,
       "height": 512,
       "layout": "IPY_MODEL_32d05129937f4416a8adccefe673096a",
       "lighting": 1,
       "menu_visibility": true,
       "object_ids": [
        4506353360
       ],
       "rendering_steps": 1,
       "screenshot": "",
       "screenshot_scale": 2,
       "time": 0,
       "voxel_paint_color": 0
      }
     },
     "3b1a70ec9e6741c0895a0f20fac93fb1": {
      "model_module": "k3d",
      "model_module_version": "2.6.9",
      "model_name": "PlotModel",
      "state": {
       "_backend_version": "2.6.9",
       "_dom_classes": [],
       "_view_count": null,
       "antialias": 3,
       "axes": [
        "x",
        "y",
        "z"
       ],
       "background_color": 16777215,
       "camera": [
        84.71979681592038,
        -65.20469514006155,
        10.746979618634684,
        24.750000033527613,
        24.750000033527613,
        4.749999940395355,
        0,
        0,
        1
       ],
       "camera_auto_fit": true,
       "camera_no_pan": false,
       "camera_no_rotate": false,
       "camera_no_zoom": false,
       "clipping_planes": [],
       "colorbar_object_id": -1,
       "fps_meter": false,
       "grid": [
        -1,
        -1,
        -1,
        1,
        1,
        1
       ],
       "grid_auto_fit": true,
       "grid_visible": true,
       "height": 512,
       "layout": "IPY_MODEL_8426334a20644c469c620a174a4837dc",
       "lighting": 1,
       "menu_visibility": true,
       "object_ids": [
        4526084496
       ],
       "rendering_steps": 1,
       "screenshot": "",
       "screenshot_scale": 2,
       "time": 0,
       "voxel_paint_color": 0
      }
     },
     "3b58a7a694b2488a8d17dc8553e3b15e": {
      "model_module": "@jupyter-widgets/base",
      "model_module_version": "1.2.0",
      "model_name": "LayoutModel",
      "state": {}
     },
     "3b5adde63b4e4fd288f61fd592dfb580": {
      "model_module": "@jupyter-widgets/base",
      "model_module_version": "1.2.0",
      "model_name": "LayoutModel",
      "state": {}
     },
     "3b7265679a0e40c0b6571e855ceb0ba2": {
      "model_module": "k3d",
      "model_module_version": "2.6.9",
      "model_name": "PlotModel",
      "state": {
       "_backend_version": "2.6.9",
       "_dom_classes": [],
       "_view_count": null,
       "antialias": 3,
       "axes": [
        "x",
        "y",
        "z"
       ],
       "background_color": 16777215,
       "camera": [
        5.676886823516348,
        -8.515330235274524,
        0.5676886823516407,
        0,
        0,
        0,
        0,
        0,
        1
       ],
       "camera_auto_fit": true,
       "camera_no_pan": false,
       "camera_no_rotate": false,
       "camera_no_zoom": false,
       "clipping_planes": [],
       "colorbar_object_id": -1,
       "fps_meter": false,
       "grid": [
        -1,
        -1,
        -1,
        1,
        1,
        1
       ],
       "grid_auto_fit": true,
       "grid_visible": true,
       "height": 512,
       "layout": "IPY_MODEL_a716068dc2a940ffb0d02611384c9bd9",
       "lighting": 1,
       "menu_visibility": true,
       "object_ids": [
        4654137616,
        4642869456
       ],
       "rendering_steps": 1,
       "screenshot": "",
       "screenshot_scale": 2,
       "time": 0,
       "voxel_paint_color": 0
      }
     },
     "3c35887797684ef6915bcaca9925ea54": {
      "model_module": "k3d",
      "model_module_version": "2.6.9",
      "model_name": "PlotModel",
      "state": {
       "_backend_version": "2.6.9",
       "_dom_classes": [],
       "_view_count": null,
       "antialias": 3,
       "axes": [
        "x",
        "y",
        "z"
       ],
       "background_color": 16777215,
       "camera": [
        84.71979681592038,
        -65.20469514006155,
        10.746979618634684,
        24.750000033527613,
        24.750000033527613,
        4.749999940395355,
        0,
        0,
        1
       ],
       "camera_auto_fit": true,
       "camera_no_pan": false,
       "camera_no_rotate": false,
       "camera_no_zoom": false,
       "clipping_planes": [],
       "colorbar_object_id": -1,
       "fps_meter": false,
       "grid": [
        -1,
        -1,
        -1,
        1,
        1,
        1
       ],
       "grid_auto_fit": true,
       "grid_visible": true,
       "height": 512,
       "layout": "IPY_MODEL_0eaa4028d0f64032b013e25bd0c2c6da",
       "lighting": 1,
       "menu_visibility": true,
       "object_ids": [
        4506441168
       ],
       "rendering_steps": 1,
       "screenshot": "",
       "screenshot_scale": 2,
       "time": 0,
       "voxel_paint_color": 0
      }
     },
     "3ced7336d47946dba6bb842ea7decc7a": {
      "buffers": [
       {
        "data": "eNot0vlP1gUcwPF3rVar1Wq14vR5Hh4eBOSSQy45fZ7v96spoRIiIqJAHCKH3Pf9cD7fLLMss8yyzLLM0sy01KJIo1BDEQUEfWBrba2ttbbW1sfVD6//4JV2l5X0u62su8fG+nttZN6nkHW/wsYHFLIfVMh5SGXzwyq5j6jkPaqS/5hKweMahU9oFD2pUeyiUeKmsc1do9RDo8xTo9ygUWHUqDRpVJk1qr01aiwatT4adb4a9X4aDf4qDQEqjYEqTUEqzcEqLSEKLaEKrWEKbeEK7RE22iNtdETZ6Iy20hljpStWxC2jO14kJGNPFEnJ9CQn0WNNoteWSK8i1AT6NLE8nr4V8fSvFKvi6E8RTy9lIFWsjmVgjVgbw2CaeCaawXSREcXgepEZiWODyFqCY6PIjsCxSeSE49gstoThyA1DzwtFzxfPLkYvEIWiKAS9WGwNRi8R24LQS0WZKA9Er7gjAH27qBRVi9CrRY0/eq2oE/V+6A2iUTT5ojeLloXoraJNtPugd/yv04LeJbqF3Ru9R/Sa0fvMOPrFgBeOQeEQugnHc2KHicHnxQvG/+wULxoY2CVeEi+L3Qb6XxGvij0L6HtN7BWvG+h9Q+wTbxrouWO/AftbRuxvG+k+YKL7HfGuF10Hveh8z0znIW863rfQ8YGF9sM+YiFtH/rS+pEfrUf8afk4gOajgTR9EkTTp8E0HltMw/FQ6o+HU/9ZBHUnIqn9PIqakzFUfxFL1ak4Kk8lsP10IhVfJlP+lZWyMwqlZ+Xj2RWUnFvJ1q9TKP4mlaKhNRQOpVHwbTr532WQN5xJ7nAWW77PJud8Dpsu5JJ9IZ+sHwrYMFJE5kgJGT+Wsu6nctJHK0kbrWbtxVpWX2wg9VITKZdbWXW5nad+7mL5mB1trA/lygC2KzrLru4g6epOEsd3ET++m6XX9hB7bS/RE/uInNjPkusHCL9+kNAbhwi5cZjgySMETh5l0dQx/KZO4Dt1Ep/p01imz2CePofp5hDGm8MYZs7jOTOCx8wo7rOXcJsdw3V2HNdbE7jcmhTTuNyexfW2U8zj5vwFd+eveDh/w9P5Owvm/sA49yemub8wz/+NZf4f/gXLh0p6",
        "encoding": "base64",
        "path": [
         "color_map",
         "compressed_buffer"
        ]
       },
       {
        "data": "eNpjYFBwZMAABxwwxRjsMYUa7AFHpwJg",
        "encoding": "base64",
        "path": [
         "model_matrix",
         "compressed_buffer"
        ]
       },
       {
        "data": "eNpjYACBN19+////+8sbBji4eOvp+5///v18//TWRYjItr1Hz916/vXfv6/Pb507uncbUGjJinVb95269eb37ze3Tu3bum7FEoYp02bOXbRi08EbX77cOLhpxaK5M6dNae/o6OrpmzRz+alTy2dO6uvp6uhor6yoKCspykuPNDOLTM8rKimrqKjMyUpPjovws9fg4dGw94uIS07PymGIiQjydjJTE2FlFVEzc/IOiogBWuzlbG2kJsnNxMQtqWZk7ewFcaG+mrQgOxMTu6C0mj7CJyI8rIyMrDwiEB4A19heAQ==",
        "encoding": "base64",
        "path": [
         "voxels",
         "compressed_buffer"
        ]
       }
      ],
      "model_module": "k3d",
      "model_module_version": "2.6.9",
      "model_name": "ObjectModel",
      "state": {
       "_view_count": null,
       "_view_module": null,
       "_view_module_version": "",
       "_view_name": null,
       "color_map": {
        "dtype": "uint32",
        "shape": [
         256
        ]
       },
       "compression_level": 0,
       "id": 4667452440,
       "model_matrix": {
        "dtype": "float32",
        "shape": [
         4,
         4
        ]
       },
       "name": null,
       "opacity": 1,
       "outlines": false,
       "outlines_color": 0,
       "type": "Voxels",
       "visible": true,
       "voxels": {
        "dtype": "uint8",
        "shape": [
         1,
         12,
         20
        ]
       },
       "wireframe": false
      }
     },
     "3d04520761e74d46943e93fcd6b18cc2": {
      "model_module": "@jupyter-widgets/base",
      "model_module_version": "1.2.0",
      "model_name": "LayoutModel",
      "state": {}
     },
     "3d1df43570a74c3ca43e6d78e21d737e": {
      "model_module": "@jupyter-widgets/base",
      "model_module_version": "1.2.0",
      "model_name": "LayoutModel",
      "state": {}
     },
     "3d77eaccf41443308eeae3fe30bfbe9e": {
      "buffers": [
       {
        "data": "eNqL43ZjiAPiSFZXMA5hdEHBMPE4qLpOLzsw7nBzAON2J0cwbnNwQsEwcZg6mL6+Kk0IrtCC4HICGKYOqq91uRIYN69UhuBVKvgxVB1MX8S5PDAOvlgOxn6X68HY+0oLCoaJw9TB9Mk8fQ/Gis9+gLHq878oGCYOUwcApvNyEQ==",
        "encoding": "base64",
        "path": [
         "colors",
         "compressed_buffer"
        ]
       },
       {
        "data": "eNpjYGiwZ8AAxIsBAF7EAv0=",
        "encoding": "base64",
        "path": [
         "model_matrix",
         "compressed_buffer"
        ]
       },
       {
        "data": "eNpNkTFIQmEUhaEk7FFkadTg0FZQo0L1eP+5PCwwHNqsIQoC28RsDKKgwZaGBqUICoKgpSXQpf47imBTS1tREg4WDvkwKsh/6m5nOPfj8p3kpU3+syJfJwrcjjv0+JvmIy/PXhDk1p50oZxnq0HUTu86JvuLLk10DcJ0rpZj1F47gLk99s3S0LTHtzrK8W2bGjslfhmPcm3KofdWhg9vInzRC6oP1/T5VoRXPKK7xVXH5PCDS0FrAKZT2o9RaC8Hc7vxPUcf5QoM87k+0/nT44VQVlfXbQp8lXgJm7oedujTyvLkSUY3u0Gp1Jv2IaMDP0T31YRj8uirS32tfphO5DRGzZ4czO3YyHzn/woMU/CV4CvBV4KvBF8JvhJ8JfhK+IHwA+EHwg+EHwg/EH4g/CD5vyPEjhA7QuwIsSPEjvgDj3fwiQ==",
        "encoding": "base64",
        "path": [
         "origins",
         "compressed_buffer"
        ]
       },
       {
        "data": "eNpNkbFKA0EURXu3MGDq+QHrLYT3bjBfkB8Qi7T+gZUg6awCfoGthRBCYGfHBBG3WAsrOwtT2GjrWmyRecIjt5oLc9+ZN/eGssDp3wKhLNLn1b2edxW+bgfp8uBbrptH3MyOTEfX2VO7x2Z89udihPn6ASfDuzrfwTzmDS8LXb4/IZ/15OxX3o4b9M8r09G13bnHuD6bmcmZ3Xb8v+e0+oh5D9g+tleeV+MYb3PYy2vbIp+mo2t7wz32B5/NzORM4gvxhfhCfCG+EF+IL8QXykcpH6V8lPJRykcpH6V8lPLRsO8R1COoR1CPoB5BPWIHWhgaHA==",
        "encoding": "base64",
        "path": [
         "vectors",
         "compressed_buffer"
        ]
       }
      ],
      "model_module": "k3d",
      "model_module_version": "2.6.9",
      "model_name": "ObjectModel",
      "state": {
       "_view_count": null,
       "_view_module": null,
       "_view_module_version": "",
       "_view_name": null,
       "colors": {
        "dtype": "uint32",
        "shape": [
         44,
         2
        ]
       },
       "compression_level": 0,
       "head_color": 255,
       "head_size": 1,
       "id": 4560988304,
       "label_size": 1,
       "labels": [],
       "line_width": 0.01,
       "model_matrix": {
        "dtype": "float32",
        "shape": [
         4,
         4
        ]
       },
       "name": null,
       "origin_color": 255,
       "origins": {
        "dtype": "float32",
        "shape": [
         44,
         3
        ]
       },
       "type": "Vectors",
       "use_head": true,
       "vectors": {
        "dtype": "float32",
        "shape": [
         44,
         3
        ]
       },
       "visible": true
      }
     },
     "3da42c83915d4b3c9e23fcf2a40a4859": {
      "model_module": "k3d",
      "model_module_version": "2.6.9",
      "model_name": "PlotModel",
      "state": {
       "_backend_version": "2.6.9",
       "_dom_classes": [],
       "_view_count": null,
       "antialias": 3,
       "axes": [
        "x",
        "y",
        "z"
       ],
       "background_color": 16777215,
       "camera": [
        9.828951377057189,
        -14.743427065585788,
        0.9828951377057292,
        0,
        0,
        0,
        0,
        0,
        1
       ],
       "camera_auto_fit": true,
       "camera_no_pan": false,
       "camera_no_rotate": false,
       "camera_no_zoom": false,
       "clipping_planes": [],
       "colorbar_object_id": -1,
       "fps_meter": false,
       "grid": [
        -1,
        -1,
        -1,
        1,
        1,
        1
       ],
       "grid_auto_fit": true,
       "grid_visible": true,
       "height": 512,
       "layout": "IPY_MODEL_2a5decccde2b47bfbcf2c2c5623cd954",
       "lighting": 1,
       "menu_visibility": true,
       "object_ids": [
        4486751120,
        4596640720
       ],
       "rendering_steps": 1,
       "screenshot": "",
       "screenshot_scale": 2,
       "time": 0,
       "voxel_paint_color": 0
      }
     },
     "3e1c05c6a6bb4e29b7b288641b7ebbfb": {
      "buffers": [
       {
        "data": "eNpL5HNnSATiSFZXMA5hdEHBMPFEqLouHzsw7nBzAOM2RycwbrVHxTBxmDqYvr4aDQiu0oTgCi0ILofiMjQME4epg+mDmtO6VBGClyuBcfNKZQhepQLGTatVUTBMHKYOpg9mTtTZHDAOvlgOxr6XG8HY82obCoaJw9TB9Ek9fQXGis9+gLHq878oGCYOUwcAvo58CQ==",
        "encoding": "base64",
        "path": [
         "colors",
         "compressed_buffer"
        ]
       },
       {
        "data": "eNpjYGiwZ8AAxIsBAF7EAv0=",
        "encoding": "base64",
        "path": [
         "model_matrix",
         "compressed_buffer"
        ]
       },
       {
        "data": "eNpNkT1IglEUhhVCECmaKoiIkBDKIPgS4xPv+cxEkzKiaBEqLIlaAwtrCUlosqHJrRD6p3Bz8N5Tfm794iJUCFHiGLhF9HMnz/YO5z0PPG9c+DH6tCks23vC+DaK3uInn86lxPOZB83pDvfaWEr0zjA82DWDzL9dLry8T4C8SWrDGGq/AdntTAexfsEFlAbErDWAh5EN8bNuF982H65ijbcs9AtX0YOFyJxbve4TRZWhvdoMMjeVVaw+7IC8OX1x/v8vgOx+RB1oOjFo8ufd7TiawgbcZyu8Ug5itpYXlaFl7g8HcD4WE1MjUZ6d9OGx8s4nzhd5vuTBV2vCPahHuNfOcGupFWQOXanYVk+CvMllnPio6yC7PTYHHlmMmvypKAp+Zbo1ySJcRriMcBnhMsJlhMsIlxEuI1xGuIz4BOITiE8gPoH4BOITiE8gPiHe2B3I7kB2B7I7kN2B7A5/NdwSYA==",
        "encoding": "base64",
        "path": [
         "origins",
         "compressed_buffer"
        ]
       },
       {
        "data": "eNpNkaFLBGEQxZMgaxA5waDBcMUqnsLBPLWIYcF04IULXjjQP8CLwoFxq1gMBoPBJrZvvmpY/wXzFdmmYPFmFgZf+h7szPvNvlc2UxyMlnPZTHX9aAupv5onvZlefw3kuNPJV6+3rlNom9GY8Z3YfXt8xt7pUi4ma2rfWh+frf66uDvcyPbq/cNYzuvNvPu94zqF9m8x476xa54anh91jaezX71Y2U/z6qW9uRieJLsJfpvfaF5wT/e++byUn/ftbK/rFNp5MeP/E7vmqeFpLA0WcYW4QlwhrhBXiCvEFeIKcYW4QnmC8gTlCcoTlCcoT1CeoDxR/vcO6h3UO6h3UO+g3rEA8LILMA==",
        "encoding": "base64",
        "path": [
         "vectors",
         "compressed_buffer"
        ]
       }
      ],
      "model_module": "k3d",
      "model_module_version": "2.6.9",
      "model_name": "ObjectModel",
      "state": {
       "_view_count": null,
       "_view_module": null,
       "_view_module_version": "",
       "_view_name": null,
       "colors": {
        "dtype": "uint32",
        "shape": [
         48,
         2
        ]
       },
       "compression_level": 0,
       "head_color": 255,
       "head_size": 1,
       "id": 4560986256,
       "label_size": 1,
       "labels": [],
       "line_width": 0.01,
       "model_matrix": {
        "dtype": "float32",
        "shape": [
         4,
         4
        ]
       },
       "name": null,
       "origin_color": 255,
       "origins": {
        "dtype": "float32",
        "shape": [
         48,
         3
        ]
       },
       "type": "Vectors",
       "use_head": true,
       "vectors": {
        "dtype": "float32",
        "shape": [
         48,
         3
        ]
       },
       "visible": true
      }
     },
     "3e3948f9e9c944e5841ef0de4c507f23": {
      "buffers": [
       {
        "data": "eNoLvljOEAzEhfucwLh9oTwY9zWog3FvogkYd7g5gLHkoxtgrHz/EBhb35wLxgmnEsC4ZYUSGPdVaoJxd6A1GDeYuIFxibIHGGdJQLDCs29gLPv0IxhLPnkOxjIPL4Cxzc3ZYFy91RCM+3L0wbjR1BWM82Q8wDhZwB2MY7ncwDiKHYJVn/9FwcrPf4MxzF7JJ0/BOBgaDjB/pgi6gzHMnHAWVzAOY3IB4xBGCKa1+bQOH2rHZzCJ6QkAgWfRNQ==",
        "encoding": "base64",
        "path": [
         "colors",
         "compressed_buffer"
        ]
       },
       {
        "data": "eNpjYGiwZ8AAxIsBAF7EAv0=",
        "encoding": "base64",
        "path": [
         "model_matrix",
         "compressed_buffer"
        ]
       },
       {
        "data": "eNpNk09IVHEQxy/JemlpKYJgqQVJimLVCiLxzXct2EIjCQoq7GASlrAIUmGCRAgFRdEindbFbA0vHYI6FPZmHktJoRIVuBczyv6c8lCUaRDNnJrTm8N3Zj7v9/1OJbcYLq/clfqaKVlqGQ3PP85KV/8L6Wr7+vTXuZt8+OGk1U1r13eS1aoJru/fA9NUcotBrKoI650Z38mdSESpK0My8KWWl1c+Ss2GvNzJr2EqlmT62w2p7X4dlp8ckOG6a/L5x8ZwYH6IP229anUQ23eMrFZNQNndMI32UvnUMKxXZ1Ks6h1spu6iYhTP2K5HvVkeTzVE6b4dcubVXj5yIhGtflYnU9ubuLF9QUZnt0lqMM0f2sdk4s1m+Z2Ms1RapdyXlO+xi+Hf1AgPHkpYHaziZrJaNdS8ZRdMo720qVSA9epMmizNwWbqLrp/L56xXcpAx9+nM8YwM31Q/6khko4c5/+0cqk7Eb09epb7T7foOyyIviPPP8jyyNKY6D/zz+eNfOlWm+hu1vcMLxQmeN3LaqsD/ZLVqqHLPfUwjfZSR3UB1qsz9X3mYDN1F528Hc/YLmWg5Gw6YwyOhxwPOR5yPOR4yPGQ4yHHQ46HHA85HnI85PyC8wvOLzi/4PyC8wvOLzi/4PyC8wvOLzi/4HILl1u43MLlFi63cLmFyy1cbuFyC5dbVP7fHdzdwd0d3N3B3R3c3eEfvcjK8g==",
        "encoding": "base64",
        "path": [
         "origins",
         "compressed_buffer"
        ]
       },
       {
        "data": "eNpNkz0vRFEQhqlEIwqNROIrUQilct6SRCOi8AcIEbuFkmyllIhtN7JUdEKoxJlCYgu7G+WqqPgBKxtEY+bmTPIWkzM3dz6ec96ZTqmMRYVUPi/0e3kSZ0Pr0px70K2VLXHb33x2P4VvMRoxnVJZI7d9eYvazbj01ZfUvoua/v+8egLPtVNndlYxenokE4dX+vFVF7e364b7KXyL0YjxnMj1HlHTemn0uttrYHdtWKYqr2n75RHTs/NSe+9X4yvu4rxWq+jrtX/GjtE7SGKndgd+xa33dO9+Ct//RYxzRK7fOWpaL41exqDB0G61MNgdEbNU/WtiY3VBzJK9HfKbJrsn8v2T9UPmSHY3ZNNshZ/5ipj8XkVu1qaoab00ehmDBgPxCPEI8QjxCPEI8YB4QDxCPEI8QjxCPEJ6CekF0gukF0gvkF4gvUB6gfQC6QXSC6SX0NyC5hY0t6C5Bc0taG5BcwuaW9Dcgua2eMe8O6C9A+0daO9AewfaO/wDaMzjfA==",
        "encoding": "base64",
        "path": [
         "vectors",
         "compressed_buffer"
        ]
       }
      ],
      "model_module": "k3d",
      "model_module_version": "2.6.9",
      "model_name": "ObjectModel",
      "state": {
       "_view_count": null,
       "_view_module": null,
       "_view_module_version": "",
       "_view_name": null,
       "colors": {
        "dtype": "uint32",
        "shape": [
         80,
         2
        ]
       },
       "compression_level": 0,
       "head_color": 255,
       "head_size": 1,
       "id": 4577314960,
       "label_size": 1,
       "labels": [],
       "line_width": 0.01,
       "model_matrix": {
        "dtype": "float32",
        "shape": [
         4,
         4
        ]
       },
       "name": null,
       "origin_color": 255,
       "origins": {
        "dtype": "float32",
        "shape": [
         80,
         3
        ]
       },
       "type": "Vectors",
       "use_head": true,
       "vectors": {
        "dtype": "float32",
        "shape": [
         80,
         3
        ]
       },
       "visible": true
      }
     },
     "3e80e330d2b542728bd8109baa37fe35": {
      "model_module": "@jupyter-widgets/base",
      "model_module_version": "1.2.0",
      "model_name": "LayoutModel",
      "state": {}
     },
     "3ec9c4decffa45b5bfbc03f694f8e8bf": {
      "model_module": "@jupyter-widgets/output",
      "model_module_version": "1.0.0",
      "model_name": "OutputModel",
      "state": {
       "layout": "IPY_MODEL_ff6b8e7dc1294d7481d2824634895a45",
       "outputs": [
        {
         "data": {
          "application/vnd.jupyter.widget-view+json": {
           "model_id": "3b1a70ec9e6741c0895a0f20fac93fb1",
           "version_major": 2,
           "version_minor": 0
          },
          "text/plain": "Plot(antialias=3, axes=['x', 'y', 'z'], background_color=16777215, camera=[4.5, 4.5, 4.5, 0.0, 0.0, 0.0, 1.0, …"
         },
         "metadata": {},
         "output_type": "display_data"
        }
       ]
      }
     },
     "3ed739adb0dc430b936c500d82fafd07": {
      "buffers": [
       {
        "data": "eNq7PcOEwcbnOUPCOnUG/iMfGda69DF8/PCGAQB5NApc",
        "encoding": "base64",
        "path": [
         "color_map",
         "compressed_buffer"
        ]
       },
       {
        "data": "eNpjYPBwYoCDE44QGiYG44OAApC9wIEBBTTYAwCnEgUn",
        "encoding": "base64",
        "path": [
         "model_matrix",
         "compressed_buffer"
        ]
       },
       {
        "data": "eNpjZKQ9YKIDAABjBgEt",
        "encoding": "base64",
        "path": [
         "voxels",
         "compressed_buffer"
        ]
       }
      ],
      "model_module": "k3d",
      "model_module_version": "2.6.9",
      "model_name": "ObjectModel",
      "state": {
       "_view_count": null,
       "_view_module": null,
       "_view_module_version": "",
       "_view_name": null,
       "color_map": {
        "dtype": "uint32",
        "shape": [
         6
        ]
       },
       "compression_level": 0,
       "id": 4526084496,
       "model_matrix": {
        "dtype": "float32",
        "shape": [
         4,
         4
        ]
       },
       "name": null,
       "opacity": 1,
       "outlines": false,
       "outlines_color": 0,
       "type": "Voxels",
       "visible": true,
       "voxels": {
        "dtype": "uint8",
        "shape": [
         2,
         10,
         10
        ]
       },
       "wireframe": false
      }
     },
     "3ee951d9cd224fad962800737afe6093": {
      "model_module": "@jupyter-widgets/output",
      "model_module_version": "1.0.0",
      "model_name": "OutputModel",
      "state": {
       "layout": "IPY_MODEL_2631a1854c9449f89ed9bc03d1e7790f",
       "outputs": [
        {
         "data": {
          "application/vnd.jupyter.widget-view+json": {
           "model_id": "b4f9b9df20be4d908e7ad41cd3380e76",
           "version_major": 2,
           "version_minor": 0
          },
          "text/plain": "Plot(antialias=3, axes=['x', 'y', 'z'], background_color=16777215, camera=[4.5, 4.5, 4.5, 0.0, 0.0, 0.0, 1.0, …"
         },
         "metadata": {},
         "output_type": "display_data"
        }
       ]
      }
     },
     "3f0d9c5403564c2ba82caecfdfecb804": {
      "buffers": [
       {
        "data": "eNoDAAAAAAE=",
        "encoding": "base64",
        "path": [
         "colors",
         "compressed_buffer"
        ]
       },
       {
        "data": "eNpjYGiwZ8AAxIsBAF7EAv0=",
        "encoding": "base64",
        "path": [
         "model_matrix",
         "compressed_buffer"
        ]
       },
       {
        "data": "eNpN0VENwzAMBuFAGJQisA1tUIxkK5RAmbIq7ZeXnqL0dNI/xjr9HWN+/zgKfn/g4E0+3PDrvFzrrLvNDRe8/I2/8Tf+2wm/6uHjvLy7oWgoGoqGoqFoKBqKhqKhaNh8yOfl3T2bV8/mhgte35uDN8m/8IRXz+ZDPi/X3RP0BD1BT9AT9AQ9QU/QE/QEPcFeyV7JXsleyV7JXsleyV7JXsleyV7JXjQ0DU1D09A0NA1NQ9PQNDQN+if+iX/in/gn/pk/dr6bDQ==",
        "encoding": "base64",
        "path": [
         "positions",
         "compressed_buffer"
        ]
       }
      ],
      "model_module": "k3d",
      "model_module_version": "2.6.9",
      "model_name": "ObjectModel",
      "state": {
       "_view_count": null,
       "_view_module": null,
       "_view_module_version": "",
       "_view_name": null,
       "color": 10075135,
       "colors": {
        "dtype": "uint32",
        "shape": [
         0
        ]
       },
       "compression_level": 0,
       "id": 4667178680,
       "mesh_detail": 2,
       "model_matrix": {
        "dtype": "float32",
        "shape": [
         4,
         4
        ]
       },
       "name": null,
       "opacity": 1,
       "point_size": 0.1,
       "positions": {
        "dtype": "float32",
        "shape": [
         80,
         3
        ]
       },
       "shader": "3dSpecular",
       "type": "Points",
       "visible": true
      }
     },
     "3f24f9bb001e42a2bcd8a1a760edfe1f": {
      "model_module": "@jupyter-widgets/output",
      "model_module_version": "1.0.0",
      "model_name": "OutputModel",
      "state": {
       "layout": "IPY_MODEL_4fcb5e14fd4d48f78a04f294f2a5dc3f",
       "outputs": [
        {
         "data": {
          "application/vnd.jupyter.widget-view+json": {
           "model_id": "b40f901a61a9479c8317f3ba9adc0a5f",
           "version_major": 2,
           "version_minor": 0
          },
          "text/plain": "Plot(antialias=3, axes=['x', 'y', 'z'], background_color=16777215, camera=[4.5, 4.5, 4.5, 0.0, 0.0, 0.0, 1.0, …"
         },
         "metadata": {},
         "output_type": "display_data"
        }
       ]
      }
     },
     "406f23a69c3d4759b68ed59e78ff319a": {
      "buffers": [
       {
        "data": "eNoDAAAAAAE=",
        "encoding": "base64",
        "path": [
         "colors",
         "compressed_buffer"
        ]
       },
       {
        "data": "eNpjYGiwZ8AAxIsBAF7EAv0=",
        "encoding": "base64",
        "path": [
         "model_matrix",
         "compressed_buffer"
        ]
       },
       {
        "data": "eNo78rj5wMGVVXvvP1TYHxrQeGB21FM7xgogO772gO/aInsQu8Ki4sAmrR32IDVpaW0HWl8L7rflCt/H8LH5gKZ26N7wr6H73oY0Hphk/couPSl0n1pY7YGTsqX2IDaDXMWB5WE77UFqjI2LD9hyfbcH6UUyxw7JHDskc+yQzLFDMscOyRy7Iwj32yO53x7J/fZI7rcHADp2byc=",
        "encoding": "base64",
        "path": [
         "origins",
         "compressed_buffer"
        ]
       },
       {
        "data": "eNpj+1hhlxK6YT/bx4p9i7VW2Pqu3bT/q30NiL0XxgbJwdScPXPGrlpk3X6u64v3AuXsQGpAapPLVtmelN26H0iD2HthbJB+mBqg3n0wvUjm2CKZY4tkji2SObZI5tgimWPLhnC/HZL77ZDcb4fkfjsAvT+BSQ==",
        "encoding": "base64",
        "path": [
         "vectors",
         "compressed_buffer"
        ]
       }
      ],
      "model_module": "k3d",
      "model_module_version": "2.6.9",
      "model_name": "ObjectModel",
      "state": {
       "_view_count": null,
       "_view_module": null,
       "_view_module_version": "",
       "_view_name": null,
       "colors": {
        "dtype": "uint32",
        "shape": [
         0
        ]
       },
       "compression_level": 0,
       "head_color": 255,
       "head_size": 1,
       "id": 4688469712,
       "label_size": 1,
       "labels": [],
       "line_width": 0.01,
       "model_matrix": {
        "dtype": "float32",
        "shape": [
         4,
         4
        ]
       },
       "name": null,
       "origin_color": 255,
       "origins": {
        "dtype": "float32",
        "shape": [
         20,
         3
        ]
       },
       "type": "Vectors",
       "use_head": true,
       "vectors": {
        "dtype": "float32",
        "shape": [
         20,
         3
        ]
       },
       "visible": true
      }
     },
     "40e391d9e1294663b15a968cac2256ae": {
      "model_module": "@jupyter-widgets/base",
      "model_module_version": "1.2.0",
      "model_name": "LayoutModel",
      "state": {}
     },
     "41fc5979ccec4808b258d57d5d7a6bf7": {
      "model_module": "@jupyter-widgets/base",
      "model_module_version": "1.2.0",
      "model_name": "LayoutModel",
      "state": {}
     },
     "42c9e02dd91d44cdadd221577e137e78": {
      "model_module": "k3d",
      "model_module_version": "2.6.9",
      "model_name": "PlotModel",
      "state": {
       "_backend_version": "2.6.9",
       "_dom_classes": [],
       "_view_count": null,
       "antialias": 3,
       "axes": [
        "x",
        "y",
        "z"
       ],
       "background_color": 16777215,
       "camera": [
        5.676886823516348,
        -8.515330235274524,
        0.5676886823516407,
        0,
        0,
        0,
        0,
        0,
        1
       ],
       "camera_auto_fit": true,
       "camera_no_pan": false,
       "camera_no_rotate": false,
       "camera_no_zoom": false,
       "clipping_planes": [],
       "colorbar_object_id": -1,
       "fps_meter": false,
       "grid": [
        -1,
        -1,
        -1,
        1,
        1,
        1
       ],
       "grid_auto_fit": true,
       "grid_visible": true,
       "height": 512,
       "layout": "IPY_MODEL_20bbd26da27c4e11b6a4e0258a0e46df",
       "lighting": 1,
       "menu_visibility": true,
       "object_ids": [
        4526085968,
        4526144400
       ],
       "rendering_steps": 1,
       "screenshot": "",
       "screenshot_scale": 2,
       "time": 0,
       "voxel_paint_color": 0
      }
     },
     "430cbb0767a54d88b9ba691687dea585": {
      "model_module": "@jupyter-widgets/base",
      "model_module_version": "1.2.0",
      "model_name": "LayoutModel",
      "state": {}
     },
     "43164a056bbf4d24915fbc23ee12cee7": {
      "model_module": "@jupyter-widgets/output",
      "model_module_version": "1.0.0",
      "model_name": "OutputModel",
      "state": {
       "layout": "IPY_MODEL_c6c9b0d138df4b739880db7458d0302d",
       "outputs": [
        {
         "data": {
          "application/vnd.jupyter.widget-view+json": {
           "model_id": "b9b11b6310b743d6a0585ed03f508c0f",
           "version_major": 2,
           "version_minor": 0
          },
          "text/plain": "Plot(antialias=3, axes=['x', 'y', 'z'], background_color=16777215, camera=[4.5, 4.5, 4.5, 0.0, 0.0, 0.0, 1.0, …"
         },
         "metadata": {},
         "output_type": "display_data"
        }
       ]
      }
     },
     "43fa9d3d2b1a4711bb5970733f9131f1": {
      "buffers": [
       {
        "data": "eNoDAAAAAAE=",
        "encoding": "base64",
        "path": [
         "colors",
         "compressed_buffer"
        ]
       },
       {
        "data": "eNpjYGiwZ8AAxIsBAF7EAv0=",
        "encoding": "base64",
        "path": [
         "model_matrix",
         "compressed_buffer"
        ]
       },
       {
        "data": "eNpN0VENwzAMBuFAGJQisA1tUIxkK5RAmbIq7ZeXnqL0dNI/xjr9HWN+/zgKfn/g4E0+3PDrvFzrrLvNDRe8/I2/8Tf+2wm/6uHjvLy7oWgoGoqGoqFoKBqKhqKhaNh8yOfl3T2bV8/mhgte35uDN8m/8IRXz+ZDPi/X3RP0BD1BT9AT9AQ9QU/QE/QEPcFeyV7JXsleyV7JXsleyV7JXsleyV7JXjQ0DU1D09A0NA1NQ9PQNDQN+if+iX/in/gn/pk/dr6bDQ==",
        "encoding": "base64",
        "path": [
         "positions",
         "compressed_buffer"
        ]
       }
      ],
      "model_module": "k3d",
      "model_module_version": "2.6.9",
      "model_name": "ObjectModel",
      "state": {
       "_view_count": null,
       "_view_module": null,
       "_view_module_version": "",
       "_view_name": null,
       "color": 10075135,
       "colors": {
        "dtype": "uint32",
        "shape": [
         0
        ]
       },
       "compression_level": 0,
       "id": 4526144400,
       "mesh_detail": 2,
       "model_matrix": {
        "dtype": "float32",
        "shape": [
         4,
         4
        ]
       },
       "name": null,
       "opacity": 1,
       "point_size": 0.1,
       "positions": {
        "dtype": "float32",
        "shape": [
         80,
         3
        ]
       },
       "shader": "3dSpecular",
       "type": "Points",
       "visible": true
      }
     },
     "446de369a2494f82a1de6d3c2dbc86e3": {
      "model_module": "@jupyter-widgets/output",
      "model_module_version": "1.0.0",
      "model_name": "OutputModel",
      "state": {
       "layout": "IPY_MODEL_6ef378136427473e9fb6c86c8edc2e44",
       "outputs": [
        {
         "data": {
          "application/vnd.jupyter.widget-view+json": {
           "model_id": "75748ea169e94bf9b8478a4047241b75",
           "version_major": 2,
           "version_minor": 0
          },
          "text/plain": "Plot(antialias=3, axes=['x', 'y', 'z'], background_color=16777215, camera=[4.5, 4.5, 4.5, 0.0, 0.0, 0.0, 1.0, …"
         },
         "metadata": {},
         "output_type": "display_data"
        }
       ]
      }
     },
     "44dadfa0f74b4cb5b45c1ccaed4b09df": {
      "model_module": "@jupyter-widgets/base",
      "model_module_version": "1.2.0",
      "model_name": "LayoutModel",
      "state": {}
     },
     "453e7272eebe4db5bd2106a6a1f90729": {
      "buffers": [
       {
        "data": "eNoDAAAAAAE=",
        "encoding": "base64",
        "path": [
         "colors",
         "compressed_buffer"
        ]
       },
       {
        "data": "eNpjYGiwZ8AAxIsBAF7EAv0=",
        "encoding": "base64",
        "path": [
         "model_matrix",
         "compressed_buffer"
        ]
       },
       {
        "data": "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",
        "encoding": "base64",
        "path": [
         "origins",
         "compressed_buffer"
        ]
       },
       {
        "data": "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",
        "encoding": "base64",
        "path": [
         "vectors",
         "compressed_buffer"
        ]
       }
      ],
      "model_module": "k3d",
      "model_module_version": "2.6.9",
      "model_name": "ObjectModel",
      "state": {
       "_view_count": null,
       "_view_module": null,
       "_view_module_version": "",
       "_view_name": null,
       "colors": {
        "dtype": "uint32",
        "shape": [
         0
        ]
       },
       "compression_level": 0,
       "head_color": 255,
       "head_size": 1,
       "id": 4506509008,
       "label_size": 1,
       "labels": [],
       "line_width": 0.01,
       "model_matrix": {
        "dtype": "float32",
        "shape": [
         4,
         4
        ]
       },
       "name": null,
       "origin_color": 255,
       "origins": {
        "dtype": "float32",
        "shape": [
         1008,
         3
        ]
       },
       "type": "Vectors",
       "use_head": true,
       "vectors": {
        "dtype": "float32",
        "shape": [
         1008,
         3
        ]
       },
       "visible": true
      }
     },
     "45874343f66b4ca79b387386ee1fd009": {
      "model_module": "k3d",
      "model_module_version": "2.6.9",
      "model_name": "PlotModel",
      "state": {
       "_backend_version": "2.6.9",
       "_dom_classes": [],
       "_view_count": null,
       "antialias": 3,
       "axes": [
        "x",
        "y",
        "z"
       ],
       "background_color": 16777215,
       "camera": [
        10.284874878907916,
        -15.489812315567907,
        1.0059874815950598,
        -0.02499999664723873,
        -0.02500000223517418,
        -0.025000005960464478,
        0,
        0,
        1
       ],
       "camera_auto_fit": true,
       "camera_no_pan": false,
       "camera_no_rotate": false,
       "camera_no_zoom": false,
       "clipping_planes": [],
       "colorbar_object_id": -1,
       "fps_meter": false,
       "grid": [
        -1,
        -1,
        -1,
        1,
        1,
        1
       ],
       "grid_auto_fit": true,
       "grid_visible": true,
       "height": 512,
       "layout": "IPY_MODEL_ff07432810e2424d9bf718f3665a516d",
       "lighting": 1,
       "menu_visibility": true,
       "object_ids": [
        4560996496
       ],
       "rendering_steps": 1,
       "screenshot": "",
       "screenshot_scale": 2,
       "time": 0,
       "voxel_paint_color": 0
      }
     },
     "45d15c4d6adf42cea978418d2a81c7a6": {
      "buffers": [
       {
        "data": "eNot0vlP1gUcwPF3rVar1Wq14vR5Hh4eBOSSQy45fZ7v96spoRIiIqJAHCKH3Pf9cD7fLLMss8yyzLLM0sy01KJIo1BDEQUEfWBrba2ttbbW1sfVD6//4JV2l5X0u62su8fG+nttZN6nkHW/wsYHFLIfVMh5SGXzwyq5j6jkPaqS/5hKweMahU9oFD2pUeyiUeKmsc1do9RDo8xTo9ygUWHUqDRpVJk1qr01aiwatT4adb4a9X4aDf4qDQEqjYEqTUEqzcEqLSEKLaEKrWEKbeEK7RE22iNtdETZ6Iy20hljpStWxC2jO14kJGNPFEnJ9CQn0WNNoteWSK8i1AT6NLE8nr4V8fSvFKvi6E8RTy9lIFWsjmVgjVgbw2CaeCaawXSREcXgepEZiWODyFqCY6PIjsCxSeSE49gstoThyA1DzwtFzxfPLkYvEIWiKAS9WGwNRi8R24LQS0WZKA9Er7gjAH27qBRVi9CrRY0/eq2oE/V+6A2iUTT5ojeLloXoraJNtPugd/yv04LeJbqF3Ru9R/Sa0fvMOPrFgBeOQeEQugnHc2KHicHnxQvG/+wULxoY2CVeEi+L3Qb6XxGvij0L6HtN7BWvG+h9Q+wTbxrouWO/AftbRuxvG+k+YKL7HfGuF10Hveh8z0znIW863rfQ8YGF9sM+YiFtH/rS+pEfrUf8afk4gOajgTR9EkTTp8E0HltMw/FQ6o+HU/9ZBHUnIqn9PIqakzFUfxFL1ak4Kk8lsP10IhVfJlP+lZWyMwqlZ+Xj2RWUnFvJ1q9TKP4mlaKhNRQOpVHwbTr532WQN5xJ7nAWW77PJud8Dpsu5JJ9IZ+sHwrYMFJE5kgJGT+Wsu6nctJHK0kbrWbtxVpWX2wg9VITKZdbWXW5nad+7mL5mB1trA/lygC2KzrLru4g6epOEsd3ET++m6XX9hB7bS/RE/uInNjPkusHCL9+kNAbhwi5cZjgySMETh5l0dQx/KZO4Dt1Ep/p01imz2CePofp5hDGm8MYZs7jOTOCx8wo7rOXcJsdw3V2HNdbE7jcmhTTuNyexfW2U8zj5vwFd+eveDh/w9P5Owvm/sA49yemub8wz/+NZf4f/gXLh0p6",
        "encoding": "base64",
        "path": [
         "color_map",
         "compressed_buffer"
        ]
       },
       {
        "data": "eNpjYFBwZMAABxwwxRqwidkDAFK8AuE=",
        "encoding": "base64",
        "path": [
         "model_matrix",
         "compressed_buffer"
        ]
       },
       {
        "data": "eNrl1c9LKlEUB/BJGFzoxtCFBLMcpoUIEUMYYVRCFBkWiZIUYTEwhGL+aPwLnBxNlBgYSqIwFKMkowisSCKJIQJxkcxyIFwoudGFCPZ8iphv9eDxVt7d/XA553zhci8A/PvKsGymV87iiWQyET/7QZQ/EAyFggE/1TWn3Wa1WKw2u/PHwVW9TqvV6Vd7K6pQVAX851Usl4s98Jrl+EKB57KvHTm/unticxyXY5/urs7bdngciSdT6XQqGY8cH7aI3KN8gRDNMHQo4KP2yN9G7DodNguOYbjF5nDuEq2DWxsmvVajVmu0etPGVrveyuLsJKqAYQU6Obu40uk8poQhuRyClWM9I8okEtlfhavXe/d5vlip1SpFPt+R1PPbB/9VrX7xH2/PqRbFLq7vMzm+VOJzmfvri1iTaOboJJpIsfk8m0pET44YGgA8pJfyB+lwNBqmg37KS3oAwE24nHYrbjYazbjV7nQRbgDAsc11o06DIgiq0RnXNzG8WdCwvDCjUkBSKaRQzSwsG1qNNROjw9CgSDQIDY9OaDoTIpBMLBSKZRDSmwUE/whbqtS/v+uVUley3Ge51mjUyp9cti23Dy/vXKHaaFQL3PvLw22TIrHLm0eWK9XrJY59vLmMRYADmgmfxpLpfKWSTydjp2GGPvCQpNe3H2KiLBtlQvs+L0l63AThcuxYMCOKGjHLjsNFEO5tHDOvGbRqRCxG1FrDmhnDtwGTYWl+CoWlICiF0an5JYOp2XhuenwElosEApEcHhmfnmtPqISHJEKBQCgZgpXdJFIxODAAiqX9nLff7nMfvld98h/9AlMm+BA=",
        "encoding": "base64",
        "path": [
         "voxels",
         "compressed_buffer"
        ]
       }
      ],
      "model_module": "k3d",
      "model_module_version": "2.6.9",
      "model_name": "ObjectModel",
      "state": {
       "_view_count": null,
       "_view_module": null,
       "_view_module_version": "",
       "_view_name": null,
       "color_map": {
        "dtype": "uint32",
        "shape": [
         256
        ]
       },
       "compression_level": 0,
       "id": 4387614224,
       "model_matrix": {
        "dtype": "float32",
        "shape": [
         4,
         4
        ]
       },
       "name": null,
       "opacity": 1,
       "outlines": false,
       "outlines_color": 0,
       "type": "Voxels",
       "visible": true,
       "voxels": {
        "dtype": "uint8",
        "shape": [
         8,
         12,
         20
        ]
       },
       "wireframe": false
      }
     },
     "4651a2dd1477451eab8d8e4c1db5493c": {
      "model_module": "@jupyter-widgets/output",
      "model_module_version": "1.0.0",
      "model_name": "OutputModel",
      "state": {
       "layout": "IPY_MODEL_5e50c6a17bb94cf4ab85bbf2665751bf",
       "outputs": [
        {
         "data": {
          "application/vnd.jupyter.widget-view+json": {
           "model_id": "8bc648a1dd8547bd8ddae4b8664bfe26",
           "version_major": 2,
           "version_minor": 0
          },
          "text/plain": "Plot(antialias=3, axes=['x', 'y', 'z'], background_color=16777215, camera=[4.5, 4.5, 4.5, 0.0, 0.0, 0.0, 1.0, …"
         },
         "metadata": {},
         "output_type": "display_data"
        }
       ]
      }
     },
     "4652466a325b4cc9aebf8849907b88b6": {
      "buffers": [
       {
        "data": "eNpLWKfOAAAD3AE2",
        "encoding": "base64",
        "path": [
         "color_map",
         "compressed_buffer"
        ]
       },
       {
        "data": "eNpjYFBwZMAABxwwxRqwidkDAFK8AuE=",
        "encoding": "base64",
        "path": [
         "model_matrix",
         "compressed_buffer"
        ]
       },
       {
        "data": "eNrllUEOACEMAjv//7R7XQGj0Vs5TqItWLXqXnxSMlFQ6Jhba2u8l9TQ/vgpMlDo2O5+KauDXNIRLb2ZnkHhDdvPJWYg3mo1aj7m5I3HOsigXAT+fnTz222eG75XTf6jAc5KA/E=",
        "encoding": "base64",
        "path": [
         "voxels",
         "compressed_buffer"
        ]
       }
      ],
      "model_module": "k3d",
      "model_module_version": "2.6.9",
      "model_name": "ObjectModel",
      "state": {
       "_view_count": null,
       "_view_module": null,
       "_view_module_version": "",
       "_view_name": null,
       "color_map": {
        "dtype": "uint32",
        "shape": []
       },
       "compression_level": 0,
       "id": 4494620752,
       "model_matrix": {
        "dtype": "float32",
        "shape": [
         4,
         4
        ]
       },
       "name": null,
       "opacity": 1,
       "outlines": false,
       "outlines_color": 0,
       "type": "Voxels",
       "visible": true,
       "voxels": {
        "dtype": "uint8",
        "shape": [
         8,
         12,
         20
        ]
       },
       "wireframe": false
      }
     },
     "465d5b6ce2284727b439723cc49a83a7": {
      "buffers": [
       {
        "data": "eNoDAAAAAAE=",
        "encoding": "base64",
        "path": [
         "colors",
         "compressed_buffer"
        ]
       },
       {
        "data": "eNpjYGiwZ8AAxIsBAF7EAv0=",
        "encoding": "base64",
        "path": [
         "model_matrix",
         "compressed_buffer"
        ]
       },
       {
        "data": "eNpN0VENwzAMBuFAGJQisA1tUIxkK5RAmbIq7ZeXnqL0dNI/xjr9HWN+/zgKfn/g4E0+3PDrvFzrrLvNDRe8/I2/8Tf+2wm/6uHjvLy7oWgoGoqGoqFoKBqKhqKhaNh8yOfl3T2bV8/mhgte35uDN8m/8IRXz+ZDPi/X3RP0BD1BT9AT9AQ9QU/QE/QEPcFeyV7JXsleyV7JXsleyV7JXsleyV7JXjQ0DU1D09A0NA1NQ9PQNDQN+if+iX/in/gn/pk/dr6bDQ==",
        "encoding": "base64",
        "path": [
         "positions",
         "compressed_buffer"
        ]
       }
      ],
      "model_module": "k3d",
      "model_module_version": "2.6.9",
      "model_name": "ObjectModel",
      "state": {
       "_view_count": null,
       "_view_module": null,
       "_view_module_version": "",
       "_view_name": null,
       "color": 10075135,
       "colors": {
        "dtype": "uint32",
        "shape": [
         0
        ]
       },
       "compression_level": 0,
       "id": 4525991504,
       "mesh_detail": 2,
       "model_matrix": {
        "dtype": "float32",
        "shape": [
         4,
         4
        ]
       },
       "name": null,
       "opacity": 1,
       "point_size": 0.1,
       "positions": {
        "dtype": "float32",
        "shape": [
         80,
         3
        ]
       },
       "shader": "3dSpecular",
       "type": "Points",
       "visible": true
      }
     },
     "468c8e693c0141cf97145f54477f9def": {
      "model_module": "k3d",
      "model_module_version": "2.6.9",
      "model_name": "PlotModel",
      "state": {
       "_backend_version": "2.6.9",
       "_dom_classes": [],
       "_view_count": null,
       "antialias": 3,
       "axes": [
        "x",
        "y",
        "z"
       ],
       "background_color": 16777215,
       "camera": [
        5.676886823516348,
        -8.515330235274524,
        0.5676886823516407,
        0,
        0,
        0,
        0,
        0,
        1
       ],
       "camera_auto_fit": true,
       "camera_no_pan": false,
       "camera_no_rotate": false,
       "camera_no_zoom": false,
       "clipping_planes": [],
       "colorbar_object_id": -1,
       "fps_meter": false,
       "grid": [
        -1,
        -1,
        -1,
        1,
        1,
        1
       ],
       "grid_auto_fit": true,
       "grid_visible": true,
       "height": 512,
       "layout": "IPY_MODEL_f931c88905ae4e97bae5b2eeaea553e3",
       "lighting": 1,
       "menu_visibility": true,
       "object_ids": [
        4506441296,
        4368065104
       ],
       "rendering_steps": 1,
       "screenshot": "",
       "screenshot_scale": 2,
       "time": 0,
       "voxel_paint_color": 0
      }
     },
     "481b40ebabf94f4cb476e337042d2015": {
      "model_module": "@jupyter-widgets/base",
      "model_module_version": "1.2.0",
      "model_name": "LayoutModel",
      "state": {}
     },
     "4832eae3462b419ba8301faa30dc1777": {
      "model_module": "k3d",
      "model_module_version": "2.6.9",
      "model_name": "PlotModel",
      "state": {
       "_backend_version": "2.6.9",
       "_dom_classes": [],
       "_view_count": null,
       "antialias": 3,
       "axes": [
        "x",
        "y",
        "z"
       ],
       "background_color": 16777215,
       "camera": [
        9.733137238263115,
        -14.662205854600705,
        0.9758137234910438,
        -0.02499999664723873,
        -0.02500000223517418,
        0,
        0,
        0,
        1
       ],
       "camera_auto_fit": true,
       "camera_no_pan": false,
       "camera_no_rotate": false,
       "camera_no_zoom": false,
       "clipping_planes": [],
       "colorbar_object_id": -1,
       "fps_meter": false,
       "grid": [
        -1,
        -1,
        -1,
        1,
        1,
        1
       ],
       "grid_auto_fit": true,
       "grid_visible": true,
       "height": 512,
       "layout": "IPY_MODEL_9725f4045754445787ac0189e201b3f6",
       "lighting": 1,
       "menu_visibility": true,
       "object_ids": [
        4641977512
       ],
       "rendering_steps": 1,
       "screenshot": "",
       "screenshot_scale": 2,
       "time": 0,
       "voxel_paint_color": 0
      }
     },
     "4873277ce47d47d389c58606ebe522e0": {
      "model_module": "@jupyter-widgets/base",
      "model_module_version": "1.2.0",
      "model_name": "LayoutModel",
      "state": {}
     },
     "493a07a31eef4bc8a200ea8368d69eba": {
      "buffers": [
       {
        "data": "eNot0vlP1gUcwPF3rVar1Wq14vR5Hh4eBOSSQy45fZ7v96spoRIiIqJAHCKH3Pf9cD7fLLMss8yyzLLM0sy01KJIo1BDEQUEfWBrba2ttbbW1sfVD6//4JV2l5X0u62su8fG+nttZN6nkHW/wsYHFLIfVMh5SGXzwyq5j6jkPaqS/5hKweMahU9oFD2pUeyiUeKmsc1do9RDo8xTo9ygUWHUqDRpVJk1qr01aiwatT4adb4a9X4aDf4qDQEqjYEqTUEqzcEqLSEKLaEKrWEKbeEK7RE22iNtdETZ6Iy20hljpStWxC2jO14kJGNPFEnJ9CQn0WNNoteWSK8i1AT6NLE8nr4V8fSvFKvi6E8RTy9lIFWsjmVgjVgbw2CaeCaawXSREcXgepEZiWODyFqCY6PIjsCxSeSE49gstoThyA1DzwtFzxfPLkYvEIWiKAS9WGwNRi8R24LQS0WZKA9Er7gjAH27qBRVi9CrRY0/eq2oE/V+6A2iUTT5ojeLloXoraJNtPugd/yv04LeJbqF3Ru9R/Sa0fvMOPrFgBeOQeEQugnHc2KHicHnxQvG/+wULxoY2CVeEi+L3Qb6XxGvij0L6HtN7BWvG+h9Q+wTbxrouWO/AftbRuxvG+k+YKL7HfGuF10Hveh8z0znIW863rfQ8YGF9sM+YiFtH/rS+pEfrUf8afk4gOajgTR9EkTTp8E0HltMw/FQ6o+HU/9ZBHUnIqn9PIqakzFUfxFL1ak4Kk8lsP10IhVfJlP+lZWyMwqlZ+Xj2RWUnFvJ1q9TKP4mlaKhNRQOpVHwbTr532WQN5xJ7nAWW77PJud8Dpsu5JJ9IZ+sHwrYMFJE5kgJGT+Wsu6nctJHK0kbrWbtxVpWX2wg9VITKZdbWXW5nad+7mL5mB1trA/lygC2KzrLru4g6epOEsd3ET++m6XX9hB7bS/RE/uInNjPkusHCL9+kNAbhwi5cZjgySMETh5l0dQx/KZO4Dt1Ep/p01imz2CePofp5hDGm8MYZs7jOTOCx8wo7rOXcJsdw3V2HNdbE7jcmhTTuNyexfW2U8zj5vwFd+eveDh/w9P5Owvm/sA49yemub8wz/+NZf4f/gXLh0p6",
        "encoding": "base64",
        "path": [
         "color_map",
         "compressed_buffer"
        ]
       },
       {
        "data": "eNpjYFBwZMAABxwwxRqwidkDAFK8AuE=",
        "encoding": "base64",
        "path": [
         "model_matrix",
         "compressed_buffer"
        ]
       },
       {
        "data": "eNrl1U1IKlEUB3ASxIVuDF1IMMvBFiJEDGGEUQlRNGGRKEkRFgNDKOZH4252Tn4kSgwMJVEYDkZJRhFYkUQSQwTiomGWA+FCyY0uRLDnU8R8qwePt/Lu7o/LOecPl3tx/N9XlmGyvXKWSKZSycTZD/IHQ+FIJBwK+rvmcthtVqvN7nD9OLhq0MOw3rDaW1EDQRr8P69iuVzsgdccxxcKPJd77cj51d0Tk+e4PPN0d3XetsPjWCKVzmTSqUTs+LBFxJ4/EIqQFEVGQgH/HvHbsF2X025FEQS12p2uXax1cGvDbIB1Wq0ONpg3ttr1VhZnJyEVCKqgydnFlU7nMTUIKBQAqB7rGVEulcr/Kly93rtn+WKlVqsUebYj6ee3D/6rWv3iP96e0y2iL67vs3m+VOLz2fvrC7pJJHV0Ek+mGZZl0sn4yRFF4riX8PmDYTIaj0fJcNDvI7w47sHcLocNtZhMFtTmcLkxD46jyOa6Sa+DlEpIpzetbyJos6BxeWFGowJkMkClmVlYNrYa6yZGh4FBsXgQGB6d0HUmVAJyiUgkkQPK3ixC4R9hS5X693e9UupKjvss1xqNWvmTy7Xl9uHlnStUG41qgXt/ebhtUoy+vHlkuFK9XuKYx5tLOoYfkFT0lE5l2EqFzaTo0yhFHngJwhfYj1BxholTkf2AjyC8HgxzO3esiAmCTIh1x+nGMM82iljWjLBWKZEotbBxzYKg27jZuDQ/BYEyoVAGQlPzS0Zzs/Hc9PgIqBALBGIFODI+PdeeUA0OSUUCgUg6BKq7SWQS4cCAUCLr57z9dp/78L3qk//oF5tnwC4=",
        "encoding": "base64",
        "path": [
         "voxels",
         "compressed_buffer"
        ]
       }
      ],
      "model_module": "k3d",
      "model_module_version": "2.6.9",
      "model_name": "ObjectModel",
      "state": {
       "_view_count": null,
       "_view_module": null,
       "_view_module_version": "",
       "_view_name": null,
       "color_map": {
        "dtype": "uint32",
        "shape": [
         256
        ]
       },
       "compression_level": 0,
       "id": 4596378768,
       "model_matrix": {
        "dtype": "float32",
        "shape": [
         4,
         4
        ]
       },
       "name": null,
       "opacity": 1,
       "outlines": false,
       "outlines_color": 0,
       "type": "Voxels",
       "visible": true,
       "voxels": {
        "dtype": "uint8",
        "shape": [
         8,
         12,
         20
        ]
       },
       "wireframe": false
      }
     },
     "499b6091beb44bc19e9b9b3ff0bd5b3a": {
      "model_module": "@jupyter-widgets/output",
      "model_module_version": "1.0.0",
      "model_name": "OutputModel",
      "state": {
       "layout": "IPY_MODEL_8fe8e2e7f6474668954485dd90b04ecd",
       "outputs": [
        {
         "data": {
          "application/vnd.jupyter.widget-view+json": {
           "model_id": "3c35887797684ef6915bcaca9925ea54",
           "version_major": 2,
           "version_minor": 0
          },
          "text/plain": "Plot(antialias=3, axes=['x', 'y', 'z'], background_color=16777215, camera=[4.5, 4.5, 4.5, 0.0, 0.0, 0.0, 1.0, …"
         },
         "metadata": {},
         "output_type": "display_data"
        }
       ]
      }
     },
     "49ce670200534d17bcb00dd1c7fbe7fb": {
      "model_module": "@jupyter-widgets/base",
      "model_module_version": "1.2.0",
      "model_name": "LayoutModel",
      "state": {}
     },
     "49cfe318e92049f4a785a80df51b3f05": {
      "buffers": [
       {
        "data": "eNoDAAAAAAE=",
        "encoding": "base64",
        "path": [
         "colors",
         "compressed_buffer"
        ]
       },
       {
        "data": "eNpjYGiwZ8AAxIsBAF7EAv0=",
        "encoding": "base64",
        "path": [
         "model_matrix",
         "compressed_buffer"
        ]
       },
       {
        "data": "eNpN0MENgCAQRFEqm5nSLGUrcVuhFEME/QfDP8CLmTGSMarfb3XQ140W7vjvQs9+3x8zMAMzMAMzME9Pdu/32z8d9Dq/Fu4Yb9GT3fufji/4gi/4gi/4gi/sY+xj7GPsY+xj7GPsY+wDs2AWzIJZMAtm+QEXvmyN",
        "encoding": "base64",
        "path": [
         "positions",
         "compressed_buffer"
        ]
       }
      ],
      "model_module": "k3d",
      "model_module_version": "2.6.9",
      "model_name": "ObjectModel",
      "state": {
       "_view_count": null,
       "_view_module": null,
       "_view_module_version": "",
       "_view_name": null,
       "color": 10075135,
       "colors": {
        "dtype": "uint32",
        "shape": [
         0
        ]
       },
       "compression_level": 0,
       "id": 4439060944,
       "mesh_detail": 2,
       "model_matrix": {
        "dtype": "float32",
        "shape": [
         4,
         4
        ]
       },
       "name": null,
       "opacity": 1,
       "point_size": 0.1,
       "positions": {
        "dtype": "float32",
        "shape": [
         44,
         3
        ]
       },
       "shader": "3dSpecular",
       "type": "Points",
       "visible": true
      }
     },
     "49e45ff6669b4848b54545cc6d221e07": {
      "model_module": "@jupyter-widgets/base",
      "model_module_version": "1.2.0",
      "model_name": "LayoutModel",
      "state": {}
     },
     "4a1bcef5bfd54c38a01af3b2038c9e26": {
      "model_module": "@jupyter-widgets/base",
      "model_module_version": "1.2.0",
      "model_name": "LayoutModel",
      "state": {}
     },
     "4a391fdd7f494fe4b9cef0e1b0a24a18": {
      "buffers": [
       {
        "data": "eNoDAAAAAAE=",
        "encoding": "base64",
        "path": [
         "colors",
         "compressed_buffer"
        ]
       },
       {
        "data": "eNpjYGiwZ8AAxIsBAF7EAv0=",
        "encoding": "base64",
        "path": [
         "model_matrix",
         "compressed_buffer"
        ]
       },
       {
        "data": "eNpN0VENwzAMBuFAGJQisA1tUIxkK5RAmbIq7ZeXnqL0dNI/xjr9HWN+/zgKfn/g4E0+3PDrvFzrrLvNDRe8/I2/8Tf+2wm/6uHjvLy7oWgoGoqGoqFoKBqKhqKhaNh8yOfl3T2bV8/mhgte35uDN8m/8IRXz+ZDPi/X3RP0BD1BT9AT9AQ9QU/QE/QEPcFeyV7JXsleyV7JXsleyV7JXsleyV7JXjQ0DU1D09A0NA1NQ9PQNDQN+if+iX/in/gn/pk/dr6bDQ==",
        "encoding": "base64",
        "path": [
         "positions",
         "compressed_buffer"
        ]
       }
      ],
      "model_module": "k3d",
      "model_module_version": "2.6.9",
      "model_name": "ObjectModel",
      "state": {
       "_view_count": null,
       "_view_module": null,
       "_view_module_version": "",
       "_view_name": null,
       "color": 10075135,
       "colors": {
        "dtype": "uint32",
        "shape": [
         0
        ]
       },
       "compression_level": 0,
       "id": 4560858384,
       "mesh_detail": 2,
       "model_matrix": {
        "dtype": "float32",
        "shape": [
         4,
         4
        ]
       },
       "name": null,
       "opacity": 1,
       "point_size": 0.1,
       "positions": {
        "dtype": "float32",
        "shape": [
         80,
         3
        ]
       },
       "shader": "3dSpecular",
       "type": "Points",
       "visible": true
      }
     },
     "4ad739678af54588a56036acfbf4d557": {
      "buffers": [
       {
        "data": "eNot0vlP1gUcwPF3rVar1Wq14vR5Hh4eBOSSQy45fZ7v96spoRIiIqJAHCKH3Pf9cD7fLLMss8yyzLLM0sy01KJIo1BDEQUEfWBrba2ttbbW1sfVD6//4JV2l5X0u62su8fG+nttZN6nkHW/wsYHFLIfVMh5SGXzwyq5j6jkPaqS/5hKweMahU9oFD2pUeyiUeKmsc1do9RDo8xTo9ygUWHUqDRpVJk1qr01aiwatT4adb4a9X4aDf4qDQEqjYEqTUEqzcEqLSEKLaEKrWEKbeEK7RE22iNtdETZ6Iy20hljpStWxC2jO14kJGNPFEnJ9CQn0WNNoteWSK8i1AT6NLE8nr4V8fSvFKvi6E8RTy9lIFWsjmVgjVgbw2CaeCaawXSREcXgepEZiWODyFqCY6PIjsCxSeSE49gstoThyA1DzwtFzxfPLkYvEIWiKAS9WGwNRi8R24LQS0WZKA9Er7gjAH27qBRVi9CrRY0/eq2oE/V+6A2iUTT5ojeLloXoraJNtPugd/yv04LeJbqF3Ru9R/Sa0fvMOPrFgBeOQeEQugnHc2KHicHnxQvG/+wULxoY2CVeEi+L3Qb6XxGvij0L6HtN7BWvG+h9Q+wTbxrouWO/AftbRuxvG+k+YKL7HfGuF10Hveh8z0znIW863rfQ8YGF9sM+YiFtH/rS+pEfrUf8afk4gOajgTR9EkTTp8E0HltMw/FQ6o+HU/9ZBHUnIqn9PIqakzFUfxFL1ak4Kk8lsP10IhVfJlP+lZWyMwqlZ+Xj2RWUnFvJ1q9TKP4mlaKhNRQOpVHwbTr532WQN5xJ7nAWW77PJud8Dpsu5JJ9IZ+sHwrYMFJE5kgJGT+Wsu6nctJHK0kbrWbtxVpWX2wg9VITKZdbWXW5nad+7mL5mB1trA/lygC2KzrLru4g6epOEsd3ET++m6XX9hB7bS/RE/uInNjPkusHCL9+kNAbhwi5cZjgySMETh5l0dQx/KZO4Dt1Ep/p01imz2CePofp5hDGm8MYZs7jOTOCx8wo7rOXcJsdw3V2HNdbE7jcmhTTuNyexfW2U8zj5vwFd+eveDh/w9P5Owvm/sA49yemub8wz/+NZf4f/gXLh0p6",
        "encoding": "base64",
        "path": [
         "color_map",
         "compressed_buffer"
        ]
       },
       {
        "data": "eNpjYFBwZMAABxwwxRqwidkDAFK8AuE=",
        "encoding": "base64",
        "path": [
         "model_matrix",
         "compressed_buffer"
        ]
       },
       {
        "data": "eNrl1U1IKlEUB3ASxIVuDF1IMMvBFiJEDGGEUQlRNGGRKEkRFgNDKOZH4252Tn4kSgwMJVEYDkZJRhFYkUQSQwTiomGWA+FCyY0uRLDnU8R8qwePt/Lu7o/LOecPl3tx/N9XlmGyvXKWSKZSycTZD/IHQ+FIJBwK+rvmcthtVqvN7nD9OLhq0MOw3rDaW1EDQRr8P69iuVzsgdccxxcKPJd77cj51d0Tk+e4PPN0d3XetsPjWCKVzmTSqUTs+LBFxJ4/EIqQFEVGQgH/HvHbsF2X025FEQS12p2uXax1cGvDbIB1Wq0ONpg3ttr1VhZnJyEVCKqgydnFlU7nMTUIKBQAqB7rGVEulcr/Kly93rtn+WKlVqsUebYj6ee3D/6rWv3iP96e0y2iL67vs3m+VOLz2fvrC7pJJHV0Ek+mGZZl0sn4yRFF4riX8PmDYTIaj0fJcNDvI7w47sHcLocNtZhMFtTmcLkxD46jyOa6Sa+DlEpIpzetbyJos6BxeWFGowJkMkClmVlYNrYa6yZGh4FBsXgQGB6d0HUmVAJyiUgkkQPK3ixC4R9hS5X693e9UupKjvss1xqNWvmTy7Xl9uHlnStUG41qgXt/ebhtUoy+vHlkuFK9XuKYx5tLOoYfkFT0lE5l2EqFzaTo0yhFHngJwhfYj1BxholTkf2AjyC8HgxzO3esiAmCTIh1x+nGMM82iljWjLBWKZEotbBxzYKg27jZuDQ/BYEyoVAGQlPzS0Zzs/Hc9PgIqBALBGIFODI+PdeeUA0OSUUCgUg6BKq7SWQS4cCAUCLr57z9dp/78L3qk//oF5tnwC4=",
        "encoding": "base64",
        "path": [
         "voxels",
         "compressed_buffer"
        ]
       }
      ],
      "model_module": "k3d",
      "model_module_version": "2.6.9",
      "model_name": "ObjectModel",
      "state": {
       "_view_count": null,
       "_view_module": null,
       "_view_module_version": "",
       "_view_name": null,
       "color_map": {
        "dtype": "uint32",
        "shape": [
         256
        ]
       },
       "compression_level": 0,
       "id": 4506223952,
       "model_matrix": {
        "dtype": "float32",
        "shape": [
         4,
         4
        ]
       },
       "name": null,
       "opacity": 1,
       "outlines": false,
       "outlines_color": 0,
       "type": "Voxels",
       "visible": true,
       "voxels": {
        "dtype": "uint8",
        "shape": [
         8,
         12,
         20
        ]
       },
       "wireframe": false
      }
     },
     "4b5a7e3b275e4093967382beda9741de": {
      "model_module": "@jupyter-widgets/base",
      "model_module_version": "1.2.0",
      "model_name": "LayoutModel",
      "state": {}
     },
     "4baddba28c6a4ed381588e1bd3c47898": {
      "buffers": [
       {
        "data": "eNot0vlP1gUcwPF3rVar1Wq14vR5Hh4eBOSSQy45fZ7v96spoRIiIqJAHCKH3Pf9cD7fLLMss8yyzLLM0sy01KJIo1BDEQUEfWBrba2ttbbW1sfVD6//4JV2l5X0u62su8fG+nttZN6nkHW/wsYHFLIfVMh5SGXzwyq5j6jkPaqS/5hKweMahU9oFD2pUeyiUeKmsc1do9RDo8xTo9ygUWHUqDRpVJk1qr01aiwatT4adb4a9X4aDf4qDQEqjYEqTUEqzcEqLSEKLaEKrWEKbeEK7RE22iNtdETZ6Iy20hljpStWxC2jO14kJGNPFEnJ9CQn0WNNoteWSK8i1AT6NLE8nr4V8fSvFKvi6E8RTy9lIFWsjmVgjVgbw2CaeCaawXSREcXgepEZiWODyFqCY6PIjsCxSeSE49gstoThyA1DzwtFzxfPLkYvEIWiKAS9WGwNRi8R24LQS0WZKA9Er7gjAH27qBRVi9CrRY0/eq2oE/V+6A2iUTT5ojeLloXoraJNtPugd/yv04LeJbqF3Ru9R/Sa0fvMOPrFgBeOQeEQugnHc2KHicHnxQvG/+wULxoY2CVeEi+L3Qb6XxGvij0L6HtN7BWvG+h9Q+wTbxrouWO/AftbRuxvG+k+YKL7HfGuF10Hveh8z0znIW863rfQ8YGF9sM+YiFtH/rS+pEfrUf8afk4gOajgTR9EkTTp8E0HltMw/FQ6o+HU/9ZBHUnIqn9PIqakzFUfxFL1ak4Kk8lsP10IhVfJlP+lZWyMwqlZ+Xj2RWUnFvJ1q9TKP4mlaKhNRQOpVHwbTr532WQN5xJ7nAWW77PJud8Dpsu5JJ9IZ+sHwrYMFJE5kgJGT+Wsu6nctJHK0kbrWbtxVpWX2wg9VITKZdbWXW5nad+7mL5mB1trA/lygC2KzrLru4g6epOEsd3ET++m6XX9hB7bS/RE/uInNjPkusHCL9+kNAbhwi5cZjgySMETh5l0dQx/KZO4Dt1Ep/p01imz2CePofp5hDGm8MYZs7jOTOCx8wo7rOXcJsdw3V2HNdbE7jcmhTTuNyexfW2U8zj5vwFd+eveDh/w9P5Owvm/sA49yemub8wz/+NZf4f/gXLh0p6",
        "encoding": "base64",
        "path": [
         "color_map",
         "compressed_buffer"
        ]
       },
       {
        "data": "eNpjYFBwZMAABxwwxRqwidkDAFK8AuE=",
        "encoding": "base64",
        "path": [
         "model_matrix",
         "compressed_buffer"
        ]
       },
       {
        "data": "eNrl1c9LKlEUB/BJGFzoxtCFBLMcpoUIEUMYYVRCFBkWiZIUYTEwhGL+aPwLnBxNlBgYSqIwFKMkowisSCKJIQJxkcxyIFwoudGFCPZ8iphv9eDxVt7d/XA553zhci8A/PvKsGymV87iiWQyET/7QZQ/EAyFggE/1TWn3Wa1WKw2u/PHwVW9TqvV6Vd7K6pQVAX851Usl4s98Jrl+EKB57KvHTm/unticxyXY5/urs7bdngciSdT6XQqGY8cH7aI3KN8gRDNMHQo4KP2yN9G7DodNguOYbjF5nDuEq2DWxsmvVajVmu0etPGVrveyuLsJKqAYQU6Obu40uk8poQhuRyClWM9I8okEtlfhavXe/d5vlip1SpFPt+R1PPbB/9VrX7xH2/PqRbFLq7vMzm+VOJzmfvri1iTaOboJJpIsfk8m0pET44YGgA8pJfyB+lwNBqmg37KS3oAwE24nHYrbjYazbjV7nQRbgDAsc11o06DIgiq0RnXNzG8WdCwvDCjUkBSKaRQzSwsG1qNNROjw9CgSDQIDY9OaDoTIpBMLBSKZRDSmwUE/whbqtS/v+uVUley3Ge51mjUyp9cti23Dy/vXKHaaFQL3PvLw22TIrHLm0eWK9XrJY59vLmMRYADmgmfxpLpfKWSTydjp2GGPvCQpNe3H2KiLBtlQvs+L0l63AThcuxYMCOKGjHLjsNFEO5tHDOvGbRqRCxG1FrDmhnDtwGTYWl+CoWlICiF0an5JYOp2XhuenwElosEApEcHhmfnmtPqISHJEKBQCgZgpXdJFIxODAAiqX9nLff7nMfvld98h/9AlMm+BA=",
        "encoding": "base64",
        "path": [
         "voxels",
         "compressed_buffer"
        ]
       }
      ],
      "model_module": "k3d",
      "model_module_version": "2.6.9",
      "model_name": "ObjectModel",
      "state": {
       "_view_count": null,
       "_view_module": null,
       "_view_module_version": "",
       "_view_name": null,
       "color_map": {
        "dtype": "uint32",
        "shape": [
         256
        ]
       },
       "compression_level": 0,
       "id": 4572592336,
       "model_matrix": {
        "dtype": "float32",
        "shape": [
         4,
         4
        ]
       },
       "name": null,
       "opacity": 1,
       "outlines": false,
       "outlines_color": 0,
       "type": "Voxels",
       "visible": true,
       "voxels": {
        "dtype": "uint8",
        "shape": [
         8,
         12,
         20
        ]
       },
       "wireframe": false
      }
     },
     "4ca3c0883cba46eeb6bd606e75b2164b": {
      "model_module": "k3d",
      "model_module_version": "2.6.9",
      "model_name": "PlotModel",
      "state": {
       "_backend_version": "2.6.9",
       "_dom_classes": [],
       "_view_count": null,
       "antialias": 3,
       "axes": [
        "x",
        "y",
        "z"
       ],
       "background_color": 16777215,
       "camera": [
        9.80367128973346,
        -14.70550693460019,
        0.9803671289733545,
        0,
        0,
        0,
        0,
        0,
        1
       ],
       "camera_auto_fit": true,
       "camera_no_pan": false,
       "camera_no_rotate": false,
       "camera_no_zoom": false,
       "clipping_planes": [],
       "colorbar_object_id": -1,
       "fps_meter": false,
       "grid": [
        -1,
        -1,
        -1,
        1,
        1,
        1
       ],
       "grid_auto_fit": true,
       "grid_visible": true,
       "height": 512,
       "layout": "IPY_MODEL_d1709308a8994d7290b6be0fc13f17d1",
       "lighting": 1,
       "menu_visibility": true,
       "object_ids": [
        4734588184
       ],
       "rendering_steps": 1,
       "screenshot": "",
       "screenshot_scale": 2,
       "time": 0,
       "voxel_paint_color": 0
      }
     },
     "4d1ac769cedf44668d6119544261209b": {
      "model_module": "@jupyter-widgets/base",
      "model_module_version": "1.2.0",
      "model_name": "LayoutModel",
      "state": {}
     },
     "4d487001e15d4306b5292e5db05181b2": {
      "model_module": "@jupyter-widgets/base",
      "model_module_version": "1.2.0",
      "model_name": "LayoutModel",
      "state": {}
     },
     "4d6f6904d2bf4b45b827ec33f63ee345": {
      "model_module": "@jupyter-widgets/output",
      "model_module_version": "1.0.0",
      "model_name": "OutputModel",
      "state": {
       "layout": "IPY_MODEL_0ded5381777745daaa522b5c4aeac8d0",
       "outputs": [
        {
         "data": {
          "application/vnd.jupyter.widget-view+json": {
           "model_id": "1cb6dddf1f0944d4822f1f44244806d3",
           "version_major": 2,
           "version_minor": 0
          },
          "text/plain": "Plot(antialias=3, axes=['x', 'y', 'z'], background_color=16777215, camera=[4.5, 4.5, 4.5, 0.0, 0.0, 0.0, 1.0, …"
         },
         "metadata": {},
         "output_type": "display_data"
        }
       ]
      }
     },
     "4dadb79df9844b7db0b0507191848c61": {
      "model_module": "@jupyter-widgets/base",
      "model_module_version": "1.2.0",
      "model_name": "LayoutModel",
      "state": {}
     },
     "4fcb5e14fd4d48f78a04f294f2a5dc3f": {
      "model_module": "@jupyter-widgets/base",
      "model_module_version": "1.2.0",
      "model_name": "LayoutModel",
      "state": {}
     },
     "50e1134e2a9d47d9a3657b3cc8baf016": {
      "model_module": "@jupyter-widgets/output",
      "model_module_version": "1.0.0",
      "model_name": "OutputModel",
      "state": {
       "layout": "IPY_MODEL_736d5e4d8e734490ad405d8331afddc3",
       "outputs": [
        {
         "data": {
          "application/vnd.jupyter.widget-view+json": {
           "model_id": "68a5943c6d7e4b44af24d159c45b77df",
           "version_major": 2,
           "version_minor": 0
          },
          "text/plain": "Plot(antialias=3, axes=['x', 'y', 'z'], background_color=16777215, camera=[4.5, 4.5, 4.5, 0.0, 0.0, 0.0, 1.0, …"
         },
         "metadata": {},
         "output_type": "display_data"
        }
       ]
      }
     },
     "51759caebb154cd3a811dc28377087e6": {
      "buffers": [
       {
        "data": "eNoDAAAAAAE=",
        "encoding": "base64",
        "path": [
         "colors",
         "compressed_buffer"
        ]
       },
       {
        "data": "eNpjYGiwZ8AAxIsBAF7EAv0=",
        "encoding": "base64",
        "path": [
         "model_matrix",
         "compressed_buffer"
        ]
       },
       {
        "data": "eNpNkj1oU2EUhkkx7W2jYhGEWDoU/GmxShEMovidDGKXxMHJDoI/NSHWdBIqoqI43JBBRTGoNJsSBJdASlVy73usXZq2cRKLbkolVNPUa0KkjaBn8mxnOD/P973PTGITT77fgXJ8HrdtHy+Ov3CqmRL+rLUQffbBSH1jsInRoQRJz8unnZwrLWBy+AHs5x1czaThFe7DafNz6Wg3QpF7KL/18f6Plx0veRej11vYefGLkdpebyA0O07S4xXWsD0xRTKbK/3AyKFfJDtz2QD3N9u5784QgpEulpvrpw9gecTi5WwKWxv7MPXQz0UvgMH8AHZt+Dh1y3KiR/ox3dlCrbZqpM4s1XF8yxWSnlCkhp7z0ySz5fh3HHxcJ9mZn61gyQqG5dbiwmZ+92kv41zS7WkG+FG+na+9ueSmC10sf7Bix92OOYtfx2z0fr3gJn/62UpZKEbPulf72jj7OV28WTnjbnM2cOJU00i9p7eO3xMTJD1echXDT16RzFYzK//e3iDZOdddwdjJYFhuxWLfcGz34bAwKB6jeIziMYrHKB6jeIziMYrHKB6jeIziMYrHqFxI5UIqF1K5kMqFVC6kciGVC6lcSOVCyjdSvpHyjZRvpHwj5Rsp30j5RjP//SflPyn/SflPfwEeEbDk",
        "encoding": "base64",
        "path": [
         "origins",
         "compressed_buffer"
        ]
       },
       {
        "data": "eNpNUiFLhFEQjGI4EDEYxSgKfsLBlZ1iMQoGgyD+AxHkuGIRFMOJh1q8YJBLZ7kkiLxVQUHkDkwGRW3aDBqsvjlYnfB4A293Z/bNFJUS9q5bztO5mrXm3KnzZJwCF5WSR81t+wj5OLaX/LmzDr7n2w8Wx/A4dOHzx1s++rFi5fsbX23UiVPgXONRw57o5byYWX06R2234d+9n5T5+trIn3v68znjpDqD4fIDbx/f37DXtxdvToE4BeZb1JAvemMPzsxcHly9bhd3C5s++DWSztYu0X4/9OnJCf4B4j/yDuAu3ClzgFzkHFjesXrr0/NNnAJTR9Rw/79e+ePM5cGVNXhoED0mekz0mOgx0WOix0SPiR4TPeq5iR4TPSa+mPgC8QXiC8QXiC8QXyC+QHyB+GKSN0jeIHmD5A2SN0jeIHmD5A3Ff/4h+YfkH5J//ALNZLTI",
        "encoding": "base64",
        "path": [
         "vectors",
         "compressed_buffer"
        ]
       }
      ],
      "model_module": "k3d",
      "model_module_version": "2.6.9",
      "model_name": "ObjectModel",
      "state": {
       "_view_count": null,
       "_view_module": null,
       "_view_module_version": "",
       "_view_name": null,
       "colors": {
        "dtype": "uint32",
        "shape": [
         0
        ]
       },
       "compression_level": 0,
       "head_color": 255,
       "head_size": 1,
       "id": 4710346192,
       "label_size": 1,
       "labels": [],
       "line_width": 0.01,
       "model_matrix": {
        "dtype": "float32",
        "shape": [
         4,
         4
        ]
       },
       "name": null,
       "origin_color": 255,
       "origins": {
        "dtype": "float32",
        "shape": [
         68,
         3
        ]
       },
       "type": "Vectors",
       "use_head": true,
       "vectors": {
        "dtype": "float32",
        "shape": [
         68,
         3
        ]
       },
       "visible": true
      }
     },
     "5357e6108e2048138e8df1408ba0f5f7": {
      "model_module": "@jupyter-widgets/base",
      "model_module_version": "1.2.0",
      "model_name": "LayoutModel",
      "state": {}
     },
     "53b52abb52dc4206a9f402d83005f931": {
      "buffers": [
       {
        "data": "eNoDAAAAAAE=",
        "encoding": "base64",
        "path": [
         "colors",
         "compressed_buffer"
        ]
       },
       {
        "data": "eNpjYGiwZ8AAxIsBAF7EAv0=",
        "encoding": "base64",
        "path": [
         "model_matrix",
         "compressed_buffer"
        ]
       },
       {
        "data": "eNpNk09IVHEQxy/JemlpKYJgqQVJimLVCiLxzXct2EIjCQoq7GASlrAIUmGCRAgFRdEindbFbA0vHYI6FPZmHktJoRIVuBczyv6c8lCUaRDNnJrTm8N3Zj7v9/1OJbcYLq/clfqaKVlqGQ3PP85KV/8L6Wr7+vTXuZt8+OGk1U1r13eS1aoJru/fA9NUcotBrKoI650Z38mdSESpK0My8KWWl1c+Ss2GvNzJr2EqlmT62w2p7X4dlp8ckOG6a/L5x8ZwYH6IP229anUQ23eMrFZNQNndMI32UvnUMKxXZ1Ks6h1spu6iYhTP2K5HvVkeTzVE6b4dcubVXj5yIhGtflYnU9ubuLF9QUZnt0lqMM0f2sdk4s1m+Z2Ms1RapdyXlO+xi+Hf1AgPHkpYHaziZrJaNdS8ZRdMo720qVSA9epMmizNwWbqLrp/L56xXcpAx9+nM8YwM31Q/6khko4c5/+0cqk7Eb09epb7T7foOyyIviPPP8jyyNKY6D/zz+eNfOlWm+hu1vcMLxQmeN3LaqsD/ZLVqqHLPfUwjfZSR3UB1qsz9X3mYDN1F528Hc/YLmWg5Gw6YwyOhxwPOR5yPOR4yPGQ4yHHQ46HHA85HnI85PyC8wvOLzi/4PyC8wvOLzi/4PyC8wvOLzi/4HILl1u43MLlFi63cLmFyy1cbuFyC5dbVP7fHdzdwd0d3N3B3R3c3eEfvcjK8g==",
        "encoding": "base64",
        "path": [
         "origins",
         "compressed_buffer"
        ]
       },
       {
        "data": "eNpNkz0vRFEQhqlEIwqNROIrUQilct6SRCOi8AcIEbuFkmyllIhtN7JUdEKoxJlCYgu7G+WqqPgBKxtEY+bmTPIWkzM3dz6ec96ZTqmMRYVUPi/0e3kSZ0Pr0px70K2VLXHb33x2P4VvMRoxnVJZI7d9eYvazbj01ZfUvoua/v+8egLPtVNndlYxenokE4dX+vFVF7e364b7KXyL0YjxnMj1HlHTemn0uttrYHdtWKYqr2n75RHTs/NSe+9X4yvu4rxWq+jrtX/GjtE7SGKndgd+xa33dO9+Ct//RYxzRK7fOWpaL41exqDB0G61MNgdEbNU/WtiY3VBzJK9HfKbJrsn8v2T9UPmSHY3ZNNshZ/5ipj8XkVu1qaoab00ehmDBgPxCPEI8QjxCPEI8YB4QDxCPEI8QjxCPEJ6CekF0gukF0gvkF4gvUB6gfQC6QXSC6SX0NyC5hY0t6C5Bc0taG5BcwuaW9Dcgua2eMe8O6C9A+0daO9AewfaO/wDaMzjfA==",
        "encoding": "base64",
        "path": [
         "vectors",
         "compressed_buffer"
        ]
       }
      ],
      "model_module": "k3d",
      "model_module_version": "2.6.9",
      "model_name": "ObjectModel",
      "state": {
       "_view_count": null,
       "_view_module": null,
       "_view_module_version": "",
       "_view_name": null,
       "colors": {
        "dtype": "uint32",
        "shape": [
         0
        ]
       },
       "compression_level": 0,
       "head_color": 255,
       "head_size": 1,
       "id": 4710905936,
       "label_size": 1,
       "labels": [],
       "line_width": 0.01,
       "model_matrix": {
        "dtype": "float32",
        "shape": [
         4,
         4
        ]
       },
       "name": null,
       "origin_color": 255,
       "origins": {
        "dtype": "float32",
        "shape": [
         80,
         3
        ]
       },
       "type": "Vectors",
       "use_head": true,
       "vectors": {
        "dtype": "float32",
        "shape": [
         80,
         3
        ]
       },
       "visible": true
      }
     },
     "53e0abecab594b129136c40c0f4453c2": {
      "model_module": "@jupyter-widgets/output",
      "model_module_version": "1.0.0",
      "model_name": "OutputModel",
      "state": {
       "layout": "IPY_MODEL_1a84e16ef96b456086b7645a13c60b8b",
       "outputs": [
        {
         "data": {
          "application/vnd.jupyter.widget-view+json": {
           "model_id": "7d4a221651214b7384f430557186c48e",
           "version_major": 2,
           "version_minor": 0
          },
          "text/plain": "Plot(antialias=3, axes=['x', 'y', 'z'], background_color=16777215, camera=[4.5, 4.5, 4.5, 0.0, 0.0, 0.0, 1.0, …"
         },
         "metadata": {},
         "output_type": "display_data"
        }
       ]
      }
     },
     "562d9de4b3c04495abd87a22776f5fa3": {
      "model_module": "@jupyter-widgets/base",
      "model_module_version": "1.2.0",
      "model_name": "LayoutModel",
      "state": {}
     },
     "56be1edc3fa34c6d8e98215f8a281732": {
      "buffers": [
       {
        "data": "eNot0vlP1gUcwPF3rVar1Wq14vR5Hh4eBOSSQy45fZ7v96spoRIiIqJAHCKH3Pf9cD7fLLMss8yyzLLM0sy01KJIo1BDEQUEfWBrba2ttbbW1sfVD6//4JV2l5X0u62su8fG+nttZN6nkHW/wsYHFLIfVMh5SGXzwyq5j6jkPaqS/5hKweMahU9oFD2pUeyiUeKmsc1do9RDo8xTo9ygUWHUqDRpVJk1qr01aiwatT4adb4a9X4aDf4qDQEqjYEqTUEqzcEqLSEKLaEKrWEKbeEK7RE22iNtdETZ6Iy20hljpStWxC2jO14kJGNPFEnJ9CQn0WNNoteWSK8i1AT6NLE8nr4V8fSvFKvi6E8RTy9lIFWsjmVgjVgbw2CaeCaawXSREcXgepEZiWODyFqCY6PIjsCxSeSE49gstoThyA1DzwtFzxfPLkYvEIWiKAS9WGwNRi8R24LQS0WZKA9Er7gjAH27qBRVi9CrRY0/eq2oE/V+6A2iUTT5ojeLloXoraJNtPugd/yv04LeJbqF3Ru9R/Sa0fvMOPrFgBeOQeEQugnHc2KHicHnxQvG/+wULxoY2CVeEi+L3Qb6XxGvij0L6HtN7BWvG+h9Q+wTbxrouWO/AftbRuxvG+k+YKL7HfGuF10Hveh8z0znIW863rfQ8YGF9sM+YiFtH/rS+pEfrUf8afk4gOajgTR9EkTTp8E0HltMw/FQ6o+HU/9ZBHUnIqn9PIqakzFUfxFL1ak4Kk8lsP10IhVfJlP+lZWyMwqlZ+Xj2RWUnFvJ1q9TKP4mlaKhNRQOpVHwbTr532WQN5xJ7nAWW77PJud8Dpsu5JJ9IZ+sHwrYMFJE5kgJGT+Wsu6nctJHK0kbrWbtxVpWX2wg9VITKZdbWXW5nad+7mL5mB1trA/lygC2KzrLru4g6epOEsd3ET++m6XX9hB7bS/RE/uInNjPkusHCL9+kNAbhwi5cZjgySMETh5l0dQx/KZO4Dt1Ep/p01imz2CePofp5hDGm8MYZs7jOTOCx8wo7rOXcJsdw3V2HNdbE7jcmhTTuNyexfW2U8zj5vwFd+eveDh/w9P5Owvm/sA49yemub8wz/+NZf4f/gXLh0p6",
        "encoding": "base64",
        "path": [
         "color_map",
         "compressed_buffer"
        ]
       },
       {
        "data": "eNpjYFBwZMAABxwwxRjsMYUa7AFHpwJg",
        "encoding": "base64",
        "path": [
         "model_matrix",
         "compressed_buffer"
        ]
       },
       {
        "data": "eNpjYACBN19+////+8sbBji4eOvp+5///v18//TWRYjItr1Hz916/vXfv6/Pb507uncbUGjJinVb95269eb37ze3Tu3bum7FEoYp02bOXbRi08EbX77cOLhpxaK5M6dNae/o6OrpmzRz+alTy2dO6uvp6uhor6yoKCspykuPNDOLTM8rKimrqKjMyUpPjovws9fg4dGw94uIS07PymGIiQjydjJTE2FlFVEzc/IOiogBWuzlbG2kJsnNxMQtqWZk7ewFcaG+mrQgOxMTu6C0mj7CJyI8rIyMrDwiEB4A19heAQ==",
        "encoding": "base64",
        "path": [
         "voxels",
         "compressed_buffer"
        ]
       }
      ],
      "model_module": "k3d",
      "model_module_version": "2.6.9",
      "model_name": "ObjectModel",
      "state": {
       "_view_count": null,
       "_view_module": null,
       "_view_module_version": "",
       "_view_name": null,
       "color_map": {
        "dtype": "uint32",
        "shape": [
         256
        ]
       },
       "compression_level": 0,
       "id": 4596499728,
       "model_matrix": {
        "dtype": "float32",
        "shape": [
         4,
         4
        ]
       },
       "name": null,
       "opacity": 1,
       "outlines": false,
       "outlines_color": 0,
       "type": "Voxels",
       "visible": true,
       "voxels": {
        "dtype": "uint8",
        "shape": [
         1,
         12,
         20
        ]
       },
       "wireframe": false
      }
     },
     "57b90f83403843e8aff6f75a91284d40": {
      "model_module": "k3d",
      "model_module_version": "2.6.9",
      "model_name": "PlotModel",
      "state": {
       "_backend_version": "2.6.9",
       "_dom_classes": [],
       "_view_count": null,
       "antialias": 3,
       "axes": [
        "x",
        "y",
        "z"
       ],
       "background_color": 16777215,
       "camera": [
        4.5,
        4.5,
        4.5,
        0,
        0,
        0,
        1,
        0,
        0
       ],
       "camera_auto_fit": true,
       "camera_no_pan": false,
       "camera_no_rotate": false,
       "camera_no_zoom": false,
       "clipping_planes": [],
       "colorbar_object_id": -1,
       "fps_meter": false,
       "grid": [
        -1,
        -1,
        -1,
        1,
        1,
        1
       ],
       "grid_auto_fit": true,
       "grid_visible": true,
       "height": 512,
       "layout": "IPY_MODEL_f57860506ecc48ec819c6bc245ca1f5c",
       "lighting": 1,
       "menu_visibility": true,
       "object_ids": [
        4707051280,
        4717664400,
        4717716304,
        4717664656,
        4516833168,
        4701903056,
        4640523088,
        4713015376,
        4715985552,
        4715959760
       ],
       "rendering_steps": 1,
       "screenshot": "",
       "screenshot_scale": 2,
       "time": 0,
       "voxel_paint_color": 0
      }
     },
     "57bdca8652f2428b91b84a4abfaa3601": {
      "model_module": "k3d",
      "model_module_version": "2.6.9",
      "model_name": "PlotModel",
      "state": {
       "_backend_version": "2.6.9",
       "_dom_classes": [],
       "_view_count": null,
       "antialias": 3,
       "axes": [
        "x",
        "y",
        "z"
       ],
       "background_color": 16777215,
       "camera": [
        9.828951377057189,
        -14.743427065585788,
        0.9828951377057292,
        0,
        0,
        0,
        0,
        0,
        1
       ],
       "camera_auto_fit": true,
       "camera_no_pan": false,
       "camera_no_rotate": false,
       "camera_no_zoom": false,
       "clipping_planes": [],
       "colorbar_object_id": -1,
       "fps_meter": false,
       "grid": [
        -1,
        -1,
        -1,
        1,
        1,
        1
       ],
       "grid_auto_fit": true,
       "grid_visible": true,
       "height": 512,
       "layout": "IPY_MODEL_eebfdfded771419bb43ac6edbd0b225e",
       "lighting": 1,
       "menu_visibility": true,
       "object_ids": [
        4526090320,
        4526142416
       ],
       "rendering_steps": 1,
       "screenshot": "",
       "screenshot_scale": 2,
       "time": 0,
       "voxel_paint_color": 0
      }
     },
     "57d1182a787e4206947fe135d2519204": {
      "buffers": [
       {
        "data": "eNoDAAAAAAE=",
        "encoding": "base64",
        "path": [
         "colors",
         "compressed_buffer"
        ]
       },
       {
        "data": "eNpjYGiwZ8AAxIsBAF7EAv0=",
        "encoding": "base64",
        "path": [
         "model_matrix",
         "compressed_buffer"
        ]
       },
       {
        "data": "eNpN0MENgCAQRFEqm5nSLGUrcVuhFEME/QfDP8CLmTGSMarfb3XQ140W7vjvQs9+3x8zMAMzMAMzME9Pdu/32z8d9Dq/Fu4Yb9GT3fufji/4gi/4gi/4gi/sY+xj7GPsY+xj7GPsY+wDs2AWzIJZMAtm+QEXvmyN",
        "encoding": "base64",
        "path": [
         "positions",
         "compressed_buffer"
        ]
       }
      ],
      "model_module": "k3d",
      "model_module_version": "2.6.9",
      "model_name": "ObjectModel",
      "state": {
       "_view_count": null,
       "_view_module": null,
       "_view_module_version": "",
       "_view_name": null,
       "color": 10075135,
       "colors": {
        "dtype": "uint32",
        "shape": [
         0
        ]
       },
       "compression_level": 0,
       "id": 4707009296,
       "mesh_detail": 2,
       "model_matrix": {
        "dtype": "float32",
        "shape": [
         4,
         4
        ]
       },
       "name": null,
       "opacity": 1,
       "point_size": 0.1,
       "positions": {
        "dtype": "float32",
        "shape": [
         44,
         3
        ]
       },
       "shader": "3dSpecular",
       "type": "Points",
       "visible": true
      }
     },
     "57fc8722dafe421c842e3eace303cb96": {
      "model_module": "k3d",
      "model_module_version": "2.6.9",
      "model_name": "PlotModel",
      "state": {
       "_backend_version": "2.6.9",
       "_dom_classes": [],
       "_view_count": null,
       "antialias": 3,
       "axes": [
        "x",
        "y",
        "z"
       ],
       "background_color": 16777215,
       "camera": [
        10.284874878907916,
        -15.489812315567907,
        1.0059874815950598,
        -0.02499999664723873,
        -0.02500000223517418,
        -0.025000005960464478,
        0,
        0,
        1
       ],
       "camera_auto_fit": true,
       "camera_no_pan": false,
       "camera_no_rotate": false,
       "camera_no_zoom": false,
       "clipping_planes": [],
       "colorbar_object_id": -1,
       "fps_meter": false,
       "grid": [
        -1,
        -1,
        -1,
        1,
        1,
        1
       ],
       "grid_auto_fit": true,
       "grid_visible": true,
       "height": 512,
       "layout": "IPY_MODEL_abaafb25cf394fc58bc35e6d7a8cdd0c",
       "lighting": 1,
       "menu_visibility": true,
       "object_ids": [
        4610104960
       ],
       "rendering_steps": 1,
       "screenshot": "",
       "screenshot_scale": 2,
       "time": 0,
       "voxel_paint_color": 0
      }
     },
     "57febdfd8a7d49828b01bb379712b2a4": {
      "model_module": "k3d",
      "model_module_version": "2.6.9",
      "model_name": "PlotModel",
      "state": {
       "_backend_version": "2.6.9",
       "_dom_classes": [],
       "_view_count": null,
       "antialias": 3,
       "axes": [
        "x",
        "y",
        "z"
       ],
       "background_color": 16777215,
       "camera": [
        10.284874878907916,
        -15.489812315567907,
        1.0059874815950598,
        -0.02499999664723873,
        -0.02500000223517418,
        -0.025000005960464478,
        0,
        0,
        1
       ],
       "camera_auto_fit": true,
       "camera_no_pan": false,
       "camera_no_rotate": false,
       "camera_no_zoom": false,
       "clipping_planes": [],
       "colorbar_object_id": -1,
       "fps_meter": false,
       "grid": [
        -1,
        -1,
        -1,
        1,
        1,
        1
       ],
       "grid_auto_fit": true,
       "grid_visible": true,
       "height": 512,
       "layout": "IPY_MODEL_716accd743d5466284582ce1e394c43d",
       "lighting": 1,
       "menu_visibility": true,
       "object_ids": [
        4610104008
       ],
       "rendering_steps": 1,
       "screenshot": "",
       "screenshot_scale": 2,
       "time": 0,
       "voxel_paint_color": 0
      }
     },
     "5898e12c56c148b38ebbe94e1f51715b": {
      "model_module": "@jupyter-widgets/base",
      "model_module_version": "1.2.0",
      "model_name": "LayoutModel",
      "state": {}
     },
     "5947861ae9484691893d640e690d2a4d": {
      "buffers": [
       {
        "data": "eNoDAAAAAAE=",
        "encoding": "base64",
        "path": [
         "colors",
         "compressed_buffer"
        ]
       },
       {
        "data": "eNpjYGiwZ8AAxIsBAF7EAv0=",
        "encoding": "base64",
        "path": [
         "model_matrix",
         "compressed_buffer"
        ]
       },
       {
        "data": "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",
        "encoding": "base64",
        "path": [
         "positions",
         "compressed_buffer"
        ]
       }
      ],
      "model_module": "k3d",
      "model_module_version": "2.6.9",
      "model_name": "ObjectModel",
      "state": {
       "_view_count": null,
       "_view_module": null,
       "_view_module_version": "",
       "_view_name": null,
       "color": 10075135,
       "colors": {
        "dtype": "uint32",
        "shape": [
         0
        ]
       },
       "compression_level": 0,
       "id": 4526142416,
       "mesh_detail": 2,
       "model_matrix": {
        "dtype": "float32",
        "shape": [
         4,
         4
        ]
       },
       "name": null,
       "opacity": 1,
       "point_size": 0.1,
       "positions": {
        "dtype": "float32",
        "shape": [
         1008,
         3
        ]
       },
       "shader": "3dSpecular",
       "type": "Points",
       "visible": true
      }
     },
     "599530164c2c40c2ba27852787df8a54": {
      "model_module": "@jupyter-widgets/base",
      "model_module_version": "1.2.0",
      "model_name": "LayoutModel",
      "state": {}
     },
     "5a952ffa214e460cb9a1e4d3143413e3": {
      "model_module": "k3d",
      "model_module_version": "2.6.9",
      "model_name": "PlotModel",
      "state": {
       "_backend_version": "2.6.9",
       "_dom_classes": [],
       "_view_count": null,
       "antialias": 3,
       "axes": [
        "x",
        "y",
        "z"
       ],
       "background_color": 16777215,
       "camera": [
        10.284874878907916,
        -15.489812315567907,
        1.0059874815950598,
        -0.02499999664723873,
        -0.02500000223517418,
        -0.025000005960464478,
        0,
        0,
        1
       ],
       "camera_auto_fit": true,
       "camera_no_pan": false,
       "camera_no_rotate": false,
       "camera_no_zoom": false,
       "clipping_planes": [],
       "colorbar_object_id": -1,
       "fps_meter": false,
       "grid": [
        -1,
        -1,
        -1,
        1,
        1,
        1
       ],
       "grid_auto_fit": true,
       "grid_visible": true,
       "height": 512,
       "layout": "IPY_MODEL_ea8e3bc3485242f7aa445dd482bda86b",
       "lighting": 1,
       "menu_visibility": true,
       "object_ids": [
        4556162960
       ],
       "rendering_steps": 1,
       "screenshot": "",
       "screenshot_scale": 2,
       "time": 0,
       "voxel_paint_color": 0
      }
     },
     "5bcf55a11f814afebc9230161765b549": {
      "buffers": [
       {
        "data": "eNqL43ZjiAPiSFZXMA5hdEHBMPE4qLpOLzsw7nBzAON2J0cwbnNwQsEwcZg6mL6+Kk0IrtCC4HICGKYOqq91uRIYN69UhuBVKvgxVB1MX8S5PDAOvlgOxn6X68HY+0oLCoaJw9TB9Mk8fQ/Gis9+gLHq878oGCYOUwcApvNyEQ==",
        "encoding": "base64",
        "path": [
         "colors",
         "compressed_buffer"
        ]
       },
       {
        "data": "eNpjYGiwZ8AAxIsBAF7EAv0=",
        "encoding": "base64",
        "path": [
         "model_matrix",
         "compressed_buffer"
        ]
       },
       {
        "data": "eNpNkTFIQmEUhaEk7FFkadTg0FZQo0L1eP+5PCwwHNqsIQoC28RsDKKgwZaGBqUICoKgpSXQpf47imBTS1tREg4WDvkwKsh/6m5nOPfj8p3kpU3+syJfJwrcjjv0+JvmIy/PXhDk1p50oZxnq0HUTu86JvuLLk10DcJ0rpZj1F47gLk99s3S0LTHtzrK8W2bGjslfhmPcm3KofdWhg9vInzRC6oP1/T5VoRXPKK7xVXH5PCDS0FrAKZT2o9RaC8Hc7vxPUcf5QoM87k+0/nT44VQVlfXbQp8lXgJm7oedujTyvLkSUY3u0Gp1Jv2IaMDP0T31YRj8uirS32tfphO5DRGzZ4czO3YyHzn/woMU/CV4CvBV4KvBF8JvhJ8JfhK+IHwA+EHwg+EHwg/EH4g/CD5vyPEjhA7QuwIsSPEjvgDj3fwiQ==",
        "encoding": "base64",
        "path": [
         "origins",
         "compressed_buffer"
        ]
       },
       {
        "data": "eNpNkbFKA0EURXu3MGDq+QHrLYT3bjBfkB8Qi7T+gZUg6awCfoGthRBCYGfHBBG3WAsrOwtT2GjrWmyRecIjt5oLc9+ZN/eGssDp3wKhLNLn1b2edxW+bgfp8uBbrptH3MyOTEfX2VO7x2Z89udihPn6ASfDuzrfwTzmDS8LXb4/IZ/15OxX3o4b9M8r09G13bnHuD6bmcmZ3Xb8v+e0+oh5D9g+tleeV+MYb3PYy2vbIp+mo2t7wz32B5/NzORM4gvxhfhCfCG+EF+IL8QXykcpH6V8lPJRykcpH6V8lPLRsO8R1COoR1CPoB5BPWIHWhgaHA==",
        "encoding": "base64",
        "path": [
         "vectors",
         "compressed_buffer"
        ]
       }
      ],
      "model_module": "k3d",
      "model_module_version": "2.6.9",
      "model_name": "ObjectModel",
      "state": {
       "_view_count": null,
       "_view_module": null,
       "_view_module_version": "",
       "_view_name": null,
       "colors": {
        "dtype": "uint32",
        "shape": [
         44,
         2
        ]
       },
       "compression_level": 0,
       "head_color": 255,
       "head_size": 1,
       "id": 4577402384,
       "label_size": 1,
       "labels": [],
       "line_width": 0.01,
       "model_matrix": {
        "dtype": "float32",
        "shape": [
         4,
         4
        ]
       },
       "name": null,
       "origin_color": 255,
       "origins": {
        "dtype": "float32",
        "shape": [
         44,
         3
        ]
       },
       "type": "Vectors",
       "use_head": true,
       "vectors": {
        "dtype": "float32",
        "shape": [
         44,
         3
        ]
       },
       "visible": true
      }
     },
     "5bd9006e07164d42a150f13d240c6109": {
      "buffers": [
       {
        "data": "eNoDAAAAAAE=",
        "encoding": "base64",
        "path": [
         "colors",
         "compressed_buffer"
        ]
       },
       {
        "data": "eNpjYGiwZ8AAxIsBAF7EAv0=",
        "encoding": "base64",
        "path": [
         "model_matrix",
         "compressed_buffer"
        ]
       },
       {
        "data": "eNpNkcENwzAMAzVCRskEFEfrKJqk7SgapRVgO/cIfI+IR4AR8Y3wJ6L/3/DrDdbDzofnrcUFNnhyCjmFnHMLbvC1srbLcBkuw2W4DJfhMlybLz98r6zdYfN02Fxgg+c9LPyTuAU3eDpsvskr6/QR+gh9hD5CH6GP0EfoI/QR+gh90GHuzy6JXRK7JHZJ7JLYJbFLYpfELnAVXAVXwVVwFVwFV8HFnEZOI6eR0/kDbuG3nQ==",
        "encoding": "base64",
        "path": [
         "positions",
         "compressed_buffer"
        ]
       }
      ],
      "model_module": "k3d",
      "model_module_version": "2.6.9",
      "model_name": "ObjectModel",
      "state": {
       "_view_count": null,
       "_view_module": null,
       "_view_module_version": "",
       "_view_name": null,
       "color": 10075135,
       "colors": {
        "dtype": "uint32",
        "shape": [
         0
        ]
       },
       "compression_level": 0,
       "id": 4717324688,
       "mesh_detail": 2,
       "model_matrix": {
        "dtype": "float32",
        "shape": [
         4,
         4
        ]
       },
       "name": null,
       "opacity": 1,
       "point_size": 0.1,
       "positions": {
        "dtype": "float32",
        "shape": [
         68,
         3
        ]
       },
       "shader": "3dSpecular",
       "type": "Points",
       "visible": true
      }
     },
     "5be3f9d33a294bfcaa9aa6e3cf23f5af": {
      "model_module": "@jupyter-widgets/base",
      "model_module_version": "1.2.0",
      "model_name": "LayoutModel",
      "state": {}
     },
     "5bff4486568742feb4109588af6f78e4": {
      "model_module": "k3d",
      "model_module_version": "2.6.9",
      "model_name": "PlotModel",
      "state": {
       "_backend_version": "2.6.9",
       "_dom_classes": [],
       "_view_count": null,
       "antialias": 3,
       "axes": [
        "x",
        "y",
        "z"
       ],
       "background_color": 16777215,
       "camera": [
        10.284874878907916,
        -15.489812315567907,
        1.0059874815950598,
        -0.02499999664723873,
        -0.02500000223517418,
        -0.025000005960464478,
        0,
        0,
        1
       ],
       "camera_auto_fit": true,
       "camera_no_pan": false,
       "camera_no_rotate": false,
       "camera_no_zoom": false,
       "clipping_planes": [],
       "colorbar_object_id": -1,
       "fps_meter": false,
       "grid": [
        -1,
        -1,
        -1,
        1,
        1,
        1
       ],
       "grid_auto_fit": true,
       "grid_visible": true,
       "height": 512,
       "layout": "IPY_MODEL_481b40ebabf94f4cb476e337042d2015",
       "lighting": 1,
       "menu_visibility": true,
       "object_ids": [
        4572592336
       ],
       "rendering_steps": 1,
       "screenshot": "",
       "screenshot_scale": 2,
       "time": 0,
       "voxel_paint_color": 0
      }
     },
     "5c35d18c24be466597fe03cbba022203": {
      "buffers": [
       {
        "data": "eNoDAAAAAAE=",
        "encoding": "base64",
        "path": [
         "colors",
         "compressed_buffer"
        ]
       },
       {
        "data": "eNpjYGiwZ8AAxIsBAF7EAv0=",
        "encoding": "base64",
        "path": [
         "model_matrix",
         "compressed_buffer"
        ]
       },
       {
        "data": "eNpNkj1oU2EUhkkx7W2jYhGEWDoU/GmxShEMovidDGKXxMHJDoI/NSHWdBIqoqI43JBBRTGoNJsSBJdASlVy73usXZq2cRKLbkolVNPUa0KkjaBn8mxnOD/P973PTGITT77fgXJ8HrdtHy+Ov3CqmRL+rLUQffbBSH1jsInRoQRJz8unnZwrLWBy+AHs5x1czaThFe7DafNz6Wg3QpF7KL/18f6Plx0veRej11vYefGLkdpebyA0O07S4xXWsD0xRTKbK/3AyKFfJDtz2QD3N9u5784QgpEulpvrpw9gecTi5WwKWxv7MPXQz0UvgMH8AHZt+Dh1y3KiR/ox3dlCrbZqpM4s1XF8yxWSnlCkhp7z0ySz5fh3HHxcJ9mZn61gyQqG5dbiwmZ+92kv41zS7WkG+FG+na+9ueSmC10sf7Bix92OOYtfx2z0fr3gJn/62UpZKEbPulf72jj7OV28WTnjbnM2cOJU00i9p7eO3xMTJD1echXDT16RzFYzK//e3iDZOdddwdjJYFhuxWLfcGz34bAwKB6jeIziMYrHKB6jeIziMYrHKB6jeIziMYrHqFxI5UIqF1K5kMqFVC6kciGVC6lcSOVCyjdSvpHyjZRvpHwj5Rsp30j5RjP//SflPyn/SflPfwEeEbDk",
        "encoding": "base64",
        "path": [
         "origins",
         "compressed_buffer"
        ]
       },
       {
        "data": "eNpNUiFLhFEQjGI4EDEYxSgKfsLBlZ1iMQoGgyD+AxHkuGIRFMOJh1q8YJBLZ7kkiLxVQUHkDkwGRW3aDBqsvjlYnfB4A293Z/bNFJUS9q5bztO5mrXm3KnzZJwCF5WSR81t+wj5OLaX/LmzDr7n2w8Wx/A4dOHzx1s++rFi5fsbX23UiVPgXONRw57o5byYWX06R2234d+9n5T5+trIn3v68znjpDqD4fIDbx/f37DXtxdvToE4BeZb1JAvemMPzsxcHly9bhd3C5s++DWSztYu0X4/9OnJCf4B4j/yDuAu3ClzgFzkHFjesXrr0/NNnAJTR9Rw/79e+ePM5cGVNXhoED0mekz0mOgx0WOix0SPiR4TPeq5iR4TPSa+mPgC8QXiC8QXiC8QXyC+QHyB+GKSN0jeIHmD5A2SN0jeIHmD5A3Ff/4h+YfkH5J//ALNZLTI",
        "encoding": "base64",
        "path": [
         "vectors",
         "compressed_buffer"
        ]
       }
      ],
      "model_module": "k3d",
      "model_module_version": "2.6.9",
      "model_name": "ObjectModel",
      "state": {
       "_view_count": null,
       "_view_module": null,
       "_view_module_version": "",
       "_view_name": null,
       "colors": {
        "dtype": "uint32",
        "shape": [
         0
        ]
       },
       "compression_level": 0,
       "head_color": 255,
       "head_size": 1,
       "id": 4717716304,
       "label_size": 1,
       "labels": [],
       "line_width": 0.01,
       "model_matrix": {
        "dtype": "float32",
        "shape": [
         4,
         4
        ]
       },
       "name": null,
       "origin_color": 255,
       "origins": {
        "dtype": "float32",
        "shape": [
         68,
         3
        ]
       },
       "type": "Vectors",
       "use_head": true,
       "vectors": {
        "dtype": "float32",
        "shape": [
         68,
         3
        ]
       },
       "visible": true
      }
     },
     "5c46fe5bc471461eb823974b41c6419c": {
      "buffers": [
       {
        "data": "eNoDAAAAAAE=",
        "encoding": "base64",
        "path": [
         "colors",
         "compressed_buffer"
        ]
       },
       {
        "data": "eNpjYGiwZ8AAxIsBAF7EAv0=",
        "encoding": "base64",
        "path": [
         "model_matrix",
         "compressed_buffer"
        ]
       },
       {
        "data": "eNpN0VENwzAMBuFAGJQisA1tUIxkK5RAmbIq7ZeXnqL0dNI/xjr9HWN+/zgKfn/g4E0+3PDrvFzrrLvNDRe8/I2/8Tf+2wm/6uHjvLy7oWgoGoqGoqFoKBqKhqKhaNh8yOfl3T2bV8/mhgte35uDN8m/8IRXz+ZDPi/X3RP0BD1BT9AT9AQ9QU/QE/QEPcFeyV7JXsleyV7JXsleyV7JXsleyV7JXjQ0DU1D09A0NA1NQ9PQNDQN+if+iX/in/gn/pk/dr6bDQ==",
        "encoding": "base64",
        "path": [
         "positions",
         "compressed_buffer"
        ]
       }
      ],
      "model_module": "k3d",
      "model_module_version": "2.6.9",
      "model_name": "ObjectModel",
      "state": {
       "_view_count": null,
       "_view_module": null,
       "_view_module_version": "",
       "_view_name": null,
       "color": 10075135,
       "colors": {
        "dtype": "uint32",
        "shape": [
         0
        ]
       },
       "compression_level": 0,
       "id": 4577336272,
       "mesh_detail": 2,
       "model_matrix": {
        "dtype": "float32",
        "shape": [
         4,
         4
        ]
       },
       "name": null,
       "opacity": 1,
       "point_size": 0.1,
       "positions": {
        "dtype": "float32",
        "shape": [
         80,
         3
        ]
       },
       "shader": "3dSpecular",
       "type": "Points",
       "visible": true
      }
     },
     "5e45c78187da4e69b22a2bf06cd643af": {
      "model_module": "@jupyter-widgets/output",
      "model_module_version": "1.0.0",
      "model_name": "OutputModel",
      "state": {
       "layout": "IPY_MODEL_98987b684ba0426bb16cc3ad836a8d9e",
       "outputs": [
        {
         "data": {
          "application/vnd.jupyter.widget-view+json": {
           "model_id": "db61925d85914b588b5a558fbf4e20d5",
           "version_major": 2,
           "version_minor": 0
          },
          "text/plain": "Plot(antialias=3, axes=['x', 'y', 'z'], background_color=16777215, camera=[4.5, 4.5, 4.5, 0.0, 0.0, 0.0, 1.0, …"
         },
         "metadata": {},
         "output_type": "display_data"
        }
       ]
      }
     },
     "5e50c6a17bb94cf4ab85bbf2665751bf": {
      "model_module": "@jupyter-widgets/base",
      "model_module_version": "1.2.0",
      "model_name": "LayoutModel",
      "state": {}
     },
     "5e86bedfa73d4d0d89cce57670f538fc": {
      "model_module": "@jupyter-widgets/base",
      "model_module_version": "1.2.0",
      "model_name": "LayoutModel",
      "state": {}
     },
     "5e8b4f547b9e424483fbf2d93b7633bd": {
      "model_module": "k3d",
      "model_module_version": "2.6.9",
      "model_name": "PlotModel",
      "state": {
       "_backend_version": "2.6.9",
       "_dom_classes": [],
       "_view_count": null,
       "antialias": 3,
       "axes": [
        "x",
        "y",
        "z"
       ],
       "background_color": 16777215,
       "camera": [
        9.733137238263115,
        -14.662205854600705,
        0.9758137234910438,
        -0.02499999664723873,
        -0.02500000223517418,
        0,
        0,
        0,
        1
       ],
       "camera_auto_fit": true,
       "camera_no_pan": false,
       "camera_no_rotate": false,
       "camera_no_zoom": false,
       "clipping_planes": [],
       "colorbar_object_id": -1,
       "fps_meter": false,
       "grid": [
        -1,
        -1,
        -1,
        1,
        1,
        1
       ],
       "grid_auto_fit": true,
       "grid_visible": true,
       "height": 512,
       "layout": "IPY_MODEL_0d39bcb45f4e4bc2ab4288846d56a1c3",
       "lighting": 1,
       "menu_visibility": true,
       "object_ids": [
        4667452440
       ],
       "rendering_steps": 1,
       "screenshot": "",
       "screenshot_scale": 2,
       "time": 0,
       "voxel_paint_color": 0
      }
     },
     "5ea3d88f6f774a9cb63d48717f80bae2": {
      "buffers": [
       {
        "data": "eNoLvljOEAzEhfucwLh9oTwY9zWog3FvogkYd7g5gLHkoxtgrHz/EBhb35wLxgmnEsC4ZYUSGPdVaoJxd6A1GDeYuIFxibIHGGdJQLDCs29gLPv0IxhLPnkOxjIPL4Cxzc3ZYFy91RCM+3L0wbjR1BWM82Q8wDhZwB2MY7ncwDiKHYJVn/9FwcrPf4MxzF7JJ0/BOBgaDjB/pgi6gzHMnHAWVzAOY3IB4xBGCKa1+bQOH2rHZzCJ6QkAgWfRNQ==",
        "encoding": "base64",
        "path": [
         "colors",
         "compressed_buffer"
        ]
       },
       {
        "data": "eNpjYGiwZ8AAxIsBAF7EAv0=",
        "encoding": "base64",
        "path": [
         "model_matrix",
         "compressed_buffer"
        ]
       },
       {
        "data": "eNpNk09IVHEQxy/JemlpKYJgqQVJimLVCiLxzXct2EIjCQoq7GASlrAIUmGCRAgFRdEindbFbA0vHYI6FPZmHktJoRIVuBczyv6c8lCUaRDNnJrTm8N3Zj7v9/1OJbcYLq/clfqaKVlqGQ3PP85KV/8L6Wr7+vTXuZt8+OGk1U1r13eS1aoJru/fA9NUcotBrKoI650Z38mdSESpK0My8KWWl1c+Ss2GvNzJr2EqlmT62w2p7X4dlp8ckOG6a/L5x8ZwYH6IP229anUQ23eMrFZNQNndMI32UvnUMKxXZ1Ks6h1spu6iYhTP2K5HvVkeTzVE6b4dcubVXj5yIhGtflYnU9ubuLF9QUZnt0lqMM0f2sdk4s1m+Z2Ms1RapdyXlO+xi+Hf1AgPHkpYHaziZrJaNdS8ZRdMo720qVSA9epMmizNwWbqLrp/L56xXcpAx9+nM8YwM31Q/6khko4c5/+0cqk7Eb09epb7T7foOyyIviPPP8jyyNKY6D/zz+eNfOlWm+hu1vcMLxQmeN3LaqsD/ZLVqqHLPfUwjfZSR3UB1qsz9X3mYDN1F528Hc/YLmWg5Gw6YwyOhxwPOR5yPOR4yPGQ4yHHQ46HHA85HnI85PyC8wvOLzi/4PyC8wvOLzi/4PyC8wvOLzi/4HILl1u43MLlFi63cLmFyy1cbuFyC5dbVP7fHdzdwd0d3N3B3R3c3eEfvcjK8g==",
        "encoding": "base64",
        "path": [
         "origins",
         "compressed_buffer"
        ]
       },
       {
        "data": "eNpNkz0vRFEQhqlEIwqNROIrUQilct6SRCOi8AcIEbuFkmyllIhtN7JUdEKoxJlCYgu7G+WqqPgBKxtEY+bmTPIWkzM3dz6ec96ZTqmMRYVUPi/0e3kSZ0Pr0px70K2VLXHb33x2P4VvMRoxnVJZI7d9eYvazbj01ZfUvoua/v+8egLPtVNndlYxenokE4dX+vFVF7e364b7KXyL0YjxnMj1HlHTemn0uttrYHdtWKYqr2n75RHTs/NSe+9X4yvu4rxWq+jrtX/GjtE7SGKndgd+xa33dO9+Ct//RYxzRK7fOWpaL41exqDB0G61MNgdEbNU/WtiY3VBzJK9HfKbJrsn8v2T9UPmSHY3ZNNshZ/5ipj8XkVu1qaoab00ehmDBgPxCPEI8QjxCPEI8YB4QDxCPEI8QjxCPEJ6CekF0gukF0gvkF4gvUB6gfQC6QXSC6SX0NyC5hY0t6C5Bc0taG5BcwuaW9Dcgua2eMe8O6C9A+0daO9AewfaO/wDaMzjfA==",
        "encoding": "base64",
        "path": [
         "vectors",
         "compressed_buffer"
        ]
       }
      ],
      "model_module": "k3d",
      "model_module_version": "2.6.9",
      "model_name": "ObjectModel",
      "state": {
       "_view_count": null,
       "_view_module": null,
       "_view_module_version": "",
       "_view_name": null,
       "colors": {
        "dtype": "uint32",
        "shape": [
         80,
         2
        ]
       },
       "compression_level": 0,
       "head_color": 255,
       "head_size": 1,
       "id": 4368067152,
       "label_size": 1,
       "labels": [],
       "line_width": 0.01,
       "model_matrix": {
        "dtype": "float32",
        "shape": [
         4,
         4
        ]
       },
       "name": null,
       "origin_color": 255,
       "origins": {
        "dtype": "float32",
        "shape": [
         80,
         3
        ]
       },
       "type": "Vectors",
       "use_head": true,
       "vectors": {
        "dtype": "float32",
        "shape": [
         80,
         3
        ]
       },
       "visible": true
      }
     },
     "5f10a9f17ebb4c7d9b15c94d7e5fc86f": {
      "buffers": [
       {
        "data": "eNot0vlP1gUcwPF3rVar1Wq14vR5Hh4eBOSSQy45fZ7v96spoRIiIqJAHCKH3Pf9cD7fLLMss8yyzLLM0sy01KJIo1BDEQUEfWBrba2ttbbW1sfVD6//4JV2l5X0u62su8fG+nttZN6nkHW/wsYHFLIfVMh5SGXzwyq5j6jkPaqS/5hKweMahU9oFD2pUeyiUeKmsc1do9RDo8xTo9ygUWHUqDRpVJk1qr01aiwatT4adb4a9X4aDf4qDQEqjYEqTUEqzcEqLSEKLaEKrWEKbeEK7RE22iNtdETZ6Iy20hljpStWxC2jO14kJGNPFEnJ9CQn0WNNoteWSK8i1AT6NLE8nr4V8fSvFKvi6E8RTy9lIFWsjmVgjVgbw2CaeCaawXSREcXgepEZiWODyFqCY6PIjsCxSeSE49gstoThyA1DzwtFzxfPLkYvEIWiKAS9WGwNRi8R24LQS0WZKA9Er7gjAH27qBRVi9CrRY0/eq2oE/V+6A2iUTT5ojeLloXoraJNtPugd/yv04LeJbqF3Ru9R/Sa0fvMOPrFgBeOQeEQugnHc2KHicHnxQvG/+wULxoY2CVeEi+L3Qb6XxGvij0L6HtN7BWvG+h9Q+wTbxrouWO/AftbRuxvG+k+YKL7HfGuF10Hveh8z0znIW863rfQ8YGF9sM+YiFtH/rS+pEfrUf8afk4gOajgTR9EkTTp8E0HltMw/FQ6o+HU/9ZBHUnIqn9PIqakzFUfxFL1ak4Kk8lsP10IhVfJlP+lZWyMwqlZ+Xj2RWUnFvJ1q9TKP4mlaKhNRQOpVHwbTr532WQN5xJ7nAWW77PJud8Dpsu5JJ9IZ+sHwrYMFJE5kgJGT+Wsu6nctJHK0kbrWbtxVpWX2wg9VITKZdbWXW5nad+7mL5mB1trA/lygC2KzrLru4g6epOEsd3ET++m6XX9hB7bS/RE/uInNjPkusHCL9+kNAbhwi5cZjgySMETh5l0dQx/KZO4Dt1Ep/p01imz2CePofp5hDGm8MYZs7jOTOCx8wo7rOXcJsdw3V2HNdbE7jcmhTTuNyexfW2U8zj5vwFd+eveDh/w9P5Owvm/sA49yemub8wz/+NZf4f/gXLh0p6",
        "encoding": "base64",
        "path": [
         "color_map",
         "compressed_buffer"
        ]
       },
       {
        "data": "eNpjYFBwZMAABxwwxRqwidkDAFK8AuE=",
        "encoding": "base64",
        "path": [
         "model_matrix",
         "compressed_buffer"
        ]
       },
       {
        "data": "eNrl1c9LKlEUB/BJGFzoxtCFBLMcpoUIEUMYYVRCFBkWiZIUYTEwhGL+aPwLnBxNlBgYSqIwFKMkowisSCKJIQJxkcxyIFwoudGFCPZ8iphv9eDxVt7d/XA553zhci8A/PvKsGymV87iiWQyET/7QZQ/EAyFggE/1TWn3Wa1WKw2u/PHwVW9TqvV6Vd7K6pQVAX851Usl4s98Jrl+EKB57KvHTm/unticxyXY5/urs7bdngciSdT6XQqGY8cH7aI3KN8gRDNMHQo4KP2yN9G7DodNguOYbjF5nDuEq2DWxsmvVajVmu0etPGVrveyuLsJKqAYQU6Obu40uk8poQhuRyClWM9I8okEtlfhavXe/d5vlip1SpFPt+R1PPbB/9VrX7xH2/PqRbFLq7vMzm+VOJzmfvri1iTaOboJJpIsfk8m0pET44YGgA8pJfyB+lwNBqmg37KS3oAwE24nHYrbjYazbjV7nQRbgDAsc11o06DIgiq0RnXNzG8WdCwvDCjUkBSKaRQzSwsG1qNNROjw9CgSDQIDY9OaDoTIpBMLBSKZRDSmwUE/whbqtS/v+uVUley3Ge51mjUyp9cti23Dy/vXKHaaFQL3PvLw22TIrHLm0eWK9XrJY59vLmMRYADmgmfxpLpfKWSTydjp2GGPvCQpNe3H2KiLBtlQvs+L0l63AThcuxYMCOKGjHLjsNFEO5tHDOvGbRqRCxG1FrDmhnDtwGTYWl+CoWlICiF0an5JYOp2XhuenwElosEApEcHhmfnmtPqISHJEKBQCgZgpXdJFIxODAAiqX9nLff7nMfvld98h/9AlMm+BA=",
        "encoding": "base64",
        "path": [
         "voxels",
         "compressed_buffer"
        ]
       }
      ],
      "model_module": "k3d",
      "model_module_version": "2.6.9",
      "model_name": "ObjectModel",
      "state": {
       "_view_count": null,
       "_view_module": null,
       "_view_module_version": "",
       "_view_name": null,
       "color_map": {
        "dtype": "uint32",
        "shape": [
         256
        ]
       },
       "compression_level": 0,
       "id": 4641977736,
       "model_matrix": {
        "dtype": "float32",
        "shape": [
         4,
         4
        ]
       },
       "name": null,
       "opacity": 1,
       "outlines": false,
       "outlines_color": 0,
       "type": "Voxels",
       "visible": true,
       "voxels": {
        "dtype": "uint8",
        "shape": [
         8,
         12,
         20
        ]
       },
       "wireframe": false
      }
     },
     "605b09b610a24d3e9d990ccdd1b4b988": {
      "model_module": "k3d",
      "model_module_version": "2.6.9",
      "model_name": "PlotModel",
      "state": {
       "_backend_version": "2.6.9",
       "_dom_classes": [],
       "_view_count": null,
       "antialias": 3,
       "axes": [
        "x",
        "y",
        "z"
       ],
       "background_color": 16777215,
       "camera": [
        10.284874878907916,
        -15.489812315567907,
        1.0059874815950598,
        -0.02499999664723873,
        -0.02500000223517418,
        -0.025000005960464478,
        0,
        0,
        1
       ],
       "camera_auto_fit": true,
       "camera_no_pan": false,
       "camera_no_rotate": false,
       "camera_no_zoom": false,
       "clipping_planes": [],
       "colorbar_object_id": -1,
       "fps_meter": false,
       "grid": [
        -1,
        -1,
        -1,
        1,
        1,
        1
       ],
       "grid_auto_fit": true,
       "grid_visible": true,
       "height": 512,
       "layout": "IPY_MODEL_709096556a0c41bb9984627e03c994a5",
       "lighting": 1,
       "menu_visibility": true,
       "object_ids": [
        4634987096
       ],
       "rendering_steps": 1,
       "screenshot": "",
       "screenshot_scale": 2,
       "time": 0,
       "voxel_paint_color": 0
      }
     },
     "60df5bdc38db4b1591f33df8999e8913": {
      "buffers": [
       {
        "data": "eNoDAAAAAAE=",
        "encoding": "base64",
        "path": [
         "colors",
         "compressed_buffer"
        ]
       },
       {
        "data": "eNpjYGiwZ8AAxIsBAF7EAv0=",
        "encoding": "base64",
        "path": [
         "model_matrix",
         "compressed_buffer"
        ]
       },
       {
        "data": "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",
        "encoding": "base64",
        "path": [
         "origins",
         "compressed_buffer"
        ]
       },
       {
        "data": "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",
        "encoding": "base64",
        "path": [
         "vectors",
         "compressed_buffer"
        ]
       }
      ],
      "model_module": "k3d",
      "model_module_version": "2.6.9",
      "model_name": "ObjectModel",
      "state": {
       "_view_count": null,
       "_view_module": null,
       "_view_module_version": "",
       "_view_name": null,
       "colors": {
        "dtype": "uint32",
        "shape": [
         0
        ]
       },
       "compression_level": 0,
       "head_color": 255,
       "head_size": 1,
       "id": 4596429776,
       "label_size": 1,
       "labels": [],
       "line_width": 0.01,
       "model_matrix": {
        "dtype": "float32",
        "shape": [
         4,
         4
        ]
       },
       "name": null,
       "origin_color": 255,
       "origins": {
        "dtype": "float32",
        "shape": [
         1008,
         3
        ]
       },
       "type": "Vectors",
       "use_head": true,
       "vectors": {
        "dtype": "float32",
        "shape": [
         1008,
         3
        ]
       },
       "visible": true
      }
     },
     "61611cbee01443878dacc2f1b50d0f97": {
      "model_module": "@jupyter-widgets/output",
      "model_module_version": "1.0.0",
      "model_name": "OutputModel",
      "state": {
       "layout": "IPY_MODEL_c6473bf54e624495811369eb6d11dbd7",
       "outputs": [
        {
         "data": {
          "application/vnd.jupyter.widget-view+json": {
           "model_id": "e63c8c3fcd3144b08ef8223d713ccf66",
           "version_major": 2,
           "version_minor": 0
          },
          "text/plain": "Plot(antialias=3, axes=['x', 'y', 'z'], background_color=16777215, camera=[4.5, 4.5, 4.5, 0.0, 0.0, 0.0, 1.0, …"
         },
         "metadata": {},
         "output_type": "display_data"
        }
       ]
      }
     },
     "6183b096c5784f62b52433a51ed6166b": {
      "buffers": [
       {
        "data": "eNoDAAAAAAE=",
        "encoding": "base64",
        "path": [
         "colors",
         "compressed_buffer"
        ]
       },
       {
        "data": "eNpjYGiwZ8AAxIsBAF7EAv0=",
        "encoding": "base64",
        "path": [
         "model_matrix",
         "compressed_buffer"
        ]
       },
       {
        "data": "eNpN0VENwzAMBuFAGJQisA1tUIxkK5RAmbIq7ZeXnqL0dNI/xjr9HWN+/zgKfn/g4E0+3PDrvFzrrLvNDRe8/I2/8Tf+2wm/6uHjvLy7oWgoGoqGoqFoKBqKhqKhaNh8yOfl3T2bV8/mhgte35uDN8m/8IRXz+ZDPi/X3RP0BD1BT9AT9AQ9QU/QE/QEPcFeyV7JXsleyV7JXsleyV7JXsleyV7JXjQ0DU1D09A0NA1NQ9PQNDQN+if+iX/in/gn/pk/dr6bDQ==",
        "encoding": "base64",
        "path": [
         "positions",
         "compressed_buffer"
        ]
       }
      ],
      "model_module": "k3d",
      "model_module_version": "2.6.9",
      "model_name": "ObjectModel",
      "state": {
       "_view_count": null,
       "_view_module": null,
       "_view_module_version": "",
       "_view_name": null,
       "color": 10075135,
       "colors": {
        "dtype": "uint32",
        "shape": [
         0
        ]
       },
       "compression_level": 0,
       "id": 4642869456,
       "mesh_detail": 2,
       "model_matrix": {
        "dtype": "float32",
        "shape": [
         4,
         4
        ]
       },
       "name": null,
       "opacity": 1,
       "point_size": 0.1,
       "positions": {
        "dtype": "float32",
        "shape": [
         80,
         3
        ]
       },
       "shader": "3dSpecular",
       "type": "Points",
       "visible": true
      }
     },
     "61bbc22c732741039be44853b6f52f31": {
      "buffers": [
       {
        "data": "eNq7PcOEAQAFoAGo",
        "encoding": "base64",
        "path": [
         "color_map",
         "compressed_buffer"
        ]
       },
       {
        "data": "eNpjYFBwZMAABxwwxRqwidkDAFK8AuE=",
        "encoding": "base64",
        "path": [
         "model_matrix",
         "compressed_buffer"
        ]
       },
       {
        "data": "eNrllUEOACEMAjv//7R7XQGj0Vs5TqItWLXqXnxSMlFQ6Jhba2u8l9TQ/vgpMlDo2O5+KauDXNIRLb2ZnkHhDdvPJWYg3mo1aj7m5I3HOsigXAT+fnTz222eG75XTf6jAc5KA/E=",
        "encoding": "base64",
        "path": [
         "voxels",
         "compressed_buffer"
        ]
       }
      ],
      "model_module": "k3d",
      "model_module_version": "2.6.9",
      "model_name": "ObjectModel",
      "state": {
       "_view_count": null,
       "_view_module": null,
       "_view_module_version": "",
       "_view_name": null,
       "color_map": {
        "dtype": "uint32",
        "shape": []
       },
       "compression_level": 0,
       "id": 4556162960,
       "model_matrix": {
        "dtype": "float32",
        "shape": [
         4,
         4
        ]
       },
       "name": null,
       "opacity": 1,
       "outlines": false,
       "outlines_color": 0,
       "type": "Voxels",
       "visible": true,
       "voxels": {
        "dtype": "uint8",
        "shape": [
         8,
         12,
         20
        ]
       },
       "wireframe": false
      }
     },
     "61d6402d58804a91828bc50b701f60db": {
      "buffers": [
       {
        "data": "eNoDAAAAAAE=",
        "encoding": "base64",
        "path": [
         "colors",
         "compressed_buffer"
        ]
       },
       {
        "data": "eNpjYGiwZ8AAxIsBAF7EAv0=",
        "encoding": "base64",
        "path": [
         "model_matrix",
         "compressed_buffer"
        ]
       },
       {
        "data": "eNpNjtsNACAMAjsZdDRHcRLraMZHLR/GSwoXzNo087hvcxvCKHYW97i57Caff1T3Z1jclePl0gPxQDwQD8Qj3XPL/ZT9lP1cLk49RQ==",
        "encoding": "base64",
        "path": [
         "positions",
         "compressed_buffer"
        ]
       }
      ],
      "model_module": "k3d",
      "model_module_version": "2.6.9",
      "model_name": "ObjectModel",
      "state": {
       "_view_count": null,
       "_view_module": null,
       "_view_module_version": "",
       "_view_name": null,
       "color": 10075135,
       "colors": {
        "dtype": "uint32",
        "shape": [
         0
        ]
       },
       "compression_level": 0,
       "id": 4717326288,
       "mesh_detail": 2,
       "model_matrix": {
        "dtype": "float32",
        "shape": [
         4,
         4
        ]
       },
       "name": null,
       "opacity": 1,
       "point_size": 0.1,
       "positions": {
        "dtype": "float32",
        "shape": [
         20,
         3
        ]
       },
       "shader": "3dSpecular",
       "type": "Points",
       "visible": true
      }
     },
     "63c2b674d9e341a6b7a71ab3fbdcf1c9": {
      "model_module": "@jupyter-widgets/base",
      "model_module_version": "1.2.0",
      "model_name": "LayoutModel",
      "state": {}
     },
     "63d6e1cdfc044760b3cc85fc5619bf62": {
      "buffers": [
       {
        "data": "eNoDAAAAAAE=",
        "encoding": "base64",
        "path": [
         "colors",
         "compressed_buffer"
        ]
       },
       {
        "data": "eNpjYGiwZ8AAxIsBAF7EAv0=",
        "encoding": "base64",
        "path": [
         "model_matrix",
         "compressed_buffer"
        ]
       },
       {
        "data": "eNpjPlvrIHyzcD+Pifn+G471DiGsT/fJiZnvF4lvcEi4Gm4LYtdLNjq8VeOzB6lZm1jj8G/Wjv1Hs0v2dRytdVjVVLS/TrZkn719vUNa2rN9Xz4X70tIaHA4e8bHFsS2kW10CKvltQep0Tzf6MCU2m4P0otkjh2SOXZI5tghmWOHZI4dkjl2zAj32yO53x7J/fZI7rcHAL0aZ10=",
        "encoding": "base64",
        "path": [
         "origins",
         "compressed_buffer"
        ]
       },
       {
        "data": "eNpz3d9j65Ny3M51f89eNY19Niu4TtnJzOsDsffA2CA5mJqlU57bfrp+xG678849QDlbkBqQ2oMHDticPXPGDkiD2HtgbJB+mBqg3r0wvUjm2CCZY4Nkjg2SOTZI5tggmWPjinC/LZL7bZHcb4vkflsAWRB+RQ==",
        "encoding": "base64",
        "path": [
         "vectors",
         "compressed_buffer"
        ]
       }
      ],
      "model_module": "k3d",
      "model_module_version": "2.6.9",
      "model_name": "ObjectModel",
      "state": {
       "_view_count": null,
       "_view_module": null,
       "_view_module_version": "",
       "_view_name": null,
       "colors": {
        "dtype": "uint32",
        "shape": [
         0
        ]
       },
       "compression_level": 0,
       "head_color": 255,
       "head_size": 1,
       "id": 4715985552,
       "label_size": 1,
       "labels": [],
       "line_width": 0.01,
       "model_matrix": {
        "dtype": "float32",
        "shape": [
         4,
         4
        ]
       },
       "name": null,
       "origin_color": 255,
       "origins": {
        "dtype": "float32",
        "shape": [
         20,
         3
        ]
       },
       "type": "Vectors",
       "use_head": true,
       "vectors": {
        "dtype": "float32",
        "shape": [
         20,
         3
        ]
       },
       "visible": true
      }
     },
     "641f286d884f4a83b2b25c82bfe7b9d6": {
      "model_module": "k3d",
      "model_module_version": "2.6.9",
      "model_name": "PlotModel",
      "state": {
       "_backend_version": "2.6.9",
       "_dom_classes": [],
       "_view_count": null,
       "antialias": 3,
       "axes": [
        "x",
        "y",
        "z"
       ],
       "background_color": 16777215,
       "camera": [
        9.828951377057189,
        -14.743427065585788,
        0.9828951377057292,
        0,
        0,
        0,
        0,
        0,
        1
       ],
       "camera_auto_fit": true,
       "camera_no_pan": false,
       "camera_no_rotate": false,
       "camera_no_zoom": false,
       "clipping_planes": [],
       "colorbar_object_id": -1,
       "fps_meter": false,
       "grid": [
        -1,
        -1,
        -1,
        1,
        1,
        1
       ],
       "grid_auto_fit": true,
       "grid_visible": true,
       "height": 512,
       "layout": "IPY_MODEL_c0e3ca3605cf49abb97a6bcaa2626419",
       "lighting": 1,
       "menu_visibility": true,
       "object_ids": [
        4734016816,
        4734437920
       ],
       "rendering_steps": 1,
       "screenshot": "",
       "screenshot_scale": 2,
       "time": 0,
       "voxel_paint_color": 0
      }
     },
     "642026d2c61c4ba68fba2ce600904a34": {
      "buffers": [
       {
        "data": "eNoDAAAAAAE=",
        "encoding": "base64",
        "path": [
         "colors",
         "compressed_buffer"
        ]
       },
       {
        "data": "eNpjYGiwZ8AAxIsBAF7EAv0=",
        "encoding": "base64",
        "path": [
         "model_matrix",
         "compressed_buffer"
        ]
       },
       {
        "data": "eNpNkcENwzAMAzVCRskEFEfrKJqk7SgapRVgO/cIfI+IR4AR8Y3wJ6L/3/DrDdbDzofnrcUFNnhyCjmFnHMLbvC1srbLcBkuw2W4DJfhMlybLz98r6zdYfN02Fxgg+c9LPyTuAU3eDpsvskr6/QR+gh9hD5CH6GP0EfoI/QR+gh90GHuzy6JXRK7JHZJ7JLYJbFLYpfELnAVXAVXwVVwFVwFV8HFnEZOI6eR0/kDbuG3nQ==",
        "encoding": "base64",
        "path": [
         "positions",
         "compressed_buffer"
        ]
       }
      ],
      "model_module": "k3d",
      "model_module_version": "2.6.9",
      "model_name": "ObjectModel",
      "state": {
       "_view_count": null,
       "_view_module": null,
       "_view_module_version": "",
       "_view_name": null,
       "color": 10075135,
       "colors": {
        "dtype": "uint32",
        "shape": [
         0
        ]
       },
       "compression_level": 0,
       "id": 4717325712,
       "mesh_detail": 2,
       "model_matrix": {
        "dtype": "float32",
        "shape": [
         4,
         4
        ]
       },
       "name": null,
       "opacity": 1,
       "point_size": 0.1,
       "positions": {
        "dtype": "float32",
        "shape": [
         68,
         3
        ]
       },
       "shader": "3dSpecular",
       "type": "Points",
       "visible": true
      }
     },
     "6440713180b649f09079a5c82d50e009": {
      "model_module": "@jupyter-widgets/base",
      "model_module_version": "1.2.0",
      "model_name": "LayoutModel",
      "state": {}
     },
     "644b100bc7ea4dd28dc5494854c19b92": {
      "model_module": "@jupyter-widgets/output",
      "model_module_version": "1.0.0",
      "model_name": "OutputModel",
      "state": {
       "layout": "IPY_MODEL_2103f19f9538479d973496a11cbd76ac",
       "outputs": [
        {
         "data": {
          "application/vnd.jupyter.widget-view+json": {
           "model_id": "18796aa8c6aa4f018a995b8573c781fb",
           "version_major": 2,
           "version_minor": 0
          },
          "text/plain": "Plot(antialias=3, axes=['x', 'y', 'z'], background_color=16777215, camera=[4.5, 4.5, 4.5, 0.0, 0.0, 0.0, 1.0, …"
         },
         "metadata": {},
         "output_type": "display_data"
        }
       ]
      }
     },
     "64526e63d03d46bdb6565761c7dafd0b": {
      "model_module": "@jupyter-widgets/base",
      "model_module_version": "1.2.0",
      "model_name": "LayoutModel",
      "state": {}
     },
     "6482e162571b42fc907c385ece874483": {
      "model_module": "@jupyter-widgets/base",
      "model_module_version": "1.2.0",
      "model_name": "LayoutModel",
      "state": {}
     },
     "64d457c833464b5fac9af54760236818": {
      "model_module": "@jupyter-widgets/base",
      "model_module_version": "1.2.0",
      "model_name": "LayoutModel",
      "state": {}
     },
     "64f4393d68b64874a11d9f2d46fb1b3c": {
      "model_module": "@jupyter-widgets/base",
      "model_module_version": "1.2.0",
      "model_name": "LayoutModel",
      "state": {}
     },
     "64f89401cce540b0b78b8296b7ff96f9": {
      "model_module": "@jupyter-widgets/base",
      "model_module_version": "1.2.0",
      "model_name": "LayoutModel",
      "state": {}
     },
     "64f9f73db0904c2bbe385263d849606e": {
      "buffers": [
       {
        "data": "eNpL5HNnSATiSFZXMA5hdEHBMPFEqLouHzsw7nBzAOM2RycwbrVHxTBxmDqYvr4aDQiu0oTgCi0ILofiMjQME4epg+mDmtO6VBGClyuBcfNKZQhepQLGTatVUTBMHKYOpg9mTtTZHDAOvlgOxr6XG8HY82obCoaJw9TB9Ek9fQXGis9+gLHq878oGCYOUwcAvo58CQ==",
        "encoding": "base64",
        "path": [
         "colors",
         "compressed_buffer"
        ]
       },
       {
        "data": "eNpjYGiwZ8AAxIsBAF7EAv0=",
        "encoding": "base64",
        "path": [
         "model_matrix",
         "compressed_buffer"
        ]
       },
       {
        "data": "eNpNkT1IglEUhhVCECmaKoiIkBDKIPgS4xPv+cxEkzKiaBEqLIlaAwtrCUlosqHJrRD6p3Bz8N5Tfm794iJUCFHiGLhF9HMnz/YO5z0PPG9c+DH6tCks23vC+DaK3uInn86lxPOZB83pDvfaWEr0zjA82DWDzL9dLry8T4C8SWrDGGq/AdntTAexfsEFlAbErDWAh5EN8bNuF982H65ijbcs9AtX0YOFyJxbve4TRZWhvdoMMjeVVaw+7IC8OX1x/v8vgOx+RB1oOjFo8ufd7TiawgbcZyu8Ug5itpYXlaFl7g8HcD4WE1MjUZ6d9OGx8s4nzhd5vuTBV2vCPahHuNfOcGupFWQOXanYVk+CvMllnPio6yC7PTYHHlmMmvypKAp+Zbo1ySJcRriMcBnhMsJlhMsIlxEuI1xGuIz4BOITiE8gPoH4BOITiE8gPiHe2B3I7kB2B7I7kN2B7A5/NdwSYA==",
        "encoding": "base64",
        "path": [
         "origins",
         "compressed_buffer"
        ]
       },
       {
        "data": "eNpNkaFLBGEQxZMgaxA5waDBcMUqnsLBPLWIYcF04IULXjjQP8CLwoFxq1gMBoPBJrZvvmpY/wXzFdmmYPFmFgZf+h7szPvNvlc2UxyMlnPZTHX9aAupv5onvZlefw3kuNPJV6+3rlNom9GY8Z3YfXt8xt7pUi4ma2rfWh+frf66uDvcyPbq/cNYzuvNvPu94zqF9m8x476xa54anh91jaezX71Y2U/z6qW9uRieJLsJfpvfaF5wT/e++byUn/ftbK/rFNp5MeP/E7vmqeFpLA0WcYW4QlwhrhBXiCvEFeIKcYW4QnmC8gTlCcoTlCcoT1CeoDxR/vcO6h3UO6h3UO+g3rEA8LILMA==",
        "encoding": "base64",
        "path": [
         "vectors",
         "compressed_buffer"
        ]
       }
      ],
      "model_module": "k3d",
      "model_module_version": "2.6.9",
      "model_name": "ObjectModel",
      "state": {
       "_view_count": null,
       "_view_module": null,
       "_view_module_version": "",
       "_view_name": null,
       "colors": {
        "dtype": "uint32",
        "shape": [
         48,
         2
        ]
       },
       "compression_level": 0,
       "head_color": 255,
       "head_size": 1,
       "id": 4525828496,
       "label_size": 1,
       "labels": [],
       "line_width": 0.01,
       "model_matrix": {
        "dtype": "float32",
        "shape": [
         4,
         4
        ]
       },
       "name": null,
       "origin_color": 255,
       "origins": {
        "dtype": "float32",
        "shape": [
         48,
         3
        ]
       },
       "type": "Vectors",
       "use_head": true,
       "vectors": {
        "dtype": "float32",
        "shape": [
         48,
         3
        ]
       },
       "visible": true
      }
     },
     "654bcabe67dc4fc48f80e1328701afdd": {
      "buffers": [
       {
        "data": "eNoDAAAAAAE=",
        "encoding": "base64",
        "path": [
         "colors",
         "compressed_buffer"
        ]
       },
       {
        "data": "eNpjYGiwZ8AAxIsBAF7EAv0=",
        "encoding": "base64",
        "path": [
         "model_matrix",
         "compressed_buffer"
        ]
       },
       {
        "data": "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",
        "encoding": "base64",
        "path": [
         "origins",
         "compressed_buffer"
        ]
       },
       {
        "data": "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",
        "encoding": "base64",
        "path": [
         "vectors",
         "compressed_buffer"
        ]
       }
      ],
      "model_module": "k3d",
      "model_module_version": "2.6.9",
      "model_name": "ObjectModel",
      "state": {
       "_view_count": null,
       "_view_module": null,
       "_view_module_version": "",
       "_view_name": null,
       "colors": {
        "dtype": "uint32",
        "shape": [
         0
        ]
       },
       "compression_level": 0,
       "head_color": 255,
       "head_size": 1,
       "id": 4526161872,
       "label_size": 1,
       "labels": [],
       "line_width": 0.01,
       "model_matrix": {
        "dtype": "float32",
        "shape": [
         4,
         4
        ]
       },
       "name": null,
       "origin_color": 255,
       "origins": {
        "dtype": "float32",
        "shape": [
         1008,
         3
        ]
       },
       "type": "Vectors",
       "use_head": true,
       "vectors": {
        "dtype": "float32",
        "shape": [
         1008,
         3
        ]
       },
       "visible": true
      }
     },
     "659f23e39b1b44f8a60f6d27013b31a8": {
      "model_module": "@jupyter-widgets/output",
      "model_module_version": "1.0.0",
      "model_name": "OutputModel",
      "state": {
       "layout": "IPY_MODEL_d75b6c9c37c247298d0f0380cfe45090",
       "outputs": [
        {
         "data": {
          "application/vnd.jupyter.widget-view+json": {
           "model_id": "fc3dc678f4714151890238ea06e1a2e0",
           "version_major": 2,
           "version_minor": 0
          },
          "text/plain": "Plot(antialias=3, axes=['x', 'y', 'z'], background_color=16777215, camera=[4.5, 4.5, 4.5, 0.0, 0.0, 0.0, 1.0, …"
         },
         "metadata": {},
         "output_type": "display_data"
        }
       ]
      }
     },
     "65a38660217a444ebe793bf8eef40c69": {
      "model_module": "@jupyter-widgets/output",
      "model_module_version": "1.0.0",
      "model_name": "OutputModel",
      "state": {
       "layout": "IPY_MODEL_f0af654f8d494c12988bdb97014deb75",
       "outputs": [
        {
         "data": {
          "application/vnd.jupyter.widget-view+json": {
           "model_id": "5e8b4f547b9e424483fbf2d93b7633bd",
           "version_major": 2,
           "version_minor": 0
          },
          "text/plain": "Plot(antialias=3, axes=['x', 'y', 'z'], background_color=16777215, camera=[4.5, 4.5, 4.5, 0.0, 0.0, 0.0, 1.0, …"
         },
         "metadata": {},
         "output_type": "display_data"
        }
       ]
      }
     },
     "6615f44b60b84075936e476767ff9098": {
      "buffers": [
       {
        "data": "eNpL5HNnSATiSFZXMA5hdEHBMPFEqLouHzsw7nBzAOM2RycwbrVHxTBxmDqYvr4aDQiu0oTgCi0ILofiMjQME4epg+mDmtO6VBGClyuBcfNKZQhepQLGTatVUTBMHKYOpg9mTtTZHDAOvlgOxr6XG8HY82obCoaJw9TB9Ek9fQXGis9+gLHq878oGCYOUwcAvo58CQ==",
        "encoding": "base64",
        "path": [
         "colors",
         "compressed_buffer"
        ]
       },
       {
        "data": "eNpjYGiwZ8AAxIsBAF7EAv0=",
        "encoding": "base64",
        "path": [
         "model_matrix",
         "compressed_buffer"
        ]
       },
       {
        "data": "eNpNkT1IglEUhhVCECmaKoiIkBDKIPgS4xPv+cxEkzKiaBEqLIlaAwtrCUlosqHJrRD6p3Bz8N5Tfm794iJUCFHiGLhF9HMnz/YO5z0PPG9c+DH6tCks23vC+DaK3uInn86lxPOZB83pDvfaWEr0zjA82DWDzL9dLry8T4C8SWrDGGq/AdntTAexfsEFlAbErDWAh5EN8bNuF982H65ijbcs9AtX0YOFyJxbve4TRZWhvdoMMjeVVaw+7IC8OX1x/v8vgOx+RB1oOjFo8ufd7TiawgbcZyu8Ug5itpYXlaFl7g8HcD4WE1MjUZ6d9OGx8s4nzhd5vuTBV2vCPahHuNfOcGupFWQOXanYVk+CvMllnPio6yC7PTYHHlmMmvypKAp+Zbo1ySJcRriMcBnhMsJlhMsIlxEuI1xGuIz4BOITiE8gPoH4BOITiE8gPiHe2B3I7kB2B7I7kN2B7A5/NdwSYA==",
        "encoding": "base64",
        "path": [
         "origins",
         "compressed_buffer"
        ]
       },
       {
        "data": "eNpNkaFLBGEQxZMgaxA5waDBcMUqnsLBPLWIYcF04IULXjjQP8CLwoFxq1gMBoPBJrZvvmpY/wXzFdmmYPFmFgZf+h7szPvNvlc2UxyMlnPZTHX9aAupv5onvZlefw3kuNPJV6+3rlNom9GY8Z3YfXt8xt7pUi4ma2rfWh+frf66uDvcyPbq/cNYzuvNvPu94zqF9m8x476xa54anh91jaezX71Y2U/z6qW9uRieJLsJfpvfaF5wT/e++byUn/ftbK/rFNp5MeP/E7vmqeFpLA0WcYW4QlwhrhBXiCvEFeIKcYW4QnmC8gTlCcoTlCcoT1CeoDxR/vcO6h3UO6h3UO+g3rEA8LILMA==",
        "encoding": "base64",
        "path": [
         "vectors",
         "compressed_buffer"
        ]
       }
      ],
      "model_module": "k3d",
      "model_module_version": "2.6.9",
      "model_name": "ObjectModel",
      "state": {
       "_view_count": null,
       "_view_module": null,
       "_view_module_version": "",
       "_view_name": null,
       "colors": {
        "dtype": "uint32",
        "shape": [
         48,
         2
        ]
       },
       "compression_level": 0,
       "head_color": 255,
       "head_size": 1,
       "id": 4596621392,
       "label_size": 1,
       "labels": [],
       "line_width": 0.01,
       "model_matrix": {
        "dtype": "float32",
        "shape": [
         4,
         4
        ]
       },
       "name": null,
       "origin_color": 255,
       "origins": {
        "dtype": "float32",
        "shape": [
         48,
         3
        ]
       },
       "type": "Vectors",
       "use_head": true,
       "vectors": {
        "dtype": "float32",
        "shape": [
         48,
         3
        ]
       },
       "visible": true
      }
     },
     "664bd0e0ab22496a879d68c14cf13cf4": {
      "model_module": "k3d",
      "model_module_version": "2.6.9",
      "model_name": "PlotModel",
      "state": {
       "_backend_version": "2.6.9",
       "_dom_classes": [],
       "_view_count": null,
       "antialias": 3,
       "axes": [
        "x",
        "y",
        "z"
       ],
       "background_color": 16777215,
       "camera": [
        5.676886823516348,
        -8.515330235274524,
        0.5676886823516407,
        0,
        0,
        0,
        0,
        0,
        1
       ],
       "camera_auto_fit": true,
       "camera_no_pan": false,
       "camera_no_rotate": false,
       "camera_no_zoom": false,
       "clipping_planes": [],
       "colorbar_object_id": -1,
       "fps_meter": false,
       "grid": [
        -1,
        -1,
        -1,
        1,
        1,
        1
       ],
       "grid_auto_fit": true,
       "grid_visible": true,
       "height": 512,
       "layout": "IPY_MODEL_4a1bcef5bfd54c38a01af3b2038c9e26",
       "lighting": 1,
       "menu_visibility": true,
       "object_ids": [
        4387677392,
        4526114576
       ],
       "rendering_steps": 1,
       "screenshot": "",
       "screenshot_scale": 2,
       "time": 0,
       "voxel_paint_color": 0
      }
     },
     "66f2546c1ba64e20b04c8634c2ca0f47": {
      "buffers": [
       {
        "data": "eNot0vlP1gUcwPF3rVar1Wq14vR5Hh4eBOSSQy45fZ7v96spoRIiIqJAHCKH3Pf9cD7fLLMss8yyzLLM0sy01KJIo1BDEQUEfWBrba2ttbbW1sfVD6//4JV2l5X0u62su8fG+nttZN6nkHW/wsYHFLIfVMh5SGXzwyq5j6jkPaqS/5hKweMahU9oFD2pUeyiUeKmsc1do9RDo8xTo9ygUWHUqDRpVJk1qr01aiwatT4adb4a9X4aDf4qDQEqjYEqTUEqzcEqLSEKLaEKrWEKbeEK7RE22iNtdETZ6Iy20hljpStWxC2jO14kJGNPFEnJ9CQn0WNNoteWSK8i1AT6NLE8nr4V8fSvFKvi6E8RTy9lIFWsjmVgjVgbw2CaeCaawXSREcXgepEZiWODyFqCY6PIjsCxSeSE49gstoThyA1DzwtFzxfPLkYvEIWiKAS9WGwNRi8R24LQS0WZKA9Er7gjAH27qBRVi9CrRY0/eq2oE/V+6A2iUTT5ojeLloXoraJNtPugd/yv04LeJbqF3Ru9R/Sa0fvMOPrFgBeOQeEQugnHc2KHicHnxQvG/+wULxoY2CVeEi+L3Qb6XxGvij0L6HtN7BWvG+h9Q+wTbxrouWO/AftbRuxvG+k+YKL7HfGuF10Hveh8z0znIW863rfQ8YGF9sM+YiFtH/rS+pEfrUf8afk4gOajgTR9EkTTp8E0HltMw/FQ6o+HU/9ZBHUnIqn9PIqakzFUfxFL1ak4Kk8lsP10IhVfJlP+lZWyMwqlZ+Xj2RWUnFvJ1q9TKP4mlaKhNRQOpVHwbTr532WQN5xJ7nAWW77PJud8Dpsu5JJ9IZ+sHwrYMFJE5kgJGT+Wsu6nctJHK0kbrWbtxVpWX2wg9VITKZdbWXW5nad+7mL5mB1trA/lygC2KzrLru4g6epOEsd3ET++m6XX9hB7bS/RE/uInNjPkusHCL9+kNAbhwi5cZjgySMETh5l0dQx/KZO4Dt1Ep/p01imz2CePofp5hDGm8MYZs7jOTOCx8wo7rOXcJsdw3V2HNdbE7jcmhTTuNyexfW2U8zj5vwFd+eveDh/w9P5Owvm/sA49yemub8wz/+NZf4f/gXLh0p6",
        "encoding": "base64",
        "path": [
         "color_map",
         "compressed_buffer"
        ]
       },
       {
        "data": "eNpjYFBwZMAABxwwxRjsMYUa7AFHpwJg",
        "encoding": "base64",
        "path": [
         "model_matrix",
         "compressed_buffer"
        ]
       },
       {
        "data": "eNpjYACBN19+////+8sbBji4eOvp+5///v18//TWRYjItr1Hz916/vXfv6/Pb507uncbUGjJinVb95269eb37ze3Tu3bum7FEoYp02bOXbRi08EbX77cOLhpxaK5M6dNae/o6OrpmzRz+alTy2dO6uvp6uhor6yoKCspykuPNDOLTM8rKimrqKjMyUpPjovws9fg4dGw94uIS07PymGIiQjydjJTE2FlFVEzc/IOiogBWuzlbG2kJsnNxMQtqWZk7ewFcaG+mrQgOxMTu6C0mj7CJyI8rIyMrDwiEB4A19heAQ==",
        "encoding": "base64",
        "path": [
         "voxels",
         "compressed_buffer"
        ]
       }
      ],
      "model_module": "k3d",
      "model_module_version": "2.6.9",
      "model_name": "ObjectModel",
      "state": {
       "_view_count": null,
       "_view_module": null,
       "_view_module_version": "",
       "_view_name": null,
       "color_map": {
        "dtype": "uint32",
        "shape": [
         256
        ]
       },
       "compression_level": 0,
       "id": 4654137744,
       "model_matrix": {
        "dtype": "float32",
        "shape": [
         4,
         4
        ]
       },
       "name": null,
       "opacity": 1,
       "outlines": false,
       "outlines_color": 0,
       "type": "Voxels",
       "visible": true,
       "voxels": {
        "dtype": "uint8",
        "shape": [
         1,
         12,
         20
        ]
       },
       "wireframe": false
      }
     },
     "678cd1a24b9a4cacbbee291a4f38624a": {
      "model_module": "@jupyter-widgets/base",
      "model_module_version": "1.2.0",
      "model_name": "LayoutModel",
      "state": {}
     },
     "684a564f0de44bda87d41fc519eec10b": {
      "buffers": [
       {
        "data": "eNq7PcOEAQAFoAGo",
        "encoding": "base64",
        "path": [
         "color_map",
         "compressed_buffer"
        ]
       },
       {
        "data": "eNpjYFBwZMAABxwwxRqwidkDAFK8AuE=",
        "encoding": "base64",
        "path": [
         "model_matrix",
         "compressed_buffer"
        ]
       },
       {
        "data": "eNrllUEOACEMAjv//7R7XQGj0Vs5TqItWLXqXnxSMlFQ6Jhba2u8l9TQ/vgpMlDo2O5+KauDXNIRLb2ZnkHhDdvPJWYg3mo1aj7m5I3HOsigXAT+fnTz222eG75XTf6jAc5KA/E=",
        "encoding": "base64",
        "path": [
         "voxels",
         "compressed_buffer"
        ]
       }
      ],
      "model_module": "k3d",
      "model_module_version": "2.6.9",
      "model_name": "ObjectModel",
      "state": {
       "_view_count": null,
       "_view_module": null,
       "_view_module_version": "",
       "_view_name": null,
       "color_map": {
        "dtype": "uint32",
        "shape": []
       },
       "compression_level": 0,
       "id": 4634987096,
       "model_matrix": {
        "dtype": "float32",
        "shape": [
         4,
         4
        ]
       },
       "name": null,
       "opacity": 1,
       "outlines": false,
       "outlines_color": 0,
       "type": "Voxels",
       "visible": true,
       "voxels": {
        "dtype": "uint8",
        "shape": [
         8,
         12,
         20
        ]
       },
       "wireframe": false
      }
     },
     "687545396ee04edd95619aa0814d4439": {
      "model_module": "@jupyter-widgets/output",
      "model_module_version": "1.0.0",
      "model_name": "OutputModel",
      "state": {
       "layout": "IPY_MODEL_e5ab05b91a524fb1bdd4157e9277dce5",
       "outputs": [
        {
         "data": {
          "application/vnd.jupyter.widget-view+json": {
           "model_id": "b5934420c01b414b8eb25253f41fc3aa",
           "version_major": 2,
           "version_minor": 0
          },
          "text/plain": "Plot(antialias=3, axes=['x', 'y', 'z'], background_color=16777215, camera=[4.5, 4.5, 4.5, 0.0, 0.0, 0.0, 1.0, …"
         },
         "metadata": {},
         "output_type": "display_data"
        }
       ]
      }
     },
     "68a5943c6d7e4b44af24d159c45b77df": {
      "model_module": "k3d",
      "model_module_version": "2.6.9",
      "model_name": "PlotModel",
      "state": {
       "_backend_version": "2.6.9",
       "_dom_classes": [],
       "_view_count": null,
       "antialias": 3,
       "axes": [
        "x",
        "y",
        "z"
       ],
       "background_color": 16777215,
       "camera": [
        5.676886823516348,
        -8.515330235274524,
        0.5676886823516407,
        0,
        0,
        0,
        0,
        0,
        1
       ],
       "camera_auto_fit": true,
       "camera_no_pan": false,
       "camera_no_rotate": false,
       "camera_no_zoom": false,
       "clipping_planes": [],
       "colorbar_object_id": -1,
       "fps_meter": false,
       "grid": [
        -1,
        -1,
        -1,
        1,
        1,
        1
       ],
       "grid_auto_fit": true,
       "grid_visible": true,
       "height": 512,
       "layout": "IPY_MODEL_bb3252bfbe33430d854417e9975bec27",
       "lighting": 1,
       "menu_visibility": true,
       "object_ids": [
        4634863208,
        4634863264
       ],
       "rendering_steps": 1,
       "screenshot": "",
       "screenshot_scale": 2,
       "time": 0,
       "voxel_paint_color": 0
      }
     },
     "69218ccf03d5406b8751755c5d13b424": {
      "model_module": "@jupyter-widgets/base",
      "model_module_version": "1.2.0",
      "model_name": "LayoutModel",
      "state": {}
     },
     "6946e82b844d489ab61b863ad3af14c0": {
      "model_module": "@jupyter-widgets/output",
      "model_module_version": "1.0.0",
      "model_name": "OutputModel",
      "state": {
       "layout": "IPY_MODEL_242438ff9f964e69b4b16b67b52d05fe",
       "outputs": [
        {
         "data": {
          "application/vnd.jupyter.widget-view+json": {
           "model_id": "6c93fdbb01b54583914bd5e72027c624",
           "version_major": 2,
           "version_minor": 0
          },
          "text/plain": "Plot(antialias=3, axes=['x', 'y', 'z'], background_color=16777215, camera=[4.5, 4.5, 4.5, 0.0, 0.0, 0.0, 1.0, …"
         },
         "metadata": {},
         "output_type": "display_data"
        }
       ]
      }
     },
     "69a65b7c6b8f4215959a67e4c89e4cfe": {
      "model_module": "k3d",
      "model_module_version": "2.6.9",
      "model_name": "PlotModel",
      "state": {
       "_backend_version": "2.6.9",
       "_dom_classes": [],
       "_view_count": null,
       "antialias": 3,
       "axes": [
        "x",
        "y",
        "z"
       ],
       "background_color": 16777215,
       "camera": [
        10.284874878907916,
        -15.489812315567907,
        1.0059874815950598,
        -0.02499999664723873,
        -0.02500000223517418,
        -0.025000005960464478,
        0,
        0,
        1
       ],
       "camera_auto_fit": true,
       "camera_no_pan": false,
       "camera_no_rotate": false,
       "camera_no_zoom": false,
       "clipping_planes": [],
       "colorbar_object_id": -1,
       "fps_meter": false,
       "grid": [
        -1,
        -1,
        -1,
        1,
        1,
        1
       ],
       "grid_auto_fit": true,
       "grid_visible": true,
       "height": 512,
       "layout": "IPY_MODEL_49e45ff6669b4848b54545cc6d221e07",
       "lighting": 1,
       "menu_visibility": true,
       "object_ids": [
        4465149328
       ],
       "rendering_steps": 1,
       "screenshot": "",
       "screenshot_scale": 2,
       "time": 0,
       "voxel_paint_color": 0
      }
     },
     "69c33ee5cb7f4c6dbf9515362fd822ad": {
      "buffers": [
       {
        "data": "eNqL43ZjiAPiSFZXMA5hdEHBMPE4qLpOLzsw7nBzAON2J0cwbnNwQsEwcZg6mL6+Kk0IrtCC4HICGKYOqq91uRIYN69UhuBVKvgxVB1MX8S5PDAOvlgOxn6X68HY+0oLCoaJw9TB9Mk8fQ/Gis9+gLHq878oGCYOUwcApvNyEQ==",
        "encoding": "base64",
        "path": [
         "colors",
         "compressed_buffer"
        ]
       },
       {
        "data": "eNpjYGiwZ8AAxIsBAF7EAv0=",
        "encoding": "base64",
        "path": [
         "model_matrix",
         "compressed_buffer"
        ]
       },
       {
        "data": "eNpNkTFIQmEUhaEk7FFkadTg0FZQo0L1eP+5PCwwHNqsIQoC28RsDKKgwZaGBqUICoKgpSXQpf47imBTS1tREg4WDvkwKsh/6m5nOPfj8p3kpU3+syJfJwrcjjv0+JvmIy/PXhDk1p50oZxnq0HUTu86JvuLLk10DcJ0rpZj1F47gLk99s3S0LTHtzrK8W2bGjslfhmPcm3KofdWhg9vInzRC6oP1/T5VoRXPKK7xVXH5PCDS0FrAKZT2o9RaC8Hc7vxPUcf5QoM87k+0/nT44VQVlfXbQp8lXgJm7oedujTyvLkSUY3u0Gp1Jv2IaMDP0T31YRj8uirS32tfphO5DRGzZ4czO3YyHzn/woMU/CV4CvBV4KvBF8JvhJ8JfhK+IHwA+EHwg+EHwg/EH4g/CD5vyPEjhA7QuwIsSPEjvgDj3fwiQ==",
        "encoding": "base64",
        "path": [
         "origins",
         "compressed_buffer"
        ]
       },
       {
        "data": "eNpNkbFKA0EURXu3MGDq+QHrLYT3bjBfkB8Qi7T+gZUg6awCfoGthRBCYGfHBBG3WAsrOwtT2GjrWmyRecIjt5oLc9+ZN/eGssDp3wKhLNLn1b2edxW+bgfp8uBbrptH3MyOTEfX2VO7x2Z89udihPn6ASfDuzrfwTzmDS8LXb4/IZ/15OxX3o4b9M8r09G13bnHuD6bmcmZ3Xb8v+e0+oh5D9g+tleeV+MYb3PYy2vbIp+mo2t7wz32B5/NzORM4gvxhfhCfCG+EF+IL8QXykcpH6V8lPJRykcpH6V8lPLRsO8R1COoR1CPoB5BPWIHWhgaHA==",
        "encoding": "base64",
        "path": [
         "vectors",
         "compressed_buffer"
        ]
       }
      ],
      "model_module": "k3d",
      "model_module_version": "2.6.9",
      "model_name": "ObjectModel",
      "state": {
       "_view_count": null,
       "_view_module": null,
       "_view_module_version": "",
       "_view_name": null,
       "colors": {
        "dtype": "uint32",
        "shape": [
         44,
         2
        ]
       },
       "compression_level": 0,
       "head_color": 255,
       "head_size": 1,
       "id": 4506742736,
       "label_size": 1,
       "labels": [],
       "line_width": 0.01,
       "model_matrix": {
        "dtype": "float32",
        "shape": [
         4,
         4
        ]
       },
       "name": null,
       "origin_color": 255,
       "origins": {
        "dtype": "float32",
        "shape": [
         44,
         3
        ]
       },
       "type": "Vectors",
       "use_head": true,
       "vectors": {
        "dtype": "float32",
        "shape": [
         44,
         3
        ]
       },
       "visible": true
      }
     },
     "6a4a9c8f080d462893ec99442a050c31": {
      "buffers": [
       {
        "data": "eNqL43ZjiAPiSFZXMA5hdEHBMPE4qLpOLzsw7nBzAON2J0cwbnNwQsEwcZg6mL6+Kk0IrtCC4HICGKYOqq91uRIYN69UhuBVKvgxVB1MX8S5PDAOvlgOxn6X68HY+0oLCoaJw9TB9Mk8fQ/Gis9+gLHq878oGCYOUwcApvNyEQ==",
        "encoding": "base64",
        "path": [
         "colors",
         "compressed_buffer"
        ]
       },
       {
        "data": "eNpjYGiwZ8AAxIsBAF7EAv0=",
        "encoding": "base64",
        "path": [
         "model_matrix",
         "compressed_buffer"
        ]
       },
       {
        "data": "eNpNkTFIQmEUhaEk7FFkadTg0FZQo0L1eP+5PCwwHNqsIQoC28RsDKKgwZaGBqUICoKgpSXQpf47imBTS1tREg4WDvkwKsh/6m5nOPfj8p3kpU3+syJfJwrcjjv0+JvmIy/PXhDk1p50oZxnq0HUTu86JvuLLk10DcJ0rpZj1F47gLk99s3S0LTHtzrK8W2bGjslfhmPcm3KofdWhg9vInzRC6oP1/T5VoRXPKK7xVXH5PCDS0FrAKZT2o9RaC8Hc7vxPUcf5QoM87k+0/nT44VQVlfXbQp8lXgJm7oedujTyvLkSUY3u0Gp1Jv2IaMDP0T31YRj8uirS32tfphO5DRGzZ4czO3YyHzn/woMU/CV4CvBV4KvBF8JvhJ8JfhK+IHwA+EHwg+EHwg/EH4g/CD5vyPEjhA7QuwIsSPEjvgDj3fwiQ==",
        "encoding": "base64",
        "path": [
         "origins",
         "compressed_buffer"
        ]
       },
       {
        "data": "eNpNkbFKA0EURXu3MGDq+QHrLYT3bjBfkB8Qi7T+gZUg6awCfoGthRBCYGfHBBG3WAsrOwtT2GjrWmyRecIjt5oLc9+ZN/eGssDp3wKhLNLn1b2edxW+bgfp8uBbrptH3MyOTEfX2VO7x2Z89udihPn6ASfDuzrfwTzmDS8LXb4/IZ/15OxX3o4b9M8r09G13bnHuD6bmcmZ3Xb8v+e0+oh5D9g+tleeV+MYb3PYy2vbIp+mo2t7wz32B5/NzORM4gvxhfhCfCG+EF+IL8QXykcpH6V8lPJRykcpH6V8lPLRsO8R1COoR1CPoB5BPWIHWhgaHA==",
        "encoding": "base64",
        "path": [
         "vectors",
         "compressed_buffer"
        ]
       }
      ],
      "model_module": "k3d",
      "model_module_version": "2.6.9",
      "model_name": "ObjectModel",
      "state": {
       "_view_count": null,
       "_view_module": null,
       "_view_module_version": "",
       "_view_name": null,
       "colors": {
        "dtype": "uint32",
        "shape": [
         44,
         2
        ]
       },
       "compression_level": 0,
       "head_color": 255,
       "head_size": 1,
       "id": 4714520528,
       "label_size": 1,
       "labels": [],
       "line_width": 0.01,
       "model_matrix": {
        "dtype": "float32",
        "shape": [
         4,
         4
        ]
       },
       "name": null,
       "origin_color": 255,
       "origins": {
        "dtype": "float32",
        "shape": [
         44,
         3
        ]
       },
       "type": "Vectors",
       "use_head": true,
       "vectors": {
        "dtype": "float32",
        "shape": [
         44,
         3
        ]
       },
       "visible": true
      }
     },
     "6a52152b0086417c9a22b29f542abf8b": {
      "buffers": [
       {
        "data": "eNq7PcOEwcbnOUPCOnUG/iMfGda69DF8/PCGAQB5NApc",
        "encoding": "base64",
        "path": [
         "color_map",
         "compressed_buffer"
        ]
       },
       {
        "data": "eNpjYDjhxAAHHlA2TMwDSU7BkYFhgQMDCmiwBwCxZAUp",
        "encoding": "base64",
        "path": [
         "model_matrix",
         "compressed_buffer"
        ]
       },
       {
        "data": "eNrtwQEJAAAAAiDq/+h+hJoAAAAAAAAAAAAAAAAAAAAAAAAAAAAAAAAAAAAAAAAAAAAAAAAAAAAAAAAAAAAAAADwpAAAAAAAAAAAAAAAAAAAAAAAAAAAAAAAAAAAAAAAAAAAAAAAAAAAAAAAAAAAAAAAAFwZ72lKDw==",
        "encoding": "base64",
        "path": [
         "voxels",
         "compressed_buffer"
        ]
       }
      ],
      "model_module": "k3d",
      "model_module_version": "2.6.9",
      "model_name": "ObjectModel",
      "state": {
       "_view_count": null,
       "_view_module": null,
       "_view_module_version": "",
       "_view_name": null,
       "color_map": {
        "dtype": "uint32",
        "shape": [
         6
        ]
       },
       "compression_level": 0,
       "id": 4551889360,
       "model_matrix": {
        "dtype": "float32",
        "shape": [
         4,
         4
        ]
       },
       "name": null,
       "opacity": 1,
       "outlines": false,
       "outlines_color": 0,
       "type": "Voxels",
       "visible": true,
       "voxels": {
        "dtype": "uint8",
        "shape": [
         10,
         100,
         100
        ]
       },
       "wireframe": false
      }
     },
     "6af264ae1d784d2789182b81f8d91dc6": {
      "model_module": "@jupyter-widgets/base",
      "model_module_version": "1.2.0",
      "model_name": "LayoutModel",
      "state": {}
     },
     "6b5e3c1fdaa5402eac7270b6c892f68a": {
      "model_module": "k3d",
      "model_module_version": "2.6.9",
      "model_name": "PlotModel",
      "state": {
       "_backend_version": "2.6.9",
       "_dom_classes": [],
       "_view_count": null,
       "antialias": 3,
       "axes": [
        "x",
        "y",
        "z"
       ],
       "background_color": 16777215,
       "camera": [
        9.733137238263115,
        -14.662205854600705,
        0.9758137234910438,
        -0.02499999664723873,
        -0.02500000223517418,
        0,
        0,
        0,
        1
       ],
       "camera_auto_fit": true,
       "camera_no_pan": false,
       "camera_no_rotate": false,
       "camera_no_zoom": false,
       "clipping_planes": [],
       "colorbar_object_id": -1,
       "fps_meter": false,
       "grid": [
        -1,
        -1,
        -1,
        1,
        1,
        1
       ],
       "grid_auto_fit": true,
       "grid_visible": true,
       "height": 512,
       "layout": "IPY_MODEL_f095bf0ebeec4f289368313602c54440",
       "lighting": 1,
       "menu_visibility": true,
       "object_ids": [
        4560824080
       ],
       "rendering_steps": 1,
       "screenshot": "",
       "screenshot_scale": 2,
       "time": 0,
       "voxel_paint_color": 0
      }
     },
     "6be6c16d87954041866204bf5d36eafb": {
      "model_module": "@jupyter-widgets/output",
      "model_module_version": "1.0.0",
      "model_name": "OutputModel",
      "state": {
       "layout": "IPY_MODEL_6c3c7131a8bd4470b6cbd97c27b6a6a5",
       "outputs": [
        {
         "data": {
          "application/vnd.jupyter.widget-view+json": {
           "model_id": "f3025febb69f48fbb802ccccadc2118e",
           "version_major": 2,
           "version_minor": 0
          },
          "text/plain": "Plot(antialias=3, axes=['x', 'y', 'z'], background_color=16777215, camera=[4.5, 4.5, 4.5, 0.0, 0.0, 0.0, 1.0, …"
         },
         "metadata": {},
         "output_type": "display_data"
        }
       ]
      }
     },
     "6c31ca10a6364ce794c90b86db06d6ce": {
      "buffers": [
       {
        "data": "eNoDAAAAAAE=",
        "encoding": "base64",
        "path": [
         "colors",
         "compressed_buffer"
        ]
       },
       {
        "data": "eNpjYGiwZ8AAxIsBAF7EAv0=",
        "encoding": "base64",
        "path": [
         "model_matrix",
         "compressed_buffer"
        ]
       },
       {
        "data": "eNpNkj1oU2EUhkkx7W2jYhGEWDoU/GmxShEMovidDGKXxMHJDoI/NSHWdBIqoqI43JBBRTGoNJsSBJdASlVy73usXZq2cRKLbkolVNPUa0KkjaBn8mxnOD/P973PTGITT77fgXJ8HrdtHy+Ov3CqmRL+rLUQffbBSH1jsInRoQRJz8unnZwrLWBy+AHs5x1czaThFe7DafNz6Wg3QpF7KL/18f6Plx0veRej11vYefGLkdpebyA0O07S4xXWsD0xRTKbK/3AyKFfJDtz2QD3N9u5784QgpEulpvrpw9gecTi5WwKWxv7MPXQz0UvgMH8AHZt+Dh1y3KiR/ox3dlCrbZqpM4s1XF8yxWSnlCkhp7z0ySz5fh3HHxcJ9mZn61gyQqG5dbiwmZ+92kv41zS7WkG+FG+na+9ueSmC10sf7Bix92OOYtfx2z0fr3gJn/62UpZKEbPulf72jj7OV28WTnjbnM2cOJU00i9p7eO3xMTJD1echXDT16RzFYzK//e3iDZOdddwdjJYFhuxWLfcGz34bAwKB6jeIziMYrHKB6jeIziMYrHKB6jeIziMYrHqFxI5UIqF1K5kMqFVC6kciGVC6lcSOVCyjdSvpHyjZRvpHwj5Rsp30j5RjP//SflPyn/SflPfwEeEbDk",
        "encoding": "base64",
        "path": [
         "origins",
         "compressed_buffer"
        ]
       },
       {
        "data": "eNpNUiFLhFEQjGI4EDEYxSgKfsLBlZ1iMQoGgyD+AxHkuGIRFMOJh1q8YJBLZ7kkiLxVQUHkDkwGRW3aDBqsvjlYnfB4A293Z/bNFJUS9q5bztO5mrXm3KnzZJwCF5WSR81t+wj5OLaX/LmzDr7n2w8Wx/A4dOHzx1s++rFi5fsbX23UiVPgXONRw57o5byYWX06R2234d+9n5T5+trIn3v68znjpDqD4fIDbx/f37DXtxdvToE4BeZb1JAvemMPzsxcHly9bhd3C5s++DWSztYu0X4/9OnJCf4B4j/yDuAu3ClzgFzkHFjesXrr0/NNnAJTR9Rw/79e+ePM5cGVNXhoED0mekz0mOgx0WOix0SPiR4TPeq5iR4TPSa+mPgC8QXiC8QXiC8QXyC+QHyB+GKSN0jeIHmD5A2SN0jeIHmD5A3Ff/4h+YfkH5J//ALNZLTI",
        "encoding": "base64",
        "path": [
         "vectors",
         "compressed_buffer"
        ]
       }
      ],
      "model_module": "k3d",
      "model_module_version": "2.6.9",
      "model_name": "ObjectModel",
      "state": {
       "_view_count": null,
       "_view_module": null,
       "_view_module_version": "",
       "_view_name": null,
       "colors": {
        "dtype": "uint32",
        "shape": [
         0
        ]
       },
       "compression_level": 0,
       "head_color": 255,
       "head_size": 1,
       "id": 4640523088,
       "label_size": 1,
       "labels": [],
       "line_width": 0.01,
       "model_matrix": {
        "dtype": "float32",
        "shape": [
         4,
         4
        ]
       },
       "name": null,
       "origin_color": 255,
       "origins": {
        "dtype": "float32",
        "shape": [
         68,
         3
        ]
       },
       "type": "Vectors",
       "use_head": true,
       "vectors": {
        "dtype": "float32",
        "shape": [
         68,
         3
        ]
       },
       "visible": true
      }
     },
     "6c3c7131a8bd4470b6cbd97c27b6a6a5": {
      "model_module": "@jupyter-widgets/base",
      "model_module_version": "1.2.0",
      "model_name": "LayoutModel",
      "state": {}
     },
     "6c93fdbb01b54583914bd5e72027c624": {
      "model_module": "k3d",
      "model_module_version": "2.6.9",
      "model_name": "PlotModel",
      "state": {
       "_backend_version": "2.6.9",
       "_dom_classes": [],
       "_view_count": null,
       "antialias": 3,
       "axes": [
        "x",
        "y",
        "z"
       ],
       "background_color": 16777215,
       "camera": [
        9.80367128973346,
        -14.70550693460019,
        0.9803671289733545,
        0,
        0,
        0,
        0,
        0,
        1
       ],
       "camera_auto_fit": true,
       "camera_no_pan": false,
       "camera_no_rotate": false,
       "camera_no_zoom": false,
       "clipping_planes": [],
       "colorbar_object_id": -1,
       "fps_meter": false,
       "grid": [
        -1,
        -1,
        -1,
        1,
        1,
        1
       ],
       "grid_auto_fit": true,
       "grid_visible": true,
       "height": 512,
       "layout": "IPY_MODEL_3b58a7a694b2488a8d17dc8553e3b15e",
       "lighting": 1,
       "menu_visibility": true,
       "object_ids": [
        4368066256
       ],
       "rendering_steps": 1,
       "screenshot": "",
       "screenshot_scale": 2,
       "time": 0,
       "voxel_paint_color": 0
      }
     },
     "6cd58a9a106d424b96510b187ea6847d": {
      "model_module": "@jupyter-widgets/base",
      "model_module_version": "1.2.0",
      "model_name": "LayoutModel",
      "state": {}
     },
     "6d5d2fc85c2a459d9054feaae1ba4bde": {
      "model_module": "k3d",
      "model_module_version": "2.6.9",
      "model_name": "PlotModel",
      "state": {
       "_backend_version": "2.6.9",
       "_dom_classes": [],
       "_view_count": null,
       "antialias": 3,
       "axes": [
        "x",
        "y",
        "z"
       ],
       "background_color": 16777215,
       "camera": [
        9.733137238263115,
        -14.662205854600705,
        0.9758137234910438,
        -0.02499999664723873,
        -0.02500000223517418,
        0,
        0,
        0,
        1
       ],
       "camera_auto_fit": true,
       "camera_no_pan": false,
       "camera_no_rotate": false,
       "camera_no_zoom": false,
       "clipping_planes": [],
       "colorbar_object_id": -1,
       "fps_meter": false,
       "grid": [
        -1,
        -1,
        -1,
        1,
        1,
        1
       ],
       "grid_auto_fit": true,
       "grid_visible": true,
       "height": 512,
       "layout": "IPY_MODEL_b3bb0a4039f547b8b1a9002f1124f2b6",
       "lighting": 1,
       "menu_visibility": true,
       "object_ids": [
        4368107152
       ],
       "rendering_steps": 1,
       "screenshot": "",
       "screenshot_scale": 2,
       "time": 0,
       "voxel_paint_color": 0
      }
     },
     "6de7e8a26d58432dbbd93426d386b867": {
      "buffers": [
       {
        "data": "eNoDAAAAAAE=",
        "encoding": "base64",
        "path": [
         "colors",
         "compressed_buffer"
        ]
       },
       {
        "data": "eNpjYGiwZ8AAxIsBAF7EAv0=",
        "encoding": "base64",
        "path": [
         "model_matrix",
         "compressed_buffer"
        ]
       },
       {
        "data": "eNpN0MENgCAQRFEqm5nSLGUrcVuhFEME/QfDP8CLmTGSMarfb3XQ140W7vjvQs9+3x8zMAMzMAMzME9Pdu/32z8d9Dq/Fu4Yb9GT3fufji/4gi/4gi/4gi/sY+xj7GPsY+xj7GPsY+wDs2AWzIJZMAtm+QEXvmyN",
        "encoding": "base64",
        "path": [
         "positions",
         "compressed_buffer"
        ]
       }
      ],
      "model_module": "k3d",
      "model_module_version": "2.6.9",
      "model_name": "ObjectModel",
      "state": {
       "_view_count": null,
       "_view_module": null,
       "_view_module_version": "",
       "_view_name": null,
       "color": 10075135,
       "colors": {
        "dtype": "uint32",
        "shape": [
         0
        ]
       },
       "compression_level": 0,
       "id": 4707011600,
       "mesh_detail": 2,
       "model_matrix": {
        "dtype": "float32",
        "shape": [
         4,
         4
        ]
       },
       "name": null,
       "opacity": 1,
       "point_size": 0.1,
       "positions": {
        "dtype": "float32",
        "shape": [
         44,
         3
        ]
       },
       "shader": "3dSpecular",
       "type": "Points",
       "visible": true
      }
     },
     "6dee95e4d7d94784a2540fbab1de7e8c": {
      "model_module": "k3d",
      "model_module_version": "2.6.9",
      "model_name": "PlotModel",
      "state": {
       "_backend_version": "2.6.9",
       "_dom_classes": [],
       "_view_count": null,
       "antialias": 3,
       "axes": [
        "x",
        "y",
        "z"
       ],
       "background_color": 16777215,
       "camera": [
        10.284874878907916,
        -15.489812315567907,
        1.0059874815950598,
        -0.02499999664723873,
        -0.02500000223517418,
        -0.025000005960464478,
        0,
        0,
        1
       ],
       "camera_auto_fit": true,
       "camera_no_pan": false,
       "camera_no_rotate": false,
       "camera_no_zoom": false,
       "clipping_planes": [],
       "colorbar_object_id": -1,
       "fps_meter": false,
       "grid": [
        -1,
        -1,
        -1,
        1,
        1,
        1
       ],
       "grid_auto_fit": true,
       "grid_visible": true,
       "height": 512,
       "layout": "IPY_MODEL_4d1ac769cedf44668d6119544261209b",
       "lighting": 1,
       "menu_visibility": true,
       "object_ids": [
        4560958608
       ],
       "rendering_steps": 1,
       "screenshot": "",
       "screenshot_scale": 2,
       "time": 0,
       "voxel_paint_color": 0
      }
     },
     "6e4d150fd1f946589fa8ec938c44fe44": {
      "model_module": "k3d",
      "model_module_version": "2.6.9",
      "model_name": "PlotModel",
      "state": {
       "_backend_version": "2.6.9",
       "_dom_classes": [],
       "_view_count": null,
       "antialias": 3,
       "axes": [
        "x",
        "y",
        "z"
       ],
       "background_color": 16777215,
       "camera": [
        10.284874878907916,
        -15.489812315567907,
        1.0059874815950598,
        -0.02499999664723873,
        -0.02500000223517418,
        -0.025000005960464478,
        0,
        0,
        1
       ],
       "camera_auto_fit": true,
       "camera_no_pan": false,
       "camera_no_rotate": false,
       "camera_no_zoom": false,
       "clipping_planes": [],
       "colorbar_object_id": -1,
       "fps_meter": false,
       "grid": [
        -1,
        -1,
        -1,
        1,
        1,
        1
       ],
       "grid_auto_fit": true,
       "grid_visible": true,
       "height": 512,
       "layout": "IPY_MODEL_03dffdd9b1d94cfda8f39488278012b9",
       "lighting": 1,
       "menu_visibility": true,
       "object_ids": [
        4596246800
       ],
       "rendering_steps": 1,
       "screenshot": "",
       "screenshot_scale": 2,
       "time": 0,
       "voxel_paint_color": 0
      }
     },
     "6e636392b88146d18152feed8eed71dc": {
      "buffers": [
       {
        "data": "eNoDAAAAAAE=",
        "encoding": "base64",
        "path": [
         "colors",
         "compressed_buffer"
        ]
       },
       {
        "data": "eNpjYGiwZ8AAxIsBAF7EAv0=",
        "encoding": "base64",
        "path": [
         "model_matrix",
         "compressed_buffer"
        ]
       },
       {
        "data": "eNpN0VENwzAMBuFAGJQisA1tUIxkK5RAmbIq7ZeXnqL0dNI/xjr9HWN+/zgKfn/g4E0+3PDrvFzrrLvNDRe8/I2/8Tf+2wm/6uHjvLy7oWgoGoqGoqFoKBqKhqKhaNh8yOfl3T2bV8/mhgte35uDN8m/8IRXz+ZDPi/X3RP0BD1BT9AT9AQ9QU/QE/QEPcFeyV7JXsleyV7JXsleyV7JXsleyV7JXjQ0DU1D09A0NA1NQ9PQNDQN+if+iX/in/gn/pk/dr6bDQ==",
        "encoding": "base64",
        "path": [
         "positions",
         "compressed_buffer"
        ]
       }
      ],
      "model_module": "k3d",
      "model_module_version": "2.6.9",
      "model_name": "ObjectModel",
      "state": {
       "_view_count": null,
       "_view_module": null,
       "_view_module_version": "",
       "_view_name": null,
       "color": 10075135,
       "colors": {
        "dtype": "uint32",
        "shape": [
         0
        ]
       },
       "compression_level": 0,
       "id": 4439061456,
       "mesh_detail": 2,
       "model_matrix": {
        "dtype": "float32",
        "shape": [
         4,
         4
        ]
       },
       "name": null,
       "opacity": 1,
       "point_size": 0.1,
       "positions": {
        "dtype": "float32",
        "shape": [
         80,
         3
        ]
       },
       "shader": "3dSpecular",
       "type": "Points",
       "visible": true
      }
     },
     "6e74a7bb4263497297254471fc9cb013": {
      "model_module": "k3d",
      "model_module_version": "2.6.9",
      "model_name": "PlotModel",
      "state": {
       "_backend_version": "2.6.9",
       "_dom_classes": [],
       "_view_count": null,
       "antialias": 3,
       "axes": [
        "x",
        "y",
        "z"
       ],
       "background_color": 16777215,
       "camera": [
        167.85550338609096,
        -126.90825538367895,
        16.740550357496424,
        49.94999987818301,
        49.94999987818301,
        4.9500000067055225,
        0,
        0,
        1
       ],
       "camera_auto_fit": true,
       "camera_no_pan": false,
       "camera_no_rotate": false,
       "camera_no_zoom": false,
       "clipping_planes": [],
       "colorbar_object_id": -1,
       "fps_meter": false,
       "grid": [
        -1,
        -1,
        -1,
        1,
        1,
        1
       ],
       "grid_auto_fit": true,
       "grid_visible": true,
       "height": 512,
       "layout": "IPY_MODEL_b85ce46b790147a9ae318e8f8f6978c0",
       "lighting": 1,
       "menu_visibility": true,
       "object_ids": [
        4551889360
       ],
       "rendering_steps": 1,
       "screenshot": "",
       "screenshot_scale": 2,
       "time": 0,
       "voxel_paint_color": 0
      }
     },
     "6ed0b192892a4a75a8e52e83bf9a18f4": {
      "buffers": [
       {
        "data": "eNot0vlP1gUcwPF3rVar1Wq14vR5Hh4eBOSSQy45fZ7v96spoRIiIqJAHCKH3Pf9cD7fLLMss8yyzLLM0sy01KJIo1BDEQUEfWBrba2ttbbW1sfVD6//4JV2l5X0u62su8fG+nttZN6nkHW/wsYHFLIfVMh5SGXzwyq5j6jkPaqS/5hKweMahU9oFD2pUeyiUeKmsc1do9RDo8xTo9ygUWHUqDRpVJk1qr01aiwatT4adb4a9X4aDf4qDQEqjYEqTUEqzcEqLSEKLaEKrWEKbeEK7RE22iNtdETZ6Iy20hljpStWxC2jO14kJGNPFEnJ9CQn0WNNoteWSK8i1AT6NLE8nr4V8fSvFKvi6E8RTy9lIFWsjmVgjVgbw2CaeCaawXSREcXgepEZiWODyFqCY6PIjsCxSeSE49gstoThyA1DzwtFzxfPLkYvEIWiKAS9WGwNRi8R24LQS0WZKA9Er7gjAH27qBRVi9CrRY0/eq2oE/V+6A2iUTT5ojeLloXoraJNtPugd/yv04LeJbqF3Ru9R/Sa0fvMOPrFgBeOQeEQugnHc2KHicHnxQvG/+wULxoY2CVeEi+L3Qb6XxGvij0L6HtN7BWvG+h9Q+wTbxrouWO/AftbRuxvG+k+YKL7HfGuF10Hveh8z0znIW863rfQ8YGF9sM+YiFtH/rS+pEfrUf8afk4gOajgTR9EkTTp8E0HltMw/FQ6o+HU/9ZBHUnIqn9PIqakzFUfxFL1ak4Kk8lsP10IhVfJlP+lZWyMwqlZ+Xj2RWUnFvJ1q9TKP4mlaKhNRQOpVHwbTr532WQN5xJ7nAWW77PJud8Dpsu5JJ9IZ+sHwrYMFJE5kgJGT+Wsu6nctJHK0kbrWbtxVpWX2wg9VITKZdbWXW5nad+7mL5mB1trA/lygC2KzrLru4g6epOEsd3ET++m6XX9hB7bS/RE/uInNjPkusHCL9+kNAbhwi5cZjgySMETh5l0dQx/KZO4Dt1Ep/p01imz2CePofp5hDGm8MYZs7jOTOCx8wo7rOXcJsdw3V2HNdbE7jcmhTTuNyexfW2U8zj5vwFd+eveDh/w9P5Owvm/sA49yemub8wz/+NZf4f/gXLh0p6",
        "encoding": "base64",
        "path": [
         "color_map",
         "compressed_buffer"
        ]
       },
       {
        "data": "eNpjYFBwZMAABxwwxRqwidkDAFK8AuE=",
        "encoding": "base64",
        "path": [
         "model_matrix",
         "compressed_buffer"
        ]
       },
       {
        "data": "eNrl1U1IKlEUB3ASxIVuDF1IMMvBFiJEDGGEUQlRNGGRKEkRFgNDKOZH4252Tn4kSgwMJVEYDkZJRhFYkUQSQwTiomGWA+FCyY0uRLDnU8R8qwePt/Lu7o/LOecPl3tx/N9XlmGyvXKWSKZSycTZD/IHQ+FIJBwK+rvmcthtVqvN7nD9OLhq0MOw3rDaW1EDQRr8P69iuVzsgdccxxcKPJd77cj51d0Tk+e4PPN0d3XetsPjWCKVzmTSqUTs+LBFxJ4/EIqQFEVGQgH/HvHbsF2X025FEQS12p2uXax1cGvDbIB1Wq0ONpg3ttr1VhZnJyEVCKqgydnFlU7nMTUIKBQAqB7rGVEulcr/Kly93rtn+WKlVqsUebYj6ee3D/6rWv3iP96e0y2iL67vs3m+VOLz2fvrC7pJJHV0Ek+mGZZl0sn4yRFF4riX8PmDYTIaj0fJcNDvI7w47sHcLocNtZhMFtTmcLkxD46jyOa6Sa+DlEpIpzetbyJos6BxeWFGowJkMkClmVlYNrYa6yZGh4FBsXgQGB6d0HUmVAJyiUgkkQPK3ixC4R9hS5X693e9UupKjvss1xqNWvmTy7Xl9uHlnStUG41qgXt/ebhtUoy+vHlkuFK9XuKYx5tLOoYfkFT0lE5l2EqFzaTo0yhFHngJwhfYj1BxholTkf2AjyC8HgxzO3esiAmCTIh1x+nGMM82iljWjLBWKZEotbBxzYKg27jZuDQ/BYEyoVAGQlPzS0Zzs/Hc9PgIqBALBGIFODI+PdeeUA0OSUUCgUg6BKq7SWQS4cCAUCLr57z9dp/78L3qk//oF5tnwC4=",
        "encoding": "base64",
        "path": [
         "voxels",
         "compressed_buffer"
        ]
       }
      ],
      "model_module": "k3d",
      "model_module_version": "2.6.9",
      "model_name": "ObjectModel",
      "state": {
       "_view_count": null,
       "_view_module": null,
       "_view_module_version": "",
       "_view_name": null,
       "color_map": {
        "dtype": "uint32",
        "shape": [
         256
        ]
       },
       "compression_level": 0,
       "id": 4654181328,
       "model_matrix": {
        "dtype": "float32",
        "shape": [
         4,
         4
        ]
       },
       "name": null,
       "opacity": 1,
       "outlines": false,
       "outlines_color": 0,
       "type": "Voxels",
       "visible": true,
       "voxels": {
        "dtype": "uint8",
        "shape": [
         8,
         12,
         20
        ]
       },
       "wireframe": false
      }
     },
     "6ef378136427473e9fb6c86c8edc2e44": {
      "model_module": "@jupyter-widgets/base",
      "model_module_version": "1.2.0",
      "model_name": "LayoutModel",
      "state": {}
     },
     "7015dfc2fc854b99903b9505f297e6f3": {
      "model_module": "k3d",
      "model_module_version": "2.6.9",
      "model_name": "PlotModel",
      "state": {
       "_backend_version": "2.6.9",
       "_dom_classes": [],
       "_view_count": null,
       "antialias": 3,
       "axes": [
        "x",
        "y",
        "z"
       ],
       "background_color": 16777215,
       "camera": [
        128.36522763024962,
        -76.58329426960847,
        34.16248475703662,
        49.75000003352761,
        49.75000003352761,
        4.749999940395355,
        -0.07050038333954177,
        0.12017923450854899,
        0.9902457510850109
       ],
       "camera_auto_fit": true,
       "camera_no_pan": false,
       "camera_no_rotate": false,
       "camera_no_zoom": false,
       "clipping_planes": [],
       "colorbar_object_id": -1,
       "fps_meter": false,
       "grid": [
        -1,
        -1,
        -1,
        1,
        1,
        1
       ],
       "grid_auto_fit": true,
       "grid_visible": true,
       "height": 512,
       "layout": "IPY_MODEL_87efc4cb9e9b407dba6e5a44eb907b12",
       "lighting": 1,
       "menu_visibility": true,
       "object_ids": [
        4423984720
       ],
       "rendering_steps": 1,
       "screenshot": "",
       "screenshot_scale": 2,
       "time": 0,
       "voxel_paint_color": 0
      }
     },
     "705927bdef674c939bd7aef88590cbeb": {
      "buffers": [
       {
        "data": "eNoDAAAAAAE=",
        "encoding": "base64",
        "path": [
         "colors",
         "compressed_buffer"
        ]
       },
       {
        "data": "eNpjYGiwZ8AAxIsBAF7EAv0=",
        "encoding": "base64",
        "path": [
         "model_matrix",
         "compressed_buffer"
        ]
       },
       {
        "data": "eNpN0VENwzAMBuFAGJQisA1tUIxkK5RAmbIq7ZeXnqL0dNI/xjr9HWN+/zgKfn/g4E0+3PDrvFzrrLvNDRe8/I2/8Tf+2wm/6uHjvLy7oWgoGoqGoqFoKBqKhqKhaNh8yOfl3T2bV8/mhgte35uDN8m/8IRXz+ZDPi/X3RP0BD1BT9AT9AQ9QU/QE/QEPcFeyV7JXsleyV7JXsleyV7JXsleyV7JXjQ0DU1D09A0NA1NQ9PQNDQN+if+iX/in/gn/pk/dr6bDQ==",
        "encoding": "base64",
        "path": [
         "positions",
         "compressed_buffer"
        ]
       }
      ],
      "model_module": "k3d",
      "model_module_version": "2.6.9",
      "model_name": "ObjectModel",
      "state": {
       "_view_count": null,
       "_view_module": null,
       "_view_module_version": "",
       "_view_name": null,
       "color": 10075135,
       "colors": {
        "dtype": "uint32",
        "shape": [
         0
        ]
       },
       "compression_level": 0,
       "id": 4596640912,
       "mesh_detail": 2,
       "model_matrix": {
        "dtype": "float32",
        "shape": [
         4,
         4
        ]
       },
       "name": null,
       "opacity": 1,
       "point_size": 0.1,
       "positions": {
        "dtype": "float32",
        "shape": [
         80,
         3
        ]
       },
       "shader": "3dSpecular",
       "type": "Points",
       "visible": true
      }
     },
     "709096556a0c41bb9984627e03c994a5": {
      "model_module": "@jupyter-widgets/base",
      "model_module_version": "1.2.0",
      "model_name": "LayoutModel",
      "state": {}
     },
     "709e48d4533441ffac52c00231eeb676": {
      "model_module": "@jupyter-widgets/base",
      "model_module_version": "1.2.0",
      "model_name": "LayoutModel",
      "state": {}
     },
     "716accd743d5466284582ce1e394c43d": {
      "model_module": "@jupyter-widgets/base",
      "model_module_version": "1.2.0",
      "model_name": "LayoutModel",
      "state": {}
     },
     "71868baadd454225a8ca85610acc7dc0": {
      "model_module": "k3d",
      "model_module_version": "2.6.9",
      "model_name": "PlotModel",
      "state": {
       "_backend_version": "2.6.9",
       "_dom_classes": [],
       "_view_count": null,
       "antialias": 3,
       "axes": [
        "x",
        "y",
        "z"
       ],
       "background_color": 16777215,
       "camera": [
        9.80367128973346,
        -14.70550693460019,
        0.9803671289733545,
        0,
        0,
        0,
        0,
        0,
        1
       ],
       "camera_auto_fit": true,
       "camera_no_pan": false,
       "camera_no_rotate": false,
       "camera_no_zoom": false,
       "clipping_planes": [],
       "colorbar_object_id": -1,
       "fps_meter": false,
       "grid": [
        -1,
        -1,
        -1,
        1,
        1,
        1
       ],
       "grid_auto_fit": true,
       "grid_visible": true,
       "height": 512,
       "layout": "IPY_MODEL_929a30b65c51460d935b0981d55b793b",
       "lighting": 1,
       "menu_visibility": true,
       "object_ids": [
        4526161872
       ],
       "rendering_steps": 1,
       "screenshot": "",
       "screenshot_scale": 2,
       "time": 0,
       "voxel_paint_color": 0
      }
     },
     "71da6a4ba1e64ef28de10bfd7ce2ab0e": {
      "model_module": "k3d",
      "model_module_version": "2.6.9",
      "model_name": "PlotModel",
      "state": {
       "_backend_version": "2.6.9",
       "_dom_classes": [],
       "_view_count": null,
       "antialias": 3,
       "axes": [
        "x",
        "y",
        "z"
       ],
       "background_color": 16777215,
       "camera": [
        10.284874878907916,
        -15.489812315567907,
        1.0059874815950598,
        -0.02499999664723873,
        -0.02500000223517418,
        -0.025000005960464478,
        0,
        0,
        1
       ],
       "camera_auto_fit": true,
       "camera_no_pan": false,
       "camera_no_rotate": false,
       "camera_no_zoom": false,
       "clipping_planes": [],
       "colorbar_object_id": -1,
       "fps_meter": false,
       "grid": [
        -1,
        -1,
        -1,
        1,
        1,
        1
       ],
       "grid_auto_fit": true,
       "grid_visible": true,
       "height": 512,
       "layout": "IPY_MODEL_84225df6248149ed924183ff2eb45122",
       "lighting": 1,
       "menu_visibility": true,
       "object_ids": [
        4511880752
       ],
       "rendering_steps": 1,
       "screenshot": "",
       "screenshot_scale": 2,
       "time": 0,
       "voxel_paint_color": 0
      }
     },
     "72e09bc11a0b44eca8fffec340fcc408": {
      "model_module": "@jupyter-widgets/output",
      "model_module_version": "1.0.0",
      "model_name": "OutputModel",
      "state": {
       "layout": "IPY_MODEL_270fd51c0d54491d956babbc35d4ef9e",
       "outputs": [
        {
         "data": {
          "application/vnd.jupyter.widget-view+json": {
           "model_id": "c41f56ebd67e4b7a88721a79ea970fdd",
           "version_major": 2,
           "version_minor": 0
          },
          "text/plain": "Plot(antialias=3, axes=['x', 'y', 'z'], background_color=16777215, camera=[4.5, 4.5, 4.5, 0.0, 0.0, 0.0, 1.0, …"
         },
         "metadata": {},
         "output_type": "display_data"
        }
       ]
      }
     },
     "7326b458ae2b47428f7a9c63c9964ee4": {
      "model_module": "@jupyter-widgets/base",
      "model_module_version": "1.2.0",
      "model_name": "LayoutModel",
      "state": {}
     },
     "73310b4283d04524a87981e72099c5c7": {
      "model_module": "@jupyter-widgets/output",
      "model_module_version": "1.0.0",
      "model_name": "OutputModel",
      "state": {
       "layout": "IPY_MODEL_2ecc1776bf5c4d968a810c34f0ae98dc",
       "outputs": [
        {
         "data": {
          "application/vnd.jupyter.widget-view+json": {
           "model_id": "d7225d99f7b64d9d99724fb73cfda567",
           "version_major": 2,
           "version_minor": 0
          },
          "text/plain": "Plot(antialias=3, axes=['x', 'y', 'z'], background_color=16777215, camera=[4.5, 4.5, 4.5, 0.0, 0.0, 0.0, 1.0, …"
         },
         "metadata": {},
         "output_type": "display_data"
        }
       ]
      }
     },
     "736d5e4d8e734490ad405d8331afddc3": {
      "model_module": "@jupyter-widgets/base",
      "model_module_version": "1.2.0",
      "model_name": "LayoutModel",
      "state": {}
     },
     "73e59b0ba9904259950364017828bc4c": {
      "model_module": "@jupyter-widgets/output",
      "model_module_version": "1.0.0",
      "model_name": "OutputModel",
      "state": {
       "layout": "IPY_MODEL_32ed0585aec443c9a06da85b70cf4df4",
       "outputs": [
        {
         "data": {
          "application/vnd.jupyter.widget-view+json": {
           "model_id": "80c64ef0e2864226b490d85880a7d0b0",
           "version_major": 2,
           "version_minor": 0
          },
          "text/plain": "Plot(antialias=3, axes=['x', 'y', 'z'], background_color=16777215, camera=[4.5, 4.5, 4.5, 0.0, 0.0, 0.0, 1.0, …"
         },
         "metadata": {},
         "output_type": "display_data"
        }
       ]
      }
     },
     "756e5c6c048947a49e09eef398ceb641": {
      "model_module": "k3d",
      "model_module_version": "2.6.9",
      "model_name": "PlotModel",
      "state": {
       "_backend_version": "2.6.9",
       "_dom_classes": [],
       "_view_count": null,
       "antialias": 3,
       "axes": [
        "x",
        "y",
        "z"
       ],
       "background_color": 16777215,
       "camera": [
        9.80367128973346,
        -14.70550693460019,
        0.9803671289733545,
        0,
        0,
        0,
        0,
        0,
        1
       ],
       "camera_auto_fit": true,
       "camera_no_pan": false,
       "camera_no_rotate": false,
       "camera_no_zoom": false,
       "clipping_planes": [],
       "colorbar_object_id": -1,
       "fps_meter": false,
       "grid": [
        -1,
        -1,
        -1,
        1,
        1,
        1
       ],
       "grid_auto_fit": true,
       "grid_visible": true,
       "height": 512,
       "layout": "IPY_MODEL_dd3153a6aa9b4c24ad929574e0b94831",
       "lighting": 1,
       "menu_visibility": true,
       "object_ids": [
        4514784912
       ],
       "rendering_steps": 1,
       "screenshot": "",
       "screenshot_scale": 2,
       "time": 0,
       "voxel_paint_color": 0
      }
     },
     "75748ea169e94bf9b8478a4047241b75": {
      "model_module": "k3d",
      "model_module_version": "2.6.9",
      "model_name": "PlotModel",
      "state": {
       "_backend_version": "2.6.9",
       "_dom_classes": [],
       "_view_count": null,
       "antialias": 3,
       "axes": [
        "x",
        "y",
        "z"
       ],
       "background_color": 16777215,
       "camera": [
        9.828951377057189,
        -14.743427065585788,
        0.9828951377057292,
        0,
        0,
        0,
        0,
        0,
        1
       ],
       "camera_auto_fit": true,
       "camera_no_pan": false,
       "camera_no_rotate": false,
       "camera_no_zoom": false,
       "clipping_planes": [],
       "colorbar_object_id": -1,
       "fps_meter": false,
       "grid": [
        -1,
        -1,
        -1,
        1,
        1,
        1
       ],
       "grid_auto_fit": true,
       "grid_visible": true,
       "height": 512,
       "layout": "IPY_MODEL_de4293795ed54263bc7bdaf7b6d59e81",
       "lighting": 1,
       "menu_visibility": true,
       "object_ids": [
        4560851280,
        4547986704
       ],
       "rendering_steps": 1,
       "screenshot": "",
       "screenshot_scale": 2,
       "time": 0,
       "voxel_paint_color": 0
      }
     },
     "76e454519c604f999e682a7e9bcc4616": {
      "buffers": [
       {
        "data": "eNot0vlP1gUcwPF3rVar1Wq14vR5Hh4eBOSSQy45fZ7v96spoRIiIqJAHCKH3Pf9cD7fLLMss8yyzLLM0sy01KJIo1BDEQUEfWBrba2ttbbW1sfVD6//4JV2l5X0u62su8fG+nttZN6nkHW/wsYHFLIfVMh5SGXzwyq5j6jkPaqS/5hKweMahU9oFD2pUeyiUeKmsc1do9RDo8xTo9ygUWHUqDRpVJk1qr01aiwatT4adb4a9X4aDf4qDQEqjYEqTUEqzcEqLSEKLaEKrWEKbeEK7RE22iNtdETZ6Iy20hljpStWxC2jO14kJGNPFEnJ9CQn0WNNoteWSK8i1AT6NLE8nr4V8fSvFKvi6E8RTy9lIFWsjmVgjVgbw2CaeCaawXSREcXgepEZiWODyFqCY6PIjsCxSeSE49gstoThyA1DzwtFzxfPLkYvEIWiKAS9WGwNRi8R24LQS0WZKA9Er7gjAH27qBRVi9CrRY0/eq2oE/V+6A2iUTT5ojeLloXoraJNtPugd/yv04LeJbqF3Ru9R/Sa0fvMOPrFgBeOQeEQugnHc2KHicHnxQvG/+wULxoY2CVeEi+L3Qb6XxGvij0L6HtN7BWvG+h9Q+wTbxrouWO/AftbRuxvG+k+YKL7HfGuF10Hveh8z0znIW863rfQ8YGF9sM+YiFtH/rS+pEfrUf8afk4gOajgTR9EkTTp8E0HltMw/FQ6o+HU/9ZBHUnIqn9PIqakzFUfxFL1ak4Kk8lsP10IhVfJlP+lZWyMwqlZ+Xj2RWUnFvJ1q9TKP4mlaKhNRQOpVHwbTr532WQN5xJ7nAWW77PJud8Dpsu5JJ9IZ+sHwrYMFJE5kgJGT+Wsu6nctJHK0kbrWbtxVpWX2wg9VITKZdbWXW5nad+7mL5mB1trA/lygC2KzrLru4g6epOEsd3ET++m6XX9hB7bS/RE/uInNjPkusHCL9+kNAbhwi5cZjgySMETh5l0dQx/KZO4Dt1Ep/p01imz2CePofp5hDGm8MYZs7jOTOCx8wo7rOXcJsdw3V2HNdbE7jcmhTTuNyexfW2U8zj5vwFd+eveDh/w9P5Owvm/sA49yemub8wz/+NZf4f/gXLh0p6",
        "encoding": "base64",
        "path": [
         "color_map",
         "compressed_buffer"
        ]
       },
       {
        "data": "eNpjYFBwZMAABxwwxRjsMYUa7AFHpwJg",
        "encoding": "base64",
        "path": [
         "model_matrix",
         "compressed_buffer"
        ]
       },
       {
        "data": "eNpjYACBN19+////+8sbBji4eOvp+5///v18//TWRYjItr1Hz916/vXfv6/Pb507uncbUGjJinVb95269eb37ze3Tu3bum7FEoYp02bOXbRi08EbX77cOLhpxaK5M6dNae/o6OrpmzRz+alTy2dO6uvp6uhor6yoKCspykuPNDOLTM8rKimrqKjMyUpPjovws9fg4dGw94uIS07PymGIiQjydjJTE2FlFVEzc/IOiogBWuzlbG2kJsnNxMQtqWZk7ewFcaG+mrQgOxMTu6C0mj7CJyI8rIyMrDwiEB4A19heAQ==",
        "encoding": "base64",
        "path": [
         "voxels",
         "compressed_buffer"
        ]
       }
      ],
      "model_module": "k3d",
      "model_module_version": "2.6.9",
      "model_name": "ObjectModel",
      "state": {
       "_view_count": null,
       "_view_module": null,
       "_view_module_version": "",
       "_view_name": null,
       "color_map": {
        "dtype": "uint32",
        "shape": [
         256
        ]
       },
       "compression_level": 0,
       "id": 4610103784,
       "model_matrix": {
        "dtype": "float32",
        "shape": [
         4,
         4
        ]
       },
       "name": null,
       "opacity": 1,
       "outlines": false,
       "outlines_color": 0,
       "type": "Voxels",
       "visible": true,
       "voxels": {
        "dtype": "uint8",
        "shape": [
         1,
         12,
         20
        ]
       },
       "wireframe": false
      }
     },
     "774975f422ad49308f6884dc16338488": {
      "model_module": "@jupyter-widgets/base",
      "model_module_version": "1.2.0",
      "model_name": "LayoutModel",
      "state": {}
     },
     "77556b6283bd499f97c65375a6cb8238": {
      "buffers": [
       {
        "data": "eNoDAAAAAAE=",
        "encoding": "base64",
        "path": [
         "colors",
         "compressed_buffer"
        ]
       },
       {
        "data": "eNpjYGiwZ8AAxIsBAF7EAv0=",
        "encoding": "base64",
        "path": [
         "model_matrix",
         "compressed_buffer"
        ]
       },
       {
        "data": "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",
        "encoding": "base64",
        "path": [
         "origins",
         "compressed_buffer"
        ]
       },
       {
        "data": "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",
        "encoding": "base64",
        "path": [
         "vectors",
         "compressed_buffer"
        ]
       }
      ],
      "model_module": "k3d",
      "model_module_version": "2.6.9",
      "model_name": "ObjectModel",
      "state": {
       "_view_count": null,
       "_view_module": null,
       "_view_module_version": "",
       "_view_name": null,
       "colors": {
        "dtype": "uint32",
        "shape": [
         0
        ]
       },
       "compression_level": 0,
       "head_color": 255,
       "head_size": 1,
       "id": 4368066256,
       "label_size": 1,
       "labels": [],
       "line_width": 0.01,
       "model_matrix": {
        "dtype": "float32",
        "shape": [
         4,
         4
        ]
       },
       "name": null,
       "origin_color": 255,
       "origins": {
        "dtype": "float32",
        "shape": [
         1008,
         3
        ]
       },
       "type": "Vectors",
       "use_head": true,
       "vectors": {
        "dtype": "float32",
        "shape": [
         1008,
         3
        ]
       },
       "visible": true
      }
     },
     "77d4c29ca499494fb97ac436e6772c18": {
      "buffers": [
       {
        "data": "eNoDAAAAAAE=",
        "encoding": "base64",
        "path": [
         "colors",
         "compressed_buffer"
        ]
       },
       {
        "data": "eNpjYGiwZ8AAxIsBAF7EAv0=",
        "encoding": "base64",
        "path": [
         "model_matrix",
         "compressed_buffer"
        ]
       },
       {
        "data": "eNpVWnnw1dV9bdUhggJBiYiiVlKjuICERaK+z7mpCS6AICJaRBNFRUR2dNRqW2PL6lIF+aEE46ghaqpoxK36vvc7tkEWWdQR1AAStiDRSEDJpJqk59zozOkfzLvw7vK5n+2exzljThmZ/3d2S17Y/4382jmvVN1aL8xd08p86/jWsX7fI2Xc8tY30Wrq42XO7km/yQ9996i85uHVWf/G78q/n/rm0Ly2+yl570Er8sojHq82DflObr1gWR6zokd0Xdy/jPk9NE9zeCbG8Gyt/frd7+LK6sqy52HHdKh/1arZfH3g2nzr3C15XesPmgt3r8qyhTZVskf7cd9Ke+784d1VzxhVjV23NPMz9HeNeT5kh+bwTtDdtPbfxm7E7MaySnvu2twunVutrXQWxzXHoTHnZM4JzZE/uDa0VnfinqE9dSbPCp2lT52tMW2D7qw5tBnyY/Hn3C3gXRrak3dMvGNDZ/HumXeH7q440CeQT+RL+gryle6qfbWnztfdNNb38qnmMBZQnL6MERijsqfio+/07/KfbJI9upP8orHOVDw0Z8lhY/PSaw+ud31tbv7+xe9Vl7zWrp7QMid//MiDjccbHcp44IcdcXrLoWXObad1qodMWpVfeeb+/EGv3fnYN9bkM8fNzaPa/yLf3/lt/pmTl04ezbut57p7841/eYs5tjGvOeXefMJ+Sxrr920p49PvOpw5trPMWbj7Lozd8VFZy/2gfbXnHcsOTM/cvaec1XP4sHq/KTPzQxe25Ct39q4/Gj0rN3rMyxMXfKMev3Z2/rvlc7P24F5ln55vPV3O0Z8nx16RB/3x/nzSeffkadter5aO/nH+oNXd+cNxmxunz3+0jIfPPRrPtXqyzOEafLWed8Jf7zYn/8dVbdJ9PZaUsx7qdFLqOP/5YsOaJwakP9/5QrFt03ND60eO75CX/mleXtapV9330UOK/fIf/ZjlQ92b9y9315k8u5x76G0X549/dEI+ctydeUeHJdWIoaflzYNm5d4bOsWip84pY34PzdMc3gm6m9bS35DftSfjmRRXndVv58lpxchxxYauAwely98dX2wbvWZifXzc2Px8e0s+/7dD6vcfvr25Z/W8vH/7nvWZl85ubhxzf1b8mQdN5YDixvg1S+zoM/quKb/JLtpXybbfvjan6nbLJdWIgdMzP0N/15j3gO6jOfQ9FAOtZV5A+aE9mXdJ+aez/rS7e+rZbWMlG37RcXBa3vJBJdseOHVCOqPfryvZzHHNcWjMOTXnhOZwbc21obXKZe4Z2lM5yLNCZyn+tCFkg3xM20K2yXbaHLJZn7qDxrwjFAPN4d2hvNFa+gTKae1JXyXVjM6iDxN92JAN9G2ibxuyjT5P9HlDNjMWNWMBxYIxqhkjKEaqRcYOip1qiDGFYqr8ZayhWCtHmANQDsj3sk+26R7ytcb6XrmiOcwxKL+1lrkH1Z72ZE4m1bbOYq4m5mqxgTmcmMPFNuZ2zdyGcps5XzPnoZxnLdSsBagWVPesEahG5AvWDvSpvNbZOlf5It/Jb/K98kBj3Ul5rDlfritrWctQX9CerPHEGi9nsfYTa7/YwJ6Q2BOKbewVNXtFsV89iT0E6iHqB9pL+6jmdH/dXbms+Oks5YVyseQG/a1a0py/3untslb7qTdpT/bAxB5YzlJNy4/yoWpFeaAcUN4ppzVWPFWTmrN48ZZq1+bu9aezvp1n/Oi6xmHH9Czj2945vL7jxK/Vi/v1zk/M35s7XnFgfc8n384jZj+fP9u/Td350Z55ycTxuf+xB9ed//3UfM/mzdWdP2tXz3m/R571+U2NqZd0KOOB93TAf206tMxZNHUWDvriG2XtxaPfwEcPdSp78pyk83TWI/suqhe9tzzvWtond3+xb71x24q87tbeWXO5Jmt+zx/8vrzVx3TpmUe9/Bzv/Gb+tFOPfMTOsfnalnXl7frVnI3VhMc35Af3nJTvf2Zm496Lt5bxjk4dMf/aD8uchf3vxJLDflfWcj9oX+3JuybdWWe9dU639M0jPys2XN76vDTiW/uKbZu+mFKvOGRG3jWubz7q9mH1m3Nm5Bmn9smPHt+nXnDBzLz54V5Zd+Wdc/EVz+F55ax3nn+m9EjZs/K40fnG784tNfSvy9ZVpzyxILf9w3H5bzc91nh7+GNl3Of9wzGr+nmZw3XQeq3lvaH7a0/GJCk2Ouuyd09MVz/9QrFh6z8PSD2uf7HY1nX/61Pfj18sNg/qPLN+qke73NLntHzZTZPrJfPb5VlH980b1g6tj+7ZPt/7au/c5Xu96radv178oBgylllxlP/ox+JD2UX7im1XPHZZ/smlXcuf7T9fWimebZ/skq8bsr1xwesDypjf4at5vDd0f61l3KD4aU/mVFJu6axtr5yc9u6YUGz4+x6D0pbVE4ttj04flwaOnlRsfm7HtHTh2knlLvv/YEb9nVGXNBd3Oi3/47qJ9eJeI5vv7e2TH/hsSH3WmiuaiqNynLneVJ4rT5mvTeWqcoS50pRv5XvGoCn/y3beoSn7V3/2UHV1x3+o5At+hv6uMe8K3VlzGEMollrLHIRyUXuyPpLqRGex5pJqTzaMbjM4Hb50ayXbftZtQpp187ZKNv/p4enpgb3bKt2F45rj0Jhzas4JzeHammtDa1XH3DO0p2qRZ4XOUh3QhpANyi/aFrJN8aHNIZt1J94ldBd96m4a8+5Q/DSHPoHyUmvpK6iutCd9mFTzOou+TeojsoE+T/R5Q7YxFomxaMhmxigxRg3dhbGrGTsodoxpzZhCMWWsa8YaijVzoGYOQDmgfsPcgHJDtc6cEQYtNcRc0htTcos5Bn0qbrqD7NddFSeNv/y+zGEOQzWmtcxtqEdoT+Z8Uv/SWayFxFooNrBGEmuk2MbaSaydYjNrKrGmyl1YazVrDao11mDNGoRqkLVZszah2lQfZc1CNasexlqGalm9gTUO+Va1Jftkm/JRMZD/FUPlmca6t2pJc7ROPUJr2XOgHqc92YuS+q/OYo9K7FHFBvauxN5VbGNPS+xpxWb2upq9Dup17IE1eyAUR70D7I3FD+rB7JlQz1Rv03k6S71BfpQPVU/KFdmjHFQ9aKy4qeY1R/dWL9Na7aderD3Z85PeCZ3FtyDxLSg28I1IfCOKbXqj+HYk5bLeB63RfPVd3bn4lnmsWCqOqnXlq3JV9aGa1Fg5pb6jOYqJ+qnW6q56D7SnztFbpbPUP5TrynPVnOpZ447zP8sdju1Wzx0wsRp43ov5kyUn1svbT6jWXzwpNx85uX6w3fjqwne3Vy+v717P/adx1TWNCxpnn9CzjLs93g5nXdarzFny/Ax0GNCnrP1o9Ap8sqlv2fPBI/vVx3dqVbeZN6kaenDn+um9reojdk2o7uvxab7qWweWtW9e9EJ+aWXr+l+Ou746e+LE/NN9B9X/c9N1Vf+J26thLe3q/jeMqVbdNqzxn9d2KOOX72mPS1t3LHN6PDkT5/Q+rKwdv3Ylfvxep7Inz0k6T2dds+349N7OzsWGA8beUC96fVl+euGU6nuHDOdvouX5qmMmV7KXdmfZrD24V9Y+o9rvyfoN2nXk2GpTXkJ89mYeeO611cfLxxNTvpNvOuvq6qJF2/ibaEP5jTti1Qj+Jtpaxof27cDfRLvKnK5pNn8T/a6s5X7QvtqTPkjyhc5iHJLiIRte/fhc/ibaV2z7Yu51aUS/PxSb3109s75wzPS8atzUar+2U+vfPzs939d6SjV9/rC63REzcpcBkyrFgfHIioV8Qx9l+Ufn045iw7F/fLb8bpOd6aqxedrn9+XR515WPbB6S/X99gsKlj999pjGK7sfK+N6QUfccsBTZQ7XQeu1lv6A/KI9GcOkWOos5lFSPsmGm0cPSHu2v1hs+/Oesan9+S8Vm0/oOS09Ne+lcpdtf5lfbx3RNt8+/IaqzVEz697T2ua5x0yt2twxuT7jv9vmGx+cXK3cPLT+tEu7PGXRxEp5x/wrflMuMCey8kH+pt+Lz2Uv7S42771oVHnPX90ypBrz6w2V6kZvyMhb7mz85pbBZczvoXmaQ39AftFaxhmKt/ZkbiblqM5ifSTViWzoc8ygdPDWScW2fbeOS788c3Kxed+WaemNmyeXu3T5m5Z01E8nlzueMXx+veqNgc2WfjdUg384o543clCzw74pVaf3J9Zdu53fvOvyydXZnw+pO40Y3FQ+qOZYe03VneqA9dBULSjXmHNNxUKxYsyaipfuxLs1dS/9X47+L+PLP/HV3+kDyBeaw5hDsdda5jKU09qT9ZdUh6Xu1ndP6gWy4eUDBqdmxx2VbPvwuAlpw+k7Ktn87E+mp3HDdlS6yy+faEnXXLOj0h05rjkOjTmn5pzQHK6tuTa0lnvW3DO0p/oNzwqdVXrAxO0hG1RntE3/f1TylDbrd2aJJ+8iHFDupv+vsc8ypk+geGsOfQXld8nz+VuhutWe9G1Sr9FZ9HlSv5MNjEViLBqyjTFKjFFDNjN2ibFr6C6MaWJMG7ojY10z1lCsmQM1cwDKAeZGzdyAcoM5UzNnoJxRr2UuQbmk/sccg3JMPYa5B+WeapQ5CeWkcpm5CuWq4qy76V7ygeKqsb5XTmsOawGqYa1ljUC9SXuydpL6qc5iTSX1dNnAWkustWIbazCxBovNrM3E2ix3Yc0m1my5I2u5Zi1Dtcwar1njUI2z9mvWPlT7elvYE6CeoH7PXgH1CvVU9hCoh6gnsbdAsVDtym7ZrLxWzBQvxVz5qrH8oVrVHK1Tb9Ja9jqo52pP9sCkd0JnsTcmvVWygT0zsWcW29hLE3tpsZk9NrHHlruw99bsvVDvZU/mb/l9UE/Wm8leDeWD3jH28OI3vRXs7VBvV6+VHbJBPUl+l89Vr8o52alcVr1prDir12iO/KHeqrXaT2+G9uTblPTO6Sy+WUlvrWzgW8bf8suLbXzjEt+4YjPfvppvX9Lbp7eXb2LSm6j3TXtpH70P8pH8oz6qnFA+qMeoHlQLqr/SC1QXzE31Qc1RDNX3tVY+0HumPXWO3mCdRQyQiAGKDXpjZbds1huleCgW6uXKP61Vn1Ptqe7UA9R3NFZ9qOdqjvJIb4zWKg56O7Wn4ZkwPBOGZ8LwTBieCcMzYXgmDM+E4ZkwPBOGZ8LwTBieCcMzYXgmDM+E4ZkwPBOGZ8LwTBieCcMzYXgmDM+E4ZkwPBOGZ8LwTBieCcMzYXgmDM+E4ZkwPBOGZ8LwTBieCcMzYXgmDM+E4ZkwPBOGZ8LwTBieCcMzYXgmDM+E4ZkwPBOGZ8LwTBieCcMzYXgmDM+E4ZkwPBOGZ8LwTBieCcMzYXgmDM+E4ZkwPBOGZ8LwTBieCcMzYXgmDM+E4ZkwPBOGZ8LwTBieCcMzYXgmDM+E4ZkwPBOGZ8LwTBieCcMzYXgmDM+E4ZkwPBOGZ8LwTBieCcMzYXgmDM+E4ZkwPBOGZ8LwTBieCcMzYXjm/+EYwzNheCYMz4ThmTA8E4ZnwvBMGJ4JwzNheCYMz4ThmTA8E4ZnwvBMGJ4JwzNheCYMz4ThmTA8E4ZnwvBMGJ4JwzNheCYMz4ThmTA8E4ZnwvBMGJ4JwzNheCYMz4ThmTA8E4ZnwvBMGJ4JwzNheCYMz4ThmTA8E4ZnwvBMGJ4JwzNheCYMz4ThmTA8E4ZnwvBMGJ4JwzNheCYMz4ThmTA8E4ZnwvBMGJ4JwzNheCYMz4ThmTA8E4ZnwvBMGJ4JwzNheCYMz4ThmTA8E4ZnwvBMGJ4JwzNheCYMz4ThmTC+A8Z3wPgOGN8B4ztgfAeM74DxHTC+A8Z3wPgOGN8B4ztgfAeM74DxHTC+A8Z3wPgOGN8B4ztgfAeM74DxHTC+A8Z3wPgOGN8B4ztgfAeM74DxHTC+A8Z3wPgOGN8B4ztgfAeM74DxHTC+A8Z3wPgOGN8B4ztgfAeM74DxHTC+A8Z3wPgOGN8B4ztgfAeM74DxHTC+A8Z3wPgOGN8B4ztgfAeM74DxHTC+A8Z3wPgOGN8B4ztgfAeM74DxHTC+A8Z3wPgOGN8B4ztgfAeM74DxHTC+A8Z3wPgOGN8B4ztgfAeM74DxHTC+A8Z3wPgOGN8B4ztgfAeM74DxHTC+A8Z3wPgOGN8B4ztgfAeM74DxHTC+A8Z3wPgOGN8B4ztgfAeM74DxHTC+A8Z3wPgOGN8B4ztgfAeM74DxHTC+A8Z3wPgOGN8B4ztgfAeM74DxHTC+A8Z3wPgOGN8B4ztgfAeM74DxHTC+A8Z3wPgOGN8B4ztgfAeM74DxHTC+A8Z3wPgOGN8B4ztgfAeM74DxHTC+A8Z3wPgOGN8B02vB9FowvRZMrwXTa8H0WjC9FkyvBdNrwfRaML0WTK8F02vB9FowvRZMrwXTa8H0WjC9FkyvBdNrwfRaML0WTK8F02vB9FowvRZMrwXTa8H0WjC9FkyvBdNrwfRaML0WTK8F02vB9FowvRZMrwXTa8H0WjC9FkyvBdNrwfRaML0WTK8F02vB9FowvRZMrwXTa8H0WjC9FkyvBdNrwfRaML0WTK8F02vB9FowvRZMrwXTa8H0WjC9FkyvBdNrwfRaML0WTK8F02vB9FowvRZMrwXTa8H0WjC9FkyvBdNrwfRaML0WTK8F02vB9FowvRZMrwXTa8H0WjC9FkyvBdNrwfRaML0WTK8F02vB9FowvRZMrwXTa8H0WjC9FkyvBdNrwfRaML0WTK8F02vB9FowvRZMrwXTa8H0WjC9FkyvVTTLX+qlYXppmF4appeG6aVhemmYXhqml4bppWF6aZheGqaXhumlYXppmF4appeG6aVhemmYXhqml4bppWF6aZheGqaXhumlYXppmF4appeG6aVhemmYXhqml4bppWF6aZheGqaXhumlYXppmF4appeG6aVhemmYXhqml8b/Aeqd3k8=",
        "encoding": "base64",
        "path": [
         "origins",
         "compressed_buffer"
        ]
       },
       {
        "data": "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",
        "encoding": "base64",
        "path": [
         "vectors",
         "compressed_buffer"
        ]
       }
      ],
      "model_module": "k3d",
      "model_module_version": "2.6.9",
      "model_name": "ObjectModel",
      "state": {
       "_view_count": null,
       "_view_module": null,
       "_view_module_version": "",
       "_view_name": null,
       "colors": {
        "dtype": "uint32",
        "shape": [
         0
        ]
       },
       "compression_level": 0,
       "head_color": 255,
       "head_size": 1,
       "id": 4577179472,
       "label_size": 1,
       "labels": [],
       "line_width": 0.01,
       "model_matrix": {
        "dtype": "float32",
        "shape": [
         4,
         4
        ]
       },
       "name": null,
       "origin_color": 255,
       "origins": {
        "dtype": "float32",
        "shape": [
         1008,
         3
        ]
       },
       "type": "Vectors",
       "use_head": true,
       "vectors": {
        "dtype": "float32",
        "shape": [
         1008,
         3
        ]
       },
       "visible": true
      }
     },
     "7862944d2e334f279599d6b82e6ec076": {
      "model_module": "@jupyter-widgets/base",
      "model_module_version": "1.2.0",
      "model_name": "LayoutModel",
      "state": {}
     },
     "78f6fe34c99b48b49b1f6d903991babc": {
      "buffers": [
       {
        "data": "eNpLWKfOAAAD3AE2",
        "encoding": "base64",
        "path": [
         "color_map",
         "compressed_buffer"
        ]
       },
       {
        "data": "eNpjYFBwZMAABxwwxRqwidkDAFK8AuE=",
        "encoding": "base64",
        "path": [
         "model_matrix",
         "compressed_buffer"
        ]
       },
       {
        "data": "eNrllUEOACEMAjv//7R7XQGj0Vs5TqItWLXqXnxSMlFQ6Jhba2u8l9TQ/vgpMlDo2O5+KauDXNIRLb2ZnkHhDdvPJWYg3mo1aj7m5I3HOsigXAT+fnTz222eG75XTf6jAc5KA/E=",
        "encoding": "base64",
        "path": [
         "voxels",
         "compressed_buffer"
        ]
       }
      ],
      "model_module": "k3d",
      "model_module_version": "2.6.9",
      "model_name": "ObjectModel",
      "state": {
       "_view_count": null,
       "_view_module": null,
       "_view_module_version": "",
       "_view_name": null,
       "color_map": {
        "dtype": "uint32",
        "shape": []
       },
       "compression_level": 0,
       "id": 4457192400,
       "model_matrix": {
        "dtype": "float32",
        "shape": [
         4,
         4
        ]
       },
       "name": null,
       "opacity": 1,
       "outlines": false,
       "outlines_color": 0,
       "type": "Voxels",
       "visible": true,
       "voxels": {
        "dtype": "uint8",
        "shape": [
         8,
         12,
         20
        ]
       },
       "wireframe": false
      }
     },
     "793046f51f0244e6bbfff57e6c860d2a": {
      "buffers": [
       {
        "data": "eNpVzrFLAnEcBXADZ2ktQY/iCANR8ZasocHOG4ULXASV20Shm+RoOCHF5LC/QCW3RhdbWwWn2nKKMA78F0RI3u/ewW/4LI/3fXxtxYjYB41YCe6PihLmdtDzzAI867fg5nVoxw2oRO8kzNnjHXde7LTQzMKoroFXvoGupoN1XJIwZ4933Al3+6rwFOheCE5KaGWAfxHzsMc77gS7w3FCmCZhMBN6b2fwuMiB+dmRMGePd9zhrju/BOddg4ePItRWFlx/T+Bk40uYs8c77nDXWlaBf12tXyH++wXn/k7CnD3ecUf5WcLp3xZUfy9hzt4/1oTPOQ==",
        "encoding": "base64",
        "path": [
         "colors",
         "compressed_buffer"
        ]
       },
       {
        "data": "eNpjYGiwZ8AAxIsBAF7EAv0=",
        "encoding": "base64",
        "path": [
         "model_matrix",
         "compressed_buffer"
        ]
       },
       {
        "data": "eNpNk09IVHEQxy/JemlpKYJgqQVJimLVCiLxzXct2EIjCQoq7GASlrAIUmGCRAgFRdEindbFbA0vHYI6FPZmHktJoRIVuBczyv6c8lCUaRDNnJrTm8N3Zj7v9/1OJbcYLq/clfqaKVlqGQ3PP85KV/8L6Wr7+vTXuZt8+OGk1U1r13eS1aoJru/fA9NUcotBrKoI650Z38mdSESpK0My8KWWl1c+Ss2GvNzJr2EqlmT62w2p7X4dlp8ckOG6a/L5x8ZwYH6IP229anUQ23eMrFZNQNndMI32UvnUMKxXZ1Ks6h1spu6iYhTP2K5HvVkeTzVE6b4dcubVXj5yIhGtflYnU9ubuLF9QUZnt0lqMM0f2sdk4s1m+Z2Ms1RapdyXlO+xi+Hf1AgPHkpYHaziZrJaNdS8ZRdMo720qVSA9epMmizNwWbqLrp/L56xXcpAx9+nM8YwM31Q/6khko4c5/+0cqk7Eb09epb7T7foOyyIviPPP8jyyNKY6D/zz+eNfOlWm+hu1vcMLxQmeN3LaqsD/ZLVqqHLPfUwjfZSR3UB1qsz9X3mYDN1F528Hc/YLmWg5Gw6YwyOhxwPOR5yPOR4yPGQ4yHHQ46HHA85HnI85PyC8wvOLzi/4PyC8wvOLzi/4PyC8wvOLzi/4HILl1u43MLlFi63cLmFyy1cbuFyC5dbVP7fHdzdwd0d3N3B3R3c3eEfvcjK8g==",
        "encoding": "base64",
        "path": [
         "origins",
         "compressed_buffer"
        ]
       },
       {
        "data": "eNpNkz0vRFEQhqlEIwqNROIrUQilct6SRCOi8AcIEbuFkmyllIhtN7JUdEKoxJlCYgu7G+WqqPgBKxtEY+bmTPIWkzM3dz6ec96ZTqmMRYVUPi/0e3kSZ0Pr0px70K2VLXHb33x2P4VvMRoxnVJZI7d9eYvazbj01ZfUvoua/v+8egLPtVNndlYxenokE4dX+vFVF7e364b7KXyL0YjxnMj1HlHTemn0uttrYHdtWKYqr2n75RHTs/NSe+9X4yvu4rxWq+jrtX/GjtE7SGKndgd+xa33dO9+Ct//RYxzRK7fOWpaL41exqDB0G61MNgdEbNU/WtiY3VBzJK9HfKbJrsn8v2T9UPmSHY3ZNNshZ/5ipj8XkVu1qaoab00ehmDBgPxCPEI8QjxCPEI8YB4QDxCPEI8QjxCPEJ6CekF0gukF0gvkF4gvUB6gfQC6QXSC6SX0NyC5hY0t6C5Bc0taG5BcwuaW9Dcgua2eMe8O6C9A+0daO9AewfaO/wDaMzjfA==",
        "encoding": "base64",
        "path": [
         "vectors",
         "compressed_buffer"
        ]
       }
      ],
      "model_module": "k3d",
      "model_module_version": "2.6.9",
      "model_name": "ObjectModel",
      "state": {
       "_view_count": null,
       "_view_module": null,
       "_view_module_version": "",
       "_view_name": null,
       "colors": {
        "dtype": "uint32",
        "shape": [
         80,
         2
        ]
       },
       "compression_level": 0,
       "head_color": 255,
       "head_size": 1,
       "id": 4458048016,
       "label_size": 1,
       "labels": [],
       "line_width": 0.01,
       "model_matrix": {
        "dtype": "float32",
        "shape": [
         4,
         4
        ]
       },
       "name": null,
       "origin_color": 255,
       "origins": {
        "dtype": "float32",
        "shape": [
         80,
         3
        ]
       },
       "type": "Vectors",
       "use_head": true,
       "vectors": {
        "dtype": "float32",
        "shape": [
         80,
         3
        ]
       },
       "visible": true
      }
     },
     "7956bb7d864c4b169303a3f9de31d62f": {
      "model_module": "@jupyter-widgets/base",
      "model_module_version": "1.2.0",
      "model_name": "LayoutModel",
      "state": {}
     },
     "7a39f45d2b4544bbafa9646ca8617029": {
      "buffers": [
       {
        "data": "eNoLvljOEAzEhfucwLh9oTwY9zWog3FvogkYd7g5gLHkoxtgrHz/EBhb35wLxgmnEsC4ZYUSGPdVaoJxd6A1GDeYuIFxibIHGGdJQLDCs29gLPv0IxhLPnkOxjIPL4Cxzc3ZYFy91RCM+3L0wbjR1BWM82Q8wDhZwB2MY7ncwDiKHYJVn/9FwcrPf4MxzF7JJ0/BOBgaDjB/pgi6gzHMnHAWVzAOY3IB4xBGCKa1+bQOH2rHZzCJ6QkAgWfRNQ==",
        "encoding": "base64",
        "path": [
         "colors",
         "compressed_buffer"
        ]
       },
       {
        "data": "eNpjYGiwZ8AAxIsBAF7EAv0=",
        "encoding": "base64",
        "path": [
         "model_matrix",
         "compressed_buffer"
        ]
       },
       {
        "data": "eNpNk09IVHEQxy/JemlpKYJgqQVJimLVCiLxzXct2EIjCQoq7GASlrAIUmGCRAgFRdEindbFbA0vHYI6FPZmHktJoRIVuBczyv6c8lCUaRDNnJrTm8N3Zj7v9/1OJbcYLq/clfqaKVlqGQ3PP85KV/8L6Wr7+vTXuZt8+OGk1U1r13eS1aoJru/fA9NUcotBrKoI650Z38mdSESpK0My8KWWl1c+Ss2GvNzJr2EqlmT62w2p7X4dlp8ckOG6a/L5x8ZwYH6IP229anUQ23eMrFZNQNndMI32UvnUMKxXZ1Ks6h1spu6iYhTP2K5HvVkeTzVE6b4dcubVXj5yIhGtflYnU9ubuLF9QUZnt0lqMM0f2sdk4s1m+Z2Ms1RapdyXlO+xi+Hf1AgPHkpYHaziZrJaNdS8ZRdMo720qVSA9epMmizNwWbqLrp/L56xXcpAx9+nM8YwM31Q/6khko4c5/+0cqk7Eb09epb7T7foOyyIviPPP8jyyNKY6D/zz+eNfOlWm+hu1vcMLxQmeN3LaqsD/ZLVqqHLPfUwjfZSR3UB1qsz9X3mYDN1F528Hc/YLmWg5Gw6YwyOhxwPOR5yPOR4yPGQ4yHHQ46HHA85HnI85PyC8wvOLzi/4PyC8wvOLzi/4PyC8wvOLzi/4HILl1u43MLlFi63cLmFyy1cbuFyC5dbVP7fHdzdwd0d3N3B3R3c3eEfvcjK8g==",
        "encoding": "base64",
        "path": [
         "origins",
         "compressed_buffer"
        ]
       },
       {
        "data": "eNpNkz0vRFEQhqlEIwqNROIrUQilct6SRCOi8AcIEbuFkmyllIhtN7JUdEKoxJlCYgu7G+WqqPgBKxtEY+bmTPIWkzM3dz6ec96ZTqmMRYVUPi/0e3kSZ0Pr0px70K2VLXHb33x2P4VvMRoxnVJZI7d9eYvazbj01ZfUvoua/v+8egLPtVNndlYxenokE4dX+vFVF7e364b7KXyL0YjxnMj1HlHTemn0uttrYHdtWKYqr2n75RHTs/NSe+9X4yvu4rxWq+jrtX/GjtE7SGKndgd+xa33dO9+Ct//RYxzRK7fOWpaL41exqDB0G61MNgdEbNU/WtiY3VBzJK9HfKbJrsn8v2T9UPmSHY3ZNNshZ/5ipj8XkVu1qaoab00ehmDBgPxCPEI8QjxCPEI8YB4QDxCPEI8QjxCPEJ6CekF0gukF0gvkF4gvUB6gfQC6QXSC6SX0NyC5hY0t6C5Bc0taG5BcwuaW9Dcgua2eMe8O6C9A+0daO9AewfaO/wDaMzjfA==",
        "encoding": "base64",
        "path": [
         "vectors",
         "compressed_buffer"
        ]
       }
      ],
      "model_module": "k3d",
      "model_module_version": "2.6.9",
      "model_name": "ObjectModel",
      "state": {
       "_view_count": null,
       "_view_module": null,
       "_view_module_version": "",
       "_view_name": null,
       "colors": {
        "dtype": "uint32",
        "shape": [
         80,
         2
        ]
       },
       "compression_level": 0,
       "head_color": 255,
       "head_size": 1,
       "id": 4667264416,
       "label_size": 1,
       "labels": [],
       "line_width": 0.01,
       "model_matrix": {
        "dtype": "float32",
        "shape": [
         4,
         4
        ]
       },
       "name": null,
       "origin_color": 255,
       "origins": {
        "dtype": "float32",
        "shape": [
         80,
         3
        ]
       },
       "type": "Vectors",
       "use_head": true,
       "vectors": {
        "dtype": "float32",
        "shape": [
         80,
         3
        ]
       },
       "visible": true
      }
     },
     "7a4758d7139e4004a6513769fc98d169": {
      "model_module": "k3d",
      "model_module_version": "2.6.9",
      "model_name": "PlotModel",
      "state": {
       "_backend_version": "2.6.9",
       "_dom_classes": [],
       "_view_count": null,
       "antialias": 3,
       "axes": [
        "x",
        "y",
        "z"
       ],
       "background_color": 16777215,
       "camera": [
        5.676886823516348,
        -8.515330235274524,
        0.5676886823516407,
        0,
        0,
        0,
        0,
        0,
        1
       ],
       "camera_auto_fit": true,
       "camera_no_pan": false,
       "camera_no_rotate": false,
       "camera_no_zoom": false,
       "clipping_planes": [],
       "colorbar_object_id": -1,
       "fps_meter": false,
       "grid": [
        -1,
        -1,
        -1,
        1,
        1,
        1
       ],
       "grid_auto_fit": true,
       "grid_visible": true,
       "height": 512,
       "layout": "IPY_MODEL_9e5ea23b0ca9490bbbb9b0b955fdd16f",
       "lighting": 1,
       "menu_visibility": true,
       "object_ids": [
        4556394832,
        4422490000
       ],
       "rendering_steps": 1,
       "screenshot": "",
       "screenshot_scale": 2,
       "time": 0,
       "voxel_paint_color": 0
      }
     },
     "7ac5d3614ad04e458cc39f1c57ffdbb3": {
      "model_module": "@jupyter-widgets/output",
      "model_module_version": "1.0.0",
      "model_name": "OutputModel",
      "state": {
       "layout": "IPY_MODEL_1d150efdfb6f49d58a953ba525476d6d",
       "outputs": [
        {
         "data": {
          "application/vnd.jupyter.widget-view+json": {
           "model_id": "664bd0e0ab22496a879d68c14cf13cf4",
           "version_major": 2,
           "version_minor": 0
          },
          "text/plain": "Plot(antialias=3, axes=['x', 'y', 'z'], background_color=16777215, camera=[4.5, 4.5, 4.5, 0.0, 0.0, 0.0, 1.0, …"
         },
         "metadata": {},
         "output_type": "display_data"
        }
       ]
      }
     },
     "7afbf09e818444048f84cc853b022307": {
      "model_module": "k3d",
      "model_module_version": "2.6.9",
      "model_name": "PlotModel",
      "state": {
       "_backend_version": "2.6.9",
       "_dom_classes": [],
       "_view_count": null,
       "antialias": 3,
       "axes": [
        "x",
        "y",
        "z"
       ],
       "background_color": 16777215,
       "camera": [
        9.80367128973346,
        -14.70550693460019,
        0.9803671289733545,
        0,
        0,
        0,
        0,
        0,
        1
       ],
       "camera_auto_fit": true,
       "camera_no_pan": false,
       "camera_no_rotate": false,
       "camera_no_zoom": false,
       "clipping_planes": [],
       "colorbar_object_id": -1,
       "fps_meter": false,
       "grid": [
        -1,
        -1,
        -1,
        1,
        1,
        1
       ],
       "grid_auto_fit": true,
       "grid_visible": true,
       "height": 512,
       "layout": "IPY_MODEL_e70c37b199a745c0acfd682e68d50218",
       "lighting": 1,
       "menu_visibility": true,
       "object_ids": [
        4555191248
       ],
       "rendering_steps": 1,
       "screenshot": "",
       "screenshot_scale": 2,
       "time": 0,
       "voxel_paint_color": 0
      }
     },
     "7b4b9f6cfdd14ec9b42bc0e27d01b5bf": {
      "buffers": [
       {
        "data": "eNot0vlP1gUcwPF3rVar1Wq14vR5Hh4eBOSSQy45fZ7v96spoRIiIqJAHCKH3Pf9cD7fLLMss8yyzLLM0sy01KJIo1BDEQUEfWBrba2ttbbW1sfVD6//4JV2l5X0u62su8fG+nttZN6nkHW/wsYHFLIfVMh5SGXzwyq5j6jkPaqS/5hKweMahU9oFD2pUeyiUeKmsc1do9RDo8xTo9ygUWHUqDRpVJk1qr01aiwatT4adb4a9X4aDf4qDQEqjYEqTUEqzcEqLSEKLaEKrWEKbeEK7RE22iNtdETZ6Iy20hljpStWxC2jO14kJGNPFEnJ9CQn0WNNoteWSK8i1AT6NLE8nr4V8fSvFKvi6E8RTy9lIFWsjmVgjVgbw2CaeCaawXSREcXgepEZiWODyFqCY6PIjsCxSeSE49gstoThyA1DzwtFzxfPLkYvEIWiKAS9WGwNRi8R24LQS0WZKA9Er7gjAH27qBRVi9CrRY0/eq2oE/V+6A2iUTT5ojeLloXoraJNtPugd/yv04LeJbqF3Ru9R/Sa0fvMOPrFgBeOQeEQugnHc2KHicHnxQvG/+wULxoY2CVeEi+L3Qb6XxGvij0L6HtN7BWvG+h9Q+wTbxrouWO/AftbRuxvG+k+YKL7HfGuF10Hveh8z0znIW863rfQ8YGF9sM+YiFtH/rS+pEfrUf8afk4gOajgTR9EkTTp8E0HltMw/FQ6o+HU/9ZBHUnIqn9PIqakzFUfxFL1ak4Kk8lsP10IhVfJlP+lZWyMwqlZ+Xj2RWUnFvJ1q9TKP4mlaKhNRQOpVHwbTr532WQN5xJ7nAWW77PJud8Dpsu5JJ9IZ+sHwrYMFJE5kgJGT+Wsu6nctJHK0kbrWbtxVpWX2wg9VITKZdbWXW5nad+7mL5mB1trA/lygC2KzrLru4g6epOEsd3ET++m6XX9hB7bS/RE/uInNjPkusHCL9+kNAbhwi5cZjgySMETh5l0dQx/KZO4Dt1Ep/p01imz2CePofp5hDGm8MYZs7jOTOCx8wo7rOXcJsdw3V2HNdbE7jcmhTTuNyexfW2U8zj5vwFd+eveDh/w9P5Owvm/sA49yemub8wz/+NZf4f/gXLh0p6",
        "encoding": "base64",
        "path": [
         "color_map",
         "compressed_buffer"
        ]
       },
       {
        "data": "eNpjYFBwZMAABxwwxRjsMYUa7AFHpwJg",
        "encoding": "base64",
        "path": [
         "model_matrix",
         "compressed_buffer"
        ]
       },
       {
        "data": "eNpjYACBN19+////+8sbBji4eOvp+5///v18//TWRYjItr1Hz916/vXfv6/Pb507uncbUGjJinVb95269eb37ze3Tu3bum7FEoYp02bOXbRi08EbX77cOLhpxaK5M6dNae/o6OrpmzRz+alTy2dO6uvp6uhor6yoKCspykuPNDOLTM8rKimrqKjMyUpPjovws9fg4dGw94uIS07PymGIiQjydjJTE2FlFVEzc/IOiogBWuzlbG2kJsnNxMQtqWZk7ewFcaG+mrQgOxMTu6C0mj7CJyI8rIyMrDwiEB4A19heAQ==",
        "encoding": "base64",
        "path": [
         "voxels",
         "compressed_buffer"
        ]
       }
      ],
      "model_module": "k3d",
      "model_module_version": "2.6.9",
      "model_name": "ObjectModel",
      "state": {
       "_view_count": null,
       "_view_module": null,
       "_view_module_version": "",
       "_view_name": null,
       "color_map": {
        "dtype": "uint32",
        "shape": [
         256
        ]
       },
       "compression_level": 0,
       "id": 4368107152,
       "model_matrix": {
        "dtype": "float32",
        "shape": [
         4,
         4
        ]
       },
       "name": null,
       "opacity": 1,
       "outlines": false,
       "outlines_color": 0,
       "type": "Voxels",
       "visible": true,
       "voxels": {
        "dtype": "uint8",
        "shape": [
         1,
         12,
         20
        ]
       },
       "wireframe": false
      }
     },
     "7b57cfd9f2f240978b9d982ed7585d50": {
      "model_module": "@jupyter-widgets/base",
      "model_module_version": "1.2.0",
      "model_name": "LayoutModel",
      "state": {}
     },
     "7b91a3ac8e194b77a19366ee53bc6de9": {
      "model_module": "@jupyter-widgets/base",
      "model_module_version": "1.2.0",
      "model_name": "LayoutModel",
      "state": {}
     },
     "7ba1d9a62ae04df0b18f57732f069b8c": {
      "buffers": [
       {
        "data": "eNoDAAAAAAE=",
        "encoding": "base64",
        "path": [
         "colors",
         "compressed_buffer"
        ]
       },
       {
        "data": "eNpjYGiwZ8AAxIsBAF7EAv0=",
        "encoding": "base64",
        "path": [
         "model_matrix",
         "compressed_buffer"
        ]
       },
       {
        "data": "eNpNk09IVHEQxy/JemlpKYJgqQVJimLVCiLxzXct2EIjCQoq7GASlrAIUmGCRAgFRdEindbFbA0vHYI6FPZmHktJoRIVuBczyv6c8lCUaRDNnJrTm8N3Zj7v9/1OJbcYLq/clfqaKVlqGQ3PP85KV/8L6Wr7+vTXuZt8+OGk1U1r13eS1aoJru/fA9NUcotBrKoI650Z38mdSESpK0My8KWWl1c+Ss2GvNzJr2EqlmT62w2p7X4dlp8ckOG6a/L5x8ZwYH6IP229anUQ23eMrFZNQNndMI32UvnUMKxXZ1Ks6h1spu6iYhTP2K5HvVkeTzVE6b4dcubVXj5yIhGtflYnU9ubuLF9QUZnt0lqMM0f2sdk4s1m+Z2Ms1RapdyXlO+xi+Hf1AgPHkpYHaziZrJaNdS8ZRdMo720qVSA9epMmizNwWbqLrp/L56xXcpAx9+nM8YwM31Q/6khko4c5/+0cqk7Eb09epb7T7foOyyIviPPP8jyyNKY6D/zz+eNfOlWm+hu1vcMLxQmeN3LaqsD/ZLVqqHLPfUwjfZSR3UB1qsz9X3mYDN1F528Hc/YLmWg5Gw6YwyOhxwPOR5yPOR4yPGQ4yHHQ46HHA85HnI85PyC8wvOLzi/4PyC8wvOLzi/4PyC8wvOLzi/4HILl1u43MLlFi63cLmFyy1cbuFyC5dbVP7fHdzdwd0d3N3B3R3c3eEfvcjK8g==",
        "encoding": "base64",
        "path": [
         "origins",
         "compressed_buffer"
        ]
       },
       {
        "data": "eNpNkz0vRFEQhqlEIwqNROIrUQilct6SRCOi8AcIEbuFkmyllIhtN7JUdEKoxJlCYgu7G+WqqPgBKxtEY+bmTPIWkzM3dz6ec96ZTqmMRYVUPi/0e3kSZ0Pr0px70K2VLXHb33x2P4VvMRoxnVJZI7d9eYvazbj01ZfUvoua/v+8egLPtVNndlYxenokE4dX+vFVF7e364b7KXyL0YjxnMj1HlHTemn0uttrYHdtWKYqr2n75RHTs/NSe+9X4yvu4rxWq+jrtX/GjtE7SGKndgd+xa33dO9+Ct//RYxzRK7fOWpaL41exqDB0G61MNgdEbNU/WtiY3VBzJK9HfKbJrsn8v2T9UPmSHY3ZNNshZ/5ipj8XkVu1qaoab00ehmDBgPxCPEI8QjxCPEI8YB4QDxCPEI8QjxCPEJ6CekF0gukF0gvkF4gvUB6gfQC6QXSC6SX0NyC5hY0t6C5Bc0taG5BcwuaW9Dcgua2eMe8O6C9A+0daO9AewfaO/wDaMzjfA==",
        "encoding": "base64",
        "path": [
         "vectors",
         "compressed_buffer"
        ]
       }
      ],
      "model_module": "k3d",
      "model_module_version": "2.6.9",
      "model_name": "ObjectModel",
      "state": {
       "_view_count": null,
       "_view_module": null,
       "_view_module_version": "",
       "_view_name": null,
       "colors": {
        "dtype": "uint32",
        "shape": [
         0
        ]
       },
       "compression_level": 0,
       "head_color": 255,
       "head_size": 1,
       "id": 4634788528,
       "label_size": 1,
       "labels": [],
       "line_width": 0.01,
       "model_matrix": {
        "dtype": "float32",
        "shape": [
         4,
         4
        ]
       },
       "name": null,
       "origin_color": 255,
       "origins": {
        "dtype": "float32",
        "shape": [
         80,
         3
        ]
       },
       "type": "Vectors",
       "use_head": true,
       "vectors": {
        "dtype": "float32",
        "shape": [
         80,
         3
        ]
       },
       "visible": true
      }
     },
     "7bf7f7157d024441bd535bd271fe32f2": {
      "model_module": "k3d",
      "model_module_version": "2.6.9",
      "model_name": "PlotModel",
      "state": {
       "_backend_version": "2.6.9",
       "_dom_classes": [],
       "_view_count": null,
       "antialias": 3,
       "axes": [
        "x",
        "y",
        "z"
       ],
       "background_color": 16777215,
       "camera": [
        10.284874878907916,
        -15.489812315567907,
        1.0059874815950598,
        -0.02499999664723873,
        -0.02500000223517418,
        -0.025000005960464478,
        0,
        0,
        1
       ],
       "camera_auto_fit": true,
       "camera_no_pan": false,
       "camera_no_rotate": false,
       "camera_no_zoom": false,
       "clipping_planes": [],
       "colorbar_object_id": -1,
       "fps_meter": false,
       "grid": [
        -1,
        -1,
        -1,
        1,
        1,
        1
       ],
       "grid_auto_fit": true,
       "grid_visible": true,
       "height": 512,
       "layout": "IPY_MODEL_2e302fcd54dc4b51a77de01ed25b6859",
       "lighting": 1,
       "menu_visibility": true,
       "object_ids": [
        4511713936
       ],
       "rendering_steps": 1,
       "screenshot": "",
       "screenshot_scale": 2,
       "time": 0,
       "voxel_paint_color": 0
      }
     },
     "7ccff46c3f5b45ffa0b224a231e551fc": {
      "model_module": "@jupyter-widgets/output",
      "model_module_version": "1.0.0",
      "model_name": "OutputModel",
      "state": {
       "layout": "IPY_MODEL_ab94d69dd3874a81bdf44ce98d298272",
       "outputs": [
        {
         "data": {
          "application/vnd.jupyter.widget-view+json": {
           "model_id": "d8ecfd4dd97b40a5a0aec9c813c69553",
           "version_major": 2,
           "version_minor": 0
          },
          "text/plain": "Plot(antialias=3, axes=['x', 'y', 'z'], background_color=16777215, camera=[4.5, 4.5, 4.5, 0.0, 0.0, 0.0, 1.0, …"
         },
         "metadata": {},
         "output_type": "display_data"
        }
       ]
      }
     },
     "7cee48bdf1ce47dd84948143b5329049": {
      "model_module": "@jupyter-widgets/base",
      "model_module_version": "1.2.0",
      "model_name": "LayoutModel",
      "state": {}
     },
     "7cff90f6784746c3bc47468c26880f25": {
      "model_module": "@jupyter-widgets/base",
      "model_module_version": "1.2.0",
      "model_name": "LayoutModel",
      "state": {}
     },
     "7d4a221651214b7384f430557186c48e": {
      "model_module": "k3d",
      "model_module_version": "2.6.9",
      "model_name": "PlotModel",
      "state": {
       "_backend_version": "2.6.9",
       "_dom_classes": [],
       "_view_count": null,
       "antialias": 3,
       "axes": [
        "x",
        "y",
        "z"
       ],
       "background_color": 16777215,
       "camera": [
        9.828951377057189,
        -14.743427065585788,
        0.9828951377057292,
        0,
        0,
        0,
        0,
        0,
        1
       ],
       "camera_auto_fit": true,
       "camera_no_pan": false,
       "camera_no_rotate": false,
       "camera_no_zoom": false,
       "clipping_planes": [],
       "colorbar_object_id": -1,
       "fps_meter": false,
       "grid": [
        -1,
        -1,
        -1,
        1,
        1,
        1
       ],
       "grid_auto_fit": true,
       "grid_visible": true,
       "height": 512,
       "layout": "IPY_MODEL_35da0f1dcac2451da33a43ad6a3da137",
       "lighting": 1,
       "menu_visibility": true,
       "object_ids": [
        4654132624,
        4654231056
       ],
       "rendering_steps": 1,
       "screenshot": "",
       "screenshot_scale": 2,
       "time": 0,
       "voxel_paint_color": 0
      }
     },
     "7ebae17da7184c6f9fbee7c1f0a2b6b7": {
      "model_module": "@jupyter-widgets/base",
      "model_module_version": "1.2.0",
      "model_name": "LayoutModel",
      "state": {}
     },
     "7f688c010bed45dfbd801d2f516d88a5": {
      "model_module": "k3d",
      "model_module_version": "2.6.9",
      "model_name": "PlotModel",
      "state": {
       "_backend_version": "2.6.9",
       "_dom_classes": [],
       "_view_count": null,
       "antialias": 3,
       "axes": [
        "x",
        "y",
        "z"
       ],
       "background_color": 16777215,
       "camera": [
        5.171029038154166,
        -7.835172514502823,
        0.5223448343002021,
        -0.052419304847717285,
        0,
        0,
        0,
        0,
        1
       ],
       "camera_auto_fit": true,
       "camera_no_pan": false,
       "camera_no_rotate": false,
       "camera_no_zoom": false,
       "clipping_planes": [],
       "colorbar_object_id": -1,
       "fps_meter": false,
       "grid": [
        -1,
        -1,
        -1,
        1,
        1,
        1
       ],
       "grid_auto_fit": true,
       "grid_visible": true,
       "height": 512,
       "layout": "IPY_MODEL_e26e13cc9fd545d9966debd33be3dc8e",
       "lighting": 1,
       "menu_visibility": true,
       "object_ids": [
        4596621392,
        4596494288,
        4458048016,
        4596602576,
        4458045904,
        4596465040
       ],
       "rendering_steps": 1,
       "screenshot": "",
       "screenshot_scale": 2,
       "time": 0,
       "voxel_paint_color": 0
      }
     },
     "7f91412880e0462ca3661732a36f34e0": {
      "buffers": [
       {
        "data": "eNoDAAAAAAE=",
        "encoding": "base64",
        "path": [
         "colors",
         "compressed_buffer"
        ]
       },
       {
        "data": "eNpjYGiwZ8AAxIsBAF7EAv0=",
        "encoding": "base64",
        "path": [
         "model_matrix",
         "compressed_buffer"
        ]
       },
       {
        "data": "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",
        "encoding": "base64",
        "path": [
         "origins",
         "compressed_buffer"
        ]
       },
       {
        "data": "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",
        "encoding": "base64",
        "path": [
         "vectors",
         "compressed_buffer"
        ]
       }
      ],
      "model_module": "k3d",
      "model_module_version": "2.6.9",
      "model_name": "ObjectModel",
      "state": {
       "_view_count": null,
       "_view_module": null,
       "_view_module_version": "",
       "_view_name": null,
       "colors": {
        "dtype": "uint32",
        "shape": [
         0
        ]
       },
       "compression_level": 0,
       "head_color": 255,
       "head_size": 1,
       "id": 4634984856,
       "label_size": 1,
       "labels": [],
       "line_width": 0.01,
       "model_matrix": {
        "dtype": "float32",
        "shape": [
         4,
         4
        ]
       },
       "name": null,
       "origin_color": 255,
       "origins": {
        "dtype": "float32",
        "shape": [
         1008,
         3
        ]
       },
       "type": "Vectors",
       "use_head": true,
       "vectors": {
        "dtype": "float32",
        "shape": [
         1008,
         3
        ]
       },
       "visible": true
      }
     },
     "7fbdfcfcd14642f99ade196f8ad3cb20": {
      "model_module": "@jupyter-widgets/base",
      "model_module_version": "1.2.0",
      "model_name": "LayoutModel",
      "state": {}
     },
     "7fe1c9a5577040dba7dacaab1f928f9b": {
      "model_module": "@jupyter-widgets/base",
      "model_module_version": "1.2.0",
      "model_name": "LayoutModel",
      "state": {}
     },
     "7feab77294264f41907f70a0245b9b2f": {
      "model_module": "@jupyter-widgets/base",
      "model_module_version": "1.2.0",
      "model_name": "LayoutModel",
      "state": {}
     },
     "80580a64a55c4bc5aa73ca61daef0d5f": {
      "buffers": [
       {
        "data": "eNoDAAAAAAE=",
        "encoding": "base64",
        "path": [
         "colors",
         "compressed_buffer"
        ]
       },
       {
        "data": "eNpjYGiwZ8AAxIsBAF7EAv0=",
        "encoding": "base64",
        "path": [
         "model_matrix",
         "compressed_buffer"
        ]
       },
       {
        "data": "eNpNjtsNACAMAjsZdDRHcRLraMZHLR/GSwoXzNo087hvcxvCKHYW97i57Caff1T3Z1jclePl0gPxQDwQD8Qj3XPL/ZT9lP1cLk49RQ==",
        "encoding": "base64",
        "path": [
         "positions",
         "compressed_buffer"
        ]
       }
      ],
      "model_module": "k3d",
      "model_module_version": "2.6.9",
      "model_name": "ObjectModel",
      "state": {
       "_view_count": null,
       "_view_module": null,
       "_view_module_version": "",
       "_view_name": null,
       "color": 10075135,
       "colors": {
        "dtype": "uint32",
        "shape": [
         0
        ]
       },
       "compression_level": 0,
       "id": 4717664400,
       "mesh_detail": 2,
       "model_matrix": {
        "dtype": "float32",
        "shape": [
         4,
         4
        ]
       },
       "name": null,
       "opacity": 1,
       "point_size": 0.1,
       "positions": {
        "dtype": "float32",
        "shape": [
         20,
         3
        ]
       },
       "shader": "3dSpecular",
       "type": "Points",
       "visible": true
      }
     },
     "808cec6bff0948db879cb87ae222aac3": {
      "buffers": [
       {
        "data": "eNoLvljOEAzEhfucwLh9oTwY9zWog3FvogkYd7g5gLHkoxtgrHz/EBhb35wLxgmnEsC4ZYUSGPdVaoJxd6A1GDeYuIFxibIHGGdJQLDCs29gLPv0IxhLPnkOxjIPL4Cxzc3ZYFy91RCM+3L0wbjR1BWM82Q8wDhZwB2MY7ncwDiKHYJVn/9FwcrPf4MxzF7JJ0/BOBgaDjB/pgi6gzHMnHAWVzAOY3IB4xBGCKa1+bQOH2rHZzCJ6QkAgWfRNQ==",
        "encoding": "base64",
        "path": [
         "colors",
         "compressed_buffer"
        ]
       },
       {
        "data": "eNpjYGiwZ8AAxIsBAF7EAv0=",
        "encoding": "base64",
        "path": [
         "model_matrix",
         "compressed_buffer"
        ]
       },
       {
        "data": "eNpNk09IVHEQxy/JemlpKYJgqQVJimLVCiLxzXct2EIjCQoq7GASlrAIUmGCRAgFRdEindbFbA0vHYI6FPZmHktJoRIVuBczyv6c8lCUaRDNnJrTm8N3Zj7v9/1OJbcYLq/clfqaKVlqGQ3PP85KV/8L6Wr7+vTXuZt8+OGk1U1r13eS1aoJru/fA9NUcotBrKoI650Z38mdSESpK0My8KWWl1c+Ss2GvNzJr2EqlmT62w2p7X4dlp8ckOG6a/L5x8ZwYH6IP229anUQ23eMrFZNQNndMI32UvnUMKxXZ1Ks6h1spu6iYhTP2K5HvVkeTzVE6b4dcubVXj5yIhGtflYnU9ubuLF9QUZnt0lqMM0f2sdk4s1m+Z2Ms1RapdyXlO+xi+Hf1AgPHkpYHaziZrJaNdS8ZRdMo720qVSA9epMmizNwWbqLrp/L56xXcpAx9+nM8YwM31Q/6khko4c5/+0cqk7Eb09epb7T7foOyyIviPPP8jyyNKY6D/zz+eNfOlWm+hu1vcMLxQmeN3LaqsD/ZLVqqHLPfUwjfZSR3UB1qsz9X3mYDN1F528Hc/YLmWg5Gw6YwyOhxwPOR5yPOR4yPGQ4yHHQ46HHA85HnI85PyC8wvOLzi/4PyC8wvOLzi/4PyC8wvOLzi/4HILl1u43MLlFi63cLmFyy1cbuFyC5dbVP7fHdzdwd0d3N3B3R3c3eEfvcjK8g==",
        "encoding": "base64",
        "path": [
         "origins",
         "compressed_buffer"
        ]
       },
       {
        "data": "eNpNkz0vRFEQhqlEIwqNROIrUQilct6SRCOi8AcIEbuFkmyllIhtN7JUdEKoxJlCYgu7G+WqqPgBKxtEY+bmTPIWkzM3dz6ec96ZTqmMRYVUPi/0e3kSZ0Pr0px70K2VLXHb33x2P4VvMRoxnVJZI7d9eYvazbj01ZfUvoua/v+8egLPtVNndlYxenokE4dX+vFVF7e364b7KXyL0YjxnMj1HlHTemn0uttrYHdtWKYqr2n75RHTs/NSe+9X4yvu4rxWq+jrtX/GjtE7SGKndgd+xa33dO9+Ct//RYxzRK7fOWpaL41exqDB0G61MNgdEbNU/WtiY3VBzJK9HfKbJrsn8v2T9UPmSHY3ZNNshZ/5ipj8XkVu1qaoab00ehmDBgPxCPEI8QjxCPEI8YB4QDxCPEI8QjxCPEJ6CekF0gukF0gvkF4gvUB6gfQC6QXSC6SX0NyC5hY0t6C5Bc0taG5BcwuaW9Dcgua2eMe8O6C9A+0daO9AewfaO/wDaMzjfA==",
        "encoding": "base64",
        "path": [
         "vectors",
         "compressed_buffer"
        ]
       }
      ],
      "model_module": "k3d",
      "model_module_version": "2.6.9",
      "model_name": "ObjectModel",
      "state": {
       "_view_count": null,
       "_view_module": null,
       "_view_module_version": "",
       "_view_name": null,
       "colors": {
        "dtype": "uint32",
        "shape": [
         80,
         2
        ]
       },
       "compression_level": 0,
       "head_color": 255,
       "head_size": 1,
       "id": 4458046800,
       "label_size": 1,
       "labels": [],
       "line_width": 0.01,
       "model_matrix": {
        "dtype": "float32",
        "shape": [
         4,
         4
        ]
       },
       "name": null,
       "origin_color": 255,
       "origins": {
        "dtype": "float32",
        "shape": [
         80,
         3
        ]
       },
       "type": "Vectors",
       "use_head": true,
       "vectors": {
        "dtype": "float32",
        "shape": [
         80,
         3
        ]
       },
       "visible": true
      }
     },
     "80c64ef0e2864226b490d85880a7d0b0": {
      "model_module": "k3d",
      "model_module_version": "2.6.9",
      "model_name": "PlotModel",
      "state": {
       "_backend_version": "2.6.9",
       "_dom_classes": [],
       "_view_count": null,
       "antialias": 3,
       "axes": [
        "x",
        "y",
        "z"
       ],
       "background_color": 16777215,
       "camera": [
        10.284874878907916,
        -15.489812315567907,
        1.0059874815950598,
        -0.02499999664723873,
        -0.02500000223517418,
        -0.025000005960464478,
        0,
        0,
        1
       ],
       "camera_auto_fit": true,
       "camera_no_pan": false,
       "camera_no_rotate": false,
       "camera_no_zoom": false,
       "clipping_planes": [],
       "colorbar_object_id": -1,
       "fps_meter": false,
       "grid": [
        -1,
        -1,
        -1,
        1,
        1,
        1
       ],
       "grid_auto_fit": true,
       "grid_visible": true,
       "height": 512,
       "layout": "IPY_MODEL_7cee48bdf1ce47dd84948143b5329049",
       "lighting": 1,
       "menu_visibility": true,
       "object_ids": [
        4572828112
       ],
       "rendering_steps": 1,
       "screenshot": "",
       "screenshot_scale": 2,
       "time": 0,
       "voxel_paint_color": 0
      }
     },
     "80c90a2b39c2423a8335d41386393775": {
      "buffers": [
       {
        "data": "eNpL5HNnSATiSFZXMA5hdEHBMPFEqLouHzsw7nBzAOM2RycwbrVHxTBxmDqYvr4aDQiu0oTgCi0ILofiMjQME4epg+mDmtO6VBGClyuBcfNKZQhepQLGTatVUTBMHKYOpg9mTtTZHDAOvlgOxr6XG8HY82obCoaJw9TB9Ek9fQXGis9+gLHq878oGCYOUwcAvo58CQ==",
        "encoding": "base64",
        "path": [
         "colors",
         "compressed_buffer"
        ]
       },
       {
        "data": "eNpjYGiwZ8AAxIsBAF7EAv0=",
        "encoding": "base64",
        "path": [
         "model_matrix",
         "compressed_buffer"
        ]
       },
       {
        "data": "eNpNkT1IglEUhhVCECmaKoiIkBDKIPgS4xPv+cxEkzKiaBEqLIlaAwtrCUlosqHJrRD6p3Bz8N5Tfm794iJUCFHiGLhF9HMnz/YO5z0PPG9c+DH6tCks23vC+DaK3uInn86lxPOZB83pDvfaWEr0zjA82DWDzL9dLry8T4C8SWrDGGq/AdntTAexfsEFlAbErDWAh5EN8bNuF982H65ijbcs9AtX0YOFyJxbve4TRZWhvdoMMjeVVaw+7IC8OX1x/v8vgOx+RB1oOjFo8ufd7TiawgbcZyu8Ug5itpYXlaFl7g8HcD4WE1MjUZ6d9OGx8s4nzhd5vuTBV2vCPahHuNfOcGupFWQOXanYVk+CvMllnPio6yC7PTYHHlmMmvypKAp+Zbo1ySJcRriMcBnhMsJlhMsIlxEuI1xGuIz4BOITiE8gPoH4BOITiE8gPiHe2B3I7kB2B7I7kN2B7A5/NdwSYA==",
        "encoding": "base64",
        "path": [
         "origins",
         "compressed_buffer"
        ]
       },
       {
        "data": "eNpNkaFLBGEQxZMgaxA5waDBcMUqnsLBPLWIYcF04IULXjjQP8CLwoFxq1gMBoPBJrZvvmpY/wXzFdmmYPFmFgZf+h7szPvNvlc2UxyMlnPZTHX9aAupv5onvZlefw3kuNPJV6+3rlNom9GY8Z3YfXt8xt7pUi4ma2rfWh+frf66uDvcyPbq/cNYzuvNvPu94zqF9m8x476xa54anh91jaezX71Y2U/z6qW9uRieJLsJfpvfaF5wT/e++byUn/ftbK/rFNp5MeP/E7vmqeFpLA0WcYW4QlwhrhBXiCvEFeIKcYW4QnmC8gTlCcoTlCcoT1CeoDxR/vcO6h3UO6h3UO+g3rEA8LILMA==",
        "encoding": "base64",
        "path": [
         "vectors",
         "compressed_buffer"
        ]
       }
      ],
      "model_module": "k3d",
      "model_module_version": "2.6.9",
      "model_name": "ObjectModel",
      "state": {
       "_view_count": null,
       "_view_module": null,
       "_view_module_version": "",
       "_view_name": null,
       "colors": {
        "dtype": "uint32",
        "shape": [
         48,
         2
        ]
       },
       "compression_level": 0,
       "head_color": 255,
       "head_size": 1,
       "id": 4717601488,
       "label_size": 1,
       "labels": [],
       "line_width": 0.01,
       "model_matrix": {
        "dtype": "float32",
        "shape": [
         4,
         4
        ]
       },
       "name": null,
       "origin_color": 255,
       "origins": {
        "dtype": "float32",
        "shape": [
         48,
         3
        ]
       },
       "type": "Vectors",
       "use_head": true,
       "vectors": {
        "dtype": "float32",
        "shape": [
         48,
         3
        ]
       },
       "visible": true
      }
     },
     "80cdf67456ff4bc193182089a7eebe6c": {
      "buffers": [
       {
        "data": "eNoDAAAAAAE=",
        "encoding": "base64",
        "path": [
         "colors",
         "compressed_buffer"
        ]
       },
       {
        "data": "eNpjYGiwZ8AAxIsBAF7EAv0=",
        "encoding": "base64",
        "path": [
         "model_matrix",
         "compressed_buffer"
        ]
       },
       {
        "data": "eNpNk09IVHEQxy/JemlpKYJgqQVJimLVCiLxzXct2EIjCQoq7GASlrAIUmGCRAgFRdEindbFbA0vHYI6FPZmHktJoRIVuBczyv6c8lCUaRDNnJrTm8N3Zj7v9/1OJbcYLq/clfqaKVlqGQ3PP85KV/8L6Wr7+vTXuZt8+OGk1U1r13eS1aoJru/fA9NUcotBrKoI650Z38mdSESpK0My8KWWl1c+Ss2GvNzJr2EqlmT62w2p7X4dlp8ckOG6a/L5x8ZwYH6IP229anUQ23eMrFZNQNndMI32UvnUMKxXZ1Ks6h1spu6iYhTP2K5HvVkeTzVE6b4dcubVXj5yIhGtflYnU9ubuLF9QUZnt0lqMM0f2sdk4s1m+Z2Ms1RapdyXlO+xi+Hf1AgPHkpYHaziZrJaNdS8ZRdMo720qVSA9epMmizNwWbqLrp/L56xXcpAx9+nM8YwM31Q/6khko4c5/+0cqk7Eb09epb7T7foOyyIviPPP8jyyNKY6D/zz+eNfOlWm+hu1vcMLxQmeN3LaqsD/ZLVqqHLPfUwjfZSR3UB1qsz9X3mYDN1F528Hc/YLmWg5Gw6YwyOhxwPOR5yPOR4yPGQ4yHHQ46HHA85HnI85PyC8wvOLzi/4PyC8wvOLzi/4PyC8wvOLzi/4HILl1u43MLlFi63cLmFyy1cbuFyC5dbVP7fHdzdwd0d3N3B3R3c3eEfvcjK8g==",
        "encoding": "base64",
        "path": [
         "origins",
         "compressed_buffer"
        ]
       },
       {
        "data": "eNpNkz0vRFEQhqlEIwqNROIrUQilct6SRCOi8AcIEbuFkmyllIhtN7JUdEKoxJlCYgu7G+WqqPgBKxtEY+bmTPIWkzM3dz6ec96ZTqmMRYVUPi/0e3kSZ0Pr0px70K2VLXHb33x2P4VvMRoxnVJZI7d9eYvazbj01ZfUvoua/v+8egLPtVNndlYxenokE4dX+vFVF7e364b7KXyL0YjxnMj1HlHTemn0uttrYHdtWKYqr2n75RHTs/NSe+9X4yvu4rxWq+jrtX/GjtE7SGKndgd+xa33dO9+Ct//RYxzRK7fOWpaL41exqDB0G61MNgdEbNU/WtiY3VBzJK9HfKbJrsn8v2T9UPmSHY3ZNNshZ/5ipj8XkVu1qaoab00ehmDBgPxCPEI8QjxCPEI8YB4QDxCPEI8QjxCPEJ6CekF0gukF0gvkF4gvUB6gfQC6QXSC6SX0NyC5hY0t6C5Bc0taG5BcwuaW9Dcgua2eMe8O6C9A+0daO9AewfaO/wDaMzjfA==",
        "encoding": "base64",
        "path": [
         "vectors",
         "compressed_buffer"
        ]
       }
      ],
      "model_module": "k3d",
      "model_module_version": "2.6.9",
      "model_name": "ObjectModel",
      "state": {
       "_view_count": null,
       "_view_module": null,
       "_view_module_version": "",
       "_view_name": null,
       "colors": {
        "dtype": "uint32",
        "shape": [
         0
        ]
       },
       "compression_level": 0,
       "head_color": 255,
       "head_size": 1,
       "id": 4506441296,
       "label_size": 1,
       "labels": [],
       "line_width": 0.01,
       "model_matrix": {
        "dtype": "float32",
        "shape": [
         4,
         4
        ]
       },
       "name": null,
       "origin_color": 255,
       "origins": {
        "dtype": "float32",
        "shape": [
         80,
         3
        ]
       },
       "type": "Vectors",
       "use_head": true,
       "vectors": {
        "dtype": "float32",
        "shape": [
         80,
         3
        ]
       },
       "visible": true
      }
     },
     "813fba1934eb4ccdbbabad89ea7fedd8": {
      "model_module": "k3d",
      "model_module_version": "2.6.9",
      "model_name": "PlotModel",
      "state": {
       "_backend_version": "2.6.9",
       "_dom_classes": [],
       "_view_count": null,
       "antialias": 3,
       "axes": [
        "x",
        "y",
        "z"
       ],
       "background_color": 16777215,
       "camera": [
        10.284874878907916,
        -15.489812315567907,
        1.0059874815950598,
        -0.02499999664723873,
        -0.02500000223517418,
        -0.025000005960464478,
        0,
        0,
        1
       ],
       "camera_auto_fit": true,
       "camera_no_pan": false,
       "camera_no_rotate": false,
       "camera_no_zoom": false,
       "clipping_planes": [],
       "colorbar_object_id": -1,
       "fps_meter": false,
       "grid": [
        -1,
        -1,
        -1,
        1,
        1,
        1
       ],
       "grid_auto_fit": true,
       "grid_visible": true,
       "height": 512,
       "layout": "IPY_MODEL_7b91a3ac8e194b77a19366ee53bc6de9",
       "lighting": 1,
       "menu_visibility": true,
       "object_ids": [
        4470776080
       ],
       "rendering_steps": 1,
       "screenshot": "",
       "screenshot_scale": 2,
       "time": 0,
       "voxel_paint_color": 0
      }
     },
     "819702308228427e934feda214ab88ef": {
      "buffers": [
       {
        "data": "eNot0vlP1gUcwPF3rVar1Wq14vR5Hh4eBOSSQy45fZ7v96spoRIiIqJAHCKH3Pf9cD7fLLMss8yyzLLM0sy01KJIo1BDEQUEfWBrba2ttbbW1sfVD6//4JV2l5X0u62su8fG+nttZN6nkHW/wsYHFLIfVMh5SGXzwyq5j6jkPaqS/5hKweMahU9oFD2pUeyiUeKmsc1do9RDo8xTo9ygUWHUqDRpVJk1qr01aiwatT4adb4a9X4aDf4qDQEqjYEqTUEqzcEqLSEKLaEKrWEKbeEK7RE22iNtdETZ6Iy20hljpStWxC2jO14kJGNPFEnJ9CQn0WNNoteWSK8i1AT6NLE8nr4V8fSvFKvi6E8RTy9lIFWsjmVgjVgbw2CaeCaawXSREcXgepEZiWODyFqCY6PIjsCxSeSE49gstoThyA1DzwtFzxfPLkYvEIWiKAS9WGwNRi8R24LQS0WZKA9Er7gjAH27qBRVi9CrRY0/eq2oE/V+6A2iUTT5ojeLloXoraJNtPugd/yv04LeJbqF3Ru9R/Sa0fvMOPrFgBeOQeEQugnHc2KHicHnxQvG/+wULxoY2CVeEi+L3Qb6XxGvij0L6HtN7BWvG+h9Q+wTbxrouWO/AftbRuxvG+k+YKL7HfGuF10Hveh8z0znIW863rfQ8YGF9sM+YiFtH/rS+pEfrUf8afk4gOajgTR9EkTTp8E0HltMw/FQ6o+HU/9ZBHUnIqn9PIqakzFUfxFL1ak4Kk8lsP10IhVfJlP+lZWyMwqlZ+Xj2RWUnFvJ1q9TKP4mlaKhNRQOpVHwbTr532WQN5xJ7nAWW77PJud8Dpsu5JJ9IZ+sHwrYMFJE5kgJGT+Wsu6nctJHK0kbrWbtxVpWX2wg9VITKZdbWXW5nad+7mL5mB1trA/lygC2KzrLru4g6epOEsd3ET++m6XX9hB7bS/RE/uInNjPkusHCL9+kNAbhwi5cZjgySMETh5l0dQx/KZO4Dt1Ep/p01imz2CePofp5hDGm8MYZs7jOTOCx8wo7rOXcJsdw3V2HNdbE7jcmhTTuNyexfW2U8zj5vwFd+eveDh/w9P5Owvm/sA49yemub8wz/+NZf4f/gXLh0p6",
        "encoding": "base64",
        "path": [
         "color_map",
         "compressed_buffer"
        ]
       },
       {
        "data": "eNpjYFBwZMAABxwwxRqwidkDAFK8AuE=",
        "encoding": "base64",
        "path": [
         "model_matrix",
         "compressed_buffer"
        ]
       },
       {
        "data": "eNrl1U1IKlEUB3ASxIVuDF1IMMvBFiJEDGGEUQlRNGGRKEkRFgNDKOZH4252Tn4kSgwMJVEYDkZJRhFYkUQSQwTiomGWA+FCyY0uRLDnU8R8qwePt/Lu7o/LOecPl3tx/N9XlmGyvXKWSKZSycTZD/IHQ+FIJBwK+rvmcthtVqvN7nD9OLhq0MOw3rDaW1EDQRr8P69iuVzsgdccxxcKPJd77cj51d0Tk+e4PPN0d3XetsPjWCKVzmTSqUTs+LBFxJ4/EIqQFEVGQgH/HvHbsF2X025FEQS12p2uXax1cGvDbIB1Wq0ONpg3ttr1VhZnJyEVCKqgydnFlU7nMTUIKBQAqB7rGVEulcr/Kly93rtn+WKlVqsUebYj6ee3D/6rWv3iP96e0y2iL67vs3m+VOLz2fvrC7pJJHV0Ek+mGZZl0sn4yRFF4riX8PmDYTIaj0fJcNDvI7w47sHcLocNtZhMFtTmcLkxD46jyOa6Sa+DlEpIpzetbyJos6BxeWFGowJkMkClmVlYNrYa6yZGh4FBsXgQGB6d0HUmVAJyiUgkkQPK3ixC4R9hS5X693e9UupKjvss1xqNWvmTy7Xl9uHlnStUG41qgXt/ebhtUoy+vHlkuFK9XuKYx5tLOoYfkFT0lE5l2EqFzaTo0yhFHngJwhfYj1BxholTkf2AjyC8HgxzO3esiAmCTIh1x+nGMM82iljWjLBWKZEotbBxzYKg27jZuDQ/BYEyoVAGQlPzS0Zzs/Hc9PgIqBALBGIFODI+PdeeUA0OSUUCgUg6BKq7SWQS4cCAUCLr57z9dp/78L3qk//oF5tnwC4=",
        "encoding": "base64",
        "path": [
         "voxels",
         "compressed_buffer"
        ]
       }
      ],
      "model_module": "k3d",
      "model_module_version": "2.6.9",
      "model_name": "ObjectModel",
      "state": {
       "_view_count": null,
       "_view_module": null,
       "_view_module_version": "",
       "_view_name": null,
       "color_map": {
        "dtype": "uint32",
        "shape": [
         256
        ]
       },
       "compression_level": 0,
       "id": 4547294480,
       "model_matrix": {
        "dtype": "float32",
        "shape": [
         4,
         4
        ]
       },
       "name": null,
       "opacity": 1,
       "outlines": false,
       "outlines_color": 0,
       "type": "Voxels",
       "visible": true,
       "voxels": {
        "dtype": "uint8",
        "shape": [
         8,
         12,
         20
        ]
       },
       "wireframe": false
      }
     },
     "821ec0ebe2af4e16874a16141840af5d": {
      "model_module": "@jupyter-widgets/output",
      "model_module_version": "1.0.0",
      "model_name": "OutputModel",
      "state": {
       "layout": "IPY_MODEL_da4999c5b8534ceab5ab2801d159deb9",
       "outputs": [
        {
         "data": {
          "application/vnd.jupyter.widget-view+json": {
           "model_id": "fc07c3b56522413c9632fa8d01e64ab6",
           "version_major": 2,
           "version_minor": 0
          },
          "text/plain": "Plot(antialias=3, axes=['x', 'y', 'z'], background_color=16777215, camera=[4.5, 4.5, 4.5, 0.0, 0.0, 0.0, 1.0, …"
         },
         "metadata": {},
         "output_type": "display_data"
        }
       ]
      }
     },
     "824c4cfe9e394c2d972d920eba8ee87f": {
      "model_module": "@jupyter-widgets/output",
      "model_module_version": "1.0.0",
      "model_name": "OutputModel",
      "state": {
       "layout": "IPY_MODEL_709e48d4533441ffac52c00231eeb676",
       "outputs": [
        {
         "data": {
          "application/vnd.jupyter.widget-view+json": {
           "model_id": "7a4758d7139e4004a6513769fc98d169",
           "version_major": 2,
           "version_minor": 0
          },
          "text/plain": "Plot(antialias=3, axes=['x', 'y', 'z'], background_color=16777215, camera=[4.5, 4.5, 4.5, 0.0, 0.0, 0.0, 1.0, …"
         },
         "metadata": {},
         "output_type": "display_data"
        }
       ]
      }
     },
     "8374d2ac1c5d43a8942b043ed3c48cdb": {
      "model_module": "@jupyter-widgets/base",
      "model_module_version": "1.2.0",
      "model_name": "LayoutModel",
      "state": {}
     },
     "83930a5ccd7b4e63a1387913cc0688fe": {
      "model_module": "@jupyter-widgets/output",
      "model_module_version": "1.0.0",
      "model_name": "OutputModel",
      "state": {
       "layout": "IPY_MODEL_430cbb0767a54d88b9ba691687dea585",
       "outputs": [
        {
         "data": {
          "application/vnd.jupyter.widget-view+json": {
           "model_id": "641f286d884f4a83b2b25c82bfe7b9d6",
           "version_major": 2,
           "version_minor": 0
          },
          "text/plain": "Plot(antialias=3, axes=['x', 'y', 'z'], background_color=16777215, camera=[4.5, 4.5, 4.5, 0.0, 0.0, 0.0, 1.0, …"
         },
         "metadata": {},
         "output_type": "display_data"
        }
       ]
      }
     },
     "83ec5ffb695a4bbd85f1a21f6ed4ec24": {
      "model_module": "k3d",
      "model_module_version": "2.6.9",
      "model_name": "PlotModel",
      "state": {
       "_backend_version": "2.6.9",
       "_dom_classes": [],
       "_view_count": null,
       "antialias": 3,
       "axes": [
        "x",
        "y",
        "z"
       ],
       "background_color": 16777215,
       "camera": [
        9.733137238263115,
        -14.662205854600705,
        0.9758137234910438,
        -0.02499999664723873,
        -0.02500000223517418,
        0,
        0,
        0,
        1
       ],
       "camera_auto_fit": true,
       "camera_no_pan": false,
       "camera_no_rotate": false,
       "camera_no_zoom": false,
       "clipping_planes": [],
       "colorbar_object_id": -1,
       "fps_meter": false,
       "grid": [
        -1,
        -1,
        -1,
        1,
        1,
        1
       ],
       "grid_auto_fit": true,
       "grid_visible": true,
       "height": 512,
       "layout": "IPY_MODEL_28fcbb8e33614deabe71f93d0546aece",
       "lighting": 1,
       "menu_visibility": true,
       "object_ids": [
        4596499728
       ],
       "rendering_steps": 1,
       "screenshot": "",
       "screenshot_scale": 2,
       "time": 0,
       "voxel_paint_color": 0
      }
     },
     "84225df6248149ed924183ff2eb45122": {
      "model_module": "@jupyter-widgets/base",
      "model_module_version": "1.2.0",
      "model_name": "LayoutModel",
      "state": {}
     },
     "8426334a20644c469c620a174a4837dc": {
      "model_module": "@jupyter-widgets/base",
      "model_module_version": "1.2.0",
      "model_name": "LayoutModel",
      "state": {}
     },
     "844a419d55414ba6bedc993edd077e70": {
      "buffers": [
       {
        "data": "eNot0vlP1gUcwPF3rVar1Wq14vR5Hh4eBOSSQy45fZ7v96spoRIiIqJAHCKH3Pf9cD7fLLMss8yyzLLM0sy01KJIo1BDEQUEfWBrba2ttbbW1sfVD6//4JV2l5X0u62su8fG+nttZN6nkHW/wsYHFLIfVMh5SGXzwyq5j6jkPaqS/5hKweMahU9oFD2pUeyiUeKmsc1do9RDo8xTo9ygUWHUqDRpVJk1qr01aiwatT4adb4a9X4aDf4qDQEqjYEqTUEqzcEqLSEKLaEKrWEKbeEK7RE22iNtdETZ6Iy20hljpStWxC2jO14kJGNPFEnJ9CQn0WNNoteWSK8i1AT6NLE8nr4V8fSvFKvi6E8RTy9lIFWsjmVgjVgbw2CaeCaawXSREcXgepEZiWODyFqCY6PIjsCxSeSE49gstoThyA1DzwtFzxfPLkYvEIWiKAS9WGwNRi8R24LQS0WZKA9Er7gjAH27qBRVi9CrRY0/eq2oE/V+6A2iUTT5ojeLloXoraJNtPugd/yv04LeJbqF3Ru9R/Sa0fvMOPrFgBeOQeEQugnHc2KHicHnxQvG/+wULxoY2CVeEi+L3Qb6XxGvij0L6HtN7BWvG+h9Q+wTbxrouWO/AftbRuxvG+k+YKL7HfGuF10Hveh8z0znIW863rfQ8YGF9sM+YiFtH/rS+pEfrUf8afk4gOajgTR9EkTTp8E0HltMw/FQ6o+HU/9ZBHUnIqn9PIqakzFUfxFL1ak4Kk8lsP10IhVfJlP+lZWyMwqlZ+Xj2RWUnFvJ1q9TKP4mlaKhNRQOpVHwbTr532WQN5xJ7nAWW77PJud8Dpsu5JJ9IZ+sHwrYMFJE5kgJGT+Wsu6nctJHK0kbrWbtxVpWX2wg9VITKZdbWXW5nad+7mL5mB1trA/lygC2KzrLru4g6epOEsd3ET++m6XX9hB7bS/RE/uInNjPkusHCL9+kNAbhwi5cZjgySMETh5l0dQx/KZO4Dt1Ep/p01imz2CePofp5hDGm8MYZs7jOTOCx8wo7rOXcJsdw3V2HNdbE7jcmhTTuNyexfW2U8zj5vwFd+eveDh/w9P5Owvm/sA49yemub8wz/+NZf4f/gXLh0p6",
        "encoding": "base64",
        "path": [
         "color_map",
         "compressed_buffer"
        ]
       },
       {
        "data": "eNpjYFBwZMAABxwwxRqwidkDAFK8AuE=",
        "encoding": "base64",
        "path": [
         "model_matrix",
         "compressed_buffer"
        ]
       },
       {
        "data": "eNrl1c9LKlEUB/BJGFzoxtCFBLMcpoUIEUMYYVRCFBkWiZIUYTEwhGL+aPwLnBxNlBgYSqIwFKMkowisSCKJIQJxkcxyIFwoudGFCPZ8iphv9eDxVt7d/XA553zhci8A/PvKsGymV87iiWQyET/7QZQ/EAyFggE/1TWn3Wa1WKw2u/PHwVW9TqvV6Vd7K6pQVAX851Usl4s98Jrl+EKB57KvHTm/unticxyXY5/urs7bdngciSdT6XQqGY8cH7aI3KN8gRDNMHQo4KP2yN9G7DodNguOYbjF5nDuEq2DWxsmvVajVmu0etPGVrveyuLsJKqAYQU6Obu40uk8poQhuRyClWM9I8okEtlfhavXe/d5vlip1SpFPt+R1PPbB/9VrX7xH2/PqRbFLq7vMzm+VOJzmfvri1iTaOboJJpIsfk8m0pET44YGgA8pJfyB+lwNBqmg37KS3oAwE24nHYrbjYazbjV7nQRbgDAsc11o06DIgiq0RnXNzG8WdCwvDCjUkBSKaRQzSwsG1qNNROjw9CgSDQIDY9OaDoTIpBMLBSKZRDSmwUE/whbqtS/v+uVUley3Ge51mjUyp9cti23Dy/vXKHaaFQL3PvLw22TIrHLm0eWK9XrJY59vLmMRYADmgmfxpLpfKWSTydjp2GGPvCQpNe3H2KiLBtlQvs+L0l63AThcuxYMCOKGjHLjsNFEO5tHDOvGbRqRCxG1FrDmhnDtwGTYWl+CoWlICiF0an5JYOp2XhuenwElosEApEcHhmfnmtPqISHJEKBQCgZgpXdJFIxODAAiqX9nLff7nMfvld98h/9AlMm+BA=",
        "encoding": "base64",
        "path": [
         "voxels",
         "compressed_buffer"
        ]
       }
      ],
      "model_module": "k3d",
      "model_module_version": "2.6.9",
      "model_name": "ObjectModel",
      "state": {
       "_view_count": null,
       "_view_module": null,
       "_view_module_version": "",
       "_view_name": null,
       "color_map": {
        "dtype": "uint32",
        "shape": [
         256
        ]
       },
       "compression_level": 0,
       "id": 4506353360,
       "model_matrix": {
        "dtype": "float32",
        "shape": [
         4,
         4
        ]
       },
       "name": null,
       "opacity": 1,
       "outlines": false,
       "outlines_color": 0,
       "type": "Voxels",
       "visible": true,
       "voxels": {
        "dtype": "uint8",
        "shape": [
         8,
         12,
         20
        ]
       },
       "wireframe": false
      }
     },
     "847d7101f49e4957b1dfc2a682892d2f": {
      "buffers": [
       {
        "data": "eNpVzrFLAnEcBXADZ2ktQY/iCANR8ZasocHOG4ULXASV20Shm+RoOCHF5LC/QCW3RhdbWwWn2nKKMA78F0RI3u/ewW/4LI/3fXxtxYjYB41YCe6PihLmdtDzzAI867fg5nVoxw2oRO8kzNnjHXde7LTQzMKoroFXvoGupoN1XJIwZ4933Al3+6rwFOheCE5KaGWAfxHzsMc77gS7w3FCmCZhMBN6b2fwuMiB+dmRMGePd9zhrju/BOddg4ePItRWFlx/T+Bk40uYs8c77nDXWlaBf12tXyH++wXn/k7CnD3ecUf5WcLp3xZUfy9hzt4/1oTPOQ==",
        "encoding": "base64",
        "path": [
         "colors",
         "compressed_buffer"
        ]
       },
       {
        "data": "eNpjYGiwZ8AAxIsBAF7EAv0=",
        "encoding": "base64",
        "path": [
         "model_matrix",
         "compressed_buffer"
        ]
       },
       {
        "data": "eNpNk09IVHEQxy/JemlpKYJgqQVJimLVCiLxzXct2EIjCQoq7GASlrAIUmGCRAgFRdEindbFbA0vHYI6FPZmHktJoRIVuBczyv6c8lCUaRDNnJrTm8N3Zj7v9/1OJbcYLq/clfqaKVlqGQ3PP85KV/8L6Wr7+vTXuZt8+OGk1U1r13eS1aoJru/fA9NUcotBrKoI650Z38mdSESpK0My8KWWl1c+Ss2GvNzJr2EqlmT62w2p7X4dlp8ckOG6a/L5x8ZwYH6IP229anUQ23eMrFZNQNndMI32UvnUMKxXZ1Ks6h1spu6iYhTP2K5HvVkeTzVE6b4dcubVXj5yIhGtflYnU9ubuLF9QUZnt0lqMM0f2sdk4s1m+Z2Ms1RapdyXlO+xi+Hf1AgPHkpYHaziZrJaNdS8ZRdMo720qVSA9epMmizNwWbqLrp/L56xXcpAx9+nM8YwM31Q/6khko4c5/+0cqk7Eb09epb7T7foOyyIviPPP8jyyNKY6D/zz+eNfOlWm+hu1vcMLxQmeN3LaqsD/ZLVqqHLPfUwjfZSR3UB1qsz9X3mYDN1F528Hc/YLmWg5Gw6YwyOhxwPOR5yPOR4yPGQ4yHHQ46HHA85HnI85PyC8wvOLzi/4PyC8wvOLzi/4PyC8wvOLzi/4HILl1u43MLlFi63cLmFyy1cbuFyC5dbVP7fHdzdwd0d3N3B3R3c3eEfvcjK8g==",
        "encoding": "base64",
        "path": [
         "origins",
         "compressed_buffer"
        ]
       },
       {
        "data": "eNpNkz0vRFEQhqlEIwqNROIrUQilct6SRCOi8AcIEbuFkmyllIhtN7JUdEKoxJlCYgu7G+WqqPgBKxtEY+bmTPIWkzM3dz6ec96ZTqmMRYVUPi/0e3kSZ0Pr0px70K2VLXHb33x2P4VvMRoxnVJZI7d9eYvazbj01ZfUvoua/v+8egLPtVNndlYxenokE4dX+vFVF7e364b7KXyL0YjxnMj1HlHTemn0uttrYHdtWKYqr2n75RHTs/NSe+9X4yvu4rxWq+jrtX/GjtE7SGKndgd+xa33dO9+Ct//RYxzRK7fOWpaL41exqDB0G61MNgdEbNU/WtiY3VBzJK9HfKbJrsn8v2T9UPmSHY3ZNNshZ/5ipj8XkVu1qaoab00ehmDBgPxCPEI8QjxCPEI8YB4QDxCPEI8QjxCPEJ6CekF0gukF0gvkF4gvUB6gfQC6QXSC6SX0NyC5hY0t6C5Bc0taG5BcwuaW9Dcgua2eMe8O6C9A+0daO9AewfaO/wDaMzjfA==",
        "encoding": "base64",
        "path": [
         "vectors",
         "compressed_buffer"
        ]
       }
      ],
      "model_module": "k3d",
      "model_module_version": "2.6.9",
      "model_name": "ObjectModel",
      "state": {
       "_view_count": null,
       "_view_module": null,
       "_view_module_version": "",
       "_view_name": null,
       "colors": {
        "dtype": "uint32",
        "shape": [
         80,
         2
        ]
       },
       "compression_level": 0,
       "head_color": 255,
       "head_size": 1,
       "id": 4467784848,
       "label_size": 1,
       "labels": [],
       "line_width": 0.01,
       "model_matrix": {
        "dtype": "float32",
        "shape": [
         4,
         4
        ]
       },
       "name": null,
       "origin_color": 255,
       "origins": {
        "dtype": "float32",
        "shape": [
         80,
         3
        ]
       },
       "type": "Vectors",
       "use_head": true,
       "vectors": {
        "dtype": "float32",
        "shape": [
         80,
         3
        ]
       },
       "visible": true
      }
     },
     "84a0097aa22143c28aba828e99bf7c3b": {
      "model_module": "@jupyter-widgets/base",
      "model_module_version": "1.2.0",
      "model_name": "LayoutModel",
      "state": {}
     },
     "8508d3c6d2254ddb896c72f687ce012b": {
      "model_module": "@jupyter-widgets/output",
      "model_module_version": "1.0.0",
      "model_name": "OutputModel",
      "state": {
       "layout": "IPY_MODEL_c22d3c95f1f1468ab72900c45a87d7eb",
       "outputs": [
        {
         "data": {
          "application/vnd.jupyter.widget-view+json": {
           "model_id": "42c9e02dd91d44cdadd221577e137e78",
           "version_major": 2,
           "version_minor": 0
          },
          "text/plain": "Plot(antialias=3, axes=['x', 'y', 'z'], background_color=16777215, camera=[4.5, 4.5, 4.5, 0.0, 0.0, 0.0, 1.0, …"
         },
         "metadata": {},
         "output_type": "display_data"
        }
       ]
      }
     },
     "85d9409039714597837ee271a819e3e0": {
      "model_module": "@jupyter-widgets/base",
      "model_module_version": "1.2.0",
      "model_name": "LayoutModel",
      "state": {}
     },
     "862fb540d9ad45149ad4430052737c06": {
      "buffers": [
       {
        "data": "eNq7PcOEAQAFoAGo",
        "encoding": "base64",
        "path": [
         "color_map",
         "compressed_buffer"
        ]
       },
       {
        "data": "eNpjYFBwZMAABxwwxRqwidkDAFK8AuE=",
        "encoding": "base64",
        "path": [
         "model_matrix",
         "compressed_buffer"
        ]
       },
       {
        "data": "eNrllUEOACEMAjv//7R7XQGj0Vs5TqItWLXqXnxSMlFQ6Jhba2u8l9TQ/vgpMlDo2O5+KauDXNIRLb2ZnkHhDdvPJWYg3mo1aj7m5I3HOsigXAT+fnTz222eG75XTf6jAc5KA/E=",
        "encoding": "base64",
        "path": [
         "voxels",
         "compressed_buffer"
        ]
       }
      ],
      "model_module": "k3d",
      "model_module_version": "2.6.9",
      "model_name": "ObjectModel",
      "state": {
       "_view_count": null,
       "_view_module": null,
       "_view_module_version": "",
       "_view_name": null,
       "color_map": {
        "dtype": "uint32",
        "shape": []
       },
       "compression_level": 0,
       "id": 4492940048,
       "model_matrix": {
        "dtype": "float32",
        "shape": [
         4,
         4
        ]
       },
       "name": null,
       "opacity": 1,
       "outlines": false,
       "outlines_color": 0,
       "type": "Voxels",
       "visible": true,
       "voxels": {
        "dtype": "uint8",
        "shape": [
         8,
         12,
         20
        ]
       },
       "wireframe": false
      }
     },
     "8638132b9e834864a2b334a74b979013": {
      "model_module": "@jupyter-widgets/base",
      "model_module_version": "1.2.0",
      "model_name": "LayoutModel",
      "state": {}
     },
     "864da8b09b754905a780b18ae4fea40b": {
      "model_module": "@jupyter-widgets/base",
      "model_module_version": "1.2.0",
      "model_name": "LayoutModel",
      "state": {}
     },
     "8679f7dd52054666957e2d78ed1d119a": {
      "buffers": [
       {
        "data": "eNot0vlP1gUcwPF3rVar1Wq14vR5Hh4eBOSSQy45fZ7v96spoRIiIqJAHCKH3Pf9cD7fLLMss8yyzLLM0sy01KJIo1BDEQUEfWBrba2ttbbW1sfVD6//4JV2l5X0u62su8fG+nttZN6nkHW/wsYHFLIfVMh5SGXzwyq5j6jkPaqS/5hKweMahU9oFD2pUeyiUeKmsc1do9RDo8xTo9ygUWHUqDRpVJk1qr01aiwatT4adb4a9X4aDf4qDQEqjYEqTUEqzcEqLSEKLaEKrWEKbeEK7RE22iNtdETZ6Iy20hljpStWxC2jO14kJGNPFEnJ9CQn0WNNoteWSK8i1AT6NLE8nr4V8fSvFKvi6E8RTy9lIFWsjmVgjVgbw2CaeCaawXSREcXgepEZiWODyFqCY6PIjsCxSeSE49gstoThyA1DzwtFzxfPLkYvEIWiKAS9WGwNRi8R24LQS0WZKA9Er7gjAH27qBRVi9CrRY0/eq2oE/V+6A2iUTT5ojeLloXoraJNtPugd/yv04LeJbqF3Ru9R/Sa0fvMOPrFgBeOQeEQugnHc2KHicHnxQvG/+wULxoY2CVeEi+L3Qb6XxGvij0L6HtN7BWvG+h9Q+wTbxrouWO/AftbRuxvG+k+YKL7HfGuF10Hveh8z0znIW863rfQ8YGF9sM+YiFtH/rS+pEfrUf8afk4gOajgTR9EkTTp8E0HltMw/FQ6o+HU/9ZBHUnIqn9PIqakzFUfxFL1ak4Kk8lsP10IhVfJlP+lZWyMwqlZ+Xj2RWUnFvJ1q9TKP4mlaKhNRQOpVHwbTr532WQN5xJ7nAWW77PJud8Dpsu5JJ9IZ+sHwrYMFJE5kgJGT+Wsu6nctJHK0kbrWbtxVpWX2wg9VITKZdbWXW5nad+7mL5mB1trA/lygC2KzrLru4g6epOEsd3ET++m6XX9hB7bS/RE/uInNjPkusHCL9+kNAbhwi5cZjgySMETh5l0dQx/KZO4Dt1Ep/p01imz2CePofp5hDGm8MYZs7jOTOCx8wo7rOXcJsdw3V2HNdbE7jcmhTTuNyexfW2U8zj5vwFd+eveDh/w9P5Owvm/sA49yemub8wz/+NZf4f/gXLh0p6",
        "encoding": "base64",
        "path": [
         "color_map",
         "compressed_buffer"
        ]
       },
       {
        "data": "eNpjYFBwZMAABxwwxRqwidkDAFK8AuE=",
        "encoding": "base64",
        "path": [
         "model_matrix",
         "compressed_buffer"
        ]
       },
       {
        "data": "eNrl1U1IKlEUB3ASxIVuDF1IMMvBFiJEDGGEUQlRNGGRKEkRFgNDKOZH4252Tn4kSgwMJVEYDkZJRhFYkUQSQwTiomGWA+FCyY0uRLDnU8R8qwePt/Lu7o/LOecPl3tx/N9XlmGyvXKWSKZSycTZD/IHQ+FIJBwK+rvmcthtVqvN7nD9OLhq0MOw3rDaW1EDQRr8P69iuVzsgdccxxcKPJd77cj51d0Tk+e4PPN0d3XetsPjWCKVzmTSqUTs+LBFxJ4/EIqQFEVGQgH/HvHbsF2X025FEQS12p2uXax1cGvDbIB1Wq0ONpg3ttr1VhZnJyEVCKqgydnFlU7nMTUIKBQAqB7rGVEulcr/Kly93rtn+WKlVqsUebYj6ee3D/6rWv3iP96e0y2iL67vs3m+VOLz2fvrC7pJJHV0Ek+mGZZl0sn4yRFF4riX8PmDYTIaj0fJcNDvI7w47sHcLocNtZhMFtTmcLkxD46jyOa6Sa+DlEpIpzetbyJos6BxeWFGowJkMkClmVlYNrYa6yZGh4FBsXgQGB6d0HUmVAJyiUgkkQPK3ixC4R9hS5X693e9UupKjvss1xqNWvmTy7Xl9uHlnStUG41qgXt/ebhtUoy+vHlkuFK9XuKYx5tLOoYfkFT0lE5l2EqFzaTo0yhFHngJwhfYj1BxholTkf2AjyC8HgxzO3esiAmCTIh1x+nGMM82iljWjLBWKZEotbBxzYKg27jZuDQ/BYEyoVAGQlPzS0Zzs/Hc9PgIqBALBGIFODI+PdeeUA0OSUUCgUg6BKq7SWQS4cCAUCLr57z9dp/78L3qk//oF5tnwC4=",
        "encoding": "base64",
        "path": [
         "voxels",
         "compressed_buffer"
        ]
       }
      ],
      "model_module": "k3d",
      "model_module_version": "2.6.9",
      "model_name": "ObjectModel",
      "state": {
       "_view_count": null,
       "_view_module": null,
       "_view_module_version": "",
       "_view_name": null,
       "color_map": {
        "dtype": "uint32",
        "shape": [
         256
        ]
       },
       "compression_level": 0,
       "id": 4526203664,
       "model_matrix": {
        "dtype": "float32",
        "shape": [
         4,
         4
        ]
       },
       "name": null,
       "opacity": 1,
       "outlines": false,
       "outlines_color": 0,
       "type": "Voxels",
       "visible": true,
       "voxels": {
        "dtype": "uint8",
        "shape": [
         8,
         12,
         20
        ]
       },
       "wireframe": false
      }
     },
     "86d4e98117cf402e9aaade55c693ab97": {
      "model_module": "@jupyter-widgets/base",
      "model_module_version": "1.2.0",
      "model_name": "LayoutModel",
      "state": {}
     },
     "8717e2cdcca9407bb79f9eb8d6132ae4": {
      "model_module": "k3d",
      "model_module_version": "2.6.9",
      "model_name": "PlotModel",
      "state": {
       "_backend_version": "2.6.9",
       "_dom_classes": [],
       "_view_count": null,
       "antialias": 3,
       "axes": [
        "x",
        "y",
        "z"
       ],
       "background_color": 16777215,
       "camera": [
        9.733137238263115,
        -14.662205854600705,
        0.9758137234910438,
        -0.02499999664723873,
        -0.02500000223517418,
        0,
        0,
        0,
        1
       ],
       "camera_auto_fit": true,
       "camera_no_pan": false,
       "camera_no_rotate": false,
       "camera_no_zoom": false,
       "clipping_planes": [],
       "colorbar_object_id": -1,
       "fps_meter": false,
       "grid": [
        -1,
        -1,
        -1,
        1,
        1,
        1
       ],
       "grid_auto_fit": true,
       "grid_visible": true,
       "height": 512,
       "layout": "IPY_MODEL_bbf24acb0f5347ce92ec278e3846ef15",
       "lighting": 1,
       "menu_visibility": true,
       "object_ids": [
        4654137744
       ],
       "rendering_steps": 1,
       "screenshot": "",
       "screenshot_scale": 2,
       "time": 0,
       "voxel_paint_color": 0
      }
     },
     "87efc4cb9e9b407dba6e5a44eb907b12": {
      "model_module": "@jupyter-widgets/base",
      "model_module_version": "1.2.0",
      "model_name": "LayoutModel",
      "state": {}
     },
     "87f2d2bf1a4f43409fbb841e4eb28c7a": {
      "model_module": "@jupyter-widgets/base",
      "model_module_version": "1.2.0",
      "model_name": "LayoutModel",
      "state": {}
     },
     "883c187cf92a4bdd9eb34ebae13d6472": {
      "model_module": "@jupyter-widgets/base",
      "model_module_version": "1.2.0",
      "model_name": "LayoutModel",
      "state": {}
     },
     "8890543116c7466dba13cd9aeabd7535": {
      "model_module": "@jupyter-widgets/controls",
      "model_module_version": "1.5.0",
      "model_name": "SliderStyleModel",
      "state": {
       "description_width": ""
      }
     },
     "8bc648a1dd8547bd8ddae4b8664bfe26": {
      "model_module": "k3d",
      "model_module_version": "2.6.9",
      "model_name": "PlotModel",
      "state": {
       "_backend_version": "2.6.9",
       "_dom_classes": [],
       "_view_count": null,
       "antialias": 3,
       "axes": [
        "x",
        "y",
        "z"
       ],
       "background_color": 16777215,
       "camera": [
        5.676886823516348,
        -8.515330235274524,
        0.5676886823516407,
        0,
        0,
        0,
        0,
        0,
        1
       ],
       "camera_auto_fit": true,
       "camera_no_pan": false,
       "camera_no_rotate": false,
       "camera_no_zoom": false,
       "clipping_planes": [],
       "colorbar_object_id": -1,
       "fps_meter": false,
       "grid": [
        -1,
        -1,
        -1,
        1,
        1,
        1
       ],
       "grid_auto_fit": true,
       "grid_visible": true,
       "height": 512,
       "layout": "IPY_MODEL_e19441cabf19414da0e8231c71bb0ae4",
       "lighting": 1,
       "menu_visibility": true,
       "object_ids": [
        4458046800,
        4457997072
       ],
       "rendering_steps": 1,
       "screenshot": "",
       "screenshot_scale": 2,
       "time": 0,
       "voxel_paint_color": 0
      }
     },
     "8bf2ee56039d4f3aaf37733f292f0c0e": {
      "buffers": [
       {
        "data": "eNoDAAAAAAE=",
        "encoding": "base64",
        "path": [
         "colors",
         "compressed_buffer"
        ]
       },
       {
        "data": "eNpjYGiwZ8AAxIsBAF7EAv0=",
        "encoding": "base64",
        "path": [
         "model_matrix",
         "compressed_buffer"
        ]
       },
       {
        "data": "eNpN0VENwzAMBuFAGJQisA1tUIxkK5RAmbIq7ZeXnqL0dNI/xjr9HWN+/zgKfn/g4E0+3PDrvFzrrLvNDRe8/I2/8Tf+2wm/6uHjvLy7oWgoGoqGoqFoKBqKhqKhaNh8yOfl3T2bV8/mhgte35uDN8m/8IRXz+ZDPi/X3RP0BD1BT9AT9AQ9QU/QE/QEPcFeyV7JXsleyV7JXsleyV7JXsleyV7JXjQ0DU1D09A0NA1NQ9PQNDQN+if+iX/in/gn/pk/dr6bDQ==",
        "encoding": "base64",
        "path": [
         "positions",
         "compressed_buffer"
        ]
       }
      ],
      "model_module": "k3d",
      "model_module_version": "2.6.9",
      "model_name": "ObjectModel",
      "state": {
       "_view_count": null,
       "_view_module": null,
       "_view_module_version": "",
       "_view_name": null,
       "color": 10075135,
       "colors": {
        "dtype": "uint32",
        "shape": [
         0
        ]
       },
       "compression_level": 0,
       "id": 4667413224,
       "mesh_detail": 2,
       "model_matrix": {
        "dtype": "float32",
        "shape": [
         4,
         4
        ]
       },
       "name": null,
       "opacity": 1,
       "point_size": 0.1,
       "positions": {
        "dtype": "float32",
        "shape": [
         80,
         3
        ]
       },
       "shader": "3dSpecular",
       "type": "Points",
       "visible": true
      }
     },
     "8c10f3b5b2fa44b9825cb82fb1a96631": {
      "buffers": [
       {
        "data": "eNoDAAAAAAE=",
        "encoding": "base64",
        "path": [
         "colors",
         "compressed_buffer"
        ]
       },
       {
        "data": "eNpjYGiwZ8AAxIsBAF7EAv0=",
        "encoding": "base64",
        "path": [
         "model_matrix",
         "compressed_buffer"
        ]
       },
       {
        "data": "eNpN0VENwzAMBuFAGJQisA1tUIxkK5RAmbIq7ZeXnqL0dNI/xjr9HWN+/zgKfn/g4E0+3PDrvFzrrLvNDRe8/I2/8Tf+2wm/6uHjvLy7oWgoGoqGoqFoKBqKhqKhaNh8yOfl3T2bV8/mhgte35uDN8m/8IRXz+ZDPi/X3RP0BD1BT9AT9AQ9QU/QE/QEPcFeyV7JXsleyV7JXsleyV7JXsleyV7JXjQ0DU1D09A0NA1NQ9PQNDQN+if+iX/in/gn/pk/dr6bDQ==",
        "encoding": "base64",
        "path": [
         "positions",
         "compressed_buffer"
        ]
       }
      ],
      "model_module": "k3d",
      "model_module_version": "2.6.9",
      "model_name": "ObjectModel",
      "state": {
       "_view_count": null,
       "_view_module": null,
       "_view_module_version": "",
       "_view_name": null,
       "color": 10075135,
       "colors": {
        "dtype": "uint32",
        "shape": [
         0
        ]
       },
       "compression_level": 0,
       "id": 4634863264,
       "mesh_detail": 2,
       "model_matrix": {
        "dtype": "float32",
        "shape": [
         4,
         4
        ]
       },
       "name": null,
       "opacity": 1,
       "point_size": 0.1,
       "positions": {
        "dtype": "float32",
        "shape": [
         80,
         3
        ]
       },
       "shader": "3dSpecular",
       "type": "Points",
       "visible": true
      }
     },
     "8c77ed539c154c738af4618394c8e459": {
      "model_module": "@jupyter-widgets/base",
      "model_module_version": "1.2.0",
      "model_name": "LayoutModel",
      "state": {}
     },
     "8d5984a174ac4d01a7a331c2a3f75f9c": {
      "buffers": [
       {
        "data": "eNot0vlP1gUcwPF3rVar1Wq14vR5Hh4eBOSSQy45fZ7v96spoRIiIqJAHCKH3Pf9cD7fLLMss8yyzLLM0sy01KJIo1BDEQUEfWBrba2ttbbW1sfVD6//4JV2l5X0u62su8fG+nttZN6nkHW/wsYHFLIfVMh5SGXzwyq5j6jkPaqS/5hKweMahU9oFD2pUeyiUeKmsc1do9RDo8xTo9ygUWHUqDRpVJk1qr01aiwatT4adb4a9X4aDf4qDQEqjYEqTUEqzcEqLSEKLaEKrWEKbeEK7RE22iNtdETZ6Iy20hljpStWxC2jO14kJGNPFEnJ9CQn0WNNoteWSK8i1AT6NLE8nr4V8fSvFKvi6E8RTy9lIFWsjmVgjVgbw2CaeCaawXSREcXgepEZiWODyFqCY6PIjsCxSeSE49gstoThyA1DzwtFzxfPLkYvEIWiKAS9WGwNRi8R24LQS0WZKA9Er7gjAH27qBRVi9CrRY0/eq2oE/V+6A2iUTT5ojeLloXoraJNtPugd/yv04LeJbqF3Ru9R/Sa0fvMOPrFgBeOQeEQugnHc2KHicHnxQvG/+wULxoY2CVeEi+L3Qb6XxGvij0L6HtN7BWvG+h9Q+wTbxrouWO/AftbRuxvG+k+YKL7HfGuF10Hveh8z0znIW863rfQ8YGF9sM+YiFtH/rS+pEfrUf8afk4gOajgTR9EkTTp8E0HltMw/FQ6o+HU/9ZBHUnIqn9PIqakzFUfxFL1ak4Kk8lsP10IhVfJlP+lZWyMwqlZ+Xj2RWUnFvJ1q9TKP4mlaKhNRQOpVHwbTr532WQN5xJ7nAWW77PJud8Dpsu5JJ9IZ+sHwrYMFJE5kgJGT+Wsu6nctJHK0kbrWbtxVpWX2wg9VITKZdbWXW5nad+7mL5mB1trA/lygC2KzrLru4g6epOEsd3ET++m6XX9hB7bS/RE/uInNjPkusHCL9+kNAbhwi5cZjgySMETh5l0dQx/KZO4Dt1Ep/p01imz2CePofp5hDGm8MYZs7jOTOCx8wo7rOXcJsdw3V2HNdbE7jcmhTTuNyexfW2U8zj5vwFd+eveDh/w9P5Owvm/sA49yemub8wz/+NZf4f/gXLh0p6",
        "encoding": "base64",
        "path": [
         "color_map",
         "compressed_buffer"
        ]
       },
       {
        "data": "eNpjYFBwZMAABxwwxRjsMYUa7AFHpwJg",
        "encoding": "base64",
        "path": [
         "model_matrix",
         "compressed_buffer"
        ]
       },
       {
        "data": "eNpjYACBN19+////+8sbBji4eOvp+5///v18//TWRYjItr1Hz916/vXfv6/Pb507uncbUGjJinVb95269eb37ze3Tu3bum7FEoYp02bOXbRi08EbX77cOLhpxaK5M6dNae/o6OrpmzRz+alTy2dO6uvp6uhor6yoKCspykuPNDOLTM8rKimrqKjMyUpPjovws9fg4dGw94uIS07PymGIiQjydjJTE2FlFVEzc/IOiogBWuzlbG2kJsnNxMQtqWZk7ewFcaG+mrQgOxMTu6C0mj7CJyI8rIyMrDwiEB4A19heAQ==",
        "encoding": "base64",
        "path": [
         "voxels",
         "compressed_buffer"
        ]
       }
      ],
      "model_module": "k3d",
      "model_module_version": "2.6.9",
      "model_name": "ObjectModel",
      "state": {
       "_view_count": null,
       "_view_module": null,
       "_view_module_version": "",
       "_view_name": null,
       "color_map": {
        "dtype": "uint32",
        "shape": [
         256
        ]
       },
       "compression_level": 0,
       "id": 4560824080,
       "model_matrix": {
        "dtype": "float32",
        "shape": [
         4,
         4
        ]
       },
       "name": null,
       "opacity": 1,
       "outlines": false,
       "outlines_color": 0,
       "type": "Voxels",
       "visible": true,
       "voxels": {
        "dtype": "uint8",
        "shape": [
         1,
         12,
         20
        ]
       },
       "wireframe": false
      }
     },
     "8ec685eebd454b908eb188cdbee80185": {
      "model_module": "@jupyter-widgets/output",
      "model_module_version": "1.0.0",
      "model_name": "OutputModel",
      "state": {
       "layout": "IPY_MODEL_2a1a24b2bb214535b2027de52adddf9c",
       "outputs": [
        {
         "data": {
          "application/vnd.jupyter.widget-view+json": {
           "model_id": "45874343f66b4ca79b387386ee1fd009",
           "version_major": 2,
           "version_minor": 0
          },
          "text/plain": "Plot(antialias=3, axes=['x', 'y', 'z'], background_color=16777215, camera=[4.5, 4.5, 4.5, 0.0, 0.0, 0.0, 1.0, …"
         },
         "metadata": {},
         "output_type": "display_data"
        }
       ]
      }
     },
     "8fdba87f3fcd4c7d97446b0739ee6a74": {
      "model_module": "@jupyter-widgets/base",
      "model_module_version": "1.2.0",
      "model_name": "LayoutModel",
      "state": {}
     },
     "8fe8e2e7f6474668954485dd90b04ecd": {
      "model_module": "@jupyter-widgets/base",
      "model_module_version": "1.2.0",
      "model_name": "LayoutModel",
      "state": {}
     },
     "8fff8481786a4c29af3d47e44d5fbd0c": {
      "model_module": "@jupyter-widgets/output",
      "model_module_version": "1.0.0",
      "model_name": "OutputModel",
      "state": {
       "layout": "IPY_MODEL_286c75ae944d496185c128d22bb6ccd4",
       "outputs": [
        {
         "data": {
          "application/vnd.jupyter.widget-view+json": {
           "model_id": "3da42c83915d4b3c9e23fcf2a40a4859",
           "version_major": 2,
           "version_minor": 0
          },
          "text/plain": "Plot(antialias=3, axes=['x', 'y', 'z'], background_color=16777215, camera=[4.5, 4.5, 4.5, 0.0, 0.0, 0.0, 1.0, …"
         },
         "metadata": {},
         "output_type": "display_data"
        }
       ]
      }
     },
     "9024997b8e5b48b3901c74ca7c769d07": {
      "model_module": "@jupyter-widgets/base",
      "model_module_version": "1.2.0",
      "model_name": "LayoutModel",
      "state": {}
     },
     "907dd5a5ad2f43378696ac5e96f1c0d0": {
      "model_module": "@jupyter-widgets/output",
      "model_module_version": "1.0.0",
      "model_name": "OutputModel",
      "state": {
       "layout": "IPY_MODEL_774975f422ad49308f6884dc16338488",
       "outputs": [
        {
         "data": {
          "application/vnd.jupyter.widget-view+json": {
           "model_id": "4832eae3462b419ba8301faa30dc1777",
           "version_major": 2,
           "version_minor": 0
          },
          "text/plain": "Plot(antialias=3, axes=['x', 'y', 'z'], background_color=16777215, camera=[4.5, 4.5, 4.5, 0.0, 0.0, 0.0, 1.0, …"
         },
         "metadata": {},
         "output_type": "display_data"
        }
       ]
      }
     },
     "915e014fda2e4ed39f81344a55cf7167": {
      "model_module": "@jupyter-widgets/base",
      "model_module_version": "1.2.0",
      "model_name": "LayoutModel",
      "state": {}
     },
     "917bf138dd254bc3bbd6305c289f13ee": {
      "model_module": "@jupyter-widgets/output",
      "model_module_version": "1.0.0",
      "model_name": "OutputModel",
      "state": {
       "layout": "IPY_MODEL_40e391d9e1294663b15a968cac2256ae",
       "outputs": [
        {
         "data": {
          "application/vnd.jupyter.widget-view+json": {
           "model_id": "aed9f9e8a5354f40bc2a773ab6671175",
           "version_major": 2,
           "version_minor": 0
          },
          "text/plain": "Plot(antialias=3, axes=['x', 'y', 'z'], background_color=16777215, camera=[4.5, 4.5, 4.5, 0.0, 0.0, 0.0, 1.0, …"
         },
         "metadata": {},
         "output_type": "display_data"
        }
       ]
      }
     },
     "917c29f1a16243c7a79958d739322e04": {
      "model_module": "@jupyter-widgets/base",
      "model_module_version": "1.2.0",
      "model_name": "LayoutModel",
      "state": {}
     },
     "9189c5e1a2874568b9ba275e463e10db": {
      "model_module": "k3d",
      "model_module_version": "2.6.9",
      "model_name": "PlotModel",
      "state": {
       "_backend_version": "2.6.9",
       "_dom_classes": [],
       "_view_count": null,
       "antialias": 3,
       "axes": [
        "x",
        "y",
        "z"
       ],
       "background_color": 16777215,
       "camera": [
        10.284874878907916,
        -15.489812315567907,
        1.0059874815950598,
        -0.02499999664723873,
        -0.02500000223517418,
        -0.025000005960464478,
        0,
        0,
        1
       ],
       "camera_auto_fit": true,
       "camera_no_pan": false,
       "camera_no_rotate": false,
       "camera_no_zoom": false,
       "clipping_planes": [],
       "colorbar_object_id": -1,
       "fps_meter": false,
       "grid": [
        -1,
        -1,
        -1,
        1,
        1,
        1
       ],
       "grid_auto_fit": true,
       "grid_visible": true,
       "height": 512,
       "layout": "IPY_MODEL_7fbdfcfcd14642f99ade196f8ad3cb20",
       "lighting": 1,
       "menu_visibility": true,
       "object_ids": [
        4547294480
       ],
       "rendering_steps": 1,
       "screenshot": "",
       "screenshot_scale": 2,
       "time": 0,
       "voxel_paint_color": 0
      }
     },
     "9258fa9067d24771b0878aea065eec0b": {
      "model_module": "k3d",
      "model_module_version": "2.6.9",
      "model_name": "PlotModel",
      "state": {
       "_backend_version": "2.6.9",
       "_dom_classes": [],
       "_view_count": null,
       "antialias": 3,
       "axes": [
        "x",
        "y",
        "z"
       ],
       "background_color": 16777215,
       "camera": [
        9.80367128973346,
        -14.70550693460019,
        0.9803671289733545,
        0,
        0,
        0,
        0,
        0,
        1
       ],
       "camera_auto_fit": true,
       "camera_no_pan": false,
       "camera_no_rotate": false,
       "camera_no_zoom": false,
       "clipping_planes": [],
       "colorbar_object_id": -1,
       "fps_meter": false,
       "grid": [
        -1,
        -1,
        -1,
        1,
        1,
        1
       ],
       "grid_auto_fit": true,
       "grid_visible": true,
       "height": 512,
       "layout": "IPY_MODEL_86d4e98117cf402e9aaade55c693ab97",
       "lighting": 1,
       "menu_visibility": true,
       "object_ids": [
        4634984856
       ],
       "rendering_steps": 1,
       "screenshot": "",
       "screenshot_scale": 2,
       "time": 0,
       "voxel_paint_color": 0
      }
     },
     "929a30b65c51460d935b0981d55b793b": {
      "model_module": "@jupyter-widgets/base",
      "model_module_version": "1.2.0",
      "model_name": "LayoutModel",
      "state": {}
     },
     "93807e41658d401682ef851ecc894f3a": {
      "model_module": "@jupyter-widgets/base",
      "model_module_version": "1.2.0",
      "model_name": "LayoutModel",
      "state": {}
     },
     "939746c5c5e241839a171bb8683393ff": {
      "model_module": "k3d",
      "model_module_version": "2.6.9",
      "model_name": "PlotModel",
      "state": {
       "_backend_version": "2.6.9",
       "_dom_classes": [],
       "_view_count": null,
       "antialias": 3,
       "axes": [
        "x",
        "y",
        "z"
       ],
       "background_color": 16777215,
       "camera": [
        5.882675163119617,
        -13.779618168693599,
        6.0579747895945735,
        -0.0717308521270752,
        1.1920928955078125e-07,
        0,
        -0.163478341262248,
        0.2801583275369859,
        0.9459313629697578
       ],
       "camera_auto_fit": true,
       "camera_no_pan": false,
       "camera_no_rotate": false,
       "camera_no_zoom": false,
       "clipping_planes": [],
       "colorbar_object_id": -1,
       "fps_meter": false,
       "grid": [
        -1,
        -1,
        -1,
        1,
        1,
        1
       ],
       "grid_auto_fit": true,
       "grid_visible": true,
       "height": 512,
       "layout": "IPY_MODEL_011b4265b7a848e2ac6403ec7bf27aef",
       "lighting": 1,
       "menu_visibility": true,
       "object_ids": [
        4688469712,
        4710344400,
        4710346192,
        4710344016,
        4688575184,
        4717922640,
        4717654096,
        4717602832,
        4717604624,
        4717663248
       ],
       "rendering_steps": 1,
       "screenshot": "",
       "screenshot_scale": 2,
       "time": 0,
       "voxel_paint_color": 0
      }
     },
     "93ca4682337d454d982c34c0dacf5907": {
      "model_module": "@jupyter-widgets/controls",
      "model_module_version": "1.5.0",
      "model_name": "IntSliderModel",
      "state": {
       "layout": "IPY_MODEL_0b0e42f5557f49298d518ed3231a8088",
       "style": "IPY_MODEL_aea6de54ea2649d4aa9e360a62413a09"
      }
     },
     "95642bbb381b4175a74bd784ab2eb03b": {
      "model_module": "@jupyter-widgets/output",
      "model_module_version": "1.0.0",
      "model_name": "OutputModel",
      "state": {
       "layout": "IPY_MODEL_3d1df43570a74c3ca43e6d78e21d737e",
       "outputs": [
        {
         "data": {
          "application/vnd.jupyter.widget-view+json": {
           "model_id": "183dbcad1cdb4f16afeb3caf0f395b6a",
           "version_major": 2,
           "version_minor": 0
          },
          "text/plain": "Plot(antialias=3, axes=['x', 'y', 'z'], background_color=16777215, camera=[4.5, 4.5, 4.5, 0.0, 0.0, 0.0, 1.0, …"
         },
         "metadata": {},
         "output_type": "display_data"
        }
       ]
      }
     },
     "95da555a06a2414d8b69ebd2c3691255": {
      "model_module": "@jupyter-widgets/output",
      "model_module_version": "1.0.0",
      "model_name": "OutputModel",
      "state": {
       "layout": "IPY_MODEL_7326b458ae2b47428f7a9c63c9964ee4",
       "outputs": [
        {
         "data": {
          "application/vnd.jupyter.widget-view+json": {
           "model_id": "8717e2cdcca9407bb79f9eb8d6132ae4",
           "version_major": 2,
           "version_minor": 0
          },
          "text/plain": "Plot(antialias=3, axes=['x', 'y', 'z'], background_color=16777215, camera=[4.5, 4.5, 4.5, 0.0, 0.0, 0.0, 1.0, …"
         },
         "metadata": {},
         "output_type": "display_data"
        }
       ]
      }
     },
     "9615d45443f34ccca46e47702e375a69": {
      "model_module": "@jupyter-widgets/output",
      "model_module_version": "1.0.0",
      "model_name": "OutputModel",
      "state": {
       "layout": "IPY_MODEL_d6d5ec811e1f4597988bd67f20ead1c8",
       "outputs": [
        {
         "data": {
          "application/vnd.jupyter.widget-view+json": {
           "model_id": "939746c5c5e241839a171bb8683393ff",
           "version_major": 2,
           "version_minor": 0
          },
          "text/plain": "Plot(antialias=3, axes=['x', 'y', 'z'], background_color=16777215, camera=[4.5, 4.5, 4.5, 0.0, 0.0, 0.0, 1.0, …"
         },
         "metadata": {},
         "output_type": "display_data"
        }
       ]
      }
     },
     "970165b02e1642fea91759553e2e79c5": {
      "model_module": "@jupyter-widgets/output",
      "model_module_version": "1.0.0",
      "model_name": "OutputModel",
      "state": {
       "layout": "IPY_MODEL_915e014fda2e4ed39f81344a55cf7167",
       "outputs": [
        {
         "data": {
          "application/vnd.jupyter.widget-view+json": {
           "model_id": "00194eb688b64095b69c8d4a13404f76",
           "version_major": 2,
           "version_minor": 0
          },
          "text/plain": "Plot(antialias=3, axes=['x', 'y', 'z'], background_color=16777215, camera=[4.5, 4.5, 4.5, 0.0, 0.0, 0.0, 1.0, …"
         },
         "metadata": {},
         "output_type": "display_data"
        }
       ]
      }
     },
     "9725f4045754445787ac0189e201b3f6": {
      "model_module": "@jupyter-widgets/base",
      "model_module_version": "1.2.0",
      "model_name": "LayoutModel",
      "state": {}
     },
     "972a9b6be89d4ab6a76ed297d1316bee": {
      "buffers": [
       {
        "data": "eNoDAAAAAAE=",
        "encoding": "base64",
        "path": [
         "colors",
         "compressed_buffer"
        ]
       },
       {
        "data": "eNpjYGiwZ8AAxIsBAF7EAv0=",
        "encoding": "base64",
        "path": [
         "model_matrix",
         "compressed_buffer"
        ]
       },
       {
        "data": "eNpN0VENwzAMBuFAGJQisA1tUIxkK5RAmbIq7ZeXnqL0dNI/xjr9HWN+/zgKfn/g4E0+3PDrvFzrrLvNDRe8/I2/8Tf+2wm/6uHjvLy7oWgoGoqGoqFoKBqKhqKhaNh8yOfl3T2bV8/mhgte35uDN8m/8IRXz+ZDPi/X3RP0BD1BT9AT9AQ9QU/QE/QEPcFeyV7JXsleyV7JXsleyV7JXsleyV7JXjQ0DU1D09A0NA1NQ9PQNDQN+if+iX/in/gn/pk/dr6bDQ==",
        "encoding": "base64",
        "path": [
         "positions",
         "compressed_buffer"
        ]
       }
      ],
      "model_module": "k3d",
      "model_module_version": "2.6.9",
      "model_name": "ObjectModel",
      "state": {
       "_view_count": null,
       "_view_module": null,
       "_view_module_version": "",
       "_view_name": null,
       "color": 10075135,
       "colors": {
        "dtype": "uint32",
        "shape": [
         0
        ]
       },
       "compression_level": 0,
       "id": 4572859664,
       "mesh_detail": 2,
       "model_matrix": {
        "dtype": "float32",
        "shape": [
         4,
         4
        ]
       },
       "name": null,
       "opacity": 1,
       "point_size": 0.1,
       "positions": {
        "dtype": "float32",
        "shape": [
         80,
         3
        ]
       },
       "shader": "3dSpecular",
       "type": "Points",
       "visible": true
      }
     },
     "9753a4ca83424c3c8455eda05b98ac26": {
      "buffers": [
       {
        "data": "eNoLvljOEAzEhfucwLh9oTwY9zWog3FvogkYd7g5gLHkoxtgrHz/EBhb35wLxgmnEsC4ZYUSGPdVaoJxd6A1GDeYuIFxibIHGGdJQLDCs29gLPv0IxhLPnkOxjIPL4Cxzc3ZYFy91RCM+3L0wbjR1BWM82Q8wDhZwB2MY7ncwDiKHYJVn/9FwcrPf4MxzF7JJ0/BOBgaDjB/pgi6gzHMnHAWVzAOY3IB4xBGCKa1+bQOH2rHZzCJ6QkAgWfRNQ==",
        "encoding": "base64",
        "path": [
         "colors",
         "compressed_buffer"
        ]
       },
       {
        "data": "eNpjYGiwZ8AAxIsBAF7EAv0=",
        "encoding": "base64",
        "path": [
         "model_matrix",
         "compressed_buffer"
        ]
       },
       {
        "data": "eNpNk09IVHEQxy/JemlpKYJgqQVJimLVCiLxzXct2EIjCQoq7GASlrAIUmGCRAgFRdEindbFbA0vHYI6FPZmHktJoRIVuBczyv6c8lCUaRDNnJrTm8N3Zj7v9/1OJbcYLq/clfqaKVlqGQ3PP85KV/8L6Wr7+vTXuZt8+OGk1U1r13eS1aoJru/fA9NUcotBrKoI650Z38mdSESpK0My8KWWl1c+Ss2GvNzJr2EqlmT62w2p7X4dlp8ckOG6a/L5x8ZwYH6IP229anUQ23eMrFZNQNndMI32UvnUMKxXZ1Ks6h1spu6iYhTP2K5HvVkeTzVE6b4dcubVXj5yIhGtflYnU9ubuLF9QUZnt0lqMM0f2sdk4s1m+Z2Ms1RapdyXlO+xi+Hf1AgPHkpYHaziZrJaNdS8ZRdMo720qVSA9epMmizNwWbqLrp/L56xXcpAx9+nM8YwM31Q/6khko4c5/+0cqk7Eb09epb7T7foOyyIviPPP8jyyNKY6D/zz+eNfOlWm+hu1vcMLxQmeN3LaqsD/ZLVqqHLPfUwjfZSR3UB1qsz9X3mYDN1F528Hc/YLmWg5Gw6YwyOhxwPOR5yPOR4yPGQ4yHHQ46HHA85HnI85PyC8wvOLzi/4PyC8wvOLzi/4PyC8wvOLzi/4HILl1u43MLlFi63cLmFyy1cbuFyC5dbVP7fHdzdwd0d3N3B3R3c3eEfvcjK8g==",
        "encoding": "base64",
        "path": [
         "origins",
         "compressed_buffer"
        ]
       },
       {
        "data": "eNpNkz0vRFEQhqlEIwqNROIrUQilct6SRCOi8AcIEbuFkmyllIhtN7JUdEKoxJlCYgu7G+WqqPgBKxtEY+bmTPIWkzM3dz6ec96ZTqmMRYVUPi/0e3kSZ0Pr0px70K2VLXHb33x2P4VvMRoxnVJZI7d9eYvazbj01ZfUvoua/v+8egLPtVNndlYxenokE4dX+vFVF7e364b7KXyL0YjxnMj1HlHTemn0uttrYHdtWKYqr2n75RHTs/NSe+9X4yvu4rxWq+jrtX/GjtE7SGKndgd+xa33dO9+Ct//RYxzRK7fOWpaL41exqDB0G61MNgdEbNU/WtiY3VBzJK9HfKbJrsn8v2T9UPmSHY3ZNNshZ/5ipj8XkVu1qaoab00ehmDBgPxCPEI8QjxCPEI8YB4QDxCPEI8QjxCPEJ6CekF0gukF0gvkF4gvUB6gfQC6QXSC6SX0NyC5hY0t6C5Bc0taG5BcwuaW9Dcgua2eMe8O6C9A+0daO9AewfaO/wDaMzjfA==",
        "encoding": "base64",
        "path": [
         "vectors",
         "compressed_buffer"
        ]
       }
      ],
      "model_module": "k3d",
      "model_module_version": "2.6.9",
      "model_name": "ObjectModel",
      "state": {
       "_view_count": null,
       "_view_module": null,
       "_view_module_version": "",
       "_view_name": null,
       "colors": {
        "dtype": "uint32",
        "shape": [
         80,
         2
        ]
       },
       "compression_level": 0,
       "head_color": 255,
       "head_size": 1,
       "id": 4634863208,
       "label_size": 1,
       "labels": [],
       "line_width": 0.01,
       "model_matrix": {
        "dtype": "float32",
        "shape": [
         4,
         4
        ]
       },
       "name": null,
       "origin_color": 255,
       "origins": {
        "dtype": "float32",
        "shape": [
         80,
         3
        ]
       },
       "type": "Vectors",
       "use_head": true,
       "vectors": {
        "dtype": "float32",
        "shape": [
         80,
         3
        ]
       },
       "visible": true
      }
     },
     "97c9963d27d34c2a9aaea67607dbad47": {
      "model_module": "@jupyter-widgets/base",
      "model_module_version": "1.2.0",
      "model_name": "LayoutModel",
      "state": {}
     },
     "97f78b25459e434f9302fa7ee17332ff": {
      "buffers": [
       {
        "data": "eNqL43ZjiAPiSFZXMA5hdEHBMPE4qLpOLzsw7nBzAON2J0cwbnNwQsEwcZg6mL6+Kk0IrtCC4HICGKYOqq91uRIYN69UhuBVKvgxVB1MX8S5PDAOvlgOxn6X68HY+0oLCoaJw9TB9Mk8fQ/Gis9+gLHq878oGCYOUwcApvNyEQ==",
        "encoding": "base64",
        "path": [
         "colors",
         "compressed_buffer"
        ]
       },
       {
        "data": "eNpjYGiwZ8AAxIsBAF7EAv0=",
        "encoding": "base64",
        "path": [
         "model_matrix",
         "compressed_buffer"
        ]
       },
       {
        "data": "eNpNkTFIQmEUhaEk7FFkadTg0FZQo0L1eP+5PCwwHNqsIQoC28RsDKKgwZaGBqUICoKgpSXQpf47imBTS1tREg4WDvkwKsh/6m5nOPfj8p3kpU3+syJfJwrcjjv0+JvmIy/PXhDk1p50oZxnq0HUTu86JvuLLk10DcJ0rpZj1F47gLk99s3S0LTHtzrK8W2bGjslfhmPcm3KofdWhg9vInzRC6oP1/T5VoRXPKK7xVXH5PCDS0FrAKZT2o9RaC8Hc7vxPUcf5QoM87k+0/nT44VQVlfXbQp8lXgJm7oedujTyvLkSUY3u0Gp1Jv2IaMDP0T31YRj8uirS32tfphO5DRGzZ4czO3YyHzn/woMU/CV4CvBV4KvBF8JvhJ8JfhK+IHwA+EHwg+EHwg/EH4g/CD5vyPEjhA7QuwIsSPEjvgDj3fwiQ==",
        "encoding": "base64",
        "path": [
         "origins",
         "compressed_buffer"
        ]
       },
       {
        "data": "eNpNkbFKA0EURXu3MGDq+QHrLYT3bjBfkB8Qi7T+gZUg6awCfoGthRBCYGfHBBG3WAsrOwtT2GjrWmyRecIjt5oLc9+ZN/eGssDp3wKhLNLn1b2edxW+bgfp8uBbrptH3MyOTEfX2VO7x2Z89udihPn6ASfDuzrfwTzmDS8LXb4/IZ/15OxX3o4b9M8r09G13bnHuD6bmcmZ3Xb8v+e0+oh5D9g+tleeV+MYb3PYy2vbIp+mo2t7wz32B5/NzORM4gvxhfhCfCG+EF+IL8QXykcpH6V8lPJRykcpH6V8lPLRsO8R1COoR1CPoB5BPWIHWhgaHA==",
        "encoding": "base64",
        "path": [
         "vectors",
         "compressed_buffer"
        ]
       }
      ],
      "model_module": "k3d",
      "model_module_version": "2.6.9",
      "model_name": "ObjectModel",
      "state": {
       "_view_count": null,
       "_view_module": null,
       "_view_module_version": "",
       "_view_name": null,
       "colors": {
        "dtype": "uint32",
        "shape": [
         44,
         2
        ]
       },
       "compression_level": 0,
       "head_color": 255,
       "head_size": 1,
       "id": 4458045904,
       "label_size": 1,
       "labels": [],
       "line_width": 0.01,
       "model_matrix": {
        "dtype": "float32",
        "shape": [
         4,
         4
        ]
       },
       "name": null,
       "origin_color": 255,
       "origins": {
        "dtype": "float32",
        "shape": [
         44,
         3
        ]
       },
       "type": "Vectors",
       "use_head": true,
       "vectors": {
        "dtype": "float32",
        "shape": [
         44,
         3
        ]
       },
       "visible": true
      }
     },
     "981708b176db4446ba7801f0dbd25586": {
      "buffers": [
       {
        "data": "eNoDAAAAAAE=",
        "encoding": "base64",
        "path": [
         "colors",
         "compressed_buffer"
        ]
       },
       {
        "data": "eNpjYGiwZ8AAxIsBAF7EAv0=",
        "encoding": "base64",
        "path": [
         "model_matrix",
         "compressed_buffer"
        ]
       },
       {
        "data": "eNpNk09IVHEQxy/JemlpKYJgqQVJimLVCiLxzXct2EIjCQoq7GASlrAIUmGCRAgFRdEindbFbA0vHYI6FPZmHktJoRIVuBczyv6c8lCUaRDNnJrTm8N3Zj7v9/1OJbcYLq/clfqaKVlqGQ3PP85KV/8L6Wr7+vTXuZt8+OGk1U1r13eS1aoJru/fA9NUcotBrKoI650Z38mdSESpK0My8KWWl1c+Ss2GvNzJr2EqlmT62w2p7X4dlp8ckOG6a/L5x8ZwYH6IP229anUQ23eMrFZNQNndMI32UvnUMKxXZ1Ks6h1spu6iYhTP2K5HvVkeTzVE6b4dcubVXj5yIhGtflYnU9ubuLF9QUZnt0lqMM0f2sdk4s1m+Z2Ms1RapdyXlO+xi+Hf1AgPHkpYHaziZrJaNdS8ZRdMo720qVSA9epMmizNwWbqLrp/L56xXcpAx9+nM8YwM31Q/6khko4c5/+0cqk7Eb09epb7T7foOyyIviPPP8jyyNKY6D/zz+eNfOlWm+hu1vcMLxQmeN3LaqsD/ZLVqqHLPfUwjfZSR3UB1qsz9X3mYDN1F528Hc/YLmWg5Gw6YwyOhxwPOR5yPOR4yPGQ4yHHQ46HHA85HnI85PyC8wvOLzi/4PyC8wvOLzi/4PyC8wvOLzi/4HILl1u43MLlFi63cLmFyy1cbuFyC5dbVP7fHdzdwd0d3N3B3R3c3eEfvcjK8g==",
        "encoding": "base64",
        "path": [
         "origins",
         "compressed_buffer"
        ]
       },
       {
        "data": "eNpNkz0vRFEQhqlEIwqNROIrUQilct6SRCOi8AcIEbuFkmyllIhtN7JUdEKoxJlCYgu7G+WqqPgBKxtEY+bmTPIWkzM3dz6ec96ZTqmMRYVUPi/0e3kSZ0Pr0px70K2VLXHb33x2P4VvMRoxnVJZI7d9eYvazbj01ZfUvoua/v+8egLPtVNndlYxenokE4dX+vFVF7e364b7KXyL0YjxnMj1HlHTemn0uttrYHdtWKYqr2n75RHTs/NSe+9X4yvu4rxWq+jrtX/GjtE7SGKndgd+xa33dO9+Ct//RYxzRK7fOWpaL41exqDB0G61MNgdEbNU/WtiY3VBzJK9HfKbJrsn8v2T9UPmSHY3ZNNshZ/5ipj8XkVu1qaoab00ehmDBgPxCPEI8QjxCPEI8YB4QDxCPEI8QjxCPEJ6CekF0gukF0gvkF4gvUB6gfQC6QXSC6SX0NyC5hY0t6C5Bc0taG5BcwuaW9Dcgua2eMe8O6C9A+0daO9AewfaO/wDaMzjfA==",
        "encoding": "base64",
        "path": [
         "vectors",
         "compressed_buffer"
        ]
       }
      ],
      "model_module": "k3d",
      "model_module_version": "2.6.9",
      "model_name": "ObjectModel",
      "state": {
       "_view_count": null,
       "_view_module": null,
       "_view_module_version": "",
       "_view_name": null,
       "colors": {
        "dtype": "uint32",
        "shape": [
         0
        ]
       },
       "compression_level": 0,
       "head_color": 255,
       "head_size": 1,
       "id": 4717326032,
       "label_size": 1,
       "labels": [],
       "line_width": 0.01,
       "model_matrix": {
        "dtype": "float32",
        "shape": [
         4,
         4
        ]
       },
       "name": null,
       "origin_color": 255,
       "origins": {
        "dtype": "float32",
        "shape": [
         80,
         3
        ]
       },
       "type": "Vectors",
       "use_head": true,
       "vectors": {
        "dtype": "float32",
        "shape": [
         80,
         3
        ]
       },
       "visible": true
      }
     },
     "985d92cba5b84ae28c67a7efab6ea876": {
      "buffers": [
       {
        "data": "eNoDAAAAAAE=",
        "encoding": "base64",
        "path": [
         "colors",
         "compressed_buffer"
        ]
       },
       {
        "data": "eNpjYGiwZ8AAxIsBAF7EAv0=",
        "encoding": "base64",
        "path": [
         "model_matrix",
         "compressed_buffer"
        ]
       },
       {
        "data": "eNpNkcENwzAMAzVCRskEFEfrKJqk7SgapRVgO/cIfI+IR4AR8Y3wJ6L/3/DrDdbDzofnrcUFNnhyCjmFnHMLbvC1srbLcBkuw2W4DJfhMlybLz98r6zdYfN02Fxgg+c9LPyTuAU3eDpsvskr6/QR+gh9hD5CH6GP0EfoI/QR+gh90GHuzy6JXRK7JHZJ7JLYJbFLYpfELnAVXAVXwVVwFVwFV8HFnEZOI6eR0/kDbuG3nQ==",
        "encoding": "base64",
        "path": [
         "positions",
         "compressed_buffer"
        ]
       }
      ],
      "model_module": "k3d",
      "model_module_version": "2.6.9",
      "model_name": "ObjectModel",
      "state": {
       "_view_count": null,
       "_view_module": null,
       "_view_module_version": "",
       "_view_name": null,
       "color": 10075135,
       "colors": {
        "dtype": "uint32",
        "shape": [
         0
        ]
       },
       "compression_level": 0,
       "id": 4713015376,
       "mesh_detail": 2,
       "model_matrix": {
        "dtype": "float32",
        "shape": [
         4,
         4
        ]
       },
       "name": null,
       "opacity": 1,
       "point_size": 0.1,
       "positions": {
        "dtype": "float32",
        "shape": [
         68,
         3
        ]
       },
       "shader": "3dSpecular",
       "type": "Points",
       "visible": true
      }
     },
     "9870a006b9684b5b82b480cdd7b62969": {
      "buffers": [
       {
        "data": "eNoDAAAAAAE=",
        "encoding": "base64",
        "path": [
         "colors",
         "compressed_buffer"
        ]
       },
       {
        "data": "eNpjYGiwZ8AAxIsBAF7EAv0=",
        "encoding": "base64",
        "path": [
         "model_matrix",
         "compressed_buffer"
        ]
       },
       {
        "data": "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",
        "encoding": "base64",
        "path": [
         "origins",
         "compressed_buffer"
        ]
       },
       {
        "data": "eNpdmmvIZ1UVxvNLWqYJTRlCUowWmiaNkph7PVaQRpRZYBcFUz9MyCQEg0Yq2EBS3scUbFCnKVFERsdCK/Os5SVHG50KRboYRlFqkGShZiE07XVm7el33g+H/+Z992Wtvdde6znneU5ad5bO+NDe8fbHb4p9Vp+rLfeYv/DfW0bbsn3S7j7KPvvp7/bN/1wW+eTf+v/msRdf+jb1J87Zsi3et+6dsr+c6j96z32jbdmuPso+NZZzKuc88vI327UXfS+uPvrCeOngQ+2tF26MfNKWblOkPTlfnzdyzq/tv9b647d/YsdoW7arj7JPjVWOrTmVc9ZayrV627GuY13Huo51Hes61nWs61jXsa6Pdbvvjv0M7GdgPwP7GdjPwH4G9tPHfuZ8ON/A+QbON8b5PnHaVn35l8/6aRtOiMvu/KH2eepg3/fSE0fbsl19LPvc8uJaXXTedfHplw+Jf23eoP7EB484LvdOd609OfLp82r41tcT9lTjXKvPHE81dh5fcyrnrLWUax30yBv14pfuzt849k3v0M0PbM3f+Pe5RyvPsf/m2vN+5zx5DrlOPrfeeYlyH/tv7LvjauX59d/RtmxXH2WfGjuPrzln22ot5Vplg9KGsk1p2zde3WoXnHVfbFp9QLz2z+327vX3zHuV+9f3MXIPx96n72PNfG746/HqTxxx/Y2x6aRTtPbpy3zXxjtG27JdfZR9auw8vuac97PWUq5VNsx7WLYpbXt27a/a+V95KD61Za844eS/tWuPuj+eP+Atcd+Gve3sz/w0Dj/7sMjz73EQGQMjdnJPxp7lk3Z1+yJtO/3AzdYff/9N20fbsl19lH1qrHJszbn7nHavpVyrbFDaULYpbSublTb39gT7J9jvsN9hv8N+h/0O+x32O+x32O+w32G/w36H/RPsn4b9/SwcceKIE0ecBOIkECeBOAnESSBOAnESiJNAnDjixBEnPuIkYxr3LnDvAvcucO8C9y5w7xb7jnsXuHeBexe4d4F7F7h3Me5dzxWBvBTIS4G8FMhLi1yPvBTIS4G8FMhLMfJSnhXyZyB/BvJnjPx5xhe3K+vBw6f8xqtt2X78c1eqP7H/eZN/fPuNuvqZ9bHf3k/sOZ9c48mH7tW5d77q+Rz84IP603FH+Dnv3SuqbdmuPpZ9auyc32tO5Zy1lnKtjz4lPbnmB3HmNTe7P/tZrfrdbfH9NT/x7NvHzDaM2pJ1ZsRO7mOvQxp1q9cnoV5q1OzqM/ersXNtqDmVc9Zas21lg9KGsk1p23XH7rJt59wfX3jXJu9xqbw7Gaf9DJR3J+M3fR3nMWpjrjViP+3p90Hj/vR7Itx/jVxWfeZ+NXauHzXnbH+tNe9t2aC0oWxT2lY2K22+5tYr7JMffjT67568kjnm5Q/cbd86/mfRf737bztvuH/e8zzDfpaR5zhqfu7huNNpG2vcOM+MoWpbtlnLauzsV805n0utNcdW2TCfRdmmtK1sVtpcvih92f76aGue3xGrLrnKN3/+123VSz+Prz60xX/7nVfaUVc8OsdSxniP9cg4zzjt8RoZqwPX5N6OvJX7P2zPZ8Ry7YWNfak+852pscqxNed8XrWWcq2yQWlD2TbHWNmstLl8UfrS2xP8muDXBL8cfjn8cvjl8Mvhl8Mvh18Ovxx+Ofxy+OXwa4JfE/yahl95ZohDRxw64tARh444DMRhIA4DcbjwE3EYiMNAHAbi0BGHjjh0xKEjDn3EYb9rjvwQyA+B/BDID4H8EMgPgfywwAfID4H8EMgPgfwQyA+B/BDIDz7yQ891gTwcyMOBPBzIw4E8HMjDi/cW5OFAHg7k4UAeDuThQB6OkYdxrllTAnUqUKcCdSpQpwJ1KlCnAnUqUKf25LW8Z6ibMepmYoHnnjk94sTXpoG5En+NO5Fjbr3rcZ29epXnU23LdvWx7FNjlWNrTuWcN9+7QVdduTlO++5z00HbN6o/ccy21znfIwfuy9o/7mX6fOUfH9OTpx7j+VTbsl195vpdY+f3rppzxge1lnKtskFpw9fPPFK5d4cc+sh0+cc+Mr8TPfyGP0xpb2KztDnnSGyW84x30HwfHVg1cc/IJRkr/T1WeL/VeMeuPnNdr7Hzu1zNqZyz1pptLhvmfSvblLaVzUqbd6173tbe83CsWX3v1HGwEsMnLu74WInhEy/nOSSGz7PIvRm4arxbpw0Dg6edI0fmXR25AXlifiepPnO9r7GzzzXn7FetNZ9F2TDHQ9mmtK1sVtpcvih9+cefL7b11z0Wr1x/+9TzrGXtyLzb869l7ch83O+SZe3IPJ1xN2I6Y2Hck/EtIfd8vHOkzcSHxIHEe8R1NXb2t+acz7HWmmOvbJjPrmxT2lY2a64hu31R+lI+Kn389vlb2y927oz+O72w+YH2+9t2Rv+dDj/w6fbj83ZG/516HLQLDtu5+272O9fvXuS9y3vQ70PkXRjfUfIsiIuIf4hziGeIW4hPas75fGut+R6WDXMuKNvmWC2blTaXL0pfykelj/nA3wn+TvB3gr8Ofx3+Ovx1+OvwN1Y8w1+Hvw5/Hf46/HX4O8HfCf5O8Hca/vazdsSzI54d8eyIZ0c8B+I5EM+BeA7E80o8NOI5EM+BeA7EcyCeHfHsiGdHPDvi2Uc897vsyEuBvBTIS4G8FMhLgbwUyEuBvLTy+8LIS4G8FMhLgbwUyEuBvBTIS4G85CMv9dwbqBeBehGoF4F6EagXgXoRqBcrv4eOehGoF4F6EagXgXoRqBeBehGjXvTaF6i/gfobqL+B+huov4H6G6i/gfobqL+B+huovzHqb+4Z8EYAbwTwRgBvBPBGAG8E8EbswRv/xzMNeMaAZwx4xoBnDHjGgGcMeKYBzzTgGX4XN+AZA54x4BkDnjHgGQOeMeAZA54x4JkGPNOAZxrwTAOeMeAZA54x4BkDnjHgGQOeMeAZA54x4BkDnmnAMw14pgHPNOCZBjzTgGcMeMaAZwx4xoBnDHjGgGcMeMaAZwx4xoBnDHjGgGca8EwDnmnAMw14pgHPNOCZBjxjwDMGPGPAMwY8Y8AzBjxjwDMGPGPAMwY8Y8AzBjzTgGca8EwDnmnAMw14pgHPNOCZBjxjwDMGPGPAMwY8Y8Az4kP/ed6MY9493n/gmQY804BnGvBMA55pwDMNeKYBzzTmMuZT1gDWNtbylTgG/jr8dfjr8Nfhr8PfCf5O8HeCvwPPNOCZBjzTgGca8EzjeybfXfleze8C/N6x8psO4jkQz4F4DsRzIJ4d8eyIZ0c8O+J54JkGPNOAZxrwTAOeMX6z5jdxfq8nx7CSI0FeCuSlQF4K5KVAXgrkpUBeCuSlgWca8EwDnmnAMw14xoBnjDwoudWVnC7qRaBeBOpFoF4E6kWgXgTqxcAzDXimAc8Y8IwBzxjwjAHPGPCMAc8Y8IwBzxjwjAHPNOCZBjxjwDMGPGPAMwY8Y8AzBjzTwHcY+I5F/gffYeA7FnUBfIfAd4j1AnyHge9Y1BHwHQa+w8B3GPgOA98h8B0C3yHwHQLfIfAdAt9h4DsMfIeB7zDwHQa+w8B3GPgOA98h8B0C3yHwHQLfIfAdAt8h8B0C32HgOwx8h4HvMPAdizoIvsPAdyzqI/gOge8Q6wf4DoHvWNRT8B0C37Gos+A7DHzHov6C7zDwHQa+w8B3GPgOA98h8B0C3yHwHQLfIfAdAt8h8B0C3yHwHQLfYeA7DHyHge8w8B0GvsPAdxj4DgPfsdD+ULNAPmrF9yqHXw6/HH45/HL45fBrgl8T/Bp8h4HvWOAT8B0GvmOBW8B3CHzH4lsU+A6B71jgHPAdAt+xwD/gOwx8xwIXge8w8B0GvsPAdxj4DgPfIfAdAt8h8B0C3yHwHQLfIfAdAt9h4DsMfIeB7zDwHQa+w8B3GPgOA98h8B0C3yHwHQLfIfAdAt9h4DsMfIeB71jgOvAdBr5jgffAdwh8h4gDwXcY+I4FPgTfYeA7DHotQa8l6LUEvZag1xL0WoJeS9BrCXotQa8l6LUEvZag1xL0WoJeS9BrCXotQa+1yO3Qawl6LUGvJei1Fjkfei1BryXotQS9lqDXEvRagl5L0GsJei1BryXotQS9lqDXEvRagl5L0GsJei1BryXotQS9lqDXEvRagl5L0GsJei1BryXotQS9lqDXEvRagl5L0GsJei1BryXotQS9lqDXEvRaC10q9XrUa6zgeRz2O+x32O+w32G/w/4J9g+9lqDXEvRagl5L0GsJei1BryXotQS9lqDXEvRagl5L0GsJei1BryXotQS9lqDXEvRai1oGvZag1xL0WoJea1HjoNcS9FqCXkvQawl6LUGvJei1BL2WoNcS9FqCXkvQawl6LUGvJei1BL2WoNcS9Fp79Ep5BtBLC3ppQS8t6KUFvbSglxb00oJeWtBLC3ppQS8t6KUFvbSglxb00oJeWtBLC3ppQS8t6KUFvbSglxb00gttL/VfK/hkx7qOdR3rOtbdw4VDLy3opQW9tKCXFvTSgl5a0EsLemlBLy3opQW9tKCX1v8AYakgug==",
        "encoding": "base64",
        "path": [
         "vectors",
         "compressed_buffer"
        ]
       }
      ],
      "model_module": "k3d",
      "model_module_version": "2.6.9",
      "model_name": "ObjectModel",
      "state": {
       "_view_count": null,
       "_view_module": null,
       "_view_module_version": "",
       "_view_name": null,
       "colors": {
        "dtype": "uint32",
        "shape": [
         0
        ]
       },
       "compression_level": 0,
       "head_color": 255,
       "head_size": 1,
       "id": 4634986816,
       "label_size": 1,
       "labels": [],
       "line_width": 0.01,
       "model_matrix": {
        "dtype": "float32",
        "shape": [
         4,
         4
        ]
       },
       "name": null,
       "origin_color": 255,
       "origins": {
        "dtype": "float32",
        "shape": [
         1008,
         3
        ]
       },
       "type": "Vectors",
       "use_head": true,
       "vectors": {
        "dtype": "float32",
        "shape": [
         1008,
         3
        ]
       },
       "visible": true
      }
     },
     "9873be52b05c49ce9b6df77a66ac133f": {
      "buffers": [
       {
        "data": "eNot0vlP1gUcwPF3rVar1Wq14vR5Hh4eBOSSQy45fZ7v96spoRIiIqJAHCKH3Pf9cD7fLLMss8yyzLLM0sy01KJIo1BDEQUEfWBrba2ttbbW1sfVD6//4JV2l5X0u62su8fG+nttZN6nkHW/wsYHFLIfVMh5SGXzwyq5j6jkPaqS/5hKweMahU9oFD2pUeyiUeKmsc1do9RDo8xTo9ygUWHUqDRpVJk1qr01aiwatT4adb4a9X4aDf4qDQEqjYEqTUEqzcEqLSEKLaEKrWEKbeEK7RE22iNtdETZ6Iy20hljpStWxC2jO14kJGNPFEnJ9CQn0WNNoteWSK8i1AT6NLE8nr4V8fSvFKvi6E8RTy9lIFWsjmVgjVgbw2CaeCaawXSREcXgepEZiWODyFqCY6PIjsCxSeSE49gstoThyA1DzwtFzxfPLkYvEIWiKAS9WGwNRi8R24LQS0WZKA9Er7gjAH27qBRVi9CrRY0/eq2oE/V+6A2iUTT5ojeLloXoraJNtPugd/yv04LeJbqF3Ru9R/Sa0fvMOPrFgBeOQeEQugnHc2KHicHnxQvG/+wULxoY2CVeEi+L3Qb6XxGvij0L6HtN7BWvG+h9Q+wTbxrouWO/AftbRuxvG+k+YKL7HfGuF10Hveh8z0znIW863rfQ8YGF9sM+YiFtH/rS+pEfrUf8afk4gOajgTR9EkTTp8E0HltMw/FQ6o+HU/9ZBHUnIqn9PIqakzFUfxFL1ak4Kk8lsP10IhVfJlP+lZWyMwqlZ+Xj2RWUnFvJ1q9TKP4mlaKhNRQOpVHwbTr532WQN5xJ7nAWW77PJud8Dpsu5JJ9IZ+sHwrYMFJE5kgJGT+Wsu6nctJHK0kbrWbtxVpWX2wg9VITKZdbWXW5nad+7mL5mB1trA/lygC2KzrLru4g6epOEsd3ET++m6XX9hB7bS/RE/uInNjPkusHCL9+kNAbhwi5cZjgySMETh5l0dQx/KZO4Dt1Ep/p01imz2CePofp5hDGm8MYZs7jOTOCx8wo7rOXcJsdw3V2HNdbE7jcmhTTuNyexfW2U8zj5vwFd+eveDh/w9P5Owvm/sA49yemub8wz/+NZf4f/gXLh0p6",
        "encoding": "base64",
        "path": [
         "color_map",
         "compressed_buffer"
        ]
       },
       {
        "data": "eNpjYFBwZMAABxwwxRqwidkDAFK8AuE=",
        "encoding": "base64",
        "path": [
         "model_matrix",
         "compressed_buffer"
        ]
       },
       {
        "data": "eNrl1U1IKlEUB3ASxIVuDF1IMMvBFiJEDGGEUQlRNGGRKEkRFgNDKOZH4252Tn4kSgwMJVEYDkZJRhFYkUQSQwTiomGWA+FCyY0uRLDnU8R8qwePt/Lu7o/LOecPl3tx/N9XlmGyvXKWSKZSycTZD/IHQ+FIJBwK+rvmcthtVqvN7nD9OLhq0MOw3rDaW1EDQRr8P69iuVzsgdccxxcKPJd77cj51d0Tk+e4PPN0d3XetsPjWCKVzmTSqUTs+LBFxJ4/EIqQFEVGQgH/HvHbsF2X025FEQS12p2uXax1cGvDbIB1Wq0ONpg3ttr1VhZnJyEVCKqgydnFlU7nMTUIKBQAqB7rGVEulcr/Kly93rtn+WKlVqsUebYj6ee3D/6rWv3iP96e0y2iL67vs3m+VOLz2fvrC7pJJHV0Ek+mGZZl0sn4yRFF4riX8PmDYTIaj0fJcNDvI7w47sHcLocNtZhMFtTmcLkxD46jyOa6Sa+DlEpIpzetbyJos6BxeWFGowJkMkClmVlYNrYa6yZGh4FBsXgQGB6d0HUmVAJyiUgkkQPK3ixC4R9hS5X693e9UupKjvss1xqNWvmTy7Xl9uHlnStUG41qgXt/ebhtUoy+vHlkuFK9XuKYx5tLOoYfkFT0lE5l2EqFzaTo0yhFHngJwhfYj1BxholTkf2AjyC8HgxzO3esiAmCTIh1x+nGMM82iljWjLBWKZEotbBxzYKg27jZuDQ/BYEyoVAGQlPzS0Zzs/Hc9PgIqBALBGIFODI+PdeeUA0OSUUCgUg6BKq7SWQS4cCAUCLr57z9dp/78L3qk//oF5tnwC4=",
        "encoding": "base64",
        "path": [
         "voxels",
         "compressed_buffer"
        ]
       }
      ],
      "model_module": "k3d",
      "model_module_version": "2.6.9",
      "model_name": "ObjectModel",
      "state": {
       "_view_count": null,
       "_view_module": null,
       "_view_module_version": "",
       "_view_name": null,
       "color_map": {
        "dtype": "uint32",
        "shape": [
         256
        ]
       },
       "compression_level": 0,
       "id": 4511880752,
       "model_matrix": {
        "dtype": "float32",
        "shape": [
         4,
         4
        ]
       },
       "name": null,
       "opacity": 1,
       "outlines": false,
       "outlines_color": 0,
       "type": "Voxels",
       "visible": true,
       "voxels": {
        "dtype": "uint8",
        "shape": [
         8,
         12,
         20
        ]
       },
       "wireframe": false
      }
     },
     "987a08a8c9754cfda360f81394feef73": {
      "model_module": "@jupyter-widgets/base",
      "model_module_version": "1.2.0",
      "model_name": "LayoutModel",
      "state": {}
     },
     "98987b684ba0426bb16cc3ad836a8d9e": {
      "model_module": "@jupyter-widgets/base",
      "model_module_version": "1.2.0",
      "model_name": "LayoutModel",
      "state": {}
     },
     "98ad25b0da824a83a646ca1a7f5e5e69": {
      "buffers": [
       {
        "data": "eNq7PcOEAQAFoAGo",
        "encoding": "base64",
        "path": [
         "color_map",
         "compressed_buffer"
        ]
       },
       {
        "data": "eNpjYFBwZMAABxwwxRqwidkDAFK8AuE=",
        "encoding": "base64",
        "path": [
         "model_matrix",
         "compressed_buffer"
        ]
       },
       {
        "data": "eNrllUEOACEMAjv//7R7XQGj0Vs5TqItWLXqXnxSMlFQ6Jhba2u8l9TQ/vgpMlDo2O5+KauDXNIRLb2ZnkHhDdvPJWYg3mo1aj7m5I3HOsigXAT+fnTz222eG75XTf6jAc5KA/E=",
        "encoding": "base64",
        "path": [
         "voxels",
         "compressed_buffer"
        ]
       }
      ],
      "model_module": "k3d",
      "model_module_version": "2.6.9",
      "model_name": "ObjectModel",
      "state": {
       "_view_count": null,
       "_view_module": null,
       "_view_module_version": "",
       "_view_name": null,
       "color_map": {
        "dtype": "uint32",
        "shape": []
       },
       "compression_level": 0,
       "id": 4465149328,
       "model_matrix": {
        "dtype": "float32",
        "shape": [
         4,
         4
        ]
       },
       "name": null,
       "opacity": 1,
       "outlines": false,
       "outlines_color": 0,
       "type": "Voxels",
       "visible": true,
       "voxels": {
        "dtype": "uint8",
        "shape": [
         8,
         12,
         20
        ]
       },
       "wireframe": false
      }
     },
     "99293a88456e4559ba03e4c4174af4e0": {
      "buffers": [
       {
        "data": "eNoDAAAAAAE=",
        "encoding": "base64",
        "path": [
         "colors",
         "compressed_buffer"
        ]
       },
       {
        "data": "eNpjYGiwZ8AAxIsBAF7EAv0=",
        "encoding": "base64",
        "path": [
         "model_matrix",
         "compressed_buffer"
        ]
       },
       {
        "data": "eNpN0VENwzAMBuFAGJQisA1tUIxkK5RAmbIq7ZeXnqL0dNI/xjr9HWN+/zgKfn/g4E0+3PDrvFzrrLvNDRe8/I2/8Tf+2wm/6uHjvLy7oWgoGoqGoqFoKBqKhqKhaNh8yOfl3T2bV8/mhgte35uDN8m/8IRXz+ZDPi/X3RP0BD1BT9AT9AQ9QU/QE/QEPcFeyV7JXsleyV7JXsleyV7JXsleyV7JXjQ0DU1D09A0NA1NQ9PQNDQN+if+iX/in/gn/pk/dr6bDQ==",
        "encoding": "base64",
        "path": [
         "positions",
         "compressed_buffer"
        ]
       }
      ],
      "model_module": "k3d",
      "model_module_version": "2.6.9",
      "model_name": "ObjectModel",
      "state": {
       "_view_count": null,
       "_view_module": null,
       "_view_module_version": "",
       "_view_name": null,
       "color": 10075135,
       "colors": {
        "dtype": "uint32",
        "shape": [
         0
        ]
       },
       "compression_level": 0,
       "id": 4526114576,
       "mesh_detail": 2,
       "model_matrix": {
        "dtype": "float32",
        "shape": [
         4,
         4
        ]
       },
       "name": null,
       "opacity": 1,
       "point_size": 0.1,
       "positions": {
        "dtype": "float32",
        "shape": [
         80,
         3
        ]
       },
       "shader": "3dSpecular",
       "type": "Points",
       "visible": true
      }
     },
     "9965f6fabc1f42e08cccad300277ff6d": {
      "model_module": "@jupyter-widgets/base",
      "model_module_version": "1.2.0",
      "model_name": "LayoutModel",
      "state": {}
     },
     "9ad8df5c82954d37af7f62fa46c8433c": {
      "model_module": "@jupyter-widgets/base",
      "model_module_version": "1.2.0",
      "model_name": "LayoutModel",
      "state": {}
     },
     "9aec90c4e70e4d8f864290b8bb18ec6d": {
      "buffers": [
       {
        "data": "eNoDAAAAAAE=",
        "encoding": "base64",
        "path": [
         "colors",
         "compressed_buffer"
        ]
       },
       {
        "data": "eNpjYGiwZ8AAxIsBAF7EAv0=",
        "encoding": "base64",
        "path": [
         "model_matrix",
         "compressed_buffer"
        ]
       },
       {
        "data": "eNpNjtsNACAIA5msZTRGcRJZzfhA+mG8hPZSs3Azz/s2xxRGs7N55M1Vt/j8s7s/w+ahnC9XHogH4oF4IB7pnlvtp+yn7OcCYAMzRQ==",
        "encoding": "base64",
        "path": [
         "positions",
         "compressed_buffer"
        ]
       }
      ],
      "model_module": "k3d",
      "model_module_version": "2.6.9",
      "model_name": "ObjectModel",
      "state": {
       "_view_count": null,
       "_view_module": null,
       "_view_module_version": "",
       "_view_name": null,
       "color": 10075135,
       "colors": {
        "dtype": "uint32",
        "shape": [
         0
        ]
       },
       "compression_level": 0,
       "id": 4701904528,
       "mesh_detail": 2,
       "model_matrix": {
        "dtype": "float32",
        "shape": [
         4,
         4
        ]
       },
       "name": null,
       "opacity": 1,
       "point_size": 0.1,
       "positions": {
        "dtype": "float32",
        "shape": [
         20,
         3
        ]
       },
       "shader": "3dSpecular",
       "type": "Points",
       "visible": true
      }
     },
     "9ba92a883c23412c8d2111a14d6e8638": {
      "buffers": [
       {
        "data": "eNoDAAAAAAE=",
        "encoding": "base64",
        "path": [
         "colors",
         "compressed_buffer"
        ]
       },
       {
        "data": "eNpjYGiwZ8AAxIsBAF7EAv0=",
        "encoding": "base64",
        "path": [
         "model_matrix",
         "compressed_buffer"
        ]
       },
       {
        "data": "eNpN0VENwzAMBuFAGJQisA1tUIxkK5RAmbIq7ZeXnqL0dNI/xjr9HWN+/zgKfn/g4E0+3PDrvFzrrLvNDRe8/I2/8Tf+2wm/6uHjvLy7oWgoGoqGoqFoKBqKhqKhaNh8yOfl3T2bV8/mhgte35uDN8m/8IRXz+ZDPi/X3RP0BD1BT9AT9AQ9QU/QE/QEPcFeyV7JXsleyV7JXsleyV7JXsleyV7JXjQ0DU1D09A0NA1NQ9PQNDQN+if+iX/in/gn/pk/dr6bDQ==",
        "encoding": "base64",
        "path": [
         "positions",
         "compressed_buffer"
        ]
       }
      ],
      "model_module": "k3d",
      "model_module_version": "2.6.9",
      "model_name": "ObjectModel",
      "state": {
       "_view_count": null,
       "_view_module": null,
       "_view_module_version": "",
       "_view_name": null,
       "color": 10075135,
       "colors": {
        "dtype": "uint32",
        "shape": [
         0
        ]
       },
       "compression_level": 0,
       "id": 4560932112,
       "mesh_detail": 2,
       "model_matrix": {
        "dtype": "float32",
        "shape": [
         4,
         4
        ]
       },
       "name": null,
       "opacity": 1,
       "point_size": 0.1,
       "positions": {
        "dtype": "float32",
        "shape": [
         80,
         3
        ]
       },
       "shader": "3dSpecular",
       "type": "Points",
       "visible": true
      }
     },
     "9c4359759dae411bbe41ea0c3f92ada0": {
      "model_module": "@jupyter-widgets/base",
      "model_module_version": "1.2.0",
      "model_name": "LayoutModel",
      "state": {}
     },
     "9ca0795b14144b56867f17697662074c": {
      "model_module": "k3d",
      "model_module_version": "2.6.9",
      "model_name": "PlotModel",
      "state": {
       "_backend_version": "2.6.9",
       "_dom_classes": [],
       "_view_count": null,
       "antialias": 3,
       "axes": [
        "x",
        "y",
        "z"
       ],
       "background_color": 16777215,
       "camera": [
        10.284874878907916,
        -15.489812315567907,
        1.0059874815950598,
        -0.02499999664723873,
        -0.02500000223517418,
        -0.025000005960464478,
        0,
        0,
        1
       ],
       "camera_auto_fit": true,
       "camera_no_pan": false,
       "camera_no_rotate": false,
       "camera_no_zoom": false,
       "clipping_planes": [],
       "colorbar_object_id": -1,
       "fps_meter": false,
       "grid": [
        -1,
        -1,
        -1,
        1,
        1,
        1
       ],
       "grid_auto_fit": true,
       "grid_visible": true,
       "height": 512,
       "layout": "IPY_MODEL_97c9963d27d34c2a9aaea67607dbad47",
       "lighting": 1,
       "menu_visibility": true,
       "object_ids": [
        4634967008
       ],
       "rendering_steps": 1,
       "screenshot": "",
       "screenshot_scale": 2,
       "time": 0,
       "voxel_paint_color": 0
      }
     },
     "9e5ea23b0ca9490bbbb9b0b955fdd16f": {
      "model_module": "@jupyter-widgets/base",
      "model_module_version": "1.2.0",
      "model_name": "LayoutModel",
      "state": {}
     },
     "9e608093e0344a45b0f0347b036fb533": {
      "model_module": "@jupyter-widgets/output",
      "model_module_version": "1.0.0",
      "model_name": "OutputModel",
      "state": {
       "layout": "IPY_MODEL_21de093c932e4d3ba187f4ee9327bddc",
       "outputs": [
        {
         "data": {
          "application/vnd.jupyter.widget-view+json": {
           "model_id": "b0a4d446cf70432192a4e3ed530e2015",
           "version_major": 2,
           "version_minor": 0
          },
          "text/plain": "Plot(antialias=3, axes=['x', 'y', 'z'], background_color=16777215, camera=[4.5, 4.5, 4.5, 0.0, 0.0, 0.0, 1.0, …"
         },
         "metadata": {},
         "output_type": "display_data"
        }
       ]
      }
     },
     "9ef65c22d39f4781a7b75aa84723c386": {
      "buffers": [
       {
        "data": "eNpVzrFLAnEcBXADZ2ktQY/iCANR8ZasocHOG4ULXASV20Shm+RoOCHF5LC/QCW3RhdbWwWn2nKKMA78F0RI3u/ewW/4LI/3fXxtxYjYB41YCe6PihLmdtDzzAI867fg5nVoxw2oRO8kzNnjHXde7LTQzMKoroFXvoGupoN1XJIwZ4933Al3+6rwFOheCE5KaGWAfxHzsMc77gS7w3FCmCZhMBN6b2fwuMiB+dmRMGePd9zhrju/BOddg4ePItRWFlx/T+Bk40uYs8c77nDXWlaBf12tXyH++wXn/k7CnD3ecUf5WcLp3xZUfy9hzt4/1oTPOQ==",
        "encoding": "base64",
        "path": [
         "colors",
         "compressed_buffer"
        ]
       },
       {
        "data": "eNpjYGiwZ8AAxIsBAF7EAv0=",
        "encoding": "base64",
        "path": [
         "model_matrix",
         "compressed_buffer"
        ]
       },
       {
        "data": "eNpNk09IVHEQxy/JemlpKYJgqQVJimLVCiLxzXct2EIjCQoq7GASlrAIUmGCRAgFRdEindbFbA0vHYI6FPZmHktJoRIVuBczyv6c8lCUaRDNnJrTm8N3Zj7v9/1OJbcYLq/clfqaKVlqGQ3PP85KV/8L6Wr7+vTXuZt8+OGk1U1r13eS1aoJru/fA9NUcotBrKoI650Z38mdSESpK0My8KWWl1c+Ss2GvNzJr2EqlmT62w2p7X4dlp8ckOG6a/L5x8ZwYH6IP229anUQ23eMrFZNQNndMI32UvnUMKxXZ1Ks6h1spu6iYhTP2K5HvVkeTzVE6b4dcubVXj5yIhGtflYnU9ubuLF9QUZnt0lqMM0f2sdk4s1m+Z2Ms1RapdyXlO+xi+Hf1AgPHkpYHaziZrJaNdS8ZRdMo720qVSA9epMmizNwWbqLrp/L56xXcpAx9+nM8YwM31Q/6khko4c5/+0cqk7Eb09epb7T7foOyyIviPPP8jyyNKY6D/zz+eNfOlWm+hu1vcMLxQmeN3LaqsD/ZLVqqHLPfUwjfZSR3UB1qsz9X3mYDN1F528Hc/YLmWg5Gw6YwyOhxwPOR5yPOR4yPGQ4yHHQ46HHA85HnI85PyC8wvOLzi/4PyC8wvOLzi/4PyC8wvOLzi/4HILl1u43MLlFi63cLmFyy1cbuFyC5dbVP7fHdzdwd0d3N3B3R3c3eEfvcjK8g==",
        "encoding": "base64",
        "path": [
         "origins",
         "compressed_buffer"
        ]
       },
       {
        "data": "eNpNkz0vRFEQhqlEIwqNROIrUQilct6SRCOi8AcIEbuFkmyllIhtN7JUdEKoxJlCYgu7G+WqqPgBKxtEY+bmTPIWkzM3dz6ec96ZTqmMRYVUPi/0e3kSZ0Pr0px70K2VLXHb33x2P4VvMRoxnVJZI7d9eYvazbj01ZfUvoua/v+8egLPtVNndlYxenokE4dX+vFVF7e364b7KXyL0YjxnMj1HlHTemn0uttrYHdtWKYqr2n75RHTs/NSe+9X4yvu4rxWq+jrtX/GjtE7SGKndgd+xa33dO9+Ct//RYxzRK7fOWpaL41exqDB0G61MNgdEbNU/WtiY3VBzJK9HfKbJrsn8v2T9UPmSHY3ZNNshZ/5ipj8XkVu1qaoab00ehmDBgPxCPEI8QjxCPEI8YB4QDxCPEI8QjxCPEJ6CekF0gukF0gvkF4gvUB6gfQC6QXSC6SX0NyC5hY0t6C5Bc0taG5BcwuaW9Dcgua2eMe8O6C9A+0daO9AewfaO/wDaMzjfA==",
        "encoding": "base64",
        "path": [
         "vectors",
         "compressed_buffer"
        ]
       }
      ],
      "model_module": "k3d",
      "model_module_version": "2.6.9",
      "model_name": "ObjectModel",
      "state": {
       "_view_count": null,
       "_view_module": null,
       "_view_module_version": "",
       "_view_name": null,
       "colors": {
        "dtype": "uint32",
        "shape": [
         80,
         2
        ]
       },
       "compression_level": 0,
       "head_color": 255,
       "head_size": 1,
       "id": 4560986512,
       "label_size": 1,
       "labels": [],
       "line_width": 0.01,
       "model_matrix": {
        "dtype": "float32",
        "shape": [
         4,
         4
        ]
       },
       "name": null,
       "origin_color": 255,
       "origins": {
        "dtype": "float32",
        "shape": [
         80,
         3
        ]
       },
       "type": "Vectors",
       "use_head": true,
       "vectors": {
        "dtype": "float32",
        "shape": [
         80,
         3
        ]
       },
       "visible": true
      }
     },
     "9efe48b0ebac467091eeba13a81ce9ed": {
      "model_module": "@jupyter-widgets/base",
      "model_module_version": "1.2.0",
      "model_name": "LayoutModel",
      "state": {}
     },
     "a04a24942d204f15847a6e11bbc17d45": {
      "model_module": "@jupyter-widgets/base",
      "model_module_version": "1.2.0",
      "model_name": "LayoutModel",
      "state": {}
     },
     "a061eb013c3b43a59c49def870cea2d0": {
      "model_module": "k3d",
      "model_module_version": "2.6.9",
      "model_name": "PlotModel",
      "state": {
       "_backend_version": "2.6.9",
       "_dom_classes": [],
       "_view_count": null,
       "antialias": 3,
       "axes": [
        "x",
        "y",
        "z"
       ],
       "background_color": 16777215,
       "camera": [
        10.284874878907916,
        -15.489812315567907,
        1.0059874815950598,
        -0.02499999664723873,
        -0.02500000223517418,
        -0.025000005960464478,
        0,
        0,
        1
       ],
       "camera_auto_fit": true,
       "camera_no_pan": false,
       "camera_no_rotate": false,
       "camera_no_zoom": false,
       "clipping_planes": [],
       "colorbar_object_id": -1,
       "fps_meter": false,
       "grid": [
        -1,
        -1,
        -1,
        1,
        1,
        1
       ],
       "grid_auto_fit": true,
       "grid_visible": true,
       "height": 512,
       "layout": "IPY_MODEL_4dadb79df9844b7db0b0507191848c61",
       "lighting": 1,
       "menu_visibility": true,
       "object_ids": [
        4641977736
       ],
       "rendering_steps": 1,
       "screenshot": "",
       "screenshot_scale": 2,
       "time": 0,
       "voxel_paint_color": 0
      }
     },
     "a0648f840cb942bca262b60e84251535": {
      "model_module": "@jupyter-widgets/base",
      "model_module_version": "1.2.0",
      "model_name": "LayoutModel",
      "state": {}
     },
     "a0923d9cdc9c4d1fb2b6844e6b340baa": {
      "model_module": "@jupyter-widgets/base",
      "model_module_version": "1.2.0",
      "model_name": "LayoutModel",
      "state": {}
     },
     "a1063ad24d344c7dbdf8eb1109b60c68": {
      "buffers": [
       {
        "data": "eNoDAAAAAAE=",
        "encoding": "base64",
        "path": [
         "colors",
         "compressed_buffer"
        ]
       },
       {
        "data": "eNpjYGiwZ8AAxIsBAF7EAv0=",
        "encoding": "base64",
        "path": [
         "model_matrix",
         "compressed_buffer"
        ]
       },
       {
        "data": "eNpN0MERwjAMBVGXkIoklUYpqoRQikthQhC8QyZ7sHc9f616rdXn/V1c8OMJB2fyzw3v874/zsJZOAtn4Sycwxs+5v63Ndxwwdf/x8GZ5C684aPgeet0g27QDbpBN+gG3aAbdGl9dpk9kz2TPZM9kz2TPZM9cTbOxtk4G2fj7HwDDAaMxQ==",
        "encoding": "base64",
        "path": [
         "positions",
         "compressed_buffer"
        ]
       }
      ],
      "model_module": "k3d",
      "model_module_version": "2.6.9",
      "model_name": "ObjectModel",
      "state": {
       "_view_count": null,
       "_view_module": null,
       "_view_module_version": "",
       "_view_name": null,
       "color": 10075135,
       "colors": {
        "dtype": "uint32",
        "shape": [
         0
        ]
       },
       "compression_level": 0,
       "id": 4506457360,
       "mesh_detail": 2,
       "model_matrix": {
        "dtype": "float32",
        "shape": [
         4,
         4
        ]
       },
       "name": null,
       "opacity": 1,
       "point_size": 0.1,
       "positions": {
        "dtype": "float32",
        "shape": [
         48,
         3
        ]
       },
       "shader": "3dSpecular",
       "type": "Points",
       "visible": true
      }
     },
     "a1087a979c564861884d6f29ce3283c4": {
      "buffers": [
       {
        "data": "eNoDAAAAAAE=",
        "encoding": "base64",
        "path": [
         "colors",
         "compressed_buffer"
        ]
       },
       {
        "data": "eNpjYGiwZ8AAxIsBAF7EAv0=",
        "encoding": "base64",
        "path": [
         "model_matrix",
         "compressed_buffer"
        ]
       },
       {
        "data": "eNpNjtsNACAIA5msZTRGcRJZzfhA+mG8hPZSs3Azz/s2xxRGs7N55M1Vt/j8s7s/w+ahnC9XHogH4oF4IB7pnlvtp+yn7OcCYAMzRQ==",
        "encoding": "base64",
        "path": [
         "positions",
         "compressed_buffer"
        ]
       }
      ],
      "model_module": "k3d",
      "model_module_version": "2.6.9",
      "model_name": "ObjectModel",
      "state": {
       "_view_count": null,
       "_view_module": null,
       "_view_module_version": "",
       "_view_name": null,
       "color": 10075135,
       "colors": {
        "dtype": "uint32",
        "shape": [
         0
        ]
       },
       "compression_level": 0,
       "id": 4717663248,
       "mesh_detail": 2,
       "model_matrix": {
        "dtype": "float32",
        "shape": [
         4,
         4
        ]
       },
       "name": null,
       "opacity": 1,
       "point_size": 0.1,
       "positions": {
        "dtype": "float32",
        "shape": [
         20,
         3
        ]
       },
       "shader": "3dSpecular",
       "type": "Points",
       "visible": true
      }
     },
     "a14bb36a2cfc49fe82b59602dfb3ecfe": {
      "model_module": "@jupyter-widgets/output",
      "model_module_version": "1.0.0",
      "model_name": "OutputModel",
      "state": {
       "layout": "IPY_MODEL_245d21e61cf94efcb6109d20eb381a79",
       "outputs": [
        {
         "data": {
          "application/vnd.jupyter.widget-view+json": {
           "model_id": "a061eb013c3b43a59c49def870cea2d0",
           "version_major": 2,
           "version_minor": 0
          },
          "text/plain": "Plot(antialias=3, axes=['x', 'y', 'z'], background_color=16777215, camera=[4.5, 4.5, 4.5, 0.0, 0.0, 0.0, 1.0, …"
         },
         "metadata": {},
         "output_type": "display_data"
        }
       ]
      }
     },
     "a15ac43fb64f4f839ac20eb52dc5a6a6": {
      "buffers": [
       {
        "data": "eNoDAAAAAAE=",
        "encoding": "base64",
        "path": [
         "colors",
         "compressed_buffer"
        ]
       },
       {
        "data": "eNpjYGiwZ8AAxIsBAF7EAv0=",
        "encoding": "base64",
        "path": [
         "model_matrix",
         "compressed_buffer"
        ]
       },
       {
        "data": "eNpNk09IVHEQxy/JemlpKYJgqQVJimLVCiLxzXct2EIjCQoq7GASlrAIUmGCRAgFRdEindbFbA0vHYI6FPZmHktJoRIVuBczyv6c8lCUaRDNnJrTm8N3Zj7v9/1OJbcYLq/clfqaKVlqGQ3PP85KV/8L6Wr7+vTXuZt8+OGk1U1r13eS1aoJru/fA9NUcotBrKoI650Z38mdSESpK0My8KWWl1c+Ss2GvNzJr2EqlmT62w2p7X4dlp8ckOG6a/L5x8ZwYH6IP229anUQ23eMrFZNQNndMI32UvnUMKxXZ1Ks6h1spu6iYhTP2K5HvVkeTzVE6b4dcubVXj5yIhGtflYnU9ubuLF9QUZnt0lqMM0f2sdk4s1m+Z2Ms1RapdyXlO+xi+Hf1AgPHkpYHaziZrJaNdS8ZRdMo720qVSA9epMmizNwWbqLrp/L56xXcpAx9+nM8YwM31Q/6khko4c5/+0cqk7Eb09epb7T7foOyyIviPPP8jyyNKY6D/zz+eNfOlWm+hu1vcMLxQmeN3LaqsD/ZLVqqHLPfUwjfZSR3UB1qsz9X3mYDN1F528Hc/YLmWg5Gw6YwyOhxwPOR5yPOR4yPGQ4yHHQ46HHA85HnI85PyC8wvOLzi/4PyC8wvOLzi/4PyC8wvOLzi/4HILl1u43MLlFi63cLmFyy1cbuFyC5dbVP7fHdzdwd0d3N3B3R3c3eEfvcjK8g==",
        "encoding": "base64",
        "path": [
         "origins",
         "compressed_buffer"
        ]
       },
       {
        "data": "eNpNkz0vRFEQhqlEIwqNROIrUQilct6SRCOi8AcIEbuFkmyllIhtN7JUdEKoxJlCYgu7G+WqqPgBKxtEY+bmTPIWkzM3dz6ec96ZTqmMRYVUPi/0e3kSZ0Pr0px70K2VLXHb33x2P4VvMRoxnVJZI7d9eYvazbj01ZfUvoua/v+8egLPtVNndlYxenokE4dX+vFVF7e364b7KXyL0YjxnMj1HlHTemn0uttrYHdtWKYqr2n75RHTs/NSe+9X4yvu4rxWq+jrtX/GjtE7SGKndgd+xa33dO9+Ct//RYxzRK7fOWpaL41exqDB0G61MNgdEbNU/WtiY3VBzJK9HfKbJrsn8v2T9UPmSHY3ZNNshZ/5ipj8XkVu1qaoab00ehmDBgPxCPEI8QjxCPEI8YB4QDxCPEI8QjxCPEJ6CekF0gukF0gvkF4gvUB6gfQC6QXSC6SX0NyC5hY0t6C5Bc0taG5BcwuaW9Dcgua2eMe8O6C9A+0daO9AewfaO/wDaMzjfA==",
        "encoding": "base64",
        "path": [
         "vectors",
         "compressed_buffer"
        ]
       }
      ],
      "model_module": "k3d",
      "model_module_version": "2.6.9",
      "model_name": "ObjectModel",
      "state": {
       "_view_count": null,
       "_view_module": null,
       "_view_module_version": "",
       "_view_name": null,
       "colors": {
        "dtype": "uint32",
        "shape": [
         0
        ]
       },
       "compression_level": 0,
       "head_color": 255,
       "head_size": 1,
       "id": 4654137616,
       "label_size": 1,
       "labels": [],
       "line_width": 0.01,
       "model_matrix": {
        "dtype": "float32",
        "shape": [
         4,
         4
        ]
       },
       "name": null,
       "origin_color": 255,
       "origins": {
        "dtype": "float32",
        "shape": [
         80,
         3
        ]
       },
       "type": "Vectors",
       "use_head": true,
       "vectors": {
        "dtype": "float32",
        "shape": [
         80,
         3
        ]
       },
       "visible": true
      }
     },
     "a1bb5e65db2346b0ba24ffe936d55a5c": {
      "buffers": [
       {
        "data": "eNq7PcOEAQAFoAGo",
        "encoding": "base64",
        "path": [
         "color_map",
         "compressed_buffer"
        ]
       },
       {
        "data": "eNpjYFBwZMAABxwwxRqwidkDAFK8AuE=",
        "encoding": "base64",
        "path": [
         "model_matrix",
         "compressed_buffer"
        ]
       },
       {
        "data": "eNrllUEOACEMAjv//7R7XQGj0Vs5TqItWLXqXnxSMlFQ6Jhba2u8l9TQ/vgpMlDo2O5+KauDXNIRLb2ZnkHhDdvPJWYg3mo1aj7m5I3HOsigXAT+fnTz222eG75XTf6jAc5KA/E=",
        "encoding": "base64",
        "path": [
         "voxels",
         "compressed_buffer"
        ]
       }
      ],
      "model_module": "k3d",
      "model_module_version": "2.6.9",
      "model_name": "ObjectModel",
      "state": {
       "_view_count": null,
       "_view_module": null,
       "_view_module_version": "",
       "_view_name": null,
       "color_map": {
        "dtype": "uint32",
        "shape": []
       },
       "compression_level": 0,
       "id": 4521530448,
       "model_matrix": {
        "dtype": "float32",
        "shape": [
         4,
         4
        ]
       },
       "name": null,
       "opacity": 1,
       "outlines": false,
       "outlines_color": 0,
       "type": "Voxels",
       "visible": true,
       "voxels": {
        "dtype": "uint8",
        "shape": [
         8,
         12,
         20
        ]
       },
       "wireframe": false
      }
     },
     "a1ff184f59d94850b5a51de29493af86": {
      "model_module": "@jupyter-widgets/output",
      "model_module_version": "1.0.0",
      "model_name": "OutputModel",
      "state": {
       "layout": "IPY_MODEL_bfc21d768b814d6c8424a4bb050aaf57",
       "outputs": [
        {
         "data": {
          "application/vnd.jupyter.widget-view+json": {
           "model_id": "f012100abfd4460ba5bb4ba381c8b075",
           "version_major": 2,
           "version_minor": 0
          },
          "text/plain": "Plot(antialias=3, axes=['x', 'y', 'z'], background_color=16777215, camera=[4.5, 4.5, 4.5, 0.0, 0.0, 0.0, 1.0, …"
         },
         "metadata": {},
         "output_type": "display_data"
        }
       ]
      }
     },
     "a22846804f374e58945816ad07b9896d": {
      "model_module": "k3d",
      "model_module_version": "2.6.9",
      "model_name": "PlotModel",
      "state": {
       "_backend_version": "2.6.9",
       "_dom_classes": [],
       "_view_count": null,
       "antialias": 3,
       "axes": [
        "x",
        "y",
        "z"
       ],
       "background_color": 16777215,
       "camera": [
        10.284874878907916,
        -15.489812315567907,
        1.0059874815950598,
        -0.02499999664723873,
        -0.02500000223517418,
        -0.025000005960464478,
        0,
        0,
        1
       ],
       "camera_auto_fit": true,
       "camera_no_pan": false,
       "camera_no_rotate": false,
       "camera_no_zoom": false,
       "clipping_planes": [],
       "colorbar_object_id": -1,
       "fps_meter": false,
       "grid": [
        -1,
        -1,
        -1,
        1,
        1,
        1
       ],
       "grid_auto_fit": true,
       "grid_visible": true,
       "height": 512,
       "layout": "IPY_MODEL_aa5a0da242e14317b4c461b95e18a71c",
       "lighting": 1,
       "menu_visibility": true,
       "object_ids": [
        4525828176
       ],
       "rendering_steps": 1,
       "screenshot": "",
       "screenshot_scale": 2,
       "time": 0,
       "voxel_paint_color": 0
      }
     },
     "a235a272469d40d2ae2c6130356e69c3": {
      "buffers": [
       {
        "data": "eNoDAAAAAAE=",
        "encoding": "base64",
        "path": [
         "colors",
         "compressed_buffer"
        ]
       },
       {
        "data": "eNpjYGiwZ8AAxIsBAF7EAv0=",
        "encoding": "base64",
        "path": [
         "model_matrix",
         "compressed_buffer"
        ]
       },
       {
        "data": "eNpNkT1IglEUhhVCECmaKoiIkBDKIPgS4xPv+cxEkzKiaBEqLIlaAwtrCUlosqHJrRD6p3Bz8N5Tfm794iJUCFHiGLhF9HMnz/YO5z0PPG9c+DH6tCks23vC+DaK3uInn86lxPOZB83pDvfaWEr0zjA82DWDzL9dLry8T4C8SWrDGGq/AdntTAexfsEFlAbErDWAh5EN8bNuF982H65ijbcs9AtX0YOFyJxbve4TRZWhvdoMMjeVVaw+7IC8OX1x/v8vgOx+RB1oOjFo8ufd7TiawgbcZyu8Ug5itpYXlaFl7g8HcD4WE1MjUZ6d9OGx8s4nzhd5vuTBV2vCPahHuNfOcGupFWQOXanYVk+CvMllnPio6yC7PTYHHlmMmvypKAp+Zbo1ySJcRriMcBnhMsJlhMsIlxEuI1xGuIz4BOITiE8gPoH4BOITiE8gPiHe2B3I7kB2B7I7kN2B7A5/NdwSYA==",
        "encoding": "base64",
        "path": [
         "origins",
         "compressed_buffer"
        ]
       },
       {
        "data": "eNpNkaFLBGEQxZMgaxA5waDBcMUqnsLBPLWIYcF04IULXjjQP8CLwoFxq1gMBoPBJrZvvmpY/wXzFdmmYPFmFgZf+h7szPvNvlc2UxyMlnPZTHX9aAupv5onvZlefw3kuNPJV6+3rlNom9GY8Z3YfXt8xt7pUi4ma2rfWh+frf66uDvcyPbq/cNYzuvNvPu94zqF9m8x476xa54anh91jaezX71Y2U/z6qW9uRieJLsJfpvfaF5wT/e++byUn/ftbK/rFNp5MeP/E7vmqeFpLA0WcYW4QlwhrhBXiCvEFeIKcYW4QnmC8gTlCcoTlCcoT1CeoDxR/vcO6h3UO6h3UO+g3rEA8LILMA==",
        "encoding": "base64",
        "path": [
         "vectors",
         "compressed_buffer"
        ]
       }
      ],
      "model_module": "k3d",
      "model_module_version": "2.6.9",
      "model_name": "ObjectModel",
      "state": {
       "_view_count": null,
       "_view_module": null,
       "_view_module_version": "",
       "_view_name": null,
       "colors": {
        "dtype": "uint32",
        "shape": [
         0
        ]
       },
       "compression_level": 0,
       "head_color": 255,
       "head_size": 1,
       "id": 4640526032,
       "label_size": 1,
       "labels": [],
       "line_width": 0.01,
       "model_matrix": {
        "dtype": "float32",
        "shape": [
         4,
         4
        ]
       },
       "name": null,
       "origin_color": 255,
       "origins": {
        "dtype": "float32",
        "shape": [
         48,
         3
        ]
       },
       "type": "Vectors",
       "use_head": true,
       "vectors": {
        "dtype": "float32",
        "shape": [
         48,
         3
        ]
       },
       "visible": true
      }
     },
     "a25ceb301a1347858cc3dca5121ac459": {
      "buffers": [
       {
        "data": "eNpLWKfOAAAD3AE2",
        "encoding": "base64",
        "path": [
         "color_map",
         "compressed_buffer"
        ]
       },
       {
        "data": "eNpjYFBwZMAABxwwxRqwidkDAFK8AuE=",
        "encoding": "base64",
        "path": [
         "model_matrix",
         "compressed_buffer"
        ]
       },
       {
        "data": "eNrllUEOACEMAjv//7R7XQGj0Vs5TqItWLXqXnxSMlFQ6Jhba2u8l9TQ/vgpMlDo2O5+KauDXNIRLb2ZnkHhDdvPJWYg3mo1aj7m5I3HOsigXAT+fnTz222eG75XTf6jAc5KA/E=",
        "encoding": "base64",
        "path": [
         "voxels",
         "compressed_buffer"
        ]
       }
      ],
      "model_module": "k3d",
      "model_module_version": "2.6.9",
      "model_name": "ObjectModel",
      "state": {
       "_view_count": null,
       "_view_module": null,
       "_view_module_version": "",
       "_view_name": null,
       "color_map": {
        "dtype": "uint32",
        "shape": []
       },
       "compression_level": 0,
       "id": 4653995920,
       "model_matrix": {
        "dtype": "float32",
        "shape": [
         4,
         4
        ]
       },
       "name": null,
       "opacity": 1,
       "outlines": false,
       "outlines_color": 0,
       "type": "Voxels",
       "visible": true,
       "voxels": {
        "dtype": "uint8",
        "shape": [
         8,
         12,
         20
        ]
       },
       "wireframe": false
      }
     },
     "a268d514f80442ec9bcd6a1d02b8f7ba": {
      "model_module": "@jupyter-widgets/output",
      "model_module_version": "1.0.0",
      "model_name": "OutputModel",
      "state": {
       "layout": "IPY_MODEL_0f9ff25c2c8e45efaecd480690c91119",
       "outputs": [
        {
         "data": {
          "application/vnd.jupyter.widget-view+json": {
           "model_id": "57febdfd8a7d49828b01bb379712b2a4",
           "version_major": 2,
           "version_minor": 0
          },
          "text/plain": "Plot(antialias=3, axes=['x', 'y', 'z'], background_color=16777215, camera=[4.5, 4.5, 4.5, 0.0, 0.0, 0.0, 1.0, …"
         },
         "metadata": {},
         "output_type": "display_data"
        }
       ]
      }
     },
     "a2b554df66d6477cbcc7389ba69fe87d": {
      "buffers": [
       {
        "data": "eNoDAAAAAAE=",
        "encoding": "base64",
        "path": [
         "colors",
         "compressed_buffer"
        ]
       },
       {
        "data": "eNpjYGiwZ8AAxIsBAF7EAv0=",
        "encoding": "base64",
        "path": [
         "model_matrix",
         "compressed_buffer"
        ]
       },
       {
        "data": "eNo78rj5wMGVVXvvP1TYHxrQeGB21FM7xgogO772gO/aInsQu8Ki4sAmrR32IDVpaW0HWl8L7rflCt/H8LH5gKZ26N7wr6H73oY0Hphk/couPSl0n1pY7YGTsqX2IDaDXMWB5WE77UFqjI2LD9hyfbcH6UUyxw7JHDskc+yQzLFDMscOyRy7Iwj32yO53x7J/fZI7rcHADp2byc=",
        "encoding": "base64",
        "path": [
         "origins",
         "compressed_buffer"
        ]
       },
       {
        "data": "eNpj+1hhlxK6YT/bx4p9i7VW2Pqu3bT/q30NiL0XxgbJwdScPXPGrlpk3X6u64v3AuXsQGpAapPLVtmelN26H0iD2HthbJB+mBqg3n0wvUjm2CKZY4tkji2SObZI5tgimWPLhnC/HZL77ZDcb4fkfjsAvT+BSQ==",
        "encoding": "base64",
        "path": [
         "vectors",
         "compressed_buffer"
        ]
       }
      ],
      "model_module": "k3d",
      "model_module_version": "2.6.9",
      "model_name": "ObjectModel",
      "state": {
       "_view_count": null,
       "_view_module": null,
       "_view_module_version": "",
       "_view_name": null,
       "colors": {
        "dtype": "uint32",
        "shape": [
         0
        ]
       },
       "compression_level": 0,
       "head_color": 255,
       "head_size": 1,
       "id": 4707051280,
       "label_size": 1,
       "labels": [],
       "line_width": 0.01,
       "model_matrix": {
        "dtype": "float32",
        "shape": [
         4,
         4
        ]
       },
       "name": null,
       "origin_color": 255,
       "origins": {
        "dtype": "float32",
        "shape": [
         20,
         3
        ]
       },
       "type": "Vectors",
       "use_head": true,
       "vectors": {
        "dtype": "float32",
        "shape": [
         20,
         3
        ]
       },
       "visible": true
      }
     },
     "a3f857db68af4d5b8b894e397d45a38c": {
      "buffers": [
       {
        "data": "eNqL43ZjiAPiSFZXMA5hdEHBMPE4qLpOLzsw7nBzAON2J0cwbnNwQsEwcZg6mL6+Kk0IrtCC4HICGKYOqq91uRIYN69UhuBVKvgxVB1MX8S5PDAOvlgOxn6X68HY+0oLCoaJw9TB9Mk8fQ/Gis9+gLHq878oGCYOUwcApvNyEQ==",
        "encoding": "base64",
        "path": [
         "colors",
         "compressed_buffer"
        ]
       },
       {
        "data": "eNpjYGiwZ8AAxIsBAF7EAv0=",
        "encoding": "base64",
        "path": [
         "model_matrix",
         "compressed_buffer"
        ]
       },
       {
        "data": "eNpNkTFIQmEUhaEk7FFkadTg0FZQo0L1eP+5PCwwHNqsIQoC28RsDKKgwZaGBqUICoKgpSXQpf47imBTS1tREg4WDvkwKsh/6m5nOPfj8p3kpU3+syJfJwrcjjv0+JvmIy/PXhDk1p50oZxnq0HUTu86JvuLLk10DcJ0rpZj1F47gLk99s3S0LTHtzrK8W2bGjslfhmPcm3KofdWhg9vInzRC6oP1/T5VoRXPKK7xVXH5PCDS0FrAKZT2o9RaC8Hc7vxPUcf5QoM87k+0/nT44VQVlfXbQp8lXgJm7oedujTyvLkSUY3u0Gp1Jv2IaMDP0T31YRj8uirS32tfphO5DRGzZ4czO3YyHzn/woMU/CV4CvBV4KvBF8JvhJ8JfhK+IHwA+EHwg+EHwg/EH4g/CD5vyPEjhA7QuwIsSPEjvgDj3fwiQ==",
        "encoding": "base64",
        "path": [
         "origins",
         "compressed_buffer"
        ]
       },
       {
        "data": "eNpNkbFKA0EURXu3MGDq+QHrLYT3bjBfkB8Qi7T+gZUg6awCfoGthRBCYGfHBBG3WAsrOwtT2GjrWmyRecIjt5oLc9+ZN/eGssDp3wKhLNLn1b2edxW+bgfp8uBbrptH3MyOTEfX2VO7x2Z89udihPn6ASfDuzrfwTzmDS8LXb4/IZ/15OxX3o4b9M8r09G13bnHuD6bmcmZ3Xb8v+e0+oh5D9g+tleeV+MYb3PYy2vbIp+mo2t7wz32B5/NzORM4gvxhfhCfCG+EF+IL8QXykcpH6V8lPJRykcpH6V8lPLRsO8R1COoR1CPoB5BPWIHWhgaHA==",
        "encoding": "base64",
        "path": [
         "vectors",
         "compressed_buffer"
        ]
       }
      ],
      "model_module": "k3d",
      "model_module_version": "2.6.9",
      "model_name": "ObjectModel",
      "state": {
       "_view_count": null,
       "_view_module": null,
       "_view_module_version": "",
       "_view_name": null,
       "colors": {
        "dtype": "uint32",
        "shape": [
         44,
         2
        ]
       },
       "compression_level": 0,
       "head_color": 255,
       "head_size": 1,
       "id": 4525972624,
       "label_size": 1,
       "labels": [],
       "line_width": 0.01,
       "model_matrix": {
        "dtype": "float32",
        "shape": [
         4,
         4
        ]
       },
       "name": null,
       "origin_color": 255,
       "origins": {
        "dtype": "float32",
        "shape": [
         44,
         3
        ]
       },
       "type": "Vectors",
       "use_head": true,
       "vectors": {
        "dtype": "float32",
        "shape": [
         44,
         3
        ]
       },
       "visible": true
      }
     },
     "a3fae2d2d2464a60987a10ec07feb2b5": {
      "model_module": "@jupyter-widgets/base",
      "model_module_version": "1.2.0",
      "model_name": "LayoutModel",
      "state": {}
     },
     "a5e9a4333eda49c685add9140b70b6a4": {
      "model_module": "@jupyter-widgets/base",
      "model_module_version": "1.2.0",
      "model_name": "LayoutModel",
      "state": {}
     },
     "a5fd8b70c62a438dba2cea20401501b3": {
      "model_module": "@jupyter-widgets/base",
      "model_module_version": "1.2.0",
      "model_name": "LayoutModel",
      "state": {}
     },
     "a716068dc2a940ffb0d02611384c9bd9": {
      "model_module": "@jupyter-widgets/base",
      "model_module_version": "1.2.0",
      "model_name": "LayoutModel",
      "state": {}
     },
     "a71c64c22a1744629408efd0cd6979b3": {
      "model_module": "@jupyter-widgets/base",
      "model_module_version": "1.2.0",
      "model_name": "LayoutModel",
      "state": {}
     },
     "a87576673d3743c18a5a3451eb91696f": {
      "model_module": "@jupyter-widgets/base",
      "model_module_version": "1.2.0",
      "model_name": "LayoutModel",
      "state": {}
     },
     "aa5a0da242e14317b4c461b95e18a71c": {
      "model_module": "@jupyter-widgets/base",
      "model_module_version": "1.2.0",
      "model_name": "LayoutModel",
      "state": {}
     },
     "aab46d59e2454406beeab3e47feccf33": {
      "buffers": [
       {
        "data": "eNoDAAAAAAE=",
        "encoding": "base64",
        "path": [
         "colors",
         "compressed_buffer"
        ]
       },
       {
        "data": "eNpjYGiwZ8AAxIsBAF7EAv0=",
        "encoding": "base64",
        "path": [
         "model_matrix",
         "compressed_buffer"
        ]
       },
       {
        "data": "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",
        "encoding": "base64",
        "path": [
         "origins",
         "compressed_buffer"
        ]
       },
       {
        "data": "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",
        "encoding": "base64",
        "path": [
         "vectors",
         "compressed_buffer"
        ]
       }
      ],
      "model_module": "k3d",
      "model_module_version": "2.6.9",
      "model_name": "ObjectModel",
      "state": {
       "_view_count": null,
       "_view_module": null,
       "_view_module_version": "",
       "_view_name": null,
       "colors": {
        "dtype": "uint32",
        "shape": [
         0
        ]
       },
       "compression_level": 0,
       "head_color": 255,
       "head_size": 1,
       "id": 4511715224,
       "label_size": 1,
       "labels": [],
       "line_width": 0.01,
       "model_matrix": {
        "dtype": "float32",
        "shape": [
         4,
         4
        ]
       },
       "name": null,
       "origin_color": 255,
       "origins": {
        "dtype": "float32",
        "shape": [
         1008,
         3
        ]
       },
       "type": "Vectors",
       "use_head": true,
       "vectors": {
        "dtype": "float32",
        "shape": [
         1008,
         3
        ]
       },
       "visible": true
      }
     },
     "ab94d69dd3874a81bdf44ce98d298272": {
      "model_module": "@jupyter-widgets/base",
      "model_module_version": "1.2.0",
      "model_name": "LayoutModel",
      "state": {}
     },
     "aba4eda4c41e4f65a367afdf94df3fe0": {
      "model_module": "@jupyter-widgets/output",
      "model_module_version": "1.0.0",
      "model_name": "OutputModel",
      "state": {
       "layout": "IPY_MODEL_b8c83511a2a047819ffbad32bcf4f7d9",
       "outputs": [
        {
         "data": {
          "application/vnd.jupyter.widget-view+json": {
           "model_id": "7afbf09e818444048f84cc853b022307",
           "version_major": 2,
           "version_minor": 0
          },
          "text/plain": "Plot(antialias=3, axes=['x', 'y', 'z'], background_color=16777215, camera=[4.5, 4.5, 4.5, 0.0, 0.0, 0.0, 1.0, …"
         },
         "metadata": {},
         "output_type": "display_data"
        }
       ]
      }
     },
     "abaafb25cf394fc58bc35e6d7a8cdd0c": {
      "model_module": "@jupyter-widgets/base",
      "model_module_version": "1.2.0",
      "model_name": "LayoutModel",
      "state": {}
     },
     "abf336b6b53b4742a42697dbb0d2418e": {
      "buffers": [
       {
        "data": "eNot0vlP1gUcwPF3rVar1Wq14vR5Hh4eBOSSQy45fZ7v96spoRIiIqJAHCKH3Pf9cD7fLLMss8yyzLLM0sy01KJIo1BDEQUEfWBrba2ttbbW1sfVD6//4JV2l5X0u62su8fG+nttZN6nkHW/wsYHFLIfVMh5SGXzwyq5j6jkPaqS/5hKweMahU9oFD2pUeyiUeKmsc1do9RDo8xTo9ygUWHUqDRpVJk1qr01aiwatT4adb4a9X4aDf4qDQEqjYEqTUEqzcEqLSEKLaEKrWEKbeEK7RE22iNtdETZ6Iy20hljpStWxC2jO14kJGNPFEnJ9CQn0WNNoteWSK8i1AT6NLE8nr4V8fSvFKvi6E8RTy9lIFWsjmVgjVgbw2CaeCaawXSREcXgepEZiWODyFqCY6PIjsCxSeSE49gstoThyA1DzwtFzxfPLkYvEIWiKAS9WGwNRi8R24LQS0WZKA9Er7gjAH27qBRVi9CrRY0/eq2oE/V+6A2iUTT5ojeLloXoraJNtPugd/yv04LeJbqF3Ru9R/Sa0fvMOPrFgBeOQeEQugnHc2KHicHnxQvG/+wULxoY2CVeEi+L3Qb6XxGvij0L6HtN7BWvG+h9Q+wTbxrouWO/AftbRuxvG+k+YKL7HfGuF10Hveh8z0znIW863rfQ8YGF9sM+YiFtH/rS+pEfrUf8afk4gOajgTR9EkTTp8E0HltMw/FQ6o+HU/9ZBHUnIqn9PIqakzFUfxFL1ak4Kk8lsP10IhVfJlP+lZWyMwqlZ+Xj2RWUnFvJ1q9TKP4mlaKhNRQOpVHwbTr532WQN5xJ7nAWW77PJud8Dpsu5JJ9IZ+sHwrYMFJE5kgJGT+Wsu6nctJHK0kbrWbtxVpWX2wg9VITKZdbWXW5nad+7mL5mB1trA/lygC2KzrLru4g6epOEsd3ET++m6XX9hB7bS/RE/uInNjPkusHCL9+kNAbhwi5cZjgySMETh5l0dQx/KZO4Dt1Ep/p01imz2CePofp5hDGm8MYZs7jOTOCx8wo7rOXcJsdw3V2HNdbE7jcmhTTuNyexfW2U8zj5vwFd+eveDh/w9P5Owvm/sA49yemub8wz/+NZf4f/gXLh0p6",
        "encoding": "base64",
        "path": [
         "color_map",
         "compressed_buffer"
        ]
       },
       {
        "data": "eNpjYFBwZMAABxwwxRjsMYUa7AFHpwJg",
        "encoding": "base64",
        "path": [
         "model_matrix",
         "compressed_buffer"
        ]
       },
       {
        "data": "eNpjYACBN19+////+8sbBji4eOvp+5///v18//TWRYjItr1Hz916/vXfv6/Pb507uncbUGjJinVb95269eb37ze3Tu3bum7FEoYp02bOXbRi08EbX77cOLhpxaK5M6dNae/o6OrpmzRz+alTy2dO6uvp6uhor6yoKCspykuPNDOLTM8rKimrqKjMyUpPjovws9fg4dGw94uIS07PymGIiQjydjJTE2FlFVEzc/IOiogBWuzlbG2kJsnNxMQtqWZk7ewFcaG+mrQgOxMTu6C0mj7CJyI8rIyMrDwiEB4A19heAQ==",
        "encoding": "base64",
        "path": [
         "voxels",
         "compressed_buffer"
        ]
       }
      ],
      "model_module": "k3d",
      "model_module_version": "2.6.9",
      "model_name": "ObjectModel",
      "state": {
       "_view_count": null,
       "_view_module": null,
       "_view_module_version": "",
       "_view_name": null,
       "color_map": {
        "dtype": "uint32",
        "shape": [
         256
        ]
       },
       "compression_level": 0,
       "id": 4525951952,
       "model_matrix": {
        "dtype": "float32",
        "shape": [
         4,
         4
        ]
       },
       "name": null,
       "opacity": 1,
       "outlines": false,
       "outlines_color": 0,
       "type": "Voxels",
       "visible": true,
       "voxels": {
        "dtype": "uint8",
        "shape": [
         1,
         12,
         20
        ]
       },
       "wireframe": false
      }
     },
     "abfd72cbc17c4ae498914c4133d70505": {
      "model_module": "@jupyter-widgets/base",
      "model_module_version": "1.2.0",
      "model_name": "LayoutModel",
      "state": {}
     },
     "ac1445bc0f874ad684bad01c447f0519": {
      "buffers": [
       {
        "data": "eNoDAAAAAAE=",
        "encoding": "base64",
        "path": [
         "colors",
         "compressed_buffer"
        ]
       },
       {
        "data": "eNpjYGiwZ8AAxIsBAF7EAv0=",
        "encoding": "base64",
        "path": [
         "model_matrix",
         "compressed_buffer"
        ]
       },
       {
        "data": "eNpNk09IVHEQxy/JemlpKYJgqQVJimLVCiLxzXct2EIjCQoq7GASlrAIUmGCRAgFRdEindbFbA0vHYI6FPZmHktJoRIVuBczyv6c8lCUaRDNnJrTm8N3Zj7v9/1OJbcYLq/clfqaKVlqGQ3PP85KV/8L6Wr7+vTXuZt8+OGk1U1r13eS1aoJru/fA9NUcotBrKoI650Z38mdSESpK0My8KWWl1c+Ss2GvNzJr2EqlmT62w2p7X4dlp8ckOG6a/L5x8ZwYH6IP229anUQ23eMrFZNQNndMI32UvnUMKxXZ1Ks6h1spu6iYhTP2K5HvVkeTzVE6b4dcubVXj5yIhGtflYnU9ubuLF9QUZnt0lqMM0f2sdk4s1m+Z2Ms1RapdyXlO+xi+Hf1AgPHkpYHaziZrJaNdS8ZRdMo720qVSA9epMmizNwWbqLrp/L56xXcpAx9+nM8YwM31Q/6khko4c5/+0cqk7Eb09epb7T7foOyyIviPPP8jyyNKY6D/zz+eNfOlWm+hu1vcMLxQmeN3LaqsD/ZLVqqHLPfUwjfZSR3UB1qsz9X3mYDN1F528Hc/YLmWg5Gw6YwyOhxwPOR5yPOR4yPGQ4yHHQ46HHA85HnI85PyC8wvOLzi/4PyC8wvOLzi/4PyC8wvOLzi/4HILl1u43MLlFi63cLmFyy1cbuFyC5dbVP7fHdzdwd0d3N3B3R3c3eEfvcjK8g==",
        "encoding": "base64",
        "path": [
         "origins",
         "compressed_buffer"
        ]
       },
       {
        "data": "eNpNkz0vRFEQhqlEIwqNROIrUQilct6SRCOi8AcIEbuFkmyllIhtN7JUdEKoxJlCYgu7G+WqqPgBKxtEY+bmTPIWkzM3dz6ec96ZTqmMRYVUPi/0e3kSZ0Pr0px70K2VLXHb33x2P4VvMRoxnVJZI7d9eYvazbj01ZfUvoua/v+8egLPtVNndlYxenokE4dX+vFVF7e364b7KXyL0YjxnMj1HlHTemn0uttrYHdtWKYqr2n75RHTs/NSe+9X4yvu4rxWq+jrtX/GjtE7SGKndgd+xa33dO9+Ct//RYxzRK7fOWpaL41exqDB0G61MNgdEbNU/WtiY3VBzJK9HfKbJrsn8v2T9UPmSHY3ZNNshZ/5ipj8XkVu1qaoab00ehmDBgPxCPEI8QjxCPEI8YB4QDxCPEI8QjxCPEJ6CekF0gukF0gvkF4gvUB6gfQC6QXSC6SX0NyC5hY0t6C5Bc0taG5BcwuaW9Dcgua2eMe8O6C9A+0daO9AewfaO/wDaMzjfA==",
        "encoding": "base64",
        "path": [
         "vectors",
         "compressed_buffer"
        ]
       }
      ],
      "model_module": "k3d",
      "model_module_version": "2.6.9",
      "model_name": "ObjectModel",
      "state": {
       "_view_count": null,
       "_view_module": null,
       "_view_module_version": "",
       "_view_name": null,
       "colors": {
        "dtype": "uint32",
        "shape": [
         0
        ]
       },
       "compression_level": 0,
       "head_color": 255,
       "head_size": 1,
       "id": 4667177448,
       "label_size": 1,
       "labels": [],
       "line_width": 0.01,
       "model_matrix": {
        "dtype": "float32",
        "shape": [
         4,
         4
        ]
       },
       "name": null,
       "origin_color": 255,
       "origins": {
        "dtype": "float32",
        "shape": [
         80,
         3
        ]
       },
       "type": "Vectors",
       "use_head": true,
       "vectors": {
        "dtype": "float32",
        "shape": [
         80,
         3
        ]
       },
       "visible": true
      }
     },
     "acc31a6c2977465aaa7ccabbde13da34": {
      "model_module": "@jupyter-widgets/output",
      "model_module_version": "1.0.0",
      "model_name": "OutputModel",
      "state": {
       "layout": "IPY_MODEL_c490a94259bd4e3d850f405d84fecb48",
       "outputs": [
        {
         "data": {
          "application/vnd.jupyter.widget-view+json": {
           "model_id": "6e74a7bb4263497297254471fc9cb013",
           "version_major": 2,
           "version_minor": 0
          },
          "text/plain": "Plot(antialias=3, axes=['x', 'y', 'z'], background_color=16777215, camera=[4.5, 4.5, 4.5, 0.0, 0.0, 0.0, 1.0, …"
         },
         "metadata": {},
         "output_type": "display_data"
        }
       ]
      }
     },
     "ad12bfbcae464285bc73db7ec3074cdb": {
      "buffers": [
       {
        "data": "eNoDAAAAAAE=",
        "encoding": "base64",
        "path": [
         "colors",
         "compressed_buffer"
        ]
       },
       {
        "data": "eNpjYGiwZ8AAxIsBAF7EAv0=",
        "encoding": "base64",
        "path": [
         "model_matrix",
         "compressed_buffer"
        ]
       },
       {
        "data": "eNpNjtsNACAMAjsZdDRHcRLraMZHLR/GSwoXzNo087hvcxvCKHYW97i57Caff1T3Z1jclePl0gPxQDwQD8Qj3XPL/ZT9lP1cLk49RQ==",
        "encoding": "base64",
        "path": [
         "positions",
         "compressed_buffer"
        ]
       }
      ],
      "model_module": "k3d",
      "model_module_version": "2.6.9",
      "model_name": "ObjectModel",
      "state": {
       "_view_count": null,
       "_view_module": null,
       "_view_module_version": "",
       "_view_name": null,
       "color": 10075135,
       "colors": {
        "dtype": "uint32",
        "shape": [
         0
        ]
       },
       "compression_level": 0,
       "id": 4710344400,
       "mesh_detail": 2,
       "model_matrix": {
        "dtype": "float32",
        "shape": [
         4,
         4
        ]
       },
       "name": null,
       "opacity": 1,
       "point_size": 0.1,
       "positions": {
        "dtype": "float32",
        "shape": [
         20,
         3
        ]
       },
       "shader": "3dSpecular",
       "type": "Points",
       "visible": true
      }
     },
     "ad39e0eef57143b5a792aaa8b8bcf82f": {
      "buffers": [
       {
        "data": "eNoDAAAAAAE=",
        "encoding": "base64",
        "path": [
         "colors",
         "compressed_buffer"
        ]
       },
       {
        "data": "eNpjYGiwZ8AAxIsBAF7EAv0=",
        "encoding": "base64",
        "path": [
         "model_matrix",
         "compressed_buffer"
        ]
       },
       {
        "data": "eNpN0MERwjAMBVGXkIoklUYpqoRQikthQhC8QyZ7sHc9f616rdXn/V1c8OMJB2fyzw3v874/zsJZOAtn4Sycwxs+5v63Ndxwwdf/x8GZ5C684aPgeet0g27QDbpBN+gG3aAbdGl9dpk9kz2TPZM9kz2TPZM9cTbOxtk4G2fj7HwDDAaMxQ==",
        "encoding": "base64",
        "path": [
         "positions",
         "compressed_buffer"
        ]
       }
      ],
      "model_module": "k3d",
      "model_module_version": "2.6.9",
      "model_name": "ObjectModel",
      "state": {
       "_view_count": null,
       "_view_module": null,
       "_view_module_version": "",
       "_view_name": null,
       "color": 10075135,
       "colors": {
        "dtype": "uint32",
        "shape": [
         0
        ]
       },
       "compression_level": 0,
       "id": 4423501200,
       "mesh_detail": 2,
       "model_matrix": {
        "dtype": "float32",
        "shape": [
         4,
         4
        ]
       },
       "name": null,
       "opacity": 1,
       "point_size": 0.1,
       "positions": {
        "dtype": "float32",
        "shape": [
         48,
         3
        ]
       },
       "shader": "3dSpecular",
       "type": "Points",
       "visible": true
      }
     },
     "ae53543043014afd9385f74f582eb4d4": {
      "model_module": "@jupyter-widgets/base",
      "model_module_version": "1.2.0",
      "model_name": "LayoutModel",
      "state": {}
     },
     "ae887eaa81f14099b3c99c9a0b1d5a47": {
      "buffers": [
       {
        "data": "eNoDAAAAAAE=",
        "encoding": "base64",
        "path": [
         "colors",
         "compressed_buffer"
        ]
       },
       {
        "data": "eNpjYGiwZ8AAxIsBAF7EAv0=",
        "encoding": "base64",
        "path": [
         "model_matrix",
         "compressed_buffer"
        ]
       },
       {
        "data": "eNpN0MENgCAQRFEqm5nSLGUrcVuhFEME/QfDP8CLmTGSMarfb3XQ140W7vjvQs9+3x8zMAMzMAMzME9Pdu/32z8d9Dq/Fu4Yb9GT3fufji/4gi/4gi/4gi/sY+xj7GPsY+xj7GPsY+wDs2AWzIJZMAtm+QEXvmyN",
        "encoding": "base64",
        "path": [
         "positions",
         "compressed_buffer"
        ]
       }
      ],
      "model_module": "k3d",
      "model_module_version": "2.6.9",
      "model_name": "ObjectModel",
      "state": {
       "_view_count": null,
       "_view_module": null,
       "_view_module_version": "",
       "_view_name": null,
       "color": 10075135,
       "colors": {
        "dtype": "uint32",
        "shape": [
         0
        ]
       },
       "compression_level": 0,
       "id": 4506642640,
       "mesh_detail": 2,
       "model_matrix": {
        "dtype": "float32",
        "shape": [
         4,
         4
        ]
       },
       "name": null,
       "opacity": 1,
       "point_size": 0.1,
       "positions": {
        "dtype": "float32",
        "shape": [
         44,
         3
        ]
       },
       "shader": "3dSpecular",
       "type": "Points",
       "visible": true
      }
     },
     "aea6de54ea2649d4aa9e360a62413a09": {
      "model_module": "@jupyter-widgets/controls",
      "model_module_version": "1.5.0",
      "model_name": "SliderStyleModel",
      "state": {
       "description_width": ""
      }
     },
     "aeb463eff95b4ac6a46768f9f849f5d4": {
      "buffers": [
       {
        "data": "eNpLWKfOAAAD3AE2",
        "encoding": "base64",
        "path": [
         "color_map",
         "compressed_buffer"
        ]
       },
       {
        "data": "eNpjYFBwZMAABxwwxRqwidkDAFK8AuE=",
        "encoding": "base64",
        "path": [
         "model_matrix",
         "compressed_buffer"
        ]
       },
       {
        "data": "eNrllUEOACEMAjv//7R7XQGj0Vs5TqItWLXqXnxSMlFQ6Jhba2u8l9TQ/vgpMlDo2O5+KauDXNIRLb2ZnkHhDdvPJWYg3mo1aj7m5I3HOsigXAT+fnTz222eG75XTf6jAc5KA/E=",
        "encoding": "base64",
        "path": [
         "voxels",
         "compressed_buffer"
        ]
       }
      ],
      "model_module": "k3d",
      "model_module_version": "2.6.9",
      "model_name": "ObjectModel",
      "state": {
       "_view_count": null,
       "_view_module": null,
       "_view_module_version": "",
       "_view_name": null,
       "color_map": {
        "dtype": "uint32",
        "shape": []
       },
       "compression_level": 0,
       "id": 4641879488,
       "model_matrix": {
        "dtype": "float32",
        "shape": [
         4,
         4
        ]
       },
       "name": null,
       "opacity": 1,
       "outlines": false,
       "outlines_color": 0,
       "type": "Voxels",
       "visible": true,
       "voxels": {
        "dtype": "uint8",
        "shape": [
         8,
         12,
         20
        ]
       },
       "wireframe": false
      }
     },
     "aed9f9e8a5354f40bc2a773ab6671175": {
      "model_module": "k3d",
      "model_module_version": "2.6.9",
      "model_name": "PlotModel",
      "state": {
       "_backend_version": "2.6.9",
       "_dom_classes": [],
       "_view_count": null,
       "antialias": 3,
       "axes": [
        "x",
        "y",
        "z"
       ],
       "background_color": 16777215,
       "camera": [
        9.80367128973346,
        -14.70550693460019,
        0.9803671289733545,
        0,
        0,
        0,
        0,
        0,
        1
       ],
       "camera_auto_fit": true,
       "camera_no_pan": false,
       "camera_no_rotate": false,
       "camera_no_zoom": false,
       "clipping_planes": [],
       "colorbar_object_id": -1,
       "fps_meter": false,
       "grid": [
        -1,
        -1,
        -1,
        1,
        1,
        1
       ],
       "grid_auto_fit": true,
       "grid_visible": true,
       "height": 512,
       "layout": "IPY_MODEL_abfd72cbc17c4ae498914c4133d70505",
       "lighting": 1,
       "menu_visibility": true,
       "object_ids": [
        4511715224
       ],
       "rendering_steps": 1,
       "screenshot": "",
       "screenshot_scale": 2,
       "time": 0,
       "voxel_paint_color": 0
      }
     },
     "af42fa58c4ed4a6f9d6ae0a3b015d956": {
      "model_module": "@jupyter-widgets/base",
      "model_module_version": "1.2.0",
      "model_name": "LayoutModel",
      "state": {}
     },
     "b044979c39c046d9a2d4b887226eee49": {
      "model_module": "@jupyter-widgets/output",
      "model_module_version": "1.0.0",
      "model_name": "OutputModel",
      "state": {
       "layout": "IPY_MODEL_17baa966a06743998ca045b26fd79f15",
       "outputs": [
        {
         "data": {
          "application/vnd.jupyter.widget-view+json": {
           "model_id": "15418b611c434eb39d68b9ed5b01321f",
           "version_major": 2,
           "version_minor": 0
          },
          "text/plain": "Plot(antialias=3, axes=['x', 'y', 'z'], background_color=16777215, camera=[4.5, 4.5, 4.5, 0.0, 0.0, 0.0, 1.0, …"
         },
         "metadata": {},
         "output_type": "display_data"
        }
       ]
      }
     },
     "b0a4d446cf70432192a4e3ed530e2015": {
      "model_module": "k3d",
      "model_module_version": "2.6.9",
      "model_name": "PlotModel",
      "state": {
       "_backend_version": "2.6.9",
       "_dom_classes": [],
       "_view_count": null,
       "antialias": 3,
       "axes": [
        "x",
        "y",
        "z"
       ],
       "background_color": 16777215,
       "camera": [
        10.284874878907916,
        -15.489812315567907,
        1.0059874815950598,
        -0.02499999664723873,
        -0.02500000223517418,
        -0.025000005960464478,
        0,
        0,
        1
       ],
       "camera_auto_fit": true,
       "camera_no_pan": false,
       "camera_no_rotate": false,
       "camera_no_zoom": false,
       "clipping_planes": [],
       "colorbar_object_id": -1,
       "fps_meter": false,
       "grid": [
        -1,
        -1,
        -1,
        1,
        1,
        1
       ],
       "grid_auto_fit": true,
       "grid_visible": true,
       "height": 512,
       "layout": "IPY_MODEL_7862944d2e334f279599d6b82e6ec076",
       "lighting": 1,
       "menu_visibility": true,
       "object_ids": [
        4471551928
       ],
       "rendering_steps": 1,
       "screenshot": "",
       "screenshot_scale": 2,
       "time": 0,
       "voxel_paint_color": 0
      }
     },
     "b117707df9dc41b9931055c09ffdd37c": {
      "buffers": [
       {
        "data": "eNoDAAAAAAE=",
        "encoding": "base64",
        "path": [
         "colors",
         "compressed_buffer"
        ]
       },
       {
        "data": "eNpjYGiwZ8AAxIsBAF7EAv0=",
        "encoding": "base64",
        "path": [
         "model_matrix",
         "compressed_buffer"
        ]
       },
       {
        "data": "eNpN0MENgCAQRFEqm5nSLGUrcVuhFEME/QfDP8CLmTGSMarfb3XQ140W7vjvQs9+3x8zMAMzMAMzME9Pdu/32z8d9Dq/Fu4Yb9GT3fufji/4gi/4gi/4gi/sY+xj7GPsY+xj7GPsY+wDs2AWzIJZMAtm+QEXvmyN",
        "encoding": "base64",
        "path": [
         "positions",
         "compressed_buffer"
        ]
       }
      ],
      "model_module": "k3d",
      "model_module_version": "2.6.9",
      "model_name": "ObjectModel",
      "state": {
       "_view_count": null,
       "_view_module": null,
       "_view_module_version": "",
       "_view_name": null,
       "color": 10075135,
       "colors": {
        "dtype": "uint32",
        "shape": [
         0
        ]
       },
       "compression_level": 0,
       "id": 4561074000,
       "mesh_detail": 2,
       "model_matrix": {
        "dtype": "float32",
        "shape": [
         4,
         4
        ]
       },
       "name": null,
       "opacity": 1,
       "point_size": 0.1,
       "positions": {
        "dtype": "float32",
        "shape": [
         44,
         3
        ]
       },
       "shader": "3dSpecular",
       "type": "Points",
       "visible": true
      }
     },
     "b163ce524dd04a17a6cbfad4efbd87a8": {
      "buffers": [
       {
        "data": "eNq7PcOEAQAFoAGo",
        "encoding": "base64",
        "path": [
         "color_map",
         "compressed_buffer"
        ]
       },
       {
        "data": "eNpjYFBwZMAABxwwxRqwidkDAFK8AuE=",
        "encoding": "base64",
        "path": [
         "model_matrix",
         "compressed_buffer"
        ]
       },
       {
        "data": "eNrllUEOACEMAjv//7R7XQGj0Vs5TqItWLXqXnxSMlFQ6Jhba2u8l9TQ/vgpMlDo2O5+KauDXNIRLb2ZnkHhDdvPJWYg3mo1aj7m5I3HOsigXAT+fnTz222eG75XTf6jAc5KA/E=",
        "encoding": "base64",
        "path": [
         "voxels",
         "compressed_buffer"
        ]
       }
      ],
      "model_module": "k3d",
      "model_module_version": "2.6.9",
      "model_name": "ObjectModel",
      "state": {
       "_view_count": null,
       "_view_module": null,
       "_view_module_version": "",
       "_view_name": null,
       "color_map": {
        "dtype": "uint32",
        "shape": []
       },
       "compression_level": 0,
       "id": 4511713936,
       "model_matrix": {
        "dtype": "float32",
        "shape": [
         4,
         4
        ]
       },
       "name": null,
       "opacity": 1,
       "outlines": false,
       "outlines_color": 0,
       "type": "Voxels",
       "visible": true,
       "voxels": {
        "dtype": "uint8",
        "shape": [
         8,
         12,
         20
        ]
       },
       "wireframe": false
      }
     },
     "b29b4b3ff4014decaed3eeaf6f5f64a7": {
      "model_module": "@jupyter-widgets/base",
      "model_module_version": "1.2.0",
      "model_name": "LayoutModel",
      "state": {}
     },
     "b314bedd6fff42ca929c476bb33cb273": {
      "model_module": "@jupyter-widgets/base",
      "model_module_version": "1.2.0",
      "model_name": "LayoutModel",
      "state": {}
     },
     "b3689a6a4d1547bea886be31e192f2cd": {
      "model_module": "@jupyter-widgets/output",
      "model_module_version": "1.0.0",
      "model_name": "OutputModel",
      "state": {
       "layout": "IPY_MODEL_084a6f4398df4ca39e21eca94bf1990e",
       "outputs": [
        {
         "data": {
          "application/vnd.jupyter.widget-view+json": {
           "model_id": "cc998d3452154c36a5d9f4ce1a159bb8",
           "version_major": 2,
           "version_minor": 0
          },
          "text/plain": "Plot(antialias=3, axes=['x', 'y', 'z'], background_color=16777215, camera=[4.5, 4.5, 4.5, 0.0, 0.0, 0.0, 1.0, …"
         },
         "metadata": {},
         "output_type": "display_data"
        }
       ]
      }
     },
     "b371947efd7c4ea0b68c85efb3fae4b8": {
      "model_module": "k3d",
      "model_module_version": "2.6.9",
      "model_name": "PlotModel",
      "state": {
       "_backend_version": "2.6.9",
       "_dom_classes": [],
       "_view_count": null,
       "antialias": 3,
       "axes": [
        "x",
        "y",
        "z"
       ],
       "background_color": 16777215,
       "camera": [
        9.733137238263115,
        -14.662205854600705,
        0.9758137234910438,
        -0.02499999664723873,
        -0.02500000223517418,
        0,
        0,
        0,
        1
       ],
       "camera_auto_fit": true,
       "camera_no_pan": false,
       "camera_no_rotate": false,
       "camera_no_zoom": false,
       "clipping_planes": [],
       "colorbar_object_id": -1,
       "fps_meter": false,
       "grid": [
        -1,
        -1,
        -1,
        1,
        1,
        1
       ],
       "grid_auto_fit": true,
       "grid_visible": true,
       "height": 512,
       "layout": "IPY_MODEL_f5fc8e7f28714a68b66b10332a901a4f",
       "lighting": 1,
       "menu_visibility": true,
       "object_ids": [
        4525951952
       ],
       "rendering_steps": 1,
       "screenshot": "",
       "screenshot_scale": 2,
       "time": 0,
       "voxel_paint_color": 0
      }
     },
     "b376bd5430a441a0b991dc6b8ed959a3": {
      "buffers": [
       {
        "data": "eNoDAAAAAAE=",
        "encoding": "base64",
        "path": [
         "colors",
         "compressed_buffer"
        ]
       },
       {
        "data": "eNpjYGiwZ8AAxIsBAF7EAv0=",
        "encoding": "base64",
        "path": [
         "model_matrix",
         "compressed_buffer"
        ]
       },
       {
        "data": "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",
        "encoding": "base64",
        "path": [
         "positions",
         "compressed_buffer"
        ]
       }
      ],
      "model_module": "k3d",
      "model_module_version": "2.6.9",
      "model_name": "ObjectModel",
      "state": {
       "_view_count": null,
       "_view_module": null,
       "_view_module_version": "",
       "_view_name": null,
       "color": 10075135,
       "colors": {
        "dtype": "uint32",
        "shape": [
         0
        ]
       },
       "compression_level": 0,
       "id": 4654231056,
       "mesh_detail": 2,
       "model_matrix": {
        "dtype": "float32",
        "shape": [
         4,
         4
        ]
       },
       "name": null,
       "opacity": 1,
       "point_size": 0.1,
       "positions": {
        "dtype": "float32",
        "shape": [
         1008,
         3
        ]
       },
       "shader": "3dSpecular",
       "type": "Points",
       "visible": true
      }
     },
     "b3bb0a4039f547b8b1a9002f1124f2b6": {
      "model_module": "@jupyter-widgets/base",
      "model_module_version": "1.2.0",
      "model_name": "LayoutModel",
      "state": {}
     },
     "b40f901a61a9479c8317f3ba9adc0a5f": {
      "model_module": "k3d",
      "model_module_version": "2.6.9",
      "model_name": "PlotModel",
      "state": {
       "_backend_version": "2.6.9",
       "_dom_classes": [],
       "_view_count": null,
       "antialias": 3,
       "axes": [
        "x",
        "y",
        "z"
       ],
       "background_color": 16777215,
       "camera": [
        10.284874878907916,
        -15.489812315567907,
        1.0059874815950598,
        -0.02499999664723873,
        -0.02500000223517418,
        -0.025000005960464478,
        0,
        0,
        1
       ],
       "camera_auto_fit": true,
       "camera_no_pan": false,
       "camera_no_rotate": false,
       "camera_no_zoom": false,
       "clipping_planes": [],
       "colorbar_object_id": -1,
       "fps_meter": false,
       "grid": [
        -1,
        -1,
        -1,
        1,
        1,
        1
       ],
       "grid_auto_fit": true,
       "grid_visible": true,
       "height": 512,
       "layout": "IPY_MODEL_678cd1a24b9a4cacbbee291a4f38624a",
       "lighting": 1,
       "menu_visibility": true,
       "object_ids": [
        4506223952
       ],
       "rendering_steps": 1,
       "screenshot": "",
       "screenshot_scale": 2,
       "time": 0,
       "voxel_paint_color": 0
      }
     },
     "b477e086c16c426590b9b2c101a7cb10": {
      "model_module": "@jupyter-widgets/output",
      "model_module_version": "1.0.0",
      "model_name": "OutputModel",
      "state": {
       "layout": "IPY_MODEL_ff1c647871f84eaf8786e7762f6aaba4",
       "outputs": [
        {
         "data": {
          "application/vnd.jupyter.widget-view+json": {
           "model_id": "18a4c67083404ff18ce6034fb6a441bd",
           "version_major": 2,
           "version_minor": 0
          },
          "text/plain": "Plot(antialias=3, axes=['x', 'y', 'z'], background_color=16777215, camera=[4.5, 4.5, 4.5, 0.0, 0.0, 0.0, 1.0, …"
         },
         "metadata": {},
         "output_type": "display_data"
        }
       ]
      }
     },
     "b4d7796f6ced46d0b1866f3259365beb": {
      "model_module": "@jupyter-widgets/base",
      "model_module_version": "1.2.0",
      "model_name": "LayoutModel",
      "state": {}
     },
     "b4f9b9df20be4d908e7ad41cd3380e76": {
      "model_module": "k3d",
      "model_module_version": "2.6.9",
      "model_name": "PlotModel",
      "state": {
       "_backend_version": "2.6.9",
       "_dom_classes": [],
       "_view_count": null,
       "antialias": 3,
       "axes": [
        "x",
        "y",
        "z"
       ],
       "background_color": 16777215,
       "camera": [
        10.284874878907916,
        -15.489812315567907,
        1.0059874815950598,
        -0.02499999664723873,
        -0.02500000223517418,
        -0.025000005960464478,
        0,
        0,
        1
       ],
       "camera_auto_fit": true,
       "camera_no_pan": false,
       "camera_no_rotate": false,
       "camera_no_zoom": false,
       "clipping_planes": [],
       "colorbar_object_id": -1,
       "fps_meter": false,
       "grid": [
        -1,
        -1,
        -1,
        1,
        1,
        1
       ],
       "grid_auto_fit": true,
       "grid_visible": true,
       "height": 512,
       "layout": "IPY_MODEL_64d457c833464b5fac9af54760236818",
       "lighting": 1,
       "menu_visibility": true,
       "object_ids": [
        4511879968
       ],
       "rendering_steps": 1,
       "screenshot": "",
       "screenshot_scale": 2,
       "time": 0,
       "voxel_paint_color": 0
      }
     },
     "b5934420c01b414b8eb25253f41fc3aa": {
      "model_module": "k3d",
      "model_module_version": "2.6.9",
      "model_name": "PlotModel",
      "state": {
       "_backend_version": "2.6.9",
       "_dom_classes": [],
       "_view_count": null,
       "antialias": 3,
       "axes": [
        "x",
        "y",
        "z"
       ],
       "background_color": 16777215,
       "camera": [
        10.284874878907916,
        -15.489812315567907,
        1.0059874815950491,
        -0.02499999664723873,
        -0.02500000223517418,
        -0.025000005960464478,
        0,
        0,
        1
       ],
       "camera_auto_fit": true,
       "camera_no_pan": false,
       "camera_no_rotate": false,
       "camera_no_zoom": false,
       "clipping_planes": [],
       "colorbar_object_id": -1,
       "fps_meter": false,
       "grid": [
        -1,
        -1,
        -1,
        1,
        1,
        1
       ],
       "grid_auto_fit": true,
       "grid_visible": true,
       "height": 512,
       "layout": "IPY_MODEL_5357e6108e2048138e8df1408ba0f5f7",
       "lighting": 1,
       "menu_visibility": true,
       "object_ids": [
        4494620752
       ],
       "rendering_steps": 1,
       "screenshot": "",
       "screenshot_scale": 2,
       "time": 0,
       "voxel_paint_color": 0
      }
     },
     "b5ae5dec52214b2ab03a824d282bb86e": {
      "model_module": "@jupyter-widgets/output",
      "model_module_version": "1.0.0",
      "model_name": "OutputModel",
      "state": {
       "layout": "IPY_MODEL_0caaf6e5f5ef44ad89912d02dd4155f2",
       "outputs": [
        {
         "data": {
          "application/vnd.jupyter.widget-view+json": {
           "model_id": "e76ce0ad98574e8e948587b0bc560a28",
           "version_major": 2,
           "version_minor": 0
          },
          "text/plain": "Plot(antialias=3, axes=['x', 'y', 'z'], background_color=16777215, camera=[4.5, 4.5, 4.5, 0.0, 0.0, 0.0, 1.0, …"
         },
         "metadata": {},
         "output_type": "display_data"
        }
       ]
      }
     },
     "b5b51072aafb46b5a5f9a44a1723ec96": {
      "buffers": [
       {
        "data": "eNpLWKfOAAAD3AE2",
        "encoding": "base64",
        "path": [
         "color_map",
         "compressed_buffer"
        ]
       },
       {
        "data": "eNpjYFBwZMAABxwwxRqwidkDAFK8AuE=",
        "encoding": "base64",
        "path": [
         "model_matrix",
         "compressed_buffer"
        ]
       },
       {
        "data": "eNrllUEOACEMAjv//7R7XQGj0Vs5TqItWLXqXnxSMlFQ6Jhba2u8l9TQ/vgpMlDo2O5+KauDXNIRLb2ZnkHhDdvPJWYg3mo1aj7m5I3HOsigXAT+fnTz222eG75XTf6jAc5KA/E=",
        "encoding": "base64",
        "path": [
         "voxels",
         "compressed_buffer"
        ]
       }
      ],
      "model_module": "k3d",
      "model_module_version": "2.6.9",
      "model_name": "ObjectModel",
      "state": {
       "_view_count": null,
       "_view_module": null,
       "_view_module_version": "",
       "_view_name": null,
       "color_map": {
        "dtype": "uint32",
        "shape": []
       },
       "compression_level": 0,
       "id": 4525828176,
       "model_matrix": {
        "dtype": "float32",
        "shape": [
         4,
         4
        ]
       },
       "name": null,
       "opacity": 1,
       "outlines": false,
       "outlines_color": 0,
       "type": "Voxels",
       "visible": true,
       "voxels": {
        "dtype": "uint8",
        "shape": [
         8,
         12,
         20
        ]
       },
       "wireframe": false
      }
     },
     "b6140ccd33b34cecb3228b7b3f7229af": {
      "buffers": [
       {
        "data": "eNoDAAAAAAE=",
        "encoding": "base64",
        "path": [
         "colors",
         "compressed_buffer"
        ]
       },
       {
        "data": "eNpjYGiwZ8AAxIsBAF7EAv0=",
        "encoding": "base64",
        "path": [
         "model_matrix",
         "compressed_buffer"
        ]
       },
       {
        "data": "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",
        "encoding": "base64",
        "path": [
         "origins",
         "compressed_buffer"
        ]
       },
       {
        "data": "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",
        "encoding": "base64",
        "path": [
         "vectors",
         "compressed_buffer"
        ]
       }
      ],
      "model_module": "k3d",
      "model_module_version": "2.6.9",
      "model_name": "ObjectModel",
      "state": {
       "_view_count": null,
       "_view_module": null,
       "_view_module_version": "",
       "_view_name": null,
       "colors": {
        "dtype": "uint32",
        "shape": [
         0
        ]
       },
       "compression_level": 0,
       "head_color": 255,
       "head_size": 1,
       "id": 4734016816,
       "label_size": 1,
       "labels": [],
       "line_width": 0.01,
       "model_matrix": {
        "dtype": "float32",
        "shape": [
         4,
         4
        ]
       },
       "name": null,
       "origin_color": 255,
       "origins": {
        "dtype": "float32",
        "shape": [
         1008,
         3
        ]
       },
       "type": "Vectors",
       "use_head": true,
       "vectors": {
        "dtype": "float32",
        "shape": [
         1008,
         3
        ]
       },
       "visible": true
      }
     },
     "b6178395088244c7afe2c0f11ab6cf47": {
      "buffers": [
       {
        "data": "eNoLvljOEAzEhfucwLh9oTwY9zWog3FvogkYd7g5gLHkoxtgrHz/EBhb35wLxgmnEsC4ZYUSGPdVaoJxd6A1GDeYuIFxibIHGGdJQLDCs29gLPv0IxhLPnkOxjIPL4Cxzc3ZYFy91RCM+3L0wbjR1BWM82Q8wDhZwB2MY7ncwDiKHYJVn/9FwcrPf4MxzF7JJ0/BOBgaDjB/pgi6gzHMnHAWVzAOY3IB4xBGCKa1+bQOH2rHZzCJ6QkAgWfRNQ==",
        "encoding": "base64",
        "path": [
         "colors",
         "compressed_buffer"
        ]
       },
       {
        "data": "eNpjYGiwZ8AAxIsBAF7EAv0=",
        "encoding": "base64",
        "path": [
         "model_matrix",
         "compressed_buffer"
        ]
       },
       {
        "data": "eNpNk09IVHEQxy/JemlpKYJgqQVJimLVCiLxzXct2EIjCQoq7GASlrAIUmGCRAgFRdEindbFbA0vHYI6FPZmHktJoRIVuBczyv6c8lCUaRDNnJrTm8N3Zj7v9/1OJbcYLq/clfqaKVlqGQ3PP85KV/8L6Wr7+vTXuZt8+OGk1U1r13eS1aoJru/fA9NUcotBrKoI650Z38mdSESpK0My8KWWl1c+Ss2GvNzJr2EqlmT62w2p7X4dlp8ckOG6a/L5x8ZwYH6IP229anUQ23eMrFZNQNndMI32UvnUMKxXZ1Ks6h1spu6iYhTP2K5HvVkeTzVE6b4dcubVXj5yIhGtflYnU9ubuLF9QUZnt0lqMM0f2sdk4s1m+Z2Ms1RapdyXlO+xi+Hf1AgPHkpYHaziZrJaNdS8ZRdMo720qVSA9epMmizNwWbqLrp/L56xXcpAx9+nM8YwM31Q/6khko4c5/+0cqk7Eb09epb7T7foOyyIviPPP8jyyNKY6D/zz+eNfOlWm+hu1vcMLxQmeN3LaqsD/ZLVqqHLPfUwjfZSR3UB1qsz9X3mYDN1F528Hc/YLmWg5Gw6YwyOhxwPOR5yPOR4yPGQ4yHHQ46HHA85HnI85PyC8wvOLzi/4PyC8wvOLzi/4PyC8wvOLzi/4HILl1u43MLlFi63cLmFyy1cbuFyC5dbVP7fHdzdwd0d3N3B3R3c3eEfvcjK8g==",
        "encoding": "base64",
        "path": [
         "origins",
         "compressed_buffer"
        ]
       },
       {
        "data": "eNpNkz0vRFEQhqlEIwqNROIrUQilct6SRCOi8AcIEbuFkmyllIhtN7JUdEKoxJlCYgu7G+WqqPgBKxtEY+bmTPIWkzM3dz6ec96ZTqmMRYVUPi/0e3kSZ0Pr0px70K2VLXHb33x2P4VvMRoxnVJZI7d9eYvazbj01ZfUvoua/v+8egLPtVNndlYxenokE4dX+vFVF7e364b7KXyL0YjxnMj1HlHTemn0uttrYHdtWKYqr2n75RHTs/NSe+9X4yvu4rxWq+jrtX/GjtE7SGKndgd+xa33dO9+Ct//RYxzRK7fOWpaL41exqDB0G61MNgdEbNU/WtiY3VBzJK9HfKbJrsn8v2T9UPmSHY3ZNNshZ/5ipj8XkVu1qaoab00ehmDBgPxCPEI8QjxCPEI8YB4QDxCPEI8QjxCPEJ6CekF0gukF0gvkF4gvUB6gfQC6QXSC6SX0NyC5hY0t6C5Bc0taG5BcwuaW9Dcgua2eMe8O6C9A+0daO9AewfaO/wDaMzjfA==",
        "encoding": "base64",
        "path": [
         "vectors",
         "compressed_buffer"
        ]
       }
      ],
      "model_module": "k3d",
      "model_module_version": "2.6.9",
      "model_name": "ObjectModel",
      "state": {
       "_view_count": null,
       "_view_module": null,
       "_view_module_version": "",
       "_view_name": null,
       "colors": {
        "dtype": "uint32",
        "shape": [
         80,
         2
        ]
       },
       "compression_level": 0,
       "head_color": 255,
       "head_size": 1,
       "id": 4654114704,
       "label_size": 1,
       "labels": [],
       "line_width": 0.01,
       "model_matrix": {
        "dtype": "float32",
        "shape": [
         4,
         4
        ]
       },
       "name": null,
       "origin_color": 255,
       "origins": {
        "dtype": "float32",
        "shape": [
         80,
         3
        ]
       },
       "type": "Vectors",
       "use_head": true,
       "vectors": {
        "dtype": "float32",
        "shape": [
         80,
         3
        ]
       },
       "visible": true
      }
     },
     "b630f1fb3a1d4f86b70cdb039b327339": {
      "model_module": "k3d",
      "model_module_version": "2.6.9",
      "model_name": "PlotModel",
      "state": {
       "_backend_version": "2.6.9",
       "_dom_classes": [],
       "_view_count": null,
       "antialias": 3,
       "axes": [
        "x",
        "y",
        "z"
       ],
       "background_color": 16777215,
       "camera": [
        10.284874878907916,
        -15.489812315567907,
        1.0059874815950598,
        -0.02499999664723873,
        -0.02500000223517418,
        -0.025000005960464478,
        0,
        0,
        1
       ],
       "camera_auto_fit": true,
       "camera_no_pan": false,
       "camera_no_rotate": false,
       "camera_no_zoom": false,
       "clipping_planes": [],
       "colorbar_object_id": -1,
       "fps_meter": false,
       "grid": [
        -1,
        -1,
        -1,
        1,
        1,
        1
       ],
       "grid_auto_fit": true,
       "grid_visible": true,
       "height": 512,
       "layout": "IPY_MODEL_5be3f9d33a294bfcaa9aa6e3cf23f5af",
       "lighting": 1,
       "menu_visibility": true,
       "object_ids": [
        4526203664
       ],
       "rendering_steps": 1,
       "screenshot": "",
       "screenshot_scale": 2,
       "time": 0,
       "voxel_paint_color": 0
      }
     },
     "b7118477ace741f2af42f1861bfc0803": {
      "buffers": [
       {
        "data": "eNoDAAAAAAE=",
        "encoding": "base64",
        "path": [
         "colors",
         "compressed_buffer"
        ]
       },
       {
        "data": "eNpjYGiwZ8AAxIsBAF7EAv0=",
        "encoding": "base64",
        "path": [
         "model_matrix",
         "compressed_buffer"
        ]
       },
       {
        "data": "eNpN0VENwzAMBuFAGJQisA1tUIxkK5RAmbIq7ZeXnqL0dNI/xjr9HWN+/zgKfn/g4E0+3PDrvFzrrLvNDRe8/I2/8Tf+2wm/6uHjvLy7oWgoGoqGoqFoKBqKhqKhaNh8yOfl3T2bV8/mhgte35uDN8m/8IRXz+ZDPi/X3RP0BD1BT9AT9AQ9QU/QE/QEPcFeyV7JXsleyV7JXsleyV7JXsleyV7JXjQ0DU1D09A0NA1NQ9PQNDQN+if+iX/in/gn/pk/dr6bDQ==",
        "encoding": "base64",
        "path": [
         "positions",
         "compressed_buffer"
        ]
       }
      ],
      "model_module": "k3d",
      "model_module_version": "2.6.9",
      "model_name": "ObjectModel",
      "state": {
       "_view_count": null,
       "_view_module": null,
       "_view_module_version": "",
       "_view_name": null,
       "color": 10075135,
       "colors": {
        "dtype": "uint32",
        "shape": [
         0
        ]
       },
       "compression_level": 0,
       "id": 4701903056,
       "mesh_detail": 2,
       "model_matrix": {
        "dtype": "float32",
        "shape": [
         4,
         4
        ]
       },
       "name": null,
       "opacity": 1,
       "point_size": 0.1,
       "positions": {
        "dtype": "float32",
        "shape": [
         80,
         3
        ]
       },
       "shader": "3dSpecular",
       "type": "Points",
       "visible": true
      }
     },
     "b7d5316568374b8ba31ae6b71674590f": {
      "model_module": "k3d",
      "model_module_version": "2.6.9",
      "model_name": "PlotModel",
      "state": {
       "_backend_version": "2.6.9",
       "_dom_classes": [],
       "_view_count": null,
       "antialias": 3,
       "axes": [
        "x",
        "y",
        "z"
       ],
       "background_color": 16777215,
       "camera": [
        10.284874878907916,
        -15.489812315567907,
        1.0059874815950491,
        -0.02499999664723873,
        -0.02500000223517418,
        -0.025000005960464478,
        0,
        0,
        1
       ],
       "camera_auto_fit": true,
       "camera_no_pan": false,
       "camera_no_rotate": false,
       "camera_no_zoom": false,
       "clipping_planes": [],
       "colorbar_object_id": -1,
       "fps_meter": false,
       "grid": [
        -1,
        -1,
        -1,
        1,
        1,
        1
       ],
       "grid_auto_fit": true,
       "grid_visible": true,
       "height": 512,
       "layout": "IPY_MODEL_bc85e2c834394b389abea77c0a6f81be",
       "lighting": 1,
       "menu_visibility": true,
       "object_ids": [
        4492940048
       ],
       "rendering_steps": 1,
       "screenshot": "",
       "screenshot_scale": 2,
       "time": 0,
       "voxel_paint_color": 0
      }
     },
     "b85ce46b790147a9ae318e8f8f6978c0": {
      "model_module": "@jupyter-widgets/base",
      "model_module_version": "1.2.0",
      "model_name": "LayoutModel",
      "state": {}
     },
     "b8c83511a2a047819ffbad32bcf4f7d9": {
      "model_module": "@jupyter-widgets/base",
      "model_module_version": "1.2.0",
      "model_name": "LayoutModel",
      "state": {}
     },
     "b924421e8249499ca70a362e2a7703e2": {
      "buffers": [
       {
        "data": "eNoDAAAAAAE=",
        "encoding": "base64",
        "path": [
         "colors",
         "compressed_buffer"
        ]
       },
       {
        "data": "eNpjYGiwZ8AAxIsBAF7EAv0=",
        "encoding": "base64",
        "path": [
         "model_matrix",
         "compressed_buffer"
        ]
       },
       {
        "data": "eNpN0VENwzAMBuFAGJQisA1tUIxkK5RAmbIq7ZeXnqL0dNI/xjr9HWN+/zgKfn/g4E0+3PDrvFzrrLvNDRe8/I2/8Tf+2wm/6uHjvLy7oWgoGoqGoqFoKBqKhqKhaNh8yOfl3T2bV8/mhgte35uDN8m/8IRXz+ZDPi/X3RP0BD1BT9AT9AQ9QU/QE/QEPcFeyV7JXsleyV7JXsleyV7JXsleyV7JXjQ0DU1D09A0NA1NQ9PQNDQN+if+iX/in/gn/pk/dr6bDQ==",
        "encoding": "base64",
        "path": [
         "positions",
         "compressed_buffer"
        ]
       }
      ],
      "model_module": "k3d",
      "model_module_version": "2.6.9",
      "model_name": "ObjectModel",
      "state": {
       "_view_count": null,
       "_view_module": null,
       "_view_module_version": "",
       "_view_name": null,
       "color": 10075135,
       "colors": {
        "dtype": "uint32",
        "shape": [
         0
        ]
       },
       "compression_level": 0,
       "id": 4717603344,
       "mesh_detail": 2,
       "model_matrix": {
        "dtype": "float32",
        "shape": [
         4,
         4
        ]
       },
       "name": null,
       "opacity": 1,
       "point_size": 0.1,
       "positions": {
        "dtype": "float32",
        "shape": [
         80,
         3
        ]
       },
       "shader": "3dSpecular",
       "type": "Points",
       "visible": true
      }
     },
     "b92f29ef2c3a48aca19a1dc6bb2dc165": {
      "buffers": [
       {
        "data": "eNoDAAAAAAE=",
        "encoding": "base64",
        "path": [
         "colors",
         "compressed_buffer"
        ]
       },
       {
        "data": "eNpjYGiwZ8AAxIsBAF7EAv0=",
        "encoding": "base64",
        "path": [
         "model_matrix",
         "compressed_buffer"
        ]
       },
       {
        "data": "eNpN0VENwzAMBuFAGJQisA1tUIxkK5RAmbIq7ZeXnqL0dNI/xjr9HWN+/zgKfn/g4E0+3PDrvFzrrLvNDRe8/I2/8Tf+2wm/6uHjvLy7oWgoGoqGoqFoKBqKhqKhaNh8yOfl3T2bV8/mhgte35uDN8m/8IRXz+ZDPi/X3RP0BD1BT9AT9AQ9QU/QE/QEPcFeyV7JXsleyV7JXsleyV7JXsleyV7JXjQ0DU1D09A0NA1NQ9PQNDQN+if+iX/in/gn/pk/dr6bDQ==",
        "encoding": "base64",
        "path": [
         "positions",
         "compressed_buffer"
        ]
       }
      ],
      "model_module": "k3d",
      "model_module_version": "2.6.9",
      "model_name": "ObjectModel",
      "state": {
       "_view_count": null,
       "_view_module": null,
       "_view_module_version": "",
       "_view_name": null,
       "color": 10075135,
       "colors": {
        "dtype": "uint32",
        "shape": [
         0
        ]
       },
       "compression_level": 0,
       "id": 4717922640,
       "mesh_detail": 2,
       "model_matrix": {
        "dtype": "float32",
        "shape": [
         4,
         4
        ]
       },
       "name": null,
       "opacity": 1,
       "point_size": 0.1,
       "positions": {
        "dtype": "float32",
        "shape": [
         80,
         3
        ]
       },
       "shader": "3dSpecular",
       "type": "Points",
       "visible": true
      }
     },
     "b9a91e54ebef49c3a82d025a328fdb04": {
      "buffers": [
       {
        "data": "eNoDAAAAAAE=",
        "encoding": "base64",
        "path": [
         "colors",
         "compressed_buffer"
        ]
       },
       {
        "data": "eNpjYGiwZ8AAxIsBAF7EAv0=",
        "encoding": "base64",
        "path": [
         "model_matrix",
         "compressed_buffer"
        ]
       },
       {
        "data": "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",
        "encoding": "base64",
        "path": [
         "origins",
         "compressed_buffer"
        ]
       },
       {
        "data": "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",
        "encoding": "base64",
        "path": [
         "vectors",
         "compressed_buffer"
        ]
       }
      ],
      "model_module": "k3d",
      "model_module_version": "2.6.9",
      "model_name": "ObjectModel",
      "state": {
       "_view_count": null,
       "_view_module": null,
       "_view_module_version": "",
       "_view_name": null,
       "colors": {
        "dtype": "uint32",
        "shape": [
         0
        ]
       },
       "compression_level": 0,
       "head_color": 255,
       "head_size": 1,
       "id": 4654132624,
       "label_size": 1,
       "labels": [],
       "line_width": 0.01,
       "model_matrix": {
        "dtype": "float32",
        "shape": [
         4,
         4
        ]
       },
       "name": null,
       "origin_color": 255,
       "origins": {
        "dtype": "float32",
        "shape": [
         1008,
         3
        ]
       },
       "type": "Vectors",
       "use_head": true,
       "vectors": {
        "dtype": "float32",
        "shape": [
         1008,
         3
        ]
       },
       "visible": true
      }
     },
     "b9b11b6310b743d6a0585ed03f508c0f": {
      "model_module": "k3d",
      "model_module_version": "2.6.9",
      "model_name": "PlotModel",
      "state": {
       "_backend_version": "2.6.9",
       "_dom_classes": [],
       "_view_count": null,
       "antialias": 3,
       "axes": [
        "x",
        "y",
        "z"
       ],
       "background_color": 16777215,
       "camera": [
        9.80367128973346,
        -14.70550693460019,
        0.9803671289733545,
        0,
        0,
        0,
        0,
        0,
        1
       ],
       "camera_auto_fit": true,
       "camera_no_pan": false,
       "camera_no_rotate": false,
       "camera_no_zoom": false,
       "clipping_planes": [],
       "colorbar_object_id": -1,
       "fps_meter": false,
       "grid": [
        -1,
        -1,
        -1,
        1,
        1,
        1
       ],
       "grid_auto_fit": true,
       "grid_visible": true,
       "height": 512,
       "layout": "IPY_MODEL_4b5a7e3b275e4093967382beda9741de",
       "lighting": 1,
       "menu_visibility": true,
       "object_ids": [
        4596429776
       ],
       "rendering_steps": 1,
       "screenshot": "",
       "screenshot_scale": 2,
       "time": 0,
       "voxel_paint_color": 0
      }
     },
     "b9dd146461c04c8db9918076353c3b7e": {
      "buffers": [
       {
        "data": "eNoDAAAAAAE=",
        "encoding": "base64",
        "path": [
         "colors",
         "compressed_buffer"
        ]
       },
       {
        "data": "eNpjYGiwZ8AAxIsBAF7EAv0=",
        "encoding": "base64",
        "path": [
         "model_matrix",
         "compressed_buffer"
        ]
       },
       {
        "data": "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",
        "encoding": "base64",
        "path": [
         "positions",
         "compressed_buffer"
        ]
       }
      ],
      "model_module": "k3d",
      "model_module_version": "2.6.9",
      "model_name": "ObjectModel",
      "state": {
       "_view_count": null,
       "_view_module": null,
       "_view_module_version": "",
       "_view_name": null,
       "color": 10075135,
       "colors": {
        "dtype": "uint32",
        "shape": [
         0
        ]
       },
       "compression_level": 0,
       "id": 4577061712,
       "mesh_detail": 2,
       "model_matrix": {
        "dtype": "float32",
        "shape": [
         4,
         4
        ]
       },
       "name": null,
       "opacity": 1,
       "point_size": 0.1,
       "positions": {
        "dtype": "float32",
        "shape": [
         1008,
         3
        ]
       },
       "shader": "3dSpecular",
       "type": "Points",
       "visible": true
      }
     },
     "b9ee024c29234e3aa51c9f5d35ff728c": {
      "model_module": "@jupyter-widgets/base",
      "model_module_version": "1.2.0",
      "model_name": "LayoutModel",
      "state": {}
     },
     "ba8d09c9b83045c381dc373c50763054": {
      "model_module": "@jupyter-widgets/base",
      "model_module_version": "1.2.0",
      "model_name": "LayoutModel",
      "state": {}
     },
     "bb3252bfbe33430d854417e9975bec27": {
      "model_module": "@jupyter-widgets/base",
      "model_module_version": "1.2.0",
      "model_name": "LayoutModel",
      "state": {}
     },
     "bb41620676b64b0cbc72b78394793922": {
      "buffers": [
       {
        "data": "eNoDAAAAAAE=",
        "encoding": "base64",
        "path": [
         "colors",
         "compressed_buffer"
        ]
       },
       {
        "data": "eNpjYGiwZ8AAxIsBAF7EAv0=",
        "encoding": "base64",
        "path": [
         "model_matrix",
         "compressed_buffer"
        ]
       },
       {
        "data": "eNpN0VENwzAMBuFAGJQisA1tUIxkK5RAmbIq7ZeXnqL0dNI/xjr9HWN+/zgKfn/g4E0+3PDrvFzrrLvNDRe8/I2/8Tf+2wm/6uHjvLy7oWgoGoqGoqFoKBqKhqKhaNh8yOfl3T2bV8/mhgte35uDN8m/8IRXz+ZDPi/X3RP0BD1BT9AT9AQ9QU/QE/QEPcFeyV7JXsleyV7JXsleyV7JXsleyV7JXjQ0DU1D09A0NA1NQ9PQNDQN+if+iX/in/gn/pk/dr6bDQ==",
        "encoding": "base64",
        "path": [
         "positions",
         "compressed_buffer"
        ]
       }
      ],
      "model_module": "k3d",
      "model_module_version": "2.6.9",
      "model_name": "ObjectModel",
      "state": {
       "_view_count": null,
       "_view_module": null,
       "_view_module_version": "",
       "_view_name": null,
       "color": 10075135,
       "colors": {
        "dtype": "uint32",
        "shape": [
         0
        ]
       },
       "compression_level": 0,
       "id": 4506641616,
       "mesh_detail": 2,
       "model_matrix": {
        "dtype": "float32",
        "shape": [
         4,
         4
        ]
       },
       "name": null,
       "opacity": 1,
       "point_size": 0.1,
       "positions": {
        "dtype": "float32",
        "shape": [
         80,
         3
        ]
       },
       "shader": "3dSpecular",
       "type": "Points",
       "visible": true
      }
     },
     "bb481aff2c584baa8d9cf2a56c36e989": {
      "buffers": [
       {
        "data": "eNoDAAAAAAE=",
        "encoding": "base64",
        "path": [
         "colors",
         "compressed_buffer"
        ]
       },
       {
        "data": "eNpjYGiwZ8AAxIsBAF7EAv0=",
        "encoding": "base64",
        "path": [
         "model_matrix",
         "compressed_buffer"
        ]
       },
       {
        "data": "eNpNk09IVHEQxy/JemlpKYJgqQVJimLVCiLxzXct2EIjCQoq7GASlrAIUmGCRAgFRdEindbFbA0vHYI6FPZmHktJoRIVuBczyv6c8lCUaRDNnJrTm8N3Zj7v9/1OJbcYLq/clfqaKVlqGQ3PP85KV/8L6Wr7+vTXuZt8+OGk1U1r13eS1aoJru/fA9NUcotBrKoI650Z38mdSESpK0My8KWWl1c+Ss2GvNzJr2EqlmT62w2p7X4dlp8ckOG6a/L5x8ZwYH6IP229anUQ23eMrFZNQNndMI32UvnUMKxXZ1Ks6h1spu6iYhTP2K5HvVkeTzVE6b4dcubVXj5yIhGtflYnU9ubuLF9QUZnt0lqMM0f2sdk4s1m+Z2Ms1RapdyXlO+xi+Hf1AgPHkpYHaziZrJaNdS8ZRdMo720qVSA9epMmizNwWbqLrp/L56xXcpAx9+nM8YwM31Q/6khko4c5/+0cqk7Eb09epb7T7foOyyIviPPP8jyyNKY6D/zz+eNfOlWm+hu1vcMLxQmeN3LaqsD/ZLVqqHLPfUwjfZSR3UB1qsz9X3mYDN1F528Hc/YLmWg5Gw6YwyOhxwPOR5yPOR4yPGQ4yHHQ46HHA85HnI85PyC8wvOLzi/4PyC8wvOLzi/4PyC8wvOLzi/4HILl1u43MLlFi63cLmFyy1cbuFyC5dbVP7fHdzdwd0d3N3B3R3c3eEfvcjK8g==",
        "encoding": "base64",
        "path": [
         "origins",
         "compressed_buffer"
        ]
       },
       {
        "data": "eNpNkz0vRFEQhqlEIwqNROIrUQilct6SRCOi8AcIEbuFkmyllIhtN7JUdEKoxJlCYgu7G+WqqPgBKxtEY+bmTPIWkzM3dz6ec96ZTqmMRYVUPi/0e3kSZ0Pr0px70K2VLXHb33x2P4VvMRoxnVJZI7d9eYvazbj01ZfUvoua/v+8egLPtVNndlYxenokE4dX+vFVF7e364b7KXyL0YjxnMj1HlHTemn0uttrYHdtWKYqr2n75RHTs/NSe+9X4yvu4rxWq+jrtX/GjtE7SGKndgd+xa33dO9+Ct//RYxzRK7fOWpaL41exqDB0G61MNgdEbNU/WtiY3VBzJK9HfKbJrsn8v2T9UPmSHY3ZNNshZ/5ipj8XkVu1qaoab00ehmDBgPxCPEI8QjxCPEI8YB4QDxCPEI8QjxCPEJ6CekF0gukF0gvkF4gvUB6gfQC6QXSC6SX0NyC5hY0t6C5Bc0taG5BcwuaW9Dcgua2eMe8O6C9A+0daO9AewfaO/wDaMzjfA==",
        "encoding": "base64",
        "path": [
         "vectors",
         "compressed_buffer"
        ]
       }
      ],
      "model_module": "k3d",
      "model_module_version": "2.6.9",
      "model_name": "ObjectModel",
      "state": {
       "_view_count": null,
       "_view_module": null,
       "_view_module_version": "",
       "_view_name": null,
       "colors": {
        "dtype": "uint32",
        "shape": [
         0
        ]
       },
       "compression_level": 0,
       "head_color": 255,
       "head_size": 1,
       "id": 4577336080,
       "label_size": 1,
       "labels": [],
       "line_width": 0.01,
       "model_matrix": {
        "dtype": "float32",
        "shape": [
         4,
         4
        ]
       },
       "name": null,
       "origin_color": 255,
       "origins": {
        "dtype": "float32",
        "shape": [
         80,
         3
        ]
       },
       "type": "Vectors",
       "use_head": true,
       "vectors": {
        "dtype": "float32",
        "shape": [
         80,
         3
        ]
       },
       "visible": true
      }
     },
     "bb5697098dd5430e80ae241b688b0c2f": {
      "buffers": [
       {
        "data": "eNoDAAAAAAE=",
        "encoding": "base64",
        "path": [
         "colors",
         "compressed_buffer"
        ]
       },
       {
        "data": "eNpjYGiwZ8AAxIsBAF7EAv0=",
        "encoding": "base64",
        "path": [
         "model_matrix",
         "compressed_buffer"
        ]
       },
       {
        "data": "eNpNk09IVHEQxy/JemlpKYJgqQVJimLVCiLxzXct2EIjCQoq7GASlrAIUmGCRAgFRdEindbFbA0vHYI6FPZmHktJoRIVuBczyv6c8lCUaRDNnJrTm8N3Zj7v9/1OJbcYLq/clfqaKVlqGQ3PP85KV/8L6Wr7+vTXuZt8+OGk1U1r13eS1aoJru/fA9NUcotBrKoI650Z38mdSESpK0My8KWWl1c+Ss2GvNzJr2EqlmT62w2p7X4dlp8ckOG6a/L5x8ZwYH6IP229anUQ23eMrFZNQNndMI32UvnUMKxXZ1Ks6h1spu6iYhTP2K5HvVkeTzVE6b4dcubVXj5yIhGtflYnU9ubuLF9QUZnt0lqMM0f2sdk4s1m+Z2Ms1RapdyXlO+xi+Hf1AgPHkpYHaziZrJaNdS8ZRdMo720qVSA9epMmizNwWbqLrp/L56xXcpAx9+nM8YwM31Q/6khko4c5/+0cqk7Eb09epb7T7foOyyIviPPP8jyyNKY6D/zz+eNfOlWm+hu1vcMLxQmeN3LaqsD/ZLVqqHLPfUwjfZSR3UB1qsz9X3mYDN1F528Hc/YLmWg5Gw6YwyOhxwPOR5yPOR4yPGQ4yHHQ46HHA85HnI85PyC8wvOLzi/4PyC8wvOLzi/4PyC8wvOLzi/4HILl1u43MLlFi63cLmFyy1cbuFyC5dbVP7fHdzdwd0d3N3B3R3c3eEfvcjK8g==",
        "encoding": "base64",
        "path": [
         "origins",
         "compressed_buffer"
        ]
       },
       {
        "data": "eNpNkz0vRFEQhqlEIwqNROIrUQilct6SRCOi8AcIEbuFkmyllIhtN7JUdEKoxJlCYgu7G+WqqPgBKxtEY+bmTPIWkzM3dz6ec96ZTqmMRYVUPi/0e3kSZ0Pr0px70K2VLXHb33x2P4VvMRoxnVJZI7d9eYvazbj01ZfUvoua/v+8egLPtVNndlYxenokE4dX+vFVF7e364b7KXyL0YjxnMj1HlHTemn0uttrYHdtWKYqr2n75RHTs/NSe+9X4yvu4rxWq+jrtX/GjtE7SGKndgd+xa33dO9+Ct//RYxzRK7fOWpaL41exqDB0G61MNgdEbNU/WtiY3VBzJK9HfKbJrsn8v2T9UPmSHY3ZNNshZ/5ipj8XkVu1qaoab00ehmDBgPxCPEI8QjxCPEI8YB4QDxCPEI8QjxCPEJ6CekF0gukF0gvkF4gvUB6gfQC6QXSC6SX0NyC5hY0t6C5Bc0taG5BcwuaW9Dcgua2eMe8O6C9A+0daO9AewfaO/wDaMzjfA==",
        "encoding": "base64",
        "path": [
         "vectors",
         "compressed_buffer"
        ]
       }
      ],
      "model_module": "k3d",
      "model_module_version": "2.6.9",
      "model_name": "ObjectModel",
      "state": {
       "_view_count": null,
       "_view_module": null,
       "_view_module_version": "",
       "_view_name": null,
       "colors": {
        "dtype": "uint32",
        "shape": [
         0
        ]
       },
       "compression_level": 0,
       "head_color": 255,
       "head_size": 1,
       "id": 4556394832,
       "label_size": 1,
       "labels": [],
       "line_width": 0.01,
       "model_matrix": {
        "dtype": "float32",
        "shape": [
         4,
         4
        ]
       },
       "name": null,
       "origin_color": 255,
       "origins": {
        "dtype": "float32",
        "shape": [
         80,
         3
        ]
       },
       "type": "Vectors",
       "use_head": true,
       "vectors": {
        "dtype": "float32",
        "shape": [
         80,
         3
        ]
       },
       "visible": true
      }
     },
     "bbf24acb0f5347ce92ec278e3846ef15": {
      "model_module": "@jupyter-widgets/base",
      "model_module_version": "1.2.0",
      "model_name": "LayoutModel",
      "state": {}
     },
     "bc85e2c834394b389abea77c0a6f81be": {
      "model_module": "@jupyter-widgets/base",
      "model_module_version": "1.2.0",
      "model_name": "LayoutModel",
      "state": {}
     },
     "bd1945c236134b3aaf97cc955f9fa315": {
      "buffers": [
       {
        "data": "eNoDAAAAAAE=",
        "encoding": "base64",
        "path": [
         "colors",
         "compressed_buffer"
        ]
       },
       {
        "data": "eNpjYGiwZ8AAxIsBAF7EAv0=",
        "encoding": "base64",
        "path": [
         "model_matrix",
         "compressed_buffer"
        ]
       },
       {
        "data": "eNpNk09IVHEQxy/JemlpKYJgqQVJimLVCiLxzXct2EIjCQoq7GASlrAIUmGCRAgFRdEindbFbA0vHYI6FPZmHktJoRIVuBczyv6c8lCUaRDNnJrTm8N3Zj7v9/1OJbcYLq/clfqaKVlqGQ3PP85KV/8L6Wr7+vTXuZt8+OGk1U1r13eS1aoJru/fA9NUcotBrKoI650Z38mdSESpK0My8KWWl1c+Ss2GvNzJr2EqlmT62w2p7X4dlp8ckOG6a/L5x8ZwYH6IP229anUQ23eMrFZNQNndMI32UvnUMKxXZ1Ks6h1spu6iYhTP2K5HvVkeTzVE6b4dcubVXj5yIhGtflYnU9ubuLF9QUZnt0lqMM0f2sdk4s1m+Z2Ms1RapdyXlO+xi+Hf1AgPHkpYHaziZrJaNdS8ZRdMo720qVSA9epMmizNwWbqLrp/L56xXcpAx9+nM8YwM31Q/6khko4c5/+0cqk7Eb09epb7T7foOyyIviPPP8jyyNKY6D/zz+eNfOlWm+hu1vcMLxQmeN3LaqsD/ZLVqqHLPfUwjfZSR3UB1qsz9X3mYDN1F528Hc/YLmWg5Gw6YwyOhxwPOR5yPOR4yPGQ4yHHQ46HHA85HnI85PyC8wvOLzi/4PyC8wvOLzi/4PyC8wvOLzi/4HILl1u43MLlFi63cLmFyy1cbuFyC5dbVP7fHdzdwd0d3N3B3R3c3eEfvcjK8g==",
        "encoding": "base64",
        "path": [
         "origins",
         "compressed_buffer"
        ]
       },
       {
        "data": "eNpNkz0vRFEQhqlEIwqNROIrUQilct6SRCOi8AcIEbuFkmyllIhtN7JUdEKoxJlCYgu7G+WqqPgBKxtEY+bmTPIWkzM3dz6ec96ZTqmMRYVUPi/0e3kSZ0Pr0px70K2VLXHb33x2P4VvMRoxnVJZI7d9eYvazbj01ZfUvoua/v+8egLPtVNndlYxenokE4dX+vFVF7e364b7KXyL0YjxnMj1HlHTemn0uttrYHdtWKYqr2n75RHTs/NSe+9X4yvu4rxWq+jrtX/GjtE7SGKndgd+xa33dO9+Ct//RYxzRK7fOWpaL41exqDB0G61MNgdEbNU/WtiY3VBzJK9HfKbJrsn8v2T9UPmSHY3ZNNshZ/5ipj8XkVu1qaoab00ehmDBgPxCPEI8QjxCPEI8YB4QDxCPEI8QjxCPEJ6CekF0gukF0gvkF4gvUB6gfQC6QXSC6SX0NyC5hY0t6C5Bc0taG5BcwuaW9Dcgua2eMe8O6C9A+0daO9AewfaO/wDaMzjfA==",
        "encoding": "base64",
        "path": [
         "vectors",
         "compressed_buffer"
        ]
       }
      ],
      "model_module": "k3d",
      "model_module_version": "2.6.9",
      "model_name": "ObjectModel",
      "state": {
       "_view_count": null,
       "_view_module": null,
       "_view_module_version": "",
       "_view_name": null,
       "colors": {
        "dtype": "uint32",
        "shape": [
         0
        ]
       },
       "compression_level": 0,
       "head_color": 255,
       "head_size": 1,
       "id": 4595821776,
       "label_size": 1,
       "labels": [],
       "line_width": 0.01,
       "model_matrix": {
        "dtype": "float32",
        "shape": [
         4,
         4
        ]
       },
       "name": null,
       "origin_color": 255,
       "origins": {
        "dtype": "float32",
        "shape": [
         80,
         3
        ]
       },
       "type": "Vectors",
       "use_head": true,
       "vectors": {
        "dtype": "float32",
        "shape": [
         80,
         3
        ]
       },
       "visible": true
      }
     },
     "bd1f3995da3b4aa6b4660bbbd5b52b04": {
      "model_module": "k3d",
      "model_module_version": "2.6.9",
      "model_name": "PlotModel",
      "state": {
       "_backend_version": "2.6.9",
       "_dom_classes": [],
       "_view_count": null,
       "antialias": 3,
       "axes": [
        "x",
        "y",
        "z"
       ],
       "background_color": 16777215,
       "camera": [
        10.284874878907916,
        -15.489812315567907,
        1.0059874815950598,
        -0.02499999664723873,
        -0.02500000223517418,
        -0.025000005960464478,
        0,
        0,
        1
       ],
       "camera_auto_fit": true,
       "camera_no_pan": false,
       "camera_no_rotate": false,
       "camera_no_zoom": false,
       "clipping_planes": [],
       "colorbar_object_id": -1,
       "fps_meter": false,
       "grid": [
        -1,
        -1,
        -1,
        1,
        1,
        1
       ],
       "grid_auto_fit": true,
       "grid_visible": true,
       "height": 512,
       "layout": "IPY_MODEL_63c2b674d9e341a6b7a71ab3fbdcf1c9",
       "lighting": 1,
       "menu_visibility": true,
       "object_ids": [
        4734617360
       ],
       "rendering_steps": 1,
       "screenshot": "",
       "screenshot_scale": 2,
       "time": 0,
       "voxel_paint_color": 0
      }
     },
     "bee5501d0f3f45f8a8d1e564b065639c": {
      "model_module": "@jupyter-widgets/output",
      "model_module_version": "1.0.0",
      "model_name": "OutputModel",
      "state": {
       "layout": "IPY_MODEL_9024997b8e5b48b3901c74ca7c769d07",
       "outputs": [
        {
         "data": {
          "application/vnd.jupyter.widget-view+json": {
           "model_id": "bfa50197b9ca4153909bb7c02aa00684",
           "version_major": 2,
           "version_minor": 0
          },
          "text/plain": "Plot(antialias=3, axes=['x', 'y', 'z'], background_color=16777215, camera=[4.5, 4.5, 4.5, 0.0, 0.0, 0.0, 1.0, …"
         },
         "metadata": {},
         "output_type": "display_data"
        }
       ]
      }
     },
     "bf99db3993e94ab6a3035c7dcc14aabe": {
      "model_module": "k3d",
      "model_module_version": "2.6.9",
      "model_name": "PlotModel",
      "state": {
       "_backend_version": "2.6.9",
       "_dom_classes": [],
       "_view_count": null,
       "antialias": 3,
       "axes": [
        "x",
        "y",
        "z"
       ],
       "background_color": 16777215,
       "camera": [
        5.676886823516348,
        -8.515330235274524,
        0.5676886823516407,
        0,
        0,
        0,
        0,
        0,
        1
       ],
       "camera_auto_fit": true,
       "camera_no_pan": false,
       "camera_no_rotate": false,
       "camera_no_zoom": false,
       "clipping_planes": [],
       "colorbar_object_id": -1,
       "fps_meter": false,
       "grid": [
        -1,
        -1,
        -1,
        1,
        1,
        1
       ],
       "grid_auto_fit": true,
       "grid_visible": true,
       "height": 512,
       "layout": "IPY_MODEL_6440713180b649f09079a5c82d50e009",
       "lighting": 1,
       "menu_visibility": true,
       "object_ids": [
        4577314960,
        4577336272
       ],
       "rendering_steps": 1,
       "screenshot": "",
       "screenshot_scale": 2,
       "time": 0,
       "voxel_paint_color": 0
      }
     },
     "bf9b6af3f3e648fe9b48b5338a3b8997": {
      "buffers": [
       {
        "data": "eNot0vlP1gUcwPF3rVar1Wq14vR5Hh4eBOSSQy45fZ7v96spoRIiIqJAHCKH3Pf9cD7fLLMss8yyzLLM0sy01KJIo1BDEQUEfWBrba2ttbbW1sfVD6//4JV2l5X0u62su8fG+nttZN6nkHW/wsYHFLIfVMh5SGXzwyq5j6jkPaqS/5hKweMahU9oFD2pUeyiUeKmsc1do9RDo8xTo9ygUWHUqDRpVJk1qr01aiwatT4adb4a9X4aDf4qDQEqjYEqTUEqzcEqLSEKLaEKrWEKbeEK7RE22iNtdETZ6Iy20hljpStWxC2jO14kJGNPFEnJ9CQn0WNNoteWSK8i1AT6NLE8nr4V8fSvFKvi6E8RTy9lIFWsjmVgjVgbw2CaeCaawXSREcXgepEZiWODyFqCY6PIjsCxSeSE49gstoThyA1DzwtFzxfPLkYvEIWiKAS9WGwNRi8R24LQS0WZKA9Er7gjAH27qBRVi9CrRY0/eq2oE/V+6A2iUTT5ojeLloXoraJNtPugd/yv04LeJbqF3Ru9R/Sa0fvMOPrFgBeOQeEQugnHc2KHicHnxQvG/+wULxoY2CVeEi+L3Qb6XxGvij0L6HtN7BWvG+h9Q+wTbxrouWO/AftbRuxvG+k+YKL7HfGuF10Hveh8z0znIW863rfQ8YGF9sM+YiFtH/rS+pEfrUf8afk4gOajgTR9EkTTp8E0HltMw/FQ6o+HU/9ZBHUnIqn9PIqakzFUfxFL1ak4Kk8lsP10IhVfJlP+lZWyMwqlZ+Xj2RWUnFvJ1q9TKP4mlaKhNRQOpVHwbTr532WQN5xJ7nAWW77PJud8Dpsu5JJ9IZ+sHwrYMFJE5kgJGT+Wsu6nctJHK0kbrWbtxVpWX2wg9VITKZdbWXW5nad+7mL5mB1trA/lygC2KzrLru4g6epOEsd3ET++m6XX9hB7bS/RE/uInNjPkusHCL9+kNAbhwi5cZjgySMETh5l0dQx/KZO4Dt1Ep/p01imz2CePofp5hDGm8MYZs7jOTOCx8wo7rOXcJsdw3V2HNdbE7jcmhTTuNyexfW2U8zj5vwFd+eveDh/w9P5Owvm/sA49yemub8wz/+NZf4f/gXLh0p6",
        "encoding": "base64",
        "path": [
         "color_map",
         "compressed_buffer"
        ]
       },
       {
        "data": "eNpjYFBwZMAABxwwxRqwidkDAFK8AuE=",
        "encoding": "base64",
        "path": [
         "model_matrix",
         "compressed_buffer"
        ]
       },
       {
        "data": "eNrl1c9LKlEUB/BJGFzoxtCFBLMcpoUIEUMYYVRCFBkWiZIUYTEwhGL+aPwLnBxNlBgYSqIwFKMkowisSCKJIQJxkcxyIFwoudGFCPZ8iphv9eDxVt7d/XA553zhci8A/PvKsGymV87iiWQyET/7QZQ/EAyFggE/1TWn3Wa1WKw2u/PHwVW9TqvV6Vd7K6pQVAX851Usl4s98Jrl+EKB57KvHTm/unticxyXY5/urs7bdngciSdT6XQqGY8cH7aI3KN8gRDNMHQo4KP2yN9G7DodNguOYbjF5nDuEq2DWxsmvVajVmu0etPGVrveyuLsJKqAYQU6Obu40uk8poQhuRyClWM9I8okEtlfhavXe/d5vlip1SpFPt+R1PPbB/9VrX7xH2/PqRbFLq7vMzm+VOJzmfvri1iTaOboJJpIsfk8m0pET44YGgA8pJfyB+lwNBqmg37KS3oAwE24nHYrbjYazbjV7nQRbgDAsc11o06DIgiq0RnXNzG8WdCwvDCjUkBSKaRQzSwsG1qNNROjw9CgSDQIDY9OaDoTIpBMLBSKZRDSmwUE/whbqtS/v+uVUley3Ge51mjUyp9cti23Dy/vXKHaaFQL3PvLw22TIrHLm0eWK9XrJY59vLmMRYADmgmfxpLpfKWSTydjp2GGPvCQpNe3H2KiLBtlQvs+L0l63AThcuxYMCOKGjHLjsNFEO5tHDOvGbRqRCxG1FrDmhnDtwGTYWl+CoWlICiF0an5JYOp2XhuenwElosEApEcHhmfnmtPqISHJEKBQCgZgpXdJFIxODAAiqX9nLff7nMfvld98h/9AlMm+BA=",
        "encoding": "base64",
        "path": [
         "voxels",
         "compressed_buffer"
        ]
       }
      ],
      "model_module": "k3d",
      "model_module_version": "2.6.9",
      "model_name": "ObjectModel",
      "state": {
       "_view_count": null,
       "_view_module": null,
       "_view_module_version": "",
       "_view_name": null,
       "color_map": {
        "dtype": "uint32",
        "shape": [
         256
        ]
       },
       "compression_level": 0,
       "id": 4610104960,
       "model_matrix": {
        "dtype": "float32",
        "shape": [
         4,
         4
        ]
       },
       "name": null,
       "opacity": 1,
       "outlines": false,
       "outlines_color": 0,
       "type": "Voxels",
       "visible": true,
       "voxels": {
        "dtype": "uint8",
        "shape": [
         8,
         12,
         20
        ]
       },
       "wireframe": false
      }
     },
     "bfa50197b9ca4153909bb7c02aa00684": {
      "model_module": "k3d",
      "model_module_version": "2.6.9",
      "model_name": "PlotModel",
      "state": {
       "_backend_version": "2.6.9",
       "_dom_classes": [],
       "_view_count": null,
       "antialias": 3,
       "axes": [
        "x",
        "y",
        "z"
       ],
       "background_color": 16777215,
       "camera": [
        5.676886823516348,
        -8.515330235274524,
        0.5676886823516407,
        0,
        0,
        0,
        0,
        0,
        1
       ],
       "camera_auto_fit": true,
       "camera_no_pan": false,
       "camera_no_rotate": false,
       "camera_no_zoom": false,
       "clipping_planes": [],
       "colorbar_object_id": -1,
       "fps_meter": false,
       "grid": [
        -1,
        -1,
        -1,
        1,
        1,
        1
       ],
       "grid_auto_fit": true,
       "grid_visible": true,
       "height": 512,
       "layout": "IPY_MODEL_9efe48b0ebac467091eeba13a81ce9ed",
       "lighting": 1,
       "menu_visibility": true,
       "object_ids": [
        4734568264,
        4734567480
       ],
       "rendering_steps": 1,
       "screenshot": "",
       "screenshot_scale": 2,
       "time": 0,
       "voxel_paint_color": 0
      }
     },
     "bfc21d768b814d6c8424a4bb050aaf57": {
      "model_module": "@jupyter-widgets/base",
      "model_module_version": "1.2.0",
      "model_name": "LayoutModel",
      "state": {}
     },
     "c0cfd61e721b4a149685bab8da739bba": {
      "model_module": "@jupyter-widgets/base",
      "model_module_version": "1.2.0",
      "model_name": "LayoutModel",
      "state": {}
     },
     "c0e3ca3605cf49abb97a6bcaa2626419": {
      "model_module": "@jupyter-widgets/base",
      "model_module_version": "1.2.0",
      "model_name": "LayoutModel",
      "state": {}
     },
     "c18cd247c4964a8d8a6a5173cb70faeb": {
      "buffers": [
       {
        "data": "eNq7PcOEAQAFoAGo",
        "encoding": "base64",
        "path": [
         "color_map",
         "compressed_buffer"
        ]
       },
       {
        "data": "eNpjYFBwZMAABxwwxRqwidkDAFK8AuE=",
        "encoding": "base64",
        "path": [
         "model_matrix",
         "compressed_buffer"
        ]
       },
       {
        "data": "eNrllUEOACEMAjv//7R7XQGj0Vs5TqItWLXqXnxSMlFQ6Jhba2u8l9TQ/vgpMlDo2O5+KauDXNIRLb2ZnkHhDdvPJWYg3mo1aj7m5I3HOsigXAT+fnTz222eG75XTf6jAc5KA/E=",
        "encoding": "base64",
        "path": [
         "voxels",
         "compressed_buffer"
        ]
       }
      ],
      "model_module": "k3d",
      "model_module_version": "2.6.9",
      "model_name": "ObjectModel",
      "state": {
       "_view_count": null,
       "_view_module": null,
       "_view_module_version": "",
       "_view_name": null,
       "color_map": {
        "dtype": "uint32",
        "shape": []
       },
       "compression_level": 0,
       "id": 4471551928,
       "model_matrix": {
        "dtype": "float32",
        "shape": [
         4,
         4
        ]
       },
       "name": null,
       "opacity": 1,
       "outlines": false,
       "outlines_color": 0,
       "type": "Voxels",
       "visible": true,
       "voxels": {
        "dtype": "uint8",
        "shape": [
         8,
         12,
         20
        ]
       },
       "wireframe": false
      }
     },
     "c2050a7e201741ecb1817cdeda50dd60": {
      "model_module": "k3d",
      "model_module_version": "2.6.9",
      "model_name": "PlotModel",
      "state": {
       "_backend_version": "2.6.9",
       "_dom_classes": [],
       "_view_count": null,
       "antialias": 3,
       "axes": [
        "x",
        "y",
        "z"
       ],
       "background_color": 16777215,
       "camera": [
        7.659127774547247,
        -11.567320619092447,
        0.7711547079395124,
        -0.052419304847717285,
        0,
        0,
        0,
        0,
        1
       ],
       "camera_auto_fit": true,
       "camera_no_pan": false,
       "camera_no_rotate": false,
       "camera_no_zoom": false,
       "clipping_planes": [],
       "colorbar_object_id": -1,
       "fps_meter": false,
       "grid": [
        -1,
        -1,
        -1,
        1,
        1,
        1
       ],
       "grid_auto_fit": true,
       "grid_visible": true,
       "height": 512,
       "layout": "IPY_MODEL_c7dbf49dc5a44df9bd4eb753d74ada35",
       "lighting": 1,
       "menu_visibility": true,
       "object_ids": [
        4577334352,
        4577335888,
        4467784848,
        4439061456,
        4577402384,
        4439060944
       ],
       "rendering_steps": 1,
       "screenshot": "",
       "screenshot_scale": 2,
       "time": 0,
       "voxel_paint_color": 0
      }
     },
     "c22d3c95f1f1468ab72900c45a87d7eb": {
      "model_module": "@jupyter-widgets/base",
      "model_module_version": "1.2.0",
      "model_name": "LayoutModel",
      "state": {}
     },
     "c2384471ac89414bab9d3047c613df81": {
      "model_module": "k3d",
      "model_module_version": "2.6.9",
      "model_name": "PlotModel",
      "state": {
       "_backend_version": "2.6.9",
       "_dom_classes": [],
       "_view_count": null,
       "antialias": 3,
       "axes": [
        "x",
        "y",
        "z"
       ],
       "background_color": 16777215,
       "camera": [
        10.284874878907916,
        -15.489812315567907,
        1.0059874815950598,
        -0.02499999664723873,
        -0.02500000223517418,
        -0.025000005960464478,
        0,
        0,
        1
       ],
       "camera_auto_fit": true,
       "camera_no_pan": false,
       "camera_no_rotate": false,
       "camera_no_zoom": false,
       "clipping_planes": [],
       "colorbar_object_id": -1,
       "fps_meter": false,
       "grid": [
        -1,
        -1,
        -1,
        1,
        1,
        1
       ],
       "grid_auto_fit": true,
       "grid_visible": true,
       "height": 512,
       "layout": "IPY_MODEL_7cff90f6784746c3bc47468c26880f25",
       "lighting": 1,
       "menu_visibility": true,
       "object_ids": [
        4654181328
       ],
       "rendering_steps": 1,
       "screenshot": "",
       "screenshot_scale": 2,
       "time": 0,
       "voxel_paint_color": 0
      }
     },
     "c25d77c7e97a4a69aad91e2f05fcce52": {
      "model_module": "k3d",
      "model_module_version": "2.6.9",
      "model_name": "PlotModel",
      "state": {
       "_backend_version": "2.6.9",
       "_dom_classes": [],
       "_view_count": null,
       "antialias": 3,
       "axes": [
        "x",
        "y",
        "z"
       ],
       "background_color": 16777215,
       "camera": [
        5.676886823516348,
        -8.515330235274524,
        0.5676886823516407,
        0,
        0,
        0,
        0,
        0,
        1
       ],
       "camera_auto_fit": true,
       "camera_no_pan": false,
       "camera_no_rotate": false,
       "camera_no_zoom": false,
       "clipping_planes": [],
       "colorbar_object_id": -1,
       "fps_meter": false,
       "grid": [
        -1,
        -1,
        -1,
        1,
        1,
        1
       ],
       "grid_auto_fit": true,
       "grid_visible": true,
       "height": 512,
       "layout": "IPY_MODEL_7fe1c9a5577040dba7dacaab1f928f9b",
       "lighting": 1,
       "menu_visibility": true,
       "object_ids": [
        4560927504,
        4560858384
       ],
       "rendering_steps": 1,
       "screenshot": "",
       "screenshot_scale": 2,
       "time": 0,
       "voxel_paint_color": 0
      }
     },
     "c315fa7836bb40649ab2a48ad34077bf": {
      "buffers": [
       {
        "data": "eNoDAAAAAAE=",
        "encoding": "base64",
        "path": [
         "colors",
         "compressed_buffer"
        ]
       },
       {
        "data": "eNpjYGiwZ8AAxIsBAF7EAv0=",
        "encoding": "base64",
        "path": [
         "model_matrix",
         "compressed_buffer"
        ]
       },
       {
        "data": "eNpN0VENwzAMBuFAGJQisA1tUIxkK5RAmbIq7ZeXnqL0dNI/xjr9HWN+/zgKfn/g4E0+3PDrvFzrrLvNDRe8/I2/8Tf+2wm/6uHjvLy7oWgoGoqGoqFoKBqKhqKhaNh8yOfl3T2bV8/mhgte35uDN8m/8IRXz+ZDPi/X3RP0BD1BT9AT9AQ9QU/QE/QEPcFeyV7JXsleyV7JXsleyV7JXsleyV7JXjQ0DU1D09A0NA1NQ9PQNDQN+if+iX/in/gn/pk/dr6bDQ==",
        "encoding": "base64",
        "path": [
         "positions",
         "compressed_buffer"
        ]
       }
      ],
      "model_module": "k3d",
      "model_module_version": "2.6.9",
      "model_name": "ObjectModel",
      "state": {
       "_view_count": null,
       "_view_module": null,
       "_view_module_version": "",
       "_view_name": null,
       "color": 10075135,
       "colors": {
        "dtype": "uint32",
        "shape": [
         0
        ]
       },
       "compression_level": 0,
       "id": 4596602576,
       "mesh_detail": 2,
       "model_matrix": {
        "dtype": "float32",
        "shape": [
         4,
         4
        ]
       },
       "name": null,
       "opacity": 1,
       "point_size": 0.1,
       "positions": {
        "dtype": "float32",
        "shape": [
         80,
         3
        ]
       },
       "shader": "3dSpecular",
       "type": "Points",
       "visible": true
      }
     },
     "c41f56ebd67e4b7a88721a79ea970fdd": {
      "model_module": "k3d",
      "model_module_version": "2.6.9",
      "model_name": "PlotModel",
      "state": {
       "_backend_version": "2.6.9",
       "_dom_classes": [],
       "_view_count": null,
       "antialias": 3,
       "axes": [
        "x",
        "y",
        "z"
       ],
       "background_color": 16777215,
       "camera": [
        4.65535764307366,
        -6.505929057157054,
        1.7008803610352246,
        -0.052419304847717285,
        0,
        0,
        0.07093391014932397,
        0.23489125672192648,
        0.9694299757623197
       ],
       "camera_auto_fit": true,
       "camera_no_pan": false,
       "camera_no_rotate": false,
       "camera_no_zoom": false,
       "clipping_planes": [],
       "colorbar_object_id": -1,
       "fps_meter": false,
       "grid": [
        -1,
        -1,
        -1,
        1,
        1,
        1
       ],
       "grid_auto_fit": true,
       "grid_visible": true,
       "height": 512,
       "layout": "IPY_MODEL_f0b20dd4946642c0b8f9185dd5ca6876",
       "lighting": 1,
       "menu_visibility": true,
       "object_ids": [
        4640526032,
        4717601744,
        4710905936,
        4717603344,
        4688574096,
        4707011600
       ],
       "rendering_steps": 1,
       "screenshot": "",
       "screenshot_scale": 2,
       "time": 0,
       "voxel_paint_color": 0
      }
     },
     "c490a94259bd4e3d850f405d84fecb48": {
      "model_module": "@jupyter-widgets/base",
      "model_module_version": "1.2.0",
      "model_name": "LayoutModel",
      "state": {}
     },
     "c4bc292feeb34be9bc777e711c27d078": {
      "buffers": [
       {
        "data": "eNoDAAAAAAE=",
        "encoding": "base64",
        "path": [
         "colors",
         "compressed_buffer"
        ]
       },
       {
        "data": "eNpjYGiwZ8AAxIsBAF7EAv0=",
        "encoding": "base64",
        "path": [
         "model_matrix",
         "compressed_buffer"
        ]
       },
       {
        "data": "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",
        "encoding": "base64",
        "path": [
         "positions",
         "compressed_buffer"
        ]
       }
      ],
      "model_module": "k3d",
      "model_module_version": "2.6.9",
      "model_name": "ObjectModel",
      "state": {
       "_view_count": null,
       "_view_module": null,
       "_view_module_version": "",
       "_view_name": null,
       "color": 10075135,
       "colors": {
        "dtype": "uint32",
        "shape": [
         0
        ]
       },
       "compression_level": 0,
       "id": 4634907648,
       "mesh_detail": 2,
       "model_matrix": {
        "dtype": "float32",
        "shape": [
         4,
         4
        ]
       },
       "name": null,
       "opacity": 1,
       "point_size": 0.1,
       "positions": {
        "dtype": "float32",
        "shape": [
         1008,
         3
        ]
       },
       "shader": "3dSpecular",
       "type": "Points",
       "visible": true
      }
     },
     "c519f5091ad04072ac79c8f2500d67ff": {
      "buffers": [
       {
        "data": "eNoDAAAAAAE=",
        "encoding": "base64",
        "path": [
         "colors",
         "compressed_buffer"
        ]
       },
       {
        "data": "eNpjYGiwZ8AAxIsBAF7EAv0=",
        "encoding": "base64",
        "path": [
         "model_matrix",
         "compressed_buffer"
        ]
       },
       {
        "data": "eNpNkcENwzAMAzVCRskEFEfrKJqk7SgapRVgO/cIfI+IR4AR8Y3wJ6L/3/DrDdbDzofnrcUFNnhyCjmFnHMLbvC1srbLcBkuw2W4DJfhMlybLz98r6zdYfN02Fxgg+c9LPyTuAU3eDpsvskr6/QR+gh9hD5CH6GP0EfoI/QR+gh90GHuzy6JXRK7JHZJ7JLYJbFLYpfELnAVXAVXwVVwFVwFV8HFnEZOI6eR0/kDbuG3nQ==",
        "encoding": "base64",
        "path": [
         "positions",
         "compressed_buffer"
        ]
       }
      ],
      "model_module": "k3d",
      "model_module_version": "2.6.9",
      "model_name": "ObjectModel",
      "state": {
       "_view_count": null,
       "_view_module": null,
       "_view_module_version": "",
       "_view_name": null,
       "color": 10075135,
       "colors": {
        "dtype": "uint32",
        "shape": [
         0
        ]
       },
       "compression_level": 0,
       "id": 4717664656,
       "mesh_detail": 2,
       "model_matrix": {
        "dtype": "float32",
        "shape": [
         4,
         4
        ]
       },
       "name": null,
       "opacity": 1,
       "point_size": 0.1,
       "positions": {
        "dtype": "float32",
        "shape": [
         68,
         3
        ]
       },
       "shader": "3dSpecular",
       "type": "Points",
       "visible": true
      }
     },
     "c5bff560e8d14de1a210918f85717aaf": {
      "model_module": "@jupyter-widgets/output",
      "model_module_version": "1.0.0",
      "model_name": "OutputModel",
      "state": {
       "layout": "IPY_MODEL_69218ccf03d5406b8751755c5d13b424",
       "outputs": [
        {
         "data": {
          "application/vnd.jupyter.widget-view+json": {
           "model_id": "813fba1934eb4ccdbbabad89ea7fedd8",
           "version_major": 2,
           "version_minor": 0
          },
          "text/plain": "Plot(antialias=3, axes=['x', 'y', 'z'], background_color=16777215, camera=[4.5, 4.5, 4.5, 0.0, 0.0, 0.0, 1.0, …"
         },
         "metadata": {},
         "output_type": "display_data"
        }
       ]
      }
     },
     "c6473bf54e624495811369eb6d11dbd7": {
      "model_module": "@jupyter-widgets/base",
      "model_module_version": "1.2.0",
      "model_name": "LayoutModel",
      "state": {}
     },
     "c6c9b0d138df4b739880db7458d0302d": {
      "model_module": "@jupyter-widgets/base",
      "model_module_version": "1.2.0",
      "model_name": "LayoutModel",
      "state": {}
     },
     "c6d90f91f4b54593b1bd2ec8a641b1eb": {
      "model_module": "@jupyter-widgets/base",
      "model_module_version": "1.2.0",
      "model_name": "LayoutModel",
      "state": {}
     },
     "c7dbf49dc5a44df9bd4eb753d74ada35": {
      "model_module": "@jupyter-widgets/base",
      "model_module_version": "1.2.0",
      "model_name": "LayoutModel",
      "state": {}
     },
     "c87c819d31554e349fe164f8df73d7a6": {
      "model_module": "@jupyter-widgets/base",
      "model_module_version": "1.2.0",
      "model_name": "LayoutModel",
      "state": {}
     },
     "c8aaac5220d34f6b96f835106e55eb97": {
      "model_module": "@jupyter-widgets/output",
      "model_module_version": "1.0.0",
      "model_name": "OutputModel",
      "state": {
       "layout": "IPY_MODEL_108c26d8d4f14165959c915a9c6c884f",
       "outputs": [
        {
         "data": {
          "application/vnd.jupyter.widget-view+json": {
           "model_id": "9a03d7f71e694517a9f8735111c9672b",
           "version_major": 2,
           "version_minor": 0
          },
          "text/plain": "Plot(antialias=3, axes=['x', 'y', 'z'], background_color=16777215, camera=[4.5, 4.5, 4.5, 0.0, 0.0, 0.0, 1.0, …"
         },
         "metadata": {},
         "output_type": "display_data"
        }
       ]
      }
     },
     "c8f44d04908f4caa800dd6c0ed631671": {
      "model_module": "k3d",
      "model_module_version": "2.6.9",
      "model_name": "PlotModel",
      "state": {
       "_backend_version": "2.6.9",
       "_dom_classes": [],
       "_view_count": null,
       "antialias": 3,
       "axes": [
        "x",
        "y",
        "z"
       ],
       "background_color": 16777215,
       "camera": [
        10.284874878907916,
        -15.489812315567907,
        1.0059874815950598,
        -0.02499999664723873,
        -0.02500000223517418,
        -0.025000005960464478,
        0,
        0,
        1
       ],
       "camera_auto_fit": true,
       "camera_no_pan": false,
       "camera_no_rotate": false,
       "camera_no_zoom": false,
       "clipping_planes": [],
       "colorbar_object_id": -1,
       "fps_meter": false,
       "grid": [
        -1,
        -1,
        -1,
        1,
        1,
        1
       ],
       "grid_auto_fit": true,
       "grid_visible": true,
       "height": 512,
       "layout": "IPY_MODEL_c6d90f91f4b54593b1bd2ec8a641b1eb",
       "lighting": 1,
       "menu_visibility": true,
       "object_ids": [
        4457956816
       ],
       "rendering_steps": 1,
       "screenshot": "",
       "screenshot_scale": 2,
       "time": 0,
       "voxel_paint_color": 0
      }
     },
     "c950082c6def4f09a919238310bc0408": {
      "model_module": "@jupyter-widgets/output",
      "model_module_version": "1.0.0",
      "model_name": "OutputModel",
      "state": {
       "layout": "IPY_MODEL_3e80e330d2b542728bd8109baa37fe35",
       "outputs": [
        {
         "data": {
          "application/vnd.jupyter.widget-view+json": {
           "model_id": "fa76f3ac4fa340cabb8ad10346888ce0",
           "version_major": 2,
           "version_minor": 0
          },
          "text/plain": "Plot(antialias=3, axes=['x', 'y', 'z'], background_color=16777215, camera=[4.5, 4.5, 4.5, 0.0, 0.0, 0.0, 1.0, …"
         },
         "metadata": {},
         "output_type": "display_data"
        }
       ]
      }
     },
     "c9f36344a8704f88ab991b08c9ca14e5": {
      "buffers": [
       {
        "data": "eNoDAAAAAAE=",
        "encoding": "base64",
        "path": [
         "colors",
         "compressed_buffer"
        ]
       },
       {
        "data": "eNpjYGiwZ8AAxIsBAF7EAv0=",
        "encoding": "base64",
        "path": [
         "model_matrix",
         "compressed_buffer"
        ]
       },
       {
        "data": "eNpN0VENwzAMBuFAGJQisA1tUIxkK5RAmbIq7ZeXnqL0dNI/xjr9HWN+/zgKfn/g4E0+3PDrvFzrrLvNDRe8/I2/8Tf+2wm/6uHjvLy7oWgoGoqGoqFoKBqKhqKhaNh8yOfl3T2bV8/mhgte35uDN8m/8IRXz+ZDPi/X3RP0BD1BT9AT9AQ9QU/QE/QEPcFeyV7JXsleyV7JXsleyV7JXsleyV7JXjQ0DU1D09A0NA1NQ9PQNDQN+if+iX/in/gn/pk/dr6bDQ==",
        "encoding": "base64",
        "path": [
         "positions",
         "compressed_buffer"
        ]
       }
      ],
      "model_module": "k3d",
      "model_module_version": "2.6.9",
      "model_name": "ObjectModel",
      "state": {
       "_view_count": null,
       "_view_module": null,
       "_view_module_version": "",
       "_view_name": null,
       "color": 10075135,
       "colors": {
        "dtype": "uint32",
        "shape": [
         0
        ]
       },
       "compression_level": 0,
       "id": 4506644048,
       "mesh_detail": 2,
       "model_matrix": {
        "dtype": "float32",
        "shape": [
         4,
         4
        ]
       },
       "name": null,
       "opacity": 1,
       "point_size": 0.1,
       "positions": {
        "dtype": "float32",
        "shape": [
         80,
         3
        ]
       },
       "shader": "3dSpecular",
       "type": "Points",
       "visible": true
      }
     },
     "ca541067696d454a90af1753a0006744": {
      "model_module": "k3d",
      "model_module_version": "2.6.9",
      "model_name": "PlotModel",
      "state": {
       "_backend_version": "2.6.9",
       "_dom_classes": [],
       "_view_count": null,
       "antialias": 3,
       "axes": [
        "x",
        "y",
        "z"
       ],
       "background_color": 16777215,
       "camera": [
        9.828951377057189,
        -14.743427065585788,
        0.9828951377057292,
        0,
        0,
        0,
        0,
        0,
        1
       ],
       "camera_auto_fit": true,
       "camera_no_pan": false,
       "camera_no_rotate": false,
       "camera_no_zoom": false,
       "clipping_planes": [],
       "colorbar_object_id": -1,
       "fps_meter": false,
       "grid": [
        -1,
        -1,
        -1,
        1,
        1,
        1
       ],
       "grid_auto_fit": true,
       "grid_visible": true,
       "height": 512,
       "layout": "IPY_MODEL_d9948f46c5c9437cbafe055b29f90222",
       "lighting": 1,
       "menu_visibility": true,
       "object_ids": [
        4506509008,
        4506419280
       ],
       "rendering_steps": 1,
       "screenshot": "",
       "screenshot_scale": 2,
       "time": 0,
       "voxel_paint_color": 0
      }
     },
     "cc3f2407d1bb406b8bf413df8fc6d9f8": {
      "model_module": "@jupyter-widgets/base",
      "model_module_version": "1.2.0",
      "model_name": "LayoutModel",
      "state": {}
     },
     "cc483b6bd7354ef0b9f4d261b0a1a8e6": {
      "model_module": "@jupyter-widgets/output",
      "model_module_version": "1.0.0",
      "model_name": "OutputModel",
      "state": {
       "layout": "IPY_MODEL_883c187cf92a4bdd9eb34ebae13d6472",
       "outputs": [
        {
         "data": {
          "application/vnd.jupyter.widget-view+json": {
           "model_id": "7015dfc2fc854b99903b9505f297e6f3",
           "version_major": 2,
           "version_minor": 0
          },
          "text/plain": "Plot(antialias=3, axes=['x', 'y', 'z'], background_color=16777215, camera=[4.5, 4.5, 4.5, 0.0, 0.0, 0.0, 1.0, …"
         },
         "metadata": {},
         "output_type": "display_data"
        }
       ]
      }
     },
     "cc998d3452154c36a5d9f4ce1a159bb8": {
      "model_module": "k3d",
      "model_module_version": "2.6.9",
      "model_name": "PlotModel",
      "state": {
       "_backend_version": "2.6.9",
       "_dom_classes": [],
       "_view_count": null,
       "antialias": 3,
       "axes": [
        "x",
        "y",
        "z"
       ],
       "background_color": 16777215,
       "camera": [
        10.284874878907916,
        -15.489812315567907,
        1.0059874815950598,
        -0.02499999664723873,
        -0.02500000223517418,
        -0.025000005960464478,
        0,
        0,
        1
       ],
       "camera_auto_fit": true,
       "camera_no_pan": false,
       "camera_no_rotate": false,
       "camera_no_zoom": false,
       "clipping_planes": [],
       "colorbar_object_id": -1,
       "fps_meter": false,
       "grid": [
        -1,
        -1,
        -1,
        1,
        1,
        1
       ],
       "grid_auto_fit": true,
       "grid_visible": true,
       "height": 512,
       "layout": "IPY_MODEL_7956bb7d864c4b169303a3f9de31d62f",
       "lighting": 1,
       "menu_visibility": true,
       "object_ids": [
        4649404368
       ],
       "rendering_steps": 1,
       "screenshot": "",
       "screenshot_scale": 2,
       "time": 0,
       "voxel_paint_color": 0
      }
     },
     "cca30ea71d884bd28acf79d9e1c6677b": {
      "buffers": [
       {
        "data": "eNot0vlP1gUcwPF3rVar1Wq14vR5Hh4eBOSSQy45fZ7v96spoRIiIqJAHCKH3Pf9cD7fLLMss8yyzLLM0sy01KJIo1BDEQUEfWBrba2ttbbW1sfVD6//4JV2l5X0u62su8fG+nttZN6nkHW/wsYHFLIfVMh5SGXzwyq5j6jkPaqS/5hKweMahU9oFD2pUeyiUeKmsc1do9RDo8xTo9ygUWHUqDRpVJk1qr01aiwatT4adb4a9X4aDf4qDQEqjYEqTUEqzcEqLSEKLaEKrWEKbeEK7RE22iNtdETZ6Iy20hljpStWxC2jO14kJGNPFEnJ9CQn0WNNoteWSK8i1AT6NLE8nr4V8fSvFKvi6E8RTy9lIFWsjmVgjVgbw2CaeCaawXSREcXgepEZiWODyFqCY6PIjsCxSeSE49gstoThyA1DzwtFzxfPLkYvEIWiKAS9WGwNRi8R24LQS0WZKA9Er7gjAH27qBRVi9CrRY0/eq2oE/V+6A2iUTT5ojeLloXoraJNtPugd/yv04LeJbqF3Ru9R/Sa0fvMOPrFgBeOQeEQugnHc2KHicHnxQvG/+wULxoY2CVeEi+L3Qb6XxGvij0L6HtN7BWvG+h9Q+wTbxrouWO/AftbRuxvG+k+YKL7HfGuF10Hveh8z0znIW863rfQ8YGF9sM+YiFtH/rS+pEfrUf8afk4gOajgTR9EkTTp8E0HltMw/FQ6o+HU/9ZBHUnIqn9PIqakzFUfxFL1ak4Kk8lsP10IhVfJlP+lZWyMwqlZ+Xj2RWUnFvJ1q9TKP4mlaKhNRQOpVHwbTr532WQN5xJ7nAWW77PJud8Dpsu5JJ9IZ+sHwrYMFJE5kgJGT+Wsu6nctJHK0kbrWbtxVpWX2wg9VITKZdbWXW5nad+7mL5mB1trA/lygC2KzrLru4g6epOEsd3ET++m6XX9hB7bS/RE/uInNjPkusHCL9+kNAbhwi5cZjgySMETh5l0dQx/KZO4Dt1Ep/p01imz2CePofp5hDGm8MYZs7jOTOCx8wo7rOXcJsdw3V2HNdbE7jcmhTTuNyexfW2U8zj5vwFd+eveDh/w9P5Owvm/sA49yemub8wz/+NZf4f/gXLh0p6",
        "encoding": "base64",
        "path": [
         "color_map",
         "compressed_buffer"
        ]
       },
       {
        "data": "eNpjYFBwZMAABxwwxRqwidkDAFK8AuE=",
        "encoding": "base64",
        "path": [
         "model_matrix",
         "compressed_buffer"
        ]
       },
       {
        "data": "eNrl1c9LKlEUB/BJGFzoxtCFBLMcpoUIEUMYYVRCFBkWiZIUYTEwhGL+aPwLnBxNlBgYSqIwFKMkowisSCKJIQJxkcxyIFwoudGFCPZ8iphv9eDxVt7d/XA553zhci8A/PvKsGymV87iiWQyET/7QZQ/EAyFggE/1TWn3Wa1WKw2u/PHwVW9TqvV6Vd7K6pQVAX851Usl4s98Jrl+EKB57KvHTm/unticxyXY5/urs7bdngciSdT6XQqGY8cH7aI3KN8gRDNMHQo4KP2yN9G7DodNguOYbjF5nDuEq2DWxsmvVajVmu0etPGVrveyuLsJKqAYQU6Obu40uk8poQhuRyClWM9I8okEtlfhavXe/d5vlip1SpFPt+R1PPbB/9VrX7xH2/PqRbFLq7vMzm+VOJzmfvri1iTaOboJJpIsfk8m0pET44YGgA8pJfyB+lwNBqmg37KS3oAwE24nHYrbjYazbjV7nQRbgDAsc11o06DIgiq0RnXNzG8WdCwvDCjUkBSKaRQzSwsG1qNNROjw9CgSDQIDY9OaDoTIpBMLBSKZRDSmwUE/whbqtS/v+uVUley3Ge51mjUyp9cti23Dy/vXKHaaFQL3PvLw22TIrHLm0eWK9XrJY59vLmMRYADmgmfxpLpfKWSTydjp2GGPvCQpNe3H2KiLBtlQvs+L0l63AThcuxYMCOKGjHLjsNFEO5tHDOvGbRqRCxG1FrDmhnDtwGTYWl+CoWlICiF0an5JYOp2XhuenwElosEApEcHhmfnmtPqISHJEKBQCgZgpXdJFIxODAAiqX9nLff7nMfvld98h/9AlMm+BA=",
        "encoding": "base64",
        "path": [
         "voxels",
         "compressed_buffer"
        ]
       }
      ],
      "model_module": "k3d",
      "model_module_version": "2.6.9",
      "model_name": "ObjectModel",
      "state": {
       "_view_count": null,
       "_view_module": null,
       "_view_module_version": "",
       "_view_name": null,
       "color_map": {
        "dtype": "uint32",
        "shape": [
         256
        ]
       },
       "compression_level": 0,
       "id": 4511879968,
       "model_matrix": {
        "dtype": "float32",
        "shape": [
         4,
         4
        ]
       },
       "name": null,
       "opacity": 1,
       "outlines": false,
       "outlines_color": 0,
       "type": "Voxels",
       "visible": true,
       "voxels": {
        "dtype": "uint8",
        "shape": [
         8,
         12,
         20
        ]
       },
       "wireframe": false
      }
     },
     "cd0c1b39e3e44e9ab2fa77d86dec16ef": {
      "buffers": [
       {
        "data": "eNoDAAAAAAE=",
        "encoding": "base64",
        "path": [
         "colors",
         "compressed_buffer"
        ]
       },
       {
        "data": "eNpjYGiwZ8AAxIsBAF7EAv0=",
        "encoding": "base64",
        "path": [
         "model_matrix",
         "compressed_buffer"
        ]
       },
       {
        "data": "eNpNk09IVHEQxy/JemlpKYJgqQVJimLVCiLxzXct2EIjCQoq7GASlrAIUmGCRAgFRdEindbFbA0vHYI6FPZmHktJoRIVuBczyv6c8lCUaRDNnJrTm8N3Zj7v9/1OJbcYLq/clfqaKVlqGQ3PP85KV/8L6Wr7+vTXuZt8+OGk1U1r13eS1aoJru/fA9NUcotBrKoI650Z38mdSESpK0My8KWWl1c+Ss2GvNzJr2EqlmT62w2p7X4dlp8ckOG6a/L5x8ZwYH6IP229anUQ23eMrFZNQNndMI32UvnUMKxXZ1Ks6h1spu6iYhTP2K5HvVkeTzVE6b4dcubVXj5yIhGtflYnU9ubuLF9QUZnt0lqMM0f2sdk4s1m+Z2Ms1RapdyXlO+xi+Hf1AgPHkpYHaziZrJaNdS8ZRdMo720qVSA9epMmizNwWbqLrp/L56xXcpAx9+nM8YwM31Q/6khko4c5/+0cqk7Eb09epb7T7foOyyIviPPP8jyyNKY6D/zz+eNfOlWm+hu1vcMLxQmeN3LaqsD/ZLVqqHLPfUwjfZSR3UB1qsz9X3mYDN1F528Hc/YLmWg5Gw6YwyOhxwPOR5yPOR4yPGQ4yHHQ46HHA85HnI85PyC8wvOLzi/4PyC8wvOLzi/4PyC8wvOLzi/4HILl1u43MLlFi63cLmFyy1cbuFyC5dbVP7fHdzdwd0d3N3B3R3c3eEfvcjK8g==",
        "encoding": "base64",
        "path": [
         "origins",
         "compressed_buffer"
        ]
       },
       {
        "data": "eNpNkz0vRFEQhqlEIwqNROIrUQilct6SRCOi8AcIEbuFkmyllIhtN7JUdEKoxJlCYgu7G+WqqPgBKxtEY+bmTPIWkzM3dz6ec96ZTqmMRYVUPi/0e3kSZ0Pr0px70K2VLXHb33x2P4VvMRoxnVJZI7d9eYvazbj01ZfUvoua/v+8egLPtVNndlYxenokE4dX+vFVF7e364b7KXyL0YjxnMj1HlHTemn0uttrYHdtWKYqr2n75RHTs/NSe+9X4yvu4rxWq+jrtX/GjtE7SGKndgd+xa33dO9+Ct//RYxzRK7fOWpaL41exqDB0G61MNgdEbNU/WtiY3VBzJK9HfKbJrsn8v2T9UPmSHY3ZNNshZ/5ipj8XkVu1qaoab00ehmDBgPxCPEI8QjxCPEI8YB4QDxCPEI8QjxCPEJ6CekF0gukF0gvkF4gvUB6gfQC6QXSC6SX0NyC5hY0t6C5Bc0taG5BcwuaW9Dcgua2eMe8O6C9A+0daO9AewfaO/wDaMzjfA==",
        "encoding": "base64",
        "path": [
         "vectors",
         "compressed_buffer"
        ]
       }
      ],
      "model_module": "k3d",
      "model_module_version": "2.6.9",
      "model_name": "ObjectModel",
      "state": {
       "_view_count": null,
       "_view_module": null,
       "_view_module_version": "",
       "_view_name": null,
       "colors": {
        "dtype": "uint32",
        "shape": [
         0
        ]
       },
       "compression_level": 0,
       "head_color": 255,
       "head_size": 1,
       "id": 4734568264,
       "label_size": 1,
       "labels": [],
       "line_width": 0.01,
       "model_matrix": {
        "dtype": "float32",
        "shape": [
         4,
         4
        ]
       },
       "name": null,
       "origin_color": 255,
       "origins": {
        "dtype": "float32",
        "shape": [
         80,
         3
        ]
       },
       "type": "Vectors",
       "use_head": true,
       "vectors": {
        "dtype": "float32",
        "shape": [
         80,
         3
        ]
       },
       "visible": true
      }
     },
     "cdcc819997194427bf6da9581db8cd7a": {
      "buffers": [
       {
        "data": "eNoDAAAAAAE=",
        "encoding": "base64",
        "path": [
         "colors",
         "compressed_buffer"
        ]
       },
       {
        "data": "eNpjYGiwZ8AAxIsBAF7EAv0=",
        "encoding": "base64",
        "path": [
         "model_matrix",
         "compressed_buffer"
        ]
       },
       {
        "data": "eNpN0MERwjAMBVGXkIoklUYpqoRQikthQhC8QyZ7sHc9f616rdXn/V1c8OMJB2fyzw3v874/zsJZOAtn4Sycwxs+5v63Ndxwwdf/x8GZ5C684aPgeet0g27QDbpBN+gG3aAbdGl9dpk9kz2TPZM9kz2TPZM9cTbOxtk4G2fj7HwDDAaMxQ==",
        "encoding": "base64",
        "path": [
         "positions",
         "compressed_buffer"
        ]
       }
      ],
      "model_module": "k3d",
      "model_module_version": "2.6.9",
      "model_name": "ObjectModel",
      "state": {
       "_view_count": null,
       "_view_module": null,
       "_view_module_version": "",
       "_view_name": null,
       "color": 10075135,
       "colors": {
        "dtype": "uint32",
        "shape": [
         0
        ]
       },
       "compression_level": 0,
       "id": 4596494288,
       "mesh_detail": 2,
       "model_matrix": {
        "dtype": "float32",
        "shape": [
         4,
         4
        ]
       },
       "name": null,
       "opacity": 1,
       "point_size": 0.1,
       "positions": {
        "dtype": "float32",
        "shape": [
         48,
         3
        ]
       },
       "shader": "3dSpecular",
       "type": "Points",
       "visible": true
      }
     },
     "ce5d6039736c4c24bf5c06475796d871": {
      "model_module": "@jupyter-widgets/output",
      "model_module_version": "1.0.0",
      "model_name": "OutputModel",
      "state": {
       "layout": "IPY_MODEL_c0cfd61e721b4a149685bab8da739bba",
       "outputs": [
        {
         "data": {
          "application/vnd.jupyter.widget-view+json": {
           "model_id": "a22846804f374e58945816ad07b9896d",
           "version_major": 2,
           "version_minor": 0
          },
          "text/plain": "Plot(antialias=3, axes=['x', 'y', 'z'], background_color=16777215, camera=[4.5, 4.5, 4.5, 0.0, 0.0, 0.0, 1.0, …"
         },
         "metadata": {},
         "output_type": "display_data"
        }
       ]
      }
     },
     "cf328c7f1e7840f6830264669fb54c4d": {
      "model_module": "@jupyter-widgets/output",
      "model_module_version": "1.0.0",
      "model_name": "OutputModel",
      "state": {
       "layout": "IPY_MODEL_00749da0d46142e4b674650b8d154510",
       "outputs": [
        {
         "data": {
          "application/vnd.jupyter.widget-view+json": {
           "model_id": "4ca3c0883cba46eeb6bd606e75b2164b",
           "version_major": 2,
           "version_minor": 0
          },
          "text/plain": "Plot(antialias=3, axes=['x', 'y', 'z'], background_color=16777215, camera=[4.5, 4.5, 4.5, 0.0, 0.0, 0.0, 1.0, …"
         },
         "metadata": {},
         "output_type": "display_data"
        }
       ]
      }
     },
     "cf67a5ac6c514389843698c91009234c": {
      "model_module": "@jupyter-widgets/base",
      "model_module_version": "1.2.0",
      "model_name": "LayoutModel",
      "state": {}
     },
     "d1709308a8994d7290b6be0fc13f17d1": {
      "model_module": "@jupyter-widgets/base",
      "model_module_version": "1.2.0",
      "model_name": "LayoutModel",
      "state": {}
     },
     "d22321c9af0749b4bec0e6fa916850c8": {
      "model_module": "@jupyter-widgets/output",
      "model_module_version": "1.0.0",
      "model_name": "OutputModel",
      "state": {
       "layout": "IPY_MODEL_a87576673d3743c18a5a3451eb91696f",
       "outputs": [
        {
         "data": {
          "application/vnd.jupyter.widget-view+json": {
           "model_id": "605b09b610a24d3e9d990ccdd1b4b988",
           "version_major": 2,
           "version_minor": 0
          },
          "text/plain": "Plot(antialias=3, axes=['x', 'y', 'z'], background_color=16777215, camera=[4.5, 4.5, 4.5, 0.0, 0.0, 0.0, 1.0, …"
         },
         "metadata": {},
         "output_type": "display_data"
        }
       ]
      }
     },
     "d29ea0dc24c640f7a696d9c017e9c6cd": {
      "model_module": "@jupyter-widgets/base",
      "model_module_version": "1.2.0",
      "model_name": "LayoutModel",
      "state": {}
     },
     "d47ca891b0724c688cf3ff1ee7de9607": {
      "buffers": [
       {
        "data": "eNoDAAAAAAE=",
        "encoding": "base64",
        "path": [
         "colors",
         "compressed_buffer"
        ]
       },
       {
        "data": "eNpjYGiwZ8AAxIsBAF7EAv0=",
        "encoding": "base64",
        "path": [
         "model_matrix",
         "compressed_buffer"
        ]
       },
       {
        "data": "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",
        "encoding": "base64",
        "path": [
         "origins",
         "compressed_buffer"
        ]
       },
       {
        "data": "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",
        "encoding": "base64",
        "path": [
         "vectors",
         "compressed_buffer"
        ]
       }
      ],
      "model_module": "k3d",
      "model_module_version": "2.6.9",
      "model_name": "ObjectModel",
      "state": {
       "_view_count": null,
       "_view_module": null,
       "_view_module_version": "",
       "_view_name": null,
       "colors": {
        "dtype": "uint32",
        "shape": [
         0
        ]
       },
       "compression_level": 0,
       "head_color": 255,
       "head_size": 1,
       "id": 4555191248,
       "label_size": 1,
       "labels": [],
       "line_width": 0.01,
       "model_matrix": {
        "dtype": "float32",
        "shape": [
         4,
         4
        ]
       },
       "name": null,
       "origin_color": 255,
       "origins": {
        "dtype": "float32",
        "shape": [
         1008,
         3
        ]
       },
       "type": "Vectors",
       "use_head": true,
       "vectors": {
        "dtype": "float32",
        "shape": [
         1008,
         3
        ]
       },
       "visible": true
      }
     },
     "d481ea5eab924a6b911b434ee99efe8e": {
      "model_module": "@jupyter-widgets/output",
      "model_module_version": "1.0.0",
      "model_name": "OutputModel",
      "state": {
       "layout": "IPY_MODEL_2578cd6ea0f0487aa80fd411c8af5d95",
       "outputs": [
        {
         "data": {
          "application/vnd.jupyter.widget-view+json": {
           "model_id": "6dee95e4d7d94784a2540fbab1de7e8c",
           "version_major": 2,
           "version_minor": 0
          },
          "text/plain": "Plot(antialias=3, axes=['x', 'y', 'z'], background_color=16777215, camera=[4.5, 4.5, 4.5, 0.0, 0.0, 0.0, 1.0, …"
         },
         "metadata": {},
         "output_type": "display_data"
        }
       ]
      }
     },
     "d58e98c1115647ef9d6a996416c8bf19": {
      "buffers": [
       {
        "data": "eNoDAAAAAAE=",
        "encoding": "base64",
        "path": [
         "colors",
         "compressed_buffer"
        ]
       },
       {
        "data": "eNpjYGiwZ8AAxIsBAF7EAv0=",
        "encoding": "base64",
        "path": [
         "model_matrix",
         "compressed_buffer"
        ]
       },
       {
        "data": "eNpNkj1oU2EUhkkx7W2jYhGEWDoU/GmxShEMovidDGKXxMHJDoI/NSHWdBIqoqI43JBBRTGoNJsSBJdASlVy73usXZq2cRKLbkolVNPUa0KkjaBn8mxnOD/P973PTGITT77fgXJ8HrdtHy+Ov3CqmRL+rLUQffbBSH1jsInRoQRJz8unnZwrLWBy+AHs5x1czaThFe7DafNz6Wg3QpF7KL/18f6Plx0veRej11vYefGLkdpebyA0O07S4xXWsD0xRTKbK/3AyKFfJDtz2QD3N9u5784QgpEulpvrpw9gecTi5WwKWxv7MPXQz0UvgMH8AHZt+Dh1y3KiR/ox3dlCrbZqpM4s1XF8yxWSnlCkhp7z0ySz5fh3HHxcJ9mZn61gyQqG5dbiwmZ+92kv41zS7WkG+FG+na+9ueSmC10sf7Bix92OOYtfx2z0fr3gJn/62UpZKEbPulf72jj7OV28WTnjbnM2cOJU00i9p7eO3xMTJD1echXDT16RzFYzK//e3iDZOdddwdjJYFhuxWLfcGz34bAwKB6jeIziMYrHKB6jeIziMYrHKB6jeIziMYrHqFxI5UIqF1K5kMqFVC6kciGVC6lcSOVCyjdSvpHyjZRvpHwj5Rsp30j5RjP//SflPyn/SflPfwEeEbDk",
        "encoding": "base64",
        "path": [
         "origins",
         "compressed_buffer"
        ]
       },
       {
        "data": "eNpNUiFLhFEQjGI4EDEYxSgKfsLBlZ1iMQoGgyD+AxHkuGIRFMOJh1q8YJBLZ7kkiLxVQUHkDkwGRW3aDBqsvjlYnfB4A293Z/bNFJUS9q5bztO5mrXm3KnzZJwCF5WSR81t+wj5OLaX/LmzDr7n2w8Wx/A4dOHzx1s++rFi5fsbX23UiVPgXONRw57o5byYWX06R2234d+9n5T5+trIn3v68znjpDqD4fIDbx/f37DXtxdvToE4BeZb1JAvemMPzsxcHly9bhd3C5s++DWSztYu0X4/9OnJCf4B4j/yDuAu3ClzgFzkHFjesXrr0/NNnAJTR9Rw/79e+ePM5cGVNXhoED0mekz0mOgx0WOix0SPiR4TPeq5iR4TPSa+mPgC8QXiC8QXiC8QXyC+QHyB+GKSN0jeIHmD5A2SN0jeIHmD5A3Ff/4h+YfkH5J//ALNZLTI",
        "encoding": "base64",
        "path": [
         "vectors",
         "compressed_buffer"
        ]
       }
      ],
      "model_module": "k3d",
      "model_module_version": "2.6.9",
      "model_name": "ObjectModel",
      "state": {
       "_view_count": null,
       "_view_module": null,
       "_view_module_version": "",
       "_view_name": null,
       "colors": {
        "dtype": "uint32",
        "shape": [
         0
        ]
       },
       "compression_level": 0,
       "head_color": 255,
       "head_size": 1,
       "id": 4717323472,
       "label_size": 1,
       "labels": [],
       "line_width": 0.01,
       "model_matrix": {
        "dtype": "float32",
        "shape": [
         4,
         4
        ]
       },
       "name": null,
       "origin_color": 255,
       "origins": {
        "dtype": "float32",
        "shape": [
         68,
         3
        ]
       },
       "type": "Vectors",
       "use_head": true,
       "vectors": {
        "dtype": "float32",
        "shape": [
         68,
         3
        ]
       },
       "visible": true
      }
     },
     "d6d16a6ef5e040e092b4a6d51ab3986d": {
      "buffers": [
       {
        "data": "eNoDAAAAAAE=",
        "encoding": "base64",
        "path": [
         "colors",
         "compressed_buffer"
        ]
       },
       {
        "data": "eNpjYGiwZ8AAxIsBAF7EAv0=",
        "encoding": "base64",
        "path": [
         "model_matrix",
         "compressed_buffer"
        ]
       },
       {
        "data": "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",
        "encoding": "base64",
        "path": [
         "origins",
         "compressed_buffer"
        ]
       },
       {
        "data": "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",
        "encoding": "base64",
        "path": [
         "vectors",
         "compressed_buffer"
        ]
       }
      ],
      "model_module": "k3d",
      "model_module_version": "2.6.9",
      "model_name": "ObjectModel",
      "state": {
       "_view_count": null,
       "_view_module": null,
       "_view_module_version": "",
       "_view_name": null,
       "colors": {
        "dtype": "uint32",
        "shape": [
         0
        ]
       },
       "compression_level": 0,
       "head_color": 255,
       "head_size": 1,
       "id": 4667434600,
       "label_size": 1,
       "labels": [],
       "line_width": 0.01,
       "model_matrix": {
        "dtype": "float32",
        "shape": [
         4,
         4
        ]
       },
       "name": null,
       "origin_color": 255,
       "origins": {
        "dtype": "float32",
        "shape": [
         1008,
         3
        ]
       },
       "type": "Vectors",
       "use_head": true,
       "vectors": {
        "dtype": "float32",
        "shape": [
         1008,
         3
        ]
       },
       "visible": true
      }
     },
     "d6d1dd7373a54e80b7cec13422c87e87": {
      "buffers": [
       {
        "data": "eNoDAAAAAAE=",
        "encoding": "base64",
        "path": [
         "colors",
         "compressed_buffer"
        ]
       },
       {
        "data": "eNpjYGiwZ8AAxIsBAF7EAv0=",
        "encoding": "base64",
        "path": [
         "model_matrix",
         "compressed_buffer"
        ]
       },
       {
        "data": "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",
        "encoding": "base64",
        "path": [
         "origins",
         "compressed_buffer"
        ]
       },
       {
        "data": "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",
        "encoding": "base64",
        "path": [
         "vectors",
         "compressed_buffer"
        ]
       }
      ],
      "model_module": "k3d",
      "model_module_version": "2.6.9",
      "model_name": "ObjectModel",
      "state": {
       "_view_count": null,
       "_view_module": null,
       "_view_module_version": "",
       "_view_name": null,
       "colors": {
        "dtype": "uint32",
        "shape": [
         0
        ]
       },
       "compression_level": 0,
       "head_color": 255,
       "head_size": 1,
       "id": 4577379472,
       "label_size": 1,
       "labels": [],
       "line_width": 0.01,
       "model_matrix": {
        "dtype": "float32",
        "shape": [
         4,
         4
        ]
       },
       "name": null,
       "origin_color": 255,
       "origins": {
        "dtype": "float32",
        "shape": [
         1008,
         3
        ]
       },
       "type": "Vectors",
       "use_head": true,
       "vectors": {
        "dtype": "float32",
        "shape": [
         1008,
         3
        ]
       },
       "visible": true
      }
     },
     "d6d5ec811e1f4597988bd67f20ead1c8": {
      "model_module": "@jupyter-widgets/base",
      "model_module_version": "1.2.0",
      "model_name": "LayoutModel",
      "state": {}
     },
     "d6dc8220b8cd4ba9a4759ca33ff16209": {
      "model_module": "@jupyter-widgets/output",
      "model_module_version": "1.0.0",
      "model_name": "OutputModel",
      "state": {
       "layout": "IPY_MODEL_d29ea0dc24c640f7a696d9c017e9c6cd",
       "outputs": [
        {
         "data": {
          "application/vnd.jupyter.widget-view+json": {
           "model_id": "c2050a7e201741ecb1817cdeda50dd60",
           "version_major": 2,
           "version_minor": 0
          },
          "text/plain": "Plot(antialias=3, axes=['x', 'y', 'z'], background_color=16777215, camera=[4.5, 4.5, 4.5, 0.0, 0.0, 0.0, 1.0, …"
         },
         "metadata": {},
         "output_type": "display_data"
        }
       ]
      }
     },
     "d7225d99f7b64d9d99724fb73cfda567": {
      "model_module": "k3d",
      "model_module_version": "2.6.9",
      "model_name": "PlotModel",
      "state": {
       "_backend_version": "2.6.9",
       "_dom_classes": [],
       "_view_count": null,
       "antialias": 3,
       "axes": [
        "x",
        "y",
        "z"
       ],
       "background_color": 16777215,
       "camera": [
        9.626071480411772,
        -14.50160721782369,
        0.9401071417454445,
        -0.02499999664723873,
        -0.02500000223517418,
        -0.025000005960464478,
        0,
        0,
        1
       ],
       "camera_auto_fit": true,
       "camera_no_pan": false,
       "camera_no_rotate": false,
       "camera_no_zoom": false,
       "clipping_planes": [],
       "colorbar_object_id": -1,
       "fps_meter": false,
       "grid": [
        -1,
        -1,
        -1,
        1,
        1,
        1
       ],
       "grid_auto_fit": true,
       "grid_visible": true,
       "height": 512,
       "layout": "IPY_MODEL_0e02af4a4f684ac088443e9ad074a348",
       "lighting": 1,
       "menu_visibility": true,
       "object_ids": [
        4641879488
       ],
       "rendering_steps": 1,
       "screenshot": "",
       "screenshot_scale": 2,
       "time": 0,
       "voxel_paint_color": 0
      }
     },
     "d75b6c9c37c247298d0f0380cfe45090": {
      "model_module": "@jupyter-widgets/base",
      "model_module_version": "1.2.0",
      "model_name": "LayoutModel",
      "state": {}
     },
     "d8113498ca88447ea9589130dc5f549b": {
      "buffers": [
       {
        "data": "eNoDAAAAAAE=",
        "encoding": "base64",
        "path": [
         "colors",
         "compressed_buffer"
        ]
       },
       {
        "data": "eNpjYGiwZ8AAxIsBAF7EAv0=",
        "encoding": "base64",
        "path": [
         "model_matrix",
         "compressed_buffer"
        ]
       },
       {
        "data": "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",
        "encoding": "base64",
        "path": [
         "positions",
         "compressed_buffer"
        ]
       }
      ],
      "model_module": "k3d",
      "model_module_version": "2.6.9",
      "model_name": "ObjectModel",
      "state": {
       "_view_count": null,
       "_view_module": null,
       "_view_module_version": "",
       "_view_name": null,
       "color": 10075135,
       "colors": {
        "dtype": "uint32",
        "shape": [
         0
        ]
       },
       "compression_level": 0,
       "id": 4596640720,
       "mesh_detail": 2,
       "model_matrix": {
        "dtype": "float32",
        "shape": [
         4,
         4
        ]
       },
       "name": null,
       "opacity": 1,
       "point_size": 0.1,
       "positions": {
        "dtype": "float32",
        "shape": [
         1008,
         3
        ]
       },
       "shader": "3dSpecular",
       "type": "Points",
       "visible": true
      }
     },
     "d891f534bf4a43b084a36ca11a3bcd99": {
      "model_module": "@jupyter-widgets/output",
      "model_module_version": "1.0.0",
      "model_name": "OutputModel",
      "state": {
       "layout": "IPY_MODEL_6af264ae1d784d2789182b81f8d91dc6",
       "outputs": [
        {
         "data": {
          "application/vnd.jupyter.widget-view+json": {
           "model_id": "f6af007348cf44dea43f1f0a13144e05",
           "version_major": 2,
           "version_minor": 0
          },
          "text/plain": "Plot(antialias=3, axes=['x', 'y', 'z'], background_color=16777215, camera=[4.5, 4.5, 4.5, 0.0, 0.0, 0.0, 1.0, …"
         },
         "metadata": {},
         "output_type": "display_data"
        }
       ]
      }
     },
     "d8ecfd4dd97b40a5a0aec9c813c69553": {
      "model_module": "k3d",
      "model_module_version": "2.6.9",
      "model_name": "PlotModel",
      "state": {
       "_backend_version": "2.6.9",
       "_dom_classes": [],
       "_view_count": null,
       "antialias": 3,
       "axes": [
        "x",
        "y",
        "z"
       ],
       "background_color": 16777215,
       "camera": [
        5.676886823516348,
        -8.515330235274524,
        0.5676886823516407,
        0,
        0,
        0,
        0,
        0,
        1
       ],
       "camera_auto_fit": true,
       "camera_no_pan": false,
       "camera_no_rotate": false,
       "camera_no_zoom": false,
       "clipping_planes": [],
       "colorbar_object_id": -1,
       "fps_meter": false,
       "grid": [
        -1,
        -1,
        -1,
        1,
        1,
        1
       ],
       "grid_auto_fit": true,
       "grid_visible": true,
       "height": 512,
       "layout": "IPY_MODEL_8c77ed539c154c738af4618394c8e459",
       "lighting": 1,
       "menu_visibility": true,
       "object_ids": [
        4667177448,
        4667178680
       ],
       "rendering_steps": 1,
       "screenshot": "",
       "screenshot_scale": 2,
       "time": 0,
       "voxel_paint_color": 0
      }
     },
     "d9069c4b5aa54494abf7d1d685218dc3": {
      "model_module": "@jupyter-widgets/base",
      "model_module_version": "1.2.0",
      "model_name": "LayoutModel",
      "state": {}
     },
     "d95ce4f40767411ba11a61ca2c61dafb": {
      "buffers": [
       {
        "data": "eNot0vlP1gUcwPF3rVar1Wq14vR5Hh4eBOSSQy45fZ7v96spoRIiIqJAHCKH3Pf9cD7fLLMss8yyzLLM0sy01KJIo1BDEQUEfWBrba2ttbbW1sfVD6//4JV2l5X0u62su8fG+nttZN6nkHW/wsYHFLIfVMh5SGXzwyq5j6jkPaqS/5hKweMahU9oFD2pUeyiUeKmsc1do9RDo8xTo9ygUWHUqDRpVJk1qr01aiwatT4adb4a9X4aDf4qDQEqjYEqTUEqzcEqLSEKLaEKrWEKbeEK7RE22iNtdETZ6Iy20hljpStWxC2jO14kJGNPFEnJ9CQn0WNNoteWSK8i1AT6NLE8nr4V8fSvFKvi6E8RTy9lIFWsjmVgjVgbw2CaeCaawXSREcXgepEZiWODyFqCY6PIjsCxSeSE49gstoThyA1DzwtFzxfPLkYvEIWiKAS9WGwNRi8R24LQS0WZKA9Er7gjAH27qBRVi9CrRY0/eq2oE/V+6A2iUTT5ojeLloXoraJNtPugd/yv04LeJbqF3Ru9R/Sa0fvMOPrFgBeOQeEQugnHc2KHicHnxQvG/+wULxoY2CVeEi+L3Qb6XxGvij0L6HtN7BWvG+h9Q+wTbxrouWO/AftbRuxvG+k+YKL7HfGuF10Hveh8z0znIW863rfQ8YGF9sM+YiFtH/rS+pEfrUf8afk4gOajgTR9EkTTp8E0HltMw/FQ6o+HU/9ZBHUnIqn9PIqakzFUfxFL1ak4Kk8lsP10IhVfJlP+lZWyMwqlZ+Xj2RWUnFvJ1q9TKP4mlaKhNRQOpVHwbTr532WQN5xJ7nAWW77PJud8Dpsu5JJ9IZ+sHwrYMFJE5kgJGT+Wsu6nctJHK0kbrWbtxVpWX2wg9VITKZdbWXW5nad+7mL5mB1trA/lygC2KzrLru4g6epOEsd3ET++m6XX9hB7bS/RE/uInNjPkusHCL9+kNAbhwi5cZjgySMETh5l0dQx/KZO4Dt1Ep/p01imz2CePofp5hDGm8MYZs7jOTOCx8wo7rOXcJsdw3V2HNdbE7jcmhTTuNyexfW2U8zj5vwFd+eveDh/w9P5Owvm/sA49yemub8wz/+NZf4f/gXLh0p6",
        "encoding": "base64",
        "path": [
         "color_map",
         "compressed_buffer"
        ]
       },
       {
        "data": "eNpjYFBwZMAABxwwxRjsMYUa7AFHpwJg",
        "encoding": "base64",
        "path": [
         "model_matrix",
         "compressed_buffer"
        ]
       },
       {
        "data": "eNpjYACBN19+////+8sbBji4eOvp+5///v18//TWRYjItr1Hz916/vXfv6/Pb507uncbUGjJinVb95269eb37ze3Tu3bum7FEoYp02bOXbRi08EbX77cOLhpxaK5M6dNae/o6OrpmzRz+alTy2dO6uvp6uhor6yoKCspykuPNDOLTM8rKimrqKjMyUpPjovws9fg4dGw94uIS07PymGIiQjydjJTE2FlFVEzc/IOiogBWuzlbG2kJsnNxMQtqWZk7ewFcaG+mrQgOxMTu6C0mj7CJyI8rIyMrDwiEB4A19heAQ==",
        "encoding": "base64",
        "path": [
         "voxels",
         "compressed_buffer"
        ]
       }
      ],
      "model_module": "k3d",
      "model_module_version": "2.6.9",
      "model_name": "ObjectModel",
      "state": {
       "_view_count": null,
       "_view_module": null,
       "_view_module_version": "",
       "_view_name": null,
       "color_map": {
        "dtype": "uint32",
        "shape": [
         256
        ]
       },
       "compression_level": 0,
       "id": 4577182096,
       "model_matrix": {
        "dtype": "float32",
        "shape": [
         4,
         4
        ]
       },
       "name": null,
       "opacity": 1,
       "outlines": false,
       "outlines_color": 0,
       "type": "Voxels",
       "visible": true,
       "voxels": {
        "dtype": "uint8",
        "shape": [
         1,
         12,
         20
        ]
       },
       "wireframe": false
      }
     },
     "d9948f46c5c9437cbafe055b29f90222": {
      "model_module": "@jupyter-widgets/base",
      "model_module_version": "1.2.0",
      "model_name": "LayoutModel",
      "state": {}
     },
     "da4999c5b8534ceab5ab2801d159deb9": {
      "model_module": "@jupyter-widgets/base",
      "model_module_version": "1.2.0",
      "model_name": "LayoutModel",
      "state": {}
     },
     "db05bd024dc9434290422b3714f29d58": {
      "model_module": "@jupyter-widgets/output",
      "model_module_version": "1.0.0",
      "model_name": "OutputModel",
      "state": {
       "layout": "IPY_MODEL_85d9409039714597837ee271a819e3e0",
       "outputs": [
        {
         "data": {
          "application/vnd.jupyter.widget-view+json": {
           "model_id": "f481722617ab4edd9704a8b4853498f3",
           "version_major": 2,
           "version_minor": 0
          },
          "text/plain": "Plot(antialias=3, axes=['x', 'y', 'z'], background_color=16777215, camera=[4.5, 4.5, 4.5, 0.0, 0.0, 0.0, 1.0, …"
         },
         "metadata": {},
         "output_type": "display_data"
        }
       ]
      }
     },
     "db12d0bb7fdd48b8959654474eea2409": {
      "buffers": [
       {
        "data": "eNoLvljOEAzEhfucwLh9oTwY9zWog3FvogkYd7g5gLHkoxtgrHz/EBhb35wLxgmnEsC4ZYUSGPdVaoJxd6A1GDeYuIFxibIHGGdJQLDCs29gLPv0IxhLPnkOxjIPL4Cxzc3ZYFy91RCM+3L0wbjR1BWM82Q8wDhZwB2MY7ncwDiKHYJVn/9FwcrPf4MxzF7JJ0/BOBgaDjB/pgi6gzHMnHAWVzAOY3IB4xBGCKa1+bQOH2rHZzCJ6QkAgWfRNQ==",
        "encoding": "base64",
        "path": [
         "colors",
         "compressed_buffer"
        ]
       },
       {
        "data": "eNpjYGiwZ8AAxIsBAF7EAv0=",
        "encoding": "base64",
        "path": [
         "model_matrix",
         "compressed_buffer"
        ]
       },
       {
        "data": "eNpNk09IVHEQxy/JemlpKYJgqQVJimLVCiLxzXct2EIjCQoq7GASlrAIUmGCRAgFRdEindbFbA0vHYI6FPZmHktJoRIVuBczyv6c8lCUaRDNnJrTm8N3Zj7v9/1OJbcYLq/clfqaKVlqGQ3PP85KV/8L6Wr7+vTXuZt8+OGk1U1r13eS1aoJru/fA9NUcotBrKoI650Z38mdSESpK0My8KWWl1c+Ss2GvNzJr2EqlmT62w2p7X4dlp8ckOG6a/L5x8ZwYH6IP229anUQ23eMrFZNQNndMI32UvnUMKxXZ1Ks6h1spu6iYhTP2K5HvVkeTzVE6b4dcubVXj5yIhGtflYnU9ubuLF9QUZnt0lqMM0f2sdk4s1m+Z2Ms1RapdyXlO+xi+Hf1AgPHkpYHaziZrJaNdS8ZRdMo720qVSA9epMmizNwWbqLrp/L56xXcpAx9+nM8YwM31Q/6khko4c5/+0cqk7Eb09epb7T7foOyyIviPPP8jyyNKY6D/zz+eNfOlWm+hu1vcMLxQmeN3LaqsD/ZLVqqHLPfUwjfZSR3UB1qsz9X3mYDN1F528Hc/YLmWg5Gw6YwyOhxwPOR5yPOR4yPGQ4yHHQ46HHA85HnI85PyC8wvOLzi/4PyC8wvOLzi/4PyC8wvOLzi/4HILl1u43MLlFi63cLmFyy1cbuFyC5dbVP7fHdzdwd0d3N3B3R3c3eEfvcjK8g==",
        "encoding": "base64",
        "path": [
         "origins",
         "compressed_buffer"
        ]
       },
       {
        "data": "eNpNkz0vRFEQhqlEIwqNROIrUQilct6SRCOi8AcIEbuFkmyllIhtN7JUdEKoxJlCYgu7G+WqqPgBKxtEY+bmTPIWkzM3dz6ec96ZTqmMRYVUPi/0e3kSZ0Pr0px70K2VLXHb33x2P4VvMRoxnVJZI7d9eYvazbj01ZfUvoua/v+8egLPtVNndlYxenokE4dX+vFVF7e364b7KXyL0YjxnMj1HlHTemn0uttrYHdtWKYqr2n75RHTs/NSe+9X4yvu4rxWq+jrtX/GjtE7SGKndgd+xa33dO9+Ct//RYxzRK7fOWpaL41exqDB0G61MNgdEbNU/WtiY3VBzJK9HfKbJrsn8v2T9UPmSHY3ZNNshZ/5ipj8XkVu1qaoab00ehmDBgPxCPEI8QjxCPEI8YB4QDxCPEI8QjxCPEJ6CekF0gukF0gvkF4gvUB6gfQC6QXSC6SX0NyC5hY0t6C5Bc0taG5BcwuaW9Dcgua2eMe8O6C9A+0daO9AewfaO/wDaMzjfA==",
        "encoding": "base64",
        "path": [
         "vectors",
         "compressed_buffer"
        ]
       }
      ],
      "model_module": "k3d",
      "model_module_version": "2.6.9",
      "model_name": "ObjectModel",
      "state": {
       "_view_count": null,
       "_view_module": null,
       "_view_module_version": "",
       "_view_name": null,
       "colors": {
        "dtype": "uint32",
        "shape": [
         80,
         2
        ]
       },
       "compression_level": 0,
       "head_color": 255,
       "head_size": 1,
       "id": 4734587736,
       "label_size": 1,
       "labels": [],
       "line_width": 0.01,
       "model_matrix": {
        "dtype": "float32",
        "shape": [
         4,
         4
        ]
       },
       "name": null,
       "origin_color": 255,
       "origins": {
        "dtype": "float32",
        "shape": [
         80,
         3
        ]
       },
       "type": "Vectors",
       "use_head": true,
       "vectors": {
        "dtype": "float32",
        "shape": [
         80,
         3
        ]
       },
       "visible": true
      }
     },
     "db4b9821173b442fbf8e9316e2c3d2d9": {
      "model_module": "@jupyter-widgets/output",
      "model_module_version": "1.0.0",
      "model_name": "OutputModel",
      "state": {
       "layout": "IPY_MODEL_cc3f2407d1bb406b8bf413df8fc6d9f8",
       "outputs": [
        {
         "data": {
          "application/vnd.jupyter.widget-view+json": {
           "model_id": "065db63178a84eec8ad7ed98b1326c10",
           "version_major": 2,
           "version_minor": 0
          },
          "text/plain": "Plot(antialias=3, axes=['x', 'y', 'z'], background_color=16777215, camera=[4.5, 4.5, 4.5, 0.0, 0.0, 0.0, 1.0, …"
         },
         "metadata": {},
         "output_type": "display_data"
        }
       ]
      }
     },
     "db61925d85914b588b5a558fbf4e20d5": {
      "model_module": "k3d",
      "model_module_version": "2.6.9",
      "model_name": "PlotModel",
      "state": {
       "_backend_version": "2.6.9",
       "_dom_classes": [],
       "_view_count": null,
       "antialias": 3,
       "axes": [
        "x",
        "y",
        "z"
       ],
       "background_color": 16777215,
       "camera": [
        10.284874878907916,
        -15.489812315567907,
        1.0059874815950598,
        -0.02499999664723873,
        -0.02500000223517418,
        -0.025000005960464478,
        0,
        0,
        1
       ],
       "camera_auto_fit": true,
       "camera_no_pan": false,
       "camera_no_rotate": false,
       "camera_no_zoom": false,
       "clipping_planes": [],
       "colorbar_object_id": -1,
       "fps_meter": false,
       "grid": [
        -1,
        -1,
        -1,
        1,
        1,
        1
       ],
       "grid_auto_fit": true,
       "grid_visible": true,
       "height": 512,
       "layout": "IPY_MODEL_ff267d320e2b4169af74b0bb35a85eba",
       "lighting": 1,
       "menu_visibility": true,
       "object_ids": [
        4596378768
       ],
       "rendering_steps": 1,
       "screenshot": "",
       "screenshot_scale": 2,
       "time": 0,
       "voxel_paint_color": 0
      }
     },
     "db6913d483834d0ebb03ffec2a152907": {
      "model_module": "@jupyter-widgets/output",
      "model_module_version": "1.0.0",
      "model_name": "OutputModel",
      "state": {
       "layout": "IPY_MODEL_10577fbc5dce4c3f9b3cf5f2eb4505c8",
       "outputs": [
        {
         "data": {
          "application/vnd.jupyter.widget-view+json": {
           "model_id": "69a65b7c6b8f4215959a67e4c89e4cfe",
           "version_major": 2,
           "version_minor": 0
          },
          "text/plain": "Plot(antialias=3, axes=['x', 'y', 'z'], background_color=16777215, camera=[4.5, 4.5, 4.5, 0.0, 0.0, 0.0, 1.0, …"
         },
         "metadata": {},
         "output_type": "display_data"
        }
       ]
      }
     },
     "dd2e1525fbfb4d0ba8621c9026d9f4e7": {
      "buffers": [
       {
        "data": "eNot0vlP1gUcwPF3rVar1Wq14vR5Hh4eBOSSQy45fZ7v96spoRIiIqJAHCKH3Pf9cD7fLLMss8yyzLLM0sy01KJIo1BDEQUEfWBrba2ttbbW1sfVD6//4JV2l5X0u62su8fG+nttZN6nkHW/wsYHFLIfVMh5SGXzwyq5j6jkPaqS/5hKweMahU9oFD2pUeyiUeKmsc1do9RDo8xTo9ygUWHUqDRpVJk1qr01aiwatT4adb4a9X4aDf4qDQEqjYEqTUEqzcEqLSEKLaEKrWEKbeEK7RE22iNtdETZ6Iy20hljpStWxC2jO14kJGNPFEnJ9CQn0WNNoteWSK8i1AT6NLE8nr4V8fSvFKvi6E8RTy9lIFWsjmVgjVgbw2CaeCaawXSREcXgepEZiWODyFqCY6PIjsCxSeSE49gstoThyA1DzwtFzxfPLkYvEIWiKAS9WGwNRi8R24LQS0WZKA9Er7gjAH27qBRVi9CrRY0/eq2oE/V+6A2iUTT5ojeLloXoraJNtPugd/yv04LeJbqF3Ru9R/Sa0fvMOPrFgBeOQeEQugnHc2KHicHnxQvG/+wULxoY2CVeEi+L3Qb6XxGvij0L6HtN7BWvG+h9Q+wTbxrouWO/AftbRuxvG+k+YKL7HfGuF10Hveh8z0znIW863rfQ8YGF9sM+YiFtH/rS+pEfrUf8afk4gOajgTR9EkTTp8E0HltMw/FQ6o+HU/9ZBHUnIqn9PIqakzFUfxFL1ak4Kk8lsP10IhVfJlP+lZWyMwqlZ+Xj2RWUnFvJ1q9TKP4mlaKhNRQOpVHwbTr532WQN5xJ7nAWW77PJud8Dpsu5JJ9IZ+sHwrYMFJE5kgJGT+Wsu6nctJHK0kbrWbtxVpWX2wg9VITKZdbWXW5nad+7mL5mB1trA/lygC2KzrLru4g6epOEsd3ET++m6XX9hB7bS/RE/uInNjPkusHCL9+kNAbhwi5cZjgySMETh5l0dQx/KZO4Dt1Ep/p01imz2CePofp5hDGm8MYZs7jOTOCx8wo7rOXcJsdw3V2HNdbE7jcmhTTuNyexfW2U8zj5vwFd+eveDh/w9P5Owvm/sA49yemub8wz/+NZf4f/gXLh0p6",
        "encoding": "base64",
        "path": [
         "color_map",
         "compressed_buffer"
        ]
       },
       {
        "data": "eNpjYFBwZMAABxwwxRqwidkDAFK8AuE=",
        "encoding": "base64",
        "path": [
         "model_matrix",
         "compressed_buffer"
        ]
       },
       {
        "data": "eNrl1c9LKlEUB/BJGFzoxtCFBLMcpoUIEUMYYVRCFBkWiZIUYTEwhGL+aPwLnBxNlBgYSqIwFKMkowisSCKJIQJxkcxyIFwoudGFCPZ8iphv9eDxVt7d/XA553zhci8A/PvKsGymV87iiWQyET/7QZQ/EAyFggE/1TWn3Wa1WKw2u/PHwVW9TqvV6Vd7K6pQVAX851Usl4s98Jrl+EKB57KvHTm/unticxyXY5/urs7bdngciSdT6XQqGY8cH7aI3KN8gRDNMHQo4KP2yN9G7DodNguOYbjF5nDuEq2DWxsmvVajVmu0etPGVrveyuLsJKqAYQU6Obu40uk8poQhuRyClWM9I8okEtlfhavXe/d5vlip1SpFPt+R1PPbB/9VrX7xH2/PqRbFLq7vMzm+VOJzmfvri1iTaOboJJpIsfk8m0pET44YGgA8pJfyB+lwNBqmg37KS3oAwE24nHYrbjYazbjV7nQRbgDAsc11o06DIgiq0RnXNzG8WdCwvDCjUkBSKaRQzSwsG1qNNROjw9CgSDQIDY9OaDoTIpBMLBSKZRDSmwUE/whbqtS/v+uVUley3Ge51mjUyp9cti23Dy/vXKHaaFQL3PvLw22TIrHLm0eWK9XrJY59vLmMRYADmgmfxpLpfKWSTydjp2GGPvCQpNe3H2KiLBtlQvs+L0l63AThcuxYMCOKGjHLjsNFEO5tHDOvGbRqRCxG1FrDmhnDtwGTYWl+CoWlICiF0an5JYOp2XhuenwElosEApEcHhmfnmtPqISHJEKBQCgZgpXdJFIxODAAiqX9nLff7nMfvld98h/9AlMm+BA=",
        "encoding": "base64",
        "path": [
         "voxels",
         "compressed_buffer"
        ]
       }
      ],
      "model_module": "k3d",
      "model_module_version": "2.6.9",
      "model_name": "ObjectModel",
      "state": {
       "_view_count": null,
       "_view_module": null,
       "_view_module_version": "",
       "_view_name": null,
       "color_map": {
        "dtype": "uint32",
        "shape": [
         256
        ]
       },
       "compression_level": 0,
       "id": 4560958608,
       "model_matrix": {
        "dtype": "float32",
        "shape": [
         4,
         4
        ]
       },
       "name": null,
       "opacity": 1,
       "outlines": false,
       "outlines_color": 0,
       "type": "Voxels",
       "visible": true,
       "voxels": {
        "dtype": "uint8",
        "shape": [
         8,
         12,
         20
        ]
       },
       "wireframe": false
      }
     },
     "dd3153a6aa9b4c24ad929574e0b94831": {
      "model_module": "@jupyter-widgets/base",
      "model_module_version": "1.2.0",
      "model_name": "LayoutModel",
      "state": {}
     },
     "ddb05b1ee26945f9b1462708b7a554bc": {
      "buffers": [
       {
        "data": "eNot0vlP1gUcwPF3rVar1Wq14vR5Hh4eBOSSQy45fZ7v96spoRIiIqJAHCKH3Pf9cD7fLLMss8yyzLLM0sy01KJIo1BDEQUEfWBrba2ttbbW1sfVD6//4JV2l5X0u62su8fG+nttZN6nkHW/wsYHFLIfVMh5SGXzwyq5j6jkPaqS/5hKweMahU9oFD2pUeyiUeKmsc1do9RDo8xTo9ygUWHUqDRpVJk1qr01aiwatT4adb4a9X4aDf4qDQEqjYEqTUEqzcEqLSEKLaEKrWEKbeEK7RE22iNtdETZ6Iy20hljpStWxC2jO14kJGNPFEnJ9CQn0WNNoteWSK8i1AT6NLE8nr4V8fSvFKvi6E8RTy9lIFWsjmVgjVgbw2CaeCaawXSREcXgepEZiWODyFqCY6PIjsCxSeSE49gstoThyA1DzwtFzxfPLkYvEIWiKAS9WGwNRi8R24LQS0WZKA9Er7gjAH27qBRVi9CrRY0/eq2oE/V+6A2iUTT5ojeLloXoraJNtPugd/yv04LeJbqF3Ru9R/Sa0fvMOPrFgBeOQeEQugnHc2KHicHnxQvG/+wULxoY2CVeEi+L3Qb6XxGvij0L6HtN7BWvG+h9Q+wTbxrouWO/AftbRuxvG+k+YKL7HfGuF10Hveh8z0znIW863rfQ8YGF9sM+YiFtH/rS+pEfrUf8afk4gOajgTR9EkTTp8E0HltMw/FQ6o+HU/9ZBHUnIqn9PIqakzFUfxFL1ak4Kk8lsP10IhVfJlP+lZWyMwqlZ+Xj2RWUnFvJ1q9TKP4mlaKhNRQOpVHwbTr532WQN5xJ7nAWW77PJud8Dpsu5JJ9IZ+sHwrYMFJE5kgJGT+Wsu6nctJHK0kbrWbtxVpWX2wg9VITKZdbWXW5nad+7mL5mB1trA/lygC2KzrLru4g6epOEsd3ET++m6XX9hB7bS/RE/uInNjPkusHCL9+kNAbhwi5cZjgySMETh5l0dQx/KZO4Dt1Ep/p01imz2CePofp5hDGm8MYZs7jOTOCx8wo7rOXcJsdw3V2HNdbE7jcmhTTuNyexfW2U8zj5vwFd+eveDh/w9P5Owvm/sA49yemub8wz/+NZf4f/gXLh0p6",
        "encoding": "base64",
        "path": [
         "color_map",
         "compressed_buffer"
        ]
       },
       {
        "data": "eNpjYFBwZMAABxwwxRqwidkDAFK8AuE=",
        "encoding": "base64",
        "path": [
         "model_matrix",
         "compressed_buffer"
        ]
       },
       {
        "data": "eNrl1U1IKlEUB3ASxIVuDF1IMMvBFiJEDGGEUQlRNGGRKEkRFgNDKOZH4252Tn4kSgwMJVEYDkZJRhFYkUQSQwTiomGWA+FCyY0uRLDnU8R8qwePt/Lu7o/LOecPl3tx/N9XlmGyvXKWSKZSycTZD/IHQ+FIJBwK+rvmcthtVqvN7nD9OLhq0MOw3rDaW1EDQRr8P69iuVzsgdccxxcKPJd77cj51d0Tk+e4PPN0d3XetsPjWCKVzmTSqUTs+LBFxJ4/EIqQFEVGQgH/HvHbsF2X025FEQS12p2uXax1cGvDbIB1Wq0ONpg3ttr1VhZnJyEVCKqgydnFlU7nMTUIKBQAqB7rGVEulcr/Kly93rtn+WKlVqsUebYj6ee3D/6rWv3iP96e0y2iL67vs3m+VOLz2fvrC7pJJHV0Ek+mGZZl0sn4yRFF4riX8PmDYTIaj0fJcNDvI7w47sHcLocNtZhMFtTmcLkxD46jyOa6Sa+DlEpIpzetbyJos6BxeWFGowJkMkClmVlYNrYa6yZGh4FBsXgQGB6d0HUmVAJyiUgkkQPK3ixC4R9hS5X693e9UupKjvss1xqNWvmTy7Xl9uHlnStUG41qgXt/ebhtUoy+vHlkuFK9XuKYx5tLOoYfkFT0lE5l2EqFzaTo0yhFHngJwhfYj1BxholTkf2AjyC8HgxzO3esiAmCTIh1x+nGMM82iljWjLBWKZEotbBxzYKg27jZuDQ/BYEyoVAGQlPzS0Zzs/Hc9PgIqBALBGIFODI+PdeeUA0OSUUCgUg6BKq7SWQS4cCAUCLr57z9dp/78L3qk//oF5tnwC4=",
        "encoding": "base64",
        "path": [
         "voxels",
         "compressed_buffer"
        ]
       }
      ],
      "model_module": "k3d",
      "model_module_version": "2.6.9",
      "model_name": "ObjectModel",
      "state": {
       "_view_count": null,
       "_view_module": null,
       "_view_module_version": "",
       "_view_name": null,
       "color_map": {
        "dtype": "uint32",
        "shape": [
         256
        ]
       },
       "compression_level": 0,
       "id": 4572828112,
       "model_matrix": {
        "dtype": "float32",
        "shape": [
         4,
         4
        ]
       },
       "name": null,
       "opacity": 1,
       "outlines": false,
       "outlines_color": 0,
       "type": "Voxels",
       "visible": true,
       "voxels": {
        "dtype": "uint8",
        "shape": [
         8,
         12,
         20
        ]
       },
       "wireframe": false
      }
     },
     "de300aea3a274a989629dcb2f7d1d282": {
      "buffers": [
       {
        "data": "eNq7PcOEwcbnOUPCOnUG/iMfGda69DF8/PCGAQB5NApc",
        "encoding": "base64",
        "path": [
         "color_map",
         "compressed_buffer"
        ]
       },
       {
        "data": "eNpjYPBwYoCDE44QGiYG44PAAiBbAYkPAg32AKkjBSg=",
        "encoding": "base64",
        "path": [
         "model_matrix",
         "compressed_buffer"
        ]
       },
       {
        "data": "eNpjZBwegGmYAACJawJZ",
        "encoding": "base64",
        "path": [
         "voxels",
         "compressed_buffer"
        ]
       }
      ],
      "model_module": "k3d",
      "model_module_version": "2.6.9",
      "model_name": "ObjectModel",
      "state": {
       "_view_count": null,
       "_view_module": null,
       "_view_module_version": "",
       "_view_name": null,
       "color_map": {
        "dtype": "uint32",
        "shape": [
         6
        ]
       },
       "compression_level": 0,
       "id": 4424774928,
       "model_matrix": {
        "dtype": "float32",
        "shape": [
         4,
         4
        ]
       },
       "name": null,
       "opacity": 1,
       "outlines": false,
       "outlines_color": 0,
       "type": "Voxels",
       "visible": true,
       "voxels": {
        "dtype": "uint8",
        "shape": [
         4,
         10,
         10
        ]
       },
       "wireframe": false
      }
     },
     "de4293795ed54263bc7bdaf7b6d59e81": {
      "model_module": "@jupyter-widgets/base",
      "model_module_version": "1.2.0",
      "model_name": "LayoutModel",
      "state": {}
     },
     "de7f5a3d4e3546d3885744bfddafda38": {
      "model_module": "@jupyter-widgets/base",
      "model_module_version": "1.2.0",
      "model_name": "LayoutModel",
      "state": {}
     },
     "debf9e2448bf4dd19c4b3ca27a8905c4": {
      "model_module": "k3d",
      "model_module_version": "2.6.9",
      "model_name": "PlotModel",
      "state": {
       "_backend_version": "2.6.9",
       "_dom_classes": [],
       "_view_count": null,
       "antialias": 3,
       "axes": [
        "x",
        "y",
        "z"
       ],
       "background_color": 16777215,
       "camera": [
        1.0834282269195166,
        -5.888037805035387,
        2.7982377719350184,
        -0.052419304847717285,
        0,
        0,
        -0.11742917582534307,
        0.35573597393065226,
        0.9271797590093278
       ],
       "camera_auto_fit": true,
       "camera_no_pan": false,
       "camera_no_rotate": false,
       "camera_no_zoom": false,
       "clipping_planes": [],
       "colorbar_object_id": -1,
       "fps_meter": false,
       "grid": [
        -1,
        -1,
        -1,
        1,
        1,
        1
       ],
       "grid_auto_fit": true,
       "grid_visible": true,
       "height": 512,
       "layout": "IPY_MODEL_a04a24942d204f15847a6e11bbc17d45",
       "lighting": 1,
       "menu_visibility": true,
       "object_ids": [
        4717601488,
        4642852688,
        4717601872,
        4707012112,
        4714520528,
        4707009296
       ],
       "rendering_steps": 1,
       "screenshot": "",
       "screenshot_scale": 2,
       "time": 0,
       "voxel_paint_color": 0
      }
     },
     "dee60566533c4cd09599ca99284e4c24": {
      "model_module": "@jupyter-widgets/output",
      "model_module_version": "1.0.0",
      "model_name": "OutputModel",
      "state": {
       "layout": "IPY_MODEL_1f1a35b7d7664de4b444567aa3093b1f",
       "outputs": [
        {
         "data": {
          "application/vnd.jupyter.widget-view+json": {
           "model_id": "3aab4d067291437a87d5be7da0cf8f82",
           "version_major": 2,
           "version_minor": 0
          },
          "text/plain": "Plot(antialias=3, axes=['x', 'y', 'z'], background_color=16777215, camera=[4.5, 4.5, 4.5, 0.0, 0.0, 0.0, 1.0, …"
         },
         "metadata": {},
         "output_type": "display_data"
        }
       ]
      }
     },
     "df0da79849b94a5697cebf09d708360e": {
      "model_module": "@jupyter-widgets/base",
      "model_module_version": "1.2.0",
      "model_name": "LayoutModel",
      "state": {}
     },
     "df1cbf2f021a43d39cbd8cf83da915c8": {
      "buffers": [
       {
        "data": "eNq7PcOEwcbnOUPCOnUG/iMfGda69DF8/PCGAQB5NApc",
        "encoding": "base64",
        "path": [
         "color_map",
         "compressed_buffer"
        ]
       },
       {
        "data": "eNpjYPBwYoCDE44QGiYG44OAApC9wIEBBTTYAwCnEgUn",
        "encoding": "base64",
        "path": [
         "model_matrix",
         "compressed_buffer"
        ]
       },
       {
        "data": "eNpjZKQ9YKIDAABjBgEt",
        "encoding": "base64",
        "path": [
         "voxels",
         "compressed_buffer"
        ]
       }
      ],
      "model_module": "k3d",
      "model_module_version": "2.6.9",
      "model_name": "ObjectModel",
      "state": {
       "_view_count": null,
       "_view_module": null,
       "_view_module_version": "",
       "_view_name": null,
       "color_map": {
        "dtype": "uint32",
        "shape": [
         6
        ]
       },
       "compression_level": 0,
       "id": 4506441168,
       "model_matrix": {
        "dtype": "float32",
        "shape": [
         4,
         4
        ]
       },
       "name": null,
       "opacity": 1,
       "outlines": false,
       "outlines_color": 0,
       "type": "Voxels",
       "visible": true,
       "voxels": {
        "dtype": "uint8",
        "shape": [
         2,
         10,
         10
        ]
       },
       "wireframe": false
      }
     },
     "dfcae51d49ba4017bcdc4379abddf808": {
      "buffers": [
       {
        "data": "eNoDAAAAAAE=",
        "encoding": "base64",
        "path": [
         "colors",
         "compressed_buffer"
        ]
       },
       {
        "data": "eNpjYGiwZ8AAxIsBAF7EAv0=",
        "encoding": "base64",
        "path": [
         "model_matrix",
         "compressed_buffer"
        ]
       },
       {
        "data": "eNpNk09IVHEQxy/JemlpKYJgqQVJimLVCiLxzXct2EIjCQoq7GASlrAIUmGCRAgFRdEindbFbA0vHYI6FPZmHktJoRIVuBczyv6c8lCUaRDNnJrTm8N3Zj7v9/1OJbcYLq/clfqaKVlqGQ3PP85KV/8L6Wr7+vTXuZt8+OGk1U1r13eS1aoJru/fA9NUcotBrKoI650Z38mdSESpK0My8KWWl1c+Ss2GvNzJr2EqlmT62w2p7X4dlp8ckOG6a/L5x8ZwYH6IP229anUQ23eMrFZNQNndMI32UvnUMKxXZ1Ks6h1spu6iYhTP2K5HvVkeTzVE6b4dcubVXj5yIhGtflYnU9ubuLF9QUZnt0lqMM0f2sdk4s1m+Z2Ms1RapdyXlO+xi+Hf1AgPHkpYHaziZrJaNdS8ZRdMo720qVSA9epMmizNwWbqLrp/L56xXcpAx9+nM8YwM31Q/6khko4c5/+0cqk7Eb09epb7T7foOyyIviPPP8jyyNKY6D/zz+eNfOlWm+hu1vcMLxQmeN3LaqsD/ZLVqqHLPfUwjfZSR3UB1qsz9X3mYDN1F528Hc/YLmWg5Gw6YwyOhxwPOR5yPOR4yPGQ4yHHQ46HHA85HnI85PyC8wvOLzi/4PyC8wvOLzi/4PyC8wvOLzi/4HILl1u43MLlFi63cLmFyy1cbuFyC5dbVP7fHdzdwd0d3N3B3R3c3eEfvcjK8g==",
        "encoding": "base64",
        "path": [
         "origins",
         "compressed_buffer"
        ]
       },
       {
        "data": "eNpNkz0vRFEQhqlEIwqNROIrUQilct6SRCOi8AcIEbuFkmyllIhtN7JUdEKoxJlCYgu7G+WqqPgBKxtEY+bmTPIWkzM3dz6ec96ZTqmMRYVUPi/0e3kSZ0Pr0px70K2VLXHb33x2P4VvMRoxnVJZI7d9eYvazbj01ZfUvoua/v+8egLPtVNndlYxenokE4dX+vFVF7e364b7KXyL0YjxnMj1HlHTemn0uttrYHdtWKYqr2n75RHTs/NSe+9X4yvu4rxWq+jrtX/GjtE7SGKndgd+xa33dO9+Ct//RYxzRK7fOWpaL41exqDB0G61MNgdEbNU/WtiY3VBzJK9HfKbJrsn8v2T9UPmSHY3ZNNshZ/5ipj8XkVu1qaoab00ehmDBgPxCPEI8QjxCPEI8YB4QDxCPEI8QjxCPEJ6CekF0gukF0gvkF4gvUB6gfQC6QXSC6SX0NyC5hY0t6C5Bc0taG5BcwuaW9Dcgua2eMe8O6C9A+0daO9AewfaO/wDaMzjfA==",
        "encoding": "base64",
        "path": [
         "vectors",
         "compressed_buffer"
        ]
       }
      ],
      "model_module": "k3d",
      "model_module_version": "2.6.9",
      "model_name": "ObjectModel",
      "state": {
       "_view_count": null,
       "_view_module": null,
       "_view_module_version": "",
       "_view_name": null,
       "colors": {
        "dtype": "uint32",
        "shape": [
         0
        ]
       },
       "compression_level": 0,
       "head_color": 255,
       "head_size": 1,
       "id": 4516833168,
       "label_size": 1,
       "labels": [],
       "line_width": 0.01,
       "model_matrix": {
        "dtype": "float32",
        "shape": [
         4,
         4
        ]
       },
       "name": null,
       "origin_color": 255,
       "origins": {
        "dtype": "float32",
        "shape": [
         80,
         3
        ]
       },
       "type": "Vectors",
       "use_head": true,
       "vectors": {
        "dtype": "float32",
        "shape": [
         80,
         3
        ]
       },
       "visible": true
      }
     },
     "e0c2073c915b44d19f2f0b88ed603979": {
      "model_module": "@jupyter-widgets/base",
      "model_module_version": "1.2.0",
      "model_name": "LayoutModel",
      "state": {}
     },
     "e19441cabf19414da0e8231c71bb0ae4": {
      "model_module": "@jupyter-widgets/base",
      "model_module_version": "1.2.0",
      "model_name": "LayoutModel",
      "state": {}
     },
     "e1bc239190754ab6bec9c5be3eb632ed": {
      "model_module": "@jupyter-widgets/output",
      "model_module_version": "1.0.0",
      "model_name": "OutputModel",
      "state": {
       "layout": "IPY_MODEL_6cd58a9a106d424b96510b187ea6847d",
       "outputs": [
        {
         "data": {
          "application/vnd.jupyter.widget-view+json": {
           "model_id": "3909b634ff0b429587856b5f76e497c1",
           "version_major": 2,
           "version_minor": 0
          },
          "text/plain": "Plot(antialias=3, axes=['x', 'y', 'z'], background_color=16777215, camera=[4.5, 4.5, 4.5, 0.0, 0.0, 0.0, 1.0, …"
         },
         "metadata": {},
         "output_type": "display_data"
        }
       ]
      }
     },
     "e26e13cc9fd545d9966debd33be3dc8e": {
      "model_module": "@jupyter-widgets/base",
      "model_module_version": "1.2.0",
      "model_name": "LayoutModel",
      "state": {}
     },
     "e27487e00615476ab8f63fa853e1bd52": {
      "model_module": "@jupyter-widgets/output",
      "model_module_version": "1.0.0",
      "model_name": "OutputModel",
      "state": {
       "layout": "IPY_MODEL_4d487001e15d4306b5292e5db05181b2",
       "outputs": [
        {
         "data": {
          "application/vnd.jupyter.widget-view+json": {
           "model_id": "756e5c6c048947a49e09eef398ceb641",
           "version_major": 2,
           "version_minor": 0
          },
          "text/plain": "Plot(antialias=3, axes=['x', 'y', 'z'], background_color=16777215, camera=[4.5, 4.5, 4.5, 0.0, 0.0, 0.0, 1.0, …"
         },
         "metadata": {},
         "output_type": "display_data"
        }
       ]
      }
     },
     "e30c17d7540d45d191e4b8a27914302c": {
      "model_module": "@jupyter-widgets/base",
      "model_module_version": "1.2.0",
      "model_name": "LayoutModel",
      "state": {}
     },
     "e40891c54b584f68bc30ae75ad50960d": {
      "model_module": "@jupyter-widgets/output",
      "model_module_version": "1.0.0",
      "model_name": "OutputModel",
      "state": {
       "layout": "IPY_MODEL_7b57cfd9f2f240978b9d982ed7585d50",
       "outputs": [
        {
         "data": {
          "application/vnd.jupyter.widget-view+json": {
           "model_id": "7bf7f7157d024441bd535bd271fe32f2",
           "version_major": 2,
           "version_minor": 0
          },
          "text/plain": "Plot(antialias=3, axes=['x', 'y', 'z'], background_color=16777215, camera=[4.5, 4.5, 4.5, 0.0, 0.0, 0.0, 1.0, …"
         },
         "metadata": {},
         "output_type": "display_data"
        }
       ]
      }
     },
     "e47c56ad059d4f89b4c020ba1bc50880": {
      "model_module": "@jupyter-widgets/base",
      "model_module_version": "1.2.0",
      "model_name": "LayoutModel",
      "state": {}
     },
     "e4acac6a361042f8a700b59ab99662c0": {
      "model_module": "@jupyter-widgets/base",
      "model_module_version": "1.2.0",
      "model_name": "LayoutModel",
      "state": {}
     },
     "e548b74dca0c4d2497c0e1e08d52699f": {
      "model_module": "k3d",
      "model_module_version": "2.6.9",
      "model_name": "PlotModel",
      "state": {
       "_backend_version": "2.6.9",
       "_dom_classes": [],
       "_view_count": null,
       "antialias": 3,
       "axes": [
        "x",
        "y",
        "z"
       ],
       "background_color": 16777215,
       "camera": [
        94.26545121686439,
        -60.46325001946518,
        27.860536727132374,
        24.750000033527613,
        24.750000033527613,
        9.749999940395355,
        0.015303429730249772,
        0.15014251943481854,
        0.9885459164329483
       ],
       "camera_auto_fit": true,
       "camera_no_pan": false,
       "camera_no_rotate": false,
       "camera_no_zoom": false,
       "clipping_planes": [],
       "colorbar_object_id": -1,
       "fps_meter": false,
       "grid": [
        -1,
        -1,
        -1,
        1,
        1,
        1
       ],
       "grid_auto_fit": true,
       "grid_visible": true,
       "height": 512,
       "layout": "IPY_MODEL_b4d7796f6ced46d0b1866f3259365beb",
       "lighting": 1,
       "menu_visibility": true,
       "object_ids": [
        4424774928
       ],
       "rendering_steps": 1,
       "screenshot": "",
       "screenshot_scale": 2,
       "time": 0,
       "voxel_paint_color": 0
      }
     },
     "e5ab05b91a524fb1bdd4157e9277dce5": {
      "model_module": "@jupyter-widgets/base",
      "model_module_version": "1.2.0",
      "model_name": "LayoutModel",
      "state": {}
     },
     "e62dd51a3cd74cf8911faf34b373ddf2": {
      "model_module": "@jupyter-widgets/output",
      "model_module_version": "1.0.0",
      "model_name": "OutputModel",
      "state": {
       "layout": "IPY_MODEL_84a0097aa22143c28aba828e99bf7c3b",
       "outputs": [
        {
         "data": {
          "application/vnd.jupyter.widget-view+json": {
           "model_id": "0c2593598d204d6ca68779e5523d71a1",
           "version_major": 2,
           "version_minor": 0
          },
          "text/plain": "Plot(antialias=3, axes=['x', 'y', 'z'], background_color=16777215, camera=[4.5, 4.5, 4.5, 0.0, 0.0, 0.0, 1.0, …"
         },
         "metadata": {},
         "output_type": "display_data"
        }
       ]
      }
     },
     "e63c8c3fcd3144b08ef8223d713ccf66": {
      "model_module": "k3d",
      "model_module_version": "2.6.9",
      "model_name": "PlotModel",
      "state": {
       "_backend_version": "2.6.9",
       "_dom_classes": [],
       "_view_count": null,
       "antialias": 3,
       "axes": [
        "x",
        "y",
        "z"
       ],
       "background_color": 16777215,
       "camera": [
        5.676886823516348,
        -8.515330235274524,
        0.5676886823516407,
        0,
        0,
        0,
        0,
        0,
        1
       ],
       "camera_auto_fit": true,
       "camera_no_pan": false,
       "camera_no_rotate": false,
       "camera_no_zoom": false,
       "clipping_planes": [],
       "colorbar_object_id": -1,
       "fps_meter": false,
       "grid": [
        -1,
        -1,
        -1,
        1,
        1,
        1
       ],
       "grid_auto_fit": true,
       "grid_visible": true,
       "height": 512,
       "layout": "IPY_MODEL_8374d2ac1c5d43a8942b043ed3c48cdb",
       "lighting": 1,
       "menu_visibility": true,
       "object_ids": [
        4654114704,
        4654141392
       ],
       "rendering_steps": 1,
       "screenshot": "",
       "screenshot_scale": 2,
       "time": 0,
       "voxel_paint_color": 0
      }
     },
     "e6b8205433514683af4c0ecc69ae6af4": {
      "buffers": [
       {
        "data": "eNpVzrFLAnEcBXADZ2ktQY/iCANR8ZasocHOG4ULXASV20Shm+RoOCHF5LC/QCW3RhdbWwWn2nKKMA78F0RI3u/ewW/4LI/3fXxtxYjYB41YCe6PihLmdtDzzAI867fg5nVoxw2oRO8kzNnjHXde7LTQzMKoroFXvoGupoN1XJIwZ4933Al3+6rwFOheCE5KaGWAfxHzsMc77gS7w3FCmCZhMBN6b2fwuMiB+dmRMGePd9zhrju/BOddg4ePItRWFlx/T+Bk40uYs8c77nDXWlaBf12tXyH++wXn/k7CnD3ecUf5WcLp3xZUfy9hzt4/1oTPOQ==",
        "encoding": "base64",
        "path": [
         "colors",
         "compressed_buffer"
        ]
       },
       {
        "data": "eNpjYGiwZ8AAxIsBAF7EAv0=",
        "encoding": "base64",
        "path": [
         "model_matrix",
         "compressed_buffer"
        ]
       },
       {
        "data": "eNpNk09IVHEQxy/JemlpKYJgqQVJimLVCiLxzXct2EIjCQoq7GASlrAIUmGCRAgFRdEindbFbA0vHYI6FPZmHktJoRIVuBczyv6c8lCUaRDNnJrTm8N3Zj7v9/1OJbcYLq/clfqaKVlqGQ3PP85KV/8L6Wr7+vTXuZt8+OGk1U1r13eS1aoJru/fA9NUcotBrKoI650Z38mdSESpK0My8KWWl1c+Ss2GvNzJr2EqlmT62w2p7X4dlp8ckOG6a/L5x8ZwYH6IP229anUQ23eMrFZNQNndMI32UvnUMKxXZ1Ks6h1spu6iYhTP2K5HvVkeTzVE6b4dcubVXj5yIhGtflYnU9ubuLF9QUZnt0lqMM0f2sdk4s1m+Z2Ms1RapdyXlO+xi+Hf1AgPHkpYHaziZrJaNdS8ZRdMo720qVSA9epMmizNwWbqLrp/L56xXcpAx9+nM8YwM31Q/6khko4c5/+0cqk7Eb09epb7T7foOyyIviPPP8jyyNKY6D/zz+eNfOlWm+hu1vcMLxQmeN3LaqsD/ZLVqqHLPfUwjfZSR3UB1qsz9X3mYDN1F528Hc/YLmWg5Gw6YwyOhxwPOR5yPOR4yPGQ4yHHQ46HHA85HnI85PyC8wvOLzi/4PyC8wvOLzi/4PyC8wvOLzi/4HILl1u43MLlFi63cLmFyy1cbuFyC5dbVP7fHdzdwd0d3N3B3R3c3eEfvcjK8g==",
        "encoding": "base64",
        "path": [
         "origins",
         "compressed_buffer"
        ]
       },
       {
        "data": "eNpNkz0vRFEQhqlEIwqNROIrUQilct6SRCOi8AcIEbuFkmyllIhtN7JUdEKoxJlCYgu7G+WqqPgBKxtEY+bmTPIWkzM3dz6ec96ZTqmMRYVUPi/0e3kSZ0Pr0px70K2VLXHb33x2P4VvMRoxnVJZI7d9eYvazbj01ZfUvoua/v+8egLPtVNndlYxenokE4dX+vFVF7e364b7KXyL0YjxnMj1HlHTemn0uttrYHdtWKYqr2n75RHTs/NSe+9X4yvu4rxWq+jrtX/GjtE7SGKndgd+xa33dO9+Ct//RYxzRK7fOWpaL41exqDB0G61MNgdEbNU/WtiY3VBzJK9HfKbJrsn8v2T9UPmSHY3ZNNshZ/5ipj8XkVu1qaoab00ehmDBgPxCPEI8QjxCPEI8YB4QDxCPEI8QjxCPEJ6CekF0gukF0gvkF4gvUB6gfQC6QXSC6SX0NyC5hY0t6C5Bc0taG5BcwuaW9Dcgua2eMe8O6C9A+0daO9AewfaO/wDaMzjfA==",
        "encoding": "base64",
        "path": [
         "vectors",
         "compressed_buffer"
        ]
       }
      ],
      "model_module": "k3d",
      "model_module_version": "2.6.9",
      "model_name": "ObjectModel",
      "state": {
       "_view_count": null,
       "_view_module": null,
       "_view_module_version": "",
       "_view_name": null,
       "colors": {
        "dtype": "uint32",
        "shape": [
         80,
         2
        ]
       },
       "compression_level": 0,
       "head_color": 255,
       "head_size": 1,
       "id": 4369019600,
       "label_size": 1,
       "labels": [],
       "line_width": 0.01,
       "model_matrix": {
        "dtype": "float32",
        "shape": [
         4,
         4
        ]
       },
       "name": null,
       "origin_color": 255,
       "origins": {
        "dtype": "float32",
        "shape": [
         80,
         3
        ]
       },
       "type": "Vectors",
       "use_head": true,
       "vectors": {
        "dtype": "float32",
        "shape": [
         80,
         3
        ]
       },
       "visible": true
      }
     },
     "e6f347bb74884871a63b40436caa331a": {
      "model_module": "@jupyter-widgets/output",
      "model_module_version": "1.0.0",
      "model_name": "OutputModel",
      "state": {
       "layout": "IPY_MODEL_ae53543043014afd9385f74f582eb4d4",
       "outputs": [
        {
         "data": {
          "application/vnd.jupyter.widget-view+json": {
           "model_id": "bd1f3995da3b4aa6b4660bbbd5b52b04",
           "version_major": 2,
           "version_minor": 0
          },
          "text/plain": "Plot(antialias=3, axes=['x', 'y', 'z'], background_color=16777215, camera=[4.5, 4.5, 4.5, 0.0, 0.0, 0.0, 1.0, …"
         },
         "metadata": {},
         "output_type": "display_data"
        }
       ]
      }
     },
     "e705807f60c147efabcdd994431cd911": {
      "model_module": "@jupyter-widgets/output",
      "model_module_version": "1.0.0",
      "model_name": "OutputModel",
      "state": {
       "layout": "IPY_MODEL_13399caa3627440aa7e07e8c3d58bb1b",
       "outputs": [
        {
         "data": {
          "application/vnd.jupyter.widget-view+json": {
           "model_id": "468c8e693c0141cf97145f54477f9def",
           "version_major": 2,
           "version_minor": 0
          },
          "text/plain": "Plot(antialias=3, axes=['x', 'y', 'z'], background_color=16777215, camera=[4.5, 4.5, 4.5, 0.0, 0.0, 0.0, 1.0, …"
         },
         "metadata": {},
         "output_type": "display_data"
        }
       ]
      }
     },
     "e70c37b199a745c0acfd682e68d50218": {
      "model_module": "@jupyter-widgets/base",
      "model_module_version": "1.2.0",
      "model_name": "LayoutModel",
      "state": {}
     },
     "e737d3efbb1749cdaaf7eb4c61c9d0c5": {
      "model_module": "@jupyter-widgets/base",
      "model_module_version": "1.2.0",
      "model_name": "LayoutModel",
      "state": {}
     },
     "e76ce0ad98574e8e948587b0bc560a28": {
      "model_module": "k3d",
      "model_module_version": "2.6.9",
      "model_name": "PlotModel",
      "state": {
       "_backend_version": "2.6.9",
       "_dom_classes": [],
       "_view_count": null,
       "antialias": 3,
       "axes": [
        "x",
        "y",
        "z"
       ],
       "background_color": 16777215,
       "camera": [
        7.659127774547247,
        -11.567320619092447,
        0.7711547079395124,
        -0.052419304847717285,
        0,
        0,
        0,
        0,
        1
       ],
       "camera_auto_fit": true,
       "camera_no_pan": false,
       "camera_no_rotate": false,
       "camera_no_zoom": false,
       "clipping_planes": [],
       "colorbar_object_id": -1,
       "fps_meter": false,
       "grid": [
        -1,
        -1,
        -1,
        1,
        1,
        1
       ],
       "grid_auto_fit": true,
       "grid_visible": true,
       "height": 512,
       "layout": "IPY_MODEL_a3fae2d2d2464a60987a10ec07feb2b5",
       "lighting": 1,
       "menu_visibility": true,
       "object_ids": [
        4560986256,
        4423501200,
        4560986512,
        4560932112,
        4560988304,
        4561074000
       ],
       "rendering_steps": 1,
       "screenshot": "",
       "screenshot_scale": 2,
       "time": 0,
       "voxel_paint_color": 0
      }
     },
     "e7d26ef9aff8474fb49d1377dd11366d": {
      "buffers": [
       {
        "data": "eNoDAAAAAAE=",
        "encoding": "base64",
        "path": [
         "colors",
         "compressed_buffer"
        ]
       },
       {
        "data": "eNpjYGiwZ8AAxIsBAF7EAv0=",
        "encoding": "base64",
        "path": [
         "model_matrix",
         "compressed_buffer"
        ]
       },
       {
        "data": "eNpN0VENwzAMBuFAGJQisA1tUIxkK5RAmbIq7ZeXnqL0dNI/xjr9HWN+/zgKfn/g4E0+3PDrvFzrrLvNDRe8/I2/8Tf+2wm/6uHjvLy7oWgoGoqGoqFoKBqKhqKhaNh8yOfl3T2bV8/mhgte35uDN8m/8IRXz+ZDPi/X3RP0BD1BT9AT9AQ9QU/QE/QEPcFeyV7JXsleyV7JXsleyV7JXsleyV7JXjQ0DU1D09A0NA1NQ9PQNDQN+if+iX/in/gn/pk/dr6bDQ==",
        "encoding": "base64",
        "path": [
         "positions",
         "compressed_buffer"
        ]
       }
      ],
      "model_module": "k3d",
      "model_module_version": "2.6.9",
      "model_name": "ObjectModel",
      "state": {
       "_view_count": null,
       "_view_module": null,
       "_view_module_version": "",
       "_view_name": null,
       "color": 10075135,
       "colors": {
        "dtype": "uint32",
        "shape": [
         0
        ]
       },
       "compression_level": 0,
       "id": 4422490000,
       "mesh_detail": 2,
       "model_matrix": {
        "dtype": "float32",
        "shape": [
         4,
         4
        ]
       },
       "name": null,
       "opacity": 1,
       "point_size": 0.1,
       "positions": {
        "dtype": "float32",
        "shape": [
         80,
         3
        ]
       },
       "shader": "3dSpecular",
       "type": "Points",
       "visible": true
      }
     },
     "e840994570684c32bccd854d8d364879": {
      "model_module": "@jupyter-widgets/output",
      "model_module_version": "1.0.0",
      "model_name": "OutputModel",
      "state": {
       "layout": "IPY_MODEL_8fdba87f3fcd4c7d97446b0739ee6a74",
       "outputs": [
        {
         "data": {
          "application/vnd.jupyter.widget-view+json": {
           "model_id": "5bff4486568742feb4109588af6f78e4",
           "version_major": 2,
           "version_minor": 0
          },
          "text/plain": "Plot(antialias=3, axes=['x', 'y', 'z'], background_color=16777215, camera=[4.5, 4.5, 4.5, 0.0, 0.0, 0.0, 1.0, …"
         },
         "metadata": {},
         "output_type": "display_data"
        }
       ]
      }
     },
     "e878ebae75fd43e38e2e53b3954de41c": {
      "buffers": [
       {
        "data": "eNot0vlP1gUcwPF3rVar1Wq14vR5Hh4eBOSSQy45fZ7v96spoRIiIqJAHCKH3Pf9cD7fLLMss8yyzLLM0sy01KJIo1BDEQUEfWBrba2ttbbW1sfVD6//4JV2l5X0u62su8fG+nttZN6nkHW/wsYHFLIfVMh5SGXzwyq5j6jkPaqS/5hKweMahU9oFD2pUeyiUeKmsc1do9RDo8xTo9ygUWHUqDRpVJk1qr01aiwatT4adb4a9X4aDf4qDQEqjYEqTUEqzcEqLSEKLaEKrWEKbeEK7RE22iNtdETZ6Iy20hljpStWxC2jO14kJGNPFEnJ9CQn0WNNoteWSK8i1AT6NLE8nr4V8fSvFKvi6E8RTy9lIFWsjmVgjVgbw2CaeCaawXSREcXgepEZiWODyFqCY6PIjsCxSeSE49gstoThyA1DzwtFzxfPLkYvEIWiKAS9WGwNRi8R24LQS0WZKA9Er7gjAH27qBRVi9CrRY0/eq2oE/V+6A2iUTT5ojeLloXoraJNtPugd/yv04LeJbqF3Ru9R/Sa0fvMOPrFgBeOQeEQugnHc2KHicHnxQvG/+wULxoY2CVeEi+L3Qb6XxGvij0L6HtN7BWvG+h9Q+wTbxrouWO/AftbRuxvG+k+YKL7HfGuF10Hveh8z0znIW863rfQ8YGF9sM+YiFtH/rS+pEfrUf8afk4gOajgTR9EkTTp8E0HltMw/FQ6o+HU/9ZBHUnIqn9PIqakzFUfxFL1ak4Kk8lsP10IhVfJlP+lZWyMwqlZ+Xj2RWUnFvJ1q9TKP4mlaKhNRQOpVHwbTr532WQN5xJ7nAWW77PJud8Dpsu5JJ9IZ+sHwrYMFJE5kgJGT+Wsu6nctJHK0kbrWbtxVpWX2wg9VITKZdbWXW5nad+7mL5mB1trA/lygC2KzrLru4g6epOEsd3ET++m6XX9hB7bS/RE/uInNjPkusHCL9+kNAbhwi5cZjgySMETh5l0dQx/KZO4Dt1Ep/p01imz2CePofp5hDGm8MYZs7jOTOCx8wo7rOXcJsdw3V2HNdbE7jcmhTTuNyexfW2U8zj5vwFd+eveDh/w9P5Owvm/sA49yemub8wz/+NZf4f/gXLh0p6",
        "encoding": "base64",
        "path": [
         "color_map",
         "compressed_buffer"
        ]
       },
       {
        "data": "eNpjYFBwZMAABxwwxRqwidkDAFK8AuE=",
        "encoding": "base64",
        "path": [
         "model_matrix",
         "compressed_buffer"
        ]
       },
       {
        "data": "eNrl1U1IKlEUB3ASxIVuDF1IMMvBFiJEDGGEUQlRNGGRKEkRFgNDKOZH4252Tn4kSgwMJVEYDkZJRhFYkUQSQwTiomGWA+FCyY0uRLDnU8R8qwePt/Lu7o/LOecPl3tx/N9XlmGyvXKWSKZSycTZD/IHQ+FIJBwK+rvmcthtVqvN7nD9OLhq0MOw3rDaW1EDQRr8P69iuVzsgdccxxcKPJd77cj51d0Tk+e4PPN0d3XetsPjWCKVzmTSqUTs+LBFxJ4/EIqQFEVGQgH/HvHbsF2X025FEQS12p2uXax1cGvDbIB1Wq0ONpg3ttr1VhZnJyEVCKqgydnFlU7nMTUIKBQAqB7rGVEulcr/Kly93rtn+WKlVqsUebYj6ee3D/6rWv3iP96e0y2iL67vs3m+VOLz2fvrC7pJJHV0Ek+mGZZl0sn4yRFF4riX8PmDYTIaj0fJcNDvI7w47sHcLocNtZhMFtTmcLkxD46jyOa6Sa+DlEpIpzetbyJos6BxeWFGowJkMkClmVlYNrYa6yZGh4FBsXgQGB6d0HUmVAJyiUgkkQPK3ixC4R9hS5X693e9UupKjvss1xqNWvmTy7Xl9uHlnStUG41qgXt/ebhtUoy+vHlkuFK9XuKYx5tLOoYfkFT0lE5l2EqFzaTo0yhFHngJwhfYj1BxholTkf2AjyC8HgxzO3esiAmCTIh1x+nGMM82iljWjLBWKZEotbBxzYKg27jZuDQ/BYEyoVAGQlPzS0Zzs/Hc9PgIqBALBGIFODI+PdeeUA0OSUUCgUg6BKq7SWQS4cCAUCLr57z9dp/78L3qk//oF5tnwC4=",
        "encoding": "base64",
        "path": [
         "voxels",
         "compressed_buffer"
        ]
       }
      ],
      "model_module": "k3d",
      "model_module_version": "2.6.9",
      "model_name": "ObjectModel",
      "state": {
       "_view_count": null,
       "_view_module": null,
       "_view_module_version": "",
       "_view_name": null,
       "color_map": {
        "dtype": "uint32",
        "shape": [
         256
        ]
       },
       "compression_level": 0,
       "id": 4641879768,
       "model_matrix": {
        "dtype": "float32",
        "shape": [
         4,
         4
        ]
       },
       "name": null,
       "opacity": 1,
       "outlines": false,
       "outlines_color": 0,
       "type": "Voxels",
       "visible": true,
       "voxels": {
        "dtype": "uint8",
        "shape": [
         8,
         12,
         20
        ]
       },
       "wireframe": false
      }
     },
     "e8cbd8496b3b4bcb96d675fbb3e3490c": {
      "buffers": [
       {
        "data": "eNoDAAAAAAE=",
        "encoding": "base64",
        "path": [
         "colors",
         "compressed_buffer"
        ]
       },
       {
        "data": "eNpjYGiwZ8AAxIsBAF7EAv0=",
        "encoding": "base64",
        "path": [
         "model_matrix",
         "compressed_buffer"
        ]
       },
       {
        "data": "eNpjPlvrIHyzcD+Pifn+G471DiGsT/fJiZnvF4lvcEi4Gm4LYtdLNjq8VeOzB6lZm1jj8G/Wjv1Hs0v2dRytdVjVVLS/TrZkn719vUNa2rN9Xz4X70tIaHA4e8bHFsS2kW10CKvltQep0Tzf6MCU2m4P0otkjh2SOXZI5tghmWOHZI4dkjl2zAj32yO53x7J/fZI7rcHAL0aZ10=",
        "encoding": "base64",
        "path": [
         "origins",
         "compressed_buffer"
        ]
       },
       {
        "data": "eNpz3d9j65Ny3M51f89eNY19Niu4TtnJzOsDsffA2CA5mJqlU57bfrp+xG678849QDlbkBqQ2oMHDticPXPGDkiD2HtgbJB+mBqg3r0wvUjm2CCZY4Nkjg2SOTZI5tggmWPjinC/LZL7bZHcb4vkflsAWRB+RQ==",
        "encoding": "base64",
        "path": [
         "vectors",
         "compressed_buffer"
        ]
       }
      ],
      "model_module": "k3d",
      "model_module_version": "2.6.9",
      "model_name": "ObjectModel",
      "state": {
       "_view_count": null,
       "_view_module": null,
       "_view_module_version": "",
       "_view_name": null,
       "colors": {
        "dtype": "uint32",
        "shape": [
         0
        ]
       },
       "compression_level": 0,
       "head_color": 255,
       "head_size": 1,
       "id": 4717604112,
       "label_size": 1,
       "labels": [],
       "line_width": 0.01,
       "model_matrix": {
        "dtype": "float32",
        "shape": [
         4,
         4
        ]
       },
       "name": null,
       "origin_color": 255,
       "origins": {
        "dtype": "float32",
        "shape": [
         20,
         3
        ]
       },
       "type": "Vectors",
       "use_head": true,
       "vectors": {
        "dtype": "float32",
        "shape": [
         20,
         3
        ]
       },
       "visible": true
      }
     },
     "ea8e3bc3485242f7aa445dd482bda86b": {
      "model_module": "@jupyter-widgets/base",
      "model_module_version": "1.2.0",
      "model_name": "LayoutModel",
      "state": {}
     },
     "eb34b14189ef4634a6b649b0cb4b0ff3": {
      "buffers": [
       {
        "data": "eNpLWKfOAAAD3AE2",
        "encoding": "base64",
        "path": [
         "color_map",
         "compressed_buffer"
        ]
       },
       {
        "data": "eNpjYFBwZMAABxwwxRqwidkDAFK8AuE=",
        "encoding": "base64",
        "path": [
         "model_matrix",
         "compressed_buffer"
        ]
       },
       {
        "data": "eNrllUEOACEMAjv//7R7XQGj0Vs5TqItWLXqXnxSMlFQ6Jhba2u8l9TQ/vgpMlDo2O5+KauDXNIRLb2ZnkHhDdvPJWYg3mo1aj7m5I3HOsigXAT+fnTz222eG75XTf6jAc5KA/E=",
        "encoding": "base64",
        "path": [
         "voxels",
         "compressed_buffer"
        ]
       }
      ],
      "model_module": "k3d",
      "model_module_version": "2.6.9",
      "model_name": "ObjectModel",
      "state": {
       "_view_count": null,
       "_view_module": null,
       "_view_module_version": "",
       "_view_name": null,
       "color_map": {
        "dtype": "uint32",
        "shape": []
       },
       "compression_level": 0,
       "id": 4511714888,
       "model_matrix": {
        "dtype": "float32",
        "shape": [
         4,
         4
        ]
       },
       "name": null,
       "opacity": 1,
       "outlines": false,
       "outlines_color": 0,
       "type": "Voxels",
       "visible": true,
       "voxels": {
        "dtype": "uint8",
        "shape": [
         8,
         12,
         20
        ]
       },
       "wireframe": false
      }
     },
     "ec274b7a22944dce8d280dcc2040ca8e": {
      "model_module": "@jupyter-widgets/output",
      "model_module_version": "1.0.0",
      "model_name": "OutputModel",
      "state": {
       "layout": "IPY_MODEL_d9069c4b5aa54494abf7d1d685218dc3",
       "outputs": [
        {
         "data": {
          "application/vnd.jupyter.widget-view+json": {
           "model_id": "5a952ffa214e460cb9a1e4d3143413e3",
           "version_major": 2,
           "version_minor": 0
          },
          "text/plain": "Plot(antialias=3, axes=['x', 'y', 'z'], background_color=16777215, camera=[4.5, 4.5, 4.5, 0.0, 0.0, 0.0, 1.0, …"
         },
         "metadata": {},
         "output_type": "display_data"
        }
       ]
      }
     },
     "ecaa71aeff584b11bbf04edd678cc6ef": {
      "buffers": [
       {
        "data": "eNoDAAAAAAE=",
        "encoding": "base64",
        "path": [
         "colors",
         "compressed_buffer"
        ]
       },
       {
        "data": "eNpjYGiwZ8AAxIsBAF7EAv0=",
        "encoding": "base64",
        "path": [
         "model_matrix",
         "compressed_buffer"
        ]
       },
       {
        "data": "eNpN0MERwjAMBVGXkIoklUYpqoRQikthQhC8QyZ7sHc9f616rdXn/V1c8OMJB2fyzw3v874/zsJZOAtn4Sycwxs+5v63Ndxwwdf/x8GZ5C684aPgeet0g27QDbpBN+gG3aAbdGl9dpk9kz2TPZM9kz2TPZM9cTbOxtk4G2fj7HwDDAaMxQ==",
        "encoding": "base64",
        "path": [
         "positions",
         "compressed_buffer"
        ]
       }
      ],
      "model_module": "k3d",
      "model_module_version": "2.6.9",
      "model_name": "ObjectModel",
      "state": {
       "_view_count": null,
       "_view_module": null,
       "_view_module_version": "",
       "_view_name": null,
       "color": 10075135,
       "colors": {
        "dtype": "uint32",
        "shape": [
         0
        ]
       },
       "compression_level": 0,
       "id": 4525917712,
       "mesh_detail": 2,
       "model_matrix": {
        "dtype": "float32",
        "shape": [
         4,
         4
        ]
       },
       "name": null,
       "opacity": 1,
       "point_size": 0.1,
       "positions": {
        "dtype": "float32",
        "shape": [
         48,
         3
        ]
       },
       "shader": "3dSpecular",
       "type": "Points",
       "visible": true
      }
     },
     "ed61b9c9e576406bba011ed528fb43b2": {
      "buffers": [
       {
        "data": "eNoDAAAAAAE=",
        "encoding": "base64",
        "path": [
         "colors",
         "compressed_buffer"
        ]
       },
       {
        "data": "eNpjYGiwZ8AAxIsBAF7EAv0=",
        "encoding": "base64",
        "path": [
         "model_matrix",
         "compressed_buffer"
        ]
       },
       {
        "data": "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",
        "encoding": "base64",
        "path": [
         "origins",
         "compressed_buffer"
        ]
       },
       {
        "data": "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",
        "encoding": "base64",
        "path": [
         "vectors",
         "compressed_buffer"
        ]
       }
      ],
      "model_module": "k3d",
      "model_module_version": "2.6.9",
      "model_name": "ObjectModel",
      "state": {
       "_view_count": null,
       "_view_module": null,
       "_view_module_version": "",
       "_view_name": null,
       "colors": {
        "dtype": "uint32",
        "shape": [
         0
        ]
       },
       "compression_level": 0,
       "head_color": 255,
       "head_size": 1,
       "id": 4526090320,
       "label_size": 1,
       "labels": [],
       "line_width": 0.01,
       "model_matrix": {
        "dtype": "float32",
        "shape": [
         4,
         4
        ]
       },
       "name": null,
       "origin_color": 255,
       "origins": {
        "dtype": "float32",
        "shape": [
         1008,
         3
        ]
       },
       "type": "Vectors",
       "use_head": true,
       "vectors": {
        "dtype": "float32",
        "shape": [
         1008,
         3
        ]
       },
       "visible": true
      }
     },
     "edc4207e2b7d45cd89eb8bf840282fe7": {
      "buffers": [
       {
        "data": "eNoDAAAAAAE=",
        "encoding": "base64",
        "path": [
         "colors",
         "compressed_buffer"
        ]
       },
       {
        "data": "eNpjYGiwZ8AAxIsBAF7EAv0=",
        "encoding": "base64",
        "path": [
         "model_matrix",
         "compressed_buffer"
        ]
       },
       {
        "data": "eNpN0MERwjAMBVGXkIoklUYpqoRQikthQhC8QyZ7sHc9f616rdXn/V1c8OMJB2fyzw3v874/zsJZOAtn4Sycwxs+5v63Ndxwwdf/x8GZ5C684aPgeet0g27QDbpBN+gG3aAbdGl9dpk9kz2TPZM9kz2TPZM9cTbOxtk4G2fj7HwDDAaMxQ==",
        "encoding": "base64",
        "path": [
         "positions",
         "compressed_buffer"
        ]
       }
      ],
      "model_module": "k3d",
      "model_module_version": "2.6.9",
      "model_name": "ObjectModel",
      "state": {
       "_view_count": null,
       "_view_module": null,
       "_view_module_version": "",
       "_view_name": null,
       "color": 10075135,
       "colors": {
        "dtype": "uint32",
        "shape": [
         0
        ]
       },
       "compression_level": 0,
       "id": 4577335888,
       "mesh_detail": 2,
       "model_matrix": {
        "dtype": "float32",
        "shape": [
         4,
         4
        ]
       },
       "name": null,
       "opacity": 1,
       "point_size": 0.1,
       "positions": {
        "dtype": "float32",
        "shape": [
         48,
         3
        ]
       },
       "shader": "3dSpecular",
       "type": "Points",
       "visible": true
      }
     },
     "ede200c776844f6ebb4c54875afa3127": {
      "model_module": "k3d",
      "model_module_version": "2.6.9",
      "model_name": "PlotModel",
      "state": {
       "_backend_version": "2.6.9",
       "_dom_classes": [],
       "_view_count": null,
       "antialias": 3,
       "axes": [
        "x",
        "y",
        "z"
       ],
       "background_color": 16777215,
       "camera": [
        5.676886823516348,
        -8.515330235274524,
        0.5676886823516407,
        0,
        0,
        0,
        0,
        0,
        1
       ],
       "camera_auto_fit": true,
       "camera_no_pan": false,
       "camera_no_rotate": false,
       "camera_no_zoom": false,
       "clipping_planes": [],
       "colorbar_object_id": -1,
       "fps_meter": false,
       "grid": [
        -1,
        -1,
        -1,
        1,
        1,
        1
       ],
       "grid_auto_fit": true,
       "grid_visible": true,
       "height": 512,
       "layout": "IPY_MODEL_a71c64c22a1744629408efd0cd6979b3",
       "lighting": 1,
       "menu_visibility": true,
       "object_ids": [
        4368067152,
        4506644048
       ],
       "rendering_steps": 1,
       "screenshot": "",
       "screenshot_scale": 2,
       "time": 0,
       "voxel_paint_color": 0
      }
     },
     "edf2633b50de40b291116daf6853a0e3": {
      "buffers": [
       {
        "data": "eNpLWKfOAAAD3AE2",
        "encoding": "base64",
        "path": [
         "color_map",
         "compressed_buffer"
        ]
       },
       {
        "data": "eNpjYFBwZMAABxwwxRqwidkDAFK8AuE=",
        "encoding": "base64",
        "path": [
         "model_matrix",
         "compressed_buffer"
        ]
       },
       {
        "data": "eNrllUEOACEMAjv//7R7XQGj0Vs5TqItWLXqXnxSMlFQ6Jhba2u8l9TQ/vgpMlDo2O5+KauDXNIRLb2ZnkHhDdvPJWYg3mo1aj7m5I3HOsigXAT+fnTz222eG75XTf6jAc5KA/E=",
        "encoding": "base64",
        "path": [
         "voxels",
         "compressed_buffer"
        ]
       }
      ],
      "model_module": "k3d",
      "model_module_version": "2.6.9",
      "model_name": "ObjectModel",
      "state": {
       "_view_count": null,
       "_view_module": null,
       "_view_module_version": "",
       "_view_name": null,
       "color_map": {
        "dtype": "uint32",
        "shape": []
       },
       "compression_level": 0,
       "id": 4560996496,
       "model_matrix": {
        "dtype": "float32",
        "shape": [
         4,
         4
        ]
       },
       "name": null,
       "opacity": 1,
       "outlines": false,
       "outlines_color": 0,
       "type": "Voxels",
       "visible": true,
       "voxels": {
        "dtype": "uint8",
        "shape": [
         8,
         12,
         20
        ]
       },
       "wireframe": false
      }
     },
     "ee1edd49fa25474c92dd9ff33f7c9bd5": {
      "model_module": "@jupyter-widgets/output",
      "model_module_version": "1.0.0",
      "model_name": "OutputModel",
      "state": {
       "layout": "IPY_MODEL_e4acac6a361042f8a700b59ab99662c0",
       "outputs": [
        {
         "data": {
          "application/vnd.jupyter.widget-view+json": {
           "model_id": "c8f44d04908f4caa800dd6c0ed631671",
           "version_major": 2,
           "version_minor": 0
          },
          "text/plain": "Plot(antialias=3, axes=['x', 'y', 'z'], background_color=16777215, camera=[4.5, 4.5, 4.5, 0.0, 0.0, 0.0, 1.0, …"
         },
         "metadata": {},
         "output_type": "display_data"
        }
       ]
      }
     },
     "eebfdfded771419bb43ac6edbd0b225e": {
      "model_module": "@jupyter-widgets/base",
      "model_module_version": "1.2.0",
      "model_name": "LayoutModel",
      "state": {}
     },
     "efa64130178c43a3a1483b60d7987351": {
      "buffers": [
       {
        "data": "eNpL5HNnSATiSFZXMA5hdEHBMPFEqLouHzsw7nBzAOM2RycwbrVHxTBxmDqYvr4aDQiu0oTgCi0ILofiMjQME4epg+mDmtO6VBGClyuBcfNKZQhepQLGTatVUTBMHKYOpg9mTtTZHDAOvlgOxr6XG8HY82obCoaJw9TB9Ek9fQXGis9+gLHq878oGCYOUwcAvo58CQ==",
        "encoding": "base64",
        "path": [
         "colors",
         "compressed_buffer"
        ]
       },
       {
        "data": "eNpjYGiwZ8AAxIsBAF7EAv0=",
        "encoding": "base64",
        "path": [
         "model_matrix",
         "compressed_buffer"
        ]
       },
       {
        "data": "eNpNkT1IglEUhhVCECmaKoiIkBDKIPgS4xPv+cxEkzKiaBEqLIlaAwtrCUlosqHJrRD6p3Bz8N5Tfm794iJUCFHiGLhF9HMnz/YO5z0PPG9c+DH6tCks23vC+DaK3uInn86lxPOZB83pDvfaWEr0zjA82DWDzL9dLry8T4C8SWrDGGq/AdntTAexfsEFlAbErDWAh5EN8bNuF982H65ijbcs9AtX0YOFyJxbve4TRZWhvdoMMjeVVaw+7IC8OX1x/v8vgOx+RB1oOjFo8ufd7TiawgbcZyu8Ug5itpYXlaFl7g8HcD4WE1MjUZ6d9OGx8s4nzhd5vuTBV2vCPahHuNfOcGupFWQOXanYVk+CvMllnPio6yC7PTYHHlmMmvypKAp+Zbo1ySJcRriMcBnhMsJlhMsIlxEuI1xGuIz4BOITiE8gPoH4BOITiE8gPiHe2B3I7kB2B7I7kN2B7A5/NdwSYA==",
        "encoding": "base64",
        "path": [
         "origins",
         "compressed_buffer"
        ]
       },
       {
        "data": "eNpNkaFLBGEQxZMgaxA5waDBcMUqnsLBPLWIYcF04IULXjjQP8CLwoFxq1gMBoPBJrZvvmpY/wXzFdmmYPFmFgZf+h7szPvNvlc2UxyMlnPZTHX9aAupv5onvZlefw3kuNPJV6+3rlNom9GY8Z3YfXt8xt7pUi4ma2rfWh+frf66uDvcyPbq/cNYzuvNvPu94zqF9m8x476xa54anh91jaezX71Y2U/z6qW9uRieJLsJfpvfaF5wT/e++byUn/ftbK/rFNp5MeP/E7vmqeFpLA0WcYW4QlwhrhBXiCvEFeIKcYW4QnmC8gTlCcoTlCcoT1CeoDxR/vcO6h3UO6h3UO+g3rEA8LILMA==",
        "encoding": "base64",
        "path": [
         "vectors",
         "compressed_buffer"
        ]
       }
      ],
      "model_module": "k3d",
      "model_module_version": "2.6.9",
      "model_name": "ObjectModel",
      "state": {
       "_view_count": null,
       "_view_module": null,
       "_view_module_version": "",
       "_view_name": null,
       "colors": {
        "dtype": "uint32",
        "shape": [
         48,
         2
        ]
       },
       "compression_level": 0,
       "head_color": 255,
       "head_size": 1,
       "id": 4506734992,
       "label_size": 1,
       "labels": [],
       "line_width": 0.01,
       "model_matrix": {
        "dtype": "float32",
        "shape": [
         4,
         4
        ]
       },
       "name": null,
       "origin_color": 255,
       "origins": {
        "dtype": "float32",
        "shape": [
         48,
         3
        ]
       },
       "type": "Vectors",
       "use_head": true,
       "vectors": {
        "dtype": "float32",
        "shape": [
         48,
         3
        ]
       },
       "visible": true
      }
     },
     "efe7f3032356410ab80ee318c492d8af": {
      "model_module": "@jupyter-widgets/base",
      "model_module_version": "1.2.0",
      "model_name": "LayoutModel",
      "state": {}
     },
     "efe85345247d43a4b72f4814853aba98": {
      "buffers": [
       {
        "data": "eNot0vlP1gUcwPF3rVar1Wq14vR5Hh4eBOSSQy45fZ7v96spoRIiIqJAHCKH3Pf9cD7fLLMss8yyzLLM0sy01KJIo1BDEQUEfWBrba2ttbbW1sfVD6//4JV2l5X0u62su8fG+nttZN6nkHW/wsYHFLIfVMh5SGXzwyq5j6jkPaqS/5hKweMahU9oFD2pUeyiUeKmsc1do9RDo8xTo9ygUWHUqDRpVJk1qr01aiwatT4adb4a9X4aDf4qDQEqjYEqTUEqzcEqLSEKLaEKrWEKbeEK7RE22iNtdETZ6Iy20hljpStWxC2jO14kJGNPFEnJ9CQn0WNNoteWSK8i1AT6NLE8nr4V8fSvFKvi6E8RTy9lIFWsjmVgjVgbw2CaeCaawXSREcXgepEZiWODyFqCY6PIjsCxSeSE49gstoThyA1DzwtFzxfPLkYvEIWiKAS9WGwNRi8R24LQS0WZKA9Er7gjAH27qBRVi9CrRY0/eq2oE/V+6A2iUTT5ojeLloXoraJNtPugd/yv04LeJbqF3Ru9R/Sa0fvMOPrFgBeOQeEQugnHc2KHicHnxQvG/+wULxoY2CVeEi+L3Qb6XxGvij0L6HtN7BWvG+h9Q+wTbxrouWO/AftbRuxvG+k+YKL7HfGuF10Hveh8z0znIW863rfQ8YGF9sM+YiFtH/rS+pEfrUf8afk4gOajgTR9EkTTp8E0HltMw/FQ6o+HU/9ZBHUnIqn9PIqakzFUfxFL1ak4Kk8lsP10IhVfJlP+lZWyMwqlZ+Xj2RWUnFvJ1q9TKP4mlaKhNRQOpVHwbTr532WQN5xJ7nAWW77PJud8Dpsu5JJ9IZ+sHwrYMFJE5kgJGT+Wsu6nctJHK0kbrWbtxVpWX2wg9VITKZdbWXW5nad+7mL5mB1trA/lygC2KzrLru4g6epOEsd3ET++m6XX9hB7bS/RE/uInNjPkusHCL9+kNAbhwi5cZjgySMETh5l0dQx/KZO4Dt1Ep/p01imz2CePofp5hDGm8MYZs7jOTOCx8wo7rOXcJsdw3V2HNdbE7jcmhTTuNyexfW2U8zj5vwFd+eveDh/w9P5Owvm/sA49yemub8wz/+NZf4f/gXLh0p6",
        "encoding": "base64",
        "path": [
         "color_map",
         "compressed_buffer"
        ]
       },
       {
        "data": "eNpjYFBwZMAABxwwxRjsMYUa7AFHpwJg",
        "encoding": "base64",
        "path": [
         "model_matrix",
         "compressed_buffer"
        ]
       },
       {
        "data": "eNpjYACBN19+////+8sbBji4eOvp+5///v18//TWRYjItr1Hz916/vXfv6/Pb507uncbUGjJinVb95269eb37ze3Tu3bum7FEoYp02bOXbRi08EbX77cOLhpxaK5M6dNae/o6OrpmzRz+alTy2dO6uvp6uhor6yoKCspykuPNDOLTM8rKimrqKjMyUpPjovws9fg4dGw94uIS07PymGIiQjydjJTE2FlFVEzc/IOiogBWuzlbG2kJsnNxMQtqWZk7ewFcaG+mrQgOxMTu6C0mj7CJyI8rIyMrDwiEB4A19heAQ==",
        "encoding": "base64",
        "path": [
         "voxels",
         "compressed_buffer"
        ]
       }
      ],
      "model_module": "k3d",
      "model_module_version": "2.6.9",
      "model_name": "ObjectModel",
      "state": {
       "_view_count": null,
       "_view_module": null,
       "_view_module_version": "",
       "_view_name": null,
       "color_map": {
        "dtype": "uint32",
        "shape": [
         256
        ]
       },
       "compression_level": 0,
       "id": 4641977512,
       "model_matrix": {
        "dtype": "float32",
        "shape": [
         4,
         4
        ]
       },
       "name": null,
       "opacity": 1,
       "outlines": false,
       "outlines_color": 0,
       "type": "Voxels",
       "visible": true,
       "voxels": {
        "dtype": "uint8",
        "shape": [
         1,
         12,
         20
        ]
       },
       "wireframe": false
      }
     },
     "f012100abfd4460ba5bb4ba381c8b075": {
      "model_module": "k3d",
      "model_module_version": "2.6.9",
      "model_name": "PlotModel",
      "state": {
       "_backend_version": "2.6.9",
       "_dom_classes": [],
       "_view_count": null,
       "antialias": 3,
       "axes": [
        "x",
        "y",
        "z"
       ],
       "background_color": 16777215,
       "camera": [
        9.828951377057189,
        -14.743427065585788,
        0.9828951377057292,
        0,
        0,
        0,
        0,
        0,
        1
       ],
       "camera_auto_fit": true,
       "camera_no_pan": false,
       "camera_no_rotate": false,
       "camera_no_zoom": false,
       "clipping_planes": [],
       "colorbar_object_id": -1,
       "fps_meter": false,
       "grid": [
        -1,
        -1,
        -1,
        1,
        1,
        1
       ],
       "grid_auto_fit": true,
       "grid_visible": true,
       "height": 512,
       "layout": "IPY_MODEL_917c29f1a16243c7a79958d739322e04",
       "lighting": 1,
       "menu_visibility": true,
       "object_ids": [
        4577379472,
        4577061712
       ],
       "rendering_steps": 1,
       "screenshot": "",
       "screenshot_scale": 2,
       "time": 0,
       "voxel_paint_color": 0
      }
     },
     "f08bcafb2efe43ec9e3478f2e54872a4": {
      "model_module": "@jupyter-widgets/base",
      "model_module_version": "1.2.0",
      "model_name": "LayoutModel",
      "state": {}
     },
     "f095bf0ebeec4f289368313602c54440": {
      "model_module": "@jupyter-widgets/base",
      "model_module_version": "1.2.0",
      "model_name": "LayoutModel",
      "state": {}
     },
     "f0af654f8d494c12988bdb97014deb75": {
      "model_module": "@jupyter-widgets/base",
      "model_module_version": "1.2.0",
      "model_name": "LayoutModel",
      "state": {}
     },
     "f0b20dd4946642c0b8f9185dd5ca6876": {
      "model_module": "@jupyter-widgets/base",
      "model_module_version": "1.2.0",
      "model_name": "LayoutModel",
      "state": {}
     },
     "f176d14abb6b49ab9a5d981acb677947": {
      "buffers": [
       {
        "data": "eNoDAAAAAAE=",
        "encoding": "base64",
        "path": [
         "colors",
         "compressed_buffer"
        ]
       },
       {
        "data": "eNpjYGiwZ8AAxIsBAF7EAv0=",
        "encoding": "base64",
        "path": [
         "model_matrix",
         "compressed_buffer"
        ]
       },
       {
        "data": "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",
        "encoding": "base64",
        "path": [
         "positions",
         "compressed_buffer"
        ]
       }
      ],
      "model_module": "k3d",
      "model_module_version": "2.6.9",
      "model_name": "ObjectModel",
      "state": {
       "_view_count": null,
       "_view_module": null,
       "_view_module_version": "",
       "_view_name": null,
       "color": 10075135,
       "colors": {
        "dtype": "uint32",
        "shape": [
         0
        ]
       },
       "compression_level": 0,
       "id": 4547986704,
       "mesh_detail": 2,
       "model_matrix": {
        "dtype": "float32",
        "shape": [
         4,
         4
        ]
       },
       "name": null,
       "opacity": 1,
       "point_size": 0.1,
       "positions": {
        "dtype": "float32",
        "shape": [
         1008,
         3
        ]
       },
       "shader": "3dSpecular",
       "type": "Points",
       "visible": true
      }
     },
     "f28d29ffaebe450ea2de09887bafdd16": {
      "model_module": "@jupyter-widgets/output",
      "model_module_version": "1.0.0",
      "model_name": "OutputModel",
      "state": {
       "layout": "IPY_MODEL_8638132b9e834864a2b334a74b979013",
       "outputs": [
        {
         "data": {
          "application/vnd.jupyter.widget-view+json": {
           "model_id": "22b8d19a9cb94685b6caf37a67f54221",
           "version_major": 2,
           "version_minor": 0
          },
          "text/plain": "Plot(antialias=3, axes=['x', 'y', 'z'], background_color=16777215, camera=[4.5, 4.5, 4.5, 0.0, 0.0, 0.0, 1.0, …"
         },
         "metadata": {},
         "output_type": "display_data"
        }
       ]
      }
     },
     "f2a58d25be5548e895063eb8a362e336": {
      "buffers": [
       {
        "data": "eNpLWKfOAAAD3AE2",
        "encoding": "base64",
        "path": [
         "color_map",
         "compressed_buffer"
        ]
       },
       {
        "data": "eNpjYFBwZMAABxwwxRqwidkDAFK8AuE=",
        "encoding": "base64",
        "path": [
         "model_matrix",
         "compressed_buffer"
        ]
       },
       {
        "data": "eNrllUEOACEMAjv//7R7XQGj0Vs5TqItWLXqXnxSMlFQ6Jhba2u8l9TQ/vgpMlDo2O5+KauDXNIRLb2ZnkHhDdvPJWYg3mo1aj7m5I3HOsigXAT+fnTz222eG75XTf6jAc5KA/E=",
        "encoding": "base64",
        "path": [
         "voxels",
         "compressed_buffer"
        ]
       }
      ],
      "model_module": "k3d",
      "model_module_version": "2.6.9",
      "model_name": "ObjectModel",
      "state": {
       "_view_count": null,
       "_view_module": null,
       "_view_module_version": "",
       "_view_name": null,
       "color_map": {
        "dtype": "uint32",
        "shape": []
       },
       "compression_level": 0,
       "id": 4634967008,
       "model_matrix": {
        "dtype": "float32",
        "shape": [
         4,
         4
        ]
       },
       "name": null,
       "opacity": 1,
       "outlines": false,
       "outlines_color": 0,
       "type": "Voxels",
       "visible": true,
       "voxels": {
        "dtype": "uint8",
        "shape": [
         8,
         12,
         20
        ]
       },
       "wireframe": false
      }
     },
     "f3025febb69f48fbb802ccccadc2118e": {
      "model_module": "k3d",
      "model_module_version": "2.6.9",
      "model_name": "PlotModel",
      "state": {
       "_backend_version": "2.6.9",
       "_dom_classes": [],
       "_view_count": null,
       "antialias": 3,
       "axes": [
        "x",
        "y",
        "z"
       ],
       "background_color": 16777215,
       "camera": [
        9.733137238263115,
        -14.662205854600705,
        0.9758137234910438,
        -0.02499999664723873,
        -0.02500000223517418,
        0,
        0,
        0,
        1
       ],
       "camera_auto_fit": true,
       "camera_no_pan": false,
       "camera_no_rotate": false,
       "camera_no_zoom": false,
       "clipping_planes": [],
       "colorbar_object_id": -1,
       "fps_meter": false,
       "grid": [
        -1,
        -1,
        -1,
        1,
        1,
        1
       ],
       "grid_auto_fit": true,
       "grid_visible": true,
       "height": 512,
       "layout": "IPY_MODEL_64f4393d68b64874a11d9f2d46fb1b3c",
       "lighting": 1,
       "menu_visibility": true,
       "object_ids": [
        4577182096
       ],
       "rendering_steps": 1,
       "screenshot": "",
       "screenshot_scale": 2,
       "time": 0,
       "voxel_paint_color": 0
      }
     },
     "f481722617ab4edd9704a8b4853498f3": {
      "model_module": "k3d",
      "model_module_version": "2.6.9",
      "model_name": "PlotModel",
      "state": {
       "_backend_version": "2.6.9",
       "_dom_classes": [],
       "_view_count": null,
       "antialias": 3,
       "axes": [
        "x",
        "y",
        "z"
       ],
       "background_color": 16777215,
       "camera": [
        5.676886823516348,
        -8.515330235274524,
        0.5676886823516407,
        0,
        0,
        0,
        0,
        0,
        1
       ],
       "camera_auto_fit": true,
       "camera_no_pan": false,
       "camera_no_rotate": false,
       "camera_no_zoom": false,
       "clipping_planes": [],
       "colorbar_object_id": -1,
       "fps_meter": false,
       "grid": [
        -1,
        -1,
        -1,
        1,
        1,
        1
       ],
       "grid_auto_fit": true,
       "grid_visible": true,
       "height": 512,
       "layout": "IPY_MODEL_e0c2073c915b44d19f2f0b88ed603979",
       "lighting": 1,
       "menu_visibility": true,
       "object_ids": [
        4667264416,
        4667413224
       ],
       "rendering_steps": 1,
       "screenshot": "",
       "screenshot_scale": 2,
       "time": 0,
       "voxel_paint_color": 0
      }
     },
     "f57860506ecc48ec819c6bc245ca1f5c": {
      "model_module": "@jupyter-widgets/base",
      "model_module_version": "1.2.0",
      "model_name": "LayoutModel",
      "state": {}
     },
     "f5fc8e7f28714a68b66b10332a901a4f": {
      "model_module": "@jupyter-widgets/base",
      "model_module_version": "1.2.0",
      "model_name": "LayoutModel",
      "state": {}
     },
     "f6af007348cf44dea43f1f0a13144e05": {
      "model_module": "k3d",
      "model_module_version": "2.6.9",
      "model_name": "PlotModel",
      "state": {
       "_backend_version": "2.6.9",
       "_dom_classes": [],
       "_view_count": null,
       "antialias": 3,
       "axes": [
        "x",
        "y",
        "z"
       ],
       "background_color": 16777215,
       "camera": [
        10.284874878907916,
        -15.489812315567907,
        1.0059874815950598,
        -0.02499999664723873,
        -0.02500000223517418,
        -0.025000005960464478,
        0,
        0,
        1
       ],
       "camera_auto_fit": true,
       "camera_no_pan": false,
       "camera_no_rotate": false,
       "camera_no_zoom": false,
       "clipping_planes": [],
       "colorbar_object_id": -1,
       "fps_meter": false,
       "grid": [
        -1,
        -1,
        -1,
        1,
        1,
        1
       ],
       "grid_auto_fit": true,
       "grid_visible": true,
       "height": 512,
       "layout": "IPY_MODEL_3d04520761e74d46943e93fcd6b18cc2",
       "lighting": 1,
       "menu_visibility": true,
       "object_ids": [
        4641879768
       ],
       "rendering_steps": 1,
       "screenshot": "",
       "screenshot_scale": 2,
       "time": 0,
       "voxel_paint_color": 0
      }
     },
     "f7019c59375c409a9dc616f5213b0704": {
      "model_module": "@jupyter-widgets/output",
      "model_module_version": "1.0.0",
      "model_name": "OutputModel",
      "state": {
       "layout": "IPY_MODEL_3b5adde63b4e4fd288f61fd592dfb580",
       "outputs": [
        {
         "data": {
          "application/vnd.jupyter.widget-view+json": {
           "model_id": "ede200c776844f6ebb4c54875afa3127",
           "version_major": 2,
           "version_minor": 0
          },
          "text/plain": "Plot(antialias=3, axes=['x', 'y', 'z'], background_color=16777215, camera=[4.5, 4.5, 4.5, 0.0, 0.0, 0.0, 1.0, …"
         },
         "metadata": {},
         "output_type": "display_data"
        }
       ]
      }
     },
     "f767f3481d5b4c1f85d221e6a62ccbb3": {
      "model_module": "@jupyter-widgets/base",
      "model_module_version": "1.2.0",
      "model_name": "LayoutModel",
      "state": {}
     },
     "f875c93f74ed4aceaa2b40cb29e0077a": {
      "buffers": [
       {
        "data": "eNoDAAAAAAE=",
        "encoding": "base64",
        "path": [
         "colors",
         "compressed_buffer"
        ]
       },
       {
        "data": "eNpjYGiwZ8AAxIsBAF7EAv0=",
        "encoding": "base64",
        "path": [
         "model_matrix",
         "compressed_buffer"
        ]
       },
       {
        "data": "eNpNkk9IVHEQx9+2a/tUCCNwyeySUFRiIZUJvd93oI6CByPrVGStgYp/DkIRBCUGitlqF4PAUwc3hDJLCn6zEEEbu3bZhJQwKDy0ZrpSG/SE3pya05vDzPw+876ffOcf7LjQxtdb5tm9tIWaW2nbMJllvzlEfeFFT+rhdJgKj6shPc7ATzg31/ll4wM+8KWA9MVnwXeMz8eLaNt3jcenElz862OzJ2c/5u9z5HaIjp+a9qTONUXo0ecYpGd1dDs1TI5AZh3jkjPwAbKzqmIVi6lYqn22PmBaw90nG7zw6WiwdwP1O5/z00wdD3b9RiLZyeVLtXxvwkfvsWV7buIwN86EyNTd8aT20hHqPrsL0vPiUJTm14Yhs6cXXArugOzcLJbSfrgkb72Pfsfg1onUVEmPTfTnMerHUq9sV/AvfgQ3FhhOR3DPOrzqWX693G6TmV84+bCb+zJX7NtWH/H4iq21l+3eXIiymSZP6uTuEnp3tQLSUzkUpTdfhyCz346UBrdnITvnzpRRb9gleWuPX0Y3th0kYVA8RvEYxWMUj1E8RvEYxWMUj1E8RvEYxWMUj1G5QOUClQtULlC5QOUClQtULlC5QOUC5RuUb1C+QfkG5RuUb1C+QfmG/H//ofyH8h/Kf/wD8CKEKA==",
        "encoding": "base64",
        "path": [
         "origins",
         "compressed_buffer"
        ]
       },
       {
        "data": "eNpNUqFLw2EQFZMaDLaxaFgwqbj0uweuGEwiCAYRxgSxiM2lhaUJC2oQRFBBf2jRMbDtO7DKbBabC/4D627eDQ5e+PgefHf33n3v5dWhlGtt2NGZUUk2Rhew4zgFzqvDFDVTP034uaxleva35e+wW+vXs2i37vCxc6BL0+vyO3jCW+XEcQpsNRo13hO9Nk9j5krjFsvFU1w9fwUnnN96JvN9Rl4qoPLShd16fLMrg0PF9tqi4xTY36LG+aLXd4iZxqXB1Xl/Rbezj73Hca+++YDv8wZW5xbiD+D/YTvAd/GdjAPO5Zz380fy2e/DbscpsOuIGt8/ev1PY6ZxaXCZBg0NpCcjPUJ6hPQI6RHSI6RHSI+QHiE9QnqE9GTki5AvQr6AfAH5AvIF5AvIF5AvQr4I5Q2UN1DeQHkD5Q2UN1DeQHmb8MU+lH9Q/kH5xz9dLn6c",
        "encoding": "base64",
        "path": [
         "vectors",
         "compressed_buffer"
        ]
       }
      ],
      "model_module": "k3d",
      "model_module_version": "2.6.9",
      "model_name": "ObjectModel",
      "state": {
       "_view_count": null,
       "_view_module": null,
       "_view_module_version": "",
       "_view_name": null,
       "colors": {
        "dtype": "uint32",
        "shape": [
         0
        ]
       },
       "compression_level": 0,
       "head_color": 255,
       "head_size": 1,
       "id": 4717654096,
       "label_size": 1,
       "labels": [],
       "line_width": 0.01,
       "model_matrix": {
        "dtype": "float32",
        "shape": [
         4,
         4
        ]
       },
       "name": null,
       "origin_color": 255,
       "origins": {
        "dtype": "float32",
        "shape": [
         68,
         3
        ]
       },
       "type": "Vectors",
       "use_head": true,
       "vectors": {
        "dtype": "float32",
        "shape": [
         68,
         3
        ]
       },
       "visible": true
      }
     },
     "f8d3a156dac94ede91c6fb6020e302d4": {
      "model_module": "k3d",
      "model_module_version": "2.6.9",
      "model_name": "PlotModel",
      "state": {
       "_backend_version": "2.6.9",
       "_dom_classes": [],
       "_view_count": null,
       "antialias": 3,
       "axes": [
        "x",
        "y",
        "z"
       ],
       "background_color": 16777215,
       "camera": [
        9.828951377057189,
        -14.743427065585788,
        0.9828951377057292,
        0,
        0,
        0,
        0,
        0,
        1
       ],
       "camera_auto_fit": true,
       "camera_no_pan": false,
       "camera_no_rotate": false,
       "camera_no_zoom": false,
       "clipping_planes": [],
       "colorbar_object_id": -1,
       "fps_meter": false,
       "grid": [
        -1,
        -1,
        -1,
        1,
        1,
        1
       ],
       "grid_auto_fit": true,
       "grid_visible": true,
       "height": 512,
       "layout": "IPY_MODEL_64526e63d03d46bdb6565761c7dafd0b",
       "lighting": 1,
       "menu_visibility": true,
       "object_ids": [
        4667434600,
        4667435104
       ],
       "rendering_steps": 1,
       "screenshot": "",
       "screenshot_scale": 2,
       "time": 0,
       "voxel_paint_color": 0
      }
     },
     "f931c88905ae4e97bae5b2eeaea553e3": {
      "model_module": "@jupyter-widgets/base",
      "model_module_version": "1.2.0",
      "model_name": "LayoutModel",
      "state": {}
     },
     "fa43ef77d5614b85bcbda4b069e18d75": {
      "buffers": [
       {
        "data": "eNot0vlP1gUcwPF3rVar1Wq14vR5Hh4eBOSSQy45fZ7v96spoRIiIqJAHCKH3Pf9cD7fLLMss8yyzLLM0sy01KJIo1BDEQUEfWBrba2ttbbW1sfVD6//4JV2l5X0u62su8fG+nttZN6nkHW/wsYHFLIfVMh5SGXzwyq5j6jkPaqS/5hKweMahU9oFD2pUeyiUeKmsc1do9RDo8xTo9ygUWHUqDRpVJk1qr01aiwatT4adb4a9X4aDf4qDQEqjYEqTUEqzcEqLSEKLaEKrWEKbeEK7RE22iNtdETZ6Iy20hljpStWxC2jO14kJGNPFEnJ9CQn0WNNoteWSK8i1AT6NLE8nr4V8fSvFKvi6E8RTy9lIFWsjmVgjVgbw2CaeCaawXSREcXgepEZiWODyFqCY6PIjsCxSeSE49gstoThyA1DzwtFzxfPLkYvEIWiKAS9WGwNRi8R24LQS0WZKA9Er7gjAH27qBRVi9CrRY0/eq2oE/V+6A2iUTT5ojeLloXoraJNtPugd/yv04LeJbqF3Ru9R/Sa0fvMOPrFgBeOQeEQugnHc2KHicHnxQvG/+wULxoY2CVeEi+L3Qb6XxGvij0L6HtN7BWvG+h9Q+wTbxrouWO/AftbRuxvG+k+YKL7HfGuF10Hveh8z0znIW863rfQ8YGF9sM+YiFtH/rS+pEfrUf8afk4gOajgTR9EkTTp8E0HltMw/FQ6o+HU/9ZBHUnIqn9PIqakzFUfxFL1ak4Kk8lsP10IhVfJlP+lZWyMwqlZ+Xj2RWUnFvJ1q9TKP4mlaKhNRQOpVHwbTr532WQN5xJ7nAWW77PJud8Dpsu5JJ9IZ+sHwrYMFJE5kgJGT+Wsu6nctJHK0kbrWbtxVpWX2wg9VITKZdbWXW5nad+7mL5mB1trA/lygC2KzrLru4g6epOEsd3ET++m6XX9hB7bS/RE/uInNjPkusHCL9+kNAbhwi5cZjgySMETh5l0dQx/KZO4Dt1Ep/p01imz2CePofp5hDGm8MYZs7jOTOCx8wo7rOXcJsdw3V2HNdbE7jcmhTTuNyexfW2U8zj5vwFd+eveDh/w9P5Owvm/sA49yemub8wz/+NZf4f/gXLh0p6",
        "encoding": "base64",
        "path": [
         "color_map",
         "compressed_buffer"
        ]
       },
       {
        "data": "eNpjYFBwZMAABxwwxRqwidkDAFK8AuE=",
        "encoding": "base64",
        "path": [
         "model_matrix",
         "compressed_buffer"
        ]
       },
       {
        "data": "eNrl1c9LKlEUB/BJGFzoxtCFBLMcpoUIEUMYYVRCFBkWiZIUYTEwhGL+aPwLnBxNlBgYSqIwFKMkowisSCKJIQJxkcxyIFwoudGFCPZ8iphv9eDxVt7d/XA553zhci8A/PvKsGymV87iiWQyET/7QZQ/EAyFggE/1TWn3Wa1WKw2u/PHwVW9TqvV6Vd7K6pQVAX851Usl4s98Jrl+EKB57KvHTm/unticxyXY5/urs7bdngciSdT6XQqGY8cH7aI3KN8gRDNMHQo4KP2yN9G7DodNguOYbjF5nDuEq2DWxsmvVajVmu0etPGVrveyuLsJKqAYQU6Obu40uk8poQhuRyClWM9I8okEtlfhavXe/d5vlip1SpFPt+R1PPbB/9VrX7xH2/PqRbFLq7vMzm+VOJzmfvri1iTaOboJJpIsfk8m0pET44YGgA8pJfyB+lwNBqmg37KS3oAwE24nHYrbjYazbjV7nQRbgDAsc11o06DIgiq0RnXNzG8WdCwvDCjUkBSKaRQzSwsG1qNNROjw9CgSDQIDY9OaDoTIpBMLBSKZRDSmwUE/whbqtS/v+uVUley3Ge51mjUyp9cti23Dy/vXKHaaFQL3PvLw22TIrHLm0eWK9XrJY59vLmMRYADmgmfxpLpfKWSTydjp2GGPvCQpNe3H2KiLBtlQvs+L0l63AThcuxYMCOKGjHLjsNFEO5tHDOvGbRqRCxG1FrDmhnDtwGTYWl+CoWlICiF0an5JYOp2XhuenwElosEApEcHhmfnmtPqISHJEKBQCgZgpXdJFIxODAAiqX9nLff7nMfvld98h/9AlMm+BA=",
        "encoding": "base64",
        "path": [
         "voxels",
         "compressed_buffer"
        ]
       }
      ],
      "model_module": "k3d",
      "model_module_version": "2.6.9",
      "model_name": "ObjectModel",
      "state": {
       "_view_count": null,
       "_view_module": null,
       "_view_module_version": "",
       "_view_name": null,
       "color_map": {
        "dtype": "uint32",
        "shape": [
         256
        ]
       },
       "compression_level": 0,
       "id": 4654100752,
       "model_matrix": {
        "dtype": "float32",
        "shape": [
         4,
         4
        ]
       },
       "name": null,
       "opacity": 1,
       "outlines": false,
       "outlines_color": 0,
       "type": "Voxels",
       "visible": true,
       "voxels": {
        "dtype": "uint8",
        "shape": [
         8,
         12,
         20
        ]
       },
       "wireframe": false
      }
     },
     "fa76f3ac4fa340cabb8ad10346888ce0": {
      "model_module": "k3d",
      "model_module_version": "2.6.9",
      "model_name": "PlotModel",
      "state": {
       "_backend_version": "2.6.9",
       "_dom_classes": [],
       "_view_count": null,
       "antialias": 3,
       "axes": [
        "x",
        "y",
        "z"
       ],
       "background_color": 16777215,
       "camera": [
        5.676886823516348,
        -8.515330235274524,
        0.5676886823516407,
        0,
        0,
        0,
        0,
        0,
        1
       ],
       "camera_auto_fit": true,
       "camera_no_pan": false,
       "camera_no_rotate": false,
       "camera_no_zoom": false,
       "clipping_planes": [],
       "colorbar_object_id": -1,
       "fps_meter": false,
       "grid": [
        -1,
        -1,
        -1,
        1,
        1,
        1
       ],
       "grid_auto_fit": true,
       "grid_visible": true,
       "height": 512,
       "layout": "IPY_MODEL_41fc5979ccec4808b258d57d5d7a6bf7",
       "lighting": 1,
       "menu_visibility": true,
       "object_ids": [
        4634788528,
        4634819944
       ],
       "rendering_steps": 1,
       "screenshot": "",
       "screenshot_scale": 2,
       "time": 0,
       "voxel_paint_color": 0
      }
     },
     "fb16dc8ad6a8456cb09b58953d97702b": {
      "model_module": "@jupyter-widgets/base",
      "model_module_version": "1.2.0",
      "model_name": "LayoutModel",
      "state": {}
     },
     "fc07c3b56522413c9632fa8d01e64ab6": {
      "model_module": "k3d",
      "model_module_version": "2.6.9",
      "model_name": "PlotModel",
      "state": {
       "_backend_version": "2.6.9",
       "_dom_classes": [],
       "_view_count": null,
       "antialias": 3,
       "axes": [
        "x",
        "y",
        "z"
       ],
       "background_color": 16777215,
       "camera": [
        5.676886823516348,
        -8.515330235274524,
        0.5676886823516407,
        0,
        0,
        0,
        0,
        0,
        1
       ],
       "camera_auto_fit": true,
       "camera_no_pan": false,
       "camera_no_rotate": false,
       "camera_no_zoom": false,
       "clipping_planes": [],
       "colorbar_object_id": -1,
       "fps_meter": false,
       "grid": [
        -1,
        -1,
        -1,
        1,
        1,
        1
       ],
       "grid_auto_fit": true,
       "grid_visible": true,
       "height": 512,
       "layout": "IPY_MODEL_5898e12c56c148b38ebbe94e1f51715b",
       "lighting": 1,
       "menu_visibility": true,
       "object_ids": [
        4577336080,
        4572859664
       ],
       "rendering_steps": 1,
       "screenshot": "",
       "screenshot_scale": 2,
       "time": 0,
       "voxel_paint_color": 0
      }
     },
     "fc3dc678f4714151890238ea06e1a2e0": {
      "model_module": "k3d",
      "model_module_version": "2.6.9",
      "model_name": "PlotModel",
      "state": {
       "_backend_version": "2.6.9",
       "_dom_classes": [],
       "_view_count": null,
       "antialias": 3,
       "axes": [
        "x",
        "y",
        "z"
       ],
       "background_color": 16777215,
       "camera": [
        9.80367128973346,
        -14.70550693460019,
        0.9803671289733545,
        0,
        0,
        0,
        0,
        0,
        1
       ],
       "camera_auto_fit": true,
       "camera_no_pan": false,
       "camera_no_rotate": false,
       "camera_no_zoom": false,
       "clipping_planes": [],
       "colorbar_object_id": -1,
       "fps_meter": false,
       "grid": [
        -1,
        -1,
        -1,
        1,
        1,
        1
       ],
       "grid_auto_fit": true,
       "grid_visible": true,
       "height": 512,
       "layout": "IPY_MODEL_599530164c2c40c2ba27852787df8a54",
       "lighting": 1,
       "menu_visibility": true,
       "object_ids": [
        4577179472
       ],
       "rendering_steps": 1,
       "screenshot": "",
       "screenshot_scale": 2,
       "time": 0,
       "voxel_paint_color": 0
      }
     },
     "fc6a0a2f83cb46d191961643da7224a5": {
      "model_module": "@jupyter-widgets/output",
      "model_module_version": "1.0.0",
      "model_name": "OutputModel",
      "state": {
       "layout": "IPY_MODEL_a5fd8b70c62a438dba2cea20401501b3",
       "outputs": [
        {
         "data": {
          "application/vnd.jupyter.widget-view+json": {
           "model_id": "1aea38309d4240498d664f1e2b10bf07",
           "version_major": 2,
           "version_minor": 0
          },
          "text/plain": "Plot(antialias=3, axes=['x', 'y', 'z'], background_color=16777215, camera=[4.5, 4.5, 4.5, 0.0, 0.0, 0.0, 1.0, …"
         },
         "metadata": {},
         "output_type": "display_data"
        }
       ]
      }
     },
     "fca63c307e5a4683b158a7381200f4e8": {
      "buffers": [
       {
        "data": "eNot0vlP1gUcwPF3rVar1Wq14vR5Hh4eBOSSQy45fZ7v96spoRIiIqJAHCKH3Pf9cD7fLLMss8yyzLLM0sy01KJIo1BDEQUEfWBrba2ttbbW1sfVD6//4JV2l5X0u62su8fG+nttZN6nkHW/wsYHFLIfVMh5SGXzwyq5j6jkPaqS/5hKweMahU9oFD2pUeyiUeKmsc1do9RDo8xTo9ygUWHUqDRpVJk1qr01aiwatT4adb4a9X4aDf4qDQEqjYEqTUEqzcEqLSEKLaEKrWEKbeEK7RE22iNtdETZ6Iy20hljpStWxC2jO14kJGNPFEnJ9CQn0WNNoteWSK8i1AT6NLE8nr4V8fSvFKvi6E8RTy9lIFWsjmVgjVgbw2CaeCaawXSREcXgepEZiWODyFqCY6PIjsCxSeSE49gstoThyA1DzwtFzxfPLkYvEIWiKAS9WGwNRi8R24LQS0WZKA9Er7gjAH27qBRVi9CrRY0/eq2oE/V+6A2iUTT5ojeLloXoraJNtPugd/yv04LeJbqF3Ru9R/Sa0fvMOPrFgBeOQeEQugnHc2KHicHnxQvG/+wULxoY2CVeEi+L3Qb6XxGvij0L6HtN7BWvG+h9Q+wTbxrouWO/AftbRuxvG+k+YKL7HfGuF10Hveh8z0znIW863rfQ8YGF9sM+YiFtH/rS+pEfrUf8afk4gOajgTR9EkTTp8E0HltMw/FQ6o+HU/9ZBHUnIqn9PIqakzFUfxFL1ak4Kk8lsP10IhVfJlP+lZWyMwqlZ+Xj2RWUnFvJ1q9TKP4mlaKhNRQOpVHwbTr532WQN5xJ7nAWW77PJud8Dpsu5JJ9IZ+sHwrYMFJE5kgJGT+Wsu6nctJHK0kbrWbtxVpWX2wg9VITKZdbWXW5nad+7mL5mB1trA/lygC2KzrLru4g6epOEsd3ET++m6XX9hB7bS/RE/uInNjPkusHCL9+kNAbhwi5cZjgySMETh5l0dQx/KZO4Dt1Ep/p01imz2CePofp5hDGm8MYZs7jOTOCx8wo7rOXcJsdw3V2HNdbE7jcmhTTuNyexfW2U8zj5vwFd+eveDh/w9P5Owvm/sA49yemub8wz/+NZf4f/gXLh0p6",
        "encoding": "base64",
        "path": [
         "color_map",
         "compressed_buffer"
        ]
       },
       {
        "data": "eNpjYFBwZMAABxwwxRqwidkDAFK8AuE=",
        "encoding": "base64",
        "path": [
         "model_matrix",
         "compressed_buffer"
        ]
       },
       {
        "data": "eNrl1U1IKlEUB3ASxIVuDF1IMMvBFiJEDGGEUQlRNGGRKEkRFgNDKOZH4252Tn4kSgwMJVEYDkZJRhFYkUQSQwTiomGWA+FCyY0uRLDnU8R8qwePt/Lu7o/LOecPl3tx/N9XlmGyvXKWSKZSycTZD/IHQ+FIJBwK+rvmcthtVqvN7nD9OLhq0MOw3rDaW1EDQRr8P69iuVzsgdccxxcKPJd77cj51d0Tk+e4PPN0d3XetsPjWCKVzmTSqUTs+LBFxJ4/EIqQFEVGQgH/HvHbsF2X025FEQS12p2uXax1cGvDbIB1Wq0ONpg3ttr1VhZnJyEVCKqgydnFlU7nMTUIKBQAqB7rGVEulcr/Kly93rtn+WKlVqsUebYj6ee3D/6rWv3iP96e0y2iL67vs3m+VOLz2fvrC7pJJHV0Ek+mGZZl0sn4yRFF4riX8PmDYTIaj0fJcNDvI7w47sHcLocNtZhMFtTmcLkxD46jyOa6Sa+DlEpIpzetbyJos6BxeWFGowJkMkClmVlYNrYa6yZGh4FBsXgQGB6d0HUmVAJyiUgkkQPK3ixC4R9hS5X693e9UupKjvss1xqNWvmTy7Xl9uHlnStUG41qgXt/ebhtUoy+vHlkuFK9XuKYx5tLOoYfkFT0lE5l2EqFzaTo0yhFHngJwhfYj1BxholTkf2AjyC8HgxzO3esiAmCTIh1x+nGMM82iljWjLBWKZEotbBxzYKg27jZuDQ/BYEyoVAGQlPzS0Zzs/Hc9PgIqBALBGIFODI+PdeeUA0OSUUCgUg6BKq7SWQS4cCAUCLr57z9dp/78L3qk//oF5tnwC4=",
        "encoding": "base64",
        "path": [
         "voxels",
         "compressed_buffer"
        ]
       }
      ],
      "model_module": "k3d",
      "model_module_version": "2.6.9",
      "model_name": "ObjectModel",
      "state": {
       "_view_count": null,
       "_view_module": null,
       "_view_module_version": "",
       "_view_name": null,
       "color_map": {
        "dtype": "uint32",
        "shape": [
         256
        ]
       },
       "compression_level": 0,
       "id": 4610104008,
       "model_matrix": {
        "dtype": "float32",
        "shape": [
         4,
         4
        ]
       },
       "name": null,
       "opacity": 1,
       "outlines": false,
       "outlines_color": 0,
       "type": "Voxels",
       "visible": true,
       "voxels": {
        "dtype": "uint8",
        "shape": [
         8,
         12,
         20
        ]
       },
       "wireframe": false
      }
     },
     "fdfe5c3121754017b62aa421540168fb": {
      "model_module": "@jupyter-widgets/output",
      "model_module_version": "1.0.0",
      "model_name": "OutputModel",
      "state": {
       "layout": "IPY_MODEL_562d9de4b3c04495abd87a22776f5fa3",
       "outputs": [
        {
         "data": {
          "application/vnd.jupyter.widget-view+json": {
           "model_id": "71da6a4ba1e64ef28de10bfd7ce2ab0e",
           "version_major": 2,
           "version_minor": 0
          },
          "text/plain": "Plot(antialias=3, axes=['x', 'y', 'z'], background_color=16777215, camera=[4.5, 4.5, 4.5, 0.0, 0.0, 0.0, 1.0, …"
         },
         "metadata": {},
         "output_type": "display_data"
        }
       ]
      }
     },
     "feb75da534ca47588632d832729da78b": {
      "model_module": "@jupyter-widgets/controls",
      "model_module_version": "1.5.0",
      "model_name": "IntSliderModel",
      "state": {
       "layout": "IPY_MODEL_864da8b09b754905a780b18ae4fea40b",
       "style": "IPY_MODEL_8890543116c7466dba13cd9aeabd7535",
       "value": 32
      }
     },
     "feeefbcea3e2452e97219025f20d3376": {
      "buffers": [
       {
        "data": "eNoDAAAAAAE=",
        "encoding": "base64",
        "path": [
         "colors",
         "compressed_buffer"
        ]
       },
       {
        "data": "eNpjYGiwZ8AAxIsBAF7EAv0=",
        "encoding": "base64",
        "path": [
         "model_matrix",
         "compressed_buffer"
        ]
       },
       {
        "data": "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",
        "encoding": "base64",
        "path": [
         "positions",
         "compressed_buffer"
        ]
       }
      ],
      "model_module": "k3d",
      "model_module_version": "2.6.9",
      "model_name": "ObjectModel",
      "state": {
       "_view_count": null,
       "_view_module": null,
       "_view_module_version": "",
       "_view_name": null,
       "color": 10075135,
       "colors": {
        "dtype": "uint32",
        "shape": [
         0
        ]
       },
       "compression_level": 0,
       "id": 4667435104,
       "mesh_detail": 2,
       "model_matrix": {
        "dtype": "float32",
        "shape": [
         4,
         4
        ]
       },
       "name": null,
       "opacity": 1,
       "point_size": 0.1,
       "positions": {
        "dtype": "float32",
        "shape": [
         1008,
         3
        ]
       },
       "shader": "3dSpecular",
       "type": "Points",
       "visible": true
      }
     },
     "ff07432810e2424d9bf718f3665a516d": {
      "model_module": "@jupyter-widgets/base",
      "model_module_version": "1.2.0",
      "model_name": "LayoutModel",
      "state": {}
     },
     "ff1c647871f84eaf8786e7762f6aaba4": {
      "model_module": "@jupyter-widgets/base",
      "model_module_version": "1.2.0",
      "model_name": "LayoutModel",
      "state": {}
     },
     "ff267d320e2b4169af74b0bb35a85eba": {
      "model_module": "@jupyter-widgets/base",
      "model_module_version": "1.2.0",
      "model_name": "LayoutModel",
      "state": {}
     },
     "ff6b8e7dc1294d7481d2824634895a45": {
      "model_module": "@jupyter-widgets/base",
      "model_module_version": "1.2.0",
      "model_name": "LayoutModel",
      "state": {}
     },
     "ff7f2fc1ad304d17803bda9787de7e43": {
      "buffers": [
       {
        "data": "eNoDAAAAAAE=",
        "encoding": "base64",
        "path": [
         "colors",
         "compressed_buffer"
        ]
       },
       {
        "data": "eNpjYGiwZ8AAxIsBAF7EAv0=",
        "encoding": "base64",
        "path": [
         "model_matrix",
         "compressed_buffer"
        ]
       },
       {
        "data": "eNpjPlvrIHyzcD+Pifn+G471DiGsT/fJiZnvF4lvcEi4Gm4LYtdLNjq8VeOzB6lZm1jj8G/Wjv1Hs0v2dRytdVjVVLS/TrZkn719vUNa2rN9Xz4X70tIaHA4e8bHFsS2kW10CKvltQep0Tzf6MCU2m4P0otkjh2SOXZI5tghmWOHZI4dkjl2zAj32yO53x7J/fZI7rcHAL0aZ10=",
        "encoding": "base64",
        "path": [
         "origins",
         "compressed_buffer"
        ]
       },
       {
        "data": "eNpz3d9j65Ny3M51f89eNY19Niu4TtnJzOsDsffA2CA5mJqlU57bfrp+xG678849QDlbkBqQ2oMHDticPXPGDkiD2HtgbJB+mBqg3r0wvUjm2CCZY4Nkjg2SOTZI5tggmWPjinC/LZL7bZHcb4vkflsAWRB+RQ==",
        "encoding": "base64",
        "path": [
         "vectors",
         "compressed_buffer"
        ]
       }
      ],
      "model_module": "k3d",
      "model_module_version": "2.6.9",
      "model_name": "ObjectModel",
      "state": {
       "_view_count": null,
       "_view_module": null,
       "_view_module_version": "",
       "_view_name": null,
       "colors": {
        "dtype": "uint32",
        "shape": [
         0
        ]
       },
       "compression_level": 0,
       "head_color": 255,
       "head_size": 1,
       "id": 4717604624,
       "label_size": 1,
       "labels": [],
       "line_width": 0.01,
       "model_matrix": {
        "dtype": "float32",
        "shape": [
         4,
         4
        ]
       },
       "name": null,
       "origin_color": 255,
       "origins": {
        "dtype": "float32",
        "shape": [
         20,
         3
        ]
       },
       "type": "Vectors",
       "use_head": true,
       "vectors": {
        "dtype": "float32",
        "shape": [
         20,
         3
        ]
       },
       "visible": true
      }
     },
     "ffce8ce9cdef428fabb9626ac2facc88": {
      "model_module": "@jupyter-widgets/output",
      "model_module_version": "1.0.0",
      "model_name": "OutputModel",
      "state": {
       "layout": "IPY_MODEL_0bee34b9e35649b9b6b4bbadde5ad6cc",
       "outputs": [
        {
         "data": {
          "application/vnd.jupyter.widget-view+json": {
           "model_id": "36dc3bca2d564306b189c53300e50a81",
           "version_major": 2,
           "version_minor": 0
          },
          "text/plain": "Plot(antialias=3, axes=['x', 'y', 'z'], background_color=16777215, camera=[4.5, 4.5, 4.5, 0.0, 0.0, 0.0, 1.0, …"
         },
         "metadata": {},
         "output_type": "display_data"
        }
       ]
      }
     }
    },
    "version_major": 2,
    "version_minor": 0
   }
  }
 },
 "nbformat": 4,
 "nbformat_minor": 2
}
