{
 "cells": [
  {
   "cell_type": "markdown",
   "metadata": {},
   "source": [
    "# Tutorial 10: Visualising the field using `k3d`\n",
    "\n",
    "> Interactive online tutorial:\n",
    "> [![Binder](https://mybinder.org/badge_logo.svg)](https://mybinder.org/v2/gh/ubermag/discretisedfield/master?filepath=docs%2Fipynb%2Findex.ipynb)\n",
    "\n",
    "**Note:** If you experience any problems in plotting with `k3d`, please make sure you run the Jupyter notebook in Google Chrome.\n",
    "\n",
    "There are two ways how a field can be visualised, using:\n",
    "- `matplotlib`\n",
    "- `k3d`\n",
    "\n",
    "`k3d` provides three-dimensional interactive plots of fields inside Jupyter notebook.\n",
    "\n",
    "Let us say we have a sample, which is an ellipsoid\n",
    "\n",
    "$$\\frac{x^2}{a^2} + \\frac{y^2}{b^2} + \\frac{z^2}{c^2} <= 1$$\n",
    "\n",
    "with $a=5\\,\\text{nm}$, $b=3\\,\\text{nm}$, and $c=2\\,\\text{nm}$. The space is discretised into cells with dimensions $(0.5\\,\\text{nm}, 0.5\\,\\text{nm}, 0.5\\,\\text{nm})$. The value of the field at $(x, y, z)$ point is $(-cy, cx, cz)$, with $c=10^{9}$. The norm of the field inside the cylinder is $10^{6}$.\n",
    "\n",
    "Let us first build that field."
   ]
  },
  {
   "cell_type": "code",
   "execution_count": 1,
   "metadata": {},
   "outputs": [],
   "source": [
    "import discretisedfield as df\n",
    "\n",
    "a, b, c = 5e-9, 3e-9, 2e-9\n",
    "cell = (0.5e-9, 0.5e-9, 0.5e-9)\n",
    "\n",
    "mesh =  df.Mesh(p1=(-a, -b, -c), p2=(a, b, c), cell=cell)\n",
    "\n",
    "def norm_fun(pos):\n",
    "    x, y, z = pos\n",
    "    if (x/a)**2 + (y/b)**2 + (z/c)**2 <= 1:\n",
    "        return 1e6\n",
    "    else:\n",
    "        return 0\n",
    "    \n",
    "def value_fun(pos):\n",
    "    x, y, z = pos\n",
    "    c = 1e9\n",
    "    return (-c*y, c*x, c*z)\n",
    "\n",
    "field = df.Field(mesh, value=value_fun, norm=norm_fun)"
   ]
  },
  {
   "cell_type": "markdown",
   "metadata": {},
   "source": [
    "The most basic plot we can show is the plot of all the cells where the value is non-zero. This can be useful, to inspect the domain created, by plotting the norm."
   ]
  },
  {
   "cell_type": "code",
   "execution_count": 2,
   "metadata": {},
   "outputs": [
    {
     "data": {
      "application/vnd.jupyter.widget-view+json": {
       "model_id": "cf4245846ee64becb41b73b8a923d95b",
       "version_major": 2,
       "version_minor": 0
      },
      "text/plain": [
       "Output()"
      ]
     },
     "metadata": {},
     "output_type": "display_data"
    }
   ],
   "source": [
    "# NBVAL_IGNORE_OUTPUT\n",
    "field.norm.k3d_nonzero()"
   ]
  },
  {
   "cell_type": "markdown",
   "metadata": {},
   "source": [
    "The plot is interactive, so it can be manipulated using a mouse. To change the color of voxels, we can pass the new color via `color` argument."
   ]
  },
  {
   "cell_type": "code",
   "execution_count": 3,
   "metadata": {},
   "outputs": [
    {
     "data": {
      "application/vnd.jupyter.widget-view+json": {
       "model_id": "7b2e666d12004c06a23d094183ee53bd",
       "version_major": 2,
       "version_minor": 0
      },
      "text/plain": [
       "Output()"
      ]
     },
     "metadata": {},
     "output_type": "display_data"
    }
   ],
   "source": [
    "# NBVAL_IGNORE_OUTPUT\n",
    "field.norm.k3d_nonzero(color=0x27ae60)"
   ]
  },
  {
   "cell_type": "markdown",
   "metadata": {},
   "source": [
    "Next, we can plot a scalar field. For plotting a scalar field, we are using `discretisedfield.Field.k3d_voxels()` method."
   ]
  },
  {
   "cell_type": "code",
   "execution_count": 4,
   "metadata": {},
   "outputs": [
    {
     "name": "stdout",
     "output_type": "stream",
     "text": [
      "Exception raised.\n"
     ]
    }
   ],
   "source": [
    "# NBVAL_IGNORE_OUTPUT\n",
    "try:\n",
    "    field.k3d_voxels()\n",
    "except ValueError:\n",
    "    print('Exception raised.')"
   ]
  },
  {
   "cell_type": "markdown",
   "metadata": {},
   "source": [
    "An exception was raised because we attempted to plot a vector field using voxels. Therefore, we first need to extract a component of the field. Let us plot the $x$ component."
   ]
  },
  {
   "cell_type": "code",
   "execution_count": 5,
   "metadata": {},
   "outputs": [
    {
     "data": {
      "application/vnd.jupyter.widget-view+json": {
       "model_id": "b26cb052e3874d30ae9760cd95a36252",
       "version_major": 2,
       "version_minor": 0
      },
      "text/plain": [
       "Output()"
      ]
     },
     "metadata": {},
     "output_type": "display_data"
    }
   ],
   "source": [
    "# NBVAL_IGNORE_OUTPUT\n",
    "field.x.k3d_voxels()"
   ]
  },
  {
   "cell_type": "markdown",
   "metadata": {},
   "source": [
    "However, we can see that the points which we consider to be outside the sample are also plotted. This is because, `discretisedfield.Field.k3d_voxels()` method cannot determine the points where norm is zero from the passed scalar field. Therefore, we need to pass the `norm_field.`"
   ]
  },
  {
   "cell_type": "code",
   "execution_count": 6,
   "metadata": {},
   "outputs": [
    {
     "data": {
      "application/vnd.jupyter.widget-view+json": {
       "model_id": "60f7c77681bd4a9383bb73d36956a505",
       "version_major": 2,
       "version_minor": 0
      },
      "text/plain": [
       "Output()"
      ]
     },
     "metadata": {},
     "output_type": "display_data"
    }
   ],
   "source": [
    "# NBVAL_IGNORE_OUTPUT\n",
    "field.x.k3d_voxels(norm_field=field.norm)"
   ]
  },
  {
   "cell_type": "markdown",
   "metadata": {},
   "source": [
    "By cascading operations, we can similarly plot the slice of the ellipsoid at $z=0$."
   ]
  },
  {
   "cell_type": "code",
   "execution_count": 7,
   "metadata": {},
   "outputs": [
    {
     "data": {
      "application/vnd.jupyter.widget-view+json": {
       "model_id": "a0eb4187fa7c4f8da3d327ac4dd2f0ed",
       "version_major": 2,
       "version_minor": 0
      },
      "text/plain": [
       "Output()"
      ]
     },
     "metadata": {},
     "output_type": "display_data"
    }
   ],
   "source": [
    "# NBVAL_IGNORE_OUTPUT\n",
    "field.x.plane(z=0).k3d_voxels(norm_field=field.norm)"
   ]
  },
  {
   "cell_type": "markdown",
   "metadata": {},
   "source": [
    "To further modify the plot, keyword arguments for `k3d.voxels()` function are accepted. Plese refer to its [documentation](https://k3d-jupyter.readthedocs.io/en/latest/k3d.html#k3d.k3d.voxels).\n",
    "\n",
    "Next, we can plot the vector field itself."
   ]
  },
  {
   "cell_type": "code",
   "execution_count": 8,
   "metadata": {},
   "outputs": [
    {
     "data": {
      "application/vnd.jupyter.widget-view+json": {
       "model_id": "56d6ceebef2d43b3aab626f232eeb12d",
       "version_major": 2,
       "version_minor": 0
      },
      "text/plain": [
       "Output()"
      ]
     },
     "metadata": {},
     "output_type": "display_data"
    }
   ],
   "source": [
    "# NBVAL_IGNORE_OUTPUT\n",
    "field.k3d_vectors()"
   ]
  },
  {
   "cell_type": "markdown",
   "metadata": {},
   "source": [
    "By default, points at the discretisation cell centres are plotted together with vectors to help understand the structure of the field. However, they can be deactivated by passing `points=False`."
   ]
  },
  {
   "cell_type": "code",
   "execution_count": 9,
   "metadata": {},
   "outputs": [
    {
     "data": {
      "application/vnd.jupyter.widget-view+json": {
       "model_id": "98661d6ad3584a8aa2391ed279e9c8b9",
       "version_major": 2,
       "version_minor": 0
      },
      "text/plain": [
       "Output()"
      ]
     },
     "metadata": {},
     "output_type": "display_data"
    }
   ],
   "source": [
    "# NBVAL_IGNORE_OUTPUT\n",
    "field.k3d_vectors(points=False)"
   ]
  },
  {
   "cell_type": "markdown",
   "metadata": {},
   "source": [
    "It is difficult to understand the vector field from this plot. By cascading, we can plot its slice at $x=0$."
   ]
  },
  {
   "cell_type": "code",
   "execution_count": 10,
   "metadata": {},
   "outputs": [
    {
     "data": {
      "application/vnd.jupyter.widget-view+json": {
       "model_id": "b22364e75cf0431284829c7cb5c25dbc",
       "version_major": 2,
       "version_minor": 0
      },
      "text/plain": [
       "Output()"
      ]
     },
     "metadata": {},
     "output_type": "display_data"
    }
   ],
   "source": [
    "# NBVAL_IGNORE_OUTPUT\n",
    "field.plane(x=0).k3d_vectors()"
   ]
  },
  {
   "cell_type": "markdown",
   "metadata": {},
   "source": [
    "To improve the understanding of the plot, we can now colour the vectors plotted. For that, we need to pass a scalar field, according to which the vectors will be coloured."
   ]
  },
  {
   "cell_type": "code",
   "execution_count": 11,
   "metadata": {},
   "outputs": [
    {
     "data": {
      "application/vnd.jupyter.widget-view+json": {
       "model_id": "5765a4c233944cf8987dd0c5c0557d93",
       "version_major": 2,
       "version_minor": 0
      },
      "text/plain": [
       "Output()"
      ]
     },
     "metadata": {},
     "output_type": "display_data"
    }
   ],
   "source": [
    "# NBVAL_IGNORE_OUTPUT\n",
    "field.plane(x=0).k3d_vectors(color_field=field.x)"
   ]
  },
  {
   "cell_type": "markdown",
   "metadata": {},
   "source": [
    "To further modify the plot, keyword arguments for `k3d.vectors()` function are accepted. Plese refer to its [documentation](https://k3d-jupyter.readthedocs.io/en/latest/k3d.html#k3d.k3d.vectors).\n",
    "\n",
    "### Multiple visualisation on the same plot\n",
    "\n",
    "Sometimes, it is necessary to show, for example, multiple planes of the sample on the same plot. This can be done by exposing the `k3d.plot` and passing it to different plotting methods. For instance."
   ]
  },
  {
   "cell_type": "code",
   "execution_count": 12,
   "metadata": {},
   "outputs": [
    {
     "data": {
      "application/vnd.jupyter.widget-view+json": {
       "model_id": "5c7ad61d964b4922a6e73bbd61ee9d65",
       "version_major": 2,
       "version_minor": 0
      },
      "text/plain": [
       "Output()"
      ]
     },
     "metadata": {},
     "output_type": "display_data"
    }
   ],
   "source": [
    "# NBVAL_IGNORE_OUTPUT\n",
    "import k3d\n",
    "plot = k3d.plot()\n",
    "field.plane(x=-3e-9).k3d_vectors(plot=plot, color_field=field.z)\n",
    "field.plane(x=0).k3d_vectors(plot=plot, color_field=field.z)\n",
    "field.plane(x=3e-9).k3d_vectors(plot=plot, color_field=field.z)\n",
    "plot.display()"
   ]
  },
  {
   "cell_type": "markdown",
   "metadata": {},
   "source": [
    "### Plotting regions in the mesh\n",
    "\n",
    "As explained in [Defining regions tutorial](03-tutorial-defining-regions.ipynb), different regions can be defined in the mesh. Sometimes it is necessary to visualise those regions in order to make sure they are defined properly."
   ]
  },
  {
   "cell_type": "code",
   "execution_count": 13,
   "metadata": {},
   "outputs": [
    {
     "data": {
      "application/vnd.jupyter.widget-view+json": {
       "model_id": "9aef82fb0dc748a79222521b8f0a070f",
       "version_major": 2,
       "version_minor": 0
      },
      "text/plain": [
       "Output()"
      ]
     },
     "metadata": {},
     "output_type": "display_data"
    }
   ],
   "source": [
    "# NBVAL_IGNORE_OUTPUT\n",
    "p1 = (0, 0, 0)\n",
    "p2 = (50, 50, 10)\n",
    "cell = (5, 5, 5)\n",
    "mesh = df.Mesh(p1=p1, p2=p2, cell=cell)\n",
    "\n",
    "region1 = df.Region(p1=(0, 0, 0), p2=(50, 50, 5))\n",
    "region2 = df.Region(p1=(0, 0, 5), p2=(50, 50, 10))\n",
    "\n",
    "mesh.subregions = {'region_with_interesting_properties': region1, 'region_with_funny_properties': region2}\n",
    "\n",
    "mesh.k3d_subregions()"
   ]
  },
  {
   "cell_type": "markdown",
   "metadata": {},
   "source": [
    "## Other\n",
    "\n",
    "Full description of all existing functionality can be found in the [API Reference](https://discretisedfield.readthedocs.io/en/latest/api-reference.html)."
   ]
  }
 ],
 "metadata": {
  "kernelspec": {
   "display_name": "Python 3",
   "language": "python",
   "name": "python3"
  },
  "language_info": {
   "codemirror_mode": {
    "name": "ipython",
    "version": 3
   },
   "file_extension": ".py",
   "mimetype": "text/x-python",
   "name": "python",
   "nbconvert_exporter": "python",
   "pygments_lexer": "ipython3",
   "version": "3.8.1"
  },
  "widgets": {
   "application/vnd.jupyter.widget-state+json": {
    "state": {
     "02023d5d35ec46558bb937c9b9bb3895": {
      "model_module": "@jupyter-widgets/base",
      "model_module_version": "1.2.0",
      "model_name": "LayoutModel",
      "state": {}
     },
     "0488f6e48acd4f65b31a70eb2fd9f347": {
      "buffers": [
       {
        "data": "eNpLWKfOAAAD3AE2",
        "encoding": "base64",
        "path": [
         "color_map",
         "compressed_buffer"
        ]
       },
       {
        "data": "eNpjYFBwZMAABxwwxRqwidkDAFK8AuE=",
        "encoding": "base64",
        "path": [
         "model_matrix",
         "compressed_buffer"
        ]
       },
       {
        "data": "eNrllUEOACEMAjv//7R7XQGj0Vs5TqItWLXqXnxSMlFQ6Jhba2u8l9TQ/vgpMlDo2O5+KauDXNIRLb2ZnkHhDdvPJWYg3mo1aj7m5I3HOsigXAT+fnTz222eG75XTf6jAc5KA/E=",
        "encoding": "base64",
        "path": [
         "voxels",
         "compressed_buffer"
        ]
       }
      ],
      "model_module": "k3d",
      "model_module_version": "2.7.2",
      "model_name": "ObjectModel",
      "state": {
       "_view_count": null,
       "_view_module": null,
       "_view_module_version": "",
       "_view_name": null,
       "color_map": {
        "dtype": "uint32",
        "shape": []
       },
       "compression_level": 0,
       "id": 140549144790688,
       "model_matrix": {
        "dtype": "float32",
        "shape": [
         4,
         4
        ]
       },
       "name": "Voxels #1",
       "opacity": 1,
       "outlines": false,
       "outlines_color": 0,
       "type": "Voxels",
       "visible": true,
       "voxels": {
        "dtype": "uint8",
        "shape": [
         8,
         12,
         20
        ]
       },
       "wireframe": false
      }
     },
     "0847d78dd4bf4ecb819e60659b3d2721": {
      "model_module": "@jupyter-widgets/base",
      "model_module_version": "1.2.0",
      "model_name": "LayoutModel",
      "state": {}
     },
     "09318a05d3ef4a63be4dc85728324fc0": {
      "buffers": [
       {
        "data": "eNq7PcOEAQAFoAGo",
        "encoding": "base64",
        "path": [
         "color_map",
         "compressed_buffer"
        ]
       },
       {
        "data": "eNpjYFBwZMAABxwwxRqwidkDAFK8AuE=",
        "encoding": "base64",
        "path": [
         "model_matrix",
         "compressed_buffer"
        ]
       },
       {
        "data": "eNrllUEOACEMAjv//7R7XQGj0Vs5TqItWLXqXnxSMlFQ6Jhba2u8l9TQ/vgpMlDo2O5+KauDXNIRLb2ZnkHhDdvPJWYg3mo1aj7m5I3HOsigXAT+fnTz222eG75XTf6jAc5KA/E=",
        "encoding": "base64",
        "path": [
         "voxels",
         "compressed_buffer"
        ]
       }
      ],
      "model_module": "k3d",
      "model_module_version": "2.7.2",
      "model_name": "ObjectModel",
      "state": {
       "_view_count": null,
       "_view_module": null,
       "_view_module_version": "",
       "_view_name": null,
       "color_map": {
        "dtype": "uint32",
        "shape": []
       },
       "compression_level": 0,
       "id": 140549990078880,
       "model_matrix": {
        "dtype": "float32",
        "shape": [
         4,
         4
        ]
       },
       "name": "Voxels #1",
       "opacity": 1,
       "outlines": false,
       "outlines_color": 0,
       "type": "Voxels",
       "visible": true,
       "voxels": {
        "dtype": "uint8",
        "shape": [
         8,
         12,
         20
        ]
       },
       "wireframe": false
      }
     },
     "0b8a53d1daa7455591104f3d21b62cc1": {
      "model_module": "k3d",
      "model_module_version": "2.7.2",
      "model_name": "PlotModel",
      "state": {
       "_backend_version": "2.7.2",
       "_dom_classes": [],
       "_view_count": null,
       "antialias": 3,
       "auto_rendering": true,
       "axes": [
        "x",
        "y",
        "z"
       ],
       "axes_helper": 1,
       "background_color": 16777215,
       "camera": [
        10.284874878907916,
        -15.489812315567907,
        1.0059874815950491,
        -0.02499999664723873,
        -0.02500000223517418,
        -0.025000005960464478,
        0,
        0,
        1
       ],
       "camera_auto_fit": true,
       "camera_fov": 60,
       "camera_no_pan": false,
       "camera_no_rotate": false,
       "camera_no_zoom": false,
       "clipping_planes": [],
       "colorbar_object_id": -1,
       "fps": 25,
       "fps_meter": false,
       "grid": [
        -1,
        -1,
        -1,
        1,
        1,
        1
       ],
       "grid_auto_fit": true,
       "grid_visible": true,
       "height": 512,
       "layout": "IPY_MODEL_42911eb7b21141fc862716310ba96379",
       "lighting": 1.5,
       "menu_visibility": true,
       "mode": "view",
       "name": null,
       "object_ids": [
        140549144791552
       ],
       "rendering_steps": 1,
       "screenshot": "",
       "screenshot_scale": 2,
       "snapshot": "",
       "time": 0,
       "voxel_paint_color": 0
      }
     },
     "100722ec5aea49eea825240e40a7cc18": {
      "model_module": "k3d",
      "model_module_version": "2.7.2",
      "model_name": "PlotModel",
      "state": {
       "_backend_version": "2.7.2",
       "_dom_classes": [],
       "_view_count": null,
       "antialias": 3,
       "auto_rendering": true,
       "axes": [
        "x",
        "y",
        "z"
       ],
       "axes_helper": 1,
       "background_color": 16777215,
       "camera": [
        10.284874878907916,
        -15.489812315567907,
        1.0059874815950491,
        -0.02499999664723873,
        -0.02500000223517418,
        -0.025000005960464478,
        0,
        0,
        1
       ],
       "camera_auto_fit": true,
       "camera_fov": 60,
       "camera_no_pan": false,
       "camera_no_rotate": false,
       "camera_no_zoom": false,
       "clipping_planes": [],
       "colorbar_object_id": -1,
       "fps": 25,
       "fps_meter": false,
       "grid": [
        -1,
        -1,
        -1,
        1,
        1,
        1
       ],
       "grid_auto_fit": true,
       "grid_visible": true,
       "height": 512,
       "layout": "IPY_MODEL_a90a3ad941ba4d6097097dc260e47670",
       "lighting": 1.5,
       "menu_visibility": true,
       "mode": "view",
       "name": null,
       "object_ids": [
        140549990077296
       ],
       "rendering_steps": 1,
       "screenshot": "",
       "screenshot_scale": 2,
       "snapshot": "",
       "time": 0,
       "voxel_paint_color": 0
      }
     },
     "15eed7a53f654513a9bd3d26f753da82": {
      "buffers": [
       {
        "data": "eNqL43ZjiAPiSFZXMA5hdEHBMPE4qLpOLzsw7nBzAON2J0cwbnNwQsEwcZg6mL6+Kk0IrtCC4HICGKYOqq91uRIYN69UhuBVKvgxVB1MX8S5PDAOvlgOxn6X68HY+0oLCoaJw9TB9Mk8fQ/Gis9+gLHq878oGCYOUwcApvNyEQ==",
        "encoding": "base64",
        "path": [
         "colors",
         "compressed_buffer"
        ]
       },
       {
        "data": "eNpjYGiwZ8AAxIsBAF7EAv0=",
        "encoding": "base64",
        "path": [
         "model_matrix",
         "compressed_buffer"
        ]
       },
       {
        "data": "eNpNkTFIQmEUhaEk7FFkadTg0FZQo0L1eP+5PCwwHNqsIQoC28RsDKKgwZaGBqUICoKgpSXQpf47imBTS1tREg4WDvkwKsh/6m5nOPfj8p3kpU3+syJfJwrcjjv0+JvmIy/PXhDk1p50oZxnq0HUTu86JvuLLk10DcJ0rpZj1F47gLk99s3S0LTHtzrK8W2bGjslfhmPcm3KofdWhg9vInzRC6oP1/T5VoRXPKK7xVXH5PCDS0FrAKZT2o9RaC8Hc7vxPUcf5QoM87k+0/nT44VQVlfXbQp8lXgJm7oedujTyvLkSUY3u0Gp1Jv2IaMDP0T31YRj8uirS32tfphO5DRGzZ4czO3YyHzn/woMU/CV4CvBV4KvBF8JvhJ8JfhK+IHwA+EHwg+EHwg/EH4g/CD5vyPEjhA7QuwIsSPEjvgDj3fwiQ==",
        "encoding": "base64",
        "path": [
         "origins",
         "compressed_buffer"
        ]
       },
       {
        "data": "eNpNkbFKA0EURXu3MGDq+QHrLYT3bjBfkB8Qi7T+gZUg6awCfoGthRBCYGfHBBG3WAsrOwtT2GjrWmyRecIjt5oLc9+ZN/eGssDp3wKhLNLn1b2edxW+bgfp8uBbrptH3MyOTEfX2VO7x2Z89udihPn6ASfDuzrfwTzmDS8LXb4/IZ/15OxX3o4b9M8r09G13bnHuD6bmcmZ3Xb8v+e0+oh5D9g+tleeV+MYb3PYy2vbIp+mo2t7wz32B5/NzORM4gvxhfhCfCG+EF+IL8QXykcpH6V8lPJRykcpH6V8lPLRsO8R1COoR1CPoB5BPWIHWhgaHA==",
        "encoding": "base64",
        "path": [
         "vectors",
         "compressed_buffer"
        ]
       }
      ],
      "model_module": "k3d",
      "model_module_version": "2.7.2",
      "model_name": "ObjectModel",
      "state": {
       "_view_count": null,
       "_view_module": null,
       "_view_module_version": "",
       "_view_name": null,
       "colors": {
        "dtype": "uint32",
        "shape": [
         44,
         2
        ]
       },
       "compression_level": 0,
       "head_color": 255,
       "head_size": 1,
       "id": 140549144821616,
       "label_size": 1,
       "labels": [],
       "line_width": 0.01,
       "model_matrix": {
        "dtype": "float32",
        "shape": [
         4,
         4
        ]
       },
       "name": "Vectors #3",
       "origin_color": 255,
       "origins": {
        "dtype": "float32",
        "shape": [
         44,
         3
        ]
       },
       "type": "Vectors",
       "use_head": true,
       "vectors": {
        "dtype": "float32",
        "shape": [
         44,
         3
        ]
       },
       "visible": true
      }
     },
     "160153e10ac9449e9865a8e49476d96c": {
      "buffers": [
       {
        "data": "eNpL5HNnSATiSFZXMA5hdEHBMPFEqLouHzsw7nBzAOM2RycwbrVHxTBxmDqYvr4aDQiu0oTgCi0ILofiMjQME4epg+mDmtO6VBGClyuBcfNKZQhepQLGTatVUTBMHKYOpg9mTtTZHDAOvlgOxr6XG8HY82obCoaJw9TB9Ek9fQXGis9+gLHq878oGCYOUwcAvo58CQ==",
        "encoding": "base64",
        "path": [
         "colors",
         "compressed_buffer"
        ]
       },
       {
        "data": "eNpjYGiwZ8AAxIsBAF7EAv0=",
        "encoding": "base64",
        "path": [
         "model_matrix",
         "compressed_buffer"
        ]
       },
       {
        "data": "eNpNkT1IglEUhhVCECmaKoiIkBDKIPgS4xPv+cxEkzKiaBEqLIlaAwtrCUlosqHJrRD6p3Bz8N5Tfm794iJUCFHiGLhF9HMnz/YO5z0PPG9c+DH6tCks23vC+DaK3uInn86lxPOZB83pDvfaWEr0zjA82DWDzL9dLry8T4C8SWrDGGq/AdntTAexfsEFlAbErDWAh5EN8bNuF982H65ijbcs9AtX0YOFyJxbve4TRZWhvdoMMjeVVaw+7IC8OX1x/v8vgOx+RB1oOjFo8ufd7TiawgbcZyu8Ug5itpYXlaFl7g8HcD4WE1MjUZ6d9OGx8s4nzhd5vuTBV2vCPahHuNfOcGupFWQOXanYVk+CvMllnPio6yC7PTYHHlmMmvypKAp+Zbo1ySJcRriMcBnhMsJlhMsIlxEuI1xGuIz4BOITiE8gPoH4BOITiE8gPiHe2B3I7kB2B7I7kN2B7A5/NdwSYA==",
        "encoding": "base64",
        "path": [
         "origins",
         "compressed_buffer"
        ]
       },
       {
        "data": "eNpNkaFLBGEQxZMgaxA5waDBcMUqnsLBPLWIYcF04IULXjjQP8CLwoFxq1gMBoPBJrZvvmpY/wXzFdmmYPFmFgZf+h7szPvNvlc2UxyMlnPZTHX9aAupv5onvZlefw3kuNPJV6+3rlNom9GY8Z3YfXt8xt7pUi4ma2rfWh+frf66uDvcyPbq/cNYzuvNvPu94zqF9m8x476xa54anh91jaezX71Y2U/z6qW9uRieJLsJfpvfaF5wT/e++byUn/ftbK/rFNp5MeP/E7vmqeFpLA0WcYW4QlwhrhBXiCvEFeIKcYW4QnmC8gTlCcoTlCcoT1CeoDxR/vcO6h3UO6h3UO+g3rEA8LILMA==",
        "encoding": "base64",
        "path": [
         "vectors",
         "compressed_buffer"
        ]
       }
      ],
      "model_module": "k3d",
      "model_module_version": "2.7.2",
      "model_name": "ObjectModel",
      "state": {
       "_view_count": null,
       "_view_module": null,
       "_view_module_version": "",
       "_view_name": null,
       "colors": {
        "dtype": "uint32",
        "shape": [
         48,
         2
        ]
       },
       "compression_level": 0,
       "head_color": 255,
       "head_size": 1,
       "id": 140549144820368,
       "label_size": 1,
       "labels": [],
       "line_width": 0.01,
       "model_matrix": {
        "dtype": "float32",
        "shape": [
         4,
         4
        ]
       },
       "name": "Vectors #1",
       "origin_color": 255,
       "origins": {
        "dtype": "float32",
        "shape": [
         48,
         3
        ]
       },
       "type": "Vectors",
       "use_head": true,
       "vectors": {
        "dtype": "float32",
        "shape": [
         48,
         3
        ]
       },
       "visible": true
      }
     },
     "187db35dd5b54e44a6c4ef341e839faa": {
      "model_module": "@jupyter-widgets/base",
      "model_module_version": "1.2.0",
      "model_name": "LayoutModel",
      "state": {}
     },
     "1f1ff5cd4c3a435197f5e60a8bca1675": {
      "model_module": "@jupyter-widgets/base",
      "model_module_version": "1.2.0",
      "model_name": "LayoutModel",
      "state": {}
     },
     "25ac824990294f049061f4d8dcafefb9": {
      "buffers": [
       {
        "data": "eNot0vlP1gUcwPF3rVar1Wq14vR5Hh4eBOSSQy45fZ7v96spoRIiIqJAHCKH3Pf9cD7fLLMss8yyzLLM0sy01KJIo1BDEQUEfWBrba2ttbbW1sfVD6//4JV2l5X0u62su8fG+nttZN6nkHW/wsYHFLIfVMh5SGXzwyq5j6jkPaqS/5hKweMahU9oFD2pUeyiUeKmsc1do9RDo8xTo9ygUWHUqDRpVJk1qr01aiwatT4adb4a9X4aDf4qDQEqjYEqTUEqzcEqLSEKLaEKrWEKbeEK7RE22iNtdETZ6Iy20hljpStWxC2jO14kJGNPFEnJ9CQn0WNNoteWSK8i1AT6NLE8nr4V8fSvFKvi6E8RTy9lIFWsjmVgjVgbw2CaeCaawXSREcXgepEZiWODyFqCY6PIjsCxSeSE49gstoThyA1DzwtFzxfPLkYvEIWiKAS9WGwNRi8R24LQS0WZKA9Er7gjAH27qBRVi9CrRY0/eq2oE/V+6A2iUTT5ojeLloXoraJNtPugd/yv04LeJbqF3Ru9R/Sa0fvMOPrFgBeOQeEQugnHc2KHicHnxQvG/+wULxoY2CVeEi+L3Qb6XxGvij0L6HtN7BWvG+h9Q+wTbxrouWO/AftbRuxvG+k+YKL7HfGuF10Hveh8z0znIW863rfQ8YGF9sM+YiFtH/rS+pEfrUf8afk4gOajgTR9EkTTp8E0HltMw/FQ6o+HU/9ZBHUnIqn9PIqakzFUfxFL1ak4Kk8lsP10IhVfJlP+lZWyMwqlZ+Xj2RWUnFvJ1q9TKP4mlaKhNRQOpVHwbTr532WQN5xJ7nAWW77PJud8Dpsu5JJ9IZ+sHwrYMFJE5kgJGT+Wsu6nctJHK0kbrWbtxVpWX2wg9VITKZdbWXW5nad+7mL5mB1trA/lygC2KzrLru4g6epOEsd3ET++m6XX9hB7bS/RE/uInNjPkusHCL9+kNAbhwi5cZjgySMETh5l0dQx/KZO4Dt1Ep/p01imz2CePofp5hDGm8MYZs7jOTOCx8wo7rOXcJsdw3V2HNdbE7jcmhTTuNyexfW2U8zj5vwFd+eveDh/w9P5Owvm/sA49yemub8wz/+NZf4f/gXLh0p6",
        "encoding": "base64",
        "path": [
         "color_map",
         "compressed_buffer"
        ]
       },
       {
        "data": "eNpjYFBwZMAABxwwxRjsMYUa7AFHpwJg",
        "encoding": "base64",
        "path": [
         "model_matrix",
         "compressed_buffer"
        ]
       },
       {
        "data": "eNpjYACBN19+////+8sbBji4eOvp+5///v18//TWRYjItr1Hz916/vXfv6/Pb507uncbUGjJinVb95269eb37ze3Tu3bum7FEoYp02bOXbRi08EbX77cOLhpxaK5M6dNae/o6OrpmzRz+alTy2dO6uvp6uhor6yoKCspykuPNDOLTM8rKimrqKjMyUpPjovws9fg4dGw94uIS07PymGIiQjydjJTE2FlFVEzc/IOiogBWuzlbG2kJsnNxMQtqWZk7ewFcaG+mrQgOxMTu6C0mj7CJyI8rIyMrDwiEB4A19heAQ==",
        "encoding": "base64",
        "path": [
         "voxels",
         "compressed_buffer"
        ]
       }
      ],
      "model_module": "k3d",
      "model_module_version": "2.7.2",
      "model_name": "ObjectModel",
      "state": {
       "_view_count": null,
       "_view_module": null,
       "_view_module_version": "",
       "_view_name": null,
       "color_map": {
        "dtype": "uint32",
        "shape": [
         256
        ]
       },
       "compression_level": 0,
       "id": 140549144942528,
       "model_matrix": {
        "dtype": "float32",
        "shape": [
         4,
         4
        ]
       },
       "name": "Voxels #1",
       "opacity": 1,
       "outlines": false,
       "outlines_color": 0,
       "type": "Voxels",
       "visible": true,
       "voxels": {
        "dtype": "uint8",
        "shape": [
         1,
         12,
         20
        ]
       },
       "wireframe": false
      }
     },
     "2a498fdb8e174c88b2ca8dade165687e": {
      "model_module": "@jupyter-widgets/base",
      "model_module_version": "1.2.0",
      "model_name": "LayoutModel",
      "state": {}
     },
     "2af97dca20e74f7bb9e381547f27ec77": {
      "model_module": "k3d",
      "model_module_version": "2.7.2",
      "model_name": "PlotModel",
      "state": {
       "_backend_version": "2.7.2",
       "_dom_classes": [],
       "_view_count": null,
       "antialias": 3,
       "auto_rendering": true,
       "axes": [
        "x",
        "y",
        "z"
       ],
       "axes_helper": 1,
       "background_color": 16777215,
       "camera": [
        7.659127774547247,
        -11.567320619092447,
        0.771154707939495,
        -0.052419304847717285,
        0,
        0,
        0,
        0,
        1
       ],
       "camera_auto_fit": true,
       "camera_fov": 60,
       "camera_no_pan": false,
       "camera_no_rotate": false,
       "camera_no_zoom": false,
       "clipping_planes": [],
       "colorbar_object_id": -1,
       "fps": 25,
       "fps_meter": false,
       "grid": [
        -1,
        -1,
        -1,
        1,
        1,
        1
       ],
       "grid_auto_fit": true,
       "grid_visible": true,
       "height": 512,
       "layout": "IPY_MODEL_dce735a803ab455ab3207ef3e9e05604",
       "lighting": 1.5,
       "menu_visibility": true,
       "mode": "view",
       "name": null,
       "object_ids": [
        140549144820368,
        140549990820064,
        140549144499296,
        140549144959008,
        140549144821616,
        140549144818064
       ],
       "rendering_steps": 1,
       "screenshot": "",
       "screenshot_scale": 2,
       "snapshot": "",
       "time": 0,
       "voxel_paint_color": 0
      }
     },
     "2b714cb1cfd54c4da2c96e1dbebaf743": {
      "buffers": [
       {
        "data": "eNoDAAAAAAE=",
        "encoding": "base64",
        "path": [
         "colors",
         "compressed_buffer"
        ]
       },
       {
        "data": "eNpjYGiwZ8AAxIsBAF7EAv0=",
        "encoding": "base64",
        "path": [
         "model_matrix",
         "compressed_buffer"
        ]
       },
       {
        "data": "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",
        "encoding": "base64",
        "path": [
         "positions",
         "compressed_buffer"
        ]
       }
      ],
      "model_module": "k3d",
      "model_module_version": "2.7.2",
      "model_name": "ObjectModel",
      "state": {
       "_view_count": null,
       "_view_module": null,
       "_view_module_version": "",
       "_view_name": null,
       "color": 10075135,
       "colors": {
        "dtype": "uint32",
        "shape": [
         0
        ]
       },
       "compression_level": 0,
       "id": 140549990094784,
       "mesh_detail": 2,
       "model_matrix": {
        "dtype": "float32",
        "shape": [
         4,
         4
        ]
       },
       "name": "Points #1",
       "opacity": 1,
       "point_size": 0.1,
       "positions": {
        "dtype": "float32",
        "shape": [
         1008,
         3
        ]
       },
       "shader": "3dSpecular",
       "type": "Points",
       "visible": true
      }
     },
     "2fba600aa9834ce89353ea2c2430d257": {
      "model_module": "k3d",
      "model_module_version": "2.7.2",
      "model_name": "PlotModel",
      "state": {
       "_backend_version": "2.7.2",
       "_dom_classes": [],
       "_view_count": null,
       "antialias": 3,
       "auto_rendering": true,
       "axes": [
        "x",
        "y",
        "z"
       ],
       "axes_helper": 1,
       "background_color": 16777215,
       "camera": [
        5.676886823516349,
        -8.515330235274524,
        0.5676886823516339,
        0,
        0,
        0,
        0,
        0,
        1
       ],
       "camera_auto_fit": true,
       "camera_fov": 60,
       "camera_no_pan": false,
       "camera_no_rotate": false,
       "camera_no_zoom": false,
       "clipping_planes": [],
       "colorbar_object_id": -1,
       "fps": 25,
       "fps_meter": false,
       "grid": [
        -1,
        -1,
        -1,
        1,
        1,
        1
       ],
       "grid_auto_fit": true,
       "grid_visible": true,
       "height": 512,
       "layout": "IPY_MODEL_6ce74ad48755419992faa0ac51550a5d",
       "lighting": 1.5,
       "menu_visibility": true,
       "mode": "view",
       "name": null,
       "object_ids": [
        140549990821120,
        140549144958000
       ],
       "rendering_steps": 1,
       "screenshot": "",
       "screenshot_scale": 2,
       "snapshot": "",
       "time": 0,
       "voxel_paint_color": 0
      }
     },
     "31700d5b1f2040b3bfa9fed2142d377b": {
      "model_module": "@jupyter-widgets/base",
      "model_module_version": "1.2.0",
      "model_name": "LayoutModel",
      "state": {}
     },
     "415e65c0d9734668b946ff744ab62314": {
      "buffers": [
       {
        "data": "eNot0vlP1gUcwPF3rVar1Wq14vR5Hh4eBOSSQy45fZ7v96spoRIiIqJAHCKH3Pf9cD7fLLMss8yyzLLM0sy01KJIo1BDEQUEfWBrba2ttbbW1sfVD6//4JV2l5X0u62su8fG+nttZN6nkHW/wsYHFLIfVMh5SGXzwyq5j6jkPaqS/5hKweMahU9oFD2pUeyiUeKmsc1do9RDo8xTo9ygUWHUqDRpVJk1qr01aiwatT4adb4a9X4aDf4qDQEqjYEqTUEqzcEqLSEKLaEKrWEKbeEK7RE22iNtdETZ6Iy20hljpStWxC2jO14kJGNPFEnJ9CQn0WNNoteWSK8i1AT6NLE8nr4V8fSvFKvi6E8RTy9lIFWsjmVgjVgbw2CaeCaawXSREcXgepEZiWODyFqCY6PIjsCxSeSE49gstoThyA1DzwtFzxfPLkYvEIWiKAS9WGwNRi8R24LQS0WZKA9Er7gjAH27qBRVi9CrRY0/eq2oE/V+6A2iUTT5ojeLloXoraJNtPugd/yv04LeJbqF3Ru9R/Sa0fvMOPrFgBeOQeEQugnHc2KHicHnxQvG/+wULxoY2CVeEi+L3Qb6XxGvij0L6HtN7BWvG+h9Q+wTbxrouWO/AftbRuxvG+k+YKL7HfGuF10Hveh8z0znIW863rfQ8YGF9sM+YiFtH/rS+pEfrUf8afk4gOajgTR9EkTTp8E0HltMw/FQ6o+HU/9ZBHUnIqn9PIqakzFUfxFL1ak4Kk8lsP10IhVfJlP+lZWyMwqlZ+Xj2RWUnFvJ1q9TKP4mlaKhNRQOpVHwbTr532WQN5xJ7nAWW77PJud8Dpsu5JJ9IZ+sHwrYMFJE5kgJGT+Wsu6nctJHK0kbrWbtxVpWX2wg9VITKZdbWXW5nad+7mL5mB1trA/lygC2KzrLru4g6epOEsd3ET++m6XX9hB7bS/RE/uInNjPkusHCL9+kNAbhwi5cZjgySMETh5l0dQx/KZO4Dt1Ep/p01imz2CePofp5hDGm8MYZs7jOTOCx8wo7rOXcJsdw3V2HNdbE7jcmhTTuNyexfW2U8zj5vwFd+eveDh/w9P5Owvm/sA49yemub8wz/+NZf4f/gXLh0p6",
        "encoding": "base64",
        "path": [
         "color_map",
         "compressed_buffer"
        ]
       },
       {
        "data": "eNpjYFBwZMAABxwwxRqwidkDAFK8AuE=",
        "encoding": "base64",
        "path": [
         "model_matrix",
         "compressed_buffer"
        ]
       },
       {
        "data": "eNrl1U1IKlEUB3ASxIVuDF1IMMvBFiJEDGGEUQlRNGGRKEkRFgNDKOZH4252Tn4kSgwMJVEYDkZJRhFYkUQSQwTiomGWA+FCyY0uRLDnU8R8qwePt/Lu7o/LOecPl3tx/N9XlmGyvXKWSKZSycTZD/IHQ+FIJBwK+rvmcthtVqvN7nD9OLhq0MOw3rDaW1EDQRr8P69iuVzsgdccxxcKPJd77cj51d0Tk+e4PPN0d3XetsPjWCKVzmTSqUTs+LBFxJ4/EIqQFEVGQgH/HvHbsF2X025FEQS12p2uXax1cGvDbIB1Wq0ONpg3ttr1VhZnJyEVCKqgydnFlU7nMTUIKBQAqB7rGVEulcr/Kly93rtn+WKlVqsUebYj6ee3D/6rWv3iP96e0y2iL67vs3m+VOLz2fvrC7pJJHV0Ek+mGZZl0sn4yRFF4riX8PmDYTIaj0fJcNDvI7w47sHcLocNtZhMFtTmcLkxD46jyOa6Sa+DlEpIpzetbyJos6BxeWFGowJkMkClmVlYNrYa6yZGh4FBsXgQGB6d0HUmVAJyiUgkkQPK3ixC4R9hS5X693e9UupKjvss1xqNWvmTy7Xl9uHlnStUG41qgXt/ebhtUoy+vHlkuFK9XuKYx5tLOoYfkFT0lE5l2EqFzaTo0yhFHngJwhfYj1BxholTkf2AjyC8HgxzO3esiAmCTIh1x+nGMM82iljWjLBWKZEotbBxzYKg27jZuDQ/BYEyoVAGQlPzS0Zzs/Hc9PgIqBALBGIFODI+PdeeUA0OSUUCgUg6BKq7SWQS4cCAUCLr57z9dp/78L3qk//oF5tnwC4=",
        "encoding": "base64",
        "path": [
         "voxels",
         "compressed_buffer"
        ]
       }
      ],
      "model_module": "k3d",
      "model_module_version": "2.7.2",
      "model_name": "ObjectModel",
      "state": {
       "_view_count": null,
       "_view_module": null,
       "_view_module_version": "",
       "_view_name": null,
       "color_map": {
        "dtype": "uint32",
        "shape": [
         256
        ]
       },
       "compression_level": 0,
       "id": 140549990077296,
       "model_matrix": {
        "dtype": "float32",
        "shape": [
         4,
         4
        ]
       },
       "name": "Voxels #1",
       "opacity": 1,
       "outlines": false,
       "outlines_color": 0,
       "type": "Voxels",
       "visible": true,
       "voxels": {
        "dtype": "uint8",
        "shape": [
         8,
         12,
         20
        ]
       },
       "wireframe": false
      }
     },
     "41c2df947b2749608e71934e63476f07": {
      "model_module": "k3d",
      "model_module_version": "2.7.2",
      "model_name": "PlotModel",
      "state": {
       "_backend_version": "2.7.2",
       "_dom_classes": [],
       "_view_count": null,
       "antialias": 3,
       "auto_rendering": true,
       "axes": [
        "x",
        "y",
        "z"
       ],
       "axes_helper": 1,
       "background_color": 16777215,
       "camera": [
        84.71979681592038,
        -65.20469514006155,
        10.746979618634622,
        24.750000033527613,
        24.750000033527613,
        4.749999940395355,
        0,
        0,
        1
       ],
       "camera_auto_fit": true,
       "camera_fov": 60,
       "camera_no_pan": false,
       "camera_no_rotate": false,
       "camera_no_zoom": false,
       "clipping_planes": [],
       "colorbar_object_id": -1,
       "fps": 25,
       "fps_meter": false,
       "grid": [
        -1,
        -1,
        -1,
        1,
        1,
        1
       ],
       "grid_auto_fit": true,
       "grid_visible": true,
       "height": 512,
       "layout": "IPY_MODEL_48a15ed1e0f541fe8a5dbb7b7e3f1b0a",
       "lighting": 1.5,
       "menu_visibility": true,
       "mode": "view",
       "name": null,
       "object_ids": [
        140549144831696
       ],
       "rendering_steps": 1,
       "screenshot": "",
       "screenshot_scale": 2,
       "snapshot": "",
       "time": 0,
       "voxel_paint_color": 0
      }
     },
     "42911eb7b21141fc862716310ba96379": {
      "model_module": "@jupyter-widgets/base",
      "model_module_version": "1.2.0",
      "model_name": "LayoutModel",
      "state": {}
     },
     "445791369aab439fa7741781137e77a6": {
      "buffers": [
       {
        "data": "eNpVzrFLAnEcBXADZ2ktQY/iCANR8ZasocHOG4ULXASV20Shm+RoOCHF5LC/QCW3RhdbWwWn2nKKMA78F0RI3u/ewW/4LI/3fXxtxYjYB41YCe6PihLmdtDzzAI867fg5nVoxw2oRO8kzNnjHXde7LTQzMKoroFXvoGupoN1XJIwZ4933Al3+6rwFOheCE5KaGWAfxHzsMc77gS7w3FCmCZhMBN6b2fwuMiB+dmRMGePd9zhrju/BOddg4ePItRWFlx/T+Bk40uYs8c77nDXWlaBf12tXyH++wXn/k7CnD3ecUf5WcLp3xZUfy9hzt4/1oTPOQ==",
        "encoding": "base64",
        "path": [
         "colors",
         "compressed_buffer"
        ]
       },
       {
        "data": "eNpjYGiwZ8AAxIsBAF7EAv0=",
        "encoding": "base64",
        "path": [
         "model_matrix",
         "compressed_buffer"
        ]
       },
       {
        "data": "eNpNk09IVHEQxy/JemlpKYJgqQVJimLVCiLxzXct2EIjCQoq7GASlrAIUmGCRAgFRdEindbFbA0vHYI6FPZmHktJoRIVuBczyv6c8lCUaRDNnJrTm8N3Zj7v9/1OJbcYLq/clfqaKVlqGQ3PP85KV/8L6Wr7+vTXuZt8+OGk1U1r13eS1aoJru/fA9NUcotBrKoI650Z38mdSESpK0My8KWWl1c+Ss2GvNzJr2EqlmT62w2p7X4dlp8ckOG6a/L5x8ZwYH6IP229anUQ23eMrFZNQNndMI32UvnUMKxXZ1Ks6h1spu6iYhTP2K5HvVkeTzVE6b4dcubVXj5yIhGtflYnU9ubuLF9QUZnt0lqMM0f2sdk4s1m+Z2Ms1RapdyXlO+xi+Hf1AgPHkpYHaziZrJaNdS8ZRdMo720qVSA9epMmizNwWbqLrp/L56xXcpAx9+nM8YwM31Q/6khko4c5/+0cqk7Eb09epb7T7foOyyIviPPP8jyyNKY6D/zz+eNfOlWm+hu1vcMLxQmeN3LaqsD/ZLVqqHLPfUwjfZSR3UB1qsz9X3mYDN1F528Hc/YLmWg5Gw6YwyOhxwPOR5yPOR4yPGQ4yHHQ46HHA85HnI85PyC8wvOLzi/4PyC8wvOLzi/4PyC8wvOLzi/4HILl1u43MLlFi63cLmFyy1cbuFyC5dbVP7fHdzdwd0d3N3B3R3c3eEfvcjK8g==",
        "encoding": "base64",
        "path": [
         "origins",
         "compressed_buffer"
        ]
       },
       {
        "data": "eNpNkz0vRFEQhqlEIwqNROIrUQilct6SRCOi8AcIEbuFkmyllIhtN7JUdEKoxJlCYgu7G+WqqPgBKxtEY+bmTPIWkzM3dz6ec96ZTqmMRYVUPi/0e3kSZ0Pr0px70K2VLXHb33x2P4VvMRoxnVJZI7d9eYvazbj01ZfUvoua/v+8egLPtVNndlYxenokE4dX+vFVF7e364b7KXyL0YjxnMj1HlHTemn0uttrYHdtWKYqr2n75RHTs/NSe+9X4yvu4rxWq+jrtX/GjtE7SGKndgd+xa33dO9+Ct//RYxzRK7fOWpaL41exqDB0G61MNgdEbNU/WtiY3VBzJK9HfKbJrsn8v2T9UPmSHY3ZNNshZ/5ipj8XkVu1qaoab00ehmDBgPxCPEI8QjxCPEI8YB4QDxCPEI8QjxCPEJ6CekF0gukF0gvkF4gvUB6gfQC6QXSC6SX0NyC5hY0t6C5Bc0taG5BcwuaW9Dcgua2eMe8O6C9A+0daO9AewfaO/wDaMzjfA==",
        "encoding": "base64",
        "path": [
         "vectors",
         "compressed_buffer"
        ]
       }
      ],
      "model_module": "k3d",
      "model_module_version": "2.7.2",
      "model_name": "ObjectModel",
      "state": {
       "_view_count": null,
       "_view_module": null,
       "_view_module_version": "",
       "_view_name": null,
       "colors": {
        "dtype": "uint32",
        "shape": [
         80,
         2
        ]
       },
       "compression_level": 0,
       "head_color": 255,
       "head_size": 1,
       "id": 140549144499296,
       "label_size": 1,
       "labels": [],
       "line_width": 0.01,
       "model_matrix": {
        "dtype": "float32",
        "shape": [
         4,
         4
        ]
       },
       "name": "Vectors #2",
       "origin_color": 255,
       "origins": {
        "dtype": "float32",
        "shape": [
         80,
         3
        ]
       },
       "type": "Vectors",
       "use_head": true,
       "vectors": {
        "dtype": "float32",
        "shape": [
         80,
         3
        ]
       },
       "visible": true
      }
     },
     "470c3bcdb8f145949b5583527d166690": {
      "model_module": "k3d",
      "model_module_version": "2.7.2",
      "model_name": "PlotModel",
      "state": {
       "_backend_version": "2.7.2",
       "_dom_classes": [],
       "_view_count": null,
       "antialias": 3,
       "auto_rendering": true,
       "axes": [
        "x",
        "y",
        "z"
       ],
       "axes_helper": 1,
       "background_color": 16777215,
       "camera": [
        9.828951377057193,
        -14.743427065585788,
        0.9828951377057173,
        0,
        0,
        0,
        0,
        0,
        1
       ],
       "camera_auto_fit": true,
       "camera_fov": 60,
       "camera_no_pan": false,
       "camera_no_rotate": false,
       "camera_no_zoom": false,
       "clipping_planes": [],
       "colorbar_object_id": -1,
       "fps": 25,
       "fps_meter": false,
       "grid": [
        -1,
        -1,
        -1,
        1,
        1,
        1
       ],
       "grid_auto_fit": true,
       "grid_visible": true,
       "height": 512,
       "layout": "IPY_MODEL_02023d5d35ec46558bb937c9b9bb3895",
       "lighting": 1.5,
       "menu_visibility": true,
       "mode": "view",
       "name": null,
       "object_ids": [
        140549145119904,
        140549990094784
       ],
       "rendering_steps": 1,
       "screenshot": "",
       "screenshot_scale": 2,
       "snapshot": "",
       "time": 0,
       "voxel_paint_color": 0
      }
     },
     "48a15ed1e0f541fe8a5dbb7b7e3f1b0a": {
      "model_module": "@jupyter-widgets/base",
      "model_module_version": "1.2.0",
      "model_name": "LayoutModel",
      "state": {}
     },
     "52e3d9ddae984731a61df6665e5d3f53": {
      "buffers": [
       {
        "data": "eNoLvljOEAzEhfucwLh9oTwY9zWog3FvogkYd7g5gLHkoxtgrHz/EBhb35wLxgmnEsC4ZYUSGPdVaoJxd6A1GDeYuIFxibIHGGdJQLDCs29gLPv0IxhLPnkOxjIPL4Cxzc3ZYFy91RCM+3L0wbjR1BWM82Q8wDhZwB2MY7ncwDiKHYJVn/9FwcrPf4MxzF7JJ0/BOBgaDjB/pgi6gzHMnHAWVzAOY3IB4xBGCKa1+bQOH2rHZzCJ6QkAgWfRNQ==",
        "encoding": "base64",
        "path": [
         "colors",
         "compressed_buffer"
        ]
       },
       {
        "data": "eNpjYGiwZ8AAxIsBAF7EAv0=",
        "encoding": "base64",
        "path": [
         "model_matrix",
         "compressed_buffer"
        ]
       },
       {
        "data": "eNpNk09IVHEQxy/JemlpKYJgqQVJimLVCiLxzXct2EIjCQoq7GASlrAIUmGCRAgFRdEindbFbA0vHYI6FPZmHktJoRIVuBczyv6c8lCUaRDNnJrTm8N3Zj7v9/1OJbcYLq/clfqaKVlqGQ3PP85KV/8L6Wr7+vTXuZt8+OGk1U1r13eS1aoJru/fA9NUcotBrKoI650Z38mdSESpK0My8KWWl1c+Ss2GvNzJr2EqlmT62w2p7X4dlp8ckOG6a/L5x8ZwYH6IP229anUQ23eMrFZNQNndMI32UvnUMKxXZ1Ks6h1spu6iYhTP2K5HvVkeTzVE6b4dcubVXj5yIhGtflYnU9ubuLF9QUZnt0lqMM0f2sdk4s1m+Z2Ms1RapdyXlO+xi+Hf1AgPHkpYHaziZrJaNdS8ZRdMo720qVSA9epMmizNwWbqLrp/L56xXcpAx9+nM8YwM31Q/6khko4c5/+0cqk7Eb09epb7T7foOyyIviPPP8jyyNKY6D/zz+eNfOlWm+hu1vcMLxQmeN3LaqsD/ZLVqqHLPfUwjfZSR3UB1qsz9X3mYDN1F528Hc/YLmWg5Gw6YwyOhxwPOR5yPOR4yPGQ4yHHQ46HHA85HnI85PyC8wvOLzi/4PyC8wvOLzi/4PyC8wvOLzi/4HILl1u43MLlFi63cLmFyy1cbuFyC5dbVP7fHdzdwd0d3N3B3R3c3eEfvcjK8g==",
        "encoding": "base64",
        "path": [
         "origins",
         "compressed_buffer"
        ]
       },
       {
        "data": "eNpNkz0vRFEQhqlEIwqNROIrUQilct6SRCOi8AcIEbuFkmyllIhtN7JUdEKoxJlCYgu7G+WqqPgBKxtEY+bmTPIWkzM3dz6ec96ZTqmMRYVUPi/0e3kSZ0Pr0px70K2VLXHb33x2P4VvMRoxnVJZI7d9eYvazbj01ZfUvoua/v+8egLPtVNndlYxenokE4dX+vFVF7e364b7KXyL0YjxnMj1HlHTemn0uttrYHdtWKYqr2n75RHTs/NSe+9X4yvu4rxWq+jrtX/GjtE7SGKndgd+xa33dO9+Ct//RYxzRK7fOWpaL41exqDB0G61MNgdEbNU/WtiY3VBzJK9HfKbJrsn8v2T9UPmSHY3ZNNshZ/5ipj8XkVu1qaoab00ehmDBgPxCPEI8QjxCPEI8YB4QDxCPEI8QjxCPEJ6CekF0gukF0gvkF4gvUB6gfQC6QXSC6SX0NyC5hY0t6C5Bc0taG5BcwuaW9Dcgua2eMe8O6C9A+0daO9AewfaO/wDaMzjfA==",
        "encoding": "base64",
        "path": [
         "vectors",
         "compressed_buffer"
        ]
       }
      ],
      "model_module": "k3d",
      "model_module_version": "2.7.2",
      "model_name": "ObjectModel",
      "state": {
       "_view_count": null,
       "_view_module": null,
       "_view_module_version": "",
       "_view_name": null,
       "colors": {
        "dtype": "uint32",
        "shape": [
         80,
         2
        ]
       },
       "compression_level": 0,
       "head_color": 255,
       "head_size": 1,
       "id": 140549989957488,
       "label_size": 1,
       "labels": [],
       "line_width": 0.01,
       "model_matrix": {
        "dtype": "float32",
        "shape": [
         4,
         4
        ]
       },
       "name": "Vectors #1",
       "origin_color": 255,
       "origins": {
        "dtype": "float32",
        "shape": [
         80,
         3
        ]
       },
       "type": "Vectors",
       "use_head": true,
       "vectors": {
        "dtype": "float32",
        "shape": [
         80,
         3
        ]
       },
       "visible": true
      }
     },
     "548dd35ad6d9418c9a2b4cf4c8931319": {
      "model_module": "@jupyter-widgets/base",
      "model_module_version": "1.2.0",
      "model_name": "LayoutModel",
      "state": {}
     },
     "56d6ceebef2d43b3aab626f232eeb12d": {
      "model_module": "@jupyter-widgets/output",
      "model_module_version": "1.0.0",
      "model_name": "OutputModel",
      "state": {
       "layout": "IPY_MODEL_5ce6426709e540f29d94ac4628be8d45",
       "outputs": [
        {
         "data": {
          "application/vnd.jupyter.widget-view+json": {
           "model_id": "470c3bcdb8f145949b5583527d166690",
           "version_major": 2,
           "version_minor": 0
          },
          "text/plain": "Plot(antialias=3, axes=['x', 'y', 'z'], axes_helper=1.0, background_color=16777215, camera=[4.5, 4.5, 4.5, 0.0…"
         },
         "metadata": {},
         "output_type": "display_data"
        }
       ]
      }
     },
     "5765a4c233944cf8987dd0c5c0557d93": {
      "model_module": "@jupyter-widgets/output",
      "model_module_version": "1.0.0",
      "model_name": "OutputModel",
      "state": {
       "layout": "IPY_MODEL_d57e224662074444a6c23d10bf84039b",
       "outputs": [
        {
         "data": {
          "application/vnd.jupyter.widget-view+json": {
           "model_id": "cf816e24b5b04228bcab1033166c29f6",
           "version_major": 2,
           "version_minor": 0
          },
          "text/plain": "Plot(antialias=3, axes=['x', 'y', 'z'], axes_helper=1.0, background_color=16777215, camera=[4.5, 4.5, 4.5, 0.0…"
         },
         "metadata": {},
         "output_type": "display_data"
        }
       ]
      }
     },
     "5b6e234a7b83441d9e1911370d9f1adc": {
      "model_module": "k3d",
      "model_module_version": "2.7.2",
      "model_name": "PlotModel",
      "state": {
       "_backend_version": "2.7.2",
       "_dom_classes": [],
       "_view_count": null,
       "antialias": 3,
       "auto_rendering": true,
       "axes": [
        "x",
        "y",
        "z"
       ],
       "axes_helper": 1,
       "background_color": 16777215,
       "camera": [
        9.80367128973346,
        -14.70550693460019,
        0.9803671289733442,
        0,
        0,
        0,
        0,
        0,
        1
       ],
       "camera_auto_fit": true,
       "camera_fov": 60,
       "camera_no_pan": false,
       "camera_no_rotate": false,
       "camera_no_zoom": false,
       "clipping_planes": [],
       "colorbar_object_id": -1,
       "fps": 25,
       "fps_meter": false,
       "grid": [
        -1,
        -1,
        -1,
        1,
        1,
        1
       ],
       "grid_auto_fit": true,
       "grid_visible": true,
       "height": 512,
       "layout": "IPY_MODEL_5bb8e5c5b37e4fcab835c0b756167201",
       "lighting": 1.5,
       "menu_visibility": true,
       "mode": "view",
       "name": null,
       "object_ids": [
        140549144792512
       ],
       "rendering_steps": 1,
       "screenshot": "",
       "screenshot_scale": 2,
       "snapshot": "",
       "time": 0,
       "voxel_paint_color": 0
      }
     },
     "5bb8e5c5b37e4fcab835c0b756167201": {
      "model_module": "@jupyter-widgets/base",
      "model_module_version": "1.2.0",
      "model_name": "LayoutModel",
      "state": {}
     },
     "5c7ad61d964b4922a6e73bbd61ee9d65": {
      "model_module": "@jupyter-widgets/output",
      "model_module_version": "1.0.0",
      "model_name": "OutputModel",
      "state": {
       "layout": "IPY_MODEL_ca8d1a72b08c4e12aa8ceb24a29960f1",
       "outputs": [
        {
         "data": {
          "application/vnd.jupyter.widget-view+json": {
           "model_id": "2af97dca20e74f7bb9e381547f27ec77",
           "version_major": 2,
           "version_minor": 0
          },
          "text/plain": "Plot(antialias=3, axes=['x', 'y', 'z'], axes_helper=1.0, background_color=16777215, camera=[4.5, 4.5, 4.5, 0.0…"
         },
         "metadata": {},
         "output_type": "display_data"
        }
       ]
      }
     },
     "5ce6426709e540f29d94ac4628be8d45": {
      "model_module": "@jupyter-widgets/base",
      "model_module_version": "1.2.0",
      "model_name": "LayoutModel",
      "state": {}
     },
     "60f7c77681bd4a9383bb73d36956a505": {
      "model_module": "@jupyter-widgets/output",
      "model_module_version": "1.0.0",
      "model_name": "OutputModel",
      "state": {
       "layout": "IPY_MODEL_fd8547f0a55e4573916ce0afb446d7cc",
       "outputs": [
        {
         "data": {
          "application/vnd.jupyter.widget-view+json": {
           "model_id": "0b8a53d1daa7455591104f3d21b62cc1",
           "version_major": 2,
           "version_minor": 0
          },
          "text/plain": "Plot(antialias=3, axes=['x', 'y', 'z'], axes_helper=1.0, background_color=16777215, camera=[4.5, 4.5, 4.5, 0.0…"
         },
         "metadata": {},
         "output_type": "display_data"
        }
       ]
      }
     },
     "61215a4c025042f29498435bd7b29692": {
      "buffers": [
       {
        "data": "eNoDAAAAAAE=",
        "encoding": "base64",
        "path": [
         "colors",
         "compressed_buffer"
        ]
       },
       {
        "data": "eNpjYGiwZ8AAxIsBAF7EAv0=",
        "encoding": "base64",
        "path": [
         "model_matrix",
         "compressed_buffer"
        ]
       },
       {
        "data": "eNpN0MENgCAQRFEqm5nSLGUrcVuhFEME/QfDP8CLmTGSMarfb3XQ140W7vjvQs9+3x8zMAMzMAMzME9Pdu/32z8d9Dq/Fu4Yb9GT3fufji/4gi/4gi/4gi/sY+xj7GPsY+xj7GPsY+wDs2AWzIJZMAtm+QEXvmyN",
        "encoding": "base64",
        "path": [
         "positions",
         "compressed_buffer"
        ]
       }
      ],
      "model_module": "k3d",
      "model_module_version": "2.7.2",
      "model_name": "ObjectModel",
      "state": {
       "_view_count": null,
       "_view_module": null,
       "_view_module_version": "",
       "_view_name": null,
       "color": 10075135,
       "colors": {
        "dtype": "uint32",
        "shape": [
         0
        ]
       },
       "compression_level": 0,
       "id": 140549144818064,
       "mesh_detail": 2,
       "model_matrix": {
        "dtype": "float32",
        "shape": [
         4,
         4
        ]
       },
       "name": "Points #3",
       "opacity": 1,
       "point_size": 0.1,
       "positions": {
        "dtype": "float32",
        "shape": [
         44,
         3
        ]
       },
       "shader": "3dSpecular",
       "type": "Points",
       "visible": true
      }
     },
     "65806757527646b0b45f07ae5b68c4dd": {
      "buffers": [
       {
        "data": "eNoDAAAAAAE=",
        "encoding": "base64",
        "path": [
         "colors",
         "compressed_buffer"
        ]
       },
       {
        "data": "eNpjYGiwZ8AAxIsBAF7EAv0=",
        "encoding": "base64",
        "path": [
         "model_matrix",
         "compressed_buffer"
        ]
       },
       {
        "data": "eNpNk09IVHEQxy/JemlpKYJgqQVJimLVCiLxzXct2EIjCQoq7GASlrAIUmGCRAgFRdEindbFbA0vHYI6FPZmHktJoRIVuBczyv6c8lCUaRDNnJrTm8N3Zj7v9/1OJbcYLq/clfqaKVlqGQ3PP85KV/8L6Wr7+vTXuZt8+OGk1U1r13eS1aoJru/fA9NUcotBrKoI650Z38mdSESpK0My8KWWl1c+Ss2GvNzJr2EqlmT62w2p7X4dlp8ckOG6a/L5x8ZwYH6IP229anUQ23eMrFZNQNndMI32UvnUMKxXZ1Ks6h1spu6iYhTP2K5HvVkeTzVE6b4dcubVXj5yIhGtflYnU9ubuLF9QUZnt0lqMM0f2sdk4s1m+Z2Ms1RapdyXlO+xi+Hf1AgPHkpYHaziZrJaNdS8ZRdMo720qVSA9epMmizNwWbqLrp/L56xXcpAx9+nM8YwM31Q/6khko4c5/+0cqk7Eb09epb7T7foOyyIviPPP8jyyNKY6D/zz+eNfOlWm+hu1vcMLxQmeN3LaqsD/ZLVqqHLPfUwjfZSR3UB1qsz9X3mYDN1F528Hc/YLmWg5Gw6YwyOhxwPOR5yPOR4yPGQ4yHHQ46HHA85HnI85PyC8wvOLzi/4PyC8wvOLzi/4PyC8wvOLzi/4HILl1u43MLlFi63cLmFyy1cbuFyC5dbVP7fHdzdwd0d3N3B3R3c3eEfvcjK8g==",
        "encoding": "base64",
        "path": [
         "origins",
         "compressed_buffer"
        ]
       },
       {
        "data": "eNpNkz0vRFEQhqlEIwqNROIrUQilct6SRCOi8AcIEbuFkmyllIhtN7JUdEKoxJlCYgu7G+WqqPgBKxtEY+bmTPIWkzM3dz6ec96ZTqmMRYVUPi/0e3kSZ0Pr0px70K2VLXHb33x2P4VvMRoxnVJZI7d9eYvazbj01ZfUvoua/v+8egLPtVNndlYxenokE4dX+vFVF7e364b7KXyL0YjxnMj1HlHTemn0uttrYHdtWKYqr2n75RHTs/NSe+9X4yvu4rxWq+jrtX/GjtE7SGKndgd+xa33dO9+Ct//RYxzRK7fOWpaL41exqDB0G61MNgdEbNU/WtiY3VBzJK9HfKbJrsn8v2T9UPmSHY3ZNNshZ/5ipj8XkVu1qaoab00ehmDBgPxCPEI8QjxCPEI8YB4QDxCPEI8QjxCPEJ6CekF0gukF0gvkF4gvUB6gfQC6QXSC6SX0NyC5hY0t6C5Bc0taG5BcwuaW9Dcgua2eMe8O6C9A+0daO9AewfaO/wDaMzjfA==",
        "encoding": "base64",
        "path": [
         "vectors",
         "compressed_buffer"
        ]
       }
      ],
      "model_module": "k3d",
      "model_module_version": "2.7.2",
      "model_name": "ObjectModel",
      "state": {
       "_view_count": null,
       "_view_module": null,
       "_view_module_version": "",
       "_view_name": null,
       "colors": {
        "dtype": "uint32",
        "shape": [
         0
        ]
       },
       "compression_level": 0,
       "head_color": 255,
       "head_size": 1,
       "id": 140549990821120,
       "label_size": 1,
       "labels": [],
       "line_width": 0.01,
       "model_matrix": {
        "dtype": "float32",
        "shape": [
         4,
         4
        ]
       },
       "name": "Vectors #1",
       "origin_color": 255,
       "origins": {
        "dtype": "float32",
        "shape": [
         80,
         3
        ]
       },
       "type": "Vectors",
       "use_head": true,
       "vectors": {
        "dtype": "float32",
        "shape": [
         80,
         3
        ]
       },
       "visible": true
      }
     },
     "6ce74ad48755419992faa0ac51550a5d": {
      "model_module": "@jupyter-widgets/base",
      "model_module_version": "1.2.0",
      "model_name": "LayoutModel",
      "state": {}
     },
     "7b2e666d12004c06a23d094183ee53bd": {
      "model_module": "@jupyter-widgets/output",
      "model_module_version": "1.0.0",
      "model_name": "OutputModel",
      "state": {
       "layout": "IPY_MODEL_8180bb0e475344798bd27df7d7b97a2a",
       "outputs": [
        {
         "data": {
          "application/vnd.jupyter.widget-view+json": {
           "model_id": "fb41d3c6fac145068a1319a0c0c6d5bd",
           "version_major": 2,
           "version_minor": 0
          },
          "text/plain": "Plot(antialias=3, axes=['x', 'y', 'z'], axes_helper=1.0, background_color=16777215, camera=[4.5, 4.5, 4.5, 0.0…"
         },
         "metadata": {},
         "output_type": "display_data"
        }
       ]
      }
     },
     "8180bb0e475344798bd27df7d7b97a2a": {
      "model_module": "@jupyter-widgets/base",
      "model_module_version": "1.2.0",
      "model_name": "LayoutModel",
      "state": {}
     },
     "83fbbd181bed4b3d995c9c95f4e167ba": {
      "buffers": [
       {
        "data": "eNoDAAAAAAE=",
        "encoding": "base64",
        "path": [
         "colors",
         "compressed_buffer"
        ]
       },
       {
        "data": "eNpjYGiwZ8AAxIsBAF7EAv0=",
        "encoding": "base64",
        "path": [
         "model_matrix",
         "compressed_buffer"
        ]
       },
       {
        "data": "eNpN0VENwzAMBuFAGJQisA1tUIxkK5RAmbIq7ZeXnqL0dNI/xjr9HWN+/zgKfn/g4E0+3PDrvFzrrLvNDRe8/I2/8Tf+2wm/6uHjvLy7oWgoGoqGoqFoKBqKhqKhaNh8yOfl3T2bV8/mhgte35uDN8m/8IRXz+ZDPi/X3RP0BD1BT9AT9AQ9QU/QE/QEPcFeyV7JXsleyV7JXsleyV7JXsleyV7JXjQ0DU1D09A0NA1NQ9PQNDQN+if+iX/in/gn/pk/dr6bDQ==",
        "encoding": "base64",
        "path": [
         "positions",
         "compressed_buffer"
        ]
       }
      ],
      "model_module": "k3d",
      "model_module_version": "2.7.2",
      "model_name": "ObjectModel",
      "state": {
       "_view_count": null,
       "_view_module": null,
       "_view_module_version": "",
       "_view_name": null,
       "color": 10075135,
       "colors": {
        "dtype": "uint32",
        "shape": [
         0
        ]
       },
       "compression_level": 0,
       "id": 140549989957440,
       "mesh_detail": 2,
       "model_matrix": {
        "dtype": "float32",
        "shape": [
         4,
         4
        ]
       },
       "name": "Points #1",
       "opacity": 1,
       "point_size": 0.1,
       "positions": {
        "dtype": "float32",
        "shape": [
         80,
         3
        ]
       },
       "shader": "3dSpecular",
       "type": "Points",
       "visible": true
      }
     },
     "87ef912b9028494eb0abb5f9c90601d9": {
      "model_module": "@jupyter-widgets/base",
      "model_module_version": "1.2.0",
      "model_name": "LayoutModel",
      "state": {}
     },
     "965420e98f2f466eb7f290e8cd13cc59": {
      "buffers": [
       {
        "data": "eNot0vlP1gUcwPF3rVar1Wq14vR5Hh4eBOSSQy45fZ7v96spoRIiIqJAHCKH3Pf9cD7fLLMss8yyzLLM0sy01KJIo1BDEQUEfWBrba2ttbbW1sfVD6//4JV2l5X0u62su8fG+nttZN6nkHW/wsYHFLIfVMh5SGXzwyq5j6jkPaqS/5hKweMahU9oFD2pUeyiUeKmsc1do9RDo8xTo9ygUWHUqDRpVJk1qr01aiwatT4adb4a9X4aDf4qDQEqjYEqTUEqzcEqLSEKLaEKrWEKbeEK7RE22iNtdETZ6Iy20hljpStWxC2jO14kJGNPFEnJ9CQn0WNNoteWSK8i1AT6NLE8nr4V8fSvFKvi6E8RTy9lIFWsjmVgjVgbw2CaeCaawXSREcXgepEZiWODyFqCY6PIjsCxSeSE49gstoThyA1DzwtFzxfPLkYvEIWiKAS9WGwNRi8R24LQS0WZKA9Er7gjAH27qBRVi9CrRY0/eq2oE/V+6A2iUTT5ojeLloXoraJNtPugd/yv04LeJbqF3Ru9R/Sa0fvMOPrFgBeOQeEQugnHc2KHicHnxQvG/+wULxoY2CVeEi+L3Qb6XxGvij0L6HtN7BWvG+h9Q+wTbxrouWO/AftbRuxvG+k+YKL7HfGuF10Hveh8z0znIW863rfQ8YGF9sM+YiFtH/rS+pEfrUf8afk4gOajgTR9EkTTp8E0HltMw/FQ6o+HU/9ZBHUnIqn9PIqakzFUfxFL1ak4Kk8lsP10IhVfJlP+lZWyMwqlZ+Xj2RWUnFvJ1q9TKP4mlaKhNRQOpVHwbTr532WQN5xJ7nAWW77PJud8Dpsu5JJ9IZ+sHwrYMFJE5kgJGT+Wsu6nctJHK0kbrWbtxVpWX2wg9VITKZdbWXW5nad+7mL5mB1trA/lygC2KzrLru4g6epOEsd3ET++m6XX9hB7bS/RE/uInNjPkusHCL9+kNAbhwi5cZjgySMETh5l0dQx/KZO4Dt1Ep/p01imz2CePofp5hDGm8MYZs7jOTOCx8wo7rOXcJsdw3V2HNdbE7jcmhTTuNyexfW2U8zj5vwFd+eveDh/w9P5Owvm/sA49yemub8wz/+NZf4f/gXLh0p6",
        "encoding": "base64",
        "path": [
         "color_map",
         "compressed_buffer"
        ]
       },
       {
        "data": "eNpjYFBwZMAABxwwxRqwidkDAFK8AuE=",
        "encoding": "base64",
        "path": [
         "model_matrix",
         "compressed_buffer"
        ]
       },
       {
        "data": "eNrl1c9LKlEUB/BJGFzoxtCFBLMcpoUIEUMYYVRCFBkWiZIUYTEwhGL+aPwLnBxNlBgYSqIwFKMkowisSCKJIQJxkcxyIFwoudGFCPZ8iphv9eDxVt7d/XA553zhci8A/PvKsGymV87iiWQyET/7QZQ/EAyFggE/1TWn3Wa1WKw2u/PHwVW9TqvV6Vd7K6pQVAX851Usl4s98Jrl+EKB57KvHTm/unticxyXY5/urs7bdngciSdT6XQqGY8cH7aI3KN8gRDNMHQo4KP2yN9G7DodNguOYbjF5nDuEq2DWxsmvVajVmu0etPGVrveyuLsJKqAYQU6Obu40uk8poQhuRyClWM9I8okEtlfhavXe/d5vlip1SpFPt+R1PPbB/9VrX7xH2/PqRbFLq7vMzm+VOJzmfvri1iTaOboJJpIsfk8m0pET44YGgA8pJfyB+lwNBqmg37KS3oAwE24nHYrbjYazbjV7nQRbgDAsc11o06DIgiq0RnXNzG8WdCwvDCjUkBSKaRQzSwsG1qNNROjw9CgSDQIDY9OaDoTIpBMLBSKZRDSmwUE/whbqtS/v+uVUley3Ge51mjUyp9cti23Dy/vXKHaaFQL3PvLw22TIrHLm0eWK9XrJY59vLmMRYADmgmfxpLpfKWSTydjp2GGPvCQpNe3H2KiLBtlQvs+L0l63AThcuxYMCOKGjHLjsNFEO5tHDOvGbRqRCxG1FrDmhnDtwGTYWl+CoWlICiF0an5JYOp2XhuenwElosEApEcHhmfnmtPqISHJEKBQCgZgpXdJFIxODAAiqX9nLff7nMfvld98h/9AlMm+BA=",
        "encoding": "base64",
        "path": [
         "voxels",
         "compressed_buffer"
        ]
       }
      ],
      "model_module": "k3d",
      "model_module_version": "2.7.2",
      "model_name": "ObjectModel",
      "state": {
       "_view_count": null,
       "_view_module": null,
       "_view_module_version": "",
       "_view_name": null,
       "color_map": {
        "dtype": "uint32",
        "shape": [
         256
        ]
       },
       "compression_level": 0,
       "id": 140549144791552,
       "model_matrix": {
        "dtype": "float32",
        "shape": [
         4,
         4
        ]
       },
       "name": "Voxels #1",
       "opacity": 1,
       "outlines": false,
       "outlines_color": 0,
       "type": "Voxels",
       "visible": true,
       "voxels": {
        "dtype": "uint8",
        "shape": [
         8,
         12,
         20
        ]
       },
       "wireframe": false
      }
     },
     "98661d6ad3584a8aa2391ed279e9c8b9": {
      "model_module": "@jupyter-widgets/output",
      "model_module_version": "1.0.0",
      "model_name": "OutputModel",
      "state": {
       "layout": "IPY_MODEL_c4048ec568b24abe90d516243e2a5e8e",
       "outputs": [
        {
         "data": {
          "application/vnd.jupyter.widget-view+json": {
           "model_id": "5b6e234a7b83441d9e1911370d9f1adc",
           "version_major": 2,
           "version_minor": 0
          },
          "text/plain": "Plot(antialias=3, axes=['x', 'y', 'z'], axes_helper=1.0, background_color=16777215, camera=[4.5, 4.5, 4.5, 0.0…"
         },
         "metadata": {},
         "output_type": "display_data"
        }
       ]
      }
     },
     "98da09ab66a14bf9be1488919b4a5d09": {
      "buffers": [
       {
        "data": "eNoDAAAAAAE=",
        "encoding": "base64",
        "path": [
         "colors",
         "compressed_buffer"
        ]
       },
       {
        "data": "eNpjYGiwZ8AAxIsBAF7EAv0=",
        "encoding": "base64",
        "path": [
         "model_matrix",
         "compressed_buffer"
        ]
       },
       {
        "data": "eNpN0VENwzAMBuFAGJQisA1tUIxkK5RAmbIq7ZeXnqL0dNI/xjr9HWN+/zgKfn/g4E0+3PDrvFzrrLvNDRe8/I2/8Tf+2wm/6uHjvLy7oWgoGoqGoqFoKBqKhqKhaNh8yOfl3T2bV8/mhgte35uDN8m/8IRXz+ZDPi/X3RP0BD1BT9AT9AQ9QU/QE/QEPcFeyV7JXsleyV7JXsleyV7JXsleyV7JXjQ0DU1D09A0NA1NQ9PQNDQN+if+iX/in/gn/pk/dr6bDQ==",
        "encoding": "base64",
        "path": [
         "positions",
         "compressed_buffer"
        ]
       }
      ],
      "model_module": "k3d",
      "model_module_version": "2.7.2",
      "model_name": "ObjectModel",
      "state": {
       "_view_count": null,
       "_view_module": null,
       "_view_module_version": "",
       "_view_name": null,
       "color": 10075135,
       "colors": {
        "dtype": "uint32",
        "shape": [
         0
        ]
       },
       "compression_level": 0,
       "id": 140549144958000,
       "mesh_detail": 2,
       "model_matrix": {
        "dtype": "float32",
        "shape": [
         4,
         4
        ]
       },
       "name": "Points #1",
       "opacity": 1,
       "point_size": 0.1,
       "positions": {
        "dtype": "float32",
        "shape": [
         80,
         3
        ]
       },
       "shader": "3dSpecular",
       "type": "Points",
       "visible": true
      }
     },
     "9aef82fb0dc748a79222521b8f0a070f": {
      "model_module": "@jupyter-widgets/output",
      "model_module_version": "1.0.0",
      "model_name": "OutputModel",
      "state": {
       "layout": "IPY_MODEL_e6e9a74aa4e34f03a93312f38791cb92",
       "outputs": [
        {
         "data": {
          "application/vnd.jupyter.widget-view+json": {
           "model_id": "41c2df947b2749608e71934e63476f07",
           "version_major": 2,
           "version_minor": 0
          },
          "text/plain": "Plot(antialias=3, axes=['x', 'y', 'z'], axes_helper=1.0, background_color=16777215, camera=[4.5, 4.5, 4.5, 0.0…"
         },
         "metadata": {},
         "output_type": "display_data"
        }
       ]
      }
     },
     "a0eb4187fa7c4f8da3d327ac4dd2f0ed": {
      "model_module": "@jupyter-widgets/output",
      "model_module_version": "1.0.0",
      "model_name": "OutputModel",
      "state": {
       "layout": "IPY_MODEL_31700d5b1f2040b3bfa9fed2142d377b",
       "outputs": [
        {
         "data": {
          "application/vnd.jupyter.widget-view+json": {
           "model_id": "ba72d921b23f41c49272e5a168a73d1e",
           "version_major": 2,
           "version_minor": 0
          },
          "text/plain": "Plot(antialias=3, axes=['x', 'y', 'z'], axes_helper=1.0, background_color=16777215, camera=[4.5, 4.5, 4.5, 0.0…"
         },
         "metadata": {},
         "output_type": "display_data"
        }
       ]
      }
     },
     "a90a3ad941ba4d6097097dc260e47670": {
      "model_module": "@jupyter-widgets/base",
      "model_module_version": "1.2.0",
      "model_name": "LayoutModel",
      "state": {}
     },
     "b22364e75cf0431284829c7cb5c25dbc": {
      "model_module": "@jupyter-widgets/output",
      "model_module_version": "1.0.0",
      "model_name": "OutputModel",
      "state": {
       "layout": "IPY_MODEL_187db35dd5b54e44a6c4ef341e839faa",
       "outputs": [
        {
         "data": {
          "application/vnd.jupyter.widget-view+json": {
           "model_id": "2fba600aa9834ce89353ea2c2430d257",
           "version_major": 2,
           "version_minor": 0
          },
          "text/plain": "Plot(antialias=3, axes=['x', 'y', 'z'], axes_helper=1.0, background_color=16777215, camera=[4.5, 4.5, 4.5, 0.0…"
         },
         "metadata": {},
         "output_type": "display_data"
        }
       ]
      }
     },
     "b26cb052e3874d30ae9760cd95a36252": {
      "model_module": "@jupyter-widgets/output",
      "model_module_version": "1.0.0",
      "model_name": "OutputModel",
      "state": {
       "layout": "IPY_MODEL_0847d78dd4bf4ecb819e60659b3d2721",
       "outputs": [
        {
         "data": {
          "application/vnd.jupyter.widget-view+json": {
           "model_id": "100722ec5aea49eea825240e40a7cc18",
           "version_major": 2,
           "version_minor": 0
          },
          "text/plain": "Plot(antialias=3, axes=['x', 'y', 'z'], axes_helper=1.0, background_color=16777215, camera=[4.5, 4.5, 4.5, 0.0…"
         },
         "metadata": {},
         "output_type": "display_data"
        }
       ]
      }
     },
     "ba72d921b23f41c49272e5a168a73d1e": {
      "model_module": "k3d",
      "model_module_version": "2.7.2",
      "model_name": "PlotModel",
      "state": {
       "_backend_version": "2.7.2",
       "_dom_classes": [],
       "_view_count": null,
       "antialias": 3,
       "auto_rendering": true,
       "axes": [
        "x",
        "y",
        "z"
       ],
       "axes_helper": 1,
       "background_color": 16777215,
       "camera": [
        9.733137238263115,
        -14.662205854600705,
        0.9758137234910336,
        -0.02499999664723873,
        -0.02500000223517418,
        0,
        0,
        0,
        1
       ],
       "camera_auto_fit": true,
       "camera_fov": 60,
       "camera_no_pan": false,
       "camera_no_rotate": false,
       "camera_no_zoom": false,
       "clipping_planes": [],
       "colorbar_object_id": -1,
       "fps": 25,
       "fps_meter": false,
       "grid": [
        -1,
        -1,
        -1,
        1,
        1,
        1
       ],
       "grid_auto_fit": true,
       "grid_visible": true,
       "height": 512,
       "layout": "IPY_MODEL_548dd35ad6d9418c9a2b4cf4c8931319",
       "lighting": 1.5,
       "menu_visibility": true,
       "mode": "view",
       "name": null,
       "object_ids": [
        140549144942528
       ],
       "rendering_steps": 1,
       "screenshot": "",
       "screenshot_scale": 2,
       "snapshot": "",
       "time": 0,
       "voxel_paint_color": 0
      }
     },
     "c4048ec568b24abe90d516243e2a5e8e": {
      "model_module": "@jupyter-widgets/base",
      "model_module_version": "1.2.0",
      "model_name": "LayoutModel",
      "state": {}
     },
     "ca8d1a72b08c4e12aa8ceb24a29960f1": {
      "model_module": "@jupyter-widgets/base",
      "model_module_version": "1.2.0",
      "model_name": "LayoutModel",
      "state": {}
     },
     "cf4245846ee64becb41b73b8a923d95b": {
      "model_module": "@jupyter-widgets/output",
      "model_module_version": "1.0.0",
      "model_name": "OutputModel",
      "state": {
       "layout": "IPY_MODEL_1f1ff5cd4c3a435197f5e60a8bca1675",
       "outputs": [
        {
         "data": {
          "application/vnd.jupyter.widget-view+json": {
           "model_id": "e020df4a54004ff4b8371cc566f98003",
           "version_major": 2,
           "version_minor": 0
          },
          "text/plain": "Plot(antialias=3, axes=['x', 'y', 'z'], axes_helper=1.0, background_color=16777215, camera=[4.5, 4.5, 4.5, 0.0…"
         },
         "metadata": {},
         "output_type": "display_data"
        }
       ]
      }
     },
     "cf816e24b5b04228bcab1033166c29f6": {
      "model_module": "k3d",
      "model_module_version": "2.7.2",
      "model_name": "PlotModel",
      "state": {
       "_backend_version": "2.7.2",
       "_dom_classes": [],
       "_view_count": null,
       "antialias": 3,
       "auto_rendering": true,
       "axes": [
        "x",
        "y",
        "z"
       ],
       "axes_helper": 1,
       "background_color": 16777215,
       "camera": [
        5.676886823516349,
        -8.515330235274524,
        0.5676886823516339,
        0,
        0,
        0,
        0,
        0,
        1
       ],
       "camera_auto_fit": true,
       "camera_fov": 60,
       "camera_no_pan": false,
       "camera_no_rotate": false,
       "camera_no_zoom": false,
       "clipping_planes": [],
       "colorbar_object_id": -1,
       "fps": 25,
       "fps_meter": false,
       "grid": [
        -1,
        -1,
        -1,
        1,
        1,
        1
       ],
       "grid_auto_fit": true,
       "grid_visible": true,
       "height": 512,
       "layout": "IPY_MODEL_87ef912b9028494eb0abb5f9c90601d9",
       "lighting": 1.5,
       "menu_visibility": true,
       "mode": "view",
       "name": null,
       "object_ids": [
        140549989957488,
        140549989957440
       ],
       "rendering_steps": 1,
       "screenshot": "",
       "screenshot_scale": 2,
       "snapshot": "",
       "time": 0,
       "voxel_paint_color": 0
      }
     },
     "d1ca9aa72f374e8fac5daf29be38b5ed": {
      "buffers": [
       {
        "data": "eNq7PcOEwcbnOUPCOnUG/iMfGda69DF8/PCGAQB5NApc",
        "encoding": "base64",
        "path": [
         "color_map",
         "compressed_buffer"
        ]
       },
       {
        "data": "eNpjYPBwYoCDE44QGiYG44OAApC9wIEBBTTYAwCnEgUn",
        "encoding": "base64",
        "path": [
         "model_matrix",
         "compressed_buffer"
        ]
       },
       {
        "data": "eNpjZKQ9YKIDAABjBgEt",
        "encoding": "base64",
        "path": [
         "voxels",
         "compressed_buffer"
        ]
       }
      ],
      "model_module": "k3d",
      "model_module_version": "2.7.2",
      "model_name": "ObjectModel",
      "state": {
       "_view_count": null,
       "_view_module": null,
       "_view_module_version": "",
       "_view_name": null,
       "color_map": {
        "dtype": "uint32",
        "shape": [
         6
        ]
       },
       "compression_level": 0,
       "id": 140549144831696,
       "model_matrix": {
        "dtype": "float32",
        "shape": [
         4,
         4
        ]
       },
       "name": "Voxels #1",
       "opacity": 1,
       "outlines": false,
       "outlines_color": 0,
       "type": "Voxels",
       "visible": true,
       "voxels": {
        "dtype": "uint8",
        "shape": [
         2,
         10,
         10
        ]
       },
       "wireframe": false
      }
     },
     "d57e224662074444a6c23d10bf84039b": {
      "model_module": "@jupyter-widgets/base",
      "model_module_version": "1.2.0",
      "model_name": "LayoutModel",
      "state": {}
     },
     "dc9010df655c40ec93c5505627cb0aea": {
      "buffers": [
       {
        "data": "eNoDAAAAAAE=",
        "encoding": "base64",
        "path": [
         "colors",
         "compressed_buffer"
        ]
       },
       {
        "data": "eNpjYGiwZ8AAxIsBAF7EAv0=",
        "encoding": "base64",
        "path": [
         "model_matrix",
         "compressed_buffer"
        ]
       },
       {
        "data": "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",
        "encoding": "base64",
        "path": [
         "origins",
         "compressed_buffer"
        ]
       },
       {
        "data": "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",
        "encoding": "base64",
        "path": [
         "vectors",
         "compressed_buffer"
        ]
       }
      ],
      "model_module": "k3d",
      "model_module_version": "2.7.2",
      "model_name": "ObjectModel",
      "state": {
       "_view_count": null,
       "_view_module": null,
       "_view_module_version": "",
       "_view_name": null,
       "colors": {
        "dtype": "uint32",
        "shape": [
         0
        ]
       },
       "compression_level": 0,
       "head_color": 255,
       "head_size": 1,
       "id": 140549144792512,
       "label_size": 1,
       "labels": [],
       "line_width": 0.01,
       "model_matrix": {
        "dtype": "float32",
        "shape": [
         4,
         4
        ]
       },
       "name": "Vectors #1",
       "origin_color": 255,
       "origins": {
        "dtype": "float32",
        "shape": [
         1008,
         3
        ]
       },
       "type": "Vectors",
       "use_head": true,
       "vectors": {
        "dtype": "float32",
        "shape": [
         1008,
         3
        ]
       },
       "visible": true
      }
     },
     "dce735a803ab455ab3207ef3e9e05604": {
      "model_module": "@jupyter-widgets/base",
      "model_module_version": "1.2.0",
      "model_name": "LayoutModel",
      "state": {}
     },
     "dd9c97ed15024191a55fe3cbe6ca8ce9": {
      "buffers": [
       {
        "data": "eNoDAAAAAAE=",
        "encoding": "base64",
        "path": [
         "colors",
         "compressed_buffer"
        ]
       },
       {
        "data": "eNpjYGiwZ8AAxIsBAF7EAv0=",
        "encoding": "base64",
        "path": [
         "model_matrix",
         "compressed_buffer"
        ]
       },
       {
        "data": "eNpN0VENwzAMBuFAGJQisA1tUIxkK5RAmbIq7ZeXnqL0dNI/xjr9HWN+/zgKfn/g4E0+3PDrvFzrrLvNDRe8/I2/8Tf+2wm/6uHjvLy7oWgoGoqGoqFoKBqKhqKhaNh8yOfl3T2bV8/mhgte35uDN8m/8IRXz+ZDPi/X3RP0BD1BT9AT9AQ9QU/QE/QEPcFeyV7JXsleyV7JXsleyV7JXsleyV7JXjQ0DU1D09A0NA1NQ9PQNDQN+if+iX/in/gn/pk/dr6bDQ==",
        "encoding": "base64",
        "path": [
         "positions",
         "compressed_buffer"
        ]
       }
      ],
      "model_module": "k3d",
      "model_module_version": "2.7.2",
      "model_name": "ObjectModel",
      "state": {
       "_view_count": null,
       "_view_module": null,
       "_view_module_version": "",
       "_view_name": null,
       "color": 10075135,
       "colors": {
        "dtype": "uint32",
        "shape": [
         0
        ]
       },
       "compression_level": 0,
       "id": 140549144959008,
       "mesh_detail": 2,
       "model_matrix": {
        "dtype": "float32",
        "shape": [
         4,
         4
        ]
       },
       "name": "Points #2",
       "opacity": 1,
       "point_size": 0.1,
       "positions": {
        "dtype": "float32",
        "shape": [
         80,
         3
        ]
       },
       "shader": "3dSpecular",
       "type": "Points",
       "visible": true
      }
     },
     "e020df4a54004ff4b8371cc566f98003": {
      "model_module": "k3d",
      "model_module_version": "2.7.2",
      "model_name": "PlotModel",
      "state": {
       "_backend_version": "2.7.2",
       "_dom_classes": [],
       "_view_count": null,
       "antialias": 3,
       "auto_rendering": true,
       "axes": [
        "x",
        "y",
        "z"
       ],
       "axes_helper": 1,
       "background_color": 16777215,
       "camera": [
        10.284874878907916,
        -15.489812315567907,
        1.0059874815950491,
        -0.02499999664723873,
        -0.02500000223517418,
        -0.025000005960464478,
        0,
        0,
        1
       ],
       "camera_auto_fit": true,
       "camera_fov": 60,
       "camera_no_pan": false,
       "camera_no_rotate": false,
       "camera_no_zoom": false,
       "clipping_planes": [],
       "colorbar_object_id": -1,
       "fps": 25,
       "fps_meter": false,
       "grid": [
        -1,
        -1,
        -1,
        1,
        1,
        1
       ],
       "grid_auto_fit": true,
       "grid_visible": true,
       "height": 512,
       "layout": "IPY_MODEL_ffe36d87d3cc4ab59383af28af32b1dd",
       "lighting": 1.5,
       "menu_visibility": true,
       "mode": "view",
       "name": null,
       "object_ids": [
        140549990078880
       ],
       "rendering_steps": 1,
       "screenshot": "",
       "screenshot_scale": 2,
       "snapshot": "",
       "time": 0,
       "voxel_paint_color": 0
      }
     },
     "e6e9a74aa4e34f03a93312f38791cb92": {
      "model_module": "@jupyter-widgets/base",
      "model_module_version": "1.2.0",
      "model_name": "LayoutModel",
      "state": {}
     },
     "eff0af34247b46388aa3d7bd70172d30": {
      "buffers": [
       {
        "data": "eNoDAAAAAAE=",
        "encoding": "base64",
        "path": [
         "colors",
         "compressed_buffer"
        ]
       },
       {
        "data": "eNpjYGiwZ8AAxIsBAF7EAv0=",
        "encoding": "base64",
        "path": [
         "model_matrix",
         "compressed_buffer"
        ]
       },
       {
        "data": "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",
        "encoding": "base64",
        "path": [
         "origins",
         "compressed_buffer"
        ]
       },
       {
        "data": "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",
        "encoding": "base64",
        "path": [
         "vectors",
         "compressed_buffer"
        ]
       }
      ],
      "model_module": "k3d",
      "model_module_version": "2.7.2",
      "model_name": "ObjectModel",
      "state": {
       "_view_count": null,
       "_view_module": null,
       "_view_module_version": "",
       "_view_name": null,
       "colors": {
        "dtype": "uint32",
        "shape": [
         0
        ]
       },
       "compression_level": 0,
       "head_color": 255,
       "head_size": 1,
       "id": 140549145119904,
       "label_size": 1,
       "labels": [],
       "line_width": 0.01,
       "model_matrix": {
        "dtype": "float32",
        "shape": [
         4,
         4
        ]
       },
       "name": "Vectors #1",
       "origin_color": 255,
       "origins": {
        "dtype": "float32",
        "shape": [
         1008,
         3
        ]
       },
       "type": "Vectors",
       "use_head": true,
       "vectors": {
        "dtype": "float32",
        "shape": [
         1008,
         3
        ]
       },
       "visible": true
      }
     },
     "f8a59c33f2f741ffa83d65a14de63c92": {
      "buffers": [
       {
        "data": "eNoDAAAAAAE=",
        "encoding": "base64",
        "path": [
         "colors",
         "compressed_buffer"
        ]
       },
       {
        "data": "eNpjYGiwZ8AAxIsBAF7EAv0=",
        "encoding": "base64",
        "path": [
         "model_matrix",
         "compressed_buffer"
        ]
       },
       {
        "data": "eNpN0MERwjAMBVGXkIoklUYpqoRQikthQhC8QyZ7sHc9f616rdXn/V1c8OMJB2fyzw3v874/zsJZOAtn4Sycwxs+5v63Ndxwwdf/x8GZ5C684aPgeet0g27QDbpBN+gG3aAbdGl9dpk9kz2TPZM9kz2TPZM9cTbOxtk4G2fj7HwDDAaMxQ==",
        "encoding": "base64",
        "path": [
         "positions",
         "compressed_buffer"
        ]
       }
      ],
      "model_module": "k3d",
      "model_module_version": "2.7.2",
      "model_name": "ObjectModel",
      "state": {
       "_view_count": null,
       "_view_module": null,
       "_view_module_version": "",
       "_view_name": null,
       "color": 10075135,
       "colors": {
        "dtype": "uint32",
        "shape": [
         0
        ]
       },
       "compression_level": 0,
       "id": 140549990820064,
       "mesh_detail": 2,
       "model_matrix": {
        "dtype": "float32",
        "shape": [
         4,
         4
        ]
       },
       "name": "Points #1",
       "opacity": 1,
       "point_size": 0.1,
       "positions": {
        "dtype": "float32",
        "shape": [
         48,
         3
        ]
       },
       "shader": "3dSpecular",
       "type": "Points",
       "visible": true
      }
     },
     "fb41d3c6fac145068a1319a0c0c6d5bd": {
      "model_module": "k3d",
      "model_module_version": "2.7.2",
      "model_name": "PlotModel",
      "state": {
       "_backend_version": "2.7.2",
       "_dom_classes": [],
       "_view_count": null,
       "antialias": 3,
       "auto_rendering": true,
       "axes": [
        "x",
        "y",
        "z"
       ],
       "axes_helper": 1,
       "background_color": 16777215,
       "camera": [
        10.284874878907916,
        -15.489812315567907,
        1.0059874815950598,
        -0.02499999664723873,
        -0.02500000223517418,
        -0.025000005960464478,
        0,
        0,
        1
       ],
       "camera_auto_fit": true,
       "camera_fov": 60,
       "camera_no_pan": false,
       "camera_no_rotate": false,
       "camera_no_zoom": false,
       "clipping_planes": [],
       "colorbar_object_id": -1,
       "fps": 25,
       "fps_meter": false,
       "grid": [
        -1,
        -1,
        -1,
        1,
        1,
        1
       ],
       "grid_auto_fit": true,
       "grid_visible": true,
       "height": 512,
       "layout": "IPY_MODEL_2a498fdb8e174c88b2ca8dade165687e",
       "lighting": 1.5,
       "menu_visibility": true,
       "mode": "view",
       "name": null,
       "object_ids": [
        140549144790688
       ],
       "rendering_steps": 1,
       "screenshot": "",
       "screenshot_scale": 2,
       "snapshot": "",
       "time": 0,
       "voxel_paint_color": 0
      }
     },
     "fd8547f0a55e4573916ce0afb446d7cc": {
      "model_module": "@jupyter-widgets/base",
      "model_module_version": "1.2.0",
      "model_name": "LayoutModel",
      "state": {}
     },
     "ffe36d87d3cc4ab59383af28af32b1dd": {
      "model_module": "@jupyter-widgets/base",
      "model_module_version": "1.2.0",
      "model_name": "LayoutModel",
      "state": {}
     }
    },
    "version_major": 2,
    "version_minor": 0
   }
  }
 },
 "nbformat": 4,
 "nbformat_minor": 4
}
