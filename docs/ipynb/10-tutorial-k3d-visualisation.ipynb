{
 "cells": [
  {
   "cell_type": "markdown",
   "metadata": {},
   "source": [
    "# Tutorial 10: Visualising the field using `k3d`\n",
    "\n",
    "> Interactive online tutorial:\n",
    "> [![Binder](https://mybinder.org/badge_logo.svg)](https://mybinder.org/v2/gh/ubermag/discretisedfield/master?filepath=docs%2Fipynb%2Findex.ipynb)\n",
    "\n",
    "**Note:** If you experience any problems in plotting with `k3d`, please make sure you run the Jupyter notebook in Google Chrome.\n",
    "\n",
    "There are two ways how a field can be visualised, using:\n",
    "- `matplotlib`\n",
    "- `k3d`\n",
    "\n",
    "`k3d` provides three-dimensional interactive plots of fields inside Jupyter notebook.\n",
    "\n",
    "Let us say we have a sample, which is an ellipsoid\n",
    "\n",
    "$$\\frac{x^2}{a^2} + \\frac{y^2}{b^2} + \\frac{z^2}{c^2} <= 1$$\n",
    "\n",
    "with $a=5\\,\\text{nm}$, $b=3\\,\\text{nm}$, and $c=2\\,\\text{nm}$. The space is discretised into cells with dimensions $(0.5\\,\\text{nm}, 0.5\\,\\text{nm}, 0.5\\,\\text{nm})$. The value of the field at $(x, y, z)$ point is $(-cy, cx, cz)$, with $c=10^{9}$. The norm of the field inside the cylinder is $10^{6}$.\n",
    "\n",
    "Let us first build that field."
   ]
  },
  {
   "cell_type": "code",
   "execution_count": 1,
   "metadata": {},
   "outputs": [],
   "source": [
    "import discretisedfield as df\n",
    "\n",
    "a, b, c = 5e-9, 3e-9, 2e-9\n",
    "cell = (0.5e-9, 0.5e-9, 0.5e-9)\n",
    "\n",
    "mesh =  df.Mesh(p1=(-a, -b, -c), p2=(a, b, c), cell=cell)\n",
    "\n",
    "def norm_fun(pos):\n",
    "    x, y, z = pos\n",
    "    if (x/a)**2 + (y/b)**2 + (z/c)**2 <= 1:\n",
    "        return 1e6\n",
    "    else:\n",
    "        return 0\n",
    "    \n",
    "def value_fun(pos):\n",
    "    x, y, z = pos\n",
    "    c = 1e9\n",
    "    return (-c*y, c*x, c*z)\n",
    "\n",
    "field = df.Field(mesh, value=value_fun, norm=norm_fun)"
   ]
  },
  {
   "cell_type": "markdown",
   "metadata": {},
   "source": [
    "The most basic plot we can show is the plot of all the cells where the value is non-zero. This can be useful, to inspect the domain created, by plotting the norm."
   ]
  },
  {
   "cell_type": "code",
   "execution_count": 2,
   "metadata": {},
   "outputs": [
    {
     "data": {
      "application/vnd.jupyter.widget-view+json": {
       "model_id": "d23be4cca5fc49cb93430b38c87acb30",
       "version_major": 2,
       "version_minor": 0
      },
      "text/plain": [
       "Output()"
      ]
     },
     "metadata": {},
     "output_type": "display_data"
    }
   ],
   "source": [
    "# NBVAL_IGNORE_OUTPUT\n",
    "field.norm.k3d_nonzero()"
   ]
  },
  {
   "cell_type": "markdown",
   "metadata": {},
   "source": [
    "The plot is interactive, so it can be manipulated using a mouse. To change the color of voxels, we can pass the new color via `color` argument."
   ]
  },
  {
   "cell_type": "code",
   "execution_count": 3,
   "metadata": {},
   "outputs": [
    {
     "data": {
      "application/vnd.jupyter.widget-view+json": {
       "model_id": "dce5c341cb1d4ac592ee126622cd7702",
       "version_major": 2,
       "version_minor": 0
      },
      "text/plain": [
       "Output()"
      ]
     },
     "metadata": {},
     "output_type": "display_data"
    }
   ],
   "source": [
    "# NBVAL_IGNORE_OUTPUT\n",
    "field.norm.k3d_nonzero(color=0x27ae60)"
   ]
  },
  {
   "cell_type": "markdown",
   "metadata": {},
   "source": [
    "Next, we can plot a scalar field. For plotting a scalar field, we are using `discretisedfield.Field.k3d_voxels()` method."
   ]
  },
  {
   "cell_type": "code",
   "execution_count": 4,
   "metadata": {},
   "outputs": [
    {
     "name": "stdout",
     "output_type": "stream",
     "text": [
      "Exception raised.\n"
     ]
    }
   ],
   "source": [
    "# NBVAL_IGNORE_OUTPUT\n",
    "try:\n",
    "    field.k3d_voxels()\n",
    "except ValueError:\n",
    "    print('Exception raised.')"
   ]
  },
  {
   "cell_type": "markdown",
   "metadata": {},
   "source": [
    "An exception was raised because we attempted to plot a vector field using voxels. Therefore, we first need to extract a component of the field. Let us plot the $x$ component."
   ]
  },
  {
   "cell_type": "code",
   "execution_count": 5,
   "metadata": {},
   "outputs": [
    {
     "data": {
      "application/vnd.jupyter.widget-view+json": {
       "model_id": "b18c3b4a3bdc4d44801c615e88a95dfe",
       "version_major": 2,
       "version_minor": 0
      },
      "text/plain": [
       "Output()"
      ]
     },
     "metadata": {},
     "output_type": "display_data"
    }
   ],
   "source": [
    "# NBVAL_IGNORE_OUTPUT\n",
    "field.x.k3d_voxels()"
   ]
  },
  {
   "cell_type": "markdown",
   "metadata": {},
   "source": [
    "However, we can see that the points which we consider to be outside the sample are also plotted. This is because, `discretisedfield.Field.k3d_voxels()` method cannot determine the points where norm is zero from the passed scalar field. Therefore, we need to pass the `norm_field.`"
   ]
  },
  {
   "cell_type": "code",
   "execution_count": 6,
   "metadata": {},
   "outputs": [
    {
     "data": {
      "application/vnd.jupyter.widget-view+json": {
       "model_id": "fe41b2e8a335469988bca2cddc1be272",
       "version_major": 2,
       "version_minor": 0
      },
      "text/plain": [
       "Output()"
      ]
     },
     "metadata": {},
     "output_type": "display_data"
    }
   ],
   "source": [
    "# NBVAL_IGNORE_OUTPUT\n",
    "field.x.k3d_voxels(filter_field=field.norm, multiplier=1e-6)"
   ]
  },
  {
   "cell_type": "markdown",
   "metadata": {},
   "source": [
    "By cascading operations, we can similarly plot the slice of the ellipsoid at $z=0$."
   ]
  },
  {
   "cell_type": "code",
   "execution_count": 7,
   "metadata": {},
   "outputs": [
    {
     "data": {
      "text/plain": [
       "(5e-10, 6e-09, 4e-09)"
      ]
     },
     "execution_count": 7,
     "metadata": {},
     "output_type": "execute_result"
    }
   ],
   "source": [
    "field.plane('x').mesh.region.edges"
   ]
  },
  {
   "cell_type": "code",
   "execution_count": 8,
   "metadata": {},
   "outputs": [
    {
     "data": {
      "application/vnd.jupyter.widget-view+json": {
       "model_id": "7341a98ebf13490884fac48e030cf1ed",
       "version_major": 2,
       "version_minor": 0
      },
      "text/plain": [
       "Output()"
      ]
     },
     "metadata": {},
     "output_type": "display_data"
    }
   ],
   "source": [
    "# NBVAL_IGNORE_OUTPUT\n",
    "field.x.plane('z').k3d_voxels(filter_field=field.plane('z').norm)"
   ]
  },
  {
   "cell_type": "markdown",
   "metadata": {},
   "source": [
    "To further modify the plot, keyword arguments for `k3d.voxels()` function are accepted. Plese refer to its [documentation](https://k3d-jupyter.readthedocs.io/en/latest/k3d.html#k3d.k3d.voxels).\n",
    "\n",
    "Next, we can plot the vector field itself."
   ]
  },
  {
   "cell_type": "code",
   "execution_count": 9,
   "metadata": {},
   "outputs": [
    {
     "data": {
      "application/vnd.jupyter.widget-view+json": {
       "model_id": "25e458ca8049430f9458c908ef6873cb",
       "version_major": 2,
       "version_minor": 0
      },
      "text/plain": [
       "Output()"
      ]
     },
     "metadata": {},
     "output_type": "display_data"
    }
   ],
   "source": [
    "# NBVAL_IGNORE_OUTPUT\n",
    "field.k3d_vectors()"
   ]
  },
  {
   "cell_type": "markdown",
   "metadata": {},
   "source": [
    "By default, points at the discretisation cell centres are plotted together with vectors to help understand the structure of the field. However, they can be deactivated by passing `points=False`."
   ]
  },
  {
   "cell_type": "code",
   "execution_count": 10,
   "metadata": {},
   "outputs": [
    {
     "data": {
      "application/vnd.jupyter.widget-view+json": {
       "model_id": "437e746de22740c4b1023ff6700c9fda",
       "version_major": 2,
       "version_minor": 0
      },
      "text/plain": [
       "Output()"
      ]
     },
     "metadata": {},
     "output_type": "display_data"
    }
   ],
   "source": [
    "# NBVAL_IGNORE_OUTPUT\n",
    "field.k3d_vectors(points=False)"
   ]
  },
  {
   "cell_type": "markdown",
   "metadata": {},
   "source": [
    "It is difficult to understand the vector field from this plot. By cascading, we can plot its slice at $x=0$."
   ]
  },
  {
   "cell_type": "code",
   "execution_count": 11,
   "metadata": {},
   "outputs": [
    {
     "data": {
      "application/vnd.jupyter.widget-view+json": {
       "model_id": "928e242ed05d48c48d84f78502fcbe6d",
       "version_major": 2,
       "version_minor": 0
      },
      "text/plain": [
       "Output()"
      ]
     },
     "metadata": {},
     "output_type": "display_data"
    }
   ],
   "source": [
    "# NBVAL_IGNORE_OUTPUT\n",
    "field.plane(x=0).k3d_vectors()"
   ]
  },
  {
   "cell_type": "markdown",
   "metadata": {},
   "source": [
    "To improve the understanding of the plot, we can now colour the vectors plotted. For that, we need to pass a scalar field, according to which the vectors will be coloured."
   ]
  },
  {
   "cell_type": "code",
   "execution_count": 12,
   "metadata": {},
   "outputs": [
    {
     "data": {
      "application/vnd.jupyter.widget-view+json": {
       "model_id": "ebda243317ef41209c2e462700098dba",
       "version_major": 2,
       "version_minor": 0
      },
      "text/plain": [
       "Output()"
      ]
     },
     "metadata": {},
     "output_type": "display_data"
    }
   ],
   "source": [
    "# NBVAL_IGNORE_OUTPUT\n",
    "field.plane(x=0).k3d_vectors(color_field=field.x)"
   ]
  },
  {
   "cell_type": "markdown",
   "metadata": {},
   "source": [
    "To further modify the plot, keyword arguments for `k3d.vectors()` function are accepted. Plese refer to its [documentation](https://k3d-jupyter.readthedocs.io/en/latest/k3d.html#k3d.k3d.vectors).\n",
    "\n",
    "### Multiple visualisation on the same plot\n",
    "\n",
    "Sometimes, it is necessary to show, for example, multiple planes of the sample on the same plot. This can be done by exposing the `k3d.plot` and passing it to different plotting methods. For instance."
   ]
  },
  {
   "cell_type": "code",
   "execution_count": 13,
   "metadata": {},
   "outputs": [
    {
     "data": {
      "application/vnd.jupyter.widget-view+json": {
       "model_id": "2c782060ff8142c8855f851d2156932c",
       "version_major": 2,
       "version_minor": 0
      },
      "text/plain": [
       "Output()"
      ]
     },
     "metadata": {},
     "output_type": "display_data"
    }
   ],
   "source": [
    "# NBVAL_IGNORE_OUTPUT\n",
    "import k3d\n",
    "plot = k3d.plot()\n",
    "field.plane(x=-3e-9).k3d_vectors(plot=plot, color_field=field.z)\n",
    "field.plane(x=0).k3d_vectors(plot=plot, color_field=field.z)\n",
    "field.plane(x=3e-9).k3d_vectors(plot=plot, color_field=field.z)\n",
    "plot.display()"
   ]
  },
  {
   "cell_type": "markdown",
   "metadata": {},
   "source": [
    "### Plotting regions in the mesh\n",
    "\n",
    "As explained in [Defining regions tutorial](03-tutorial-defining-regions.ipynb), different regions can be defined in the mesh. Sometimes it is necessary to visualise those regions in order to make sure they are defined properly."
   ]
  },
  {
   "cell_type": "code",
   "execution_count": 14,
   "metadata": {},
   "outputs": [
    {
     "data": {
      "application/vnd.jupyter.widget-view+json": {
       "model_id": "e292f80c465c4f5b9f7e6e531b8bffa8",
       "version_major": 2,
       "version_minor": 0
      },
      "text/plain": [
       "Output()"
      ]
     },
     "metadata": {},
     "output_type": "display_data"
    }
   ],
   "source": [
    "# NBVAL_IGNORE_OUTPUT\n",
    "p1 = (0, 0, 0)\n",
    "p2 = (50, 50, 10)\n",
    "cell = (5, 5, 5)\n",
    "mesh = df.Mesh(p1=p1, p2=p2, cell=cell)\n",
    "\n",
    "region1 = df.Region(p1=(0, 0, 0), p2=(50, 50, 5))\n",
    "region2 = df.Region(p1=(0, 0, 5), p2=(50, 50, 10))\n",
    "\n",
    "mesh.subregions = {'region_with_interesting_properties': region1, 'region_with_funny_properties': region2}\n",
    "\n",
    "mesh.k3d_subregions()"
   ]
  },
  {
   "cell_type": "markdown",
   "metadata": {},
   "source": [
    "## Other\n",
    "\n",
    "Full description of all existing functionality can be found in the [API Reference](https://discretisedfield.readthedocs.io/en/latest/api-reference.html)."
   ]
  }
 ],
 "metadata": {
  "kernelspec": {
   "display_name": "Python 3",
   "language": "python",
   "name": "python3"
  },
  "language_info": {
   "codemirror_mode": {
    "name": "ipython",
    "version": 3
   },
   "file_extension": ".py",
   "mimetype": "text/x-python",
   "name": "python",
   "nbconvert_exporter": "python",
   "pygments_lexer": "ipython3",
   "version": "3.8.1"
  },
  "widgets": {
   "application/vnd.jupyter.widget-state+json": {
    "state": {
     "0298260fa8314124b12672ee04fbf43c": {
      "model_module": "@jupyter-widgets/base",
      "model_module_version": "1.2.0",
      "model_name": "LayoutModel",
      "state": {}
     },
     "02ebb272c3d243c2bf5e9fb45b87b428": {
      "buffers": [
       {
        "data": "eNoDAAAAAAE=",
        "encoding": "base64",
        "path": [
         "colors",
         "compressed_buffer"
        ]
       },
       {
        "data": "eNpjYGiwZ8AAxIsBAF7EAv0=",
        "encoding": "base64",
        "path": [
         "model_matrix",
         "compressed_buffer"
        ]
       },
       {
        "data": "eNpN09FthEAMBFDSwZVCBR6XdqW4kjtKSSkRWQGPH0bLYj1p5G07n/n+bL/f/7g1+f0hF3fy5CG/jnPWmdbZXHfITX5/yMWd8G+Yyfmrn7wfa+5laAyNoTE0hsbQGBpDY2gMV97Nx5p7eVZenut8yE0+33cu7oR/w0zOT8+Vd/OxZt2ewlN4Ck/hKTyFp/AUnsJTeIq+Ql+hr9BX6Cv0FfoKfYW+Ql+hr9AXhsEwGAbDYBgMg2EwDIbB8Mxf3+69C3sX9i7sXdi7/AGjvpsl",
        "encoding": "base64",
        "path": [
         "positions",
         "compressed_buffer"
        ]
       }
      ],
      "model_module": "k3d",
      "model_module_version": "2.7.2",
      "model_name": "ObjectModel",
      "state": {
       "_view_count": null,
       "_view_module": null,
       "_view_module_version": "",
       "_view_name": null,
       "color": 2062260,
       "colors": {
        "dtype": "uint32",
        "shape": [
         0
        ]
       },
       "compression_level": 0,
       "id": 140478911746976,
       "mesh_detail": 2,
       "model_matrix": {
        "dtype": "float32",
        "shape": [
         4,
         4
        ]
       },
       "name": "Points #1",
       "opacity": 1,
       "point_size": 0.125,
       "positions": {
        "dtype": "float32",
        "shape": [
         80,
         3
        ]
       },
       "shader": "3dSpecular",
       "type": "Points",
       "visible": true
      }
     },
     "0cb2e4e978c5429faecaa8b51126076a": {
      "model_module": "@jupyter-widgets/base",
      "model_module_version": "1.2.0",
      "model_name": "LayoutModel",
      "state": {}
     },
     "15412b58f7354e7c961aa9710acf5465": {
      "model_module": "@jupyter-widgets/base",
      "model_module_version": "1.2.0",
      "model_name": "LayoutModel",
      "state": {}
     },
     "158456ce139e4b5e9970a58b4c38a332": {
      "model_module": "k3d",
      "model_module_version": "2.7.2",
      "model_name": "PlotModel",
      "state": {
       "_backend_version": "2.7.2",
       "_dom_classes": [],
       "_view_count": null,
       "antialias": 3,
       "auto_rendering": true,
       "axes": [
        "x (nm)",
        "y (nm)",
        "z (nm)"
       ],
       "axes_helper": 1,
       "background_color": 16777215,
       "camera": [
        9.80367128973346,
        -14.70550693460019,
        0.9803671289733442,
        0,
        0,
        0,
        0,
        0,
        1
       ],
       "camera_auto_fit": true,
       "camera_fov": 60,
       "camera_no_pan": false,
       "camera_no_rotate": false,
       "camera_no_zoom": false,
       "clipping_planes": [],
       "colorbar_object_id": -1,
       "fps": 25,
       "fps_meter": false,
       "grid": [
        -1,
        -1,
        -1,
        1,
        1,
        1
       ],
       "grid_auto_fit": true,
       "grid_visible": true,
       "height": 512,
       "layout": "IPY_MODEL_81fb61e0eaa9493ab671a4ff94b9d4b0",
       "lighting": 1.5,
       "menu_visibility": true,
       "mode": "view",
       "name": null,
       "object_ids": [
        140480006401232
       ],
       "rendering_steps": 1,
       "screenshot": "",
       "screenshot_scale": 2,
       "snapshot": "",
       "time": 0,
       "voxel_paint_color": 0
      }
     },
     "25e458ca8049430f9458c908ef6873cb": {
      "model_module": "@jupyter-widgets/output",
      "model_module_version": "1.0.0",
      "model_name": "OutputModel",
      "state": {
       "layout": "IPY_MODEL_558de14b7c5946e7b64aba6c5dff1659",
       "outputs": [
        {
         "data": {
          "application/vnd.jupyter.widget-view+json": {
           "model_id": "9f1a9a772cc04e53bd2eb006084007f2",
           "version_major": 2,
           "version_minor": 0
          },
          "text/plain": "Plot(antialias=3, axes=['x', 'y', 'z'], axes_helper=1.0, background_color=16777215, camera=[4.5, 4.5, 4.5, 0.0…"
         },
         "metadata": {},
         "output_type": "display_data"
        }
       ]
      }
     },
     "2c782060ff8142c8855f851d2156932c": {
      "model_module": "@jupyter-widgets/output",
      "model_module_version": "1.0.0",
      "model_name": "OutputModel",
      "state": {
       "layout": "IPY_MODEL_0cb2e4e978c5429faecaa8b51126076a",
       "outputs": [
        {
         "data": {
          "application/vnd.jupyter.widget-view+json": {
           "model_id": "f67fc0e6528b410bab7fa5540e44d38c",
           "version_major": 2,
           "version_minor": 0
          },
          "text/plain": "Plot(antialias=3, axes=['x (nm)', 'y (nm)', 'z (nm)'], axes_helper=1.0, background_color=16777215, camera=[4.5…"
         },
         "metadata": {},
         "output_type": "display_data"
        }
       ]
      }
     },
     "2ca9b0b274ce40baa3dfbd5bb90b09a5": {
      "model_module": "@jupyter-widgets/base",
      "model_module_version": "1.2.0",
      "model_name": "LayoutModel",
      "state": {}
     },
     "3243c7594ee04e91bccfd28933b9ea02": {
      "buffers": [
       {
        "data": "eNot0vlP1gUcwPF3rVar1Wq14vR5Hh4eBOSSQy45fZ7v96spoRIiIqJAHCKH3Pf9cD7fLLMss8yyzLLM0sy01KJIo1BDEQUEfWBrba2ttbbW1sfVD6//4JV2l5X0u62su8fG+nttZN6nkHW/wsYHFLIfVMh5SGXzwyq5j6jkPaqS/5hKweMahU9oFD2pUeyiUeKmsc1do9RDo8xTo9ygUWHUqDRpVJk1qr01aiwatT4adb4a9X4aDf4qDQEqjYEqTUEqzcEqLSEKLaEKrWEKbeEK7RE22iNtdETZ6Iy20hljpStWxC2jO14kJGNPFEnJ9CQn0WNNoteWSK8i1AT6NLE8nr4V8fSvFKvi6E8RTy9lIFWsjmVgjVgbw2CaeCaawXSREcXgepEZiWODyFqCY6PIjsCxSeSE49gstoThyA1DzwtFzxfPLkYvEIWiKAS9WGwNRi8R24LQS0WZKA9Er7gjAH27qBRVi9CrRY0/eq2oE/V+6A2iUTT5ojeLloXoraJNtPugd/yv04LeJbqF3Ru9R/Sa0fvMOPrFgBeOQeEQugnHc2KHicHnxQvG/+wULxoY2CVeEi+L3Qb6XxGvij0L6HtN7BWvG+h9Q+wTbxrouWO/AftbRuxvG+k+YKL7HfGuF10Hveh8z0znIW863rfQ8YGF9sM+YiFtH/rS+pEfrUf8afk4gOajgTR9EkTTp8E0HltMw/FQ6o+HU/9ZBHUnIqn9PIqakzFUfxFL1ak4Kk8lsP10IhVfJlP+lZWyMwqlZ+Xj2RWUnFvJ1q9TKP4mlaKhNRQOpVHwbTr532WQN5xJ7nAWW77PJud8Dpsu5JJ9IZ+sHwrYMFJE5kgJGT+Wsu6nctJHK0kbrWbtxVpWX2wg9VITKZdbWXW5nad+7mL5mB1trA/lygC2KzrLru4g6epOEsd3ET++m6XX9hB7bS/RE/uInNjPkusHCL9+kNAbhwi5cZjgySMETh5l0dQx/KZO4Dt1Ep/p01imz2CePofp5hDGm8MYZs7jOTOCx8wo7rOXcJsdw3V2HNdbE7jcmhTTuNyexfW2U8zj5vwFd+eveDh/w9P5Owvm/sA49yemub8wz/+NZf4f/gXLh0p6",
        "encoding": "base64",
        "path": [
         "color_map",
         "compressed_buffer"
        ]
       },
       {
        "data": "eNpjYFBwZMAABxwwxRqwidkDAFK8AuE=",
        "encoding": "base64",
        "path": [
         "model_matrix",
         "compressed_buffer"
        ]
       },
       {
        "data": "eNrl1U1IKlEUB3ASxIVuDF1IMMvBFiJEDGGEUQlRNGGRKEkRFgNDKOZH4252Tn4kSgwMJVEYDkZJRhFYkUQSQwTiomGWA+FCyY0uRLDnU8R8qwePt/Lu7o/LOecPl3tx/N9XlmGyvXKWSKZSycTZD/IHQ+FIJBwK+rvmcthtVqvN7nD9OLhq0MOw3rDaW1EDQRr8P69iuVzsgdccxxcKPJd77cj51d0Tk+e4PPN0d3XetsPjWCKVzmTSqUTs+LBFxJ4/EIqQFEVGQgH/HvHbsF2X025FEQS12p2uXax1cGvDbIB1Wq0ONpg3ttr1VhZnJyEVCKqgydnFlU7nMTUIKBQAqB7rGVEulcr/Kly93rtn+WKlVqsUebYj6ee3D/6rWv3iP96e0y2iL67vs3m+VOLz2fvrC7pJJHV0Ek+mGZZl0sn4yRFF4riX8PmDYTIaj0fJcNDvI7w47sHcLocNtZhMFtTmcLkxD46jyOa6Sa+DlEpIpzetbyJos6BxeWFGowJkMkClmVlYNrYa6yZGh4FBsXgQGB6d0HUmVAJyiUgkkQPK3ixC4R9hS5X693e9UupKjvss1xqNWvmTy7Xl9uHlnStUG41qgXt/ebhtUoy+vHlkuFK9XuKYx5tLOoYfkFT0lE5l2EqFzaTo0yhFHngJwhfYj1BxholTkf2AjyC8HgxzO3esiAmCTIh1x+nGMM82iljWjLBWKZEotbBxzYKg27jZuDQ/BYEyoVAGQlPzS0Zzs/Hc9PgIqBALBGIFODI+PdeeUA0OSUUCgUg6BKq7SWQS4cCAUCLr57z9dp/78L3qk//oF5tnwC4=",
        "encoding": "base64",
        "path": [
         "voxels",
         "compressed_buffer"
        ]
       }
      ],
      "model_module": "k3d",
      "model_module_version": "2.7.2",
      "model_name": "ObjectModel",
      "state": {
       "_view_count": null,
       "_view_module": null,
       "_view_module_version": "",
       "_view_name": null,
       "color_map": {
        "dtype": "uint32",
        "shape": [
         256
        ]
       },
       "compression_level": 0,
       "id": 140478911770576,
       "model_matrix": {
        "dtype": "float32",
        "shape": [
         4,
         4
        ]
       },
       "name": "Voxels #1",
       "opacity": 1,
       "outlines": false,
       "outlines_color": 0,
       "type": "Voxels",
       "visible": true,
       "voxels": {
        "dtype": "uint8",
        "shape": [
         8,
         12,
         20
        ]
       },
       "wireframe": false
      }
     },
     "347b05a006a7435791e56edcad6c6ea9": {
      "buffers": [
       {
        "data": "eNpL5HNnSATiSFZXMA5hdEHBMPFEqLouHzsw7nBzAOM2RycwbrVzRsEwcZg6mL6+Gg0IrtKE4AotCC4jgGHqYPqg5rQtUQDj1mWKYNyyQgmMm1ep4MUwdTB9MHOiz2aCcciFUjD2u1wPxp5X21AwTBymDqZP8slzMFZ49g2MVZ//RcEwcZg6AKXOe70=",
        "encoding": "base64",
        "path": [
         "colors",
         "compressed_buffer"
        ]
       },
       {
        "data": "eNpjYGiwZ8AAxIsBAF7EAv0=",
        "encoding": "base64",
        "path": [
         "model_matrix",
         "compressed_buffer"
        ]
       },
       {
        "data": "eNpNkTtIgmEUhhWiiCiaKogIkhDKIDAxfvGc31I0KSOKFiHEkqg1sLCWkIQmG5qcIoTuFNHi4PedSreuuAhJQZQ4BjVFdPmmzvYO5z0PPG9MeilyvyzrVjek8dlN7vybGM8k5cOBiwypFufCUFJ2TgBtrdeiyj9tDjq+iaO6Sej9FGi+QNVtTfnp40hILPTISZOPtsNL8nvRIr/MHpqnimgIdUtH3kUUnnJq510yrwFZyvWoclVRo/LtGqqb/ZL97/8lqu5rxEY1ewZd/by+GqbqoIE2YU48Fv10VsnKp75Z4Q36KBSNyrGBiDgd9dCu9UWMHE6LbMFFJVPc2ZsLi0EL0MpMI6ocONGo6T2B6iaTttNdLoeq22G20U6dUVc/rVYrfabbdcViXGBcYFxgXGBcYFxgXGBcYFxgXGA+kflE5hOZT2Q+kflE5hOZT4z9745sd2S7I9sd2e7IdsdfI4wSUA==",
        "encoding": "base64",
        "path": [
         "origins",
         "compressed_buffer"
        ]
       },
       {
        "data": "eNpNka9LQ3EUxZPgjyDygkGDYWVRcAvCPS4N4QWTsIWBCA60y5pBsGnVZBAsCzZZ2vd+q+HtX1heGWsOLHrv4OJJ3wPv3vO575xyMUCzt57LxUCL1j7Gx9v5qnGvt/NzaRVFvvl8cJ1C24zGjO/E7uhtiKPTtbzZ31H7tvLx2cffGp5PdrO9+vJ6KZ1qLx9+112n0P4tZtw3ds1Tw3NSVXg/+9GLrWaaPX2sbt7otpPdBL/NbzQvuKd7302vZfl1kO11nUI7L2b8f2LXPDU8jaXBIq4QV4grxBXiCnGFuEJcIa4QVyhPUJ6gPEF5gvIE5QnKE5Qnyv/eQb2Degf1Duod1Dv+AH+KCsw=",
        "encoding": "base64",
        "path": [
         "vectors",
         "compressed_buffer"
        ]
       }
      ],
      "model_module": "k3d",
      "model_module_version": "2.7.2",
      "model_name": "ObjectModel",
      "state": {
       "_view_count": null,
       "_view_module": null,
       "_view_module_version": "",
       "_view_name": null,
       "colors": {
        "dtype": "uint32",
        "shape": [
         48,
         2
        ]
       },
       "compression_level": 0,
       "head_color": 255,
       "head_size": 1,
       "id": 140478910603952,
       "label_size": 1,
       "labels": [],
       "line_width": 0.01,
       "model_matrix": {
        "dtype": "float32",
        "shape": [
         4,
         4
        ]
       },
       "name": "Vectors #1",
       "origin_color": 255,
       "origins": {
        "dtype": "float32",
        "shape": [
         48,
         3
        ]
       },
       "type": "Vectors",
       "use_head": true,
       "vectors": {
        "dtype": "float32",
        "shape": [
         48,
         3
        ]
       },
       "visible": true
      }
     },
     "34abb12bf62a47ea968aec0dba54b6f1": {
      "buffers": [
       {
        "data": "eNoLuVDKEALEhfucwLh9oTwY99Wrg3FvggkYd7g5gLHUo6tgrHr/ABhb35wLxgmnEsC4dbkSGPdVaoJxd4ANGNcbu4FxibIHGGdJQLDcsy9gLPP0PRhLPnkKxrIPz4Kx3Y0ZYFyzRR+M+3IguNHUFYzzZDzAOFnAHYxjudzAOIodglWf/wVj5ee/UTDMXoknj8A4BBoOMH+mCLqDMcycMCYXFBzCCMG0Np/W4UPt+AwhMT0BAKo80JE=",
        "encoding": "base64",
        "path": [
         "colors",
         "compressed_buffer"
        ]
       },
       {
        "data": "eNpjYGiwZ8AAxIsBAF7EAv0=",
        "encoding": "base64",
        "path": [
         "model_matrix",
         "compressed_buffer"
        ]
       },
       {
        "data": "eNpNk01oE3EQxS+W5GIwiIIQNFAsipIaFcTanbdViNKKBVFQqYe2CLEQhKJSC0VUUFCUluIpDSWm0osHQQ9K3ZklftOIKLJeakXrx8keFBqMIP7n5Jz2Hebj99/3JiosBr8btyTbPCv1znJw5kFO8sMvJN/9/dHS6Rt88N4z1e0rV/eTalfjXdu7E1oTFRa9WFMJ2lub3sb9SIbpy+My8q2FG43P0rxmTMpjK5hKFan9uC4tA2+C6sN9MtF6Vb7+WhuMzI/zl41XVHuxPUdItavxKLcDWuN6qdo3Ae11Myne9AE60+2iUpjwddf9wRxPp7NhZmir5F/v5kPHkuHyJ60yu7mdd/UsSDnaJOlLGf7UMyUzb9dLPZVged8l1aGU/IydC/6mJ/nigaRqbxl3kGpXQx0btkNrXC+tqxShvW4mPa/MQWe6XXTndsLXXY6Bjn7M+MrwqrbfvSkbSm+BR/90cWUgGb47fJKHT3QySgvi/iPP383xZH1K3Jt56Wkbnx/tFreb3f8MzhZneNXLuGrPfUm1q6ELp7ZAa1wv9caL0F43kx73zUFnul10/GbC112OgVJRxlcGw0OGhwwPGR4yPGR4yPCQ4SHDQ4aHDA8ZHjJ+wfgF4xeMXzB+wfgF4xeMXzB+wfgF4xeMXzC5hcktTG5hcguTW5jcwuQWJrcwuYXJLaL/dwdzdzB3B3N3MHcHc3f4B+bIywg=",
        "encoding": "base64",
        "path": [
         "origins",
         "compressed_buffer"
        ]
       },
       {
        "data": "eNpNky1LRFEQhjWJRQwWQfALDKLROG9UsMhi8A8oLuIajMomoyBrXWTFok0UTeKZILjBXbEtJk36A1Z0EYszlzPwhuHM5c7Hc84706nsYFEh1c9z7S1P4nRoTVpz91pe2RS3vY0n91P4FqMR06nsaOS2L25Qvx6XvsaS2ndR0/+fHdfguXbqzFYJoyeHMnFwqR9fDXF7u2q6n8K3GI0Yz4lc7xE1rZdGr9vdJrZXh2Wq+prKLw+Ynp2X+nu/Gl9xF+e1WkVfr90bO8L3fhI7tTvwK24/j3fup/D9X8Q4R+T6naOm9dLoZQwaDM/tNga7I2KWan8trJcWxCzZ2yG/abJ7It8/WT9kjmR3QzbNVviZr4jJ71XkZm2KmtZLo5cxaDAQjxCPEI8QjxCPEA+IB8QjxCPEI8QjxCOkl5BeIL1AeoH0AukF0gukF0gvkF4gvUB6Cc0taG5BcwuaW9DcguYWNLeguQXNLWhui3fMuwPaO9DegfYOtHegvcM/aKzjfA==",
        "encoding": "base64",
        "path": [
         "vectors",
         "compressed_buffer"
        ]
       }
      ],
      "model_module": "k3d",
      "model_module_version": "2.7.2",
      "model_name": "ObjectModel",
      "state": {
       "_view_count": null,
       "_view_module": null,
       "_view_module_version": "",
       "_view_name": null,
       "colors": {
        "dtype": "uint32",
        "shape": [
         80,
         2
        ]
       },
       "compression_level": 0,
       "head_color": 255,
       "head_size": 1,
       "id": 140478911335920,
       "label_size": 1,
       "labels": [],
       "line_width": 0.01,
       "model_matrix": {
        "dtype": "float32",
        "shape": [
         4,
         4
        ]
       },
       "name": "Vectors #1",
       "origin_color": 255,
       "origins": {
        "dtype": "float32",
        "shape": [
         80,
         3
        ]
       },
       "type": "Vectors",
       "use_head": true,
       "vectors": {
        "dtype": "float32",
        "shape": [
         80,
         3
        ]
       },
       "visible": true
      }
     },
     "437e746de22740c4b1023ff6700c9fda": {
      "model_module": "@jupyter-widgets/output",
      "model_module_version": "1.0.0",
      "model_name": "OutputModel",
      "state": {
       "layout": "IPY_MODEL_15412b58f7354e7c961aa9710acf5465",
       "outputs": [
        {
         "data": {
          "application/vnd.jupyter.widget-view+json": {
           "model_id": "158456ce139e4b5e9970a58b4c38a332",
           "version_major": 2,
           "version_minor": 0
          },
          "text/plain": "Plot(antialias=3, axes=['x', 'y', 'z'], axes_helper=1.0, background_color=16777215, camera=[4.5, 4.5, 4.5, 0.0…"
         },
         "metadata": {},
         "output_type": "display_data"
        }
       ]
      }
     },
     "4d2a4ce5e00e4b9da6c8cfcfdcf99911": {
      "model_module": "@jupyter-widgets/base",
      "model_module_version": "1.2.0",
      "model_name": "LayoutModel",
      "state": {}
     },
     "558de14b7c5946e7b64aba6c5dff1659": {
      "model_module": "@jupyter-widgets/base",
      "model_module_version": "1.2.0",
      "model_name": "LayoutModel",
      "state": {}
     },
     "582507a4aef8460e90be9bd4643ab75a": {
      "model_module": "@jupyter-widgets/base",
      "model_module_version": "1.2.0",
      "model_name": "LayoutModel",
      "state": {}
     },
     "5a53e4d446e44b4195b3e7faf775c551": {
      "model_module": "@jupyter-widgets/base",
      "model_module_version": "1.2.0",
      "model_name": "LayoutModel",
      "state": {}
     },
     "5d082a4b3c0b430ba24aa5436bb3ecd6": {
      "model_module": "@jupyter-widgets/base",
      "model_module_version": "1.2.0",
      "model_name": "LayoutModel",
      "state": {}
     },
     "6019251b81f441618a9a0e10036a9990": {
      "model_module": "k3d",
      "model_module_version": "2.7.2",
      "model_name": "PlotModel",
      "state": {
       "_backend_version": "2.7.2",
       "_dom_classes": [],
       "_view_count": null,
       "antialias": 3,
       "auto_rendering": true,
       "axes": [
        "x (nm)",
        "y (nm)",
        "z (nm)"
       ],
       "axes_helper": 1,
       "background_color": 16777215,
       "camera": [
        10.284874878907916,
        -15.489812315567907,
        1.0059874815950491,
        -0.02499999664723873,
        -0.02500000223517418,
        -0.025000005960464478,
        0,
        0,
        1
       ],
       "camera_auto_fit": true,
       "camera_fov": 60,
       "camera_no_pan": false,
       "camera_no_rotate": false,
       "camera_no_zoom": false,
       "clipping_planes": [],
       "colorbar_object_id": -1,
       "fps": 25,
       "fps_meter": false,
       "grid": [
        -1,
        -1,
        -1,
        1,
        1,
        1
       ],
       "grid_auto_fit": true,
       "grid_visible": true,
       "height": 512,
       "layout": "IPY_MODEL_0298260fa8314124b12672ee04fbf43c",
       "lighting": 1.5,
       "menu_visibility": true,
       "mode": "view",
       "name": null,
       "object_ids": [
        140478911319824
       ],
       "rendering_steps": 1,
       "screenshot": "",
       "screenshot_scale": 2,
       "snapshot": "",
       "time": 0,
       "voxel_paint_color": 0
      }
     },
     "60c949a090f54a29a2a184946f929ff7": {
      "model_module": "k3d",
      "model_module_version": "2.7.2",
      "model_name": "PlotModel",
      "state": {
       "_backend_version": "2.7.2",
       "_dom_classes": [],
       "_view_count": null,
       "antialias": 3,
       "auto_rendering": true,
       "axes": [
        "x (nm)",
        "y (nm)",
        "z (nm)"
       ],
       "axes_helper": 1,
       "background_color": 16777215,
       "camera": [
        5.693920282876526,
        -8.540880424314793,
        0.5693920282876551,
        0,
        0,
        0,
        0,
        0,
        1
       ],
       "camera_auto_fit": true,
       "camera_fov": 60,
       "camera_no_pan": false,
       "camera_no_rotate": false,
       "camera_no_zoom": false,
       "clipping_planes": [],
       "colorbar_object_id": -1,
       "fps": 25,
       "fps_meter": false,
       "grid": [
        -1,
        -1,
        -1,
        1,
        1,
        1
       ],
       "grid_auto_fit": true,
       "grid_visible": true,
       "height": 512,
       "layout": "IPY_MODEL_790a9f2061ba4464846a646ea1f55114",
       "lighting": 1.5,
       "menu_visibility": true,
       "mode": "view",
       "name": null,
       "object_ids": [
        140480005656832,
        140478911769472
       ],
       "rendering_steps": 1,
       "screenshot": "",
       "screenshot_scale": 2,
       "snapshot": "",
       "time": 0,
       "voxel_paint_color": 0
      }
     },
     "61686b3cbaf547389ac6b9f9470bac45": {
      "model_module": "@jupyter-widgets/base",
      "model_module_version": "1.2.0",
      "model_name": "LayoutModel",
      "state": {}
     },
     "61c632640fc84866ae688485e225f82e": {
      "model_module": "@jupyter-widgets/base",
      "model_module_version": "1.2.0",
      "model_name": "LayoutModel",
      "state": {}
     },
     "6bcf414083ef4c2caf8fcba435ab78b7": {
      "model_module": "@jupyter-widgets/base",
      "model_module_version": "1.2.0",
      "model_name": "LayoutModel",
      "state": {}
     },
     "6d9a67b58048406aae7787dfe578282f": {
      "buffers": [
       {
        "data": "eNpVzr1LAnEcBnADZ2k9FO0CFQTxhVuMGyI6z1FQEJxObDKCblIKupCilyP/gQPRzdHFRjdBmmy0KcHyX2gRkufnc/AbPsvD83342kelgL3TCJlQPTiXMLf3PbdyAs/GKdzli3AVLkEtaEiYs8c77vSu00IrC2+WBm5Zh3utCM1DU8KcPd5xx999jAvdhOAkhU5KuMwA/yLmfo933NnvvnpReOnH4GkoPIyO4XaSg8pnW8KcPd5xh7vOOAU373mwp2dgfVigLz1Q1j8S5uzxjjvcvZjXgX8VvgYQWS1A/f2TMGePd9xRv2egrDcQ32wlzNn7B3xMzrk=",
        "encoding": "base64",
        "path": [
         "colors",
         "compressed_buffer"
        ]
       },
       {
        "data": "eNpjYGiwZ8AAxIsBAF7EAv0=",
        "encoding": "base64",
        "path": [
         "model_matrix",
         "compressed_buffer"
        ]
       },
       {
        "data": "eNpNk01oE3EQxS+W5GIwiIIQNFAsipIaFcTanbdViNKKBVFQqYe2CLEQhKJSC0VUUFCUluIpDSWm0osHQQ9K3ZklftOIKLJeakXrx8keFBqMIP7n5Jz2Hebj99/3JiosBr8btyTbPCv1znJw5kFO8sMvJN/9/dHS6Rt88N4z1e0rV/eTalfjXdu7E1oTFRa9WFMJ2lub3sb9SIbpy+My8q2FG43P0rxmTMpjK5hKFan9uC4tA2+C6sN9MtF6Vb7+WhuMzI/zl41XVHuxPUdItavxKLcDWuN6qdo3Ae11Myne9AE60+2iUpjwddf9wRxPp7NhZmir5F/v5kPHkuHyJ60yu7mdd/UsSDnaJOlLGf7UMyUzb9dLPZVged8l1aGU/IydC/6mJ/nigaRqbxl3kGpXQx0btkNrXC+tqxShvW4mPa/MQWe6XXTndsLXXY6Bjn7M+MrwqrbfvSkbSm+BR/90cWUgGb47fJKHT3QySgvi/iPP383xZH1K3Jt56Wkbnx/tFreb3f8MzhZneNXLuGrPfUm1q6ELp7ZAa1wv9caL0F43kx73zUFnul10/GbC112OgVJRxlcGw0OGhwwPGR4yPGR4yPCQ4SHDQ4aHDA8ZHjJ+wfgF4xeMXzB+wfgF4xeMXzB+wfgF4xeMXzC5hcktTG5hcguTW5jcwuQWJrcwuYXJLaL/dwdzdzB3B3N3MHcHc3f4B+bIywg=",
        "encoding": "base64",
        "path": [
         "origins",
         "compressed_buffer"
        ]
       },
       {
        "data": "eNpNky1LRFEQhjWJRQwWQfALDKLROG9UsMhi8A8oLuIajMomoyBrXWTFok0UTeKZILjBXbEtJk36A1Z0EYszlzPwhuHM5c7Hc84706nsYFEh1c9z7S1P4nRoTVpz91pe2RS3vY0n91P4FqMR06nsaOS2L25Qvx6XvsaS2ndR0/+fHdfguXbqzFYJoyeHMnFwqR9fDXF7u2q6n8K3GI0Yz4lc7xE1rZdGr9vdJrZXh2Wq+prKLw+Ynp2X+nu/Gl9xF+e1WkVfr90bO8L3fhI7tTvwK24/j3fup/D9X8Q4R+T6naOm9dLoZQwaDM/tNga7I2KWan8trJcWxCzZ2yG/abJ7It8/WT9kjmR3QzbNVviZr4jJ71XkZm2KmtZLo5cxaDAQjxCPEI8QjxCPEA+IB8QjxCPEI8QjxCOkl5BeIL1AeoH0AukF0gukF0gvkF4gvUB6Cc0taG5BcwuaW9DcguYWNLeguQXNLWhui3fMuwPaO9DegfYOtHegvcM/aKzjfA==",
        "encoding": "base64",
        "path": [
         "vectors",
         "compressed_buffer"
        ]
       }
      ],
      "model_module": "k3d",
      "model_module_version": "2.7.2",
      "model_name": "ObjectModel",
      "state": {
       "_view_count": null,
       "_view_module": null,
       "_view_module_version": "",
       "_view_name": null,
       "colors": {
        "dtype": "uint32",
        "shape": [
         80,
         2
        ]
       },
       "compression_level": 0,
       "head_color": 255,
       "head_size": 1,
       "id": 140478911379536,
       "label_size": 1,
       "labels": [],
       "line_width": 0.01,
       "model_matrix": {
        "dtype": "float32",
        "shape": [
         4,
         4
        ]
       },
       "name": "Vectors #2",
       "origin_color": 255,
       "origins": {
        "dtype": "float32",
        "shape": [
         80,
         3
        ]
       },
       "type": "Vectors",
       "use_head": true,
       "vectors": {
        "dtype": "float32",
        "shape": [
         80,
         3
        ]
       },
       "visible": true
      }
     },
     "6dae7531465c4bed97ece54b1073bddd": {
      "buffers": [
       {
        "data": "eNoDAAAAAAE=",
        "encoding": "base64",
        "path": [
         "colors",
         "compressed_buffer"
        ]
       },
       {
        "data": "eNpjYGiwZ8AAxIsBAF7EAv0=",
        "encoding": "base64",
        "path": [
         "model_matrix",
         "compressed_buffer"
        ]
       },
       {
        "data": "eNpNk01oE3EQxS+W5GIwiIIQNFAsipIaFcTanbdViNKKBVFQqYe2CLEQhKJSC0VUUFCUluIpDSWm0osHQQ9K3ZklftOIKLJeakXrx8keFBqMIP7n5Jz2Hebj99/3JiosBr8btyTbPCv1znJw5kFO8sMvJN/9/dHS6Rt88N4z1e0rV/eTalfjXdu7E1oTFRa9WFMJ2lub3sb9SIbpy+My8q2FG43P0rxmTMpjK5hKFan9uC4tA2+C6sN9MtF6Vb7+WhuMzI/zl41XVHuxPUdItavxKLcDWuN6qdo3Ae11Myne9AE60+2iUpjwddf9wRxPp7NhZmir5F/v5kPHkuHyJ60yu7mdd/UsSDnaJOlLGf7UMyUzb9dLPZVged8l1aGU/IydC/6mJ/nigaRqbxl3kGpXQx0btkNrXC+tqxShvW4mPa/MQWe6XXTndsLXXY6Bjn7M+MrwqrbfvSkbSm+BR/90cWUgGb47fJKHT3QySgvi/iPP383xZH1K3Jt56Wkbnx/tFreb3f8MzhZneNXLuGrPfUm1q6ELp7ZAa1wv9caL0F43kx73zUFnul10/GbC112OgVJRxlcGw0OGhwwPGR4yPGR4yPCQ4SHDQ4aHDA8ZHjJ+wfgF4xeMXzB+wfgF4xeMXzB+wfgF4xeMXzC5hcktTG5hcguTW5jcwuQWJrcwuYXJLaL/dwdzdzB3B3N3MHcHc3f4B+bIywg=",
        "encoding": "base64",
        "path": [
         "origins",
         "compressed_buffer"
        ]
       },
       {
        "data": "eNpNky1LRFEQhjWJRQwWQfALDKLROG9UsMhi8A8oLuIajMomoyBrXWTFok0UTeKZILjBXbEtJk36A1Z0EYszlzPwhuHM5c7Hc84706nsYFEh1c9z7S1P4nRoTVpz91pe2RS3vY0n91P4FqMR06nsaOS2L25Qvx6XvsaS2ndR0/+fHdfguXbqzFYJoyeHMnFwqR9fDXF7u2q6n8K3GI0Yz4lc7xE1rZdGr9vdJrZXh2Wq+prKLw+Ynp2X+nu/Gl9xF+e1WkVfr90bO8L3fhI7tTvwK24/j3fup/D9X8Q4R+T6naOm9dLoZQwaDM/tNga7I2KWan8trJcWxCzZ2yG/abJ7It8/WT9kjmR3QzbNVviZr4jJ71XkZm2KmtZLo5cxaDAQjxCPEI8QjxCPEA+IB8QjxCPEI8QjxCOkl5BeIL1AeoH0AukF0gukF0gvkF4gvUB6Cc0taG5BcwuaW9DcguYWNLeguQXNLWhui3fMuwPaO9DegfYOtHegvcM/aKzjfA==",
        "encoding": "base64",
        "path": [
         "vectors",
         "compressed_buffer"
        ]
       }
      ],
      "model_module": "k3d",
      "model_module_version": "2.7.2",
      "model_name": "ObjectModel",
      "state": {
       "_view_count": null,
       "_view_module": null,
       "_view_module_version": "",
       "_view_name": null,
       "colors": {
        "dtype": "uint32",
        "shape": [
         0
        ]
       },
       "compression_level": 0,
       "head_color": 255,
       "head_size": 1,
       "id": 140480005656832,
       "label_size": 1,
       "labels": [],
       "line_width": 0.01,
       "model_matrix": {
        "dtype": "float32",
        "shape": [
         4,
         4
        ]
       },
       "name": "Vectors #1",
       "origin_color": 255,
       "origins": {
        "dtype": "float32",
        "shape": [
         80,
         3
        ]
       },
       "type": "Vectors",
       "use_head": true,
       "vectors": {
        "dtype": "float32",
        "shape": [
         80,
         3
        ]
       },
       "visible": true
      }
     },
     "6f895d403b7b4c72be8a75dd98e3b0ba": {
      "buffers": [
       {
        "data": "eNoDAAAAAAE=",
        "encoding": "base64",
        "path": [
         "colors",
         "compressed_buffer"
        ]
       },
       {
        "data": "eNpjYGiwZ8AAxIsBAF7EAv0=",
        "encoding": "base64",
        "path": [
         "model_matrix",
         "compressed_buffer"
        ]
       },
       {
        "data": "eNpN0MsNwzAQA9FNYyRLSylbidVKSgkEfTwHQ3OQHgxWJVU91jc76O+DFu747b79qd9Y748ZmIEZmIEZmDkme+z32z8d9DxvC3eMt7eXf3vsfzq+4Au+4Au+4Au+sI+xj7GPsY+xj7GPsY+xD8yG2TAbZsNsmO0/IA5slQ==",
        "encoding": "base64",
        "path": [
         "positions",
         "compressed_buffer"
        ]
       }
      ],
      "model_module": "k3d",
      "model_module_version": "2.7.2",
      "model_name": "ObjectModel",
      "state": {
       "_view_count": null,
       "_view_module": null,
       "_view_module_version": "",
       "_view_name": null,
       "color": 2062260,
       "colors": {
        "dtype": "uint32",
        "shape": [
         0
        ]
       },
       "compression_level": 0,
       "id": 140478910606880,
       "mesh_detail": 2,
       "model_matrix": {
        "dtype": "float32",
        "shape": [
         4,
         4
        ]
       },
       "name": "Points #3",
       "opacity": 1,
       "point_size": 0.125,
       "positions": {
        "dtype": "float32",
        "shape": [
         44,
         3
        ]
       },
       "shader": "3dSpecular",
       "type": "Points",
       "visible": true
      }
     },
     "71d7af3c49234a7ea00e726c3092e420": {
      "buffers": [
       {
        "data": "eNoDAAAAAAE=",
        "encoding": "base64",
        "path": [
         "colors",
         "compressed_buffer"
        ]
       },
       {
        "data": "eNpjYGiwZ8AAxIsBAF7EAv0=",
        "encoding": "base64",
        "path": [
         "model_matrix",
         "compressed_buffer"
        ]
       },
       {
        "data": "eNpN09FthEAMBFDSwZVCBR6XdqW4kjtKSSkRWQGPH0bLYj1p5G07n/n+bL/f/7g1+f0hF3fy5CG/jnPWmdbZXHfITX5/yMWd8G+Yyfmrn7wfa+5laAyNoTE0hsbQGBpDY2gMV97Nx5p7eVZenut8yE0+33cu7oR/w0zOT8+Vd/OxZt2ewlN4Ck/hKTyFp/AUnsJTeIq+Ql+hr9BX6Cv0FfoKfYW+Ql+hr9AXhsEwGAbDYBgMg2EwDIbB8Mxf3+69C3sX9i7sXdi7/AGjvpsl",
        "encoding": "base64",
        "path": [
         "positions",
         "compressed_buffer"
        ]
       }
      ],
      "model_module": "k3d",
      "model_module_version": "2.7.2",
      "model_name": "ObjectModel",
      "state": {
       "_view_count": null,
       "_view_module": null,
       "_view_module_version": "",
       "_view_name": null,
       "color": 2062260,
       "colors": {
        "dtype": "uint32",
        "shape": [
         0
        ]
       },
       "compression_level": 0,
       "id": 140478911380640,
       "mesh_detail": 2,
       "model_matrix": {
        "dtype": "float32",
        "shape": [
         4,
         4
        ]
       },
       "name": "Points #2",
       "opacity": 1,
       "point_size": 0.125,
       "positions": {
        "dtype": "float32",
        "shape": [
         80,
         3
        ]
       },
       "shader": "3dSpecular",
       "type": "Points",
       "visible": true
      }
     },
     "7341a98ebf13490884fac48e030cf1ed": {
      "model_module": "@jupyter-widgets/output",
      "model_module_version": "1.0.0",
      "model_name": "OutputModel",
      "state": {
       "layout": "IPY_MODEL_8daf85375b1a432aaaa7f3441e077748",
       "outputs": [
        {
         "data": {
          "application/vnd.jupyter.widget-view+json": {
           "model_id": "ff13fb6ba4ae475996e19ab11ede459a",
           "version_major": 2,
           "version_minor": 0
          },
          "text/plain": "Plot(antialias=3, axes=['x', 'y', 'z'], axes_helper=1.0, background_color=16777215, camera=[4.5, 4.5, 4.5, 0.0…"
         },
         "metadata": {},
         "output_type": "display_data"
        }
       ]
      }
     },
     "790a9f2061ba4464846a646ea1f55114": {
      "model_module": "@jupyter-widgets/base",
      "model_module_version": "1.2.0",
      "model_name": "LayoutModel",
      "state": {}
     },
     "7c03211e80134e9fbdff74ec9fd540da": {
      "model_module": "@jupyter-widgets/base",
      "model_module_version": "1.2.0",
      "model_name": "LayoutModel",
      "state": {}
     },
     "7f51ebebbc5a458ca995eb8d8275d892": {
      "model_module": "k3d",
      "model_module_version": "2.7.2",
      "model_name": "PlotModel",
      "state": {
       "_backend_version": "2.7.2",
       "_dom_classes": [],
       "_view_count": null,
       "antialias": 3,
       "auto_rendering": true,
       "axes": [
        "x (nm)",
        "y (nm)",
        "z (nm)"
       ],
       "axes_helper": 1,
       "background_color": 16777215,
       "camera": [
        5.693920282876528,
        -8.54088042431479,
        0.5693920282876517,
        0,
        0,
        0,
        0,
        0,
        1
       ],
       "camera_auto_fit": true,
       "camera_fov": 60,
       "camera_no_pan": false,
       "camera_no_rotate": false,
       "camera_no_zoom": false,
       "clipping_planes": [],
       "colorbar_object_id": -1,
       "fps": 25,
       "fps_meter": false,
       "grid": [
        -1,
        -1,
        -1,
        1,
        1,
        1
       ],
       "grid_auto_fit": true,
       "grid_visible": true,
       "height": 512,
       "layout": "IPY_MODEL_a21aa28d0064431a9e31196616d840c6",
       "lighting": 1.5,
       "menu_visibility": true,
       "mode": "view",
       "name": null,
       "object_ids": [
        140478911335920,
        140478911746976
       ],
       "rendering_steps": 1,
       "screenshot": "",
       "screenshot_scale": 2,
       "snapshot": "",
       "time": 0,
       "voxel_paint_color": 0
      }
     },
     "7fe517bb28874c4f9fbebf662ce6d8bd": {
      "model_module": "@jupyter-widgets/base",
      "model_module_version": "1.2.0",
      "model_name": "LayoutModel",
      "state": {}
     },
     "81fb61e0eaa9493ab671a4ff94b9d4b0": {
      "model_module": "@jupyter-widgets/base",
      "model_module_version": "1.2.0",
      "model_name": "LayoutModel",
      "state": {}
     },
     "8daf85375b1a432aaaa7f3441e077748": {
      "model_module": "@jupyter-widgets/base",
      "model_module_version": "1.2.0",
      "model_name": "LayoutModel",
      "state": {}
     },
     "8fdc9e197f8146899dd769b96a95f3f8": {
      "model_module": "k3d",
      "model_module_version": "2.7.2",
      "model_name": "PlotModel",
      "state": {
       "_backend_version": "2.7.2",
       "_dom_classes": [],
       "_view_count": null,
       "antialias": 3,
       "auto_rendering": true,
       "axes": [
        "x (nm)",
        "y (nm)",
        "z (nm)"
       ],
       "axes_helper": 1,
       "background_color": 16777215,
       "camera": [
        10.284874878907916,
        -15.489812315567907,
        1.0059874815950491,
        -0.02499999664723873,
        -0.02500000223517418,
        -0.025000005960464478,
        0,
        0,
        1
       ],
       "camera_auto_fit": true,
       "camera_fov": 60,
       "camera_no_pan": false,
       "camera_no_rotate": false,
       "camera_no_zoom": false,
       "clipping_planes": [],
       "colorbar_object_id": -1,
       "fps": 25,
       "fps_meter": false,
       "grid": [
        -1,
        -1,
        -1,
        1,
        1,
        1
       ],
       "grid_auto_fit": true,
       "grid_visible": true,
       "height": 512,
       "layout": "IPY_MODEL_5d082a4b3c0b430ba24aa5436bb3ecd6",
       "lighting": 1.5,
       "menu_visibility": true,
       "mode": "view",
       "name": null,
       "object_ids": [
        140480005657360
       ],
       "rendering_steps": 1,
       "screenshot": "",
       "screenshot_scale": 2,
       "snapshot": "",
       "time": 0,
       "voxel_paint_color": 0
      }
     },
     "928e242ed05d48c48d84f78502fcbe6d": {
      "model_module": "@jupyter-widgets/output",
      "model_module_version": "1.0.0",
      "model_name": "OutputModel",
      "state": {
       "layout": "IPY_MODEL_7fe517bb28874c4f9fbebf662ce6d8bd",
       "outputs": [
        {
         "data": {
          "application/vnd.jupyter.widget-view+json": {
           "model_id": "60c949a090f54a29a2a184946f929ff7",
           "version_major": 2,
           "version_minor": 0
          },
          "text/plain": "Plot(antialias=3, axes=['x', 'y', 'z'], axes_helper=1.0, background_color=16777215, camera=[4.5, 4.5, 4.5, 0.0…"
         },
         "metadata": {},
         "output_type": "display_data"
        }
       ]
      }
     },
     "9640e1e4b68a48b4b483b31fc36a1cc2": {
      "model_module": "k3d",
      "model_module_version": "2.7.2",
      "model_name": "PlotModel",
      "state": {
       "_backend_version": "2.7.2",
       "_dom_classes": [],
       "_view_count": null,
       "antialias": 3,
       "auto_rendering": true,
       "axes": [
        "x (um)",
        "y (um)",
        "z (um)"
       ],
       "axes_helper": 1,
       "background_color": 16777215,
       "camera": [
        0.010284874801788711,
        -0.015489812199268219,
        0.0010059874726398128,
        -2.4999996088445175e-05,
        -2.5000002452482727e-05,
        -2.5000007147901043e-05,
        0,
        0,
        1
       ],
       "camera_auto_fit": true,
       "camera_fov": 60,
       "camera_no_pan": false,
       "camera_no_rotate": false,
       "camera_no_zoom": false,
       "clipping_planes": [],
       "colorbar_object_id": -1,
       "fps": 25,
       "fps_meter": false,
       "grid": [
        -1,
        -1,
        -1,
        1,
        1,
        1
       ],
       "grid_auto_fit": true,
       "grid_visible": true,
       "height": 512,
       "layout": "IPY_MODEL_c619b3624e5141e5ae2a399cf88310be",
       "lighting": 1.5,
       "menu_visibility": true,
       "mode": "view",
       "name": null,
       "object_ids": [
        140480005687232
       ],
       "rendering_steps": 1,
       "screenshot": "",
       "screenshot_scale": 2,
       "snapshot": "",
       "time": 0,
       "voxel_paint_color": 0
      }
     },
     "9a993f3894804b2ab1e12ba651b12594": {
      "buffers": [
       {
        "data": "eNoDAAAAAAE=",
        "encoding": "base64",
        "path": [
         "colors",
         "compressed_buffer"
        ]
       },
       {
        "data": "eNpjYGiwZ8AAxIsBAF7EAv0=",
        "encoding": "base64",
        "path": [
         "model_matrix",
         "compressed_buffer"
        ]
       },
       {
        "data": "eNpNkMENwzAMA5UNMhHJ0TqKJmkySkcpUkfpPQwTgnVnsCpnVR/rXDnIrzey8Mb/3E/e6nOs/WEGzIAZMANmwMwwMd9n/3atvFyTg3zdTxbeGLsGE/M9yPPX8QpewSt4Ba/gFbyCV/DC9etl+jT6NPo0+jT6NPo0+gSzwWwwG8wGs8FsfwEVFozN",
        "encoding": "base64",
        "path": [
         "positions",
         "compressed_buffer"
        ]
       }
      ],
      "model_module": "k3d",
      "model_module_version": "2.7.2",
      "model_name": "ObjectModel",
      "state": {
       "_view_count": null,
       "_view_module": null,
       "_view_module_version": "",
       "_view_name": null,
       "color": 2062260,
       "colors": {
        "dtype": "uint32",
        "shape": [
         0
        ]
       },
       "compression_level": 0,
       "id": 140480005658128,
       "mesh_detail": 2,
       "model_matrix": {
        "dtype": "float32",
        "shape": [
         4,
         4
        ]
       },
       "name": "Points #1",
       "opacity": 1,
       "point_size": 0.125,
       "positions": {
        "dtype": "float32",
        "shape": [
         48,
         3
        ]
       },
       "shader": "3dSpecular",
       "type": "Points",
       "visible": true
      }
     },
     "9bc306a2bd0c4bfe87b63e3c59738724": {
      "model_module": "@jupyter-widgets/base",
      "model_module_version": "1.2.0",
      "model_name": "LayoutModel",
      "state": {}
     },
     "9f1a9a772cc04e53bd2eb006084007f2": {
      "model_module": "k3d",
      "model_module_version": "2.7.2",
      "model_name": "PlotModel",
      "state": {
       "_backend_version": "2.7.2",
       "_dom_classes": [],
       "_view_count": null,
       "antialias": 3,
       "auto_rendering": true,
       "axes": [
        "x (nm)",
        "y (nm)",
        "z (nm)"
       ],
       "axes_helper": 1,
       "background_color": 16777215,
       "camera": [
        9.84581153999727,
        -14.768717309995907,
        0.9845811539997371,
        0,
        0,
        0,
        0,
        0,
        1
       ],
       "camera_auto_fit": true,
       "camera_fov": 60,
       "camera_no_pan": false,
       "camera_no_rotate": false,
       "camera_no_zoom": false,
       "clipping_planes": [],
       "colorbar_object_id": -1,
       "fps": 25,
       "fps_meter": false,
       "grid": [
        -1,
        -1,
        -1,
        1,
        1,
        1
       ],
       "grid_auto_fit": true,
       "grid_visible": true,
       "height": 512,
       "layout": "IPY_MODEL_7c03211e80134e9fbdff74ec9fd540da",
       "lighting": 1.5,
       "menu_visibility": true,
       "mode": "view",
       "name": null,
       "object_ids": [
        140478911319872,
        140480005685792
       ],
       "rendering_steps": 1,
       "screenshot": "",
       "screenshot_scale": 2,
       "snapshot": "",
       "time": 0,
       "voxel_paint_color": 0
      }
     },
     "a21aa28d0064431a9e31196616d840c6": {
      "model_module": "@jupyter-widgets/base",
      "model_module_version": "1.2.0",
      "model_name": "LayoutModel",
      "state": {}
     },
     "aafd0a666ea04b5a848fae75ea8b7c8d": {
      "buffers": [
       {
        "data": "eNoDAAAAAAE=",
        "encoding": "base64",
        "path": [
         "colors",
         "compressed_buffer"
        ]
       },
       {
        "data": "eNpjYGiwZ8AAxIsBAF7EAv0=",
        "encoding": "base64",
        "path": [
         "model_matrix",
         "compressed_buffer"
        ]
       },
       {
        "data": "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",
        "encoding": "base64",
        "path": [
         "origins",
         "compressed_buffer"
        ]
       },
       {
        "data": "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",
        "encoding": "base64",
        "path": [
         "vectors",
         "compressed_buffer"
        ]
       }
      ],
      "model_module": "k3d",
      "model_module_version": "2.7.2",
      "model_name": "ObjectModel",
      "state": {
       "_view_count": null,
       "_view_module": null,
       "_view_module_version": "",
       "_view_name": null,
       "colors": {
        "dtype": "uint32",
        "shape": [
         0
        ]
       },
       "compression_level": 0,
       "head_color": 255,
       "head_size": 1,
       "id": 140478911319872,
       "label_size": 1,
       "labels": [],
       "line_width": 0.01,
       "model_matrix": {
        "dtype": "float32",
        "shape": [
         4,
         4
        ]
       },
       "name": "Vectors #1",
       "origin_color": 255,
       "origins": {
        "dtype": "float32",
        "shape": [
         1008,
         3
        ]
       },
       "type": "Vectors",
       "use_head": true,
       "vectors": {
        "dtype": "float32",
        "shape": [
         1008,
         3
        ]
       },
       "visible": true
      }
     },
     "b18c3b4a3bdc4d44801c615e88a95dfe": {
      "model_module": "@jupyter-widgets/output",
      "model_module_version": "1.0.0",
      "model_name": "OutputModel",
      "state": {
       "layout": "IPY_MODEL_5a53e4d446e44b4195b3e7faf775c551",
       "outputs": [
        {
         "data": {
          "application/vnd.jupyter.widget-view+json": {
           "model_id": "cf9e652f871d4416805177a3ee4615c7",
           "version_major": 2,
           "version_minor": 0
          },
          "text/plain": "Plot(antialias=3, axes=['x', 'y', 'z'], axes_helper=1.0, background_color=16777215, camera=[4.5, 4.5, 4.5, 0.0…"
         },
         "metadata": {},
         "output_type": "display_data"
        }
       ]
      }
     },
     "b86ed5805dae452fa6bf066b2d818dd1": {
      "buffers": [
       {
        "data": "eNqL43ZjiAPiSFZXMA5hdEHBMPE4qLpOLzsw7nBzAOM2RycIdkDDUHGYOpi+vkpNCK7QguByKC5DwzBxmDqovtblSmDcsgKCm1cqQ/AqFVQMFYepg+mLOpsDxiEXSsHY73I9GPtebkTBMHGYOpg+6advwFjh2TcwVn3+FwXDxGHqAIyLcck=",
        "encoding": "base64",
        "path": [
         "colors",
         "compressed_buffer"
        ]
       },
       {
        "data": "eNpjYGiwZ8AAxIsBAF7EAv0=",
        "encoding": "base64",
        "path": [
         "model_matrix",
         "compressed_buffer"
        ]
       },
       {
        "data": "eNpNkT1IQmEYhaEkVIoMjRoc2gpqVKjkfuflcgsMhzZriITANjEbgyhosKWhQSkCgyBoaQl0ie9tE8EhaGkrSsLByCEv2g/EN/VuZzjnGZ6TvIyRt1Tm60SRu3GLHn8zfOwW2A2C7MaTLlYL7G8RfWX2LJO9ZZum+kZgOlerDnVThzDbE888BWddvtVRju/EqLVb4ZfJKDdmLHrvZPnoJsIXPlBztKHPtyO85hLdLa9bJocfbAr6h2E6lQOHQvt5mO3m9wJ9VGswzOfmHPlKLi+Fcrq+EaNAr8Ir2NLNsEWf/hxPn2Z1ux+UTr9pD7I68EN0X09YJo+/2jTYGYLpRM4cag/kYbYTY4vUS9VgmIKvBF8JvhJ8JfhK8JXgK8FXwg+EHwg/EH4g/ED4gfAD4QfJ/x8hfoT4EeJHiB8hfsQfqAfwoQ==",
        "encoding": "base64",
        "path": [
         "origins",
         "compressed_buffer"
        ]
       },
       {
        "data": "eNpNkbFqAlEQRftYRDDt+gPWgsXMjfgB/oEI1vkByyCkSpUiX5A2hbCCsG9XRSQWW9ilCwSLNNYmkBSZCQy51bvw7pw3796s20D/K0fWbVTvt886/izw8disphcnme1XuL9ruU6hzVOGx2di9nRzjYf1HL2rp9Lu4B73tl9yXbxuYWc5HJ3l0Nnje7d0nUL7XXicG7PGrIJ5Pg7+9pwUb8n2gO/je9m8Osd5m8sfqesadrpOof2N8PgfYtaYVTCJL8QX4gvxhfhCfCG+EF8oH6V8lPJRykcpH6V8lPJRykez/x5BPYJ6BPUI6hHUI34B4YEZqA==",
        "encoding": "base64",
        "path": [
         "vectors",
         "compressed_buffer"
        ]
       }
      ],
      "model_module": "k3d",
      "model_module_version": "2.7.2",
      "model_name": "ObjectModel",
      "state": {
       "_view_count": null,
       "_view_module": null,
       "_view_module_version": "",
       "_view_name": null,
       "colors": {
        "dtype": "uint32",
        "shape": [
         44,
         2
        ]
       },
       "compression_level": 0,
       "head_color": 255,
       "head_size": 1,
       "id": 140478910606928,
       "label_size": 1,
       "labels": [],
       "line_width": 0.01,
       "model_matrix": {
        "dtype": "float32",
        "shape": [
         4,
         4
        ]
       },
       "name": "Vectors #3",
       "origin_color": 255,
       "origins": {
        "dtype": "float32",
        "shape": [
         44,
         3
        ]
       },
       "type": "Vectors",
       "use_head": true,
       "vectors": {
        "dtype": "float32",
        "shape": [
         44,
         3
        ]
       },
       "visible": true
      }
     },
     "b9271e505cf749c0b2633d2107d348ee": {
      "buffers": [
       {
        "data": "eNpLWKfOAAAD3AE2",
        "encoding": "base64",
        "path": [
         "color_map",
         "compressed_buffer"
        ]
       },
       {
        "data": "eNpjYFBwZMAABxwwxRqwidkDAFK8AuE=",
        "encoding": "base64",
        "path": [
         "model_matrix",
         "compressed_buffer"
        ]
       },
       {
        "data": "eNrllUEOACEMAjv//7R7XQGj0Vs5TqItWLXqXnxSMlFQ6Jhba2u8l9TQ/vgpMlDo2O5+KauDXNIRLb2ZnkHhDdvPJWYg3mo1aj7m5I3HOsigXAT+fnTz222eG75XTf6jAc5KA/E=",
        "encoding": "base64",
        "path": [
         "voxels",
         "compressed_buffer"
        ]
       }
      ],
      "model_module": "k3d",
      "model_module_version": "2.7.2",
      "model_name": "ObjectModel",
      "state": {
       "_view_count": null,
       "_view_module": null,
       "_view_module_version": "",
       "_view_name": null,
       "color_map": {
        "dtype": "uint32",
        "shape": []
       },
       "compression_level": 0,
       "id": 140478911319824,
       "model_matrix": {
        "dtype": "float32",
        "shape": [
         4,
         4
        ]
       },
       "name": "Voxels #1",
       "opacity": 1,
       "outlines": false,
       "outlines_color": 0,
       "type": "Voxels",
       "visible": true,
       "voxels": {
        "dtype": "uint8",
        "shape": [
         8,
         12,
         20
        ]
       },
       "wireframe": false
      }
     },
     "c056568db15942a8b02e2f4f087b06b2": {
      "model_module": "@jupyter-widgets/base",
      "model_module_version": "1.2.0",
      "model_name": "LayoutModel",
      "state": {}
     },
     "c4ad70067a1a4751b49f42b5edcbfcdc": {
      "buffers": [
       {
        "data": "eNoDAAAAAAE=",
        "encoding": "base64",
        "path": [
         "colors",
         "compressed_buffer"
        ]
       },
       {
        "data": "eNpjYGiwZ8AAxIsBAF7EAv0=",
        "encoding": "base64",
        "path": [
         "model_matrix",
         "compressed_buffer"
        ]
       },
       {
        "data": "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",
        "encoding": "base64",
        "path": [
         "positions",
         "compressed_buffer"
        ]
       }
      ],
      "model_module": "k3d",
      "model_module_version": "2.7.2",
      "model_name": "ObjectModel",
      "state": {
       "_view_count": null,
       "_view_module": null,
       "_view_module_version": "",
       "_view_name": null,
       "color": 2062260,
       "colors": {
        "dtype": "uint32",
        "shape": [
         0
        ]
       },
       "compression_level": 0,
       "id": 140480005685792,
       "mesh_detail": 2,
       "model_matrix": {
        "dtype": "float32",
        "shape": [
         4,
         4
        ]
       },
       "name": "Points #1",
       "opacity": 1,
       "point_size": 0.125,
       "positions": {
        "dtype": "float32",
        "shape": [
         1008,
         3
        ]
       },
       "shader": "3dSpecular",
       "type": "Points",
       "visible": true
      }
     },
     "c619b3624e5141e5ae2a399cf88310be": {
      "model_module": "@jupyter-widgets/base",
      "model_module_version": "1.2.0",
      "model_name": "LayoutModel",
      "state": {}
     },
     "ca7d1326c6654032b475d0eb23bf5818": {
      "model_module": "@jupyter-widgets/base",
      "model_module_version": "1.2.0",
      "model_name": "LayoutModel",
      "state": {}
     },
     "cf9e652f871d4416805177a3ee4615c7": {
      "model_module": "k3d",
      "model_module_version": "2.7.2",
      "model_name": "PlotModel",
      "state": {
       "_backend_version": "2.7.2",
       "_dom_classes": [],
       "_view_count": null,
       "antialias": 3,
       "auto_rendering": true,
       "axes": [
        "x (nm)",
        "y (nm)",
        "z (nm)"
       ],
       "axes_helper": 1,
       "background_color": 16777215,
       "camera": [
        10.284874878907916,
        -15.489812315567907,
        1.0059874815950491,
        -0.02499999664723873,
        -0.02500000223517418,
        -0.025000005960464478,
        0,
        0,
        1
       ],
       "camera_auto_fit": true,
       "camera_fov": 60,
       "camera_no_pan": false,
       "camera_no_rotate": false,
       "camera_no_zoom": false,
       "clipping_planes": [],
       "colorbar_object_id": -1,
       "fps": 25,
       "fps_meter": false,
       "grid": [
        -1,
        -1,
        -1,
        1,
        1,
        1
       ],
       "grid_auto_fit": true,
       "grid_visible": true,
       "height": 512,
       "layout": "IPY_MODEL_9bc306a2bd0c4bfe87b63e3c59738724",
       "lighting": 1.5,
       "menu_visibility": true,
       "mode": "view",
       "name": null,
       "object_ids": [
        140478911770576
       ],
       "rendering_steps": 1,
       "screenshot": "",
       "screenshot_scale": 2,
       "snapshot": "",
       "time": 0,
       "voxel_paint_color": 0
      }
     },
     "cfc22f29cb7548ccad65db4990e59c33": {
      "buffers": [
       {
        "data": "eNrbUi7PwFf/n0FngQ6Dhvo1hr3pUxi8w3oYDpU/Zqivr2dQ2ruH4fw+cQYAInYOsQ==",
        "encoding": "base64",
        "path": [
         "color_map",
         "compressed_buffer"
        ]
       },
       {
        "data": "eNpjYPBwYoCDE44QGiYG44OAApC9wIEBBTTYAwCnEgUn",
        "encoding": "base64",
        "path": [
         "model_matrix",
         "compressed_buffer"
        ]
       },
       {
        "data": "eNpjZKQ9YKIDAABjBgEt",
        "encoding": "base64",
        "path": [
         "voxels",
         "compressed_buffer"
        ]
       }
      ],
      "model_module": "k3d",
      "model_module_version": "2.7.2",
      "model_name": "ObjectModel",
      "state": {
       "_view_count": null,
       "_view_module": null,
       "_view_module_version": "",
       "_view_name": null,
       "color_map": {
        "dtype": "uint32",
        "shape": [
         10
        ]
       },
       "compression_level": 0,
       "id": 140478910605104,
       "model_matrix": {
        "dtype": "float32",
        "shape": [
         4,
         4
        ]
       },
       "name": "Voxels #1",
       "opacity": 1,
       "outlines": false,
       "outlines_color": 0,
       "type": "Voxels",
       "visible": true,
       "voxels": {
        "dtype": "uint8",
        "shape": [
         2,
         10,
         10
        ]
       },
       "wireframe": false
      }
     },
     "d23be4cca5fc49cb93430b38c87acb30": {
      "model_module": "@jupyter-widgets/output",
      "model_module_version": "1.0.0",
      "model_name": "OutputModel",
      "state": {
       "layout": "IPY_MODEL_2ca9b0b274ce40baa3dfbd5bb90b09a5",
       "outputs": [
        {
         "data": {
          "application/vnd.jupyter.widget-view+json": {
           "model_id": "8fdc9e197f8146899dd769b96a95f3f8",
           "version_major": 2,
           "version_minor": 0
          },
          "text/plain": "Plot(antialias=3, axes=['x', 'y', 'z'], axes_helper=1.0, background_color=16777215, camera=[4.5, 4.5, 4.5, 0.0…"
         },
         "metadata": {},
         "output_type": "display_data"
        }
       ]
      }
     },
     "d751452fa5484b17a73eceae2c3830dc": {
      "buffers": [
       {
        "data": "eNrbUi7PAAAEdwFL",
        "encoding": "base64",
        "path": [
         "color_map",
         "compressed_buffer"
        ]
       },
       {
        "data": "eNpjYFBwZMAABxwwxRqwidkDAFK8AuE=",
        "encoding": "base64",
        "path": [
         "model_matrix",
         "compressed_buffer"
        ]
       },
       {
        "data": "eNrllUEOACEMAjv//7R7XQGj0Vs5TqItWLXqXnxSMlFQ6Jhba2u8l9TQ/vgpMlDo2O5+KauDXNIRLb2ZnkHhDdvPJWYg3mo1aj7m5I3HOsigXAT+fnTz222eG75XTf6jAc5KA/E=",
        "encoding": "base64",
        "path": [
         "voxels",
         "compressed_buffer"
        ]
       }
      ],
      "model_module": "k3d",
      "model_module_version": "2.7.2",
      "model_name": "ObjectModel",
      "state": {
       "_view_count": null,
       "_view_module": null,
       "_view_module_version": "",
       "_view_name": null,
       "color_map": {
        "dtype": "uint32",
        "shape": []
       },
       "compression_level": 0,
       "id": 140480005657360,
       "model_matrix": {
        "dtype": "float32",
        "shape": [
         4,
         4
        ]
       },
       "name": "Voxels #1",
       "opacity": 1,
       "outlines": false,
       "outlines_color": 0,
       "type": "Voxels",
       "visible": true,
       "voxels": {
        "dtype": "uint8",
        "shape": [
         8,
         12,
         20
        ]
       },
       "wireframe": false
      }
     },
     "dce5c341cb1d4ac592ee126622cd7702": {
      "model_module": "@jupyter-widgets/output",
      "model_module_version": "1.0.0",
      "model_name": "OutputModel",
      "state": {
       "layout": "IPY_MODEL_c056568db15942a8b02e2f4f087b06b2",
       "outputs": [
        {
         "data": {
          "application/vnd.jupyter.widget-view+json": {
           "model_id": "6019251b81f441618a9a0e10036a9990",
           "version_major": 2,
           "version_minor": 0
          },
          "text/plain": "Plot(antialias=3, axes=['x', 'y', 'z'], axes_helper=1.0, background_color=16777215, camera=[4.5, 4.5, 4.5, 0.0…"
         },
         "metadata": {},
         "output_type": "display_data"
        }
       ]
      }
     },
     "e292f80c465c4f5b9f7e6e531b8bffa8": {
      "model_module": "@jupyter-widgets/output",
      "model_module_version": "1.0.0",
      "model_name": "OutputModel",
      "state": {
       "layout": "IPY_MODEL_61c632640fc84866ae688485e225f82e",
       "outputs": [
        {
         "data": {
          "application/vnd.jupyter.widget-view+json": {
           "model_id": "fb8d8c42a1fb467eb9713a2ab6280fd3",
           "version_major": 2,
           "version_minor": 0
          },
          "text/plain": "Plot(antialias=3, axes=['x', 'y', 'z'], axes_helper=1.0, background_color=16777215, camera=[4.5, 4.5, 4.5, 0.0…"
         },
         "metadata": {},
         "output_type": "display_data"
        }
       ]
      }
     },
     "ebda243317ef41209c2e462700098dba": {
      "model_module": "@jupyter-widgets/output",
      "model_module_version": "1.0.0",
      "model_name": "OutputModel",
      "state": {
       "layout": "IPY_MODEL_61686b3cbaf547389ac6b9f9470bac45",
       "outputs": [
        {
         "data": {
          "application/vnd.jupyter.widget-view+json": {
           "model_id": "7f51ebebbc5a458ca995eb8d8275d892",
           "version_major": 2,
           "version_minor": 0
          },
          "text/plain": "Plot(antialias=3, axes=['x', 'y', 'z'], axes_helper=1.0, background_color=16777215, camera=[4.5, 4.5, 4.5, 0.0…"
         },
         "metadata": {},
         "output_type": "display_data"
        }
       ]
      }
     },
     "f67fc0e6528b410bab7fa5540e44d38c": {
      "model_module": "k3d",
      "model_module_version": "2.7.2",
      "model_name": "PlotModel",
      "state": {
       "_backend_version": "2.7.2",
       "_dom_classes": [],
       "_view_count": null,
       "antialias": 3,
       "auto_rendering": true,
       "axes": [
        "x (nm)",
        "y (nm)",
        "z (nm)"
       ],
       "axes_helper": 1,
       "background_color": 16777215,
       "camera": [
        7.671675628441501,
        -11.586142399933829,
        0.7724094933289204,
        -0.052419304847717285,
        0,
        0,
        0,
        0,
        1
       ],
       "camera_auto_fit": true,
       "camera_fov": 60,
       "camera_no_pan": false,
       "camera_no_rotate": false,
       "camera_no_zoom": false,
       "clipping_planes": [],
       "colorbar_object_id": -1,
       "fps": 25,
       "fps_meter": false,
       "grid": [
        -1,
        -1,
        -1,
        1,
        1,
        1
       ],
       "grid_auto_fit": true,
       "grid_visible": true,
       "height": 512,
       "layout": "IPY_MODEL_4d2a4ce5e00e4b9da6c8cfcfdcf99911",
       "lighting": 1.5,
       "menu_visibility": true,
       "mode": "view",
       "name": null,
       "object_ids": [
        140478910603952,
        140480005658128,
        140478911379536,
        140478911380640,
        140478910606928,
        140478910606880
       ],
       "rendering_steps": 1,
       "screenshot": "",
       "screenshot_scale": 2,
       "snapshot": "",
       "time": 0,
       "voxel_paint_color": 0
      }
     },
     "f714bdf3f09c4cd28e6454cad843f5e9": {
      "buffers": [
       {
        "data": "eNot0vlP1gUcwPF3rVar1Wq14vR5Hh4eBOSSQy45fZ7v96spoRIiIqJAHCKH3Pf9cD7fLLMss8yyzLLM0sy01KJIo1BDEQUEfWBrba2ttbbW1sfVD6//4JV2l5X0u62su8fG+nttZN6nkHW/wsYHFLIfVMh5SGXzwyq5j6jkPaqS/5hKweMahU9oFD2pUeyiUeKmsc1do9RDo8xTo9ygUWHUqDRpVJk1qr01aiwatT4adb4a9X4aDf4qDQEqjYEqTUEqzcEqLSEKLaEKrWEKbeEK7RE22iNtdETZ6Iy20hljpStWxC2jO14kJGNPFEnJ9CQn0WNNoteWSK8i1AT6NLE8nr4V8fSvFKvi6E8RTy9lIFWsjmVgjVgbw2CaeCaawXSREcXgepEZiWODyFqCY6PIjsCxSeSE49gstoThyA1DzwtFzxfPLkYvEIWiKAS9WGwNRi8R24LQS0WZKA9Er7gjAH27qBRVi9CrRY0/eq2oE/V+6A2iUTT5ojeLloXoraJNtPugd/yv04LeJbqF3Ru9R/Sa0fvMOPrFgBeOQeEQugnHc2KHicHnxQvG/+wULxoY2CVeEi+L3Qb6XxGvij0L6HtN7BWvG+h9Q+wTbxrouWO/AftbRuxvG+k+YKL7HfGuF10Hveh8z0znIW863rfQ8YGF9sM+YiFtH/rS+pEfrUf8afk4gOajgTR9EkTTp8E0HltMw/FQ6o+HU/9ZBHUnIqn9PIqakzFUfxFL1ak4Kk8lsP10IhVfJlP+lZWyMwqlZ+Xj2RWUnFvJ1q9TKP4mlaKhNRQOpVHwbTr532WQN5xJ7nAWW77PJud8Dpsu5JJ9IZ+sHwrYMFJE5kgJGT+Wsu6nctJHK0kbrWbtxVpWX2wg9VITKZdbWXW5nad+7mL5mB1trA/lygC2KzrLru4g6epOEsd3ET++m6XX9hB7bS/RE/uInNjPkusHCL9+kNAbhwi5cZjgySMETh5l0dQx/KZO4Dt1Ep/p01imz2CePofp5hDGm8MYZs7jOTOCx8wo7rOXcJsdw3V2HNdbE7jcmhTTuNyexfW2U8zj5vwFd+eveDh/w9P5Owvm/sA49yemub8wz/+NZf4f/gXLh0p6",
        "encoding": "base64",
        "path": [
         "color_map",
         "compressed_buffer"
        ]
       },
       {
        "data": "eNrjuq5sw4AGls0+Yo0uli/UjCHGwNBgDwDL+QV/",
        "encoding": "base64",
        "path": [
         "model_matrix",
         "compressed_buffer"
        ]
       },
       {
        "data": "eNrl1c9LKlEUB/BJGFzoxtCFBLMcpoUIEUMYYVRCFBkWiZIUYTEwhGL+aPwLnBxNlBgYSqIwFKMkowisSCKJIQJxkcxyIFwoudGFCPZ8iphv9eDxVt7d/XA553zhci8A/PvKsGymV87iiWQyET/7QZQ/EAyFggE/1TWn3Wa1WKw2u/PHwVW9TqvV6Vd7K6pQVAX851Usl4s98Jrl+EKB57KvHTm/unticxyXY5/urs7bdngciSdT6XQqGY8cH7aI3KN8gRDNMHQo4KP2yN9G7DodNguOYbjF5nDuEq2DWxsmvVajVmu0etPGVrveyuLsJKqAYQU6Obu40uk8poQhuRyClWM9I8okEtlfhavXe/d5vlip1SpFPt+R1PPbB/9VrX7xH2/PqRbFLq7vMzm+VOJzmfvri1iTaOboJJpIsfk8m0pET44YGgA8pJfyB+lwNBqmg37KS3oAwE24nHYrbjYazbjV7nQRbgDAsc11o06DIgiq0RnXNzG8WdCwvDCjUkBSKaRQzSwsG1qNNROjw9CgSDQIDY9OaDoTIpBMLBSKZRDSmwUE/whbqtS/v+uVUley3Ge51mjUyp9cti23Dy/vXKHaaFQL3PvLw22TIrHLm0eWK9XrJY59vLmMRYADmgmfxpLpfKWSTydjp2GGPvCQpNe3H2KiLBtlQvs+L0l63AThcuxYMCOKGjHLjsNFEO5tHDOvGbRqRCxG1FrDmhnDtwGTYWl+CoWlICiF0an5JYOp2XhuenwElosEApEcHhmfnmtPqISHJEKBQCgZgpXdJFIxODAAiqX9nLff7nMfvld98h/9AlMm+BA=",
        "encoding": "base64",
        "path": [
         "voxels",
         "compressed_buffer"
        ]
       }
      ],
      "model_module": "k3d",
      "model_module_version": "2.7.2",
      "model_name": "ObjectModel",
      "state": {
       "_view_count": null,
       "_view_module": null,
       "_view_module_version": "",
       "_view_name": null,
       "color_map": {
        "dtype": "uint32",
        "shape": [
         256
        ]
       },
       "compression_level": 0,
       "id": 140480005687232,
       "model_matrix": {
        "dtype": "float32",
        "shape": [
         4,
         4
        ]
       },
       "name": "Voxels #1",
       "opacity": 1,
       "outlines": false,
       "outlines_color": 0,
       "type": "Voxels",
       "visible": true,
       "voxels": {
        "dtype": "uint8",
        "shape": [
         8,
         12,
         20
        ]
       },
       "wireframe": false
      }
     },
     "fa3a787945d04e00aa5911543421c33b": {
      "buffers": [
       {
        "data": "eNot0vlP1gUcwPF3rVar1Wq14vR5Hh4eBOSSQy45fZ7v96spoRIiIqJAHCKH3Pf9cD7fLLMss8yyzLLM0sy01KJIo1BDEQUEfWBrba2ttbbW1sfVD6//4JV2l5X0u62su8fG+nttZN6nkHW/wsYHFLIfVMh5SGXzwyq5j6jkPaqS/5hKweMahU9oFD2pUeyiUeKmsc1do9RDo8xTo9ygUWHUqDRpVJk1qr01aiwatT4adb4a9X4aDf4qDQEqjYEqTUEqzcEqLSEKLaEKrWEKbeEK7RE22iNtdETZ6Iy20hljpStWxC2jO14kJGNPFEnJ9CQn0WNNoteWSK8i1AT6NLE8nr4V8fSvFKvi6E8RTy9lIFWsjmVgjVgbw2CaeCaawXSREcXgepEZiWODyFqCY6PIjsCxSeSE49gstoThyA1DzwtFzxfPLkYvEIWiKAS9WGwNRi8R24LQS0WZKA9Er7gjAH27qBRVi9CrRY0/eq2oE/V+6A2iUTT5ojeLloXoraJNtPugd/yv04LeJbqF3Ru9R/Sa0fvMOPrFgBeOQeEQugnHc2KHicHnxQvG/+wULxoY2CVeEi+L3Qb6XxGvij0L6HtN7BWvG+h9Q+wTbxrouWO/AftbRuxvG+k+YKL7HfGuF10Hveh8z0znIW863rfQ8YGF9sM+YiFtH/rS+pEfrUf8afk4gOajgTR9EkTTp8E0HltMw/FQ6o+HU/9ZBHUnIqn9PIqakzFUfxFL1ak4Kk8lsP10IhVfJlP+lZWyMwqlZ+Xj2RWUnFvJ1q9TKP4mlaKhNRQOpVHwbTr532WQN5xJ7nAWW77PJud8Dpsu5JJ9IZ+sHwrYMFJE5kgJGT+Wsu6nctJHK0kbrWbtxVpWX2wg9VITKZdbWXW5nad+7mL5mB1trA/lygC2KzrLru4g6epOEsd3ET++m6XX9hB7bS/RE/uInNjPkusHCL9+kNAbhwi5cZjgySMETh5l0dQx/KZO4Dt1Ep/p01imz2CePofp5hDGm8MYZs7jOTOCx8wo7rOXcJsdw3V2HNdbE7jcmhTTuNyexfW2U8zj5vwFd+eveDh/w9P5Owvm/sA49yemub8wz/+NZf4f/gXLh0p6",
        "encoding": "base64",
        "path": [
         "color_map",
         "compressed_buffer"
        ]
       },
       {
        "data": "eNpjYFBwZMAABxwwxRjsMYUa7AFHpwJg",
        "encoding": "base64",
        "path": [
         "model_matrix",
         "compressed_buffer"
        ]
       },
       {
        "data": "eNpjYACBN19+////+8sbBji4eOvp+5///v18//TWRYjItr1Hz916/vXfv6/Pb507uncbUGjJinVb95269eb37ze3Tu3bum7FEoYp02bOXbRi08EbX77cOLhpxaK5M6dNae/o6OrpmzRz+alTy2dO6uvp6uhor6yoKCspykuPNDOLTM8rKimrqKjMyUpPjovws9fg4dGw94uIS07PymGIiQjydjJTE2FlFVEzc/IOiogBWuzlbG2kJsnNxMQtqWZk7ewFcaG+mrQgOxMTu6C0mj7CJyI8rIyMrDwiEB4A19heAQ==",
        "encoding": "base64",
        "path": [
         "voxels",
         "compressed_buffer"
        ]
       }
      ],
      "model_module": "k3d",
      "model_module_version": "2.7.2",
      "model_name": "ObjectModel",
      "state": {
       "_view_count": null,
       "_view_module": null,
       "_view_module_version": "",
       "_view_name": null,
       "color_map": {
        "dtype": "uint32",
        "shape": [
         256
        ]
       },
       "compression_level": 0,
       "id": 140480005656784,
       "model_matrix": {
        "dtype": "float32",
        "shape": [
         4,
         4
        ]
       },
       "name": "Voxels #1",
       "opacity": 1,
       "outlines": false,
       "outlines_color": 0,
       "type": "Voxels",
       "visible": true,
       "voxels": {
        "dtype": "uint8",
        "shape": [
         1,
         12,
         20
        ]
       },
       "wireframe": false
      }
     },
     "fb8d8c42a1fb467eb9713a2ab6280fd3": {
      "model_module": "k3d",
      "model_module_version": "2.7.2",
      "model_name": "PlotModel",
      "state": {
       "_backend_version": "2.7.2",
       "_dom_classes": [],
       "_view_count": null,
       "antialias": 3,
       "auto_rendering": true,
       "axes": [
        "x (m)",
        "y (m)",
        "z (m)"
       ],
       "axes_helper": 1,
       "background_color": 16777215,
       "camera": [
        84.71979681592038,
        -65.20469514006155,
        10.746979618634622,
        24.750000033527613,
        24.750000033527613,
        4.749999940395355,
        0,
        0,
        1
       ],
       "camera_auto_fit": true,
       "camera_fov": 60,
       "camera_no_pan": false,
       "camera_no_rotate": false,
       "camera_no_zoom": false,
       "clipping_planes": [],
       "colorbar_object_id": -1,
       "fps": 25,
       "fps_meter": false,
       "grid": [
        -1,
        -1,
        -1,
        1,
        1,
        1
       ],
       "grid_auto_fit": true,
       "grid_visible": true,
       "height": 512,
       "layout": "IPY_MODEL_ca7d1326c6654032b475d0eb23bf5818",
       "lighting": 1.5,
       "menu_visibility": true,
       "mode": "view",
       "name": null,
       "object_ids": [
        140478910605104
       ],
       "rendering_steps": 1,
       "screenshot": "",
       "screenshot_scale": 2,
       "snapshot": "",
       "time": 0,
       "voxel_paint_color": 0
      }
     },
     "fbbedcaf5ffd4a80bfbc9d59c51eba08": {
      "buffers": [
       {
        "data": "eNoDAAAAAAE=",
        "encoding": "base64",
        "path": [
         "colors",
         "compressed_buffer"
        ]
       },
       {
        "data": "eNpjYGiwZ8AAxIsBAF7EAv0=",
        "encoding": "base64",
        "path": [
         "model_matrix",
         "compressed_buffer"
        ]
       },
       {
        "data": "eNpN09FthEAMBFDSwZVCBR6XdqW4kjtKSSkRWQGPH0bLYj1p5G07n/n+bL/f/7g1+f0hF3fy5CG/jnPWmdbZXHfITX5/yMWd8G+Yyfmrn7wfa+5laAyNoTE0hsbQGBpDY2gMV97Nx5p7eVZenut8yE0+33cu7oR/w0zOT8+Vd/OxZt2ewlN4Ck/hKTyFp/AUnsJTeIq+Ql+hr9BX6Cv0FfoKfYW+Ql+hr9AXhsEwGAbDYBgMg2EwDIbB8Mxf3+69C3sX9i7sXdi7/AGjvpsl",
        "encoding": "base64",
        "path": [
         "positions",
         "compressed_buffer"
        ]
       }
      ],
      "model_module": "k3d",
      "model_module_version": "2.7.2",
      "model_name": "ObjectModel",
      "state": {
       "_view_count": null,
       "_view_module": null,
       "_view_module_version": "",
       "_view_name": null,
       "color": 2062260,
       "colors": {
        "dtype": "uint32",
        "shape": [
         0
        ]
       },
       "compression_level": 0,
       "id": 140478911769472,
       "mesh_detail": 2,
       "model_matrix": {
        "dtype": "float32",
        "shape": [
         4,
         4
        ]
       },
       "name": "Points #1",
       "opacity": 1,
       "point_size": 0.125,
       "positions": {
        "dtype": "float32",
        "shape": [
         80,
         3
        ]
       },
       "shader": "3dSpecular",
       "type": "Points",
       "visible": true
      }
     },
     "fe41b2e8a335469988bca2cddc1be272": {
      "model_module": "@jupyter-widgets/output",
      "model_module_version": "1.0.0",
      "model_name": "OutputModel",
      "state": {
       "layout": "IPY_MODEL_6bcf414083ef4c2caf8fcba435ab78b7",
       "outputs": [
        {
         "data": {
          "application/vnd.jupyter.widget-view+json": {
           "model_id": "9640e1e4b68a48b4b483b31fc36a1cc2",
           "version_major": 2,
           "version_minor": 0
          },
          "text/plain": "Plot(antialias=3, axes=['x', 'y', 'z'], axes_helper=1.0, background_color=16777215, camera=[4.5, 4.5, 4.5, 0.0…"
         },
         "metadata": {},
         "output_type": "display_data"
        }
       ]
      }
     },
     "ff13fb6ba4ae475996e19ab11ede459a": {
      "model_module": "k3d",
      "model_module_version": "2.7.2",
      "model_name": "PlotModel",
      "state": {
       "_backend_version": "2.7.2",
       "_dom_classes": [],
       "_view_count": null,
       "antialias": 3,
       "auto_rendering": true,
       "axes": [
        "x (nm)",
        "y (nm)",
        "z (nm)"
       ],
       "axes_helper": 1,
       "background_color": 16777215,
       "camera": [
        9.733137238263115,
        -14.662205854600705,
        0.9758137234910336,
        -0.02499999664723873,
        -0.02500000223517418,
        0,
        0,
        0,
        1
       ],
       "camera_auto_fit": true,
       "camera_fov": 60,
       "camera_no_pan": false,
       "camera_no_rotate": false,
       "camera_no_zoom": false,
       "clipping_planes": [],
       "colorbar_object_id": -1,
       "fps": 25,
       "fps_meter": false,
       "grid": [
        -1,
        -1,
        -1,
        1,
        1,
        1
       ],
       "grid_auto_fit": true,
       "grid_visible": true,
       "height": 512,
       "layout": "IPY_MODEL_582507a4aef8460e90be9bd4643ab75a",
       "lighting": 1.5,
       "menu_visibility": true,
       "mode": "view",
       "name": null,
       "object_ids": [
        140480005656784
       ],
       "rendering_steps": 1,
       "screenshot": "",
       "screenshot_scale": 2,
       "snapshot": "",
       "time": 0,
       "voxel_paint_color": 0
      }
     },
     "ff4058146792472faa37302d28f6d55a": {
      "buffers": [
       {
        "data": "eNoDAAAAAAE=",
        "encoding": "base64",
        "path": [
         "colors",
         "compressed_buffer"
        ]
       },
       {
        "data": "eNpjYGiwZ8AAxIsBAF7EAv0=",
        "encoding": "base64",
        "path": [
         "model_matrix",
         "compressed_buffer"
        ]
       },
       {
        "data": "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",
        "encoding": "base64",
        "path": [
         "origins",
         "compressed_buffer"
        ]
       },
       {
        "data": "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",
        "encoding": "base64",
        "path": [
         "vectors",
         "compressed_buffer"
        ]
       }
      ],
      "model_module": "k3d",
      "model_module_version": "2.7.2",
      "model_name": "ObjectModel",
      "state": {
       "_view_count": null,
       "_view_module": null,
       "_view_module_version": "",
       "_view_name": null,
       "colors": {
        "dtype": "uint32",
        "shape": [
         0
        ]
       },
       "compression_level": 0,
       "head_color": 255,
       "head_size": 1,
       "id": 140480006401232,
       "label_size": 1,
       "labels": [],
       "line_width": 0.01,
       "model_matrix": {
        "dtype": "float32",
        "shape": [
         4,
         4
        ]
       },
       "name": "Vectors #1",
       "origin_color": 255,
       "origins": {
        "dtype": "float32",
        "shape": [
         1008,
         3
        ]
       },
       "type": "Vectors",
       "use_head": true,
       "vectors": {
        "dtype": "float32",
        "shape": [
         1008,
         3
        ]
       },
       "visible": true
      }
     }
    },
    "version_major": 2,
    "version_minor": 0
   }
  }
 },
 "nbformat": 4,
 "nbformat_minor": 4
}
