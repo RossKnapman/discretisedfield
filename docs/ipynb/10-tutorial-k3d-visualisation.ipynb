{
 "cells": [
  {
   "cell_type": "markdown",
   "metadata": {},
   "source": [
    "# Tutorial 10: Visualising the field using `k3d`\n",
    "\n",
    "> Interactive online tutorial:\n",
    "> [![Binder](https://mybinder.org/badge_logo.svg)](https://mybinder.org/v2/gh/ubermag/discretisedfield/master?filepath=docs%2Fipynb%2Findex.ipynb)\n",
    "\n",
    "**Note:** If you experience any problems in plotting with `k3d`, please make sure you run the Jupyter notebook in Google Chrome.\n",
    "\n",
    "There are two ways how a field can be visualised, using:\n",
    "- `matplotlib`\n",
    "- `k3d`\n",
    "\n",
    "`k3d` provides three-dimensional interactive plots of fields inside Jupyter notebook.\n",
    "\n",
    "Let us say we have a sample, which is an ellipsoid\n",
    "\n",
    "$$\\frac{x^2}{a^2} + \\frac{y^2}{b^2} + \\frac{z^2}{c^2} <= 1$$\n",
    "\n",
    "with $a=5\\,\\text{nm}$, $b=3\\,\\text{nm}$, and $c=2\\,\\text{nm}$. The space is discretised into cells with dimensions $(0.5\\,\\text{nm}, 0.5\\,\\text{nm}, 0.5\\,\\text{nm})$. The value of the field at $(x, y, z)$ point is $(-cy, cx, cz)$, with $c=10^{9}$. The norm of the field inside the cylinder is $10^{6}$.\n",
    "\n",
    "Let us first build that field."
   ]
  },
  {
   "cell_type": "code",
   "execution_count": 1,
   "metadata": {},
   "outputs": [],
   "source": [
    "import discretisedfield as df\n",
    "\n",
    "a, b, c = 5e-9, 3e-9, 2e-9\n",
    "cell = (0.5e-9, 0.5e-9, 0.5e-9)\n",
    "\n",
    "mesh =  df.Mesh(p1=(-a, -b, -c), p2=(a, b, c), cell=cell)\n",
    "\n",
    "def norm_fun(pos):\n",
    "    x, y, z = pos\n",
    "    if (x/a)**2 + (y/b)**2 + (z/c)**2 <= 1:\n",
    "        return 1e6\n",
    "    else:\n",
    "        return 0\n",
    "    \n",
    "def value_fun(pos):\n",
    "    x, y, z = pos\n",
    "    c = 1e9\n",
    "    return (-c*y, c*x, c*z)\n",
    "\n",
    "field = df.Field(mesh, value=value_fun, norm=norm_fun)"
   ]
  },
  {
   "cell_type": "markdown",
   "metadata": {},
   "source": [
    "The most basic plot we can show is the plot of all the cells where the value is non-zero. This can be useful, to inspect the domain created, by plotting the norm."
   ]
  },
  {
   "cell_type": "code",
   "execution_count": 2,
   "metadata": {},
   "outputs": [
    {
     "data": {
      "application/vnd.jupyter.widget-view+json": {
       "model_id": "cf4245846ee64becb41b73b8a923d95b",
       "version_major": 2,
       "version_minor": 0
      },
      "text/plain": [
       "Output()"
      ]
     },
     "metadata": {},
     "output_type": "display_data"
    }
   ],
   "source": [
    "# NBVAL_IGNORE_OUTPUT\n",
    "field.norm.k3d_nonzero()"
   ]
  },
  {
   "cell_type": "markdown",
   "metadata": {},
   "source": [
    "The plot is interactive, so it can be manipulated using a mouse. To change the color of voxels, we can pass the new color via `color` argument."
   ]
  },
  {
   "cell_type": "code",
   "execution_count": 3,
   "metadata": {},
   "outputs": [
    {
     "data": {
      "application/vnd.jupyter.widget-view+json": {
       "model_id": "7b2e666d12004c06a23d094183ee53bd",
       "version_major": 2,
       "version_minor": 0
      },
      "text/plain": [
       "Output()"
      ]
     },
     "metadata": {},
     "output_type": "display_data"
    }
   ],
   "source": [
    "# NBVAL_IGNORE_OUTPUT\n",
    "field.norm.k3d_nonzero(color=0x27ae60)"
   ]
  },
  {
   "cell_type": "markdown",
   "metadata": {},
   "source": [
    "Next, we can plot a scalar field. For plotting a scalar field, we are using `discretisedfield.Field.k3d_voxels()` method."
   ]
  },
  {
   "cell_type": "code",
   "execution_count": 4,
   "metadata": {},
   "outputs": [
    {
     "name": "stdout",
     "output_type": "stream",
     "text": [
      "Exception raised.\n"
     ]
    }
   ],
   "source": [
    "# NBVAL_IGNORE_OUTPUT\n",
    "try:\n",
    "    field.k3d_voxels()\n",
    "except ValueError:\n",
    "    print('Exception raised.')"
   ]
  },
  {
   "cell_type": "markdown",
   "metadata": {},
   "source": [
    "An exception was raised because we attempted to plot a vector field using voxels. Therefore, we first need to extract a component of the field. Let us plot the $x$ component."
   ]
  },
  {
   "cell_type": "code",
   "execution_count": 5,
   "metadata": {},
   "outputs": [
    {
     "data": {
      "application/vnd.jupyter.widget-view+json": {
       "model_id": "b26cb052e3874d30ae9760cd95a36252",
       "version_major": 2,
       "version_minor": 0
      },
      "text/plain": [
       "Output()"
      ]
     },
     "metadata": {},
     "output_type": "display_data"
    }
   ],
   "source": [
    "# NBVAL_IGNORE_OUTPUT\n",
    "field.x.k3d_voxels()"
   ]
  },
  {
   "cell_type": "markdown",
   "metadata": {},
   "source": [
    "However, we can see that the points which we consider to be outside the sample are also plotted. This is because, `discretisedfield.Field.k3d_voxels()` method cannot determine the points where norm is zero from the passed scalar field. Therefore, we need to pass the `norm_field.`"
   ]
  },
  {
   "cell_type": "code",
   "execution_count": 6,
   "metadata": {},
   "outputs": [
    {
     "data": {
      "application/vnd.jupyter.widget-view+json": {
       "model_id": "60f7c77681bd4a9383bb73d36956a505",
       "version_major": 2,
       "version_minor": 0
      },
      "text/plain": [
       "Output()"
      ]
     },
     "metadata": {},
     "output_type": "display_data"
    }
   ],
   "source": [
    "# NBVAL_IGNORE_OUTPUT\n",
    "field.x.k3d_voxels(norm_field=field.norm)"
   ]
  },
  {
   "cell_type": "markdown",
   "metadata": {},
   "source": [
    "By cascading operations, we can similarly plot the slice of the ellipsoid at $z=0$."
   ]
  },
  {
   "cell_type": "code",
   "execution_count": 7,
   "metadata": {},
   "outputs": [
    {
     "data": {
      "application/vnd.jupyter.widget-view+json": {
       "model_id": "a0eb4187fa7c4f8da3d327ac4dd2f0ed",
       "version_major": 2,
       "version_minor": 0
      },
      "text/plain": [
       "Output()"
      ]
     },
     "metadata": {},
     "output_type": "display_data"
    }
   ],
   "source": [
    "# NBVAL_IGNORE_OUTPUT\n",
    "field.x.plane(z=0).k3d_voxels(norm_field=field.norm)"
   ]
  },
  {
   "cell_type": "markdown",
   "metadata": {},
   "source": [
    "To further modify the plot, keyword arguments for `k3d.voxels()` function are accepted. Plese refer to its [documentation](https://k3d-jupyter.readthedocs.io/en/latest/k3d.html#k3d.k3d.voxels).\n",
    "\n",
    "Next, we can plot the vector field itself."
   ]
  },
  {
   "cell_type": "code",
   "execution_count": 8,
   "metadata": {},
   "outputs": [
    {
     "data": {
      "application/vnd.jupyter.widget-view+json": {
       "model_id": "56d6ceebef2d43b3aab626f232eeb12d",
       "version_major": 2,
       "version_minor": 0
      },
      "text/plain": [
       "Output()"
      ]
     },
     "metadata": {},
     "output_type": "display_data"
    }
   ],
   "source": [
    "# NBVAL_IGNORE_OUTPUT\n",
    "field.k3d_vectors()"
   ]
  },
  {
   "cell_type": "markdown",
   "metadata": {},
   "source": [
    "By default, points at the discretisation cell centres are plotted together with vectors to help understand the structure of the field. However, they can be deactivated by passing `points=False`."
   ]
  },
  {
   "cell_type": "code",
   "execution_count": 9,
   "metadata": {},
   "outputs": [
    {
     "data": {
      "application/vnd.jupyter.widget-view+json": {
       "model_id": "98661d6ad3584a8aa2391ed279e9c8b9",
       "version_major": 2,
       "version_minor": 0
      },
      "text/plain": [
       "Output()"
      ]
     },
     "metadata": {},
     "output_type": "display_data"
    }
   ],
   "source": [
    "# NBVAL_IGNORE_OUTPUT\n",
    "field.k3d_vectors(points=False)"
   ]
  },
  {
   "cell_type": "markdown",
   "metadata": {},
   "source": [
    "It is difficult to understand the vector field from this plot. By cascading, we can plot its slice at $x=0$."
   ]
  },
  {
   "cell_type": "code",
   "execution_count": 10,
   "metadata": {},
   "outputs": [
    {
     "data": {
      "application/vnd.jupyter.widget-view+json": {
       "model_id": "b22364e75cf0431284829c7cb5c25dbc",
       "version_major": 2,
       "version_minor": 0
      },
      "text/plain": [
       "Output()"
      ]
     },
     "metadata": {},
     "output_type": "display_data"
    }
   ],
   "source": [
    "# NBVAL_IGNORE_OUTPUT\n",
    "field.plane(x=0).k3d_vectors()"
   ]
  },
  {
   "cell_type": "markdown",
   "metadata": {},
   "source": [
    "To improve the understanding of the plot, we can now colour the vectors plotted. For that, we need to pass a scalar field, according to which the vectors will be coloured."
   ]
  },
  {
   "cell_type": "code",
   "execution_count": 11,
   "metadata": {},
   "outputs": [
    {
     "data": {
      "application/vnd.jupyter.widget-view+json": {
       "model_id": "5765a4c233944cf8987dd0c5c0557d93",
       "version_major": 2,
       "version_minor": 0
      },
      "text/plain": [
       "Output()"
      ]
     },
     "metadata": {},
     "output_type": "display_data"
    }
   ],
   "source": [
    "# NBVAL_IGNORE_OUTPUT\n",
    "field.plane(x=0).k3d_vectors(color_field=field.x)"
   ]
  },
  {
   "cell_type": "markdown",
   "metadata": {},
   "source": [
    "To further modify the plot, keyword arguments for `k3d.vectors()` function are accepted. Plese refer to its [documentation](https://k3d-jupyter.readthedocs.io/en/latest/k3d.html#k3d.k3d.vectors).\n",
    "\n",
    "### Multiple visualisation on the same plot\n",
    "\n",
    "Sometimes, it is necessary to show, for example, multiple planes of the sample on the same plot. This can be done by exposing the `k3d.plot` and passing it to different plotting methods. For instance."
   ]
  },
  {
   "cell_type": "code",
   "execution_count": 12,
   "metadata": {},
   "outputs": [
    {
     "data": {
      "application/vnd.jupyter.widget-view+json": {
       "model_id": "5c7ad61d964b4922a6e73bbd61ee9d65",
       "version_major": 2,
       "version_minor": 0
      },
      "text/plain": [
       "Output()"
      ]
     },
     "metadata": {},
     "output_type": "display_data"
    }
   ],
   "source": [
    "# NBVAL_IGNORE_OUTPUT\n",
    "import k3d\n",
    "plot = k3d.plot()\n",
    "field.plane(x=-3e-9).k3d_vectors(plot=plot, color_field=field.z)\n",
    "field.plane(x=0).k3d_vectors(plot=plot, color_field=field.z)\n",
    "field.plane(x=3e-9).k3d_vectors(plot=plot, color_field=field.z)\n",
    "plot.display()"
   ]
  },
  {
   "cell_type": "markdown",
   "metadata": {},
   "source": [
    "### Plotting regions in the mesh\n",
    "\n",
    "As explained in [Defining regions tutorial](03-tutorial-defining-regions.ipynb), different regions can be defined in the mesh. Sometimes it is necessary to visualise those regions in order to make sure they are defined properly."
   ]
  },
  {
   "cell_type": "code",
   "execution_count": 13,
   "metadata": {},
   "outputs": [
    {
     "data": {
      "application/vnd.jupyter.widget-view+json": {
       "model_id": "9aef82fb0dc748a79222521b8f0a070f",
       "version_major": 2,
       "version_minor": 0
      },
      "text/plain": [
       "Output()"
      ]
     },
     "metadata": {},
     "output_type": "display_data"
    }
   ],
   "source": [
    "# NBVAL_IGNORE_OUTPUT\n",
    "p1 = (0, 0, 0)\n",
    "p2 = (50, 50, 10)\n",
    "cell = (5, 5, 5)\n",
    "mesh = df.Mesh(p1=p1, p2=p2, cell=cell)\n",
    "\n",
    "region1 = df.Region(p1=(0, 0, 0), p2=(50, 50, 5))\n",
    "region2 = df.Region(p1=(0, 0, 5), p2=(50, 50, 10))\n",
    "\n",
    "mesh.subregions = {'region_with_interesting_properties': region1, 'region_with_funny_properties': region2}\n",
    "\n",
    "mesh.k3d_subregions()"
   ]
  },
  {
   "cell_type": "markdown",
   "metadata": {},
   "source": [
    "## Other\n",
    "\n",
    "Full description of all existing functionality can be found in the [API Reference](https://discretisedfield.readthedocs.io/en/latest/api-reference.html)."
   ]
  }
 ],
 "metadata": {
  "kernelspec": {
   "display_name": "Python 3",
   "language": "python",
   "name": "python3"
  },
  "language_info": {
   "codemirror_mode": {
    "name": "ipython",
    "version": 3
   },
   "file_extension": ".py",
   "mimetype": "text/x-python",
   "name": "python",
   "nbconvert_exporter": "python",
   "pygments_lexer": "ipython3",
   "version": "3.8.1"
  },
  "widgets": {
   "application/vnd.jupyter.widget-state+json": {
    "state": {},
    "version_major": 2,
    "version_minor": 0
   }
  }
 },
 "nbformat": 4,
 "nbformat_minor": 4
}
