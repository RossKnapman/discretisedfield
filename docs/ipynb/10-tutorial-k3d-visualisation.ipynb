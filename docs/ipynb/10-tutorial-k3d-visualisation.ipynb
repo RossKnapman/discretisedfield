{
 "cells": [
  {
   "cell_type": "markdown",
   "metadata": {},
   "source": [
    "# Tutorial 10: Visualising the field using `k3d`\n",
    "\n",
    "> Interactive online tutorial:\n",
    "> [![Binder](https://mybinder.org/badge_logo.svg)](https://mybinder.org/v2/gh/ubermag/discretisedfield/master?filepath=docs%2Fipynb%2Findex.ipynb)\n",
    "\n",
    "**Note:** If you experience any problems in plotting with `k3d`, please make sure you run the Jupyter notebook in Google Chrome.\n",
    "\n",
    "There are two ways how a field can be visualised, using:\n",
    "- `matplotlib`\n",
    "- `k3d`\n",
    "\n",
    "`k3d` provides three-dimensional interactive plots of fields inside Jupyter notebook.\n",
    "\n",
    "Let us say we have a sample, which is an ellipsoid\n",
    "\n",
    "$$\\frac{x^2}{a^2} + \\frac{y^2}{b^2} + \\frac{z^2}{c^2} <= 1$$\n",
    "\n",
    "with $a=5\\,\\text{nm}$, $b=3\\,\\text{nm}$, and $c=2\\,\\text{nm}$. The space is discretised into cells with dimensions $(0.5\\,\\text{nm}, 0.5\\,\\text{nm}, 0.5\\,\\text{nm})$. The value of the field at $(x, y, z)$ point is $(-cy, cx, cz)$, with $c=10^{9}$. The norm of the field inside the cylinder is $10^{6}$.\n",
    "\n",
    "Let us first build that field."
   ]
  },
  {
   "cell_type": "code",
   "execution_count": 1,
   "metadata": {},
   "outputs": [],
   "source": [
    "import discretisedfield as df\n",
    "\n",
    "a, b, c = 5e-9, 3e-9, 2e-9\n",
    "cell = (0.5e-9, 0.5e-9, 0.5e-9)\n",
    "\n",
    "mesh =  df.Mesh(p1=(-a, -b, -c), p2=(a, b, c), cell=cell)\n",
    "\n",
    "def norm_fun(pos):\n",
    "    x, y, z = pos\n",
    "    if (x/a)**2 + (y/b)**2 + (z/c)**2 <= 1:\n",
    "        return 1e6\n",
    "    else:\n",
    "        return 0\n",
    "    \n",
    "def value_fun(pos):\n",
    "    x, y, z = pos\n",
    "    c = 1e9\n",
    "    return (-c*y, c*x, c*z)\n",
    "\n",
    "field = df.Field(mesh, value=value_fun, norm=norm_fun)"
   ]
  },
  {
   "cell_type": "markdown",
   "metadata": {},
   "source": [
    "The most basic plot we can show is the plot of all the cells where the value is non-zero. This can be useful, to inspect the domain created, by plotting the norm."
   ]
  },
  {
   "cell_type": "code",
   "execution_count": 2,
   "metadata": {},
   "outputs": [
    {
     "data": {
      "application/vnd.jupyter.widget-view+json": {
       "model_id": "d22321c9af0749b4bec0e6fa916850c8",
       "version_major": 2,
       "version_minor": 0
      },
      "text/plain": [
       "Output()"
      ]
     },
     "metadata": {},
     "output_type": "display_data"
    }
   ],
   "source": [
    "# NBVAL_IGNORE_OUTPUT\n",
    "field.norm.k3d_nonzero()"
   ]
  },
  {
   "cell_type": "markdown",
   "metadata": {},
   "source": [
    "The plot is interactive, so it can be manipulated using a mouse. To change the color of voxels, we can pass the new color via `color` argument."
   ]
  },
  {
   "cell_type": "code",
   "execution_count": 3,
   "metadata": {},
   "outputs": [
    {
     "data": {
      "application/vnd.jupyter.widget-view+json": {
       "model_id": "22a89599c2b74d85bd3b279764326262",
       "version_major": 2,
       "version_minor": 0
      },
      "text/plain": [
       "Output()"
      ]
     },
     "metadata": {},
     "output_type": "display_data"
    }
   ],
   "source": [
    "# NBVAL_IGNORE_OUTPUT\n",
    "field.norm.k3d_nonzero(color=0x27ae60)"
   ]
  },
  {
   "cell_type": "markdown",
   "metadata": {},
   "source": [
    "Next, we can plot a scalar field. For plotting a scalar field, we are using `discretisedfield.Field.k3d_voxels()` method."
   ]
  },
  {
   "cell_type": "code",
   "execution_count": 4,
   "metadata": {},
   "outputs": [
    {
     "name": "stdout",
     "output_type": "stream",
     "text": [
      "Exception raised.\n"
     ]
    }
   ],
   "source": [
    "# NBVAL_IGNORE_OUTPUT\n",
    "try:\n",
    "    field.k3d_voxels()\n",
    "except ValueError:\n",
    "    print('Exception raised.')"
   ]
  },
  {
   "cell_type": "markdown",
   "metadata": {},
   "source": [
    "An exception was raised because we attempted to plot a vector field using voxels. Therefore, we first need to extract a component of the field. Let us plot the $x$ component."
   ]
  },
  {
   "cell_type": "code",
   "execution_count": 5,
   "metadata": {},
   "outputs": [
    {
     "data": {
      "application/vnd.jupyter.widget-view+json": {
       "model_id": "a268d514f80442ec9bcd6a1d02b8f7ba",
       "version_major": 2,
       "version_minor": 0
      },
      "text/plain": [
       "Output()"
      ]
     },
     "metadata": {},
     "output_type": "display_data"
    }
   ],
   "source": [
    "# NBVAL_IGNORE_OUTPUT\n",
    "field.x.k3d_voxels()"
   ]
  },
  {
   "cell_type": "markdown",
   "metadata": {},
   "source": [
    "However, we can see that the points which we consider to be outside the sample are also plotted. This is because, `discretisedfield.Field.k3d_voxels()` method cannot determine the points where norm is zero from the passed scalar field. Therefore, we need to pass the `norm_field.`"
   ]
  },
  {
   "cell_type": "code",
   "execution_count": 6,
   "metadata": {},
   "outputs": [
    {
     "data": {
      "application/vnd.jupyter.widget-view+json": {
       "model_id": "2b299ad153de4328976b80448800f45e",
       "version_major": 2,
       "version_minor": 0
      },
      "text/plain": [
       "Output()"
      ]
     },
     "metadata": {},
     "output_type": "display_data"
    }
   ],
   "source": [
    "# NBVAL_IGNORE_OUTPUT\n",
    "field.x.k3d_voxels(norm_field=field.norm)"
   ]
  },
  {
   "cell_type": "markdown",
   "metadata": {},
   "source": [
    "By cascading operations, we can similarly plot the slice of the ellipsoid at $z=0$."
   ]
  },
  {
   "cell_type": "code",
   "execution_count": 7,
   "metadata": {},
   "outputs": [
    {
     "data": {
      "application/vnd.jupyter.widget-view+json": {
       "model_id": "970165b02e1642fea91759553e2e79c5",
       "version_major": 2,
       "version_minor": 0
      },
      "text/plain": [
       "Output()"
      ]
     },
     "metadata": {},
     "output_type": "display_data"
    }
   ],
   "source": [
    "# NBVAL_IGNORE_OUTPUT\n",
    "field.x.plane(z=0).k3d_voxels(norm_field=field.norm)"
   ]
  },
  {
   "cell_type": "markdown",
   "metadata": {},
   "source": [
    "To further modify the plot, keyword arguments for `k3d.voxels()` function are accepted. Plese refer to its [documentation](https://k3d-jupyter.readthedocs.io/en/latest/k3d.html#k3d.k3d.voxels).\n",
    "\n",
    "Next, we can plot the vector field itself."
   ]
  },
  {
   "cell_type": "code",
   "execution_count": 8,
   "metadata": {},
   "outputs": [
    {
     "data": {
      "application/vnd.jupyter.widget-view+json": {
       "model_id": "4d6f6904d2bf4b45b827ec33f63ee345",
       "version_major": 2,
       "version_minor": 0
      },
      "text/plain": [
       "Output()"
      ]
     },
     "metadata": {},
     "output_type": "display_data"
    }
   ],
   "source": [
    "# NBVAL_IGNORE_OUTPUT\n",
    "field.k3d_vectors()"
   ]
  },
  {
   "cell_type": "markdown",
   "metadata": {},
   "source": [
    "By default, points at the discretisation cell centres are plotted together with vectors to help understand the structure of the field. However, they can be deactivated by passing `points=False`."
   ]
  },
  {
   "cell_type": "code",
   "execution_count": 9,
   "metadata": {},
   "outputs": [
    {
     "data": {
      "application/vnd.jupyter.widget-view+json": {
       "model_id": "04eef847d02f43c8b1296ef719724388",
       "version_major": 2,
       "version_minor": 0
      },
      "text/plain": [
       "Output()"
      ]
     },
     "metadata": {},
     "output_type": "display_data"
    }
   ],
   "source": [
    "# NBVAL_IGNORE_OUTPUT\n",
    "field.k3d_vectors(points=False)"
   ]
  },
  {
   "cell_type": "markdown",
   "metadata": {},
   "source": [
    "It is difficult to understand the vector field from this plot. By cascading, we can plot its slice at $x=0$."
   ]
  },
  {
   "cell_type": "code",
   "execution_count": 10,
   "metadata": {},
   "outputs": [
    {
     "data": {
      "application/vnd.jupyter.widget-view+json": {
       "model_id": "c950082c6def4f09a919238310bc0408",
       "version_major": 2,
       "version_minor": 0
      },
      "text/plain": [
       "Output()"
      ]
     },
     "metadata": {},
     "output_type": "display_data"
    }
   ],
   "source": [
    "# NBVAL_IGNORE_OUTPUT\n",
    "field.plane(x=0).k3d_vectors()"
   ]
  },
  {
   "cell_type": "markdown",
   "metadata": {},
   "source": [
    "To improve the understanding of the plot, we can now colour the vectors plotted. For that, we need to pass a scalar field, according to which the vectors will be coloured."
   ]
  },
  {
   "cell_type": "code",
   "execution_count": 11,
   "metadata": {},
   "outputs": [
    {
     "data": {
      "application/vnd.jupyter.widget-view+json": {
       "model_id": "50e1134e2a9d47d9a3657b3cc8baf016",
       "version_major": 2,
       "version_minor": 0
      },
      "text/plain": [
       "Output()"
      ]
     },
     "metadata": {},
     "output_type": "display_data"
    }
   ],
   "source": [
    "# NBVAL_IGNORE_OUTPUT\n",
    "field.plane(x=0).k3d_vectors(color_field=field.x)"
   ]
  },
  {
   "cell_type": "markdown",
   "metadata": {},
   "source": [
    "To further modify the plot, keyword arguments for `k3d.vectors()` function are accepted. Plese refer to its [documentation](https://k3d-jupyter.readthedocs.io/en/latest/k3d.html#k3d.k3d.vectors).\n",
    "\n",
    "## Other\n",
    "\n",
    "Full description of all existing functionality can be found in the [API Reference](https://discretisedfield.readthedocs.io/en/latest/api_documentation.html)."
   ]
  }
 ],
 "metadata": {
  "kernelspec": {
   "display_name": "Python 3",
   "language": "python",
   "name": "python3"
  },
  "language_info": {
   "codemirror_mode": {
    "name": "ipython",
    "version": 3
   },
   "file_extension": ".py",
   "mimetype": "text/x-python",
   "name": "python",
   "nbconvert_exporter": "python",
   "pygments_lexer": "ipython3",
   "version": "3.6.7"
  },
  "widgets": {
   "application/vnd.jupyter.widget-state+json": {
    "state": {
     "00194eb688b64095b69c8d4a13404f76": {
      "model_module": "k3d",
      "model_module_version": "2.6.9",
      "model_name": "PlotModel",
      "state": {
       "_backend_version": "2.6.9",
       "_dom_classes": [],
       "_view_count": null,
       "antialias": 3,
       "axes": [
        "x",
        "y",
        "z"
       ],
       "background_color": 16777215,
       "camera": [
        9.733137238263115,
        -14.662205854600705,
        0.9758137234910438,
        -0.02499999664723873,
        -0.02500000223517418,
        0,
        0,
        0,
        1
       ],
       "camera_auto_fit": true,
       "camera_no_pan": false,
       "camera_no_rotate": false,
       "camera_no_zoom": false,
       "clipping_planes": [],
       "colorbar_object_id": -1,
       "fps_meter": false,
       "grid": [
        -1,
        -1,
        -1,
        1,
        1,
        1
       ],
       "grid_auto_fit": true,
       "grid_visible": true,
       "height": 512,
       "layout": "IPY_MODEL_6482e162571b42fc907c385ece874483",
       "lighting": 1,
       "menu_visibility": true,
       "object_ids": [
        4610103784
       ],
       "rendering_steps": 1,
       "screenshot": "",
       "screenshot_scale": 2,
       "time": 0,
       "voxel_paint_color": 0
      }
     },
     "00749da0d46142e4b674650b8d154510": {
      "model_module": "@jupyter-widgets/base",
      "model_module_version": "1.2.0",
      "model_name": "LayoutModel",
      "state": {}
     },
     "04eef847d02f43c8b1296ef719724388": {
      "model_module": "@jupyter-widgets/output",
      "model_module_version": "1.0.0",
      "model_name": "OutputModel",
      "state": {
       "layout": "IPY_MODEL_49ce670200534d17bcb00dd1c7fbe7fb",
       "outputs": [
        {
         "data": {
          "application/vnd.jupyter.widget-view+json": {
           "model_id": "9258fa9067d24771b0878aea065eec0b",
           "version_major": 2,
           "version_minor": 0
          },
          "text/plain": "Plot(antialias=3, axes=['x', 'y', 'z'], background_color=16777215, camera=[4.5, 4.5, 4.5, 0.0, 0.0, 0.0, 1.0, …"
         },
         "metadata": {},
         "output_type": "display_data"
        }
       ]
      }
     },
     "091bb49ec6fc4733925a8a8eb3e1d37f": {
      "model_module": "@jupyter-widgets/base",
      "model_module_version": "1.2.0",
      "model_name": "LayoutModel",
      "state": {}
     },
     "0b0e42f5557f49298d518ed3231a8088": {
      "model_module": "@jupyter-widgets/base",
      "model_module_version": "1.2.0",
      "model_name": "LayoutModel",
      "state": {}
     },
     "0c2593598d204d6ca68779e5523d71a1": {
      "model_module": "k3d",
      "model_module_version": "2.6.9",
      "model_name": "PlotModel",
      "state": {
       "_backend_version": "2.6.9",
       "_dom_classes": [],
       "_view_count": null,
       "antialias": 3,
       "axes": [
        "x",
        "y",
        "z"
       ],
       "background_color": 16777215,
       "camera": [
        2.1422062344188877,
        -3.213309351628332,
        0.21422062344189097,
        0,
        0,
        0,
        0,
        0,
        1
       ],
       "camera_auto_fit": true,
       "camera_no_pan": false,
       "camera_no_rotate": false,
       "camera_no_zoom": false,
       "clipping_planes": [],
       "colorbar_object_id": -1,
       "fps_meter": false,
       "grid": [
        -1,
        -1,
        -1,
        1,
        1,
        1
       ],
       "grid_auto_fit": true,
       "grid_visible": true,
       "height": 512,
       "layout": "IPY_MODEL_af42fa58c4ed4a6f9d6ae0a3b015d956",
       "lighting": 1,
       "menu_visibility": true,
       "object_ids": [
        4734587736,
        4734048912
       ],
       "rendering_steps": 1,
       "screenshot": "",
       "screenshot_scale": 2,
       "time": 0,
       "voxel_paint_color": 0
      }
     },
     "0d39bcb45f4e4bc2ab4288846d56a1c3": {
      "model_module": "@jupyter-widgets/base",
      "model_module_version": "1.2.0",
      "model_name": "LayoutModel",
      "state": {}
     },
     "0ded5381777745daaa522b5c4aeac8d0": {
      "model_module": "@jupyter-widgets/base",
      "model_module_version": "1.2.0",
      "model_name": "LayoutModel",
      "state": {}
     },
     "0e02af4a4f684ac088443e9ad074a348": {
      "model_module": "@jupyter-widgets/base",
      "model_module_version": "1.2.0",
      "model_name": "LayoutModel",
      "state": {}
     },
     "0e37998f353b45dc83b292fc06e7b739": {
      "model_module": "k3d",
      "model_module_version": "2.6.9",
      "model_name": "PlotModel",
      "state": {
       "_backend_version": "2.6.9",
       "_dom_classes": [],
       "_view_count": null,
       "antialias": 3,
       "axes": [
        "x",
        "y",
        "z"
       ],
       "background_color": 16777215,
       "camera": [
        10.284874878907916,
        -15.489812315567907,
        1.0059874815950598,
        -0.02499999664723873,
        -0.02500000223517418,
        -0.025000005960464478,
        0,
        0,
        1
       ],
       "camera_auto_fit": true,
       "camera_no_pan": false,
       "camera_no_rotate": false,
       "camera_no_zoom": false,
       "clipping_planes": [],
       "colorbar_object_id": -1,
       "fps_meter": false,
       "grid": [
        -1,
        -1,
        -1,
        1,
        1,
        1
       ],
       "grid_auto_fit": true,
       "grid_visible": true,
       "height": 512,
       "layout": "IPY_MODEL_4873277ce47d47d389c58606ebe522e0",
       "lighting": 1,
       "menu_visibility": true,
       "object_ids": [
        4511714888
       ],
       "rendering_steps": 1,
       "screenshot": "",
       "screenshot_scale": 2,
       "time": 0,
       "voxel_paint_color": 0
      }
     },
     "0f9ff25c2c8e45efaecd480690c91119": {
      "model_module": "@jupyter-widgets/base",
      "model_module_version": "1.2.0",
      "model_name": "LayoutModel",
      "state": {}
     },
     "108c26d8d4f14165959c915a9c6c884f": {
      "model_module": "@jupyter-widgets/base",
      "model_module_version": "1.2.0",
      "model_name": "LayoutModel",
      "state": {}
     },
     "129f0aaf490e461d8b6d92410ddebb6d": {
      "buffers": [
       {
        "data": "eNoDAAAAAAE=",
        "encoding": "base64",
        "path": [
         "colors",
         "compressed_buffer"
        ]
       },
       {
        "data": "eNpjYGiwZ8AAxIsBAF7EAv0=",
        "encoding": "base64",
        "path": [
         "model_matrix",
         "compressed_buffer"
        ]
       },
       {
        "data": "eNpN0VENwzAMBuFAGJQisA1tUIxkK5RAmbIq7ZeXnqL0dNI/xjr9HWN+/zgKfn/g4E0+3PDrvFzrrLvNDRe8/I2/8Tf+2wm/6uHjvLy7oWgoGoqGoqFoKBqKhqKhaNh8yOfl3T2bV8/mhgte35uDN8m/8IRXz+ZDPi/X3RP0BD1BT9AT9AQ9QU/QE/QEPcFeyV7JXsleyV7JXsleyV7JXsleyV7JXjQ0DU1D09A0NA1NQ9PQNDQN+if+iX/in/gn/pk/dr6bDQ==",
        "encoding": "base64",
        "path": [
         "positions",
         "compressed_buffer"
        ]
       }
      ],
      "model_module": "k3d",
      "model_module_version": "2.6.9",
      "model_name": "ObjectModel",
      "state": {
       "_view_count": null,
       "_view_module": null,
       "_view_module_version": "",
       "_view_name": null,
       "color": 10075135,
       "colors": {
        "dtype": "uint32",
        "shape": [
         0
        ]
       },
       "compression_level": 0,
       "id": 4734048912,
       "mesh_detail": 2,
       "model_matrix": {
        "dtype": "float32",
        "shape": [
         4,
         4
        ]
       },
       "name": null,
       "opacity": 1,
       "point_size": 0.1,
       "positions": {
        "dtype": "float32",
        "shape": [
         80,
         3
        ]
       },
       "shader": "3dSpecular",
       "type": "Points",
       "visible": true
      }
     },
     "14f63dcd4fa74823881e75c20e1ead3d": {
      "buffers": [
       {
        "data": "eNoDAAAAAAE=",
        "encoding": "base64",
        "path": [
         "colors",
         "compressed_buffer"
        ]
       },
       {
        "data": "eNpjYGiwZ8AAxIsBAF7EAv0=",
        "encoding": "base64",
        "path": [
         "model_matrix",
         "compressed_buffer"
        ]
       },
       {
        "data": "eNpN0VENwzAMBuFAGJQisA1tUIxkK5RAmbIq7ZeXnqL0dNI/xjr9HWN+/zgKfn/g4E0+3PDrvFzrrLvNDRe8/I2/8Tf+2wm/6uHjvLy7oWgoGoqGoqFoKBqKhqKhaNh8yOfl3T2bV8/mhgte35uDN8m/8IRXz+ZDPi/X3RP0BD1BT9AT9AQ9QU/QE/QEPcFeyV7JXsleyV7JXsleyV7JXsleyV7JXjQ0DU1D09A0NA1NQ9PQNDQN+if+iX/in/gn/pk/dr6bDQ==",
        "encoding": "base64",
        "path": [
         "positions",
         "compressed_buffer"
        ]
       }
      ],
      "model_module": "k3d",
      "model_module_version": "2.6.9",
      "model_name": "ObjectModel",
      "state": {
       "_view_count": null,
       "_view_module": null,
       "_view_module_version": "",
       "_view_name": null,
       "color": 10075135,
       "colors": {
        "dtype": "uint32",
        "shape": [
         0
        ]
       },
       "compression_level": 0,
       "id": 4734567480,
       "mesh_detail": 2,
       "model_matrix": {
        "dtype": "float32",
        "shape": [
         4,
         4
        ]
       },
       "name": null,
       "opacity": 1,
       "point_size": 0.1,
       "positions": {
        "dtype": "float32",
        "shape": [
         80,
         3
        ]
       },
       "shader": "3dSpecular",
       "type": "Points",
       "visible": true
      }
     },
     "17be2fcdb8f1425a9a2f3833dcae82f5": {
      "model_module": "@jupyter-widgets/output",
      "model_module_version": "1.0.0",
      "model_name": "OutputModel",
      "state": {
       "layout": "IPY_MODEL_64f89401cce540b0b78b8296b7ff96f9",
       "outputs": [
        {
         "data": {
          "application/vnd.jupyter.widget-view+json": {
           "model_id": "0e37998f353b45dc83b292fc06e7b739",
           "version_major": 2,
           "version_minor": 0
          },
          "text/plain": "Plot(antialias=3, axes=['x', 'y', 'z'], background_color=16777215, camera=[4.5, 4.5, 4.5, 0.0, 0.0, 0.0, 1.0, …"
         },
         "metadata": {},
         "output_type": "display_data"
        }
       ]
      }
     },
     "1c663ad45fc7492dbaaed42b99eddaba": {
      "model_module": "@jupyter-widgets/output",
      "model_module_version": "1.0.0",
      "model_name": "OutputModel",
      "state": {
       "layout": "IPY_MODEL_b29b4b3ff4014decaed3eeaf6f5f64a7",
       "outputs": [
        {
         "data": {
          "application/vnd.jupyter.widget-view+json": {
           "model_id": "f8d3a156dac94ede91c6fb6020e302d4",
           "version_major": 2,
           "version_minor": 0
          },
          "text/plain": "Plot(antialias=3, axes=['x', 'y', 'z'], background_color=16777215, camera=[4.5, 4.5, 4.5, 0.0, 0.0, 0.0, 1.0, …"
         },
         "metadata": {},
         "output_type": "display_data"
        }
       ]
      }
     },
     "1cb6dddf1f0944d4822f1f44244806d3": {
      "model_module": "k3d",
      "model_module_version": "2.6.9",
      "model_name": "PlotModel",
      "state": {
       "_backend_version": "2.6.9",
       "_dom_classes": [],
       "_view_count": null,
       "antialias": 3,
       "axes": [
        "x",
        "y",
        "z"
       ],
       "background_color": 16777215,
       "camera": [
        9.828951377057189,
        -14.743427065585788,
        0.9828951377057292,
        0,
        0,
        0,
        0,
        0,
        1
       ],
       "camera_auto_fit": true,
       "camera_no_pan": false,
       "camera_no_rotate": false,
       "camera_no_zoom": false,
       "clipping_planes": [],
       "colorbar_object_id": -1,
       "fps_meter": false,
       "grid": [
        -1,
        -1,
        -1,
        1,
        1,
        1
       ],
       "grid_auto_fit": true,
       "grid_visible": true,
       "height": 512,
       "layout": "IPY_MODEL_b314bedd6fff42ca929c476bb33cb273",
       "lighting": 1,
       "menu_visibility": true,
       "object_ids": [
        4634986816,
        4634907648
       ],
       "rendering_steps": 1,
       "screenshot": "",
       "screenshot_scale": 2,
       "time": 0,
       "voxel_paint_color": 0
      }
     },
     "1daae8c7a8734b01be571c9f30128713": {
      "buffers": [
       {
        "data": "eNoDAAAAAAE=",
        "encoding": "base64",
        "path": [
         "colors",
         "compressed_buffer"
        ]
       },
       {
        "data": "eNpjYGiwZ8AAxIsBAF7EAv0=",
        "encoding": "base64",
        "path": [
         "model_matrix",
         "compressed_buffer"
        ]
       },
       {
        "data": "eNpN0VENwzAMBuFAGJQisA1tUIxkK5RAmbIq7ZeXnqL0dNI/xjr9HWN+/zgKfn/g4E0+3PDrvFzrrLvNDRe8/I2/8Tf+2wm/6uHjvLy7oWgoGoqGoqFoKBqKhqKhaNh8yOfl3T2bV8/mhgte35uDN8m/8IRXz+ZDPi/X3RP0BD1BT9AT9AQ9QU/QE/QEPcFeyV7JXsleyV7JXsleyV7JXsleyV7JXjQ0DU1D09A0NA1NQ9PQNDQN+if+iX/in/gn/pk/dr6bDQ==",
        "encoding": "base64",
        "path": [
         "positions",
         "compressed_buffer"
        ]
       }
      ],
      "model_module": "k3d",
      "model_module_version": "2.6.9",
      "model_name": "ObjectModel",
      "state": {
       "_view_count": null,
       "_view_module": null,
       "_view_module_version": "",
       "_view_name": null,
       "color": 10075135,
       "colors": {
        "dtype": "uint32",
        "shape": [
         0
        ]
       },
       "compression_level": 0,
       "id": 4634819944,
       "mesh_detail": 2,
       "model_matrix": {
        "dtype": "float32",
        "shape": [
         4,
         4
        ]
       },
       "name": null,
       "opacity": 1,
       "point_size": 0.1,
       "positions": {
        "dtype": "float32",
        "shape": [
         80,
         3
        ]
       },
       "shader": "3dSpecular",
       "type": "Points",
       "visible": true
      }
     },
     "21de093c932e4d3ba187f4ee9327bddc": {
      "model_module": "@jupyter-widgets/base",
      "model_module_version": "1.2.0",
      "model_name": "LayoutModel",
      "state": {}
     },
     "22a89599c2b74d85bd3b279764326262": {
      "model_module": "@jupyter-widgets/output",
      "model_module_version": "1.0.0",
      "model_name": "OutputModel",
      "state": {
       "layout": "IPY_MODEL_cf67a5ac6c514389843698c91009234c",
       "outputs": [
        {
         "data": {
          "application/vnd.jupyter.widget-view+json": {
           "model_id": "9ca0795b14144b56867f17697662074c",
           "version_major": 2,
           "version_minor": 0
          },
          "text/plain": "Plot(antialias=3, axes=['x', 'y', 'z'], background_color=16777215, camera=[4.5, 4.5, 4.5, 0.0, 0.0, 0.0, 1.0, …"
         },
         "metadata": {},
         "output_type": "display_data"
        }
       ]
      }
     },
     "245d21e61cf94efcb6109d20eb381a79": {
      "model_module": "@jupyter-widgets/base",
      "model_module_version": "1.2.0",
      "model_name": "LayoutModel",
      "state": {}
     },
     "2631a1854c9449f89ed9bc03d1e7790f": {
      "model_module": "@jupyter-widgets/base",
      "model_module_version": "1.2.0",
      "model_name": "LayoutModel",
      "state": {}
     },
     "2940dddb0e974eeb815afbf76e2ac3e2": {
      "buffers": [
       {
        "data": "eNoDAAAAAAE=",
        "encoding": "base64",
        "path": [
         "colors",
         "compressed_buffer"
        ]
       },
       {
        "data": "eNpjYGiwZ8AAxIsBAF7EAv0=",
        "encoding": "base64",
        "path": [
         "model_matrix",
         "compressed_buffer"
        ]
       },
       {
        "data": "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",
        "encoding": "base64",
        "path": [
         "positions",
         "compressed_buffer"
        ]
       }
      ],
      "model_module": "k3d",
      "model_module_version": "2.6.9",
      "model_name": "ObjectModel",
      "state": {
       "_view_count": null,
       "_view_module": null,
       "_view_module_version": "",
       "_view_name": null,
       "color": 10075135,
       "colors": {
        "dtype": "uint32",
        "shape": [
         0
        ]
       },
       "compression_level": 0,
       "id": 4734437920,
       "mesh_detail": 2,
       "model_matrix": {
        "dtype": "float32",
        "shape": [
         4,
         4
        ]
       },
       "name": null,
       "opacity": 1,
       "point_size": 0.1,
       "positions": {
        "dtype": "float32",
        "shape": [
         1008,
         3
        ]
       },
       "shader": "3dSpecular",
       "type": "Points",
       "visible": true
      }
     },
     "2b299ad153de4328976b80448800f45e": {
      "model_module": "@jupyter-widgets/output",
      "model_module_version": "1.0.0",
      "model_name": "OutputModel",
      "state": {
       "layout": "IPY_MODEL_df0da79849b94a5697cebf09d708360e",
       "outputs": [
        {
         "data": {
          "application/vnd.jupyter.widget-view+json": {
           "model_id": "57fc8722dafe421c842e3eace303cb96",
           "version_major": 2,
           "version_minor": 0
          },
          "text/plain": "Plot(antialias=3, axes=['x', 'y', 'z'], background_color=16777215, camera=[4.5, 4.5, 4.5, 0.0, 0.0, 0.0, 1.0, …"
         },
         "metadata": {},
         "output_type": "display_data"
        }
       ]
      }
     },
     "2e302fcd54dc4b51a77de01ed25b6859": {
      "model_module": "@jupyter-widgets/base",
      "model_module_version": "1.2.0",
      "model_name": "LayoutModel",
      "state": {}
     },
     "2ecc1776bf5c4d968a810c34f0ae98dc": {
      "model_module": "@jupyter-widgets/base",
      "model_module_version": "1.2.0",
      "model_name": "LayoutModel",
      "state": {}
     },
     "35285dfe9ced4f09811ba9bde2df575a": {
      "buffers": [
       {
        "data": "eNq7PcOEAQAFoAGo",
        "encoding": "base64",
        "path": [
         "color_map",
         "compressed_buffer"
        ]
       },
       {
        "data": "eNpjYFBwZMAABxwwxRqwidkDAFK8AuE=",
        "encoding": "base64",
        "path": [
         "model_matrix",
         "compressed_buffer"
        ]
       },
       {
        "data": "eNrllUEOACEMAjv//7R7XQGj0Vs5TqItWLXqXnxSMlFQ6Jhba2u8l9TQ/vgpMlDo2O5+KauDXNIRLb2ZnkHhDdvPJWYg3mo1aj7m5I3HOsigXAT+fnTz222eG75XTf6jAc5KA/E=",
        "encoding": "base64",
        "path": [
         "voxels",
         "compressed_buffer"
        ]
       }
      ],
      "model_module": "k3d",
      "model_module_version": "2.6.9",
      "model_name": "ObjectModel",
      "state": {
       "_view_count": null,
       "_view_module": null,
       "_view_module_version": "",
       "_view_name": null,
       "color_map": {
        "dtype": "uint32",
        "shape": []
       },
       "compression_level": 0,
       "id": 4734617360,
       "model_matrix": {
        "dtype": "float32",
        "shape": [
         4,
         4
        ]
       },
       "name": null,
       "opacity": 1,
       "outlines": false,
       "outlines_color": 0,
       "type": "Voxels",
       "visible": true,
       "voxels": {
        "dtype": "uint8",
        "shape": [
         8,
         12,
         20
        ]
       },
       "wireframe": false
      }
     },
     "371abd53934244a8b37a1c89bff6b059": {
      "buffers": [
       {
        "data": "eNoDAAAAAAE=",
        "encoding": "base64",
        "path": [
         "colors",
         "compressed_buffer"
        ]
       },
       {
        "data": "eNpjYGiwZ8AAxIsBAF7EAv0=",
        "encoding": "base64",
        "path": [
         "model_matrix",
         "compressed_buffer"
        ]
       },
       {
        "data": "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",
        "encoding": "base64",
        "path": [
         "origins",
         "compressed_buffer"
        ]
       },
       {
        "data": "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",
        "encoding": "base64",
        "path": [
         "vectors",
         "compressed_buffer"
        ]
       }
      ],
      "model_module": "k3d",
      "model_module_version": "2.6.9",
      "model_name": "ObjectModel",
      "state": {
       "_view_count": null,
       "_view_module": null,
       "_view_module_version": "",
       "_view_name": null,
       "colors": {
        "dtype": "uint32",
        "shape": [
         0
        ]
       },
       "compression_level": 0,
       "head_color": 255,
       "head_size": 1,
       "id": 4734588184,
       "label_size": 1,
       "labels": [],
       "line_width": 0.01,
       "model_matrix": {
        "dtype": "float32",
        "shape": [
         4,
         4
        ]
       },
       "name": null,
       "origin_color": 255,
       "origins": {
        "dtype": "float32",
        "shape": [
         1008,
         3
        ]
       },
       "type": "Vectors",
       "use_head": true,
       "vectors": {
        "dtype": "float32",
        "shape": [
         1008,
         3
        ]
       },
       "visible": true
      }
     },
     "3ced7336d47946dba6bb842ea7decc7a": {
      "buffers": [
       {
        "data": "eNot0vlP1gUcwPF3rVar1Wq14vR5Hh4eBOSSQy45fZ7v96spoRIiIqJAHCKH3Pf9cD7fLLMss8yyzLLM0sy01KJIo1BDEQUEfWBrba2ttbbW1sfVD6//4JV2l5X0u62su8fG+nttZN6nkHW/wsYHFLIfVMh5SGXzwyq5j6jkPaqS/5hKweMahU9oFD2pUeyiUeKmsc1do9RDo8xTo9ygUWHUqDRpVJk1qr01aiwatT4adb4a9X4aDf4qDQEqjYEqTUEqzcEqLSEKLaEKrWEKbeEK7RE22iNtdETZ6Iy20hljpStWxC2jO14kJGNPFEnJ9CQn0WNNoteWSK8i1AT6NLE8nr4V8fSvFKvi6E8RTy9lIFWsjmVgjVgbw2CaeCaawXSREcXgepEZiWODyFqCY6PIjsCxSeSE49gstoThyA1DzwtFzxfPLkYvEIWiKAS9WGwNRi8R24LQS0WZKA9Er7gjAH27qBRVi9CrRY0/eq2oE/V+6A2iUTT5ojeLloXoraJNtPugd/yv04LeJbqF3Ru9R/Sa0fvMOPrFgBeOQeEQugnHc2KHicHnxQvG/+wULxoY2CVeEi+L3Qb6XxGvij0L6HtN7BWvG+h9Q+wTbxrouWO/AftbRuxvG+k+YKL7HfGuF10Hveh8z0znIW863rfQ8YGF9sM+YiFtH/rS+pEfrUf8afk4gOajgTR9EkTTp8E0HltMw/FQ6o+HU/9ZBHUnIqn9PIqakzFUfxFL1ak4Kk8lsP10IhVfJlP+lZWyMwqlZ+Xj2RWUnFvJ1q9TKP4mlaKhNRQOpVHwbTr532WQN5xJ7nAWW77PJud8Dpsu5JJ9IZ+sHwrYMFJE5kgJGT+Wsu6nctJHK0kbrWbtxVpWX2wg9VITKZdbWXW5nad+7mL5mB1trA/lygC2KzrLru4g6epOEsd3ET++m6XX9hB7bS/RE/uInNjPkusHCL9+kNAbhwi5cZjgySMETh5l0dQx/KZO4Dt1Ep/p01imz2CePofp5hDGm8MYZs7jOTOCx8wo7rOXcJsdw3V2HNdbE7jcmhTTuNyexfW2U8zj5vwFd+eveDh/w9P5Owvm/sA49yemub8wz/+NZf4f/gXLh0p6",
        "encoding": "base64",
        "path": [
         "color_map",
         "compressed_buffer"
        ]
       },
       {
        "data": "eNpjYFBwZMAABxwwxRjsMYUa7AFHpwJg",
        "encoding": "base64",
        "path": [
         "model_matrix",
         "compressed_buffer"
        ]
       },
       {
        "data": "eNpjYACBN19+////+8sbBji4eOvp+5///v18//TWRYjItr1Hz916/vXfv6/Pb507uncbUGjJinVb95269eb37ze3Tu3bum7FEoYp02bOXbRi08EbX77cOLhpxaK5M6dNae/o6OrpmzRz+alTy2dO6uvp6uhor6yoKCspykuPNDOLTM8rKimrqKjMyUpPjovws9fg4dGw94uIS07PymGIiQjydjJTE2FlFVEzc/IOiogBWuzlbG2kJsnNxMQtqWZk7ewFcaG+mrQgOxMTu6C0mj7CJyI8rIyMrDwiEB4A19heAQ==",
        "encoding": "base64",
        "path": [
         "voxels",
         "compressed_buffer"
        ]
       }
      ],
      "model_module": "k3d",
      "model_module_version": "2.6.9",
      "model_name": "ObjectModel",
      "state": {
       "_view_count": null,
       "_view_module": null,
       "_view_module_version": "",
       "_view_name": null,
       "color_map": {
        "dtype": "uint32",
        "shape": [
         256
        ]
       },
       "compression_level": 0,
       "id": 4667452440,
       "model_matrix": {
        "dtype": "float32",
        "shape": [
         4,
         4
        ]
       },
       "name": null,
       "opacity": 1,
       "outlines": false,
       "outlines_color": 0,
       "type": "Voxels",
       "visible": true,
       "voxels": {
        "dtype": "uint8",
        "shape": [
         1,
         12,
         20
        ]
       },
       "wireframe": false
      }
     },
     "3d04520761e74d46943e93fcd6b18cc2": {
      "model_module": "@jupyter-widgets/base",
      "model_module_version": "1.2.0",
      "model_name": "LayoutModel",
      "state": {}
     },
     "3e80e330d2b542728bd8109baa37fe35": {
      "model_module": "@jupyter-widgets/base",
      "model_module_version": "1.2.0",
      "model_name": "LayoutModel",
      "state": {}
     },
     "3ee951d9cd224fad962800737afe6093": {
      "model_module": "@jupyter-widgets/output",
      "model_module_version": "1.0.0",
      "model_name": "OutputModel",
      "state": {
       "layout": "IPY_MODEL_2631a1854c9449f89ed9bc03d1e7790f",
       "outputs": [
        {
         "data": {
          "application/vnd.jupyter.widget-view+json": {
           "model_id": "b4f9b9df20be4d908e7ad41cd3380e76",
           "version_major": 2,
           "version_minor": 0
          },
          "text/plain": "Plot(antialias=3, axes=['x', 'y', 'z'], background_color=16777215, camera=[4.5, 4.5, 4.5, 0.0, 0.0, 0.0, 1.0, …"
         },
         "metadata": {},
         "output_type": "display_data"
        }
       ]
      }
     },
     "3f0d9c5403564c2ba82caecfdfecb804": {
      "buffers": [
       {
        "data": "eNoDAAAAAAE=",
        "encoding": "base64",
        "path": [
         "colors",
         "compressed_buffer"
        ]
       },
       {
        "data": "eNpjYGiwZ8AAxIsBAF7EAv0=",
        "encoding": "base64",
        "path": [
         "model_matrix",
         "compressed_buffer"
        ]
       },
       {
        "data": "eNpN0VENwzAMBuFAGJQisA1tUIxkK5RAmbIq7ZeXnqL0dNI/xjr9HWN+/zgKfn/g4E0+3PDrvFzrrLvNDRe8/I2/8Tf+2wm/6uHjvLy7oWgoGoqGoqFoKBqKhqKhaNh8yOfl3T2bV8/mhgte35uDN8m/8IRXz+ZDPi/X3RP0BD1BT9AT9AQ9QU/QE/QEPcFeyV7JXsleyV7JXsleyV7JXsleyV7JXjQ0DU1D09A0NA1NQ9PQNDQN+if+iX/in/gn/pk/dr6bDQ==",
        "encoding": "base64",
        "path": [
         "positions",
         "compressed_buffer"
        ]
       }
      ],
      "model_module": "k3d",
      "model_module_version": "2.6.9",
      "model_name": "ObjectModel",
      "state": {
       "_view_count": null,
       "_view_module": null,
       "_view_module_version": "",
       "_view_name": null,
       "color": 10075135,
       "colors": {
        "dtype": "uint32",
        "shape": [
         0
        ]
       },
       "compression_level": 0,
       "id": 4667178680,
       "mesh_detail": 2,
       "model_matrix": {
        "dtype": "float32",
        "shape": [
         4,
         4
        ]
       },
       "name": null,
       "opacity": 1,
       "point_size": 0.1,
       "positions": {
        "dtype": "float32",
        "shape": [
         80,
         3
        ]
       },
       "shader": "3dSpecular",
       "type": "Points",
       "visible": true
      }
     },
     "40e391d9e1294663b15a968cac2256ae": {
      "model_module": "@jupyter-widgets/base",
      "model_module_version": "1.2.0",
      "model_name": "LayoutModel",
      "state": {}
     },
     "41fc5979ccec4808b258d57d5d7a6bf7": {
      "model_module": "@jupyter-widgets/base",
      "model_module_version": "1.2.0",
      "model_name": "LayoutModel",
      "state": {}
     },
     "430cbb0767a54d88b9ba691687dea585": {
      "model_module": "@jupyter-widgets/base",
      "model_module_version": "1.2.0",
      "model_name": "LayoutModel",
      "state": {}
     },
     "4832eae3462b419ba8301faa30dc1777": {
      "model_module": "k3d",
      "model_module_version": "2.6.9",
      "model_name": "PlotModel",
      "state": {
       "_backend_version": "2.6.9",
       "_dom_classes": [],
       "_view_count": null,
       "antialias": 3,
       "axes": [
        "x",
        "y",
        "z"
       ],
       "background_color": 16777215,
       "camera": [
        9.733137238263115,
        -14.662205854600705,
        0.9758137234910438,
        -0.02499999664723873,
        -0.02500000223517418,
        0,
        0,
        0,
        1
       ],
       "camera_auto_fit": true,
       "camera_no_pan": false,
       "camera_no_rotate": false,
       "camera_no_zoom": false,
       "clipping_planes": [],
       "colorbar_object_id": -1,
       "fps_meter": false,
       "grid": [
        -1,
        -1,
        -1,
        1,
        1,
        1
       ],
       "grid_auto_fit": true,
       "grid_visible": true,
       "height": 512,
       "layout": "IPY_MODEL_9725f4045754445787ac0189e201b3f6",
       "lighting": 1,
       "menu_visibility": true,
       "object_ids": [
        4641977512
       ],
       "rendering_steps": 1,
       "screenshot": "",
       "screenshot_scale": 2,
       "time": 0,
       "voxel_paint_color": 0
      }
     },
     "4873277ce47d47d389c58606ebe522e0": {
      "model_module": "@jupyter-widgets/base",
      "model_module_version": "1.2.0",
      "model_name": "LayoutModel",
      "state": {}
     },
     "49ce670200534d17bcb00dd1c7fbe7fb": {
      "model_module": "@jupyter-widgets/base",
      "model_module_version": "1.2.0",
      "model_name": "LayoutModel",
      "state": {}
     },
     "4ca3c0883cba46eeb6bd606e75b2164b": {
      "model_module": "k3d",
      "model_module_version": "2.6.9",
      "model_name": "PlotModel",
      "state": {
       "_backend_version": "2.6.9",
       "_dom_classes": [],
       "_view_count": null,
       "antialias": 3,
       "axes": [
        "x",
        "y",
        "z"
       ],
       "background_color": 16777215,
       "camera": [
        9.80367128973346,
        -14.70550693460019,
        0.9803671289733545,
        0,
        0,
        0,
        0,
        0,
        1
       ],
       "camera_auto_fit": true,
       "camera_no_pan": false,
       "camera_no_rotate": false,
       "camera_no_zoom": false,
       "clipping_planes": [],
       "colorbar_object_id": -1,
       "fps_meter": false,
       "grid": [
        -1,
        -1,
        -1,
        1,
        1,
        1
       ],
       "grid_auto_fit": true,
       "grid_visible": true,
       "height": 512,
       "layout": "IPY_MODEL_d1709308a8994d7290b6be0fc13f17d1",
       "lighting": 1,
       "menu_visibility": true,
       "object_ids": [
        4734588184
       ],
       "rendering_steps": 1,
       "screenshot": "",
       "screenshot_scale": 2,
       "time": 0,
       "voxel_paint_color": 0
      }
     },
     "4d6f6904d2bf4b45b827ec33f63ee345": {
      "model_module": "@jupyter-widgets/output",
      "model_module_version": "1.0.0",
      "model_name": "OutputModel",
      "state": {
       "layout": "IPY_MODEL_0ded5381777745daaa522b5c4aeac8d0",
       "outputs": [
        {
         "data": {
          "application/vnd.jupyter.widget-view+json": {
           "model_id": "1cb6dddf1f0944d4822f1f44244806d3",
           "version_major": 2,
           "version_minor": 0
          },
          "text/plain": "Plot(antialias=3, axes=['x', 'y', 'z'], background_color=16777215, camera=[4.5, 4.5, 4.5, 0.0, 0.0, 0.0, 1.0, …"
         },
         "metadata": {},
         "output_type": "display_data"
        }
       ]
      }
     },
     "4dadb79df9844b7db0b0507191848c61": {
      "model_module": "@jupyter-widgets/base",
      "model_module_version": "1.2.0",
      "model_name": "LayoutModel",
      "state": {}
     },
     "50e1134e2a9d47d9a3657b3cc8baf016": {
      "model_module": "@jupyter-widgets/output",
      "model_module_version": "1.0.0",
      "model_name": "OutputModel",
      "state": {
       "layout": "IPY_MODEL_736d5e4d8e734490ad405d8331afddc3",
       "outputs": [
        {
         "data": {
          "application/vnd.jupyter.widget-view+json": {
           "model_id": "68a5943c6d7e4b44af24d159c45b77df",
           "version_major": 2,
           "version_minor": 0
          },
          "text/plain": "Plot(antialias=3, axes=['x', 'y', 'z'], background_color=16777215, camera=[4.5, 4.5, 4.5, 0.0, 0.0, 0.0, 1.0, …"
         },
         "metadata": {},
         "output_type": "display_data"
        }
       ]
      }
     },
     "562d9de4b3c04495abd87a22776f5fa3": {
      "model_module": "@jupyter-widgets/base",
      "model_module_version": "1.2.0",
      "model_name": "LayoutModel",
      "state": {}
     },
     "57fc8722dafe421c842e3eace303cb96": {
      "model_module": "k3d",
      "model_module_version": "2.6.9",
      "model_name": "PlotModel",
      "state": {
       "_backend_version": "2.6.9",
       "_dom_classes": [],
       "_view_count": null,
       "antialias": 3,
       "axes": [
        "x",
        "y",
        "z"
       ],
       "background_color": 16777215,
       "camera": [
        10.284874878907916,
        -15.489812315567907,
        1.0059874815950598,
        -0.02499999664723873,
        -0.02500000223517418,
        -0.025000005960464478,
        0,
        0,
        1
       ],
       "camera_auto_fit": true,
       "camera_no_pan": false,
       "camera_no_rotate": false,
       "camera_no_zoom": false,
       "clipping_planes": [],
       "colorbar_object_id": -1,
       "fps_meter": false,
       "grid": [
        -1,
        -1,
        -1,
        1,
        1,
        1
       ],
       "grid_auto_fit": true,
       "grid_visible": true,
       "height": 512,
       "layout": "IPY_MODEL_abaafb25cf394fc58bc35e6d7a8cdd0c",
       "lighting": 1,
       "menu_visibility": true,
       "object_ids": [
        4610104960
       ],
       "rendering_steps": 1,
       "screenshot": "",
       "screenshot_scale": 2,
       "time": 0,
       "voxel_paint_color": 0
      }
     },
     "57febdfd8a7d49828b01bb379712b2a4": {
      "model_module": "k3d",
      "model_module_version": "2.6.9",
      "model_name": "PlotModel",
      "state": {
       "_backend_version": "2.6.9",
       "_dom_classes": [],
       "_view_count": null,
       "antialias": 3,
       "axes": [
        "x",
        "y",
        "z"
       ],
       "background_color": 16777215,
       "camera": [
        10.284874878907916,
        -15.489812315567907,
        1.0059874815950598,
        -0.02499999664723873,
        -0.02500000223517418,
        -0.025000005960464478,
        0,
        0,
        1
       ],
       "camera_auto_fit": true,
       "camera_no_pan": false,
       "camera_no_rotate": false,
       "camera_no_zoom": false,
       "clipping_planes": [],
       "colorbar_object_id": -1,
       "fps_meter": false,
       "grid": [
        -1,
        -1,
        -1,
        1,
        1,
        1
       ],
       "grid_auto_fit": true,
       "grid_visible": true,
       "height": 512,
       "layout": "IPY_MODEL_716accd743d5466284582ce1e394c43d",
       "lighting": 1,
       "menu_visibility": true,
       "object_ids": [
        4610104008
       ],
       "rendering_steps": 1,
       "screenshot": "",
       "screenshot_scale": 2,
       "time": 0,
       "voxel_paint_color": 0
      }
     },
     "5e8b4f547b9e424483fbf2d93b7633bd": {
      "model_module": "k3d",
      "model_module_version": "2.6.9",
      "model_name": "PlotModel",
      "state": {
       "_backend_version": "2.6.9",
       "_dom_classes": [],
       "_view_count": null,
       "antialias": 3,
       "axes": [
        "x",
        "y",
        "z"
       ],
       "background_color": 16777215,
       "camera": [
        9.733137238263115,
        -14.662205854600705,
        0.9758137234910438,
        -0.02499999664723873,
        -0.02500000223517418,
        0,
        0,
        0,
        1
       ],
       "camera_auto_fit": true,
       "camera_no_pan": false,
       "camera_no_rotate": false,
       "camera_no_zoom": false,
       "clipping_planes": [],
       "colorbar_object_id": -1,
       "fps_meter": false,
       "grid": [
        -1,
        -1,
        -1,
        1,
        1,
        1
       ],
       "grid_auto_fit": true,
       "grid_visible": true,
       "height": 512,
       "layout": "IPY_MODEL_0d39bcb45f4e4bc2ab4288846d56a1c3",
       "lighting": 1,
       "menu_visibility": true,
       "object_ids": [
        4667452440
       ],
       "rendering_steps": 1,
       "screenshot": "",
       "screenshot_scale": 2,
       "time": 0,
       "voxel_paint_color": 0
      }
     },
     "5f10a9f17ebb4c7d9b15c94d7e5fc86f": {
      "buffers": [
       {
        "data": "eNot0vlP1gUcwPF3rVar1Wq14vR5Hh4eBOSSQy45fZ7v96spoRIiIqJAHCKH3Pf9cD7fLLMss8yyzLLM0sy01KJIo1BDEQUEfWBrba2ttbbW1sfVD6//4JV2l5X0u62su8fG+nttZN6nkHW/wsYHFLIfVMh5SGXzwyq5j6jkPaqS/5hKweMahU9oFD2pUeyiUeKmsc1do9RDo8xTo9ygUWHUqDRpVJk1qr01aiwatT4adb4a9X4aDf4qDQEqjYEqTUEqzcEqLSEKLaEKrWEKbeEK7RE22iNtdETZ6Iy20hljpStWxC2jO14kJGNPFEnJ9CQn0WNNoteWSK8i1AT6NLE8nr4V8fSvFKvi6E8RTy9lIFWsjmVgjVgbw2CaeCaawXSREcXgepEZiWODyFqCY6PIjsCxSeSE49gstoThyA1DzwtFzxfPLkYvEIWiKAS9WGwNRi8R24LQS0WZKA9Er7gjAH27qBRVi9CrRY0/eq2oE/V+6A2iUTT5ojeLloXoraJNtPugd/yv04LeJbqF3Ru9R/Sa0fvMOPrFgBeOQeEQugnHc2KHicHnxQvG/+wULxoY2CVeEi+L3Qb6XxGvij0L6HtN7BWvG+h9Q+wTbxrouWO/AftbRuxvG+k+YKL7HfGuF10Hveh8z0znIW863rfQ8YGF9sM+YiFtH/rS+pEfrUf8afk4gOajgTR9EkTTp8E0HltMw/FQ6o+HU/9ZBHUnIqn9PIqakzFUfxFL1ak4Kk8lsP10IhVfJlP+lZWyMwqlZ+Xj2RWUnFvJ1q9TKP4mlaKhNRQOpVHwbTr532WQN5xJ7nAWW77PJud8Dpsu5JJ9IZ+sHwrYMFJE5kgJGT+Wsu6nctJHK0kbrWbtxVpWX2wg9VITKZdbWXW5nad+7mL5mB1trA/lygC2KzrLru4g6epOEsd3ET++m6XX9hB7bS/RE/uInNjPkusHCL9+kNAbhwi5cZjgySMETh5l0dQx/KZO4Dt1Ep/p01imz2CePofp5hDGm8MYZs7jOTOCx8wo7rOXcJsdw3V2HNdbE7jcmhTTuNyexfW2U8zj5vwFd+eveDh/w9P5Owvm/sA49yemub8wz/+NZf4f/gXLh0p6",
        "encoding": "base64",
        "path": [
         "color_map",
         "compressed_buffer"
        ]
       },
       {
        "data": "eNpjYFBwZMAABxwwxRqwidkDAFK8AuE=",
        "encoding": "base64",
        "path": [
         "model_matrix",
         "compressed_buffer"
        ]
       },
       {
        "data": "eNrl1c9LKlEUB/BJGFzoxtCFBLMcpoUIEUMYYVRCFBkWiZIUYTEwhGL+aPwLnBxNlBgYSqIwFKMkowisSCKJIQJxkcxyIFwoudGFCPZ8iphv9eDxVt7d/XA553zhci8A/PvKsGymV87iiWQyET/7QZQ/EAyFggE/1TWn3Wa1WKw2u/PHwVW9TqvV6Vd7K6pQVAX851Usl4s98Jrl+EKB57KvHTm/unticxyXY5/urs7bdngciSdT6XQqGY8cH7aI3KN8gRDNMHQo4KP2yN9G7DodNguOYbjF5nDuEq2DWxsmvVajVmu0etPGVrveyuLsJKqAYQU6Obu40uk8poQhuRyClWM9I8okEtlfhavXe/d5vlip1SpFPt+R1PPbB/9VrX7xH2/PqRbFLq7vMzm+VOJzmfvri1iTaOboJJpIsfk8m0pET44YGgA8pJfyB+lwNBqmg37KS3oAwE24nHYrbjYazbjV7nQRbgDAsc11o06DIgiq0RnXNzG8WdCwvDCjUkBSKaRQzSwsG1qNNROjw9CgSDQIDY9OaDoTIpBMLBSKZRDSmwUE/whbqtS/v+uVUley3Ge51mjUyp9cti23Dy/vXKHaaFQL3PvLw22TIrHLm0eWK9XrJY59vLmMRYADmgmfxpLpfKWSTydjp2GGPvCQpNe3H2KiLBtlQvs+L0l63AThcuxYMCOKGjHLjsNFEO5tHDOvGbRqRCxG1FrDmhnDtwGTYWl+CoWlICiF0an5JYOp2XhuenwElosEApEcHhmfnmtPqISHJEKBQCgZgpXdJFIxODAAiqX9nLff7nMfvld98h/9AlMm+BA=",
        "encoding": "base64",
        "path": [
         "voxels",
         "compressed_buffer"
        ]
       }
      ],
      "model_module": "k3d",
      "model_module_version": "2.6.9",
      "model_name": "ObjectModel",
      "state": {
       "_view_count": null,
       "_view_module": null,
       "_view_module_version": "",
       "_view_name": null,
       "color_map": {
        "dtype": "uint32",
        "shape": [
         256
        ]
       },
       "compression_level": 0,
       "id": 4641977736,
       "model_matrix": {
        "dtype": "float32",
        "shape": [
         4,
         4
        ]
       },
       "name": null,
       "opacity": 1,
       "outlines": false,
       "outlines_color": 0,
       "type": "Voxels",
       "visible": true,
       "voxels": {
        "dtype": "uint8",
        "shape": [
         8,
         12,
         20
        ]
       },
       "wireframe": false
      }
     },
     "605b09b610a24d3e9d990ccdd1b4b988": {
      "model_module": "k3d",
      "model_module_version": "2.6.9",
      "model_name": "PlotModel",
      "state": {
       "_backend_version": "2.6.9",
       "_dom_classes": [],
       "_view_count": null,
       "antialias": 3,
       "axes": [
        "x",
        "y",
        "z"
       ],
       "background_color": 16777215,
       "camera": [
        10.284874878907916,
        -15.489812315567907,
        1.0059874815950598,
        -0.02499999664723873,
        -0.02500000223517418,
        -0.025000005960464478,
        0,
        0,
        1
       ],
       "camera_auto_fit": true,
       "camera_no_pan": false,
       "camera_no_rotate": false,
       "camera_no_zoom": false,
       "clipping_planes": [],
       "colorbar_object_id": -1,
       "fps_meter": false,
       "grid": [
        -1,
        -1,
        -1,
        1,
        1,
        1
       ],
       "grid_auto_fit": true,
       "grid_visible": true,
       "height": 512,
       "layout": "IPY_MODEL_709096556a0c41bb9984627e03c994a5",
       "lighting": 1,
       "menu_visibility": true,
       "object_ids": [
        4634987096
       ],
       "rendering_steps": 1,
       "screenshot": "",
       "screenshot_scale": 2,
       "time": 0,
       "voxel_paint_color": 0
      }
     },
     "63c2b674d9e341a6b7a71ab3fbdcf1c9": {
      "model_module": "@jupyter-widgets/base",
      "model_module_version": "1.2.0",
      "model_name": "LayoutModel",
      "state": {}
     },
     "641f286d884f4a83b2b25c82bfe7b9d6": {
      "model_module": "k3d",
      "model_module_version": "2.6.9",
      "model_name": "PlotModel",
      "state": {
       "_backend_version": "2.6.9",
       "_dom_classes": [],
       "_view_count": null,
       "antialias": 3,
       "axes": [
        "x",
        "y",
        "z"
       ],
       "background_color": 16777215,
       "camera": [
        9.828951377057189,
        -14.743427065585788,
        0.9828951377057292,
        0,
        0,
        0,
        0,
        0,
        1
       ],
       "camera_auto_fit": true,
       "camera_no_pan": false,
       "camera_no_rotate": false,
       "camera_no_zoom": false,
       "clipping_planes": [],
       "colorbar_object_id": -1,
       "fps_meter": false,
       "grid": [
        -1,
        -1,
        -1,
        1,
        1,
        1
       ],
       "grid_auto_fit": true,
       "grid_visible": true,
       "height": 512,
       "layout": "IPY_MODEL_c0e3ca3605cf49abb97a6bcaa2626419",
       "lighting": 1,
       "menu_visibility": true,
       "object_ids": [
        4734016816,
        4734437920
       ],
       "rendering_steps": 1,
       "screenshot": "",
       "screenshot_scale": 2,
       "time": 0,
       "voxel_paint_color": 0
      }
     },
     "64526e63d03d46bdb6565761c7dafd0b": {
      "model_module": "@jupyter-widgets/base",
      "model_module_version": "1.2.0",
      "model_name": "LayoutModel",
      "state": {}
     },
     "6482e162571b42fc907c385ece874483": {
      "model_module": "@jupyter-widgets/base",
      "model_module_version": "1.2.0",
      "model_name": "LayoutModel",
      "state": {}
     },
     "64d457c833464b5fac9af54760236818": {
      "model_module": "@jupyter-widgets/base",
      "model_module_version": "1.2.0",
      "model_name": "LayoutModel",
      "state": {}
     },
     "64f89401cce540b0b78b8296b7ff96f9": {
      "model_module": "@jupyter-widgets/base",
      "model_module_version": "1.2.0",
      "model_name": "LayoutModel",
      "state": {}
     },
     "65a38660217a444ebe793bf8eef40c69": {
      "model_module": "@jupyter-widgets/output",
      "model_module_version": "1.0.0",
      "model_name": "OutputModel",
      "state": {
       "layout": "IPY_MODEL_f0af654f8d494c12988bdb97014deb75",
       "outputs": [
        {
         "data": {
          "application/vnd.jupyter.widget-view+json": {
           "model_id": "5e8b4f547b9e424483fbf2d93b7633bd",
           "version_major": 2,
           "version_minor": 0
          },
          "text/plain": "Plot(antialias=3, axes=['x', 'y', 'z'], background_color=16777215, camera=[4.5, 4.5, 4.5, 0.0, 0.0, 0.0, 1.0, …"
         },
         "metadata": {},
         "output_type": "display_data"
        }
       ]
      }
     },
     "684a564f0de44bda87d41fc519eec10b": {
      "buffers": [
       {
        "data": "eNq7PcOEAQAFoAGo",
        "encoding": "base64",
        "path": [
         "color_map",
         "compressed_buffer"
        ]
       },
       {
        "data": "eNpjYFBwZMAABxwwxRqwidkDAFK8AuE=",
        "encoding": "base64",
        "path": [
         "model_matrix",
         "compressed_buffer"
        ]
       },
       {
        "data": "eNrllUEOACEMAjv//7R7XQGj0Vs5TqItWLXqXnxSMlFQ6Jhba2u8l9TQ/vgpMlDo2O5+KauDXNIRLb2ZnkHhDdvPJWYg3mo1aj7m5I3HOsigXAT+fnTz222eG75XTf6jAc5KA/E=",
        "encoding": "base64",
        "path": [
         "voxels",
         "compressed_buffer"
        ]
       }
      ],
      "model_module": "k3d",
      "model_module_version": "2.6.9",
      "model_name": "ObjectModel",
      "state": {
       "_view_count": null,
       "_view_module": null,
       "_view_module_version": "",
       "_view_name": null,
       "color_map": {
        "dtype": "uint32",
        "shape": []
       },
       "compression_level": 0,
       "id": 4634987096,
       "model_matrix": {
        "dtype": "float32",
        "shape": [
         4,
         4
        ]
       },
       "name": null,
       "opacity": 1,
       "outlines": false,
       "outlines_color": 0,
       "type": "Voxels",
       "visible": true,
       "voxels": {
        "dtype": "uint8",
        "shape": [
         8,
         12,
         20
        ]
       },
       "wireframe": false
      }
     },
     "68a5943c6d7e4b44af24d159c45b77df": {
      "model_module": "k3d",
      "model_module_version": "2.6.9",
      "model_name": "PlotModel",
      "state": {
       "_backend_version": "2.6.9",
       "_dom_classes": [],
       "_view_count": null,
       "antialias": 3,
       "axes": [
        "x",
        "y",
        "z"
       ],
       "background_color": 16777215,
       "camera": [
        5.676886823516348,
        -8.515330235274524,
        0.5676886823516407,
        0,
        0,
        0,
        0,
        0,
        1
       ],
       "camera_auto_fit": true,
       "camera_no_pan": false,
       "camera_no_rotate": false,
       "camera_no_zoom": false,
       "clipping_planes": [],
       "colorbar_object_id": -1,
       "fps_meter": false,
       "grid": [
        -1,
        -1,
        -1,
        1,
        1,
        1
       ],
       "grid_auto_fit": true,
       "grid_visible": true,
       "height": 512,
       "layout": "IPY_MODEL_bb3252bfbe33430d854417e9975bec27",
       "lighting": 1,
       "menu_visibility": true,
       "object_ids": [
        4634863208,
        4634863264
       ],
       "rendering_steps": 1,
       "screenshot": "",
       "screenshot_scale": 2,
       "time": 0,
       "voxel_paint_color": 0
      }
     },
     "6af264ae1d784d2789182b81f8d91dc6": {
      "model_module": "@jupyter-widgets/base",
      "model_module_version": "1.2.0",
      "model_name": "LayoutModel",
      "state": {}
     },
     "709096556a0c41bb9984627e03c994a5": {
      "model_module": "@jupyter-widgets/base",
      "model_module_version": "1.2.0",
      "model_name": "LayoutModel",
      "state": {}
     },
     "716accd743d5466284582ce1e394c43d": {
      "model_module": "@jupyter-widgets/base",
      "model_module_version": "1.2.0",
      "model_name": "LayoutModel",
      "state": {}
     },
     "71da6a4ba1e64ef28de10bfd7ce2ab0e": {
      "model_module": "k3d",
      "model_module_version": "2.6.9",
      "model_name": "PlotModel",
      "state": {
       "_backend_version": "2.6.9",
       "_dom_classes": [],
       "_view_count": null,
       "antialias": 3,
       "axes": [
        "x",
        "y",
        "z"
       ],
       "background_color": 16777215,
       "camera": [
        10.284874878907916,
        -15.489812315567907,
        1.0059874815950598,
        -0.02499999664723873,
        -0.02500000223517418,
        -0.025000005960464478,
        0,
        0,
        1
       ],
       "camera_auto_fit": true,
       "camera_no_pan": false,
       "camera_no_rotate": false,
       "camera_no_zoom": false,
       "clipping_planes": [],
       "colorbar_object_id": -1,
       "fps_meter": false,
       "grid": [
        -1,
        -1,
        -1,
        1,
        1,
        1
       ],
       "grid_auto_fit": true,
       "grid_visible": true,
       "height": 512,
       "layout": "IPY_MODEL_84225df6248149ed924183ff2eb45122",
       "lighting": 1,
       "menu_visibility": true,
       "object_ids": [
        4511880752
       ],
       "rendering_steps": 1,
       "screenshot": "",
       "screenshot_scale": 2,
       "time": 0,
       "voxel_paint_color": 0
      }
     },
     "73310b4283d04524a87981e72099c5c7": {
      "model_module": "@jupyter-widgets/output",
      "model_module_version": "1.0.0",
      "model_name": "OutputModel",
      "state": {
       "layout": "IPY_MODEL_2ecc1776bf5c4d968a810c34f0ae98dc",
       "outputs": [
        {
         "data": {
          "application/vnd.jupyter.widget-view+json": {
           "model_id": "d7225d99f7b64d9d99724fb73cfda567",
           "version_major": 2,
           "version_minor": 0
          },
          "text/plain": "Plot(antialias=3, axes=['x', 'y', 'z'], background_color=16777215, camera=[4.5, 4.5, 4.5, 0.0, 0.0, 0.0, 1.0, …"
         },
         "metadata": {},
         "output_type": "display_data"
        }
       ]
      }
     },
     "736d5e4d8e734490ad405d8331afddc3": {
      "model_module": "@jupyter-widgets/base",
      "model_module_version": "1.2.0",
      "model_name": "LayoutModel",
      "state": {}
     },
     "76e454519c604f999e682a7e9bcc4616": {
      "buffers": [
       {
        "data": "eNot0vlP1gUcwPF3rVar1Wq14vR5Hh4eBOSSQy45fZ7v96spoRIiIqJAHCKH3Pf9cD7fLLMss8yyzLLM0sy01KJIo1BDEQUEfWBrba2ttbbW1sfVD6//4JV2l5X0u62su8fG+nttZN6nkHW/wsYHFLIfVMh5SGXzwyq5j6jkPaqS/5hKweMahU9oFD2pUeyiUeKmsc1do9RDo8xTo9ygUWHUqDRpVJk1qr01aiwatT4adb4a9X4aDf4qDQEqjYEqTUEqzcEqLSEKLaEKrWEKbeEK7RE22iNtdETZ6Iy20hljpStWxC2jO14kJGNPFEnJ9CQn0WNNoteWSK8i1AT6NLE8nr4V8fSvFKvi6E8RTy9lIFWsjmVgjVgbw2CaeCaawXSREcXgepEZiWODyFqCY6PIjsCxSeSE49gstoThyA1DzwtFzxfPLkYvEIWiKAS9WGwNRi8R24LQS0WZKA9Er7gjAH27qBRVi9CrRY0/eq2oE/V+6A2iUTT5ojeLloXoraJNtPugd/yv04LeJbqF3Ru9R/Sa0fvMOPrFgBeOQeEQugnHc2KHicHnxQvG/+wULxoY2CVeEi+L3Qb6XxGvij0L6HtN7BWvG+h9Q+wTbxrouWO/AftbRuxvG+k+YKL7HfGuF10Hveh8z0znIW863rfQ8YGF9sM+YiFtH/rS+pEfrUf8afk4gOajgTR9EkTTp8E0HltMw/FQ6o+HU/9ZBHUnIqn9PIqakzFUfxFL1ak4Kk8lsP10IhVfJlP+lZWyMwqlZ+Xj2RWUnFvJ1q9TKP4mlaKhNRQOpVHwbTr532WQN5xJ7nAWW77PJud8Dpsu5JJ9IZ+sHwrYMFJE5kgJGT+Wsu6nctJHK0kbrWbtxVpWX2wg9VITKZdbWXW5nad+7mL5mB1trA/lygC2KzrLru4g6epOEsd3ET++m6XX9hB7bS/RE/uInNjPkusHCL9+kNAbhwi5cZjgySMETh5l0dQx/KZO4Dt1Ep/p01imz2CePofp5hDGm8MYZs7jOTOCx8wo7rOXcJsdw3V2HNdbE7jcmhTTuNyexfW2U8zj5vwFd+eveDh/w9P5Owvm/sA49yemub8wz/+NZf4f/gXLh0p6",
        "encoding": "base64",
        "path": [
         "color_map",
         "compressed_buffer"
        ]
       },
       {
        "data": "eNpjYFBwZMAABxwwxRjsMYUa7AFHpwJg",
        "encoding": "base64",
        "path": [
         "model_matrix",
         "compressed_buffer"
        ]
       },
       {
        "data": "eNpjYACBN19+////+8sbBji4eOvp+5///v18//TWRYjItr1Hz916/vXfv6/Pb507uncbUGjJinVb95269eb37ze3Tu3bum7FEoYp02bOXbRi08EbX77cOLhpxaK5M6dNae/o6OrpmzRz+alTy2dO6uvp6uhor6yoKCspykuPNDOLTM8rKimrqKjMyUpPjovws9fg4dGw94uIS07PymGIiQjydjJTE2FlFVEzc/IOiogBWuzlbG2kJsnNxMQtqWZk7ewFcaG+mrQgOxMTu6C0mj7CJyI8rIyMrDwiEB4A19heAQ==",
        "encoding": "base64",
        "path": [
         "voxels",
         "compressed_buffer"
        ]
       }
      ],
      "model_module": "k3d",
      "model_module_version": "2.6.9",
      "model_name": "ObjectModel",
      "state": {
       "_view_count": null,
       "_view_module": null,
       "_view_module_version": "",
       "_view_name": null,
       "color_map": {
        "dtype": "uint32",
        "shape": [
         256
        ]
       },
       "compression_level": 0,
       "id": 4610103784,
       "model_matrix": {
        "dtype": "float32",
        "shape": [
         4,
         4
        ]
       },
       "name": null,
       "opacity": 1,
       "outlines": false,
       "outlines_color": 0,
       "type": "Voxels",
       "visible": true,
       "voxels": {
        "dtype": "uint8",
        "shape": [
         1,
         12,
         20
        ]
       },
       "wireframe": false
      }
     },
     "774975f422ad49308f6884dc16338488": {
      "model_module": "@jupyter-widgets/base",
      "model_module_version": "1.2.0",
      "model_name": "LayoutModel",
      "state": {}
     },
     "7862944d2e334f279599d6b82e6ec076": {
      "model_module": "@jupyter-widgets/base",
      "model_module_version": "1.2.0",
      "model_name": "LayoutModel",
      "state": {}
     },
     "7a39f45d2b4544bbafa9646ca8617029": {
      "buffers": [
       {
        "data": "eNoLvljOEAzEhfucwLh9oTwY9zWog3FvogkYd7g5gLHkoxtgrHz/EBhb35wLxgmnEsC4ZYUSGPdVaoJxd6A1GDeYuIFxibIHGGdJQLDCs29gLPv0IxhLPnkOxjIPL4Cxzc3ZYFy91RCM+3L0wbjR1BWM82Q8wDhZwB2MY7ncwDiKHYJVn/9FwcrPf4MxzF7JJ0/BOBgaDjB/pgi6gzHMnHAWVzAOY3IB4xBGCKa1+bQOH2rHZzCJ6QkAgWfRNQ==",
        "encoding": "base64",
        "path": [
         "colors",
         "compressed_buffer"
        ]
       },
       {
        "data": "eNpjYGiwZ8AAxIsBAF7EAv0=",
        "encoding": "base64",
        "path": [
         "model_matrix",
         "compressed_buffer"
        ]
       },
       {
        "data": "eNpNk09IVHEQxy/JemlpKYJgqQVJimLVCiLxzXct2EIjCQoq7GASlrAIUmGCRAgFRdEindbFbA0vHYI6FPZmHktJoRIVuBczyv6c8lCUaRDNnJrTm8N3Zj7v9/1OJbcYLq/clfqaKVlqGQ3PP85KV/8L6Wr7+vTXuZt8+OGk1U1r13eS1aoJru/fA9NUcotBrKoI650Z38mdSESpK0My8KWWl1c+Ss2GvNzJr2EqlmT62w2p7X4dlp8ckOG6a/L5x8ZwYH6IP229anUQ23eMrFZNQNndMI32UvnUMKxXZ1Ks6h1spu6iYhTP2K5HvVkeTzVE6b4dcubVXj5yIhGtflYnU9ubuLF9QUZnt0lqMM0f2sdk4s1m+Z2Ms1RapdyXlO+xi+Hf1AgPHkpYHaziZrJaNdS8ZRdMo720qVSA9epMmizNwWbqLrp/L56xXcpAx9+nM8YwM31Q/6khko4c5/+0cqk7Eb09epb7T7foOyyIviPPP8jyyNKY6D/zz+eNfOlWm+hu1vcMLxQmeN3LaqsD/ZLVqqHLPfUwjfZSR3UB1qsz9X3mYDN1F528Hc/YLmWg5Gw6YwyOhxwPOR5yPOR4yPGQ4yHHQ46HHA85HnI85PyC8wvOLzi/4PyC8wvOLzi/4PyC8wvOLzi/4HILl1u43MLlFi63cLmFyy1cbuFyC5dbVP7fHdzdwd0d3N3B3R3c3eEfvcjK8g==",
        "encoding": "base64",
        "path": [
         "origins",
         "compressed_buffer"
        ]
       },
       {
        "data": "eNpNkz0vRFEQhqlEIwqNROIrUQilct6SRCOi8AcIEbuFkmyllIhtN7JUdEKoxJlCYgu7G+WqqPgBKxtEY+bmTPIWkzM3dz6ec96ZTqmMRYVUPi/0e3kSZ0Pr0px70K2VLXHb33x2P4VvMRoxnVJZI7d9eYvazbj01ZfUvoua/v+8egLPtVNndlYxenokE4dX+vFVF7e364b7KXyL0YjxnMj1HlHTemn0uttrYHdtWKYqr2n75RHTs/NSe+9X4yvu4rxWq+jrtX/GjtE7SGKndgd+xa33dO9+Ct//RYxzRK7fOWpaL41exqDB0G61MNgdEbNU/WtiY3VBzJK9HfKbJrsn8v2T9UPmSHY3ZNNshZ/5ipj8XkVu1qaoab00ehmDBgPxCPEI8QjxCPEI8YB4QDxCPEI8QjxCPEJ6CekF0gukF0gvkF4gvUB6gfQC6QXSC6SX0NyC5hY0t6C5Bc0taG5BcwuaW9Dcgua2eMe8O6C9A+0daO9AewfaO/wDaMzjfA==",
        "encoding": "base64",
        "path": [
         "vectors",
         "compressed_buffer"
        ]
       }
      ],
      "model_module": "k3d",
      "model_module_version": "2.6.9",
      "model_name": "ObjectModel",
      "state": {
       "_view_count": null,
       "_view_module": null,
       "_view_module_version": "",
       "_view_name": null,
       "colors": {
        "dtype": "uint32",
        "shape": [
         80,
         2
        ]
       },
       "compression_level": 0,
       "head_color": 255,
       "head_size": 1,
       "id": 4667264416,
       "label_size": 1,
       "labels": [],
       "line_width": 0.01,
       "model_matrix": {
        "dtype": "float32",
        "shape": [
         4,
         4
        ]
       },
       "name": null,
       "origin_color": 255,
       "origins": {
        "dtype": "float32",
        "shape": [
         80,
         3
        ]
       },
       "type": "Vectors",
       "use_head": true,
       "vectors": {
        "dtype": "float32",
        "shape": [
         80,
         3
        ]
       },
       "visible": true
      }
     },
     "7b57cfd9f2f240978b9d982ed7585d50": {
      "model_module": "@jupyter-widgets/base",
      "model_module_version": "1.2.0",
      "model_name": "LayoutModel",
      "state": {}
     },
     "7ba1d9a62ae04df0b18f57732f069b8c": {
      "buffers": [
       {
        "data": "eNoDAAAAAAE=",
        "encoding": "base64",
        "path": [
         "colors",
         "compressed_buffer"
        ]
       },
       {
        "data": "eNpjYGiwZ8AAxIsBAF7EAv0=",
        "encoding": "base64",
        "path": [
         "model_matrix",
         "compressed_buffer"
        ]
       },
       {
        "data": "eNpNk09IVHEQxy/JemlpKYJgqQVJimLVCiLxzXct2EIjCQoq7GASlrAIUmGCRAgFRdEindbFbA0vHYI6FPZmHktJoRIVuBczyv6c8lCUaRDNnJrTm8N3Zj7v9/1OJbcYLq/clfqaKVlqGQ3PP85KV/8L6Wr7+vTXuZt8+OGk1U1r13eS1aoJru/fA9NUcotBrKoI650Z38mdSESpK0My8KWWl1c+Ss2GvNzJr2EqlmT62w2p7X4dlp8ckOG6a/L5x8ZwYH6IP229anUQ23eMrFZNQNndMI32UvnUMKxXZ1Ks6h1spu6iYhTP2K5HvVkeTzVE6b4dcubVXj5yIhGtflYnU9ubuLF9QUZnt0lqMM0f2sdk4s1m+Z2Ms1RapdyXlO+xi+Hf1AgPHkpYHaziZrJaNdS8ZRdMo720qVSA9epMmizNwWbqLrp/L56xXcpAx9+nM8YwM31Q/6khko4c5/+0cqk7Eb09epb7T7foOyyIviPPP8jyyNKY6D/zz+eNfOlWm+hu1vcMLxQmeN3LaqsD/ZLVqqHLPfUwjfZSR3UB1qsz9X3mYDN1F528Hc/YLmWg5Gw6YwyOhxwPOR5yPOR4yPGQ4yHHQ46HHA85HnI85PyC8wvOLzi/4PyC8wvOLzi/4PyC8wvOLzi/4HILl1u43MLlFi63cLmFyy1cbuFyC5dbVP7fHdzdwd0d3N3B3R3c3eEfvcjK8g==",
        "encoding": "base64",
        "path": [
         "origins",
         "compressed_buffer"
        ]
       },
       {
        "data": "eNpNkz0vRFEQhqlEIwqNROIrUQilct6SRCOi8AcIEbuFkmyllIhtN7JUdEKoxJlCYgu7G+WqqPgBKxtEY+bmTPIWkzM3dz6ec96ZTqmMRYVUPi/0e3kSZ0Pr0px70K2VLXHb33x2P4VvMRoxnVJZI7d9eYvazbj01ZfUvoua/v+8egLPtVNndlYxenokE4dX+vFVF7e364b7KXyL0YjxnMj1HlHTemn0uttrYHdtWKYqr2n75RHTs/NSe+9X4yvu4rxWq+jrtX/GjtE7SGKndgd+xa33dO9+Ct//RYxzRK7fOWpaL41exqDB0G61MNgdEbNU/WtiY3VBzJK9HfKbJrsn8v2T9UPmSHY3ZNNshZ/5ipj8XkVu1qaoab00ehmDBgPxCPEI8QjxCPEI8YB4QDxCPEI8QjxCPEJ6CekF0gukF0gvkF4gvUB6gfQC6QXSC6SX0NyC5hY0t6C5Bc0taG5BcwuaW9Dcgua2eMe8O6C9A+0daO9AewfaO/wDaMzjfA==",
        "encoding": "base64",
        "path": [
         "vectors",
         "compressed_buffer"
        ]
       }
      ],
      "model_module": "k3d",
      "model_module_version": "2.6.9",
      "model_name": "ObjectModel",
      "state": {
       "_view_count": null,
       "_view_module": null,
       "_view_module_version": "",
       "_view_name": null,
       "colors": {
        "dtype": "uint32",
        "shape": [
         0
        ]
       },
       "compression_level": 0,
       "head_color": 255,
       "head_size": 1,
       "id": 4634788528,
       "label_size": 1,
       "labels": [],
       "line_width": 0.01,
       "model_matrix": {
        "dtype": "float32",
        "shape": [
         4,
         4
        ]
       },
       "name": null,
       "origin_color": 255,
       "origins": {
        "dtype": "float32",
        "shape": [
         80,
         3
        ]
       },
       "type": "Vectors",
       "use_head": true,
       "vectors": {
        "dtype": "float32",
        "shape": [
         80,
         3
        ]
       },
       "visible": true
      }
     },
     "7bf7f7157d024441bd535bd271fe32f2": {
      "model_module": "k3d",
      "model_module_version": "2.6.9",
      "model_name": "PlotModel",
      "state": {
       "_backend_version": "2.6.9",
       "_dom_classes": [],
       "_view_count": null,
       "antialias": 3,
       "axes": [
        "x",
        "y",
        "z"
       ],
       "background_color": 16777215,
       "camera": [
        10.284874878907916,
        -15.489812315567907,
        1.0059874815950598,
        -0.02499999664723873,
        -0.02500000223517418,
        -0.025000005960464478,
        0,
        0,
        1
       ],
       "camera_auto_fit": true,
       "camera_no_pan": false,
       "camera_no_rotate": false,
       "camera_no_zoom": false,
       "clipping_planes": [],
       "colorbar_object_id": -1,
       "fps_meter": false,
       "grid": [
        -1,
        -1,
        -1,
        1,
        1,
        1
       ],
       "grid_auto_fit": true,
       "grid_visible": true,
       "height": 512,
       "layout": "IPY_MODEL_2e302fcd54dc4b51a77de01ed25b6859",
       "lighting": 1,
       "menu_visibility": true,
       "object_ids": [
        4511713936
       ],
       "rendering_steps": 1,
       "screenshot": "",
       "screenshot_scale": 2,
       "time": 0,
       "voxel_paint_color": 0
      }
     },
     "7ccff46c3f5b45ffa0b224a231e551fc": {
      "model_module": "@jupyter-widgets/output",
      "model_module_version": "1.0.0",
      "model_name": "OutputModel",
      "state": {
       "layout": "IPY_MODEL_ab94d69dd3874a81bdf44ce98d298272",
       "outputs": [
        {
         "data": {
          "application/vnd.jupyter.widget-view+json": {
           "model_id": "d8ecfd4dd97b40a5a0aec9c813c69553",
           "version_major": 2,
           "version_minor": 0
          },
          "text/plain": "Plot(antialias=3, axes=['x', 'y', 'z'], background_color=16777215, camera=[4.5, 4.5, 4.5, 0.0, 0.0, 0.0, 1.0, …"
         },
         "metadata": {},
         "output_type": "display_data"
        }
       ]
      }
     },
     "7f91412880e0462ca3661732a36f34e0": {
      "buffers": [
       {
        "data": "eNoDAAAAAAE=",
        "encoding": "base64",
        "path": [
         "colors",
         "compressed_buffer"
        ]
       },
       {
        "data": "eNpjYGiwZ8AAxIsBAF7EAv0=",
        "encoding": "base64",
        "path": [
         "model_matrix",
         "compressed_buffer"
        ]
       },
       {
        "data": "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",
        "encoding": "base64",
        "path": [
         "origins",
         "compressed_buffer"
        ]
       },
       {
        "data": "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",
        "encoding": "base64",
        "path": [
         "vectors",
         "compressed_buffer"
        ]
       }
      ],
      "model_module": "k3d",
      "model_module_version": "2.6.9",
      "model_name": "ObjectModel",
      "state": {
       "_view_count": null,
       "_view_module": null,
       "_view_module_version": "",
       "_view_name": null,
       "colors": {
        "dtype": "uint32",
        "shape": [
         0
        ]
       },
       "compression_level": 0,
       "head_color": 255,
       "head_size": 1,
       "id": 4634984856,
       "label_size": 1,
       "labels": [],
       "line_width": 0.01,
       "model_matrix": {
        "dtype": "float32",
        "shape": [
         4,
         4
        ]
       },
       "name": null,
       "origin_color": 255,
       "origins": {
        "dtype": "float32",
        "shape": [
         1008,
         3
        ]
       },
       "type": "Vectors",
       "use_head": true,
       "vectors": {
        "dtype": "float32",
        "shape": [
         1008,
         3
        ]
       },
       "visible": true
      }
     },
     "83930a5ccd7b4e63a1387913cc0688fe": {
      "model_module": "@jupyter-widgets/output",
      "model_module_version": "1.0.0",
      "model_name": "OutputModel",
      "state": {
       "layout": "IPY_MODEL_430cbb0767a54d88b9ba691687dea585",
       "outputs": [
        {
         "data": {
          "application/vnd.jupyter.widget-view+json": {
           "model_id": "641f286d884f4a83b2b25c82bfe7b9d6",
           "version_major": 2,
           "version_minor": 0
          },
          "text/plain": "Plot(antialias=3, axes=['x', 'y', 'z'], background_color=16777215, camera=[4.5, 4.5, 4.5, 0.0, 0.0, 0.0, 1.0, …"
         },
         "metadata": {},
         "output_type": "display_data"
        }
       ]
      }
     },
     "84225df6248149ed924183ff2eb45122": {
      "model_module": "@jupyter-widgets/base",
      "model_module_version": "1.2.0",
      "model_name": "LayoutModel",
      "state": {}
     },
     "84a0097aa22143c28aba828e99bf7c3b": {
      "model_module": "@jupyter-widgets/base",
      "model_module_version": "1.2.0",
      "model_name": "LayoutModel",
      "state": {}
     },
     "85d9409039714597837ee271a819e3e0": {
      "model_module": "@jupyter-widgets/base",
      "model_module_version": "1.2.0",
      "model_name": "LayoutModel",
      "state": {}
     },
     "864da8b09b754905a780b18ae4fea40b": {
      "model_module": "@jupyter-widgets/base",
      "model_module_version": "1.2.0",
      "model_name": "LayoutModel",
      "state": {}
     },
     "86d4e98117cf402e9aaade55c693ab97": {
      "model_module": "@jupyter-widgets/base",
      "model_module_version": "1.2.0",
      "model_name": "LayoutModel",
      "state": {}
     },
     "8890543116c7466dba13cd9aeabd7535": {
      "model_module": "@jupyter-widgets/controls",
      "model_module_version": "1.5.0",
      "model_name": "SliderStyleModel",
      "state": {
       "description_width": ""
      }
     },
     "8bf2ee56039d4f3aaf37733f292f0c0e": {
      "buffers": [
       {
        "data": "eNoDAAAAAAE=",
        "encoding": "base64",
        "path": [
         "colors",
         "compressed_buffer"
        ]
       },
       {
        "data": "eNpjYGiwZ8AAxIsBAF7EAv0=",
        "encoding": "base64",
        "path": [
         "model_matrix",
         "compressed_buffer"
        ]
       },
       {
        "data": "eNpN0VENwzAMBuFAGJQisA1tUIxkK5RAmbIq7ZeXnqL0dNI/xjr9HWN+/zgKfn/g4E0+3PDrvFzrrLvNDRe8/I2/8Tf+2wm/6uHjvLy7oWgoGoqGoqFoKBqKhqKhaNh8yOfl3T2bV8/mhgte35uDN8m/8IRXz+ZDPi/X3RP0BD1BT9AT9AQ9QU/QE/QEPcFeyV7JXsleyV7JXsleyV7JXsleyV7JXjQ0DU1D09A0NA1NQ9PQNDQN+if+iX/in/gn/pk/dr6bDQ==",
        "encoding": "base64",
        "path": [
         "positions",
         "compressed_buffer"
        ]
       }
      ],
      "model_module": "k3d",
      "model_module_version": "2.6.9",
      "model_name": "ObjectModel",
      "state": {
       "_view_count": null,
       "_view_module": null,
       "_view_module_version": "",
       "_view_name": null,
       "color": 10075135,
       "colors": {
        "dtype": "uint32",
        "shape": [
         0
        ]
       },
       "compression_level": 0,
       "id": 4667413224,
       "mesh_detail": 2,
       "model_matrix": {
        "dtype": "float32",
        "shape": [
         4,
         4
        ]
       },
       "name": null,
       "opacity": 1,
       "point_size": 0.1,
       "positions": {
        "dtype": "float32",
        "shape": [
         80,
         3
        ]
       },
       "shader": "3dSpecular",
       "type": "Points",
       "visible": true
      }
     },
     "8c10f3b5b2fa44b9825cb82fb1a96631": {
      "buffers": [
       {
        "data": "eNoDAAAAAAE=",
        "encoding": "base64",
        "path": [
         "colors",
         "compressed_buffer"
        ]
       },
       {
        "data": "eNpjYGiwZ8AAxIsBAF7EAv0=",
        "encoding": "base64",
        "path": [
         "model_matrix",
         "compressed_buffer"
        ]
       },
       {
        "data": "eNpN0VENwzAMBuFAGJQisA1tUIxkK5RAmbIq7ZeXnqL0dNI/xjr9HWN+/zgKfn/g4E0+3PDrvFzrrLvNDRe8/I2/8Tf+2wm/6uHjvLy7oWgoGoqGoqFoKBqKhqKhaNh8yOfl3T2bV8/mhgte35uDN8m/8IRXz+ZDPi/X3RP0BD1BT9AT9AQ9QU/QE/QEPcFeyV7JXsleyV7JXsleyV7JXsleyV7JXjQ0DU1D09A0NA1NQ9PQNDQN+if+iX/in/gn/pk/dr6bDQ==",
        "encoding": "base64",
        "path": [
         "positions",
         "compressed_buffer"
        ]
       }
      ],
      "model_module": "k3d",
      "model_module_version": "2.6.9",
      "model_name": "ObjectModel",
      "state": {
       "_view_count": null,
       "_view_module": null,
       "_view_module_version": "",
       "_view_name": null,
       "color": 10075135,
       "colors": {
        "dtype": "uint32",
        "shape": [
         0
        ]
       },
       "compression_level": 0,
       "id": 4634863264,
       "mesh_detail": 2,
       "model_matrix": {
        "dtype": "float32",
        "shape": [
         4,
         4
        ]
       },
       "name": null,
       "opacity": 1,
       "point_size": 0.1,
       "positions": {
        "dtype": "float32",
        "shape": [
         80,
         3
        ]
       },
       "shader": "3dSpecular",
       "type": "Points",
       "visible": true
      }
     },
     "8c77ed539c154c738af4618394c8e459": {
      "model_module": "@jupyter-widgets/base",
      "model_module_version": "1.2.0",
      "model_name": "LayoutModel",
      "state": {}
     },
     "9024997b8e5b48b3901c74ca7c769d07": {
      "model_module": "@jupyter-widgets/base",
      "model_module_version": "1.2.0",
      "model_name": "LayoutModel",
      "state": {}
     },
     "907dd5a5ad2f43378696ac5e96f1c0d0": {
      "model_module": "@jupyter-widgets/output",
      "model_module_version": "1.0.0",
      "model_name": "OutputModel",
      "state": {
       "layout": "IPY_MODEL_774975f422ad49308f6884dc16338488",
       "outputs": [
        {
         "data": {
          "application/vnd.jupyter.widget-view+json": {
           "model_id": "4832eae3462b419ba8301faa30dc1777",
           "version_major": 2,
           "version_minor": 0
          },
          "text/plain": "Plot(antialias=3, axes=['x', 'y', 'z'], background_color=16777215, camera=[4.5, 4.5, 4.5, 0.0, 0.0, 0.0, 1.0, …"
         },
         "metadata": {},
         "output_type": "display_data"
        }
       ]
      }
     },
     "915e014fda2e4ed39f81344a55cf7167": {
      "model_module": "@jupyter-widgets/base",
      "model_module_version": "1.2.0",
      "model_name": "LayoutModel",
      "state": {}
     },
     "917bf138dd254bc3bbd6305c289f13ee": {
      "model_module": "@jupyter-widgets/output",
      "model_module_version": "1.0.0",
      "model_name": "OutputModel",
      "state": {
       "layout": "IPY_MODEL_40e391d9e1294663b15a968cac2256ae",
       "outputs": [
        {
         "data": {
          "application/vnd.jupyter.widget-view+json": {
           "model_id": "aed9f9e8a5354f40bc2a773ab6671175",
           "version_major": 2,
           "version_minor": 0
          },
          "text/plain": "Plot(antialias=3, axes=['x', 'y', 'z'], background_color=16777215, camera=[4.5, 4.5, 4.5, 0.0, 0.0, 0.0, 1.0, …"
         },
         "metadata": {},
         "output_type": "display_data"
        }
       ]
      }
     },
     "9258fa9067d24771b0878aea065eec0b": {
      "model_module": "k3d",
      "model_module_version": "2.6.9",
      "model_name": "PlotModel",
      "state": {
       "_backend_version": "2.6.9",
       "_dom_classes": [],
       "_view_count": null,
       "antialias": 3,
       "axes": [
        "x",
        "y",
        "z"
       ],
       "background_color": 16777215,
       "camera": [
        9.80367128973346,
        -14.70550693460019,
        0.9803671289733545,
        0,
        0,
        0,
        0,
        0,
        1
       ],
       "camera_auto_fit": true,
       "camera_no_pan": false,
       "camera_no_rotate": false,
       "camera_no_zoom": false,
       "clipping_planes": [],
       "colorbar_object_id": -1,
       "fps_meter": false,
       "grid": [
        -1,
        -1,
        -1,
        1,
        1,
        1
       ],
       "grid_auto_fit": true,
       "grid_visible": true,
       "height": 512,
       "layout": "IPY_MODEL_86d4e98117cf402e9aaade55c693ab97",
       "lighting": 1,
       "menu_visibility": true,
       "object_ids": [
        4634984856
       ],
       "rendering_steps": 1,
       "screenshot": "",
       "screenshot_scale": 2,
       "time": 0,
       "voxel_paint_color": 0
      }
     },
     "93ca4682337d454d982c34c0dacf5907": {
      "model_module": "@jupyter-widgets/controls",
      "model_module_version": "1.5.0",
      "model_name": "IntSliderModel",
      "state": {
       "layout": "IPY_MODEL_0b0e42f5557f49298d518ed3231a8088",
       "style": "IPY_MODEL_aea6de54ea2649d4aa9e360a62413a09"
      }
     },
     "970165b02e1642fea91759553e2e79c5": {
      "model_module": "@jupyter-widgets/output",
      "model_module_version": "1.0.0",
      "model_name": "OutputModel",
      "state": {
       "layout": "IPY_MODEL_915e014fda2e4ed39f81344a55cf7167",
       "outputs": [
        {
         "data": {
          "application/vnd.jupyter.widget-view+json": {
           "model_id": "00194eb688b64095b69c8d4a13404f76",
           "version_major": 2,
           "version_minor": 0
          },
          "text/plain": "Plot(antialias=3, axes=['x', 'y', 'z'], background_color=16777215, camera=[4.5, 4.5, 4.5, 0.0, 0.0, 0.0, 1.0, …"
         },
         "metadata": {},
         "output_type": "display_data"
        }
       ]
      }
     },
     "9725f4045754445787ac0189e201b3f6": {
      "model_module": "@jupyter-widgets/base",
      "model_module_version": "1.2.0",
      "model_name": "LayoutModel",
      "state": {}
     },
     "9753a4ca83424c3c8455eda05b98ac26": {
      "buffers": [
       {
        "data": "eNoLvljOEAzEhfucwLh9oTwY9zWog3FvogkYd7g5gLHkoxtgrHz/EBhb35wLxgmnEsC4ZYUSGPdVaoJxd6A1GDeYuIFxibIHGGdJQLDCs29gLPv0IxhLPnkOxjIPL4Cxzc3ZYFy91RCM+3L0wbjR1BWM82Q8wDhZwB2MY7ncwDiKHYJVn/9FwcrPf4MxzF7JJ0/BOBgaDjB/pgi6gzHMnHAWVzAOY3IB4xBGCKa1+bQOH2rHZzCJ6QkAgWfRNQ==",
        "encoding": "base64",
        "path": [
         "colors",
         "compressed_buffer"
        ]
       },
       {
        "data": "eNpjYGiwZ8AAxIsBAF7EAv0=",
        "encoding": "base64",
        "path": [
         "model_matrix",
         "compressed_buffer"
        ]
       },
       {
        "data": "eNpNk09IVHEQxy/JemlpKYJgqQVJimLVCiLxzXct2EIjCQoq7GASlrAIUmGCRAgFRdEindbFbA0vHYI6FPZmHktJoRIVuBczyv6c8lCUaRDNnJrTm8N3Zj7v9/1OJbcYLq/clfqaKVlqGQ3PP85KV/8L6Wr7+vTXuZt8+OGk1U1r13eS1aoJru/fA9NUcotBrKoI650Z38mdSESpK0My8KWWl1c+Ss2GvNzJr2EqlmT62w2p7X4dlp8ckOG6a/L5x8ZwYH6IP229anUQ23eMrFZNQNndMI32UvnUMKxXZ1Ks6h1spu6iYhTP2K5HvVkeTzVE6b4dcubVXj5yIhGtflYnU9ubuLF9QUZnt0lqMM0f2sdk4s1m+Z2Ms1RapdyXlO+xi+Hf1AgPHkpYHaziZrJaNdS8ZRdMo720qVSA9epMmizNwWbqLrp/L56xXcpAx9+nM8YwM31Q/6khko4c5/+0cqk7Eb09epb7T7foOyyIviPPP8jyyNKY6D/zz+eNfOlWm+hu1vcMLxQmeN3LaqsD/ZLVqqHLPfUwjfZSR3UB1qsz9X3mYDN1F528Hc/YLmWg5Gw6YwyOhxwPOR5yPOR4yPGQ4yHHQ46HHA85HnI85PyC8wvOLzi/4PyC8wvOLzi/4PyC8wvOLzi/4HILl1u43MLlFi63cLmFyy1cbuFyC5dbVP7fHdzdwd0d3N3B3R3c3eEfvcjK8g==",
        "encoding": "base64",
        "path": [
         "origins",
         "compressed_buffer"
        ]
       },
       {
        "data": "eNpNkz0vRFEQhqlEIwqNROIrUQilct6SRCOi8AcIEbuFkmyllIhtN7JUdEKoxJlCYgu7G+WqqPgBKxtEY+bmTPIWkzM3dz6ec96ZTqmMRYVUPi/0e3kSZ0Pr0px70K2VLXHb33x2P4VvMRoxnVJZI7d9eYvazbj01ZfUvoua/v+8egLPtVNndlYxenokE4dX+vFVF7e364b7KXyL0YjxnMj1HlHTemn0uttrYHdtWKYqr2n75RHTs/NSe+9X4yvu4rxWq+jrtX/GjtE7SGKndgd+xa33dO9+Ct//RYxzRK7fOWpaL41exqDB0G61MNgdEbNU/WtiY3VBzJK9HfKbJrsn8v2T9UPmSHY3ZNNshZ/5ipj8XkVu1qaoab00ehmDBgPxCPEI8QjxCPEI8YB4QDxCPEI8QjxCPEJ6CekF0gukF0gvkF4gvUB6gfQC6QXSC6SX0NyC5hY0t6C5Bc0taG5BcwuaW9Dcgua2eMe8O6C9A+0daO9AewfaO/wDaMzjfA==",
        "encoding": "base64",
        "path": [
         "vectors",
         "compressed_buffer"
        ]
       }
      ],
      "model_module": "k3d",
      "model_module_version": "2.6.9",
      "model_name": "ObjectModel",
      "state": {
       "_view_count": null,
       "_view_module": null,
       "_view_module_version": "",
       "_view_name": null,
       "colors": {
        "dtype": "uint32",
        "shape": [
         80,
         2
        ]
       },
       "compression_level": 0,
       "head_color": 255,
       "head_size": 1,
       "id": 4634863208,
       "label_size": 1,
       "labels": [],
       "line_width": 0.01,
       "model_matrix": {
        "dtype": "float32",
        "shape": [
         4,
         4
        ]
       },
       "name": null,
       "origin_color": 255,
       "origins": {
        "dtype": "float32",
        "shape": [
         80,
         3
        ]
       },
       "type": "Vectors",
       "use_head": true,
       "vectors": {
        "dtype": "float32",
        "shape": [
         80,
         3
        ]
       },
       "visible": true
      }
     },
     "97c9963d27d34c2a9aaea67607dbad47": {
      "model_module": "@jupyter-widgets/base",
      "model_module_version": "1.2.0",
      "model_name": "LayoutModel",
      "state": {}
     },
     "9870a006b9684b5b82b480cdd7b62969": {
      "buffers": [
       {
        "data": "eNoDAAAAAAE=",
        "encoding": "base64",
        "path": [
         "colors",
         "compressed_buffer"
        ]
       },
       {
        "data": "eNpjYGiwZ8AAxIsBAF7EAv0=",
        "encoding": "base64",
        "path": [
         "model_matrix",
         "compressed_buffer"
        ]
       },
       {
        "data": "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",
        "encoding": "base64",
        "path": [
         "origins",
         "compressed_buffer"
        ]
       },
       {
        "data": "eNpdmmvIZ1UVxvNLWqYJTRlCUowWmiaNkph7PVaQRpRZYBcFUz9MyCQEg0Yq2EBS3scUbFCnKVFERsdCK/Os5SVHG50KRboYRlFqkGShZiE07XVm7el33g+H/+Z992Wtvdde6znneU5ad5bO+NDe8fbHb4p9Vp+rLfeYv/DfW0bbsn3S7j7KPvvp7/bN/1wW+eTf+v/msRdf+jb1J87Zsi3et+6dsr+c6j96z32jbdmuPso+NZZzKuc88vI327UXfS+uPvrCeOngQ+2tF26MfNKWblOkPTlfnzdyzq/tv9b647d/YsdoW7arj7JPjVWOrTmVc9ZayrV627GuY13Huo51Hes61nWs61jXsa6Pdbvvjv0M7GdgPwP7GdjPwH4G9tPHfuZ8ON/A+QbON8b5PnHaVn35l8/6aRtOiMvu/KH2eepg3/fSE0fbsl19LPvc8uJaXXTedfHplw+Jf23eoP7EB484LvdOd609OfLp82r41tcT9lTjXKvPHE81dh5fcyrnrLWUax30yBv14pfuzt849k3v0M0PbM3f+Pe5RyvPsf/m2vN+5zx5DrlOPrfeeYlyH/tv7LvjauX59d/RtmxXH2WfGjuPrzln22ot5Vplg9KGsk1p2zde3WoXnHVfbFp9QLz2z+327vX3zHuV+9f3MXIPx96n72PNfG746/HqTxxx/Y2x6aRTtPbpy3zXxjtG27JdfZR9auw8vuac97PWUq5VNsx7WLYpbXt27a/a+V95KD61Za844eS/tWuPuj+eP+Atcd+Gve3sz/w0Dj/7sMjz73EQGQMjdnJPxp7lk3Z1+yJtO/3AzdYff/9N20fbsl19lH1qrHJszbn7nHavpVyrbFDaULYpbSublTb39gT7J9jvsN9hv8N+h/0O+x32O+x32O+w32G/w36H/RPsn4b9/SwcceKIE0ecBOIkECeBOAnESSBOAnESiJNAnDjixBEnPuIkYxr3LnDvAvcucO8C9y5w7xb7jnsXuHeBexe4d4F7F7h3Me5dzxWBvBTIS4G8FMhLi1yPvBTIS4G8FMhLMfJSnhXyZyB/BvJnjPx5xhe3K+vBw6f8xqtt2X78c1eqP7H/eZN/fPuNuvqZ9bHf3k/sOZ9c48mH7tW5d77q+Rz84IP603FH+Dnv3SuqbdmuPpZ9auyc32tO5Zy1lnKtjz4lPbnmB3HmNTe7P/tZrfrdbfH9NT/x7NvHzDaM2pJ1ZsRO7mOvQxp1q9cnoV5q1OzqM/ersXNtqDmVc9Zas21lg9KGsk1p23XH7rJt59wfX3jXJu9xqbw7Gaf9DJR3J+M3fR3nMWpjrjViP+3p90Hj/vR7Itx/jVxWfeZ+NXauHzXnbH+tNe9t2aC0oWxT2lY2K22+5tYr7JMffjT67568kjnm5Q/cbd86/mfRf737bztvuH/e8zzDfpaR5zhqfu7huNNpG2vcOM+MoWpbtlnLauzsV805n0utNcdW2TCfRdmmtK1sVtpcvih92f76aGue3xGrLrnKN3/+123VSz+Prz60xX/7nVfaUVc8OsdSxniP9cg4zzjt8RoZqwPX5N6OvJX7P2zPZ8Ry7YWNfak+852pscqxNed8XrWWcq2yQWlD2TbHWNmstLl8UfrS2xP8muDXBL8cfjn8cvjl8Mvhl8Mvh18Ovxx+Ofxy+OXwa4JfE/yahl95ZohDRxw64tARh444DMRhIA4DcbjwE3EYiMNAHAbi0BGHjjh0xKEjDn3EYb9rjvwQyA+B/BDID4H8EMgPgfywwAfID4H8EMgPgfwQyA+B/BDIDz7yQ891gTwcyMOBPBzIw4E8HMjDi/cW5OFAHg7k4UAeDuThQB6OkYdxrllTAnUqUKcCdSpQpwJ1KlCnAnUqUKf25LW8Z6ibMepmYoHnnjk94sTXpoG5En+NO5Fjbr3rcZ29epXnU23LdvWx7FNjlWNrTuWcN9+7QVdduTlO++5z00HbN6o/ccy21znfIwfuy9o/7mX6fOUfH9OTpx7j+VTbsl195vpdY+f3rppzxge1lnKtskFpw9fPPFK5d4cc+sh0+cc+Mr8TPfyGP0xpb2KztDnnSGyW84x30HwfHVg1cc/IJRkr/T1WeL/VeMeuPnNdr7Hzu1zNqZyz1pptLhvmfSvblLaVzUqbd6173tbe83CsWX3v1HGwEsMnLu74WInhEy/nOSSGz7PIvRm4arxbpw0Dg6edI0fmXR25AXlifiepPnO9r7GzzzXn7FetNZ9F2TDHQ9mmtK1sVtpcvih9+cefL7b11z0Wr1x/+9TzrGXtyLzb869l7ch83O+SZe3IPJ1xN2I6Y2Hck/EtIfd8vHOkzcSHxIHEe8R1NXb2t+acz7HWmmOvbJjPrmxT2lY2a64hu31R+lI+Kn389vlb2y927oz+O72w+YH2+9t2Rv+dDj/w6fbj83ZG/516HLQLDtu5+272O9fvXuS9y3vQ70PkXRjfUfIsiIuIf4hziGeIW4hPas75fGut+R6WDXMuKNvmWC2blTaXL0pfykelj/nA3wn+TvB3gr8Ofx3+Ovx1+OvwN1Y8w1+Hvw5/Hf46/HX4O8HfCf5O8Hca/vazdsSzI54d8eyIZ0c8B+I5EM+BeA7E80o8NOI5EM+BeA7EcyCeHfHsiGdHPDvi2Uc897vsyEuBvBTIS4G8FMhLgbwUyEuBvLTy+8LIS4G8FMhLgbwUyEuBvBTIS4G85CMv9dwbqBeBehGoF4F6EagXgXoRqBcrv4eOehGoF4F6EagXgXoRqBeBehGjXvTaF6i/gfobqL+B+huov4H6G6i/gfobqL+B+huovzHqb+4Z8EYAbwTwRgBvBPBGAG8E8EbswRv/xzMNeMaAZwx4xoBnDHjGgGcMeKYBzzTgGX4XN+AZA54x4BkDnjHgGQOeMeAZA54x4JkGPNOAZxrwTAOeMeAZA54x4BkDnjHgGQOeMeAZA54x4BkDnmnAMw14pgHPNOCZBjzTgGcMeMaAZwx4xoBnDHjGgGcMeMaAZwx4xoBnDHjGgGca8EwDnmnAMw14pgHPNOCZBjxjwDMGPGPAMwY8Y8AzBjxjwDMGPGPAMwY8Y8AzBjzTgGca8EwDnmnAMw14pgHPNOCZBjxjwDMGPGPAMwY8Y8Az4kP/ed6MY9493n/gmQY804BnGvBMA55pwDMNeKYBzzTmMuZT1gDWNtbylTgG/jr8dfjr8Nfhr8PfCf5O8HeCvwPPNOCZBjzTgGca8EzjeybfXfleze8C/N6x8psO4jkQz4F4DsRzIJ4d8eyIZ0c8O+J54JkGPNOAZxrwTAOeMX6z5jdxfq8nx7CSI0FeCuSlQF4K5KVAXgrkpUBeCuSlgWca8EwDnmnAMw14xoBnjDwoudWVnC7qRaBeBOpFoF4E6kWgXgTqxcAzDXimAc8Y8IwBzxjwjAHPGPCMAc8Y8IwBzxjwjAHPNOCZBjxjwDMGPGPAMwY8Y8AzBjzTwHcY+I5F/gffYeA7FnUBfIfAd4j1AnyHge9Y1BHwHQa+w8B3GPgOA98h8B0C3yHwHQLfIfAdAt9h4DsMfIeB7zDwHQa+w8B3GPgOA98h8B0C3yHwHQLfIfAdAt8h8B0C32HgOwx8h4HvMPAdizoIvsPAdyzqI/gOge8Q6wf4DoHvWNRT8B0C37Gos+A7DHzHov6C7zDwHQa+w8B3GPgOA98h8B0C3yHwHQLfIfAdAt8h8B0C3yHwHQLfYeA7DHyHge8w8B0GvsPAdxj4DgPfsdD+ULNAPmrF9yqHXw6/HH45/HL45fBrgl8T/Bp8h4HvWOAT8B0GvmOBW8B3CHzH4lsU+A6B71jgHPAdAt+xwD/gOwx8xwIXge8w8B0GvsPAdxj4DgPfIfAdAt8h8B0C3yHwHQLfIfAdAt9h4DsMfIeB7zDwHQa+w8B3GPgOA98h8B0C3yHwHQLfIfAdAt9h4DsMfIeB71jgOvAdBr5jgffAdwh8h4gDwXcY+I4FPgTfYeA7DHotQa8l6LUEvZag1xL0WoJeS9BrCXotQa8l6LUEvZag1xL0WoJeS9BrCXotQa+1yO3Qawl6LUGvJei1Fjkfei1BryXotQS9lqDXEvRagl5L0GsJei1BryXotQS9lqDXEvRagl5L0GsJei1BryXotQS9lqDXEvRagl5L0GsJei1BryXotQS9lqDXEvRagl5L0GsJei1BryXotQS9lqDXEvRaC10q9XrUa6zgeRz2O+x32O+w32G/w/4J9g+9lqDXEvRagl5L0GsJei1BryXotQS9lqDXEvRagl5L0GsJei1BryXotQS9lqDXEvRai1oGvZag1xL0WoJea1HjoNcS9FqCXkvQawl6LUGvJei1BL2WoNcS9FqCXkvQawl6LUGvJei1BL2WoNcS9Fp79Ep5BtBLC3ppQS8t6KUFvbSglxb00oJeWtBLC3ppQS8t6KUFvbSglxb00oJeWtBLC3ppQS8t6KUFvbSglxb00gttL/VfK/hkx7qOdR3rOtbdw4VDLy3opQW9tKCXFvTSgl5a0EsLemlBLy3opQW9tKCX1v8AYakgug==",
        "encoding": "base64",
        "path": [
         "vectors",
         "compressed_buffer"
        ]
       }
      ],
      "model_module": "k3d",
      "model_module_version": "2.6.9",
      "model_name": "ObjectModel",
      "state": {
       "_view_count": null,
       "_view_module": null,
       "_view_module_version": "",
       "_view_name": null,
       "colors": {
        "dtype": "uint32",
        "shape": [
         0
        ]
       },
       "compression_level": 0,
       "head_color": 255,
       "head_size": 1,
       "id": 4634986816,
       "label_size": 1,
       "labels": [],
       "line_width": 0.01,
       "model_matrix": {
        "dtype": "float32",
        "shape": [
         4,
         4
        ]
       },
       "name": null,
       "origin_color": 255,
       "origins": {
        "dtype": "float32",
        "shape": [
         1008,
         3
        ]
       },
       "type": "Vectors",
       "use_head": true,
       "vectors": {
        "dtype": "float32",
        "shape": [
         1008,
         3
        ]
       },
       "visible": true
      }
     },
     "9873be52b05c49ce9b6df77a66ac133f": {
      "buffers": [
       {
        "data": "eNot0vlP1gUcwPF3rVar1Wq14vR5Hh4eBOSSQy45fZ7v96spoRIiIqJAHCKH3Pf9cD7fLLMss8yyzLLM0sy01KJIo1BDEQUEfWBrba2ttbbW1sfVD6//4JV2l5X0u62su8fG+nttZN6nkHW/wsYHFLIfVMh5SGXzwyq5j6jkPaqS/5hKweMahU9oFD2pUeyiUeKmsc1do9RDo8xTo9ygUWHUqDRpVJk1qr01aiwatT4adb4a9X4aDf4qDQEqjYEqTUEqzcEqLSEKLaEKrWEKbeEK7RE22iNtdETZ6Iy20hljpStWxC2jO14kJGNPFEnJ9CQn0WNNoteWSK8i1AT6NLE8nr4V8fSvFKvi6E8RTy9lIFWsjmVgjVgbw2CaeCaawXSREcXgepEZiWODyFqCY6PIjsCxSeSE49gstoThyA1DzwtFzxfPLkYvEIWiKAS9WGwNRi8R24LQS0WZKA9Er7gjAH27qBRVi9CrRY0/eq2oE/V+6A2iUTT5ojeLloXoraJNtPugd/yv04LeJbqF3Ru9R/Sa0fvMOPrFgBeOQeEQugnHc2KHicHnxQvG/+wULxoY2CVeEi+L3Qb6XxGvij0L6HtN7BWvG+h9Q+wTbxrouWO/AftbRuxvG+k+YKL7HfGuF10Hveh8z0znIW863rfQ8YGF9sM+YiFtH/rS+pEfrUf8afk4gOajgTR9EkTTp8E0HltMw/FQ6o+HU/9ZBHUnIqn9PIqakzFUfxFL1ak4Kk8lsP10IhVfJlP+lZWyMwqlZ+Xj2RWUnFvJ1q9TKP4mlaKhNRQOpVHwbTr532WQN5xJ7nAWW77PJud8Dpsu5JJ9IZ+sHwrYMFJE5kgJGT+Wsu6nctJHK0kbrWbtxVpWX2wg9VITKZdbWXW5nad+7mL5mB1trA/lygC2KzrLru4g6epOEsd3ET++m6XX9hB7bS/RE/uInNjPkusHCL9+kNAbhwi5cZjgySMETh5l0dQx/KZO4Dt1Ep/p01imz2CePofp5hDGm8MYZs7jOTOCx8wo7rOXcJsdw3V2HNdbE7jcmhTTuNyexfW2U8zj5vwFd+eveDh/w9P5Owvm/sA49yemub8wz/+NZf4f/gXLh0p6",
        "encoding": "base64",
        "path": [
         "color_map",
         "compressed_buffer"
        ]
       },
       {
        "data": "eNpjYFBwZMAABxwwxRqwidkDAFK8AuE=",
        "encoding": "base64",
        "path": [
         "model_matrix",
         "compressed_buffer"
        ]
       },
       {
        "data": "eNrl1U1IKlEUB3ASxIVuDF1IMMvBFiJEDGGEUQlRNGGRKEkRFgNDKOZH4252Tn4kSgwMJVEYDkZJRhFYkUQSQwTiomGWA+FCyY0uRLDnU8R8qwePt/Lu7o/LOecPl3tx/N9XlmGyvXKWSKZSycTZD/IHQ+FIJBwK+rvmcthtVqvN7nD9OLhq0MOw3rDaW1EDQRr8P69iuVzsgdccxxcKPJd77cj51d0Tk+e4PPN0d3XetsPjWCKVzmTSqUTs+LBFxJ4/EIqQFEVGQgH/HvHbsF2X025FEQS12p2uXax1cGvDbIB1Wq0ONpg3ttr1VhZnJyEVCKqgydnFlU7nMTUIKBQAqB7rGVEulcr/Kly93rtn+WKlVqsUebYj6ee3D/6rWv3iP96e0y2iL67vs3m+VOLz2fvrC7pJJHV0Ek+mGZZl0sn4yRFF4riX8PmDYTIaj0fJcNDvI7w47sHcLocNtZhMFtTmcLkxD46jyOa6Sa+DlEpIpzetbyJos6BxeWFGowJkMkClmVlYNrYa6yZGh4FBsXgQGB6d0HUmVAJyiUgkkQPK3ixC4R9hS5X693e9UupKjvss1xqNWvmTy7Xl9uHlnStUG41qgXt/ebhtUoy+vHlkuFK9XuKYx5tLOoYfkFT0lE5l2EqFzaTo0yhFHngJwhfYj1BxholTkf2AjyC8HgxzO3esiAmCTIh1x+nGMM82iljWjLBWKZEotbBxzYKg27jZuDQ/BYEyoVAGQlPzS0Zzs/Hc9PgIqBALBGIFODI+PdeeUA0OSUUCgUg6BKq7SWQS4cCAUCLr57z9dp/78L3qk//oF5tnwC4=",
        "encoding": "base64",
        "path": [
         "voxels",
         "compressed_buffer"
        ]
       }
      ],
      "model_module": "k3d",
      "model_module_version": "2.6.9",
      "model_name": "ObjectModel",
      "state": {
       "_view_count": null,
       "_view_module": null,
       "_view_module_version": "",
       "_view_name": null,
       "color_map": {
        "dtype": "uint32",
        "shape": [
         256
        ]
       },
       "compression_level": 0,
       "id": 4511880752,
       "model_matrix": {
        "dtype": "float32",
        "shape": [
         4,
         4
        ]
       },
       "name": null,
       "opacity": 1,
       "outlines": false,
       "outlines_color": 0,
       "type": "Voxels",
       "visible": true,
       "voxels": {
        "dtype": "uint8",
        "shape": [
         8,
         12,
         20
        ]
       },
       "wireframe": false
      }
     },
     "9ca0795b14144b56867f17697662074c": {
      "model_module": "k3d",
      "model_module_version": "2.6.9",
      "model_name": "PlotModel",
      "state": {
       "_backend_version": "2.6.9",
       "_dom_classes": [],
       "_view_count": null,
       "antialias": 3,
       "axes": [
        "x",
        "y",
        "z"
       ],
       "background_color": 16777215,
       "camera": [
        10.284874878907916,
        -15.489812315567907,
        1.0059874815950598,
        -0.02499999664723873,
        -0.02500000223517418,
        -0.025000005960464478,
        0,
        0,
        1
       ],
       "camera_auto_fit": true,
       "camera_no_pan": false,
       "camera_no_rotate": false,
       "camera_no_zoom": false,
       "clipping_planes": [],
       "colorbar_object_id": -1,
       "fps_meter": false,
       "grid": [
        -1,
        -1,
        -1,
        1,
        1,
        1
       ],
       "grid_auto_fit": true,
       "grid_visible": true,
       "height": 512,
       "layout": "IPY_MODEL_97c9963d27d34c2a9aaea67607dbad47",
       "lighting": 1,
       "menu_visibility": true,
       "object_ids": [
        4634967008
       ],
       "rendering_steps": 1,
       "screenshot": "",
       "screenshot_scale": 2,
       "time": 0,
       "voxel_paint_color": 0
      }
     },
     "9e608093e0344a45b0f0347b036fb533": {
      "model_module": "@jupyter-widgets/output",
      "model_module_version": "1.0.0",
      "model_name": "OutputModel",
      "state": {
       "layout": "IPY_MODEL_21de093c932e4d3ba187f4ee9327bddc",
       "outputs": [
        {
         "data": {
          "application/vnd.jupyter.widget-view+json": {
           "model_id": "b0a4d446cf70432192a4e3ed530e2015",
           "version_major": 2,
           "version_minor": 0
          },
          "text/plain": "Plot(antialias=3, axes=['x', 'y', 'z'], background_color=16777215, camera=[4.5, 4.5, 4.5, 0.0, 0.0, 0.0, 1.0, …"
         },
         "metadata": {},
         "output_type": "display_data"
        }
       ]
      }
     },
     "9efe48b0ebac467091eeba13a81ce9ed": {
      "model_module": "@jupyter-widgets/base",
      "model_module_version": "1.2.0",
      "model_name": "LayoutModel",
      "state": {}
     },
     "a061eb013c3b43a59c49def870cea2d0": {
      "model_module": "k3d",
      "model_module_version": "2.6.9",
      "model_name": "PlotModel",
      "state": {
       "_backend_version": "2.6.9",
       "_dom_classes": [],
       "_view_count": null,
       "antialias": 3,
       "axes": [
        "x",
        "y",
        "z"
       ],
       "background_color": 16777215,
       "camera": [
        10.284874878907916,
        -15.489812315567907,
        1.0059874815950598,
        -0.02499999664723873,
        -0.02500000223517418,
        -0.025000005960464478,
        0,
        0,
        1
       ],
       "camera_auto_fit": true,
       "camera_no_pan": false,
       "camera_no_rotate": false,
       "camera_no_zoom": false,
       "clipping_planes": [],
       "colorbar_object_id": -1,
       "fps_meter": false,
       "grid": [
        -1,
        -1,
        -1,
        1,
        1,
        1
       ],
       "grid_auto_fit": true,
       "grid_visible": true,
       "height": 512,
       "layout": "IPY_MODEL_4dadb79df9844b7db0b0507191848c61",
       "lighting": 1,
       "menu_visibility": true,
       "object_ids": [
        4641977736
       ],
       "rendering_steps": 1,
       "screenshot": "",
       "screenshot_scale": 2,
       "time": 0,
       "voxel_paint_color": 0
      }
     },
     "a14bb36a2cfc49fe82b59602dfb3ecfe": {
      "model_module": "@jupyter-widgets/output",
      "model_module_version": "1.0.0",
      "model_name": "OutputModel",
      "state": {
       "layout": "IPY_MODEL_245d21e61cf94efcb6109d20eb381a79",
       "outputs": [
        {
         "data": {
          "application/vnd.jupyter.widget-view+json": {
           "model_id": "a061eb013c3b43a59c49def870cea2d0",
           "version_major": 2,
           "version_minor": 0
          },
          "text/plain": "Plot(antialias=3, axes=['x', 'y', 'z'], background_color=16777215, camera=[4.5, 4.5, 4.5, 0.0, 0.0, 0.0, 1.0, …"
         },
         "metadata": {},
         "output_type": "display_data"
        }
       ]
      }
     },
     "a268d514f80442ec9bcd6a1d02b8f7ba": {
      "model_module": "@jupyter-widgets/output",
      "model_module_version": "1.0.0",
      "model_name": "OutputModel",
      "state": {
       "layout": "IPY_MODEL_0f9ff25c2c8e45efaecd480690c91119",
       "outputs": [
        {
         "data": {
          "application/vnd.jupyter.widget-view+json": {
           "model_id": "57febdfd8a7d49828b01bb379712b2a4",
           "version_major": 2,
           "version_minor": 0
          },
          "text/plain": "Plot(antialias=3, axes=['x', 'y', 'z'], background_color=16777215, camera=[4.5, 4.5, 4.5, 0.0, 0.0, 0.0, 1.0, …"
         },
         "metadata": {},
         "output_type": "display_data"
        }
       ]
      }
     },
     "a87576673d3743c18a5a3451eb91696f": {
      "model_module": "@jupyter-widgets/base",
      "model_module_version": "1.2.0",
      "model_name": "LayoutModel",
      "state": {}
     },
     "aab46d59e2454406beeab3e47feccf33": {
      "buffers": [
       {
        "data": "eNoDAAAAAAE=",
        "encoding": "base64",
        "path": [
         "colors",
         "compressed_buffer"
        ]
       },
       {
        "data": "eNpjYGiwZ8AAxIsBAF7EAv0=",
        "encoding": "base64",
        "path": [
         "model_matrix",
         "compressed_buffer"
        ]
       },
       {
        "data": "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",
        "encoding": "base64",
        "path": [
         "origins",
         "compressed_buffer"
        ]
       },
       {
        "data": "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",
        "encoding": "base64",
        "path": [
         "vectors",
         "compressed_buffer"
        ]
       }
      ],
      "model_module": "k3d",
      "model_module_version": "2.6.9",
      "model_name": "ObjectModel",
      "state": {
       "_view_count": null,
       "_view_module": null,
       "_view_module_version": "",
       "_view_name": null,
       "colors": {
        "dtype": "uint32",
        "shape": [
         0
        ]
       },
       "compression_level": 0,
       "head_color": 255,
       "head_size": 1,
       "id": 4511715224,
       "label_size": 1,
       "labels": [],
       "line_width": 0.01,
       "model_matrix": {
        "dtype": "float32",
        "shape": [
         4,
         4
        ]
       },
       "name": null,
       "origin_color": 255,
       "origins": {
        "dtype": "float32",
        "shape": [
         1008,
         3
        ]
       },
       "type": "Vectors",
       "use_head": true,
       "vectors": {
        "dtype": "float32",
        "shape": [
         1008,
         3
        ]
       },
       "visible": true
      }
     },
     "ab94d69dd3874a81bdf44ce98d298272": {
      "model_module": "@jupyter-widgets/base",
      "model_module_version": "1.2.0",
      "model_name": "LayoutModel",
      "state": {}
     },
     "abaafb25cf394fc58bc35e6d7a8cdd0c": {
      "model_module": "@jupyter-widgets/base",
      "model_module_version": "1.2.0",
      "model_name": "LayoutModel",
      "state": {}
     },
     "abfd72cbc17c4ae498914c4133d70505": {
      "model_module": "@jupyter-widgets/base",
      "model_module_version": "1.2.0",
      "model_name": "LayoutModel",
      "state": {}
     },
     "ac1445bc0f874ad684bad01c447f0519": {
      "buffers": [
       {
        "data": "eNoDAAAAAAE=",
        "encoding": "base64",
        "path": [
         "colors",
         "compressed_buffer"
        ]
       },
       {
        "data": "eNpjYGiwZ8AAxIsBAF7EAv0=",
        "encoding": "base64",
        "path": [
         "model_matrix",
         "compressed_buffer"
        ]
       },
       {
        "data": "eNpNk09IVHEQxy/JemlpKYJgqQVJimLVCiLxzXct2EIjCQoq7GASlrAIUmGCRAgFRdEindbFbA0vHYI6FPZmHktJoRIVuBczyv6c8lCUaRDNnJrTm8N3Zj7v9/1OJbcYLq/clfqaKVlqGQ3PP85KV/8L6Wr7+vTXuZt8+OGk1U1r13eS1aoJru/fA9NUcotBrKoI650Z38mdSESpK0My8KWWl1c+Ss2GvNzJr2EqlmT62w2p7X4dlp8ckOG6a/L5x8ZwYH6IP229anUQ23eMrFZNQNndMI32UvnUMKxXZ1Ks6h1spu6iYhTP2K5HvVkeTzVE6b4dcubVXj5yIhGtflYnU9ubuLF9QUZnt0lqMM0f2sdk4s1m+Z2Ms1RapdyXlO+xi+Hf1AgPHkpYHaziZrJaNdS8ZRdMo720qVSA9epMmizNwWbqLrp/L56xXcpAx9+nM8YwM31Q/6khko4c5/+0cqk7Eb09epb7T7foOyyIviPPP8jyyNKY6D/zz+eNfOlWm+hu1vcMLxQmeN3LaqsD/ZLVqqHLPfUwjfZSR3UB1qsz9X3mYDN1F528Hc/YLmWg5Gw6YwyOhxwPOR5yPOR4yPGQ4yHHQ46HHA85HnI85PyC8wvOLzi/4PyC8wvOLzi/4PyC8wvOLzi/4HILl1u43MLlFi63cLmFyy1cbuFyC5dbVP7fHdzdwd0d3N3B3R3c3eEfvcjK8g==",
        "encoding": "base64",
        "path": [
         "origins",
         "compressed_buffer"
        ]
       },
       {
        "data": "eNpNkz0vRFEQhqlEIwqNROIrUQilct6SRCOi8AcIEbuFkmyllIhtN7JUdEKoxJlCYgu7G+WqqPgBKxtEY+bmTPIWkzM3dz6ec96ZTqmMRYVUPi/0e3kSZ0Pr0px70K2VLXHb33x2P4VvMRoxnVJZI7d9eYvazbj01ZfUvoua/v+8egLPtVNndlYxenokE4dX+vFVF7e364b7KXyL0YjxnMj1HlHTemn0uttrYHdtWKYqr2n75RHTs/NSe+9X4yvu4rxWq+jrtX/GjtE7SGKndgd+xa33dO9+Ct//RYxzRK7fOWpaL41exqDB0G61MNgdEbNU/WtiY3VBzJK9HfKbJrsn8v2T9UPmSHY3ZNNshZ/5ipj8XkVu1qaoab00ehmDBgPxCPEI8QjxCPEI8YB4QDxCPEI8QjxCPEJ6CekF0gukF0gvkF4gvUB6gfQC6QXSC6SX0NyC5hY0t6C5Bc0taG5BcwuaW9Dcgua2eMe8O6C9A+0daO9AewfaO/wDaMzjfA==",
        "encoding": "base64",
        "path": [
         "vectors",
         "compressed_buffer"
        ]
       }
      ],
      "model_module": "k3d",
      "model_module_version": "2.6.9",
      "model_name": "ObjectModel",
      "state": {
       "_view_count": null,
       "_view_module": null,
       "_view_module_version": "",
       "_view_name": null,
       "colors": {
        "dtype": "uint32",
        "shape": [
         0
        ]
       },
       "compression_level": 0,
       "head_color": 255,
       "head_size": 1,
       "id": 4667177448,
       "label_size": 1,
       "labels": [],
       "line_width": 0.01,
       "model_matrix": {
        "dtype": "float32",
        "shape": [
         4,
         4
        ]
       },
       "name": null,
       "origin_color": 255,
       "origins": {
        "dtype": "float32",
        "shape": [
         80,
         3
        ]
       },
       "type": "Vectors",
       "use_head": true,
       "vectors": {
        "dtype": "float32",
        "shape": [
         80,
         3
        ]
       },
       "visible": true
      }
     },
     "ae53543043014afd9385f74f582eb4d4": {
      "model_module": "@jupyter-widgets/base",
      "model_module_version": "1.2.0",
      "model_name": "LayoutModel",
      "state": {}
     },
     "aea6de54ea2649d4aa9e360a62413a09": {
      "model_module": "@jupyter-widgets/controls",
      "model_module_version": "1.5.0",
      "model_name": "SliderStyleModel",
      "state": {
       "description_width": ""
      }
     },
     "aeb463eff95b4ac6a46768f9f849f5d4": {
      "buffers": [
       {
        "data": "eNpLWKfOAAAD3AE2",
        "encoding": "base64",
        "path": [
         "color_map",
         "compressed_buffer"
        ]
       },
       {
        "data": "eNpjYFBwZMAABxwwxRqwidkDAFK8AuE=",
        "encoding": "base64",
        "path": [
         "model_matrix",
         "compressed_buffer"
        ]
       },
       {
        "data": "eNrllUEOACEMAjv//7R7XQGj0Vs5TqItWLXqXnxSMlFQ6Jhba2u8l9TQ/vgpMlDo2O5+KauDXNIRLb2ZnkHhDdvPJWYg3mo1aj7m5I3HOsigXAT+fnTz222eG75XTf6jAc5KA/E=",
        "encoding": "base64",
        "path": [
         "voxels",
         "compressed_buffer"
        ]
       }
      ],
      "model_module": "k3d",
      "model_module_version": "2.6.9",
      "model_name": "ObjectModel",
      "state": {
       "_view_count": null,
       "_view_module": null,
       "_view_module_version": "",
       "_view_name": null,
       "color_map": {
        "dtype": "uint32",
        "shape": []
       },
       "compression_level": 0,
       "id": 4641879488,
       "model_matrix": {
        "dtype": "float32",
        "shape": [
         4,
         4
        ]
       },
       "name": null,
       "opacity": 1,
       "outlines": false,
       "outlines_color": 0,
       "type": "Voxels",
       "visible": true,
       "voxels": {
        "dtype": "uint8",
        "shape": [
         8,
         12,
         20
        ]
       },
       "wireframe": false
      }
     },
     "aed9f9e8a5354f40bc2a773ab6671175": {
      "model_module": "k3d",
      "model_module_version": "2.6.9",
      "model_name": "PlotModel",
      "state": {
       "_backend_version": "2.6.9",
       "_dom_classes": [],
       "_view_count": null,
       "antialias": 3,
       "axes": [
        "x",
        "y",
        "z"
       ],
       "background_color": 16777215,
       "camera": [
        9.80367128973346,
        -14.70550693460019,
        0.9803671289733545,
        0,
        0,
        0,
        0,
        0,
        1
       ],
       "camera_auto_fit": true,
       "camera_no_pan": false,
       "camera_no_rotate": false,
       "camera_no_zoom": false,
       "clipping_planes": [],
       "colorbar_object_id": -1,
       "fps_meter": false,
       "grid": [
        -1,
        -1,
        -1,
        1,
        1,
        1
       ],
       "grid_auto_fit": true,
       "grid_visible": true,
       "height": 512,
       "layout": "IPY_MODEL_abfd72cbc17c4ae498914c4133d70505",
       "lighting": 1,
       "menu_visibility": true,
       "object_ids": [
        4511715224
       ],
       "rendering_steps": 1,
       "screenshot": "",
       "screenshot_scale": 2,
       "time": 0,
       "voxel_paint_color": 0
      }
     },
     "af42fa58c4ed4a6f9d6ae0a3b015d956": {
      "model_module": "@jupyter-widgets/base",
      "model_module_version": "1.2.0",
      "model_name": "LayoutModel",
      "state": {}
     },
     "b0a4d446cf70432192a4e3ed530e2015": {
      "model_module": "k3d",
      "model_module_version": "2.6.9",
      "model_name": "PlotModel",
      "state": {
       "_backend_version": "2.6.9",
       "_dom_classes": [],
       "_view_count": null,
       "antialias": 3,
       "axes": [
        "x",
        "y",
        "z"
       ],
       "background_color": 16777215,
       "camera": [
        10.284874878907916,
        -15.489812315567907,
        1.0059874815950598,
        -0.02499999664723873,
        -0.02500000223517418,
        -0.025000005960464478,
        0,
        0,
        1
       ],
       "camera_auto_fit": true,
       "camera_no_pan": false,
       "camera_no_rotate": false,
       "camera_no_zoom": false,
       "clipping_planes": [],
       "colorbar_object_id": -1,
       "fps_meter": false,
       "grid": [
        -1,
        -1,
        -1,
        1,
        1,
        1
       ],
       "grid_auto_fit": true,
       "grid_visible": true,
       "height": 512,
       "layout": "IPY_MODEL_7862944d2e334f279599d6b82e6ec076",
       "lighting": 1,
       "menu_visibility": true,
       "object_ids": [
        4471551928
       ],
       "rendering_steps": 1,
       "screenshot": "",
       "screenshot_scale": 2,
       "time": 0,
       "voxel_paint_color": 0
      }
     },
     "b163ce524dd04a17a6cbfad4efbd87a8": {
      "buffers": [
       {
        "data": "eNq7PcOEAQAFoAGo",
        "encoding": "base64",
        "path": [
         "color_map",
         "compressed_buffer"
        ]
       },
       {
        "data": "eNpjYFBwZMAABxwwxRqwidkDAFK8AuE=",
        "encoding": "base64",
        "path": [
         "model_matrix",
         "compressed_buffer"
        ]
       },
       {
        "data": "eNrllUEOACEMAjv//7R7XQGj0Vs5TqItWLXqXnxSMlFQ6Jhba2u8l9TQ/vgpMlDo2O5+KauDXNIRLb2ZnkHhDdvPJWYg3mo1aj7m5I3HOsigXAT+fnTz222eG75XTf6jAc5KA/E=",
        "encoding": "base64",
        "path": [
         "voxels",
         "compressed_buffer"
        ]
       }
      ],
      "model_module": "k3d",
      "model_module_version": "2.6.9",
      "model_name": "ObjectModel",
      "state": {
       "_view_count": null,
       "_view_module": null,
       "_view_module_version": "",
       "_view_name": null,
       "color_map": {
        "dtype": "uint32",
        "shape": []
       },
       "compression_level": 0,
       "id": 4511713936,
       "model_matrix": {
        "dtype": "float32",
        "shape": [
         4,
         4
        ]
       },
       "name": null,
       "opacity": 1,
       "outlines": false,
       "outlines_color": 0,
       "type": "Voxels",
       "visible": true,
       "voxels": {
        "dtype": "uint8",
        "shape": [
         8,
         12,
         20
        ]
       },
       "wireframe": false
      }
     },
     "b29b4b3ff4014decaed3eeaf6f5f64a7": {
      "model_module": "@jupyter-widgets/base",
      "model_module_version": "1.2.0",
      "model_name": "LayoutModel",
      "state": {}
     },
     "b314bedd6fff42ca929c476bb33cb273": {
      "model_module": "@jupyter-widgets/base",
      "model_module_version": "1.2.0",
      "model_name": "LayoutModel",
      "state": {}
     },
     "b4f9b9df20be4d908e7ad41cd3380e76": {
      "model_module": "k3d",
      "model_module_version": "2.6.9",
      "model_name": "PlotModel",
      "state": {
       "_backend_version": "2.6.9",
       "_dom_classes": [],
       "_view_count": null,
       "antialias": 3,
       "axes": [
        "x",
        "y",
        "z"
       ],
       "background_color": 16777215,
       "camera": [
        10.284874878907916,
        -15.489812315567907,
        1.0059874815950598,
        -0.02499999664723873,
        -0.02500000223517418,
        -0.025000005960464478,
        0,
        0,
        1
       ],
       "camera_auto_fit": true,
       "camera_no_pan": false,
       "camera_no_rotate": false,
       "camera_no_zoom": false,
       "clipping_planes": [],
       "colorbar_object_id": -1,
       "fps_meter": false,
       "grid": [
        -1,
        -1,
        -1,
        1,
        1,
        1
       ],
       "grid_auto_fit": true,
       "grid_visible": true,
       "height": 512,
       "layout": "IPY_MODEL_64d457c833464b5fac9af54760236818",
       "lighting": 1,
       "menu_visibility": true,
       "object_ids": [
        4511879968
       ],
       "rendering_steps": 1,
       "screenshot": "",
       "screenshot_scale": 2,
       "time": 0,
       "voxel_paint_color": 0
      }
     },
     "b6140ccd33b34cecb3228b7b3f7229af": {
      "buffers": [
       {
        "data": "eNoDAAAAAAE=",
        "encoding": "base64",
        "path": [
         "colors",
         "compressed_buffer"
        ]
       },
       {
        "data": "eNpjYGiwZ8AAxIsBAF7EAv0=",
        "encoding": "base64",
        "path": [
         "model_matrix",
         "compressed_buffer"
        ]
       },
       {
        "data": "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",
        "encoding": "base64",
        "path": [
         "origins",
         "compressed_buffer"
        ]
       },
       {
        "data": "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",
        "encoding": "base64",
        "path": [
         "vectors",
         "compressed_buffer"
        ]
       }
      ],
      "model_module": "k3d",
      "model_module_version": "2.6.9",
      "model_name": "ObjectModel",
      "state": {
       "_view_count": null,
       "_view_module": null,
       "_view_module_version": "",
       "_view_name": null,
       "colors": {
        "dtype": "uint32",
        "shape": [
         0
        ]
       },
       "compression_level": 0,
       "head_color": 255,
       "head_size": 1,
       "id": 4734016816,
       "label_size": 1,
       "labels": [],
       "line_width": 0.01,
       "model_matrix": {
        "dtype": "float32",
        "shape": [
         4,
         4
        ]
       },
       "name": null,
       "origin_color": 255,
       "origins": {
        "dtype": "float32",
        "shape": [
         1008,
         3
        ]
       },
       "type": "Vectors",
       "use_head": true,
       "vectors": {
        "dtype": "float32",
        "shape": [
         1008,
         3
        ]
       },
       "visible": true
      }
     },
     "bb3252bfbe33430d854417e9975bec27": {
      "model_module": "@jupyter-widgets/base",
      "model_module_version": "1.2.0",
      "model_name": "LayoutModel",
      "state": {}
     },
     "bd1f3995da3b4aa6b4660bbbd5b52b04": {
      "model_module": "k3d",
      "model_module_version": "2.6.9",
      "model_name": "PlotModel",
      "state": {
       "_backend_version": "2.6.9",
       "_dom_classes": [],
       "_view_count": null,
       "antialias": 3,
       "axes": [
        "x",
        "y",
        "z"
       ],
       "background_color": 16777215,
       "camera": [
        10.284874878907916,
        -15.489812315567907,
        1.0059874815950598,
        -0.02499999664723873,
        -0.02500000223517418,
        -0.025000005960464478,
        0,
        0,
        1
       ],
       "camera_auto_fit": true,
       "camera_no_pan": false,
       "camera_no_rotate": false,
       "camera_no_zoom": false,
       "clipping_planes": [],
       "colorbar_object_id": -1,
       "fps_meter": false,
       "grid": [
        -1,
        -1,
        -1,
        1,
        1,
        1
       ],
       "grid_auto_fit": true,
       "grid_visible": true,
       "height": 512,
       "layout": "IPY_MODEL_63c2b674d9e341a6b7a71ab3fbdcf1c9",
       "lighting": 1,
       "menu_visibility": true,
       "object_ids": [
        4734617360
       ],
       "rendering_steps": 1,
       "screenshot": "",
       "screenshot_scale": 2,
       "time": 0,
       "voxel_paint_color": 0
      }
     },
     "bee5501d0f3f45f8a8d1e564b065639c": {
      "model_module": "@jupyter-widgets/output",
      "model_module_version": "1.0.0",
      "model_name": "OutputModel",
      "state": {
       "layout": "IPY_MODEL_9024997b8e5b48b3901c74ca7c769d07",
       "outputs": [
        {
         "data": {
          "application/vnd.jupyter.widget-view+json": {
           "model_id": "bfa50197b9ca4153909bb7c02aa00684",
           "version_major": 2,
           "version_minor": 0
          },
          "text/plain": "Plot(antialias=3, axes=['x', 'y', 'z'], background_color=16777215, camera=[4.5, 4.5, 4.5, 0.0, 0.0, 0.0, 1.0, …"
         },
         "metadata": {},
         "output_type": "display_data"
        }
       ]
      }
     },
     "bf9b6af3f3e648fe9b48b5338a3b8997": {
      "buffers": [
       {
        "data": "eNot0vlP1gUcwPF3rVar1Wq14vR5Hh4eBOSSQy45fZ7v96spoRIiIqJAHCKH3Pf9cD7fLLMss8yyzLLM0sy01KJIo1BDEQUEfWBrba2ttbbW1sfVD6//4JV2l5X0u62su8fG+nttZN6nkHW/wsYHFLIfVMh5SGXzwyq5j6jkPaqS/5hKweMahU9oFD2pUeyiUeKmsc1do9RDo8xTo9ygUWHUqDRpVJk1qr01aiwatT4adb4a9X4aDf4qDQEqjYEqTUEqzcEqLSEKLaEKrWEKbeEK7RE22iNtdETZ6Iy20hljpStWxC2jO14kJGNPFEnJ9CQn0WNNoteWSK8i1AT6NLE8nr4V8fSvFKvi6E8RTy9lIFWsjmVgjVgbw2CaeCaawXSREcXgepEZiWODyFqCY6PIjsCxSeSE49gstoThyA1DzwtFzxfPLkYvEIWiKAS9WGwNRi8R24LQS0WZKA9Er7gjAH27qBRVi9CrRY0/eq2oE/V+6A2iUTT5ojeLloXoraJNtPugd/yv04LeJbqF3Ru9R/Sa0fvMOPrFgBeOQeEQugnHc2KHicHnxQvG/+wULxoY2CVeEi+L3Qb6XxGvij0L6HtN7BWvG+h9Q+wTbxrouWO/AftbRuxvG+k+YKL7HfGuF10Hveh8z0znIW863rfQ8YGF9sM+YiFtH/rS+pEfrUf8afk4gOajgTR9EkTTp8E0HltMw/FQ6o+HU/9ZBHUnIqn9PIqakzFUfxFL1ak4Kk8lsP10IhVfJlP+lZWyMwqlZ+Xj2RWUnFvJ1q9TKP4mlaKhNRQOpVHwbTr532WQN5xJ7nAWW77PJud8Dpsu5JJ9IZ+sHwrYMFJE5kgJGT+Wsu6nctJHK0kbrWbtxVpWX2wg9VITKZdbWXW5nad+7mL5mB1trA/lygC2KzrLru4g6epOEsd3ET++m6XX9hB7bS/RE/uInNjPkusHCL9+kNAbhwi5cZjgySMETh5l0dQx/KZO4Dt1Ep/p01imz2CePofp5hDGm8MYZs7jOTOCx8wo7rOXcJsdw3V2HNdbE7jcmhTTuNyexfW2U8zj5vwFd+eveDh/w9P5Owvm/sA49yemub8wz/+NZf4f/gXLh0p6",
        "encoding": "base64",
        "path": [
         "color_map",
         "compressed_buffer"
        ]
       },
       {
        "data": "eNpjYFBwZMAABxwwxRqwidkDAFK8AuE=",
        "encoding": "base64",
        "path": [
         "model_matrix",
         "compressed_buffer"
        ]
       },
       {
        "data": "eNrl1c9LKlEUB/BJGFzoxtCFBLMcpoUIEUMYYVRCFBkWiZIUYTEwhGL+aPwLnBxNlBgYSqIwFKMkowisSCKJIQJxkcxyIFwoudGFCPZ8iphv9eDxVt7d/XA553zhci8A/PvKsGymV87iiWQyET/7QZQ/EAyFggE/1TWn3Wa1WKw2u/PHwVW9TqvV6Vd7K6pQVAX851Usl4s98Jrl+EKB57KvHTm/unticxyXY5/urs7bdngciSdT6XQqGY8cH7aI3KN8gRDNMHQo4KP2yN9G7DodNguOYbjF5nDuEq2DWxsmvVajVmu0etPGVrveyuLsJKqAYQU6Obu40uk8poQhuRyClWM9I8okEtlfhavXe/d5vlip1SpFPt+R1PPbB/9VrX7xH2/PqRbFLq7vMzm+VOJzmfvri1iTaOboJJpIsfk8m0pET44YGgA8pJfyB+lwNBqmg37KS3oAwE24nHYrbjYazbjV7nQRbgDAsc11o06DIgiq0RnXNzG8WdCwvDCjUkBSKaRQzSwsG1qNNROjw9CgSDQIDY9OaDoTIpBMLBSKZRDSmwUE/whbqtS/v+uVUley3Ge51mjUyp9cti23Dy/vXKHaaFQL3PvLw22TIrHLm0eWK9XrJY59vLmMRYADmgmfxpLpfKWSTydjp2GGPvCQpNe3H2KiLBtlQvs+L0l63AThcuxYMCOKGjHLjsNFEO5tHDOvGbRqRCxG1FrDmhnDtwGTYWl+CoWlICiF0an5JYOp2XhuenwElosEApEcHhmfnmtPqISHJEKBQCgZgpXdJFIxODAAiqX9nLff7nMfvld98h/9AlMm+BA=",
        "encoding": "base64",
        "path": [
         "voxels",
         "compressed_buffer"
        ]
       }
      ],
      "model_module": "k3d",
      "model_module_version": "2.6.9",
      "model_name": "ObjectModel",
      "state": {
       "_view_count": null,
       "_view_module": null,
       "_view_module_version": "",
       "_view_name": null,
       "color_map": {
        "dtype": "uint32",
        "shape": [
         256
        ]
       },
       "compression_level": 0,
       "id": 4610104960,
       "model_matrix": {
        "dtype": "float32",
        "shape": [
         4,
         4
        ]
       },
       "name": null,
       "opacity": 1,
       "outlines": false,
       "outlines_color": 0,
       "type": "Voxels",
       "visible": true,
       "voxels": {
        "dtype": "uint8",
        "shape": [
         8,
         12,
         20
        ]
       },
       "wireframe": false
      }
     },
     "bfa50197b9ca4153909bb7c02aa00684": {
      "model_module": "k3d",
      "model_module_version": "2.6.9",
      "model_name": "PlotModel",
      "state": {
       "_backend_version": "2.6.9",
       "_dom_classes": [],
       "_view_count": null,
       "antialias": 3,
       "axes": [
        "x",
        "y",
        "z"
       ],
       "background_color": 16777215,
       "camera": [
        5.676886823516348,
        -8.515330235274524,
        0.5676886823516407,
        0,
        0,
        0,
        0,
        0,
        1
       ],
       "camera_auto_fit": true,
       "camera_no_pan": false,
       "camera_no_rotate": false,
       "camera_no_zoom": false,
       "clipping_planes": [],
       "colorbar_object_id": -1,
       "fps_meter": false,
       "grid": [
        -1,
        -1,
        -1,
        1,
        1,
        1
       ],
       "grid_auto_fit": true,
       "grid_visible": true,
       "height": 512,
       "layout": "IPY_MODEL_9efe48b0ebac467091eeba13a81ce9ed",
       "lighting": 1,
       "menu_visibility": true,
       "object_ids": [
        4734568264,
        4734567480
       ],
       "rendering_steps": 1,
       "screenshot": "",
       "screenshot_scale": 2,
       "time": 0,
       "voxel_paint_color": 0
      }
     },
     "c0e3ca3605cf49abb97a6bcaa2626419": {
      "model_module": "@jupyter-widgets/base",
      "model_module_version": "1.2.0",
      "model_name": "LayoutModel",
      "state": {}
     },
     "c18cd247c4964a8d8a6a5173cb70faeb": {
      "buffers": [
       {
        "data": "eNq7PcOEAQAFoAGo",
        "encoding": "base64",
        "path": [
         "color_map",
         "compressed_buffer"
        ]
       },
       {
        "data": "eNpjYFBwZMAABxwwxRqwidkDAFK8AuE=",
        "encoding": "base64",
        "path": [
         "model_matrix",
         "compressed_buffer"
        ]
       },
       {
        "data": "eNrllUEOACEMAjv//7R7XQGj0Vs5TqItWLXqXnxSMlFQ6Jhba2u8l9TQ/vgpMlDo2O5+KauDXNIRLb2ZnkHhDdvPJWYg3mo1aj7m5I3HOsigXAT+fnTz222eG75XTf6jAc5KA/E=",
        "encoding": "base64",
        "path": [
         "voxels",
         "compressed_buffer"
        ]
       }
      ],
      "model_module": "k3d",
      "model_module_version": "2.6.9",
      "model_name": "ObjectModel",
      "state": {
       "_view_count": null,
       "_view_module": null,
       "_view_module_version": "",
       "_view_name": null,
       "color_map": {
        "dtype": "uint32",
        "shape": []
       },
       "compression_level": 0,
       "id": 4471551928,
       "model_matrix": {
        "dtype": "float32",
        "shape": [
         4,
         4
        ]
       },
       "name": null,
       "opacity": 1,
       "outlines": false,
       "outlines_color": 0,
       "type": "Voxels",
       "visible": true,
       "voxels": {
        "dtype": "uint8",
        "shape": [
         8,
         12,
         20
        ]
       },
       "wireframe": false
      }
     },
     "c4bc292feeb34be9bc777e711c27d078": {
      "buffers": [
       {
        "data": "eNoDAAAAAAE=",
        "encoding": "base64",
        "path": [
         "colors",
         "compressed_buffer"
        ]
       },
       {
        "data": "eNpjYGiwZ8AAxIsBAF7EAv0=",
        "encoding": "base64",
        "path": [
         "model_matrix",
         "compressed_buffer"
        ]
       },
       {
        "data": "eNptmtG15DgIRCcEh+IIgBAcikPYzw7hfVYkvQ6FUHZ6dlBfIX30eTVzbAtsRBWgX7/i31+/9PuXv3//vIHti8O/+M+///4VcAB/nhN4TuA5417gBD6e/+9PPKvWKhzAn78DG65x3AucwEcAP//fn7B7rGtY17CuYV3DuoZ1Desa1sVan3vG+3S8T8f7dLxPx/t0vE/H+8RzhOcIzxGeI1z/eRf1vge2L/5cX/jzN/+d40P4t1q8TN/TVr8Fe/XXl8Kf91b4er7rnMDHs67ffwFcMS/EvBDzZY9gj2DPsAH4In6+653AB3A2mwJ/A3YG7AzYGbAzYGfAzoCdATsL38/3XVzAJ/DxtBzxXt9jANfeFPamsDeFvSnsTWFvls3DNuCb+Pl+vwv4BD6eOa/xexcO4Nrjwh4X9riwx4U9LuzxYb/BfoP9sLli7gQ+njn/Mi4LB3DlCiFXCLlCyBVCrhhx4ogTR5w49h3sFOwU7NRm/wRw5SIhFwm5aNwHOwU7BTsFO2lPkrc2eziA/+Ql2JOwJ2FPwp6EPXxm5YU/+TOQPwP5E9dUXvhcU/hjf+WIbPmicABXrg7k6kCurnc/ngn8saXw9Xzz0fnMnEDuZ87q/B+dq23lNPJSIM8H8nz8/b6FL+D7+b7vC/gEPp6Vf3qeZa6dcpiteytaLO++eYALAlwQf/d74Re+4Q18AZ+b79z1Fv3gr/giwBcBvgjwRYAvAnwR4IsAX5QvhV/Ez3ftG/gCPoGPp+nF98p59Kc4JcApAU4JcEqAUwKcEuCUAKcEOKX8Gvj5vscb+AI+gY9n1r7kbH6PwsU1Aa4JcE2AawJcE+CaANcEuCbANcMvQxw64tARh444dMShr5peLbYKFx8F+CjARwE+CvBRgI8CfBTgoxGHjjiEL4Ivgi+CL9rUJGp7Q/BF8EXwRfBF8EXwRfBF8EXwhTYnbE7YnJvaSW0PJ2xO2JywOWFzwuaEzQmbEzbTnsoX2bQm80jh4sQAJwY4cfBUgKcCPIXnnHjOCRvOjX5l3inOrT03rnHcC5zA5/PNWccz16vHRiszx9U9te6BdQ+se2DdsVZ88Ql8P9+8eQGfwMcz19JLrd/y71Rb26YGfc81ZQIXd5edwzbgG/iFWvMGvp5ZHy31aOsLaFcnvVstYhuN/J41KfXgpNGAL+Ab+AX8A132Ar6BL+Bzp+Nav0M7bn83brRN3n3POYy5Ybuf3l+uLx8DPhb+IUaMv4Bv4Gu3/97z/sjdd2vcP/0M1zjuBU7g0gDl77AN+AZ+Af8QP9+1X8A38AV8Ah/P3KtibUxNQ98GNlzjuBc4gUsbDH8N/hr8Nfhr8NcQz454dsSzI54d8eyIZ197c2q6jd9vYMM1jnuBE7g0w4hnRzw74tkRz454ho+Cj4KPgo+Cj9r0HNX0qHYxarjGcS9wApeWGHkJPgo+Cj7Sl4QvCV8SvuSmZ6qmp3O3xwzXOO4FTuDSGIMv4EvCF9pZe/h4Wg831v4Rdf+0/w3XOO4FTuDSHoN/se656VWxxphyjeEax73ASdx6WOem3pjyi+Eax73ACTz0jEHP2NwTV6tnjl0uM1zjuBc4gYeeMegZg54x6BmDnjHomdav12bmsORZW/vo7IWXnQl9mtCYwzbgG/iFfvkNfAGfm556nzdo0+tdeMLWPh97aexjsf9Uvgi+CL4UfgH/oLf0Ar6Br00fi72oPkfRpj+x8J+ttSNrL9Y0rCdYE5SPAR8DPhb+IYZOfwHfwNemhqCu77MibTTawvG28h75gfmVOYx5pfwdNgO/gH+IsY9fwDfwtckx3Pd9HqbNN1x0DH5Dzxj0jEHPGPSMQc8Y9IxBzxj0jEHPGPSMQc8Y9IxBzxj0jEHPtJmfWr+G+oy+jWsc9wIn8NAzBj1j0DMGPWPQMwY9Y9AzBj1j0DMGPWPQM22WqdaH0k6D4vsNPWPQMwY9Y9AzBj1j0DMGPWPQMwY9Y9AzBj1j0DNtFqvWR8udhkb8DT1j0DMGPWPQMwY9Y9AzBj1j0DMGPdPmxGo9Pmp67odxjeNe4AQeesagZwx6ps2u2Fucagnsw6FnDHrGoGes1QbYV2Pe4Zh3tBkY+49TXYE9OeYdjnmHY97hmHc45h2OeYdj3uHznF6bswxLbWPrfH6asTvmHY55h2Pe4Zh3OOYdjnmHY97h83w+N3Ps3qudajBb54ScxXEOxvlV2SzYXPgGfmEedQNfwOdmZtXPQ2gzx1hqSFt7zOzRsvfJvmP5EvAl4EvhFzF6eDfwtekpss/Xz3Zo07NZ6mFb62DWi6y3WNOwzii/hs3AL2Jo+Rv42tQW1Pv9nIo22m2p7W3lQ/IG8y5zG/PN8Mvgl8EvQxw64tARh444bLmkn7nRJr6WPgV84k/ACTzmHY55h2Pe4Zh3OOYdjnmHY97hmHc45h3tzJDaDEa7PovNdgt/BV8EXwRfBF8EX2hzwuaEzbk526Q2K8pdP8jm95uwOfF/CZsTNidspj31nbKdmeC8in0oajh+43EvcAKPeUfvZ9k8Dzt2fSibv3fhcV4LvNbPbXAeNvWzbD1rJvCawGsCrwmcJXCWwFlq57+0OdO09NRsPc+idn6EZzfGeS1wlsBZAh8JfKR2hiI3ZwH6vHDq99k651SbGXIWxznYCXwB35gXXZuZldpMKTezjj7XnPqStvZZ1XqT7O0dmz6WwDUC1wicInCKWr+KPaTc9Db6LHaqlW2tq9RqEWr5Y6NbBU4ROEXgC4Ev1LRnbjRUnxlPHG4rP6jlWuYw5o8T+CJ+vs84gY9n3bv93BXjdPr+ttrVfwk8zmuBCwQuEPK8kOf72S/O1KeeuM3ckxs7Enic12qz+am3bjOHcX6vXU/c1vN02c43aXPWZumn23oOovvPWT1nxbmZYfZzAFO/3tb5SX+/7NlPffFn7ZX283Psz029K1v7HP1bsrZm/ZqbWqSfaZi0sK06q8cKtQDz8ZTnbN1/6f8B9wZNtg==",
        "encoding": "base64",
        "path": [
         "positions",
         "compressed_buffer"
        ]
       }
      ],
      "model_module": "k3d",
      "model_module_version": "2.6.9",
      "model_name": "ObjectModel",
      "state": {
       "_view_count": null,
       "_view_module": null,
       "_view_module_version": "",
       "_view_name": null,
       "color": 10075135,
       "colors": {
        "dtype": "uint32",
        "shape": [
         0
        ]
       },
       "compression_level": 0,
       "id": 4634907648,
       "mesh_detail": 2,
       "model_matrix": {
        "dtype": "float32",
        "shape": [
         4,
         4
        ]
       },
       "name": null,
       "opacity": 1,
       "point_size": 0.1,
       "positions": {
        "dtype": "float32",
        "shape": [
         1008,
         3
        ]
       },
       "shader": "3dSpecular",
       "type": "Points",
       "visible": true
      }
     },
     "c8aaac5220d34f6b96f835106e55eb97": {
      "model_module": "@jupyter-widgets/output",
      "model_module_version": "1.0.0",
      "model_name": "OutputModel",
      "state": {
       "layout": "IPY_MODEL_108c26d8d4f14165959c915a9c6c884f",
       "outputs": [
        {
         "data": {
          "application/vnd.jupyter.widget-view+json": {
           "model_id": "9a03d7f71e694517a9f8735111c9672b",
           "version_major": 2,
           "version_minor": 0
          },
          "text/plain": "Plot(antialias=3, axes=['x', 'y', 'z'], background_color=16777215, camera=[4.5, 4.5, 4.5, 0.0, 0.0, 0.0, 1.0, …"
         },
         "metadata": {},
         "output_type": "display_data"
        }
       ]
      }
     },
     "c950082c6def4f09a919238310bc0408": {
      "model_module": "@jupyter-widgets/output",
      "model_module_version": "1.0.0",
      "model_name": "OutputModel",
      "state": {
       "layout": "IPY_MODEL_3e80e330d2b542728bd8109baa37fe35",
       "outputs": [
        {
         "data": {
          "application/vnd.jupyter.widget-view+json": {
           "model_id": "fa76f3ac4fa340cabb8ad10346888ce0",
           "version_major": 2,
           "version_minor": 0
          },
          "text/plain": "Plot(antialias=3, axes=['x', 'y', 'z'], background_color=16777215, camera=[4.5, 4.5, 4.5, 0.0, 0.0, 0.0, 1.0, …"
         },
         "metadata": {},
         "output_type": "display_data"
        }
       ]
      }
     },
     "cca30ea71d884bd28acf79d9e1c6677b": {
      "buffers": [
       {
        "data": "eNot0vlP1gUcwPF3rVar1Wq14vR5Hh4eBOSSQy45fZ7v96spoRIiIqJAHCKH3Pf9cD7fLLMss8yyzLLM0sy01KJIo1BDEQUEfWBrba2ttbbW1sfVD6//4JV2l5X0u62su8fG+nttZN6nkHW/wsYHFLIfVMh5SGXzwyq5j6jkPaqS/5hKweMahU9oFD2pUeyiUeKmsc1do9RDo8xTo9ygUWHUqDRpVJk1qr01aiwatT4adb4a9X4aDf4qDQEqjYEqTUEqzcEqLSEKLaEKrWEKbeEK7RE22iNtdETZ6Iy20hljpStWxC2jO14kJGNPFEnJ9CQn0WNNoteWSK8i1AT6NLE8nr4V8fSvFKvi6E8RTy9lIFWsjmVgjVgbw2CaeCaawXSREcXgepEZiWODyFqCY6PIjsCxSeSE49gstoThyA1DzwtFzxfPLkYvEIWiKAS9WGwNRi8R24LQS0WZKA9Er7gjAH27qBRVi9CrRY0/eq2oE/V+6A2iUTT5ojeLloXoraJNtPugd/yv04LeJbqF3Ru9R/Sa0fvMOPrFgBeOQeEQugnHc2KHicHnxQvG/+wULxoY2CVeEi+L3Qb6XxGvij0L6HtN7BWvG+h9Q+wTbxrouWO/AftbRuxvG+k+YKL7HfGuF10Hveh8z0znIW863rfQ8YGF9sM+YiFtH/rS+pEfrUf8afk4gOajgTR9EkTTp8E0HltMw/FQ6o+HU/9ZBHUnIqn9PIqakzFUfxFL1ak4Kk8lsP10IhVfJlP+lZWyMwqlZ+Xj2RWUnFvJ1q9TKP4mlaKhNRQOpVHwbTr532WQN5xJ7nAWW77PJud8Dpsu5JJ9IZ+sHwrYMFJE5kgJGT+Wsu6nctJHK0kbrWbtxVpWX2wg9VITKZdbWXW5nad+7mL5mB1trA/lygC2KzrLru4g6epOEsd3ET++m6XX9hB7bS/RE/uInNjPkusHCL9+kNAbhwi5cZjgySMETh5l0dQx/KZO4Dt1Ep/p01imz2CePofp5hDGm8MYZs7jOTOCx8wo7rOXcJsdw3V2HNdbE7jcmhTTuNyexfW2U8zj5vwFd+eveDh/w9P5Owvm/sA49yemub8wz/+NZf4f/gXLh0p6",
        "encoding": "base64",
        "path": [
         "color_map",
         "compressed_buffer"
        ]
       },
       {
        "data": "eNpjYFBwZMAABxwwxRqwidkDAFK8AuE=",
        "encoding": "base64",
        "path": [
         "model_matrix",
         "compressed_buffer"
        ]
       },
       {
        "data": "eNrl1c9LKlEUB/BJGFzoxtCFBLMcpoUIEUMYYVRCFBkWiZIUYTEwhGL+aPwLnBxNlBgYSqIwFKMkowisSCKJIQJxkcxyIFwoudGFCPZ8iphv9eDxVt7d/XA553zhci8A/PvKsGymV87iiWQyET/7QZQ/EAyFggE/1TWn3Wa1WKw2u/PHwVW9TqvV6Vd7K6pQVAX851Usl4s98Jrl+EKB57KvHTm/unticxyXY5/urs7bdngciSdT6XQqGY8cH7aI3KN8gRDNMHQo4KP2yN9G7DodNguOYbjF5nDuEq2DWxsmvVajVmu0etPGVrveyuLsJKqAYQU6Obu40uk8poQhuRyClWM9I8okEtlfhavXe/d5vlip1SpFPt+R1PPbB/9VrX7xH2/PqRbFLq7vMzm+VOJzmfvri1iTaOboJJpIsfk8m0pET44YGgA8pJfyB+lwNBqmg37KS3oAwE24nHYrbjYazbjV7nQRbgDAsc11o06DIgiq0RnXNzG8WdCwvDCjUkBSKaRQzSwsG1qNNROjw9CgSDQIDY9OaDoTIpBMLBSKZRDSmwUE/whbqtS/v+uVUley3Ge51mjUyp9cti23Dy/vXKHaaFQL3PvLw22TIrHLm0eWK9XrJY59vLmMRYADmgmfxpLpfKWSTydjp2GGPvCQpNe3H2KiLBtlQvs+L0l63AThcuxYMCOKGjHLjsNFEO5tHDOvGbRqRCxG1FrDmhnDtwGTYWl+CoWlICiF0an5JYOp2XhuenwElosEApEcHhmfnmtPqISHJEKBQCgZgpXdJFIxODAAiqX9nLff7nMfvld98h/9AlMm+BA=",
        "encoding": "base64",
        "path": [
         "voxels",
         "compressed_buffer"
        ]
       }
      ],
      "model_module": "k3d",
      "model_module_version": "2.6.9",
      "model_name": "ObjectModel",
      "state": {
       "_view_count": null,
       "_view_module": null,
       "_view_module_version": "",
       "_view_name": null,
       "color_map": {
        "dtype": "uint32",
        "shape": [
         256
        ]
       },
       "compression_level": 0,
       "id": 4511879968,
       "model_matrix": {
        "dtype": "float32",
        "shape": [
         4,
         4
        ]
       },
       "name": null,
       "opacity": 1,
       "outlines": false,
       "outlines_color": 0,
       "type": "Voxels",
       "visible": true,
       "voxels": {
        "dtype": "uint8",
        "shape": [
         8,
         12,
         20
        ]
       },
       "wireframe": false
      }
     },
     "cd0c1b39e3e44e9ab2fa77d86dec16ef": {
      "buffers": [
       {
        "data": "eNoDAAAAAAE=",
        "encoding": "base64",
        "path": [
         "colors",
         "compressed_buffer"
        ]
       },
       {
        "data": "eNpjYGiwZ8AAxIsBAF7EAv0=",
        "encoding": "base64",
        "path": [
         "model_matrix",
         "compressed_buffer"
        ]
       },
       {
        "data": "eNpNk09IVHEQxy/JemlpKYJgqQVJimLVCiLxzXct2EIjCQoq7GASlrAIUmGCRAgFRdEindbFbA0vHYI6FPZmHktJoRIVuBczyv6c8lCUaRDNnJrTm8N3Zj7v9/1OJbcYLq/clfqaKVlqGQ3PP85KV/8L6Wr7+vTXuZt8+OGk1U1r13eS1aoJru/fA9NUcotBrKoI650Z38mdSESpK0My8KWWl1c+Ss2GvNzJr2EqlmT62w2p7X4dlp8ckOG6a/L5x8ZwYH6IP229anUQ23eMrFZNQNndMI32UvnUMKxXZ1Ks6h1spu6iYhTP2K5HvVkeTzVE6b4dcubVXj5yIhGtflYnU9ubuLF9QUZnt0lqMM0f2sdk4s1m+Z2Ms1RapdyXlO+xi+Hf1AgPHkpYHaziZrJaNdS8ZRdMo720qVSA9epMmizNwWbqLrp/L56xXcpAx9+nM8YwM31Q/6khko4c5/+0cqk7Eb09epb7T7foOyyIviPPP8jyyNKY6D/zz+eNfOlWm+hu1vcMLxQmeN3LaqsD/ZLVqqHLPfUwjfZSR3UB1qsz9X3mYDN1F528Hc/YLmWg5Gw6YwyOhxwPOR5yPOR4yPGQ4yHHQ46HHA85HnI85PyC8wvOLzi/4PyC8wvOLzi/4PyC8wvOLzi/4HILl1u43MLlFi63cLmFyy1cbuFyC5dbVP7fHdzdwd0d3N3B3R3c3eEfvcjK8g==",
        "encoding": "base64",
        "path": [
         "origins",
         "compressed_buffer"
        ]
       },
       {
        "data": "eNpNkz0vRFEQhqlEIwqNROIrUQilct6SRCOi8AcIEbuFkmyllIhtN7JUdEKoxJlCYgu7G+WqqPgBKxtEY+bmTPIWkzM3dz6ec96ZTqmMRYVUPi/0e3kSZ0Pr0px70K2VLXHb33x2P4VvMRoxnVJZI7d9eYvazbj01ZfUvoua/v+8egLPtVNndlYxenokE4dX+vFVF7e364b7KXyL0YjxnMj1HlHTemn0uttrYHdtWKYqr2n75RHTs/NSe+9X4yvu4rxWq+jrtX/GjtE7SGKndgd+xa33dO9+Ct//RYxzRK7fOWpaL41exqDB0G61MNgdEbNU/WtiY3VBzJK9HfKbJrsn8v2T9UPmSHY3ZNNshZ/5ipj8XkVu1qaoab00ehmDBgPxCPEI8QjxCPEI8YB4QDxCPEI8QjxCPEJ6CekF0gukF0gvkF4gvUB6gfQC6QXSC6SX0NyC5hY0t6C5Bc0taG5BcwuaW9Dcgua2eMe8O6C9A+0daO9AewfaO/wDaMzjfA==",
        "encoding": "base64",
        "path": [
         "vectors",
         "compressed_buffer"
        ]
       }
      ],
      "model_module": "k3d",
      "model_module_version": "2.6.9",
      "model_name": "ObjectModel",
      "state": {
       "_view_count": null,
       "_view_module": null,
       "_view_module_version": "",
       "_view_name": null,
       "colors": {
        "dtype": "uint32",
        "shape": [
         0
        ]
       },
       "compression_level": 0,
       "head_color": 255,
       "head_size": 1,
       "id": 4734568264,
       "label_size": 1,
       "labels": [],
       "line_width": 0.01,
       "model_matrix": {
        "dtype": "float32",
        "shape": [
         4,
         4
        ]
       },
       "name": null,
       "origin_color": 255,
       "origins": {
        "dtype": "float32",
        "shape": [
         80,
         3
        ]
       },
       "type": "Vectors",
       "use_head": true,
       "vectors": {
        "dtype": "float32",
        "shape": [
         80,
         3
        ]
       },
       "visible": true
      }
     },
     "cf328c7f1e7840f6830264669fb54c4d": {
      "model_module": "@jupyter-widgets/output",
      "model_module_version": "1.0.0",
      "model_name": "OutputModel",
      "state": {
       "layout": "IPY_MODEL_00749da0d46142e4b674650b8d154510",
       "outputs": [
        {
         "data": {
          "application/vnd.jupyter.widget-view+json": {
           "model_id": "4ca3c0883cba46eeb6bd606e75b2164b",
           "version_major": 2,
           "version_minor": 0
          },
          "text/plain": "Plot(antialias=3, axes=['x', 'y', 'z'], background_color=16777215, camera=[4.5, 4.5, 4.5, 0.0, 0.0, 0.0, 1.0, …"
         },
         "metadata": {},
         "output_type": "display_data"
        }
       ]
      }
     },
     "cf67a5ac6c514389843698c91009234c": {
      "model_module": "@jupyter-widgets/base",
      "model_module_version": "1.2.0",
      "model_name": "LayoutModel",
      "state": {}
     },
     "d1709308a8994d7290b6be0fc13f17d1": {
      "model_module": "@jupyter-widgets/base",
      "model_module_version": "1.2.0",
      "model_name": "LayoutModel",
      "state": {}
     },
     "d22321c9af0749b4bec0e6fa916850c8": {
      "model_module": "@jupyter-widgets/output",
      "model_module_version": "1.0.0",
      "model_name": "OutputModel",
      "state": {
       "layout": "IPY_MODEL_a87576673d3743c18a5a3451eb91696f",
       "outputs": [
        {
         "data": {
          "application/vnd.jupyter.widget-view+json": {
           "model_id": "605b09b610a24d3e9d990ccdd1b4b988",
           "version_major": 2,
           "version_minor": 0
          },
          "text/plain": "Plot(antialias=3, axes=['x', 'y', 'z'], background_color=16777215, camera=[4.5, 4.5, 4.5, 0.0, 0.0, 0.0, 1.0, …"
         },
         "metadata": {},
         "output_type": "display_data"
        }
       ]
      }
     },
     "d6d16a6ef5e040e092b4a6d51ab3986d": {
      "buffers": [
       {
        "data": "eNoDAAAAAAE=",
        "encoding": "base64",
        "path": [
         "colors",
         "compressed_buffer"
        ]
       },
       {
        "data": "eNpjYGiwZ8AAxIsBAF7EAv0=",
        "encoding": "base64",
        "path": [
         "model_matrix",
         "compressed_buffer"
        ]
       },
       {
        "data": "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",
        "encoding": "base64",
        "path": [
         "origins",
         "compressed_buffer"
        ]
       },
       {
        "data": "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",
        "encoding": "base64",
        "path": [
         "vectors",
         "compressed_buffer"
        ]
       }
      ],
      "model_module": "k3d",
      "model_module_version": "2.6.9",
      "model_name": "ObjectModel",
      "state": {
       "_view_count": null,
       "_view_module": null,
       "_view_module_version": "",
       "_view_name": null,
       "colors": {
        "dtype": "uint32",
        "shape": [
         0
        ]
       },
       "compression_level": 0,
       "head_color": 255,
       "head_size": 1,
       "id": 4667434600,
       "label_size": 1,
       "labels": [],
       "line_width": 0.01,
       "model_matrix": {
        "dtype": "float32",
        "shape": [
         4,
         4
        ]
       },
       "name": null,
       "origin_color": 255,
       "origins": {
        "dtype": "float32",
        "shape": [
         1008,
         3
        ]
       },
       "type": "Vectors",
       "use_head": true,
       "vectors": {
        "dtype": "float32",
        "shape": [
         1008,
         3
        ]
       },
       "visible": true
      }
     },
     "d7225d99f7b64d9d99724fb73cfda567": {
      "model_module": "k3d",
      "model_module_version": "2.6.9",
      "model_name": "PlotModel",
      "state": {
       "_backend_version": "2.6.9",
       "_dom_classes": [],
       "_view_count": null,
       "antialias": 3,
       "axes": [
        "x",
        "y",
        "z"
       ],
       "background_color": 16777215,
       "camera": [
        9.626071480411772,
        -14.50160721782369,
        0.9401071417454445,
        -0.02499999664723873,
        -0.02500000223517418,
        -0.025000005960464478,
        0,
        0,
        1
       ],
       "camera_auto_fit": true,
       "camera_no_pan": false,
       "camera_no_rotate": false,
       "camera_no_zoom": false,
       "clipping_planes": [],
       "colorbar_object_id": -1,
       "fps_meter": false,
       "grid": [
        -1,
        -1,
        -1,
        1,
        1,
        1
       ],
       "grid_auto_fit": true,
       "grid_visible": true,
       "height": 512,
       "layout": "IPY_MODEL_0e02af4a4f684ac088443e9ad074a348",
       "lighting": 1,
       "menu_visibility": true,
       "object_ids": [
        4641879488
       ],
       "rendering_steps": 1,
       "screenshot": "",
       "screenshot_scale": 2,
       "time": 0,
       "voxel_paint_color": 0
      }
     },
     "d891f534bf4a43b084a36ca11a3bcd99": {
      "model_module": "@jupyter-widgets/output",
      "model_module_version": "1.0.0",
      "model_name": "OutputModel",
      "state": {
       "layout": "IPY_MODEL_6af264ae1d784d2789182b81f8d91dc6",
       "outputs": [
        {
         "data": {
          "application/vnd.jupyter.widget-view+json": {
           "model_id": "f6af007348cf44dea43f1f0a13144e05",
           "version_major": 2,
           "version_minor": 0
          },
          "text/plain": "Plot(antialias=3, axes=['x', 'y', 'z'], background_color=16777215, camera=[4.5, 4.5, 4.5, 0.0, 0.0, 0.0, 1.0, …"
         },
         "metadata": {},
         "output_type": "display_data"
        }
       ]
      }
     },
     "d8ecfd4dd97b40a5a0aec9c813c69553": {
      "model_module": "k3d",
      "model_module_version": "2.6.9",
      "model_name": "PlotModel",
      "state": {
       "_backend_version": "2.6.9",
       "_dom_classes": [],
       "_view_count": null,
       "antialias": 3,
       "axes": [
        "x",
        "y",
        "z"
       ],
       "background_color": 16777215,
       "camera": [
        5.676886823516348,
        -8.515330235274524,
        0.5676886823516407,
        0,
        0,
        0,
        0,
        0,
        1
       ],
       "camera_auto_fit": true,
       "camera_no_pan": false,
       "camera_no_rotate": false,
       "camera_no_zoom": false,
       "clipping_planes": [],
       "colorbar_object_id": -1,
       "fps_meter": false,
       "grid": [
        -1,
        -1,
        -1,
        1,
        1,
        1
       ],
       "grid_auto_fit": true,
       "grid_visible": true,
       "height": 512,
       "layout": "IPY_MODEL_8c77ed539c154c738af4618394c8e459",
       "lighting": 1,
       "menu_visibility": true,
       "object_ids": [
        4667177448,
        4667178680
       ],
       "rendering_steps": 1,
       "screenshot": "",
       "screenshot_scale": 2,
       "time": 0,
       "voxel_paint_color": 0
      }
     },
     "db05bd024dc9434290422b3714f29d58": {
      "model_module": "@jupyter-widgets/output",
      "model_module_version": "1.0.0",
      "model_name": "OutputModel",
      "state": {
       "layout": "IPY_MODEL_85d9409039714597837ee271a819e3e0",
       "outputs": [
        {
         "data": {
          "application/vnd.jupyter.widget-view+json": {
           "model_id": "f481722617ab4edd9704a8b4853498f3",
           "version_major": 2,
           "version_minor": 0
          },
          "text/plain": "Plot(antialias=3, axes=['x', 'y', 'z'], background_color=16777215, camera=[4.5, 4.5, 4.5, 0.0, 0.0, 0.0, 1.0, …"
         },
         "metadata": {},
         "output_type": "display_data"
        }
       ]
      }
     },
     "db12d0bb7fdd48b8959654474eea2409": {
      "buffers": [
       {
        "data": "eNoLvljOEAzEhfucwLh9oTwY9zWog3FvogkYd7g5gLHkoxtgrHz/EBhb35wLxgmnEsC4ZYUSGPdVaoJxd6A1GDeYuIFxibIHGGdJQLDCs29gLPv0IxhLPnkOxjIPL4Cxzc3ZYFy91RCM+3L0wbjR1BWM82Q8wDhZwB2MY7ncwDiKHYJVn/9FwcrPf4MxzF7JJ0/BOBgaDjB/pgi6gzHMnHAWVzAOY3IB4xBGCKa1+bQOH2rHZzCJ6QkAgWfRNQ==",
        "encoding": "base64",
        "path": [
         "colors",
         "compressed_buffer"
        ]
       },
       {
        "data": "eNpjYGiwZ8AAxIsBAF7EAv0=",
        "encoding": "base64",
        "path": [
         "model_matrix",
         "compressed_buffer"
        ]
       },
       {
        "data": "eNpNk09IVHEQxy/JemlpKYJgqQVJimLVCiLxzXct2EIjCQoq7GASlrAIUmGCRAgFRdEindbFbA0vHYI6FPZmHktJoRIVuBczyv6c8lCUaRDNnJrTm8N3Zj7v9/1OJbcYLq/clfqaKVlqGQ3PP85KV/8L6Wr7+vTXuZt8+OGk1U1r13eS1aoJru/fA9NUcotBrKoI650Z38mdSESpK0My8KWWl1c+Ss2GvNzJr2EqlmT62w2p7X4dlp8ckOG6a/L5x8ZwYH6IP229anUQ23eMrFZNQNndMI32UvnUMKxXZ1Ks6h1spu6iYhTP2K5HvVkeTzVE6b4dcubVXj5yIhGtflYnU9ubuLF9QUZnt0lqMM0f2sdk4s1m+Z2Ms1RapdyXlO+xi+Hf1AgPHkpYHaziZrJaNdS8ZRdMo720qVSA9epMmizNwWbqLrp/L56xXcpAx9+nM8YwM31Q/6khko4c5/+0cqk7Eb09epb7T7foOyyIviPPP8jyyNKY6D/zz+eNfOlWm+hu1vcMLxQmeN3LaqsD/ZLVqqHLPfUwjfZSR3UB1qsz9X3mYDN1F528Hc/YLmWg5Gw6YwyOhxwPOR5yPOR4yPGQ4yHHQ46HHA85HnI85PyC8wvOLzi/4PyC8wvOLzi/4PyC8wvOLzi/4HILl1u43MLlFi63cLmFyy1cbuFyC5dbVP7fHdzdwd0d3N3B3R3c3eEfvcjK8g==",
        "encoding": "base64",
        "path": [
         "origins",
         "compressed_buffer"
        ]
       },
       {
        "data": "eNpNkz0vRFEQhqlEIwqNROIrUQilct6SRCOi8AcIEbuFkmyllIhtN7JUdEKoxJlCYgu7G+WqqPgBKxtEY+bmTPIWkzM3dz6ec96ZTqmMRYVUPi/0e3kSZ0Pr0px70K2VLXHb33x2P4VvMRoxnVJZI7d9eYvazbj01ZfUvoua/v+8egLPtVNndlYxenokE4dX+vFVF7e364b7KXyL0YjxnMj1HlHTemn0uttrYHdtWKYqr2n75RHTs/NSe+9X4yvu4rxWq+jrtX/GjtE7SGKndgd+xa33dO9+Ct//RYxzRK7fOWpaL41exqDB0G61MNgdEbNU/WtiY3VBzJK9HfKbJrsn8v2T9UPmSHY3ZNNshZ/5ipj8XkVu1qaoab00ehmDBgPxCPEI8QjxCPEI8YB4QDxCPEI8QjxCPEJ6CekF0gukF0gvkF4gvUB6gfQC6QXSC6SX0NyC5hY0t6C5Bc0taG5BcwuaW9Dcgua2eMe8O6C9A+0daO9AewfaO/wDaMzjfA==",
        "encoding": "base64",
        "path": [
         "vectors",
         "compressed_buffer"
        ]
       }
      ],
      "model_module": "k3d",
      "model_module_version": "2.6.9",
      "model_name": "ObjectModel",
      "state": {
       "_view_count": null,
       "_view_module": null,
       "_view_module_version": "",
       "_view_name": null,
       "colors": {
        "dtype": "uint32",
        "shape": [
         80,
         2
        ]
       },
       "compression_level": 0,
       "head_color": 255,
       "head_size": 1,
       "id": 4734587736,
       "label_size": 1,
       "labels": [],
       "line_width": 0.01,
       "model_matrix": {
        "dtype": "float32",
        "shape": [
         4,
         4
        ]
       },
       "name": null,
       "origin_color": 255,
       "origins": {
        "dtype": "float32",
        "shape": [
         80,
         3
        ]
       },
       "type": "Vectors",
       "use_head": true,
       "vectors": {
        "dtype": "float32",
        "shape": [
         80,
         3
        ]
       },
       "visible": true
      }
     },
     "df0da79849b94a5697cebf09d708360e": {
      "model_module": "@jupyter-widgets/base",
      "model_module_version": "1.2.0",
      "model_name": "LayoutModel",
      "state": {}
     },
     "e0c2073c915b44d19f2f0b88ed603979": {
      "model_module": "@jupyter-widgets/base",
      "model_module_version": "1.2.0",
      "model_name": "LayoutModel",
      "state": {}
     },
     "e40891c54b584f68bc30ae75ad50960d": {
      "model_module": "@jupyter-widgets/output",
      "model_module_version": "1.0.0",
      "model_name": "OutputModel",
      "state": {
       "layout": "IPY_MODEL_7b57cfd9f2f240978b9d982ed7585d50",
       "outputs": [
        {
         "data": {
          "application/vnd.jupyter.widget-view+json": {
           "model_id": "7bf7f7157d024441bd535bd271fe32f2",
           "version_major": 2,
           "version_minor": 0
          },
          "text/plain": "Plot(antialias=3, axes=['x', 'y', 'z'], background_color=16777215, camera=[4.5, 4.5, 4.5, 0.0, 0.0, 0.0, 1.0, …"
         },
         "metadata": {},
         "output_type": "display_data"
        }
       ]
      }
     },
     "e62dd51a3cd74cf8911faf34b373ddf2": {
      "model_module": "@jupyter-widgets/output",
      "model_module_version": "1.0.0",
      "model_name": "OutputModel",
      "state": {
       "layout": "IPY_MODEL_84a0097aa22143c28aba828e99bf7c3b",
       "outputs": [
        {
         "data": {
          "application/vnd.jupyter.widget-view+json": {
           "model_id": "0c2593598d204d6ca68779e5523d71a1",
           "version_major": 2,
           "version_minor": 0
          },
          "text/plain": "Plot(antialias=3, axes=['x', 'y', 'z'], background_color=16777215, camera=[4.5, 4.5, 4.5, 0.0, 0.0, 0.0, 1.0, …"
         },
         "metadata": {},
         "output_type": "display_data"
        }
       ]
      }
     },
     "e6f347bb74884871a63b40436caa331a": {
      "model_module": "@jupyter-widgets/output",
      "model_module_version": "1.0.0",
      "model_name": "OutputModel",
      "state": {
       "layout": "IPY_MODEL_ae53543043014afd9385f74f582eb4d4",
       "outputs": [
        {
         "data": {
          "application/vnd.jupyter.widget-view+json": {
           "model_id": "bd1f3995da3b4aa6b4660bbbd5b52b04",
           "version_major": 2,
           "version_minor": 0
          },
          "text/plain": "Plot(antialias=3, axes=['x', 'y', 'z'], background_color=16777215, camera=[4.5, 4.5, 4.5, 0.0, 0.0, 0.0, 1.0, …"
         },
         "metadata": {},
         "output_type": "display_data"
        }
       ]
      }
     },
     "e878ebae75fd43e38e2e53b3954de41c": {
      "buffers": [
       {
        "data": "eNot0vlP1gUcwPF3rVar1Wq14vR5Hh4eBOSSQy45fZ7v96spoRIiIqJAHCKH3Pf9cD7fLLMss8yyzLLM0sy01KJIo1BDEQUEfWBrba2ttbbW1sfVD6//4JV2l5X0u62su8fG+nttZN6nkHW/wsYHFLIfVMh5SGXzwyq5j6jkPaqS/5hKweMahU9oFD2pUeyiUeKmsc1do9RDo8xTo9ygUWHUqDRpVJk1qr01aiwatT4adb4a9X4aDf4qDQEqjYEqTUEqzcEqLSEKLaEKrWEKbeEK7RE22iNtdETZ6Iy20hljpStWxC2jO14kJGNPFEnJ9CQn0WNNoteWSK8i1AT6NLE8nr4V8fSvFKvi6E8RTy9lIFWsjmVgjVgbw2CaeCaawXSREcXgepEZiWODyFqCY6PIjsCxSeSE49gstoThyA1DzwtFzxfPLkYvEIWiKAS9WGwNRi8R24LQS0WZKA9Er7gjAH27qBRVi9CrRY0/eq2oE/V+6A2iUTT5ojeLloXoraJNtPugd/yv04LeJbqF3Ru9R/Sa0fvMOPrFgBeOQeEQugnHc2KHicHnxQvG/+wULxoY2CVeEi+L3Qb6XxGvij0L6HtN7BWvG+h9Q+wTbxrouWO/AftbRuxvG+k+YKL7HfGuF10Hveh8z0znIW863rfQ8YGF9sM+YiFtH/rS+pEfrUf8afk4gOajgTR9EkTTp8E0HltMw/FQ6o+HU/9ZBHUnIqn9PIqakzFUfxFL1ak4Kk8lsP10IhVfJlP+lZWyMwqlZ+Xj2RWUnFvJ1q9TKP4mlaKhNRQOpVHwbTr532WQN5xJ7nAWW77PJud8Dpsu5JJ9IZ+sHwrYMFJE5kgJGT+Wsu6nctJHK0kbrWbtxVpWX2wg9VITKZdbWXW5nad+7mL5mB1trA/lygC2KzrLru4g6epOEsd3ET++m6XX9hB7bS/RE/uInNjPkusHCL9+kNAbhwi5cZjgySMETh5l0dQx/KZO4Dt1Ep/p01imz2CePofp5hDGm8MYZs7jOTOCx8wo7rOXcJsdw3V2HNdbE7jcmhTTuNyexfW2U8zj5vwFd+eveDh/w9P5Owvm/sA49yemub8wz/+NZf4f/gXLh0p6",
        "encoding": "base64",
        "path": [
         "color_map",
         "compressed_buffer"
        ]
       },
       {
        "data": "eNpjYFBwZMAABxwwxRqwidkDAFK8AuE=",
        "encoding": "base64",
        "path": [
         "model_matrix",
         "compressed_buffer"
        ]
       },
       {
        "data": "eNrl1U1IKlEUB3ASxIVuDF1IMMvBFiJEDGGEUQlRNGGRKEkRFgNDKOZH4252Tn4kSgwMJVEYDkZJRhFYkUQSQwTiomGWA+FCyY0uRLDnU8R8qwePt/Lu7o/LOecPl3tx/N9XlmGyvXKWSKZSycTZD/IHQ+FIJBwK+rvmcthtVqvN7nD9OLhq0MOw3rDaW1EDQRr8P69iuVzsgdccxxcKPJd77cj51d0Tk+e4PPN0d3XetsPjWCKVzmTSqUTs+LBFxJ4/EIqQFEVGQgH/HvHbsF2X025FEQS12p2uXax1cGvDbIB1Wq0ONpg3ttr1VhZnJyEVCKqgydnFlU7nMTUIKBQAqB7rGVEulcr/Kly93rtn+WKlVqsUebYj6ee3D/6rWv3iP96e0y2iL67vs3m+VOLz2fvrC7pJJHV0Ek+mGZZl0sn4yRFF4riX8PmDYTIaj0fJcNDvI7w47sHcLocNtZhMFtTmcLkxD46jyOa6Sa+DlEpIpzetbyJos6BxeWFGowJkMkClmVlYNrYa6yZGh4FBsXgQGB6d0HUmVAJyiUgkkQPK3ixC4R9hS5X693e9UupKjvss1xqNWvmTy7Xl9uHlnStUG41qgXt/ebhtUoy+vHlkuFK9XuKYx5tLOoYfkFT0lE5l2EqFzaTo0yhFHngJwhfYj1BxholTkf2AjyC8HgxzO3esiAmCTIh1x+nGMM82iljWjLBWKZEotbBxzYKg27jZuDQ/BYEyoVAGQlPzS0Zzs/Hc9PgIqBALBGIFODI+PdeeUA0OSUUCgUg6BKq7SWQS4cCAUCLr57z9dp/78L3qk//oF5tnwC4=",
        "encoding": "base64",
        "path": [
         "voxels",
         "compressed_buffer"
        ]
       }
      ],
      "model_module": "k3d",
      "model_module_version": "2.6.9",
      "model_name": "ObjectModel",
      "state": {
       "_view_count": null,
       "_view_module": null,
       "_view_module_version": "",
       "_view_name": null,
       "color_map": {
        "dtype": "uint32",
        "shape": [
         256
        ]
       },
       "compression_level": 0,
       "id": 4641879768,
       "model_matrix": {
        "dtype": "float32",
        "shape": [
         4,
         4
        ]
       },
       "name": null,
       "opacity": 1,
       "outlines": false,
       "outlines_color": 0,
       "type": "Voxels",
       "visible": true,
       "voxels": {
        "dtype": "uint8",
        "shape": [
         8,
         12,
         20
        ]
       },
       "wireframe": false
      }
     },
     "eb34b14189ef4634a6b649b0cb4b0ff3": {
      "buffers": [
       {
        "data": "eNpLWKfOAAAD3AE2",
        "encoding": "base64",
        "path": [
         "color_map",
         "compressed_buffer"
        ]
       },
       {
        "data": "eNpjYFBwZMAABxwwxRqwidkDAFK8AuE=",
        "encoding": "base64",
        "path": [
         "model_matrix",
         "compressed_buffer"
        ]
       },
       {
        "data": "eNrllUEOACEMAjv//7R7XQGj0Vs5TqItWLXqXnxSMlFQ6Jhba2u8l9TQ/vgpMlDo2O5+KauDXNIRLb2ZnkHhDdvPJWYg3mo1aj7m5I3HOsigXAT+fnTz222eG75XTf6jAc5KA/E=",
        "encoding": "base64",
        "path": [
         "voxels",
         "compressed_buffer"
        ]
       }
      ],
      "model_module": "k3d",
      "model_module_version": "2.6.9",
      "model_name": "ObjectModel",
      "state": {
       "_view_count": null,
       "_view_module": null,
       "_view_module_version": "",
       "_view_name": null,
       "color_map": {
        "dtype": "uint32",
        "shape": []
       },
       "compression_level": 0,
       "id": 4511714888,
       "model_matrix": {
        "dtype": "float32",
        "shape": [
         4,
         4
        ]
       },
       "name": null,
       "opacity": 1,
       "outlines": false,
       "outlines_color": 0,
       "type": "Voxels",
       "visible": true,
       "voxels": {
        "dtype": "uint8",
        "shape": [
         8,
         12,
         20
        ]
       },
       "wireframe": false
      }
     },
     "efe85345247d43a4b72f4814853aba98": {
      "buffers": [
       {
        "data": "eNot0vlP1gUcwPF3rVar1Wq14vR5Hh4eBOSSQy45fZ7v96spoRIiIqJAHCKH3Pf9cD7fLLMss8yyzLLM0sy01KJIo1BDEQUEfWBrba2ttbbW1sfVD6//4JV2l5X0u62su8fG+nttZN6nkHW/wsYHFLIfVMh5SGXzwyq5j6jkPaqS/5hKweMahU9oFD2pUeyiUeKmsc1do9RDo8xTo9ygUWHUqDRpVJk1qr01aiwatT4adb4a9X4aDf4qDQEqjYEqTUEqzcEqLSEKLaEKrWEKbeEK7RE22iNtdETZ6Iy20hljpStWxC2jO14kJGNPFEnJ9CQn0WNNoteWSK8i1AT6NLE8nr4V8fSvFKvi6E8RTy9lIFWsjmVgjVgbw2CaeCaawXSREcXgepEZiWODyFqCY6PIjsCxSeSE49gstoThyA1DzwtFzxfPLkYvEIWiKAS9WGwNRi8R24LQS0WZKA9Er7gjAH27qBRVi9CrRY0/eq2oE/V+6A2iUTT5ojeLloXoraJNtPugd/yv04LeJbqF3Ru9R/Sa0fvMOPrFgBeOQeEQugnHc2KHicHnxQvG/+wULxoY2CVeEi+L3Qb6XxGvij0L6HtN7BWvG+h9Q+wTbxrouWO/AftbRuxvG+k+YKL7HfGuF10Hveh8z0znIW863rfQ8YGF9sM+YiFtH/rS+pEfrUf8afk4gOajgTR9EkTTp8E0HltMw/FQ6o+HU/9ZBHUnIqn9PIqakzFUfxFL1ak4Kk8lsP10IhVfJlP+lZWyMwqlZ+Xj2RWUnFvJ1q9TKP4mlaKhNRQOpVHwbTr532WQN5xJ7nAWW77PJud8Dpsu5JJ9IZ+sHwrYMFJE5kgJGT+Wsu6nctJHK0kbrWbtxVpWX2wg9VITKZdbWXW5nad+7mL5mB1trA/lygC2KzrLru4g6epOEsd3ET++m6XX9hB7bS/RE/uInNjPkusHCL9+kNAbhwi5cZjgySMETh5l0dQx/KZO4Dt1Ep/p01imz2CePofp5hDGm8MYZs7jOTOCx8wo7rOXcJsdw3V2HNdbE7jcmhTTuNyexfW2U8zj5vwFd+eveDh/w9P5Owvm/sA49yemub8wz/+NZf4f/gXLh0p6",
        "encoding": "base64",
        "path": [
         "color_map",
         "compressed_buffer"
        ]
       },
       {
        "data": "eNpjYFBwZMAABxwwxRjsMYUa7AFHpwJg",
        "encoding": "base64",
        "path": [
         "model_matrix",
         "compressed_buffer"
        ]
       },
       {
        "data": "eNpjYACBN19+////+8sbBji4eOvp+5///v18//TWRYjItr1Hz916/vXfv6/Pb507uncbUGjJinVb95269eb37ze3Tu3bum7FEoYp02bOXbRi08EbX77cOLhpxaK5M6dNae/o6OrpmzRz+alTy2dO6uvp6uhor6yoKCspykuPNDOLTM8rKimrqKjMyUpPjovws9fg4dGw94uIS07PymGIiQjydjJTE2FlFVEzc/IOiogBWuzlbG2kJsnNxMQtqWZk7ewFcaG+mrQgOxMTu6C0mj7CJyI8rIyMrDwiEB4A19heAQ==",
        "encoding": "base64",
        "path": [
         "voxels",
         "compressed_buffer"
        ]
       }
      ],
      "model_module": "k3d",
      "model_module_version": "2.6.9",
      "model_name": "ObjectModel",
      "state": {
       "_view_count": null,
       "_view_module": null,
       "_view_module_version": "",
       "_view_name": null,
       "color_map": {
        "dtype": "uint32",
        "shape": [
         256
        ]
       },
       "compression_level": 0,
       "id": 4641977512,
       "model_matrix": {
        "dtype": "float32",
        "shape": [
         4,
         4
        ]
       },
       "name": null,
       "opacity": 1,
       "outlines": false,
       "outlines_color": 0,
       "type": "Voxels",
       "visible": true,
       "voxels": {
        "dtype": "uint8",
        "shape": [
         1,
         12,
         20
        ]
       },
       "wireframe": false
      }
     },
     "f0af654f8d494c12988bdb97014deb75": {
      "model_module": "@jupyter-widgets/base",
      "model_module_version": "1.2.0",
      "model_name": "LayoutModel",
      "state": {}
     },
     "f2a58d25be5548e895063eb8a362e336": {
      "buffers": [
       {
        "data": "eNpLWKfOAAAD3AE2",
        "encoding": "base64",
        "path": [
         "color_map",
         "compressed_buffer"
        ]
       },
       {
        "data": "eNpjYFBwZMAABxwwxRqwidkDAFK8AuE=",
        "encoding": "base64",
        "path": [
         "model_matrix",
         "compressed_buffer"
        ]
       },
       {
        "data": "eNrllUEOACEMAjv//7R7XQGj0Vs5TqItWLXqXnxSMlFQ6Jhba2u8l9TQ/vgpMlDo2O5+KauDXNIRLb2ZnkHhDdvPJWYg3mo1aj7m5I3HOsigXAT+fnTz222eG75XTf6jAc5KA/E=",
        "encoding": "base64",
        "path": [
         "voxels",
         "compressed_buffer"
        ]
       }
      ],
      "model_module": "k3d",
      "model_module_version": "2.6.9",
      "model_name": "ObjectModel",
      "state": {
       "_view_count": null,
       "_view_module": null,
       "_view_module_version": "",
       "_view_name": null,
       "color_map": {
        "dtype": "uint32",
        "shape": []
       },
       "compression_level": 0,
       "id": 4634967008,
       "model_matrix": {
        "dtype": "float32",
        "shape": [
         4,
         4
        ]
       },
       "name": null,
       "opacity": 1,
       "outlines": false,
       "outlines_color": 0,
       "type": "Voxels",
       "visible": true,
       "voxels": {
        "dtype": "uint8",
        "shape": [
         8,
         12,
         20
        ]
       },
       "wireframe": false
      }
     },
     "f481722617ab4edd9704a8b4853498f3": {
      "model_module": "k3d",
      "model_module_version": "2.6.9",
      "model_name": "PlotModel",
      "state": {
       "_backend_version": "2.6.9",
       "_dom_classes": [],
       "_view_count": null,
       "antialias": 3,
       "axes": [
        "x",
        "y",
        "z"
       ],
       "background_color": 16777215,
       "camera": [
        5.676886823516348,
        -8.515330235274524,
        0.5676886823516407,
        0,
        0,
        0,
        0,
        0,
        1
       ],
       "camera_auto_fit": true,
       "camera_no_pan": false,
       "camera_no_rotate": false,
       "camera_no_zoom": false,
       "clipping_planes": [],
       "colorbar_object_id": -1,
       "fps_meter": false,
       "grid": [
        -1,
        -1,
        -1,
        1,
        1,
        1
       ],
       "grid_auto_fit": true,
       "grid_visible": true,
       "height": 512,
       "layout": "IPY_MODEL_e0c2073c915b44d19f2f0b88ed603979",
       "lighting": 1,
       "menu_visibility": true,
       "object_ids": [
        4667264416,
        4667413224
       ],
       "rendering_steps": 1,
       "screenshot": "",
       "screenshot_scale": 2,
       "time": 0,
       "voxel_paint_color": 0
      }
     },
     "f6af007348cf44dea43f1f0a13144e05": {
      "model_module": "k3d",
      "model_module_version": "2.6.9",
      "model_name": "PlotModel",
      "state": {
       "_backend_version": "2.6.9",
       "_dom_classes": [],
       "_view_count": null,
       "antialias": 3,
       "axes": [
        "x",
        "y",
        "z"
       ],
       "background_color": 16777215,
       "camera": [
        10.284874878907916,
        -15.489812315567907,
        1.0059874815950598,
        -0.02499999664723873,
        -0.02500000223517418,
        -0.025000005960464478,
        0,
        0,
        1
       ],
       "camera_auto_fit": true,
       "camera_no_pan": false,
       "camera_no_rotate": false,
       "camera_no_zoom": false,
       "clipping_planes": [],
       "colorbar_object_id": -1,
       "fps_meter": false,
       "grid": [
        -1,
        -1,
        -1,
        1,
        1,
        1
       ],
       "grid_auto_fit": true,
       "grid_visible": true,
       "height": 512,
       "layout": "IPY_MODEL_3d04520761e74d46943e93fcd6b18cc2",
       "lighting": 1,
       "menu_visibility": true,
       "object_ids": [
        4641879768
       ],
       "rendering_steps": 1,
       "screenshot": "",
       "screenshot_scale": 2,
       "time": 0,
       "voxel_paint_color": 0
      }
     },
     "f8d3a156dac94ede91c6fb6020e302d4": {
      "model_module": "k3d",
      "model_module_version": "2.6.9",
      "model_name": "PlotModel",
      "state": {
       "_backend_version": "2.6.9",
       "_dom_classes": [],
       "_view_count": null,
       "antialias": 3,
       "axes": [
        "x",
        "y",
        "z"
       ],
       "background_color": 16777215,
       "camera": [
        9.828951377057189,
        -14.743427065585788,
        0.9828951377057292,
        0,
        0,
        0,
        0,
        0,
        1
       ],
       "camera_auto_fit": true,
       "camera_no_pan": false,
       "camera_no_rotate": false,
       "camera_no_zoom": false,
       "clipping_planes": [],
       "colorbar_object_id": -1,
       "fps_meter": false,
       "grid": [
        -1,
        -1,
        -1,
        1,
        1,
        1
       ],
       "grid_auto_fit": true,
       "grid_visible": true,
       "height": 512,
       "layout": "IPY_MODEL_64526e63d03d46bdb6565761c7dafd0b",
       "lighting": 1,
       "menu_visibility": true,
       "object_ids": [
        4667434600,
        4667435104
       ],
       "rendering_steps": 1,
       "screenshot": "",
       "screenshot_scale": 2,
       "time": 0,
       "voxel_paint_color": 0
      }
     },
     "fa76f3ac4fa340cabb8ad10346888ce0": {
      "model_module": "k3d",
      "model_module_version": "2.6.9",
      "model_name": "PlotModel",
      "state": {
       "_backend_version": "2.6.9",
       "_dom_classes": [],
       "_view_count": null,
       "antialias": 3,
       "axes": [
        "x",
        "y",
        "z"
       ],
       "background_color": 16777215,
       "camera": [
        5.676886823516348,
        -8.515330235274524,
        0.5676886823516407,
        0,
        0,
        0,
        0,
        0,
        1
       ],
       "camera_auto_fit": true,
       "camera_no_pan": false,
       "camera_no_rotate": false,
       "camera_no_zoom": false,
       "clipping_planes": [],
       "colorbar_object_id": -1,
       "fps_meter": false,
       "grid": [
        -1,
        -1,
        -1,
        1,
        1,
        1
       ],
       "grid_auto_fit": true,
       "grid_visible": true,
       "height": 512,
       "layout": "IPY_MODEL_41fc5979ccec4808b258d57d5d7a6bf7",
       "lighting": 1,
       "menu_visibility": true,
       "object_ids": [
        4634788528,
        4634819944
       ],
       "rendering_steps": 1,
       "screenshot": "",
       "screenshot_scale": 2,
       "time": 0,
       "voxel_paint_color": 0
      }
     },
     "fca63c307e5a4683b158a7381200f4e8": {
      "buffers": [
       {
        "data": "eNot0vlP1gUcwPF3rVar1Wq14vR5Hh4eBOSSQy45fZ7v96spoRIiIqJAHCKH3Pf9cD7fLLMss8yyzLLM0sy01KJIo1BDEQUEfWBrba2ttbbW1sfVD6//4JV2l5X0u62su8fG+nttZN6nkHW/wsYHFLIfVMh5SGXzwyq5j6jkPaqS/5hKweMahU9oFD2pUeyiUeKmsc1do9RDo8xTo9ygUWHUqDRpVJk1qr01aiwatT4adb4a9X4aDf4qDQEqjYEqTUEqzcEqLSEKLaEKrWEKbeEK7RE22iNtdETZ6Iy20hljpStWxC2jO14kJGNPFEnJ9CQn0WNNoteWSK8i1AT6NLE8nr4V8fSvFKvi6E8RTy9lIFWsjmVgjVgbw2CaeCaawXSREcXgepEZiWODyFqCY6PIjsCxSeSE49gstoThyA1DzwtFzxfPLkYvEIWiKAS9WGwNRi8R24LQS0WZKA9Er7gjAH27qBRVi9CrRY0/eq2oE/V+6A2iUTT5ojeLloXoraJNtPugd/yv04LeJbqF3Ru9R/Sa0fvMOPrFgBeOQeEQugnHc2KHicHnxQvG/+wULxoY2CVeEi+L3Qb6XxGvij0L6HtN7BWvG+h9Q+wTbxrouWO/AftbRuxvG+k+YKL7HfGuF10Hveh8z0znIW863rfQ8YGF9sM+YiFtH/rS+pEfrUf8afk4gOajgTR9EkTTp8E0HltMw/FQ6o+HU/9ZBHUnIqn9PIqakzFUfxFL1ak4Kk8lsP10IhVfJlP+lZWyMwqlZ+Xj2RWUnFvJ1q9TKP4mlaKhNRQOpVHwbTr532WQN5xJ7nAWW77PJud8Dpsu5JJ9IZ+sHwrYMFJE5kgJGT+Wsu6nctJHK0kbrWbtxVpWX2wg9VITKZdbWXW5nad+7mL5mB1trA/lygC2KzrLru4g6epOEsd3ET++m6XX9hB7bS/RE/uInNjPkusHCL9+kNAbhwi5cZjgySMETh5l0dQx/KZO4Dt1Ep/p01imz2CePofp5hDGm8MYZs7jOTOCx8wo7rOXcJsdw3V2HNdbE7jcmhTTuNyexfW2U8zj5vwFd+eveDh/w9P5Owvm/sA49yemub8wz/+NZf4f/gXLh0p6",
        "encoding": "base64",
        "path": [
         "color_map",
         "compressed_buffer"
        ]
       },
       {
        "data": "eNpjYFBwZMAABxwwxRqwidkDAFK8AuE=",
        "encoding": "base64",
        "path": [
         "model_matrix",
         "compressed_buffer"
        ]
       },
       {
        "data": "eNrl1U1IKlEUB3ASxIVuDF1IMMvBFiJEDGGEUQlRNGGRKEkRFgNDKOZH4252Tn4kSgwMJVEYDkZJRhFYkUQSQwTiomGWA+FCyY0uRLDnU8R8qwePt/Lu7o/LOecPl3tx/N9XlmGyvXKWSKZSycTZD/IHQ+FIJBwK+rvmcthtVqvN7nD9OLhq0MOw3rDaW1EDQRr8P69iuVzsgdccxxcKPJd77cj51d0Tk+e4PPN0d3XetsPjWCKVzmTSqUTs+LBFxJ4/EIqQFEVGQgH/HvHbsF2X025FEQS12p2uXax1cGvDbIB1Wq0ONpg3ttr1VhZnJyEVCKqgydnFlU7nMTUIKBQAqB7rGVEulcr/Kly93rtn+WKlVqsUebYj6ee3D/6rWv3iP96e0y2iL67vs3m+VOLz2fvrC7pJJHV0Ek+mGZZl0sn4yRFF4riX8PmDYTIaj0fJcNDvI7w47sHcLocNtZhMFtTmcLkxD46jyOa6Sa+DlEpIpzetbyJos6BxeWFGowJkMkClmVlYNrYa6yZGh4FBsXgQGB6d0HUmVAJyiUgkkQPK3ixC4R9hS5X693e9UupKjvss1xqNWvmTy7Xl9uHlnStUG41qgXt/ebhtUoy+vHlkuFK9XuKYx5tLOoYfkFT0lE5l2EqFzaTo0yhFHngJwhfYj1BxholTkf2AjyC8HgxzO3esiAmCTIh1x+nGMM82iljWjLBWKZEotbBxzYKg27jZuDQ/BYEyoVAGQlPzS0Zzs/Hc9PgIqBALBGIFODI+PdeeUA0OSUUCgUg6BKq7SWQS4cCAUCLr57z9dp/78L3qk//oF5tnwC4=",
        "encoding": "base64",
        "path": [
         "voxels",
         "compressed_buffer"
        ]
       }
      ],
      "model_module": "k3d",
      "model_module_version": "2.6.9",
      "model_name": "ObjectModel",
      "state": {
       "_view_count": null,
       "_view_module": null,
       "_view_module_version": "",
       "_view_name": null,
       "color_map": {
        "dtype": "uint32",
        "shape": [
         256
        ]
       },
       "compression_level": 0,
       "id": 4610104008,
       "model_matrix": {
        "dtype": "float32",
        "shape": [
         4,
         4
        ]
       },
       "name": null,
       "opacity": 1,
       "outlines": false,
       "outlines_color": 0,
       "type": "Voxels",
       "visible": true,
       "voxels": {
        "dtype": "uint8",
        "shape": [
         8,
         12,
         20
        ]
       },
       "wireframe": false
      }
     },
     "fdfe5c3121754017b62aa421540168fb": {
      "model_module": "@jupyter-widgets/output",
      "model_module_version": "1.0.0",
      "model_name": "OutputModel",
      "state": {
       "layout": "IPY_MODEL_562d9de4b3c04495abd87a22776f5fa3",
       "outputs": [
        {
         "data": {
          "application/vnd.jupyter.widget-view+json": {
           "model_id": "71da6a4ba1e64ef28de10bfd7ce2ab0e",
           "version_major": 2,
           "version_minor": 0
          },
          "text/plain": "Plot(antialias=3, axes=['x', 'y', 'z'], background_color=16777215, camera=[4.5, 4.5, 4.5, 0.0, 0.0, 0.0, 1.0, …"
         },
         "metadata": {},
         "output_type": "display_data"
        }
       ]
      }
     },
     "feb75da534ca47588632d832729da78b": {
      "model_module": "@jupyter-widgets/controls",
      "model_module_version": "1.5.0",
      "model_name": "IntSliderModel",
      "state": {
       "layout": "IPY_MODEL_864da8b09b754905a780b18ae4fea40b",
       "style": "IPY_MODEL_8890543116c7466dba13cd9aeabd7535",
       "value": 32
      }
     },
     "feeefbcea3e2452e97219025f20d3376": {
      "buffers": [
       {
        "data": "eNoDAAAAAAE=",
        "encoding": "base64",
        "path": [
         "colors",
         "compressed_buffer"
        ]
       },
       {
        "data": "eNpjYGiwZ8AAxIsBAF7EAv0=",
        "encoding": "base64",
        "path": [
         "model_matrix",
         "compressed_buffer"
        ]
       },
       {
        "data": "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",
        "encoding": "base64",
        "path": [
         "positions",
         "compressed_buffer"
        ]
       }
      ],
      "model_module": "k3d",
      "model_module_version": "2.6.9",
      "model_name": "ObjectModel",
      "state": {
       "_view_count": null,
       "_view_module": null,
       "_view_module_version": "",
       "_view_name": null,
       "color": 10075135,
       "colors": {
        "dtype": "uint32",
        "shape": [
         0
        ]
       },
       "compression_level": 0,
       "id": 4667435104,
       "mesh_detail": 2,
       "model_matrix": {
        "dtype": "float32",
        "shape": [
         4,
         4
        ]
       },
       "name": null,
       "opacity": 1,
       "point_size": 0.1,
       "positions": {
        "dtype": "float32",
        "shape": [
         1008,
         3
        ]
       },
       "shader": "3dSpecular",
       "type": "Points",
       "visible": true
      }
     }
    },
    "version_major": 2,
    "version_minor": 0
   }
  }
 },
 "nbformat": 4,
 "nbformat_minor": 2
}
