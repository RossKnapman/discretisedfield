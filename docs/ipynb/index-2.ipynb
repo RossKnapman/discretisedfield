{
 "cells": [
  {
   "cell_type": "markdown",
   "metadata": {},
   "source": [
    "# General information\n",
    "\n",
    "## [Installation, testing, and update](installation-testing-update.ipynb)\n",
    "## [Support, License, How to cite, and Acknowledgements](other.ipynb)\n",
    "\n",
    "# Region\n",
    "\n",
    "## [Basics](region-basics.ipynb)\n",
    "## [Visualisation](region-visualisation.ipynb)\n",
    "\n",
    "# Mesh\n",
    "\n",
    "## [Basics](mesh-basics.ipynb)\n",
    "## [Visualisation](mesh-visualisation.ipynb)\n",
    "## [Line and plane](mesh-line-plane.ipynb)\n",
    "## [Subregions](mesh-subregions.ipynb)\n",
    "## [Widgets](mesh-widgets.ipynb)\n",
    "## [Padding](mesh-pad.ipynb)\n",
    "## [Boundary conditions](mesh-bc.ipynb)"
   ]
  }
 ],
 "metadata": {
  "kernelspec": {
   "display_name": "Python 3",
   "language": "python",
   "name": "python3"
  },
  "language_info": {
   "codemirror_mode": {
    "name": "ipython",
    "version": 3
   },
   "file_extension": ".py",
   "mimetype": "text/x-python",
   "name": "python",
   "nbconvert_exporter": "python",
   "pygments_lexer": "ipython3",
   "version": "3.8.5"
  }
 },
 "nbformat": 4,
 "nbformat_minor": 4
}
