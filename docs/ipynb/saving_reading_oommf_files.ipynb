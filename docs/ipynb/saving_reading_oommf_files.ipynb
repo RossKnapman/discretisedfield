{
 "cells": [
  {
   "cell_type": "markdown",
   "metadata": {},
   "source": [
    "# Tutorial: Manipulating OOMMF vector field files"
   ]
  },
  {
   "cell_type": "markdown",
   "metadata": {},
   "source": [
    "In this tutorial, reading and writing of OOMMF vector field files (omf and ohf) are demonstrated. As usual, we need to import the Field class, but this time also the read_oommf_file function."
   ]
  },
  {
   "cell_type": "code",
   "execution_count": 2,
   "metadata": {
    "collapsed": false
   },
   "outputs": [],
   "source": [
    "from discretisedfield import Mesh, Field, read_oommf_file"
   ]
  },
  {
   "cell_type": "markdown",
   "metadata": {},
   "source": [
    "We create a three-dimansional vector field with domain that spans between:\n",
    "\n",
    "- minimum coordinate $c_{1} = (0, 0, 0)$ and\n",
    "- maximum coordinate $c_{2} = (100 \\,\\text{nm}, 100 \\,\\text{nm}, 5 \\,\\text{nm})$,\n",
    "\n",
    "with discretisation $d = (5 \\,\\text{nm}, 5 \\,\\text{nm}, 5 \\,\\text{nm})$."
   ]
  },
  {
   "cell_type": "code",
   "execution_count": 3,
   "metadata": {
    "collapsed": true
   },
   "outputs": [],
   "source": [
    "c1 = (0, 0, 0)\n",
    "c2 = (100e-9, 100e-9, 5e-9)\n",
    "d = (5e-9, 5e-9, 5e-9)\n",
    "mesh = Mesh(c1, c2, d)\n",
    "dim = 3"
   ]
  },
  {
   "cell_type": "markdown",
   "metadata": {},
   "source": [
    "Now, we can create a vector field object and initialise it so that:\n",
    "\n",
    "$$f(x, y, z) = (x+1, x+y+2, z+3)$$"
   ]
  },
  {
   "cell_type": "code",
   "execution_count": 4,
   "metadata": {
    "collapsed": false
   },
   "outputs": [],
   "source": [
    "def m_init(pos):\n",
    "    x, y, z = pos\n",
    "    \n",
    "    return (x+1, x+y+2, z+2)\n",
    "\n",
    "field = Field(mesh, dim=dim, value=m_init)"
   ]
  },
  {
   "cell_type": "markdown",
   "metadata": {},
   "source": [
    "Please note, that in this case we provided a field value as a field argument, which internally calls a set method explained in other tutorials.\n",
    "\n",
    "If we plot the field, we get:"
   ]
  },
  {
   "cell_type": "code",
   "execution_count": 5,
   "metadata": {
    "collapsed": false
   },
   "outputs": [
    {
     "data": {
      "image/png": "[encoded data removed]",
      "text/plain": [
       "<matplotlib.figure.Figure at 0x10a5ec470>"
      ]
     },
     "metadata": {},
     "output_type": "display_data"
    }
   ],
   "source": [
    "#PYTEST_VALIDATE_IGNORE_OUTPUT\n",
    "%matplotlib inline\n",
    "fig = field.plot_slice('z', 2.5e-9, xsize=8)"
   ]
  },
  {
   "cell_type": "markdown",
   "metadata": {},
   "source": [
    "This vector field can now be saved in an OOMMF omf file, by using write_oommf_file method and providing a filename."
   ]
  },
  {
   "cell_type": "code",
   "execution_count": 6,
   "metadata": {
    "collapsed": true
   },
   "outputs": [],
   "source": [
    "filename = 'vector_field.omf'\n",
    "field.write_oommf_file(filename)"
   ]
  },
  {
   "cell_type": "markdown",
   "metadata": {},
   "source": [
    "We can now see that, the OOMMF file is saved:"
   ]
  },
  {
   "cell_type": "code",
   "execution_count": 7,
   "metadata": {
    "collapsed": false
   },
   "outputs": [
    {
     "name": "stdout",
     "output_type": "stream",
     "text": [
      "vector_field.omf\r\n"
     ]
    }
   ],
   "source": [
    "!ls *.omf"
   ]
  },
  {
   "cell_type": "markdown",
   "metadata": {},
   "source": [
    "Now when we have the OOMMF vector field file, we can read it, which will create a different Field object."
   ]
  },
  {
   "cell_type": "code",
   "execution_count": 8,
   "metadata": {
    "collapsed": true
   },
   "outputs": [],
   "source": [
    "field_read = read_oommf_file('vector_field.omf')"
   ]
  },
  {
   "cell_type": "markdown",
   "metadata": {},
   "source": [
    "As expected, two fields must have exactly the same values at all nodes:"
   ]
  },
  {
   "cell_type": "code",
   "execution_count": 9,
   "metadata": {
    "collapsed": false
   },
   "outputs": [
    {
     "data": {
      "text/plain": [
       "True"
      ]
     },
     "execution_count": 9,
     "metadata": {},
     "output_type": "execute_result"
    }
   ],
   "source": [
    "(field.f == field_read.f).all()"
   ]
  },
  {
   "cell_type": "markdown",
   "metadata": {},
   "source": [
    "Finally we can delete the OOMFF file used in this tutorial."
   ]
  },
  {
   "cell_type": "code",
   "execution_count": 10,
   "metadata": {
    "collapsed": true
   },
   "outputs": [],
   "source": [
    "!rm vector_field.omf"
   ]
  }
 ],
 "metadata": {
  "anaconda-cloud": {},
  "kernelspec": {
   "display_name": "Python [default]",
   "language": "python",
   "name": "python3"
  },
  "language_info": {
   "codemirror_mode": {
    "name": "ipython",
    "version": 3
   },
   "file_extension": ".py",
   "mimetype": "text/x-python",
   "name": "python",
   "nbconvert_exporter": "python",
   "pygments_lexer": "ipython3",
   "version": "3.5.2"
  }
 },
 "nbformat": 4,
 "nbformat_minor": 0
}
