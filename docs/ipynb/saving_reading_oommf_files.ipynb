{
 "cells": [
  {
   "cell_type": "markdown",
   "metadata": {},
   "source": [
    "# Tutorial: Manipulating OOMMF vector field files"
   ]
  },
  {
   "cell_type": "markdown",
   "metadata": {},
   "source": [
    "In this tutorial, reading and writing of OOMMF vector field files (omf and ohf) are demonstrated. As usual, we need to import the Field class, but this time also the read_oommf_file function."
   ]
  },
  {
   "cell_type": "code",
   "execution_count": 1,
   "metadata": {},
   "outputs": [],
   "source": [
    "from discretisedfield import Mesh, Field, read"
   ]
  },
  {
   "cell_type": "markdown",
   "metadata": {},
   "source": [
    "We create a three-dimansional vector field with domain that spans between:\n",
    "\n",
    "- minimum coordinate $c_{1} = (0, 0, 0)$ and\n",
    "- maximum coordinate $c_{2} = (100 \\,\\text{nm}, 100 \\,\\text{nm}, 5 \\,\\text{nm})$,\n",
    "\n",
    "with discretisation $d = (5 \\,\\text{nm}, 5 \\,\\text{nm}, 5 \\,\\text{nm})$."
   ]
  },
  {
   "cell_type": "code",
   "execution_count": 16,
   "metadata": {},
   "outputs": [],
   "source": [
    "c1 = (0, 0, 0)\n",
    "c2 = (2, 3, 4)\n",
    "d = (1, 1, 1)\n",
    "mesh = Mesh(c1, c2, d)\n",
    "dim = 3"
   ]
  },
  {
   "cell_type": "markdown",
   "metadata": {},
   "source": [
    "Now, we can create a vector field object and initialise it so that:\n",
    "\n",
    "$$f(x, y, z) = (x+1, x+y+2, z+3)$$"
   ]
  },
  {
   "cell_type": "code",
   "execution_count": 17,
   "metadata": {},
   "outputs": [],
   "source": [
    "def m_init(pos):\n",
    "    x, y, z = pos\n",
    "    \n",
    "    return (x+1, x+y+2)#, z+3)\n",
    "\n",
    "field = Field(mesh, dim=2, value=m_init)"
   ]
  },
  {
   "cell_type": "markdown",
   "metadata": {},
   "source": [
    "Please note, that in this case we provided a field value as a field argument, which internally calls a set method explained in other tutorials.\n",
    "\n",
    "If we plot the field, we get:"
   ]
  },
  {
   "cell_type": "code",
   "execution_count": 18,
   "metadata": {},
   "outputs": [],
   "source": [
    "#PYTEST_VALIDATE_IGNORE_OUTPUT\n",
    "%matplotlib inline\n",
    "#field.plot_plane(\"z\")"
   ]
  },
  {
   "cell_type": "markdown",
   "metadata": {},
   "source": [
    "This vector field can now be saved in an OOMMF omf file, by using write_oommf_file method and providing a filename."
   ]
  },
  {
   "cell_type": "code",
   "execution_count": 19,
   "metadata": {},
   "outputs": [],
   "source": [
    "filename = 'vector_field.omf'\n",
    "field.write(filename, representation=\"binary\")"
   ]
  },
  {
   "cell_type": "markdown",
   "metadata": {},
   "source": [
    "Now when we have the OOMMF vector field file, we can read it, which will create a different Field object."
   ]
  },
  {
   "cell_type": "code",
   "execution_count": 20,
   "metadata": {},
   "outputs": [],
   "source": [
    "d = read('vector_field.omf')"
   ]
  },
  {
   "cell_type": "code",
   "execution_count": 21,
   "metadata": {},
   "outputs": [
    {
     "data": {
      "text/plain": [
       "array([[1.5],\n",
       "       [3. ],\n",
       "       [2.5],\n",
       "       [4. ],\n",
       "       [1.5],\n",
       "       [4. ],\n",
       "       [2.5],\n",
       "       [5. ],\n",
       "       [1.5],\n",
       "       [5. ],\n",
       "       [2.5],\n",
       "       [6. ],\n",
       "       [1.5],\n",
       "       [3. ],\n",
       "       [2.5],\n",
       "       [4. ],\n",
       "       [1.5],\n",
       "       [4. ],\n",
       "       [2.5],\n",
       "       [5. ],\n",
       "       [1.5],\n",
       "       [5. ],\n",
       "       [2.5],\n",
       "       [6. ],\n",
       "       [1.5],\n",
       "       [3. ],\n",
       "       [2.5],\n",
       "       [4. ],\n",
       "       [1.5],\n",
       "       [4. ],\n",
       "       [2.5],\n",
       "       [5. ],\n",
       "       [1.5],\n",
       "       [5. ],\n",
       "       [2.5],\n",
       "       [6. ],\n",
       "       [1.5],\n",
       "       [3. ],\n",
       "       [2.5],\n",
       "       [4. ],\n",
       "       [1.5],\n",
       "       [4. ],\n",
       "       [2.5],\n",
       "       [5. ],\n",
       "       [1.5],\n",
       "       [5. ],\n",
       "       [2.5],\n",
       "       [6. ]])"
      ]
     },
     "execution_count": 21,
     "metadata": {},
     "output_type": "execute_result"
    }
   ],
   "source": [
    "d"
   ]
  },
  {
   "cell_type": "code",
   "execution_count": 22,
   "metadata": {},
   "outputs": [
    {
     "data": {
      "text/plain": [
       "(48, 1)"
      ]
     },
     "execution_count": 22,
     "metadata": {},
     "output_type": "execute_result"
    }
   ],
   "source": [
    "d.shape"
   ]
  },
  {
   "cell_type": "code",
   "execution_count": 23,
   "metadata": {},
   "outputs": [
    {
     "data": {
      "text/plain": [
       "array([[[[1.5, 3. ],\n",
       "         [1.5, 3. ],\n",
       "         [1.5, 3. ],\n",
       "         [1.5, 3. ]],\n",
       "\n",
       "        [[1.5, 4. ],\n",
       "         [1.5, 4. ],\n",
       "         [1.5, 4. ],\n",
       "         [1.5, 4. ]],\n",
       "\n",
       "        [[1.5, 5. ],\n",
       "         [1.5, 5. ],\n",
       "         [1.5, 5. ],\n",
       "         [1.5, 5. ]]],\n",
       "\n",
       "\n",
       "       [[[2.5, 4. ],\n",
       "         [2.5, 4. ],\n",
       "         [2.5, 4. ],\n",
       "         [2.5, 4. ]],\n",
       "\n",
       "        [[2.5, 5. ],\n",
       "         [2.5, 5. ],\n",
       "         [2.5, 5. ],\n",
       "         [2.5, 5. ]],\n",
       "\n",
       "        [[2.5, 6. ],\n",
       "         [2.5, 6. ],\n",
       "         [2.5, 6. ],\n",
       "         [2.5, 6. ]]]])"
      ]
     },
     "execution_count": 23,
     "metadata": {},
     "output_type": "execute_result"
    }
   ],
   "source": [
    "field.array"
   ]
  },
  {
   "cell_type": "code",
   "execution_count": 24,
   "metadata": {},
   "outputs": [
    {
     "data": {
      "text/plain": [
       "(4, 3, 2, 2)"
      ]
     },
     "execution_count": 24,
     "metadata": {},
     "output_type": "execute_result"
    }
   ],
   "source": [
    "n = field.mesh.n\n",
    "dim = field.dim\n",
    "tuple(reversed(n)) + (dim,)"
   ]
  },
  {
   "cell_type": "code",
   "execution_count": 26,
   "metadata": {},
   "outputs": [],
   "source": [
    "final = d.reshape(tuple(reversed(n)) + (dim,)).transpose(tuple(reversed(range(3))) + (3,))"
   ]
  },
  {
   "cell_type": "code",
   "execution_count": 27,
   "metadata": {},
   "outputs": [
    {
     "data": {
      "text/plain": [
       "True"
      ]
     },
     "execution_count": 27,
     "metadata": {},
     "output_type": "execute_result"
    }
   ],
   "source": [
    "import numpy as np\n",
    "np.array_equal(final, field.array)"
   ]
  },
  {
   "cell_type": "code",
   "execution_count": null,
   "metadata": {},
   "outputs": [],
   "source": []
  },
  {
   "cell_type": "code",
   "execution_count": 12,
   "metadata": {},
   "outputs": [
    {
     "data": {
      "text/plain": [
       "6400"
      ]
     },
     "execution_count": 12,
     "metadata": {},
     "output_type": "execute_result"
    }
   ],
   "source": [
    "2*80*20*2"
   ]
  },
  {
   "cell_type": "code",
   "execution_count": null,
   "metadata": {},
   "outputs": [],
   "source": []
  },
  {
   "cell_type": "code",
   "execution_count": null,
   "metadata": {},
   "outputs": [],
   "source": []
  },
  {
   "cell_type": "code",
   "execution_count": null,
   "metadata": {},
   "outputs": [],
   "source": []
  }
 ],
 "metadata": {
  "anaconda-cloud": {},
  "kernelspec": {
   "display_name": "Python 3",
   "language": "python",
   "name": "python3"
  },
  "language_info": {
   "codemirror_mode": {
    "name": "ipython",
    "version": 3
   },
   "file_extension": ".py",
   "mimetype": "text/x-python",
   "name": "python",
   "nbconvert_exporter": "python",
   "pygments_lexer": "ipython3",
   "version": "3.6.5"
  }
 },
 "nbformat": 4,
 "nbformat_minor": 1
}
