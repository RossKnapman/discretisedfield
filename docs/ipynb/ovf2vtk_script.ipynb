{
 "cells": [
  {
   "cell_type": "markdown",
   "metadata": {},
   "source": [
    "# Tutorial: How to use ovf2vtk"
   ]
  },
  {
   "cell_type": "markdown",
   "metadata": {},
   "source": [
    "In this tutorial we demonstrate how to use ovf2vtk.py scrit for convert ovf file to vkt. \n",
    "\n",
    "Information about the script and its options is available on command:\n",
    "\n",
    "```\n",
    "$ python ovf2vtk.py --help\n",
    "------------------------------------------------\n",
    "usage: ovf2vtk [-h] --infile INFILE [INFILE ...]\n",
    "               [--outfile OUTFILE [OUTFILE ...]]\n",
    "\n",
    "ovf2vtk -- data conversion from OOMMF`s omf/ovf file format to VTK.\n",
    "\n",
    "optional arguments:\n",
    "  -h, --help            show this help message and exit\n",
    "  --infile INFILE [INFILE ...]\n",
    "                        One or more input file\n",
    "  --outfile OUTFILE [OUTFILE ...]\n",
    "                        One or more output file, optional\n",
    "```"
   ]
  },
  {
   "cell_type": "markdown",
   "metadata": {},
   "source": [
    "## Use cases"
   ]
  },
  {
   "cell_type": "markdown",
   "metadata": {},
   "source": [
    "This script has three use cases. \n",
    "\n",
    "In all cases, specifying the output file or files is optional. If the names of the output files are missing, they will be the same as the input.\n",
    "\n",
    "For cases 2.2 and 3.2 the number of input and output files must match."
   ]
  },
  {
   "cell_type": "markdown",
   "metadata": {},
   "source": [
    "### One file"
   ]
  },
  {
   "cell_type": "markdown",
   "metadata": {},
   "source": [
    "1.1. One file\n",
    "```\n",
    "$ python ovf2vtk.py --infile m0.omf\n",
    "```\n",
    "\n",
    "1.2. One file with the name of the output file\n",
    "```\n",
    "$ python ovf2vtk.py --infile m0.omf --outfile m0.vtk\n",
    "```"
   ]
  },
  {
   "cell_type": "markdown",
   "metadata": {},
   "source": [
    "### List of files"
   ]
  },
  {
   "cell_type": "markdown",
   "metadata": {},
   "source": [
    "2.1. List of files\n",
    "```\n",
    "$ python ovf2vtk.py --infile m0.omf m1.omf m2.omf\n",
    "```\n",
    "\n",
    "2.2. List of files with the name of the output files\n",
    "```\n",
    "$ python ovf2vtk.py --infile m0.omf m1.omf m2.omf --outfile m0.vtk m1.vtk m2.vtk\n",
    "```"
   ]
  },
  {
   "cell_type": "markdown",
   "metadata": {},
   "source": [
    "### Wildcard"
   ]
  },
  {
   "cell_type": "markdown",
   "metadata": {},
   "source": [
    "3.1. Wildcard of files\n",
    "```\n",
    "$ python ovf2vtk.py --infile m*.omf\n",
    "```\n",
    "\n",
    "3.2. Wildcard of files with the name of the output files\n",
    "```\n",
    "$ python ovf2vtk.py --infile m*.omf --outfile m0.vtk m1.vtk m2.vtk\n",
    "```"
   ]
  }
 ],
 "metadata": {
  "kernelspec": {
   "display_name": "Python 3",
   "language": "python",
   "name": "python3"
  },
  "language_info": {
   "codemirror_mode": {
    "name": "ipython",
    "version": 3
   },
   "file_extension": ".py",
   "mimetype": "text/x-python",
   "name": "python",
   "nbconvert_exporter": "python",
   "pygments_lexer": "ipython3",
   "version": "3.6.3"
  }
 },
 "nbformat": 4,
 "nbformat_minor": 2
}
