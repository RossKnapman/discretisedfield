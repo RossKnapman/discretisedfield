{
 "cells": [
  {
   "cell_type": "markdown",
   "metadata": {},
   "source": [
    "# Mesh subregions\n",
    "\n",
    "Often we need to define subregions in the mesh. For instance, this can be if when we have two or more different materials in our mesh and it can make our life easier later when start defining fields and assigning different parameters to different subregions.\n",
    "\n",
    "As before, the region of the mesh we are going to use as an example is:\n",
    "\n",
    "$$\\mathbf{p}_{1} = (0, 0, 0)$$\n",
    "$$\\mathbf{p}_{2} = (l_{x}, l_{y}, l_{z})$$\n",
    "\n",
    "with $l_{x} = 100 \\,\\text{nm}$, $l_{y} = 50 \\,\\text{nm}$, and $l_{z} = 20 \\,\\text{nm}$, and we discretise it with cell $(5\\,\\text{nm}, 5\\,\\text{nm}, 5\\,\\text{nm})$.\n",
    "\n",
    "Subregions in the mesh are defined by passing `subregions` attribute. It is a Python dictionary, whose keys are the names of subregions, whereas the values are the subregion objects. Names of subregions must be valid Python variable name strings (no spaces, no dashes, etc.) and the subregions are the region objects we introduced already.\n",
    "\n",
    "As an example, let us say we have two subregions of the same size, stacked on top of each other in the z-direction. More precisely, points `p1` and `p2` of two subregions would be:\n",
    "\n",
    "**Subregion 1:**\n",
    "\n",
    "$\\mathbf{p}_{1} = (0, 0, 0)$\n",
    "\n",
    "$\\mathbf{p}_{2} = (l_{x}, l_{y}, l_{z}/2)$\n",
    "\n",
    "**Subregion 2:**\n",
    "\n",
    "$\\mathbf{p}_{1} = (0, 0, l_{z}/2)$\n",
    "\n",
    "$\\mathbf{p}_{2} = (l_{x}, l_{y}, l_{z})$\n",
    "\n",
    "Let us name our subregions 1 and 2 to be \"bottom_subregion\" and \"top_subregion\". Accordingly, subregions dictionary is:"
   ]
  },
  {
   "cell_type": "code",
   "execution_count": 1,
   "metadata": {},
   "outputs": [],
   "source": [
    "import discretisedfield as df\n",
    "\n",
    "lx, ly, lz = 100e-9, 50e-9, 20e-9\n",
    "\n",
    "subregions = {'bottom_region': df.Region(p1=(0, 0, 0), p2=(lx, ly, lz/2)),\n",
    "              'top_region': df.Region(p1=(0, 0, lz/2), p2=(lx, ly, lz))}"
   ]
  },
  {
   "cell_type": "markdown",
   "metadata": {},
   "source": [
    "Having the subregions dictionary, we can now pass it to our mesh:"
   ]
  },
  {
   "cell_type": "code",
   "execution_count": 2,
   "metadata": {},
   "outputs": [],
   "source": [
    "cell = (5e-9, 5e-9, 5e-9)\n",
    "\n",
    "region = df.Region(p1=(0, 0, 0), p2=(lx, ly, lz))\n",
    "mesh = df.Mesh(region=region, cell=cell, subregions=subregions)"
   ]
  },
  {
   "cell_type": "markdown",
   "metadata": {},
   "source": [
    "The mesh with two subregions is now defined. Please note that it is your responsibility that the subregions are well defined and \"make sense\". If they overlap or do not cover the entire mesh region, no errors or warnings will be raised. This gives a lot of freedom to users how they can define the subregions, but also some responisibilites.\n",
    "\n",
    "Regarding the mesh operations we can perform, all the ones we showed before are still there, but now we can use subregion-specific ones as well. We can ask for the mesh subregions:"
   ]
  },
  {
   "cell_type": "code",
   "execution_count": 3,
   "metadata": {},
   "outputs": [
    {
     "data": {
      "text/plain": [
       "{'bottom_region': Region(p1=(0.0, 0.0, 0.0), p2=(1e-07, 5e-08, 1e-08)),\n",
       " 'top_region': Region(p1=(0.0, 0.0, 1e-08), p2=(1e-07, 5e-08, 2e-08))}"
      ]
     },
     "execution_count": 3,
     "metadata": {},
     "output_type": "execute_result"
    }
   ],
   "source": [
    "mesh.subregions"
   ]
  },
  {
   "cell_type": "markdown",
   "metadata": {},
   "source": [
    "This is simply a dictionary we used at the mesh definition. From the mesh we can extract a subregion mesh, by \"indexing\" it with the subregion name."
   ]
  },
  {
   "cell_type": "code",
   "execution_count": 4,
   "metadata": {},
   "outputs": [
    {
     "data": {
      "text/plain": [
       "Mesh(region=Region(p1=(0.0, 0.0, 0.0), p2=(1e-07, 5e-08, 1e-08)), n=(20, 10, 2), bc='', subregions={})"
      ]
     },
     "execution_count": 4,
     "metadata": {},
     "output_type": "execute_result"
    }
   ],
   "source": [
    "mesh['bottom_region']"
   ]
  },
  {
   "cell_type": "markdown",
   "metadata": {},
   "source": [
    "This returns a mesh defined on a subregion and with the same cell size we used at the mesh definition. So, we expect that one half of the total number of cells belong to each subregion:"
   ]
  },
  {
   "cell_type": "code",
   "execution_count": 5,
   "metadata": {},
   "outputs": [
    {
     "data": {
      "text/plain": [
       "800"
      ]
     },
     "execution_count": 5,
     "metadata": {},
     "output_type": "execute_result"
    }
   ],
   "source": [
    "len(mesh)  # total number of cells"
   ]
  },
  {
   "cell_type": "code",
   "execution_count": 6,
   "metadata": {},
   "outputs": [
    {
     "data": {
      "text/plain": [
       "400"
      ]
     },
     "execution_count": 6,
     "metadata": {},
     "output_type": "execute_result"
    }
   ],
   "source": [
    "len(mesh['bottom_region'])  # number of cells in the bottom_region"
   ]
  },
  {
   "cell_type": "code",
   "execution_count": 7,
   "metadata": {},
   "outputs": [
    {
     "data": {
      "text/plain": [
       "400"
      ]
     },
     "execution_count": 7,
     "metadata": {},
     "output_type": "execute_result"
    }
   ],
   "source": [
    "len(mesh['bottom_region'])  # number of cells in the top_region"
   ]
  },
  {
   "cell_type": "markdown",
   "metadata": {},
   "source": [
    "The object indexing operator returns is a mesh and we can perform all the typical mesh operations on it. For example, let us say we want to get the centre point of the `bottom_region`. First we need to extract the subregion (`[]`), then access its region (`.region`) and finally ask for its centre point (`.centre`):"
   ]
  },
  {
   "cell_type": "code",
   "execution_count": 8,
   "metadata": {},
   "outputs": [
    {
     "data": {
      "text/plain": [
       "(5e-08, 2.5e-08, 5e-09)"
      ]
     },
     "execution_count": 8,
     "metadata": {},
     "output_type": "execute_result"
    }
   ],
   "source": [
    "mesh['bottom_region'].region.centre"
   ]
  },
  {
   "cell_type": "markdown",
   "metadata": {},
   "source": [
    "### Mesh subregions visualisation"
   ]
  },
  {
   "cell_type": "code",
   "execution_count": null,
   "metadata": {},
   "outputs": [],
   "source": []
  },
  {
   "cell_type": "code",
   "execution_count": null,
   "metadata": {},
   "outputs": [],
   "source": []
  },
  {
   "cell_type": "markdown",
   "metadata": {},
   "source": [
    "The mesh is defined. Based on the region dimensions and the number of discretisation cells, we can ask the mesh to give us the size of a single discretisation cell:"
   ]
  },
  {
   "cell_type": "code",
   "execution_count": 27,
   "metadata": {},
   "outputs": [
    {
     "data": {
      "text/plain": [
       "(2e-08, 2.5e-08, 2e-08)"
      ]
     },
     "execution_count": 27,
     "metadata": {},
     "output_type": "execute_result"
    }
   ],
   "source": [
    "mesh.cell"
   ]
  },
  {
   "cell_type": "markdown",
   "metadata": {},
   "source": [
    "Knowing this value, we could have defined the mesh passing this value using `cell` argument, and we would have got exactly the same mesh."
   ]
  },
  {
   "cell_type": "code",
   "execution_count": 28,
   "metadata": {},
   "outputs": [],
   "source": [
    "cell = (20e-9, 25e-9, 20e-9)\n",
    "\n",
    "mesh = df.Mesh(region=region, cell=cell)"
   ]
  },
  {
   "cell_type": "markdown",
   "metadata": {},
   "source": [
    "If we now ask our new mesh about the number of discretisation cells:"
   ]
  },
  {
   "cell_type": "code",
   "execution_count": 29,
   "metadata": {},
   "outputs": [
    {
     "data": {
      "text/plain": [
       "(5, 2, 1)"
      ]
     },
     "execution_count": 29,
     "metadata": {},
     "output_type": "execute_result"
    }
   ],
   "source": [
    "mesh.n"
   ]
  },
  {
   "cell_type": "markdown",
   "metadata": {},
   "source": [
    "There is no difference whatsoever how we are going to define the mesh. However, defining the mesh with `cell` can result in an error, if the region cannot be divided into chunks of that size. For instance:"
   ]
  },
  {
   "cell_type": "code",
   "execution_count": 30,
   "metadata": {},
   "outputs": [
    {
     "name": "stdout",
     "output_type": "stream",
     "text": [
      "Exception raised.\n"
     ]
    }
   ],
   "source": [
    "try:\n",
    "    mesh = df.Mesh(region=region, cell=(3e-9, 3e-9, 3e-9))\n",
    "except ValueError:\n",
    "    print('Exception raised.')"
   ]
  },
  {
   "cell_type": "markdown",
   "metadata": {},
   "source": [
    "Let us now have a look at some basic properties we can ask the mesh object for. First of all, region object is a part of the mesh object:"
   ]
  },
  {
   "cell_type": "code",
   "execution_count": 31,
   "metadata": {},
   "outputs": [
    {
     "data": {
      "text/plain": [
       "Region(p1=(0.0, 0.0, 0.0), p2=(1e-07, 5e-08, 2e-08))"
      ]
     },
     "execution_count": 31,
     "metadata": {},
     "output_type": "execute_result"
    }
   ],
   "source": [
    "mesh.region"
   ]
  },
  {
   "cell_type": "markdown",
   "metadata": {},
   "source": [
    "Therefore, we can perform all the operations on the region we saw previously, but now through the mesh object (`mesh.region`). For instance: "
   ]
  },
  {
   "cell_type": "code",
   "execution_count": 32,
   "metadata": {},
   "outputs": [
    {
     "data": {
      "text/plain": [
       "(0.0, 0.0, 0.0)"
      ]
     },
     "execution_count": 32,
     "metadata": {},
     "output_type": "execute_result"
    }
   ],
   "source": [
    "mesh.region.pmin  # minimum point"
   ]
  },
  {
   "cell_type": "code",
   "execution_count": 33,
   "metadata": {},
   "outputs": [
    {
     "data": {
      "text/plain": [
       "(1e-07, 5e-08, 2e-08)"
      ]
     },
     "execution_count": 33,
     "metadata": {},
     "output_type": "execute_result"
    }
   ],
   "source": [
    "mesh.region.edges  # edge lenghts"
   ]
  },
  {
   "cell_type": "code",
   "execution_count": 34,
   "metadata": {},
   "outputs": [
    {
     "data": {
      "text/plain": [
       "(5e-08, 2.5e-08, 1e-08)"
      ]
     },
     "execution_count": 34,
     "metadata": {},
     "output_type": "execute_result"
    }
   ],
   "source": [
    "mesh.region.centre  # centre point"
   ]
  },
  {
   "cell_type": "markdown",
   "metadata": {},
   "source": [
    "By asking the mesh object directly, we can get the number of discretisation cells in all three directions $n = (n_{x}, n_{y}, n_{z})$:"
   ]
  },
  {
   "cell_type": "code",
   "execution_count": 35,
   "metadata": {},
   "outputs": [
    {
     "data": {
      "text/plain": [
       "(5, 2, 1)"
      ]
     },
     "execution_count": 35,
     "metadata": {},
     "output_type": "execute_result"
    }
   ],
   "source": [
    "mesh.n"
   ]
  },
  {
   "cell_type": "markdown",
   "metadata": {},
   "source": [
    "and the size of a single discretisation cell:"
   ]
  },
  {
   "cell_type": "code",
   "execution_count": 36,
   "metadata": {},
   "outputs": [
    {
     "data": {
      "text/plain": [
       "(2e-08, 2.5e-08, 2e-08)"
      ]
     },
     "execution_count": 36,
     "metadata": {},
     "output_type": "execute_result"
    }
   ],
   "source": [
    "mesh.cell"
   ]
  },
  {
   "cell_type": "markdown",
   "metadata": {},
   "source": [
    "The total number of discretisation cells is:"
   ]
  },
  {
   "cell_type": "code",
   "execution_count": 37,
   "metadata": {},
   "outputs": [
    {
     "data": {
      "text/plain": [
       "10"
      ]
     },
     "execution_count": 37,
     "metadata": {},
     "output_type": "execute_result"
    }
   ],
   "source": [
    "len(mesh)"
   ]
  },
  {
   "cell_type": "markdown",
   "metadata": {},
   "source": [
    "This number is simply $n_{x}n_{y}n_{z}$. We can conclude that the entire region is now divided into 100 small cubes (discretisation cells). Each cell in the mesh has its index and its coordinate. We can get indices of all discretisation cells:"
   ]
  },
  {
   "cell_type": "code",
   "execution_count": 38,
   "metadata": {},
   "outputs": [
    {
     "data": {
      "text/plain": [
       "<generator object Mesh.indices at 0x7fe797503120>"
      ]
     },
     "execution_count": 38,
     "metadata": {},
     "output_type": "execute_result"
    }
   ],
   "source": [
    "mesh.indices"
   ]
  },
  {
   "cell_type": "markdown",
   "metadata": {},
   "source": [
    "This gives us a generator object we can use as an iterable in different Pyhton contexts. For instance, we can give it to the `list`."
   ]
  },
  {
   "cell_type": "code",
   "execution_count": 39,
   "metadata": {},
   "outputs": [
    {
     "data": {
      "text/plain": [
       "[(0, 0, 0),\n",
       " (1, 0, 0),\n",
       " (2, 0, 0),\n",
       " (3, 0, 0),\n",
       " (4, 0, 0),\n",
       " (0, 1, 0),\n",
       " (1, 1, 0),\n",
       " (2, 1, 0),\n",
       " (3, 1, 0),\n",
       " (4, 1, 0)]"
      ]
     },
     "execution_count": 39,
     "metadata": {},
     "output_type": "execute_result"
    }
   ],
   "source": [
    "list(mesh.indices)"
   ]
  },
  {
   "cell_type": "markdown",
   "metadata": {},
   "source": [
    "List function now \"unpacks\" the generator and gives us a list of tuples. Each tuple has three unsigned integers. For instance, we can interpret index `(2, 1, 0)` as an index which belongs to the third cell in the x-direction, second in the y, and the first in the z direction. Please note that indexing in Python starts from 0. Therefore, we say that the \"fifth element\" has index 4.\n",
    "\n",
    "Another thing we can associate to every discretisation cell is its coordinate. The coordinate of the cell is the coordinate of its centre point. So, the coordinate of index `(2, 1, 0)` cell is:"
   ]
  },
  {
   "cell_type": "code",
   "execution_count": 41,
   "metadata": {},
   "outputs": [
    {
     "data": {
      "text/plain": [
       "(5e-08, 3.75e-08, 1e-08)"
      ]
     },
     "execution_count": 41,
     "metadata": {},
     "output_type": "execute_result"
    }
   ],
   "source": [
    "index = (2, 1, 0)\n",
    "\n",
    "mesh.index2point(index)"
   ]
  },
  {
   "cell_type": "markdown",
   "metadata": {},
   "source": [
    "It is very often the case we need to iterate through all discretisation cells and use their coordinates. For that, we can use the mesh object itself, which is also an iterable:"
   ]
  },
  {
   "cell_type": "code",
   "execution_count": 42,
   "metadata": {},
   "outputs": [
    {
     "data": {
      "text/plain": [
       "[(1e-08, 1.25e-08, 1e-08),\n",
       " (3.0000000000000004e-08, 1.25e-08, 1e-08),\n",
       " (5e-08, 1.25e-08, 1e-08),\n",
       " (7e-08, 1.25e-08, 1e-08),\n",
       " (9e-08, 1.25e-08, 1e-08),\n",
       " (1e-08, 3.75e-08, 1e-08),\n",
       " (3.0000000000000004e-08, 3.75e-08, 1e-08),\n",
       " (5e-08, 3.75e-08, 1e-08),\n",
       " (7e-08, 3.75e-08, 1e-08),\n",
       " (9e-08, 3.75e-08, 1e-08)]"
      ]
     },
     "execution_count": 42,
     "metadata": {},
     "output_type": "execute_result"
    }
   ],
   "source": [
    "list(mesh)"
   ]
  },
  {
   "cell_type": "markdown",
   "metadata": {},
   "source": [
    "Since mesh object is an iterator itself, we can use it, for example, in for loops:"
   ]
  },
  {
   "cell_type": "code",
   "execution_count": 43,
   "metadata": {},
   "outputs": [
    {
     "name": "stdout",
     "output_type": "stream",
     "text": [
      "(1e-08, 1.25e-08, 1e-08)\n",
      "(3.0000000000000004e-08, 1.25e-08, 1e-08)\n",
      "(5e-08, 1.25e-08, 1e-08)\n",
      "(7e-08, 1.25e-08, 1e-08)\n",
      "(9e-08, 1.25e-08, 1e-08)\n",
      "(1e-08, 3.75e-08, 1e-08)\n",
      "(3.0000000000000004e-08, 3.75e-08, 1e-08)\n",
      "(5e-08, 3.75e-08, 1e-08)\n",
      "(7e-08, 3.75e-08, 1e-08)\n",
      "(9e-08, 3.75e-08, 1e-08)\n"
     ]
    }
   ],
   "source": [
    "for point in mesh:\n",
    "    print(point)"
   ]
  },
  {
   "cell_type": "markdown",
   "metadata": {},
   "source": [
    "A function, which is opposite to `index2point`, is `point2index`. This function takes any point in the region and returns the index of a cell it belongs to:"
   ]
  },
  {
   "cell_type": "code",
   "execution_count": 46,
   "metadata": {},
   "outputs": [
    {
     "data": {
      "text/plain": [
       "(2, 1, 0)"
      ]
     },
     "execution_count": 46,
     "metadata": {},
     "output_type": "execute_result"
    }
   ],
   "source": [
    "point = (41.6e-9, 35.2e-9, 4.71e-9)\n",
    "\n",
    "mesh.point2index(point)"
   ]
  },
  {
   "cell_type": "markdown",
   "metadata": {},
   "source": [
    "We can compare meshes using `==` and `!=` relational operators. Let us define two meshes and compare them to the one we have already defined:"
   ]
  },
  {
   "cell_type": "code",
   "execution_count": 52,
   "metadata": {},
   "outputs": [
    {
     "data": {
      "text/plain": [
       "True"
      ]
     },
     "execution_count": 52,
     "metadata": {},
     "output_type": "execute_result"
    }
   ],
   "source": [
    "mesh_same = df.Mesh(region=region, n=(5, 2, 1))\n",
    "mesh_different = df.Mesh(region=region, n=(10, 5, 7))\n",
    "\n",
    "mesh == mesh_same"
   ]
  },
  {
   "cell_type": "code",
   "execution_count": 50,
   "metadata": {},
   "outputs": [
    {
     "data": {
      "text/plain": [
       "False"
      ]
     },
     "execution_count": 50,
     "metadata": {},
     "output_type": "execute_result"
    }
   ],
   "source": [
    "mesh == mesh_different"
   ]
  },
  {
   "cell_type": "code",
   "execution_count": 53,
   "metadata": {},
   "outputs": [
    {
     "data": {
      "text/plain": [
       "True"
      ]
     },
     "execution_count": 53,
     "metadata": {},
     "output_type": "execute_result"
    }
   ],
   "source": [
    "mesh != mesh_different"
   ]
  },
  {
   "cell_type": "markdown",
   "metadata": {},
   "source": [
    "Finally, mesh has its representation string:"
   ]
  },
  {
   "cell_type": "code",
   "execution_count": 54,
   "metadata": {},
   "outputs": [
    {
     "data": {
      "text/plain": [
       "Mesh(region=Region(p1=(0.0, 0.0, 0.0), p2=(1e-07, 5e-08, 2e-08)), n=(5, 2, 1), bc='', subregions={})"
      ]
     },
     "execution_count": 54,
     "metadata": {},
     "output_type": "execute_result"
    }
   ],
   "source": [
    "mesh"
   ]
  },
  {
   "cell_type": "markdown",
   "metadata": {},
   "source": [
    "In the representation string, we see `p1`, `p2`, and `n` we discussed earlier, but there are also `bc` and `subregions` we did not and we will look at some more advanced mesh properties in the next tutorials."
   ]
  }
 ],
 "metadata": {
  "kernelspec": {
   "display_name": "Python 3",
   "language": "python",
   "name": "python3"
  },
  "language_info": {
   "codemirror_mode": {
    "name": "ipython",
    "version": 3
   },
   "file_extension": ".py",
   "mimetype": "text/x-python",
   "name": "python",
   "nbconvert_exporter": "python",
   "pygments_lexer": "ipython3",
   "version": "3.8.3"
  }
 },
 "nbformat": 4,
 "nbformat_minor": 4
}
