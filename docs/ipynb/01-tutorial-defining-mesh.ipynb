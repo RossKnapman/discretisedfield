{
 "cells": [
  {
   "cell_type": "markdown",
   "metadata": {},
   "source": [
    "# Tutorial 1: Defining a finite difference mesh\n",
    "\n",
    "A finite difference mesh can be defined using `discretisedfield.Mesh` class. The mesh is defined by passing two points `p1` and `p2` between which the mesh domain spans. Both points should be specified as \"array-like\" (`tuple`, `list`, `numpy.ndarray`) of length 3. "
   ]
  },
  {
   "cell_type": "code",
   "execution_count": null,
   "metadata": {},
   "outputs": [],
   "source": [
    "p1 = (0, 0, 0)\n",
    "p2 = (5, 5, 5)"
   ]
  },
  {
   "cell_type": "markdown",
   "metadata": {},
   "source": [
    "Another parameter, that must be defined for a finite difference mesh, is its discrtisation. This can be done either by passing `cell` or `n` parameter. `cell` parameter defines the size of a single discretisation cell, whereas `n` defines the number of discretisation cells in all three dimensions. Both `cell` and `n` are \"array-like\" of length 3. Only one of these two discretisation parameters should be passed - not both."
   ]
  },
  {
   "cell_type": "code",
   "execution_count": null,
   "metadata": {},
   "outputs": [],
   "source": [
    "cell = (1, 1, 1)\n",
    "n = (5, 5, 5)"
   ]
  },
  {
   "cell_type": "markdown",
   "metadata": {},
   "source": [
    "Finally, a name can be given to a mesh as a string. The string must be a valid Python variable name. If no name is passed, default name `\"mesh\"` is used."
   ]
  },
  {
   "cell_type": "code",
   "execution_count": null,
   "metadata": {},
   "outputs": [],
   "source": [
    "name = 'my_mesh'"
   ]
  },
  {
   "cell_type": "markdown",
   "metadata": {},
   "source": [
    "Now, a mesh object can be created"
   ]
  },
  {
   "cell_type": "code",
   "execution_count": 4,
   "metadata": {},
   "outputs": [],
   "source": [
    "import discretisedfield as df\n",
    "\n",
    "mesh = df.Mesh(p1=p1, p2=p2, cell=cell, name=name)"
   ]
  },
  {
   "cell_type": "markdown",
   "metadata": {},
   "source": [
    "Alternatively, we could have created an identical mesh by passing `n=(5, 5, 5)` instead of `cell=(1, 1, 1)`"
   ]
  },
  {
   "cell_type": "code",
   "execution_count": 5,
   "metadata": {},
   "outputs": [],
   "source": [
    "mesh = df.Mesh(p1=p1, p2=p2, n=n, name=name)"
   ]
  },
  {
   "cell_type": "markdown",
   "metadata": {},
   "source": [
    "If we attempt to pass both `cell` and `n`, an exception would be raised"
   ]
  },
  {
   "cell_type": "code",
   "execution_count": 6,
   "metadata": {},
   "outputs": [
    {
     "name": "stdout",
     "output_type": "stream",
     "text": [
      "Exception raised.\n"
     ]
    }
   ],
   "source": [
    "try:\n",
    "    mesh = df.Mesh(p1=p1, p2=p2, cell=cell, n=n, name=name)\n",
    "except ValueError:\n",
    "    print('Exception raised.')"
   ]
  },
  {
   "cell_type": "markdown",
   "metadata": {},
   "source": [
    "### Periodic boundary conditions\n",
    "\n",
    "Periodic boundary conditions can be defined by passing `pbc` argument at the mesh definition. Its value must be an iterable whose elements are from the `['x', 'y', 'z']` list of strings."
   ]
  },
  {
   "cell_type": "code",
   "execution_count": 7,
   "metadata": {},
   "outputs": [],
   "source": [
    "mesh = df.Mesh(p1=p1, p2=p2, cell=cell, pbc='xy', name=name)"
   ]
  },
  {
   "cell_type": "markdown",
   "metadata": {},
   "source": [
    "Alternatively, `['x', 'y']`, `('x', 'y')`, or `{'x', 'y'}` could be passed for periodic boundary conditions in x and y directions.\n",
    "\n",
    "### Wrong mesh definitions\n",
    "\n",
    "There are several cases when an exception will be raised because a mesh is not defined well:\n",
    "\n",
    "1. Finite difference meshes we work with are three-dimensional. This means that by defining `p1` and `p2`, all edge lengths of the mesh domain must be non-zero."
   ]
  },
  {
   "cell_type": "code",
   "execution_count": 8,
   "metadata": {},
   "outputs": [
    {
     "name": "stdout",
     "output_type": "stream",
     "text": [
      "Exception raised.\n"
     ]
    }
   ],
   "source": [
    "p1 = (-5, 5, 10)\n",
    "p2 = (5, 5, 20)\n",
    "n = (10, 1, 10)\n",
    "\n",
    "try:\n",
    "    mesh = df.Mesh(p1=p1, p2=p2, n=n)  # mesh domain edge length in y-direction is 0\n",
    "except ValueError:\n",
    "    print('Exception raised.')"
   ]
  },
  {
   "cell_type": "markdown",
   "metadata": {},
   "source": [
    "2. Mesh domain must be an aggregate of a discretisation cell. If `cell` parameter is passed, the mesh domain defined by `p1` and `p2` must be exactly filled with discretisation cells."
   ]
  },
  {
   "cell_type": "code",
   "execution_count": 9,
   "metadata": {},
   "outputs": [
    {
     "name": "stdout",
     "output_type": "stream",
     "text": [
      "Exception raised.\n"
     ]
    }
   ],
   "source": [
    "p1 = (0, 0, 0)\n",
    "p2 = (10e-9, 10e-9, 10e-9)\n",
    "cell = (1e-9, 1e-9, 3e-9)\n",
    "\n",
    "try:\n",
    "    mesh = df.Mesh(p1=p1, p2=p2, cell=cell)  # z-dimension of 10 nm cannot be discretised with 3 nm cell\n",
    "except ValueError:\n",
    "    print('Exception raised.')"
   ]
  },
  {
   "cell_type": "markdown",
   "metadata": {},
   "source": [
    "### Other\n",
    "\n",
    "Full description of all existing descriptors can be found in the [API Reference](https://discretisedfield.readthedocs.io/en/latest/api-reference.html)."
   ]
  }
 ],
 "metadata": {
  "kernelspec": {
   "display_name": "Python 3",
   "language": "python",
   "name": "python3"
  },
  "language_info": {
   "codemirror_mode": {
    "name": "ipython",
    "version": 3
   },
   "file_extension": ".py",
   "mimetype": "text/x-python",
   "name": "python",
   "nbconvert_exporter": "python",
   "pygments_lexer": "ipython3",
   "version": "3.7.3"
  }
 },
 "nbformat": 4,
 "nbformat_minor": 4
}
