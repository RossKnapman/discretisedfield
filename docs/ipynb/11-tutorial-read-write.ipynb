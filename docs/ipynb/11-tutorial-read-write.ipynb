{
 "cells": [
  {
   "cell_type": "markdown",
   "metadata": {},
   "source": [
    "# Tutorial 11: Reading and writing fields\n",
    "\n",
    "> Interactive online tutorial:\n",
    "> [![Binder](https://mybinder.org/badge_logo.svg)](https://mybinder.org/v2/gh/ubermag/discretisedfield/master?filepath=docs%2Fipynb%2Findex.ipynb)\n",
    "\n",
    "There are two main file formats to which a `discretisedfield.Field` object can be saved:\n",
    "\n",
    "- [VTK](https://vtk.org/) for visualisation using e.g., [ParaView](https://www.paraview.org/) or [Mayavi](https://docs.enthought.com/mayavi/mayavi/)\n",
    "- OOMMF [Vector Field File Format (OVF)](https://math.nist.gov/oommf/doc/userguide12a5/userguide/Vector_Field_File_Format_OV.html) for exchanging fields with micromagnetic simulators.\n",
    "\n",
    "Let us say we have a nanosphere sample:\n",
    "\n",
    "$$x^2 + y^2 + z^2 <= r^2$$\n",
    "\n",
    "with $r=5\\,\\text{nm}$. The space is discretised into cells with dimensions $(0.5\\,\\text{nm}, 0.5\\,\\text{nm}, 0.5\\,\\text{nm})$. The value of the field at $(x, y, z)$ point is $(-cy, cx, cz)$, with $c=10^{9}$. The norm of the field inside the cylinder is $10^{6}$.\n",
    "\n",
    "Let us first build that field."
   ]
  },
  {
   "cell_type": "code",
   "execution_count": 1,
   "metadata": {},
   "outputs": [],
   "source": [
    "import discretisedfield as df\n",
    "\n",
    "r = 5e-9\n",
    "cell = (0.5e-9, 0.5e-9, 0.5e-9)\n",
    "\n",
    "mesh =  df.Mesh(p1=(-r, -r, -r), p2=(r, r, r), cell=cell)\n",
    "\n",
    "def norm_fun(pos):\n",
    "    x, y, z = pos\n",
    "    if x**2 + y**2 + z**2 <= r**2:\n",
    "        return 1e6\n",
    "    else:\n",
    "        return 0\n",
    "    \n",
    "def value_fun(pos):\n",
    "    x, y, z = pos\n",
    "    c = 1e9\n",
    "    return (-c*y, c*x, c*z)\n",
    "\n",
    "field = df.Field(mesh, dim=3, value=value_fun, norm=norm_fun)"
   ]
  },
  {
   "cell_type": "markdown",
   "metadata": {},
   "source": [
    "Let us have a quick view of the field we created"
   ]
  },
  {
   "cell_type": "code",
   "execution_count": 2,
   "metadata": {},
   "outputs": [
    {
     "data": {
      "application/vnd.jupyter.widget-view+json": {
       "model_id": "6986ee1a4f224d8ea0c6513bc7895b95",
       "version_major": 2,
       "version_minor": 0
      },
      "text/plain": [
       "Output()"
      ]
     },
     "metadata": {},
     "output_type": "display_data"
    }
   ],
   "source": [
    "# NBVAL_IGNORE_OUTPUT\n",
    "field.plane('z').k3d_vectors(color_field=field.z)"
   ]
  },
  {
   "cell_type": "markdown",
   "metadata": {},
   "source": [
    "## Writing the field to a file\n",
    "\n",
    "The main method used for saving field in different files is `discretisedfield.Field.write()`. It takes `filename` as an argument, which is a string with one of the following extensions:\n",
    "- `'.vtk'` for saving in the VTK format\n",
    "- `'.ovf'`, `'.omf'`, `'.ohf'` for saving in the OVF format\n",
    "\n",
    "Let us firstly save the field in the VTK file."
   ]
  },
  {
   "cell_type": "code",
   "execution_count": 3,
   "metadata": {},
   "outputs": [],
   "source": [
    "vtkfilename = 'my_vtk_file.vtk'\n",
    "field.write(vtkfilename)"
   ]
  },
  {
   "cell_type": "markdown",
   "metadata": {},
   "source": [
    "We can check if the file was saved in the current directory."
   ]
  },
  {
   "cell_type": "code",
   "execution_count": 4,
   "metadata": {},
   "outputs": [
    {
     "data": {
      "text/plain": [
       "True"
      ]
     },
     "execution_count": 4,
     "metadata": {},
     "output_type": "execute_result"
    }
   ],
   "source": [
    "import os\n",
    "os.path.isfile(f'./{vtkfilename}')"
   ]
  },
  {
   "cell_type": "markdown",
   "metadata": {},
   "source": [
    "Now, we can delete the file:"
   ]
  },
  {
   "cell_type": "code",
   "execution_count": 5,
   "metadata": {},
   "outputs": [],
   "source": [
    "os.remove(f'./{vtkfilename}')"
   ]
  },
  {
   "cell_type": "markdown",
   "metadata": {},
   "source": [
    "Next, we can save the field in the OVF format and check whether it was created in the current directory."
   ]
  },
  {
   "cell_type": "code",
   "execution_count": 6,
   "metadata": {},
   "outputs": [
    {
     "data": {
      "text/plain": [
       "True"
      ]
     },
     "execution_count": 6,
     "metadata": {},
     "output_type": "execute_result"
    }
   ],
   "source": [
    "omffilename = 'my_omf_file.omf'\n",
    "field.write(omffilename)\n",
    "os.path.isfile(f'./{omffilename}')"
   ]
  },
  {
   "cell_type": "markdown",
   "metadata": {},
   "source": [
    "There are three different possible representations of an OVF file: one ASCII (`txt`) and two binary (`bin4` or `bin8`). ASCII `txt` representation is a default representation when `discretisedfield.Field.write()` is called. If any different representation is required, it can be passed via `representation` argument."
   ]
  },
  {
   "cell_type": "code",
   "execution_count": 7,
   "metadata": {},
   "outputs": [
    {
     "data": {
      "text/plain": [
       "True"
      ]
     },
     "execution_count": 7,
     "metadata": {},
     "output_type": "execute_result"
    }
   ],
   "source": [
    "field.write(omffilename, representation='bin8')\n",
    "os.path.isfile(f'./{omffilename}')"
   ]
  },
  {
   "cell_type": "markdown",
   "metadata": {},
   "source": [
    "## Reading the OVF file\n",
    "\n",
    "The method for reading OVF files is a class method `discretisedfield.Field.fromfile()`. By passing a `filename` argument, it reads the file and creates a `discretisedfield.Field` object. It is not required to pass the representation of the OVF file to the `discretisedfield.Field.fromfile()` method, because it can retrieve it from the content of the file."
   ]
  },
  {
   "cell_type": "code",
   "execution_count": 8,
   "metadata": {},
   "outputs": [],
   "source": [
    "read_field = df.Field.fromfile(omffilename)"
   ]
  },
  {
   "cell_type": "markdown",
   "metadata": {},
   "source": [
    "Like previouly, we can quickly visualise the field"
   ]
  },
  {
   "cell_type": "code",
   "execution_count": 9,
   "metadata": {},
   "outputs": [
    {
     "data": {
      "application/vnd.jupyter.widget-view+json": {
       "model_id": "c4372eb6209b4b6fae7806a2f6ec74fb",
       "version_major": 2,
       "version_minor": 0
      },
      "text/plain": [
       "Output()"
      ]
     },
     "metadata": {},
     "output_type": "display_data"
    }
   ],
   "source": [
    "# NBVAL_IGNORE_OUTPUT\n",
    "read_field.plane('z').k3d_vectors(color_field=read_field.z)"
   ]
  },
  {
   "cell_type": "markdown",
   "metadata": {},
   "source": [
    "Finally, we can delete the OVF file we created."
   ]
  },
  {
   "cell_type": "code",
   "execution_count": 10,
   "metadata": {},
   "outputs": [],
   "source": [
    "os.remove(f'./{omffilename}')"
   ]
  },
  {
   "cell_type": "markdown",
   "metadata": {},
   "source": [
    "## Other\n",
    "\n",
    "Full description of all existing functionality can be found in the [API Reference](https://discretisedfield.readthedocs.io/en/latest/api-reference.html)."
   ]
  }
 ],
 "metadata": {
  "kernelspec": {
   "display_name": "Python 3",
   "language": "python",
   "name": "python3"
  },
  "language_info": {
   "codemirror_mode": {
    "name": "ipython",
    "version": 3
   },
   "file_extension": ".py",
   "mimetype": "text/x-python",
   "name": "python",
   "nbconvert_exporter": "python",
   "pygments_lexer": "ipython3",
   "version": "3.8.1"
  },
  "widgets": {
   "application/vnd.jupyter.widget-state+json": {
    "state": {
     "0ef68b8a25c34e17a36ffef54e4eb6e9": {
      "buffers": [
       {
        "data": "eNoDAAAAAAE=",
        "encoding": "base64",
        "path": [
         "colors",
         "compressed_buffer"
        ]
       },
       {
        "data": "eNpjYGiwZ8AAxIsBAF7EAv0=",
        "encoding": "base64",
        "path": [
         "model_matrix",
         "compressed_buffer"
        ]
       },
       {
        "data": "eNpN1sF1GzEMhGGlA5bCCgiUkFJYgo8sQUdUklUpKSVeb5b7+aJ5NAXPD+IZ83rV8Xq9P6+fn0R//UEP7sSjC92+P9eP/vX6e9z69VN/UX9Rf1F/UX9Rf9fkvOVz/vv7c/4/7+i29eVn4mfiZ+Jn4mfiZ+Jn4mfiZ3vI585vzufn8np5vvXp+dGNO3+P57zQif76gx7cCb4b1OS8JR4Sb5xP9efq793zTs87Pe/0vNPzTs87Pe/0vNPzTs87Pe/0vNPzTs/79v/oc14aLA2WBkuDpcHSYGmwNFgaLA2WBkuDpcHSYGmwNFhuvdSfy989Y5e+Zuw+7+jGnXPG7vNCJ/qcsa0Hd4LvBjU5P2dse0i8cT7RC33+X6njebs6nrer43m7Op63q+N5uzqet6vjebs6nrer43m7rQd3gu8GNTk/3257SLxxPtEL/VZ/Lk83b8Kb8Ca8CW/Cm/AmvAlvwpvwJrwJb8Kb8Ca8CW/Cm/AmvKePm/fWc+uL9z7v6Madk/c+L3Siz8+tB3eC7wY1OT95t4fEG+cTvdBv9ef625t3wDvgHfAOeAe8A94B74B3wDvgHfAOeAe8A94B74B3wDvgHcxzMM/BPAfzHMxzMM/BPAfzHMxzMM/BPAfzHMxzMM/BPAfzHMxzMM/BPAfzHPy/grfgLXgL3oK34C14C96Ct+AteAvegrfgLXgL3oK34C14H8ar7t47wd4J9k6wd4K9E+ydYO8EeyfYO8HeCfZOsHeCvRPsnWDvBHsn2Du83dmjnROSnJDkhCQnJDkhyQlJTkhyQpITkpyQ5IQkJyQ5IckJSU5IckKSE2DpsHRYOiwdlg5Lh6XD0mHpsHRYOiwdlg5Lh6XDsvXn+t3Oz0l+TvJzkp+T/Jzk5yQ/J/k5yc9Jfk7yc5Kfk/yc5OckP9PzSc8nPZ/0fNLzSc8nPZ/0fNLzSc8nPZ/0fNLzSc/1s/Cz8LPws/Cz8LPws/Cz8LPwY/039d/Uf1P/Tf039S/9D7xXSJ8=",
        "encoding": "base64",
        "path": [
         "positions",
         "compressed_buffer"
        ]
       }
      ],
      "model_module": "k3d",
      "model_module_version": "2.7.2",
      "model_name": "ObjectModel",
      "state": {
       "_view_count": null,
       "_view_module": null,
       "_view_module_version": "",
       "_view_name": null,
       "color": 5010096,
       "colors": {
        "dtype": "uint32",
        "shape": [
         0
        ]
       },
       "compression_level": 0,
       "id": 140449548449152,
       "mesh_detail": 2,
       "model_matrix": {
        "dtype": "float32",
        "shape": [
         4,
         4
        ]
       },
       "name": "Points #1",
       "opacity": 1,
       "point_size": 0.125,
       "positions": {
        "dtype": "float32",
        "shape": [
         316,
         3
        ]
       },
       "shader": "3dSpecular",
       "type": "Points",
       "visible": true
      }
     },
     "102dc493514548938edddc34079e18c3": {
      "model_module": "k3d",
      "model_module_version": "2.7.2",
      "model_name": "PlotModel",
      "state": {
       "_backend_version": "2.7.2",
       "_dom_classes": [],
       "_view_count": null,
       "antialias": 3,
       "auto_rendering": true,
       "axes": [
        "x (nm)",
        "y (nm)",
        "z (nm)"
       ],
       "axes_helper": 1,
       "background_color": 16777215,
       "camera": [
        11.313738375480305,
        -16.970607563220458,
        1.1313738375480284,
        0,
        0,
        0,
        0,
        0,
        1
       ],
       "camera_auto_fit": true,
       "camera_fov": 60,
       "camera_no_pan": false,
       "camera_no_rotate": false,
       "camera_no_zoom": false,
       "clipping_planes": [],
       "colorbar_object_id": -1,
       "fps": 25,
       "fps_meter": false,
       "grid": [
        -1,
        -1,
        -1,
        1,
        1,
        1
       ],
       "grid_auto_fit": true,
       "grid_visible": true,
       "height": 512,
       "layout": "IPY_MODEL_54a77436fab744d998e47c4e1789394b",
       "lighting": 1.5,
       "menu_visibility": true,
       "mode": "view",
       "name": null,
       "object_ids": [
        140449548119392,
        140449548449152
       ],
       "rendering_steps": 1,
       "screenshot": "",
       "screenshot_scale": 2,
       "snapshot": "",
       "time": 0,
       "voxel_paint_color": 0
      }
     },
     "12cf30f8017840418989700cf332c3be": {
      "model_module": "k3d",
      "model_module_version": "2.7.2",
      "model_name": "PlotModel",
      "state": {
       "_backend_version": "2.7.2",
       "_dom_classes": [],
       "_view_count": null,
       "antialias": 3,
       "auto_rendering": true,
       "axes": [
        "x (nm)",
        "y (nm)",
        "z (nm)"
       ],
       "axes_helper": 1,
       "background_color": 16777215,
       "camera": [
        11.313738375480305,
        -16.970607563220458,
        1.1313738375480284,
        0,
        0,
        0,
        0,
        0,
        1
       ],
       "camera_auto_fit": true,
       "camera_fov": 60,
       "camera_no_pan": false,
       "camera_no_rotate": false,
       "camera_no_zoom": false,
       "clipping_planes": [],
       "colorbar_object_id": -1,
       "fps": 25,
       "fps_meter": false,
       "grid": [
        -1,
        -1,
        -1,
        1,
        1,
        1
       ],
       "grid_auto_fit": true,
       "grid_visible": true,
       "height": 512,
       "layout": "IPY_MODEL_83f4230b7142446891a9ca8f4e916a98",
       "lighting": 1.5,
       "menu_visibility": true,
       "mode": "view",
       "name": null,
       "object_ids": [
        140449548513136,
        140449548510688
       ],
       "rendering_steps": 1,
       "screenshot": "",
       "screenshot_scale": 2,
       "snapshot": "",
       "time": 0,
       "voxel_paint_color": 0
      }
     },
     "54a77436fab744d998e47c4e1789394b": {
      "model_module": "@jupyter-widgets/base",
      "model_module_version": "1.2.0",
      "model_name": "LayoutModel",
      "state": {}
     },
     "6986ee1a4f224d8ea0c6513bc7895b95": {
      "model_module": "@jupyter-widgets/output",
      "model_module_version": "1.0.0",
      "model_name": "OutputModel",
      "state": {
       "layout": "IPY_MODEL_a1875abc4e4143828b563e9bfa219463",
       "outputs": [
        {
         "data": {
          "application/vnd.jupyter.widget-view+json": {
           "model_id": "12cf30f8017840418989700cf332c3be",
           "version_major": 2,
           "version_minor": 0
          },
          "text/plain": "Plot(antialias=3, axes=['x', 'y', 'z'], axes_helper=1.0, background_color=16777215, camera=[4.5, 4.5, 4.5, 0.0…"
         },
         "metadata": {},
         "output_type": "display_data"
        }
       ]
      }
     },
     "74f9d3ee849f4f19b2c255fc49db7ebb": {
      "model_module": "@jupyter-widgets/base",
      "model_module_version": "1.2.0",
      "model_name": "LayoutModel",
      "state": {}
     },
     "83f4230b7142446891a9ca8f4e916a98": {
      "model_module": "@jupyter-widgets/base",
      "model_module_version": "1.2.0",
      "model_name": "LayoutModel",
      "state": {}
     },
     "a1875abc4e4143828b563e9bfa219463": {
      "model_module": "@jupyter-widgets/base",
      "model_module_version": "1.2.0",
      "model_name": "LayoutModel",
      "state": {}
     },
     "c4372eb6209b4b6fae7806a2f6ec74fb": {
      "model_module": "@jupyter-widgets/output",
      "model_module_version": "1.0.0",
      "model_name": "OutputModel",
      "state": {
       "layout": "IPY_MODEL_74f9d3ee849f4f19b2c255fc49db7ebb",
       "outputs": [
        {
         "data": {
          "application/vnd.jupyter.widget-view+json": {
           "model_id": "102dc493514548938edddc34079e18c3",
           "version_major": 2,
           "version_minor": 0
          },
          "text/plain": "Plot(antialias=3, axes=['x', 'y', 'z'], axes_helper=1.0, background_color=16777215, camera=[4.5, 4.5, 4.5, 0.0…"
         },
         "metadata": {},
         "output_type": "display_data"
        }
       ]
      }
     },
     "c932baed5034454aa5098a85fab1c79d": {
      "buffers": [
       {
        "data": "eNoDAAAAAAE=",
        "encoding": "base64",
        "path": [
         "colors",
         "compressed_buffer"
        ]
       },
       {
        "data": "eNpjYGiwZ8AAxIsBAF7EAv0=",
        "encoding": "base64",
        "path": [
         "model_matrix",
         "compressed_buffer"
        ]
       },
       {
        "data": "eNpN1sF1GzEMhGGlA5bCCgiUkFJYgo8sQUdUklUpKSVeb5b7+aJ5NAXPD+IZ83rV8Xq9P6+fn0R//UEP7sSjC92+P9eP/vX6e9z69VN/UX9Rf1F/UX9Rf9fkvOVz/vv7c/4/7+i29eVn4mfiZ+Jn4mfiZ+Jn4mfiZ3vI585vzufn8np5vvXp+dGNO3+P57zQif76gx7cCb4b1OS8JR4Sb5xP9efq793zTs87Pe/0vNPzTs87Pe/0vNPzTs87Pe/0vNPzTs/79v/oc14aLA2WBkuDpcHSYGmwNFgaLA2WBkuDpcHSYGmwNFhuvdSfy989Y5e+Zuw+7+jGnXPG7vNCJ/qcsa0Hd4LvBjU5P2dse0i8cT7RC33+X6njebs6nrer43m7Op63q+N5uzqet6vjebs6nrer43m7rQd3gu8GNTk/3257SLxxPtEL/VZ/Lk83b8Kb8Ca8CW/Cm/AmvAlvwpvwJrwJb8Kb8Ca8CW/Cm/AmvKePm/fWc+uL9z7v6Madk/c+L3Siz8+tB3eC7wY1OT95t4fEG+cTvdBv9ef625t3wDvgHfAOeAe8A94B74B3wDvgHfAOeAe8A94B74B3wDvgHcxzMM/BPAfzHMxzMM/BPAfzHMxzMM/BPAfzHMxzMM/BPAfzHMxzMM/BPAfzHPy/grfgLXgL3oK34C14C96Ct+AteAvegrfgLXgL3oK34C14H8ar7t47wd4J9k6wd4K9E+ydYO8EeyfYO8HeCfZOsHeCvRPsnWDvBHsn2Du83dmjnROSnJDkhCQnJDkhyQlJTkhyQpITkpyQ5IQkJyQ5IckJSU5IckKSE2DpsHRYOiwdlg5Lh6XD0mHpsHRYOiwdlg5Lh6XDsvXn+t3Oz0l+TvJzkp+T/Jzk5yQ/J/k5yc9Jfk7yc5Kfk/yc5OckP9PzSc8nPZ/0fNLzSc8nPZ/0fNLzSc8nPZ/0fNLzSc/1s/Cz8LPws/Cz8LPws/Cz8LPwY/039d/Uf1P/Tf039S/9D7xXSJ8=",
        "encoding": "base64",
        "path": [
         "positions",
         "compressed_buffer"
        ]
       }
      ],
      "model_module": "k3d",
      "model_module_version": "2.7.2",
      "model_name": "ObjectModel",
      "state": {
       "_view_count": null,
       "_view_module": null,
       "_view_module_version": "",
       "_view_name": null,
       "color": 5010096,
       "colors": {
        "dtype": "uint32",
        "shape": [
         0
        ]
       },
       "compression_level": 0,
       "id": 140449548510688,
       "mesh_detail": 2,
       "model_matrix": {
        "dtype": "float32",
        "shape": [
         4,
         4
        ]
       },
       "name": "Points #1",
       "opacity": 1,
       "point_size": 0.125,
       "positions": {
        "dtype": "float32",
        "shape": [
         316,
         3
        ]
       },
       "shader": "3dSpecular",
       "type": "Points",
       "visible": true
      }
     },
     "e27e9585f89942eb8a57646e92b975c0": {
      "buffers": [
       {
        "data": "eNrVlk1LQkEUht20a9mqZZaFXtIowoVBS3FxRQ1JhASJFpEfre5f7ldEMmeegXnhphtzWjybwznve+bM3LmTn1Uq+YZ+9XdyyRucG6ML42kL5FGnuqo3rhnPl8bkypgKxMmjTv3wUT/6ox7dWd2YN4zXLIY4edShg676qy/9o4P++7WxaBqrVgxx8qhDB13tg7kzH/ql7i0z0P+8MdZ3x8b9SYyPk0cdOujig6+eI/aNObKe0MftkWPVPnUsH2qOxWMjgjh51KGDLj746j6VzYd5s1588P/odYxhN8bHyQv9eR10y+al35+eH84j62RfmAf+y5eJoyiKCOIhz9ehgy4+er70viCu+8n55fyEufk50U/76zuCOHnUoYOu7u9/7y+1/U39+0jtPkn1vj3U/+fQ/9+/fm/s672063vtBxm7ikA=",
        "encoding": "base64",
        "path": [
         "colors",
         "compressed_buffer"
        ]
       },
       {
        "data": "eNpjYGiwZ8AAxIsBAF7EAv0=",
        "encoding": "base64",
        "path": [
         "model_matrix",
         "compressed_buffer"
        ]
       },
       {
        "data": "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",
        "encoding": "base64",
        "path": [
         "origins",
         "compressed_buffer"
        ]
       },
       {
        "data": "eNpdV21o11UYnaUhtQ+L/JIQZGJvCmXDZPW/zwqhJEihiGxfMqMIZQhBFkIrC1E/hG+jEpJVZqMPrlWakbtnRbUakWUqlhMkwdfQtoYuXbrueXp+cejDw/+3cV+ec++55zlPyx8jduHFy7C2/6fauqaL9tyZjjyc9tfq6uqa72w/0FOi+q4xYkzimJZ/5xrn7ll/xD46uhT8/9YJp23vzDl4fNLhWu+Rs/bylgaMLTleu7Twb3vsxo/zstWna1fvHbPOvsGeEtV3jRFjEsfEXOPcWNO4Zuxl3GsQX1rvyU6s/mB37ZFPd9u3r7+BprZDtXu/HrCbDr2KocWnaqsaT1jHZwvQ2jVSa68ftkUTb8D8t8elg7eN2qTh7/KTIxPStI1jtnzexFyi+k6MGJM4JuYa58aaxjVjL+NekYMxh8jNmBt/y9+e52v37LASfj7PvPOVbVy9FcS+4r2fbcG+9Z7bqRW/WdfBZzG578r0/OgZm7J/No43XJPuXnreHmg+lle9dG36tXHMZtdfl0tU34kRYxLHxFzj3FjTuGbs5VgiB7+DyM3POXL2/ImpYPOz5dgyx3NunbbDSmAKLk9Dt/dZ/c3vYtPUhvT94AHrXrwGzOfCsRO24/OHceuiW9Ksneds+YYr8FdrY9rz1iW7a0ZTLlF9J0aMMY6Juca5sabjjL2Me0UOxhwiN8cSOftdkC+FN85P3lW5M+cGz6CchZ851yvrev4Lz223Ehg3cH3aOdBvTXWbPefpLYftwekv4Ko196WnZv5pc5ZNQcvcR9OHb160+5c8kUtU34kRY4xjYq5xbqzpGGMv416Rg+OK3PyOImfnWGBx/vNNlLfhXCIfCy+d57znct/OH55ZOTu/C+5Z9nYsA5u2Wwl0Pz0vdbb9aEdntWPi1Na0ZeiknV85F+93rUz7Okatvn9tLlF9J0aMMY6Juca5saZxzdjLMUYOfneRm/MwcvZ3FFice9SVoi+uS9SAogWuIXx/5R36fZHXhd/+LsiRwhXnGM+4nLXfEfMq+Tmu+bs+sRJg/s1nf7EvZryCsXXbUtv4Ebtj8ze5RPWdGDHGOCbmOv5Y0/HGXn6nkYNzNXLzdxc5+z0GFte0wOj6SU0t2ur8pP4VHQQ1kNpTNAjUH77p8rbBd833Ud6J3yP5VXjmPOSdlLvxu2PuBYNjzNu6rQQe2vC7a9f4HyajhMW3R4wxjom5jj3W9LuOvZzPkYPfb+RmzC1yNuYcWIxYAqPzNupKL3+jBriehP6Cv6FrztvQCPA33hj4G7z0O437A38Dm2PkfZHb8ftfKH69e+W6vmfVKdVcrRlaz/5XO3sEb4/gzYI3C94seLPgzYI3C14IXgheCF4I3ix4s+DNgjcL3ix4s+DtEbw9FV76COFzFj5n4XMWPkP4DOEzhM8QPkP4DOEzhM8QPkP4DOEzhM8QPmfhcxY+Z+FzrvhMDyV6BdEriF5B9AqiVxC9gugVRK8gegXRK4heQfQKolcQvYLoFUSvIHoF0SuIXqHSK/o7qTuQugOpO5C6A6k7kLoDqTuQugOpO5C6A6k7kLoDqTuQugOpO5C6A6k7qOoOPaz4BIhPgPgEiE+A+ASIT4D4BIhPgPgEiE+A+ASIT4D4BIhPgPgEiE+A+ARUPoG+WPwbxL9B/BvEv0H8G8S/QfwbxL9B/BvEv0H8G8S/QfwbxL9B/Bsq/0aPL/4Z4p8h/hninyH+GeKfIf4Z4p8h/hninyH+GeKfIf4Z4p8h/hmVf2bu0qdA+hRInwLpUyB9CqRPgfQpkD4F0qdA+hRInwLpUyB9Cqo+hdyXPg7Sx0H6OEgfB+njIH0cpI+D9HGQPg5VH0ftlD4U0of2Sh/aK30opA9F1Yf+A9AMboo=",
        "encoding": "base64",
        "path": [
         "vectors",
         "compressed_buffer"
        ]
       }
      ],
      "model_module": "k3d",
      "model_module_version": "2.7.2",
      "model_name": "ObjectModel",
      "state": {
       "_view_count": null,
       "_view_module": null,
       "_view_module_version": "",
       "_view_name": null,
       "colors": {
        "dtype": "uint32",
        "shape": [
         316,
         2
        ]
       },
       "compression_level": 0,
       "head_color": 255,
       "head_size": 1,
       "id": 140449548119392,
       "label_size": 1,
       "labels": [],
       "line_width": 0.01,
       "model_matrix": {
        "dtype": "float32",
        "shape": [
         4,
         4
        ]
       },
       "name": "Vectors #1",
       "origin_color": 255,
       "origins": {
        "dtype": "float32",
        "shape": [
         316,
         3
        ]
       },
       "type": "Vectors",
       "use_head": true,
       "vectors": {
        "dtype": "float32",
        "shape": [
         316,
         3
        ]
       },
       "visible": true
      }
     },
     "ee06eb18fa964ace8ae056541292ad79": {
      "buffers": [
       {
        "data": "eNrVlk1LQkEUht20a9mqZZaFXtIowoVBS3FxRQ1JhASJFpEfre5f7ldEMmeegXnhphtzWjybwznve+bM3LmTn1Uq+YZ+9XdyyRucG6ML42kL5FGnuqo3rhnPl8bkypgKxMmjTv3wUT/6ox7dWd2YN4zXLIY4edShg676qy/9o4P++7WxaBqrVgxx8qhDB13tg7kzH/ql7i0z0P+8MdZ3x8b9SYyPk0cdOujig6+eI/aNObKe0MftkWPVPnUsH2qOxWMjgjh51KGDLj746j6VzYd5s1588P/odYxhN8bHyQv9eR10y+al35+eH84j62RfmAf+y5eJoyiKCOIhz9ehgy4+er70viCu+8n55fyEufk50U/76zuCOHnUoYOu7u9/7y+1/U39+0jtPkn1vj3U/+fQ/9+/fm/s672063vtBxm7ikA=",
        "encoding": "base64",
        "path": [
         "colors",
         "compressed_buffer"
        ]
       },
       {
        "data": "eNpjYGiwZ8AAxIsBAF7EAv0=",
        "encoding": "base64",
        "path": [
         "model_matrix",
         "compressed_buffer"
        ]
       },
       {
        "data": "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",
        "encoding": "base64",
        "path": [
         "origins",
         "compressed_buffer"
        ]
       },
       {
        "data": "eNpdV21o11UYnaUhtQ+L/JIQZGJvCmXDZPW/zwqhJEihiGxfMqMIZQhBFkIrC1E/hG+jEpJVZqMPrlWakbtnRbUakWUqlhMkwdfQtoYuXbrueXp+cejDw/+3cV+ec++55zlPyx8jduHFy7C2/6fauqaL9tyZjjyc9tfq6uqa72w/0FOi+q4xYkzimJZ/5xrn7ll/xD46uhT8/9YJp23vzDl4fNLhWu+Rs/bylgaMLTleu7Twb3vsxo/zstWna1fvHbPOvsGeEtV3jRFjEsfEXOPcWNO4Zuxl3GsQX1rvyU6s/mB37ZFPd9u3r7+BprZDtXu/HrCbDr2KocWnaqsaT1jHZwvQ2jVSa68ftkUTb8D8t8elg7eN2qTh7/KTIxPStI1jtnzexFyi+k6MGJM4JuYa58aaxjVjL+NekYMxh8jNmBt/y9+e52v37LASfj7PvPOVbVy9FcS+4r2fbcG+9Z7bqRW/WdfBZzG578r0/OgZm7J/No43XJPuXnreHmg+lle9dG36tXHMZtdfl0tU34kRYxLHxFzj3FjTuGbs5VgiB7+DyM3POXL2/ImpYPOz5dgyx3NunbbDSmAKLk9Dt/dZ/c3vYtPUhvT94AHrXrwGzOfCsRO24/OHceuiW9Ksneds+YYr8FdrY9rz1iW7a0ZTLlF9J0aMMY6Juca5sabjjL2Me0UOxhwiN8cSOftdkC+FN85P3lW5M+cGz6CchZ851yvrev4Lz223Ehg3cH3aOdBvTXWbPefpLYftwekv4Ko196WnZv5pc5ZNQcvcR9OHb160+5c8kUtU34kRY4xjYq5xbqzpGGMv416Rg+OK3PyOImfnWGBx/vNNlLfhXCIfCy+d57znct/OH55ZOTu/C+5Z9nYsA5u2Wwl0Pz0vdbb9aEdntWPi1Na0ZeiknV85F+93rUz7Okatvn9tLlF9J0aMMY6Juca5saZxzdjLMUYOfneRm/MwcvZ3FFice9SVoi+uS9SAogWuIXx/5R36fZHXhd/+LsiRwhXnGM+4nLXfEfMq+Tmu+bs+sRJg/s1nf7EvZryCsXXbUtv4Ebtj8ze5RPWdGDHGOCbmOv5Y0/HGXn6nkYNzNXLzdxc5+z0GFte0wOj6SU0t2ur8pP4VHQQ1kNpTNAjUH77p8rbBd833Ud6J3yP5VXjmPOSdlLvxu2PuBYNjzNu6rQQe2vC7a9f4HyajhMW3R4wxjom5jj3W9LuOvZzPkYPfb+RmzC1yNuYcWIxYAqPzNupKL3+jBriehP6Cv6FrztvQCPA33hj4G7z0O437A38Dm2PkfZHb8ftfKH69e+W6vmfVKdVcrRlaz/5XO3sEb4/gzYI3C94seLPgzYI3C14IXgheCF4I3ix4s+DNgjcL3ix4s+DtEbw9FV76COFzFj5n4XMWPkP4DOEzhM8QPkP4DOEzhM8QPkP4DOEzhM8QPmfhcxY+Z+FzrvhMDyV6BdEriF5B9AqiVxC9gugVRK8gegXRK4heQfQKolcQvYLoFUSvIHoF0SuIXqHSK/o7qTuQugOpO5C6A6k7kLoDqTuQugOpO5C6A6k7kLoDqTuQugOpO5C6A6k7qOoOPaz4BIhPgPgEiE+A+ASIT4D4BIhPgPgEiE+A+ASIT4D4BIhPgPgEiE+A+ARUPoG+WPwbxL9B/BvEv0H8G8S/QfwbxL9B/BvEv0H8G8S/QfwbxL9B/Bsq/0aPL/4Z4p8h/hninyH+GeKfIf4Z4p8h/hninyH+GeKfIf4Z4p8h/hmVf2bu0qdA+hRInwLpUyB9CqRPgfQpkD4F0qdA+hRInwLpUyB9Cqo+hdyXPg7Sx0H6OEgfB+njIH0cpI+D9HGQPg5VH0ftlD4U0of2Sh/aK30opA9F1Yf+A9AMboo=",
        "encoding": "base64",
        "path": [
         "vectors",
         "compressed_buffer"
        ]
       }
      ],
      "model_module": "k3d",
      "model_module_version": "2.7.2",
      "model_name": "ObjectModel",
      "state": {
       "_view_count": null,
       "_view_module": null,
       "_view_module_version": "",
       "_view_name": null,
       "colors": {
        "dtype": "uint32",
        "shape": [
         316,
         2
        ]
       },
       "compression_level": 0,
       "head_color": 255,
       "head_size": 1,
       "id": 140449548513136,
       "label_size": 1,
       "labels": [],
       "line_width": 0.01,
       "model_matrix": {
        "dtype": "float32",
        "shape": [
         4,
         4
        ]
       },
       "name": "Vectors #1",
       "origin_color": 255,
       "origins": {
        "dtype": "float32",
        "shape": [
         316,
         3
        ]
       },
       "type": "Vectors",
       "use_head": true,
       "vectors": {
        "dtype": "float32",
        "shape": [
         316,
         3
        ]
       },
       "visible": true
      }
     }
    },
    "version_major": 2,
    "version_minor": 0
   }
  }
 },
 "nbformat": 4,
 "nbformat_minor": 4
}
