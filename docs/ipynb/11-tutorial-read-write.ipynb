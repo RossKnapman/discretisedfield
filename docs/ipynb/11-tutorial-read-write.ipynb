{
 "cells": [
  {
   "cell_type": "markdown",
   "metadata": {},
   "source": [
    "# Tutorial 11: Reading and writing fields\n",
    "\n",
    "> Interactive online tutorial:\n",
    "> [![Binder](https://mybinder.org/badge_logo.svg)](https://mybinder.org/v2/gh/ubermag/discretisedfield/master?filepath=docs%2Fipynb%2Findex.ipynb)\n",
    "\n",
    "There are two main file formats to which a `discretisedfield.Field` object can be saved:\n",
    "\n",
    "- [VTK](https://vtk.org/) for visualisation using e.g., [ParaView](https://www.paraview.org/) or [Mayavi](https://docs.enthought.com/mayavi/mayavi/)\n",
    "- OOMMF [Vector Field File Format (OVF)](https://math.nist.gov/oommf/doc/userguide12a5/userguide/Vector_Field_File_Format_OV.html) for exchanging fields with micromagnetic simulators.\n",
    "\n",
    "Let us say we have a nanosphere sample:\n",
    "\n",
    "$$x^2 + y^2 + z^2 <= r^2$$\n",
    "\n",
    "with $r=5\\,\\text{nm}$. The space is discretised into cells with dimensions $(0.5\\,\\text{nm}, 0.5\\,\\text{nm}, 0.5\\,\\text{nm})$. The value of the field at $(x, y, z)$ point is $(-cy, cx, cz)$, with $c=10^{9}$. The norm of the field inside the cylinder is $10^{6}$.\n",
    "\n",
    "Let us first build that field."
   ]
  },
  {
   "cell_type": "code",
   "execution_count": 1,
   "metadata": {},
   "outputs": [],
   "source": [
    "import discretisedfield as df\n",
    "\n",
    "r = 5e-9\n",
    "cell = (0.5e-9, 0.5e-9, 0.5e-9)\n",
    "\n",
    "mesh =  df.Mesh(p1=(-r, -r, -r), p2=(r, r, r), cell=cell)\n",
    "\n",
    "def norm_fun(pos):\n",
    "    x, y, z = pos\n",
    "    if x**2 + y**2 + z**2 <= r**2:\n",
    "        return 1e6\n",
    "    else:\n",
    "        return 0\n",
    "    \n",
    "def value_fun(pos):\n",
    "    x, y, z = pos\n",
    "    c = 1e9\n",
    "    return (-c*y, c*x, c*z)\n",
    "\n",
    "field = df.Field(mesh, value=value_fun, norm=norm_fun)"
   ]
  },
  {
   "cell_type": "markdown",
   "metadata": {},
   "source": [
    "Let us have a quick view of the field we created"
   ]
  },
  {
   "cell_type": "code",
   "execution_count": 2,
   "metadata": {},
   "outputs": [
    {
     "data": {
      "application/vnd.jupyter.widget-view+json": {
       "model_id": "573fe502d66b4c53a8833ea27b9c28d3",
       "version_major": 2,
       "version_minor": 0
      },
      "text/plain": [
       "Output()"
      ]
     },
     "metadata": {},
     "output_type": "display_data"
    }
   ],
   "source": [
    "# NBVAL_IGNORE_OUTPUT\n",
    "field.plane('z').k3d_vectors(color_field=field.z)"
   ]
  },
  {
   "cell_type": "markdown",
   "metadata": {},
   "source": [
    "## Writing the field to a file\n",
    "\n",
    "The main method used for saving field in different files is `discretisedfield.Field.write()`. It takes `filename` as an argument, which is a string with one of the following extensions:\n",
    "- `'.vtk'` for saving in the VTK format\n",
    "- `'.ovf'`, `'.omf'`, `'.ohf'` for saving in the OVF format\n",
    "\n",
    "Let us firstly save the field in the VTK file."
   ]
  },
  {
   "cell_type": "code",
   "execution_count": 3,
   "metadata": {},
   "outputs": [],
   "source": [
    "vtkfilename = 'my_vtk_file.vtk'\n",
    "field.write(vtkfilename)"
   ]
  },
  {
   "cell_type": "markdown",
   "metadata": {},
   "source": [
    "We can check if the file was saved in the current directory."
   ]
  },
  {
   "cell_type": "code",
   "execution_count": 4,
   "metadata": {},
   "outputs": [
    {
     "data": {
      "text/plain": [
       "True"
      ]
     },
     "execution_count": 4,
     "metadata": {},
     "output_type": "execute_result"
    }
   ],
   "source": [
    "import os\n",
    "os.path.isfile(f'./{vtkfilename}')"
   ]
  },
  {
   "cell_type": "markdown",
   "metadata": {},
   "source": [
    "Now, we can delete the file:"
   ]
  },
  {
   "cell_type": "code",
   "execution_count": 5,
   "metadata": {},
   "outputs": [],
   "source": [
    "os.remove(f'./{vtkfilename}')"
   ]
  },
  {
   "cell_type": "markdown",
   "metadata": {},
   "source": [
    "Next, we can save the field in the OVF format and check whether it was created in the current directory."
   ]
  },
  {
   "cell_type": "code",
   "execution_count": 6,
   "metadata": {},
   "outputs": [
    {
     "data": {
      "text/plain": [
       "True"
      ]
     },
     "execution_count": 6,
     "metadata": {},
     "output_type": "execute_result"
    }
   ],
   "source": [
    "omffilename = 'my_omf_file.omf'\n",
    "field.write(omffilename)\n",
    "os.path.isfile(f'./{omffilename}')"
   ]
  },
  {
   "cell_type": "markdown",
   "metadata": {},
   "source": [
    "There are three different possible representations of an OVF file: one ASCII (`txt`) and two binary (`bin4` or `bin8`). ASCII `txt` representation is a default representation when `discretisedfield.Field.write()` is called. If any different representation is required, it can be passed via `representation` argument."
   ]
  },
  {
   "cell_type": "code",
   "execution_count": 7,
   "metadata": {},
   "outputs": [
    {
     "data": {
      "text/plain": [
       "True"
      ]
     },
     "execution_count": 7,
     "metadata": {},
     "output_type": "execute_result"
    }
   ],
   "source": [
    "field.write(omffilename, representation='bin8')\n",
    "os.path.isfile(f'./{omffilename}')"
   ]
  },
  {
   "cell_type": "markdown",
   "metadata": {},
   "source": [
    "## Reading the OVF file\n",
    "\n",
    "The method for reading OVF files is a class method `discretisedfield.Field.fromfile()`. By passing a `filename` argument, it reads the file and creates a `discretisedfield.Field` object. It is not required to pass the representation of the OVF file to the `discretisedfield.Field.fromfile()` method, because it can retrieve it from the content of the file."
   ]
  },
  {
   "cell_type": "code",
   "execution_count": 8,
   "metadata": {},
   "outputs": [],
   "source": [
    "read_field = df.Field.fromfile(omffilename)"
   ]
  },
  {
   "cell_type": "markdown",
   "metadata": {},
   "source": [
    "Like previouly, we can quickly visualise the field"
   ]
  },
  {
   "cell_type": "code",
   "execution_count": 9,
   "metadata": {},
   "outputs": [
    {
     "data": {
      "application/vnd.jupyter.widget-view+json": {
       "model_id": "7832251ad0ef49e6b279f0536c11edcb",
       "version_major": 2,
       "version_minor": 0
      },
      "text/plain": [
       "Output()"
      ]
     },
     "metadata": {},
     "output_type": "display_data"
    }
   ],
   "source": [
    "# NBVAL_IGNORE_OUTPUT\n",
    "read_field.plane('z').k3d_vectors(color_field=read_field.z)"
   ]
  },
  {
   "cell_type": "markdown",
   "metadata": {},
   "source": [
    "Finally, we can delete the OVF file we created."
   ]
  },
  {
   "cell_type": "code",
   "execution_count": 10,
   "metadata": {},
   "outputs": [],
   "source": [
    "os.remove(f'./{omffilename}')"
   ]
  },
  {
   "cell_type": "markdown",
   "metadata": {},
   "source": [
    "## Other\n",
    "\n",
    "Full description of all existing functionality can be found in the [API Reference](https://discretisedfield.readthedocs.io/en/latest/api-reference.html)."
   ]
  }
 ],
 "metadata": {
  "kernelspec": {
   "display_name": "Python 3",
   "language": "python",
   "name": "python3"
  },
  "language_info": {
   "codemirror_mode": {
    "name": "ipython",
    "version": 3
   },
   "file_extension": ".py",
   "mimetype": "text/x-python",
   "name": "python",
   "nbconvert_exporter": "python",
   "pygments_lexer": "ipython3",
   "version": "3.7.4"
  },
  "widgets": {
   "application/vnd.jupyter.widget-state+json": {
    "state": {
     "065cde5418e84337903befe72d7e4ecd": {
      "buffers": [
       {
        "data": "eNrV1s8rhFEUxnFEREqRFBs0Cwtlo5SymjGzsJz8CimJptiQkpWy8uvf9FcourfP4p6ayYZ5Lb6b0znPc+85973vbQ/WB9rf7A71ph3y9oYbiYORzOHodk/kqYu6Ue9obDtxPJ45mcicTjYLxOWpi358op/1qad7NpU5n85czLQKxOWpo0M3+kdf66dDvzOXuZrPXC+UiMtTR4duXIe+64/1qrucbSXo3yxm7mqZ+5UScXnq6NDlwzeeI3PTR/uhd7uceVhtJh7XG4mnzXqBuDx1dOjy4Rvn1K0/+m2/fPg/72wlXvc3CsTlqaNDt1u/4vcXz4/zaJ/moh/83ztribeXpQJxeero0OUTz1e8L8TjPJ1f50c/9Ml6ah+fBeLy1NGhG+f739dXtflW/fuo2n1S1fu2X/+ffv9///q98VvvpZ++174ARtHyYA==",
        "encoding": "base64",
        "path": [
         "colors",
         "compressed_buffer"
        ]
       },
       {
        "data": "eNpjYGiwZ8AAxIsBAF7EAv0=",
        "encoding": "base64",
        "path": [
         "model_matrix",
         "compressed_buffer"
        ]
       },
       {
        "data": "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",
        "encoding": "base64",
        "path": [
         "origins",
         "compressed_buffer"
        ]
       },
       {
        "data": "eNpdV21olmUU1j9pCBa0IUQMYZlombTsR/A8R/KH9SNKTOlDsBixEBn05aIMSvqgZtOVQSa1VjITM5WR1dpzX7mxWdNVIlFmHxSVAxMKTKKC1n2dnScu+nF47vfl/jjXfa77nOs03n7YuseOpV0z3iweePGI/fbjY+ncS3uKT8bH7YWOvVW2elzQYk7JOY1Ta0uuffC6g/b76aXg/009yb6Zfwn6O/qLtoMjNrl+IrU0DxQtE2PW8NSWNHoeiq93j9uZnkNVtnpc0GJOyTmxtuTa2NO4Z5xlPOuyyR22fdXTaF/VV7y1ts9OdN6Pv+4+UFxzbL999edKDD0zWBwfHrDH71qES+cdLjruHbabe6fj57bPioazH9tDw72p57Yvivc2jNvCOSerbPW4oMWcknNirXFt7GncM84ynhU+GH0I34y+8Zt/u5/3TXvesvn9zN30ii1rfxLEvuOJ3TZ0yzr37dd73rHNNyzDyPnfFdsWf2gTF16EpTf9Uix+7iN7o+X9dGL7ueKRBeOG5X9X2epxQYs5JefEWuPa2NO4Z5zlWMIHj0H45vccPrv/xJSx+d1ybl7jPuN0t2XDp2PHiy1dPbZzYBPueO1UsfPQXjv17RrQn9aVH9jC1gUY3DSjXHvnqI2s+DIt2nxBuevAUWttbkjZ6nFJizkl58Ra49rY03HGWcazwgejD+GbYwmfPRbkS+aN85OxyjFzbvAO8l34nXO/vK/7f/Fot2XDkv3Tym2Pvm5br94I+tO5r99mPbscMz9vKpuGhmzd5dPxw7VXlF3fH7Hjq5ekbPW4pMUc45xYa1wbexr3jLOMZ4UPjit88xiFz86xwOL855vIb8O5RD5mXjrPGeccb+cP7yzfnceCZ+azHUvjxm7LhrNN88oz//TZzOZ29B4sy3fnD9qV6+ei/Gl1uefGMXt4dlvKVo9LWswxzom1xrWxp3HPOMsxhg8eu/DNeRg++zsKLM495pWcX8DcwhyQcwGYB/j+8jv0eJHXmd/+LsiRzBXnGO8437XHiH5l/xzXrLGtlg30f7L7bXv5+hVoO9lZXvXqqK2Z05Oy1eOSFnOMc2Kt4489HW+c5TENH5yr4Zu/u/DZ4xhYjFgCoxEjc2rOrc5P5r+cB8EcyNyTcxCYf/im89sG3zXfR34nHkfyK/PMeciY5Nh47Oh7xuAYj97aZdkwe0NV8r7b9/2RstXjkhZzjHNirWOPPT3WcZbzOXzw+IZvRt/CZ6PPgcWIJTA6b6OugN+oAZ5PIv+C38hrUzlkKkeA33hj4Dd46TGN+IHfwAZ+GS9yO77/meLX2CvX9T1rntKcqzVD69n/amcleCvBWwneSvAmwZsEbxK8SfAmwQvBC8GbBG8SvEnwJsGbBG8leCvBWwneqsZLHSF8TsLnJHxOwuckfIbwGcJnCJ8hfIbwGcJnCJ8hfIbwGcLnJHxOwuckfE7C51TzmRpK8lWSfAXJV5B8BclXkHwFyVeQfAXJV5B8BclXkHwFyVeQfAXJV5B8BclXkHyVJF+lOl9R30ndgdQdSN2B1B1I3YHUHUjdgdQdSN2B1B1I3YHUHUjdgdQdSN2B1B1I3UFdd6hhRSdAdAJEJ0B0AkQnQHQCRCdAdAJEJ0B0AkQnQHQCRCdAdAJEJ0B0AkQnoNYJ1MWi3yD6DaLfIPoNot8g+g2i3yD6DaLfIPoNot8g+g2i3yD6DaLfUOs3anzRzxD9DNHPEP0M0c8Q/QzRzxD9DNHPEP0M0c8Q/QzRzxD9DNHPqPUzfZc+BdKnQPoUSJ8C6VMgfQqkT4H0KZA+BdKnQPoUSJ8C6VNQ9ynkvvRxkD4O0sdB+jhIHwfp4yB9HKSPg/RxqPs45k7pQyF9KKQPhfShkD4UdR/6L2n4Yjo=",
        "encoding": "base64",
        "path": [
         "vectors",
         "compressed_buffer"
        ]
       }
      ],
      "model_module": "k3d",
      "model_module_version": "2.6.9",
      "model_name": "ObjectModel",
      "state": {
       "_view_count": null,
       "_view_module": null,
       "_view_module_version": "",
       "_view_name": null,
       "colors": {
        "compressed_buffer": {},
        "dtype": "uint32",
        "shape": [
         316,
         2
        ]
       },
       "compression_level": 0,
       "head_color": 255,
       "head_size": 1,
       "id": 4559200776,
       "label_size": 1,
       "labels": [],
       "line_width": 0.01,
       "model_matrix": {
        "compressed_buffer": {},
        "dtype": "float32",
        "shape": [
         4,
         4
        ]
       },
       "name": null,
       "origin_color": 255,
       "origins": {
        "compressed_buffer": {},
        "dtype": "float32",
        "shape": [
         316,
         3
        ]
       },
       "type": "Vectors",
       "use_head": true,
       "vectors": {
        "compressed_buffer": {},
        "dtype": "float32",
        "shape": [
         316,
         3
        ]
       },
       "visible": true
      }
     },
     "41b614d4f07d43f3aa7fce6c055a14da": {
      "buffers": [
       {
        "data": "eNoDAAAAAAE=",
        "encoding": "base64",
        "path": [
         "colors",
         "compressed_buffer"
        ]
       },
       {
        "data": "eNpjYGiwZ8AAxIsBAF7EAv0=",
        "encoding": "base64",
        "path": [
         "model_matrix",
         "compressed_buffer"
        ]
       },
       {
        "data": "eNpN1sFx2zAQhlGVgFJQAbAlbCkoIUeWwONWEqsUlBIzMumXi/6DhHxvBuPB61Vfr9f5fv3/F+w/f9mD78zfXez2/Xn87P31u4sd7Ov8g/MPzj84/zmT3eJ35/fn+tmd3dhXz6Jn0bPoWfQsehY9i55Fz9PATvb1mTQnzUlz0pw0J81Jc9KcNCfNSXPSnDQnzfde7ven9e7v9Hf6O/2d/k5/p7/T3+nv9Hf6O/2d/k5/p//e131pWBqWhqVhaVgaloalYWlYGpaGpWFpWBqWhqVhuffhfn/6bte9k93ZjX193rvYwb5czx58Z/Jb9mZfrqeBnezFPtjX35X6+jUWxsJYGAtjYSyMhbEwFsbCWBgLY2EsjIWxMBbGe5/u96fp9gbewBt4A2/gDbyBN/AG3sAbeANv4A28gTfwBt7AG3ivjtt778VOdmc39uW9d7GDfX0+e/CdyW/Zm315nwZ2shf7YJ/u9+f/frwD78A78A68A+/AO/AOvAPvwDvwDrwD78A78A68A+/AO7jPk/s8uc+T+zy5z5P7PLnPk/s8uc+T+zy5z5P7PLnPk/s8uc+T+zy5z5P7PLnPk/s8+XuFt/AW3sJbeAtv4S28hbfwFt7CW3gLb+EtvIW38BZejRvjxrgxbowb48a4MW6MG+PGuDFujBvjxrgxbowb48Z1/f55JwTvhOCdELwTgndC8E4I3gnBOyF4JwTvhOCdELwTgndC8E4I3gnBOyF4J2DpWDqWjqVj6Vg6lo6lY+lYOpaOpWPpWDqWjqXTn/Qn/Ul/0p/0J/1Jf9Kf9Cf9SX/Sn/Qn/Um/zYvmRfOiedG8aF40L5oXzYvmRfOiedG8aLbnoOeg56DnoOeg56DnoOeg56DH80/OPzn/5PyT80/O/+x/yrtIFw==",
        "encoding": "base64",
        "path": [
         "positions",
         "compressed_buffer"
        ]
       }
      ],
      "model_module": "k3d",
      "model_module_version": "2.6.9",
      "model_name": "ObjectModel",
      "state": {
       "_view_count": null,
       "_view_module": null,
       "_view_module_version": "",
       "_view_name": null,
       "color": 10075135,
       "colors": {
        "compressed_buffer": {},
        "dtype": "uint32",
        "shape": [
         0
        ]
       },
       "compression_level": 0,
       "id": 4594865656,
       "mesh_detail": 2,
       "model_matrix": {
        "compressed_buffer": {},
        "dtype": "float32",
        "shape": [
         4,
         4
        ]
       },
       "name": null,
       "opacity": 1,
       "point_size": 0.1,
       "positions": {
        "compressed_buffer": {},
        "dtype": "float32",
        "shape": [
         316,
         3
        ]
       },
       "shader": "3dSpecular",
       "type": "Points",
       "visible": true
      }
     },
     "458c2f52295b4fbab07357e15c99385d": {
      "model_module": "@jupyter-widgets/base",
      "model_module_version": "1.2.0",
      "model_name": "LayoutModel",
      "state": {}
     },
     "47d5f9b8fe314665b4f638cdb90f1f77": {
      "model_module": "@jupyter-widgets/base",
      "model_module_version": "1.2.0",
      "model_name": "LayoutModel",
      "state": {}
     },
     "573fe502d66b4c53a8833ea27b9c28d3": {
      "model_module": "@jupyter-widgets/output",
      "model_module_version": "1.0.0",
      "model_name": "OutputModel",
      "state": {
       "layout": "IPY_MODEL_47d5f9b8fe314665b4f638cdb90f1f77",
       "outputs": [
        {
         "data": {
          "application/vnd.jupyter.widget-view+json": {
           "model_id": "b9bc557be6af48738a3f07ec9f240ef9",
           "version_major": 2,
           "version_minor": 0
          },
          "text/plain": "Plot(antialias=3, axes=['x', 'y', 'z'], background_color=16777215, camera=[4.5, 4.5, 4.5, 0.0, 0.0, 0.0, 1.0, …"
         },
         "metadata": {},
         "output_type": "display_data"
        }
       ]
      }
     },
     "667d88a694fc4a928cbd7f72a0658e7d": {
      "model_module": "k3d",
      "model_module_version": "2.6.9",
      "model_name": "PlotModel",
      "state": {
       "_backend_version": "2.6.9",
       "_dom_classes": [],
       "_view_count": null,
       "antialias": 3,
       "axes": [
        "x",
        "y",
        "z"
       ],
       "background_color": 16777215,
       "camera": [
        11.282878174161333,
        -16.924317261242,
        1.128287817416143,
        0,
        0,
        0,
        0,
        0,
        1
       ],
       "camera_auto_fit": true,
       "camera_no_pan": false,
       "camera_no_rotate": false,
       "camera_no_zoom": false,
       "clipping_planes": [],
       "colorbar_object_id": -1,
       "fps_meter": false,
       "grid": [
        -1,
        -1,
        -1,
        1,
        1,
        1
       ],
       "grid_auto_fit": true,
       "grid_visible": true,
       "height": 512,
       "layout": "IPY_MODEL_96fa6dca0394453cad80f9f5d2b1dbcc",
       "lighting": 1,
       "menu_visibility": true,
       "object_ids": [
        4559200776,
        4594865656
       ],
       "rendering_steps": 1,
       "screenshot": "",
       "screenshot_scale": 2,
       "time": 0,
       "voxel_paint_color": 0
      }
     },
     "7832251ad0ef49e6b279f0536c11edcb": {
      "model_module": "@jupyter-widgets/output",
      "model_module_version": "1.0.0",
      "model_name": "OutputModel",
      "state": {
       "layout": "IPY_MODEL_458c2f52295b4fbab07357e15c99385d",
       "outputs": [
        {
         "data": {
          "application/vnd.jupyter.widget-view+json": {
           "model_id": "667d88a694fc4a928cbd7f72a0658e7d",
           "version_major": 2,
           "version_minor": 0
          },
          "text/plain": "Plot(antialias=3, axes=['x', 'y', 'z'], background_color=16777215, camera=[4.5, 4.5, 4.5, 0.0, 0.0, 0.0, 1.0, …"
         },
         "metadata": {},
         "output_type": "display_data"
        }
       ]
      }
     },
     "79c3f19f4d1049b5bd00119106f341ba": {
      "model_module": "@jupyter-widgets/base",
      "model_module_version": "1.2.0",
      "model_name": "LayoutModel",
      "state": {}
     },
     "8818f26d3b504e9285c04a85203fb79e": {
      "buffers": [
       {
        "data": "eNrV1s8rhFEUxnFEREqRFBs0Cwtlo5SymjGzsJz8CimJptiQkpWy8uvf9FcourfP4p6ayYZ5Lb6b0znPc+85973vbQ/WB9rf7A71ph3y9oYbiYORzOHodk/kqYu6Ue9obDtxPJ45mcicTjYLxOWpi358op/1qad7NpU5n85czLQKxOWpo0M3+kdf66dDvzOXuZrPXC+UiMtTR4duXIe+64/1qrucbSXo3yxm7mqZ+5UScXnq6NDlwzeeI3PTR/uhd7uceVhtJh7XG4mnzXqBuDx1dOjy4Rvn1K0/+m2/fPg/72wlXvc3CsTlqaNDt1u/4vcXz4/zaJ/moh/83ztribeXpQJxeero0OUTz1e8L8TjPJ1f50c/9Ml6ah+fBeLy1NGhG+f739dXtflW/fuo2n1S1fu2X/+ffv9///q98VvvpZ++174ARtHyYA==",
        "encoding": "base64",
        "path": [
         "colors",
         "compressed_buffer"
        ]
       },
       {
        "data": "eNpjYGiwZ8AAxIsBAF7EAv0=",
        "encoding": "base64",
        "path": [
         "model_matrix",
         "compressed_buffer"
        ]
       },
       {
        "data": "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",
        "encoding": "base64",
        "path": [
         "origins",
         "compressed_buffer"
        ]
       },
       {
        "data": "eNpdV21olmUU1j9pCBa0IUQMYZlombTsR/A8R/KH9SNKTOlDsBixEBn05aIMSvqgZtOVQSa1VjITM5WR1dpzX7mxWdNVIlFmHxSVAxMKTKKC1n2dnScu+nF47vfl/jjXfa77nOs03n7YuseOpV0z3iweePGI/fbjY+ncS3uKT8bH7YWOvVW2elzQYk7JOY1Ta0uuffC6g/b76aXg/009yb6Zfwn6O/qLtoMjNrl+IrU0DxQtE2PW8NSWNHoeiq93j9uZnkNVtnpc0GJOyTmxtuTa2NO4Z5xlPOuyyR22fdXTaF/VV7y1ts9OdN6Pv+4+UFxzbL999edKDD0zWBwfHrDH71qES+cdLjruHbabe6fj57bPioazH9tDw72p57Yvivc2jNvCOSerbPW4oMWcknNirXFt7GncM84ynhU+GH0I34y+8Zt/u5/3TXvesvn9zN30ii1rfxLEvuOJ3TZ0yzr37dd73rHNNyzDyPnfFdsWf2gTF16EpTf9Uix+7iN7o+X9dGL7ueKRBeOG5X9X2epxQYs5JefEWuPa2NO4Z5zlWMIHj0H45vccPrv/xJSx+d1ybl7jPuN0t2XDp2PHiy1dPbZzYBPueO1UsfPQXjv17RrQn9aVH9jC1gUY3DSjXHvnqI2s+DIt2nxBuevAUWttbkjZ6nFJizkl58Ra49rY03HGWcazwgejD+GbYwmfPRbkS+aN85OxyjFzbvAO8l34nXO/vK/7f/Fot2XDkv3Tym2Pvm5br94I+tO5r99mPbscMz9vKpuGhmzd5dPxw7VXlF3fH7Hjq5ekbPW4pMUc45xYa1wbexr3jLOMZ4UPjit88xiFz86xwOL855vIb8O5RD5mXjrPGeccb+cP7yzfnceCZ+azHUvjxm7LhrNN88oz//TZzOZ29B4sy3fnD9qV6+ei/Gl1uefGMXt4dlvKVo9LWswxzom1xrWxp3HPOMsxhg8eu/DNeRg++zsKLM495pWcX8DcwhyQcwGYB/j+8jv0eJHXmd/+LsiRzBXnGO8437XHiH5l/xzXrLGtlg30f7L7bXv5+hVoO9lZXvXqqK2Z05Oy1eOSFnOMc2Kt4489HW+c5TENH5yr4Zu/u/DZ4xhYjFgCoxEjc2rOrc5P5r+cB8EcyNyTcxCYf/im89sG3zXfR34nHkfyK/PMeciY5Nh47Oh7xuAYj97aZdkwe0NV8r7b9/2RstXjkhZzjHNirWOPPT3WcZbzOXzw+IZvRt/CZ6PPgcWIJTA6b6OugN+oAZ5PIv+C38hrUzlkKkeA33hj4Dd46TGN+IHfwAZ+GS9yO77/meLX2CvX9T1rntKcqzVD69n/amcleCvBWwneSvAmwZsEbxK8SfAmwQvBC8GbBG8SvEnwJsGbBG8leCvBWwneqsZLHSF8TsLnJHxOwuckfIbwGcJnCJ8hfIbwGcJnCJ8hfIbwGcLnJHxOwuckfE7C51TzmRpK8lWSfAXJV5B8BclXkHwFyVeQfAXJV5B8BclXkHwFyVeQfAXJV5B8BclXkHyVJF+lOl9R30ndgdQdSN2B1B1I3YHUHUjdgdQdSN2B1B1I3YHUHUjdgdQdSN2B1B1I3UFdd6hhRSdAdAJEJ0B0AkQnQHQCRCdAdAJEJ0B0AkQnQHQCRCdAdAJEJ0B0AkQnoNYJ1MWi3yD6DaLfIPoNot8g+g2i3yD6DaLfIPoNot8g+g2i3yD6DaLfUOs3anzRzxD9DNHPEP0M0c8Q/QzRzxD9DNHPEP0M0c8Q/QzRzxD9DNHPqPUzfZc+BdKnQPoUSJ8C6VMgfQqkT4H0KZA+BdKnQPoUSJ8C6VNQ9ynkvvRxkD4O0sdB+jhIHwfp4yB9HKSPg/RxqPs45k7pQyF9KKQPhfShkD4UdR/6L2n4Yjo=",
        "encoding": "base64",
        "path": [
         "vectors",
         "compressed_buffer"
        ]
       }
      ],
      "model_module": "k3d",
      "model_module_version": "2.6.9",
      "model_name": "ObjectModel",
      "state": {
       "_view_count": null,
       "_view_module": null,
       "_view_module_version": "",
       "_view_name": null,
       "colors": {
        "compressed_buffer": {},
        "dtype": "uint32",
        "shape": [
         316,
         2
        ]
       },
       "compression_level": 0,
       "head_color": 255,
       "head_size": 1,
       "id": 4773604600,
       "label_size": 1,
       "labels": [],
       "line_width": 0.01,
       "model_matrix": {
        "compressed_buffer": {},
        "dtype": "float32",
        "shape": [
         4,
         4
        ]
       },
       "name": null,
       "origin_color": 255,
       "origins": {
        "compressed_buffer": {},
        "dtype": "float32",
        "shape": [
         316,
         3
        ]
       },
       "type": "Vectors",
       "use_head": true,
       "vectors": {
        "compressed_buffer": {},
        "dtype": "float32",
        "shape": [
         316,
         3
        ]
       },
       "visible": true
      }
     },
     "8e044af9c4844465a570329a02257627": {
      "buffers": [
       {
        "data": "eNoDAAAAAAE=",
        "encoding": "base64",
        "path": [
         "colors",
         "compressed_buffer"
        ]
       },
       {
        "data": "eNpjYGiwZ8AAxIsBAF7EAv0=",
        "encoding": "base64",
        "path": [
         "model_matrix",
         "compressed_buffer"
        ]
       },
       {
        "data": "eNpN1sFx2zAQhlGVgFJQAbAlbCkoIUeWwONWEqsUlBIzMumXi/6DhHxvBuPB61Vfr9f5fv3/F+w/f9mD78zfXez2/Xn87P31u4sd7Ov8g/MPzj84/zmT3eJ35/fn+tmd3dhXz6Jn0bPoWfQsehY9i55Fz9PATvb1mTQnzUlz0pw0J81Jc9KcNCfNSXPSnDQnzfde7ven9e7v9Hf6O/2d/k5/p7/T3+nv9Hf6O/2d/k5/p//e131pWBqWhqVhaVgaloalYWlYGpaGpWFpWBqWhqVhuffhfn/6bte9k93ZjX193rvYwb5czx58Z/Jb9mZfrqeBnezFPtjX35X6+jUWxsJYGAtjYSyMhbEwFsbCWBgLY2EsjIWxMBbGe5/u96fp9gbewBt4A2/gDbyBN/AG3sAbeANv4A28gTfwBt7AG3ivjtt778VOdmc39uW9d7GDfX0+e/CdyW/Zm315nwZ2shf7YJ/u9+f/frwD78A78A68A+/AO/AOvAPvwDvwDrwD78A78A68A+/AO7jPk/s8uc+T+zy5z5P7PLnPk/s8uc+T+zy5z5P7PLnPk/s8uc+T+zy5z5P7PLnPk/s8+XuFt/AW3sJbeAtv4S28hbfwFt7CW3gLb+EtvIW38BZejRvjxrgxbowb48a4MW6MG+PGuDFujBvjxrgxbowb48Z1/f55JwTvhOCdELwTgndC8E4I3gnBOyF4JwTvhOCdELwTgndC8E4I3gnBOyF4J2DpWDqWjqVj6Vg6lo6lY+lYOpaOpWPpWDqWjqXTn/Qn/Ul/0p/0J/1Jf9Kf9Cf9SX/Sn/Qn/Um/zYvmRfOiedG8aF40L5oXzYvmRfOiedG8aLbnoOeg56DnoOeg56DnoOeg56DH80/OPzn/5PyT80/O/+x/yrtIFw==",
        "encoding": "base64",
        "path": [
         "positions",
         "compressed_buffer"
        ]
       }
      ],
      "model_module": "k3d",
      "model_module_version": "2.6.9",
      "model_name": "ObjectModel",
      "state": {
       "_view_count": null,
       "_view_module": null,
       "_view_module_version": "",
       "_view_name": null,
       "color": 10075135,
       "colors": {
        "compressed_buffer": {},
        "dtype": "uint32",
        "shape": [
         0
        ]
       },
       "compression_level": 0,
       "id": 4773604544,
       "mesh_detail": 2,
       "model_matrix": {
        "compressed_buffer": {},
        "dtype": "float32",
        "shape": [
         4,
         4
        ]
       },
       "name": null,
       "opacity": 1,
       "point_size": 0.1,
       "positions": {
        "compressed_buffer": {},
        "dtype": "float32",
        "shape": [
         316,
         3
        ]
       },
       "shader": "3dSpecular",
       "type": "Points",
       "visible": true
      }
     },
     "96fa6dca0394453cad80f9f5d2b1dbcc": {
      "model_module": "@jupyter-widgets/base",
      "model_module_version": "1.2.0",
      "model_name": "LayoutModel",
      "state": {}
     },
     "b9bc557be6af48738a3f07ec9f240ef9": {
      "model_module": "k3d",
      "model_module_version": "2.6.9",
      "model_name": "PlotModel",
      "state": {
       "_backend_version": "2.6.9",
       "_dom_classes": [],
       "_view_count": null,
       "antialias": 3,
       "axes": [
        "x",
        "y",
        "z"
       ],
       "background_color": 16777215,
       "camera": [
        11.282878174161333,
        -16.924317261242,
        1.128287817416143,
        0,
        0,
        0,
        0,
        0,
        1
       ],
       "camera_auto_fit": true,
       "camera_no_pan": false,
       "camera_no_rotate": false,
       "camera_no_zoom": false,
       "clipping_planes": [],
       "colorbar_object_id": -1,
       "fps_meter": false,
       "grid": [
        -1,
        -1,
        -1,
        1,
        1,
        1
       ],
       "grid_auto_fit": true,
       "grid_visible": true,
       "height": 512,
       "layout": "IPY_MODEL_79c3f19f4d1049b5bd00119106f341ba",
       "lighting": 1,
       "menu_visibility": true,
       "object_ids": [
        4773604600,
        4773604544
       ],
       "rendering_steps": 1,
       "screenshot": "",
       "screenshot_scale": 2,
       "time": 0,
       "voxel_paint_color": 0
      }
     }
    },
    "version_major": 2,
    "version_minor": 0
   }
  }
 },
 "nbformat": 4,
 "nbformat_minor": 2
}
