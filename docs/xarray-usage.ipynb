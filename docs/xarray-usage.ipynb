{
 "cells": [
  {
   "cell_type": "markdown",
   "id": "8d04a175",
   "metadata": {},
   "source": [
    "# Importing/Exporting field from/to `xarray.DataArray`\n",
    "\n",
    "[`xarray`](https://docs.xarray.dev/en/stable/) provides a convenient method to handle *labeled* multi-dimensional arrays. It integrates well with `numpy` and `pandas` for fast array manipulation, as well as `matplotlib` for visualization. This makes it a good candidate to carry `discretisedfield.Field` data and additional metadata such as field name and unit (which appear in the plots rendered by `matplotlib`).\n",
    "\n",
    "## Exporting `discretisedfield.Field` to `xarray.DataArray`\n",
    "\n",
    "`to_xarray` method of the `discretisedfield.Field` object is utilised to export the field data to a DataArray."
   ]
  },
  {
   "cell_type": "code",
   "execution_count": 22,
   "id": "756dbabb",
   "metadata": {},
   "outputs": [
    {
     "data": {
      "text/html": [
       "<strong>Field</strong>\n",
       "<ul>\n",
       "  \n",
       "  <li><strong>Mesh</strong>\n",
       "<ul>\n",
       "  <li><strong>Region</strong>\n",
       "<ul>\n",
       "  <li>p1 = (0, 0, 0)</li>\n",
       "  <li>p2 = (1e-08, 1e-08, 1e-08)</li>\n",
       "</ul></li>\n",
       "  <li>n = (2, 2, 2)</li>\n",
       "  <li>attributes:\n",
       "    <ul>\n",
       "      <li>unit: m</li>\n",
       "      <li>fourierspace: False</li>\n",
       "      <li>isplane: False</li>\n",
       "      </ul>\n",
       "  </li>\n",
       "</ul></li>\n",
       "  <li>dim = 3</li>\n",
       "  <li>components:\n",
       "      <ul><li>x</li>\n",
       "        <li>y</li>\n",
       "        <li>z</li>\n",
       "        </ul>\n",
       "    </li>\n",
       "  </ul>"
      ],
      "text/plain": [
       "Field(Mesh(Region(p1=(0, 0, 0), p2=(1e-08, 1e-08, 1e-08)), n=(2, 2, 2), attributes: (unit: m, fourierspace: False, isplane: False)), dim=3, components: (x, y, z))"
      ]
     },
     "execution_count": 22,
     "metadata": {},
     "output_type": "execute_result"
    }
   ],
   "source": [
    "import discretisedfield as df\n",
    "\n",
    "p1 = (0, 0, 0)\n",
    "p2 = (10e-9, 10e-9, 10e-9)\n",
    "cell = (5e-9, 5e-9, 5e-9)\n",
    "\n",
    "mesh = df.Mesh(p1=p1, p2=p2, cell=cell)\n",
    "field = df.Field(mesh=mesh, dim=3, value=(0, 0, 1))\n",
    "field"
   ]
  },
  {
   "cell_type": "code",
   "execution_count": 43,
   "id": "705c72bc",
   "metadata": {},
   "outputs": [
    {
     "name": "stdout",
     "output_type": "stream",
     "text": [
      "<xarray.DataArray 'field' (x: 2, y: 2, z: 2, comp: 3)>\n",
      "array([[[[0., 0., 1.],\n",
      "         [0., 0., 1.]],\n",
      "\n",
      "        [[0., 0., 1.],\n",
      "         [0., 0., 1.]]],\n",
      "\n",
      "\n",
      "       [[[0., 0., 1.],\n",
      "         [0., 0., 1.]],\n",
      "\n",
      "        [[0., 0., 1.],\n",
      "         [0., 0., 1.]]]])\n",
      "Coordinates:\n",
      "  * x        (x) float64 2.5e-09 7.5e-09\n",
      "  * y        (y) float64 2.5e-09 7.5e-09\n",
      "  * z        (z) float64 2.5e-09 7.5e-09\n",
      "  * comp     (comp) <U1 'x' 'y' 'z'\n",
      "Attributes:\n",
      "    units:    None\n",
      "    cell:     (5e-09, 5e-09, 5e-09)\n",
      "    p1:       (0, 0, 0)\n",
      "    p2:       (1e-08, 1e-08, 1e-08)\n"
     ]
    }
   ],
   "source": [
    "xarray = field.to_xarray()\n",
    "print(xarray)"
   ]
  },
  {
   "cell_type": "markdown",
   "id": "74b90652",
   "metadata": {},
   "source": [
    "The `DataArray` has four dimensions. Dimensions `x`, `y`, and `z` represent the geometric axes and their respective coordinates store the midpoints of cell edges along respective axes, while `comp` represents the components of the *field*. There will be no `comp` dimension if the stored field is a scalar field.\n",
    "\n",
    "By default, the `DataArray` has four attributes, namely `units`, `cell`, `p1`, and `p2`. The last three attributes store the information about the mesh, and they prove useful for mesh reconstruction [from a `DataArray`](#from_xarray) object. The `units` attribute stores the unit of the field.  \n",
    "\n",
    "By default, the DataArray name is `'field'` and `units` attribute is `None`. This can be set by passing the `to_xarray` method with `name` and `units` arguments."
   ]
  },
  {
   "cell_type": "code",
   "execution_count": 24,
   "id": "06e1f104",
   "metadata": {},
   "outputs": [
    {
     "name": "stdout",
     "output_type": "stream",
     "text": [
      "Name of the DataArray is m.\n",
      "Units of the DataArray is A/m.\n"
     ]
    }
   ],
   "source": [
    "xarray_2 = field.to_xarray(name='m', units='A/m')\n",
    "print(f\"Name of the DataArray is {xarray_2.name}.\")\n",
    "print(f\"Units of the DataArray is {xarray_2.attrs['units']}.\")"
   ]
  },
  {
   "cell_type": "markdown",
   "id": "7036a83b",
   "metadata": {},
   "source": [
    "### Few useful `xarray.DataArray` methods\n",
    "\n",
    "The underlying array can be accessed through:"
   ]
  },
  {
   "cell_type": "code",
   "execution_count": 25,
   "id": "e0871c7a",
   "metadata": {},
   "outputs": [
    {
     "data": {
      "text/plain": [
       "array([[[[0., 0., 1.],\n",
       "         [0., 0., 1.]],\n",
       "\n",
       "        [[0., 0., 1.],\n",
       "         [0., 0., 1.]]],\n",
       "\n",
       "\n",
       "       [[[0., 0., 1.],\n",
       "         [0., 0., 1.]],\n",
       "\n",
       "        [[0., 0., 1.],\n",
       "         [0., 0., 1.]]]])"
      ]
     },
     "execution_count": 25,
     "metadata": {},
     "output_type": "execute_result"
    }
   ],
   "source": [
    "xarray.values"
   ]
  },
  {
   "cell_type": "markdown",
   "id": "548e904a",
   "metadata": {},
   "source": [
    "It is possible to select the cross-section of the magnetisation along a particular axis as:"
   ]
  },
  {
   "cell_type": "code",
   "execution_count": 26,
   "id": "c8c2e2b9",
   "metadata": {},
   "outputs": [
    {
     "name": "stdout",
     "output_type": "stream",
     "text": [
      "<xarray.DataArray 'field' (y: 2, z: 2, comp: 3)>\n",
      "array([[[0., 0., 1.],\n",
      "        [0., 0., 1.]],\n",
      "\n",
      "       [[0., 0., 1.],\n",
      "        [0., 0., 1.]]])\n",
      "Coordinates:\n",
      "    x        float64 2.5e-09\n",
      "  * y        (y) float64 2.5e-09 7.5e-09\n",
      "  * z        (z) float64 2.5e-09 7.5e-09\n",
      "  * comp     (comp) <U1 'x' 'y' 'z'\n",
      "Attributes:\n",
      "    units:    None\n",
      "    cell:     (5e-09, 5e-09, 5e-09)\n",
      "    p1:       (0, 0, 0)\n",
      "    p2:       (1e-08, 1e-08, 1e-08)\n"
     ]
    }
   ],
   "source": [
    "print(xarray.sel(x=2e-9, method=\"nearest\"))"
   ]
  },
  {
   "cell_type": "markdown",
   "id": "099a58c4",
   "metadata": {},
   "source": [
    "The `DataArray.sel` method returns a new `DataArray` with only one coordinate along x axis and hence a cross-section. The `method=\"nearest\"` argument matches the value along x axis with the nearest midpoint.\n",
    "\n",
    "Similarly, one can also obtain a desired component of the field as:"
   ]
  },
  {
   "cell_type": "code",
   "execution_count": 27,
   "id": "c407c775",
   "metadata": {},
   "outputs": [
    {
     "name": "stdout",
     "output_type": "stream",
     "text": [
      "<xarray.DataArray 'field' (x: 2, y: 2, z: 2)>\n",
      "array([[[1., 1.],\n",
      "        [1., 1.]],\n",
      "\n",
      "       [[1., 1.],\n",
      "        [1., 1.]]])\n",
      "Coordinates:\n",
      "  * x        (x) float64 2.5e-09 7.5e-09\n",
      "  * y        (y) float64 2.5e-09 7.5e-09\n",
      "  * z        (z) float64 2.5e-09 7.5e-09\n",
      "    comp     <U1 'z'\n",
      "Attributes:\n",
      "    units:    None\n",
      "    cell:     (5e-09, 5e-09, 5e-09)\n",
      "    p1:       (0, 0, 0)\n",
      "    p2:       (1e-08, 1e-08, 1e-08)\n"
     ]
    }
   ],
   "source": [
    "print(xarray.sel(comp='z'))"
   ]
  },
  {
   "cell_type": "markdown",
   "id": "bd74f346",
   "metadata": {},
   "source": [
    "One can take this a step forward and obtain a new `DataArray` representing z component of the field on an x-axis cross-section of the geometry."
   ]
  },
  {
   "cell_type": "code",
   "execution_count": 28,
   "id": "12bbf39b",
   "metadata": {},
   "outputs": [
    {
     "name": "stdout",
     "output_type": "stream",
     "text": [
      "<xarray.DataArray 'field' (y: 2, z: 2)>\n",
      "array([[1., 1.],\n",
      "       [1., 1.]])\n",
      "Coordinates:\n",
      "    x        float64 2.5e-09\n",
      "  * y        (y) float64 2.5e-09 7.5e-09\n",
      "  * z        (z) float64 2.5e-09 7.5e-09\n",
      "    comp     <U1 'z'\n",
      "Attributes:\n",
      "    units:    None\n",
      "    cell:     (5e-09, 5e-09, 5e-09)\n",
      "    p1:       (0, 0, 0)\n",
      "    p2:       (1e-08, 1e-08, 1e-08)\n"
     ]
    }
   ],
   "source": [
    "print(xarray.sel(comp='z').sel(x=2e-9, method=\"nearest\"))"
   ]
  },
  {
   "cell_type": "markdown",
   "id": "ae54803d",
   "metadata": {},
   "source": [
    "One can also plot the above `DataArray` as:"
   ]
  },
  {
   "cell_type": "code",
   "execution_count": 39,
   "id": "3e779a69",
   "metadata": {},
   "outputs": [
    {
     "data": {
      "image/png": "[encoded data removed]",
      "text/plain": [
       "<Figure size 576x432 with 2 Axes>"
      ]
     },
     "metadata": {},
     "output_type": "display_data"
    }
   ],
   "source": [
    "xarray.sel(comp='z').sel(x=2e-9, method=\"nearest\").plot();"
   ]
  },
  {
   "cell_type": "markdown",
   "id": "fafc118b",
   "metadata": {},
   "source": [
    "Notice that proper units and labels on the plot are displayed by default. The full list of `xarray.DataArray` methods can be found in the [API reference](https://docs.xarray.dev/en/stable/api.html)."
   ]
  },
  {
   "cell_type": "markdown",
   "id": "fac0b5cc",
   "metadata": {},
   "source": [
    "### `to_xarray` exceptions\n",
    "\n",
    "The `to_xarray` method raises `TypeError` if either `name` or `units` arguments are not strings."
   ]
  },
  {
   "cell_type": "markdown",
   "id": "7d7623ea",
   "metadata": {},
   "source": [
    "<a id='from_xarray'></a>\n",
    "## Importing `discretisedfield.Field` from `xarray.DataArray`"
   ]
  },
  {
   "cell_type": "markdown",
   "id": "a7a16de3",
   "metadata": {},
   "source": [
    "It is possible to create a `discretisedfield.Field` from an `xarray.DataArray` with the help of class method `from_xarray`. As a first step, we convert the `xarray.DataArray` created by `to_xarray` method to a new `discretisedfield.Field`."
   ]
  },
  {
   "cell_type": "code",
   "execution_count": 32,
   "id": "3953428f",
   "metadata": {},
   "outputs": [
    {
     "data": {
      "text/html": [
       "<strong>Field</strong>\n",
       "<ul>\n",
       "  \n",
       "  <li><strong>Mesh</strong>\n",
       "<ul>\n",
       "  <li><strong>Region</strong>\n",
       "<ul>\n",
       "  <li>p1 = (0, 0, 0)</li>\n",
       "  <li>p2 = (1e-08, 1e-08, 1e-08)</li>\n",
       "</ul></li>\n",
       "  <li>n = (2, 2, 2)</li>\n",
       "  <li>attributes:\n",
       "    <ul>\n",
       "      <li>unit: m</li>\n",
       "      <li>fourierspace: False</li>\n",
       "      <li>isplane: False</li>\n",
       "      </ul>\n",
       "  </li>\n",
       "</ul></li>\n",
       "  <li>dim = 3</li>\n",
       "  <li>components:\n",
       "      <ul><li>x</li>\n",
       "        <li>y</li>\n",
       "        <li>z</li>\n",
       "        </ul>\n",
       "    </li>\n",
       "  </ul>"
      ],
      "text/plain": [
       "Field(Mesh(Region(p1=(0, 0, 0), p2=(1e-08, 1e-08, 1e-08)), n=(2, 2, 2), attributes: (unit: m, fourierspace: False, isplane: False)), dim=3, components: (x, y, z))"
      ]
     },
     "execution_count": 32,
     "metadata": {},
     "output_type": "execute_result"
    }
   ],
   "source": [
    "field_new = df.Field.from_xarray(xarray)\n",
    "field_new"
   ]
  },
  {
   "cell_type": "markdown",
   "id": "97a32e8c",
   "metadata": {},
   "source": [
    "One can also first define an `xarray.DataArray` and then convert it to `discretisedfield.Field`."
   ]
  },
  {
   "cell_type": "markdown",
   "id": "6db802ff",
   "metadata": {},
   "source": [
    "<a id='good_xarray'></a>"
   ]
  },
  {
   "cell_type": "code",
   "execution_count": 45,
   "id": "7dc09fa2",
   "metadata": {},
   "outputs": [
    {
     "name": "stdout",
     "output_type": "stream",
     "text": [
      "<xarray.DataArray 'mag' (x: 2, y: 2, z: 2, comp: 3)>\n",
      "array([[[[1., 1., 1.],\n",
      "         [1., 1., 1.]],\n",
      "\n",
      "        [[1., 1., 1.],\n",
      "         [1., 1., 1.]]],\n",
      "\n",
      "\n",
      "       [[[1., 1., 1.],\n",
      "         [1., 1., 1.]],\n",
      "\n",
      "        [[1., 1., 1.],\n",
      "         [1., 1., 1.]]]])\n",
      "Coordinates:\n",
      "  * x        (x) float64 2.5e-09 7.5e-09\n",
      "  * y        (y) float64 2.5e-09 7.5e-09\n",
      "  * z        (z) float64 2.5e-09 7.5e-09\n",
      "  * comp     (comp) <U1 'x' 'y' 'z'\n",
      "Attributes:\n",
      "    cell:     [5e-09, 5e-09, 5e-09]\n",
      "    p1:       [0.0, 0.0, 0.0]\n",
      "    p2:       [1e-08, 1e-08, 1e-08]\n"
     ]
    }
   ],
   "source": [
    "import numpy as np\n",
    "import xarray as xr\n",
    "\n",
    "xdr = xr.DataArray(np.ones((2, 2, 2, 3), dtype=float),\n",
    "                   dims = ['x', 'y', 'z', 'comp'],\n",
    "                   coords = dict(x=np.arange(2.5e-9, 1e-8, 5e-9),\n",
    "                                 y=np.arange(2.5e-9, 1e-8, 5e-9),\n",
    "                                 z=np.arange(2.5e-9, 1e-8, 5e-9),\n",
    "                                 comp=['x', 'y', 'z']),\n",
    "                   name = 'mag',\n",
    "                   attrs = dict(cell=[5e-9, 5e-9, 5e-9],\n",
    "                                p1=[0., 0., 0.],\n",
    "                                p2=[1e-8, 1e-8, 1e-8]))\n",
    "print(xdr)"
   ]
  },
  {
   "cell_type": "code",
   "execution_count": 34,
   "id": "7f73806e",
   "metadata": {},
   "outputs": [
    {
     "data": {
      "text/html": [
       "<strong>Field</strong>\n",
       "<ul>\n",
       "  \n",
       "  <li><strong>Mesh</strong>\n",
       "<ul>\n",
       "  <li><strong>Region</strong>\n",
       "<ul>\n",
       "  <li>p1 = (0.0, 0.0, 0.0)</li>\n",
       "  <li>p2 = (1e-08, 1e-08, 1e-08)</li>\n",
       "</ul></li>\n",
       "  <li>n = (2, 2, 2)</li>\n",
       "  <li>attributes:\n",
       "    <ul>\n",
       "      <li>unit: m</li>\n",
       "      <li>fourierspace: False</li>\n",
       "      <li>isplane: False</li>\n",
       "      </ul>\n",
       "  </li>\n",
       "</ul></li>\n",
       "  <li>dim = 3</li>\n",
       "  <li>components:\n",
       "      <ul><li>x</li>\n",
       "        <li>y</li>\n",
       "        <li>z</li>\n",
       "        </ul>\n",
       "    </li>\n",
       "  </ul>"
      ],
      "text/plain": [
       "Field(Mesh(Region(p1=(0.0, 0.0, 0.0), p2=(1e-08, 1e-08, 1e-08)), n=(2, 2, 2), attributes: (unit: m, fourierspace: False, isplane: False)), dim=3, components: (x, y, z))"
      ]
     },
     "execution_count": 34,
     "metadata": {},
     "output_type": "execute_result"
    }
   ],
   "source": [
    "field_xdr = df.Field.from_xarray(xdr)\n",
    "field_xdr"
   ]
  },
  {
   "cell_type": "markdown",
   "id": "c040b8a9",
   "metadata": {},
   "source": [
    "### `from_xarray` exceptions and expected properties of input `xarray.DataArray`\n",
    "\n",
    "The input argument of `from_xarray` must be an `xarray.DataArray`, otherwise a `TypeError` is raised. Further, the input `xarray.DataArray` must have following properties in order to obtain a `discretisedfield.Field`:\n",
    "1. The dimensions must be either three or four depending on whether the field is scalar or vector. If not, a `ValueError` is raised.\n",
    "2. The name of the dimensions must be `x`, `y`, `z`, and `comp` (if a vector field). If not, a `ValueError` is raised.\n",
    "3. The coordinates of the `x`, `y`, and `z` dimensions must be equally spaced. If not, a `ValueError` is raised.\n",
    "\n",
    "Lastly, **it is strongly advised that the input `xarray.DataArray` should have `p1`, `p2`, and `cell` attributes** required for the reconstruction of the mesh. The `xarray.DataArray` in the [above example](#good_xarray) has all these properties."
   ]
  }
 ],
 "metadata": {
  "kernelspec": {
   "display_name": "Python 3 (ipykernel)",
   "language": "python",
   "name": "python3"
  },
  "language_info": {
   "codemirror_mode": {
    "name": "ipython",
    "version": 3
   },
   "file_extension": ".py",
   "mimetype": "text/x-python",
   "name": "python",
   "nbconvert_exporter": "python",
   "pygments_lexer": "ipython3",
   "version": "3.8.12"
  },
  "widgets": {
   "application/vnd.jupyter.widget-state+json": {
    "state": {},
    "version_major": 2,
    "version_minor": 0
   }
  }
 },
 "nbformat": 4,
 "nbformat_minor": 5
}
