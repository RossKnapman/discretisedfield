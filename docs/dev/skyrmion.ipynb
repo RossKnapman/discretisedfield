{
 "cells": [
  {
   "cell_type": "code",
   "execution_count": 4,
   "metadata": {},
   "outputs": [],
   "source": [
    "import oommfc as oc\n",
    "import discretisedfield as df\n",
    "import numpy as np\n",
    "import ipyvolume as iv\n",
    "import matplotlib.cm as cm\n",
    "%matplotlib inline"
   ]
  },
  {
   "cell_type": "code",
   "execution_count": 5,
   "metadata": {},
   "outputs": [],
   "source": [
    "def quiver(field, Ms, coord='z', **kwargs):\n",
    "    x, y, z = np.array(list(field.mesh.coordinates)).T\n",
    "    u, v, w = field.array.T\n",
    "    u = u.flatten()\n",
    "    v = v.flatten()\n",
    "    w = w.flatten()\n",
    "    iv.figure(width=600, height=800)\n",
    "    iv.xlim(-diametre/2, diametre/2)\n",
    "    iv.ylim(-diametre/2, diametre/2)\n",
    "    iv.zlim(0, thickness)\n",
    "    \n",
    "    if coord == 'x':\n",
    "        p = u.copy()\n",
    "    elif coord == 'y':\n",
    "        p = v.copy()\n",
    "    elif coord == 'z':\n",
    "        p = w.copy()\n",
    "    \n",
    "    c = p / Ms * 0.5 + 0.5\n",
    "    # cm.{colormap name} to get a specific colourmap.\n",
    "    # Not sure how to change it such that we can fetch\n",
    "    # it to pass as an option.\n",
    "    colors = cm.RdBu(c)\n",
    "    return iv.quiver(x, y, z, u, v, w, color=colors[:, :3], **kwargs)"
   ]
  },
  {
   "cell_type": "code",
   "execution_count": 6,
   "metadata": {},
   "outputs": [
    {
     "name": "stdout",
     "output_type": "stream",
     "text": [
      "2018/6/22 15:43: Calling OOMMF (skyrmion/skyrmion.mif) ... [4.7s]\n"
     ]
    },
    {
     "data": {
      "application/vnd.jupyter.widget-view+json": {
       "model_id": "00e23071b68846de8ae0fa6f32b0b125",
       "version_major": 2,
       "version_minor": 0
      },
      "text/plain": [
       "VBox(children=(Figure(camera_center=[0.0, 0.0, 0.0], height=800, matrix_projection=[0.0, 0.0, 0.0, 0.0, 0.0, 0…"
      ]
     },
     "metadata": {},
     "output_type": "display_data"
    }
   ],
   "source": [
    "diametre = 100e-9\n",
    "thickness = 10e-9\n",
    "d = 2e-9\n",
    "Ms = 8.84e5\n",
    "\n",
    "mesh = oc.Mesh(p1=(-diametre/2, -diametre/2, 0), p2=(diametre/2, diametre/2, thickness), cell=(d, d, d))\n",
    "\n",
    "system = oc.System(name=\"skyrmion\")\n",
    "\n",
    "def Ms_fun(pos):\n",
    "    x, y, z = pos\n",
    "    if x**2 + y**2 <= (diametre/2)**2:\n",
    "        return Ms\n",
    "    else:\n",
    "        return 0\n",
    "    \n",
    "def m_init(pos):\n",
    "    x, y, z = pos\n",
    "    if x**2 + y**2 <= (20e-9)**2:\n",
    "        return (0, 0, -1)\n",
    "    else:\n",
    "        return (0, 0, 1)\n",
    "\n",
    "system.hamiltonian = oc.Exchange(A=8.78e-12) + oc.DMI(D=1.58e-3, crystalclass=\"t\") + oc.Demag() + oc.Zeeman(H=(0, 0, 2e5))\n",
    "system.m = df.Field(mesh, value=m_init, norm=Ms_fun)\n",
    "\n",
    "md = oc.MinDriver()\n",
    "md.drive(system)\n",
    "\n",
    "\n",
    "fig = quiver(system.m, Ms, coord='z', size=3)\n",
    "iv.gcc()"
   ]
  },
  {
   "cell_type": "code",
   "execution_count": 7,
   "metadata": {},
   "outputs": [
    {
     "name": "stdout",
     "output_type": "stream",
     "text": [
      "2018/6/22 15:43: Calling OOMMF (skyrmion_pbc/skyrmion_pbc.mif) ... [2.9s]\n"
     ]
    },
    {
     "data": {
      "application/vnd.jupyter.widget-view+json": {
       "model_id": "644058868ccf4627a0a7321543d48d6f",
       "version_major": 2,
       "version_minor": 0
      },
      "text/plain": [
       "VBox(children=(Figure(camera_center=[0.0, 0.0, 0.0], height=800, matrix_projection=[0.0, 0.0, 0.0, 0.0, 0.0, 0…"
      ]
     },
     "metadata": {},
     "output_type": "display_data"
    }
   ],
   "source": [
    "diametre = 50e-9\n",
    "thickness = 10e-9\n",
    "d = 1e-9\n",
    "\n",
    "mesh = oc.Mesh(p1=(-diametre/2, -diametre/2, 0), p2=(diametre/2, diametre/2, thickness), pbc='xy', cell=(d, d, d))\n",
    "\n",
    "system = oc.System(name=\"skyrmion_pbc\")\n",
    "\n",
    "system.hamiltonian = oc.Exchange(A=8.78e-12) + oc.DMI(D=4e-3, crystalclass=\"t\") + oc.Zeeman(H=(0, 0, 1e5))\n",
    "system.m = df.Field(mesh, value=m_init, norm=8e6)\n",
    "\n",
    "md = oc.MinDriver()\n",
    "md.drive(system)\n",
    "\n",
    "fig = quiver(system.m, Ms, coord='z', size=3)\n",
    "iv.gcc()"
   ]
  }
 ],
 "metadata": {
  "kernelspec": {
   "display_name": "Python 3",
   "language": "python",
   "name": "python3"
  },
  "language_info": {
   "codemirror_mode": {
    "name": "ipython",
    "version": 3
   },
   "file_extension": ".py",
   "mimetype": "text/x-python",
   "name": "python",
   "nbconvert_exporter": "python",
   "pygments_lexer": "ipython3",
   "version": "3.6.3"
  }
 },
 "nbformat": 4,
 "nbformat_minor": 2
}
