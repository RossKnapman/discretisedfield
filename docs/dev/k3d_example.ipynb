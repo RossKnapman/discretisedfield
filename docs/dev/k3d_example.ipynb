{
 "cells": [
  {
   "cell_type": "markdown",
   "metadata": {},
   "source": [
    "# Example k3d in discretisedfield"
   ]
  },
  {
   "cell_type": "code",
   "execution_count": 1,
   "metadata": {},
   "outputs": [
    {
     "name": "stderr",
     "output_type": "stream",
     "text": [
      "/Users/sergii.mamedov/Documents/joommf/discretisedfield/discretisedfield/__init__.py:4: UserWarning: matplotlib.pyplot as already been imported, this call will have no effect.\n",
      "  matplotlib.use(\"agg\")\n"
     ]
    }
   ],
   "source": [
    "import k3d\n",
    "import pylab\n",
    "import matplotlib\n",
    "import numpy as np\n",
    "import discretisedfield as df\n",
    "import matplotlib.pyplot as plt\n",
    "%matplotlib inline"
   ]
  },
  {
   "cell_type": "markdown",
   "metadata": {},
   "source": [
    "## Simple sample"
   ]
  },
  {
   "cell_type": "markdown",
   "metadata": {},
   "source": [
    "Create a 10 x 10 x 10 nm sample. The initial field is directed along the X axis, in a volume bounded by a sphere with a diameter of 5 nm."
   ]
  },
  {
   "cell_type": "code",
   "execution_count": 2,
   "metadata": {},
   "outputs": [],
   "source": [
    "size = 10\n",
    "sphere = 10\n",
    "mesh = df.Mesh(p1=(-size, -size, -size), p2=(size, size, size), cell=(1, 1, 1))\n",
    "\n",
    "def val(pos):\n",
    "    x, y, z = pos\n",
    "    return x*1.5, x, 0#y, x, x*y\n",
    "\n",
    "def norm_fun(pos):\n",
    "    x, y, z = pos\n",
    "    #if x**2 + y**2 + z**2 < sphere**2:\n",
    "    if x**2 + y**2 < sphere**2:\n",
    "        return 1\n",
    "    else:\n",
    "        return 0\n",
    "\n",
    "field = df.Field(mesh, value=val, norm=norm_fun)"
   ]
  },
  {
   "cell_type": "markdown",
   "metadata": {},
   "source": [
    "## Vector field"
   ]
  },
  {
   "cell_type": "markdown",
   "metadata": {},
   "source": [
    "We need create of vector field from `field.array`. We exclude all zero length vectors in our case."
   ]
  },
  {
   "cell_type": "markdown",
   "metadata": {},
   "source": [
    "Get the values of vectors from the field and select only non-zero vectors"
   ]
  },
  {
   "cell_type": "code",
   "execution_count": 3,
   "metadata": {},
   "outputs": [],
   "source": [
    "field_ = field.array.copy()\n",
    "vectors = field_.reshape(-1,3)\n",
    "vectors_nonzero = vectors[np.sum(vectors**2,axis=-1) !=0]"
   ]
  },
  {
   "cell_type": "markdown",
   "metadata": {},
   "source": [
    "Get the vector start coordinates and select only non-zero vectors"
   ]
  },
  {
   "cell_type": "code",
   "execution_count": 4,
   "metadata": {},
   "outputs": [],
   "source": [
    "origins = np.array(list(field.mesh.coordinates))\n",
    "origins_nonzero = origins[np.sum(vectors**2,axis=-1) !=0]"
   ]
  },
  {
   "cell_type": "markdown",
   "metadata": {},
   "source": [
    "Shift non-zero vector start coordinate to the center of cell"
   ]
  },
  {
   "cell_type": "code",
   "execution_count": 5,
   "metadata": {},
   "outputs": [],
   "source": [
    "origins_nonzero -= 0.5 * vectors_nonzero"
   ]
  },
  {
   "cell_type": "markdown",
   "metadata": {},
   "source": [
    "### Same color\n",
    "Plotting vector field with single color for all vectors. Decrease value of all vectors for vector_scale constant."
   ]
  },
  {
   "cell_type": "code",
   "execution_count": 6,
   "metadata": {},
   "outputs": [
    {
     "name": "stderr",
     "output_type": "stream",
     "text": [
      "/Users/sergii.mamedov/miniconda3/envs/joommf2/lib/python3.6/site-packages/traittypes/traittypes.py:101: UserWarning: Given trait value dtype \"float64\" does not match required type \"float32\". A coerced copy has been created.\n",
      "  np.dtype(self.dtype).name))\n"
     ]
    },
    {
     "data": {
      "application/vnd.jupyter.widget-view+json": {
       "model_id": "63b3c4cdc860441ea0b08c2ca62b8cfa",
       "version_major": 2,
       "version_minor": 0
      },
      "text/plain": [
       "Output()"
      ]
     },
     "metadata": {},
     "output_type": "display_data"
    }
   ],
   "source": [
    "color = 0xff\n",
    "vector_scale = 1.0\n",
    "\n",
    "plot = k3d.plot()\n",
    "plt  = k3d.vectors(origins_nonzero, vector_scale*vectors_nonzero, color=color)\n",
    "plt_centers = k3d.points(np.array(list(field.mesh.coordinates)))\n",
    "plt_centers.point_size = 0.1\n",
    "plt_centers.color = 0x00ff00\n",
    "plot += plt_centers\n",
    "plot += plt\n",
    "plot.display()"
   ]
  },
  {
   "cell_type": "markdown",
   "metadata": {},
   "source": [
    "### Different colors\n",
    "If we want to use different colors for the vectors, we use the color set from the package **pylab** (`pylab.cm.get_cmap()`). "
   ]
  },
  {
   "cell_type": "code",
   "execution_count": 7,
   "metadata": {},
   "outputs": [],
   "source": [
    "# return a list of tuple (r, g, b) color coordinate\n",
    "def _get_colormap(name, n):\n",
    "    data = []\n",
    "    cmap = pylab.cm.get_cmap(name, n)\n",
    "    for i in range(cmap.N):\n",
    "        rgb = cmap(i)[:3]\n",
    "        data.append(rgb)\n",
    "\n",
    "    return np.array(data)"
   ]
  },
  {
   "cell_type": "markdown",
   "metadata": {},
   "source": [
    "We find the minimum and maximum value of the projection of the vector on the selected axis (`direction={0, 1, 2}`) and divide this range into 256. Thus, for each vector we set one of the colors from the colormap.\n",
    "If it is constant field - using middle value of colormap."
   ]
  },
  {
   "cell_type": "code",
   "execution_count": 8,
   "metadata": {},
   "outputs": [],
   "source": [
    "direction = 0\n",
    "\n",
    "projection = vectors_nonzero[:, direction]\n",
    "if projection.max() - projection.min() > 0.0:\n",
    "    projection = list((projection + abs(projection.min())) / (projection.max() - projection.min()) * 255)\n",
    "else:\n",
    "    projection = [128 for i in vectors_nonzero] # constant field\n",
    "projection = [int(i) for i in projection]"
   ]
  },
  {
   "cell_type": "markdown",
   "metadata": {},
   "source": [
    "Divide values of vectors and colormap set into 256 bins, and match each vector with a specific color."
   ]
  },
  {
   "cell_type": "code",
   "execution_count": 9,
   "metadata": {},
   "outputs": [],
   "source": [
    "colormap_name = 'viridis'\n",
    "\n",
    "bins = np.array([i for i in range(256)])\n",
    "colormap = _get_colormap(colormap_name, 256)\n",
    "\n",
    "projection = colormap[np.digitize(projection, bins, right=True)]\n",
    "colors = ['0x{}'.format(matplotlib.colors.rgb2hex(rgb)[1:]) for rgb in projection]\n",
    "colors = [(int(i, 16), int(i, 16)) for i in colors]"
   ]
  },
  {
   "cell_type": "markdown",
   "metadata": {},
   "source": [
    "Plotting vector field. Decrease value of all vectors for vector_scale constant."
   ]
  },
  {
   "cell_type": "code",
   "execution_count": 10,
   "metadata": {},
   "outputs": [
    {
     "data": {
      "application/vnd.jupyter.widget-view+json": {
       "model_id": "be6c2f279ffb440283fb4751e03a660f",
       "version_major": 2,
       "version_minor": 0
      },
      "text/plain": [
       "Output()"
      ]
     },
     "metadata": {},
     "output_type": "display_data"
    }
   ],
   "source": [
    "plot = k3d.plot()\n",
    "plt  = k3d.vectors(origins_nonzero, vector_scale*vectors_nonzero, colors=colors)\n",
    "plot += plt\n",
    "plot.display()"
   ]
  },
  {
   "cell_type": "markdown",
   "metadata": {},
   "source": [
    "**Question**:\n",
    "\n",
    "* How add the legend?"
   ]
  },
  {
   "cell_type": "markdown",
   "metadata": {},
   "source": [
    "# Scalor filed"
   ]
  },
  {
   "cell_type": "markdown",
   "metadata": {},
   "source": [
    "Create a 10 x 10 x 10 nm sample. The initial field is directed along the X axis, in a volume bounded by a sphere with a diameter of 5 nm."
   ]
  },
  {
   "cell_type": "code",
   "execution_count": 11,
   "metadata": {},
   "outputs": [],
   "source": [
    "size = 5\n",
    "mesh = df.Mesh(p1=(-size, -size, -size), p2=(size, size, size), cell=(1, 1, 1))\n",
    "\n",
    "def val(pos):\n",
    "    x, y, z = pos\n",
    "    return y*x\n",
    "\n",
    "field_scalor = df.Field(mesh, value=val, dim=1)"
   ]
  },
  {
   "cell_type": "markdown",
   "metadata": {},
   "source": [
    "Plotting scalor field. Using existed colormap set."
   ]
  },
  {
   "cell_type": "code",
   "execution_count": 12,
   "metadata": {},
   "outputs": [
    {
     "data": {
      "application/vnd.jupyter.widget-view+json": {
       "model_id": "3c7ebe5c2c1e49ed96eff99ec2ef31ef",
       "version_major": 2,
       "version_minor": 0
      },
      "text/plain": [
       "Output()"
      ]
     },
     "metadata": {},
     "output_type": "display_data"
    }
   ],
   "source": [
    "plot = k3d.plot()\n",
    "plt  = k3d.volume(field_scalor.array, bounds=[-size, size, -size, size, -size, size],\n",
    "                  color_map=np.array(k3d.basic_color_maps.Jet, dtype=np.float32),\n",
    "                 )\n",
    "plot += plt\n",
    "plot.display()"
   ]
  },
  {
   "cell_type": "markdown",
   "metadata": {},
   "source": [
    "**Question:**\n",
    "* How add the legend?\n",
    "* How disable interpolation (example below)?"
   ]
  },
  {
   "cell_type": "code",
   "execution_count": 13,
   "metadata": {},
   "outputs": [
    {
     "data": {
      "image/png": "[encoded data removed]",
      "text/plain": [
       "<Figure size 432x288 with 2 Axes>"
      ]
     },
     "metadata": {
      "needs_background": "light"
     },
     "output_type": "display_data"
    }
   ],
   "source": [
    "field_scalor.plot_plane(\"z\")"
   ]
  },
  {
   "cell_type": "markdown",
   "metadata": {},
   "source": [
    "# Slice vector field"
   ]
  },
  {
   "cell_type": "markdown",
   "metadata": {},
   "source": [
    "Visualization of a vector field on a selected plane. Using the function `field.mesh.plane (axis = value)` we get the coordinate values of the origin of the vectors and their magnitude. In the process, we filter those vectors whose length is equal to zero."
   ]
  },
  {
   "cell_type": "markdown",
   "metadata": {},
   "source": [
    "We obtain the coordinates of the origin of the vectors and their length on the selected plane."
   ]
  },
  {
   "cell_type": "code",
   "execution_count": 14,
   "metadata": {},
   "outputs": [],
   "source": [
    "origins_nonzero_slice = []\n",
    "vectors_nonzero_slice = []\n",
    "for i in list(field.mesh.plane(x=0.0)):\n",
    "    vector = field(i)\n",
    "    value = vector[0]**2 + vector[1]**2 + vector[2]**2\n",
    "    if value > 0:\n",
    "        origins_nonzero_slice.append(i)\n",
    "        vectors_nonzero_slice.append(field(i))"
   ]
  },
  {
   "cell_type": "markdown",
   "metadata": {},
   "source": [
    "Convert to numpy array"
   ]
  },
  {
   "cell_type": "code",
   "execution_count": 15,
   "metadata": {},
   "outputs": [],
   "source": [
    "origins_nonzero_slice = np.array(origins_nonzero_slice)\n",
    "vectors_nonzero_slice = np.array(vectors_nonzero_slice)\n",
    "origins_nonzero_slice -= 0.5 * vectors_nonzero_slice"
   ]
  },
  {
   "cell_type": "markdown",
   "metadata": {},
   "source": [
    "Plot"
   ]
  },
  {
   "cell_type": "code",
   "execution_count": 16,
   "metadata": {},
   "outputs": [
    {
     "data": {
      "application/vnd.jupyter.widget-view+json": {
       "model_id": "d5b54ba4bdad4b8284b663807d9a2129",
       "version_major": 2,
       "version_minor": 0
      },
      "text/plain": [
       "Output()"
      ]
     },
     "metadata": {},
     "output_type": "display_data"
    }
   ],
   "source": [
    "color = 0xff\n",
    "vector_scale = 1.0\n",
    "\n",
    "plot = k3d.plot()\n",
    "plt  = k3d.vectors(origins_nonzero_slice, vector_scale*vectors_nonzero_slice, color=color)\n",
    "plot += plt\n",
    "plot.display()"
   ]
  },
  {
   "cell_type": "markdown",
   "metadata": {},
   "source": [
    "# Slice scalor field"
   ]
  },
  {
   "cell_type": "markdown",
   "metadata": {},
   "source": [
    "Select the field values on the plane"
   ]
  },
  {
   "cell_type": "code",
   "execution_count": 17,
   "metadata": {},
   "outputs": [],
   "source": [
    "ith = 0\n",
    "value_slice = field.array[:,:,ith,1]\n",
    "nz,ny,nx,_  = field.array.shape"
   ]
  },
  {
   "cell_type": "markdown",
   "metadata": {},
   "source": [
    "Create a list of triples of node numbers"
   ]
  },
  {
   "cell_type": "code",
   "execution_count": 18,
   "metadata": {},
   "outputs": [],
   "source": [
    "ni,nj = value_slice.shape\n",
    "indices = []\n",
    "for i in range(ni-1):\n",
    "    for j in range(nj-1):\n",
    "        indices.append((i*nj+j, i*nj+j+1, (i+1)*nj+j))        # lower-left triangle\n",
    "        indices.append(((i+1)*nj+j+1, i*nj+j+1, (i+1)*nj+j))  # upper-right triangle"
   ]
  },
  {
   "cell_type": "markdown",
   "metadata": {},
   "source": [
    "Select the mesh coordinate"
   ]
  },
  {
   "cell_type": "code",
   "execution_count": 19,
   "metadata": {},
   "outputs": [],
   "source": [
    "origins = np.array(list(field.mesh.coordinates))\n",
    "origins_slice = origins.reshape(nz,ny,nx,3)[:,:,ith,:]"
   ]
  },
  {
   "cell_type": "markdown",
   "metadata": {},
   "source": [
    "Plot"
   ]
  },
  {
   "cell_type": "code",
   "execution_count": 20,
   "metadata": {},
   "outputs": [
    {
     "data": {
      "application/vnd.jupyter.widget-view+json": {
       "model_id": "38dbf85317b8438581ea06b031e55ec2",
       "version_major": 2,
       "version_minor": 0
      },
      "text/plain": [
       "Output()"
      ]
     },
     "metadata": {},
     "output_type": "display_data"
    }
   ],
   "source": [
    "plot = k3d.plot()\n",
    "plt_mesh = k3d.mesh(origins_slice, indices, attribute=value_slice,\n",
    "                    color_map=k3d.basic_color_maps.CoolWarm,\n",
    "                    color_range=[-1.0, 1.0])\n",
    "plot += plt_mesh\n",
    "plot.display()"
   ]
  },
  {
   "cell_type": "markdown",
   "metadata": {},
   "source": [
    "# Overlap vector and scalor fields"
   ]
  },
  {
   "cell_type": "markdown",
   "metadata": {},
   "source": [
    "## 3D"
   ]
  },
  {
   "cell_type": "code",
   "execution_count": 21,
   "metadata": {},
   "outputs": [
    {
     "data": {
      "application/vnd.jupyter.widget-view+json": {
       "model_id": "c5c343b4afa9432dbfa33bfb4d84db07",
       "version_major": 2,
       "version_minor": 0
      },
      "text/plain": [
       "Output()"
      ]
     },
     "metadata": {},
     "output_type": "display_data"
    }
   ],
   "source": [
    "plot = k3d.plot()\n",
    "plt_scalor  = k3d.volume(field_scalor.array, bounds=[-size, size, -size, size, -size, size],\n",
    "                         color_map=np.array(k3d.basic_color_maps.Jet, dtype=np.float32))\n",
    "plt_vector  = k3d.vectors(origins_nonzero, vector_scale*vectors_nonzero, colors=colors)\n",
    "plot += plt_scalor\n",
    "plot += plt_vector\n",
    "plot.display()"
   ]
  },
  {
   "cell_type": "markdown",
   "metadata": {},
   "source": [
    "## Slice"
   ]
  },
  {
   "cell_type": "code",
   "execution_count": 22,
   "metadata": {},
   "outputs": [
    {
     "data": {
      "application/vnd.jupyter.widget-view+json": {
       "model_id": "064d214bfb994805b7f2b14710b2d93a",
       "version_major": 2,
       "version_minor": 0
      },
      "text/plain": [
       "Output()"
      ]
     },
     "metadata": {},
     "output_type": "display_data"
    }
   ],
   "source": [
    "color = 0xff\n",
    "vector_scale = 1.0\n",
    "\n",
    "plot = k3d.plot()\n",
    "plt_vector_slice = k3d.vectors(origins_nonzero_slice, vector_scale*vectors_nonzero_slice, color=color)\n",
    "plt_scalor_slice = k3d.mesh(origins_slice, indices, attribute=value_slice,\n",
    "                    color_map=k3d.basic_color_maps.CoolWarm,\n",
    "                    color_range=[-1.0, 1.0], antialias=True)\n",
    "plot += plt_mesh\n",
    "plot += plt\n",
    "plot.display()"
   ]
  },
  {
   "cell_type": "markdown",
   "metadata": {},
   "source": [
    "# Mesh as vox"
   ]
  },
  {
   "cell_type": "code",
   "execution_count": 23,
   "metadata": {},
   "outputs": [
    {
     "name": "stderr",
     "output_type": "stream",
     "text": [
      "/Users/sergii.mamedov/miniconda3/envs/joommf2/lib/python3.6/site-packages/traittypes/traittypes.py:101: UserWarning: Given trait value dtype \"bool\" does not match required type \"uint8\". A coerced copy has been created.\n",
      "  np.dtype(self.dtype).name))\n"
     ]
    },
    {
     "data": {
      "application/vnd.jupyter.widget-view+json": {
       "model_id": "e583521cd16e4424b7eadcf6becc95e2",
       "version_major": 2,
       "version_minor": 0
      },
      "text/plain": [
       "Output()"
      ]
     },
     "metadata": {},
     "output_type": "display_data"
    }
   ],
   "source": [
    "xmin,ymin,zmin = field.mesh.pmin\n",
    "xmax,ymax,zmax = field.mesh.pmax\n",
    "\n",
    "plot = k3d.plot()\n",
    "plt_vox = k3d.voxels(field.array[...,0]!=0, color_map=[0x00ff00],\n",
    "                               xmin=xmin,xmax=xmax,\n",
    "                               ymin=ymin,ymax=ymax,\n",
    "                               zmin=zmin,zmax=zmax)\n",
    "plot += plt_vox\n",
    "plot.display()"
   ]
  },
  {
   "cell_type": "markdown",
   "metadata": {},
   "source": [
    "# Isosurface"
   ]
  },
  {
   "cell_type": "code",
   "execution_count": 24,
   "metadata": {},
   "outputs": [
    {
     "data": {
      "application/vnd.jupyter.widget-view+json": {
       "model_id": "6b663003d0ff4ee8871e4d4401df78e6",
       "version_major": 2,
       "version_minor": 0
      },
      "text/plain": [
       "Output()"
      ]
     },
     "metadata": {},
     "output_type": "display_data"
    }
   ],
   "source": [
    "xmin,ymin,zmin = field.mesh.pmin\n",
    "xmax,ymax,zmax = field.mesh.pmax\n",
    "\n",
    "plot = k3d.plot()\n",
    "plt_iso = k3d.marching_cubes(np.sum(field.array**2,axis=-1), level=1.0,\n",
    "                               xmin=xmin,xmax=xmax,\n",
    "                               ymin=ymin,ymax=ymax,\n",
    "                               zmin=zmin,zmax=zmax)\n",
    "\n",
    "plot += plt_iso\n",
    "plot.display()"
   ]
  },
  {
   "cell_type": "code",
   "execution_count": 25,
   "metadata": {},
   "outputs": [
    {
     "data": {
      "application/vnd.jupyter.widget-view+json": {
       "model_id": "69d5eee4d8154386b58381d5e4e1b54f",
       "version_major": 2,
       "version_minor": 0
      },
      "text/plain": [
       "Output()"
      ]
     },
     "metadata": {},
     "output_type": "display_data"
    }
   ],
   "source": [
    "xmin,ymin,zmin = field.mesh.pmin\n",
    "xmax,ymax,zmax = field.mesh.pmax\n",
    "\n",
    "plot = k3d.plot()\n",
    "plt_iso = k3d.marching_cubes(np.sum(field.array**2,axis=-1), level=0.01,\n",
    "                               xmin=xmin,xmax=xmax,\n",
    "                               ymin=ymin,ymax=ymax,\n",
    "                               zmin=zmin,zmax=zmax)\n",
    "\n",
    "plot += plt_iso\n",
    "plt_iso = k3d.marching_cubes(np.sum(field.array**2,axis=-1), level=1.0,\n",
    "                               xmin=xmin,xmax=xmax,\n",
    "                               ymin=ymin,ymax=ymax,\n",
    "                               zmin=zmin,zmax=zmax)\n",
    "\n",
    "plot += plt_iso\n",
    "plot.display()"
   ]
  }
 ],
 "metadata": {
  "kernelspec": {
   "display_name": "Python 3",
   "language": "python",
   "name": "python3"
  },
  "language_info": {
   "codemirror_mode": {
    "name": "ipython",
    "version": 3
   },
   "file_extension": ".py",
   "mimetype": "text/x-python",
   "name": "python",
   "nbconvert_exporter": "python",
   "pygments_lexer": "ipython3",
   "version": "3.6.3"
  }
 },
 "nbformat": 4,
 "nbformat_minor": 2
}
