{
 "cells": [
  {
   "cell_type": "markdown",
   "metadata": {},
   "source": [
    "# Example k3d in discretisedfield"
   ]
  },
  {
   "cell_type": "code",
   "execution_count": 1,
   "metadata": {},
   "outputs": [
    {
     "name": "stderr",
     "output_type": "stream",
     "text": [
      "/Users/sergii.mamedov/Documents/joommf/discretisedfield/discretisedfield/__init__.py:4: UserWarning: matplotlib.pyplot as already been imported, this call will have no effect.\n",
      "  matplotlib.use(\"agg\")\n"
     ]
    }
   ],
   "source": [
    "import k3d\n",
    "import pylab\n",
    "import matplotlib\n",
    "import discretisedfield as df\n",
    "import matplotlib.pyplot as plt\n",
    "%matplotlib inline"
   ]
  },
  {
   "cell_type": "markdown",
   "metadata": {},
   "source": [
    "## Simple speciment"
   ]
  },
  {
   "cell_type": "markdown",
   "metadata": {},
   "source": [
    "Create a 10 x 10 x 10 nm sample. The initial field is directed along the X axis, in a volume bounded by a sphere with a diameter of 5 nm."
   ]
  },
  {
   "cell_type": "code",
   "execution_count": 2,
   "metadata": {},
   "outputs": [],
   "source": [
    "size = 3\n",
    "sphere = 2\n",
    "mesh = df.Mesh(p1=(-size, -size, -size), p2=(size, size, size), cell=(1, 1, 1))\n",
    "\n",
    "def val(pos):\n",
    "    x, y, z = pos\n",
    "    return y, x, x*y\n",
    "\n",
    "def norm_fun(pos):\n",
    "    x, y, z = pos\n",
    "    if x**2 + y**2 + z**2 < sphere**2:\n",
    "        return 1\n",
    "    else:\n",
    "        return 0\n",
    "\n",
    "field = df.Field(mesh, value=val, norm=norm_fun)"
   ]
  },
  {
   "cell_type": "markdown",
   "metadata": {},
   "source": [
    "## Vector field"
   ]
  },
  {
   "cell_type": "markdown",
   "metadata": {},
   "source": [
    "Display a vector field, only for non-zero vectors. Each vector is shifted by 1/2 of its length. For colors there are two options: single color for all vectors in hexadecimal format (color=) or name of colormap (colormap_name=). In the second case, we find the minimum and maximum value of the projection of the vector on the selected axis and divide this range into 256. Thus, for each vector we set one of the colors from the colormap.\n",
    "\n",
    "Parameters:\n",
    "\n",
    "* color - single color for all vectors in hexadecimal format (color=0xff)\n",
    "* colormap_name - name of colormap from pylab.cm.get_cmap() function\n",
    "* direction - vector projection on a given axis\n",
    "* vector_scale - scale of the displayed vector\n",
    "\n",
    "In any case we need present the legends for graphics. How can we do this?"
   ]
  },
  {
   "cell_type": "code",
   "execution_count": 3,
   "metadata": {},
   "outputs": [
    {
     "name": "stderr",
     "output_type": "stream",
     "text": [
      "/Users/sergii.mamedov/miniconda3/envs/joommf2/lib/python3.6/site-packages/traittypes/traittypes.py:101: UserWarning: Given trait value dtype \"float64\" does not match required type \"float32\". A coerced copy has been created.\n",
      "  np.dtype(self.dtype).name))\n"
     ]
    },
    {
     "data": {
      "application/vnd.jupyter.widget-view+json": {
       "model_id": "43c75263fc374873ab5d907d9c0ece53",
       "version_major": 2,
       "version_minor": 0
      },
      "text/plain": [
       "Output()"
      ]
     },
     "metadata": {},
     "output_type": "display_data"
    }
   ],
   "source": [
    "field.plot3d(direction=2, vector_scale=0.5, colormap_name='viridis')"
   ]
  },
  {
   "cell_type": "code",
   "execution_count": null,
   "metadata": {},
   "outputs": [],
   "source": []
  }
 ],
 "metadata": {
  "kernelspec": {
   "display_name": "Python 3",
   "language": "python",
   "name": "python3"
  },
  "language_info": {
   "codemirror_mode": {
    "name": "ipython",
    "version": 3
   },
   "file_extension": ".py",
   "mimetype": "text/x-python",
   "name": "python",
   "nbconvert_exporter": "python",
   "pygments_lexer": "ipython3",
   "version": "3.6.3"
  }
 },
 "nbformat": 4,
 "nbformat_minor": 2
}
