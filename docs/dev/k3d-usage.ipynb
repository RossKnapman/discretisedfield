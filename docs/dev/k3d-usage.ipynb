{
 "cells": [
  {
   "cell_type": "markdown",
   "metadata": {},
   "source": [
    "# Exploration of k3d usage for discretisedfield visualisation"
   ]
  },
  {
   "cell_type": "code",
   "execution_count": 1,
   "metadata": {},
   "outputs": [],
   "source": [
    "import k3d\n",
    "import matplotlib\n",
    "import numpy as np\n",
    "import discretisedfield as df\n",
    "%matplotlib inline"
   ]
  },
  {
   "cell_type": "markdown",
   "metadata": {},
   "source": [
    "## Mesh and field objects to be visualised\n",
    "\n",
    "Mesh has dimensions 10 x 6 x 4 to accommodate an ellipsoid\n",
    "\n",
    "$$\\frac{x^2}{a^2} + \\frac{y^2}{b^2} + \\frac{z^2}{c^2} <= 1$$\n",
    "\n",
    "with: $a=5$, $b=3$, and $c=2$. The space is discretised into cells with dimensions $(1, 1, 1)$."
   ]
  },
  {
   "cell_type": "code",
   "execution_count": 2,
   "metadata": {},
   "outputs": [],
   "source": [
    "a, b, c = 5, 3, 2\n",
    "\n",
    "mesh =  df.Mesh(p1=(-a, -b, -c), p2=(a, b, c), cell=(0.5, 0.5, 0.5))"
   ]
  },
  {
   "cell_type": "markdown",
   "metadata": {},
   "source": [
    "We define the ellipsoid geometry by specifying the norm function, which returns 0 outside the sample, and 1 otherwise."
   ]
  },
  {
   "cell_type": "code",
   "execution_count": 3,
   "metadata": {},
   "outputs": [],
   "source": [
    "def norm_fun(pos):\n",
    "    x, y, z = pos\n",
    "    if (x/a)**2 + (y/b)**2 + (z/c)**2 <= 1:\n",
    "        return 1\n",
    "    else:\n",
    "        return 0\n",
    "    \n",
    "def value_fun(pos):\n",
    "    x, y, z = pos\n",
    "    if x >= 0:\n",
    "        return (1, 1, 1)\n",
    "    else:\n",
    "        return (-1, -1, -1)\n",
    "\n",
    "field = df.Field(mesh, value=value_fun, norm=norm_fun)"
   ]
  },
  {
   "cell_type": "markdown",
   "metadata": {},
   "source": [
    "The plot of a slice in the $z$ direction:"
   ]
  },
  {
   "cell_type": "code",
   "execution_count": 4,
   "metadata": {},
   "outputs": [
    {
     "data": {
      "image/png": "[encoded data removed]",
      "text/plain": [
       "<Figure size 432x288 with 2 Axes>"
      ]
     },
     "metadata": {},
     "output_type": "display_data"
    }
   ],
   "source": [
    "field.plot_plane(\"z\")"
   ]
  },
  {
   "cell_type": "markdown",
   "metadata": {},
   "source": [
    "## Mesh and domain visualisation\n",
    "\n",
    "There are two different way how we can visualise the mesh:\n",
    "\n",
    "1. Showing the entire (cubic) domain and give impression of the discretisation by using different colours. All the information for plotting can be obtained from the `mesh` object."
   ]
  },
  {
   "cell_type": "code",
   "execution_count": 41,
   "metadata": {},
   "outputs": [
    {
     "data": {
      "application/vnd.jupyter.widget-view+json": {
       "model_id": "18aa32b153d64545a23b3dccc09003f2",
       "version_major": 2,
       "version_minor": 0
      },
      "text/plain": [
       "Output()"
      ]
     },
     "metadata": {},
     "output_type": "display_data"
    }
   ],
   "source": [
    "def k3d_mesh(mesh):\n",
    "    mesh_array = np.ones(tuple(reversed((mesh.n))))\n",
    "    mesh_array[0, 0, mesh.n[0]-1] = 2\n",
    "\n",
    "    xmin, ymin, zmin = mesh.pmin\n",
    "    xmax, ymax, zmax = mesh.pmax\n",
    "\n",
    "    # To avoid the warning\n",
    "    mesh_array = mesh_array.astype(np.uint8)\n",
    "\n",
    "    plot = k3d.plot()\n",
    "    plt_vox = k3d.voxels(mesh_array,\n",
    "                         color_map=[0x99bbff, 0xff4d4d],\n",
    "                         xmin=xmin, xmax=xmax,\n",
    "                         ymin=ymin, ymax=ymax,\n",
    "                         zmin=zmin, zmax=zmax,\n",
    "                         outlines=False)\n",
    "    plot += plt_vox\n",
    "    plot.display()\n",
    "    \n",
    "k3d_mesh(mesh)"
   ]
  },
  {
   "cell_type": "markdown",
   "metadata": {},
   "source": [
    "2. Showing only a part of the mesh where norm is not zero (where the material is present). For this `field` object must be used. This can be achieved either by plotting one of the components (e.g. `field.x`) or `field.norm`."
   ]
  },
  {
   "cell_type": "code",
   "execution_count": 39,
   "metadata": {},
   "outputs": [
    {
     "data": {
      "application/vnd.jupyter.widget-view+json": {
       "model_id": "7f5702aa4e8b4288bc3851f59efe5e7c",
       "version_major": 2,
       "version_minor": 0
      },
      "text/plain": [
       "Output()"
      ]
     },
     "metadata": {},
     "output_type": "display_data"
    }
   ],
   "source": [
    "def k3d_domain(field):\n",
    "    domain_array = np.squeeze(field.norm.array.copy())\n",
    "    \n",
    "    # In k3d numpy arrays are considered to be (z, y, x)\n",
    "    domain_array = np.swapaxes(domain_array, 0, 2)\n",
    "    \n",
    "    domain_array[domain_array != 0] = 1\n",
    "    \n",
    "    xmin, ymin, zmin = field.mesh.pmin\n",
    "    xmax, ymax, zmax = field.mesh.pmax\n",
    "\n",
    "    # To avoid the warning\n",
    "    domain_array = domain_array.astype(np.uint8)\n",
    "\n",
    "    plot = k3d.plot()\n",
    "    plt_vox = k3d.voxels(domain_array,\n",
    "                         color_map=[0x99bbff],\n",
    "                         xmin=xmin, xmax=xmax,\n",
    "                         ymin=ymin, ymax=ymax,\n",
    "                         zmin=zmin, zmax=zmax,\n",
    "                         outlines=False)\n",
    "    plot += plt_vox\n",
    "    plot.display()\n",
    "\n",
    "k3d_domain(field)"
   ]
  },
  {
   "cell_type": "markdown",
   "metadata": {},
   "source": [
    "## Coordinates\n",
    "\n",
    "It is not clear for what exactly showing the cell centres can be useful at the end but it can be useful for checking and testing of the vector field plotting. There are two possible options:\n",
    "\n",
    "1. Plotting all cell centres using `mesh` object."
   ]
  },
  {
   "cell_type": "code",
   "execution_count": 36,
   "metadata": {},
   "outputs": [
    {
     "data": {
      "application/vnd.jupyter.widget-view+json": {
       "model_id": "62ea2260435b4e878ce8e5411261bb12",
       "version_major": 2,
       "version_minor": 0
      },
      "text/plain": [
       "Output()"
      ]
     },
     "metadata": {},
     "output_type": "display_data"
    }
   ],
   "source": [
    "def k3d_mesh_coordinates(mesh, plot=None):\n",
    "    coordinates = np.array(list(mesh.coordinates))\n",
    "    \n",
    "    # To avoid the warning\n",
    "    coordinates = coordinates.astype(np.float32)\n",
    "    \n",
    "    if plot is None:\n",
    "        plot = k3d.plot()\n",
    "    plt_coordinates = k3d.points(coordinates)\n",
    "    plt_coordinates.point_size = 0.15\n",
    "    plt_coordinates.color = 0x99bbff\n",
    "    plot += plt_coordinates\n",
    "    # maybe another if necessary\n",
    "    plot.display()\n",
    "        \n",
    "k3d_mesh_coordinates(mesh)"
   ]
  },
  {
   "cell_type": "markdown",
   "metadata": {},
   "source": [
    "2. Plotting only the cell centres where norm is not zero (where the material is present)."
   ]
  },
  {
   "cell_type": "code",
   "execution_count": 31,
   "metadata": {},
   "outputs": [
    {
     "data": {
      "application/vnd.jupyter.widget-view+json": {
       "model_id": "62b24e0dfa1e4423889bd800bf977d33",
       "version_major": 2,
       "version_minor": 0
      },
      "text/plain": [
       "Output()"
      ]
     },
     "metadata": {},
     "output_type": "display_data"
    }
   ],
   "source": [
    "def k3d_domain_coordinates(field, plot=None):\n",
    "    coordinates = [i for i in field.mesh.coordinates if field.norm(i) > 0]\n",
    "    \n",
    "    if plot is None:\n",
    "        plot = k3d.plot()\n",
    "    plt_coordinates = k3d.points(coordinates)\n",
    "    plt_coordinates.point_size = 0.15\n",
    "    plt_coordinates.color = 0x99bbff\n",
    "    plot += plt_coordinates\n",
    "    # maybe another if necessary\n",
    "    plot.display()\n",
    "        \n",
    "k3d_domain_coordinates(field)"
   ]
  },
  {
   "cell_type": "markdown",
   "metadata": {},
   "source": [
    "## Vector field"
   ]
  },
  {
   "cell_type": "code",
   "execution_count": null,
   "metadata": {},
   "outputs": [],
   "source": [
    "vectors = field.array.copy().reshape(-1, 3)\n",
    "vectors.shape"
   ]
  },
  {
   "cell_type": "markdown",
   "metadata": {},
   "source": [
    "Plot vectors"
   ]
  },
  {
   "cell_type": "code",
   "execution_count": null,
   "metadata": {},
   "outputs": [],
   "source": [
    "plot = k3d.plot()\n",
    "plt_vectors = k3d.vectors(coordinates, vectors)\n",
    "plot += plt_vectors\n",
    "plot.display()"
   ]
  },
  {
   "cell_type": "markdown",
   "metadata": {},
   "source": [
    "However, the zero vectors are plotted with wrong directions. In order to avoid this problem, we have to plot only those coordinates/vectors where the norm of vector is non-zero."
   ]
  },
  {
   "cell_type": "code",
   "execution_count": null,
   "metadata": {},
   "outputs": [],
   "source": [
    "def select_nonzero(coordinates, vectors):\n",
    "    nonzero_indices = (np.sum(vectors**2, axis=-1) != 0)\n",
    "    return coordinates[nonzero_indices], vectors[nonzero_indices]\n",
    "\n",
    "nonzero_coordinates, nonzero_vectors = select_nonzero(coordinates, vectors)"
   ]
  },
  {
   "cell_type": "markdown",
   "metadata": {},
   "source": [
    "Now, we can plot only the nonzero vectors."
   ]
  },
  {
   "cell_type": "code",
   "execution_count": null,
   "metadata": {},
   "outputs": [],
   "source": [
    "plot = k3d.plot()\n",
    "plt_vectors = k3d.vectors(nonzero_coordinates, nonzero_vectors)\n",
    "plot += plt_vectors\n",
    "plot.display()"
   ]
  },
  {
   "cell_type": "markdown",
   "metadata": {},
   "source": [
    "Now, we need to check the position of vectors relative to the coordinates. This is because we need the middle of a vector to be located at the coordinate."
   ]
  },
  {
   "cell_type": "code",
   "execution_count": null,
   "metadata": {},
   "outputs": [],
   "source": [
    "k3d_coordinates(field, plot=plot)"
   ]
  },
  {
   "cell_type": "markdown",
   "metadata": {},
   "source": [
    "The tails of vectors are located at coordinates. Therefore, the coordinates for vector field should be moved by 1/2 of their norm."
   ]
  },
  {
   "cell_type": "code",
   "execution_count": null,
   "metadata": {},
   "outputs": [],
   "source": [
    "shifted_nonzero_coordinates = nonzero_coordinates - 0.5 * nonzero_vectors"
   ]
  },
  {
   "cell_type": "markdown",
   "metadata": {},
   "source": [
    "Now, we plot both vectors with shifted origins and coordinates."
   ]
  },
  {
   "cell_type": "code",
   "execution_count": null,
   "metadata": {},
   "outputs": [],
   "source": [
    "plot = k3d.plot()\n",
    "plt_vectors = k3d.vectors(shifted_nonzero_coordinates, nonzero_vectors)\n",
    "plot += plt_vectors\n",
    "plot.display()\n",
    "\n",
    "k3d_coordinates(field, plot=plot)"
   ]
  },
  {
   "cell_type": "markdown",
   "metadata": {},
   "source": [
    "### Adding colormap\n",
    "\n",
    "If we want to use different colors for the vectors, we use the color set from the package **pylab** (`pylab.cm.get_cmap()`)."
   ]
  },
  {
   "cell_type": "code",
   "execution_count": null,
   "metadata": {},
   "outputs": [],
   "source": [
    "def colormap(name, n=256):\n",
    "    \"\"\"Returns a list of tuple (r, g, b) colors.\"\"\"\n",
    "    cmap = matplotlib.cm.get_cmap(name, n)\n",
    "    cmap_list = []\n",
    "    for i in range(cmap.N):\n",
    "        cmap_list.append(cmap(i)[:3])\n",
    "\n",
    "    return np.array(cmap_list)\n",
    "\n",
    "colormap('viridis').shape"
   ]
  },
  {
   "cell_type": "markdown",
   "metadata": {},
   "source": [
    "We find the minimum and maximum values of a vector component (`component={0, 1, 2}`) and divide the range by 256. If the field is constant (max - min == 0), we use the middle value from the colormap."
   ]
  },
  {
   "cell_type": "code",
   "execution_count": null,
   "metadata": {},
   "outputs": [],
   "source": [
    "component = 0\n",
    "\n",
    "vector_component = nonzero_vectors[:, component]\n",
    "\n",
    "def get_int_component(vector_component, avoid_zero=False):\n",
    "    max_value = vector_component.max()\n",
    "    min_value = vector_component.min()\n",
    "    value_range = max_value - min_value\n",
    "\n",
    "    # Put values in 0-255 range\n",
    "    if value_range != 0:\n",
    "        int_component = (vector_component + abs(min_value)) / value_range * 255\n",
    "    else:\n",
    "        int_component = [128] * len(vector_component)  # place in the middle of colormap\n",
    "\n",
    "    return np.vectorize(lambda x: int(x))(int_component)\n",
    "\n",
    "int_component = get_int_component(vector_component)"
   ]
  },
  {
   "cell_type": "markdown",
   "metadata": {},
   "source": [
    "Divide values of vectors and colormap set into 256 bins, and match each vector with a specific color."
   ]
  },
  {
   "cell_type": "code",
   "execution_count": null,
   "metadata": {},
   "outputs": [],
   "source": [
    "cmap = colormap('viridis', 256)\n",
    "\n",
    "colors = cmap[int_component]\n",
    "colors = ['0x{}'.format(matplotlib.colors.rgb2hex(rgb)[1:]) for rgb in colors]\n",
    "colors = [(int(i, 16), int(i, 16)) for i in colors]  # tuple (head-color, body-color)"
   ]
  },
  {
   "cell_type": "markdown",
   "metadata": {},
   "source": [
    "Plotting vector field."
   ]
  },
  {
   "cell_type": "code",
   "execution_count": null,
   "metadata": {},
   "outputs": [],
   "source": [
    "plot = k3d.plot()\n",
    "plt = k3d.vectors(nonzero_coordinates, nonzero_vectors, colors=colors)\n",
    "plot += plt\n",
    "plot.display()"
   ]
  },
  {
   "cell_type": "markdown",
   "metadata": {},
   "source": [
    "**Questions**:\n",
    "\n",
    "1. How to add the colorbar?\n",
    "2. Can we have cones instead of arrows?\n",
    "3. What is this warning: `/home/begm/miniconda3/envs/joommf/lib/python3.6/site-packages/traittypes/traittypes.py:101: UserWarning: Given trait value dtype \"float64\" does not match required type \"float32\". A coerced copy has been created. np.dtype(self.dtype).name))`?"
   ]
  },
  {
   "cell_type": "markdown",
   "metadata": {},
   "source": [
    "# Scalar filed"
   ]
  },
  {
   "cell_type": "markdown",
   "metadata": {},
   "source": [
    "Create a 10 x 10 x 10 nm sample. The initial field is directed along the X axis, in a volume bounded by a sphere with a diameter of 5 nm."
   ]
  },
  {
   "cell_type": "code",
   "execution_count": null,
   "metadata": {},
   "outputs": [],
   "source": [
    "field_array = field.array.copy()\n",
    "array_shape = field.array.shape\n",
    "\n",
    "nx, ny, nz, _ = array_shape\n",
    "\n",
    "norm = np.linalg.norm(field_array, axis=3)[..., None]\n",
    "\n",
    "for i in range(nx):\n",
    "    for j in range(ny):\n",
    "        for k in range(nz):\n",
    "            if norm[i, j, k] == 0:\n",
    "                field_array[i, j, k] = np.nan\n",
    "            \n",
    "component = 0\n",
    "\n",
    "field_component = field_array[..., component]\n",
    "\n",
    "def get_int_component(field_component):\n",
    "    max_value = np.nanmax(field_component)\n",
    "    min_value = np.nanmin(field_component)\n",
    "    value_range = max_value - min_value\n",
    "\n",
    "    nx, ny, nz = field_component.shape\n",
    "\n",
    "    # Put values in 0-255 range\n",
    "    if value_range != 0:\n",
    "        int_component = (field_component + abs(min_value)) / value_range * 254\n",
    "        int_component += 1\n",
    "    else:\n",
    "        int_component = 128 * np.ones(field_component.shape)  # place in the middle of colormap\n",
    "\n",
    "    for i in range(nx):\n",
    "        for j in range(ny):\n",
    "            for k in range(nz):\n",
    "                if np.isnan(field_component[i, j, k]):\n",
    "                    int_component[i, j, k] = 0\n",
    "                else:\n",
    "                    int_component[i, j, k] = int(int_component[i, j, k])\n",
    "    \n",
    "    \n",
    "    \n",
    "    return int_component\n",
    "\n",
    "int_component = get_int_component(field_component)"
   ]
  },
  {
   "cell_type": "markdown",
   "metadata": {},
   "source": [
    "Plotting scalor field. Using existed colormap set."
   ]
  },
  {
   "cell_type": "code",
   "execution_count": null,
   "metadata": {},
   "outputs": [],
   "source": [
    "xmin,ymin,zmin = field.mesh.pmin\n",
    "xmax,ymax,zmax = field.mesh.pmax\n",
    "\n",
    "plot = k3d.plot()\n",
    "plt_vox = k3d.voxels(int_component, color_map=colors,\n",
    "                               xmin=xmin,xmax=xmax,\n",
    "                               ymin=ymin,ymax=ymax,\n",
    "                               zmin=zmin,zmax=zmax, outlines=False)\n",
    "\n",
    "plot += plt_vox\n",
    "plot.display()"
   ]
  },
  {
   "cell_type": "markdown",
   "metadata": {},
   "source": [
    "**Questions:**\n",
    "1. How to add the colorbar?\n",
    "2. Can we change the labels on axes?"
   ]
  },
  {
   "cell_type": "markdown",
   "metadata": {},
   "source": [
    "# Slice vector field"
   ]
  },
  {
   "cell_type": "markdown",
   "metadata": {},
   "source": [
    "Visualization of a vector field on a selected plane. Using the function `field.mesh.plane (axis = value)` we get the coordinate values of the origin of the vectors and their magnitude. In the process, we filter those vectors whose length is equal to zero."
   ]
  },
  {
   "cell_type": "markdown",
   "metadata": {},
   "source": [
    "We obtain the coordinates of the origin of the vectors and their length on the selected plane."
   ]
  },
  {
   "cell_type": "code",
   "execution_count": null,
   "metadata": {},
   "outputs": [],
   "source": [
    "coordinates_nonzero_slice = []\n",
    "vectors_nonzero_slice = []\n",
    "for i in field.mesh.plane(x=2.2):\n",
    "    vector = field(i)\n",
    "    norm = vector[0]**2 + vector[1]**2 + vector[2]**2\n",
    "    if norm > 0:\n",
    "        coordinates_nonzero_slice.append(i)\n",
    "        vectors_nonzero_slice.append(vector)\n",
    "        \n",
    "coordinates_nonzero_slice = np.array(coordinates_nonzero_slice)\n",
    "vectors_nonzero_slice = np.array(vectors_nonzero_slice)\n",
    "\n",
    "shifted_nonzero_coordinates_slice = coordinates_nonzero_slice - 0.5 * vectors_nonzero_slice"
   ]
  },
  {
   "cell_type": "markdown",
   "metadata": {},
   "source": [
    "Plot"
   ]
  },
  {
   "cell_type": "code",
   "execution_count": null,
   "metadata": {},
   "outputs": [],
   "source": [
    "plot = k3d.plot()\n",
    "vector_plot  = k3d.vectors(shifted_nonzero_coordinates_slice, vectors_nonzero_slice)\n",
    "\n",
    "plt_coordinates = k3d.points(coordinates_nonzero_slice)\n",
    "plt_coordinates.point_size = 0.1\n",
    "plt_coordinates.color = 0xff0000\n",
    "plot += plt_coordinates\n",
    "\n",
    "plot += vector_plot\n",
    "plot.display()"
   ]
  },
  {
   "cell_type": "markdown",
   "metadata": {},
   "source": [
    "# Slice scalor field"
   ]
  },
  {
   "cell_type": "markdown",
   "metadata": {},
   "source": [
    "Select the field values on the plane"
   ]
  },
  {
   "cell_type": "code",
   "execution_count": null,
   "metadata": {},
   "outputs": [],
   "source": [
    "ith = 1\n",
    "value_slice = field.array[:,:,ith,1]\n",
    "nz,ny,nx,_  = field.array.shape"
   ]
  },
  {
   "cell_type": "markdown",
   "metadata": {},
   "source": [
    "Create a list of triples of node numbers"
   ]
  },
  {
   "cell_type": "code",
   "execution_count": null,
   "metadata": {},
   "outputs": [],
   "source": [
    "ni,nj = value_slice.shape\n",
    "indices = []\n",
    "for i in range(ni-1):\n",
    "    for j in range(nj-1):\n",
    "        indices.append((i*nj+j, i*nj+j+1, (i+1)*nj+j))        # lower-left triangle\n",
    "        indices.append(((i+1)*nj+j+1, i*nj+j+1, (i+1)*nj+j))  # upper-right triangle"
   ]
  },
  {
   "cell_type": "markdown",
   "metadata": {},
   "source": [
    "Select the mesh coordinate"
   ]
  },
  {
   "cell_type": "code",
   "execution_count": null,
   "metadata": {},
   "outputs": [],
   "source": [
    "origins = np.array(list(field.mesh.coordinates))\n",
    "origins_slice = origins.reshape(nz,ny,nx,3)[:,:,ith,:]"
   ]
  },
  {
   "cell_type": "markdown",
   "metadata": {},
   "source": [
    "Plot"
   ]
  },
  {
   "cell_type": "code",
   "execution_count": null,
   "metadata": {},
   "outputs": [],
   "source": [
    "plot = k3d.plot()\n",
    "plt_mesh = k3d.mesh(origins_slice, indices, attribute=value_slice,\n",
    "                    color_map=k3d.basic_color_maps.CoolWarm,\n",
    "                    color_range=[-1.0, 1.0])\n",
    "plot += plt_mesh\n",
    "plot.display()"
   ]
  },
  {
   "cell_type": "markdown",
   "metadata": {},
   "source": [
    "# Overlap vector and scalor fields"
   ]
  },
  {
   "cell_type": "markdown",
   "metadata": {},
   "source": [
    "## 3D"
   ]
  },
  {
   "cell_type": "code",
   "execution_count": null,
   "metadata": {},
   "outputs": [],
   "source": [
    "plot = k3d.plot()\n",
    "plt_scalor  = k3d.volume(field_scalor.array, bounds=[-size, size, -size, size, -size, size],\n",
    "                         color_map=np.array(k3d.basic_color_maps.Jet, dtype=np.float32))\n",
    "plt_vector  = k3d.vectors(origins_nonzero, vector_scale*vectors_nonzero, colors=colors)\n",
    "plot += plt_scalor\n",
    "plot += plt_vector\n",
    "plot.display()"
   ]
  },
  {
   "cell_type": "markdown",
   "metadata": {},
   "source": [
    "## Slice"
   ]
  },
  {
   "cell_type": "code",
   "execution_count": null,
   "metadata": {},
   "outputs": [],
   "source": [
    "color = 0xff\n",
    "vector_scale = 1.0\n",
    "\n",
    "plot = k3d.plot()\n",
    "plt_vector_slice = k3d.vectors(origins_nonzero_slice, vector_scale*vectors_nonzero_slice, color=color)\n",
    "plt_scalor_slice = k3d.mesh(origins_slice, indices, attribute=value_slice,\n",
    "                    color_map=k3d.basic_color_maps.CoolWarm,\n",
    "                    color_range=[-1.0, 1.0], antialias=True)\n",
    "plot += plt_mesh\n",
    "plot += plt\n",
    "plot.display()"
   ]
  },
  {
   "cell_type": "markdown",
   "metadata": {},
   "source": [
    "# Mesh as vox"
   ]
  },
  {
   "cell_type": "code",
   "execution_count": null,
   "metadata": {},
   "outputs": [],
   "source": []
  },
  {
   "cell_type": "code",
   "execution_count": null,
   "metadata": {},
   "outputs": [],
   "source": []
  },
  {
   "cell_type": "code",
   "execution_count": null,
   "metadata": {},
   "outputs": [],
   "source": [
    "myarray = np.ones([2, 1, 2])\n",
    "\n",
    "xmin,ymin,zmin = 0, 0, 0\n",
    "xmax,ymax,zmax = myarray.shape\n",
    "\n",
    "plot = k3d.plot()\n",
    "plt_vox = k3d.voxels(myarray, color_map=[0x00ff00],\n",
    "                               xmin=xmin,xmax=xmax,\n",
    "                               ymin=ymin,ymax=ymax,\n",
    "                               zmin=zmin,zmax=zmax, outlines=False)\n",
    "plot += plt_vox\n",
    "plot.display()"
   ]
  },
  {
   "cell_type": "code",
   "execution_count": null,
   "metadata": {},
   "outputs": [],
   "source": [
    "myarray"
   ]
  },
  {
   "cell_type": "code",
   "execution_count": null,
   "metadata": {},
   "outputs": [],
   "source": [
    "k3d.voxels?"
   ]
  },
  {
   "cell_type": "markdown",
   "metadata": {},
   "source": [
    "# Isosurface"
   ]
  },
  {
   "cell_type": "markdown",
   "metadata": {},
   "source": [
    "Visualization of several isosurfaces."
   ]
  },
  {
   "cell_type": "code",
   "execution_count": null,
   "metadata": {},
   "outputs": [],
   "source": [
    "xmin,ymin,zmin = field.mesh.pmin\n",
    "xmax,ymax,zmax = field.mesh.pmax\n",
    "\n",
    "plot = k3d.plot()\n",
    "plt_iso = k3d.marching_cubes(np.sum(field.array**2,axis=-1), level=0.01,\n",
    "                             bounds=[xmin,xmax,ymin,ymax,zmin,zmax])\n",
    "\n",
    "plot += plt_iso\n",
    "plt_iso = k3d.marching_cubes(np.sum(field.array**2,axis=-1), level=1.0,\n",
    "                             bounds=[xmin,xmax,ymin,ymax,zmin,zmax],\n",
    "                             color=0x00ff00)\n",
    "\n",
    "plot += plt_iso\n",
    "plot.display()"
   ]
  },
  {
   "cell_type": "markdown",
   "metadata": {},
   "source": [
    "**Question**:\n",
    "\n",
    "* How add alpha chanel for isosurface?\n",
    "* Is it possible to set the range of values and the step of displaying isosurfaces?\n",
    "* How add the legend?"
   ]
  }
 ],
 "metadata": {
  "kernelspec": {
   "display_name": "Python 3",
   "language": "python",
   "name": "python3"
  },
  "language_info": {
   "codemirror_mode": {
    "name": "ipython",
    "version": 3
   },
   "file_extension": ".py",
   "mimetype": "text/x-python",
   "name": "python",
   "nbconvert_exporter": "python",
   "pygments_lexer": "ipython3",
   "version": "3.6.6"
  }
 },
 "nbformat": 4,
 "nbformat_minor": 2
}
