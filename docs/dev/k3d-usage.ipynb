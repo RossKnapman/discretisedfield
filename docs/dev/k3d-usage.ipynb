{
 "cells": [
  {
   "cell_type": "markdown",
   "metadata": {},
   "source": [
    "# k3d usage for discretisedfield"
   ]
  },
  {
   "cell_type": "code",
   "execution_count": 1,
   "metadata": {},
   "outputs": [],
   "source": [
    "import k3d\n",
    "import pylab\n",
    "import matplotlib\n",
    "import numpy as np\n",
    "import discretisedfield as df\n",
    "import matplotlib.pyplot as plt\n",
    "%matplotlib inline"
   ]
  },
  {
   "cell_type": "markdown",
   "metadata": {},
   "source": [
    "### A simple vector field to be visualised"
   ]
  },
  {
   "cell_type": "markdown",
   "metadata": {},
   "source": [
    "Sample is a 5 nm radius sphere sample. The initial field is in the $x$ direction."
   ]
  },
  {
   "cell_type": "code",
   "execution_count": 96,
   "metadata": {},
   "outputs": [],
   "source": [
    "r = 3\n",
    "mesh = df.Mesh(p1=(-r, -r, -r), p2=(r, r, r), cell=(1, 1, 1))\n",
    "\n",
    "def norm_fun(pos):\n",
    "    x, y, z = pos\n",
    "    if x**2 + y**2 + z**2 < r**2:\n",
    "        return 0.5\n",
    "    else:\n",
    "        return 0\n",
    "    \n",
    "def val(pos):\n",
    "    x, y, z = pos\n",
    "    if x >= 0:\n",
    "        return (1, 0, 0)\n",
    "    else:\n",
    "        return (-1, 0, 0)\n",
    "\n",
    "field = df.Field(mesh, value=val, norm=norm_fun)"
   ]
  },
  {
   "cell_type": "markdown",
   "metadata": {},
   "source": [
    "## Vector field\n",
    "\n",
    "#### Coordinates\n",
    "\n",
    "Get the spatial coordinates of vectors. These coordinates are centres off cells in a finite difference mesh."
   ]
  },
  {
   "cell_type": "code",
   "execution_count": 97,
   "metadata": {},
   "outputs": [
    {
     "data": {
      "text/plain": [
       "(216, 3)"
      ]
     },
     "execution_count": 97,
     "metadata": {},
     "output_type": "execute_result"
    }
   ],
   "source": [
    "coordinates = np.array(list(field.mesh.coordinates))\n",
    "coordinates.shape"
   ]
  },
  {
   "cell_type": "markdown",
   "metadata": {},
   "source": [
    "Plot cell coordinates"
   ]
  },
  {
   "cell_type": "code",
   "execution_count": 98,
   "metadata": {},
   "outputs": [
    {
     "name": "stderr",
     "output_type": "stream",
     "text": [
      "/home/begm/miniconda3/envs/joommf/lib/python3.6/site-packages/traittypes/traittypes.py:101: UserWarning: Given trait value dtype \"float64\" does not match required type \"float32\". A coerced copy has been created.\n",
      "  np.dtype(self.dtype).name))\n"
     ]
    },
    {
     "data": {
      "application/vnd.jupyter.widget-view+json": {
       "model_id": "b6a99e8cb7ab490d8b97ec94aa8e9ae9",
       "version_major": 2,
       "version_minor": 0
      },
      "text/plain": [
       "Output()"
      ]
     },
     "metadata": {},
     "output_type": "display_data"
    }
   ],
   "source": [
    "plot = k3d.plot()\n",
    "plt_coordinates = k3d.points(coordinates)\n",
    "plot += plt_coordinates\n",
    "plot.display()"
   ]
  },
  {
   "cell_type": "markdown",
   "metadata": {},
   "source": [
    "Reduce the size of points"
   ]
  },
  {
   "cell_type": "code",
   "execution_count": 74,
   "metadata": {},
   "outputs": [],
   "source": [
    "plt_coordinates.point_size = 0.1"
   ]
  },
  {
   "cell_type": "markdown",
   "metadata": {},
   "source": [
    "Change the color of points"
   ]
  },
  {
   "cell_type": "code",
   "execution_count": 75,
   "metadata": {},
   "outputs": [],
   "source": [
    "plt_coordinates.color = 0xff0000"
   ]
  },
  {
   "cell_type": "markdown",
   "metadata": {},
   "source": [
    "Accordingly, the coordinates function is:"
   ]
  },
  {
   "cell_type": "code",
   "execution_count": 76,
   "metadata": {},
   "outputs": [
    {
     "name": "stderr",
     "output_type": "stream",
     "text": [
      "/home/begm/miniconda3/envs/joommf/lib/python3.6/site-packages/traittypes/traittypes.py:101: UserWarning: Given trait value dtype \"float64\" does not match required type \"float32\". A coerced copy has been created.\n",
      "  np.dtype(self.dtype).name))\n"
     ]
    }
   ],
   "source": [
    "def k3d_coordinates(field, plot=None):\n",
    "    coordinates = np.array(list(field.mesh.coordinates))\n",
    "    \n",
    "    if plot is None:\n",
    "        plot = k3d.plot()\n",
    "    plt_coordinates = k3d.points(coordinates)\n",
    "    plt_coordinates.point_size = 0.1\n",
    "    plt_coordinates.color = 0xff0000\n",
    "    plot += plt_coordinates\n",
    "    if plot is None:\n",
    "        plot.display()\n",
    "    \n",
    "k3d_coordinates(field)"
   ]
  },
  {
   "cell_type": "markdown",
   "metadata": {},
   "source": [
    "#### Vectors\n",
    "\n",
    "Get the vectors from the `df.Field` object."
   ]
  },
  {
   "cell_type": "code",
   "execution_count": 77,
   "metadata": {},
   "outputs": [
    {
     "data": {
      "text/plain": [
       "(216, 3)"
      ]
     },
     "execution_count": 77,
     "metadata": {},
     "output_type": "execute_result"
    }
   ],
   "source": [
    "vectors = field.array.copy().reshape(-1, 3)\n",
    "vectors.shape"
   ]
  },
  {
   "cell_type": "markdown",
   "metadata": {},
   "source": [
    "Plot vectors"
   ]
  },
  {
   "cell_type": "code",
   "execution_count": 78,
   "metadata": {},
   "outputs": [
    {
     "name": "stderr",
     "output_type": "stream",
     "text": [
      "/home/begm/miniconda3/envs/joommf/lib/python3.6/site-packages/traittypes/traittypes.py:101: UserWarning: Given trait value dtype \"float64\" does not match required type \"float32\". A coerced copy has been created.\n",
      "  np.dtype(self.dtype).name))\n"
     ]
    },
    {
     "data": {
      "application/vnd.jupyter.widget-view+json": {
       "model_id": "0814eb64b53f49f2b8fb59a0444573ff",
       "version_major": 2,
       "version_minor": 0
      },
      "text/plain": [
       "Output()"
      ]
     },
     "metadata": {},
     "output_type": "display_data"
    }
   ],
   "source": [
    "plot = k3d.plot()\n",
    "plt_vectors = k3d.vectors(coordinates, vectors)\n",
    "plot += plt_vectors\n",
    "plot.display()"
   ]
  },
  {
   "cell_type": "markdown",
   "metadata": {},
   "source": [
    "However, the zero vectors are plotted with wrong directions. In order to avoid this problem, we have to plot only those coordinates/vectors where the norm of vector is non-zero."
   ]
  },
  {
   "cell_type": "code",
   "execution_count": 79,
   "metadata": {},
   "outputs": [],
   "source": [
    "def select_nonzero(coordinates, vectors):\n",
    "    nonzero_indices = (np.sum(vectors**2, axis=-1) != 0)\n",
    "    return coordinates[nonzero_indices], vectors[nonzero_indices]\n",
    "\n",
    "nonzero_coordinates, nonzero_vectors = select_nonzero(coordinates, vectors)"
   ]
  },
  {
   "cell_type": "markdown",
   "metadata": {},
   "source": [
    "Now, we can plot only the nonzero vectors."
   ]
  },
  {
   "cell_type": "code",
   "execution_count": 80,
   "metadata": {},
   "outputs": [
    {
     "name": "stderr",
     "output_type": "stream",
     "text": [
      "/home/begm/miniconda3/envs/joommf/lib/python3.6/site-packages/traittypes/traittypes.py:101: UserWarning: Given trait value dtype \"float64\" does not match required type \"float32\". A coerced copy has been created.\n",
      "  np.dtype(self.dtype).name))\n"
     ]
    },
    {
     "data": {
      "application/vnd.jupyter.widget-view+json": {
       "model_id": "d8e822120f8d456498b43d86cf2f94c3",
       "version_major": 2,
       "version_minor": 0
      },
      "text/plain": [
       "Output()"
      ]
     },
     "metadata": {},
     "output_type": "display_data"
    }
   ],
   "source": [
    "plot = k3d.plot()\n",
    "plt_vectors = k3d.vectors(nonzero_coordinates, nonzero_vectors)\n",
    "plot += plt_vectors\n",
    "plot.display()"
   ]
  },
  {
   "cell_type": "markdown",
   "metadata": {},
   "source": [
    "Now, we need to check the position of vectors relative to the coordinates. This is because we need the middle of a vector to be located at the coordinate."
   ]
  },
  {
   "cell_type": "code",
   "execution_count": 81,
   "metadata": {},
   "outputs": [
    {
     "name": "stderr",
     "output_type": "stream",
     "text": [
      "/home/begm/miniconda3/envs/joommf/lib/python3.6/site-packages/traittypes/traittypes.py:101: UserWarning: Given trait value dtype \"float64\" does not match required type \"float32\". A coerced copy has been created.\n",
      "  np.dtype(self.dtype).name))\n"
     ]
    }
   ],
   "source": [
    "k3d_coordinates(field, plot=plot)"
   ]
  },
  {
   "cell_type": "markdown",
   "metadata": {},
   "source": [
    "The tails of vectors are located at coordinates. Therefore, the coordinates for vector field should be moved by 1/2 of their norm."
   ]
  },
  {
   "cell_type": "code",
   "execution_count": 82,
   "metadata": {},
   "outputs": [],
   "source": [
    "shifted_nonzero_coordinates = nonzero_coordinates - 0.5 * nonzero_vectors"
   ]
  },
  {
   "cell_type": "markdown",
   "metadata": {},
   "source": [
    "Now, we plot both vectors with shifted origins and coordinates."
   ]
  },
  {
   "cell_type": "code",
   "execution_count": 83,
   "metadata": {},
   "outputs": [
    {
     "name": "stderr",
     "output_type": "stream",
     "text": [
      "/home/begm/miniconda3/envs/joommf/lib/python3.6/site-packages/traittypes/traittypes.py:101: UserWarning: Given trait value dtype \"float64\" does not match required type \"float32\". A coerced copy has been created.\n",
      "  np.dtype(self.dtype).name))\n"
     ]
    },
    {
     "data": {
      "application/vnd.jupyter.widget-view+json": {
       "model_id": "533d5fdb6d464871b8ec7d14349f3a86",
       "version_major": 2,
       "version_minor": 0
      },
      "text/plain": [
       "Output()"
      ]
     },
     "metadata": {},
     "output_type": "display_data"
    }
   ],
   "source": [
    "plot = k3d.plot()\n",
    "plt_vectors = k3d.vectors(shifted_nonzero_coordinates, nonzero_vectors)\n",
    "plot += plt_vectors\n",
    "plot.display()\n",
    "\n",
    "k3d_coordinates(field, plot=plot)"
   ]
  },
  {
   "cell_type": "markdown",
   "metadata": {},
   "source": [
    "### Adding colormap\n",
    "\n",
    "If we want to use different colors for the vectors, we use the color set from the package **pylab** (`pylab.cm.get_cmap()`)."
   ]
  },
  {
   "cell_type": "code",
   "execution_count": 84,
   "metadata": {},
   "outputs": [
    {
     "data": {
      "text/plain": [
       "(256, 3)"
      ]
     },
     "execution_count": 84,
     "metadata": {},
     "output_type": "execute_result"
    }
   ],
   "source": [
    "def colormap(name, n=256):\n",
    "    \"\"\"Returns a list of tuple (r, g, b) colors.\"\"\"\n",
    "    cmap = pylab.cm.get_cmap(name, n)\n",
    "    cmap_list = []\n",
    "    for i in range(cmap.N):\n",
    "        cmap_list.append(cmap(i)[:3])\n",
    "\n",
    "    return np.array(cmap_list)\n",
    "\n",
    "colormap('viridis').shape"
   ]
  },
  {
   "cell_type": "markdown",
   "metadata": {},
   "source": [
    "We find the minimum and maximum values of a vector component (`component={0, 1, 2}`) and divide the range by 256. If the field is constant (max - min == 0), we use the middle value from the colormap."
   ]
  },
  {
   "cell_type": "code",
   "execution_count": 85,
   "metadata": {},
   "outputs": [],
   "source": [
    "component = 0\n",
    "\n",
    "vector_component = nonzero_vectors[:, component]\n",
    "\n",
    "def get_int_component(vector_component, avoid_zero=False):\n",
    "    max_value = vector_component.max()\n",
    "    min_value = vector_component.min()\n",
    "    value_range = max_value - min_value\n",
    "\n",
    "    # Put values in 0-255 range\n",
    "    if value_range != 0:\n",
    "        int_component = (vector_component + abs(min_value)) / value_range * 255\n",
    "    else:\n",
    "        int_component = [128] * len(vector_component)  # place in the middle of colormap\n",
    "\n",
    "    return np.vectorize(lambda x: int(x))(int_component)\n",
    "\n",
    "int_component = get_int_component(vector_component)"
   ]
  },
  {
   "cell_type": "markdown",
   "metadata": {},
   "source": [
    "Divide values of vectors and colormap set into 256 bins, and match each vector with a specific color."
   ]
  },
  {
   "cell_type": "code",
   "execution_count": 86,
   "metadata": {},
   "outputs": [],
   "source": [
    "cmap = colormap('viridis', 256)\n",
    "\n",
    "colors = cmap[int_component]\n",
    "colors = ['0x{}'.format(matplotlib.colors.rgb2hex(rgb)[1:]) for rgb in colors]\n",
    "colors = [(int(i, 16), int(i, 16)) for i in colors]  # tuple (head-color, body-color)"
   ]
  },
  {
   "cell_type": "markdown",
   "metadata": {},
   "source": [
    "Plotting vector field."
   ]
  },
  {
   "cell_type": "code",
   "execution_count": 92,
   "metadata": {},
   "outputs": [
    {
     "name": "stderr",
     "output_type": "stream",
     "text": [
      "/home/begm/miniconda3/envs/joommf/lib/python3.6/site-packages/traittypes/traittypes.py:101: UserWarning: Given trait value dtype \"float64\" does not match required type \"float32\". A coerced copy has been created.\n",
      "  np.dtype(self.dtype).name))\n"
     ]
    },
    {
     "data": {
      "application/vnd.jupyter.widget-view+json": {
       "model_id": "68fb3d9d87a44e0aaf72bf31aa55729e",
       "version_major": 2,
       "version_minor": 0
      },
      "text/plain": [
       "Output()"
      ]
     },
     "metadata": {},
     "output_type": "display_data"
    }
   ],
   "source": [
    "plot = k3d.plot()\n",
    "plt = k3d.vectors(nonzero_coordinates, nonzero_vectors, colors=colors)\n",
    "plot += plt\n",
    "plot.display()"
   ]
  },
  {
   "cell_type": "markdown",
   "metadata": {},
   "source": [
    "**Questions**:\n",
    "\n",
    "1. How to add the colorbar?\n",
    "2. Can we have cones instead of arrows?\n",
    "3. What is this warning: `/home/begm/miniconda3/envs/joommf/lib/python3.6/site-packages/traittypes/traittypes.py:101: UserWarning: Given trait value dtype \"float64\" does not match required type \"float32\". A coerced copy has been created. np.dtype(self.dtype).name))`?"
   ]
  },
  {
   "cell_type": "markdown",
   "metadata": {},
   "source": [
    "# Scalar filed"
   ]
  },
  {
   "cell_type": "markdown",
   "metadata": {},
   "source": [
    "Create a 10 x 10 x 10 nm sample. The initial field is directed along the X axis, in a volume bounded by a sphere with a diameter of 5 nm."
   ]
  },
  {
   "cell_type": "code",
   "execution_count": 94,
   "metadata": {},
   "outputs": [],
   "source": [
    "field_array = field.array.copy()\n",
    "array_shape = field.array.shape\n",
    "\n",
    "nx, ny, nz, _ = array_shape\n",
    "\n",
    "norm = np.linalg.norm(field_array, axis=3)[..., None]\n",
    "\n",
    "for i in range(nx):\n",
    "    for j in range(ny):\n",
    "        for k in range(nz):\n",
    "            if norm[i, j, k] == 0:\n",
    "                field_array[i, j, k] = np.nan\n",
    "            \n",
    "component = 0\n",
    "\n",
    "field_component = field_array[..., component]\n",
    "\n",
    "def get_int_component(field_component):\n",
    "    max_value = np.nanmax(field_component)\n",
    "    min_value = np.nanmin(field_component)\n",
    "    value_range = max_value - min_value\n",
    "\n",
    "    nx, ny, nz = field_component.shape\n",
    "\n",
    "    # Put values in 0-255 range\n",
    "    if value_range != 0:\n",
    "        int_component = (field_component + abs(min_value)) / value_range * 254\n",
    "        int_component += 1\n",
    "    else:\n",
    "        int_component = 128 * np.ones(field_component.shape)  # place in the middle of colormap\n",
    "\n",
    "    for i in range(nx):\n",
    "        for j in range(ny):\n",
    "            for k in range(nz):\n",
    "                if np.isnan(field_component[i, j, k]):\n",
    "                    int_component[i, j, k] = 0\n",
    "                else:\n",
    "                    int_component[i, j, k] = int(int_component[i, j, k])\n",
    "    \n",
    "    \n",
    "    \n",
    "    return int_component\n",
    "\n",
    "int_component = get_int_component(field_component)"
   ]
  },
  {
   "cell_type": "markdown",
   "metadata": {},
   "source": [
    "Plotting scalor field. Using existed colormap set."
   ]
  },
  {
   "cell_type": "code",
   "execution_count": 95,
   "metadata": {},
   "outputs": [
    {
     "name": "stderr",
     "output_type": "stream",
     "text": [
      "/home/begm/miniconda3/envs/joommf/lib/python3.6/site-packages/traittypes/traittypes.py:101: UserWarning: Given trait value dtype \"float64\" does not match required type \"uint8\". A coerced copy has been created.\n",
      "  np.dtype(self.dtype).name))\n"
     ]
    },
    {
     "data": {
      "application/vnd.jupyter.widget-view+json": {
       "model_id": "fa21b7c7f5994e1c98238daa73f06240",
       "version_major": 2,
       "version_minor": 0
      },
      "text/plain": [
       "Output()"
      ]
     },
     "metadata": {},
     "output_type": "display_data"
    }
   ],
   "source": [
    "xmin,ymin,zmin = field.mesh.pmin\n",
    "xmax,ymax,zmax = field.mesh.pmax\n",
    "\n",
    "plot = k3d.plot()\n",
    "plt_vox = k3d.voxels(int_component, color_map=colors,\n",
    "                               xmin=xmin,xmax=xmax,\n",
    "                               ymin=ymin,ymax=ymax,\n",
    "                               zmin=zmin,zmax=zmax, outlines=False)\n",
    "\n",
    "plot += plt_vox\n",
    "plot.display()"
   ]
  },
  {
   "cell_type": "markdown",
   "metadata": {},
   "source": [
    "**Questions:**\n",
    "1. How to add the colorbar?\n",
    "2. Can we change the labels on axes?"
   ]
  },
  {
   "cell_type": "markdown",
   "metadata": {},
   "source": [
    "# Slice vector field"
   ]
  },
  {
   "cell_type": "markdown",
   "metadata": {},
   "source": [
    "Visualization of a vector field on a selected plane. Using the function `field.mesh.plane (axis = value)` we get the coordinate values of the origin of the vectors and their magnitude. In the process, we filter those vectors whose length is equal to zero."
   ]
  },
  {
   "cell_type": "markdown",
   "metadata": {},
   "source": [
    "We obtain the coordinates of the origin of the vectors and their length on the selected plane."
   ]
  },
  {
   "cell_type": "code",
   "execution_count": 124,
   "metadata": {},
   "outputs": [],
   "source": [
    "coordinates_nonzero_slice = []\n",
    "vectors_nonzero_slice = []\n",
    "for i in field.mesh.plane(x=2.2):\n",
    "    vector = field(i)\n",
    "    norm = vector[0]**2 + vector[1]**2 + vector[2]**2\n",
    "    if norm > 0:\n",
    "        coordinates_nonzero_slice.append(i)\n",
    "        vectors_nonzero_slice.append(vector)\n",
    "        \n",
    "coordinates_nonzero_slice = np.array(coordinates_nonzero_slice)\n",
    "vectors_nonzero_slice = np.array(vectors_nonzero_slice)\n",
    "\n",
    "shifted_nonzero_coordinates_slice = coordinates_nonzero_slice - 0.5 * vectors_nonzero_slice"
   ]
  },
  {
   "cell_type": "markdown",
   "metadata": {},
   "source": [
    "Plot"
   ]
  },
  {
   "cell_type": "code",
   "execution_count": 125,
   "metadata": {},
   "outputs": [
    {
     "name": "stderr",
     "output_type": "stream",
     "text": [
      "/home/begm/miniconda3/envs/joommf/lib/python3.6/site-packages/traittypes/traittypes.py:101: UserWarning: Given trait value dtype \"float64\" does not match required type \"float32\". A coerced copy has been created.\n",
      "  np.dtype(self.dtype).name))\n"
     ]
    },
    {
     "data": {
      "application/vnd.jupyter.widget-view+json": {
       "model_id": "9aa227abfe964c239a59a7960fe3b6cc",
       "version_major": 2,
       "version_minor": 0
      },
      "text/plain": [
       "Output()"
      ]
     },
     "metadata": {},
     "output_type": "display_data"
    }
   ],
   "source": [
    "plot = k3d.plot()\n",
    "vector_plot  = k3d.vectors(shifted_nonzero_coordinates_slice, vectors_nonzero_slice, color=color)\n",
    "\n",
    "plt_coordinates = k3d.points(coordinates_nonzero_slice)\n",
    "plt_coordinates.point_size = 0.1\n",
    "plt_coordinates.color = 0xff0000\n",
    "plot += plt_coordinates\n",
    "\n",
    "plot += vector_plot\n",
    "plot.display()"
   ]
  },
  {
   "cell_type": "markdown",
   "metadata": {},
   "source": [
    "# Slice scalor field"
   ]
  },
  {
   "cell_type": "markdown",
   "metadata": {},
   "source": [
    "Select the field values on the plane"
   ]
  },
  {
   "cell_type": "code",
   "execution_count": null,
   "metadata": {},
   "outputs": [],
   "source": [
    "ith = 1\n",
    "value_slice = field.array[:,:,ith,1]\n",
    "nz,ny,nx,_  = field.array.shape"
   ]
  },
  {
   "cell_type": "markdown",
   "metadata": {},
   "source": [
    "Create a list of triples of node numbers"
   ]
  },
  {
   "cell_type": "code",
   "execution_count": null,
   "metadata": {},
   "outputs": [],
   "source": [
    "ni,nj = value_slice.shape\n",
    "indices = []\n",
    "for i in range(ni-1):\n",
    "    for j in range(nj-1):\n",
    "        indices.append((i*nj+j, i*nj+j+1, (i+1)*nj+j))        # lower-left triangle\n",
    "        indices.append(((i+1)*nj+j+1, i*nj+j+1, (i+1)*nj+j))  # upper-right triangle"
   ]
  },
  {
   "cell_type": "markdown",
   "metadata": {},
   "source": [
    "Select the mesh coordinate"
   ]
  },
  {
   "cell_type": "code",
   "execution_count": null,
   "metadata": {},
   "outputs": [],
   "source": [
    "origins = np.array(list(field.mesh.coordinates))\n",
    "origins_slice = origins.reshape(nz,ny,nx,3)[:,:,ith,:]"
   ]
  },
  {
   "cell_type": "markdown",
   "metadata": {},
   "source": [
    "Plot"
   ]
  },
  {
   "cell_type": "code",
   "execution_count": null,
   "metadata": {},
   "outputs": [],
   "source": [
    "plot = k3d.plot()\n",
    "plt_mesh = k3d.mesh(origins_slice, indices, attribute=value_slice,\n",
    "                    color_map=k3d.basic_color_maps.CoolWarm,\n",
    "                    color_range=[-1.0, 1.0])\n",
    "plot += plt_mesh\n",
    "plot.display()"
   ]
  },
  {
   "cell_type": "markdown",
   "metadata": {},
   "source": [
    "# Overlap vector and scalor fields"
   ]
  },
  {
   "cell_type": "markdown",
   "metadata": {},
   "source": [
    "## 3D"
   ]
  },
  {
   "cell_type": "code",
   "execution_count": null,
   "metadata": {},
   "outputs": [],
   "source": [
    "plot = k3d.plot()\n",
    "plt_scalor  = k3d.volume(field_scalor.array, bounds=[-size, size, -size, size, -size, size],\n",
    "                         color_map=np.array(k3d.basic_color_maps.Jet, dtype=np.float32))\n",
    "plt_vector  = k3d.vectors(origins_nonzero, vector_scale*vectors_nonzero, colors=colors)\n",
    "plot += plt_scalor\n",
    "plot += plt_vector\n",
    "plot.display()"
   ]
  },
  {
   "cell_type": "markdown",
   "metadata": {},
   "source": [
    "## Slice"
   ]
  },
  {
   "cell_type": "code",
   "execution_count": null,
   "metadata": {},
   "outputs": [],
   "source": [
    "color = 0xff\n",
    "vector_scale = 1.0\n",
    "\n",
    "plot = k3d.plot()\n",
    "plt_vector_slice = k3d.vectors(origins_nonzero_slice, vector_scale*vectors_nonzero_slice, color=color)\n",
    "plt_scalor_slice = k3d.mesh(origins_slice, indices, attribute=value_slice,\n",
    "                    color_map=k3d.basic_color_maps.CoolWarm,\n",
    "                    color_range=[-1.0, 1.0], antialias=True)\n",
    "plot += plt_mesh\n",
    "plot += plt\n",
    "plot.display()"
   ]
  },
  {
   "cell_type": "markdown",
   "metadata": {},
   "source": [
    "# Mesh as vox"
   ]
  },
  {
   "cell_type": "code",
   "execution_count": 87,
   "metadata": {},
   "outputs": [
    {
     "name": "stderr",
     "output_type": "stream",
     "text": [
      "/home/begm/miniconda3/envs/joommf/lib/python3.6/site-packages/traittypes/traittypes.py:101: UserWarning: Given trait value dtype \"bool\" does not match required type \"uint8\". A coerced copy has been created.\n",
      "  np.dtype(self.dtype).name))\n"
     ]
    },
    {
     "data": {
      "application/vnd.jupyter.widget-view+json": {
       "model_id": "3cb5719ff13a423bb6e58f8d98336e44",
       "version_major": 2,
       "version_minor": 0
      },
      "text/plain": [
       "Output()"
      ]
     },
     "metadata": {},
     "output_type": "display_data"
    }
   ],
   "source": [
    "xmin,ymin,zmin = field.mesh.pmin\n",
    "xmax,ymax,zmax = field.mesh.pmax\n",
    "\n",
    "plot = k3d.plot()\n",
    "plt_vox = k3d.voxels(field.array[...,0]!=0, color_map=[0x00ff00],\n",
    "                               xmin=xmin,xmax=xmax,\n",
    "                               ymin=ymin,ymax=ymax,\n",
    "                               zmin=zmin,zmax=zmax)\n",
    "plot += plt_vox\n",
    "plot.display()"
   ]
  },
  {
   "cell_type": "code",
   "execution_count": 91,
   "metadata": {},
   "outputs": [
    {
     "name": "stderr",
     "output_type": "stream",
     "text": [
      "/home/begm/miniconda3/envs/joommf/lib/python3.6/site-packages/traittypes/traittypes.py:101: UserWarning: Given trait value dtype \"float64\" does not match required type \"uint8\". A coerced copy has been created.\n",
      "  np.dtype(self.dtype).name))\n"
     ]
    },
    {
     "data": {
      "application/vnd.jupyter.widget-view+json": {
       "model_id": "e77c274f399b498c90d12b48fc903e78",
       "version_major": 2,
       "version_minor": 0
      },
      "text/plain": [
       "Output()"
      ]
     },
     "metadata": {},
     "output_type": "display_data"
    }
   ],
   "source": [
    "myarray = np.ones([2, 1, 2])\n",
    "\n",
    "xmin,ymin,zmin = 0, 0, 0\n",
    "xmax,ymax,zmax = myarray.shape\n",
    "\n",
    "plot = k3d.plot()\n",
    "plt_vox = k3d.voxels(myarray, color_map=[0x00ff00],\n",
    "                               xmin=xmin,xmax=xmax,\n",
    "                               ymin=ymin,ymax=ymax,\n",
    "                               zmin=zmin,zmax=zmax, outlines=False)\n",
    "plot += plt_vox\n",
    "plot.display()"
   ]
  },
  {
   "cell_type": "code",
   "execution_count": null,
   "metadata": {},
   "outputs": [],
   "source": [
    "myarray"
   ]
  },
  {
   "cell_type": "code",
   "execution_count": null,
   "metadata": {},
   "outputs": [],
   "source": [
    "k3d.voxels?"
   ]
  },
  {
   "cell_type": "markdown",
   "metadata": {},
   "source": [
    "# Isosurface"
   ]
  },
  {
   "cell_type": "markdown",
   "metadata": {},
   "source": [
    "Visualization of several isosurfaces."
   ]
  },
  {
   "cell_type": "code",
   "execution_count": 130,
   "metadata": {},
   "outputs": [
    {
     "name": "stderr",
     "output_type": "stream",
     "text": [
      "/home/begm/miniconda3/envs/joommf/lib/python3.6/site-packages/traittypes/traittypes.py:101: UserWarning: Given trait value dtype \"float64\" does not match required type \"float32\". A coerced copy has been created.\n",
      "  np.dtype(self.dtype).name))\n"
     ]
    },
    {
     "data": {
      "application/vnd.jupyter.widget-view+json": {
       "model_id": "ddc79145b48f46768df602ad16a81209",
       "version_major": 2,
       "version_minor": 0
      },
      "text/plain": [
       "Output()"
      ]
     },
     "metadata": {},
     "output_type": "display_data"
    }
   ],
   "source": [
    "xmin,ymin,zmin = field.mesh.pmin\n",
    "xmax,ymax,zmax = field.mesh.pmax\n",
    "\n",
    "plot = k3d.plot()\n",
    "plt_iso = k3d.marching_cubes(np.sum(field.array**2,axis=-1), level=0.01,\n",
    "                             bounds=[xmin,xmax,ymin,ymax,zmin,zmax])\n",
    "\n",
    "plot += plt_iso\n",
    "plt_iso = k3d.marching_cubes(np.sum(field.array**2,axis=-1), level=1.0,\n",
    "                             bounds=[xmin,xmax,ymin,ymax,zmin,zmax],\n",
    "                             color=0x00ff00)\n",
    "\n",
    "plot += plt_iso\n",
    "plot.display()"
   ]
  },
  {
   "cell_type": "markdown",
   "metadata": {},
   "source": [
    "**Question**:\n",
    "\n",
    "* How add alpha chanel for isosurface?\n",
    "* Is it possible to set the range of values and the step of displaying isosurfaces?\n",
    "* How add the legend?"
   ]
  }
 ],
 "metadata": {
  "kernelspec": {
   "display_name": "Python 3",
   "language": "python",
   "name": "python3"
  },
  "language_info": {
   "codemirror_mode": {
    "name": "ipython",
    "version": 3
   },
   "file_extension": ".py",
   "mimetype": "text/x-python",
   "name": "python",
   "nbconvert_exporter": "python",
   "pygments_lexer": "ipython3",
   "version": "3.6.6"
  }
 },
 "nbformat": 4,
 "nbformat_minor": 2
}
