{
 "cells": [
  {
   "cell_type": "markdown",
   "metadata": {},
   "source": [
    "# k3d usage for discretisedfield"
   ]
  },
  {
   "cell_type": "code",
   "execution_count": 1,
   "metadata": {},
   "outputs": [],
   "source": [
    "import k3d\n",
    "import pylab\n",
    "import matplotlib\n",
    "import numpy as np\n",
    "import discretisedfield as df\n",
    "import matplotlib.pyplot as plt\n",
    "%matplotlib inline"
   ]
  },
  {
   "cell_type": "markdown",
   "metadata": {},
   "source": [
    "### A simple vector field to be visualised"
   ]
  },
  {
   "cell_type": "markdown",
   "metadata": {},
   "source": [
    "Sample is a 5 nm radius sphere sample. The initial field is in the $x$ direction."
   ]
  },
  {
   "cell_type": "code",
   "execution_count": 2,
   "metadata": {},
   "outputs": [],
   "source": [
    "r = 3\n",
    "mesh = df.Mesh(p1=(-r, -r, -r), p2=(r, r, r), cell=(1, 1, 1))\n",
    "\n",
    "def norm_fun(pos):\n",
    "    x, y, z = pos\n",
    "    if x**2 + y**2 + z**2 < r**2:\n",
    "        return 0.5\n",
    "    else:\n",
    "        return 0\n",
    "\n",
    "field = df.Field(mesh, value=(1, 0, 0), norm=norm_fun)"
   ]
  },
  {
   "cell_type": "markdown",
   "metadata": {},
   "source": [
    "## Vector field\n",
    "\n",
    "#### Coordinates\n",
    "\n",
    "Get the spatial coordinates of vectors. These coordinates are centres off cells in a finite difference mesh."
   ]
  },
  {
   "cell_type": "code",
   "execution_count": 3,
   "metadata": {},
   "outputs": [
    {
     "data": {
      "text/plain": [
       "(216, 3)"
      ]
     },
     "execution_count": 3,
     "metadata": {},
     "output_type": "execute_result"
    }
   ],
   "source": [
    "coordinates = np.array(list(field.mesh.coordinates))\n",
    "coordinates.shape"
   ]
  },
  {
   "cell_type": "markdown",
   "metadata": {},
   "source": [
    "Plot cell coordinates"
   ]
  },
  {
   "cell_type": "code",
   "execution_count": 4,
   "metadata": {},
   "outputs": [
    {
     "name": "stderr",
     "output_type": "stream",
     "text": [
      "/home/begm/miniconda3/envs/joommf/lib/python3.6/site-packages/traittypes/traittypes.py:101: UserWarning: Given trait value dtype \"float64\" does not match required type \"float32\". A coerced copy has been created.\n",
      "  np.dtype(self.dtype).name))\n"
     ]
    },
    {
     "data": {
      "application/vnd.jupyter.widget-view+json": {
       "model_id": "58902972f08a4ed28a2ef979ab9d0326",
       "version_major": 2,
       "version_minor": 0
      },
      "text/plain": [
       "Output()"
      ]
     },
     "metadata": {},
     "output_type": "display_data"
    }
   ],
   "source": [
    "plot = k3d.plot()\n",
    "plt_coordinates = k3d.points(coordinates)\n",
    "plot += plt_coordinates\n",
    "plot.display()"
   ]
  },
  {
   "cell_type": "markdown",
   "metadata": {},
   "source": [
    "Reduce the size of points"
   ]
  },
  {
   "cell_type": "code",
   "execution_count": 5,
   "metadata": {},
   "outputs": [],
   "source": [
    "plt_coordinates.point_size = 0.1"
   ]
  },
  {
   "cell_type": "markdown",
   "metadata": {},
   "source": [
    "Change the color of points"
   ]
  },
  {
   "cell_type": "code",
   "execution_count": 6,
   "metadata": {},
   "outputs": [],
   "source": [
    "plt_coordinates.color = 0xff0000"
   ]
  },
  {
   "cell_type": "markdown",
   "metadata": {},
   "source": [
    "Accordingly, the coordinates function is:"
   ]
  },
  {
   "cell_type": "code",
   "execution_count": 7,
   "metadata": {},
   "outputs": [
    {
     "name": "stderr",
     "output_type": "stream",
     "text": [
      "/home/begm/miniconda3/envs/joommf/lib/python3.6/site-packages/traittypes/traittypes.py:101: UserWarning: Given trait value dtype \"float64\" does not match required type \"float32\". A coerced copy has been created.\n",
      "  np.dtype(self.dtype).name))\n"
     ]
    }
   ],
   "source": [
    "def k3d_coordinates(field, plot=None):\n",
    "    coordinates = np.array(list(field.mesh.coordinates))\n",
    "    \n",
    "    if plot is None:\n",
    "        plot = k3d.plot()\n",
    "    plt_coordinates = k3d.points(coordinates)\n",
    "    plt_coordinates.point_size = 0.1\n",
    "    plt_coordinates.color = 0xff0000\n",
    "    plot += plt_coordinates\n",
    "    if plot is None:\n",
    "        plot.display()\n",
    "    \n",
    "k3d_coordinates(field)"
   ]
  },
  {
   "cell_type": "markdown",
   "metadata": {},
   "source": [
    "#### Vectors\n",
    "\n",
    "Get the vectors from the `df.Field` object."
   ]
  },
  {
   "cell_type": "code",
   "execution_count": 8,
   "metadata": {},
   "outputs": [
    {
     "data": {
      "text/plain": [
       "(216, 3)"
      ]
     },
     "execution_count": 8,
     "metadata": {},
     "output_type": "execute_result"
    }
   ],
   "source": [
    "vectors = field.array.copy().reshape(-1, 3)\n",
    "vectors.shape"
   ]
  },
  {
   "cell_type": "markdown",
   "metadata": {},
   "source": [
    "Plot vectors"
   ]
  },
  {
   "cell_type": "code",
   "execution_count": 9,
   "metadata": {},
   "outputs": [
    {
     "name": "stderr",
     "output_type": "stream",
     "text": [
      "/home/begm/miniconda3/envs/joommf/lib/python3.6/site-packages/traittypes/traittypes.py:101: UserWarning: Given trait value dtype \"float64\" does not match required type \"float32\". A coerced copy has been created.\n",
      "  np.dtype(self.dtype).name))\n"
     ]
    },
    {
     "data": {
      "application/vnd.jupyter.widget-view+json": {
       "model_id": "3db4bccae5e74b2ca9ed84ef82e9297f",
       "version_major": 2,
       "version_minor": 0
      },
      "text/plain": [
       "Output()"
      ]
     },
     "metadata": {},
     "output_type": "display_data"
    }
   ],
   "source": [
    "plot = k3d.plot()\n",
    "plt_vectors = k3d.vectors(coordinates, vectors)\n",
    "plot += plt_vectors\n",
    "plot.display()"
   ]
  },
  {
   "cell_type": "markdown",
   "metadata": {},
   "source": [
    "However, the zero vectors are plotted with wrong directions. In order to avoid this problem, we have to plot only those coordinates/vectors where the norm of vector is non-zero."
   ]
  },
  {
   "cell_type": "code",
   "execution_count": 10,
   "metadata": {},
   "outputs": [],
   "source": [
    "def select_nonzero(coordinates, vectors):\n",
    "    nonzero_indices = (np.sum(vectors**2, axis=-1) != 0)\n",
    "    return coordinates[nonzero_indices], vectors[nonzero_indices]\n",
    "\n",
    "nonzero_coordinates, nonzero_vectors = select_nonzero(coordinates, vectors)"
   ]
  },
  {
   "cell_type": "markdown",
   "metadata": {},
   "source": [
    "Now, we can plot only the nonzero vectors."
   ]
  },
  {
   "cell_type": "code",
   "execution_count": 11,
   "metadata": {},
   "outputs": [
    {
     "name": "stderr",
     "output_type": "stream",
     "text": [
      "/home/begm/miniconda3/envs/joommf/lib/python3.6/site-packages/traittypes/traittypes.py:101: UserWarning: Given trait value dtype \"float64\" does not match required type \"float32\". A coerced copy has been created.\n",
      "  np.dtype(self.dtype).name))\n"
     ]
    },
    {
     "data": {
      "application/vnd.jupyter.widget-view+json": {
       "model_id": "af9789c283a947d9a671332d5669423e",
       "version_major": 2,
       "version_minor": 0
      },
      "text/plain": [
       "Output()"
      ]
     },
     "metadata": {},
     "output_type": "display_data"
    }
   ],
   "source": [
    "plot = k3d.plot()\n",
    "plt_vectors = k3d.vectors(nonzero_coordinates, nonzero_vectors)\n",
    "plot += plt_vectors\n",
    "plot.display()"
   ]
  },
  {
   "cell_type": "markdown",
   "metadata": {},
   "source": [
    "Now, we need to check the position of vectors relative to the coordinates. This is because we need the middle of a vector to be located at the coordinate."
   ]
  },
  {
   "cell_type": "code",
   "execution_count": 12,
   "metadata": {},
   "outputs": [
    {
     "name": "stderr",
     "output_type": "stream",
     "text": [
      "/home/begm/miniconda3/envs/joommf/lib/python3.6/site-packages/traittypes/traittypes.py:101: UserWarning: Given trait value dtype \"float64\" does not match required type \"float32\". A coerced copy has been created.\n",
      "  np.dtype(self.dtype).name))\n"
     ]
    }
   ],
   "source": [
    "k3d_coordinates(field, plot=plot)"
   ]
  },
  {
   "cell_type": "markdown",
   "metadata": {},
   "source": [
    "The tails of vectors are located at coordinates. Therefore, the coordinates for vector field should be moved by 1/2 of their norm."
   ]
  },
  {
   "cell_type": "code",
   "execution_count": 13,
   "metadata": {},
   "outputs": [],
   "source": [
    "shifted_nonzero_coordinates = nonzero_coordinates - 0.5 * nonzero_vectors"
   ]
  },
  {
   "cell_type": "markdown",
   "metadata": {},
   "source": [
    "Now, we plot both vectors with shifted origins and coordinates."
   ]
  },
  {
   "cell_type": "code",
   "execution_count": 14,
   "metadata": {},
   "outputs": [
    {
     "name": "stderr",
     "output_type": "stream",
     "text": [
      "/home/begm/miniconda3/envs/joommf/lib/python3.6/site-packages/traittypes/traittypes.py:101: UserWarning: Given trait value dtype \"float64\" does not match required type \"float32\". A coerced copy has been created.\n",
      "  np.dtype(self.dtype).name))\n"
     ]
    },
    {
     "data": {
      "application/vnd.jupyter.widget-view+json": {
       "model_id": "4003f6207e5f4b358b620052367574e5",
       "version_major": 2,
       "version_minor": 0
      },
      "text/plain": [
       "Output()"
      ]
     },
     "metadata": {},
     "output_type": "display_data"
    }
   ],
   "source": [
    "plot = k3d.plot()\n",
    "plt_vectors = k3d.vectors(shifted_nonzero_coordinates, nonzero_vectors)\n",
    "plot += plt_vectors\n",
    "plot.display()\n",
    "\n",
    "k3d_coordinates(field, plot=plot)"
   ]
  },
  {
   "cell_type": "markdown",
   "metadata": {},
   "source": [
    "### Adding colormap\n",
    "\n",
    "If we want to use different colors for the vectors, we use the color set from the package **pylab** (`pylab.cm.get_cmap()`)."
   ]
  },
  {
   "cell_type": "code",
   "execution_count": 15,
   "metadata": {},
   "outputs": [
    {
     "data": {
      "text/plain": [
       "(256, 3)"
      ]
     },
     "execution_count": 15,
     "metadata": {},
     "output_type": "execute_result"
    }
   ],
   "source": [
    "def colormap(name, n=256):\n",
    "    \"\"\"Returns a list of tuple (r, g, b) colors.\"\"\"\n",
    "    cmap = pylab.cm.get_cmap(name, n)\n",
    "    cmap_list = []\n",
    "    for i in range(cmap.N):\n",
    "        cmap_list.append(cmap(i)[:3])\n",
    "\n",
    "    return np.array(cmap_list)\n",
    "\n",
    "colormap('viridis').shape"
   ]
  },
  {
   "cell_type": "markdown",
   "metadata": {},
   "source": [
    "We find the minimum and maximum values of a vector component (`component={0, 1, 2}`) and divide the range by 256. If the field is constant (max - min == 0), we use the middle value from the colormap."
   ]
  },
  {
   "cell_type": "code",
   "execution_count": 16,
   "metadata": {},
   "outputs": [],
   "source": [
    "component = 0\n",
    "\n",
    "vector_component = nonzero_vectors[:, component]\n",
    "max_value = vector_component.max()\n",
    "min_value = vector_component.min()\n",
    "value_range = max_value - min_value\n",
    "\n",
    "if value_range != 0:\n",
    "    tmp = (vector_component + abs(min_value)) / value_range * 255\n",
    "else:\n",
    "    tmp = [128] * len(vector_component)\n",
    "\n",
    "tmp = [int(i) for i in tmp]"
   ]
  },
  {
   "cell_type": "markdown",
   "metadata": {},
   "source": [
    "Divide values of vectors and colormap set into 256 bins, and match each vector with a specific color."
   ]
  },
  {
   "cell_type": "code",
   "execution_count": 17,
   "metadata": {},
   "outputs": [],
   "source": [
    "cmap = colormap('viridis', 256)\n",
    "bins = np.arange(0, 256, 1)\n",
    "tmp_ = cmap[np.digitize(tmp, bins, right=True)]\n",
    "\n",
    "colors = ['0x{}'.format(matplotlib.colors.rgb2hex(rgb)[1:]) for rgb in tmp_]\n",
    "colors = [(int(i, 16), int(i, 16)) for i in colors]"
   ]
  },
  {
   "cell_type": "markdown",
   "metadata": {},
   "source": [
    "Plotting vector field. Decrease value of all vectors for vector_scale constant."
   ]
  },
  {
   "cell_type": "code",
   "execution_count": 18,
   "metadata": {},
   "outputs": [
    {
     "name": "stderr",
     "output_type": "stream",
     "text": [
      "/home/begm/miniconda3/envs/joommf/lib/python3.6/site-packages/traittypes/traittypes.py:101: UserWarning: Given trait value dtype \"float64\" does not match required type \"float32\". A coerced copy has been created.\n",
      "  np.dtype(self.dtype).name))\n"
     ]
    },
    {
     "data": {
      "application/vnd.jupyter.widget-view+json": {
       "model_id": "6aea1eaad18c4999815c129905986e72",
       "version_major": 2,
       "version_minor": 0
      },
      "text/plain": [
       "Output()"
      ]
     },
     "metadata": {},
     "output_type": "display_data"
    }
   ],
   "source": [
    "plot = k3d.plot()\n",
    "plt  = k3d.vectors(nonzero_coordinates, nonzero_vectors, colors=colors)\n",
    "plot += plt\n",
    "plot.display()"
   ]
  },
  {
   "cell_type": "markdown",
   "metadata": {},
   "source": [
    "**Question**:\n",
    "\n",
    "* How add the legend?\n",
    "* What is the display limit for a vector field? For several thousand vectors I observe speed degradation and some visualization errors."
   ]
  },
  {
   "cell_type": "markdown",
   "metadata": {},
   "source": [
    "# Scalor filed"
   ]
  },
  {
   "cell_type": "markdown",
   "metadata": {},
   "source": [
    "Create a 10 x 10 x 10 nm sample. The initial field is directed along the X axis, in a volume bounded by a sphere with a diameter of 5 nm."
   ]
  },
  {
   "cell_type": "code",
   "execution_count": 19,
   "metadata": {},
   "outputs": [],
   "source": [
    "size = 5\n",
    "mesh = df.Mesh(p1=(-size, -size, -size), p2=(size, size, size), cell=(1, 1, 1))\n",
    "\n",
    "def val(pos):\n",
    "    x, y, z = pos\n",
    "    return y*x\n",
    "\n",
    "field_scalor = df.Field(mesh, value=val, dim=1)"
   ]
  },
  {
   "cell_type": "markdown",
   "metadata": {},
   "source": [
    "Plotting scalor field. Using existed colormap set."
   ]
  },
  {
   "cell_type": "code",
   "execution_count": 20,
   "metadata": {},
   "outputs": [
    {
     "name": "stderr",
     "output_type": "stream",
     "text": [
      "/home/begm/miniconda3/envs/joommf/lib/python3.6/site-packages/traittypes/traittypes.py:101: UserWarning: Given trait value dtype \"float64\" does not match required type \"float32\". A coerced copy has been created.\n",
      "  np.dtype(self.dtype).name))\n"
     ]
    },
    {
     "data": {
      "application/vnd.jupyter.widget-view+json": {
       "model_id": "31811f56997c47dcb04cca026cbe272d",
       "version_major": 2,
       "version_minor": 0
      },
      "text/plain": [
       "Output()"
      ]
     },
     "metadata": {},
     "output_type": "display_data"
    }
   ],
   "source": [
    "plot = k3d.plot()\n",
    "plt  = k3d.volume(field_scalor.array, bounds=[-size, size, -size, size, -size, size],\n",
    "                  color_map=np.array(k3d.basic_color_maps.Jet, dtype=np.float32),\n",
    "                 )\n",
    "plot += plt\n",
    "plot.display()"
   ]
  },
  {
   "cell_type": "markdown",
   "metadata": {},
   "source": [
    "**Question:**\n",
    "* How add the legend?\n",
    "* How disable interpolation (example below)?"
   ]
  },
  {
   "cell_type": "code",
   "execution_count": null,
   "metadata": {},
   "outputs": [],
   "source": [
    "field_scalor.plot_plane(\"z\")"
   ]
  },
  {
   "cell_type": "markdown",
   "metadata": {},
   "source": [
    "# Slice vector field"
   ]
  },
  {
   "cell_type": "markdown",
   "metadata": {},
   "source": [
    "Visualization of a vector field on a selected plane. Using the function `field.mesh.plane (axis = value)` we get the coordinate values of the origin of the vectors and their magnitude. In the process, we filter those vectors whose length is equal to zero."
   ]
  },
  {
   "cell_type": "markdown",
   "metadata": {},
   "source": [
    "We obtain the coordinates of the origin of the vectors and their length on the selected plane."
   ]
  },
  {
   "cell_type": "code",
   "execution_count": 21,
   "metadata": {},
   "outputs": [],
   "source": [
    "origins_nonzero_slice = []\n",
    "vectors_nonzero_slice = []\n",
    "for i in list(field.mesh.plane(x=-3.0)):\n",
    "    vector = field(i)\n",
    "    value = vector[0]**2 + vector[1]**2 + vector[2]**2\n",
    "    if value > 0:\n",
    "        origins_nonzero_slice.append(i)\n",
    "        vectors_nonzero_slice.append(field(i))"
   ]
  },
  {
   "cell_type": "markdown",
   "metadata": {},
   "source": [
    "Convert to numpy array"
   ]
  },
  {
   "cell_type": "code",
   "execution_count": 22,
   "metadata": {},
   "outputs": [],
   "source": [
    "origins_nonzero_slice = np.array(origins_nonzero_slice)\n",
    "vectors_nonzero_slice = np.array(vectors_nonzero_slice)\n",
    "origins_nonzero_slice -= 0.5 * vectors_nonzero_slice"
   ]
  },
  {
   "cell_type": "markdown",
   "metadata": {},
   "source": [
    "Plot"
   ]
  },
  {
   "cell_type": "code",
   "execution_count": 23,
   "metadata": {},
   "outputs": [
    {
     "name": "stderr",
     "output_type": "stream",
     "text": [
      "/home/begm/miniconda3/envs/joommf/lib/python3.6/site-packages/traittypes/traittypes.py:101: UserWarning: Given trait value dtype \"float64\" does not match required type \"float32\". A coerced copy has been created.\n",
      "  np.dtype(self.dtype).name))\n"
     ]
    },
    {
     "data": {
      "application/vnd.jupyter.widget-view+json": {
       "model_id": "0875ccdf77dd44b8a1dd977f23bc2d49",
       "version_major": 2,
       "version_minor": 0
      },
      "text/plain": [
       "Output()"
      ]
     },
     "metadata": {},
     "output_type": "display_data"
    }
   ],
   "source": [
    "color = 0xff\n",
    "vector_scale = 1.0\n",
    "\n",
    "plot = k3d.plot()\n",
    "plt  = k3d.vectors(origins_nonzero_slice, vector_scale*vectors_nonzero_slice, color=color)\n",
    "plot += plt\n",
    "plot.display()"
   ]
  },
  {
   "cell_type": "markdown",
   "metadata": {},
   "source": [
    "# Slice scalor field"
   ]
  },
  {
   "cell_type": "markdown",
   "metadata": {},
   "source": [
    "Select the field values on the plane"
   ]
  },
  {
   "cell_type": "code",
   "execution_count": 24,
   "metadata": {},
   "outputs": [],
   "source": [
    "ith = 1\n",
    "value_slice = field.array[:,:,ith,1]\n",
    "nz,ny,nx,_  = field.array.shape"
   ]
  },
  {
   "cell_type": "markdown",
   "metadata": {},
   "source": [
    "Create a list of triples of node numbers"
   ]
  },
  {
   "cell_type": "code",
   "execution_count": 25,
   "metadata": {},
   "outputs": [],
   "source": [
    "ni,nj = value_slice.shape\n",
    "indices = []\n",
    "for i in range(ni-1):\n",
    "    for j in range(nj-1):\n",
    "        indices.append((i*nj+j, i*nj+j+1, (i+1)*nj+j))        # lower-left triangle\n",
    "        indices.append(((i+1)*nj+j+1, i*nj+j+1, (i+1)*nj+j))  # upper-right triangle"
   ]
  },
  {
   "cell_type": "markdown",
   "metadata": {},
   "source": [
    "Select the mesh coordinate"
   ]
  },
  {
   "cell_type": "code",
   "execution_count": 26,
   "metadata": {},
   "outputs": [],
   "source": [
    "origins = np.array(list(field.mesh.coordinates))\n",
    "origins_slice = origins.reshape(nz,ny,nx,3)[:,:,ith,:]"
   ]
  },
  {
   "cell_type": "markdown",
   "metadata": {},
   "source": [
    "Plot"
   ]
  },
  {
   "cell_type": "code",
   "execution_count": 27,
   "metadata": {},
   "outputs": [
    {
     "name": "stderr",
     "output_type": "stream",
     "text": [
      "/home/begm/miniconda3/envs/joommf/lib/python3.6/site-packages/traittypes/traittypes.py:101: UserWarning: Given trait value dtype \"float64\" does not match required type \"float32\". A coerced copy has been created.\n",
      "  np.dtype(self.dtype).name))\n"
     ]
    },
    {
     "data": {
      "application/vnd.jupyter.widget-view+json": {
       "model_id": "1bbb59fede8b413299fb239735aeebed",
       "version_major": 2,
       "version_minor": 0
      },
      "text/plain": [
       "Output()"
      ]
     },
     "metadata": {},
     "output_type": "display_data"
    }
   ],
   "source": [
    "plot = k3d.plot()\n",
    "plt_mesh = k3d.mesh(origins_slice, indices, attribute=value_slice,\n",
    "                    color_map=k3d.basic_color_maps.CoolWarm,\n",
    "                    color_range=[-1.0, 1.0])\n",
    "plot += plt_mesh\n",
    "plot.display()"
   ]
  },
  {
   "cell_type": "markdown",
   "metadata": {},
   "source": [
    "# Overlap vector and scalor fields"
   ]
  },
  {
   "cell_type": "markdown",
   "metadata": {},
   "source": [
    "## 3D"
   ]
  },
  {
   "cell_type": "code",
   "execution_count": 28,
   "metadata": {},
   "outputs": [
    {
     "name": "stderr",
     "output_type": "stream",
     "text": [
      "/home/begm/miniconda3/envs/joommf/lib/python3.6/site-packages/traittypes/traittypes.py:101: UserWarning: Given trait value dtype \"float64\" does not match required type \"float32\". A coerced copy has been created.\n",
      "  np.dtype(self.dtype).name))\n"
     ]
    },
    {
     "ename": "NameError",
     "evalue": "name 'origins_nonzero' is not defined",
     "output_type": "error",
     "traceback": [
      "\u001b[0;31m---------------------------------------------------------------------------\u001b[0m",
      "\u001b[0;31mNameError\u001b[0m                                 Traceback (most recent call last)",
      "\u001b[0;32m<ipython-input-28-8251b00867dc>\u001b[0m in \u001b[0;36m<module>\u001b[0;34m()\u001b[0m\n\u001b[1;32m      2\u001b[0m plt_scalor  = k3d.volume(field_scalor.array, bounds=[-size, size, -size, size, -size, size],\n\u001b[1;32m      3\u001b[0m                          color_map=np.array(k3d.basic_color_maps.Jet, dtype=np.float32))\n\u001b[0;32m----> 4\u001b[0;31m \u001b[0mplt_vector\u001b[0m  \u001b[0;34m=\u001b[0m \u001b[0mk3d\u001b[0m\u001b[0;34m.\u001b[0m\u001b[0mvectors\u001b[0m\u001b[0;34m(\u001b[0m\u001b[0morigins_nonzero\u001b[0m\u001b[0;34m,\u001b[0m \u001b[0mvector_scale\u001b[0m\u001b[0;34m*\u001b[0m\u001b[0mvectors_nonzero\u001b[0m\u001b[0;34m,\u001b[0m \u001b[0mcolors\u001b[0m\u001b[0;34m=\u001b[0m\u001b[0mcolors\u001b[0m\u001b[0;34m)\u001b[0m\u001b[0;34m\u001b[0m\u001b[0m\n\u001b[0m\u001b[1;32m      5\u001b[0m \u001b[0mplot\u001b[0m \u001b[0;34m+=\u001b[0m \u001b[0mplt_scalor\u001b[0m\u001b[0;34m\u001b[0m\u001b[0m\n\u001b[1;32m      6\u001b[0m \u001b[0mplot\u001b[0m \u001b[0;34m+=\u001b[0m \u001b[0mplt_vector\u001b[0m\u001b[0;34m\u001b[0m\u001b[0m\n",
      "\u001b[0;31mNameError\u001b[0m: name 'origins_nonzero' is not defined"
     ]
    }
   ],
   "source": [
    "plot = k3d.plot()\n",
    "plt_scalor  = k3d.volume(field_scalor.array, bounds=[-size, size, -size, size, -size, size],\n",
    "                         color_map=np.array(k3d.basic_color_maps.Jet, dtype=np.float32))\n",
    "plt_vector  = k3d.vectors(origins_nonzero, vector_scale*vectors_nonzero, colors=colors)\n",
    "plot += plt_scalor\n",
    "plot += plt_vector\n",
    "plot.display()"
   ]
  },
  {
   "cell_type": "markdown",
   "metadata": {},
   "source": [
    "## Slice"
   ]
  },
  {
   "cell_type": "code",
   "execution_count": 29,
   "metadata": {},
   "outputs": [
    {
     "name": "stderr",
     "output_type": "stream",
     "text": [
      "/home/begm/miniconda3/envs/joommf/lib/python3.6/site-packages/traittypes/traittypes.py:101: UserWarning: Given trait value dtype \"float64\" does not match required type \"float32\". A coerced copy has been created.\n",
      "  np.dtype(self.dtype).name))\n"
     ]
    },
    {
     "data": {
      "application/vnd.jupyter.widget-view+json": {
       "model_id": "d17cdcd8b4964ecfafd78bbebc5452aa",
       "version_major": 2,
       "version_minor": 0
      },
      "text/plain": [
       "Output()"
      ]
     },
     "metadata": {},
     "output_type": "display_data"
    }
   ],
   "source": [
    "color = 0xff\n",
    "vector_scale = 1.0\n",
    "\n",
    "plot = k3d.plot()\n",
    "plt_vector_slice = k3d.vectors(origins_nonzero_slice, vector_scale*vectors_nonzero_slice, color=color)\n",
    "plt_scalor_slice = k3d.mesh(origins_slice, indices, attribute=value_slice,\n",
    "                    color_map=k3d.basic_color_maps.CoolWarm,\n",
    "                    color_range=[-1.0, 1.0], antialias=True)\n",
    "plot += plt_mesh\n",
    "plot += plt\n",
    "plot.display()"
   ]
  },
  {
   "cell_type": "markdown",
   "metadata": {},
   "source": [
    "# Mesh as vox"
   ]
  },
  {
   "cell_type": "code",
   "execution_count": 49,
   "metadata": {},
   "outputs": [
    {
     "name": "stderr",
     "output_type": "stream",
     "text": [
      "/home/begm/miniconda3/envs/joommf/lib/python3.6/site-packages/traittypes/traittypes.py:101: UserWarning: Given trait value dtype \"bool\" does not match required type \"uint8\". A coerced copy has been created.\n",
      "  np.dtype(self.dtype).name))\n"
     ]
    },
    {
     "data": {
      "application/vnd.jupyter.widget-view+json": {
       "model_id": "b7ca2137329f4ca3bab6b68558a77f2c",
       "version_major": 2,
       "version_minor": 0
      },
      "text/plain": [
       "Output()"
      ]
     },
     "metadata": {},
     "output_type": "display_data"
    }
   ],
   "source": [
    "xmin,ymin,zmin = field.mesh.pmin\n",
    "xmax,ymax,zmax = field.mesh.pmax\n",
    "\n",
    "plot = k3d.plot()\n",
    "plt_vox = k3d.voxels(field.array[...,0]!=0, color_map=[0x00ff00],\n",
    "                               xmin=xmin,xmax=xmax,\n",
    "                               ymin=ymin,ymax=ymax,\n",
    "                               zmin=zmin,zmax=zmax)\n",
    "plot += plt_vox\n",
    "plot.display()"
   ]
  },
  {
   "cell_type": "code",
   "execution_count": 47,
   "metadata": {},
   "outputs": [
    {
     "data": {
      "text/plain": [
       "array([[[1., 1., 1., 1., 1.],\n",
       "        [1., 1., 1., 1., 1.],\n",
       "        [1., 1., 1., 1., 1.],\n",
       "        [1., 1., 1., 1., 1.],\n",
       "        [1., 1., 1., 1., 1.]],\n",
       "\n",
       "       [[3., 3., 3., 3., 3.],\n",
       "        [3., 3., 3., 3., 3.],\n",
       "        [3., 3., 3., 3., 3.],\n",
       "        [3., 3., 3., 3., 3.],\n",
       "        [3., 3., 3., 3., 3.]],\n",
       "\n",
       "       [[2., 2., 2., 2., 2.],\n",
       "        [2., 2., 2., 2., 2.],\n",
       "        [2., 2., 2., 2., 2.],\n",
       "        [2., 2., 2., 2., 2.],\n",
       "        [2., 2., 2., 2., 2.]],\n",
       "\n",
       "       [[0., 0., 0., 0., 0.],\n",
       "        [0., 0., 0., 0., 0.],\n",
       "        [0., 0., 0., 0., 0.],\n",
       "        [0., 0., 0., 0., 0.],\n",
       "        [0., 0., 0., 0., 0.]],\n",
       "\n",
       "       [[1., 1., 1., 1., 1.],\n",
       "        [1., 1., 1., 1., 1.],\n",
       "        [1., 1., 1., 1., 1.],\n",
       "        [1., 1., 1., 1., 1.],\n",
       "        [1., 1., 1., 1., 1.]]])"
      ]
     },
     "execution_count": 47,
     "metadata": {},
     "output_type": "execute_result"
    }
   ],
   "source": [
    "myarray"
   ]
  },
  {
   "cell_type": "code",
   "execution_count": 40,
   "metadata": {},
   "outputs": [],
   "source": [
    "k3d.voxels?"
   ]
  },
  {
   "cell_type": "markdown",
   "metadata": {},
   "source": [
    "# Isosurface"
   ]
  },
  {
   "cell_type": "markdown",
   "metadata": {},
   "source": [
    "Visualization of several isosurfaces."
   ]
  },
  {
   "cell_type": "code",
   "execution_count": 31,
   "metadata": {},
   "outputs": [
    {
     "name": "stderr",
     "output_type": "stream",
     "text": [
      "/home/begm/miniconda3/envs/joommf/lib/python3.6/site-packages/traittypes/traittypes.py:101: UserWarning: Given trait value dtype \"float64\" does not match required type \"float32\". A coerced copy has been created.\n",
      "  np.dtype(self.dtype).name))\n"
     ]
    },
    {
     "data": {
      "application/vnd.jupyter.widget-view+json": {
       "model_id": "63bbdb736c2c459e90e358b30bd34dd8",
       "version_major": 2,
       "version_minor": 0
      },
      "text/plain": [
       "Output()"
      ]
     },
     "metadata": {},
     "output_type": "display_data"
    }
   ],
   "source": [
    "xmin,ymin,zmin = field.mesh.pmin\n",
    "xmax,ymax,zmax = field.mesh.pmax\n",
    "\n",
    "plot = k3d.plot()\n",
    "plt_iso = k3d.marching_cubes(np.sum(field.array**2,axis=-1), level=0.01,\n",
    "                             bounds=[xmin,xmax,ymin,ymax,zmin,zmax])\n",
    "\n",
    "plot += plt_iso\n",
    "plt_iso = k3d.marching_cubes(np.sum(field.array**2,axis=-1), level=1.0,\n",
    "                             bounds=[xmin,xmax,ymin,ymax,zmin,zmax],\n",
    "                             color=0x00ff00)\n",
    "\n",
    "plot += plt_iso\n",
    "plot.display()"
   ]
  },
  {
   "cell_type": "markdown",
   "metadata": {},
   "source": [
    "**Question**:\n",
    "\n",
    "* How add alpha chanel for isosurface?\n",
    "* Is it possible to set the range of values and the step of displaying isosurfaces?\n",
    "* How add the legend?"
   ]
  }
 ],
 "metadata": {
  "kernelspec": {
   "display_name": "Python 3",
   "language": "python",
   "name": "python3"
  },
  "language_info": {
   "codemirror_mode": {
    "name": "ipython",
    "version": 3
   },
   "file_extension": ".py",
   "mimetype": "text/x-python",
   "name": "python",
   "nbconvert_exporter": "python",
   "pygments_lexer": "ipython3",
   "version": "3.6.6"
  }
 },
 "nbformat": 4,
 "nbformat_minor": 2
}
