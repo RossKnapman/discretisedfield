{
 "cells": [
  {
   "cell_type": "markdown",
   "metadata": {},
   "source": [
    "# Exploration of k3d usage for discretisedfield visualisation"
   ]
  },
  {
   "cell_type": "code",
   "execution_count": 20,
   "metadata": {},
   "outputs": [],
   "source": [
    "import k3d\n",
    "import matplotlib\n",
    "import numpy as np\n",
    "import discretisedfield as df\n",
    "%matplotlib inline"
   ]
  },
  {
   "cell_type": "markdown",
   "metadata": {},
   "source": [
    "## Mesh and field objects to be visualised\n",
    "\n",
    "Mesh has dimensions 10 x 6 x 4 to accommodate an ellipsoid\n",
    "\n",
    "$$\\frac{x^2}{a^2} + \\frac{y^2}{b^2} + \\frac{z^2}{c^2} <= 1$$\n",
    "\n",
    "with: $a=5$, $b=3$, and $c=2$. The space is discretised into cells with dimensions $(1, 1, 1)$."
   ]
  },
  {
   "cell_type": "code",
   "execution_count": 21,
   "metadata": {},
   "outputs": [],
   "source": [
    "a, b, c = 5, 3, 2\n",
    "\n",
    "mesh =  df.Mesh(p1=(-a, -b, -c), p2=(a, b, c), cell=(0.5, 0.5, 0.5))"
   ]
  },
  {
   "cell_type": "markdown",
   "metadata": {},
   "source": [
    "We define the ellipsoid geometry by specifying the norm function, which returns 0 outside the sample, and 1 otherwise."
   ]
  },
  {
   "cell_type": "code",
   "execution_count": 22,
   "metadata": {},
   "outputs": [],
   "source": [
    "def norm_fun(pos):\n",
    "    x, y, z = pos\n",
    "    if (x/a)**2 + (y/b)**2 + (z/c)**2 <= 1:\n",
    "        return 0.5\n",
    "    else:\n",
    "        return 0\n",
    "    \n",
    "def value_fun(pos):\n",
    "    x, y, z = pos\n",
    "    if x >= 0:\n",
    "        return (1, 1, 1)\n",
    "    else:\n",
    "        return (-1, -1, -1)\n",
    "\n",
    "field = df.Field(mesh, value=value_fun, norm=norm_fun)"
   ]
  },
  {
   "cell_type": "markdown",
   "metadata": {},
   "source": [
    "The plot of a slice in the $z$ direction:"
   ]
  },
  {
   "cell_type": "code",
   "execution_count": 23,
   "metadata": {},
   "outputs": [
    {
     "data": {
      "image/png": "[encoded data removed]",
      "text/plain": [
       "<Figure size 432x288 with 2 Axes>"
      ]
     },
     "metadata": {},
     "output_type": "display_data"
    }
   ],
   "source": [
    "field.plot_plane(\"z\")"
   ]
  },
  {
   "cell_type": "markdown",
   "metadata": {},
   "source": [
    "## Mesh and domain visualisation\n",
    "\n",
    "There are two different way how we can visualise the mesh:\n",
    "\n",
    "1. Showing the entire (cubic) domain and give impression of the discretisation by using different colours. All the information for plotting can be obtained from the `mesh` object."
   ]
  },
  {
   "cell_type": "code",
   "execution_count": 30,
   "metadata": {},
   "outputs": [
    {
     "data": {
      "application/vnd.jupyter.widget-view+json": {
       "model_id": "8b9f7ed7cf7b4d1db174c5c115526e83",
       "version_major": 2,
       "version_minor": 0
      },
      "text/plain": [
       "Output()"
      ]
     },
     "metadata": {},
     "output_type": "display_data"
    }
   ],
   "source": [
    "def k3d_mesh(mesh):\n",
    "    mesh_array = np.ones(tuple(reversed((mesh.n))))\n",
    "    mesh_array[0, 0, -1] = 2\n",
    "\n",
    "    xmin, ymin, zmin = mesh.pmin\n",
    "    xmax, ymax, zmax = mesh.pmax\n",
    "\n",
    "    # To avoid the warning\n",
    "    mesh_array = mesh_array.astype(np.uint8)\n",
    "\n",
    "    plot = k3d.plot()\n",
    "    plt_vox = k3d.voxels(mesh_array,\n",
    "                         color_map=[0x99bbff, 0xff4d4d],\n",
    "                         xmin=xmin, xmax=xmax,\n",
    "                         ymin=ymin, ymax=ymax,\n",
    "                         zmin=zmin, zmax=zmax,\n",
    "                         outlines=False)\n",
    "    plot += plt_vox\n",
    "    plot.display()\n",
    "    \n",
    "k3d_mesh(mesh)"
   ]
  },
  {
   "cell_type": "markdown",
   "metadata": {},
   "source": [
    "2. Showing only a part of the mesh where norm is not zero (where the material is present). For this `field` object must be used. This can be achieved either by plotting one of the components (e.g. `field.x`) or `field.norm`."
   ]
  },
  {
   "cell_type": "code",
   "execution_count": 26,
   "metadata": {},
   "outputs": [
    {
     "data": {
      "application/vnd.jupyter.widget-view+json": {
       "model_id": "8a637b465bb54a5aac56c66666d9c7a8",
       "version_major": 2,
       "version_minor": 0
      },
      "text/plain": [
       "Output()"
      ]
     },
     "metadata": {},
     "output_type": "display_data"
    }
   ],
   "source": [
    "def k3d_domain(field):\n",
    "    domain_array = np.squeeze(field.norm.array.copy())\n",
    "    \n",
    "    # In k3d numpy arrays are considered to be (z, y, x)\n",
    "    domain_array = np.swapaxes(domain_array, 0, 2)\n",
    "    \n",
    "    domain_array[domain_array != 0] = 1\n",
    "    \n",
    "    xmin, ymin, zmin = field.mesh.pmin\n",
    "    xmax, ymax, zmax = field.mesh.pmax\n",
    "\n",
    "    # To avoid the warning\n",
    "    domain_array = domain_array.astype(np.uint8)\n",
    "\n",
    "    plot = k3d.plot()\n",
    "    plt_vox = k3d.voxels(domain_array,\n",
    "                         color_map=[0x99bbff],\n",
    "                         xmin=xmin, xmax=xmax,\n",
    "                         ymin=ymin, ymax=ymax,\n",
    "                         zmin=zmin, zmax=zmax,\n",
    "                         outlines=False)\n",
    "    plot += plt_vox\n",
    "    plot.display()\n",
    "\n",
    "k3d_domain(field)"
   ]
  },
  {
   "cell_type": "markdown",
   "metadata": {},
   "source": [
    "## Coordinates\n",
    "\n",
    "It is not clear for what exactly showing the cell centres can be useful at the end but it can be useful for checking and testing of the vector field plotting. There are two possible options:\n",
    "\n",
    "1. Plotting all cell centres using `mesh` object."
   ]
  },
  {
   "cell_type": "code",
   "execution_count": 27,
   "metadata": {},
   "outputs": [
    {
     "data": {
      "application/vnd.jupyter.widget-view+json": {
       "model_id": "3cb2a2de5ad24abf948cbf281b04dac7",
       "version_major": 2,
       "version_minor": 0
      },
      "text/plain": [
       "Output()"
      ]
     },
     "metadata": {},
     "output_type": "display_data"
    }
   ],
   "source": [
    "def k3d_mesh_coordinates(mesh, plot=None):\n",
    "    coordinates = np.array(list(mesh.coordinates))\n",
    "    \n",
    "    # To avoid the warning\n",
    "    coordinates = coordinates.astype(np.float32)\n",
    "    \n",
    "    if plot is None:\n",
    "        plot = k3d.plot()\n",
    "    plt_coordinates = k3d.points(coordinates)\n",
    "    plt_coordinates.point_size = 0.15\n",
    "    plt_coordinates.color = 0x99bbff\n",
    "    plot += plt_coordinates\n",
    "    # maybe another if necessary\n",
    "    plot.display()\n",
    "        \n",
    "k3d_mesh_coordinates(mesh)"
   ]
  },
  {
   "cell_type": "markdown",
   "metadata": {},
   "source": [
    "2. Plotting only the cell centres where norm is not zero (where the material is present)."
   ]
  },
  {
   "cell_type": "code",
   "execution_count": 28,
   "metadata": {},
   "outputs": [
    {
     "data": {
      "application/vnd.jupyter.widget-view+json": {
       "model_id": "95f7da4cf16b4770b280d263ac418176",
       "version_major": 2,
       "version_minor": 0
      },
      "text/plain": [
       "Output()"
      ]
     },
     "metadata": {},
     "output_type": "display_data"
    }
   ],
   "source": [
    "def k3d_domain_coordinates(field, plot=None):\n",
    "    coordinates = [i for i in field.mesh.coordinates if field.norm(i) > 0]\n",
    "    \n",
    "    display = False\n",
    "    if plot is None:\n",
    "        plot = k3d.plot()\n",
    "        display = True\n",
    "    plt_coordinates = k3d.points(coordinates)\n",
    "    plt_coordinates.point_size = 0.15\n",
    "    plt_coordinates.color = 0x99bbff\n",
    "    plot += plt_coordinates\n",
    "    if display:\n",
    "        plot.display()\n",
    "        \n",
    "k3d_domain_coordinates(field)"
   ]
  },
  {
   "cell_type": "markdown",
   "metadata": {},
   "source": [
    "## Vector field"
   ]
  },
  {
   "cell_type": "code",
   "execution_count": 29,
   "metadata": {},
   "outputs": [
    {
     "data": {
      "application/vnd.jupyter.widget-view+json": {
       "model_id": "40a55bae405f49d888766d0d62b6071f",
       "version_major": 2,
       "version_minor": 0
      },
      "text/plain": [
       "Output()"
      ]
     },
     "metadata": {},
     "output_type": "display_data"
    }
   ],
   "source": [
    "def colormap(name, n=256):\n",
    "    cmap = matplotlib.cm.get_cmap(name, n)\n",
    "    cmap_list = []\n",
    "    for i in range(cmap.N):\n",
    "        cmap_list.append(cmap(i)[:3])\n",
    "\n",
    "    return np.array(cmap_list)\n",
    "\n",
    "def get_int_component(vectors, component=0):\n",
    "    vector_component = vectors[:, component]\n",
    "    \n",
    "    max_value = vector_component.max()\n",
    "    min_value = vector_component.min()\n",
    "    value_range = max_value - min_value\n",
    "\n",
    "    # Put values in 0-255 range\n",
    "    if value_range != 0:\n",
    "        int_component = (vector_component + abs(min_value)) / value_range * 255\n",
    "    else:\n",
    "        int_component = [128] * len(vector_component)  # place in the middle of colormap\n",
    "\n",
    "    return np.vectorize(lambda x: int(x))(int_component)\n",
    "\n",
    "\n",
    "def k3d_vector(field):\n",
    "    # Plot arrows only with norm > 0.\n",
    "    coordinates = np.array([i for i in field.mesh.coordinates if field.norm(i) > 0])\n",
    "    vectors = np.array([field(i) for i in field.mesh.coordinates if field.norm(i) > 0])\n",
    "\n",
    "    # Middle of the arrow at the cell centre.\n",
    "    coordinates -= 0.5*vectors\n",
    "    \n",
    "    # To avoid the warning\n",
    "    coordinates = coordinates.astype(np.float32)\n",
    "    vectors = vectors.astype(np.float32)\n",
    "    \n",
    "    int_component = get_int_component(vectors, component=0)\n",
    "    cmap = colormap('viridis', 256)\n",
    "\n",
    "    colors = cmap[int_component]\n",
    "    colors = ['0x{}'.format(matplotlib.colors.rgb2hex(rgb)[1:]) for rgb in colors]\n",
    "    colors = [(int(i, 16), int(i, 16)) for i in colors]  # tuple (head-color, body-color)\n",
    "    \n",
    "    plot = k3d.plot()\n",
    "    k3d_domain_coordinates(field, plot=plot)  # add cell centres\n",
    "    plt_vectors = k3d.vectors(coordinates, vectors, colors=colors)\n",
    "    plot += plt_vectors\n",
    "    plot.display()\n",
    "\n",
    "k3d_vector(field)"
   ]
  },
  {
   "cell_type": "markdown",
   "metadata": {},
   "source": [
    "**Questions**:\n",
    "\n",
    "1. How to add the colorbar?\n",
    "2. Can we have cones instead of arrows?\n",
    "3. What is this warning: `/home/begm/miniconda3/envs/joommf/lib/python3.6/site-packages/traittypes/traittypes.py:101: UserWarning: Given trait value dtype \"float64\" does not match required type \"float32\". A coerced copy has been created. np.dtype(self.dtype).name))`?"
   ]
  },
  {
   "cell_type": "markdown",
   "metadata": {},
   "source": [
    "# Scalar filed"
   ]
  },
  {
   "cell_type": "code",
   "execution_count": 11,
   "metadata": {},
   "outputs": [
    {
     "ename": "ValueError",
     "evalue": "Invalid RGBA argument: array([[[0.267004, 0.004874, 0.329415],\n        [0.267004, 0.004874, 0.329415],\n        [0.267004, 0.004874, 0.329415],\n        [0.267004, 0.004874, 0.329415],\n        [0.267004, 0.004874, 0.329415],\n        [0.267004, 0.004874, 0.329415],\n        [0.267004, 0.004874, 0.329415],\n        [0.267004, 0.004874, 0.329415]],\n\n       [[0.267004, 0.004874, 0.329415],\n        [0.267004, 0.004874, 0.329415],\n        [0.267004, 0.004874, 0.329415],\n        [0.267004, 0.004874, 0.329415],\n        [0.267004, 0.004874, 0.329415],\n        [0.267004, 0.004874, 0.329415],\n        [0.267004, 0.004874, 0.329415],\n        [0.267004, 0.004874, 0.329415]],\n\n       [[0.267004, 0.004874, 0.329415],\n        [0.267004, 0.004874, 0.329415],\n        [0.267004, 0.004874, 0.329415],\n        [0.267004, 0.004874, 0.329415],\n        [0.267004, 0.004874, 0.329415],\n        [0.267004, 0.004874, 0.329415],\n        [0.267004, 0.004874, 0.329415],\n        [0.267004, 0.004874, 0.329415]],\n\n       [[0.267004, 0.004874, 0.329415],\n        [0.267004, 0.004874, 0.329415],\n        [0.267004, 0.004874, 0.329415],\n        [0.267004, 0.004874, 0.329415],\n        [0.267004, 0.004874, 0.329415],\n        [0.267004, 0.004874, 0.329415],\n        [0.267004, 0.004874, 0.329415],\n        [0.267004, 0.004874, 0.329415]],\n\n       [[0.267004, 0.004874, 0.329415],\n        [0.267004, 0.004874, 0.329415],\n        [0.267004, 0.004874, 0.329415],\n        [0.26851 , 0.009605, 0.335427],\n        [0.26851 , 0.009605, 0.335427],\n        [0.267004, 0.004874, 0.329415],\n        [0.267004, 0.004874, 0.329415],\n        [0.267004, 0.004874, 0.329415]],\n\n       [[0.267004, 0.004874, 0.329415],\n        [0.267004, 0.004874, 0.329415],\n        [0.267004, 0.004874, 0.329415],\n        [0.26851 , 0.009605, 0.335427],\n        [0.26851 , 0.009605, 0.335427],\n        [0.267004, 0.004874, 0.329415],\n        [0.267004, 0.004874, 0.329415],\n        [0.267004, 0.004874, 0.329415]],\n\n       [[0.267004, 0.004874, 0.329415],\n        [0.267004, 0.004874, 0.329415],\n        [0.267004, 0.004874, 0.329415],\n        [0.26851 , 0.009605, 0.335427],\n        [0.26851 , 0.009605, 0.335427],\n        [0.267004, 0.004874, 0.329415],\n        [0.267004, 0.004874, 0.329415],\n        [0.267004, 0.004874, 0.329415]],\n\n       [[0.267004, 0.004874, 0.329415],\n        [0.267004, 0.004874, 0.329415],\n        [0.267004, 0.004874, 0.329415],\n        [0.26851 , 0.009605, 0.335427],\n        [0.26851 , 0.009605, 0.335427],\n        [0.267004, 0.004874, 0.329415],\n        [0.267004, 0.004874, 0.329415],\n        [0.267004, 0.004874, 0.329415]],\n\n       [[0.267004, 0.004874, 0.329415],\n        [0.267004, 0.004874, 0.329415],\n        [0.267004, 0.004874, 0.329415],\n        [0.267004, 0.004874, 0.329415],\n        [0.267004, 0.004874, 0.329415],\n        [0.267004, 0.004874, 0.329415],\n        [0.267004, 0.004874, 0.329415],\n        [0.267004, 0.004874, 0.329415]],\n\n       [[0.267004, 0.004874, 0.329415],\n        [0.267004, 0.004874, 0.329415],\n        [0.267004, 0.004874, 0.329415],\n        [0.267004, 0.004874, 0.329415],\n        [0.267004, 0.004874, 0.329415],\n        [0.267004, 0.004874, 0.329415],\n        [0.267004, 0.004874, 0.329415],\n        [0.267004, 0.004874, 0.329415]],\n\n       [[0.267004, 0.004874, 0.329415],\n        [0.267004, 0.004874, 0.329415],\n        [0.267004, 0.004874, 0.329415],\n        [0.267004, 0.004874, 0.329415],\n        [0.267004, 0.004874, 0.329415],\n        [0.267004, 0.004874, 0.329415],\n        [0.267004, 0.004874, 0.329415],\n        [0.267004, 0.004874, 0.329415]],\n\n       [[0.267004, 0.004874, 0.329415],\n        [0.267004, 0.004874, 0.329415],\n        [0.267004, 0.004874, 0.329415],\n        [0.267004, 0.004874, 0.329415],\n        [0.267004, 0.004874, 0.329415],\n        [0.267004, 0.004874, 0.329415],\n        [0.267004, 0.004874, 0.329415],\n        [0.267004, 0.004874, 0.329415]]])",
     "output_type": "error",
     "traceback": [
      "\u001b[0;31m---------------------------------------------------------------------------\u001b[0m",
      "\u001b[0;31mTypeError\u001b[0m                                 Traceback (most recent call last)",
      "\u001b[0;32m~/miniconda3/envs/joommf/lib/python3.6/site-packages/matplotlib/colors.py\u001b[0m in \u001b[0;36mto_rgba\u001b[0;34m(c, alpha)\u001b[0m\n\u001b[1;32m    165\u001b[0m     \u001b[0;32mtry\u001b[0m\u001b[0;34m:\u001b[0m\u001b[0;34m\u001b[0m\u001b[0m\n\u001b[0;32m--> 166\u001b[0;31m         \u001b[0mrgba\u001b[0m \u001b[0;34m=\u001b[0m \u001b[0m_colors_full_map\u001b[0m\u001b[0;34m.\u001b[0m\u001b[0mcache\u001b[0m\u001b[0;34m[\u001b[0m\u001b[0mc\u001b[0m\u001b[0;34m,\u001b[0m \u001b[0malpha\u001b[0m\u001b[0;34m]\u001b[0m\u001b[0;34m\u001b[0m\u001b[0m\n\u001b[0m\u001b[1;32m    167\u001b[0m     \u001b[0;32mexcept\u001b[0m \u001b[0;34m(\u001b[0m\u001b[0mKeyError\u001b[0m\u001b[0;34m,\u001b[0m \u001b[0mTypeError\u001b[0m\u001b[0;34m)\u001b[0m\u001b[0;34m:\u001b[0m  \u001b[0;31m# Not in cache, or unhashable.\u001b[0m\u001b[0;34m\u001b[0m\u001b[0m\n",
      "\u001b[0;31mTypeError\u001b[0m: unhashable type: 'numpy.ndarray'",
      "\nDuring handling of the above exception, another exception occurred:\n",
      "\u001b[0;31mValueError\u001b[0m                                Traceback (most recent call last)",
      "\u001b[0;32m<ipython-input-11-1f0479864f58>\u001b[0m in \u001b[0;36m<module>\u001b[0;34m()\u001b[0m\n\u001b[1;32m     60\u001b[0m     \u001b[0mplot\u001b[0m\u001b[0;34m.\u001b[0m\u001b[0mdisplay\u001b[0m\u001b[0;34m(\u001b[0m\u001b[0;34m)\u001b[0m\u001b[0;34m\u001b[0m\u001b[0m\n\u001b[1;32m     61\u001b[0m \u001b[0;34m\u001b[0m\u001b[0m\n\u001b[0;32m---> 62\u001b[0;31m \u001b[0mk3d_scalar\u001b[0m\u001b[0;34m(\u001b[0m\u001b[0mfield\u001b[0m\u001b[0;34m)\u001b[0m\u001b[0;34m\u001b[0m\u001b[0m\n\u001b[0m",
      "\u001b[0;32m<ipython-input-11-1f0479864f58>\u001b[0m in \u001b[0;36mk3d_scalar\u001b[0;34m(field)\u001b[0m\n\u001b[1;32m     45\u001b[0m \u001b[0;34m\u001b[0m\u001b[0m\n\u001b[1;32m     46\u001b[0m     \u001b[0mcolors\u001b[0m \u001b[0;34m=\u001b[0m \u001b[0mcmap\u001b[0m\u001b[0;34m[\u001b[0m\u001b[0mint_component\u001b[0m\u001b[0;34m]\u001b[0m\u001b[0;34m\u001b[0m\u001b[0m\n\u001b[0;32m---> 47\u001b[0;31m     \u001b[0mcolors\u001b[0m \u001b[0;34m=\u001b[0m \u001b[0;34m[\u001b[0m\u001b[0;34m'0x{}'\u001b[0m\u001b[0;34m.\u001b[0m\u001b[0mformat\u001b[0m\u001b[0;34m(\u001b[0m\u001b[0mmatplotlib\u001b[0m\u001b[0;34m.\u001b[0m\u001b[0mcolors\u001b[0m\u001b[0;34m.\u001b[0m\u001b[0mrgb2hex\u001b[0m\u001b[0;34m(\u001b[0m\u001b[0mrgb\u001b[0m\u001b[0;34m)\u001b[0m\u001b[0;34m[\u001b[0m\u001b[0;36m1\u001b[0m\u001b[0;34m:\u001b[0m\u001b[0;34m]\u001b[0m\u001b[0;34m)\u001b[0m \u001b[0;32mfor\u001b[0m \u001b[0mrgb\u001b[0m \u001b[0;32min\u001b[0m \u001b[0mcolors\u001b[0m\u001b[0;34m]\u001b[0m\u001b[0;34m\u001b[0m\u001b[0m\n\u001b[0m\u001b[1;32m     48\u001b[0m     \u001b[0mcolors\u001b[0m \u001b[0;34m=\u001b[0m \u001b[0;34m[\u001b[0m\u001b[0;34m(\u001b[0m\u001b[0mint\u001b[0m\u001b[0;34m(\u001b[0m\u001b[0mi\u001b[0m\u001b[0;34m,\u001b[0m \u001b[0;36m16\u001b[0m\u001b[0;34m)\u001b[0m\u001b[0;34m,\u001b[0m \u001b[0mint\u001b[0m\u001b[0;34m(\u001b[0m\u001b[0mi\u001b[0m\u001b[0;34m,\u001b[0m \u001b[0;36m16\u001b[0m\u001b[0;34m)\u001b[0m\u001b[0;34m)\u001b[0m \u001b[0;32mfor\u001b[0m \u001b[0mi\u001b[0m \u001b[0;32min\u001b[0m \u001b[0mcolors\u001b[0m\u001b[0;34m]\u001b[0m  \u001b[0;31m# tuple (head-color, body-color)\u001b[0m\u001b[0;34m\u001b[0m\u001b[0m\n\u001b[1;32m     49\u001b[0m \u001b[0;34m\u001b[0m\u001b[0m\n",
      "\u001b[0;32m<ipython-input-11-1f0479864f58>\u001b[0m in \u001b[0;36m<listcomp>\u001b[0;34m(.0)\u001b[0m\n\u001b[1;32m     45\u001b[0m \u001b[0;34m\u001b[0m\u001b[0m\n\u001b[1;32m     46\u001b[0m     \u001b[0mcolors\u001b[0m \u001b[0;34m=\u001b[0m \u001b[0mcmap\u001b[0m\u001b[0;34m[\u001b[0m\u001b[0mint_component\u001b[0m\u001b[0;34m]\u001b[0m\u001b[0;34m\u001b[0m\u001b[0m\n\u001b[0;32m---> 47\u001b[0;31m     \u001b[0mcolors\u001b[0m \u001b[0;34m=\u001b[0m \u001b[0;34m[\u001b[0m\u001b[0;34m'0x{}'\u001b[0m\u001b[0;34m.\u001b[0m\u001b[0mformat\u001b[0m\u001b[0;34m(\u001b[0m\u001b[0mmatplotlib\u001b[0m\u001b[0;34m.\u001b[0m\u001b[0mcolors\u001b[0m\u001b[0;34m.\u001b[0m\u001b[0mrgb2hex\u001b[0m\u001b[0;34m(\u001b[0m\u001b[0mrgb\u001b[0m\u001b[0;34m)\u001b[0m\u001b[0;34m[\u001b[0m\u001b[0;36m1\u001b[0m\u001b[0;34m:\u001b[0m\u001b[0;34m]\u001b[0m\u001b[0;34m)\u001b[0m \u001b[0;32mfor\u001b[0m \u001b[0mrgb\u001b[0m \u001b[0;32min\u001b[0m \u001b[0mcolors\u001b[0m\u001b[0;34m]\u001b[0m\u001b[0;34m\u001b[0m\u001b[0m\n\u001b[0m\u001b[1;32m     48\u001b[0m     \u001b[0mcolors\u001b[0m \u001b[0;34m=\u001b[0m \u001b[0;34m[\u001b[0m\u001b[0;34m(\u001b[0m\u001b[0mint\u001b[0m\u001b[0;34m(\u001b[0m\u001b[0mi\u001b[0m\u001b[0;34m,\u001b[0m \u001b[0;36m16\u001b[0m\u001b[0;34m)\u001b[0m\u001b[0;34m,\u001b[0m \u001b[0mint\u001b[0m\u001b[0;34m(\u001b[0m\u001b[0mi\u001b[0m\u001b[0;34m,\u001b[0m \u001b[0;36m16\u001b[0m\u001b[0;34m)\u001b[0m\u001b[0;34m)\u001b[0m \u001b[0;32mfor\u001b[0m \u001b[0mi\u001b[0m \u001b[0;32min\u001b[0m \u001b[0mcolors\u001b[0m\u001b[0;34m]\u001b[0m  \u001b[0;31m# tuple (head-color, body-color)\u001b[0m\u001b[0;34m\u001b[0m\u001b[0m\n\u001b[1;32m     49\u001b[0m \u001b[0;34m\u001b[0m\u001b[0m\n",
      "\u001b[0;32m~/miniconda3/envs/joommf/lib/python3.6/site-packages/matplotlib/colors.py\u001b[0m in \u001b[0;36mto_hex\u001b[0;34m(c, keep_alpha)\u001b[0m\n\u001b[1;32m    280\u001b[0m     \u001b[0;31m`\u001b[0m\u001b[0;31m`\u001b[0m\u001b[0;31m#rrggbbaa`` otherwise.\u001b[0m\u001b[0;34m\u001b[0m\u001b[0m\n\u001b[1;32m    281\u001b[0m     \"\"\"\n\u001b[0;32m--> 282\u001b[0;31m     \u001b[0mc\u001b[0m \u001b[0;34m=\u001b[0m \u001b[0mto_rgba\u001b[0m\u001b[0;34m(\u001b[0m\u001b[0mc\u001b[0m\u001b[0;34m)\u001b[0m\u001b[0;34m\u001b[0m\u001b[0m\n\u001b[0m\u001b[1;32m    283\u001b[0m     \u001b[0;32mif\u001b[0m \u001b[0;32mnot\u001b[0m \u001b[0mkeep_alpha\u001b[0m\u001b[0;34m:\u001b[0m\u001b[0;34m\u001b[0m\u001b[0m\n\u001b[1;32m    284\u001b[0m         \u001b[0mc\u001b[0m \u001b[0;34m=\u001b[0m \u001b[0mc\u001b[0m\u001b[0;34m[\u001b[0m\u001b[0;34m:\u001b[0m\u001b[0;36m3\u001b[0m\u001b[0;34m]\u001b[0m\u001b[0;34m\u001b[0m\u001b[0m\n",
      "\u001b[0;32m~/miniconda3/envs/joommf/lib/python3.6/site-packages/matplotlib/colors.py\u001b[0m in \u001b[0;36mto_rgba\u001b[0;34m(c, alpha)\u001b[0m\n\u001b[1;32m    166\u001b[0m         \u001b[0mrgba\u001b[0m \u001b[0;34m=\u001b[0m \u001b[0m_colors_full_map\u001b[0m\u001b[0;34m.\u001b[0m\u001b[0mcache\u001b[0m\u001b[0;34m[\u001b[0m\u001b[0mc\u001b[0m\u001b[0;34m,\u001b[0m \u001b[0malpha\u001b[0m\u001b[0;34m]\u001b[0m\u001b[0;34m\u001b[0m\u001b[0m\n\u001b[1;32m    167\u001b[0m     \u001b[0;32mexcept\u001b[0m \u001b[0;34m(\u001b[0m\u001b[0mKeyError\u001b[0m\u001b[0;34m,\u001b[0m \u001b[0mTypeError\u001b[0m\u001b[0;34m)\u001b[0m\u001b[0;34m:\u001b[0m  \u001b[0;31m# Not in cache, or unhashable.\u001b[0m\u001b[0;34m\u001b[0m\u001b[0m\n\u001b[0;32m--> 168\u001b[0;31m         \u001b[0mrgba\u001b[0m \u001b[0;34m=\u001b[0m \u001b[0m_to_rgba_no_colorcycle\u001b[0m\u001b[0;34m(\u001b[0m\u001b[0mc\u001b[0m\u001b[0;34m,\u001b[0m \u001b[0malpha\u001b[0m\u001b[0;34m)\u001b[0m\u001b[0;34m\u001b[0m\u001b[0m\n\u001b[0m\u001b[1;32m    169\u001b[0m         \u001b[0;32mtry\u001b[0m\u001b[0;34m:\u001b[0m\u001b[0;34m\u001b[0m\u001b[0m\n\u001b[1;32m    170\u001b[0m             \u001b[0m_colors_full_map\u001b[0m\u001b[0;34m.\u001b[0m\u001b[0mcache\u001b[0m\u001b[0;34m[\u001b[0m\u001b[0mc\u001b[0m\u001b[0;34m,\u001b[0m \u001b[0malpha\u001b[0m\u001b[0;34m]\u001b[0m \u001b[0;34m=\u001b[0m \u001b[0mrgba\u001b[0m\u001b[0;34m\u001b[0m\u001b[0m\n",
      "\u001b[0;32m~/miniconda3/envs/joommf/lib/python3.6/site-packages/matplotlib/colors.py\u001b[0m in \u001b[0;36m_to_rgba_no_colorcycle\u001b[0;34m(c, alpha)\u001b[0m\n\u001b[1;32m    217\u001b[0m         \u001b[0;31m# float)` and `np.array(...).astype(float)` all convert \"0.5\" to 0.5.\u001b[0m\u001b[0;34m\u001b[0m\u001b[0;34m\u001b[0m\u001b[0m\n\u001b[1;32m    218\u001b[0m         \u001b[0;31m# Test dimensionality to reject single floats.\u001b[0m\u001b[0;34m\u001b[0m\u001b[0;34m\u001b[0m\u001b[0m\n\u001b[0;32m--> 219\u001b[0;31m         \u001b[0;32mraise\u001b[0m \u001b[0mValueError\u001b[0m\u001b[0;34m(\u001b[0m\u001b[0;34m\"Invalid RGBA argument: {!r}\"\u001b[0m\u001b[0;34m.\u001b[0m\u001b[0mformat\u001b[0m\u001b[0;34m(\u001b[0m\u001b[0morig_c\u001b[0m\u001b[0;34m)\u001b[0m\u001b[0;34m)\u001b[0m\u001b[0;34m\u001b[0m\u001b[0m\n\u001b[0m\u001b[1;32m    220\u001b[0m     \u001b[0;31m# Return a tuple to prevent the cached value from being modified.\u001b[0m\u001b[0;34m\u001b[0m\u001b[0;34m\u001b[0m\u001b[0m\n\u001b[1;32m    221\u001b[0m     \u001b[0mc\u001b[0m \u001b[0;34m=\u001b[0m \u001b[0mtuple\u001b[0m\u001b[0;34m(\u001b[0m\u001b[0mc\u001b[0m\u001b[0;34m.\u001b[0m\u001b[0mastype\u001b[0m\u001b[0;34m(\u001b[0m\u001b[0mfloat\u001b[0m\u001b[0;34m)\u001b[0m\u001b[0;34m)\u001b[0m\u001b[0;34m\u001b[0m\u001b[0m\n",
      "\u001b[0;31mValueError\u001b[0m: Invalid RGBA argument: array([[[0.267004, 0.004874, 0.329415],\n        [0.267004, 0.004874, 0.329415],\n        [0.267004, 0.004874, 0.329415],\n        [0.267004, 0.004874, 0.329415],\n        [0.267004, 0.004874, 0.329415],\n        [0.267004, 0.004874, 0.329415],\n        [0.267004, 0.004874, 0.329415],\n        [0.267004, 0.004874, 0.329415]],\n\n       [[0.267004, 0.004874, 0.329415],\n        [0.267004, 0.004874, 0.329415],\n        [0.267004, 0.004874, 0.329415],\n        [0.267004, 0.004874, 0.329415],\n        [0.267004, 0.004874, 0.329415],\n        [0.267004, 0.004874, 0.329415],\n        [0.267004, 0.004874, 0.329415],\n        [0.267004, 0.004874, 0.329415]],\n\n       [[0.267004, 0.004874, 0.329415],\n        [0.267004, 0.004874, 0.329415],\n        [0.267004, 0.004874, 0.329415],\n        [0.267004, 0.004874, 0.329415],\n        [0.267004, 0.004874, 0.329415],\n        [0.267004, 0.004874, 0.329415],\n        [0.267004, 0.004874, 0.329415],\n        [0.267004, 0.004874, 0.329415]],\n\n       [[0.267004, 0.004874, 0.329415],\n        [0.267004, 0.004874, 0.329415],\n        [0.267004, 0.004874, 0.329415],\n        [0.267004, 0.004874, 0.329415],\n        [0.267004, 0.004874, 0.329415],\n        [0.267004, 0.004874, 0.329415],\n        [0.267004, 0.004874, 0.329415],\n        [0.267004, 0.004874, 0.329415]],\n\n       [[0.267004, 0.004874, 0.329415],\n        [0.267004, 0.004874, 0.329415],\n        [0.267004, 0.004874, 0.329415],\n        [0.26851 , 0.009605, 0.335427],\n        [0.26851 , 0.009605, 0.335427],\n        [0.267004, 0.004874, 0.329415],\n        [0.267004, 0.004874, 0.329415],\n        [0.267004, 0.004874, 0.329415]],\n\n       [[0.267004, 0.004874, 0.329415],\n        [0.267004, 0.004874, 0.329415],\n        [0.267004, 0.004874, 0.329415],\n        [0.26851 , 0.009605, 0.335427],\n        [0.26851 , 0.009605, 0.335427],\n        [0.267004, 0.004874, 0.329415],\n        [0.267004, 0.004874, 0.329415],\n        [0.267004, 0.004874, 0.329415]],\n\n       [[0.267004, 0.004874, 0.329415],\n        [0.267004, 0.004874, 0.329415],\n        [0.267004, 0.004874, 0.329415],\n        [0.26851 , 0.009605, 0.335427],\n        [0.26851 , 0.009605, 0.335427],\n        [0.267004, 0.004874, 0.329415],\n        [0.267004, 0.004874, 0.329415],\n        [0.267004, 0.004874, 0.329415]],\n\n       [[0.267004, 0.004874, 0.329415],\n        [0.267004, 0.004874, 0.329415],\n        [0.267004, 0.004874, 0.329415],\n        [0.26851 , 0.009605, 0.335427],\n        [0.26851 , 0.009605, 0.335427],\n        [0.267004, 0.004874, 0.329415],\n        [0.267004, 0.004874, 0.329415],\n        [0.267004, 0.004874, 0.329415]],\n\n       [[0.267004, 0.004874, 0.329415],\n        [0.267004, 0.004874, 0.329415],\n        [0.267004, 0.004874, 0.329415],\n        [0.267004, 0.004874, 0.329415],\n        [0.267004, 0.004874, 0.329415],\n        [0.267004, 0.004874, 0.329415],\n        [0.267004, 0.004874, 0.329415],\n        [0.267004, 0.004874, 0.329415]],\n\n       [[0.267004, 0.004874, 0.329415],\n        [0.267004, 0.004874, 0.329415],\n        [0.267004, 0.004874, 0.329415],\n        [0.267004, 0.004874, 0.329415],\n        [0.267004, 0.004874, 0.329415],\n        [0.267004, 0.004874, 0.329415],\n        [0.267004, 0.004874, 0.329415],\n        [0.267004, 0.004874, 0.329415]],\n\n       [[0.267004, 0.004874, 0.329415],\n        [0.267004, 0.004874, 0.329415],\n        [0.267004, 0.004874, 0.329415],\n        [0.267004, 0.004874, 0.329415],\n        [0.267004, 0.004874, 0.329415],\n        [0.267004, 0.004874, 0.329415],\n        [0.267004, 0.004874, 0.329415],\n        [0.267004, 0.004874, 0.329415]],\n\n       [[0.267004, 0.004874, 0.329415],\n        [0.267004, 0.004874, 0.329415],\n        [0.267004, 0.004874, 0.329415],\n        [0.267004, 0.004874, 0.329415],\n        [0.267004, 0.004874, 0.329415],\n        [0.267004, 0.004874, 0.329415],\n        [0.267004, 0.004874, 0.329415],\n        [0.267004, 0.004874, 0.329415]]])"
     ]
    }
   ],
   "source": [
    "def k3d_scalar(field):\n",
    "    field_array = field.array.copy()\n",
    "    array_shape = field.array.shape\n",
    "\n",
    "    nx, ny, nz, _ = array_shape\n",
    "\n",
    "    norm = np.linalg.norm(field_array, axis=3)[..., None]\n",
    "\n",
    "    for i in range(nx):\n",
    "        for j in range(ny):\n",
    "            for k in range(nz):\n",
    "                if norm[i, j, k] == 0:\n",
    "                    field_array[i, j, k] = np.nan\n",
    "            \n",
    "    component = 0\n",
    "\n",
    "    field_component = field_array[..., component]\n",
    "\n",
    "    def get_int_component2(field_component):\n",
    "        max_value = np.nanmax(field_component)\n",
    "        min_value = np.nanmin(field_component)\n",
    "        value_range = max_value - min_value\n",
    "\n",
    "        nx, ny, nz = field_component.shape\n",
    "\n",
    "        # Put values in 0-255 range\n",
    "        if value_range != 0:\n",
    "            int_component = (field_component + abs(min_value)) / value_range * 254\n",
    "            int_component += 1\n",
    "        else:\n",
    "            int_component = 128 * np.ones(field_component.shape)  # place in the middle of colormap\n",
    "\n",
    "        for i in range(nx):\n",
    "            for j in range(ny):\n",
    "                for k in range(nz):\n",
    "                    if np.isnan(field_component[i, j, k]):\n",
    "                        int_component[i, j, k] = int(0)\n",
    "                    else:\n",
    "                        int_component[i, j, k] = int(int_component[i, j, k])\n",
    "    \n",
    "        return int_component.astype(np.int)\n",
    "\n",
    "    int_component = get_int_component2(field_component)\n",
    "    cmap = colormap('viridis', 256)\n",
    "\n",
    "    colors = cmap[int_component]\n",
    "    colors = ['0x{}'.format(matplotlib.colors.rgb2hex(rgb)[1:]) for rgb in colors]\n",
    "    colors = [(int(i, 16), int(i, 16)) for i in colors]  # tuple (head-color, body-color)\n",
    "\n",
    "    xmin,ymin,zmin = field.mesh.pmin\n",
    "    xmax,ymax,zmax = field.mesh.pmax\n",
    "\n",
    "    plot = k3d.plot()\n",
    "    plt_vox = k3d.voxels(int_component, color_map=colors,\n",
    "                                   xmin=xmin,xmax=xmax,\n",
    "                                   ymin=ymin,ymax=ymax,\n",
    "                                   zmin=zmin,zmax=zmax, outlines=False)\n",
    "\n",
    "    plot += plt_vox\n",
    "    plot.display()\n",
    "    \n",
    "k3d_scalar(field)"
   ]
  },
  {
   "cell_type": "markdown",
   "metadata": {},
   "source": [
    "Plotting scalor field. Using existed colormap set."
   ]
  },
  {
   "cell_type": "code",
   "execution_count": 69,
   "metadata": {},
   "outputs": [
    {
     "ename": "NameError",
     "evalue": "name 'colors' is not defined",
     "output_type": "error",
     "traceback": [
      "\u001b[0;31m---------------------------------------------------------------------------\u001b[0m",
      "\u001b[0;31mNameError\u001b[0m                                 Traceback (most recent call last)",
      "\u001b[0;32m<ipython-input-69-0df7c8022359>\u001b[0m in \u001b[0;36m<module>\u001b[0;34m()\u001b[0m\n\u001b[1;32m      3\u001b[0m \u001b[0;34m\u001b[0m\u001b[0m\n\u001b[1;32m      4\u001b[0m \u001b[0mplot\u001b[0m \u001b[0;34m=\u001b[0m \u001b[0mk3d\u001b[0m\u001b[0;34m.\u001b[0m\u001b[0mplot\u001b[0m\u001b[0;34m(\u001b[0m\u001b[0;34m)\u001b[0m\u001b[0;34m\u001b[0m\u001b[0m\n\u001b[0;32m----> 5\u001b[0;31m plt_vox = k3d.voxels(int_component, color_map=colors,\n\u001b[0m\u001b[1;32m      6\u001b[0m                                \u001b[0mxmin\u001b[0m\u001b[0;34m=\u001b[0m\u001b[0mxmin\u001b[0m\u001b[0;34m,\u001b[0m\u001b[0mxmax\u001b[0m\u001b[0;34m=\u001b[0m\u001b[0mxmax\u001b[0m\u001b[0;34m,\u001b[0m\u001b[0;34m\u001b[0m\u001b[0m\n\u001b[1;32m      7\u001b[0m                                \u001b[0mymin\u001b[0m\u001b[0;34m=\u001b[0m\u001b[0mymin\u001b[0m\u001b[0;34m,\u001b[0m\u001b[0mymax\u001b[0m\u001b[0;34m=\u001b[0m\u001b[0mymax\u001b[0m\u001b[0;34m,\u001b[0m\u001b[0;34m\u001b[0m\u001b[0m\n",
      "\u001b[0;31mNameError\u001b[0m: name 'colors' is not defined"
     ]
    }
   ],
   "source": [
    "xmin,ymin,zmin = field.mesh.pmin\n",
    "xmax,ymax,zmax = field.mesh.pmax\n",
    "\n",
    "plot = k3d.plot()\n",
    "plt_vox = k3d.voxels(int_component, color_map=colors,\n",
    "                               xmin=xmin,xmax=xmax,\n",
    "                               ymin=ymin,ymax=ymax,\n",
    "                               zmin=zmin,zmax=zmax, outlines=False)\n",
    "\n",
    "plot += plt_vox\n",
    "plot.display()"
   ]
  },
  {
   "cell_type": "markdown",
   "metadata": {},
   "source": [
    "**Questions:**\n",
    "1. How to add the colorbar?\n",
    "2. Can we change the labels on axes?"
   ]
  },
  {
   "cell_type": "markdown",
   "metadata": {},
   "source": [
    "# Slice vector field"
   ]
  },
  {
   "cell_type": "markdown",
   "metadata": {},
   "source": [
    "Visualization of a vector field on a selected plane. Using the function `field.mesh.plane (axis = value)` we get the coordinate values of the origin of the vectors and their magnitude. In the process, we filter those vectors whose length is equal to zero."
   ]
  },
  {
   "cell_type": "markdown",
   "metadata": {},
   "source": [
    "We obtain the coordinates of the origin of the vectors and their length on the selected plane."
   ]
  },
  {
   "cell_type": "code",
   "execution_count": 14,
   "metadata": {},
   "outputs": [],
   "source": [
    "coordinates_nonzero_slice = []\n",
    "vectors_nonzero_slice = []\n",
    "for i in field.mesh.plane(x=2.2):\n",
    "    vector = field(i)\n",
    "    norm = vector[0]**2 + vector[1]**2 + vector[2]**2\n",
    "    if norm > 0:\n",
    "        coordinates_nonzero_slice.append(i)\n",
    "        vectors_nonzero_slice.append(vector)\n",
    "        \n",
    "coordinates_nonzero_slice = np.array(coordinates_nonzero_slice)\n",
    "vectors_nonzero_slice = np.array(vectors_nonzero_slice)\n",
    "\n",
    "shifted_nonzero_coordinates_slice = coordinates_nonzero_slice - 0.5 * vectors_nonzero_slice"
   ]
  },
  {
   "cell_type": "markdown",
   "metadata": {},
   "source": [
    "Plot"
   ]
  },
  {
   "cell_type": "code",
   "execution_count": 15,
   "metadata": {},
   "outputs": [
    {
     "name": "stderr",
     "output_type": "stream",
     "text": [
      "/home/begm/miniconda3/envs/joommf/lib/python3.6/site-packages/traittypes/traittypes.py:101: UserWarning: Given trait value dtype \"float64\" does not match required type \"float32\". A coerced copy has been created.\n",
      "  np.dtype(self.dtype).name))\n"
     ]
    },
    {
     "data": {
      "application/vnd.jupyter.widget-view+json": {
       "model_id": "42287a68b7d649ab99bd8cd98283f976",
       "version_major": 2,
       "version_minor": 0
      },
      "text/plain": [
       "Output()"
      ]
     },
     "metadata": {},
     "output_type": "display_data"
    }
   ],
   "source": [
    "plot = k3d.plot()\n",
    "vector_plot  = k3d.vectors(shifted_nonzero_coordinates_slice, vectors_nonzero_slice)\n",
    "\n",
    "plt_coordinates = k3d.points(coordinates_nonzero_slice)\n",
    "plt_coordinates.point_size = 0.1\n",
    "plt_coordinates.color = 0xff0000\n",
    "plot += plt_coordinates\n",
    "\n",
    "plot += vector_plot\n",
    "plot.display()"
   ]
  },
  {
   "cell_type": "markdown",
   "metadata": {},
   "source": [
    "# Slice scalor field"
   ]
  },
  {
   "cell_type": "markdown",
   "metadata": {},
   "source": [
    "Select the field values on the plane"
   ]
  },
  {
   "cell_type": "code",
   "execution_count": null,
   "metadata": {},
   "outputs": [],
   "source": [
    "ith = 1\n",
    "value_slice = field.array[:,:,ith,1]\n",
    "nz,ny,nx,_  = field.array.shape"
   ]
  },
  {
   "cell_type": "markdown",
   "metadata": {},
   "source": [
    "Create a list of triples of node numbers"
   ]
  },
  {
   "cell_type": "code",
   "execution_count": null,
   "metadata": {},
   "outputs": [],
   "source": [
    "ni,nj = value_slice.shape\n",
    "indices = []\n",
    "for i in range(ni-1):\n",
    "    for j in range(nj-1):\n",
    "        indices.append((i*nj+j, i*nj+j+1, (i+1)*nj+j))        # lower-left triangle\n",
    "        indices.append(((i+1)*nj+j+1, i*nj+j+1, (i+1)*nj+j))  # upper-right triangle"
   ]
  },
  {
   "cell_type": "markdown",
   "metadata": {},
   "source": [
    "Select the mesh coordinate"
   ]
  },
  {
   "cell_type": "code",
   "execution_count": null,
   "metadata": {},
   "outputs": [],
   "source": [
    "origins = np.array(list(field.mesh.coordinates))\n",
    "origins_slice = origins.reshape(nz,ny,nx,3)[:,:,ith,:]"
   ]
  },
  {
   "cell_type": "markdown",
   "metadata": {},
   "source": [
    "Plot"
   ]
  },
  {
   "cell_type": "code",
   "execution_count": null,
   "metadata": {},
   "outputs": [],
   "source": [
    "plot = k3d.plot()\n",
    "plt_mesh = k3d.mesh(origins_slice, indices, attribute=value_slice,\n",
    "                    color_map=k3d.basic_color_maps.CoolWarm,\n",
    "                    color_range=[-1.0, 1.0])\n",
    "plot += plt_mesh\n",
    "plot.display()"
   ]
  },
  {
   "cell_type": "markdown",
   "metadata": {},
   "source": [
    "# Overlap vector and scalor fields"
   ]
  },
  {
   "cell_type": "markdown",
   "metadata": {},
   "source": [
    "## 3D"
   ]
  },
  {
   "cell_type": "code",
   "execution_count": null,
   "metadata": {},
   "outputs": [],
   "source": [
    "plot = k3d.plot()\n",
    "plt_scalor  = k3d.volume(field_scalor.array, bounds=[-size, size, -size, size, -size, size],\n",
    "                         color_map=np.array(k3d.basic_color_maps.Jet, dtype=np.float32))\n",
    "plt_vector  = k3d.vectors(origins_nonzero, vector_scale*vectors_nonzero, colors=colors)\n",
    "plot += plt_scalor\n",
    "plot += plt_vector\n",
    "plot.display()"
   ]
  },
  {
   "cell_type": "markdown",
   "metadata": {},
   "source": [
    "## Slice"
   ]
  },
  {
   "cell_type": "code",
   "execution_count": null,
   "metadata": {},
   "outputs": [],
   "source": [
    "color = 0xff\n",
    "vector_scale = 1.0\n",
    "\n",
    "plot = k3d.plot()\n",
    "plt_vector_slice = k3d.vectors(origins_nonzero_slice, vector_scale*vectors_nonzero_slice, color=color)\n",
    "plt_scalor_slice = k3d.mesh(origins_slice, indices, attribute=value_slice,\n",
    "                    color_map=k3d.basic_color_maps.CoolWarm,\n",
    "                    color_range=[-1.0, 1.0], antialias=True)\n",
    "plot += plt_mesh\n",
    "plot += plt\n",
    "plot.display()"
   ]
  },
  {
   "cell_type": "markdown",
   "metadata": {},
   "source": [
    "# Mesh as vox"
   ]
  },
  {
   "cell_type": "code",
   "execution_count": null,
   "metadata": {},
   "outputs": [],
   "source": []
  },
  {
   "cell_type": "code",
   "execution_count": null,
   "metadata": {},
   "outputs": [],
   "source": []
  },
  {
   "cell_type": "code",
   "execution_count": null,
   "metadata": {},
   "outputs": [],
   "source": [
    "myarray = np.ones([2, 1, 2])\n",
    "\n",
    "xmin,ymin,zmin = 0, 0, 0\n",
    "xmax,ymax,zmax = myarray.shape\n",
    "\n",
    "plot = k3d.plot()\n",
    "plt_vox = k3d.voxels(myarray, color_map=[0x00ff00],\n",
    "                               xmin=xmin,xmax=xmax,\n",
    "                               ymin=ymin,ymax=ymax,\n",
    "                               zmin=zmin,zmax=zmax, outlines=False)\n",
    "plot += plt_vox\n",
    "plot.display()"
   ]
  },
  {
   "cell_type": "code",
   "execution_count": null,
   "metadata": {},
   "outputs": [],
   "source": [
    "myarray"
   ]
  },
  {
   "cell_type": "code",
   "execution_count": null,
   "metadata": {},
   "outputs": [],
   "source": [
    "k3d.voxels?"
   ]
  },
  {
   "cell_type": "markdown",
   "metadata": {},
   "source": [
    "# Isosurface"
   ]
  },
  {
   "cell_type": "markdown",
   "metadata": {},
   "source": [
    "Visualization of several isosurfaces."
   ]
  },
  {
   "cell_type": "code",
   "execution_count": null,
   "metadata": {},
   "outputs": [],
   "source": [
    "xmin,ymin,zmin = field.mesh.pmin\n",
    "xmax,ymax,zmax = field.mesh.pmax\n",
    "\n",
    "plot = k3d.plot()\n",
    "plt_iso = k3d.marching_cubes(np.sum(field.array**2,axis=-1), level=0.01,\n",
    "                             bounds=[xmin,xmax,ymin,ymax,zmin,zmax])\n",
    "\n",
    "plot += plt_iso\n",
    "plt_iso = k3d.marching_cubes(np.sum(field.array**2,axis=-1), level=1.0,\n",
    "                             bounds=[xmin,xmax,ymin,ymax,zmin,zmax],\n",
    "                             color=0x00ff00)\n",
    "\n",
    "plot += plt_iso\n",
    "plot.display()"
   ]
  },
  {
   "cell_type": "markdown",
   "metadata": {},
   "source": [
    "**Question**:\n",
    "\n",
    "* How add alpha chanel for isosurface?\n",
    "* Is it possible to set the range of values and the step of displaying isosurfaces?\n",
    "* How add the legend?"
   ]
  }
 ],
 "metadata": {
  "kernelspec": {
   "display_name": "Python 3",
   "language": "python",
   "name": "python3"
  },
  "language_info": {
   "codemirror_mode": {
    "name": "ipython",
    "version": 3
   },
   "file_extension": ".py",
   "mimetype": "text/x-python",
   "name": "python",
   "nbconvert_exporter": "python",
   "pygments_lexer": "ipython3",
   "version": "3.6.6"
  }
 },
 "nbformat": 4,
 "nbformat_minor": 2
}
