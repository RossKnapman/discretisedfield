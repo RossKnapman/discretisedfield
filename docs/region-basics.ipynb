{
 "cells": [
  {
   "cell_type": "markdown",
   "metadata": {},
   "source": [
    "# Region basics\n",
    "\n",
    "An object on which finite difference mesh, and accordingly, finite difference field are based is `Region`. In this tutorial, we show how to define a region as well as some basic operations.\n",
    "\n",
    "A region is always cuboidal and it can be defined by any two diagonally opposite corner points. For instance, let us assume we have a region in Cartesian coordinates with edge lengths:\n",
    "\n",
    "$$l_{x} = 100 \\,\\text{nm}$$\n",
    "$$l_{y} = 50 \\,\\text{nm}$$\n",
    "$$l_{z} = 20 \\,\\text{nm}$$\n",
    "\n",
    "In order to define this region we need to choose two diagonally opposite corner points. There are many possibilities, but it is up to us which corner points we are going to choose as well as where we are going to position our region in Cartesian coordinate system. Most often, we choose either:\n",
    "\n",
    "$$p_{1} = (0, 0, 0)$$\n",
    "$$p_{2} = (l_{x}, l_{y}, l_{z})$$\n",
    "\n",
    "or\n",
    "\n",
    "$$p_{1} = \\left(-\\frac{l_{x}}{2}, -\\frac{l_{y}}{2}, -\\frac{l_{z}}{2}\\right)$$\n",
    "$$p_{2} = \\left(\\frac{l_{x}}{2}, \\frac{l_{y}}{2}, \\frac{l_{z}}{2}\\right)$$\n",
    "\n",
    "For simplicity, we are going to position $p_{1}$ at the origin of the coordinate system.\n",
    "\n",
    "We define points as length-3 tuples and pass them to `Region` object via `p1` and `p2` arguments."
   ]
  },
  {
   "cell_type": "code",
   "execution_count": 1,
   "metadata": {},
   "outputs": [],
   "source": [
    "import discretisedfield as df  # df is here chosen to be an alias for discretisedfield\n",
    "\n",
    "p1 = (0, 0, 0)\n",
    "p2 = (100e-9, 50e-9, 20e-9)\n",
    "\n",
    "region = df.Region(p1=p1, p2=p2)"
   ]
  },
  {
   "cell_type": "markdown",
   "metadata": {},
   "source": [
    "(All units are SI and no prefixes are assumed. Therefore $1 \\,\\text{nm}$ is `1e-9`.)\n",
    "\n",
    "The region is now defined. Now, we are going to have a look at some basic methods (functions) which are part of the `Region` object.\n",
    "\n",
    "We can ask the region to give us the minimum and maximum points in the region."
   ]
  },
  {
   "cell_type": "code",
   "execution_count": 2,
   "metadata": {},
   "outputs": [
    {
     "data": {
      "text/plain": [
       "array([0., 0., 0.])"
      ]
     },
     "execution_count": 2,
     "metadata": {},
     "output_type": "execute_result"
    }
   ],
   "source": [
    "region.pmin"
   ]
  },
  {
   "cell_type": "code",
   "execution_count": 3,
   "metadata": {},
   "outputs": [
    {
     "data": {
      "text/plain": [
       "array([1.e-07, 5.e-08, 2.e-08])"
      ]
     },
     "execution_count": 3,
     "metadata": {},
     "output_type": "execute_result"
    }
   ],
   "source": [
    "region.pmax"
   ]
  },
  {
   "cell_type": "markdown",
   "metadata": {},
   "source": [
    "In our case $p_\\text{min} = p_{1}$ and $p_\\text{max} = p_{2}$, only because of our choice of diagonally opposite points of the cubic region. In general, this is not the case, since we could have chosen any two points for $p_{1}$ and $p_{2}$.\n",
    "\n",
    "Now we can ask the region to give us the edge lengths of the region (based on $p_{1}$ and $p_{2}$ we used at the definition)."
   ]
  },
  {
   "cell_type": "code",
   "execution_count": 4,
   "metadata": {},
   "outputs": [
    {
     "data": {
      "text/plain": [
       "array([1.e-07, 5.e-08, 2.e-08])"
      ]
     },
     "execution_count": 4,
     "metadata": {},
     "output_type": "execute_result"
    }
   ],
   "source": [
    "region.edges"
   ]
  },
  {
   "cell_type": "markdown",
   "metadata": {},
   "source": [
    "These lengths correspond to $l_{x}$, $l_{y}$, and $l_{z}$ we discussed earlier.\n",
    "\n",
    "Similarly, we can ask for a centre point in the region (cross section point of all diagonals)."
   ]
  },
  {
   "cell_type": "code",
   "execution_count": 5,
   "metadata": {},
   "outputs": [
    {
     "data": {
      "text/plain": [
       "array([5.0e-08, 2.5e-08, 1.0e-08])"
      ]
     },
     "execution_count": 5,
     "metadata": {},
     "output_type": "execute_result"
    }
   ],
   "source": [
    "region.center"
   ]
  },
  {
   "cell_type": "markdown",
   "metadata": {},
   "source": [
    "Obviously, centre point we got is:\n",
    "\n",
    "$$p_\\text{c} = (\\frac{l_{x}}{2}, \\frac{l_{y}}{2}, \\frac{l_{z}}{2})$$\n",
    "\n",
    "The volume of the region is:"
   ]
  },
  {
   "cell_type": "code",
   "execution_count": 6,
   "metadata": {},
   "outputs": [
    {
     "data": {
      "text/plain": [
       "9.999999999999998e-23"
      ]
     },
     "execution_count": 6,
     "metadata": {},
     "output_type": "execute_result"
    }
   ],
   "source": [
    "region.volume"
   ]
  },
  {
   "cell_type": "markdown",
   "metadata": {},
   "source": [
    "This value is in $\\text{m}^{3}$ and it is calculated as\n",
    "\n",
    "$$V=l_{x}l_{y}l_{z}$$\n",
    "\n",
    "Now, let us say we have a point $p$ and want to check if that point is in our region. We can do that using `in`. For instance, if our point is $p = (2\\,\\text{nm}, 4\\,\\text{nm}, 1\\,\\text{nm})$, we can ask the region if point $p$ is in it."
   ]
  },
  {
   "cell_type": "code",
   "execution_count": 7,
   "metadata": {},
   "outputs": [
    {
     "data": {
      "text/plain": [
       "True"
      ]
     },
     "execution_count": 7,
     "metadata": {},
     "output_type": "execute_result"
    }
   ],
   "source": [
    "p = (2e-9, 4e-9, 1e-9)\n",
    "\n",
    "p in region"
   ]
  },
  {
   "cell_type": "markdown",
   "metadata": {},
   "source": [
    "As a result, we get `bool` (either `True` or `False`). This can be useful, when we want to use these expressions as conditions for some more complex functions. For example:"
   ]
  },
  {
   "cell_type": "code",
   "execution_count": 8,
   "metadata": {},
   "outputs": [
    {
     "name": "stdout",
     "output_type": "stream",
     "text": [
      "Point: I'm in! :)\n"
     ]
    }
   ],
   "source": [
    "if p in region:\n",
    "    print(\"Point: I'm in! :)\")\n",
    "else:\n",
    "    print(\"Point: I'm out! :(\")"
   ]
  },
  {
   "cell_type": "markdown",
   "metadata": {},
   "source": [
    "On the other hand, we could have chosen a point which is outside of our region:"
   ]
  },
  {
   "cell_type": "code",
   "execution_count": 9,
   "metadata": {},
   "outputs": [
    {
     "data": {
      "text/plain": [
       "False"
      ]
     },
     "execution_count": 9,
     "metadata": {},
     "output_type": "execute_result"
    }
   ],
   "source": [
    "(1e-9, 200e-9, 0) in region"
   ]
  },
  {
   "cell_type": "markdown",
   "metadata": {},
   "source": [
    "Sometimes we want to check if two regions are the same. We can do that using relational `==` operator. Let us define two regions: one which is the same to the one we have and one different:"
   ]
  },
  {
   "cell_type": "code",
   "execution_count": 10,
   "metadata": {},
   "outputs": [],
   "source": [
    "region_same = df.Region(p1=(0, 0, 0), p2=(100e-9, 50e-9, 20e-9))\n",
    "region_different = df.Region(p1=(0, 0, 0), p2=(10e-9, 5e-9, 2e-9))"
   ]
  },
  {
   "cell_type": "markdown",
   "metadata": {},
   "source": [
    "Now we can compare them:"
   ]
  },
  {
   "cell_type": "code",
   "execution_count": 11,
   "metadata": {},
   "outputs": [
    {
     "data": {
      "text/plain": [
       "True"
      ]
     },
     "execution_count": 11,
     "metadata": {},
     "output_type": "execute_result"
    }
   ],
   "source": [
    "region == region_same"
   ]
  },
  {
   "cell_type": "code",
   "execution_count": 12,
   "metadata": {},
   "outputs": [
    {
     "data": {
      "text/plain": [
       "False"
      ]
     },
     "execution_count": 12,
     "metadata": {},
     "output_type": "execute_result"
    }
   ],
   "source": [
    "region == region_different"
   ]
  },
  {
   "cell_type": "markdown",
   "metadata": {},
   "source": [
    "Just like `in` operator, `==` returns `bool`. Similarly, we can ask if two regions are different:"
   ]
  },
  {
   "cell_type": "code",
   "execution_count": 13,
   "metadata": {},
   "outputs": [
    {
     "data": {
      "text/plain": [
       "False"
      ]
     },
     "execution_count": 13,
     "metadata": {},
     "output_type": "execute_result"
    }
   ],
   "source": [
    "region != region_same"
   ]
  },
  {
   "cell_type": "code",
   "execution_count": 14,
   "metadata": {},
   "outputs": [
    {
     "data": {
      "text/plain": [
       "True"
      ]
     },
     "execution_count": 14,
     "metadata": {},
     "output_type": "execute_result"
    }
   ],
   "source": [
    "region != region_different"
   ]
  },
  {
   "cell_type": "markdown",
   "metadata": {},
   "source": [
    "Finally, we can ask the region object about its representation string:"
   ]
  },
  {
   "cell_type": "code",
   "execution_count": 15,
   "metadata": {},
   "outputs": [
    {
     "data": {
      "text/plain": [
       "\"Region(pmin=[0.0, 0.0, 0.0], pmax=[1e-07, 5e-08, 2e-08], dims=['x', 'y', 'z'], units=['m', 'm', 'm'])\""
      ]
     },
     "execution_count": 15,
     "metadata": {},
     "output_type": "execute_result"
    }
   ],
   "source": [
    "repr(region)"
   ]
  },
  {
   "cell_type": "markdown",
   "metadata": {},
   "source": [
    "In a Jupyter notebook we can also get an HTML representation."
   ]
  },
  {
   "cell_type": "code",
   "execution_count": 16,
   "metadata": {},
   "outputs": [
    {
     "data": {
      "text/html": [
       "<strong>Region</strong>\n",
       "<ul>\n",
       "  <li>pmin = [0.0, 0.0, 0.0]</li>\n",
       "  <li>pmax = [1e-07, 5e-08, 2e-08]</li>\n",
       "  <li>dims = ['x', 'y', 'z']</li>\n",
       "  <li>units = ['m', 'm', 'm']</li>\n",
       "</ul>"
      ],
      "text/plain": [
       "Region(pmin=[0.0, 0.0, 0.0], pmax=[1e-07, 5e-08, 2e-08], dims=['x', 'y', 'z'], units=['m', 'm', 'm'])"
      ]
     },
     "execution_count": 16,
     "metadata": {},
     "output_type": "execute_result"
    }
   ],
   "source": [
    "region"
   ]
  },
  {
   "cell_type": "markdown",
   "metadata": {},
   "source": [
    "From the representation we can see that a region has additional attributes `dims` and `units`. These have the default values shown above if we do not pass anything during initialisation."
   ]
  },
  {
   "cell_type": "code",
   "execution_count": 17,
   "metadata": {},
   "outputs": [
    {
     "data": {
      "text/plain": [
       "('x', 'y', 'z')"
      ]
     },
     "execution_count": 17,
     "metadata": {},
     "output_type": "execute_result"
    }
   ],
   "source": [
    "region.dims"
   ]
  },
  {
   "cell_type": "code",
   "execution_count": 18,
   "metadata": {},
   "outputs": [
    {
     "data": {
      "text/plain": [
       "('m', 'm', 'm')"
      ]
     },
     "execution_count": 18,
     "metadata": {},
     "output_type": "execute_result"
    }
   ],
   "source": [
    "region.units"
   ]
  },
  {
   "cell_type": "markdown",
   "metadata": {},
   "source": [
    "`dims` and `units` can be changed. This does not affect the actual data as units are only used as \"labels\"."
   ]
  },
  {
   "cell_type": "code",
   "execution_count": 19,
   "metadata": {},
   "outputs": [
    {
     "data": {
      "text/plain": [
       "('nm', 'nm', 'nm')"
      ]
     },
     "execution_count": 19,
     "metadata": {},
     "output_type": "execute_result"
    }
   ],
   "source": [
    "region.units = [\"nm\", \"nm\", \"nm\"]\n",
    "region.units"
   ]
  },
  {
   "cell_type": "markdown",
   "metadata": {},
   "source": [
    "They can be reset to the default by passing `None`."
   ]
  },
  {
   "cell_type": "code",
   "execution_count": 20,
   "metadata": {},
   "outputs": [
    {
     "data": {
      "text/plain": [
       "('m', 'm', 'm')"
      ]
     },
     "execution_count": 20,
     "metadata": {},
     "output_type": "execute_result"
    }
   ],
   "source": [
    "region.units = None\n",
    "region.units"
   ]
  },
  {
   "cell_type": "markdown",
   "metadata": {},
   "source": [
    "We can create a new region with custom `dims` and `units`."
   ]
  },
  {
   "cell_type": "code",
   "execution_count": 21,
   "metadata": {},
   "outputs": [
    {
     "data": {
      "text/html": [
       "<strong>Region</strong>\n",
       "<ul>\n",
       "  <li>pmin = [0, 0, 0]</li>\n",
       "  <li>pmax = [20, 20, 10]</li>\n",
       "  <li>dims = ['x0', 'x1', 'x2']</li>\n",
       "  <li>units = ['μm', 'μm', 'μm']</li>\n",
       "</ul>"
      ],
      "text/plain": [
       "Region(pmin=[0, 0, 0], pmax=[20, 20, 10], dims=['x0', 'x1', 'x2'], units=['μm', 'μm', 'μm'])"
      ]
     },
     "execution_count": 21,
     "metadata": {},
     "output_type": "execute_result"
    }
   ],
   "source": [
    "region = df.Region(\n",
    "    p1=(0, 0, 0), p2=(20, 20, 10), units=[\"μm\", \"μm\", \"μm\"], dims=[\"x0\", \"x1\", \"x2\"]\n",
    ")\n",
    "region"
   ]
  },
  {
   "cell_type": "markdown",
   "metadata": {},
   "source": [
    "Regions can be plotted. There is a detailed notebook showing all the options. Here, we just use the defaults."
   ]
  },
  {
   "cell_type": "code",
   "execution_count": 22,
   "metadata": {},
   "outputs": [
    {
     "data": {
      "image/png": "[encoded data removed]",
      "text/plain": [
       "<Figure size 432x288 with 1 Axes>"
      ]
     },
     "metadata": {
      "needs_background": "light"
     },
     "output_type": "display_data"
    }
   ],
   "source": [
    "region.mpl()"
   ]
  },
  {
   "cell_type": "markdown",
   "metadata": {},
   "source": [
    "A regions has two methods `scale` and `translate`. Both optionally allow `inplace` operations."
   ]
  },
  {
   "cell_type": "markdown",
   "metadata": {},
   "source": [
    "## Scale"
   ]
  },
  {
   "cell_type": "code",
   "execution_count": 23,
   "metadata": {},
   "outputs": [
    {
     "data": {
      "text/html": [
       "<strong>Region</strong>\n",
       "<ul>\n",
       "  <li>pmin = [-10.0, -10.0, -5.0]</li>\n",
       "  <li>pmax = [30.0, 30.0, 15.0]</li>\n",
       "  <li>dims = ['x0', 'x1', 'x2']</li>\n",
       "  <li>units = ['μm', 'μm', 'μm']</li>\n",
       "</ul>"
      ],
      "text/plain": [
       "Region(pmin=[-10.0, -10.0, -5.0], pmax=[30.0, 30.0, 15.0], dims=['x0', 'x1', 'x2'], units=['μm', 'μm', 'μm'])"
      ]
     },
     "execution_count": 23,
     "metadata": {},
     "output_type": "execute_result"
    }
   ],
   "source": [
    "scaled = region.scale(2)\n",
    "scaled"
   ]
  },
  {
   "cell_type": "code",
   "execution_count": 24,
   "metadata": {},
   "outputs": [
    {
     "data": {
      "image/png": "[encoded data removed]",
      "text/plain": [
       "<Figure size 432x288 with 1 Axes>"
      ]
     },
     "metadata": {
      "needs_background": "light"
     },
     "output_type": "display_data"
    }
   ],
   "source": [
    "scaled.mpl()"
   ]
  },
  {
   "cell_type": "code",
   "execution_count": 25,
   "metadata": {},
   "outputs": [
    {
     "data": {
      "image/png": "[encoded data removed]",
      "text/plain": [
       "<Figure size 432x288 with 1 Axes>"
      ]
     },
     "metadata": {
      "needs_background": "light"
     },
     "output_type": "display_data"
    }
   ],
   "source": [
    "region.translate((-10, 0, 100)).mpl()"
   ]
  },
  {
   "cell_type": "markdown",
   "metadata": {},
   "source": [
    "We can scale with different factors along different directions and pass in a `reference_point` that does not move when scaling. If not passed the `center` of the region is kept fixed."
   ]
  },
  {
   "cell_type": "code",
   "execution_count": 26,
   "metadata": {},
   "outputs": [
    {
     "data": {
      "image/png": "[encoded data removed]",
      "text/plain": [
       "<Figure size 432x288 with 1 Axes>"
      ]
     },
     "metadata": {
      "needs_background": "light"
     },
     "output_type": "display_data"
    }
   ],
   "source": [
    "region.scale((1, 0.75, 2), inplace=True)  # , reference_point=(-10, -10, 0))\n",
    "region.mpl()"
   ]
  },
  {
   "cell_type": "markdown",
   "metadata": {},
   "source": [
    "## Other dimensions\n",
    "\n",
    "Regions can have any dimension >= 1. Plotting is currently only supported for 3d regions.\n",
    "\n",
    "A 1d region can be interpreted as a line."
   ]
  },
  {
   "cell_type": "code",
   "execution_count": 27,
   "metadata": {},
   "outputs": [
    {
     "data": {
      "text/html": [
       "<strong>Region</strong>\n",
       "<ul>\n",
       "  <li>pmin = [0]</li>\n",
       "  <li>pmax = [10]</li>\n",
       "  <li>dims = ['x']</li>\n",
       "  <li>units = ['m']</li>\n",
       "</ul>"
      ],
      "text/plain": [
       "Region(pmin=[0], pmax=[10], dims=['x'], units=['m'])"
      ]
     },
     "execution_count": 27,
     "metadata": {},
     "output_type": "execute_result"
    }
   ],
   "source": [
    "region_1d = df.Region(p1=0, p2=10)\n",
    "region_1d"
   ]
  },
  {
   "cell_type": "markdown",
   "metadata": {},
   "source": [
    "The dimensionality of a region can be obtained from the attribute `ndim`."
   ]
  },
  {
   "cell_type": "code",
   "execution_count": 28,
   "metadata": {},
   "outputs": [
    {
     "data": {
      "text/plain": [
       "1"
      ]
     },
     "execution_count": 28,
     "metadata": {},
     "output_type": "execute_result"
    }
   ],
   "source": [
    "region_1d.ndim"
   ]
  },
  {
   "cell_type": "markdown",
   "metadata": {},
   "source": [
    "A 2d region can be interpreted as a plane."
   ]
  },
  {
   "cell_type": "code",
   "execution_count": 29,
   "metadata": {},
   "outputs": [
    {
     "data": {
      "text/html": [
       "<strong>Region</strong>\n",
       "<ul>\n",
       "  <li>pmin = [0, 0]</li>\n",
       "  <li>pmax = [10, 20]</li>\n",
       "  <li>dims = ['x', 'y']</li>\n",
       "  <li>units = ['m', 'm']</li>\n",
       "</ul>"
      ],
      "text/plain": [
       "Region(pmin=[0, 0], pmax=[10, 20], dims=['x', 'y'], units=['m', 'm'])"
      ]
     },
     "execution_count": 29,
     "metadata": {},
     "output_type": "execute_result"
    }
   ],
   "source": [
    "df.Region(p1=(0, 0), p2=(10, 20))"
   ]
  },
  {
   "cell_type": "markdown",
   "metadata": {},
   "source": [
    "For dimension larger than three the default for `dims` changes from `[x, y, z]` to `x0` to `xn-1`."
   ]
  },
  {
   "cell_type": "code",
   "execution_count": 30,
   "metadata": {},
   "outputs": [
    {
     "data": {
      "text/html": [
       "<strong>Region</strong>\n",
       "<ul>\n",
       "  <li>pmin = [1, 2, 3, 4]</li>\n",
       "  <li>pmax = [10, 20, 30, 40]</li>\n",
       "  <li>dims = ['x0', 'x1', 'x2', 'x3']</li>\n",
       "  <li>units = ['m', 'm', 'm', 'm']</li>\n",
       "</ul>"
      ],
      "text/plain": [
       "Region(pmin=[1, 2, 3, 4], pmax=[10, 20, 30, 40], dims=['x0', 'x1', 'x2', 'x3'], units=['m', 'm', 'm', 'm'])"
      ]
     },
     "execution_count": 30,
     "metadata": {},
     "output_type": "execute_result"
    }
   ],
   "source": [
    "df.Region(p1=(1, 2, 3, 4), p2=(10, 20, 30, 40))"
   ]
  }
 ],
 "metadata": {
  "interpreter": {
   "hash": "2940b2f637ab9684f43d9709170b64af8bd4a8fb93490cb82c1b85cca32aed36"
  },
  "kernelspec": {
   "display_name": "Python 3 (ipykernel)",
   "language": "python",
   "name": "python3"
  },
  "language_info": {
   "codemirror_mode": {
    "name": "ipython",
    "version": 3
   },
   "file_extension": ".py",
   "mimetype": "text/x-python",
   "name": "python",
   "nbconvert_exporter": "python",
   "pygments_lexer": "ipython3",
   "version": "3.8.13"
  },
  "widgets": {
   "application/vnd.jupyter.widget-state+json": {
    "state": {},
    "version_major": 2,
    "version_minor": 0
   }
  }
 },
 "nbformat": 4,
 "nbformat_minor": 4
}
