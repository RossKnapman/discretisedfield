{
 "cells": [
  {
   "cell_type": "markdown",
   "id": "f21fc122",
   "metadata": {},
   "source": [
    "# Rotations of field objects"
   ]
  },
  {
   "cell_type": "markdown",
   "id": "947d7d19",
   "metadata": {},
   "source": [
    "In this notebook we will investgate ways to rotate field objects in multiple differnt ways."
   ]
  },
  {
   "cell_type": "markdown",
   "id": "86bee479",
   "metadata": {},
   "source": [
    "## Defining rotations\n",
    "In order to rotate a vector, we can multiply the vector by a rotation matrix\n",
    "\\begin{equation}\n",
    "    v_2 = R v_1\n",
    "\\end{equation}\n",
    "where $v_1$ is the initial vetor, $v_2$ is the rotated vector, and $R$ is the rotation matrix.\n",
    "The rotation martix can be calculated using a variety of methods."
   ]
  },
  {
   "cell_type": "markdown",
   "id": "cd125530",
   "metadata": {},
   "source": [
    "![rotations1](Figures/coor_rotation.png)"
   ]
  },
  {
   "cell_type": "markdown",
   "id": "ffb89bc2",
   "metadata": {},
   "source": [
    "### Basic rotations\n",
    "For basic rotations, the rotation by an angle $\\theta$ can be specified for rotations about each of the $x$, $y$, and $z$ axis.\n",
    "\n",
    "The full rotation matrix for general rotations is given by\n",
    "\\begin{equation}\n",
    "    R = R_z \\left( \\theta_z\\right) R_y \\left( \\theta_y\\right) R_x \\left( \\theta_x\\right),\n",
    "\\end{equation}\n",
    "where,\n",
    "\\begin{align}\n",
    "    R_x \\left( \\theta_x\\right) & = \\begin{bmatrix}\n",
    "                                    1 & 0 & 0 \\\\\n",
    "                                    0 & \\cos\\theta_x & -\\sin \\theta_x \\\\\n",
    "                                    0 & \\sin\\theta_x & \\cos\\theta_x\n",
    "                                   \\end{bmatrix} \\\\\n",
    "    R_y \\left( \\theta_y\\right) & = \\begin{bmatrix}\n",
    "                                    \\cos\\theta_y & 0 & \\sin\\theta_y \\\\\n",
    "                                    0 & 1 & 0 \\\\\n",
    "                                    -\\sin\\theta_y & 0 & \\cos\\theta_y\n",
    "                                   \\end{bmatrix}\\\\\n",
    "    R_z \\left( \\theta_z\\right) & = \\begin{bmatrix}\n",
    "                                    \\cos\\theta_z & -\\sin\\theta_z & 0 \\\\\n",
    "                                    \\sin\\theta_z & \\cos\\theta_z & 0 \\\\\n",
    "                                    0 & 0 & 1\n",
    "                                   \\end{bmatrix}\n",
    "\\end{align}"
   ]
  },
  {
   "cell_type": "code",
   "execution_count": null,
   "id": "196115ba",
   "metadata": {},
   "outputs": [],
   "source": [
    "import numpy as np"
   ]
  },
  {
   "cell_type": "code",
   "execution_count": null,
   "id": "daf76a03",
   "metadata": {},
   "outputs": [],
   "source": [
    "def rot_x(theta_x):\n",
    "    r\"\"\" Rotation about the $x$ axis.\n",
    "    \"\"\"\n",
    "    return [[1, 0, 0],\n",
    "            [0, np.cos(theta_x), -np.sin(theta_x)],\n",
    "            [0, np.sin(theta_x), np.cos(theta_x)]]\n",
    "\n",
    "def rot_y(theta_y):\n",
    "    r\"\"\" Rotation about the $y$ axis.\n",
    "    \"\"\"\n",
    "    return [[np.cos(theta_y), 0, np.sin(theta_y)],\n",
    "            [0, 1, 0],\n",
    "            [-np.sin(theta_y), 0, np.cos(theta_y)]]\n",
    "\n",
    "def rot_z(theta_z):\n",
    "    r\"\"\" Rotation about the $z$ axis.\n",
    "    \"\"\"\n",
    "    return [[np.cos(theta_z), -np.sin(theta_z), 0],\n",
    "            [np.sin(theta_z), np.cos(theta_z), 0],\n",
    "            [0, 0, 1]]\n",
    "\n",
    "def rot_tot(theta_x=0, theta_y=0, theta_z=0):\n",
    "    r\"\"\" Full rotation matrix for basic roation method.\n",
    "    \"\"\"\n",
    "    return np.matmul(rot_z(theta_z),np.matmul(rot_y(theta_y), rot_x(theta_x)))\n",
    "\n",
    "def rot_vector_mat(v, r_matrix):\n",
    "    r\"\"\" Rotate vector based on matrix.\n",
    "    \"\"\"\n",
    "    return np.matmul(r_matrix, v)"
   ]
  },
  {
   "cell_type": "code",
   "execution_count": null,
   "id": "499a3a54",
   "metadata": {},
   "outputs": [],
   "source": [
    "theta_x = 0\n",
    "theta_y = 0\n",
    "theta_z = np.pi/2\n",
    "v1 = [1, 0, 0]\n",
    "r_mat = rot_tot(theta_x, theta_y, theta_z)\n",
    "v2 = rot_vector_mat(v1, r_mat)\n",
    "v2"
   ]
  },
  {
   "cell_type": "markdown",
   "id": "88f784d5",
   "metadata": {},
   "source": [
    "### Rotations about an axis\n",
    "Another way to define a rotation is by an angle $\\theta$ about an axis of a vector ${\\bf u}$.\n",
    "This leads to the rotatiom matrix\n",
    "\n",
    "\\begin{equation}\n",
    "    R = \\begin{bmatrix}\n",
    "         u_x^2 + (u_y^2 + u_z^2) \\cos\\theta & u_x u_y (1-\\cos\\theta) - u_z \\sin\\theta & u_x u_z (1-\\cos\\theta) + u_y \\sin\\theta \\\\\n",
    "         u_x u_y (1-\\cos\\theta) + u_z \\sin\\theta & u_y^2 + (u_x^2 + u_z^2) \\cos\\theta & u_y u_z (1-\\cos\\theta) - u_x \\sin\\theta \\\\\n",
    "         u_x u_z (1-\\cos\\theta) - u_y \\sin\\theta & u_y u_z (1-\\cos\\theta) + u_x \\sin\\theta & u_z^2 + (u_x^2 + u_y^2) \\cos\\theta\n",
    "        \\end{bmatrix}\n",
    "\\end{equation}"
   ]
  },
  {
   "cell_type": "markdown",
   "id": "4ce7b29c",
   "metadata": {},
   "source": [
    "![rotations3](Figures/rotation_about_v_2.png)"
   ]
  },
  {
   "cell_type": "code",
   "execution_count": null,
   "id": "a19bd2d3",
   "metadata": {},
   "outputs": [],
   "source": [
    "def rot_mat_about_axis(theta, axis):\n",
    "    r\"\"\" Full rotation matrix for roation about an axis method.\n",
    "    \"\"\"\n",
    "    L = np.linalg.norm(axis)\n",
    "    u = axis[0]/L\n",
    "    v = axis[1]/L\n",
    "    w = axis[2]/L\n",
    "    \n",
    "    line_1 = [u*u + (v*v + w*w) * np.cos(theta),\n",
    "              u*v*(1-np.cos(theta)) - w*np.sin(theta),\n",
    "              u*w*(1-np.cos(theta)) + v*np.sin(theta)]\n",
    "\n",
    "    line_2 = [u*v*(1-np.cos(theta)) + w*np.sin(theta),\n",
    "              v*v + (u*u + w*w) * np.cos(theta),\n",
    "              v*w*(1-np.cos(theta)) - u*np.sin(theta)]\n",
    "    \n",
    "    line_3 = [u*w*(1-np.cos(theta)) - v*np.sin(theta),\n",
    "              v*w*(1-np.cos(theta)) + u*np.sin(theta),\n",
    "              w*w + (u*u + v*v) * np.cos(theta)]\n",
    "    \n",
    "    return np.array([line_1, line_2, line_3])"
   ]
  },
  {
   "cell_type": "code",
   "execution_count": null,
   "id": "e8e34893",
   "metadata": {},
   "outputs": [],
   "source": [
    "theta = np.pi/2\n",
    "axis = (0, 0, 1)\n",
    "v1 = [1, 0, 0]\n",
    "r_mat = rot_mat_about_axis(theta, axis)\n",
    "v2 = rot_vector_mat(v1, r_mat)\n",
    "v2"
   ]
  },
  {
   "cell_type": "markdown",
   "id": "84de202e",
   "metadata": {},
   "source": [
    "### Rotation to from one axis to another\n",
    "The rotation matrix can also be calculated for rotating from one unit vector $a$ to another unit vector $b$ by using\n",
    "\\begin{equation}\n",
    "    R = I + [v]_\\times + \\frac{[v]_\\times^2}{1+c},\n",
    "\\end{equation}\n",
    "where $I$ is the $3\\times 3$ identity matrix, $v= a \\times b$ and is the skew-symmetric cross-procuct of $v$\n",
    "\\begin{equation}\n",
    "    [v]_\\times = \\begin{bmatrix}\n",
    "                  0 & -v_3 & v_2 \\\\\n",
    "                  v_3 & 0 & -v_1 \\\\\n",
    "                  -v_2 & v_1 & 0 \\\\\n",
    "                 \\end{bmatrix},\n",
    "\\end{equation}\n",
    "and $c= a \\cdot b$."
   ]
  },
  {
   "cell_type": "markdown",
   "id": "43582a8e",
   "metadata": {},
   "source": [
    "![rotations4](Figures/rotation_to_v.png)"
   ]
  },
  {
   "cell_type": "code",
   "execution_count": null,
   "id": "5e3c5da9",
   "metadata": {},
   "outputs": [],
   "source": [
    "def rot_mat_to_axis(to_vector,from_vector=[0,0,1]):\n",
    "    r\"\"\" Full rotation matrix for roation from one vector to another method.\n",
    "    \"\"\"\n",
    "    from_vector = from_vector/np.linalg.norm(from_vector)\n",
    "    to_vector = to_vector/np.linalg.norm(to_vector)\n",
    "    \n",
    "    #if np.allclose(to_vector,from_vector) or np.allclose(to_vector,-from_vector):\n",
    "    #    return np.identity(3)\n",
    "    \n",
    "    if np.allclose(to_vector,-from_vector):\n",
    "        return ValueError()\n",
    "    \n",
    "    cross = np.cross(from_vector, to_vector)\n",
    "    c = np.dot(from_vector, to_vector)\n",
    "    \n",
    "    v_x = np.array([[0, -cross[2], cross[1]],\n",
    "                    [cross[2], 0, -cross[0]],\n",
    "                    [-cross[1], cross[0],0]])\n",
    "    v_x2 = np.matmul(v_x,v_x)\n",
    "    \n",
    "    \n",
    "    r_mat = np.identity(3)\n",
    "    r_mat += v_x\n",
    "    r_mat += v_x2 / (1+c)\n",
    "    \n",
    "    return r_mat"
   ]
  },
  {
   "cell_type": "code",
   "execution_count": null,
   "id": "b2a8b920",
   "metadata": {},
   "outputs": [],
   "source": [
    "from_vector = (1, 0, 0)\n",
    "to_vector = (0, 1, 0)\n",
    "v1 = [1, 0, 0]\n",
    "r_mat = rot_mat_to_axis(to_vector, from_vector)\n",
    "v2 = rot_vector_mat(v1, r_mat)\n",
    "v2"
   ]
  },
  {
   "cell_type": "markdown",
   "id": "2c3b08b5",
   "metadata": {},
   "source": [
    "### Generation of a rotation matrix with differnt methods"
   ]
  },
  {
   "cell_type": "code",
   "execution_count": null,
   "id": "47505abc",
   "metadata": {},
   "outputs": [],
   "source": [
    "def rotation_matrix(method, **kwargs):\n",
    "    r\"\"\" Calculate rotation matrix for differnt methods.\n",
    "    \"\"\"\n",
    "\n",
    "    if method == 'basic':\n",
    "        return rot_tot(**kwargs)\n",
    "    elif method == 'about_axis':\n",
    "        return rot_mat_about_axis(**kwargs)\n",
    "    elif method == 'to_vector':\n",
    "        return rot_mat_to_axis(**kwargs)\n",
    "    else:\n",
    "        msg = f'Method {method} is unknown.'\n",
    "        raise ValueError(msg)\n"
   ]
  },
  {
   "cell_type": "code",
   "execution_count": null,
   "id": "affabe72",
   "metadata": {},
   "outputs": [],
   "source": [
    "r_mat = rotation_matrix_2('basic', theta_z=np.pi/2)\n",
    "v2 = rot_vector_mat(v1, r_mat)\n",
    "v2"
   ]
  },
  {
   "cell_type": "markdown",
   "id": "e60e7dac",
   "metadata": {},
   "source": [
    "## Rotations of field objects \n",
    "In order to rotate a field object, there are multiple steps that need to be computed such as the rotation of the vector field and the rotation of the mesh."
   ]
  },
  {
   "cell_type": "code",
   "execution_count": null,
   "id": "1ead5868",
   "metadata": {},
   "outputs": [],
   "source": [
    "import discretisedfield as df\n",
    "from scipy.interpolate import RegularGridInterpolator"
   ]
  },
  {
   "cell_type": "markdown",
   "id": "a754f4f4",
   "metadata": {},
   "source": [
    "#### Calculating new region\n",
    "The new region is calculated using a method with make sure the new region is the correct size without any wasted space. This adaptive sizing is demonstrated for 2D in the following figure\n",
    "![region](Figures/new_region.png)"
   ]
  },
  {
   "cell_type": "code",
   "execution_count": null,
   "id": "0a9d5b93",
   "metadata": {},
   "outputs": [],
   "source": [
    "def calculate_new_region(field, r_matrix):\n",
    "    edges = np.array(field.mesh.region.edges)\n",
    "    rot_edge_x = abs(rot_vector_mat([edges[0], 0, 0], r_matrix))\n",
    "    rot_edge_y = abs(rot_vector_mat([0, edges[1], 0], r_matrix))\n",
    "    rot_edge_z = abs(rot_vector_mat([0, 0, edges[2]], r_matrix))\n",
    "    tot_edge_len = rot_edge_x + rot_edge_y + rot_edge_z\n",
    "    p1_new = field.mesh.region.centre - tot_edge_len/2\n",
    "    p2_new = field.mesh.region.centre + tot_edge_len/2\n",
    "    return df.Region(p1=p1_new, p2=p2_new)"
   ]
  },
  {
   "cell_type": "markdown",
   "id": "03101213",
   "metadata": {},
   "source": [
    "#### Calculating the new number of cells\n",
    "If the number of desired cell is not stipulated. At the moment this is done by calculating the cell shape in the new mesh and  "
   ]
  },
  {
   "cell_type": "code",
   "execution_count": null,
   "id": "c630d384",
   "metadata": {},
   "outputs": [],
   "source": [
    "def calculate_new_n(field, new_region, r_matrix):\n",
    "    d_arr_rot_x = abs(rot_vector_mat([field.mesh.dx, 0, 0], r_matrix))\n",
    "    d_arr_rot_y = abs(rot_vector_mat([0, field.mesh.dy, 0], r_matrix))\n",
    "    d_arr_rot_z = abs(rot_vector_mat([0, 0, field.mesh.dz], r_matrix))\n",
    "    d_arr_rot = d_arr_rot_x + d_arr_rot_y + d_arr_rot_z\n",
    "    new_n = np.ceil(np.divide(new_region.edges, d_arr_rot)).astype(int).tolist()\n",
    "    return new_n"
   ]
  },
  {
   "cell_type": "code",
   "execution_count": null,
   "id": "d3c04281",
   "metadata": {},
   "outputs": [],
   "source": [
    "def calculate_new_n_2(field, new_region, r_matrix):\n",
    "    d_arr_rot_x = abs(rot_vector_mat([field.mesh.dx, 0, 0], r_matrix))\n",
    "    d_arr_rot_y = abs(rot_vector_mat([0, field.mesh.dy, 0], r_matrix))\n",
    "    d_arr_rot_z = abs(rot_vector_mat([0, 0, field.mesh.dz], r_matrix))\n",
    "    d_arr_rot = d_arr_rot_x + d_arr_rot_y + d_arr_rot_z\n",
    "    vol_new = np.prod(d_arr_rot)\n",
    "    vol_old = field.mesh.dV\n",
    "    adjust = (vol_old/vol_new)**(1/3)\n",
    "    new_n = np.round(np.divide(new_region.edges, d_arr_rot*adjust)).astype(int).tolist()\n",
    "    return new_n"
   ]
  },
  {
   "cell_type": "markdown",
   "id": "3676ccd3",
   "metadata": {},
   "source": [
    "#### Rotating the field\n",
    "The vectors of the field are first rotated into the new reference frame. Interpolation functions are created from the original mesh and new field vectors. The new mesh is then mapped back onto the old mesh and the interpolation functions are used to determine the value of the rotated field on the rotated mesh."
   ]
  },
  {
   "cell_type": "code",
   "execution_count": null,
   "id": "ed1a0647",
   "metadata": {},
   "outputs": [],
   "source": [
    "def rotate_field_components(field, r_matrix):\n",
    "    pre_rot_field = np.concatenate([field.array[..., 0].flatten()[..., None],\n",
    "                                    field.array[..., 1].flatten()[..., None],\n",
    "                                    field.array[..., 2].flatten()[..., None]], axis=1)\n",
    "    rot_field = []\n",
    "    for v in pre_rot_field:\n",
    "        rot_field.append(rot_vector_mat(v, r_matrix))\n",
    "    return np.array(rot_field).reshape(field.mesh.n + (field.dim,))\n",
    "\n",
    "\n",
    "def create_interpolation_funcs(field, rot_field):\n",
    "    mesh_field = df.Field(mesh=field.mesh, dim=3, value=lambda x: x)\n",
    "    x = mesh_field.array[:, 0, 0, 0] - field.mesh.region.centre[0] # To rotate about center od mesh\n",
    "    y = mesh_field.array[0, :, 0, 1] - field.mesh.region.centre[1]\n",
    "    z = mesh_field.array[0, 0, :, 2] - field.mesh.region.centre[2]\n",
    "    mx = np.pad(rot_field[..., 0], pad_width=((1,1), (1,1), (1,1)), mode='edge') # Pad by 1 to deal with edge effects\n",
    "    my = np.pad(rot_field[..., 1], pad_width=((1,1), (1,1), (1,1)), mode='edge')\n",
    "    mz = np.pad(rot_field[..., 2], pad_width=((1,1), (1,1), (1,1)), mode='edge')\n",
    "    \n",
    "    tol = 1e-5\n",
    "    x = np.array([x[0] - field.mesh.dx/2*(1+tol), *x, x[-1] + field.mesh.dx/2*(1+tol)]) # Add coordinate of boundary\n",
    "    y = np.array([y[0] - field.mesh.dy/2*(1+tol), *y, y[-1] + field.mesh.dy/2*(1+tol)]) \n",
    "    z = np.array([z[0] - field.mesh.dz/2*(1+tol), *z, z[-1] + field.mesh.dz/2*(1+tol)])\n",
    "    interp_func_mx = RegularGridInterpolator((x, y, z), mx, fill_value=0.0, bounds_error=False)\n",
    "    interp_func_my = RegularGridInterpolator((x, y, z), my, fill_value=0.0, bounds_error=False)\n",
    "    interp_func_mz = RegularGridInterpolator((x, y, z), mz, fill_value=0.0, bounds_error=False)\n",
    "    \n",
    "    return (interp_func_mx, interp_func_my, interp_func_mz)\n",
    "\n",
    "def map_and_interpolate(new_mesh, r_matrix, interp_funcs):\n",
    "    inv_r_matrix = np.linalg.inv(r_matrix) ## Inverse rotation matrix\n",
    "    \n",
    "    new_mesh_field = df.Field(mesh=new_mesh, dim=3, value=lambda x: x)\n",
    "    new_mesh_pos = np.concatenate([new_mesh_field.array[..., 0].flatten()[..., None] - field.mesh.region.centre[0],\n",
    "                                   new_mesh_field.array[..., 1].flatten()[..., None] - field.mesh.region.centre[1],\n",
    "                                   new_mesh_field.array[..., 2].flatten()[..., None] - field.mesh.region.centre[2]], axis=1)\n",
    "\n",
    "    ### Map new mesh onto the old mesh\n",
    "    new_pos_old_mesh = []\n",
    "    for mp in new_mesh_pos:\n",
    "        new_pos_old_mesh.append(rot_vector_mat(mp, inv_r_matrix))\n",
    "    new_pos_old_mesh = np.array(new_pos_old_mesh)\n",
    "\n",
    "    ### Get values of field at new mesh locations\n",
    "    interp_func_mx = interp_funcs[0]\n",
    "    interp_func_my = interp_funcs[1]\n",
    "    interp_func_mz = interp_funcs[2]\n",
    "    new_mx = interp_func_mx(new_pos_old_mesh).reshape(new_mesh.n)\n",
    "    new_my = interp_func_my(new_pos_old_mesh).reshape(new_mesh.n)\n",
    "    new_mz = interp_func_mz(new_pos_old_mesh).reshape(new_mesh.n)\n",
    "    return np.stack([new_mx,new_my,new_mz], axis=3)"
   ]
  },
  {
   "cell_type": "code",
   "execution_count": null,
   "id": "0f861f2f",
   "metadata": {},
   "outputs": [],
   "source": [
    "def rotate_field(field, method, rot_dic, n=None):\n",
    "    ### Rotation matrix\n",
    "    r_matrix = rotation_matrix(method, rot_dic = rot_dic)\n",
    "    \n",
    "    ### Calculate new region\n",
    "    new_region = calculate_new_region(field, r_matrix)\n",
    "    \n",
    "    ### Calculate new number of cells\n",
    "    if n is None:\n",
    "        new_n = calculate_new_n_2(field, new_region, r_matrix)\n",
    "    else:\n",
    "        new_n = n\n",
    "        \n",
    "    ### Create new mesh\n",
    "    new_mesh = df.Mesh(region=new_region, n=new_n)\n",
    "    \n",
    "    ### Rotate Field vectors\n",
    "    rot_field = rotate_field_components(field, r_matrix)\n",
    "\n",
    "    ### Create intepolation\n",
    "    interp_funcs = create_interpolation_funcs(field, rot_field)\n",
    "    \n",
    "    ### Calculate field at new mesh positions\n",
    "    new_m = map_and_interpolate(new_mesh, r_matrix, interp_funcs)\n",
    "\n",
    "    ### Construct new field\n",
    "    return df.Field(mesh=new_mesh, dim=3, value=new_m)"
   ]
  },
  {
   "cell_type": "markdown",
   "id": "342510ea",
   "metadata": {},
   "source": [
    "region = df.Region(p1=(0, 0, 0), p2=(11, 11, 11))\n",
    "mesh = df.Mesh(region=region, cell=(1,1,1))\n",
    "field = df.Field(mesh=mesh, dim=3, value=(1, 1, 1))\n",
    "field.plane('z').mpl()"
   ]
  },
  {
   "cell_type": "code",
   "execution_count": null,
   "id": "3a830fe3",
   "metadata": {},
   "outputs": [],
   "source": [
    "region = df.Region(p1=(-5, -5, 0), p2=(5, 5, 1))\n",
    "mesh = df.Mesh(region=region, n=(11,5,1))\n",
    "def mag(pos):\n",
    "    x, y, z = pos\n",
    "    return [-y,x,1]\n",
    "\n",
    "field = df.Field(mesh=mesh, dim=3, value=mag, norm=1)\n",
    "field.plane('z').mpl()"
   ]
  },
  {
   "cell_type": "code",
   "execution_count": null,
   "id": "492e2c42",
   "metadata": {},
   "outputs": [],
   "source": [
    "field.k3d.vector()"
   ]
  },
  {
   "cell_type": "code",
   "execution_count": null,
   "id": "bc8e54ac",
   "metadata": {},
   "outputs": [],
   "source": [
    "#method = 'basic'\n",
    "#rot_dic = {'theta_x' : np.pi/4}\n",
    "method = 'to_vector'\n",
    "rot_dic = {'to_vector' : (1,1,1), 'from_vector' : (0,0,1)}\n",
    "new_field = rotate_field(field, method, rot_dic=rot_dic)"
   ]
  },
  {
   "cell_type": "code",
   "execution_count": null,
   "id": "46a81bd0",
   "metadata": {},
   "outputs": [],
   "source": [
    "method = 'to_vector'\n",
    "rot_dic = {'from_vector' : (1,1,1), 'to_vector' : (0,0,1)}\n",
    "new_field_2 = rotate_field(new_field, method, rot_dic=rot_dic)"
   ]
  },
  {
   "cell_type": "code",
   "execution_count": null,
   "id": "10b51bbd",
   "metadata": {},
   "outputs": [],
   "source": []
  },
  {
   "cell_type": "code",
   "execution_count": null,
   "id": "092358c6",
   "metadata": {},
   "outputs": [],
   "source": [
    "new_field_2.mesh"
   ]
  },
  {
   "cell_type": "code",
   "execution_count": null,
   "id": "2e10457e",
   "metadata": {},
   "outputs": [],
   "source": [
    "new_field.mesh.dV"
   ]
  },
  {
   "cell_type": "code",
   "execution_count": null,
   "id": "55aa3337",
   "metadata": {},
   "outputs": [],
   "source": [
    "new_field_2.plane(z=1.5).y.mpl()"
   ]
  },
  {
   "cell_type": "code",
   "execution_count": null,
   "id": "4e1914f7",
   "metadata": {},
   "outputs": [],
   "source": [
    "new_field_2.norm.k3d.nonzero()"
   ]
  },
  {
   "cell_type": "code",
   "execution_count": null,
   "id": "5110cfb6",
   "metadata": {},
   "outputs": [],
   "source": [
    "new_field.integral('z').z.mpl()"
   ]
  },
  {
   "cell_type": "code",
   "execution_count": null,
   "id": "5c841eab",
   "metadata": {},
   "outputs": [],
   "source": [
    "new_field_2.k3d.vector()"
   ]
  },
  {
   "cell_type": "code",
   "execution_count": null,
   "id": "6d5c5c6a",
   "metadata": {},
   "outputs": [],
   "source": [
    "%%timeit\n",
    "rotate_field(field, method, rot_dic=rot_dic, n=(61,61,61))"
   ]
  },
  {
   "cell_type": "code",
   "execution_count": 1,
   "id": "8df35425",
   "metadata": {},
   "outputs": [],
   "source": [
    "import discretisedfield as df\n",
    "import numpy as np"
   ]
  },
  {
   "cell_type": "code",
   "execution_count": 2,
   "id": "05593a18",
   "metadata": {},
   "outputs": [
    {
     "data": {
      "image/png": "[encoded data removed]",
      "text/plain": [
       "<Figure size 576x432 with 2 Axes>"
      ]
     },
     "metadata": {},
     "output_type": "display_data"
    }
   ],
   "source": [
    "region = df.Region(p1=(-5, -5, 0), p2=(5, 5, 1))\n",
    "mesh = df.Mesh(region=region, n=(11,5,1))\n",
    "def mag(pos):\n",
    "    x, y, z = pos\n",
    "    return [-y,x,1]\n",
    "\n",
    "field = df.Field(mesh=mesh, dim=3, value=mag, norm=1)\n",
    "field.plane('z').mpl()"
   ]
  },
  {
   "cell_type": "code",
   "execution_count": 42,
   "id": "fc3a6dfb",
   "metadata": {},
   "outputs": [],
   "source": [
    "f2 = field.rotate(method='from_euler', seq='xyz', angles=(0,0,np.pi/2))"
   ]
  },
  {
   "cell_type": "code",
   "execution_count": 45,
   "id": "c72ee9ef",
   "metadata": {
    "scrolled": false
   },
   "outputs": [
    {
     "ename": "AttributeError",
     "evalue": "Object has no attribute integral.",
     "output_type": "error",
     "traceback": [
      "\u001b[1;31m---------------------------------------------------------------------------\u001b[0m",
      "\u001b[1;31mAttributeError\u001b[0m                            Traceback (most recent call last)",
      "\u001b[1;32m<ipython-input-45-1de8ef473e87>\u001b[0m in \u001b[0;36m<module>\u001b[1;34m\u001b[0m\n\u001b[1;32m----> 1\u001b[1;33m \u001b[0mf2\u001b[0m\u001b[1;33m.\u001b[0m\u001b[0mintegral\u001b[0m\u001b[1;33m(\u001b[0m\u001b[1;34m'z'\u001b[0m\u001b[1;33m)\u001b[0m\u001b[1;33m\u001b[0m\u001b[1;33m\u001b[0m\u001b[0m\n\u001b[0m",
      "\u001b[1;32mc:\\users\\samjr_ym2i32\\onedrive - university of warwick\\ubermag_pd\\ubermag_dev\\discretisedfield\\discretisedfield\\field.py\u001b[0m in \u001b[0;36m__getattr__\u001b[1;34m(self, attr)\u001b[0m\n\u001b[0;32m    671\u001b[0m         \u001b[1;32melse\u001b[0m\u001b[1;33m:\u001b[0m\u001b[1;33m\u001b[0m\u001b[1;33m\u001b[0m\u001b[0m\n\u001b[0;32m    672\u001b[0m             \u001b[0mmsg\u001b[0m \u001b[1;33m=\u001b[0m \u001b[1;34mf'Object has no attribute {attr}.'\u001b[0m\u001b[1;33m\u001b[0m\u001b[1;33m\u001b[0m\u001b[0m\n\u001b[1;32m--> 673\u001b[1;33m             \u001b[1;32mraise\u001b[0m \u001b[0mAttributeError\u001b[0m\u001b[1;33m(\u001b[0m\u001b[0mmsg\u001b[0m\u001b[1;33m)\u001b[0m\u001b[1;33m\u001b[0m\u001b[1;33m\u001b[0m\u001b[0m\n\u001b[0m\u001b[0;32m    674\u001b[0m \u001b[1;33m\u001b[0m\u001b[0m\n\u001b[0;32m    675\u001b[0m     \u001b[1;32mdef\u001b[0m \u001b[0m__dir__\u001b[0m\u001b[1;33m(\u001b[0m\u001b[0mself\u001b[0m\u001b[1;33m)\u001b[0m\u001b[1;33m:\u001b[0m\u001b[1;33m\u001b[0m\u001b[1;33m\u001b[0m\u001b[0m\n",
      "\u001b[1;31mAttributeError\u001b[0m: Object has no attribute integral."
     ]
    }
   ],
   "source": [
    "f2.integral('z')"
   ]
  },
  {
   "cell_type": "code",
   "execution_count": 56,
   "id": "7a1dc0fb",
   "metadata": {},
   "outputs": [],
   "source": [
    "field_rotator = df.FieldRotator(field)"
   ]
  },
  {
   "cell_type": "code",
   "execution_count": 63,
   "id": "b209fcda",
   "metadata": {},
   "outputs": [],
   "source": [
    "field_rotator.rotate(method='from_euler', seq='z', angles=np.pi/4, n=(20,20,2))"
   ]
  },
  {
   "cell_type": "code",
   "execution_count": 64,
   "id": "2ffeb31d",
   "metadata": {},
   "outputs": [
    {
     "data": {
      "image/png": "[encoded data removed]",
      "text/plain": [
       "<Figure size 576x432 with 2 Axes>"
      ]
     },
     "metadata": {},
     "output_type": "display_data"
    }
   ],
   "source": [
    "field_rotator.field.plane('z').mpl()"
   ]
  },
  {
   "cell_type": "code",
   "execution_count": null,
   "id": "17ab016e",
   "metadata": {},
   "outputs": [],
   "source": []
  }
 ],
 "metadata": {
  "kernelspec": {
   "display_name": "ubermagdev",
   "language": "python",
   "name": "ubermagdev"
  },
  "language_info": {
   "codemirror_mode": {
    "name": "ipython",
    "version": 3
   },
   "file_extension": ".py",
   "mimetype": "text/x-python",
   "name": "python",
   "nbconvert_exporter": "python",
   "pygments_lexer": "ipython3",
   "version": "3.9.5"
  }
 },
 "nbformat": 4,
 "nbformat_minor": 5
}
