{
 "cells": [
  {
   "cell_type": "code",
   "execution_count": 1,
   "metadata": {
    "collapsed": true
   },
   "outputs": [],
   "source": [
    "import discretisedfield as df\n",
    "mesh = df.Mesh(p1=(-1, -1, -1), p2=(1, 1, 1), cell=(0.2, 0.2, 0.2))\n",
    "field = df.Field(mesh)"
   ]
  },
  {
   "cell_type": "code",
   "execution_count": 5,
   "metadata": {
    "collapsed": true
   },
   "outputs": [],
   "source": [
    "mesh.v"
   ]
  },
  {
   "cell_type": "code",
   "execution_count": 2,
   "metadata": {
    "collapsed": true
   },
   "outputs": [],
   "source": [
    "def val(pos):\n",
    "    x, y, z = pos\n",
    "    return y, x, x*y\n",
    "\n",
    "field.value = val"
   ]
  },
  {
   "cell_type": "code",
   "execution_count": 3,
   "metadata": {
    "collapsed": true
   },
   "outputs": [],
   "source": [
    "field.plot_plane(x=0)"
   ]
  },
  {
   "cell_type": "code",
   "execution_count": 4,
   "metadata": {},
   "outputs": [
    {
     "name": "stderr",
     "output_type": "stream",
     "text": [
      "Widget Javascript not detected.  It may not be installed or enabled properly.\n"
     ]
    },
    {
     "data": {
      "application/vnd.jupyter.widget-view+json": {
       "model_id": "cfe229f706534859ae0623de21e36f6f"
      }
     },
     "metadata": {},
     "output_type": "display_data"
    }
   ],
   "source": [
    "from ipywidgets import interact\n",
    "import matplotlib.pyplot as plt\n",
    "\n",
    "@interact(direction=['x', 'y', 'z'], slice_at=(-1.0, 1.0))\n",
    "def plotter(direction='x', slice_at=0):\n",
    "    kwargs = {direction: slice_at}\n",
    "    field.plot_plane(**kwargs)\n",
    "    plt.show()\n",
    "    plt.close()"
   ]
  },
  {
   "cell_type": "code",
   "execution_count": 11,
   "metadata": {},
   "outputs": [
    {
     "data": {
      "application/vnd.jupyter.widget-view+json": {
       "model_id": "b33a63fee7eb4410ae82c1eef023c4d7"
      }
     },
     "metadata": {},
     "output_type": "display_data"
    },
    {
     "data": {
      "application/vnd.jupyter.widget-view+json": {
       "model_id": "8eb67dbb26034dbba71eb678c8023609"
      }
     },
     "metadata": {},
     "output_type": "display_data"
    }
   ],
   "source": [
    "from ipywidgets import HBox, FloatSlider, Dropdown, Output\n",
    "from IPython.display import display\n",
    "\n",
    "direction = Dropdown(options=['x', 'y', 'z'], description='axis')\n",
    "slice_at = FloatSlider(min=-1.0, max=1.0, value=0.0, description='at')\n",
    "box = HBox([direction, slice_at])\n",
    "out = Output()\n",
    "def replot(change=None):\n",
    "    out.clear_output(wait=True)\n",
    "    kwargs = {direction.value: slice_at.value}\n",
    "    field.plot_plane(**kwargs)\n",
    "    with out:\n",
    "        plt.show()\n",
    "        print(\"field.plot_plane()\")\n",
    "    plt.close()\n",
    "\n",
    "direction.observe(replot, 'value')\n",
    "slice_at.observe(replot, 'value')\n",
    "display(box)\n",
    "display(out)"
   ]
  },
  {
   "cell_type": "code",
   "execution_count": null,
   "metadata": {
    "collapsed": true
   },
   "outputs": [],
   "source": []
  }
 ],
 "metadata": {
  "kernelspec": {
   "display_name": "Python 3",
   "language": "python",
   "name": "python3"
  },
  "language_info": {
   "codemirror_mode": {
    "name": "ipython",
    "version": 3
   },
   "file_extension": ".py",
   "mimetype": "text/x-python",
   "name": "python",
   "nbconvert_exporter": "python",
   "pygments_lexer": "ipython3",
   "version": "3.5.2"
  }
 },
 "nbformat": 4,
 "nbformat_minor": 2
}
