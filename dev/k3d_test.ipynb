{
 "cells": [
  {
   "cell_type": "markdown",
   "metadata": {},
   "source": [
    "# Exploration of k3d usage for discretisedfield visualisation"
   ]
  },
  {
   "cell_type": "code",
   "execution_count": 1,
   "metadata": {},
   "outputs": [],
   "source": [
    "import k3d\n",
    "import matplotlib\n",
    "import numpy as np\n",
    "import discretisedfield as df\n",
    "%matplotlib inline"
   ]
  },
  {
   "cell_type": "markdown",
   "metadata": {},
   "source": [
    "## Mesh and field objects to be visualised\n",
    "\n",
    "Mesh has dimensions 10 x 6 x 4 to accommodate an ellipsoid\n",
    "\n",
    "$$\\frac{x^2}{a^2} + \\frac{y^2}{b^2} + \\frac{z^2}{c^2} <= 1$$\n",
    "\n",
    "with: $a=5$, $b=3$, and $c=2$. The space is discretised into cells with dimensions $(1, 1, 1)$."
   ]
  },
  {
   "cell_type": "code",
   "execution_count": 2,
   "metadata": {},
   "outputs": [],
   "source": [
    "a, b, c = 5, 3, 2\n",
    "\n",
    "mesh =  df.Mesh(p1=(-a, -b, -c), p2=(a, b, c), cell=(0.5, 0.5, 0.5))"
   ]
  },
  {
   "cell_type": "markdown",
   "metadata": {},
   "source": [
    "We define the ellipsoid geometry by specifying the norm function, which returns 0 outside the sample."
   ]
  },
  {
   "cell_type": "code",
   "execution_count": 3,
   "metadata": {},
   "outputs": [],
   "source": [
    "def norm_fun(pos):\n",
    "    x, y, z = pos\n",
    "    if (x/a)**2 + (y/b)**2 + (z/c)**2 <= 1:\n",
    "        return 0.5\n",
    "    else:\n",
    "        return 0\n",
    "    \n",
    "def value_fun(pos):\n",
    "    x, y, z = pos\n",
    "    if x >= 0:\n",
    "        return (x*y*z, x*z, y*z)\n",
    "    else:\n",
    "        return (1, 1, 1)\n",
    "\n",
    "field = df.Field(mesh, value=value_fun, norm=norm_fun)"
   ]
  },
  {
   "cell_type": "markdown",
   "metadata": {},
   "source": [
    "### The plot of a slice in the $x$ direction:"
   ]
  },
  {
   "cell_type": "code",
   "execution_count": 54,
   "metadata": {
    "scrolled": false
   },
   "outputs": [
    {
     "data": {
      "application/vnd.jupyter.widget-view+json": {
       "model_id": "9b6ee3dd11a0476ab18b633a6aed3411",
       "version_major": 2,
       "version_minor": 0
      },
      "text/plain": [
       "Output()"
      ]
     },
     "metadata": {},
     "output_type": "display_data"
    },
    {
     "data": {
      "image/png": "[encoded data removed]",
      "text/plain": [
       "<Figure size 432x288 with 2 Axes>"
      ]
     },
     "metadata": {
      "needs_background": "light"
     },
     "output_type": "display_data"
    }
   ],
   "source": [
    "import pylab\n",
    "def colormap(name, n=256):\n",
    "    \"\"\"Returns a list of tuple (r, g, b) colors.\"\"\"\n",
    "    cmap = pylab.cm.get_cmap(name, n)\n",
    "    cmap_list = []\n",
    "    for i in range(cmap.N):\n",
    "        cmap_list.append(cmap(i)[:3])\n",
    "\n",
    "    return np.array(cmap_list)\n",
    "\n",
    "def get_int_component(field_component):\n",
    "    max_value = np.nanmax(field_component)\n",
    "    min_value = np.nanmin(field_component)\n",
    "    value_range = max_value - min_value\n",
    "\n",
    "    nx, ny, nz = field_component.shape\n",
    "\n",
    "    # Put values in 0-255 range\n",
    "    if value_range != 0:\n",
    "        int_component = (field_component + abs(min_value)) / value_range * 254\n",
    "        int_component += 30\n",
    "    else:\n",
    "        int_component = 128 * np.ones(field_component.shape)  # place in the middle of colormap\n",
    "\n",
    "    for i in range(nx):\n",
    "        for j in range(ny):\n",
    "            for k in range(nz):\n",
    "                if np.isnan(field_component[i, j, k]):\n",
    "                    int_component[i, j, k] = 0\n",
    "                else:\n",
    "                    int_component[i, j, k] = int(int_component[i, j, k])\n",
    "    \n",
    "    \n",
    "    return int_component\n",
    "\n",
    "\n",
    "field_array = field.array.copy()\n",
    "nx, ny, nz, _ = field.array.shape\n",
    "\n",
    "# chose x,y,z plane and component {1, 2, 3}\n",
    "data = [(i[0], i[1][0]) for i in field.plane(x=0)] \n",
    "coord, value = zip(*data)\n",
    "coord, value = np.array(coord), np.array(value)\n",
    "\n",
    "# reshape by chosed plane\n",
    "value = value.reshape(1, ny, nz)\n",
    "value[value == 0] = 'nan'\n",
    "#print(value)\n",
    "\n",
    "# return integer value in range 0-255\n",
    "value = get_int_component(value)\n",
    "#print(value)\n",
    "\n",
    "# swap z <--> x axis\n",
    "value = np.swapaxes(value, 0, 2)\n",
    "#print(value.shape)\n",
    "value = value.astype(np.uint8)\n",
    "#print(value)\n",
    "\n",
    "# colors (gray, viridis)\n",
    "cmap = colormap('gray', 256)\n",
    "colors = cmap[value]\n",
    "#print(colors)\n",
    "dim = np.prod(np.array(colors.shape[:-1]))\n",
    "colors = colors.reshape((dim, 3))\n",
    "colors = ['0x{}'.format(matplotlib.colors.rgb2hex(rgb)[1:]) for rgb in colors]\n",
    "colors = [int(i, 16) for i in colors]\n",
    "\n",
    "# TODO change boundary by selected plane\n",
    "xmin,ymin,zmin = field.mesh.pmin\n",
    "xmax,ymax,zmax = field.mesh.pmax\n",
    "xmin=-0.1; xmax=0.1\n",
    "\n",
    "plot = k3d.plot()\n",
    "plt_vox = k3d.voxels(value,\n",
    "                     color_map=colors,\n",
    "                     xmin=xmin,xmax=xmax,\n",
    "                     ymin=ymin,ymax=ymax,\n",
    "                     zmin=zmin,zmax=zmax,\n",
    "                     outlines=False)\n",
    "\n",
    "plot += plt_vox\n",
    "plot.display()\n",
    "\n",
    "field.plot_plane(x=0)"
   ]
  },
  {
   "cell_type": "markdown",
   "metadata": {},
   "source": [
    "# Simple example"
   ]
  },
  {
   "cell_type": "code",
   "execution_count": 70,
   "metadata": {},
   "outputs": [
    {
     "data": {
      "application/vnd.jupyter.widget-view+json": {
       "model_id": "b429a037380f4f6db1215937b0ccd640",
       "version_major": 2,
       "version_minor": 0
      },
      "text/plain": [
       "Output()"
      ]
     },
     "metadata": {},
     "output_type": "display_data"
    },
    {
     "data": {
      "text/plain": [
       "array([[[0, 1, 2, 3, 2, 1, 0],\n",
       "        [1, 2, 3, 4, 3, 2, 1],\n",
       "        [2, 3, 4, 5, 4, 3, 2],\n",
       "        [3, 4, 5, 6, 5, 4, 3],\n",
       "        [2, 3, 4, 5, 4, 3, 2],\n",
       "        [1, 2, 3, 4, 3, 2, 1],\n",
       "        [0, 1, 2, 3, 2, 1, 0]]])"
      ]
     },
     "execution_count": 70,
     "metadata": {},
     "output_type": "execute_result"
    }
   ],
   "source": [
    "value = [0, 1, 2, 3, 2, 1, 0,\n",
    "         1, 2, 3, 4, 3, 2, 1,\n",
    "         2, 3, 4, 5, 4, 3, 2,\n",
    "         3, 4, 5, 6, 5, 4, 3,\n",
    "         2, 3, 4, 5, 4, 3, 2,\n",
    "         1, 2, 3, 4, 3, 2, 1,\n",
    "         0, 1, 2, 3, 2, 1, 0\n",
    "        ]\n",
    "value = np.array(value)\n",
    "value = value.reshape((1, 7, 7))\n",
    "value = value * 1\n",
    "\n",
    "xmin = -1; xmax = +1\n",
    "ymin = -1; ymax = +1\n",
    "zmin = -0.1; zmax = +0.1\n",
    "\n",
    "cmap = colormap('viridis', 256)\n",
    "\n",
    "colors = cmap[value]\n",
    "#print(colors)\n",
    "dim = np.prod(np.array(colors.shape[:-1]))\n",
    "colors = colors.reshape((dim, 3))\n",
    "colors = ['0x{}'.format(matplotlib.colors.rgb2hex(rgb)[1:]) for rgb in colors]\n",
    "colors = [int(i, 16) for i in colors]\n",
    "#print(colors)\n",
    "\n",
    "plot = k3d.plot()\n",
    "plt_vox = k3d.voxels((value).astype(np.uint8),\n",
    "                     #color_map=colors,\n",
    "                     xmin=xmin,xmax=xmax,\n",
    "                     ymin=ymin,ymax=ymax,\n",
    "                     zmin=zmin,zmax=zmax,\n",
    "                     outlines=False)\n",
    "\n",
    "plot += plt_vox\n",
    "plot.display()\n",
    "value"
   ]
  },
  {
   "cell_type": "code",
   "execution_count": null,
   "metadata": {},
   "outputs": [],
   "source": []
  }
 ],
 "metadata": {
  "kernelspec": {
   "display_name": "Python 3",
   "language": "python",
   "name": "python3"
  },
  "language_info": {
   "codemirror_mode": {
    "name": "ipython",
    "version": 3
   },
   "file_extension": ".py",
   "mimetype": "text/x-python",
   "name": "python",
   "nbconvert_exporter": "python",
   "pygments_lexer": "ipython3",
   "version": "3.7.0"
  }
 },
 "nbformat": 4,
 "nbformat_minor": 2
}
