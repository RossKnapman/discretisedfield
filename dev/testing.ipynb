{
 "cells": [
  {
   "cell_type": "code",
   "execution_count": 1,
   "metadata": {},
   "outputs": [],
   "source": [
    "import k3d\n",
    "import ipywidgets\n",
    "import discretisedfield as df\n",
    "import discretisedfield.util as dfu\n",
    "%matplotlib inline\n",
    "\n",
    "p1 = (-5e-9, -5e-9, -2e-9)\n",
    "p2 = (5e-9, 5e-9, 10e-9)\n",
    "cell = (1e-9, 1e-9, 1e-9)\n",
    "mesh = df.Mesh(p1=p1, p2=p2, cell=cell)\n",
    "\n",
    "value_fun = lambda pos: (pos[0], pos[1], pos[2]*pos[1])\n",
    "\n",
    "def norm_fun(pos):\n",
    "    x, y, z = pos\n",
    "    if x**2 + y**2 < 5e-9**2:\n",
    "        return 1\n",
    "    else:\n",
    "        return 0\n",
    "    \n",
    "field = df.Field(mesh, dim=3, value=value_fun, norm=norm_fun)"
   ]
  },
  {
   "cell_type": "code",
   "execution_count": 3,
   "metadata": {},
   "outputs": [
    {
     "data": {
      "application/vnd.jupyter.widget-view+json": {
       "model_id": "e6bb9cf923cb4bdca25ebedb2c56026b",
       "version_major": 2,
       "version_minor": 0
      },
      "text/plain": [
       "Output()"
      ]
     },
     "metadata": {},
     "output_type": "display_data"
    },
    {
     "data": {
      "application/vnd.jupyter.widget-view+json": {
       "model_id": "8725dd1adc544d01ab08ebc8f054adf0",
       "version_major": 2,
       "version_minor": 0
      },
      "text/plain": [
       "interactive(children=(SelectionSlider(description='x (nm)', index=5, options=((-4.5, -4.5e-09), (-3.5, -3.5e-0…"
      ]
     },
     "metadata": {},
     "output_type": "display_data"
    }
   ],
   "source": [
    "plot = k3d.plot()\n",
    "plot.display()\n",
    "\n",
    "@ipywidgets.interact(z=field.mesh.slider('x', continuous_update=True),\n",
    "                     axis=field.mesh.axis_selection())\n",
    "def myplot(z, axis):\n",
    "    getattr(field, axis).plane(x=z).k3d_voxels(filter_field=field.norm,\n",
    "                                               interactive=True,\n",
    "                                               total_region=field.mesh.region, plot=plot)"
   ]
  }
 ],
 "metadata": {
  "kernelspec": {
   "display_name": "Python 3",
   "language": "python",
   "name": "python3"
  },
  "language_info": {
   "codemirror_mode": {
    "name": "ipython",
    "version": 3
   },
   "file_extension": ".py",
   "mimetype": "text/x-python",
   "name": "python",
   "nbconvert_exporter": "python",
   "pygments_lexer": "ipython3",
   "version": "3.7.4"
  }
 },
 "nbformat": 4,
 "nbformat_minor": 4
}
