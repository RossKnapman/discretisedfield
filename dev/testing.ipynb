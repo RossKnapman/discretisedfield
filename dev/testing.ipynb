{
 "cells": [
  {
   "cell_type": "code",
   "execution_count": 1,
   "metadata": {},
   "outputs": [],
   "source": [
    "import k3d\n",
    "import ipywidgets\n",
    "import discretisedfield as df\n",
    "import discretisedfield.util as dfu\n",
    "%matplotlib inline\n",
    "\n",
    "p1 = (-5e-9, -5e-9, -2e-9)\n",
    "p2 = (5e-9, 5e-9, 10e-9)\n",
    "cell = (1e-9, 1e-9, 1e-9)\n",
    "mesh = df.Mesh(p1=p1, p2=p2, cell=cell)\n",
    "\n",
    "value_fun = lambda pos: (pos[0], pos[1], pos[2]*pos[1])\n",
    "\n",
    "def norm_fun(pos):\n",
    "    x, y, z = pos\n",
    "    if x**2 + y**2 < 5e-9**2:\n",
    "        return 1\n",
    "    else:\n",
    "        return 0\n",
    "    \n",
    "field = df.Field(mesh, dim=3, value=value_fun, norm=norm_fun)"
   ]
  },
  {
   "cell_type": "code",
   "execution_count": 2,
   "metadata": {},
   "outputs": [
    {
     "data": {
      "application/vnd.jupyter.widget-view+json": {
       "model_id": "f0861f1987af4968831c21e1963b559b",
       "version_major": 2,
       "version_minor": 0
      },
      "text/plain": [
       "interactive(children=(SelectionSlider(description='y (nm)', index=5, options=((-4.5, -4.5e-09), (-3.5, -3.5e-0…"
      ]
     },
     "metadata": {},
     "output_type": "display_data"
    }
   ],
   "source": [
    "plot1 = k3d.plot()\n",
    "@ipywidgets.interact(z=field.mesh.slider('y', continuous_update=True),\n",
    "                     axis=field.mesh.axis_selection())\n",
    "def myplot(z, axis):\n",
    "    getattr(field, axis).plane(y=z).k3d_voxels(filter_field=field.norm,\n",
    "                                               interactive=True,\n",
    "                                               field=field,\n",
    "                                               plot=plot1)"
   ]
  },
  {
   "cell_type": "code",
   "execution_count": 3,
   "metadata": {},
   "outputs": [
    {
     "data": {
      "application/vnd.jupyter.widget-view+json": {
       "model_id": "c78e3264849a428aa60a6a84551bd460",
       "version_major": 2,
       "version_minor": 0
      },
      "text/plain": [
       "Output()"
      ]
     },
     "metadata": {},
     "output_type": "display_data"
    }
   ],
   "source": [
    "field.x.plane(y=0).k3d_voxels(filter_field=field.norm, field=field)"
   ]
  },
  {
   "cell_type": "code",
   "execution_count": 4,
   "metadata": {},
   "outputs": [
    {
     "data": {
      "application/vnd.jupyter.widget-view+json": {
       "model_id": "2c693a6883494fdba99cb7a2e40994d3",
       "version_major": 2,
       "version_minor": 0
      },
      "text/plain": [
       "interactive(children=(SelectionSlider(description='y (nm)', index=5, options=((-4.5, -4.5e-09), (-3.5, -3.5e-0…"
      ]
     },
     "metadata": {},
     "output_type": "display_data"
    }
   ],
   "source": [
    "plot2 = k3d.plot()\n",
    "@ipywidgets.interact(z=field.mesh.slider('y', continuous_update=True),\n",
    "                     axis=field.mesh.axis_selection())\n",
    "def myplot(z, axis):\n",
    "    field.plane(y=z).k3d_vectors(color_field=field.x,\n",
    "                                 interactive=True,\n",
    "                                 field=field,\n",
    "                                 plot=plot2)"
   ]
  },
  {
   "cell_type": "code",
   "execution_count": 8,
   "metadata": {},
   "outputs": [
    {
     "data": {
      "application/vnd.jupyter.widget-view+json": {
       "model_id": "655fa2f268f2473fbd305190901cda27",
       "version_major": 2,
       "version_minor": 0
      },
      "text/plain": [
       "Output()"
      ]
     },
     "metadata": {},
     "output_type": "display_data"
    }
   ],
   "source": [
    "field.k3d_vectors(color_field=field.x, field=field)"
   ]
  },
  {
   "cell_type": "code",
   "execution_count": 10,
   "metadata": {},
   "outputs": [
    {
     "data": {
      "application/vnd.jupyter.widget-view+json": {
       "model_id": "c76d1b087c0b487c92cb0427896d36b9",
       "version_major": 2,
       "version_minor": 0
      },
      "text/plain": [
       "interactive(children=(SelectionSlider(description='z (nm)', index=6, options=((-1.5, -1.5000000000000002e-09),…"
      ]
     },
     "metadata": {},
     "output_type": "display_data"
    }
   ],
   "source": [
    "plot3 = k3d.plot()\n",
    "@ipywidgets.interact(z=field.mesh.slider('z', continuous_update=True),\n",
    "                     axis=field.mesh.axis_selection())\n",
    "def myplot(z, axis):\n",
    "    field.norm.plane(z=z).k3d_nonzero(color_field=field.x,\n",
    "                                 interactive=True,\n",
    "                                 field=field,\n",
    "                                 plot=plot3)"
   ]
  },
  {
   "cell_type": "code",
   "execution_count": null,
   "metadata": {},
   "outputs": [],
   "source": []
  }
 ],
 "metadata": {
  "kernelspec": {
   "display_name": "Python 3",
   "language": "python",
   "name": "python3"
  },
  "language_info": {
   "codemirror_mode": {
    "name": "ipython",
    "version": 3
   },
   "file_extension": ".py",
   "mimetype": "text/x-python",
   "name": "python",
   "nbconvert_exporter": "python",
   "pygments_lexer": "ipython3",
   "version": "3.8.1"
  }
 },
 "nbformat": 4,
 "nbformat_minor": 4
}
