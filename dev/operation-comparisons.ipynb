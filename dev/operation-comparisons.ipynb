{
 "cells": [
  {
   "cell_type": "markdown",
   "metadata": {},
   "source": [
    "# Comparison of operations woth OOMMF"
   ]
  },
  {
   "cell_type": "code",
   "execution_count": 1,
   "metadata": {},
   "outputs": [],
   "source": [
    "import discretisedfield as df\n",
    "import micromagneticmodel as mm\n",
    "import oommfc as oc\n",
    "import numpy as np"
   ]
  },
  {
   "cell_type": "markdown",
   "metadata": {},
   "source": [
    "Sample"
   ]
  },
  {
   "cell_type": "code",
   "execution_count": 2,
   "metadata": {},
   "outputs": [],
   "source": [
    "p1=(0, 0, 0)\n",
    "p2=(4e-9, 8e-9, 10e-9)\n",
    "cell = (1e-9, 1e-9, 1e-9)\n",
    "\n",
    "region = df.Region(p1=p1, p2=p2)\n",
    "mesh = df.Mesh(region=region, cell=cell, bc='neumann') "
   ]
  },
  {
   "cell_type": "markdown",
   "metadata": {},
   "source": [
    "Parameters"
   ]
  },
  {
   "cell_type": "code",
   "execution_count": 3,
   "metadata": {},
   "outputs": [],
   "source": [
    "Ms = 1e6\n",
    "A = 1e-12\n",
    "D = 1e-3\n",
    "K = 1e5\n",
    "u = (0, 0, 1)\n",
    "H = (1e6, 0, 0)\n",
    "mu0 = 4 * np.pi * 1e-7"
   ]
  },
  {
   "cell_type": "markdown",
   "metadata": {},
   "source": [
    "Magnetisation field"
   ]
  },
  {
   "cell_type": "code",
   "execution_count": 28,
   "metadata": {},
   "outputs": [
    {
     "data": {
      "image/png": "[encoded data removed]",
      "text/plain": [
       "<Figure size 432x288 with 2 Axes>"
      ]
     },
     "metadata": {
      "needs_background": "light"
     },
     "output_type": "display_data"
    }
   ],
   "source": [
    "def m_value(point):\n",
    "    x, y, z = point\n",
    "    c = 1e9\n",
    "    return (c*x, -c*y, c*z*x)\n",
    "\n",
    "M = df.Field(mesh, dim=3, value=m_value, norm=Ms)\n",
    "m = M.orientation\n",
    "\n",
    "m.plane('z').mpl()"
   ]
  },
  {
   "cell_type": "code",
   "execution_count": 29,
   "metadata": {},
   "outputs": [],
   "source": [
    "system = mm.System(name='mysystem')\n",
    "system.energy = (mm.Exchange(A=A) + mm.DMI(D=D, crystalclass='T') +\n",
    "                 mm.UniaxialAnisotropy(K=K, u=u) + mm.Zeeman(H=H))\n",
    "system.m = M"
   ]
  },
  {
   "cell_type": "markdown",
   "metadata": {},
   "source": [
    "## Zeeman\n",
    "\n",
    "#### Energy density"
   ]
  },
  {
   "cell_type": "code",
   "execution_count": 30,
   "metadata": {},
   "outputs": [
    {
     "name": "stdout",
     "output_type": "stream",
     "text": [
      "Running OOMMF (ExeOOMMFRunner) [2020/06/04 18:48]... (1.8 s)\n"
     ]
    },
    {
     "data": {
      "text/plain": [
       "True"
      ]
     },
     "execution_count": 30,
     "metadata": {},
     "output_type": "execute_result"
    }
   ],
   "source": [
    "wdf = - mu0 * Ms * m @ H\n",
    "woc = oc.compute(system.energy.zeeman.density, system)\n",
    "np.allclose(wdf.array, woc.array)"
   ]
  },
  {
   "cell_type": "markdown",
   "metadata": {},
   "source": [
    "#### Energy"
   ]
  },
  {
   "cell_type": "code",
   "execution_count": 31,
   "metadata": {},
   "outputs": [
    {
     "name": "stdout",
     "output_type": "stream",
     "text": [
      "Running OOMMF (ExeOOMMFRunner) [2020/06/04 18:48]... (1.8 s)\n",
      "df: -1.9413017194616356e-19\n",
      "oc: -1.94130171946e-19\n",
      "rerr: -8.425253987435017e-11 %\n"
     ]
    }
   ],
   "source": [
    "Edf = (- mu0 * Ms * m @ H).integral\n",
    "Eoc = oc.compute(system.energy.zeeman.energy, system)\n",
    "print(f'df: {Edf}')\n",
    "print(f'oc: {Eoc}')\n",
    "print(f'rerr: {abs(Edf-Eoc)/Edf * 100} %')"
   ]
  },
  {
   "cell_type": "markdown",
   "metadata": {},
   "source": [
    "#### Effective field"
   ]
  },
  {
   "cell_type": "code",
   "execution_count": 32,
   "metadata": {},
   "outputs": [
    {
     "name": "stdout",
     "output_type": "stream",
     "text": [
      "Running OOMMF (ExeOOMMFRunner) [2020/06/04 18:48]... (1.7 s)\n"
     ]
    },
    {
     "data": {
      "text/plain": [
       "True"
      ]
     },
     "execution_count": 32,
     "metadata": {},
     "output_type": "execute_result"
    }
   ],
   "source": [
    "Hdf = df.Field(mesh, dim=3, value=H)\n",
    "Hoc = oc.compute(system.energy.zeeman.effective_field, system)\n",
    "np.allclose(Hdf.array, Hoc.array)"
   ]
  },
  {
   "cell_type": "markdown",
   "metadata": {},
   "source": [
    "## Uniaxial anisotropy\n",
    "\n",
    "#### Energy density"
   ]
  },
  {
   "cell_type": "code",
   "execution_count": 33,
   "metadata": {},
   "outputs": [
    {
     "name": "stdout",
     "output_type": "stream",
     "text": [
      "Running OOMMF (ExeOOMMFRunner) [2020/06/04 18:48]... (1.8 s)\n"
     ]
    },
    {
     "data": {
      "text/plain": [
       "False"
      ]
     },
     "execution_count": 33,
     "metadata": {},
     "output_type": "execute_result"
    }
   ],
   "source": [
    "wdf = - K * (m @ u)**2\n",
    "woc = oc.compute(system.energy.uniaxialanisotropy.density, system)\n",
    "np.allclose(wdf.array, woc.array)"
   ]
  },
  {
   "cell_type": "markdown",
   "metadata": {},
   "source": [
    "#### Energy"
   ]
  },
  {
   "cell_type": "code",
   "execution_count": 34,
   "metadata": {},
   "outputs": [
    {
     "name": "stdout",
     "output_type": "stream",
     "text": [
      "Running OOMMF (ExeOOMMFRunner) [2020/06/04 18:48]... (1.8 s)\n",
      "df: 3.322892655943544e-37\n",
      "oc: 3.2e-20\n",
      "rerr: 9.630163629499947e+18 %\n"
     ]
    }
   ],
   "source": [
    "Edf = (K * (m @ u)**2).integral\n",
    "Eoc = oc.compute(system.energy.uniaxialanisotropy.energy, system)\n",
    "print(f'df: {Edf}')\n",
    "print(f'oc: {Eoc}')\n",
    "print(f'rerr: {abs(Edf-Eoc)/Edf * 100} %')"
   ]
  },
  {
   "cell_type": "markdown",
   "metadata": {},
   "source": [
    "#### Effective field"
   ]
  },
  {
   "cell_type": "code",
   "execution_count": 35,
   "metadata": {},
   "outputs": [
    {
     "name": "stdout",
     "output_type": "stream",
     "text": [
      "Running OOMMF (ExeOOMMFRunner) [2020/06/04 18:48]... (1.8 s)\n"
     ]
    },
    {
     "data": {
      "text/plain": [
       "False"
      ]
     },
     "execution_count": 35,
     "metadata": {},
     "output_type": "execute_result"
    }
   ],
   "source": [
    "Hdf = 2 * K / (mu0 * Ms) * (m @ u)\n",
    "Hoc = oc.compute(system.energy.uniaxialanisotropy.effective_field, system)\n",
    "np.allclose(Hdf.array, Hoc.array)"
   ]
  },
  {
   "cell_type": "markdown",
   "metadata": {},
   "source": [
    "## Exchange\n",
    "\n",
    "#### Energy density"
   ]
  },
  {
   "cell_type": "code",
   "execution_count": 36,
   "metadata": {},
   "outputs": [
    {
     "name": "stdout",
     "output_type": "stream",
     "text": [
      "Running OOMMF (ExeOOMMFRunner) [2020/06/04 18:49]... (2.0 s)\n"
     ]
    },
    {
     "data": {
      "text/plain": [
       "True"
      ]
     },
     "execution_count": 36,
     "metadata": {},
     "output_type": "execute_result"
    }
   ],
   "source": [
    "wdf = - A * m @ m.laplacian\n",
    "woc = oc.compute(system.energy.exchange.density, system)\n",
    "np.allclose(wdf.array, woc.array)"
   ]
  },
  {
   "cell_type": "markdown",
   "metadata": {},
   "source": [
    "#### Energy"
   ]
  },
  {
   "cell_type": "code",
   "execution_count": 37,
   "metadata": {},
   "outputs": [
    {
     "name": "stdout",
     "output_type": "stream",
     "text": [
      "Running OOMMF (ExeOOMMFRunner) [2020/06/04 18:49]... (1.8 s)\n",
      "df: 2.0830618544079488e-20\n",
      "oc: 2.08306185441e-20\n",
      "rerr: 9.846636989833302e-11 %\n"
     ]
    }
   ],
   "source": [
    "Edf = (- A * m @ m.laplacian).integral\n",
    "Eoc = oc.compute(system.energy.exchange.energy, system)\n",
    "print(f'df: {Edf}')\n",
    "print(f'oc: {Eoc}')\n",
    "print(f'rerr: {abs(Edf-Eoc)/Edf * 100} %')"
   ]
  },
  {
   "cell_type": "markdown",
   "metadata": {},
   "source": [
    "#### Effective field"
   ]
  },
  {
   "cell_type": "code",
   "execution_count": 38,
   "metadata": {},
   "outputs": [
    {
     "name": "stdout",
     "output_type": "stream",
     "text": [
      "Running OOMMF (ExeOOMMFRunner) [2020/06/04 18:49]... (1.8 s)\n"
     ]
    },
    {
     "data": {
      "text/plain": [
       "True"
      ]
     },
     "execution_count": 38,
     "metadata": {},
     "output_type": "execute_result"
    }
   ],
   "source": [
    "Hdf = 2 * A / (mu0 * Ms) * m.laplacian\n",
    "Hoc = oc.compute(system.energy.exchange.effective_field, system)\n",
    "np.allclose(Hdf.array, Hoc.array)"
   ]
  },
  {
   "cell_type": "markdown",
   "metadata": {},
   "source": [
    "## DMI\n",
    "\n",
    "#### Energy density"
   ]
  },
  {
   "cell_type": "code",
   "execution_count": 39,
   "metadata": {},
   "outputs": [
    {
     "name": "stdout",
     "output_type": "stream",
     "text": [
      "Running OOMMF (ExeOOMMFRunner) [2020/06/04 18:49]... (1.8 s)\n"
     ]
    },
    {
     "data": {
      "text/plain": [
       "False"
      ]
     },
     "execution_count": 39,
     "metadata": {},
     "output_type": "execute_result"
    }
   ],
   "source": [
    "wdf = A * m @ m.curl\n",
    "woc = oc.compute(system.energy.dmi.density, system)\n",
    "np.allclose(wdf.array, woc.array)"
   ]
  },
  {
   "cell_type": "markdown",
   "metadata": {},
   "source": [
    "#### Energy"
   ]
  },
  {
   "cell_type": "code",
   "execution_count": 40,
   "metadata": {},
   "outputs": [
    {
     "name": "stdout",
     "output_type": "stream",
     "text": [
      "Running OOMMF (ExeOOMMFRunner) [2020/06/04 18:49]... (1.9 s)\n",
      "df: 2.3195104165146195e-37\n",
      "oc: 2.31951041462e-28\n",
      "rerr: 99999999818.31813 %\n"
     ]
    }
   ],
   "source": [
    "Edf = (A * m @ m.curl).integral\n",
    "Eoc = oc.compute(system.energy.dmi.energy, system)\n",
    "print(f'df: {Edf}')\n",
    "print(f'oc: {Eoc}')\n",
    "print(f'rerr: {abs(Edf-Eoc)/Edf * 100} %')"
   ]
  },
  {
   "cell_type": "markdown",
   "metadata": {},
   "source": [
    "#### Effective field"
   ]
  },
  {
   "cell_type": "code",
   "execution_count": 41,
   "metadata": {},
   "outputs": [
    {
     "name": "stdout",
     "output_type": "stream",
     "text": [
      "Running OOMMF (ExeOOMMFRunner) [2020/06/04 18:49]... (1.8 s)\n"
     ]
    },
    {
     "data": {
      "text/plain": [
       "False"
      ]
     },
     "execution_count": 41,
     "metadata": {},
     "output_type": "execute_result"
    }
   ],
   "source": [
    "Hdf = - 2 * D / (mu0 * Ms) * m.curl\n",
    "Hoc = oc.compute(system.energy.dmi.effective_field, system)\n",
    "np.allclose(Hdf.array, Hoc.array)"
   ]
  },
  {
   "cell_type": "code",
   "execution_count": 18,
   "metadata": {},
   "outputs": [
    {
     "data": {
      "text/plain": [
       "array([[[[-0.00000000e+00, -0.00000000e+00, -0.00000000e+00],\n",
       "         [-1.34178239e+05,  1.34178239e+05, -0.00000000e+00],\n",
       "         [-3.53221655e+04,  3.53221655e+04, -0.00000000e+00],\n",
       "         [-1.09913580e+04,  1.09913580e+04, -0.00000000e+00],\n",
       "         [-4.32826489e+03,  4.32826489e+03, -0.00000000e+00],\n",
       "         [-2.01347944e+03,  2.01347944e+03, -0.00000000e+00],\n",
       "         [-1.05472467e+03,  1.05472467e+03, -0.00000000e+00],\n",
       "         [-6.03209405e+02,  6.03209405e+02, -0.00000000e+00],\n",
       "         [-3.68983548e+02,  3.68983548e+02, -0.00000000e+00],\n",
       "         [ 3.72094218e+03, -3.72094218e+03, -0.00000000e+00]],\n",
       "\n",
       "        [[ 1.34178239e+05, -0.00000000e+00, -1.34178239e+05],\n",
       "         [-0.00000000e+00,  1.71756523e+04, -1.71756523e+04],\n",
       "         [-2.83057560e+04,  1.31823422e+04, -2.24825415e+03],\n",
       "         [-1.64736665e+04,  6.41879915e+03, -3.97532992e+02],\n",
       "         [-8.46705585e+03,  3.10048630e+03, -9.27114518e+01],\n",
       "         [-4.52241459e+03,  1.60613974e+03, -2.69095105e+01],\n",
       "         [-2.56819145e+03,  8.96145103e+02, -9.24952730e+00],\n",
       "         [-1.54593999e+03,  5.33451677e+02, -3.62766959e+00],\n",
       "         [-9.78820503e+02,  3.35225835e+02, -1.57982360e+00],\n",
       "         [ 1.08821040e+04, -3.62262587e+03, -7.48757574e-01]],\n",
       "\n",
       "        [[ 3.53221655e+04, -0.00000000e+00, -3.53221655e+04],\n",
       "         [ 2.83057560e+04,  2.24825415e+03, -1.31823422e+04],\n",
       "         [-0.00000000e+00,  3.47380332e+03, -3.47380332e+03],\n",
       "         [-7.14278735e+03,  2.71661776e+03, -9.20043065e+02],\n",
       "         [-6.23451110e+03,  1.73712148e+03, -2.72344031e+02],\n",
       "         [-4.31896331e+03,  1.06531520e+03, -9.16011548e+01],\n",
       "         [-2.85589159e+03,  6.61258207e+02, -3.46461112e+01],\n",
       "         [-1.89495944e+03,  4.22488556e+02, -1.44988892e+01],\n",
       "         [-1.28182797e+03,  2.78837683e+02, -6.60943827e+00],\n",
       "         [ 1.72493434e+04, -3.43756236e+03, -3.23850393e+00]],\n",
       "\n",
       "        [[ 1.09913580e+04, -0.00000000e+00, -1.09913580e+04],\n",
       "         [ 1.64736665e+04,  3.97532992e+02, -6.41879915e+03],\n",
       "         [ 7.14278735e+03,  9.20043065e+02, -2.71661776e+03],\n",
       "         [-0.00000000e+00,  1.02553065e+03, -1.02553065e+03],\n",
       "         [-2.46264939e+03,  8.50091077e+02, -3.87554238e+02],\n",
       "         [-2.67429088e+03,  6.24082868e+02, -1.54026290e+02],\n",
       "         [-2.22091524e+03,  4.38754794e+02, -6.54129478e+01],\n",
       "         [-1.69656457e+03,  3.06060418e+02, -2.97238900e+01],\n",
       "         [-1.26200397e+03,  2.15227936e+02, -1.43877404e+01],\n",
       "         [ 2.24438393e+04, -3.18625177e+03, -7.37246942e+00]],\n",
       "\n",
       "        [[ 4.32826489e+03, -0.00000000e+00, -4.32826489e+03],\n",
       "         [ 8.46705585e+03,  9.27114518e+01, -3.10048630e+03],\n",
       "         [ 6.23451110e+03,  2.72344031e+02, -1.73712148e+03],\n",
       "         [ 2.46264939e+03,  3.87554238e+02, -8.50091077e+02],\n",
       "         [-0.00000000e+00,  3.95469519e+02, -3.95469519e+02],\n",
       "         [-1.04942553e+03,  3.41536652e+02, -1.84036758e+02],\n",
       "         [-1.30024742e+03,  2.71516626e+02, -8.79540166e+01],\n",
       "         [-1.21467149e+03,  2.07747788e+02, -4.36705737e+01],\n",
       "         [-1.02585521e+03,  1.56689415e+02, -2.26087955e+01],\n",
       "         [ 2.62742020e+04, -2.89360029e+03, -1.21999661e+01]],\n",
       "\n",
       "        [[ 2.01347944e+03, -0.00000000e+00, -2.01347944e+03],\n",
       "         [ 4.52241459e+03,  2.69095105e+01, -1.60613974e+03],\n",
       "         [ 4.31896331e+03,  9.16011548e+01, -1.06531520e+03],\n",
       "         [ 2.67429088e+03,  1.54026290e+02, -6.24082868e+02],\n",
       "         [ 1.04942553e+03,  1.84036758e+02, -3.41536652e+02],\n",
       "         [-0.00000000e+00,  1.82007091e+02, -1.82007091e+02],\n",
       "         [-5.17051239e+02,  1.61647682e+02, -9.70056355e+01],\n",
       "         [-6.98788669e+02,  1.35141501e+02, -5.25178559e+01],\n",
       "         [-7.07947368e+02,  1.09358405e+02, -2.91173579e+01],\n",
       "         [ 2.87392587e+04, -2.58400102e+03, -1.65919735e+01]],\n",
       "\n",
       "        [[ 1.05472467e+03, -0.00000000e+00, -1.05472467e+03],\n",
       "         [ 2.56819145e+03,  9.24952730e+00, -8.96145103e+02],\n",
       "         [ 2.85589159e+03,  3.46461112e+01, -6.61258207e+02],\n",
       "         [ 2.22091524e+03,  6.54129478e+01, -4.38754794e+02],\n",
       "         [ 1.30024742e+03,  8.79540166e+01, -2.71516626e+02],\n",
       "         [ 5.17051239e+02,  9.70056355e+01, -1.61647682e+02],\n",
       "         [-0.00000000e+00,  9.47467562e+01, -9.47467562e+01],\n",
       "         [-2.82712925e+02,  8.58289174e+01, -5.55375334e+01],\n",
       "         [-4.06149842e+02,  7.42394284e+01, -3.28801605e+01],\n",
       "         [ 2.99847275e+04, -2.27761476e+03, -1.97755549e+01]],\n",
       "\n",
       "        [[-5.56507356e+03, -0.00000000e+00,  5.56507356e+03],\n",
       "         [-1.61233959e+04,  3.62766959e+00,  5.35632695e+03],\n",
       "         [-2.50651850e+04,  1.44988892e+01,  4.96954033e+03],\n",
       "         [-3.16687332e+04,  2.97238900e+01,  4.46041070e+03],\n",
       "         [-3.57096036e+04,  4.36705737e+01,  3.89494944e+03],\n",
       "         [-3.74354947e+04,  5.25178559e+01,  3.33161153e+03],\n",
       "         [-3.73677369e+04,  5.55375334e+01,  2.81035953e+03],\n",
       "         [-3.60831632e+04,  5.39723145e+01,  2.35157190e+03],\n",
       "         [-3.40779481e+04,  4.96070971e+01,  1.96081421e+03],\n",
       "         [-1.23096242e+03, -1.98865684e+03,  1.63477973e+03]]],\n",
       "\n",
       "\n",
       "       [[[-0.00000000e+00, -1.34178239e+05,  1.34178239e+05],\n",
       "         [-1.71756523e+04, -0.00000000e+00,  1.71756523e+04],\n",
       "         [-1.31823422e+04,  2.83057560e+04,  2.24825415e+03],\n",
       "         [-6.41879915e+03,  1.64736665e+04,  3.97532992e+02],\n",
       "         [-3.10048630e+03,  8.46705585e+03,  9.27114518e+01],\n",
       "         [-1.60613974e+03,  4.52241459e+03,  2.69095105e+01],\n",
       "         [-8.96145103e+02,  2.56819145e+03,  9.24952730e+00],\n",
       "         [-5.33451677e+02,  1.54593999e+03,  3.62766959e+00],\n",
       "         [-3.35225835e+02,  9.78820503e+02,  1.57982360e+00],\n",
       "         [ 3.62262587e+03, -1.08821040e+04,  7.48757574e-01]],\n",
       "\n",
       "        [[ 1.71756523e+04, -1.71756523e+04, -0.00000000e+00],\n",
       "         [-0.00000000e+00, -0.00000000e+00, -0.00000000e+00],\n",
       "         [-1.32355131e+04,  1.32355131e+04, -0.00000000e+00],\n",
       "         [-1.03544690e+04,  1.03544690e+04, -0.00000000e+00],\n",
       "         [-6.24653591e+03,  6.24653591e+03, -0.00000000e+00],\n",
       "         [-3.65771228e+03,  3.65771228e+03, -0.00000000e+00],\n",
       "         [-2.19800683e+03,  2.19800683e+03, -0.00000000e+00],\n",
       "         [-1.37288884e+03,  1.37288884e+03, -0.00000000e+00],\n",
       "         [-8.91553550e+02,  8.91553550e+02, -0.00000000e+00],\n",
       "         [ 1.05978931e+04, -1.05978931e+04, -0.00000000e+00]],\n",
       "\n",
       "        [[ 1.31823422e+04, -2.24825415e+03, -2.83057560e+04],\n",
       "         [ 1.32355131e+04, -0.00000000e+00, -1.32355131e+04],\n",
       "         [ 7.11478039e-11,  4.30765443e+03, -4.30765443e+03],\n",
       "         [-4.95097814e+03,  4.81553861e+03, -1.31782266e+03],\n",
       "         [-4.81255779e+03,  3.65880674e+03, -4.28484483e+02],\n",
       "         [-3.57460437e+03,  2.48205001e+03, -1.53312451e+02],\n",
       "         [-2.47560355e+03,  1.64257812e+03, -6.04676883e+01],\n",
       "         [-1.69560485e+03,  1.09553172e+03, -2.60562707e+01],\n",
       "         [-1.17309045e+03,  7.45098738e+02, -1.21307256e+01],\n",
       "         [ 1.68095983e+04, -1.00628181e+04, -6.03706790e+00]],\n",
       "\n",
       "        [[ 6.41879915e+03, -3.97532992e+02, -1.64736665e+04],\n",
       "         [ 1.03544690e+04, -0.00000000e+00, -1.03544690e+04],\n",
       "         [ 4.95097814e+03,  1.31782266e+03, -4.81553861e+03],\n",
       "         [-9.48637385e-11,  1.97222788e+03, -1.97222788e+03],\n",
       "         [-1.99250180e+03,  1.87338411e+03, -7.92909266e+02],\n",
       "         [-2.27265362e+03,  1.49209564e+03, -3.29700781e+02],\n",
       "         [-1.95547606e+03,  1.10679153e+03, -1.44700963e+02],\n",
       "         [-1.53284901e+03,  8.01281132e+02, -6.73613924e+01],\n",
       "         [-1.16220712e+03,  5.78717206e+02, -3.31999461e+01],\n",
       "         [ 2.18928619e+04, -9.33584167e+03, -1.72470613e+01]],\n",
       "\n",
       "        [[ 3.10048630e+03, -9.27114518e+01, -8.46705585e+03],\n",
       "         [ 6.24653591e+03, -0.00000000e+00, -6.24653591e+03],\n",
       "         [ 4.81255779e+03,  4.28484483e+02, -3.65880674e+03],\n",
       "         [ 1.99250180e+03,  7.92909266e+02, -1.87338411e+03],\n",
       "         [-7.11478039e-11,  9.06338367e+02, -9.06338367e+02],\n",
       "         [-9.14865259e+02,  8.36995728e+02, -4.35305980e+02],\n",
       "         [-1.16350649e+03,  6.95855791e+02, -2.13244818e+02],\n",
       "         [-1.10909779e+03,  5.49583751e+02, -1.07930692e+02],\n",
       "         [-9.51456285e+02,  4.24286038e+02, -5.67179696e+01],\n",
       "         [ 2.56615424e+04, -8.48847380e+03, -3.09664711e+01]],\n",
       "\n",
       "        [[ 1.60613974e+03, -2.69095105e+01, -4.52241459e+03],\n",
       "         [ 3.65771228e+03, -0.00000000e+00, -3.65771228e+03],\n",
       "         [ 3.57460437e+03,  1.53312451e+02, -2.48205001e+03],\n",
       "         [ 2.27265362e+03,  3.29700781e+02, -1.49209564e+03],\n",
       "         [ 9.14865259e+02,  4.35305980e+02, -8.36995728e+02],\n",
       "         [-0.00000000e+00,  4.55800774e+02, -4.55800774e+02],\n",
       "         [-4.69770604e+02,  4.20469594e+02, -2.47373363e+02],\n",
       "         [-6.44758076e+02,  3.61198801e+02, -1.35927506e+02],\n",
       "         [-6.61423264e+02,  2.98268538e+02, -7.62755370e+01],\n",
       "         [ 2.81107478e+04, -7.59075556e+03, -4.38911680e+01]],\n",
       "\n",
       "        [[ 8.96145103e+02, -9.24952730e+00, -2.56819145e+03],\n",
       "         [ 2.19800683e+03, -0.00000000e+00, -2.19800683e+03],\n",
       "         [ 2.47560355e+03,  6.04676883e+01, -1.64257812e+03],\n",
       "         [ 1.95547606e+03,  1.44700963e+02, -1.10679153e+03],\n",
       "         [ 1.16350649e+03,  2.13244818e+02, -6.95855791e+02],\n",
       "         [ 4.69770604e+02,  2.47373363e+02, -4.20469594e+02],\n",
       "         [ 8.30057712e-11,  2.49714112e+02, -2.49714112e+02],\n",
       "         [-2.63410334e+02,  2.31601551e+02, -1.48039278e+02],\n",
       "         [-3.82160513e+02,  2.03903705e+02, -8.84862721e+01],\n",
       "         [ 2.93762787e+04, -6.70073286e+03, -5.36478338e+01]],\n",
       "\n",
       "        [[-5.35632695e+03, -3.62766959e+00,  1.61233959e+04],\n",
       "         [-1.55222408e+04, -0.00000000e+00,  1.55222408e+04],\n",
       "         [-2.41491215e+04,  2.60562707e+01,  1.44113041e+04],\n",
       "         [-3.05584533e+04,  6.73613924e+01,  1.29521341e+04],\n",
       "         [-3.45365210e+04,  1.07930692e+02,  1.13322892e+04],\n",
       "         [-3.63064170e+04,  1.35927506e+02,  9.71639440e+03],\n",
       "         [-3.63484881e+04,  1.48039278e+02,  8.21729808e+03],\n",
       "         [-3.52017613e+04,  1.46892987e+02,  6.89345927e+03],\n",
       "         [-3.33365236e+04,  1.37137666e+02,  5.76191211e+03],\n",
       "         [-1.19388587e+03, -5.85958391e+03,  4.81449559e+03]]],\n",
       "\n",
       "\n",
       "       [[[-0.00000000e+00, -3.53221655e+04,  3.53221655e+04],\n",
       "         [-2.24825415e+03, -2.83057560e+04,  1.31823422e+04],\n",
       "         [-3.47380332e+03, -0.00000000e+00,  3.47380332e+03],\n",
       "         [-2.71661776e+03,  7.14278735e+03,  9.20043065e+02],\n",
       "         [-1.73712148e+03,  6.23451110e+03,  2.72344031e+02],\n",
       "         [-1.06531520e+03,  4.31896331e+03,  9.16011548e+01],\n",
       "         [-6.61258207e+02,  2.85589159e+03,  3.46461112e+01],\n",
       "         [-4.22488556e+02,  1.89495944e+03,  1.44988892e+01],\n",
       "         [-2.78837683e+02,  1.28182797e+03,  6.60943827e+00],\n",
       "         [ 3.43756236e+03, -1.72493434e+04,  3.23850393e+00]],\n",
       "\n",
       "        [[ 2.24825415e+03, -1.31823422e+04,  2.83057560e+04],\n",
       "         [-0.00000000e+00, -1.32355131e+04,  1.32355131e+04],\n",
       "         [-4.30765443e+03, -7.11478039e-11,  4.30765443e+03],\n",
       "         [-4.81553861e+03,  4.95097814e+03,  1.31782266e+03],\n",
       "         [-3.65880674e+03,  4.81255779e+03,  4.28484483e+02],\n",
       "         [-2.48205001e+03,  3.57460437e+03,  1.53312451e+02],\n",
       "         [-1.64257812e+03,  2.47560355e+03,  6.04676883e+01],\n",
       "         [-1.09553172e+03,  1.69560485e+03,  2.60562707e+01],\n",
       "         [-7.45098738e+02,  1.17309045e+03,  1.21307256e+01],\n",
       "         [ 1.00628181e+04, -1.68095983e+04,  6.03706790e+00]],\n",
       "\n",
       "        [[ 3.47380332e+03, -3.47380332e+03, -0.00000000e+00],\n",
       "         [ 4.30765443e+03, -4.30765443e+03, -0.00000000e+00],\n",
       "         [-9.48637385e-11,  9.48637385e-11, -0.00000000e+00],\n",
       "         [-2.63971619e+03,  2.63971619e+03, -0.00000000e+00],\n",
       "         [-3.02586951e+03,  3.02586951e+03, -0.00000000e+00],\n",
       "         [-2.52136347e+03,  2.52136347e+03, -0.00000000e+00],\n",
       "         [-1.89193247e+03,  1.89193247e+03, -0.00000000e+00],\n",
       "         [-1.37168869e+03,  1.37168869e+03, -0.00000000e+00],\n",
       "         [-9.89010824e+02,  9.89010824e+02, -0.00000000e+00],\n",
       "         [ 1.59811983e+04, -1.59811983e+04, -0.00000000e+00]],\n",
       "\n",
       "        [[ 2.71661776e+03, -9.20043065e+02, -7.14278735e+03],\n",
       "         [ 4.81553861e+03, -1.31782266e+03, -4.95097814e+03],\n",
       "         [ 2.63971619e+03, -0.00000000e+00, -2.63971619e+03],\n",
       "         [-9.48637385e-11,  1.22865232e+03, -1.22865232e+03],\n",
       "         [-1.35270812e+03,  1.67027310e+03, -5.47596787e+02],\n",
       "         [-1.67744490e+03,  1.58520640e+03, -2.46292755e+02],\n",
       "         [-1.53653230e+03,  1.31043861e+03, -1.14646830e+02],\n",
       "         [-1.26211762e+03,  1.02104875e+03, -5.57835457e+01],\n",
       "         [-9.91305597e+02,  7.77125255e+02, -2.84322823e+01],\n",
       "         [ 2.08535421e+04, -1.48542472e+04, -1.51568237e+01]],\n",
       "\n",
       "        [[ 1.73712148e+03, -2.72344031e+02, -6.23451110e+03],\n",
       "         [ 3.65880674e+03, -4.28484483e+02, -4.81255779e+03],\n",
       "         [ 3.02586951e+03, -0.00000000e+00, -3.02586951e+03],\n",
       "         [ 1.35270812e+03,  5.47596787e+02, -1.67027310e+03],\n",
       "         [-8.30057712e-11,  8.64496848e+02, -8.64496848e+02],\n",
       "         [-7.06224221e+02,  9.29051852e+02, -4.39122324e+02],\n",
       "         [-9.41300774e+02,  8.47911161e+02, -2.24976660e+02],\n",
       "         [-9.31116007e+02,  7.13910018e+02, -1.17974008e+02],\n",
       "         [-8.22370763e+02,  5.77295044e+02, -6.37530343e+01],\n",
       "         [ 2.45033644e+04, -1.35378509e+04, -3.55875651e+01]],\n",
       "\n",
       "        [[ 1.06531520e+03, -9.16011548e+01, -4.31896331e+03],\n",
       "         [ 2.48205001e+03, -1.53312451e+02, -3.57460437e+03],\n",
       "         [ 2.52136347e+03, -0.00000000e+00, -2.52136347e+03],\n",
       "         [ 1.67744490e+03,  2.46292755e+02, -1.58520640e+03],\n",
       "         [ 7.06224221e+02,  4.39122324e+02, -9.29051852e+02],\n",
       "         [-8.30057712e-11,  5.26124400e+02, -5.26124400e+02],\n",
       "         [-3.90782829e+02,  5.26511505e+02, -2.95208647e+02],\n",
       "         [-5.51904295e+02,  4.78263513e+02, -1.66758478e+02],\n",
       "         [-5.79601374e+02,  4.11392236e+02, -9.57239843e+01],\n",
       "         [ 2.69191334e+04, -1.21390436e+04, -5.61151031e+01]],\n",
       "\n",
       "        [[ 6.61258207e+02, -3.46461112e+01, -2.85589159e+03],\n",
       "         [ 1.64257812e+03, -6.04676883e+01, -2.47560355e+03],\n",
       "         [ 1.89193247e+03, -0.00000000e+00, -1.89193247e+03],\n",
       "         [ 1.53653230e+03,  1.14646830e+02, -1.31043861e+03],\n",
       "         [ 9.41300774e+02,  2.24976660e+02, -8.47911161e+02],\n",
       "         [ 3.90782829e+02,  2.95208647e+02, -5.26511505e+02],\n",
       "         [-0.00000000e+00,  3.20437327e+02, -3.20437327e+02],\n",
       "         [-2.29634951e+02,  3.12220684e+02, -1.94046276e+02],\n",
       "         [-3.39410414e+02,  2.84988807e+02, -1.18106025e+02],\n",
       "         [ 2.82187174e+04, -1.07470844e+04, -7.27100126e+01]],\n",
       "\n",
       "        [[-4.96954033e+03, -1.44988892e+01,  2.50651850e+04],\n",
       "         [-1.44113041e+04, -2.60562707e+01,  2.41491215e+04],\n",
       "         [-2.24606669e+04, -0.00000000e+00,  2.24606669e+04],\n",
       "         [-2.85123787e+04,  5.57835457e+01,  2.02464487e+04],\n",
       "         [-3.23685497e+04,  1.17974008e+02,  1.77859043e+04],\n",
       "         [-3.42090577e+04,  1.66758478e+02,  1.53221738e+04],\n",
       "         [-3.44431269e+04,  1.94046276e+02,  1.30234570e+04],\n",
       "         [-3.35430687e+04,  2.01265579e+02,  1.09797573e+04],\n",
       "         [-3.19322184e+04,  1.94062102e+02,  9.22059767e+03],\n",
       "         [-1.12469485e+03, -9.42607912e+03,  7.73761374e+03]]],\n",
       "\n",
       "\n",
       "       [[[-0.00000000e+00,  1.30917678e+04, -1.30917678e+04],\n",
       "         [-3.97532992e+02,  4.40698940e+04, -1.37623877e+04],\n",
       "         [-9.20043065e+02,  6.76457316e+04, -1.22410860e+04],\n",
       "         [-1.02553065e+03,  7.31584591e+04, -9.42567779e+03],\n",
       "         [-8.50091077e+02,  6.72381112e+04, -6.80971930e+03],\n",
       "         [-6.24082868e+02,  5.76960464e+04, -4.84795149e+03],\n",
       "         [-4.38754794e+02,  4.83009408e+04, -3.47920440e+03],\n",
       "         [-3.06060418e+02,  4.02429491e+04, -2.54003508e+03],\n",
       "         [-2.15227936e+02,  3.36637504e+04, -1.89159734e+03],\n",
       "         [ 3.18625177e+03,  4.99737150e+03, -1.43690178e+03]],\n",
       "\n",
       "        [[ 3.97532992e+02,  1.37623877e+04, -4.40698940e+04],\n",
       "         [-0.00000000e+00,  4.13684910e+04, -4.13684910e+04],\n",
       "         [-1.31782266e+03,  6.07552614e+04, -3.46082051e+04],\n",
       "         [-1.97222788e+03,  6.60360052e+04, -2.63289172e+04],\n",
       "         [-1.87338411e+03,  6.17733545e+04, -1.91340416e+04],\n",
       "         [-1.49209564e+03,  5.39242992e+04, -1.37571117e+04],\n",
       "         [-1.10679153e+03,  4.57705210e+04, -9.96646325e+03],\n",
       "         [-8.01281132e+02,  3.85389139e+04, -7.33385159e+03],\n",
       "         [-5.78717206e+02,  3.24970073e+04, -5.49647068e+03],\n",
       "         [ 9.33584167e+03,  4.79398653e+03, -4.19646586e+03]],\n",
       "\n",
       "        [[ 9.20043065e+02,  1.22410860e+04, -6.76457316e+04],\n",
       "         [ 1.31782266e+03,  3.46082051e+04, -6.07552614e+04],\n",
       "         [-0.00000000e+00,  4.96163260e+04, -4.96163260e+04],\n",
       "         [-1.22865232e+03,  5.48409848e+04, -3.79434797e+04],\n",
       "         [-1.67027310e+03,  5.28808830e+04, -2.80791671e+04],\n",
       "         [-1.58520640e+03,  4.75385137e+04, -2.05996476e+04],\n",
       "         [-1.31043861e+03,  4.13418941e+04, -1.51951077e+04],\n",
       "         [-1.02104875e+03,  3.54787060e+04, -1.13497459e+04],\n",
       "         [-7.77125255e+02,  3.03599831e+04, -8.60941405e+03],\n",
       "         [ 1.48542472e+04,  4.42434315e+03, -6.63691823e+03]],\n",
       "\n",
       "        [[ 1.02553065e+03,  9.42567779e+03, -7.31584591e+04],\n",
       "         [ 1.97222788e+03,  2.63289172e+04, -6.60360052e+04],\n",
       "         [ 1.22865232e+03,  3.79434797e+04, -5.48409848e+04],\n",
       "         [ 8.30057712e-11,  4.30877824e+04, -4.30877824e+04],\n",
       "         [-8.13488690e+02,  4.30739260e+04, -3.28692290e+04],\n",
       "         [-1.11329196e+03,  4.01040828e+04, -2.48123214e+04],\n",
       "         [-1.10196396e+03,  3.59391254e+04, -1.87584716e+04],\n",
       "         [-9.61284885e+02,  3.16025803e+04, -1.42992712e+04],\n",
       "         [-7.91118061e+02,  2.75722941e+04, -1.10275431e+04],\n",
       "         [ 1.94362391e+04,  3.94844175e+03, -8.61540874e+03]],\n",
       "\n",
       "        [[ 8.50091077e+02,  6.80971930e+03, -6.72381112e+04],\n",
       "         [ 1.87338411e+03,  1.91340416e+04, -6.17733545e+04],\n",
       "         [ 1.67027310e+03,  2.80791671e+04, -5.28808830e+04],\n",
       "         [ 8.13488690e+02,  3.28692290e+04, -4.30739260e+04],\n",
       "         [ 1.77869510e-10,  3.40662026e+04, -3.40662026e+04],\n",
       "         [-4.95303446e+02,  3.28636033e+04, -2.65732096e+04],\n",
       "         [-7.00727700e+02,  3.03942756e+04, -2.06648759e+04],\n",
       "         [-7.27536179e+02,  2.74469448e+04, -1.61286500e+04],\n",
       "         [-6.68109710e+02,  2.44759331e+04, -1.26827429e+04],\n",
       "         [ 2.29181733e+04,  3.42951176e+03, -1.00680431e+04]],\n",
       "\n",
       "        [[ 6.24082868e+02,  4.84795149e+03, -5.76960464e+04],\n",
       "         [ 1.49209564e+03,  1.37571117e+04, -5.39242992e+04],\n",
       "         [ 1.58520640e+03,  2.05996476e+04, -4.75385137e+04],\n",
       "         [ 1.11329196e+03,  2.48123214e+04, -4.01040828e+04],\n",
       "         [ 4.95303446e+02,  2.65732096e+04, -3.28636033e+04],\n",
       "         [-0.00000000e+00,  2.64918352e+04, -2.64918352e+04],\n",
       "         [-3.01662692e+02,  2.52539928e+04, -2.12063293e+04],\n",
       "         [-4.42553404e+02,  2.34168676e+04, -1.69658446e+04],\n",
       "         [-4.79760402e+02,  2.13574262e+04, -1.36219627e+04],\n",
       "         [ 2.52803724e+04,  2.91893295e+03, -1.10037300e+04]],\n",
       "\n",
       "        [[ 4.38754794e+02,  3.47920440e+03, -4.83009408e+04],\n",
       "         [ 1.10679153e+03,  9.96646325e+03, -4.57705210e+04],\n",
       "         [ 1.31043861e+03,  1.51951077e+04, -4.13418941e+04],\n",
       "         [ 1.10196396e+03,  1.87584716e+04, -3.59391254e+04],\n",
       "         [ 7.00727700e+02,  2.06648759e+04, -3.03942756e+04],\n",
       "         [ 3.01662692e+02,  2.12063293e+04, -2.52539928e+04],\n",
       "         [-0.00000000e+00,  2.07791648e+04, -2.07791648e+04],\n",
       "         [-1.88743703e+02,  1.97532272e+04, -1.70313832e+04],\n",
       "         [-2.86166641e+02,  1.84139775e+04, -1.39634436e+04],\n",
       "         [ 2.66179181e+04,  2.45004009e+03, -1.14829446e+04]],\n",
       "\n",
       "        [[-4.46041070e+03,  2.54003508e+03, -6.87765133e+03],\n",
       "         [-1.29521341e+04,  7.33385159e+03, -6.44761164e+03],\n",
       "         [-2.02464487e+04,  1.13497459e+04, -5.70420962e+03],\n",
       "         [-2.58248274e+04,  1.42992712e+04, -4.81646806e+03],\n",
       "         [-2.95052434e+04,  1.61286500e+04, -3.93256063e+03],\n",
       "         [-3.14155195e+04,  1.69658446e+04, -3.14354844e+03],\n",
       "         [-3.18796805e+04,  1.70313832e+04, -2.48561413e+03],\n",
       "         [-3.12879469e+04,  1.65602551e+04, -1.95921320e+03],\n",
       "         [-3.00034533e+04,  1.57557439e+04, -1.54776381e+03],\n",
       "         [-1.03190717e+03,  2.03923326e+03, -1.22974467e+03]]]])"
      ]
     },
     "execution_count": 18,
     "metadata": {},
     "output_type": "execute_result"
    }
   ],
   "source": [
    "Hdf.array"
   ]
  },
  {
   "cell_type": "code",
   "execution_count": 19,
   "metadata": {},
   "outputs": [
    {
     "data": {
      "text/plain": [
       "array([[[[-0.00000000e+00, -0.00000000e+00, -0.00000000e+00],\n",
       "         [-8.53983552e+05,  8.53983552e+05, -0.00000000e+00],\n",
       "         [-8.01056742e+05,  8.01056742e+05, -0.00000000e+00],\n",
       "         [-7.91006598e+05,  7.91006598e+05, -0.00000000e+00],\n",
       "         [-7.90456870e+05,  7.90456870e+05, -0.00000000e+00],\n",
       "         [-7.91291966e+05,  7.91291966e+05, -0.00000000e+00],\n",
       "         [-7.92162099e+05,  7.92162099e+05, -0.00000000e+00],\n",
       "         [-7.92864554e+05,  7.92864554e+05, -0.00000000e+00],\n",
       "         [-7.93404363e+05,  7.93404363e+05, -0.00000000e+00],\n",
       "         [-8.31625869e+05,  8.31625869e+05, -0.00000000e+00]],\n",
       "\n",
       "        [[ 8.53983552e+05, -0.00000000e+00, -8.53983552e+05],\n",
       "         [-0.00000000e+00,  5.64865373e+05, -5.64865373e+05],\n",
       "         [-2.83057560e+04,  6.85734729e+05, -4.05779686e+05],\n",
       "         [-1.64736665e+04,  7.31626104e+05, -3.11200664e+05],\n",
       "         [-8.46705585e+03,  7.53879197e+05, -2.50352282e+05],\n",
       "         [-4.52241459e+03,  7.66404897e+05, -2.08608389e+05],\n",
       "         [-2.56819145e+03,  7.74123078e+05, -1.78446234e+05],\n",
       "         [-1.54593999e+03,  7.79192732e+05, -1.55735484e+05],\n",
       "         [-9.78820503e+02,  7.82689507e+05, -1.38064100e+05],\n",
       "         [-1.13061590e+05,  8.22668668e+05, -1.23944443e+05]],\n",
       "\n",
       "        [[ 8.01056742e+05, -0.00000000e+00, -8.01056742e+05],\n",
       "         [ 2.83057560e+04,  4.05779686e+05, -6.85734729e+05],\n",
       "         [-0.00000000e+00,  5.60627546e+05, -5.60627546e+05],\n",
       "         [-7.14278735e+03,  6.45933662e+05, -4.60360789e+05],\n",
       "         [-6.23451110e+03,  6.94111131e+05, -3.84924571e+05],\n",
       "         [-4.31896331e+03,  7.23043631e+05, -3.28263563e+05],\n",
       "         [-2.85589159e+03,  7.41487201e+05, -2.84967701e+05],\n",
       "         [-1.89495944e+03,  7.53855308e+05, -2.51158772e+05],\n",
       "         [-1.28182797e+03,  7.62504876e+05, -2.24190738e+05],\n",
       "         [-1.85008167e+05,  8.05592480e+05, -2.02260749e+05]],\n",
       "\n",
       "        [[ 7.91006598e+05, -0.00000000e+00, -7.91006598e+05],\n",
       "         [ 1.64736665e+04,  3.11200664e+05, -7.31626104e+05],\n",
       "         [ 7.14278735e+03,  4.60360789e+05, -6.45933662e+05],\n",
       "         [-0.00000000e+00,  5.60874108e+05, -5.60874108e+05],\n",
       "         [-2.46264939e+03,  6.26594528e+05, -4.87077672e+05],\n",
       "         [-2.67429088e+03,  6.70022631e+05, -4.26134920e+05],\n",
       "         [-2.22091524e+03,  6.99493891e+05, -3.76479717e+05],\n",
       "         [-1.69656457e+03,  7.20111374e+05, -3.35938870e+05],\n",
       "         [-1.26200397e+03,  7.34964574e+05, -3.02558236e+05],\n",
       "         [-2.52324865e+05,  7.81867188e+05, -2.74776076e+05]],\n",
       "\n",
       "        [[ 7.90456870e+05, -1.15800462e-11, -7.90456870e+05],\n",
       "         [ 8.46705585e+03,  2.50352282e+05, -7.53879197e+05],\n",
       "         [ 6.23451110e+03,  3.84924571e+05, -6.94111131e+05],\n",
       "         [ 2.46264939e+03,  4.87077672e+05, -6.26594528e+05],\n",
       "         [-9.26403696e-11,  5.61364445e+05, -5.61364445e+05],\n",
       "         [-1.04942553e+03,  6.14718329e+05, -5.02855958e+05],\n",
       "         [-1.30024742e+03,  6.53246627e+05, -4.52147646e+05],\n",
       "         [-1.21467149e+03,  6.81466677e+05, -4.08799028e+05],\n",
       "         [-1.02585521e+03,  7.02504289e+05, -3.71853691e+05],\n",
       "         [-3.14001378e+05,  7.53274354e+05, -3.40287779e+05]],\n",
       "\n",
       "        [[ 7.91291966e+05, -0.00000000e+00, -7.91291966e+05],\n",
       "         [ 4.52241459e+03,  2.08608389e+05, -7.66404897e+05],\n",
       "         [ 4.31896331e+03,  3.28263563e+05, -7.23043631e+05],\n",
       "         [ 2.67429088e+03,  4.26134920e+05, -6.70022631e+05],\n",
       "         [ 1.04942553e+03,  5.02855958e+05, -6.14718329e+05],\n",
       "         [-0.00000000e+00,  5.61720697e+05, -5.61720697e+05],\n",
       "         [-5.17051239e+02,  6.06600467e+05, -5.13237545e+05],\n",
       "         [-6.98788669e+02,  6.40926517e+05, -4.69966193e+05],\n",
       "         [-7.07947368e+02,  6.67404782e+05, -4.31808509e+05],\n",
       "         [-3.69559778e+05,  7.21596065e+05, -3.98315628e+05]],\n",
       "\n",
       "        [[ 7.92162099e+05, -0.00000000e+00, -7.92162099e+05],\n",
       "         [ 2.56819145e+03,  1.78446234e+05, -7.74123078e+05],\n",
       "         [ 2.85589159e+03,  2.84967701e+05, -7.41487201e+05],\n",
       "         [ 2.22091524e+03,  3.76479717e+05, -6.99493891e+05],\n",
       "         [ 1.30024742e+03,  4.52147646e+05, -6.53246627e+05],\n",
       "         [ 5.17051239e+02,  5.13237545e+05, -6.06600467e+05],\n",
       "         [-0.00000000e+00,  5.61961894e+05, -5.61961894e+05],\n",
       "         [-2.82712925e+02,  6.00682398e+05, -5.20572564e+05],\n",
       "         [-4.06149842e+02,  6.31515148e+05, -4.82899457e+05],\n",
       "         [-4.18953128e+05,  6.88396009e+05, -4.48957631e+05]],\n",
       "\n",
       "        [[ 8.39513694e+05, -0.00000000e+00, -8.39513694e+05],\n",
       "         [ 1.39608460e+05,  1.55735484e+05, -8.25213572e+05],\n",
       "         [ 2.26079088e+05,  2.51158772e+05, -7.98692134e+05],\n",
       "         [ 3.04240413e+05,  3.35938870e+05, -7.63331924e+05],\n",
       "         [ 3.73045754e+05,  4.08799028e+05, -7.22781241e+05],\n",
       "         [ 4.32478180e+05,  4.69966193e+05, -6.80179189e+05],\n",
       "         [ 4.83149290e+05,  5.20572564e+05, -6.37825981e+05],\n",
       "         [ 5.25990355e+05,  5.62127490e+05, -5.97193514e+05],\n",
       "         [ 5.62044454e+05,  5.96172009e+05, -5.59095564e+05],\n",
       "         [ 1.30149588e+05,  6.54914095e+05, -5.23887422e+05]]],\n",
       "\n",
       "\n",
       "       [[[-0.00000000e+00, -8.53983552e+05,  8.53983552e+05],\n",
       "         [-5.64865373e+05, -0.00000000e+00,  5.64865373e+05],\n",
       "         [-6.85734729e+05,  2.83057560e+04,  4.05779686e+05],\n",
       "         [-7.31626104e+05,  1.64736665e+04,  3.11200664e+05],\n",
       "         [-7.53879197e+05,  8.46705585e+03,  2.50352282e+05],\n",
       "         [-7.66404897e+05,  4.52241459e+03,  2.08608389e+05],\n",
       "         [-7.74123078e+05,  2.56819145e+03,  1.78446234e+05],\n",
       "         [-7.79192732e+05,  1.54593999e+03,  1.55735484e+05],\n",
       "         [-7.82689507e+05,  9.78820503e+02,  1.38064100e+05],\n",
       "         [-8.22668668e+05,  1.13061590e+05,  1.23944443e+05]],\n",
       "\n",
       "        [[ 5.64865373e+05, -5.64865373e+05, -0.00000000e+00],\n",
       "         [-0.00000000e+00, -0.00000000e+00, -0.00000000e+00],\n",
       "         [-1.32355131e+04,  1.32355131e+04, -0.00000000e+00],\n",
       "         [-1.03544690e+04,  1.03544690e+04, -0.00000000e+00],\n",
       "         [-6.24653591e+03,  6.24653591e+03, -0.00000000e+00],\n",
       "         [-3.65771228e+03,  3.65771228e+03, -0.00000000e+00],\n",
       "         [-2.19800683e+03,  2.19800683e+03, -0.00000000e+00],\n",
       "         [-1.37288884e+03,  1.37288884e+03, -0.00000000e+00],\n",
       "         [-8.91553550e+02,  8.91553550e+02, -0.00000000e+00],\n",
       "         [-1.12030711e+05,  1.12030711e+05, -0.00000000e+00]],\n",
       "\n",
       "        [[ 6.85734729e+05, -4.05779686e+05, -2.83057560e+04],\n",
       "         [ 1.32355131e+04, -0.00000000e+00, -1.32355131e+04],\n",
       "         [-0.00000000e+00,  4.30765443e+03, -4.30765443e+03],\n",
       "         [-4.95097814e+03,  4.81553861e+03, -1.31782266e+03],\n",
       "         [-4.81255779e+03,  3.65880674e+03, -4.28484483e+02],\n",
       "         [-3.57460437e+03,  2.48205001e+03, -1.53312451e+02],\n",
       "         [-2.47560355e+03,  1.64257812e+03, -6.04676883e+01],\n",
       "         [-1.69560485e+03,  1.09553172e+03, -2.60562707e+01],\n",
       "         [-1.17309045e+03,  7.45098738e+02, -1.21307256e+01],\n",
       "         [-1.83389258e+05,  1.10056496e+05, -6.03706790e+00]],\n",
       "\n",
       "        [[ 7.31626104e+05, -3.11200664e+05, -1.64736665e+04],\n",
       "         [ 1.03544690e+04, -0.00000000e+00, -1.03544690e+04],\n",
       "         [ 4.95097814e+03,  1.31782266e+03, -4.81553861e+03],\n",
       "         [-0.00000000e+00,  1.97222788e+03, -1.97222788e+03],\n",
       "         [-1.99250180e+03,  1.87338411e+03, -7.92909266e+02],\n",
       "         [-2.27265362e+03,  1.49209564e+03, -3.29700781e+02],\n",
       "         [-1.95547606e+03,  1.10679153e+03, -1.44700963e+02],\n",
       "         [-1.53284901e+03,  8.01281132e+02, -6.73613924e+01],\n",
       "         [-1.16220712e+03,  5.78717206e+02, -3.31999461e+01],\n",
       "         [-2.50240110e+05,  1.07292575e+05, -1.72470613e+01]],\n",
       "\n",
       "        [[ 7.53879197e+05, -2.50352282e+05, -8.46705585e+03],\n",
       "         [ 6.24653591e+03, -0.00000000e+00, -6.24653591e+03],\n",
       "         [ 4.81255779e+03,  4.28484483e+02, -3.65880674e+03],\n",
       "         [ 1.99250180e+03,  7.92909266e+02, -1.87338411e+03],\n",
       "         [-9.26403696e-11,  9.06338367e+02, -9.06338367e+02],\n",
       "         [-9.14865259e+02,  8.36995728e+02, -4.35305980e+02],\n",
       "         [-1.16350649e+03,  6.95855791e+02, -2.13244818e+02],\n",
       "         [-1.10909779e+03,  5.49583751e+02, -1.07930692e+02],\n",
       "         [-9.51456285e+02,  4.24286038e+02, -5.67179696e+01],\n",
       "         [-3.11582568e+05,  1.03926230e+05, -3.09664711e+01]],\n",
       "\n",
       "        [[ 7.66404897e+05, -2.08608389e+05, -4.52241459e+03],\n",
       "         [ 3.65771228e+03, -0.00000000e+00, -3.65771228e+03],\n",
       "         [ 3.57460437e+03,  1.53312451e+02, -2.48205001e+03],\n",
       "         [ 2.27265362e+03,  3.29700781e+02, -1.49209564e+03],\n",
       "         [ 9.14865259e+02,  4.35305980e+02, -8.36995728e+02],\n",
       "         [-0.00000000e+00,  4.55800774e+02, -4.55800774e+02],\n",
       "         [-4.69770604e+02,  4.20469594e+02, -2.47373363e+02],\n",
       "         [-6.44758076e+02,  3.61198801e+02, -1.35927506e+02],\n",
       "         [-6.61423264e+02,  2.98268538e+02, -7.62755370e+01],\n",
       "         [-3.66930164e+05,  1.00147675e+05, -4.38911680e+01]],\n",
       "\n",
       "        [[ 7.74123078e+05, -1.78446234e+05, -2.56819145e+03],\n",
       "         [ 2.19800683e+03, -0.00000000e+00, -2.19800683e+03],\n",
       "         [ 2.47560355e+03,  6.04676883e+01, -1.64257812e+03],\n",
       "         [ 1.95547606e+03,  1.44700963e+02, -1.10679153e+03],\n",
       "         [ 1.16350649e+03,  2.13244818e+02, -6.95855791e+02],\n",
       "         [ 4.69770604e+02,  2.47373363e+02, -4.20469594e+02],\n",
       "         [-0.00000000e+00,  2.49714112e+02, -2.49714112e+02],\n",
       "         [-2.63410334e+02,  2.31601551e+02, -1.48039278e+02],\n",
       "         [-3.82160513e+02,  2.03903705e+02, -8.84862721e+01],\n",
       "         [-4.16217487e+05,  9.61285976e+04, -5.36478338e+01]],\n",
       "\n",
       "        [[ 8.25213572e+05, -1.55735484e+05, -1.39608460e+05],\n",
       "         [ 1.37624675e+05, -0.00000000e+00, -1.37624675e+05],\n",
       "         [ 2.23086053e+05,  2.60562707e+01, -1.33929801e+05],\n",
       "         [ 3.00568824e+05,  6.73613924e+01, -1.28959556e+05],\n",
       "         [ 3.68994911e+05,  1.07930692e+02, -1.23178188e+05],\n",
       "         [ 4.28282285e+05,  1.35927506e+02, -1.16989615e+05],\n",
       "         [ 4.78976219e+05,  1.48039278e+02, -1.10703788e+05],\n",
       "         [ 5.21951981e+05,  1.46892987e+02, -1.04537289e+05],\n",
       "         [ 5.58209055e+05,  1.37137666e+02, -9.86284842e+04],\n",
       "         [ 1.29300445e+05,  9.20111642e+04, -9.30562525e+04]]],\n",
       "\n",
       "\n",
       "       [[[-0.00000000e+00, -8.01056742e+05,  8.01056742e+05],\n",
       "         [-4.05779686e+05, -2.83057560e+04,  6.85734729e+05],\n",
       "         [-5.60627546e+05, -0.00000000e+00,  5.60627546e+05],\n",
       "         [-6.45933662e+05,  7.14278735e+03,  4.60360789e+05],\n",
       "         [-6.94111131e+05,  6.23451110e+03,  3.84924571e+05],\n",
       "         [-7.23043631e+05,  4.31896331e+03,  3.28263563e+05],\n",
       "         [-7.41487201e+05,  2.85589159e+03,  2.84967701e+05],\n",
       "         [-7.53855308e+05,  1.89495944e+03,  2.51158772e+05],\n",
       "         [-7.62504876e+05,  1.28182797e+03,  2.24190738e+05],\n",
       "         [-8.05592480e+05,  1.85008167e+05,  2.02260749e+05]],\n",
       "\n",
       "        [[ 4.05779686e+05, -6.85734729e+05,  2.83057560e+04],\n",
       "         [-0.00000000e+00, -1.32355131e+04,  1.32355131e+04],\n",
       "         [-4.30765443e+03, -0.00000000e+00,  4.30765443e+03],\n",
       "         [-4.81553861e+03,  4.95097814e+03,  1.31782266e+03],\n",
       "         [-3.65880674e+03,  4.81255779e+03,  4.28484483e+02],\n",
       "         [-2.48205001e+03,  3.57460437e+03,  1.53312451e+02],\n",
       "         [-1.64257812e+03,  2.47560355e+03,  6.04676883e+01],\n",
       "         [-1.09553172e+03,  1.69560485e+03,  2.60562707e+01],\n",
       "         [-7.45098738e+02,  1.17309045e+03,  1.21307256e+01],\n",
       "         [-1.10056496e+05,  1.83389258e+05,  6.03706790e+00]],\n",
       "\n",
       "        [[ 5.60627546e+05, -5.60627546e+05, -0.00000000e+00],\n",
       "         [ 4.30765443e+03, -4.30765443e+03, -0.00000000e+00],\n",
       "         [-0.00000000e+00, -0.00000000e+00, -0.00000000e+00],\n",
       "         [-2.63971619e+03,  2.63971619e+03, -0.00000000e+00],\n",
       "         [-3.02586951e+03,  3.02586951e+03, -0.00000000e+00],\n",
       "         [-2.52136347e+03,  2.52136347e+03, -0.00000000e+00],\n",
       "         [-1.89193247e+03,  1.89193247e+03, -0.00000000e+00],\n",
       "         [-1.37168869e+03,  1.37168869e+03, -0.00000000e+00],\n",
       "         [-9.89010824e+02,  9.89010824e+02, -0.00000000e+00],\n",
       "         [-1.80282162e+05,  1.80282162e+05, -0.00000000e+00]],\n",
       "\n",
       "        [[ 6.45933662e+05, -4.60360789e+05, -7.14278735e+03],\n",
       "         [ 4.81553861e+03, -1.31782266e+03, -4.95097814e+03],\n",
       "         [ 2.63971619e+03, -0.00000000e+00, -2.63971619e+03],\n",
       "         [-0.00000000e+00,  1.22865232e+03, -1.22865232e+03],\n",
       "         [-1.35270812e+03,  1.67027310e+03, -5.47596787e+02],\n",
       "         [-1.67744490e+03,  1.58520640e+03, -2.46292755e+02],\n",
       "         [-1.53653230e+03,  1.31043861e+03, -1.14646830e+02],\n",
       "         [-1.26211762e+03,  1.02104875e+03, -5.57835457e+01],\n",
       "         [-9.91305597e+02,  7.77125255e+02, -2.84322823e+01],\n",
       "         [-2.46227799e+05,  1.75918139e+05, -1.51568237e+01]],\n",
       "\n",
       "        [[ 6.94111131e+05, -3.84924571e+05, -6.23451110e+03],\n",
       "         [ 3.65880674e+03, -4.28484483e+02, -4.81255779e+03],\n",
       "         [ 3.02586951e+03, -4.63201848e-11, -3.02586951e+03],\n",
       "         [ 1.35270812e+03,  5.47596787e+02, -1.67027310e+03],\n",
       "         [-0.00000000e+00,  8.64496848e+02, -8.64496848e+02],\n",
       "         [-7.06224221e+02,  9.29051852e+02, -4.39122324e+02],\n",
       "         [-9.41300774e+02,  8.47911161e+02, -2.24976660e+02],\n",
       "         [-9.31116007e+02,  7.13910018e+02, -1.17974008e+02],\n",
       "         [-8.22370763e+02,  5.77295044e+02, -6.37530343e+01],\n",
       "         [-3.06913196e+05,  1.70582460e+05, -3.55875651e+01]],\n",
       "\n",
       "        [[ 7.23043631e+05, -3.28263563e+05, -4.31896331e+03],\n",
       "         [ 2.48205001e+03, -1.53312451e+02, -3.57460437e+03],\n",
       "         [ 2.52136347e+03,  4.63201848e-11, -2.52136347e+03],\n",
       "         [ 1.67744490e+03,  2.46292755e+02, -1.58520640e+03],\n",
       "         [ 7.06224221e+02,  4.39122324e+02, -9.29051852e+02],\n",
       "         [-9.26403696e-11,  5.26124400e+02, -5.26124400e+02],\n",
       "         [-3.90782829e+02,  5.26511505e+02, -2.95208647e+02],\n",
       "         [-5.51904295e+02,  4.78263513e+02, -1.66758478e+02],\n",
       "         [-5.79601374e+02,  4.11392236e+02, -9.57239843e+01],\n",
       "         [-3.61838421e+05,  1.64568936e+05, -5.61151031e+01]],\n",
       "\n",
       "        [[ 7.41487201e+05, -2.84967701e+05, -2.85589159e+03],\n",
       "         [ 1.64257812e+03, -6.04676883e+01, -2.47560355e+03],\n",
       "         [ 1.89193247e+03,  4.63201848e-11, -1.89193247e+03],\n",
       "         [ 1.53653230e+03,  1.14646830e+02, -1.31043861e+03],\n",
       "         [ 9.41300774e+02,  2.24976660e+02, -8.47911161e+02],\n",
       "         [ 3.90782829e+02,  2.95208647e+02, -5.26511505e+02],\n",
       "         [-0.00000000e+00,  3.20437327e+02, -3.20437327e+02],\n",
       "         [-2.29634951e+02,  3.12220684e+02, -1.94046276e+02],\n",
       "         [-3.39410414e+02,  2.84988807e+02, -1.18106025e+02],\n",
       "         [-4.10905104e+05,  1.58146693e+05, -7.27100126e+01]],\n",
       "\n",
       "        [[ 7.98692134e+05, -2.51158772e+05, -2.26079088e+05],\n",
       "         [ 1.33929801e+05, -2.60562707e+01, -2.23086053e+05],\n",
       "         [ 2.17474438e+05, -0.00000000e+00, -2.17474438e+05],\n",
       "         [ 2.93633502e+05,  5.57835457e+01, -2.09857752e+05],\n",
       "         [ 3.61289058e+05,  1.17974008e+02, -2.00912767e+05],\n",
       "         [ 4.20251154e+05,  1.66758478e+02, -1.91250650e+05],\n",
       "         [ 4.70946678e+05,  1.94046276e+02, -1.81357237e+05],\n",
       "         [ 5.14146652e+05,  2.01265579e+02, -1.71583483e+05],\n",
       "         [ 5.50767321e+05,  1.94062102e+02, -1.62161620e+05],\n",
       "         [ 1.27649701e+05,  1.51541916e+05, -1.53230381e+05]]],\n",
       "\n",
       "\n",
       "       [[[-0.00000000e+00, -8.78354221e+05,  8.78354221e+05],\n",
       "         [-3.11200664e+05, -2.66733237e+05,  8.15045961e+05],\n",
       "         [-4.60360789e+05, -3.91795015e+05,  7.22864108e+05],\n",
       "         [-5.60874108e+05, -4.86690118e+05,  6.30401267e+05],\n",
       "         [-6.26594528e+05, -5.58506326e+05,  5.49407558e+05],\n",
       "         [-6.70022631e+05, -6.11702501e+05,  4.81987356e+05],\n",
       "         [-6.99493891e+05, -6.50754195e+05,  4.26708572e+05],\n",
       "         [-7.20111374e+05, -6.79562364e+05,  3.81356132e+05],\n",
       "         [-7.34964574e+05, -7.01085596e+05,  3.43872801e+05],\n",
       "         [-7.81867188e+05, -4.66034692e+05,  3.12584474e+05]],\n",
       "\n",
       "        [[ 3.11200664e+05, -8.15045961e+05,  2.66733237e+05],\n",
       "         [-0.00000000e+00, -2.50289573e+05,  2.50289573e+05],\n",
       "         [-1.31782266e+03, -3.75982852e+05,  2.27434663e+05],\n",
       "         [-1.97222788e+03, -4.72477113e+05,  2.04462419e+05],\n",
       "         [-1.87338411e+03, -5.45697219e+05,  1.83356150e+05],\n",
       "         [-1.49209564e+03, -6.00344644e+05,  1.64679873e+05],\n",
       "         [-1.10679153e+03, -6.40855977e+05,  1.48485806e+05],\n",
       "         [-8.01281132e+02, -6.71019538e+05,  1.34577839e+05],\n",
       "         [-5.78717206e+02, -6.93733218e+05,  1.22661804e+05],\n",
       "         [-1.07292575e+05, -4.61719680e+05,  1.12431951e+05]],\n",
       "\n",
       "        [[ 4.60360789e+05, -7.22864108e+05,  3.91795015e+05],\n",
       "         [ 1.31782266e+03, -2.27434663e+05,  3.75982852e+05],\n",
       "         [-0.00000000e+00, -3.50275515e+05,  3.50275515e+05],\n",
       "         [-1.22865232e+03, -4.47427143e+05,  3.20819469e+05],\n",
       "         [-1.67027310e+03, -5.22382587e+05,  2.91511649e+05],\n",
       "         [-1.58520640e+03, -5.79314207e+05,  2.64333407e+05],\n",
       "         [-1.31043861e+03, -6.22294739e+05,  2.40049751e+05],\n",
       "         [-1.02104875e+03, -6.54833895e+05,  2.18754454e+05],\n",
       "         [-7.77125255e+02, -6.79684806e+05,  2.00227289e+05],\n",
       "         [-1.75918139e+05, -4.53429384e+05,  1.84135468e+05]],\n",
       "\n",
       "        [[ 5.60874108e+05, -6.30401267e+05,  4.86690118e+05],\n",
       "         [ 1.97222788e+03, -2.04462419e+05,  4.72477113e+05],\n",
       "         [ 1.22865232e+03, -3.20819469e+05,  4.47427143e+05],\n",
       "         [-0.00000000e+00, -4.16352964e+05,  4.16352964e+05],\n",
       "         [-8.13488690e+02, -4.92237027e+05,  3.83483735e+05],\n",
       "         [-1.11329196e+03, -5.51404109e+05,  3.51601983e+05],\n",
       "         [-1.10196396e+03, -5.97168957e+05,  3.22145880e+05],\n",
       "         [-9.61284885e+02, -6.32568764e+05,  2.95647356e+05],\n",
       "         [-7.91118061e+02, -6.60103242e+05,  2.72132972e+05],\n",
       "         [-2.40568841e+05, -4.41774552e+05,  2.51389671e+05]],\n",
       "\n",
       "        [[ 6.26594528e+05, -5.49407558e+05,  5.58506326e+05],\n",
       "         [ 1.87338411e+03, -1.83356150e+05,  5.45697219e+05],\n",
       "         [ 1.67027310e+03, -2.91511649e+05,  5.22382587e+05],\n",
       "         [ 8.13488690e+02, -3.83483735e+05,  4.92237027e+05],\n",
       "         [-0.00000000e+00, -4.58984313e+05,  4.58984313e+05],\n",
       "         [-4.95303446e+02, -5.19653798e+05,  4.25486482e+05],\n",
       "         [-7.00727700e+02, -5.67876645e+05,  3.93522685e+05],\n",
       "         [-7.27536179e+02, -6.06083104e+05,  3.63989379e+05],\n",
       "         [-6.68109710e+02, -6.36418427e+05,  3.37202507e+05],\n",
       "         [-3.00297118e+05, -4.27524210e+05,  3.13147248e+05]],\n",
       "\n",
       "        [[ 6.70022631e+05, -4.81987356e+05,  6.11702501e+05],\n",
       "         [ 1.49209564e+03, -1.64679873e+05,  6.00344644e+05],\n",
       "         [ 1.58520640e+03, -2.64333407e+05,  5.79314207e+05],\n",
       "         [ 1.11329196e+03, -3.51601983e+05,  5.51404109e+05],\n",
       "         [ 4.95303446e+02, -4.25486482e+05,  5.19653798e+05],\n",
       "         [-0.00000000e+00, -4.86648704e+05,  4.86648704e+05],\n",
       "         [-3.01662692e+02, -5.36613154e+05,  4.54219718e+05],\n",
       "         [-4.42553404e+02, -5.77179702e+05,  4.23471640e+05],\n",
       "         [-4.79760402e+02, -6.10083482e+05,  3.94957449e+05],\n",
       "         [-3.54590121e+05, -4.11485241e+05,  3.68866763e+05]],\n",
       "\n",
       "        [[ 6.99493891e+05, -4.26708572e+05,  6.50754195e+05],\n",
       "         [ 1.10679153e+03, -1.48485806e+05,  6.40855977e+05],\n",
       "         [ 1.31043861e+03, -2.40049751e+05,  6.22294739e+05],\n",
       "         [ 1.10196396e+03, -3.22145880e+05,  5.97168957e+05],\n",
       "         [ 7.00727700e+02, -3.93522685e+05,  5.67876645e+05],\n",
       "         [ 3.01662692e+02, -4.54219718e+05,  5.36613154e+05],\n",
       "         [-0.00000000e+00, -5.05090363e+05,  5.05090363e+05],\n",
       "         [-1.88743703e+02, -5.47372739e+05,  4.74477787e+05],\n",
       "         [-2.86166641e+02, -5.82393152e+05,  4.45477303e+05],\n",
       "         [-4.03308573e+05, -3.94405183e+05,  4.18443547e+05]],\n",
       "\n",
       "        [[ 7.63331924e+05, -3.81356132e+05,  3.77018516e+05],\n",
       "         [ 1.28959556e+05, -1.34577839e+05,  3.71983562e+05],\n",
       "         [ 2.09857752e+05, -2.18754454e+05,  3.62462511e+05],\n",
       "         [ 2.84121800e+05, -2.95647356e+05,  3.49408249e+05],\n",
       "         [ 3.50612786e+05, -3.63989379e+05,  3.33950132e+05],\n",
       "         [ 4.09021965e+05, -4.23471640e+05,  3.17174622e+05],\n",
       "         [ 4.59629490e+05, -4.74477787e+05,  2.99981568e+05],\n",
       "         [ 5.03068585e+05, -5.17796276e+05,  2.83030937e+05],\n",
       "         [ 5.40140943e+05, -5.54388652e+05,  2.66755481e+05],\n",
       "         [ 1.25285518e+05, -3.76913042e+05,  2.51405106e+05]]]])"
      ]
     },
     "execution_count": 19,
     "metadata": {},
     "output_type": "execute_result"
    }
   ],
   "source": [
    "Hoc.array"
   ]
  },
  {
   "cell_type": "code",
   "execution_count": null,
   "metadata": {},
   "outputs": [],
   "source": []
  }
 ],
 "metadata": {
  "kernelspec": {
   "display_name": "Python 3",
   "language": "python",
   "name": "python3"
  },
  "language_info": {
   "codemirror_mode": {
    "name": "ipython",
    "version": 3
   },
   "file_extension": ".py",
   "mimetype": "text/x-python",
   "name": "python",
   "nbconvert_exporter": "python",
   "pygments_lexer": "ipython3",
   "version": "3.8.3"
  }
 },
 "nbformat": 4,
 "nbformat_minor": 4
}
