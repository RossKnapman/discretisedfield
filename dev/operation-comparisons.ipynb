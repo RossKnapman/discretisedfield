{
 "cells": [
  {
   "cell_type": "markdown",
   "metadata": {},
   "source": [
    "# Comparison of operations woth OOMMF"
   ]
  },
  {
   "cell_type": "code",
   "execution_count": 1,
   "metadata": {},
   "outputs": [],
   "source": [
    "import discretisedfield as df\n",
    "import micromagneticmodel as mm\n",
    "import oommfc as oc\n",
    "import numpy as np"
   ]
  },
  {
   "cell_type": "markdown",
   "metadata": {},
   "source": [
    "Sample"
   ]
  },
  {
   "cell_type": "code",
   "execution_count": 2,
   "metadata": {},
   "outputs": [],
   "source": [
    "p1=(0, 0, 0)\n",
    "p2=(4e-9, 1e-9, 1e-9)\n",
    "cell = (1e-9, 1e-9, 1e-9)\n",
    "\n",
    "region = df.Region(p1=p1, p2=p2)\n",
    "mesh = df.Mesh(region=region, cell=cell, bc='neumann') "
   ]
  },
  {
   "cell_type": "markdown",
   "metadata": {},
   "source": [
    "Parameters"
   ]
  },
  {
   "cell_type": "code",
   "execution_count": 3,
   "metadata": {},
   "outputs": [],
   "source": [
    "Ms = 1e6\n",
    "A = 1e-12\n",
    "D = 1e-3\n",
    "K = 1e5\n",
    "u = (0, 0, 1)\n",
    "H = (1e6, 0, 0)\n",
    "mu0 = 4 * np.pi * 1e-7"
   ]
  },
  {
   "cell_type": "markdown",
   "metadata": {},
   "source": [
    "Magnetisation field"
   ]
  },
  {
   "cell_type": "code",
   "execution_count": 4,
   "metadata": {},
   "outputs": [
    {
     "data": {
      "image/png": "[encoded data removed]",
      "text/plain": [
       "<Figure size 432x288 with 2 Axes>"
      ]
     },
     "metadata": {
      "needs_background": "light"
     },
     "output_type": "display_data"
    }
   ],
   "source": [
    "def m_value(point):\n",
    "    x, y, z = point\n",
    "    c = 1e9\n",
    "    return (c*x, -c*y, c*z*x)\n",
    "\n",
    "M = df.Field(mesh, dim=3, value=m_value, norm=Ms)\n",
    "m = M.orientation\n",
    "\n",
    "m.plane('z').mpl()"
   ]
  },
  {
   "cell_type": "code",
   "execution_count": 5,
   "metadata": {},
   "outputs": [],
   "source": [
    "system = mm.System(name='mysystem')\n",
    "system.energy = (mm.Exchange(A=A) + mm.DMI(D=D, crystalclass='T') +\n",
    "                 mm.UniaxialAnisotropy(K=K, u=u) + mm.Zeeman(H=H))\n",
    "system.m = M"
   ]
  },
  {
   "cell_type": "markdown",
   "metadata": {},
   "source": [
    "## Zeeman\n",
    "\n",
    "#### Energy density"
   ]
  },
  {
   "cell_type": "code",
   "execution_count": 6,
   "metadata": {},
   "outputs": [
    {
     "name": "stdout",
     "output_type": "stream",
     "text": [
      "Running OOMMF (ExeOOMMFRunner) [2020/06/04 21:27]... (2.4 s)\n"
     ]
    },
    {
     "data": {
      "text/plain": [
       "True"
      ]
     },
     "execution_count": 6,
     "metadata": {},
     "output_type": "execute_result"
    }
   ],
   "source": [
    "wdf = - mu0 * Ms * m @ H\n",
    "woc = oc.compute(system.energy.zeeman.density, system)\n",
    "np.allclose(wdf.array, woc.array)"
   ]
  },
  {
   "cell_type": "markdown",
   "metadata": {},
   "source": [
    "#### Energy"
   ]
  },
  {
   "cell_type": "code",
   "execution_count": 7,
   "metadata": {},
   "outputs": [
    {
     "name": "stdout",
     "output_type": "stream",
     "text": [
      "Running OOMMF (ExeOOMMFRunner) [2020/06/04 21:27]... (2.2 s)\n",
      "df: -4.556968421012632e-21\n",
      "oc: -4.55696842101e-21\n",
      "rerr: -5.776548762812023e-11 %\n"
     ]
    }
   ],
   "source": [
    "Edf = (- mu0 * Ms * m @ H).integral\n",
    "Eoc = oc.compute(system.energy.zeeman.energy, system)\n",
    "print(f'df: {Edf}')\n",
    "print(f'oc: {Eoc}')\n",
    "print(f'rerr: {abs(Edf-Eoc)/Edf * 100} %')"
   ]
  },
  {
   "cell_type": "markdown",
   "metadata": {},
   "source": [
    "#### Effective field"
   ]
  },
  {
   "cell_type": "code",
   "execution_count": 8,
   "metadata": {},
   "outputs": [
    {
     "name": "stdout",
     "output_type": "stream",
     "text": [
      "Running OOMMF (ExeOOMMFRunner) [2020/06/04 21:27]... (1.8 s)\n"
     ]
    },
    {
     "data": {
      "text/plain": [
       "True"
      ]
     },
     "execution_count": 8,
     "metadata": {},
     "output_type": "execute_result"
    }
   ],
   "source": [
    "Hdf = df.Field(mesh, dim=3, value=H)\n",
    "Hoc = oc.compute(system.energy.zeeman.effective_field, system)\n",
    "np.allclose(Hdf.array, Hoc.array)"
   ]
  },
  {
   "cell_type": "markdown",
   "metadata": {},
   "source": [
    "## Uniaxial anisotropy\n",
    "\n",
    "#### Energy density"
   ]
  },
  {
   "cell_type": "code",
   "execution_count": 9,
   "metadata": {},
   "outputs": [
    {
     "name": "stdout",
     "output_type": "stream",
     "text": [
      "Running OOMMF (ExeOOMMFRunner) [2020/06/04 21:27]... (2.5 s)\n"
     ]
    },
    {
     "data": {
      "text/plain": [
       "False"
      ]
     },
     "execution_count": 9,
     "metadata": {},
     "output_type": "execute_result"
    }
   ],
   "source": [
    "wdf = - K * (m @ u)**2\n",
    "woc = oc.compute(system.energy.uniaxialanisotropy.density, system)\n",
    "np.allclose(wdf.array, woc.array)"
   ]
  },
  {
   "cell_type": "markdown",
   "metadata": {},
   "source": [
    "#### Energy"
   ]
  },
  {
   "cell_type": "code",
   "execution_count": 10,
   "metadata": {},
   "outputs": [
    {
     "name": "stdout",
     "output_type": "stream",
     "text": [
      "Running OOMMF (ExeOOMMFRunner) [2020/06/04 21:27]... (2.2 s)\n",
      "df: 8.353846153846153e-41\n",
      "oc: 4e-22\n",
      "rerr: 4.788213627992634e+20 %\n"
     ]
    }
   ],
   "source": [
    "Edf = (K * (m @ u)**2).integral\n",
    "Eoc = oc.compute(system.energy.uniaxialanisotropy.energy, system)\n",
    "print(f'df: {Edf}')\n",
    "print(f'oc: {Eoc}')\n",
    "print(f'rerr: {abs(Edf-Eoc)/Edf * 100} %')"
   ]
  },
  {
   "cell_type": "markdown",
   "metadata": {},
   "source": [
    "#### Effective field"
   ]
  },
  {
   "cell_type": "code",
   "execution_count": 11,
   "metadata": {},
   "outputs": [
    {
     "name": "stdout",
     "output_type": "stream",
     "text": [
      "Running OOMMF (ExeOOMMFRunner) [2020/06/04 21:27]... (2.1 s)\n"
     ]
    },
    {
     "data": {
      "text/plain": [
       "False"
      ]
     },
     "execution_count": 11,
     "metadata": {},
     "output_type": "execute_result"
    }
   ],
   "source": [
    "Hdf = 2 * K / (mu0 * Ms) * (m @ u)\n",
    "Hoc = oc.compute(system.energy.uniaxialanisotropy.effective_field, system)\n",
    "np.allclose(Hdf.array, Hoc.array)"
   ]
  },
  {
   "cell_type": "markdown",
   "metadata": {},
   "source": [
    "## Exchange\n",
    "\n",
    "#### Energy density"
   ]
  },
  {
   "cell_type": "code",
   "execution_count": 13,
   "metadata": {},
   "outputs": [
    {
     "name": "stdout",
     "output_type": "stream",
     "text": [
      "Running OOMMF (ExeOOMMFRunner) [2020/06/04 21:27]... (2.0 s)\n"
     ]
    },
    {
     "data": {
      "text/plain": [
       "True"
      ]
     },
     "execution_count": 13,
     "metadata": {},
     "output_type": "execute_result"
    }
   ],
   "source": [
    "wdf = - A * m @ m.laplace\n",
    "woc = oc.compute(system.energy.exchange.density, system)\n",
    "np.allclose(wdf.array, woc.array)"
   ]
  },
  {
   "cell_type": "markdown",
   "metadata": {},
   "source": [
    "#### Energy"
   ]
  },
  {
   "cell_type": "code",
   "execution_count": 14,
   "metadata": {},
   "outputs": [
    {
     "name": "stdout",
     "output_type": "stream",
     "text": [
      "Running OOMMF (ExeOOMMFRunner) [2020/06/04 21:27]... (1.9 s)\n",
      "df: 2.2966915816200814e-22\n",
      "oc: 2.29669158162e-22\n",
      "rerr: 3.5417994182537243e-12 %\n"
     ]
    }
   ],
   "source": [
    "Edf = (- A * m @ m.laplace).integral\n",
    "Eoc = oc.compute(system.energy.exchange.energy, system)\n",
    "print(f'df: {Edf}')\n",
    "print(f'oc: {Eoc}')\n",
    "print(f'rerr: {abs(Edf-Eoc)/Edf * 100} %')"
   ]
  },
  {
   "cell_type": "markdown",
   "metadata": {},
   "source": [
    "#### Effective field"
   ]
  },
  {
   "cell_type": "code",
   "execution_count": 15,
   "metadata": {},
   "outputs": [
    {
     "name": "stdout",
     "output_type": "stream",
     "text": [
      "Running OOMMF (ExeOOMMFRunner) [2020/06/04 21:27]... (1.8 s)\n"
     ]
    },
    {
     "data": {
      "text/plain": [
       "True"
      ]
     },
     "execution_count": 15,
     "metadata": {},
     "output_type": "execute_result"
    }
   ],
   "source": [
    "Hdf = 2 * A / (mu0 * Ms) * m.laplace\n",
    "Hoc = oc.compute(system.energy.exchange.effective_field, system)\n",
    "np.allclose(Hdf.array, Hoc.array)"
   ]
  },
  {
   "cell_type": "markdown",
   "metadata": {},
   "source": [
    "## DMI\n",
    "\n",
    "#### Energy density"
   ]
  },
  {
   "cell_type": "code",
   "execution_count": 16,
   "metadata": {},
   "outputs": [
    {
     "name": "stdout",
     "output_type": "stream",
     "text": [
      "Running OOMMF (ExeOOMMFRunner) [2020/06/04 21:27]... (1.8 s)\n"
     ]
    },
    {
     "data": {
      "text/plain": [
       "True"
      ]
     },
     "execution_count": 16,
     "metadata": {},
     "output_type": "execute_result"
    }
   ],
   "source": [
    "wdf = D * m @ m.curl\n",
    "woc = oc.compute(system.energy.dmi.density, system)\n",
    "np.allclose(wdf.array, woc.array)"
   ]
  },
  {
   "cell_type": "markdown",
   "metadata": {},
   "source": [
    "#### Energy"
   ]
  },
  {
   "cell_type": "code",
   "execution_count": 17,
   "metadata": {},
   "outputs": [
    {
     "name": "stdout",
     "output_type": "stream",
     "text": [
      "Running OOMMF (ExeOOMMFRunner) [2020/06/04 21:27]... (1.8 s)\n",
      "df: 3.1335917485584463e-31\n",
      "oc: 3.13359174856e-31\n",
      "rerr: 4.958175145294178e-11 %\n"
     ]
    }
   ],
   "source": [
    "Edf = (D * m @ m.curl).integral\n",
    "Eoc = oc.compute(system.energy.dmi.energy, system)\n",
    "print(f'df: {Edf}')\n",
    "print(f'oc: {Eoc}')\n",
    "print(f'rerr: {abs(Edf-Eoc)/Edf * 100} %')"
   ]
  },
  {
   "cell_type": "markdown",
   "metadata": {},
   "source": [
    "#### Effective field"
   ]
  },
  {
   "cell_type": "code",
   "execution_count": 18,
   "metadata": {},
   "outputs": [
    {
     "name": "stdout",
     "output_type": "stream",
     "text": [
      "Running OOMMF (ExeOOMMFRunner) [2020/06/04 21:28]... (1.8 s)\n"
     ]
    },
    {
     "data": {
      "text/plain": [
       "False"
      ]
     },
     "execution_count": 18,
     "metadata": {},
     "output_type": "execute_result"
    }
   ],
   "source": [
    "Hdf = - 2 * D / (mu0 * Ms) * m.curl\n",
    "Hoc = oc.compute(system.energy.dmi.effective_field, system)\n",
    "np.allclose(Hdf.array, Hoc.array)"
   ]
  },
  {
   "cell_type": "code",
   "execution_count": null,
   "metadata": {},
   "outputs": [],
   "source": [
    "Hdf.array"
   ]
  },
  {
   "cell_type": "code",
   "execution_count": null,
   "metadata": {},
   "outputs": [],
   "source": [
    "Hoc.array"
   ]
  }
 ],
 "metadata": {
  "kernelspec": {
   "display_name": "Python 3",
   "language": "python",
   "name": "python3"
  },
  "language_info": {
   "codemirror_mode": {
    "name": "ipython",
    "version": 3
   },
   "file_extension": ".py",
   "mimetype": "text/x-python",
   "name": "python",
   "nbconvert_exporter": "python",
   "pygments_lexer": "ipython3",
   "version": "3.8.3"
  }
 },
 "nbformat": 4,
 "nbformat_minor": 4
}
