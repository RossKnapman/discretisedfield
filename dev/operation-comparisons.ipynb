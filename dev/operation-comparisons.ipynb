{
 "cells": [
  {
   "cell_type": "code",
   "execution_count": 1,
   "metadata": {},
   "outputs": [],
   "source": [
    "import discretisedfield as df\n",
    "import micromagneticmodel as mm\n",
    "import oommfc as oc\n",
    "import numpy as np\n",
    "\n",
    "mesh = df.Mesh(p1=(0, 0, 0), p2=(5e-9, 1e-9, 1e-9), n=(5, 1, 1)) "
   ]
  },
  {
   "cell_type": "code",
   "execution_count": 2,
   "metadata": {},
   "outputs": [],
   "source": [
    "H = (1, 0, 0)\n",
    "H_field = df.Field(mesh, dim=3, value=H)"
   ]
  },
  {
   "cell_type": "code",
   "execution_count": 3,
   "metadata": {},
   "outputs": [],
   "source": [
    "Ms = 1\n",
    "A = 1\n",
    "D = 1\n",
    "mu0 = 4 * np.pi * 1e-7"
   ]
  },
  {
   "cell_type": "code",
   "execution_count": 4,
   "metadata": {},
   "outputs": [],
   "source": [
    "def m_value(point):\n",
    "    x, y, z = point\n",
    "    c = 1e9\n",
    "    return (c*x, c*x+10, c*x+20)"
   ]
  },
  {
   "cell_type": "code",
   "execution_count": 5,
   "metadata": {},
   "outputs": [
    {
     "data": {
      "text/plain": [
       "array([[[[0.88983372]]],\n",
       "\n",
       "\n",
       "       [[[0.88012072]]],\n",
       "\n",
       "\n",
       "       [[[0.87006284]]],\n",
       "\n",
       "\n",
       "       [[[0.85996395]]],\n",
       "\n",
       "\n",
       "       [[[0.85002345]]]])"
      ]
     },
     "execution_count": 5,
     "metadata": {},
     "output_type": "execute_result"
    },
    {
     "data": {
      "image/png": "[encoded data removed]",
      "text/plain": [
       "<Figure size 432x288 with 2 Axes>"
      ]
     },
     "metadata": {
      "needs_background": "light"
     },
     "output_type": "display_data"
    }
   ],
   "source": [
    "m = df.Field(mesh, dim=3, value=m_value, norm=Ms, bc='neumann')\n",
    "m.plane('y').mpl()\n",
    "\n",
    "m.z.array"
   ]
  },
  {
   "cell_type": "code",
   "execution_count": 6,
   "metadata": {},
   "outputs": [],
   "source": [
    "system = mm.System(name='mysystem')\n",
    "\n",
    "system.energy = mm.Zeeman(H=H) + mm.Exchange(A=A) + mm.DMI(D=D, crystalclass='T')\n",
    "system.m = m"
   ]
  },
  {
   "cell_type": "markdown",
   "metadata": {},
   "source": [
    "## Zeeman"
   ]
  },
  {
   "cell_type": "code",
   "execution_count": 7,
   "metadata": {},
   "outputs": [
    {
     "data": {
      "text/plain": [
       "array([[[[-2.72731227e-08]]],\n",
       "\n",
       "\n",
       "       [[[-7.71622547e-08]]],\n",
       "\n",
       "\n",
       "       [[[-1.21483690e-07]]],\n",
       "\n",
       "\n",
       "       [[[-1.60949745e-07]]],\n",
       "\n",
       "\n",
       "       [[[-1.96194669e-07]]]])"
      ]
     },
     "execution_count": 7,
     "metadata": {},
     "output_type": "execute_result"
    }
   ],
   "source": [
    "wdf = -mu0 * Ms * m @ H_field\n",
    "wdf.array"
   ]
  },
  {
   "cell_type": "code",
   "execution_count": 8,
   "metadata": {},
   "outputs": [
    {
     "name": "stdout",
     "output_type": "stream",
     "text": [
      "Running OOMMF (ExeOOMMFRunner) [2020/06/04 12:08]... (1.7 s)\n"
     ]
    },
    {
     "data": {
      "text/plain": [
       "array([[[[-2.72731227e-08]]],\n",
       "\n",
       "\n",
       "       [[[-7.71622547e-08]]],\n",
       "\n",
       "\n",
       "       [[[-1.21483690e-07]]],\n",
       "\n",
       "\n",
       "       [[[-1.60949745e-07]]],\n",
       "\n",
       "\n",
       "       [[[-1.96194669e-07]]]])"
      ]
     },
     "execution_count": 8,
     "metadata": {},
     "output_type": "execute_result"
    }
   ],
   "source": [
    "woc = oc.compute(system.energy.zeeman.density, system)\n",
    "woc.array"
   ]
  },
  {
   "cell_type": "code",
   "execution_count": 9,
   "metadata": {},
   "outputs": [
    {
     "data": {
      "text/plain": [
       "True"
      ]
     },
     "execution_count": 9,
     "metadata": {},
     "output_type": "execute_result"
    }
   ],
   "source": [
    "np.allclose(wdf.array, woc.array)"
   ]
  },
  {
   "cell_type": "markdown",
   "metadata": {},
   "source": [
    "# Exchange"
   ]
  },
  {
   "cell_type": "code",
   "execution_count": 10,
   "metadata": {},
   "outputs": [
    {
     "data": {
      "text/plain": [
       "'neumann'"
      ]
     },
     "execution_count": 10,
     "metadata": {},
     "output_type": "execute_result"
    }
   ],
   "source": [
    "m.bc"
   ]
  },
  {
   "cell_type": "code",
   "execution_count": 11,
   "metadata": {},
   "outputs": [
    {
     "name": "stdout",
     "output_type": "stream",
     "text": [
      "neumann\n",
      "edge\n",
      "neumann\n",
      "edge\n",
      "neumann\n",
      "edge\n"
     ]
    },
    {
     "data": {
      "text/plain": [
       "array([[[[ 9.47642764e+14]]],\n",
       "\n",
       "\n",
       "       [[[-1.14326731e+15]]],\n",
       "\n",
       "\n",
       "       [[[-9.03121864e+14]]],\n",
       "\n",
       "\n",
       "       [[[-7.18123981e+14]]],\n",
       "\n",
       "\n",
       "       [[[-9.67410322e+14]]]])"
      ]
     },
     "execution_count": 11,
     "metadata": {},
     "output_type": "execute_result"
    }
   ],
   "source": [
    "#wdf = A * (m.x.grad.norm**2 + m.y.grad.norm**2 + m.z.grad.norm**2)\n",
    "#wdf = -A * m @ df.stack([m.x.grad.div, m.y.grad.div, m.z.grad.div])\n",
    "wdf = -A * m @ m.laplacian\n",
    "wdf.array"
   ]
  },
  {
   "cell_type": "code",
   "execution_count": 12,
   "metadata": {},
   "outputs": [
    {
     "name": "stdout",
     "output_type": "stream",
     "text": [
      "Running OOMMF (ExeOOMMFRunner) [2020/06/04 12:08]... (1.9 s)\n"
     ]
    },
    {
     "data": {
      "text/plain": [
       "array([[[[9.47642764e+14]]],\n",
       "\n",
       "\n",
       "       [[[1.69966098e+15]]],\n",
       "\n",
       "\n",
       "       [[[1.35293279e+15]]],\n",
       "\n",
       "\n",
       "       [[[1.08461973e+15]]],\n",
       "\n",
       "\n",
       "       [[[4.83705161e+14]]]])"
      ]
     },
     "execution_count": 12,
     "metadata": {},
     "output_type": "execute_result"
    }
   ],
   "source": [
    "woc = oc.compute(system.energy.exchange.density, system)\n",
    "woc.array"
   ]
  },
  {
   "cell_type": "code",
   "execution_count": 13,
   "metadata": {},
   "outputs": [
    {
     "data": {
      "text/plain": [
       "False"
      ]
     },
     "execution_count": 13,
     "metadata": {},
     "output_type": "execute_result"
    }
   ],
   "source": [
    "np.allclose(wdf.array, woc.array)"
   ]
  },
  {
   "cell_type": "markdown",
   "metadata": {},
   "source": [
    "## DMI"
   ]
  },
  {
   "cell_type": "code",
   "execution_count": 14,
   "metadata": {},
   "outputs": [
    {
     "data": {
      "text/plain": [
       "False"
      ]
     },
     "execution_count": 14,
     "metadata": {},
     "output_type": "execute_result"
    }
   ],
   "source": [
    "m.bc is None"
   ]
  },
  {
   "cell_type": "code",
   "execution_count": 15,
   "metadata": {},
   "outputs": [
    {
     "name": "stdout",
     "output_type": "stream",
     "text": [
      "neumann\n",
      "edge\n",
      "neumann\n",
      "edge\n"
     ]
    },
    {
     "data": {
      "text/plain": [
       "array([[[[ 8884414.02610536]]],\n",
       "\n",
       "\n",
       "       [[[16799249.52537297]]],\n",
       "\n",
       "\n",
       "       [[[14990227.25451686]]],\n",
       "\n",
       "\n",
       "       [[[13423542.24644487]]],\n",
       "\n",
       "\n",
       "       [[[ 6348150.49119563]]]])"
      ]
     },
     "execution_count": 15,
     "metadata": {},
     "output_type": "execute_result"
    }
   ],
   "source": [
    "wdf = D * m @ m.curl\n",
    "wdf.array"
   ]
  },
  {
   "cell_type": "code",
   "execution_count": 16,
   "metadata": {},
   "outputs": [
    {
     "name": "stdout",
     "output_type": "stream",
     "text": [
      "Running OOMMF (ExeOOMMFRunner) [2020/06/04 12:08]... (1.8 s)\n"
     ]
    },
    {
     "data": {
      "text/plain": [
       "array([[[[ 8884414.02610537]]],\n",
       "\n",
       "\n",
       "       [[[16799249.525373  ]]],\n",
       "\n",
       "\n",
       "       [[[14990227.2545168 ]]],\n",
       "\n",
       "\n",
       "       [[[13423542.2464449 ]]],\n",
       "\n",
       "\n",
       "       [[[ 6348150.49119562]]]])"
      ]
     },
     "execution_count": 16,
     "metadata": {},
     "output_type": "execute_result"
    }
   ],
   "source": [
    "woc = oc.compute(system.energy.dmi.density, system)\n",
    "woc.array"
   ]
  },
  {
   "cell_type": "code",
   "execution_count": 17,
   "metadata": {},
   "outputs": [
    {
     "data": {
      "text/plain": [
       "True"
      ]
     },
     "execution_count": 17,
     "metadata": {},
     "output_type": "execute_result"
    }
   ],
   "source": [
    "np.allclose(wdf.array, woc.array)"
   ]
  },
  {
   "cell_type": "markdown",
   "metadata": {},
   "source": [
    "## Anisotropy"
   ]
  },
  {
   "cell_type": "code",
   "execution_count": 18,
   "metadata": {},
   "outputs": [
    {
     "data": {
      "text/plain": [
       "array([[[[0.02170326, 0.45576849, 0.88983372]]],\n",
       "\n",
       "\n",
       "       [[[0.06140377, 0.47076225, 0.88012072]]],\n",
       "\n",
       "\n",
       "       [[[0.09667365, 0.48336824, 0.87006284]]],\n",
       "\n",
       "\n",
       "       [[[0.12807974, 0.49402184, 0.85996395]]],\n",
       "\n",
       "\n",
       "       [[[0.15612676, 0.50307511, 0.85002345]]]])"
      ]
     },
     "execution_count": 18,
     "metadata": {},
     "output_type": "execute_result"
    }
   ],
   "source": [
    "m.array"
   ]
  },
  {
   "cell_type": "code",
   "execution_count": 19,
   "metadata": {},
   "outputs": [],
   "source": [
    "m0 = np.squeeze(m.array[0, ...])\n",
    "m1 = np.squeeze(m.array[1, ...])\n",
    "m2 = np.squeeze(m.array[2, ...])\n",
    "m3 = np.squeeze(m.array[3, ...])\n",
    "m4 = np.squeeze(m.array[4, ...])"
   ]
  },
  {
   "cell_type": "code",
   "execution_count": 20,
   "metadata": {},
   "outputs": [
    {
     "data": {
      "text/plain": [
       "1.352932788508898"
      ]
     },
     "execution_count": 20,
     "metadata": {},
     "output_type": "execute_result"
    }
   ],
   "source": [
    "((1 - np.dot(m2, m1)) + (1 - np.dot(m3, m2))) / (1e-9**2) /1e15"
   ]
  },
  {
   "cell_type": "code",
   "execution_count": 21,
   "metadata": {},
   "outputs": [
    {
     "data": {
      "text/plain": [
       "0.4837051612478493"
      ]
     },
     "execution_count": 21,
     "metadata": {},
     "output_type": "execute_result"
    }
   ],
   "source": [
    "(1 - np.dot(m3, m4)) / (1e-9**2) /1e15"
   ]
  },
  {
   "cell_type": "markdown",
   "metadata": {},
   "source": [
    "Second order exchange expression"
   ]
  },
  {
   "cell_type": "code",
   "execution_count": 22,
   "metadata": {},
   "outputs": [
    {
     "data": {
      "text/plain": [
       "-0.483705161247863"
      ]
     },
     "execution_count": 22,
     "metadata": {},
     "output_type": "execute_result"
    }
   ],
   "source": [
    "def deriv2(i):\n",
    "    return (m4[i] - 2*m4[i] + m3[i])/(1e-9**2)\n",
    "\n",
    "def deriv2(i):\n",
    "    return (m4[i] - 2*m4[i] + m3[i])/(1e-9**2)\n",
    "\n",
    "np.dot(m4, np.array([deriv2(0), deriv2(1), deriv2(2)]))/1e15"
   ]
  },
  {
   "cell_type": "code",
   "execution_count": 23,
   "metadata": {},
   "outputs": [
    {
     "name": "stdout",
     "output_type": "stream",
     "text": [
      "neumann\n",
      "edge\n",
      "neumann\n",
      "edge\n",
      "neumann\n",
      "edge\n",
      "neumann\n",
      "edge\n",
      "neumann\n",
      "edge\n",
      "neumann\n",
      "edge\n"
     ]
    }
   ],
   "source": [
    "d2mx = m.x.derivative('x').derivative('x')\n",
    "d2my = m.y.derivative('x').derivative('x')\n",
    "d2mz = m.z.derivative('x').derivative('x')"
   ]
  },
  {
   "cell_type": "code",
   "execution_count": 24,
   "metadata": {},
   "outputs": [
    {
     "data": {
      "text/plain": [
       "array([[[[ 8.81746941e+15]]],\n",
       "\n",
       "\n",
       "       [[[ 6.74386411e+15]]],\n",
       "\n",
       "\n",
       "       [[[-3.87931983e+15]]],\n",
       "\n",
       "\n",
       "       [[[-9.65723667e+15]]],\n",
       "\n",
       "\n",
       "       [[[-7.85152214e+15]]]])"
      ]
     },
     "execution_count": 24,
     "metadata": {},
     "output_type": "execute_result"
    }
   ],
   "source": [
    "d2mx.array"
   ]
  },
  {
   "cell_type": "code",
   "execution_count": 25,
   "metadata": {},
   "outputs": [
    {
     "data": {
      "text/plain": [
       "-3359069036622225.0"
      ]
     },
     "execution_count": 25,
     "metadata": {},
     "output_type": "execute_result"
    }
   ],
   "source": [
    "def deriv2(i):\n",
    "    return (m4[i] - 2*m3[i] + m2[i])/(1e-9**2)\n",
    "\n",
    "deriv2(0)"
   ]
  },
  {
   "cell_type": "code",
   "execution_count": 26,
   "metadata": {},
   "outputs": [
    {
     "data": {
      "text/plain": [
       "array([[[[-6.09738446e+14]]],\n",
       "\n",
       "\n",
       "       [[[-9.11034285e+14]]],\n",
       "\n",
       "\n",
       "       [[[-1.38722531e+15]]],\n",
       "\n",
       "\n",
       "       [[[-7.95049884e+14]]],\n",
       "\n",
       "\n",
       "       [[[-4.19649886e+14]]]])"
      ]
     },
     "execution_count": 26,
     "metadata": {},
     "output_type": "execute_result"
    }
   ],
   "source": [
    "(m @ df.stack([d2mx, d2my, d2mz])).array"
   ]
  },
  {
   "cell_type": "code",
   "execution_count": null,
   "metadata": {},
   "outputs": [],
   "source": []
  }
 ],
 "metadata": {
  "kernelspec": {
   "display_name": "Python 3",
   "language": "python",
   "name": "python3"
  },
  "language_info": {
   "codemirror_mode": {
    "name": "ipython",
    "version": 3
   },
   "file_extension": ".py",
   "mimetype": "text/x-python",
   "name": "python",
   "nbconvert_exporter": "python",
   "pygments_lexer": "ipython3",
   "version": "3.8.3"
  }
 },
 "nbformat": 4,
 "nbformat_minor": 4
}
