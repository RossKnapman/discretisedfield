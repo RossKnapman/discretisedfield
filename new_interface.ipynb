{
 "cells": [
  {
   "cell_type": "markdown",
   "metadata": {},
   "source": [
    "# New discretisedfield\n",
    "\n",
    "## Mesh"
   ]
  },
  {
   "cell_type": "code",
   "execution_count": 1,
   "metadata": {},
   "outputs": [],
   "source": [
    "import discretisedfield as df\n",
    "%matplotlib inline\n",
    "\n",
    "mesh = df.Mesh(p1=(-1, -1, -1), p2=(1, 1, 1), cell=(0.5, 0.5, 0.5))"
   ]
  },
  {
   "cell_type": "markdown",
   "metadata": {},
   "source": [
    "### Basic properties\n",
    "\n",
    "Minimum mesh point"
   ]
  },
  {
   "cell_type": "code",
   "execution_count": 2,
   "metadata": {},
   "outputs": [
    {
     "data": {
      "text/plain": [
       "(-1, -1, -1)"
      ]
     },
     "execution_count": 2,
     "metadata": {},
     "output_type": "execute_result"
    }
   ],
   "source": [
    "mesh.pmin"
   ]
  },
  {
   "cell_type": "markdown",
   "metadata": {},
   "source": [
    "Maximum mesh point"
   ]
  },
  {
   "cell_type": "code",
   "execution_count": 3,
   "metadata": {},
   "outputs": [
    {
     "data": {
      "text/plain": [
       "(1, 1, 1)"
      ]
     },
     "execution_count": 3,
     "metadata": {},
     "output_type": "execute_result"
    }
   ],
   "source": [
    "mesh.pmax"
   ]
  },
  {
   "cell_type": "markdown",
   "metadata": {},
   "source": [
    "Edge lengths"
   ]
  },
  {
   "cell_type": "code",
   "execution_count": 4,
   "metadata": {},
   "outputs": [
    {
     "data": {
      "text/plain": [
       "(2, 2, 2)"
      ]
     },
     "execution_count": 4,
     "metadata": {},
     "output_type": "execute_result"
    }
   ],
   "source": [
    "mesh.l"
   ]
  },
  {
   "cell_type": "markdown",
   "metadata": {},
   "source": [
    "Number of discretisation cells"
   ]
  },
  {
   "cell_type": "code",
   "execution_count": 5,
   "metadata": {},
   "outputs": [
    {
     "data": {
      "text/plain": [
       "(4, 4, 4)"
      ]
     },
     "execution_count": 5,
     "metadata": {},
     "output_type": "execute_result"
    }
   ],
   "source": [
    "mesh.n"
   ]
  },
  {
   "cell_type": "markdown",
   "metadata": {},
   "source": [
    "Centre point of the mesh"
   ]
  },
  {
   "cell_type": "code",
   "execution_count": 6,
   "metadata": {},
   "outputs": [
    {
     "data": {
      "text/plain": [
       "(0.0, 0.0, 0.0)"
      ]
     },
     "execution_count": 6,
     "metadata": {},
     "output_type": "execute_result"
    }
   ],
   "source": [
    "mesh.centre"
   ]
  },
  {
   "cell_type": "markdown",
   "metadata": {},
   "source": [
    "### Generators\n",
    "\n",
    "Indices of all discretisation cells (returns a generator):"
   ]
  },
  {
   "cell_type": "code",
   "execution_count": 7,
   "metadata": {},
   "outputs": [
    {
     "data": {
      "text/plain": [
       "<generator object indices at 0x7f71d32c9258>"
      ]
     },
     "execution_count": 7,
     "metadata": {},
     "output_type": "execute_result"
    }
   ],
   "source": [
    "mesh.indices"
   ]
  },
  {
   "cell_type": "code",
   "execution_count": 8,
   "metadata": {},
   "outputs": [
    {
     "data": {
      "text/plain": [
       "[(0, 0, 0),\n",
       " (1, 0, 0),\n",
       " (2, 0, 0),\n",
       " (3, 0, 0),\n",
       " (0, 1, 0),\n",
       " (1, 1, 0),\n",
       " (2, 1, 0),\n",
       " (3, 1, 0),\n",
       " (0, 2, 0),\n",
       " (1, 2, 0),\n",
       " (2, 2, 0),\n",
       " (3, 2, 0),\n",
       " (0, 3, 0),\n",
       " (1, 3, 0),\n",
       " (2, 3, 0),\n",
       " (3, 3, 0),\n",
       " (0, 0, 1),\n",
       " (1, 0, 1),\n",
       " (2, 0, 1),\n",
       " (3, 0, 1),\n",
       " (0, 1, 1),\n",
       " (1, 1, 1),\n",
       " (2, 1, 1),\n",
       " (3, 1, 1),\n",
       " (0, 2, 1),\n",
       " (1, 2, 1),\n",
       " (2, 2, 1),\n",
       " (3, 2, 1),\n",
       " (0, 3, 1),\n",
       " (1, 3, 1),\n",
       " (2, 3, 1),\n",
       " (3, 3, 1),\n",
       " (0, 0, 2),\n",
       " (1, 0, 2),\n",
       " (2, 0, 2),\n",
       " (3, 0, 2),\n",
       " (0, 1, 2),\n",
       " (1, 1, 2),\n",
       " (2, 1, 2),\n",
       " (3, 1, 2),\n",
       " (0, 2, 2),\n",
       " (1, 2, 2),\n",
       " (2, 2, 2),\n",
       " (3, 2, 2),\n",
       " (0, 3, 2),\n",
       " (1, 3, 2),\n",
       " (2, 3, 2),\n",
       " (3, 3, 2),\n",
       " (0, 0, 3),\n",
       " (1, 0, 3),\n",
       " (2, 0, 3),\n",
       " (3, 0, 3),\n",
       " (0, 1, 3),\n",
       " (1, 1, 3),\n",
       " (2, 1, 3),\n",
       " (3, 1, 3),\n",
       " (0, 2, 3),\n",
       " (1, 2, 3),\n",
       " (2, 2, 3),\n",
       " (3, 2, 3),\n",
       " (0, 3, 3),\n",
       " (1, 3, 3),\n",
       " (2, 3, 3),\n",
       " (3, 3, 3)]"
      ]
     },
     "execution_count": 8,
     "metadata": {},
     "output_type": "execute_result"
    }
   ],
   "source": [
    "list(mesh.indices)"
   ]
  },
  {
   "cell_type": "markdown",
   "metadata": {},
   "source": [
    "Coordinates of all discretisation cells (returns a generator):"
   ]
  },
  {
   "cell_type": "code",
   "execution_count": 9,
   "metadata": {},
   "outputs": [
    {
     "data": {
      "text/plain": [
       "<generator object coordinates at 0x7f72043bcfc0>"
      ]
     },
     "execution_count": 9,
     "metadata": {},
     "output_type": "execute_result"
    }
   ],
   "source": [
    "mesh.coordinates"
   ]
  },
  {
   "cell_type": "code",
   "execution_count": 10,
   "metadata": {},
   "outputs": [
    {
     "data": {
      "text/plain": [
       "[(-0.75, -0.75, -0.75),\n",
       " (-0.25, -0.75, -0.75),\n",
       " (0.25, -0.75, -0.75),\n",
       " (0.75, -0.75, -0.75),\n",
       " (-0.75, -0.25, -0.75),\n",
       " (-0.25, -0.25, -0.75),\n",
       " (0.25, -0.25, -0.75),\n",
       " (0.75, -0.25, -0.75),\n",
       " (-0.75, 0.25, -0.75),\n",
       " (-0.25, 0.25, -0.75),\n",
       " (0.25, 0.25, -0.75),\n",
       " (0.75, 0.25, -0.75),\n",
       " (-0.75, 0.75, -0.75),\n",
       " (-0.25, 0.75, -0.75),\n",
       " (0.25, 0.75, -0.75),\n",
       " (0.75, 0.75, -0.75),\n",
       " (-0.75, -0.75, -0.25),\n",
       " (-0.25, -0.75, -0.25),\n",
       " (0.25, -0.75, -0.25),\n",
       " (0.75, -0.75, -0.25),\n",
       " (-0.75, -0.25, -0.25),\n",
       " (-0.25, -0.25, -0.25),\n",
       " (0.25, -0.25, -0.25),\n",
       " (0.75, -0.25, -0.25),\n",
       " (-0.75, 0.25, -0.25),\n",
       " (-0.25, 0.25, -0.25),\n",
       " (0.25, 0.25, -0.25),\n",
       " (0.75, 0.25, -0.25),\n",
       " (-0.75, 0.75, -0.25),\n",
       " (-0.25, 0.75, -0.25),\n",
       " (0.25, 0.75, -0.25),\n",
       " (0.75, 0.75, -0.25),\n",
       " (-0.75, -0.75, 0.25),\n",
       " (-0.25, -0.75, 0.25),\n",
       " (0.25, -0.75, 0.25),\n",
       " (0.75, -0.75, 0.25),\n",
       " (-0.75, -0.25, 0.25),\n",
       " (-0.25, -0.25, 0.25),\n",
       " (0.25, -0.25, 0.25),\n",
       " (0.75, -0.25, 0.25),\n",
       " (-0.75, 0.25, 0.25),\n",
       " (-0.25, 0.25, 0.25),\n",
       " (0.25, 0.25, 0.25),\n",
       " (0.75, 0.25, 0.25),\n",
       " (-0.75, 0.75, 0.25),\n",
       " (-0.25, 0.75, 0.25),\n",
       " (0.25, 0.75, 0.25),\n",
       " (0.75, 0.75, 0.25),\n",
       " (-0.75, -0.75, 0.75),\n",
       " (-0.25, -0.75, 0.75),\n",
       " (0.25, -0.75, 0.75),\n",
       " (0.75, -0.75, 0.75),\n",
       " (-0.75, -0.25, 0.75),\n",
       " (-0.25, -0.25, 0.75),\n",
       " (0.25, -0.25, 0.75),\n",
       " (0.75, -0.25, 0.75),\n",
       " (-0.75, 0.25, 0.75),\n",
       " (-0.25, 0.25, 0.75),\n",
       " (0.25, 0.25, 0.75),\n",
       " (0.75, 0.25, 0.75),\n",
       " (-0.75, 0.75, 0.75),\n",
       " (-0.25, 0.75, 0.75),\n",
       " (0.25, 0.75, 0.75),\n",
       " (0.75, 0.75, 0.75)]"
      ]
     },
     "execution_count": 10,
     "metadata": {},
     "output_type": "execute_result"
    }
   ],
   "source": [
    "list(mesh.coordinates)"
   ]
  },
  {
   "cell_type": "markdown",
   "metadata": {},
   "source": [
    "### Representation"
   ]
  },
  {
   "cell_type": "code",
   "execution_count": 11,
   "metadata": {},
   "outputs": [
    {
     "data": {
      "text/plain": [
       "'Mesh(p1=(-1, -1, -1), p2=(1, 1, 1), cell=(0.5, 0.5, 0.5), name=\"mesh\")'"
      ]
     },
     "execution_count": 11,
     "metadata": {},
     "output_type": "execute_result"
    }
   ],
   "source": [
    "repr(mesh)"
   ]
  },
  {
   "cell_type": "code",
   "execution_count": 12,
   "metadata": {},
   "outputs": [
    {
     "data": {
      "image/png": "[encoded data removed]",
      "text/plain": [
       "<matplotlib.figure.Figure at 0x7f71d32c7d30>"
      ]
     },
     "metadata": {},
     "output_type": "display_data"
    }
   ],
   "source": [
    "mesh"
   ]
  },
  {
   "cell_type": "markdown",
   "metadata": {},
   "source": [
    "### Conversion index <-> point"
   ]
  },
  {
   "cell_type": "code",
   "execution_count": 13,
   "metadata": {},
   "outputs": [
    {
     "data": {
      "text/plain": [
       "(0, 0, 0)"
      ]
     },
     "execution_count": 13,
     "metadata": {},
     "output_type": "execute_result"
    }
   ],
   "source": [
    "point = (-1, -1, -1)\n",
    "index = mesh.point2index(point)\n",
    "index"
   ]
  },
  {
   "cell_type": "markdown",
   "metadata": {},
   "source": [
    "Expected to be invertibe. However, it returns a discretisation cell centre."
   ]
  },
  {
   "cell_type": "code",
   "execution_count": 14,
   "metadata": {},
   "outputs": [
    {
     "data": {
      "text/plain": [
       "(-0.75, -0.75, -0.75)"
      ]
     },
     "execution_count": 14,
     "metadata": {},
     "output_type": "execute_result"
    }
   ],
   "source": [
    "mesh.index2point(index)"
   ]
  },
  {
   "cell_type": "markdown",
   "metadata": {},
   "source": [
    "### Line and plane\n",
    "\n",
    "Returns a generator. **What to do with default n?**"
   ]
  },
  {
   "cell_type": "code",
   "execution_count": 15,
   "metadata": {},
   "outputs": [
    {
     "data": {
      "text/plain": [
       "<generator object Mesh.line at 0x7f71d32c96d0>"
      ]
     },
     "execution_count": 15,
     "metadata": {},
     "output_type": "execute_result"
    }
   ],
   "source": [
    "mesh.line(p1=(-1, -1, -1), p2=(1, 1, 1), n=5)"
   ]
  },
  {
   "cell_type": "code",
   "execution_count": 16,
   "metadata": {},
   "outputs": [
    {
     "data": {
      "text/plain": [
       "[(-1.0, -1.0, -1.0),\n",
       " (-0.5, -1.0, -1.0),\n",
       " (0.0, -1.0, -1.0),\n",
       " (0.5, -1.0, -1.0),\n",
       " (1.0, -1.0, -1.0)]"
      ]
     },
     "execution_count": 16,
     "metadata": {},
     "output_type": "execute_result"
    }
   ],
   "source": [
    "list(mesh.line(p1=(-1, -1, -1), p2=(1, -1, -1), n=5))"
   ]
  },
  {
   "cell_type": "markdown",
   "metadata": {},
   "source": [
    "The first number is the parametrised length starting from `p1`. **Should it be just point, without parameter?**"
   ]
  },
  {
   "cell_type": "code",
   "execution_count": 17,
   "metadata": {},
   "outputs": [
    {
     "data": {
      "text/plain": [
       "<generator object Mesh.plane at 0x7f71d1185888>"
      ]
     },
     "execution_count": 17,
     "metadata": {},
     "output_type": "execute_result"
    }
   ],
   "source": [
    "mesh.plane(z=0)"
   ]
  },
  {
   "cell_type": "code",
   "execution_count": 18,
   "metadata": {},
   "outputs": [
    {
     "data": {
      "text/plain": [
       "[(-0.75, -0.75, 0),\n",
       " (-0.75, -0.25, 0),\n",
       " (-0.75, 0.25, 0),\n",
       " (-0.75, 0.75, 0),\n",
       " (-0.25, -0.75, 0),\n",
       " (-0.25, -0.25, 0),\n",
       " (-0.25, 0.25, 0),\n",
       " (-0.25, 0.75, 0),\n",
       " (0.25, -0.75, 0),\n",
       " (0.25, -0.25, 0),\n",
       " (0.25, 0.25, 0),\n",
       " (0.25, 0.75, 0),\n",
       " (0.75, -0.75, 0),\n",
       " (0.75, -0.25, 0),\n",
       " (0.75, 0.25, 0),\n",
       " (0.75, 0.75, 0)]"
      ]
     },
     "execution_count": 18,
     "metadata": {},
     "output_type": "execute_result"
    }
   ],
   "source": [
    "list(mesh.plane(z=0))"
   ]
  },
  {
   "cell_type": "markdown",
   "metadata": {},
   "source": [
    "Change the number of sampling points."
   ]
  },
  {
   "cell_type": "code",
   "execution_count": 19,
   "metadata": {},
   "outputs": [
    {
     "data": {
      "text/plain": [
       "<generator object Mesh.plane at 0x7f71d10ea780>"
      ]
     },
     "execution_count": 19,
     "metadata": {},
     "output_type": "execute_result"
    }
   ],
   "source": [
    "mesh.plane(z=0, n=(2, 2))"
   ]
  },
  {
   "cell_type": "code",
   "execution_count": 20,
   "metadata": {},
   "outputs": [
    {
     "data": {
      "text/plain": [
       "[(-0.5, -0.5, 0), (-0.5, 0.5, 0), (0.5, -0.5, 0), (0.5, 0.5, 0)]"
      ]
     },
     "execution_count": 20,
     "metadata": {},
     "output_type": "execute_result"
    }
   ],
   "source": [
    "list(mesh.plane(z=0, n=(2, 2)))"
   ]
  },
  {
   "cell_type": "markdown",
   "metadata": {},
   "source": [
    "### Other\n",
    "\n",
    "Random point (used for testing). **Should it be removed? If not, should it be a property?**"
   ]
  },
  {
   "cell_type": "code",
   "execution_count": 21,
   "metadata": {},
   "outputs": [
    {
     "data": {
      "text/plain": [
       "(0.9713917417524607, 0.13769637249261057, 0.20418287898498022)"
      ]
     },
     "execution_count": 21,
     "metadata": {},
     "output_type": "execute_result"
    }
   ],
   "source": [
    "mesh.random_point()"
   ]
  },
  {
   "cell_type": "markdown",
   "metadata": {},
   "source": [
    "## Field\n",
    "\n",
    "Dimension 3 by default."
   ]
  },
  {
   "cell_type": "code",
   "execution_count": 22,
   "metadata": {
    "collapsed": true
   },
   "outputs": [],
   "source": [
    "mesh = df.Mesh(p1=(-1, -1, -1), p2=(1, 1, 1), cell=(0.2, 0.2, 0.2))\n",
    "field = df.Field(mesh)"
   ]
  },
  {
   "cell_type": "markdown",
   "metadata": {},
   "source": [
    "### Value and array"
   ]
  },
  {
   "cell_type": "code",
   "execution_count": 23,
   "metadata": {},
   "outputs": [
    {
     "data": {
      "text/plain": [
       "0"
      ]
     },
     "execution_count": 23,
     "metadata": {},
     "output_type": "execute_result"
    }
   ],
   "source": [
    "field.value"
   ]
  },
  {
   "cell_type": "markdown",
   "metadata": {},
   "source": [
    "This returns 0 because we allow setting vector fields with float 0, which is default when field is created."
   ]
  },
  {
   "cell_type": "code",
   "execution_count": 24,
   "metadata": {
    "collapsed": true
   },
   "outputs": [],
   "source": [
    "field.value = (0, 0, 1)"
   ]
  },
  {
   "cell_type": "code",
   "execution_count": 25,
   "metadata": {},
   "outputs": [
    {
     "data": {
      "text/plain": [
       "(0, 0, 1)"
      ]
     },
     "execution_count": 25,
     "metadata": {},
     "output_type": "execute_result"
    }
   ],
   "source": [
    "field.value"
   ]
  },
  {
   "cell_type": "code",
   "execution_count": 26,
   "metadata": {},
   "outputs": [
    {
     "data": {
      "text/plain": [
       "array([[[[ 0.,  0.,  1.],\n",
       "         [ 0.,  0.,  1.],\n",
       "         [ 0.,  0.,  1.],\n",
       "         ..., \n",
       "         [ 0.,  0.,  1.],\n",
       "         [ 0.,  0.,  1.],\n",
       "         [ 0.,  0.,  1.]],\n",
       "\n",
       "        [[ 0.,  0.,  1.],\n",
       "         [ 0.,  0.,  1.],\n",
       "         [ 0.,  0.,  1.],\n",
       "         ..., \n",
       "         [ 0.,  0.,  1.],\n",
       "         [ 0.,  0.,  1.],\n",
       "         [ 0.,  0.,  1.]],\n",
       "\n",
       "        [[ 0.,  0.,  1.],\n",
       "         [ 0.,  0.,  1.],\n",
       "         [ 0.,  0.,  1.],\n",
       "         ..., \n",
       "         [ 0.,  0.,  1.],\n",
       "         [ 0.,  0.,  1.],\n",
       "         [ 0.,  0.,  1.]],\n",
       "\n",
       "        ..., \n",
       "        [[ 0.,  0.,  1.],\n",
       "         [ 0.,  0.,  1.],\n",
       "         [ 0.,  0.,  1.],\n",
       "         ..., \n",
       "         [ 0.,  0.,  1.],\n",
       "         [ 0.,  0.,  1.],\n",
       "         [ 0.,  0.,  1.]],\n",
       "\n",
       "        [[ 0.,  0.,  1.],\n",
       "         [ 0.,  0.,  1.],\n",
       "         [ 0.,  0.,  1.],\n",
       "         ..., \n",
       "         [ 0.,  0.,  1.],\n",
       "         [ 0.,  0.,  1.],\n",
       "         [ 0.,  0.,  1.]],\n",
       "\n",
       "        [[ 0.,  0.,  1.],\n",
       "         [ 0.,  0.,  1.],\n",
       "         [ 0.,  0.,  1.],\n",
       "         ..., \n",
       "         [ 0.,  0.,  1.],\n",
       "         [ 0.,  0.,  1.],\n",
       "         [ 0.,  0.,  1.]]],\n",
       "\n",
       "\n",
       "       [[[ 0.,  0.,  1.],\n",
       "         [ 0.,  0.,  1.],\n",
       "         [ 0.,  0.,  1.],\n",
       "         ..., \n",
       "         [ 0.,  0.,  1.],\n",
       "         [ 0.,  0.,  1.],\n",
       "         [ 0.,  0.,  1.]],\n",
       "\n",
       "        [[ 0.,  0.,  1.],\n",
       "         [ 0.,  0.,  1.],\n",
       "         [ 0.,  0.,  1.],\n",
       "         ..., \n",
       "         [ 0.,  0.,  1.],\n",
       "         [ 0.,  0.,  1.],\n",
       "         [ 0.,  0.,  1.]],\n",
       "\n",
       "        [[ 0.,  0.,  1.],\n",
       "         [ 0.,  0.,  1.],\n",
       "         [ 0.,  0.,  1.],\n",
       "         ..., \n",
       "         [ 0.,  0.,  1.],\n",
       "         [ 0.,  0.,  1.],\n",
       "         [ 0.,  0.,  1.]],\n",
       "\n",
       "        ..., \n",
       "        [[ 0.,  0.,  1.],\n",
       "         [ 0.,  0.,  1.],\n",
       "         [ 0.,  0.,  1.],\n",
       "         ..., \n",
       "         [ 0.,  0.,  1.],\n",
       "         [ 0.,  0.,  1.],\n",
       "         [ 0.,  0.,  1.]],\n",
       "\n",
       "        [[ 0.,  0.,  1.],\n",
       "         [ 0.,  0.,  1.],\n",
       "         [ 0.,  0.,  1.],\n",
       "         ..., \n",
       "         [ 0.,  0.,  1.],\n",
       "         [ 0.,  0.,  1.],\n",
       "         [ 0.,  0.,  1.]],\n",
       "\n",
       "        [[ 0.,  0.,  1.],\n",
       "         [ 0.,  0.,  1.],\n",
       "         [ 0.,  0.,  1.],\n",
       "         ..., \n",
       "         [ 0.,  0.,  1.],\n",
       "         [ 0.,  0.,  1.],\n",
       "         [ 0.,  0.,  1.]]],\n",
       "\n",
       "\n",
       "       [[[ 0.,  0.,  1.],\n",
       "         [ 0.,  0.,  1.],\n",
       "         [ 0.,  0.,  1.],\n",
       "         ..., \n",
       "         [ 0.,  0.,  1.],\n",
       "         [ 0.,  0.,  1.],\n",
       "         [ 0.,  0.,  1.]],\n",
       "\n",
       "        [[ 0.,  0.,  1.],\n",
       "         [ 0.,  0.,  1.],\n",
       "         [ 0.,  0.,  1.],\n",
       "         ..., \n",
       "         [ 0.,  0.,  1.],\n",
       "         [ 0.,  0.,  1.],\n",
       "         [ 0.,  0.,  1.]],\n",
       "\n",
       "        [[ 0.,  0.,  1.],\n",
       "         [ 0.,  0.,  1.],\n",
       "         [ 0.,  0.,  1.],\n",
       "         ..., \n",
       "         [ 0.,  0.,  1.],\n",
       "         [ 0.,  0.,  1.],\n",
       "         [ 0.,  0.,  1.]],\n",
       "\n",
       "        ..., \n",
       "        [[ 0.,  0.,  1.],\n",
       "         [ 0.,  0.,  1.],\n",
       "         [ 0.,  0.,  1.],\n",
       "         ..., \n",
       "         [ 0.,  0.,  1.],\n",
       "         [ 0.,  0.,  1.],\n",
       "         [ 0.,  0.,  1.]],\n",
       "\n",
       "        [[ 0.,  0.,  1.],\n",
       "         [ 0.,  0.,  1.],\n",
       "         [ 0.,  0.,  1.],\n",
       "         ..., \n",
       "         [ 0.,  0.,  1.],\n",
       "         [ 0.,  0.,  1.],\n",
       "         [ 0.,  0.,  1.]],\n",
       "\n",
       "        [[ 0.,  0.,  1.],\n",
       "         [ 0.,  0.,  1.],\n",
       "         [ 0.,  0.,  1.],\n",
       "         ..., \n",
       "         [ 0.,  0.,  1.],\n",
       "         [ 0.,  0.,  1.],\n",
       "         [ 0.,  0.,  1.]]],\n",
       "\n",
       "\n",
       "       ..., \n",
       "       [[[ 0.,  0.,  1.],\n",
       "         [ 0.,  0.,  1.],\n",
       "         [ 0.,  0.,  1.],\n",
       "         ..., \n",
       "         [ 0.,  0.,  1.],\n",
       "         [ 0.,  0.,  1.],\n",
       "         [ 0.,  0.,  1.]],\n",
       "\n",
       "        [[ 0.,  0.,  1.],\n",
       "         [ 0.,  0.,  1.],\n",
       "         [ 0.,  0.,  1.],\n",
       "         ..., \n",
       "         [ 0.,  0.,  1.],\n",
       "         [ 0.,  0.,  1.],\n",
       "         [ 0.,  0.,  1.]],\n",
       "\n",
       "        [[ 0.,  0.,  1.],\n",
       "         [ 0.,  0.,  1.],\n",
       "         [ 0.,  0.,  1.],\n",
       "         ..., \n",
       "         [ 0.,  0.,  1.],\n",
       "         [ 0.,  0.,  1.],\n",
       "         [ 0.,  0.,  1.]],\n",
       "\n",
       "        ..., \n",
       "        [[ 0.,  0.,  1.],\n",
       "         [ 0.,  0.,  1.],\n",
       "         [ 0.,  0.,  1.],\n",
       "         ..., \n",
       "         [ 0.,  0.,  1.],\n",
       "         [ 0.,  0.,  1.],\n",
       "         [ 0.,  0.,  1.]],\n",
       "\n",
       "        [[ 0.,  0.,  1.],\n",
       "         [ 0.,  0.,  1.],\n",
       "         [ 0.,  0.,  1.],\n",
       "         ..., \n",
       "         [ 0.,  0.,  1.],\n",
       "         [ 0.,  0.,  1.],\n",
       "         [ 0.,  0.,  1.]],\n",
       "\n",
       "        [[ 0.,  0.,  1.],\n",
       "         [ 0.,  0.,  1.],\n",
       "         [ 0.,  0.,  1.],\n",
       "         ..., \n",
       "         [ 0.,  0.,  1.],\n",
       "         [ 0.,  0.,  1.],\n",
       "         [ 0.,  0.,  1.]]],\n",
       "\n",
       "\n",
       "       [[[ 0.,  0.,  1.],\n",
       "         [ 0.,  0.,  1.],\n",
       "         [ 0.,  0.,  1.],\n",
       "         ..., \n",
       "         [ 0.,  0.,  1.],\n",
       "         [ 0.,  0.,  1.],\n",
       "         [ 0.,  0.,  1.]],\n",
       "\n",
       "        [[ 0.,  0.,  1.],\n",
       "         [ 0.,  0.,  1.],\n",
       "         [ 0.,  0.,  1.],\n",
       "         ..., \n",
       "         [ 0.,  0.,  1.],\n",
       "         [ 0.,  0.,  1.],\n",
       "         [ 0.,  0.,  1.]],\n",
       "\n",
       "        [[ 0.,  0.,  1.],\n",
       "         [ 0.,  0.,  1.],\n",
       "         [ 0.,  0.,  1.],\n",
       "         ..., \n",
       "         [ 0.,  0.,  1.],\n",
       "         [ 0.,  0.,  1.],\n",
       "         [ 0.,  0.,  1.]],\n",
       "\n",
       "        ..., \n",
       "        [[ 0.,  0.,  1.],\n",
       "         [ 0.,  0.,  1.],\n",
       "         [ 0.,  0.,  1.],\n",
       "         ..., \n",
       "         [ 0.,  0.,  1.],\n",
       "         [ 0.,  0.,  1.],\n",
       "         [ 0.,  0.,  1.]],\n",
       "\n",
       "        [[ 0.,  0.,  1.],\n",
       "         [ 0.,  0.,  1.],\n",
       "         [ 0.,  0.,  1.],\n",
       "         ..., \n",
       "         [ 0.,  0.,  1.],\n",
       "         [ 0.,  0.,  1.],\n",
       "         [ 0.,  0.,  1.]],\n",
       "\n",
       "        [[ 0.,  0.,  1.],\n",
       "         [ 0.,  0.,  1.],\n",
       "         [ 0.,  0.,  1.],\n",
       "         ..., \n",
       "         [ 0.,  0.,  1.],\n",
       "         [ 0.,  0.,  1.],\n",
       "         [ 0.,  0.,  1.]]],\n",
       "\n",
       "\n",
       "       [[[ 0.,  0.,  1.],\n",
       "         [ 0.,  0.,  1.],\n",
       "         [ 0.,  0.,  1.],\n",
       "         ..., \n",
       "         [ 0.,  0.,  1.],\n",
       "         [ 0.,  0.,  1.],\n",
       "         [ 0.,  0.,  1.]],\n",
       "\n",
       "        [[ 0.,  0.,  1.],\n",
       "         [ 0.,  0.,  1.],\n",
       "         [ 0.,  0.,  1.],\n",
       "         ..., \n",
       "         [ 0.,  0.,  1.],\n",
       "         [ 0.,  0.,  1.],\n",
       "         [ 0.,  0.,  1.]],\n",
       "\n",
       "        [[ 0.,  0.,  1.],\n",
       "         [ 0.,  0.,  1.],\n",
       "         [ 0.,  0.,  1.],\n",
       "         ..., \n",
       "         [ 0.,  0.,  1.],\n",
       "         [ 0.,  0.,  1.],\n",
       "         [ 0.,  0.,  1.]],\n",
       "\n",
       "        ..., \n",
       "        [[ 0.,  0.,  1.],\n",
       "         [ 0.,  0.,  1.],\n",
       "         [ 0.,  0.,  1.],\n",
       "         ..., \n",
       "         [ 0.,  0.,  1.],\n",
       "         [ 0.,  0.,  1.],\n",
       "         [ 0.,  0.,  1.]],\n",
       "\n",
       "        [[ 0.,  0.,  1.],\n",
       "         [ 0.,  0.,  1.],\n",
       "         [ 0.,  0.,  1.],\n",
       "         ..., \n",
       "         [ 0.,  0.,  1.],\n",
       "         [ 0.,  0.,  1.],\n",
       "         [ 0.,  0.,  1.]],\n",
       "\n",
       "        [[ 0.,  0.,  1.],\n",
       "         [ 0.,  0.,  1.],\n",
       "         [ 0.,  0.,  1.],\n",
       "         ..., \n",
       "         [ 0.,  0.,  1.],\n",
       "         [ 0.,  0.,  1.],\n",
       "         [ 0.,  0.,  1.]]]])"
      ]
     },
     "execution_count": 26,
     "metadata": {},
     "output_type": "execute_result"
    }
   ],
   "source": [
    "field.array"
   ]
  },
  {
   "cell_type": "code",
   "execution_count": 27,
   "metadata": {},
   "outputs": [
    {
     "data": {
      "text/plain": [
       "(0, 0, 1)"
      ]
     },
     "execution_count": 27,
     "metadata": {},
     "output_type": "execute_result"
    }
   ],
   "source": [
    "field.value"
   ]
  },
  {
   "cell_type": "code",
   "execution_count": 28,
   "metadata": {
    "collapsed": true
   },
   "outputs": [],
   "source": [
    "field.array[0, 0, 0] = (5, 0, 0)"
   ]
  },
  {
   "cell_type": "code",
   "execution_count": 29,
   "metadata": {},
   "outputs": [
    {
     "data": {
      "text/plain": [
       "array([[[[ 5.,  0.,  0.],\n",
       "         [ 0.,  0.,  1.],\n",
       "         [ 0.,  0.,  1.],\n",
       "         ..., \n",
       "         [ 0.,  0.,  1.],\n",
       "         [ 0.,  0.,  1.],\n",
       "         [ 0.,  0.,  1.]],\n",
       "\n",
       "        [[ 0.,  0.,  1.],\n",
       "         [ 0.,  0.,  1.],\n",
       "         [ 0.,  0.,  1.],\n",
       "         ..., \n",
       "         [ 0.,  0.,  1.],\n",
       "         [ 0.,  0.,  1.],\n",
       "         [ 0.,  0.,  1.]],\n",
       "\n",
       "        [[ 0.,  0.,  1.],\n",
       "         [ 0.,  0.,  1.],\n",
       "         [ 0.,  0.,  1.],\n",
       "         ..., \n",
       "         [ 0.,  0.,  1.],\n",
       "         [ 0.,  0.,  1.],\n",
       "         [ 0.,  0.,  1.]],\n",
       "\n",
       "        ..., \n",
       "        [[ 0.,  0.,  1.],\n",
       "         [ 0.,  0.,  1.],\n",
       "         [ 0.,  0.,  1.],\n",
       "         ..., \n",
       "         [ 0.,  0.,  1.],\n",
       "         [ 0.,  0.,  1.],\n",
       "         [ 0.,  0.,  1.]],\n",
       "\n",
       "        [[ 0.,  0.,  1.],\n",
       "         [ 0.,  0.,  1.],\n",
       "         [ 0.,  0.,  1.],\n",
       "         ..., \n",
       "         [ 0.,  0.,  1.],\n",
       "         [ 0.,  0.,  1.],\n",
       "         [ 0.,  0.,  1.]],\n",
       "\n",
       "        [[ 0.,  0.,  1.],\n",
       "         [ 0.,  0.,  1.],\n",
       "         [ 0.,  0.,  1.],\n",
       "         ..., \n",
       "         [ 0.,  0.,  1.],\n",
       "         [ 0.,  0.,  1.],\n",
       "         [ 0.,  0.,  1.]]],\n",
       "\n",
       "\n",
       "       [[[ 0.,  0.,  1.],\n",
       "         [ 0.,  0.,  1.],\n",
       "         [ 0.,  0.,  1.],\n",
       "         ..., \n",
       "         [ 0.,  0.,  1.],\n",
       "         [ 0.,  0.,  1.],\n",
       "         [ 0.,  0.,  1.]],\n",
       "\n",
       "        [[ 0.,  0.,  1.],\n",
       "         [ 0.,  0.,  1.],\n",
       "         [ 0.,  0.,  1.],\n",
       "         ..., \n",
       "         [ 0.,  0.,  1.],\n",
       "         [ 0.,  0.,  1.],\n",
       "         [ 0.,  0.,  1.]],\n",
       "\n",
       "        [[ 0.,  0.,  1.],\n",
       "         [ 0.,  0.,  1.],\n",
       "         [ 0.,  0.,  1.],\n",
       "         ..., \n",
       "         [ 0.,  0.,  1.],\n",
       "         [ 0.,  0.,  1.],\n",
       "         [ 0.,  0.,  1.]],\n",
       "\n",
       "        ..., \n",
       "        [[ 0.,  0.,  1.],\n",
       "         [ 0.,  0.,  1.],\n",
       "         [ 0.,  0.,  1.],\n",
       "         ..., \n",
       "         [ 0.,  0.,  1.],\n",
       "         [ 0.,  0.,  1.],\n",
       "         [ 0.,  0.,  1.]],\n",
       "\n",
       "        [[ 0.,  0.,  1.],\n",
       "         [ 0.,  0.,  1.],\n",
       "         [ 0.,  0.,  1.],\n",
       "         ..., \n",
       "         [ 0.,  0.,  1.],\n",
       "         [ 0.,  0.,  1.],\n",
       "         [ 0.,  0.,  1.]],\n",
       "\n",
       "        [[ 0.,  0.,  1.],\n",
       "         [ 0.,  0.,  1.],\n",
       "         [ 0.,  0.,  1.],\n",
       "         ..., \n",
       "         [ 0.,  0.,  1.],\n",
       "         [ 0.,  0.,  1.],\n",
       "         [ 0.,  0.,  1.]]],\n",
       "\n",
       "\n",
       "       [[[ 0.,  0.,  1.],\n",
       "         [ 0.,  0.,  1.],\n",
       "         [ 0.,  0.,  1.],\n",
       "         ..., \n",
       "         [ 0.,  0.,  1.],\n",
       "         [ 0.,  0.,  1.],\n",
       "         [ 0.,  0.,  1.]],\n",
       "\n",
       "        [[ 0.,  0.,  1.],\n",
       "         [ 0.,  0.,  1.],\n",
       "         [ 0.,  0.,  1.],\n",
       "         ..., \n",
       "         [ 0.,  0.,  1.],\n",
       "         [ 0.,  0.,  1.],\n",
       "         [ 0.,  0.,  1.]],\n",
       "\n",
       "        [[ 0.,  0.,  1.],\n",
       "         [ 0.,  0.,  1.],\n",
       "         [ 0.,  0.,  1.],\n",
       "         ..., \n",
       "         [ 0.,  0.,  1.],\n",
       "         [ 0.,  0.,  1.],\n",
       "         [ 0.,  0.,  1.]],\n",
       "\n",
       "        ..., \n",
       "        [[ 0.,  0.,  1.],\n",
       "         [ 0.,  0.,  1.],\n",
       "         [ 0.,  0.,  1.],\n",
       "         ..., \n",
       "         [ 0.,  0.,  1.],\n",
       "         [ 0.,  0.,  1.],\n",
       "         [ 0.,  0.,  1.]],\n",
       "\n",
       "        [[ 0.,  0.,  1.],\n",
       "         [ 0.,  0.,  1.],\n",
       "         [ 0.,  0.,  1.],\n",
       "         ..., \n",
       "         [ 0.,  0.,  1.],\n",
       "         [ 0.,  0.,  1.],\n",
       "         [ 0.,  0.,  1.]],\n",
       "\n",
       "        [[ 0.,  0.,  1.],\n",
       "         [ 0.,  0.,  1.],\n",
       "         [ 0.,  0.,  1.],\n",
       "         ..., \n",
       "         [ 0.,  0.,  1.],\n",
       "         [ 0.,  0.,  1.],\n",
       "         [ 0.,  0.,  1.]]],\n",
       "\n",
       "\n",
       "       ..., \n",
       "       [[[ 0.,  0.,  1.],\n",
       "         [ 0.,  0.,  1.],\n",
       "         [ 0.,  0.,  1.],\n",
       "         ..., \n",
       "         [ 0.,  0.,  1.],\n",
       "         [ 0.,  0.,  1.],\n",
       "         [ 0.,  0.,  1.]],\n",
       "\n",
       "        [[ 0.,  0.,  1.],\n",
       "         [ 0.,  0.,  1.],\n",
       "         [ 0.,  0.,  1.],\n",
       "         ..., \n",
       "         [ 0.,  0.,  1.],\n",
       "         [ 0.,  0.,  1.],\n",
       "         [ 0.,  0.,  1.]],\n",
       "\n",
       "        [[ 0.,  0.,  1.],\n",
       "         [ 0.,  0.,  1.],\n",
       "         [ 0.,  0.,  1.],\n",
       "         ..., \n",
       "         [ 0.,  0.,  1.],\n",
       "         [ 0.,  0.,  1.],\n",
       "         [ 0.,  0.,  1.]],\n",
       "\n",
       "        ..., \n",
       "        [[ 0.,  0.,  1.],\n",
       "         [ 0.,  0.,  1.],\n",
       "         [ 0.,  0.,  1.],\n",
       "         ..., \n",
       "         [ 0.,  0.,  1.],\n",
       "         [ 0.,  0.,  1.],\n",
       "         [ 0.,  0.,  1.]],\n",
       "\n",
       "        [[ 0.,  0.,  1.],\n",
       "         [ 0.,  0.,  1.],\n",
       "         [ 0.,  0.,  1.],\n",
       "         ..., \n",
       "         [ 0.,  0.,  1.],\n",
       "         [ 0.,  0.,  1.],\n",
       "         [ 0.,  0.,  1.]],\n",
       "\n",
       "        [[ 0.,  0.,  1.],\n",
       "         [ 0.,  0.,  1.],\n",
       "         [ 0.,  0.,  1.],\n",
       "         ..., \n",
       "         [ 0.,  0.,  1.],\n",
       "         [ 0.,  0.,  1.],\n",
       "         [ 0.,  0.,  1.]]],\n",
       "\n",
       "\n",
       "       [[[ 0.,  0.,  1.],\n",
       "         [ 0.,  0.,  1.],\n",
       "         [ 0.,  0.,  1.],\n",
       "         ..., \n",
       "         [ 0.,  0.,  1.],\n",
       "         [ 0.,  0.,  1.],\n",
       "         [ 0.,  0.,  1.]],\n",
       "\n",
       "        [[ 0.,  0.,  1.],\n",
       "         [ 0.,  0.,  1.],\n",
       "         [ 0.,  0.,  1.],\n",
       "         ..., \n",
       "         [ 0.,  0.,  1.],\n",
       "         [ 0.,  0.,  1.],\n",
       "         [ 0.,  0.,  1.]],\n",
       "\n",
       "        [[ 0.,  0.,  1.],\n",
       "         [ 0.,  0.,  1.],\n",
       "         [ 0.,  0.,  1.],\n",
       "         ..., \n",
       "         [ 0.,  0.,  1.],\n",
       "         [ 0.,  0.,  1.],\n",
       "         [ 0.,  0.,  1.]],\n",
       "\n",
       "        ..., \n",
       "        [[ 0.,  0.,  1.],\n",
       "         [ 0.,  0.,  1.],\n",
       "         [ 0.,  0.,  1.],\n",
       "         ..., \n",
       "         [ 0.,  0.,  1.],\n",
       "         [ 0.,  0.,  1.],\n",
       "         [ 0.,  0.,  1.]],\n",
       "\n",
       "        [[ 0.,  0.,  1.],\n",
       "         [ 0.,  0.,  1.],\n",
       "         [ 0.,  0.,  1.],\n",
       "         ..., \n",
       "         [ 0.,  0.,  1.],\n",
       "         [ 0.,  0.,  1.],\n",
       "         [ 0.,  0.,  1.]],\n",
       "\n",
       "        [[ 0.,  0.,  1.],\n",
       "         [ 0.,  0.,  1.],\n",
       "         [ 0.,  0.,  1.],\n",
       "         ..., \n",
       "         [ 0.,  0.,  1.],\n",
       "         [ 0.,  0.,  1.],\n",
       "         [ 0.,  0.,  1.]]],\n",
       "\n",
       "\n",
       "       [[[ 0.,  0.,  1.],\n",
       "         [ 0.,  0.,  1.],\n",
       "         [ 0.,  0.,  1.],\n",
       "         ..., \n",
       "         [ 0.,  0.,  1.],\n",
       "         [ 0.,  0.,  1.],\n",
       "         [ 0.,  0.,  1.]],\n",
       "\n",
       "        [[ 0.,  0.,  1.],\n",
       "         [ 0.,  0.,  1.],\n",
       "         [ 0.,  0.,  1.],\n",
       "         ..., \n",
       "         [ 0.,  0.,  1.],\n",
       "         [ 0.,  0.,  1.],\n",
       "         [ 0.,  0.,  1.]],\n",
       "\n",
       "        [[ 0.,  0.,  1.],\n",
       "         [ 0.,  0.,  1.],\n",
       "         [ 0.,  0.,  1.],\n",
       "         ..., \n",
       "         [ 0.,  0.,  1.],\n",
       "         [ 0.,  0.,  1.],\n",
       "         [ 0.,  0.,  1.]],\n",
       "\n",
       "        ..., \n",
       "        [[ 0.,  0.,  1.],\n",
       "         [ 0.,  0.,  1.],\n",
       "         [ 0.,  0.,  1.],\n",
       "         ..., \n",
       "         [ 0.,  0.,  1.],\n",
       "         [ 0.,  0.,  1.],\n",
       "         [ 0.,  0.,  1.]],\n",
       "\n",
       "        [[ 0.,  0.,  1.],\n",
       "         [ 0.,  0.,  1.],\n",
       "         [ 0.,  0.,  1.],\n",
       "         ..., \n",
       "         [ 0.,  0.,  1.],\n",
       "         [ 0.,  0.,  1.],\n",
       "         [ 0.,  0.,  1.]],\n",
       "\n",
       "        [[ 0.,  0.,  1.],\n",
       "         [ 0.,  0.,  1.],\n",
       "         [ 0.,  0.,  1.],\n",
       "         ..., \n",
       "         [ 0.,  0.,  1.],\n",
       "         [ 0.,  0.,  1.],\n",
       "         [ 0.,  0.,  1.]]]])"
      ]
     },
     "execution_count": 29,
     "metadata": {},
     "output_type": "execute_result"
    }
   ],
   "source": [
    "field.array"
   ]
  },
  {
   "cell_type": "code",
   "execution_count": 30,
   "metadata": {},
   "outputs": [
    {
     "data": {
      "text/plain": [
       "array([[[[ 5.,  0.,  0.],\n",
       "         [ 0.,  0.,  1.],\n",
       "         [ 0.,  0.,  1.],\n",
       "         ..., \n",
       "         [ 0.,  0.,  1.],\n",
       "         [ 0.,  0.,  1.],\n",
       "         [ 0.,  0.,  1.]],\n",
       "\n",
       "        [[ 0.,  0.,  1.],\n",
       "         [ 0.,  0.,  1.],\n",
       "         [ 0.,  0.,  1.],\n",
       "         ..., \n",
       "         [ 0.,  0.,  1.],\n",
       "         [ 0.,  0.,  1.],\n",
       "         [ 0.,  0.,  1.]],\n",
       "\n",
       "        [[ 0.,  0.,  1.],\n",
       "         [ 0.,  0.,  1.],\n",
       "         [ 0.,  0.,  1.],\n",
       "         ..., \n",
       "         [ 0.,  0.,  1.],\n",
       "         [ 0.,  0.,  1.],\n",
       "         [ 0.,  0.,  1.]],\n",
       "\n",
       "        ..., \n",
       "        [[ 0.,  0.,  1.],\n",
       "         [ 0.,  0.,  1.],\n",
       "         [ 0.,  0.,  1.],\n",
       "         ..., \n",
       "         [ 0.,  0.,  1.],\n",
       "         [ 0.,  0.,  1.],\n",
       "         [ 0.,  0.,  1.]],\n",
       "\n",
       "        [[ 0.,  0.,  1.],\n",
       "         [ 0.,  0.,  1.],\n",
       "         [ 0.,  0.,  1.],\n",
       "         ..., \n",
       "         [ 0.,  0.,  1.],\n",
       "         [ 0.,  0.,  1.],\n",
       "         [ 0.,  0.,  1.]],\n",
       "\n",
       "        [[ 0.,  0.,  1.],\n",
       "         [ 0.,  0.,  1.],\n",
       "         [ 0.,  0.,  1.],\n",
       "         ..., \n",
       "         [ 0.,  0.,  1.],\n",
       "         [ 0.,  0.,  1.],\n",
       "         [ 0.,  0.,  1.]]],\n",
       "\n",
       "\n",
       "       [[[ 0.,  0.,  1.],\n",
       "         [ 0.,  0.,  1.],\n",
       "         [ 0.,  0.,  1.],\n",
       "         ..., \n",
       "         [ 0.,  0.,  1.],\n",
       "         [ 0.,  0.,  1.],\n",
       "         [ 0.,  0.,  1.]],\n",
       "\n",
       "        [[ 0.,  0.,  1.],\n",
       "         [ 0.,  0.,  1.],\n",
       "         [ 0.,  0.,  1.],\n",
       "         ..., \n",
       "         [ 0.,  0.,  1.],\n",
       "         [ 0.,  0.,  1.],\n",
       "         [ 0.,  0.,  1.]],\n",
       "\n",
       "        [[ 0.,  0.,  1.],\n",
       "         [ 0.,  0.,  1.],\n",
       "         [ 0.,  0.,  1.],\n",
       "         ..., \n",
       "         [ 0.,  0.,  1.],\n",
       "         [ 0.,  0.,  1.],\n",
       "         [ 0.,  0.,  1.]],\n",
       "\n",
       "        ..., \n",
       "        [[ 0.,  0.,  1.],\n",
       "         [ 0.,  0.,  1.],\n",
       "         [ 0.,  0.,  1.],\n",
       "         ..., \n",
       "         [ 0.,  0.,  1.],\n",
       "         [ 0.,  0.,  1.],\n",
       "         [ 0.,  0.,  1.]],\n",
       "\n",
       "        [[ 0.,  0.,  1.],\n",
       "         [ 0.,  0.,  1.],\n",
       "         [ 0.,  0.,  1.],\n",
       "         ..., \n",
       "         [ 0.,  0.,  1.],\n",
       "         [ 0.,  0.,  1.],\n",
       "         [ 0.,  0.,  1.]],\n",
       "\n",
       "        [[ 0.,  0.,  1.],\n",
       "         [ 0.,  0.,  1.],\n",
       "         [ 0.,  0.,  1.],\n",
       "         ..., \n",
       "         [ 0.,  0.,  1.],\n",
       "         [ 0.,  0.,  1.],\n",
       "         [ 0.,  0.,  1.]]],\n",
       "\n",
       "\n",
       "       [[[ 0.,  0.,  1.],\n",
       "         [ 0.,  0.,  1.],\n",
       "         [ 0.,  0.,  1.],\n",
       "         ..., \n",
       "         [ 0.,  0.,  1.],\n",
       "         [ 0.,  0.,  1.],\n",
       "         [ 0.,  0.,  1.]],\n",
       "\n",
       "        [[ 0.,  0.,  1.],\n",
       "         [ 0.,  0.,  1.],\n",
       "         [ 0.,  0.,  1.],\n",
       "         ..., \n",
       "         [ 0.,  0.,  1.],\n",
       "         [ 0.,  0.,  1.],\n",
       "         [ 0.,  0.,  1.]],\n",
       "\n",
       "        [[ 0.,  0.,  1.],\n",
       "         [ 0.,  0.,  1.],\n",
       "         [ 0.,  0.,  1.],\n",
       "         ..., \n",
       "         [ 0.,  0.,  1.],\n",
       "         [ 0.,  0.,  1.],\n",
       "         [ 0.,  0.,  1.]],\n",
       "\n",
       "        ..., \n",
       "        [[ 0.,  0.,  1.],\n",
       "         [ 0.,  0.,  1.],\n",
       "         [ 0.,  0.,  1.],\n",
       "         ..., \n",
       "         [ 0.,  0.,  1.],\n",
       "         [ 0.,  0.,  1.],\n",
       "         [ 0.,  0.,  1.]],\n",
       "\n",
       "        [[ 0.,  0.,  1.],\n",
       "         [ 0.,  0.,  1.],\n",
       "         [ 0.,  0.,  1.],\n",
       "         ..., \n",
       "         [ 0.,  0.,  1.],\n",
       "         [ 0.,  0.,  1.],\n",
       "         [ 0.,  0.,  1.]],\n",
       "\n",
       "        [[ 0.,  0.,  1.],\n",
       "         [ 0.,  0.,  1.],\n",
       "         [ 0.,  0.,  1.],\n",
       "         ..., \n",
       "         [ 0.,  0.,  1.],\n",
       "         [ 0.,  0.,  1.],\n",
       "         [ 0.,  0.,  1.]]],\n",
       "\n",
       "\n",
       "       ..., \n",
       "       [[[ 0.,  0.,  1.],\n",
       "         [ 0.,  0.,  1.],\n",
       "         [ 0.,  0.,  1.],\n",
       "         ..., \n",
       "         [ 0.,  0.,  1.],\n",
       "         [ 0.,  0.,  1.],\n",
       "         [ 0.,  0.,  1.]],\n",
       "\n",
       "        [[ 0.,  0.,  1.],\n",
       "         [ 0.,  0.,  1.],\n",
       "         [ 0.,  0.,  1.],\n",
       "         ..., \n",
       "         [ 0.,  0.,  1.],\n",
       "         [ 0.,  0.,  1.],\n",
       "         [ 0.,  0.,  1.]],\n",
       "\n",
       "        [[ 0.,  0.,  1.],\n",
       "         [ 0.,  0.,  1.],\n",
       "         [ 0.,  0.,  1.],\n",
       "         ..., \n",
       "         [ 0.,  0.,  1.],\n",
       "         [ 0.,  0.,  1.],\n",
       "         [ 0.,  0.,  1.]],\n",
       "\n",
       "        ..., \n",
       "        [[ 0.,  0.,  1.],\n",
       "         [ 0.,  0.,  1.],\n",
       "         [ 0.,  0.,  1.],\n",
       "         ..., \n",
       "         [ 0.,  0.,  1.],\n",
       "         [ 0.,  0.,  1.],\n",
       "         [ 0.,  0.,  1.]],\n",
       "\n",
       "        [[ 0.,  0.,  1.],\n",
       "         [ 0.,  0.,  1.],\n",
       "         [ 0.,  0.,  1.],\n",
       "         ..., \n",
       "         [ 0.,  0.,  1.],\n",
       "         [ 0.,  0.,  1.],\n",
       "         [ 0.,  0.,  1.]],\n",
       "\n",
       "        [[ 0.,  0.,  1.],\n",
       "         [ 0.,  0.,  1.],\n",
       "         [ 0.,  0.,  1.],\n",
       "         ..., \n",
       "         [ 0.,  0.,  1.],\n",
       "         [ 0.,  0.,  1.],\n",
       "         [ 0.,  0.,  1.]]],\n",
       "\n",
       "\n",
       "       [[[ 0.,  0.,  1.],\n",
       "         [ 0.,  0.,  1.],\n",
       "         [ 0.,  0.,  1.],\n",
       "         ..., \n",
       "         [ 0.,  0.,  1.],\n",
       "         [ 0.,  0.,  1.],\n",
       "         [ 0.,  0.,  1.]],\n",
       "\n",
       "        [[ 0.,  0.,  1.],\n",
       "         [ 0.,  0.,  1.],\n",
       "         [ 0.,  0.,  1.],\n",
       "         ..., \n",
       "         [ 0.,  0.,  1.],\n",
       "         [ 0.,  0.,  1.],\n",
       "         [ 0.,  0.,  1.]],\n",
       "\n",
       "        [[ 0.,  0.,  1.],\n",
       "         [ 0.,  0.,  1.],\n",
       "         [ 0.,  0.,  1.],\n",
       "         ..., \n",
       "         [ 0.,  0.,  1.],\n",
       "         [ 0.,  0.,  1.],\n",
       "         [ 0.,  0.,  1.]],\n",
       "\n",
       "        ..., \n",
       "        [[ 0.,  0.,  1.],\n",
       "         [ 0.,  0.,  1.],\n",
       "         [ 0.,  0.,  1.],\n",
       "         ..., \n",
       "         [ 0.,  0.,  1.],\n",
       "         [ 0.,  0.,  1.],\n",
       "         [ 0.,  0.,  1.]],\n",
       "\n",
       "        [[ 0.,  0.,  1.],\n",
       "         [ 0.,  0.,  1.],\n",
       "         [ 0.,  0.,  1.],\n",
       "         ..., \n",
       "         [ 0.,  0.,  1.],\n",
       "         [ 0.,  0.,  1.],\n",
       "         [ 0.,  0.,  1.]],\n",
       "\n",
       "        [[ 0.,  0.,  1.],\n",
       "         [ 0.,  0.,  1.],\n",
       "         [ 0.,  0.,  1.],\n",
       "         ..., \n",
       "         [ 0.,  0.,  1.],\n",
       "         [ 0.,  0.,  1.],\n",
       "         [ 0.,  0.,  1.]]],\n",
       "\n",
       "\n",
       "       [[[ 0.,  0.,  1.],\n",
       "         [ 0.,  0.,  1.],\n",
       "         [ 0.,  0.,  1.],\n",
       "         ..., \n",
       "         [ 0.,  0.,  1.],\n",
       "         [ 0.,  0.,  1.],\n",
       "         [ 0.,  0.,  1.]],\n",
       "\n",
       "        [[ 0.,  0.,  1.],\n",
       "         [ 0.,  0.,  1.],\n",
       "         [ 0.,  0.,  1.],\n",
       "         ..., \n",
       "         [ 0.,  0.,  1.],\n",
       "         [ 0.,  0.,  1.],\n",
       "         [ 0.,  0.,  1.]],\n",
       "\n",
       "        [[ 0.,  0.,  1.],\n",
       "         [ 0.,  0.,  1.],\n",
       "         [ 0.,  0.,  1.],\n",
       "         ..., \n",
       "         [ 0.,  0.,  1.],\n",
       "         [ 0.,  0.,  1.],\n",
       "         [ 0.,  0.,  1.]],\n",
       "\n",
       "        ..., \n",
       "        [[ 0.,  0.,  1.],\n",
       "         [ 0.,  0.,  1.],\n",
       "         [ 0.,  0.,  1.],\n",
       "         ..., \n",
       "         [ 0.,  0.,  1.],\n",
       "         [ 0.,  0.,  1.],\n",
       "         [ 0.,  0.,  1.]],\n",
       "\n",
       "        [[ 0.,  0.,  1.],\n",
       "         [ 0.,  0.,  1.],\n",
       "         [ 0.,  0.,  1.],\n",
       "         ..., \n",
       "         [ 0.,  0.,  1.],\n",
       "         [ 0.,  0.,  1.],\n",
       "         [ 0.,  0.,  1.]],\n",
       "\n",
       "        [[ 0.,  0.,  1.],\n",
       "         [ 0.,  0.,  1.],\n",
       "         [ 0.,  0.,  1.],\n",
       "         ..., \n",
       "         [ 0.,  0.,  1.],\n",
       "         [ 0.,  0.,  1.],\n",
       "         [ 0.,  0.,  1.]]]])"
      ]
     },
     "execution_count": 30,
     "metadata": {},
     "output_type": "execute_result"
    }
   ],
   "source": [
    "field.value"
   ]
  },
  {
   "cell_type": "code",
   "execution_count": 31,
   "metadata": {
    "collapsed": true
   },
   "outputs": [],
   "source": [
    "def val(pos):\n",
    "    x, y, z = pos\n",
    "    return y, x, x*y\n",
    "\n",
    "field.value = val"
   ]
  },
  {
   "cell_type": "code",
   "execution_count": 32,
   "metadata": {},
   "outputs": [
    {
     "data": {
      "text/plain": [
       "<function __main__.val>"
      ]
     },
     "execution_count": 32,
     "metadata": {},
     "output_type": "execute_result"
    }
   ],
   "source": [
    "field.value"
   ]
  },
  {
   "cell_type": "code",
   "execution_count": 33,
   "metadata": {},
   "outputs": [
    {
     "name": "stdout",
     "output_type": "stream",
     "text": [
      "def val(pos):\n",
      "    x, y, z = pos\n",
      "    return y, x, x*y\n",
      "\n"
     ]
    }
   ],
   "source": [
    "import inspect\n",
    "print(inspect.getsource(field.value))"
   ]
  },
  {
   "cell_type": "code",
   "execution_count": 34,
   "metadata": {},
   "outputs": [
    {
     "data": {
      "text/plain": [
       "array([[[[-0.9 , -0.9 ,  0.81],\n",
       "         [-0.9 , -0.9 ,  0.81],\n",
       "         [-0.9 , -0.9 ,  0.81],\n",
       "         ..., \n",
       "         [-0.9 , -0.9 ,  0.81],\n",
       "         [-0.9 , -0.9 ,  0.81],\n",
       "         [-0.9 , -0.9 ,  0.81]],\n",
       "\n",
       "        [[-0.7 , -0.9 ,  0.63],\n",
       "         [-0.7 , -0.9 ,  0.63],\n",
       "         [-0.7 , -0.9 ,  0.63],\n",
       "         ..., \n",
       "         [-0.7 , -0.9 ,  0.63],\n",
       "         [-0.7 , -0.9 ,  0.63],\n",
       "         [-0.7 , -0.9 ,  0.63]],\n",
       "\n",
       "        [[-0.5 , -0.9 ,  0.45],\n",
       "         [-0.5 , -0.9 ,  0.45],\n",
       "         [-0.5 , -0.9 ,  0.45],\n",
       "         ..., \n",
       "         [-0.5 , -0.9 ,  0.45],\n",
       "         [-0.5 , -0.9 ,  0.45],\n",
       "         [-0.5 , -0.9 ,  0.45]],\n",
       "\n",
       "        ..., \n",
       "        [[ 0.5 , -0.9 , -0.45],\n",
       "         [ 0.5 , -0.9 , -0.45],\n",
       "         [ 0.5 , -0.9 , -0.45],\n",
       "         ..., \n",
       "         [ 0.5 , -0.9 , -0.45],\n",
       "         [ 0.5 , -0.9 , -0.45],\n",
       "         [ 0.5 , -0.9 , -0.45]],\n",
       "\n",
       "        [[ 0.7 , -0.9 , -0.63],\n",
       "         [ 0.7 , -0.9 , -0.63],\n",
       "         [ 0.7 , -0.9 , -0.63],\n",
       "         ..., \n",
       "         [ 0.7 , -0.9 , -0.63],\n",
       "         [ 0.7 , -0.9 , -0.63],\n",
       "         [ 0.7 , -0.9 , -0.63]],\n",
       "\n",
       "        [[ 0.9 , -0.9 , -0.81],\n",
       "         [ 0.9 , -0.9 , -0.81],\n",
       "         [ 0.9 , -0.9 , -0.81],\n",
       "         ..., \n",
       "         [ 0.9 , -0.9 , -0.81],\n",
       "         [ 0.9 , -0.9 , -0.81],\n",
       "         [ 0.9 , -0.9 , -0.81]]],\n",
       "\n",
       "\n",
       "       [[[-0.9 , -0.7 ,  0.63],\n",
       "         [-0.9 , -0.7 ,  0.63],\n",
       "         [-0.9 , -0.7 ,  0.63],\n",
       "         ..., \n",
       "         [-0.9 , -0.7 ,  0.63],\n",
       "         [-0.9 , -0.7 ,  0.63],\n",
       "         [-0.9 , -0.7 ,  0.63]],\n",
       "\n",
       "        [[-0.7 , -0.7 ,  0.49],\n",
       "         [-0.7 , -0.7 ,  0.49],\n",
       "         [-0.7 , -0.7 ,  0.49],\n",
       "         ..., \n",
       "         [-0.7 , -0.7 ,  0.49],\n",
       "         [-0.7 , -0.7 ,  0.49],\n",
       "         [-0.7 , -0.7 ,  0.49]],\n",
       "\n",
       "        [[-0.5 , -0.7 ,  0.35],\n",
       "         [-0.5 , -0.7 ,  0.35],\n",
       "         [-0.5 , -0.7 ,  0.35],\n",
       "         ..., \n",
       "         [-0.5 , -0.7 ,  0.35],\n",
       "         [-0.5 , -0.7 ,  0.35],\n",
       "         [-0.5 , -0.7 ,  0.35]],\n",
       "\n",
       "        ..., \n",
       "        [[ 0.5 , -0.7 , -0.35],\n",
       "         [ 0.5 , -0.7 , -0.35],\n",
       "         [ 0.5 , -0.7 , -0.35],\n",
       "         ..., \n",
       "         [ 0.5 , -0.7 , -0.35],\n",
       "         [ 0.5 , -0.7 , -0.35],\n",
       "         [ 0.5 , -0.7 , -0.35]],\n",
       "\n",
       "        [[ 0.7 , -0.7 , -0.49],\n",
       "         [ 0.7 , -0.7 , -0.49],\n",
       "         [ 0.7 , -0.7 , -0.49],\n",
       "         ..., \n",
       "         [ 0.7 , -0.7 , -0.49],\n",
       "         [ 0.7 , -0.7 , -0.49],\n",
       "         [ 0.7 , -0.7 , -0.49]],\n",
       "\n",
       "        [[ 0.9 , -0.7 , -0.63],\n",
       "         [ 0.9 , -0.7 , -0.63],\n",
       "         [ 0.9 , -0.7 , -0.63],\n",
       "         ..., \n",
       "         [ 0.9 , -0.7 , -0.63],\n",
       "         [ 0.9 , -0.7 , -0.63],\n",
       "         [ 0.9 , -0.7 , -0.63]]],\n",
       "\n",
       "\n",
       "       [[[-0.9 , -0.5 ,  0.45],\n",
       "         [-0.9 , -0.5 ,  0.45],\n",
       "         [-0.9 , -0.5 ,  0.45],\n",
       "         ..., \n",
       "         [-0.9 , -0.5 ,  0.45],\n",
       "         [-0.9 , -0.5 ,  0.45],\n",
       "         [-0.9 , -0.5 ,  0.45]],\n",
       "\n",
       "        [[-0.7 , -0.5 ,  0.35],\n",
       "         [-0.7 , -0.5 ,  0.35],\n",
       "         [-0.7 , -0.5 ,  0.35],\n",
       "         ..., \n",
       "         [-0.7 , -0.5 ,  0.35],\n",
       "         [-0.7 , -0.5 ,  0.35],\n",
       "         [-0.7 , -0.5 ,  0.35]],\n",
       "\n",
       "        [[-0.5 , -0.5 ,  0.25],\n",
       "         [-0.5 , -0.5 ,  0.25],\n",
       "         [-0.5 , -0.5 ,  0.25],\n",
       "         ..., \n",
       "         [-0.5 , -0.5 ,  0.25],\n",
       "         [-0.5 , -0.5 ,  0.25],\n",
       "         [-0.5 , -0.5 ,  0.25]],\n",
       "\n",
       "        ..., \n",
       "        [[ 0.5 , -0.5 , -0.25],\n",
       "         [ 0.5 , -0.5 , -0.25],\n",
       "         [ 0.5 , -0.5 , -0.25],\n",
       "         ..., \n",
       "         [ 0.5 , -0.5 , -0.25],\n",
       "         [ 0.5 , -0.5 , -0.25],\n",
       "         [ 0.5 , -0.5 , -0.25]],\n",
       "\n",
       "        [[ 0.7 , -0.5 , -0.35],\n",
       "         [ 0.7 , -0.5 , -0.35],\n",
       "         [ 0.7 , -0.5 , -0.35],\n",
       "         ..., \n",
       "         [ 0.7 , -0.5 , -0.35],\n",
       "         [ 0.7 , -0.5 , -0.35],\n",
       "         [ 0.7 , -0.5 , -0.35]],\n",
       "\n",
       "        [[ 0.9 , -0.5 , -0.45],\n",
       "         [ 0.9 , -0.5 , -0.45],\n",
       "         [ 0.9 , -0.5 , -0.45],\n",
       "         ..., \n",
       "         [ 0.9 , -0.5 , -0.45],\n",
       "         [ 0.9 , -0.5 , -0.45],\n",
       "         [ 0.9 , -0.5 , -0.45]]],\n",
       "\n",
       "\n",
       "       ..., \n",
       "       [[[-0.9 ,  0.5 , -0.45],\n",
       "         [-0.9 ,  0.5 , -0.45],\n",
       "         [-0.9 ,  0.5 , -0.45],\n",
       "         ..., \n",
       "         [-0.9 ,  0.5 , -0.45],\n",
       "         [-0.9 ,  0.5 , -0.45],\n",
       "         [-0.9 ,  0.5 , -0.45]],\n",
       "\n",
       "        [[-0.7 ,  0.5 , -0.35],\n",
       "         [-0.7 ,  0.5 , -0.35],\n",
       "         [-0.7 ,  0.5 , -0.35],\n",
       "         ..., \n",
       "         [-0.7 ,  0.5 , -0.35],\n",
       "         [-0.7 ,  0.5 , -0.35],\n",
       "         [-0.7 ,  0.5 , -0.35]],\n",
       "\n",
       "        [[-0.5 ,  0.5 , -0.25],\n",
       "         [-0.5 ,  0.5 , -0.25],\n",
       "         [-0.5 ,  0.5 , -0.25],\n",
       "         ..., \n",
       "         [-0.5 ,  0.5 , -0.25],\n",
       "         [-0.5 ,  0.5 , -0.25],\n",
       "         [-0.5 ,  0.5 , -0.25]],\n",
       "\n",
       "        ..., \n",
       "        [[ 0.5 ,  0.5 ,  0.25],\n",
       "         [ 0.5 ,  0.5 ,  0.25],\n",
       "         [ 0.5 ,  0.5 ,  0.25],\n",
       "         ..., \n",
       "         [ 0.5 ,  0.5 ,  0.25],\n",
       "         [ 0.5 ,  0.5 ,  0.25],\n",
       "         [ 0.5 ,  0.5 ,  0.25]],\n",
       "\n",
       "        [[ 0.7 ,  0.5 ,  0.35],\n",
       "         [ 0.7 ,  0.5 ,  0.35],\n",
       "         [ 0.7 ,  0.5 ,  0.35],\n",
       "         ..., \n",
       "         [ 0.7 ,  0.5 ,  0.35],\n",
       "         [ 0.7 ,  0.5 ,  0.35],\n",
       "         [ 0.7 ,  0.5 ,  0.35]],\n",
       "\n",
       "        [[ 0.9 ,  0.5 ,  0.45],\n",
       "         [ 0.9 ,  0.5 ,  0.45],\n",
       "         [ 0.9 ,  0.5 ,  0.45],\n",
       "         ..., \n",
       "         [ 0.9 ,  0.5 ,  0.45],\n",
       "         [ 0.9 ,  0.5 ,  0.45],\n",
       "         [ 0.9 ,  0.5 ,  0.45]]],\n",
       "\n",
       "\n",
       "       [[[-0.9 ,  0.7 , -0.63],\n",
       "         [-0.9 ,  0.7 , -0.63],\n",
       "         [-0.9 ,  0.7 , -0.63],\n",
       "         ..., \n",
       "         [-0.9 ,  0.7 , -0.63],\n",
       "         [-0.9 ,  0.7 , -0.63],\n",
       "         [-0.9 ,  0.7 , -0.63]],\n",
       "\n",
       "        [[-0.7 ,  0.7 , -0.49],\n",
       "         [-0.7 ,  0.7 , -0.49],\n",
       "         [-0.7 ,  0.7 , -0.49],\n",
       "         ..., \n",
       "         [-0.7 ,  0.7 , -0.49],\n",
       "         [-0.7 ,  0.7 , -0.49],\n",
       "         [-0.7 ,  0.7 , -0.49]],\n",
       "\n",
       "        [[-0.5 ,  0.7 , -0.35],\n",
       "         [-0.5 ,  0.7 , -0.35],\n",
       "         [-0.5 ,  0.7 , -0.35],\n",
       "         ..., \n",
       "         [-0.5 ,  0.7 , -0.35],\n",
       "         [-0.5 ,  0.7 , -0.35],\n",
       "         [-0.5 ,  0.7 , -0.35]],\n",
       "\n",
       "        ..., \n",
       "        [[ 0.5 ,  0.7 ,  0.35],\n",
       "         [ 0.5 ,  0.7 ,  0.35],\n",
       "         [ 0.5 ,  0.7 ,  0.35],\n",
       "         ..., \n",
       "         [ 0.5 ,  0.7 ,  0.35],\n",
       "         [ 0.5 ,  0.7 ,  0.35],\n",
       "         [ 0.5 ,  0.7 ,  0.35]],\n",
       "\n",
       "        [[ 0.7 ,  0.7 ,  0.49],\n",
       "         [ 0.7 ,  0.7 ,  0.49],\n",
       "         [ 0.7 ,  0.7 ,  0.49],\n",
       "         ..., \n",
       "         [ 0.7 ,  0.7 ,  0.49],\n",
       "         [ 0.7 ,  0.7 ,  0.49],\n",
       "         [ 0.7 ,  0.7 ,  0.49]],\n",
       "\n",
       "        [[ 0.9 ,  0.7 ,  0.63],\n",
       "         [ 0.9 ,  0.7 ,  0.63],\n",
       "         [ 0.9 ,  0.7 ,  0.63],\n",
       "         ..., \n",
       "         [ 0.9 ,  0.7 ,  0.63],\n",
       "         [ 0.9 ,  0.7 ,  0.63],\n",
       "         [ 0.9 ,  0.7 ,  0.63]]],\n",
       "\n",
       "\n",
       "       [[[-0.9 ,  0.9 , -0.81],\n",
       "         [-0.9 ,  0.9 , -0.81],\n",
       "         [-0.9 ,  0.9 , -0.81],\n",
       "         ..., \n",
       "         [-0.9 ,  0.9 , -0.81],\n",
       "         [-0.9 ,  0.9 , -0.81],\n",
       "         [-0.9 ,  0.9 , -0.81]],\n",
       "\n",
       "        [[-0.7 ,  0.9 , -0.63],\n",
       "         [-0.7 ,  0.9 , -0.63],\n",
       "         [-0.7 ,  0.9 , -0.63],\n",
       "         ..., \n",
       "         [-0.7 ,  0.9 , -0.63],\n",
       "         [-0.7 ,  0.9 , -0.63],\n",
       "         [-0.7 ,  0.9 , -0.63]],\n",
       "\n",
       "        [[-0.5 ,  0.9 , -0.45],\n",
       "         [-0.5 ,  0.9 , -0.45],\n",
       "         [-0.5 ,  0.9 , -0.45],\n",
       "         ..., \n",
       "         [-0.5 ,  0.9 , -0.45],\n",
       "         [-0.5 ,  0.9 , -0.45],\n",
       "         [-0.5 ,  0.9 , -0.45]],\n",
       "\n",
       "        ..., \n",
       "        [[ 0.5 ,  0.9 ,  0.45],\n",
       "         [ 0.5 ,  0.9 ,  0.45],\n",
       "         [ 0.5 ,  0.9 ,  0.45],\n",
       "         ..., \n",
       "         [ 0.5 ,  0.9 ,  0.45],\n",
       "         [ 0.5 ,  0.9 ,  0.45],\n",
       "         [ 0.5 ,  0.9 ,  0.45]],\n",
       "\n",
       "        [[ 0.7 ,  0.9 ,  0.63],\n",
       "         [ 0.7 ,  0.9 ,  0.63],\n",
       "         [ 0.7 ,  0.9 ,  0.63],\n",
       "         ..., \n",
       "         [ 0.7 ,  0.9 ,  0.63],\n",
       "         [ 0.7 ,  0.9 ,  0.63],\n",
       "         [ 0.7 ,  0.9 ,  0.63]],\n",
       "\n",
       "        [[ 0.9 ,  0.9 ,  0.81],\n",
       "         [ 0.9 ,  0.9 ,  0.81],\n",
       "         [ 0.9 ,  0.9 ,  0.81],\n",
       "         ..., \n",
       "         [ 0.9 ,  0.9 ,  0.81],\n",
       "         [ 0.9 ,  0.9 ,  0.81],\n",
       "         [ 0.9 ,  0.9 ,  0.81]]]])"
      ]
     },
     "execution_count": 34,
     "metadata": {},
     "output_type": "execute_result"
    }
   ],
   "source": [
    "field.array"
   ]
  },
  {
   "cell_type": "markdown",
   "metadata": {},
   "source": [
    "### Average"
   ]
  },
  {
   "cell_type": "code",
   "execution_count": 35,
   "metadata": {},
   "outputs": [
    {
     "data": {
      "text/plain": [
       "(2.8865798640254069e-18, 1.7097434579227411e-17, 6.4392935428259083e-18)"
      ]
     },
     "execution_count": 35,
     "metadata": {},
     "output_type": "execute_result"
    }
   ],
   "source": [
    "field.average"
   ]
  },
  {
   "cell_type": "markdown",
   "metadata": {},
   "source": [
    "### Representation\n",
    "\n",
    "There is no value in representation."
   ]
  },
  {
   "cell_type": "code",
   "execution_count": 36,
   "metadata": {},
   "outputs": [
    {
     "data": {
      "text/plain": [
       "'<Field(mesh=Mesh(p1=(-1, -1, -1), p2=(1, 1, 1), cell=(0.2, 0.2, 0.2), name=\"mesh\"), dim=3, name=\"field\")>'"
      ]
     },
     "execution_count": 36,
     "metadata": {},
     "output_type": "execute_result"
    }
   ],
   "source": [
    "repr(field)"
   ]
  },
  {
   "cell_type": "markdown",
   "metadata": {},
   "source": [
    "### Sampling"
   ]
  },
  {
   "cell_type": "code",
   "execution_count": 37,
   "metadata": {},
   "outputs": [
    {
     "data": {
      "text/plain": [
       "(0.90000000000000013, 0.90000000000000013, 0.81000000000000028)"
      ]
     },
     "execution_count": 37,
     "metadata": {},
     "output_type": "execute_result"
    }
   ],
   "source": [
    "point = (1, 1, 1)\n",
    "field(point)"
   ]
  },
  {
   "cell_type": "markdown",
   "metadata": {},
   "source": [
    "### Norm"
   ]
  },
  {
   "cell_type": "code",
   "execution_count": 38,
   "metadata": {
    "collapsed": true
   },
   "outputs": [],
   "source": [
    "field.value = (5, 0, 0)"
   ]
  },
  {
   "cell_type": "code",
   "execution_count": 39,
   "metadata": {},
   "outputs": [
    {
     "data": {
      "text/plain": [
       "<Field(mesh=Mesh(p1=(-1, -1, -1), p2=(1, 1, 1), cell=(0.2, 0.2, 0.2), name=\"mesh\"), dim=1, name=\"norm\")>"
      ]
     },
     "execution_count": 39,
     "metadata": {},
     "output_type": "execute_result"
    }
   ],
   "source": [
    "field.norm"
   ]
  },
  {
   "cell_type": "markdown",
   "metadata": {},
   "source": [
    "Always returns a tuple. **Should it be a single float?**"
   ]
  },
  {
   "cell_type": "code",
   "execution_count": 40,
   "metadata": {},
   "outputs": [
    {
     "data": {
      "text/plain": [
       "(5.0,)"
      ]
     },
     "execution_count": 40,
     "metadata": {},
     "output_type": "execute_result"
    }
   ],
   "source": [
    "field.norm.average"
   ]
  },
  {
   "cell_type": "code",
   "execution_count": 41,
   "metadata": {
    "collapsed": true
   },
   "outputs": [],
   "source": [
    "field.norm = 1"
   ]
  },
  {
   "cell_type": "code",
   "execution_count": 42,
   "metadata": {},
   "outputs": [
    {
     "data": {
      "text/plain": [
       "1"
      ]
     },
     "execution_count": 42,
     "metadata": {},
     "output_type": "execute_result"
    }
   ],
   "source": [
    "field.norm.value"
   ]
  },
  {
   "cell_type": "code",
   "execution_count": 43,
   "metadata": {},
   "outputs": [
    {
     "data": {
      "text/plain": [
       "array([[[[ 1.],\n",
       "         [ 1.],\n",
       "         [ 1.],\n",
       "         [ 1.],\n",
       "         [ 1.],\n",
       "         [ 1.],\n",
       "         [ 1.],\n",
       "         [ 1.],\n",
       "         [ 1.],\n",
       "         [ 1.]],\n",
       "\n",
       "        [[ 1.],\n",
       "         [ 1.],\n",
       "         [ 1.],\n",
       "         [ 1.],\n",
       "         [ 1.],\n",
       "         [ 1.],\n",
       "         [ 1.],\n",
       "         [ 1.],\n",
       "         [ 1.],\n",
       "         [ 1.]],\n",
       "\n",
       "        [[ 1.],\n",
       "         [ 1.],\n",
       "         [ 1.],\n",
       "         [ 1.],\n",
       "         [ 1.],\n",
       "         [ 1.],\n",
       "         [ 1.],\n",
       "         [ 1.],\n",
       "         [ 1.],\n",
       "         [ 1.]],\n",
       "\n",
       "        [[ 1.],\n",
       "         [ 1.],\n",
       "         [ 1.],\n",
       "         [ 1.],\n",
       "         [ 1.],\n",
       "         [ 1.],\n",
       "         [ 1.],\n",
       "         [ 1.],\n",
       "         [ 1.],\n",
       "         [ 1.]],\n",
       "\n",
       "        [[ 1.],\n",
       "         [ 1.],\n",
       "         [ 1.],\n",
       "         [ 1.],\n",
       "         [ 1.],\n",
       "         [ 1.],\n",
       "         [ 1.],\n",
       "         [ 1.],\n",
       "         [ 1.],\n",
       "         [ 1.]],\n",
       "\n",
       "        [[ 1.],\n",
       "         [ 1.],\n",
       "         [ 1.],\n",
       "         [ 1.],\n",
       "         [ 1.],\n",
       "         [ 1.],\n",
       "         [ 1.],\n",
       "         [ 1.],\n",
       "         [ 1.],\n",
       "         [ 1.]],\n",
       "\n",
       "        [[ 1.],\n",
       "         [ 1.],\n",
       "         [ 1.],\n",
       "         [ 1.],\n",
       "         [ 1.],\n",
       "         [ 1.],\n",
       "         [ 1.],\n",
       "         [ 1.],\n",
       "         [ 1.],\n",
       "         [ 1.]],\n",
       "\n",
       "        [[ 1.],\n",
       "         [ 1.],\n",
       "         [ 1.],\n",
       "         [ 1.],\n",
       "         [ 1.],\n",
       "         [ 1.],\n",
       "         [ 1.],\n",
       "         [ 1.],\n",
       "         [ 1.],\n",
       "         [ 1.]],\n",
       "\n",
       "        [[ 1.],\n",
       "         [ 1.],\n",
       "         [ 1.],\n",
       "         [ 1.],\n",
       "         [ 1.],\n",
       "         [ 1.],\n",
       "         [ 1.],\n",
       "         [ 1.],\n",
       "         [ 1.],\n",
       "         [ 1.]],\n",
       "\n",
       "        [[ 1.],\n",
       "         [ 1.],\n",
       "         [ 1.],\n",
       "         [ 1.],\n",
       "         [ 1.],\n",
       "         [ 1.],\n",
       "         [ 1.],\n",
       "         [ 1.],\n",
       "         [ 1.],\n",
       "         [ 1.]]],\n",
       "\n",
       "\n",
       "       [[[ 1.],\n",
       "         [ 1.],\n",
       "         [ 1.],\n",
       "         [ 1.],\n",
       "         [ 1.],\n",
       "         [ 1.],\n",
       "         [ 1.],\n",
       "         [ 1.],\n",
       "         [ 1.],\n",
       "         [ 1.]],\n",
       "\n",
       "        [[ 1.],\n",
       "         [ 1.],\n",
       "         [ 1.],\n",
       "         [ 1.],\n",
       "         [ 1.],\n",
       "         [ 1.],\n",
       "         [ 1.],\n",
       "         [ 1.],\n",
       "         [ 1.],\n",
       "         [ 1.]],\n",
       "\n",
       "        [[ 1.],\n",
       "         [ 1.],\n",
       "         [ 1.],\n",
       "         [ 1.],\n",
       "         [ 1.],\n",
       "         [ 1.],\n",
       "         [ 1.],\n",
       "         [ 1.],\n",
       "         [ 1.],\n",
       "         [ 1.]],\n",
       "\n",
       "        [[ 1.],\n",
       "         [ 1.],\n",
       "         [ 1.],\n",
       "         [ 1.],\n",
       "         [ 1.],\n",
       "         [ 1.],\n",
       "         [ 1.],\n",
       "         [ 1.],\n",
       "         [ 1.],\n",
       "         [ 1.]],\n",
       "\n",
       "        [[ 1.],\n",
       "         [ 1.],\n",
       "         [ 1.],\n",
       "         [ 1.],\n",
       "         [ 1.],\n",
       "         [ 1.],\n",
       "         [ 1.],\n",
       "         [ 1.],\n",
       "         [ 1.],\n",
       "         [ 1.]],\n",
       "\n",
       "        [[ 1.],\n",
       "         [ 1.],\n",
       "         [ 1.],\n",
       "         [ 1.],\n",
       "         [ 1.],\n",
       "         [ 1.],\n",
       "         [ 1.],\n",
       "         [ 1.],\n",
       "         [ 1.],\n",
       "         [ 1.]],\n",
       "\n",
       "        [[ 1.],\n",
       "         [ 1.],\n",
       "         [ 1.],\n",
       "         [ 1.],\n",
       "         [ 1.],\n",
       "         [ 1.],\n",
       "         [ 1.],\n",
       "         [ 1.],\n",
       "         [ 1.],\n",
       "         [ 1.]],\n",
       "\n",
       "        [[ 1.],\n",
       "         [ 1.],\n",
       "         [ 1.],\n",
       "         [ 1.],\n",
       "         [ 1.],\n",
       "         [ 1.],\n",
       "         [ 1.],\n",
       "         [ 1.],\n",
       "         [ 1.],\n",
       "         [ 1.]],\n",
       "\n",
       "        [[ 1.],\n",
       "         [ 1.],\n",
       "         [ 1.],\n",
       "         [ 1.],\n",
       "         [ 1.],\n",
       "         [ 1.],\n",
       "         [ 1.],\n",
       "         [ 1.],\n",
       "         [ 1.],\n",
       "         [ 1.]],\n",
       "\n",
       "        [[ 1.],\n",
       "         [ 1.],\n",
       "         [ 1.],\n",
       "         [ 1.],\n",
       "         [ 1.],\n",
       "         [ 1.],\n",
       "         [ 1.],\n",
       "         [ 1.],\n",
       "         [ 1.],\n",
       "         [ 1.]]],\n",
       "\n",
       "\n",
       "       [[[ 1.],\n",
       "         [ 1.],\n",
       "         [ 1.],\n",
       "         [ 1.],\n",
       "         [ 1.],\n",
       "         [ 1.],\n",
       "         [ 1.],\n",
       "         [ 1.],\n",
       "         [ 1.],\n",
       "         [ 1.]],\n",
       "\n",
       "        [[ 1.],\n",
       "         [ 1.],\n",
       "         [ 1.],\n",
       "         [ 1.],\n",
       "         [ 1.],\n",
       "         [ 1.],\n",
       "         [ 1.],\n",
       "         [ 1.],\n",
       "         [ 1.],\n",
       "         [ 1.]],\n",
       "\n",
       "        [[ 1.],\n",
       "         [ 1.],\n",
       "         [ 1.],\n",
       "         [ 1.],\n",
       "         [ 1.],\n",
       "         [ 1.],\n",
       "         [ 1.],\n",
       "         [ 1.],\n",
       "         [ 1.],\n",
       "         [ 1.]],\n",
       "\n",
       "        [[ 1.],\n",
       "         [ 1.],\n",
       "         [ 1.],\n",
       "         [ 1.],\n",
       "         [ 1.],\n",
       "         [ 1.],\n",
       "         [ 1.],\n",
       "         [ 1.],\n",
       "         [ 1.],\n",
       "         [ 1.]],\n",
       "\n",
       "        [[ 1.],\n",
       "         [ 1.],\n",
       "         [ 1.],\n",
       "         [ 1.],\n",
       "         [ 1.],\n",
       "         [ 1.],\n",
       "         [ 1.],\n",
       "         [ 1.],\n",
       "         [ 1.],\n",
       "         [ 1.]],\n",
       "\n",
       "        [[ 1.],\n",
       "         [ 1.],\n",
       "         [ 1.],\n",
       "         [ 1.],\n",
       "         [ 1.],\n",
       "         [ 1.],\n",
       "         [ 1.],\n",
       "         [ 1.],\n",
       "         [ 1.],\n",
       "         [ 1.]],\n",
       "\n",
       "        [[ 1.],\n",
       "         [ 1.],\n",
       "         [ 1.],\n",
       "         [ 1.],\n",
       "         [ 1.],\n",
       "         [ 1.],\n",
       "         [ 1.],\n",
       "         [ 1.],\n",
       "         [ 1.],\n",
       "         [ 1.]],\n",
       "\n",
       "        [[ 1.],\n",
       "         [ 1.],\n",
       "         [ 1.],\n",
       "         [ 1.],\n",
       "         [ 1.],\n",
       "         [ 1.],\n",
       "         [ 1.],\n",
       "         [ 1.],\n",
       "         [ 1.],\n",
       "         [ 1.]],\n",
       "\n",
       "        [[ 1.],\n",
       "         [ 1.],\n",
       "         [ 1.],\n",
       "         [ 1.],\n",
       "         [ 1.],\n",
       "         [ 1.],\n",
       "         [ 1.],\n",
       "         [ 1.],\n",
       "         [ 1.],\n",
       "         [ 1.]],\n",
       "\n",
       "        [[ 1.],\n",
       "         [ 1.],\n",
       "         [ 1.],\n",
       "         [ 1.],\n",
       "         [ 1.],\n",
       "         [ 1.],\n",
       "         [ 1.],\n",
       "         [ 1.],\n",
       "         [ 1.],\n",
       "         [ 1.]]],\n",
       "\n",
       "\n",
       "       [[[ 1.],\n",
       "         [ 1.],\n",
       "         [ 1.],\n",
       "         [ 1.],\n",
       "         [ 1.],\n",
       "         [ 1.],\n",
       "         [ 1.],\n",
       "         [ 1.],\n",
       "         [ 1.],\n",
       "         [ 1.]],\n",
       "\n",
       "        [[ 1.],\n",
       "         [ 1.],\n",
       "         [ 1.],\n",
       "         [ 1.],\n",
       "         [ 1.],\n",
       "         [ 1.],\n",
       "         [ 1.],\n",
       "         [ 1.],\n",
       "         [ 1.],\n",
       "         [ 1.]],\n",
       "\n",
       "        [[ 1.],\n",
       "         [ 1.],\n",
       "         [ 1.],\n",
       "         [ 1.],\n",
       "         [ 1.],\n",
       "         [ 1.],\n",
       "         [ 1.],\n",
       "         [ 1.],\n",
       "         [ 1.],\n",
       "         [ 1.]],\n",
       "\n",
       "        [[ 1.],\n",
       "         [ 1.],\n",
       "         [ 1.],\n",
       "         [ 1.],\n",
       "         [ 1.],\n",
       "         [ 1.],\n",
       "         [ 1.],\n",
       "         [ 1.],\n",
       "         [ 1.],\n",
       "         [ 1.]],\n",
       "\n",
       "        [[ 1.],\n",
       "         [ 1.],\n",
       "         [ 1.],\n",
       "         [ 1.],\n",
       "         [ 1.],\n",
       "         [ 1.],\n",
       "         [ 1.],\n",
       "         [ 1.],\n",
       "         [ 1.],\n",
       "         [ 1.]],\n",
       "\n",
       "        [[ 1.],\n",
       "         [ 1.],\n",
       "         [ 1.],\n",
       "         [ 1.],\n",
       "         [ 1.],\n",
       "         [ 1.],\n",
       "         [ 1.],\n",
       "         [ 1.],\n",
       "         [ 1.],\n",
       "         [ 1.]],\n",
       "\n",
       "        [[ 1.],\n",
       "         [ 1.],\n",
       "         [ 1.],\n",
       "         [ 1.],\n",
       "         [ 1.],\n",
       "         [ 1.],\n",
       "         [ 1.],\n",
       "         [ 1.],\n",
       "         [ 1.],\n",
       "         [ 1.]],\n",
       "\n",
       "        [[ 1.],\n",
       "         [ 1.],\n",
       "         [ 1.],\n",
       "         [ 1.],\n",
       "         [ 1.],\n",
       "         [ 1.],\n",
       "         [ 1.],\n",
       "         [ 1.],\n",
       "         [ 1.],\n",
       "         [ 1.]],\n",
       "\n",
       "        [[ 1.],\n",
       "         [ 1.],\n",
       "         [ 1.],\n",
       "         [ 1.],\n",
       "         [ 1.],\n",
       "         [ 1.],\n",
       "         [ 1.],\n",
       "         [ 1.],\n",
       "         [ 1.],\n",
       "         [ 1.]],\n",
       "\n",
       "        [[ 1.],\n",
       "         [ 1.],\n",
       "         [ 1.],\n",
       "         [ 1.],\n",
       "         [ 1.],\n",
       "         [ 1.],\n",
       "         [ 1.],\n",
       "         [ 1.],\n",
       "         [ 1.],\n",
       "         [ 1.]]],\n",
       "\n",
       "\n",
       "       [[[ 1.],\n",
       "         [ 1.],\n",
       "         [ 1.],\n",
       "         [ 1.],\n",
       "         [ 1.],\n",
       "         [ 1.],\n",
       "         [ 1.],\n",
       "         [ 1.],\n",
       "         [ 1.],\n",
       "         [ 1.]],\n",
       "\n",
       "        [[ 1.],\n",
       "         [ 1.],\n",
       "         [ 1.],\n",
       "         [ 1.],\n",
       "         [ 1.],\n",
       "         [ 1.],\n",
       "         [ 1.],\n",
       "         [ 1.],\n",
       "         [ 1.],\n",
       "         [ 1.]],\n",
       "\n",
       "        [[ 1.],\n",
       "         [ 1.],\n",
       "         [ 1.],\n",
       "         [ 1.],\n",
       "         [ 1.],\n",
       "         [ 1.],\n",
       "         [ 1.],\n",
       "         [ 1.],\n",
       "         [ 1.],\n",
       "         [ 1.]],\n",
       "\n",
       "        [[ 1.],\n",
       "         [ 1.],\n",
       "         [ 1.],\n",
       "         [ 1.],\n",
       "         [ 1.],\n",
       "         [ 1.],\n",
       "         [ 1.],\n",
       "         [ 1.],\n",
       "         [ 1.],\n",
       "         [ 1.]],\n",
       "\n",
       "        [[ 1.],\n",
       "         [ 1.],\n",
       "         [ 1.],\n",
       "         [ 1.],\n",
       "         [ 1.],\n",
       "         [ 1.],\n",
       "         [ 1.],\n",
       "         [ 1.],\n",
       "         [ 1.],\n",
       "         [ 1.]],\n",
       "\n",
       "        [[ 1.],\n",
       "         [ 1.],\n",
       "         [ 1.],\n",
       "         [ 1.],\n",
       "         [ 1.],\n",
       "         [ 1.],\n",
       "         [ 1.],\n",
       "         [ 1.],\n",
       "         [ 1.],\n",
       "         [ 1.]],\n",
       "\n",
       "        [[ 1.],\n",
       "         [ 1.],\n",
       "         [ 1.],\n",
       "         [ 1.],\n",
       "         [ 1.],\n",
       "         [ 1.],\n",
       "         [ 1.],\n",
       "         [ 1.],\n",
       "         [ 1.],\n",
       "         [ 1.]],\n",
       "\n",
       "        [[ 1.],\n",
       "         [ 1.],\n",
       "         [ 1.],\n",
       "         [ 1.],\n",
       "         [ 1.],\n",
       "         [ 1.],\n",
       "         [ 1.],\n",
       "         [ 1.],\n",
       "         [ 1.],\n",
       "         [ 1.]],\n",
       "\n",
       "        [[ 1.],\n",
       "         [ 1.],\n",
       "         [ 1.],\n",
       "         [ 1.],\n",
       "         [ 1.],\n",
       "         [ 1.],\n",
       "         [ 1.],\n",
       "         [ 1.],\n",
       "         [ 1.],\n",
       "         [ 1.]],\n",
       "\n",
       "        [[ 1.],\n",
       "         [ 1.],\n",
       "         [ 1.],\n",
       "         [ 1.],\n",
       "         [ 1.],\n",
       "         [ 1.],\n",
       "         [ 1.],\n",
       "         [ 1.],\n",
       "         [ 1.],\n",
       "         [ 1.]]],\n",
       "\n",
       "\n",
       "       [[[ 1.],\n",
       "         [ 1.],\n",
       "         [ 1.],\n",
       "         [ 1.],\n",
       "         [ 1.],\n",
       "         [ 1.],\n",
       "         [ 1.],\n",
       "         [ 1.],\n",
       "         [ 1.],\n",
       "         [ 1.]],\n",
       "\n",
       "        [[ 1.],\n",
       "         [ 1.],\n",
       "         [ 1.],\n",
       "         [ 1.],\n",
       "         [ 1.],\n",
       "         [ 1.],\n",
       "         [ 1.],\n",
       "         [ 1.],\n",
       "         [ 1.],\n",
       "         [ 1.]],\n",
       "\n",
       "        [[ 1.],\n",
       "         [ 1.],\n",
       "         [ 1.],\n",
       "         [ 1.],\n",
       "         [ 1.],\n",
       "         [ 1.],\n",
       "         [ 1.],\n",
       "         [ 1.],\n",
       "         [ 1.],\n",
       "         [ 1.]],\n",
       "\n",
       "        [[ 1.],\n",
       "         [ 1.],\n",
       "         [ 1.],\n",
       "         [ 1.],\n",
       "         [ 1.],\n",
       "         [ 1.],\n",
       "         [ 1.],\n",
       "         [ 1.],\n",
       "         [ 1.],\n",
       "         [ 1.]],\n",
       "\n",
       "        [[ 1.],\n",
       "         [ 1.],\n",
       "         [ 1.],\n",
       "         [ 1.],\n",
       "         [ 1.],\n",
       "         [ 1.],\n",
       "         [ 1.],\n",
       "         [ 1.],\n",
       "         [ 1.],\n",
       "         [ 1.]],\n",
       "\n",
       "        [[ 1.],\n",
       "         [ 1.],\n",
       "         [ 1.],\n",
       "         [ 1.],\n",
       "         [ 1.],\n",
       "         [ 1.],\n",
       "         [ 1.],\n",
       "         [ 1.],\n",
       "         [ 1.],\n",
       "         [ 1.]],\n",
       "\n",
       "        [[ 1.],\n",
       "         [ 1.],\n",
       "         [ 1.],\n",
       "         [ 1.],\n",
       "         [ 1.],\n",
       "         [ 1.],\n",
       "         [ 1.],\n",
       "         [ 1.],\n",
       "         [ 1.],\n",
       "         [ 1.]],\n",
       "\n",
       "        [[ 1.],\n",
       "         [ 1.],\n",
       "         [ 1.],\n",
       "         [ 1.],\n",
       "         [ 1.],\n",
       "         [ 1.],\n",
       "         [ 1.],\n",
       "         [ 1.],\n",
       "         [ 1.],\n",
       "         [ 1.]],\n",
       "\n",
       "        [[ 1.],\n",
       "         [ 1.],\n",
       "         [ 1.],\n",
       "         [ 1.],\n",
       "         [ 1.],\n",
       "         [ 1.],\n",
       "         [ 1.],\n",
       "         [ 1.],\n",
       "         [ 1.],\n",
       "         [ 1.]],\n",
       "\n",
       "        [[ 1.],\n",
       "         [ 1.],\n",
       "         [ 1.],\n",
       "         [ 1.],\n",
       "         [ 1.],\n",
       "         [ 1.],\n",
       "         [ 1.],\n",
       "         [ 1.],\n",
       "         [ 1.],\n",
       "         [ 1.]]],\n",
       "\n",
       "\n",
       "       [[[ 1.],\n",
       "         [ 1.],\n",
       "         [ 1.],\n",
       "         [ 1.],\n",
       "         [ 1.],\n",
       "         [ 1.],\n",
       "         [ 1.],\n",
       "         [ 1.],\n",
       "         [ 1.],\n",
       "         [ 1.]],\n",
       "\n",
       "        [[ 1.],\n",
       "         [ 1.],\n",
       "         [ 1.],\n",
       "         [ 1.],\n",
       "         [ 1.],\n",
       "         [ 1.],\n",
       "         [ 1.],\n",
       "         [ 1.],\n",
       "         [ 1.],\n",
       "         [ 1.]],\n",
       "\n",
       "        [[ 1.],\n",
       "         [ 1.],\n",
       "         [ 1.],\n",
       "         [ 1.],\n",
       "         [ 1.],\n",
       "         [ 1.],\n",
       "         [ 1.],\n",
       "         [ 1.],\n",
       "         [ 1.],\n",
       "         [ 1.]],\n",
       "\n",
       "        [[ 1.],\n",
       "         [ 1.],\n",
       "         [ 1.],\n",
       "         [ 1.],\n",
       "         [ 1.],\n",
       "         [ 1.],\n",
       "         [ 1.],\n",
       "         [ 1.],\n",
       "         [ 1.],\n",
       "         [ 1.]],\n",
       "\n",
       "        [[ 1.],\n",
       "         [ 1.],\n",
       "         [ 1.],\n",
       "         [ 1.],\n",
       "         [ 1.],\n",
       "         [ 1.],\n",
       "         [ 1.],\n",
       "         [ 1.],\n",
       "         [ 1.],\n",
       "         [ 1.]],\n",
       "\n",
       "        [[ 1.],\n",
       "         [ 1.],\n",
       "         [ 1.],\n",
       "         [ 1.],\n",
       "         [ 1.],\n",
       "         [ 1.],\n",
       "         [ 1.],\n",
       "         [ 1.],\n",
       "         [ 1.],\n",
       "         [ 1.]],\n",
       "\n",
       "        [[ 1.],\n",
       "         [ 1.],\n",
       "         [ 1.],\n",
       "         [ 1.],\n",
       "         [ 1.],\n",
       "         [ 1.],\n",
       "         [ 1.],\n",
       "         [ 1.],\n",
       "         [ 1.],\n",
       "         [ 1.]],\n",
       "\n",
       "        [[ 1.],\n",
       "         [ 1.],\n",
       "         [ 1.],\n",
       "         [ 1.],\n",
       "         [ 1.],\n",
       "         [ 1.],\n",
       "         [ 1.],\n",
       "         [ 1.],\n",
       "         [ 1.],\n",
       "         [ 1.]],\n",
       "\n",
       "        [[ 1.],\n",
       "         [ 1.],\n",
       "         [ 1.],\n",
       "         [ 1.],\n",
       "         [ 1.],\n",
       "         [ 1.],\n",
       "         [ 1.],\n",
       "         [ 1.],\n",
       "         [ 1.],\n",
       "         [ 1.]],\n",
       "\n",
       "        [[ 1.],\n",
       "         [ 1.],\n",
       "         [ 1.],\n",
       "         [ 1.],\n",
       "         [ 1.],\n",
       "         [ 1.],\n",
       "         [ 1.],\n",
       "         [ 1.],\n",
       "         [ 1.],\n",
       "         [ 1.]]],\n",
       "\n",
       "\n",
       "       [[[ 1.],\n",
       "         [ 1.],\n",
       "         [ 1.],\n",
       "         [ 1.],\n",
       "         [ 1.],\n",
       "         [ 1.],\n",
       "         [ 1.],\n",
       "         [ 1.],\n",
       "         [ 1.],\n",
       "         [ 1.]],\n",
       "\n",
       "        [[ 1.],\n",
       "         [ 1.],\n",
       "         [ 1.],\n",
       "         [ 1.],\n",
       "         [ 1.],\n",
       "         [ 1.],\n",
       "         [ 1.],\n",
       "         [ 1.],\n",
       "         [ 1.],\n",
       "         [ 1.]],\n",
       "\n",
       "        [[ 1.],\n",
       "         [ 1.],\n",
       "         [ 1.],\n",
       "         [ 1.],\n",
       "         [ 1.],\n",
       "         [ 1.],\n",
       "         [ 1.],\n",
       "         [ 1.],\n",
       "         [ 1.],\n",
       "         [ 1.]],\n",
       "\n",
       "        [[ 1.],\n",
       "         [ 1.],\n",
       "         [ 1.],\n",
       "         [ 1.],\n",
       "         [ 1.],\n",
       "         [ 1.],\n",
       "         [ 1.],\n",
       "         [ 1.],\n",
       "         [ 1.],\n",
       "         [ 1.]],\n",
       "\n",
       "        [[ 1.],\n",
       "         [ 1.],\n",
       "         [ 1.],\n",
       "         [ 1.],\n",
       "         [ 1.],\n",
       "         [ 1.],\n",
       "         [ 1.],\n",
       "         [ 1.],\n",
       "         [ 1.],\n",
       "         [ 1.]],\n",
       "\n",
       "        [[ 1.],\n",
       "         [ 1.],\n",
       "         [ 1.],\n",
       "         [ 1.],\n",
       "         [ 1.],\n",
       "         [ 1.],\n",
       "         [ 1.],\n",
       "         [ 1.],\n",
       "         [ 1.],\n",
       "         [ 1.]],\n",
       "\n",
       "        [[ 1.],\n",
       "         [ 1.],\n",
       "         [ 1.],\n",
       "         [ 1.],\n",
       "         [ 1.],\n",
       "         [ 1.],\n",
       "         [ 1.],\n",
       "         [ 1.],\n",
       "         [ 1.],\n",
       "         [ 1.]],\n",
       "\n",
       "        [[ 1.],\n",
       "         [ 1.],\n",
       "         [ 1.],\n",
       "         [ 1.],\n",
       "         [ 1.],\n",
       "         [ 1.],\n",
       "         [ 1.],\n",
       "         [ 1.],\n",
       "         [ 1.],\n",
       "         [ 1.]],\n",
       "\n",
       "        [[ 1.],\n",
       "         [ 1.],\n",
       "         [ 1.],\n",
       "         [ 1.],\n",
       "         [ 1.],\n",
       "         [ 1.],\n",
       "         [ 1.],\n",
       "         [ 1.],\n",
       "         [ 1.],\n",
       "         [ 1.]],\n",
       "\n",
       "        [[ 1.],\n",
       "         [ 1.],\n",
       "         [ 1.],\n",
       "         [ 1.],\n",
       "         [ 1.],\n",
       "         [ 1.],\n",
       "         [ 1.],\n",
       "         [ 1.],\n",
       "         [ 1.],\n",
       "         [ 1.]]],\n",
       "\n",
       "\n",
       "       [[[ 1.],\n",
       "         [ 1.],\n",
       "         [ 1.],\n",
       "         [ 1.],\n",
       "         [ 1.],\n",
       "         [ 1.],\n",
       "         [ 1.],\n",
       "         [ 1.],\n",
       "         [ 1.],\n",
       "         [ 1.]],\n",
       "\n",
       "        [[ 1.],\n",
       "         [ 1.],\n",
       "         [ 1.],\n",
       "         [ 1.],\n",
       "         [ 1.],\n",
       "         [ 1.],\n",
       "         [ 1.],\n",
       "         [ 1.],\n",
       "         [ 1.],\n",
       "         [ 1.]],\n",
       "\n",
       "        [[ 1.],\n",
       "         [ 1.],\n",
       "         [ 1.],\n",
       "         [ 1.],\n",
       "         [ 1.],\n",
       "         [ 1.],\n",
       "         [ 1.],\n",
       "         [ 1.],\n",
       "         [ 1.],\n",
       "         [ 1.]],\n",
       "\n",
       "        [[ 1.],\n",
       "         [ 1.],\n",
       "         [ 1.],\n",
       "         [ 1.],\n",
       "         [ 1.],\n",
       "         [ 1.],\n",
       "         [ 1.],\n",
       "         [ 1.],\n",
       "         [ 1.],\n",
       "         [ 1.]],\n",
       "\n",
       "        [[ 1.],\n",
       "         [ 1.],\n",
       "         [ 1.],\n",
       "         [ 1.],\n",
       "         [ 1.],\n",
       "         [ 1.],\n",
       "         [ 1.],\n",
       "         [ 1.],\n",
       "         [ 1.],\n",
       "         [ 1.]],\n",
       "\n",
       "        [[ 1.],\n",
       "         [ 1.],\n",
       "         [ 1.],\n",
       "         [ 1.],\n",
       "         [ 1.],\n",
       "         [ 1.],\n",
       "         [ 1.],\n",
       "         [ 1.],\n",
       "         [ 1.],\n",
       "         [ 1.]],\n",
       "\n",
       "        [[ 1.],\n",
       "         [ 1.],\n",
       "         [ 1.],\n",
       "         [ 1.],\n",
       "         [ 1.],\n",
       "         [ 1.],\n",
       "         [ 1.],\n",
       "         [ 1.],\n",
       "         [ 1.],\n",
       "         [ 1.]],\n",
       "\n",
       "        [[ 1.],\n",
       "         [ 1.],\n",
       "         [ 1.],\n",
       "         [ 1.],\n",
       "         [ 1.],\n",
       "         [ 1.],\n",
       "         [ 1.],\n",
       "         [ 1.],\n",
       "         [ 1.],\n",
       "         [ 1.]],\n",
       "\n",
       "        [[ 1.],\n",
       "         [ 1.],\n",
       "         [ 1.],\n",
       "         [ 1.],\n",
       "         [ 1.],\n",
       "         [ 1.],\n",
       "         [ 1.],\n",
       "         [ 1.],\n",
       "         [ 1.],\n",
       "         [ 1.]],\n",
       "\n",
       "        [[ 1.],\n",
       "         [ 1.],\n",
       "         [ 1.],\n",
       "         [ 1.],\n",
       "         [ 1.],\n",
       "         [ 1.],\n",
       "         [ 1.],\n",
       "         [ 1.],\n",
       "         [ 1.],\n",
       "         [ 1.]]],\n",
       "\n",
       "\n",
       "       [[[ 1.],\n",
       "         [ 1.],\n",
       "         [ 1.],\n",
       "         [ 1.],\n",
       "         [ 1.],\n",
       "         [ 1.],\n",
       "         [ 1.],\n",
       "         [ 1.],\n",
       "         [ 1.],\n",
       "         [ 1.]],\n",
       "\n",
       "        [[ 1.],\n",
       "         [ 1.],\n",
       "         [ 1.],\n",
       "         [ 1.],\n",
       "         [ 1.],\n",
       "         [ 1.],\n",
       "         [ 1.],\n",
       "         [ 1.],\n",
       "         [ 1.],\n",
       "         [ 1.]],\n",
       "\n",
       "        [[ 1.],\n",
       "         [ 1.],\n",
       "         [ 1.],\n",
       "         [ 1.],\n",
       "         [ 1.],\n",
       "         [ 1.],\n",
       "         [ 1.],\n",
       "         [ 1.],\n",
       "         [ 1.],\n",
       "         [ 1.]],\n",
       "\n",
       "        [[ 1.],\n",
       "         [ 1.],\n",
       "         [ 1.],\n",
       "         [ 1.],\n",
       "         [ 1.],\n",
       "         [ 1.],\n",
       "         [ 1.],\n",
       "         [ 1.],\n",
       "         [ 1.],\n",
       "         [ 1.]],\n",
       "\n",
       "        [[ 1.],\n",
       "         [ 1.],\n",
       "         [ 1.],\n",
       "         [ 1.],\n",
       "         [ 1.],\n",
       "         [ 1.],\n",
       "         [ 1.],\n",
       "         [ 1.],\n",
       "         [ 1.],\n",
       "         [ 1.]],\n",
       "\n",
       "        [[ 1.],\n",
       "         [ 1.],\n",
       "         [ 1.],\n",
       "         [ 1.],\n",
       "         [ 1.],\n",
       "         [ 1.],\n",
       "         [ 1.],\n",
       "         [ 1.],\n",
       "         [ 1.],\n",
       "         [ 1.]],\n",
       "\n",
       "        [[ 1.],\n",
       "         [ 1.],\n",
       "         [ 1.],\n",
       "         [ 1.],\n",
       "         [ 1.],\n",
       "         [ 1.],\n",
       "         [ 1.],\n",
       "         [ 1.],\n",
       "         [ 1.],\n",
       "         [ 1.]],\n",
       "\n",
       "        [[ 1.],\n",
       "         [ 1.],\n",
       "         [ 1.],\n",
       "         [ 1.],\n",
       "         [ 1.],\n",
       "         [ 1.],\n",
       "         [ 1.],\n",
       "         [ 1.],\n",
       "         [ 1.],\n",
       "         [ 1.]],\n",
       "\n",
       "        [[ 1.],\n",
       "         [ 1.],\n",
       "         [ 1.],\n",
       "         [ 1.],\n",
       "         [ 1.],\n",
       "         [ 1.],\n",
       "         [ 1.],\n",
       "         [ 1.],\n",
       "         [ 1.],\n",
       "         [ 1.]],\n",
       "\n",
       "        [[ 1.],\n",
       "         [ 1.],\n",
       "         [ 1.],\n",
       "         [ 1.],\n",
       "         [ 1.],\n",
       "         [ 1.],\n",
       "         [ 1.],\n",
       "         [ 1.],\n",
       "         [ 1.],\n",
       "         [ 1.]]]])"
      ]
     },
     "execution_count": 43,
     "metadata": {},
     "output_type": "execute_result"
    }
   ],
   "source": [
    "field.norm.array"
   ]
  },
  {
   "cell_type": "code",
   "execution_count": 44,
   "metadata": {},
   "outputs": [
    {
     "data": {
      "text/plain": [
       "array([[[[ 1.,  0.,  0.],\n",
       "         [ 1.,  0.,  0.],\n",
       "         [ 1.,  0.,  0.],\n",
       "         ..., \n",
       "         [ 1.,  0.,  0.],\n",
       "         [ 1.,  0.,  0.],\n",
       "         [ 1.,  0.,  0.]],\n",
       "\n",
       "        [[ 1.,  0.,  0.],\n",
       "         [ 1.,  0.,  0.],\n",
       "         [ 1.,  0.,  0.],\n",
       "         ..., \n",
       "         [ 1.,  0.,  0.],\n",
       "         [ 1.,  0.,  0.],\n",
       "         [ 1.,  0.,  0.]],\n",
       "\n",
       "        [[ 1.,  0.,  0.],\n",
       "         [ 1.,  0.,  0.],\n",
       "         [ 1.,  0.,  0.],\n",
       "         ..., \n",
       "         [ 1.,  0.,  0.],\n",
       "         [ 1.,  0.,  0.],\n",
       "         [ 1.,  0.,  0.]],\n",
       "\n",
       "        ..., \n",
       "        [[ 1.,  0.,  0.],\n",
       "         [ 1.,  0.,  0.],\n",
       "         [ 1.,  0.,  0.],\n",
       "         ..., \n",
       "         [ 1.,  0.,  0.],\n",
       "         [ 1.,  0.,  0.],\n",
       "         [ 1.,  0.,  0.]],\n",
       "\n",
       "        [[ 1.,  0.,  0.],\n",
       "         [ 1.,  0.,  0.],\n",
       "         [ 1.,  0.,  0.],\n",
       "         ..., \n",
       "         [ 1.,  0.,  0.],\n",
       "         [ 1.,  0.,  0.],\n",
       "         [ 1.,  0.,  0.]],\n",
       "\n",
       "        [[ 1.,  0.,  0.],\n",
       "         [ 1.,  0.,  0.],\n",
       "         [ 1.,  0.,  0.],\n",
       "         ..., \n",
       "         [ 1.,  0.,  0.],\n",
       "         [ 1.,  0.,  0.],\n",
       "         [ 1.,  0.,  0.]]],\n",
       "\n",
       "\n",
       "       [[[ 1.,  0.,  0.],\n",
       "         [ 1.,  0.,  0.],\n",
       "         [ 1.,  0.,  0.],\n",
       "         ..., \n",
       "         [ 1.,  0.,  0.],\n",
       "         [ 1.,  0.,  0.],\n",
       "         [ 1.,  0.,  0.]],\n",
       "\n",
       "        [[ 1.,  0.,  0.],\n",
       "         [ 1.,  0.,  0.],\n",
       "         [ 1.,  0.,  0.],\n",
       "         ..., \n",
       "         [ 1.,  0.,  0.],\n",
       "         [ 1.,  0.,  0.],\n",
       "         [ 1.,  0.,  0.]],\n",
       "\n",
       "        [[ 1.,  0.,  0.],\n",
       "         [ 1.,  0.,  0.],\n",
       "         [ 1.,  0.,  0.],\n",
       "         ..., \n",
       "         [ 1.,  0.,  0.],\n",
       "         [ 1.,  0.,  0.],\n",
       "         [ 1.,  0.,  0.]],\n",
       "\n",
       "        ..., \n",
       "        [[ 1.,  0.,  0.],\n",
       "         [ 1.,  0.,  0.],\n",
       "         [ 1.,  0.,  0.],\n",
       "         ..., \n",
       "         [ 1.,  0.,  0.],\n",
       "         [ 1.,  0.,  0.],\n",
       "         [ 1.,  0.,  0.]],\n",
       "\n",
       "        [[ 1.,  0.,  0.],\n",
       "         [ 1.,  0.,  0.],\n",
       "         [ 1.,  0.,  0.],\n",
       "         ..., \n",
       "         [ 1.,  0.,  0.],\n",
       "         [ 1.,  0.,  0.],\n",
       "         [ 1.,  0.,  0.]],\n",
       "\n",
       "        [[ 1.,  0.,  0.],\n",
       "         [ 1.,  0.,  0.],\n",
       "         [ 1.,  0.,  0.],\n",
       "         ..., \n",
       "         [ 1.,  0.,  0.],\n",
       "         [ 1.,  0.,  0.],\n",
       "         [ 1.,  0.,  0.]]],\n",
       "\n",
       "\n",
       "       [[[ 1.,  0.,  0.],\n",
       "         [ 1.,  0.,  0.],\n",
       "         [ 1.,  0.,  0.],\n",
       "         ..., \n",
       "         [ 1.,  0.,  0.],\n",
       "         [ 1.,  0.,  0.],\n",
       "         [ 1.,  0.,  0.]],\n",
       "\n",
       "        [[ 1.,  0.,  0.],\n",
       "         [ 1.,  0.,  0.],\n",
       "         [ 1.,  0.,  0.],\n",
       "         ..., \n",
       "         [ 1.,  0.,  0.],\n",
       "         [ 1.,  0.,  0.],\n",
       "         [ 1.,  0.,  0.]],\n",
       "\n",
       "        [[ 1.,  0.,  0.],\n",
       "         [ 1.,  0.,  0.],\n",
       "         [ 1.,  0.,  0.],\n",
       "         ..., \n",
       "         [ 1.,  0.,  0.],\n",
       "         [ 1.,  0.,  0.],\n",
       "         [ 1.,  0.,  0.]],\n",
       "\n",
       "        ..., \n",
       "        [[ 1.,  0.,  0.],\n",
       "         [ 1.,  0.,  0.],\n",
       "         [ 1.,  0.,  0.],\n",
       "         ..., \n",
       "         [ 1.,  0.,  0.],\n",
       "         [ 1.,  0.,  0.],\n",
       "         [ 1.,  0.,  0.]],\n",
       "\n",
       "        [[ 1.,  0.,  0.],\n",
       "         [ 1.,  0.,  0.],\n",
       "         [ 1.,  0.,  0.],\n",
       "         ..., \n",
       "         [ 1.,  0.,  0.],\n",
       "         [ 1.,  0.,  0.],\n",
       "         [ 1.,  0.,  0.]],\n",
       "\n",
       "        [[ 1.,  0.,  0.],\n",
       "         [ 1.,  0.,  0.],\n",
       "         [ 1.,  0.,  0.],\n",
       "         ..., \n",
       "         [ 1.,  0.,  0.],\n",
       "         [ 1.,  0.,  0.],\n",
       "         [ 1.,  0.,  0.]]],\n",
       "\n",
       "\n",
       "       ..., \n",
       "       [[[ 1.,  0.,  0.],\n",
       "         [ 1.,  0.,  0.],\n",
       "         [ 1.,  0.,  0.],\n",
       "         ..., \n",
       "         [ 1.,  0.,  0.],\n",
       "         [ 1.,  0.,  0.],\n",
       "         [ 1.,  0.,  0.]],\n",
       "\n",
       "        [[ 1.,  0.,  0.],\n",
       "         [ 1.,  0.,  0.],\n",
       "         [ 1.,  0.,  0.],\n",
       "         ..., \n",
       "         [ 1.,  0.,  0.],\n",
       "         [ 1.,  0.,  0.],\n",
       "         [ 1.,  0.,  0.]],\n",
       "\n",
       "        [[ 1.,  0.,  0.],\n",
       "         [ 1.,  0.,  0.],\n",
       "         [ 1.,  0.,  0.],\n",
       "         ..., \n",
       "         [ 1.,  0.,  0.],\n",
       "         [ 1.,  0.,  0.],\n",
       "         [ 1.,  0.,  0.]],\n",
       "\n",
       "        ..., \n",
       "        [[ 1.,  0.,  0.],\n",
       "         [ 1.,  0.,  0.],\n",
       "         [ 1.,  0.,  0.],\n",
       "         ..., \n",
       "         [ 1.,  0.,  0.],\n",
       "         [ 1.,  0.,  0.],\n",
       "         [ 1.,  0.,  0.]],\n",
       "\n",
       "        [[ 1.,  0.,  0.],\n",
       "         [ 1.,  0.,  0.],\n",
       "         [ 1.,  0.,  0.],\n",
       "         ..., \n",
       "         [ 1.,  0.,  0.],\n",
       "         [ 1.,  0.,  0.],\n",
       "         [ 1.,  0.,  0.]],\n",
       "\n",
       "        [[ 1.,  0.,  0.],\n",
       "         [ 1.,  0.,  0.],\n",
       "         [ 1.,  0.,  0.],\n",
       "         ..., \n",
       "         [ 1.,  0.,  0.],\n",
       "         [ 1.,  0.,  0.],\n",
       "         [ 1.,  0.,  0.]]],\n",
       "\n",
       "\n",
       "       [[[ 1.,  0.,  0.],\n",
       "         [ 1.,  0.,  0.],\n",
       "         [ 1.,  0.,  0.],\n",
       "         ..., \n",
       "         [ 1.,  0.,  0.],\n",
       "         [ 1.,  0.,  0.],\n",
       "         [ 1.,  0.,  0.]],\n",
       "\n",
       "        [[ 1.,  0.,  0.],\n",
       "         [ 1.,  0.,  0.],\n",
       "         [ 1.,  0.,  0.],\n",
       "         ..., \n",
       "         [ 1.,  0.,  0.],\n",
       "         [ 1.,  0.,  0.],\n",
       "         [ 1.,  0.,  0.]],\n",
       "\n",
       "        [[ 1.,  0.,  0.],\n",
       "         [ 1.,  0.,  0.],\n",
       "         [ 1.,  0.,  0.],\n",
       "         ..., \n",
       "         [ 1.,  0.,  0.],\n",
       "         [ 1.,  0.,  0.],\n",
       "         [ 1.,  0.,  0.]],\n",
       "\n",
       "        ..., \n",
       "        [[ 1.,  0.,  0.],\n",
       "         [ 1.,  0.,  0.],\n",
       "         [ 1.,  0.,  0.],\n",
       "         ..., \n",
       "         [ 1.,  0.,  0.],\n",
       "         [ 1.,  0.,  0.],\n",
       "         [ 1.,  0.,  0.]],\n",
       "\n",
       "        [[ 1.,  0.,  0.],\n",
       "         [ 1.,  0.,  0.],\n",
       "         [ 1.,  0.,  0.],\n",
       "         ..., \n",
       "         [ 1.,  0.,  0.],\n",
       "         [ 1.,  0.,  0.],\n",
       "         [ 1.,  0.,  0.]],\n",
       "\n",
       "        [[ 1.,  0.,  0.],\n",
       "         [ 1.,  0.,  0.],\n",
       "         [ 1.,  0.,  0.],\n",
       "         ..., \n",
       "         [ 1.,  0.,  0.],\n",
       "         [ 1.,  0.,  0.],\n",
       "         [ 1.,  0.,  0.]]],\n",
       "\n",
       "\n",
       "       [[[ 1.,  0.,  0.],\n",
       "         [ 1.,  0.,  0.],\n",
       "         [ 1.,  0.,  0.],\n",
       "         ..., \n",
       "         [ 1.,  0.,  0.],\n",
       "         [ 1.,  0.,  0.],\n",
       "         [ 1.,  0.,  0.]],\n",
       "\n",
       "        [[ 1.,  0.,  0.],\n",
       "         [ 1.,  0.,  0.],\n",
       "         [ 1.,  0.,  0.],\n",
       "         ..., \n",
       "         [ 1.,  0.,  0.],\n",
       "         [ 1.,  0.,  0.],\n",
       "         [ 1.,  0.,  0.]],\n",
       "\n",
       "        [[ 1.,  0.,  0.],\n",
       "         [ 1.,  0.,  0.],\n",
       "         [ 1.,  0.,  0.],\n",
       "         ..., \n",
       "         [ 1.,  0.,  0.],\n",
       "         [ 1.,  0.,  0.],\n",
       "         [ 1.,  0.,  0.]],\n",
       "\n",
       "        ..., \n",
       "        [[ 1.,  0.,  0.],\n",
       "         [ 1.,  0.,  0.],\n",
       "         [ 1.,  0.,  0.],\n",
       "         ..., \n",
       "         [ 1.,  0.,  0.],\n",
       "         [ 1.,  0.,  0.],\n",
       "         [ 1.,  0.,  0.]],\n",
       "\n",
       "        [[ 1.,  0.,  0.],\n",
       "         [ 1.,  0.,  0.],\n",
       "         [ 1.,  0.,  0.],\n",
       "         ..., \n",
       "         [ 1.,  0.,  0.],\n",
       "         [ 1.,  0.,  0.],\n",
       "         [ 1.,  0.,  0.]],\n",
       "\n",
       "        [[ 1.,  0.,  0.],\n",
       "         [ 1.,  0.,  0.],\n",
       "         [ 1.,  0.,  0.],\n",
       "         ..., \n",
       "         [ 1.,  0.,  0.],\n",
       "         [ 1.,  0.,  0.],\n",
       "         [ 1.,  0.,  0.]]]])"
      ]
     },
     "execution_count": 44,
     "metadata": {},
     "output_type": "execute_result"
    }
   ],
   "source": [
    "field.value"
   ]
  },
  {
   "cell_type": "markdown",
   "metadata": {},
   "source": [
    "Norm is changed when value is changed."
   ]
  },
  {
   "cell_type": "code",
   "execution_count": 45,
   "metadata": {
    "collapsed": true
   },
   "outputs": [],
   "source": [
    "field.value = (1, 0, 1)"
   ]
  },
  {
   "cell_type": "code",
   "execution_count": 46,
   "metadata": {},
   "outputs": [
    {
     "data": {
      "text/plain": [
       "<Field(mesh=Mesh(p1=(-1, -1, -1), p2=(1, 1, 1), cell=(0.2, 0.2, 0.2), name=\"mesh\"), dim=1, name=\"norm\")>"
      ]
     },
     "execution_count": 46,
     "metadata": {},
     "output_type": "execute_result"
    }
   ],
   "source": [
    "field.norm"
   ]
  },
  {
   "cell_type": "code",
   "execution_count": 47,
   "metadata": {},
   "outputs": [
    {
     "data": {
      "text/plain": [
       "(1.4142135623730956,)"
      ]
     },
     "execution_count": 47,
     "metadata": {},
     "output_type": "execute_result"
    }
   ],
   "source": [
    "field.norm.average"
   ]
  },
  {
   "cell_type": "markdown",
   "metadata": {},
   "source": [
    "### Individual components"
   ]
  },
  {
   "cell_type": "code",
   "execution_count": 48,
   "metadata": {},
   "outputs": [
    {
     "data": {
      "text/plain": [
       "<Field(mesh=Mesh(p1=(-1, -1, -1), p2=(1, 1, 1), cell=(0.2, 0.2, 0.2), name=\"mesh\"), dim=1, name=\"field_x\")>"
      ]
     },
     "execution_count": 48,
     "metadata": {},
     "output_type": "execute_result"
    }
   ],
   "source": [
    "field.x"
   ]
  },
  {
   "cell_type": "code",
   "execution_count": 49,
   "metadata": {},
   "outputs": [
    {
     "data": {
      "text/plain": [
       "(1.0,)"
      ]
     },
     "execution_count": 49,
     "metadata": {},
     "output_type": "execute_result"
    }
   ],
   "source": [
    "field.x.average"
   ]
  },
  {
   "cell_type": "code",
   "execution_count": 50,
   "metadata": {},
   "outputs": [
    {
     "data": {
      "text/plain": [
       "<Field(mesh=Mesh(p1=(-1, -1, -1), p2=(1, 1, 1), cell=(0.2, 0.2, 0.2), name=\"mesh\"), dim=1, name=\"field_y\")>"
      ]
     },
     "execution_count": 50,
     "metadata": {},
     "output_type": "execute_result"
    }
   ],
   "source": [
    "field.y"
   ]
  },
  {
   "cell_type": "code",
   "execution_count": 51,
   "metadata": {},
   "outputs": [
    {
     "data": {
      "text/plain": [
       "<Field(mesh=Mesh(p1=(-1, -1, -1), p2=(1, 1, 1), cell=(0.2, 0.2, 0.2), name=\"mesh\"), dim=1, name=\"field_z\")>"
      ]
     },
     "execution_count": 51,
     "metadata": {},
     "output_type": "execute_result"
    }
   ],
   "source": [
    "field.z"
   ]
  },
  {
   "cell_type": "code",
   "execution_count": 52,
   "metadata": {
    "collapsed": true
   },
   "outputs": [],
   "source": [
    "field2d = df.Field(mesh, dim=2, value=(0, 1))"
   ]
  },
  {
   "cell_type": "markdown",
   "metadata": {},
   "source": [
    "Scalar field"
   ]
  },
  {
   "cell_type": "code",
   "execution_count": 53,
   "metadata": {
    "collapsed": true
   },
   "outputs": [],
   "source": [
    "field1d = df.Field(mesh, dim=1, value=5)"
   ]
  },
  {
   "cell_type": "code",
   "execution_count": 54,
   "metadata": {
    "collapsed": true
   },
   "outputs": [],
   "source": [
    "# tab completion"
   ]
  },
  {
   "cell_type": "markdown",
   "metadata": {},
   "source": [
    "### read and write"
   ]
  },
  {
   "cell_type": "code",
   "execution_count": 55,
   "metadata": {
    "collapsed": true
   },
   "outputs": [],
   "source": [
    "field.write(\"field.omf\")  # also .ovf, .ohf"
   ]
  },
  {
   "cell_type": "code",
   "execution_count": 56,
   "metadata": {},
   "outputs": [
    {
     "name": "stdout",
     "output_type": "stream",
     "text": [
      "field.omf\r\n"
     ]
    }
   ],
   "source": [
    "!ls *.omf"
   ]
  },
  {
   "cell_type": "code",
   "execution_count": 57,
   "metadata": {
    "collapsed": true
   },
   "outputs": [],
   "source": [
    "field.write(\"field.vtk\")"
   ]
  },
  {
   "cell_type": "code",
   "execution_count": 58,
   "metadata": {},
   "outputs": [
    {
     "name": "stdout",
     "output_type": "stream",
     "text": [
      "field.vtk\r\n"
     ]
    }
   ],
   "source": [
    "!ls *.vtk"
   ]
  },
  {
   "cell_type": "code",
   "execution_count": 59,
   "metadata": {
    "collapsed": true
   },
   "outputs": [],
   "source": [
    "fieldread = df.read(\"field.omf\")"
   ]
  },
  {
   "cell_type": "markdown",
   "metadata": {},
   "source": [
    "### plane"
   ]
  },
  {
   "cell_type": "code",
   "execution_count": 60,
   "metadata": {},
   "outputs": [
    {
     "data": {
      "text/plain": [
       "<generator object Field.plane at 0x7f71d1185938>"
      ]
     },
     "execution_count": 60,
     "metadata": {},
     "output_type": "execute_result"
    }
   ],
   "source": [
    "field.plane(x=0)"
   ]
  },
  {
   "cell_type": "code",
   "execution_count": 61,
   "metadata": {},
   "outputs": [
    {
     "data": {
      "text/plain": [
       "[((0, -0.90000000000000002, -0.90000000000000002), (1.0, 0.0, 1.0)),\n",
       " ((0, -0.90000000000000002, -0.69999999999999996), (1.0, 0.0, 1.0)),\n",
       " ((0, -0.90000000000000002, -0.5), (1.0, 0.0, 1.0)),\n",
       " ((0, -0.90000000000000002, -0.29999999999999993), (1.0, 0.0, 1.0)),\n",
       " ((0, -0.90000000000000002, -0.099999999999999978), (1.0, 0.0, 1.0)),\n",
       " ((0, -0.90000000000000002, 0.099999999999999978), (1.0, 0.0, 1.0)),\n",
       " ((0, -0.90000000000000002, 0.30000000000000016), (1.0, 0.0, 1.0)),\n",
       " ((0, -0.90000000000000002, 0.50000000000000011), (1.0, 0.0, 1.0)),\n",
       " ((0, -0.90000000000000002, 0.70000000000000007), (1.0, 0.0, 1.0)),\n",
       " ((0, -0.90000000000000002, 0.90000000000000002), (1.0, 0.0, 1.0)),\n",
       " ((0, -0.69999999999999996, -0.90000000000000002), (1.0, 0.0, 1.0)),\n",
       " ((0, -0.69999999999999996, -0.69999999999999996), (1.0, 0.0, 1.0)),\n",
       " ((0, -0.69999999999999996, -0.5), (1.0, 0.0, 1.0)),\n",
       " ((0, -0.69999999999999996, -0.29999999999999993), (1.0, 0.0, 1.0)),\n",
       " ((0, -0.69999999999999996, -0.099999999999999978), (1.0, 0.0, 1.0)),\n",
       " ((0, -0.69999999999999996, 0.099999999999999978), (1.0, 0.0, 1.0)),\n",
       " ((0, -0.69999999999999996, 0.30000000000000016), (1.0, 0.0, 1.0)),\n",
       " ((0, -0.69999999999999996, 0.50000000000000011), (1.0, 0.0, 1.0)),\n",
       " ((0, -0.69999999999999996, 0.70000000000000007), (1.0, 0.0, 1.0)),\n",
       " ((0, -0.69999999999999996, 0.90000000000000002), (1.0, 0.0, 1.0)),\n",
       " ((0, -0.5, -0.90000000000000002), (1.0, 0.0, 1.0)),\n",
       " ((0, -0.5, -0.69999999999999996), (1.0, 0.0, 1.0)),\n",
       " ((0, -0.5, -0.5), (1.0, 0.0, 1.0)),\n",
       " ((0, -0.5, -0.29999999999999993), (1.0, 0.0, 1.0)),\n",
       " ((0, -0.5, -0.099999999999999978), (1.0, 0.0, 1.0)),\n",
       " ((0, -0.5, 0.099999999999999978), (1.0, 0.0, 1.0)),\n",
       " ((0, -0.5, 0.30000000000000016), (1.0, 0.0, 1.0)),\n",
       " ((0, -0.5, 0.50000000000000011), (1.0, 0.0, 1.0)),\n",
       " ((0, -0.5, 0.70000000000000007), (1.0, 0.0, 1.0)),\n",
       " ((0, -0.5, 0.90000000000000002), (1.0, 0.0, 1.0)),\n",
       " ((0, -0.29999999999999993, -0.90000000000000002), (1.0, 0.0, 1.0)),\n",
       " ((0, -0.29999999999999993, -0.69999999999999996), (1.0, 0.0, 1.0)),\n",
       " ((0, -0.29999999999999993, -0.5), (1.0, 0.0, 1.0)),\n",
       " ((0, -0.29999999999999993, -0.29999999999999993), (1.0, 0.0, 1.0)),\n",
       " ((0, -0.29999999999999993, -0.099999999999999978), (1.0, 0.0, 1.0)),\n",
       " ((0, -0.29999999999999993, 0.099999999999999978), (1.0, 0.0, 1.0)),\n",
       " ((0, -0.29999999999999993, 0.30000000000000016), (1.0, 0.0, 1.0)),\n",
       " ((0, -0.29999999999999993, 0.50000000000000011), (1.0, 0.0, 1.0)),\n",
       " ((0, -0.29999999999999993, 0.70000000000000007), (1.0, 0.0, 1.0)),\n",
       " ((0, -0.29999999999999993, 0.90000000000000002), (1.0, 0.0, 1.0)),\n",
       " ((0, -0.099999999999999978, -0.90000000000000002), (1.0, 0.0, 1.0)),\n",
       " ((0, -0.099999999999999978, -0.69999999999999996), (1.0, 0.0, 1.0)),\n",
       " ((0, -0.099999999999999978, -0.5), (1.0, 0.0, 1.0)),\n",
       " ((0, -0.099999999999999978, -0.29999999999999993), (1.0, 0.0, 1.0)),\n",
       " ((0, -0.099999999999999978, -0.099999999999999978), (1.0, 0.0, 1.0)),\n",
       " ((0, -0.099999999999999978, 0.099999999999999978), (1.0, 0.0, 1.0)),\n",
       " ((0, -0.099999999999999978, 0.30000000000000016), (1.0, 0.0, 1.0)),\n",
       " ((0, -0.099999999999999978, 0.50000000000000011), (1.0, 0.0, 1.0)),\n",
       " ((0, -0.099999999999999978, 0.70000000000000007), (1.0, 0.0, 1.0)),\n",
       " ((0, -0.099999999999999978, 0.90000000000000002), (1.0, 0.0, 1.0)),\n",
       " ((0, 0.099999999999999978, -0.90000000000000002), (1.0, 0.0, 1.0)),\n",
       " ((0, 0.099999999999999978, -0.69999999999999996), (1.0, 0.0, 1.0)),\n",
       " ((0, 0.099999999999999978, -0.5), (1.0, 0.0, 1.0)),\n",
       " ((0, 0.099999999999999978, -0.29999999999999993), (1.0, 0.0, 1.0)),\n",
       " ((0, 0.099999999999999978, -0.099999999999999978), (1.0, 0.0, 1.0)),\n",
       " ((0, 0.099999999999999978, 0.099999999999999978), (1.0, 0.0, 1.0)),\n",
       " ((0, 0.099999999999999978, 0.30000000000000016), (1.0, 0.0, 1.0)),\n",
       " ((0, 0.099999999999999978, 0.50000000000000011), (1.0, 0.0, 1.0)),\n",
       " ((0, 0.099999999999999978, 0.70000000000000007), (1.0, 0.0, 1.0)),\n",
       " ((0, 0.099999999999999978, 0.90000000000000002), (1.0, 0.0, 1.0)),\n",
       " ((0, 0.30000000000000016, -0.90000000000000002), (1.0, 0.0, 1.0)),\n",
       " ((0, 0.30000000000000016, -0.69999999999999996), (1.0, 0.0, 1.0)),\n",
       " ((0, 0.30000000000000016, -0.5), (1.0, 0.0, 1.0)),\n",
       " ((0, 0.30000000000000016, -0.29999999999999993), (1.0, 0.0, 1.0)),\n",
       " ((0, 0.30000000000000016, -0.099999999999999978), (1.0, 0.0, 1.0)),\n",
       " ((0, 0.30000000000000016, 0.099999999999999978), (1.0, 0.0, 1.0)),\n",
       " ((0, 0.30000000000000016, 0.30000000000000016), (1.0, 0.0, 1.0)),\n",
       " ((0, 0.30000000000000016, 0.50000000000000011), (1.0, 0.0, 1.0)),\n",
       " ((0, 0.30000000000000016, 0.70000000000000007), (1.0, 0.0, 1.0)),\n",
       " ((0, 0.30000000000000016, 0.90000000000000002), (1.0, 0.0, 1.0)),\n",
       " ((0, 0.50000000000000011, -0.90000000000000002), (1.0, 0.0, 1.0)),\n",
       " ((0, 0.50000000000000011, -0.69999999999999996), (1.0, 0.0, 1.0)),\n",
       " ((0, 0.50000000000000011, -0.5), (1.0, 0.0, 1.0)),\n",
       " ((0, 0.50000000000000011, -0.29999999999999993), (1.0, 0.0, 1.0)),\n",
       " ((0, 0.50000000000000011, -0.099999999999999978), (1.0, 0.0, 1.0)),\n",
       " ((0, 0.50000000000000011, 0.099999999999999978), (1.0, 0.0, 1.0)),\n",
       " ((0, 0.50000000000000011, 0.30000000000000016), (1.0, 0.0, 1.0)),\n",
       " ((0, 0.50000000000000011, 0.50000000000000011), (1.0, 0.0, 1.0)),\n",
       " ((0, 0.50000000000000011, 0.70000000000000007), (1.0, 0.0, 1.0)),\n",
       " ((0, 0.50000000000000011, 0.90000000000000002), (1.0, 0.0, 1.0)),\n",
       " ((0, 0.70000000000000007, -0.90000000000000002), (1.0, 0.0, 1.0)),\n",
       " ((0, 0.70000000000000007, -0.69999999999999996), (1.0, 0.0, 1.0)),\n",
       " ((0, 0.70000000000000007, -0.5), (1.0, 0.0, 1.0)),\n",
       " ((0, 0.70000000000000007, -0.29999999999999993), (1.0, 0.0, 1.0)),\n",
       " ((0, 0.70000000000000007, -0.099999999999999978), (1.0, 0.0, 1.0)),\n",
       " ((0, 0.70000000000000007, 0.099999999999999978), (1.0, 0.0, 1.0)),\n",
       " ((0, 0.70000000000000007, 0.30000000000000016), (1.0, 0.0, 1.0)),\n",
       " ((0, 0.70000000000000007, 0.50000000000000011), (1.0, 0.0, 1.0)),\n",
       " ((0, 0.70000000000000007, 0.70000000000000007), (1.0, 0.0, 1.0)),\n",
       " ((0, 0.70000000000000007, 0.90000000000000002), (1.0, 0.0, 1.0)),\n",
       " ((0, 0.90000000000000002, -0.90000000000000002), (1.0, 0.0, 1.0)),\n",
       " ((0, 0.90000000000000002, -0.69999999999999996), (1.0, 0.0, 1.0)),\n",
       " ((0, 0.90000000000000002, -0.5), (1.0, 0.0, 1.0)),\n",
       " ((0, 0.90000000000000002, -0.29999999999999993), (1.0, 0.0, 1.0)),\n",
       " ((0, 0.90000000000000002, -0.099999999999999978), (1.0, 0.0, 1.0)),\n",
       " ((0, 0.90000000000000002, 0.099999999999999978), (1.0, 0.0, 1.0)),\n",
       " ((0, 0.90000000000000002, 0.30000000000000016), (1.0, 0.0, 1.0)),\n",
       " ((0, 0.90000000000000002, 0.50000000000000011), (1.0, 0.0, 1.0)),\n",
       " ((0, 0.90000000000000002, 0.70000000000000007), (1.0, 0.0, 1.0)),\n",
       " ((0, 0.90000000000000002, 0.90000000000000002), (1.0, 0.0, 1.0))]"
      ]
     },
     "execution_count": 61,
     "metadata": {},
     "output_type": "execute_result"
    }
   ],
   "source": [
    "list(field.plane(x=0))"
   ]
  },
  {
   "cell_type": "code",
   "execution_count": 62,
   "metadata": {},
   "outputs": [
    {
     "data": {
      "image/png": "[encoded data removed]",
      "text/plain": [
       "<matplotlib.figure.Figure at 0x7f71d11cb898>"
      ]
     },
     "metadata": {},
     "output_type": "display_data"
    }
   ],
   "source": [
    "field.value = val\n",
    "\n",
    "field.plot_plane(x=0)"
   ]
  },
  {
   "cell_type": "code",
   "execution_count": 63,
   "metadata": {},
   "outputs": [
    {
     "data": {
      "image/png": "[encoded data removed]",
      "text/plain": [
       "<matplotlib.figure.Figure at 0x7f71d11cbf28>"
      ]
     },
     "metadata": {},
     "output_type": "display_data"
    }
   ],
   "source": [
    "field.plot_plane(z=0)"
   ]
  },
  {
   "cell_type": "markdown",
   "metadata": {},
   "source": [
    "No double plots anymore. **Axes are returned now though. How to suppress this?**"
   ]
  },
  {
   "cell_type": "code",
   "execution_count": 64,
   "metadata": {},
   "outputs": [
    {
     "data": {
      "image/png": "[encoded data removed]",
      "text/plain": [
       "<matplotlib.figure.Figure at 0x7f71f4facb70>"
      ]
     },
     "metadata": {},
     "output_type": "display_data"
    }
   ],
   "source": [
    "field.plot_plane(y=0.5)"
   ]
  },
  {
   "cell_type": "markdown",
   "metadata": {},
   "source": [
    "**Should this method be called just plot?**"
   ]
  },
  {
   "cell_type": "code",
   "execution_count": 65,
   "metadata": {},
   "outputs": [
    {
     "data": {
      "image/png": "[encoded data removed]",
      "text/plain": [
       "<matplotlib.figure.Figure at 0x7f71d114f400>"
      ]
     },
     "metadata": {},
     "output_type": "display_data"
    }
   ],
   "source": [
    "field.plot_plane(\"z\")  # centre is assumed"
   ]
  },
  {
   "cell_type": "code",
   "execution_count": 66,
   "metadata": {},
   "outputs": [
    {
     "data": {
      "image/png": "[encoded data removed]",
      "text/plain": [
       "<matplotlib.figure.Figure at 0x7f71d12352e8>"
      ]
     },
     "metadata": {},
     "output_type": "display_data"
    }
   ],
   "source": [
    "field.plot_plane(\"y\")"
   ]
  },
  {
   "cell_type": "code",
   "execution_count": 67,
   "metadata": {},
   "outputs": [
    {
     "data": {
      "image/png": "[encoded data removed]",
      "text/plain": [
       "<matplotlib.figure.Figure at 0x7f71d10d9550>"
      ]
     },
     "metadata": {},
     "output_type": "display_data"
    }
   ],
   "source": [
    "field.z.plot_plane(\"z\")"
   ]
  },
  {
   "cell_type": "code",
   "execution_count": 68,
   "metadata": {},
   "outputs": [
    {
     "data": {
      "image/png": "[encoded data removed]",
      "text/plain": [
       "<matplotlib.figure.Figure at 0x7f71f4ed26d8>"
      ]
     },
     "metadata": {},
     "output_type": "display_data"
    }
   ],
   "source": [
    "field.norm.plot_plane(\"z\")"
   ]
  },
  {
   "cell_type": "markdown",
   "metadata": {},
   "source": [
    "Zero in-plane magnitude now dots."
   ]
  },
  {
   "cell_type": "code",
   "execution_count": 69,
   "metadata": {},
   "outputs": [
    {
     "data": {
      "image/png": "[encoded data removed]",
      "text/plain": [
       "<matplotlib.figure.Figure at 0x7f71f4e126d8>"
      ]
     },
     "metadata": {},
     "output_type": "display_data"
    }
   ],
   "source": [
    "field.value = (0, 0, 1)\n",
    "\n",
    "field.plot_plane(\"z\")"
   ]
  },
  {
   "cell_type": "markdown",
   "metadata": {},
   "source": [
    "### Custom plots\n",
    "\n",
    "Passing axes"
   ]
  },
  {
   "cell_type": "code",
   "execution_count": 70,
   "metadata": {},
   "outputs": [
    {
     "data": {
      "image/png": "[encoded data removed]",
      "text/plain": [
       "<matplotlib.figure.Figure at 0x7f71f4eb7e80>"
      ]
     },
     "metadata": {},
     "output_type": "display_data"
    }
   ],
   "source": [
    "import matplotlib.pyplot as plt\n",
    "\n",
    "fig = plt.figure(figsize=(8, 8))\n",
    "ax = fig.add_subplot(111)\n",
    "\n",
    "field.plot_plane(\"z\", ax=ax)\n",
    "\n",
    "# Default labels"
   ]
  },
  {
   "cell_type": "markdown",
   "metadata": {},
   "source": [
    "Setting properties on axis."
   ]
  },
  {
   "cell_type": "code",
   "execution_count": 71,
   "metadata": {},
   "outputs": [
    {
     "data": {
      "text/plain": [
       "<matplotlib.text.Text at 0x7f71f4e21668>"
      ]
     },
     "execution_count": 71,
     "metadata": {},
     "output_type": "execute_result"
    },
    {
     "data": {
      "image/png": "[encoded data removed]",
      "text/plain": [
       "<matplotlib.figure.Figure at 0x7f71f4fe6f98>"
      ]
     },
     "metadata": {},
     "output_type": "display_data"
    }
   ],
   "source": [
    "field.value = val\n",
    "\n",
    "fig = plt.figure(figsize=(8, 8))\n",
    "ax = fig.add_subplot(111)\n",
    "\n",
    "field.plot_plane(\"z\", ax=ax)  # split this step\n",
    "\n",
    "ax.set_xlabel(\"x label\")\n",
    "ax.set_ylabel(\"y label\")"
   ]
  },
  {
   "cell_type": "markdown",
   "metadata": {},
   "source": [
    "Splitting plotting steps"
   ]
  },
  {
   "cell_type": "code",
   "execution_count": 72,
   "metadata": {},
   "outputs": [
    {
     "data": {
      "text/plain": [
       "<matplotlib.text.Text at 0x7f71d10e6588>"
      ]
     },
     "execution_count": 72,
     "metadata": {},
     "output_type": "execute_result"
    },
    {
     "data": {
      "image/png": "[encoded data removed]",
      "text/plain": [
       "<matplotlib.figure.Figure at 0x7f71d1158080>"
      ]
     },
     "metadata": {},
     "output_type": "display_data"
    }
   ],
   "source": [
    "fig = plt.figure(figsize=(5, 5))\n",
    "ax = fig.add_subplot(111)\n",
    "\n",
    "field.imshow(\"z\", ax=ax, n=(5, 5))\n",
    "\n",
    "ax.set_title(\"Plot slice\")\n",
    "ax.set_xlabel(\"x label\")\n",
    "ax.set_ylabel(\"y label\")"
   ]
  },
  {
   "cell_type": "code",
   "execution_count": 73,
   "metadata": {},
   "outputs": [
    {
     "data": {
      "text/plain": [
       "<matplotlib.text.Text at 0x7f71f4e690f0>"
      ]
     },
     "execution_count": 73,
     "metadata": {},
     "output_type": "execute_result"
    },
    {
     "data": {
      "image/png": "[encoded data removed]",
      "text/plain": [
       "<matplotlib.figure.Figure at 0x7f71f6064400>"
      ]
     },
     "metadata": {},
     "output_type": "display_data"
    }
   ],
   "source": [
    "fig = plt.figure(figsize=(5, 5))\n",
    "ax = fig.add_subplot(111)\n",
    "\n",
    "field.imshow(\"z\", ax=ax, n=(5, 5), interpolation=\"bessel\")\n",
    "\n",
    "ax.set_title(\"Plot slice\")\n",
    "ax.set_xlabel(\"x label\")\n",
    "ax.set_ylabel(\"y label\")"
   ]
  },
  {
   "cell_type": "code",
   "execution_count": 74,
   "metadata": {},
   "outputs": [
    {
     "data": {
      "text/plain": [
       "<matplotlib.text.Text at 0x7f71f4f544a8>"
      ]
     },
     "execution_count": 74,
     "metadata": {},
     "output_type": "execute_result"
    },
    {
     "data": {
      "image/png": "[encoded data removed]",
      "text/plain": [
       "<matplotlib.figure.Figure at 0x7f71f4f70518>"
      ]
     },
     "metadata": {},
     "output_type": "display_data"
    }
   ],
   "source": [
    "fig = plt.figure(figsize=(8, 8))\n",
    "ax = fig.add_subplot(111)\n",
    "\n",
    "field.quiver(\"z\", ax=ax, n=(10, 10))\n",
    "\n",
    "ax.set_title(\"Plot slice\")\n",
    "ax.set_xlabel(\"x label\")\n",
    "ax.set_ylabel(\"y label\")"
   ]
  },
  {
   "cell_type": "code",
   "execution_count": 75,
   "metadata": {},
   "outputs": [
    {
     "data": {
      "text/plain": [
       "<matplotlib.text.Text at 0x7f71f500f160>"
      ]
     },
     "execution_count": 75,
     "metadata": {},
     "output_type": "execute_result"
    },
    {
     "data": {
      "image/png": "[encoded data removed]",
      "text/plain": [
       "<matplotlib.figure.Figure at 0x7f71f5048be0>"
      ]
     },
     "metadata": {},
     "output_type": "display_data"
    }
   ],
   "source": [
    "fig = plt.figure(figsize=(8, 8))\n",
    "ax = fig.add_subplot(111)\n",
    "\n",
    "field.quiver(\"z\", ax=ax, n=(10, 10), colour=True)\n",
    "\n",
    "ax.set_title(\"Plot slice\")\n",
    "ax.set_xlabel(\"x label\")\n",
    "ax.set_ylabel(\"y label\")"
   ]
  },
  {
   "cell_type": "code",
   "execution_count": 76,
   "metadata": {},
   "outputs": [
    {
     "data": {
      "text/plain": [
       "<matplotlib.text.Text at 0x7f71f607add8>"
      ]
     },
     "execution_count": 76,
     "metadata": {},
     "output_type": "execute_result"
    },
    {
     "data": {
      "image/png": "[encoded data removed]",
      "text/plain": [
       "<matplotlib.figure.Figure at 0x7f71f4d28630>"
      ]
     },
     "metadata": {},
     "output_type": "display_data"
    }
   ],
   "source": [
    "fig = plt.figure(figsize=(8, 8))\n",
    "ax = fig.add_subplot(111)\n",
    "\n",
    "field.imshow(\"z\", ax=ax)\n",
    "field.quiver(\"z\", ax=ax, n=(5, 5))\n",
    "\n",
    "ax.set_title(\"Plot slice\")\n",
    "ax.set_xlabel(\"x label\")\n",
    "ax.set_ylabel(\"y label\")"
   ]
  },
  {
   "cell_type": "code",
   "execution_count": 77,
   "metadata": {},
   "outputs": [
    {
     "data": {
      "text/plain": [
       "<matplotlib.text.Text at 0x7f71f4e32588>"
      ]
     },
     "execution_count": 77,
     "metadata": {},
     "output_type": "execute_result"
    },
    {
     "data": {
      "image/png": "[encoded data removed]",
      "text/plain": [
       "<matplotlib.figure.Figure at 0x7f71d1220f60>"
      ]
     },
     "metadata": {},
     "output_type": "display_data"
    }
   ],
   "source": [
    "fig = plt.figure(figsize=(8, 8))\n",
    "ax = fig.add_subplot(111)\n",
    "\n",
    "field.imshow(\"z\", ax=ax, interpolation=\"gaussian\")\n",
    "field.quiver(\"z\", ax=ax, n=(5, 5))\n",
    "\n",
    "ax.set_title(\"Plot slice\")\n",
    "ax.set_xlabel(\"x label\")\n",
    "ax.set_ylabel(\"y label\")"
   ]
  }
 ],
 "metadata": {
  "kernelspec": {
   "display_name": "Python 3",
   "language": "python",
   "name": "python3"
  },
  "language_info": {
   "codemirror_mode": {
    "name": "ipython",
    "version": 3
   },
   "file_extension": ".py",
   "mimetype": "text/x-python",
   "name": "python",
   "nbconvert_exporter": "python",
   "pygments_lexer": "ipython3",
   "version": "3.5.2"
  }
 },
 "nbformat": 4,
 "nbformat_minor": 2
}
